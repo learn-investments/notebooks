{
  "cells": [
    {
      "attachments": {},
      "cell_type": "markdown",
      "metadata": {
        "colab_type": "text",
        "id": "view-in-github"
      },
      "source": [
        "## Asset Location Comparison\n",
        "\n",
        "Investment in a dividend-paying stock and/or a taxable coupon bond is made in a brokerage account, a 401(k) account, or a Roth IRA account.\n",
        "- Assumes ordinary income taxes are constant from $t=0$ to $t=T-1$ and then jump at $t=T$.\n",
        "- Assumes constant dividend yield and capital gain for stocks\n",
        "- Assumes constant return for bond"
      ]
    },
    {
      "cell_type": "code",
      "execution_count": 1,
      "metadata": {},
      "outputs": [],
      "source": [
        "import pandas as pd\n",
        "import numpy as np"
      ]
    },
    {
      "attachments": {},
      "cell_type": "markdown",
      "metadata": {},
      "source": [
        "Parameters"
      ]
    },
    {
      "cell_type": "code",
      "execution_count": 2,
      "metadata": {
        "id": "548hsQeir-js"
      },
      "outputs": [],
      "source": [
        "T_OI_0 = 0.35     # Initial tax rate on ordinary income\n",
        "T_OI_T = 0.25     # Ending tax rate on ordinary income\n",
        "T_DIV  = 0.15     # Tax rate on dividends\n",
        "T_CG   = 0.15     # Tax rate on capital gains\n",
        "DY     = 0.02     # Stock dividend yield\n",
        "CG     = 0.04     # Stock capital gain\n",
        "BNDRET = 0.03     # Bond rate of return\n",
        "T      = 30       # Years saving\n",
        "\n",
        "# Portfolio 1: weights of stock and bond in each asset location\n",
        "WGT_BROK_STOCK = 0.25\n",
        "WGT_BROK_BOND  = 0.25\n",
        "WGT_401K_STOCK = 0.25\n",
        "WGT_401K_BOND  = 0.25\n",
        "WGT_ROTH_STOCK = 0.00\n",
        "wgt_roth_bond  = 1 - WGT_BROK_STOCK - WGT_BROK_BOND - WGT_401K_STOCK - WGT_401K_BOND - WGT_ROTH_STOCK\n",
        "wgts1 = [WGT_BROK_STOCK, WGT_BROK_BOND, WGT_401K_STOCK, WGT_401K_BOND, WGT_ROTH_STOCK, wgt_roth_bond]\n",
        "\n",
        "# Portfolio 2: weights of stock and bond in each asset location\n",
        "WGT_BROK_STOCK = 0.25\n",
        "WGT_BROK_BOND  = 0.25\n",
        "WGT_401K_STOCK = 0.25\n",
        "WGT_401K_BOND  = 0.00\n",
        "WGT_ROTH_STOCK = 0.25\n",
        "wgt_roth_bond  = 1 - WGT_BROK_STOCK - WGT_BROK_BOND - WGT_401K_STOCK - WGT_401K_BOND - WGT_ROTH_STOCK\n",
        "wgts2 = [WGT_BROK_STOCK, WGT_BROK_BOND, WGT_401K_STOCK, WGT_401K_BOND, WGT_ROTH_STOCK, wgt_roth_bond]"
      ]
    },
    {
      "attachments": {},
      "cell_type": "markdown",
      "metadata": {},
      "source": [
        "Future value of $1 invested in dividend-paying stock (with reinvestment)"
      ]
    },
    {
      "cell_type": "code",
      "execution_count": 3,
      "metadata": {
        "colab": {
          "base_uri": "https://localhost:8080/"
        },
        "id": "XCfg5dfSsMbi",
        "outputId": "22c0f3c5-1c66-4b44-e0e6-4f12a724a1e4"
      },
      "outputs": [
        {
          "name": "stdout",
          "output_type": "stream",
          "text": [
            "After-tax future value of a dividend-paying stock held in:\n",
            "     Brokerage:\t4.83\n",
            "     401k:\t6.63\n",
            "     Roth:\t5.74\n"
          ]
        }
      ],
      "source": [
        "rs_brok = 1 + DY*(1-T_DIV) + CG\n",
        "rets_brok = (rs_brok**T)*(1-T_CG) + T_CG*(1+DY*(1-T_DIV)*(1-rs_brok**T)/(1 - rs_brok))\n",
        "\n",
        "rs_401k = DY + CG\n",
        "rets_401k = ((1-T_OI_T)*(1+rs_401k)**T) / (1 - T_OI_0)\n",
        "\n",
        "rs_roth = DY + CG\n",
        "rets_roth = (1+rs_roth)** T\n",
        "\n",
        "\n",
        "print('After-tax future value of a dividend-paying stock held in:')\n",
        "print(f'     Brokerage:\\t{rets_brok:,.2f}')\n",
        "print(f'     401k:\\t{rets_401k:,.2f}')\n",
        "print(f'     Roth:\\t{rets_roth:,.2f}')"
      ]
    },
    {
      "attachments": {},
      "cell_type": "markdown",
      "metadata": {},
      "source": [
        "Future value of $1 invested in taxable coupon bond (with reinvestment)"
      ]
    },
    {
      "cell_type": "code",
      "execution_count": 4,
      "metadata": {
        "colab": {
          "base_uri": "https://localhost:8080/"
        },
        "id": "hXJtWnzwsQHd",
        "outputId": "3868b0aa-a383-4b3c-e1ad-07bdccaff0f1"
      },
      "outputs": [
        {
          "name": "stdout",
          "output_type": "stream",
          "text": [
            "After-tax future value of a taxable coupon bond held in:\n",
            "     Brokerage:\t1.79\n",
            "     401k:\t2.80\n",
            "     Roth:\t2.43\n"
          ]
        }
      ],
      "source": [
        "# Returns on Taxable coupon bond (with reinvestment)\n",
        "retb_brok = (1 + BNDRET*(1-T_OI_0))**(T-1) * (1 + BNDRET*(1-T_OI_T))\n",
        "retb_401k = ((1-T_OI_T)*(1 + BNDRET)**T) / (1-T_OI_0)\n",
        "retb_roth = (1 + BNDRET)**T\n",
        "\n",
        "print('After-tax future value of a taxable coupon bond held in:')\n",
        "print(f'     Brokerage:\\t{retb_brok:,.2f}')\n",
        "print(f'     401k:\\t{retb_401k:,.2f}')\n",
        "print(f'     Roth:\\t{retb_roth:,.2f}')"
      ]
    },
    {
      "attachments": {},
      "cell_type": "markdown",
      "metadata": {},
      "source": [
        "Future value based on assumed portfolio allocation"
      ]
    },
    {
      "cell_type": "code",
      "execution_count": 5,
      "metadata": {},
      "outputs": [
        {
          "data": {
            "text/html": [
              "<div>\n",
              "<style scoped>\n",
              "    .dataframe tbody tr th:only-of-type {\n",
              "        vertical-align: middle;\n",
              "    }\n",
              "\n",
              "    .dataframe tbody tr th {\n",
              "        vertical-align: top;\n",
              "    }\n",
              "\n",
              "    .dataframe thead th {\n",
              "        text-align: right;\n",
              "    }\n",
              "</style>\n",
              "<table border=\"1\" class=\"dataframe\">\n",
              "  <thead>\n",
              "    <tr style=\"text-align: right;\">\n",
              "      <th></th>\n",
              "      <th></th>\n",
              "      <th>return</th>\n",
              "      <th>allocation1</th>\n",
              "      <th>fv1</th>\n",
              "      <th>allocation2</th>\n",
              "      <th>fv2</th>\n",
              "    </tr>\n",
              "  </thead>\n",
              "  <tbody>\n",
              "    <tr>\n",
              "      <th rowspan=\"2\" valign=\"top\">brokerage</th>\n",
              "      <th>stock</th>\n",
              "      <td>4.83</td>\n",
              "      <td>0.25</td>\n",
              "      <td>1.21</td>\n",
              "      <td>0.25</td>\n",
              "      <td>1.21</td>\n",
              "    </tr>\n",
              "    <tr>\n",
              "      <th>bond</th>\n",
              "      <td>1.79</td>\n",
              "      <td>0.25</td>\n",
              "      <td>0.45</td>\n",
              "      <td>0.25</td>\n",
              "      <td>0.45</td>\n",
              "    </tr>\n",
              "    <tr>\n",
              "      <th rowspan=\"2\" valign=\"top\">401k</th>\n",
              "      <th>stock</th>\n",
              "      <td>6.63</td>\n",
              "      <td>0.25</td>\n",
              "      <td>1.66</td>\n",
              "      <td>0.25</td>\n",
              "      <td>1.66</td>\n",
              "    </tr>\n",
              "    <tr>\n",
              "      <th>bond</th>\n",
              "      <td>2.80</td>\n",
              "      <td>0.25</td>\n",
              "      <td>0.70</td>\n",
              "      <td>0.00</td>\n",
              "      <td>0.00</td>\n",
              "    </tr>\n",
              "    <tr>\n",
              "      <th rowspan=\"2\" valign=\"top\">roth</th>\n",
              "      <th>stock</th>\n",
              "      <td>5.74</td>\n",
              "      <td>0.00</td>\n",
              "      <td>0.00</td>\n",
              "      <td>0.25</td>\n",
              "      <td>1.44</td>\n",
              "    </tr>\n",
              "    <tr>\n",
              "      <th>bond</th>\n",
              "      <td>2.43</td>\n",
              "      <td>0.00</td>\n",
              "      <td>0.00</td>\n",
              "      <td>0.00</td>\n",
              "      <td>0.00</td>\n",
              "    </tr>\n",
              "  </tbody>\n",
              "</table>\n",
              "</div>"
            ],
            "text/plain": [
              "                 return  allocation1   fv1  allocation2   fv2\n",
              "brokerage stock    4.83         0.25  1.21         0.25  1.21\n",
              "          bond     1.79         0.25  0.45         0.25  0.45\n",
              "401k      stock    6.63         0.25  1.66         0.25  1.66\n",
              "          bond     2.80         0.25  0.70         0.00  0.00\n",
              "roth      stock    5.74         0.00  0.00         0.25  1.44\n",
              "          bond     2.43         0.00  0.00         0.00  0.00"
            ]
          },
          "execution_count": 5,
          "metadata": {},
          "output_type": "execute_result"
        }
      ],
      "source": [
        "idx  = pd.MultiIndex.from_product([['brokerage','401k','roth'],['stock','bond']])\n",
        "cols = ['return', 'allocation1','fv1', 'allocation2','fv2' ]\n",
        "df = pd.DataFrame(dtype=float,columns=cols,index=idx)\n",
        "df['return'] = [rets_brok, retb_brok, rets_401k, retb_401k, rets_roth, retb_roth]\n",
        "\n",
        "df['allocation1'] = wgts1\n",
        "df['fv1'] = df['allocation1']*df['return']\n",
        "df['allocation2'] = wgts2\n",
        "df['fv2'] = df['allocation2']*df['return']\n",
        "np.round(df,2)"
      ]
    },
    {
      "cell_type": "code",
      "execution_count": 6,
      "metadata": {},
      "outputs": [
        {
          "name": "stdout",
          "output_type": "stream",
          "text": [
            "Portfolio 1:\n",
            "The ending subtotals in each account are:\n",
            "            fv1\n",
            "401k       2.36\n",
            "brokerage  1.65\n",
            "roth       0.00\n",
            "\n",
            "An initial $1 turns into total FV of $4.01\n",
            "\n",
            "\n",
            "Portfolio 2:\n",
            "The ending subtotals in each account are:\n",
            "            fv2\n",
            "401k       1.66\n",
            "brokerage  1.65\n",
            "roth       1.44\n",
            "\n",
            "An initial $1 turns into total FV of $4.75\n"
          ]
        }
      ],
      "source": [
        "print('Portfolio 1:')\n",
        "print(f'The ending subtotals in each account are:')\n",
        "print(np.round(df.groupby(level=0)[['fv1']].sum(),2))\n",
        "print(f'\\nAn initial $1 turns into total FV of ${df.fv1.sum():,.2f}\\n\\n')\n",
        "\n",
        "print('Portfolio 2:')\n",
        "print(f'The ending subtotals in each account are:')\n",
        "print(np.round(df.groupby(level=0)[['fv2']].sum(),2))\n",
        "print(f'\\nAn initial $1 turns into total FV of ${df.fv2.sum():,.2f}')"
      ]
    }
  ],
  "metadata": {
    "colab": {
      "authorship_tag": "ABX9TyONwEdp/i913CJHyj47Un3e",
      "include_colab_link": true,
      "name": "tax_location_detail.ipynb",
      "provenance": []
    },
    "kernelspec": {
      "display_name": "Python 3",
      "name": "python3"
    },
    "language_info": {
      "codemirror_mode": {
        "name": "ipython",
        "version": 3
      },
      "file_extension": ".py",
      "mimetype": "text/x-python",
      "name": "python",
      "nbconvert_exporter": "python",
      "pygments_lexer": "ipython3",
      "version": "3.10.4"
    }
  },
  "nbformat": 4,
  "nbformat_minor": 0
}
