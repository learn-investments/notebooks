{
  "nbformat": 4,
  "nbformat_minor": 0,
  "metadata": {
    "colab": {
      "name": "tax_location_detail.ipynb",
      "provenance": [],
      "authorship_tag": "ABX9TyONwEdp/i913CJHyj47Un3e",
      "include_colab_link": true
    },
    "kernelspec": {
      "name": "python3",
      "display_name": "Python 3"
    },
    "language_info": {
      "name": "python"
    }
  },
  "cells": [
    {
      "cell_type": "markdown",
      "metadata": {
        "id": "view-in-github",
        "colab_type": "text"
      },
      "source": [
        "<a href=\"https://colab.research.google.com/github/bbcx-investments/notebooks/blob/main/taxes/tax_location_detail.ipynb\" target=\"_parent\"><img src=\"https://colab.research.google.com/assets/colab-badge.svg\" alt=\"Open In Colab\"/></a>"
      ]
    },
    {
      "cell_type": "code",
      "execution_count": 1,
      "metadata": {
        "id": "548hsQeir-js"
      },
      "outputs": [],
      "source": [
        "# tax_treat: \"Brokerage\", \"Roth IRA/529 Plan\", \"Deductible IRA/401(k)/403(b)\"\n",
        "# tax_treat: ['brokerage','roth','401k']\n",
        "# Assumes taxes are constant from t=0 to t=T-1 and then jump at t=T\n",
        "# Assumes constant dividend yield and capital gain per year\n",
        "\n",
        "# Example data\n",
        "t_oi_0 = 0.35     # Initial tax rate on ordinary income\n",
        "t_oi_T = 0.35     # Ending tax rate on ordinary income\n",
        "t_div = 0.15     # Tax rate on dividends\n",
        "t_cg = 0.15      # Tax rate on capital gains\n",
        "dy = 0.02       # Stock dividend yield\n",
        "cg = 0.04       # Stock capital gain\n",
        "bond_rate = 0.03   # Bond rate of return\n",
        "T = 30        # Years saving"
      ]
    },
    {
      "cell_type": "code",
      "source": [
        "# Returns on Dividend-paying stock\n",
        "rs_brokerage = 1 + dy * (1 - t_div) + cg\n",
        "rets_brokerage = (rs_brokerage ** T) * (1 - t_cg) + t_cg * (1 + dy * (1 - t_div) * (1 - rs_brokerage ** T) / (1 - rs_brokerage))\n",
        "\n",
        "rs_roth = dy + cg\n",
        "rets_roth = (1 + rs_roth) ** T\n",
        "\n",
        "rs_401k = dy + cg\n",
        "rets_401k = ((1 - t_oi_T) * (1 + rs_401k) ** T) / (1 - t_oi_0)\n",
        "\n",
        "print(\"The post tax return of the dividend-paying stock is\", rets_brokerage, \"when tax treat = brokerage\")\n",
        "print(\"The post tax return of the dividend-paying stock is\", rets_roth, \"when tax treat = roth\")\n",
        "print(\"The post tax return of the dividend-paying stock is\", rets_401k, \"when tax treat = 401k\")"
      ],
      "metadata": {
        "colab": {
          "base_uri": "https://localhost:8080/"
        },
        "id": "XCfg5dfSsMbi",
        "outputId": "22c0f3c5-1c66-4b44-e0e6-4f12a724a1e4"
      },
      "execution_count": 2,
      "outputs": [
        {
          "output_type": "stream",
          "name": "stdout",
          "text": [
            "The post tax return of the dividend-paying stock is 4.825295121537709 when tax treat = brokerage\n",
            "The post tax return of the dividend-paying stock is 5.7434911729132585 when tax treat = roth\n",
            "The post tax return of the dividend-paying stock is 5.7434911729132585 when tax treat = 401k\n"
          ]
        }
      ]
    },
    {
      "cell_type": "code",
      "source": [
        "# Returns on Taxable coupon bond (with reinvestment)\n",
        "retb_brokerage = (1 + bond_rate * (1 - t_oi_0)) ** (T - 1) * (1 + bond_rate * (1 - t_oi_T))\n",
        "\n",
        "retb_roth = (1 + bond_rate) ** T\n",
        "\n",
        "retb_401k = ((1 - t_oi_T) * (1 + bond_rate) ** T) / (1 - t_oi_0)\n",
        "\n",
        "print(\"The post tax return of the taxable coupon bond is\", retb_brokerage, \"when tax treat = brokerage\")\n",
        "print(\"The post tax return of the taxable coupon bond is\", retb_roth, \"when tax treat = roth\")\n",
        "print(\"The post tax return of the taxable coupon bond is\", retb_401k, \"when tax treat = 401k\")"
      ],
      "metadata": {
        "colab": {
          "base_uri": "https://localhost:8080/"
        },
        "id": "hXJtWnzwsQHd",
        "outputId": "3868b0aa-a383-4b3c-e1ad-07bdccaff0f1"
      },
      "execution_count": 3,
      "outputs": [
        {
          "output_type": "stream",
          "name": "stdout",
          "text": [
            "The post tax return of the taxable coupon bond is 1.784912386745391 when tax treat = brokerage\n",
            "The post tax return of the taxable coupon bond is 2.427262471189662 when tax treat = roth\n",
            "The post tax return of the taxable coupon bond is 2.427262471189662 when tax treat = 401k\n"
          ]
        }
      ]
    },
    {
      "cell_type": "code",
      "source": [
        "# example portfolio weight on ['Brokerage-Stock', 'Brokerage-Bond', '401k-Stock', '401k-Bond', 'Roth-Stock']\n",
        "frac_brok_stock = 0.25\n",
        "frac_brok_bond = 0.25\n",
        "frac_401k_stock = 0.25\n",
        "frac_401k_bond = 0.25\n",
        "frac_roth_stock = 0\n",
        "frac_roth_bond = 0\n",
        "\n",
        "# Allocation\n",
        "brok_stock = frac_brok_stock * rets_brokerage      # brokerage-stock\n",
        "stock_401k = frac_401k_stock * rets_401k        # 401k-stock\n",
        "brok_bond = frac_brok_bond * retb_brokerage       # brokerage-bond\n",
        "bond_401k = frac_401k_bond * retb_401k         # 401k-bond\n",
        "roth_bond = roth_stock = 0\n",
        "\n",
        "print(\"The post tax return of portfolio brokerage-stock is\", brok_stock)\n",
        "print(\"The post tax return of portfolio 401k-stock is\", stock_401k)\n",
        "print(\"The post tax return of portfolio brokerage-bond is\", brok_bond)\n",
        "print(\"The post tax return of portfolio 401k-bond is\", bond_401k)"
      ],
      "metadata": {
        "colab": {
          "base_uri": "https://localhost:8080/"
        },
        "id": "fh2NlQ8fsSDJ",
        "outputId": "4655ef21-8fe9-42c0-af60-4402fd8e1340"
      },
      "execution_count": 4,
      "outputs": [
        {
          "output_type": "stream",
          "name": "stdout",
          "text": [
            "The post tax return of portfolio brokerage-stock is 1.2063237803844273\n",
            "The post tax return of portfolio 401k-stock is 1.4358727932283146\n",
            "The post tax return of portfolio brokerage-bond is 0.4462280966863478\n",
            "The post tax return of portfolio 401k-bond is 0.6068156177974156\n"
          ]
        }
      ]
    },
    {
      "cell_type": "code",
      "source": [
        "# Total\n",
        "brok_total = brok_stock + brok_bond\n",
        "total_401k = stock_401k + bond_401k\n",
        "roth_total = roth_stock + roth_bond\n",
        "total = brok_total + total_401k + roth_total\n",
        "\n",
        "print(\"The total post tax return on brokerage is\", brok_total)\n",
        "print(\"The total post tax return of 401k is\", total_401k)\n",
        "print(\"The total post tax return of roth is\", roth_total)\n",
        "print(\"The total post tax return is\", total)"
      ],
      "metadata": {
        "colab": {
          "base_uri": "https://localhost:8080/"
        },
        "id": "d7iJMHQMsZmo",
        "outputId": "575ed65a-737a-444f-a1bc-253f08212d43"
      },
      "execution_count": 5,
      "outputs": [
        {
          "output_type": "stream",
          "name": "stdout",
          "text": [
            "The total post tax return on brokerage is 1.652551877070775\n",
            "The total post tax return of 401k is 2.04268841102573\n",
            "The total post tax return of roth is 0\n",
            "The total post tax return is 3.695240288096505\n"
          ]
        }
      ]
    },
    {
      "cell_type": "code",
      "source": [
        ""
      ],
      "metadata": {
        "id": "jOtVjUVDsbOZ"
      },
      "execution_count": null,
      "outputs": []
    }
  ]
}