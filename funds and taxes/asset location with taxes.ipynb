{
 "cells": [
  {
   "cell_type": "markdown",
   "metadata": {},
   "source": [
    "---\n",
    "\n",
    "Created for [learn-investments.rice-business.org](https://learn-investments.rice-business.org)\n",
    "    \n",
    "By [Kerry Back](https://kerryback.com) and [Kevin Crotty](https://kevin-crotty.com)\n",
    "    \n",
    "Jones Graduate School of Business, Rice University\n",
    "\n",
    "---\n"
   ]
  },
  {
   "cell_type": "markdown",
   "metadata": {},
   "source": [
    "# EXAMPLE DATA"
   ]
  },
  {
   "cell_type": "code",
   "execution_count": 9,
   "metadata": {},
   "outputs": [],
   "source": [
    "t_oi_0 = 0.35     # Initial tax rate on ordinary income\n",
    "t_oi_T = 0.25     # Ending tax rate on ordinary income\n",
    "t_div  = 0.15     # Tax rate on dividends\n",
    "t_cg   = 0.15     # Tax rate on capital gains\n",
    "dy     = 0.02     # Stock dividend yield\n",
    "cg     = 0.04     # Stock capital gain\n",
    "bndret = 0.03     # Bond rate of return\n",
    "T      = 30       # Years saving\n",
    "\n",
    "# Portfolio weights of stock and bond in each asset location\n",
    "portfolio = {\n",
    "        \"Brokerage:Stock\":  0.25,\n",
    "        \"Brokerage:Bond\":   0.25,\n",
    "        \"401k:Stock\":       0.25,\n",
    "        \"401k:Bond\":        0.00,\n",
    "        \"Roth:Stock\":       0.25,\n",
    "        \"Roth:Bond\":        0.00\n",
    "}\n",
    "\n",
    "# wgt_roth_bond  = 1 - WGT_BROK_STOCK - WGT_BROK_BOND - WGT_401K_STOCK - WGT_401K_BOND - WGT_ROTH_STOCK\n",
    "# wgts = [WGT_BROK_STOCK, WGT_BROK_BOND, WGT_401K_STOCK, WGT_401K_BOND, WGT_ROTH_STOCK, wgt_roth_bond]"
   ]
  },
  {
   "cell_type": "markdown",
   "metadata": {},
   "source": [
    "# CALCULATIONS"
   ]
  },
  {
   "cell_type": "code",
   "execution_count": 10,
   "metadata": {},
   "outputs": [],
   "source": [
    "import pandas as pd\n",
    "import numpy as np\n",
    "\n",
    "\n",
    "# Dividend-paying stock\n",
    "def stockret(tax_treat, t_oi_0, t_oi_T, t_div, t_cg, dy, cg, T):\n",
    "    # tax_treat: ['brokerage','roth','401k']\n",
    "    # Assumes taxes are constant from t=0 to t=T-1 and then jump at t=T\n",
    "    # Assumes constant dividend yield and capital gain per year\n",
    "    if tax_treat == \"Brokerage\":\n",
    "        r = 1 + dy * (1 - t_div) + cg\n",
    "        ret = (r ** T) * (1 - t_cg) + t_cg * (\n",
    "            1 + dy * (1 - t_div) * (1 - r ** T) / (1 - r)\n",
    "        )\n",
    "    elif tax_treat == \"Roth\":\n",
    "        r = dy + cg\n",
    "        ret = (1 + r) ** T\n",
    "    elif tax_treat == \"401k\":\n",
    "        r = dy + cg\n",
    "        if T == 0:\n",
    "            ret = ((1 - t_oi_0) * (1 + r) ** T) / (1 - t_oi_0)\n",
    "        else:\n",
    "            ret = ((1 - t_oi_T) * (1 + r) ** T) / (1 - t_oi_0)\n",
    "    else:\n",
    "        print(\"Tax treatment not defined\")\n",
    "    return ret\n",
    "\n",
    "\n",
    "# Taxable coupon bond (with reinvestment)\n",
    "def bondret(tax_treat, t_oi_0, t_oi_T, r, T):\n",
    "    # tax_treat: ['brokerage','roth','401k']\n",
    "    # Assumes taxes are constant from t=0 to t=T-1 and then jump at t=T\n",
    "    # Assumes taxable coupon payment (reinvested at same rate); no capital gain/loss on bond\n",
    "    if tax_treat == \"Brokerage\":\n",
    "        if T == 0:\n",
    "            ret = 1\n",
    "        else:\n",
    "            ret = (1 + r * (1 - t_oi_0)) ** (T - 1) * (1 + r * (1 - t_oi_T))\n",
    "    elif tax_treat == \"Roth\":\n",
    "        ret = (1 + r) ** T\n",
    "    elif tax_treat == \"401k\":\n",
    "        if T == 0:\n",
    "            ret = ((1 - t_oi_0) * (1 + r) ** T) / (1 - t_oi_0)  # (ie. 1)\n",
    "        else:\n",
    "            ret = ((1 - t_oi_T) * (1 + r) ** T) / (1 - t_oi_0)\n",
    "    else:\n",
    "        print(\"Tax treatment not defined\")\n",
    "    return ret"
   ]
  },
  {
   "cell_type": "code",
   "execution_count": 11,
   "metadata": {},
   "outputs": [
    {
     "data": {
      "text/html": [
       "<div>\n",
       "<style scoped>\n",
       "    .dataframe tbody tr th:only-of-type {\n",
       "        vertical-align: middle;\n",
       "    }\n",
       "\n",
       "    .dataframe tbody tr th {\n",
       "        vertical-align: top;\n",
       "    }\n",
       "\n",
       "    .dataframe thead tr th {\n",
       "        text-align: left;\n",
       "    }\n",
       "</style>\n",
       "<table border=\"1\" class=\"dataframe\">\n",
       "  <thead>\n",
       "    <tr>\n",
       "      <th></th>\n",
       "      <th colspan=\"3\" halign=\"left\">Brokerage</th>\n",
       "      <th colspan=\"3\" halign=\"left\">401k</th>\n",
       "      <th colspan=\"3\" halign=\"left\">Roth</th>\n",
       "      <th>Overall</th>\n",
       "    </tr>\n",
       "    <tr>\n",
       "      <th></th>\n",
       "      <th>Stock</th>\n",
       "      <th>Bond</th>\n",
       "      <th>Total</th>\n",
       "      <th>Stock</th>\n",
       "      <th>Bond</th>\n",
       "      <th>Total</th>\n",
       "      <th>Stock</th>\n",
       "      <th>Bond</th>\n",
       "      <th>Total</th>\n",
       "      <th>Total</th>\n",
       "    </tr>\n",
       "  </thead>\n",
       "  <tbody>\n",
       "    <tr>\n",
       "      <th>1</th>\n",
       "      <td>0.262750</td>\n",
       "      <td>0.255625</td>\n",
       "      <td>0.518375</td>\n",
       "      <td>0.305769</td>\n",
       "      <td>0.0</td>\n",
       "      <td>0.305769</td>\n",
       "      <td>0.265000</td>\n",
       "      <td>0.0</td>\n",
       "      <td>0.265000</td>\n",
       "      <td>1.089144</td>\n",
       "    </tr>\n",
       "    <tr>\n",
       "      <th>2</th>\n",
       "      <td>0.276227</td>\n",
       "      <td>0.260610</td>\n",
       "      <td>0.536836</td>\n",
       "      <td>0.324115</td>\n",
       "      <td>0.0</td>\n",
       "      <td>0.324115</td>\n",
       "      <td>0.280900</td>\n",
       "      <td>0.0</td>\n",
       "      <td>0.280900</td>\n",
       "      <td>1.141852</td>\n",
       "    </tr>\n",
       "    <tr>\n",
       "      <th>3</th>\n",
       "      <td>0.290472</td>\n",
       "      <td>0.265692</td>\n",
       "      <td>0.556163</td>\n",
       "      <td>0.343562</td>\n",
       "      <td>0.0</td>\n",
       "      <td>0.343562</td>\n",
       "      <td>0.297754</td>\n",
       "      <td>0.0</td>\n",
       "      <td>0.297754</td>\n",
       "      <td>1.197480</td>\n",
       "    </tr>\n",
       "    <tr>\n",
       "      <th>4</th>\n",
       "      <td>0.305529</td>\n",
       "      <td>0.270873</td>\n",
       "      <td>0.576401</td>\n",
       "      <td>0.364176</td>\n",
       "      <td>0.0</td>\n",
       "      <td>0.364176</td>\n",
       "      <td>0.315619</td>\n",
       "      <td>0.0</td>\n",
       "      <td>0.315619</td>\n",
       "      <td>1.256196</td>\n",
       "    </tr>\n",
       "    <tr>\n",
       "      <th>5</th>\n",
       "      <td>0.321444</td>\n",
       "      <td>0.276155</td>\n",
       "      <td>0.597598</td>\n",
       "      <td>0.386027</td>\n",
       "      <td>0.0</td>\n",
       "      <td>0.386027</td>\n",
       "      <td>0.334556</td>\n",
       "      <td>0.0</td>\n",
       "      <td>0.334556</td>\n",
       "      <td>1.318181</td>\n",
       "    </tr>\n",
       "  </tbody>\n",
       "</table>\n",
       "</div>"
      ],
      "text/plain": [
       "  Brokerage                          401k                     Roth       \\\n",
       "      Stock      Bond     Total     Stock Bond     Total     Stock Bond   \n",
       "1  0.262750  0.255625  0.518375  0.305769  0.0  0.305769  0.265000  0.0   \n",
       "2  0.276227  0.260610  0.536836  0.324115  0.0  0.324115  0.280900  0.0   \n",
       "3  0.290472  0.265692  0.556163  0.343562  0.0  0.343562  0.297754  0.0   \n",
       "4  0.305529  0.270873  0.576401  0.364176  0.0  0.364176  0.315619  0.0   \n",
       "5  0.321444  0.276155  0.597598  0.386027  0.0  0.386027  0.334556  0.0   \n",
       "\n",
       "              Overall  \n",
       "      Total     Total  \n",
       "1  0.265000  1.089144  \n",
       "2  0.280900  1.141852  \n",
       "3  0.297754  1.197480  \n",
       "4  0.315619  1.256196  \n",
       "5  0.334556  1.318181  "
      ]
     },
     "execution_count": 11,
     "metadata": {},
     "output_type": "execute_result"
    }
   ],
   "source": [
    "accounts = ['Brokerage','401k', 'Roth']\n",
    "subaccts = ['Stock','Bond','Total']\n",
    "cols = pd.MultiIndex.from_product([accounts,subaccts])\n",
    "df = pd.DataFrame(dtype=float, index=1+np.arange(T), columns=cols)\n",
    "for t in df.index:\n",
    "    for acct in accounts:\n",
    "        wgt = portfolio[acct + \":Stock\"]\n",
    "        df.loc[t, (acct,'Stock')] = wgt * stockret(acct, t_oi_0, t_oi_T, t_div, t_cg, dy, cg, t)\n",
    "\n",
    "        wgt = portfolio[acct + \":Bond\"]\n",
    "        df.loc[t, (acct,'Bond')]  = wgt * bondret(acct, t_oi_0, t_oi_T, bndret, t)\n",
    "\n",
    "for acct in accounts:\n",
    "    df[(acct,'Total')] = df[(acct,'Stock')] + df[(acct,'Bond')]\n",
    "cols_to_sum = [(acct, 'Total') for acct in accounts] \n",
    "df[(\"Overall\",'Total')] = df[cols_to_sum].sum(axis=1)        \n",
    "df.head()"
   ]
  },
  {
   "cell_type": "markdown",
   "metadata": {},
   "source": [
    "# FIGURE"
   ]
  },
  {
   "cell_type": "code",
   "execution_count": 14,
   "metadata": {},
   "outputs": [
    {
     "data": {
      "application/vnd.plotly.v1+json": {
       "config": {
        "plotlyServerURL": "https://plot.ly"
       },
       "data": [
        {
         "mode": "lines",
         "name": "Total",
         "type": "scatter",
         "x": [
          1,
          2,
          3,
          4,
          5,
          6,
          7,
          8,
          9,
          10,
          11,
          12,
          13,
          14,
          15,
          16,
          17,
          18,
          19,
          20,
          21,
          22,
          23,
          24,
          25,
          26,
          27,
          28,
          29,
          30
         ],
         "y": [
          1.089144230769231,
          1.1418518221153846,
          1.1974795588485576,
          1.2561964085107682,
          1.318181268573862,
          1.3836235532509904,
          1.4527238150608035,
          1.5256944032046265,
          1.6027601609391096,
          1.6841591642563027,
          1.7701435043202718,
          1.8609801162546722,
          1.9569516570296073,
          2.058357435359169,
          2.1655143966937884,
          2.278758166574518,
          2.398444155810216,
          2.5249487311439758,
          2.6586704552926848,
          2.800031400474069,
          2.9494785397797356,
          3.107485221011359,
          3.2745527278711806,
          3.451211933688224,
          3.6380250531691782,
          3.8355874979886235,
          4.044529842378401,
          4.265519905241517,
          4.499264955703286,
          4.7465140494227
         ]
        },
        {
         "mode": "lines",
         "name": "Brokerage",
         "type": "scatter",
         "x": [
          1,
          2,
          3,
          4,
          5,
          6,
          7,
          8,
          9,
          10,
          11,
          12,
          13,
          14,
          15,
          16,
          17,
          18,
          19,
          20,
          21,
          22,
          23,
          24,
          25,
          26,
          27,
          28,
          29,
          30
         ],
         "y": [
          0.518375,
          0.5368364375,
          0.55616325115625,
          0.5764011223569219,
          0.597598265250785,
          0.6198055697285288,
          0.6430767525269939,
          0.6674685169187883,
          0.6930407214761212,
          0.7198565584255349,
          0.7479827421396579,
          0.7774897083432215,
          0.8084518246434693,
          0.8409476130298627,
          0.8750599850247238,
          0.9108764902053093,
          0.9484895788588545,
          0.9879968795755327,
          1.0295014926301351,
          1.0731123000517666,
          1.1189442933320943,
          1.1671189197768594,
          1.2177644485626107,
          1.27101635762114,
          1.3270177425380694,
          1.3859197487196477,
          1.447882028153286,
          1.5130732221628957,
          1.581671471639948,
          1.6538649563155607
         ]
        },
        {
         "mode": "lines",
         "name": "401k",
         "type": "scatter",
         "x": [
          1,
          2,
          3,
          4,
          5,
          6,
          7,
          8,
          9,
          10,
          11,
          12,
          13,
          14,
          15,
          16,
          17,
          18,
          19,
          20,
          21,
          22,
          23,
          24,
          25,
          26,
          27,
          28,
          29,
          30
         ],
         "y": [
          0.3057692307692308,
          0.32411538461538464,
          0.34356230769230767,
          0.36417604615384624,
          0.386026608923077,
          0.4091882054584617,
          0.4337394977859694,
          0.4597638676531276,
          0.48734969971231523,
          0.5165906816950542,
          0.5475861225967574,
          0.5804412899525628,
          0.6152677673497168,
          0.6521838333906999,
          0.6913148633941417,
          0.7327937551977904,
          0.7767613805096578,
          0.8233670633402372,
          0.8727690871406515,
          0.9251352323690908,
          0.9806433463112363,
          1.0394819470899104,
          1.1018508639153053,
          1.1679619157502237,
          1.2380396306952368,
          1.3123220085369511,
          1.3910613290491682,
          1.4745250087921185,
          1.5629965093196458,
          1.6567762998788245
         ]
        },
        {
         "mode": "lines",
         "name": "Roth",
         "type": "scatter",
         "x": [
          1,
          2,
          3,
          4,
          5,
          6,
          7,
          8,
          9,
          10,
          11,
          12,
          13,
          14,
          15,
          16,
          17,
          18,
          19,
          20,
          21,
          22,
          23,
          24,
          25,
          26,
          27,
          28,
          29,
          30
         ],
         "y": [
          0.265,
          0.28090000000000004,
          0.297754,
          0.3156192400000001,
          0.33455639440000007,
          0.3546297780640001,
          0.37590756474784015,
          0.3984620186327106,
          0.4223697397506732,
          0.44771192413571365,
          0.4745746395838565,
          0.5030491179588878,
          0.5332320650364212,
          0.5652259889386065,
          0.5991395482749229,
          0.6350879211714183,
          0.6731931964417034,
          0.7135847882282057,
          0.756399875521898,
          0.801783868053212,
          0.8498909001364048,
          0.9008843541445891,
          0.9549374153932645,
          1.0122336603168605,
          1.072967679935872,
          1.1373457407320244,
          1.205586485175946,
          1.2779216742865027,
          1.354596974743693,
          1.4358727932283146
         ]
        }
       ],
       "layout": {
        "hovermode": "x unified",
        "legend": {
         "x": 0.01,
         "xanchor": "left",
         "y": 0.99,
         "yanchor": "top"
        },
        "template": {
         "data": {
          "bar": [
           {
            "error_x": {
             "color": "#2a3f5f"
            },
            "error_y": {
             "color": "#2a3f5f"
            },
            "marker": {
             "line": {
              "color": "white",
              "width": 0.5
             },
             "pattern": {
              "fillmode": "overlay",
              "size": 10,
              "solidity": 0.2
             }
            },
            "type": "bar"
           }
          ],
          "barpolar": [
           {
            "marker": {
             "line": {
              "color": "white",
              "width": 0.5
             },
             "pattern": {
              "fillmode": "overlay",
              "size": 10,
              "solidity": 0.2
             }
            },
            "type": "barpolar"
           }
          ],
          "carpet": [
           {
            "aaxis": {
             "endlinecolor": "#2a3f5f",
             "gridcolor": "#C8D4E3",
             "linecolor": "#C8D4E3",
             "minorgridcolor": "#C8D4E3",
             "startlinecolor": "#2a3f5f"
            },
            "baxis": {
             "endlinecolor": "#2a3f5f",
             "gridcolor": "#C8D4E3",
             "linecolor": "#C8D4E3",
             "minorgridcolor": "#C8D4E3",
             "startlinecolor": "#2a3f5f"
            },
            "type": "carpet"
           }
          ],
          "choropleth": [
           {
            "colorbar": {
             "outlinewidth": 0,
             "ticks": ""
            },
            "type": "choropleth"
           }
          ],
          "contour": [
           {
            "colorbar": {
             "outlinewidth": 0,
             "ticks": ""
            },
            "colorscale": [
             [
              0,
              "#0d0887"
             ],
             [
              0.1111111111111111,
              "#46039f"
             ],
             [
              0.2222222222222222,
              "#7201a8"
             ],
             [
              0.3333333333333333,
              "#9c179e"
             ],
             [
              0.4444444444444444,
              "#bd3786"
             ],
             [
              0.5555555555555556,
              "#d8576b"
             ],
             [
              0.6666666666666666,
              "#ed7953"
             ],
             [
              0.7777777777777778,
              "#fb9f3a"
             ],
             [
              0.8888888888888888,
              "#fdca26"
             ],
             [
              1,
              "#f0f921"
             ]
            ],
            "type": "contour"
           }
          ],
          "contourcarpet": [
           {
            "colorbar": {
             "outlinewidth": 0,
             "ticks": ""
            },
            "type": "contourcarpet"
           }
          ],
          "heatmap": [
           {
            "colorbar": {
             "outlinewidth": 0,
             "ticks": ""
            },
            "colorscale": [
             [
              0,
              "#0d0887"
             ],
             [
              0.1111111111111111,
              "#46039f"
             ],
             [
              0.2222222222222222,
              "#7201a8"
             ],
             [
              0.3333333333333333,
              "#9c179e"
             ],
             [
              0.4444444444444444,
              "#bd3786"
             ],
             [
              0.5555555555555556,
              "#d8576b"
             ],
             [
              0.6666666666666666,
              "#ed7953"
             ],
             [
              0.7777777777777778,
              "#fb9f3a"
             ],
             [
              0.8888888888888888,
              "#fdca26"
             ],
             [
              1,
              "#f0f921"
             ]
            ],
            "type": "heatmap"
           }
          ],
          "heatmapgl": [
           {
            "colorbar": {
             "outlinewidth": 0,
             "ticks": ""
            },
            "colorscale": [
             [
              0,
              "#0d0887"
             ],
             [
              0.1111111111111111,
              "#46039f"
             ],
             [
              0.2222222222222222,
              "#7201a8"
             ],
             [
              0.3333333333333333,
              "#9c179e"
             ],
             [
              0.4444444444444444,
              "#bd3786"
             ],
             [
              0.5555555555555556,
              "#d8576b"
             ],
             [
              0.6666666666666666,
              "#ed7953"
             ],
             [
              0.7777777777777778,
              "#fb9f3a"
             ],
             [
              0.8888888888888888,
              "#fdca26"
             ],
             [
              1,
              "#f0f921"
             ]
            ],
            "type": "heatmapgl"
           }
          ],
          "histogram": [
           {
            "marker": {
             "pattern": {
              "fillmode": "overlay",
              "size": 10,
              "solidity": 0.2
             }
            },
            "type": "histogram"
           }
          ],
          "histogram2d": [
           {
            "colorbar": {
             "outlinewidth": 0,
             "ticks": ""
            },
            "colorscale": [
             [
              0,
              "#0d0887"
             ],
             [
              0.1111111111111111,
              "#46039f"
             ],
             [
              0.2222222222222222,
              "#7201a8"
             ],
             [
              0.3333333333333333,
              "#9c179e"
             ],
             [
              0.4444444444444444,
              "#bd3786"
             ],
             [
              0.5555555555555556,
              "#d8576b"
             ],
             [
              0.6666666666666666,
              "#ed7953"
             ],
             [
              0.7777777777777778,
              "#fb9f3a"
             ],
             [
              0.8888888888888888,
              "#fdca26"
             ],
             [
              1,
              "#f0f921"
             ]
            ],
            "type": "histogram2d"
           }
          ],
          "histogram2dcontour": [
           {
            "colorbar": {
             "outlinewidth": 0,
             "ticks": ""
            },
            "colorscale": [
             [
              0,
              "#0d0887"
             ],
             [
              0.1111111111111111,
              "#46039f"
             ],
             [
              0.2222222222222222,
              "#7201a8"
             ],
             [
              0.3333333333333333,
              "#9c179e"
             ],
             [
              0.4444444444444444,
              "#bd3786"
             ],
             [
              0.5555555555555556,
              "#d8576b"
             ],
             [
              0.6666666666666666,
              "#ed7953"
             ],
             [
              0.7777777777777778,
              "#fb9f3a"
             ],
             [
              0.8888888888888888,
              "#fdca26"
             ],
             [
              1,
              "#f0f921"
             ]
            ],
            "type": "histogram2dcontour"
           }
          ],
          "mesh3d": [
           {
            "colorbar": {
             "outlinewidth": 0,
             "ticks": ""
            },
            "type": "mesh3d"
           }
          ],
          "parcoords": [
           {
            "line": {
             "colorbar": {
              "outlinewidth": 0,
              "ticks": ""
             }
            },
            "type": "parcoords"
           }
          ],
          "pie": [
           {
            "automargin": true,
            "type": "pie"
           }
          ],
          "scatter": [
           {
            "fillpattern": {
             "fillmode": "overlay",
             "size": 10,
             "solidity": 0.2
            },
            "type": "scatter"
           }
          ],
          "scatter3d": [
           {
            "line": {
             "colorbar": {
              "outlinewidth": 0,
              "ticks": ""
             }
            },
            "marker": {
             "colorbar": {
              "outlinewidth": 0,
              "ticks": ""
             }
            },
            "type": "scatter3d"
           }
          ],
          "scattercarpet": [
           {
            "marker": {
             "colorbar": {
              "outlinewidth": 0,
              "ticks": ""
             }
            },
            "type": "scattercarpet"
           }
          ],
          "scattergeo": [
           {
            "marker": {
             "colorbar": {
              "outlinewidth": 0,
              "ticks": ""
             }
            },
            "type": "scattergeo"
           }
          ],
          "scattergl": [
           {
            "marker": {
             "colorbar": {
              "outlinewidth": 0,
              "ticks": ""
             }
            },
            "type": "scattergl"
           }
          ],
          "scattermapbox": [
           {
            "marker": {
             "colorbar": {
              "outlinewidth": 0,
              "ticks": ""
             }
            },
            "type": "scattermapbox"
           }
          ],
          "scatterpolar": [
           {
            "marker": {
             "colorbar": {
              "outlinewidth": 0,
              "ticks": ""
             }
            },
            "type": "scatterpolar"
           }
          ],
          "scatterpolargl": [
           {
            "marker": {
             "colorbar": {
              "outlinewidth": 0,
              "ticks": ""
             }
            },
            "type": "scatterpolargl"
           }
          ],
          "scatterternary": [
           {
            "marker": {
             "colorbar": {
              "outlinewidth": 0,
              "ticks": ""
             }
            },
            "type": "scatterternary"
           }
          ],
          "surface": [
           {
            "colorbar": {
             "outlinewidth": 0,
             "ticks": ""
            },
            "colorscale": [
             [
              0,
              "#0d0887"
             ],
             [
              0.1111111111111111,
              "#46039f"
             ],
             [
              0.2222222222222222,
              "#7201a8"
             ],
             [
              0.3333333333333333,
              "#9c179e"
             ],
             [
              0.4444444444444444,
              "#bd3786"
             ],
             [
              0.5555555555555556,
              "#d8576b"
             ],
             [
              0.6666666666666666,
              "#ed7953"
             ],
             [
              0.7777777777777778,
              "#fb9f3a"
             ],
             [
              0.8888888888888888,
              "#fdca26"
             ],
             [
              1,
              "#f0f921"
             ]
            ],
            "type": "surface"
           }
          ],
          "table": [
           {
            "cells": {
             "fill": {
              "color": "#EBF0F8"
             },
             "line": {
              "color": "white"
             }
            },
            "header": {
             "fill": {
              "color": "#C8D4E3"
             },
             "line": {
              "color": "white"
             }
            },
            "type": "table"
           }
          ]
         },
         "layout": {
          "annotationdefaults": {
           "arrowcolor": "#2a3f5f",
           "arrowhead": 0,
           "arrowwidth": 1
          },
          "autotypenumbers": "strict",
          "coloraxis": {
           "colorbar": {
            "outlinewidth": 0,
            "ticks": ""
           }
          },
          "colorscale": {
           "diverging": [
            [
             0,
             "#8e0152"
            ],
            [
             0.1,
             "#c51b7d"
            ],
            [
             0.2,
             "#de77ae"
            ],
            [
             0.3,
             "#f1b6da"
            ],
            [
             0.4,
             "#fde0ef"
            ],
            [
             0.5,
             "#f7f7f7"
            ],
            [
             0.6,
             "#e6f5d0"
            ],
            [
             0.7,
             "#b8e186"
            ],
            [
             0.8,
             "#7fbc41"
            ],
            [
             0.9,
             "#4d9221"
            ],
            [
             1,
             "#276419"
            ]
           ],
           "sequential": [
            [
             0,
             "#0d0887"
            ],
            [
             0.1111111111111111,
             "#46039f"
            ],
            [
             0.2222222222222222,
             "#7201a8"
            ],
            [
             0.3333333333333333,
             "#9c179e"
            ],
            [
             0.4444444444444444,
             "#bd3786"
            ],
            [
             0.5555555555555556,
             "#d8576b"
            ],
            [
             0.6666666666666666,
             "#ed7953"
            ],
            [
             0.7777777777777778,
             "#fb9f3a"
            ],
            [
             0.8888888888888888,
             "#fdca26"
            ],
            [
             1,
             "#f0f921"
            ]
           ],
           "sequentialminus": [
            [
             0,
             "#0d0887"
            ],
            [
             0.1111111111111111,
             "#46039f"
            ],
            [
             0.2222222222222222,
             "#7201a8"
            ],
            [
             0.3333333333333333,
             "#9c179e"
            ],
            [
             0.4444444444444444,
             "#bd3786"
            ],
            [
             0.5555555555555556,
             "#d8576b"
            ],
            [
             0.6666666666666666,
             "#ed7953"
            ],
            [
             0.7777777777777778,
             "#fb9f3a"
            ],
            [
             0.8888888888888888,
             "#fdca26"
            ],
            [
             1,
             "#f0f921"
            ]
           ]
          },
          "colorway": [
           "#636efa",
           "#EF553B",
           "#00cc96",
           "#ab63fa",
           "#FFA15A",
           "#19d3f3",
           "#FF6692",
           "#B6E880",
           "#FF97FF",
           "#FECB52"
          ],
          "font": {
           "color": "#2a3f5f"
          },
          "geo": {
           "bgcolor": "white",
           "lakecolor": "white",
           "landcolor": "white",
           "showlakes": true,
           "showland": true,
           "subunitcolor": "#C8D4E3"
          },
          "hoverlabel": {
           "align": "left"
          },
          "hovermode": "closest",
          "mapbox": {
           "style": "light"
          },
          "paper_bgcolor": "white",
          "plot_bgcolor": "white",
          "polar": {
           "angularaxis": {
            "gridcolor": "#EBF0F8",
            "linecolor": "#EBF0F8",
            "ticks": ""
           },
           "bgcolor": "white",
           "radialaxis": {
            "gridcolor": "#EBF0F8",
            "linecolor": "#EBF0F8",
            "ticks": ""
           }
          },
          "scene": {
           "xaxis": {
            "backgroundcolor": "white",
            "gridcolor": "#DFE8F3",
            "gridwidth": 2,
            "linecolor": "#EBF0F8",
            "showbackground": true,
            "ticks": "",
            "zerolinecolor": "#EBF0F8"
           },
           "yaxis": {
            "backgroundcolor": "white",
            "gridcolor": "#DFE8F3",
            "gridwidth": 2,
            "linecolor": "#EBF0F8",
            "showbackground": true,
            "ticks": "",
            "zerolinecolor": "#EBF0F8"
           },
           "zaxis": {
            "backgroundcolor": "white",
            "gridcolor": "#DFE8F3",
            "gridwidth": 2,
            "linecolor": "#EBF0F8",
            "showbackground": true,
            "ticks": "",
            "zerolinecolor": "#EBF0F8"
           }
          },
          "shapedefaults": {
           "line": {
            "color": "#2a3f5f"
           }
          },
          "ternary": {
           "aaxis": {
            "gridcolor": "#DFE8F3",
            "linecolor": "#A2B1C6",
            "ticks": ""
           },
           "baxis": {
            "gridcolor": "#DFE8F3",
            "linecolor": "#A2B1C6",
            "ticks": ""
           },
           "bgcolor": "white",
           "caxis": {
            "gridcolor": "#DFE8F3",
            "linecolor": "#A2B1C6",
            "ticks": ""
           }
          },
          "title": {
           "x": 0.05
          },
          "xaxis": {
           "automargin": true,
           "gridcolor": "#EBF0F8",
           "linecolor": "#EBF0F8",
           "ticks": "",
           "title": {
            "standoff": 15
           },
           "zerolinecolor": "#EBF0F8",
           "zerolinewidth": 2
          },
          "yaxis": {
           "automargin": true,
           "gridcolor": "#EBF0F8",
           "linecolor": "#EBF0F8",
           "ticks": "",
           "title": {
            "standoff": 15
           },
           "zerolinecolor": "#EBF0F8",
           "zerolinewidth": 2
          }
         }
        },
        "xaxis": {
         "tickformat": ",.0f",
         "title": {
          "text": "Year of Withdrawal"
         }
        },
        "yaxis": {
         "tickformat": "$,.2f",
         "title": {
          "text": "After-Tax Future Value"
         }
        }
       }
      }
     },
     "metadata": {},
     "output_type": "display_data"
    }
   ],
   "source": [
    "import plotly.graph_objects as go\n",
    "\n",
    "fig = go.Figure()\n",
    "\n",
    "\n",
    "fig.add_trace(go.Scatter(x=df.index, y=df[('Overall','Total')], mode=\"lines\", name=\"Total\"))\n",
    "fig.add_trace(go.Scatter(x=df.index, y=df[('Brokerage','Total')], mode=\"lines\", name=\"Brokerage\"))\n",
    "fig.add_trace(go.Scatter(x=df.index, y=df[('401k','Total')], mode=\"lines\", name=\"401k\"))\n",
    "fig.add_trace(go.Scatter(x=df.index, y=df[('Roth','Total')], mode=\"lines\", name=\"Roth\"))\n",
    "fig.update_layout(\n",
    "    xaxis_title=\"Year of Withdrawal\",\n",
    "    xaxis_tickformat=\",.0f\",\n",
    "    yaxis_title=\"After-Tax Future Value\",\n",
    "    yaxis_tickformat=\"$,.2f\",\n",
    "    hovermode=\"x unified\",\n",
    "    template=\"plotly_white\",\n",
    "    legend = dict(\n",
    "        yanchor=\"top\",\n",
    "        y=0.99,\n",
    "        xanchor=\"left\",\n",
    "        x=0.01\n",
    "    )\n",
    ")\n",
    "fig.show()"
   ]
  }
 ],
 "metadata": {
  "colab": {
   "authorship_tag": "ABX9TyONwEdp/i913CJHyj47Un3e",
   "include_colab_link": true,
   "name": "asset location with taxes.ipynb",
   "provenance": []
  },
  "kernelspec": {
   "display_name": "Python 3",
   "name": "python3"
  },
  "language_info": {
   "codemirror_mode": {
    "name": "ipython",
    "version": 3
   },
   "file_extension": ".py",
   "mimetype": "text/x-python",
   "name": "python",
   "nbconvert_exporter": "python",
   "pygments_lexer": "ipython3",
   "version": "3.10.8"
  }
 },
 "nbformat": 4,
 "nbformat_minor": 0
}