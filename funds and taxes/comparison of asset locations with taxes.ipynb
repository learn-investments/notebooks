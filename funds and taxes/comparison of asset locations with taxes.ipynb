{
  "cells": [
    {
      "cell_type": "markdown",
      "metadata": {},
      "source": [
        "# EXAMPLE DATA"
      ]
    },
    {
      "cell_type": "code",
      "execution_count": 1,
      "metadata": {},
      "outputs": [],
      "source": [
        "t_oi_0 = 0.35     # Initial tax rate on ordinary income\n",
        "t_oi_T = 0.25     # Ending tax rate on ordinary income\n",
        "t_div  = 0.15     # Tax rate on dividends\n",
        "t_cg   = 0.15     # Tax rate on capital gains\n",
        "dy     = 0.02     # Stock dividend yield\n",
        "cg     = 0.04     # Stock capital gain\n",
        "bndret = 0.03     # Bond rate of return\n",
        "T      = 30       # Years saving\n",
        "\n",
        "# Portfolio #1 weights of stock and bond in each asset location\n",
        "portfolio1 = {\n",
        "        \"Brokerage:Stock\":  0.50,\n",
        "        \"Brokerage:Bond\":   0.50,\n",
        "        \"401k:Stock\":       0.00,\n",
        "        \"401k:Bond\":        0.00,\n",
        "        \"Roth:Stock\":       0.00,\n",
        "        \"Roth:Bond\":        0.00\n",
        "}\n",
        "\n",
        "# Portfolio #2 weights of stock and bond in each asset location\n",
        "portfolio2 = {\n",
        "        \"Brokerage:Stock\":  0.50,\n",
        "        \"Brokerage:Bond\":   0.00,\n",
        "        \"401k:Stock\":       0.00,\n",
        "        \"401k:Bond\":        0.50,\n",
        "        \"Roth:Stock\":       0.00,\n",
        "        \"Roth:Bond\":        0.00\n",
        "}\n",
        "\n",
        "# Portfolio #3 weights of stock and bond in each asset location\n",
        "portfolio3 = {\n",
        "        \"Brokerage:Stock\":  0.00,\n",
        "        \"Brokerage:Bond\":   0.00,\n",
        "        \"401k:Stock\":       0.50,\n",
        "        \"401k:Bond\":        0.50,\n",
        "        \"Roth:Stock\":       0.00,\n",
        "        \"Roth:Bond\":        0.00\n",
        "}\n"
      ]
    },
    {
      "cell_type": "markdown",
      "metadata": {},
      "source": [
        "# CALCULATIONS"
      ]
    },
    {
      "cell_type": "code",
      "execution_count": 2,
      "metadata": {},
      "outputs": [],
      "source": [
        "import pandas as pd\n",
        "import numpy as np\n",
        "\n",
        "\n",
        "# Dividend-paying stock\n",
        "def stockret(tax_treat, t_oi_0, t_oi_T, t_div, t_cg, dy, cg, T):\n",
        "    # tax_treat: ['brokerage','roth','401k']\n",
        "    # Assumes taxes are constant from t=0 to t=T-1 and then jump at t=T\n",
        "    # Assumes constant dividend yield and capital gain per year\n",
        "    if tax_treat == \"Brokerage\":\n",
        "        r = 1 + dy * (1 - t_div) + cg\n",
        "        ret = (r ** T) * (1 - t_cg) + t_cg * (\n",
        "            1 + dy * (1 - t_div) * (1 - r ** T) / (1 - r)\n",
        "        )\n",
        "    elif tax_treat == \"Roth\":\n",
        "        r = dy + cg\n",
        "        ret = (1 + r) ** T\n",
        "    elif tax_treat == \"401k\":\n",
        "        r = dy + cg\n",
        "        if T == 0:\n",
        "            ret = ((1 - t_oi_0) * (1 + r) ** T) / (1 - t_oi_0)\n",
        "        else:\n",
        "            ret = ((1 - t_oi_T) * (1 + r) ** T) / (1 - t_oi_0)\n",
        "    else:\n",
        "        print(\"Tax treatment not defined\")\n",
        "    return ret\n",
        "\n",
        "\n",
        "# Taxable coupon bond (with reinvestment)\n",
        "def bondret(tax_treat, t_oi_0, t_oi_T, r, T):\n",
        "    # tax_treat: ['brokerage','roth','401k']\n",
        "    # Assumes taxes are constant from t=0 to t=T-1 and then jump at t=T\n",
        "    # Assumes taxable coupon payment (reinvested at same rate); no capital gain/loss on bond\n",
        "    if tax_treat == \"Brokerage\":\n",
        "        if T == 0:\n",
        "            ret = 1\n",
        "        else:\n",
        "            ret = (1 + r * (1 - t_oi_0)) ** (T - 1) * (1 + r * (1 - t_oi_T))\n",
        "    elif tax_treat == \"Roth\":\n",
        "        ret = (1 + r) ** T\n",
        "    elif tax_treat == \"401k\":\n",
        "        if T == 0:\n",
        "            ret = ((1 - t_oi_0) * (1 + r) ** T) / (1 - t_oi_0)  # (ie. 1)\n",
        "        else:\n",
        "            ret = ((1 - t_oi_T) * (1 + r) ** T) / (1 - t_oi_0)\n",
        "    else:\n",
        "        print(\"Tax treatment not defined\")\n",
        "    return ret"
      ]
    },
    {
      "cell_type": "code",
      "execution_count": 4,
      "metadata": {},
      "outputs": [],
      "source": [
        "portfolios = {'portfolio1': portfolio1, 'portfolio2': portfolio2, 'portfolio3': portfolio3}\n",
        "totals = pd.DataFrame(dtype=float, index=1+np.arange(T), columns=list(portfolios.keys()))\n",
        "\n",
        "for p in totals.columns:\n",
        "    accounts = ['Brokerage','401k', 'Roth']\n",
        "    subaccts = ['Stock','Bond','Total']\n",
        "    cols = pd.MultiIndex.from_product([accounts,subaccts])\n",
        "    df = pd.DataFrame(dtype=float, index=1+np.arange(T), columns=cols)\n",
        "    for t in df.index:\n",
        "        for acct in accounts:\n",
        "            portfolio = portfolios[p]\n",
        "\n",
        "            wgt = portfolio[acct + \":Stock\"]\n",
        "            df.loc[t, (acct,'Stock')] = wgt * stockret(acct, t_oi_0, t_oi_T, t_div, t_cg, dy, cg, t)\n",
        "\n",
        "            wgt = portfolio[acct + \":Bond\"]\n",
        "            df.loc[t, (acct,'Bond')]  = wgt * bondret(acct, t_oi_0, t_oi_T, bndret, t)\n",
        "\n",
        "    for acct in accounts:\n",
        "        df[(acct,'Total')] = df[(acct,'Stock')] + df[(acct,'Bond')]\n",
        "    cols_to_sum = [(acct, 'Total') for acct in accounts] \n",
        "    df[(\"Overall\",'Total')] = df[cols_to_sum].sum(axis=1)   \n",
        "    totals[p] = df[(\"Overall\",'Total')]"
      ]
    },
    {
      "cell_type": "markdown",
      "metadata": {},
      "source": [
        "# FIGURE"
      ]
    },
    {
      "cell_type": "code",
      "execution_count": 5,
      "metadata": {},
      "outputs": [
        {
          "data": {
            "application/vnd.plotly.v1+json": {
              "config": {
                "plotlyServerURL": "https://plot.ly"
              },
              "data": [
                {
                  "mode": "lines",
                  "name": "Portfolio 1",
                  "type": "scatter",
                  "x": [
                    1,
                    2,
                    3,
                    4,
                    5,
                    6,
                    7,
                    8,
                    9,
                    10,
                    11,
                    12,
                    13,
                    14,
                    15,
                    16,
                    17,
                    18,
                    19,
                    20,
                    21,
                    22,
                    23,
                    24,
                    25,
                    26,
                    27,
                    28,
                    29,
                    30
                  ],
                  "y": [
                    1.03675,
                    1.073672875,
                    1.1123265023125,
                    1.1528022447138437,
                    1.19519653050157,
                    1.2396111394570577,
                    1.2861535050539878,
                    1.3349370338375766,
                    1.3860814429522423,
                    1.4397131168510697,
                    1.4959654842793157,
                    1.554979416686443,
                    1.6169036492869386,
                    1.6818952260597253,
                    1.7501199700494476,
                    1.8217529804106185,
                    1.896979157717709,
                    1.9759937591510655,
                    2.0590029852602703,
                    2.146224600103533,
                    2.2378885866641887,
                    2.334237839553719,
                    2.4355288971252214,
                    2.54203271524228,
                    2.6540354850761387,
                    2.7718394974392955,
                    2.895764056306572,
                    3.0261464443257915,
                    3.163342943279896,
                    3.3077299126311215
                  ]
                },
                {
                  "mode": "lines",
                  "name": "Portfolio 2",
                  "type": "scatter",
                  "x": [
                    1,
                    2,
                    3,
                    4,
                    5,
                    6,
                    7,
                    8,
                    9,
                    10,
                    11,
                    12,
                    13,
                    14,
                    15,
                    16,
                    17,
                    18,
                    19,
                    20,
                    21,
                    22,
                    23,
                    24,
                    25,
                    26,
                    27,
                    28,
                    29,
                    30
                  ],
                  "y": [
                    1.1197307692307692,
                    1.164511192307692,
                    1.211362772576923,
                    1.2603891261907307,
                    1.3116993422278331,
                    1.365408281654377,
                    1.4216368929358212,
                    1.4805125452371217,
                    1.5421693802017151,
                    1.6067486833558726,
                    1.674399276244297,
                    1.745277930465476,
                    1.819549804841519,
                    1.8973889070271825,
                    1.9789785809367197,
                    2.06451202144537,
                    2.154192817904871,
                    2.248235528099677,
                    2.3468662843628136,
                    2.4503234336677933,
                    2.5588582136160456,
                    2.672735466348224,
                    2.7922343925228175,
                    2.9176493476271466,
                    3.0492906830143376,
                    3.1874856341957716,
                    3.332579259062036,
                    3.4849354288571908,
                    3.6449378748915278,
                    3.8129912941475057
                  ]
                },
                {
                  "mode": "lines",
                  "name": "Portfolio 3",
                  "type": "scatter",
                  "x": [
                    1,
                    2,
                    3,
                    4,
                    5,
                    6,
                    7,
                    8,
                    9,
                    10,
                    11,
                    12,
                    13,
                    14,
                    15,
                    16,
                    17,
                    18,
                    19,
                    20,
                    21,
                    22,
                    23,
                    24,
                    25,
                    26,
                    27,
                    28,
                    29,
                    30
                  ],
                  "y": [
                    1.205769230769231,
                    1.2602884615384615,
                    1.3175440384615382,
                    1.3776840980769234,
                    1.4408651837884618,
                    1.5072527358375003,
                    1.577021610240133,
                    1.6503566284144955,
                    1.7274531593261178,
                    1.8085177360886404,
                    1.893768709073003,
                    1.9834369377009984,
                    2.077766523229182,
                    2.177015584967041,
                    2.281457082519494,
                    2.391379686798728,
                    2.507088702714557,
                    2.628907046626573,
                    2.7571762818257843,
                    2.8922577155089977,
                    3.0345335609164135,
                    3.18440816852258,
                    3.342309330403652,
                    3.5086896621506805,
                    3.684028066960214,
                    3.8688312868107344,
                    4.063635545927274,
                    4.269008292048042,
                    4.485550041337011,
                    4.7138963331363
                  ]
                }
              ],
              "layout": {
                "hovermode": "x unified",
                "legend": {
                  "x": 0.01,
                  "xanchor": "left",
                  "y": 0.99,
                  "yanchor": "top"
                },
                "template": {
                  "data": {
                    "bar": [
                      {
                        "error_x": {
                          "color": "#2a3f5f"
                        },
                        "error_y": {
                          "color": "#2a3f5f"
                        },
                        "marker": {
                          "line": {
                            "color": "#E5ECF6",
                            "width": 0.5
                          },
                          "pattern": {
                            "fillmode": "overlay",
                            "size": 10,
                            "solidity": 0.2
                          }
                        },
                        "type": "bar"
                      }
                    ],
                    "barpolar": [
                      {
                        "marker": {
                          "line": {
                            "color": "#E5ECF6",
                            "width": 0.5
                          },
                          "pattern": {
                            "fillmode": "overlay",
                            "size": 10,
                            "solidity": 0.2
                          }
                        },
                        "type": "barpolar"
                      }
                    ],
                    "carpet": [
                      {
                        "aaxis": {
                          "endlinecolor": "#2a3f5f",
                          "gridcolor": "white",
                          "linecolor": "white",
                          "minorgridcolor": "white",
                          "startlinecolor": "#2a3f5f"
                        },
                        "baxis": {
                          "endlinecolor": "#2a3f5f",
                          "gridcolor": "white",
                          "linecolor": "white",
                          "minorgridcolor": "white",
                          "startlinecolor": "#2a3f5f"
                        },
                        "type": "carpet"
                      }
                    ],
                    "choropleth": [
                      {
                        "colorbar": {
                          "outlinewidth": 0,
                          "ticks": ""
                        },
                        "type": "choropleth"
                      }
                    ],
                    "contour": [
                      {
                        "colorbar": {
                          "outlinewidth": 0,
                          "ticks": ""
                        },
                        "colorscale": [
                          [
                            0,
                            "#0d0887"
                          ],
                          [
                            0.1111111111111111,
                            "#46039f"
                          ],
                          [
                            0.2222222222222222,
                            "#7201a8"
                          ],
                          [
                            0.3333333333333333,
                            "#9c179e"
                          ],
                          [
                            0.4444444444444444,
                            "#bd3786"
                          ],
                          [
                            0.5555555555555556,
                            "#d8576b"
                          ],
                          [
                            0.6666666666666666,
                            "#ed7953"
                          ],
                          [
                            0.7777777777777778,
                            "#fb9f3a"
                          ],
                          [
                            0.8888888888888888,
                            "#fdca26"
                          ],
                          [
                            1,
                            "#f0f921"
                          ]
                        ],
                        "type": "contour"
                      }
                    ],
                    "contourcarpet": [
                      {
                        "colorbar": {
                          "outlinewidth": 0,
                          "ticks": ""
                        },
                        "type": "contourcarpet"
                      }
                    ],
                    "heatmap": [
                      {
                        "colorbar": {
                          "outlinewidth": 0,
                          "ticks": ""
                        },
                        "colorscale": [
                          [
                            0,
                            "#0d0887"
                          ],
                          [
                            0.1111111111111111,
                            "#46039f"
                          ],
                          [
                            0.2222222222222222,
                            "#7201a8"
                          ],
                          [
                            0.3333333333333333,
                            "#9c179e"
                          ],
                          [
                            0.4444444444444444,
                            "#bd3786"
                          ],
                          [
                            0.5555555555555556,
                            "#d8576b"
                          ],
                          [
                            0.6666666666666666,
                            "#ed7953"
                          ],
                          [
                            0.7777777777777778,
                            "#fb9f3a"
                          ],
                          [
                            0.8888888888888888,
                            "#fdca26"
                          ],
                          [
                            1,
                            "#f0f921"
                          ]
                        ],
                        "type": "heatmap"
                      }
                    ],
                    "heatmapgl": [
                      {
                        "colorbar": {
                          "outlinewidth": 0,
                          "ticks": ""
                        },
                        "colorscale": [
                          [
                            0,
                            "#0d0887"
                          ],
                          [
                            0.1111111111111111,
                            "#46039f"
                          ],
                          [
                            0.2222222222222222,
                            "#7201a8"
                          ],
                          [
                            0.3333333333333333,
                            "#9c179e"
                          ],
                          [
                            0.4444444444444444,
                            "#bd3786"
                          ],
                          [
                            0.5555555555555556,
                            "#d8576b"
                          ],
                          [
                            0.6666666666666666,
                            "#ed7953"
                          ],
                          [
                            0.7777777777777778,
                            "#fb9f3a"
                          ],
                          [
                            0.8888888888888888,
                            "#fdca26"
                          ],
                          [
                            1,
                            "#f0f921"
                          ]
                        ],
                        "type": "heatmapgl"
                      }
                    ],
                    "histogram": [
                      {
                        "marker": {
                          "pattern": {
                            "fillmode": "overlay",
                            "size": 10,
                            "solidity": 0.2
                          }
                        },
                        "type": "histogram"
                      }
                    ],
                    "histogram2d": [
                      {
                        "colorbar": {
                          "outlinewidth": 0,
                          "ticks": ""
                        },
                        "colorscale": [
                          [
                            0,
                            "#0d0887"
                          ],
                          [
                            0.1111111111111111,
                            "#46039f"
                          ],
                          [
                            0.2222222222222222,
                            "#7201a8"
                          ],
                          [
                            0.3333333333333333,
                            "#9c179e"
                          ],
                          [
                            0.4444444444444444,
                            "#bd3786"
                          ],
                          [
                            0.5555555555555556,
                            "#d8576b"
                          ],
                          [
                            0.6666666666666666,
                            "#ed7953"
                          ],
                          [
                            0.7777777777777778,
                            "#fb9f3a"
                          ],
                          [
                            0.8888888888888888,
                            "#fdca26"
                          ],
                          [
                            1,
                            "#f0f921"
                          ]
                        ],
                        "type": "histogram2d"
                      }
                    ],
                    "histogram2dcontour": [
                      {
                        "colorbar": {
                          "outlinewidth": 0,
                          "ticks": ""
                        },
                        "colorscale": [
                          [
                            0,
                            "#0d0887"
                          ],
                          [
                            0.1111111111111111,
                            "#46039f"
                          ],
                          [
                            0.2222222222222222,
                            "#7201a8"
                          ],
                          [
                            0.3333333333333333,
                            "#9c179e"
                          ],
                          [
                            0.4444444444444444,
                            "#bd3786"
                          ],
                          [
                            0.5555555555555556,
                            "#d8576b"
                          ],
                          [
                            0.6666666666666666,
                            "#ed7953"
                          ],
                          [
                            0.7777777777777778,
                            "#fb9f3a"
                          ],
                          [
                            0.8888888888888888,
                            "#fdca26"
                          ],
                          [
                            1,
                            "#f0f921"
                          ]
                        ],
                        "type": "histogram2dcontour"
                      }
                    ],
                    "mesh3d": [
                      {
                        "colorbar": {
                          "outlinewidth": 0,
                          "ticks": ""
                        },
                        "type": "mesh3d"
                      }
                    ],
                    "parcoords": [
                      {
                        "line": {
                          "colorbar": {
                            "outlinewidth": 0,
                            "ticks": ""
                          }
                        },
                        "type": "parcoords"
                      }
                    ],
                    "pie": [
                      {
                        "automargin": true,
                        "type": "pie"
                      }
                    ],
                    "scatter": [
                      {
                        "fillpattern": {
                          "fillmode": "overlay",
                          "size": 10,
                          "solidity": 0.2
                        },
                        "type": "scatter"
                      }
                    ],
                    "scatter3d": [
                      {
                        "line": {
                          "colorbar": {
                            "outlinewidth": 0,
                            "ticks": ""
                          }
                        },
                        "marker": {
                          "colorbar": {
                            "outlinewidth": 0,
                            "ticks": ""
                          }
                        },
                        "type": "scatter3d"
                      }
                    ],
                    "scattercarpet": [
                      {
                        "marker": {
                          "colorbar": {
                            "outlinewidth": 0,
                            "ticks": ""
                          }
                        },
                        "type": "scattercarpet"
                      }
                    ],
                    "scattergeo": [
                      {
                        "marker": {
                          "colorbar": {
                            "outlinewidth": 0,
                            "ticks": ""
                          }
                        },
                        "type": "scattergeo"
                      }
                    ],
                    "scattergl": [
                      {
                        "marker": {
                          "colorbar": {
                            "outlinewidth": 0,
                            "ticks": ""
                          }
                        },
                        "type": "scattergl"
                      }
                    ],
                    "scattermapbox": [
                      {
                        "marker": {
                          "colorbar": {
                            "outlinewidth": 0,
                            "ticks": ""
                          }
                        },
                        "type": "scattermapbox"
                      }
                    ],
                    "scatterpolar": [
                      {
                        "marker": {
                          "colorbar": {
                            "outlinewidth": 0,
                            "ticks": ""
                          }
                        },
                        "type": "scatterpolar"
                      }
                    ],
                    "scatterpolargl": [
                      {
                        "marker": {
                          "colorbar": {
                            "outlinewidth": 0,
                            "ticks": ""
                          }
                        },
                        "type": "scatterpolargl"
                      }
                    ],
                    "scatterternary": [
                      {
                        "marker": {
                          "colorbar": {
                            "outlinewidth": 0,
                            "ticks": ""
                          }
                        },
                        "type": "scatterternary"
                      }
                    ],
                    "surface": [
                      {
                        "colorbar": {
                          "outlinewidth": 0,
                          "ticks": ""
                        },
                        "colorscale": [
                          [
                            0,
                            "#0d0887"
                          ],
                          [
                            0.1111111111111111,
                            "#46039f"
                          ],
                          [
                            0.2222222222222222,
                            "#7201a8"
                          ],
                          [
                            0.3333333333333333,
                            "#9c179e"
                          ],
                          [
                            0.4444444444444444,
                            "#bd3786"
                          ],
                          [
                            0.5555555555555556,
                            "#d8576b"
                          ],
                          [
                            0.6666666666666666,
                            "#ed7953"
                          ],
                          [
                            0.7777777777777778,
                            "#fb9f3a"
                          ],
                          [
                            0.8888888888888888,
                            "#fdca26"
                          ],
                          [
                            1,
                            "#f0f921"
                          ]
                        ],
                        "type": "surface"
                      }
                    ],
                    "table": [
                      {
                        "cells": {
                          "fill": {
                            "color": "#EBF0F8"
                          },
                          "line": {
                            "color": "white"
                          }
                        },
                        "header": {
                          "fill": {
                            "color": "#C8D4E3"
                          },
                          "line": {
                            "color": "white"
                          }
                        },
                        "type": "table"
                      }
                    ]
                  },
                  "layout": {
                    "annotationdefaults": {
                      "arrowcolor": "#2a3f5f",
                      "arrowhead": 0,
                      "arrowwidth": 1
                    },
                    "autotypenumbers": "strict",
                    "coloraxis": {
                      "colorbar": {
                        "outlinewidth": 0,
                        "ticks": ""
                      }
                    },
                    "colorscale": {
                      "diverging": [
                        [
                          0,
                          "#8e0152"
                        ],
                        [
                          0.1,
                          "#c51b7d"
                        ],
                        [
                          0.2,
                          "#de77ae"
                        ],
                        [
                          0.3,
                          "#f1b6da"
                        ],
                        [
                          0.4,
                          "#fde0ef"
                        ],
                        [
                          0.5,
                          "#f7f7f7"
                        ],
                        [
                          0.6,
                          "#e6f5d0"
                        ],
                        [
                          0.7,
                          "#b8e186"
                        ],
                        [
                          0.8,
                          "#7fbc41"
                        ],
                        [
                          0.9,
                          "#4d9221"
                        ],
                        [
                          1,
                          "#276419"
                        ]
                      ],
                      "sequential": [
                        [
                          0,
                          "#0d0887"
                        ],
                        [
                          0.1111111111111111,
                          "#46039f"
                        ],
                        [
                          0.2222222222222222,
                          "#7201a8"
                        ],
                        [
                          0.3333333333333333,
                          "#9c179e"
                        ],
                        [
                          0.4444444444444444,
                          "#bd3786"
                        ],
                        [
                          0.5555555555555556,
                          "#d8576b"
                        ],
                        [
                          0.6666666666666666,
                          "#ed7953"
                        ],
                        [
                          0.7777777777777778,
                          "#fb9f3a"
                        ],
                        [
                          0.8888888888888888,
                          "#fdca26"
                        ],
                        [
                          1,
                          "#f0f921"
                        ]
                      ],
                      "sequentialminus": [
                        [
                          0,
                          "#0d0887"
                        ],
                        [
                          0.1111111111111111,
                          "#46039f"
                        ],
                        [
                          0.2222222222222222,
                          "#7201a8"
                        ],
                        [
                          0.3333333333333333,
                          "#9c179e"
                        ],
                        [
                          0.4444444444444444,
                          "#bd3786"
                        ],
                        [
                          0.5555555555555556,
                          "#d8576b"
                        ],
                        [
                          0.6666666666666666,
                          "#ed7953"
                        ],
                        [
                          0.7777777777777778,
                          "#fb9f3a"
                        ],
                        [
                          0.8888888888888888,
                          "#fdca26"
                        ],
                        [
                          1,
                          "#f0f921"
                        ]
                      ]
                    },
                    "colorway": [
                      "#636efa",
                      "#EF553B",
                      "#00cc96",
                      "#ab63fa",
                      "#FFA15A",
                      "#19d3f3",
                      "#FF6692",
                      "#B6E880",
                      "#FF97FF",
                      "#FECB52"
                    ],
                    "font": {
                      "color": "#2a3f5f"
                    },
                    "geo": {
                      "bgcolor": "white",
                      "lakecolor": "white",
                      "landcolor": "#E5ECF6",
                      "showlakes": true,
                      "showland": true,
                      "subunitcolor": "white"
                    },
                    "hoverlabel": {
                      "align": "left"
                    },
                    "hovermode": "closest",
                    "mapbox": {
                      "style": "light"
                    },
                    "paper_bgcolor": "white",
                    "plot_bgcolor": "#E5ECF6",
                    "polar": {
                      "angularaxis": {
                        "gridcolor": "white",
                        "linecolor": "white",
                        "ticks": ""
                      },
                      "bgcolor": "#E5ECF6",
                      "radialaxis": {
                        "gridcolor": "white",
                        "linecolor": "white",
                        "ticks": ""
                      }
                    },
                    "scene": {
                      "xaxis": {
                        "backgroundcolor": "#E5ECF6",
                        "gridcolor": "white",
                        "gridwidth": 2,
                        "linecolor": "white",
                        "showbackground": true,
                        "ticks": "",
                        "zerolinecolor": "white"
                      },
                      "yaxis": {
                        "backgroundcolor": "#E5ECF6",
                        "gridcolor": "white",
                        "gridwidth": 2,
                        "linecolor": "white",
                        "showbackground": true,
                        "ticks": "",
                        "zerolinecolor": "white"
                      },
                      "zaxis": {
                        "backgroundcolor": "#E5ECF6",
                        "gridcolor": "white",
                        "gridwidth": 2,
                        "linecolor": "white",
                        "showbackground": true,
                        "ticks": "",
                        "zerolinecolor": "white"
                      }
                    },
                    "shapedefaults": {
                      "line": {
                        "color": "#2a3f5f"
                      }
                    },
                    "ternary": {
                      "aaxis": {
                        "gridcolor": "white",
                        "linecolor": "white",
                        "ticks": ""
                      },
                      "baxis": {
                        "gridcolor": "white",
                        "linecolor": "white",
                        "ticks": ""
                      },
                      "bgcolor": "#E5ECF6",
                      "caxis": {
                        "gridcolor": "white",
                        "linecolor": "white",
                        "ticks": ""
                      }
                    },
                    "title": {
                      "x": 0.05
                    },
                    "xaxis": {
                      "automargin": true,
                      "gridcolor": "white",
                      "linecolor": "white",
                      "ticks": "",
                      "title": {
                        "standoff": 15
                      },
                      "zerolinecolor": "white",
                      "zerolinewidth": 2
                    },
                    "yaxis": {
                      "automargin": true,
                      "gridcolor": "white",
                      "linecolor": "white",
                      "ticks": "",
                      "title": {
                        "standoff": 15
                      },
                      "zerolinecolor": "white",
                      "zerolinewidth": 2
                    }
                  }
                },
                "xaxis": {
                  "tickformat": ",.0f",
                  "title": {
                    "text": "Year of Withdrawal"
                  }
                },
                "yaxis": {
                  "tickformat": "$,.2f",
                  "title": {
                    "text": "After-Tax FV"
                  }
                }
              }
            }
          },
          "metadata": {},
          "output_type": "display_data"
        }
      ],
      "source": [
        "import plotly.graph_objects as go\n",
        "\n",
        "fig = go.Figure()\n",
        "\n",
        "fig.add_trace(go.Scatter(x=totals.index, y=totals.portfolio1, mode=\"lines\", name=\"Portfolio 1\"))\n",
        "fig.add_trace(go.Scatter(x=totals.index, y=totals.portfolio2, mode=\"lines\", name=\"Portfolio 2\"))\n",
        "fig.add_trace(go.Scatter(x=totals.index, y=totals.portfolio3, mode=\"lines\", name=\"Portfolio 3\"))\n",
        "fig.update_xaxes(title=\"Year of Withdrawal\", tickformat=\",.0f\")\n",
        "fig.update_yaxes(title=\"After-Tax FV\", tickformat=\"$,.2f\")\n",
        "fig.update_layout(hovermode=\"x unified\")\n",
        "fig.update_layout(legend=dict(yanchor=\"top\", y=0.99, xanchor=\"left\", x=0.01))\n",
        "fig.show()"
      ]
    },
    {
      "cell_type": "code",
      "execution_count": null,
      "metadata": {},
      "outputs": [],
      "source": []
    }
  ],
  "metadata": {
    "colab": {
      "authorship_tag": "ABX9TyONwEdp/i913CJHyj47Un3e",
      "include_colab_link": true,
      "name": "tax_location_detail.ipynb",
      "provenance": []
    },
    "kernelspec": {
      "display_name": "Python 3",
      "name": "python3"
    },
    "language_info": {
      "codemirror_mode": {
        "name": "ipython",
        "version": 3
      },
      "file_extension": ".py",
      "mimetype": "text/x-python",
      "name": "python",
      "nbconvert_exporter": "python",
      "pygments_lexer": "ipython3",
      "version": "3.10.6"
    }
  },
  "nbformat": 4,
  "nbformat_minor": 0
}
