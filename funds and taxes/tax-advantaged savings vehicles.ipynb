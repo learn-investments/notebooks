{
  "cells": [
    {
      "attachments": {},
      "cell_type": "markdown",
      "metadata": {
        "colab_type": "text",
        "id": "view-in-github"
      },
      "source": [
        "<a href=\"https://colab.research.google.com/github/bbcx-investments/notebooks/blob/main/taxes/tax_vehicles.ipynb\" target=\"_parent\"><img src=\"https://colab.research.google.com/assets/colab-badge.svg\" alt=\"Open In Colab\"/></a>"
      ]
    },
    {
      "attachments": {},
      "cell_type": "markdown",
      "metadata": {},
      "source": [
        "## Tax-advantaged Savings Vehicles\n",
        "\n",
        "- Assumes taxes are constant from $t=0$ to $t=T-1$ and then jump at $t=T$.\n",
        "- Assumes constant rate of return"
      ]
    },
    {
      "cell_type": "code",
      "execution_count": 1,
      "metadata": {
        "colab": {
          "base_uri": "https://localhost:8080/"
        },
        "id": "mNm7ceXwiJ_k",
        "outputId": "9559866c-8d0c-449b-be7a-3aa0eebf7d7e"
      },
      "outputs": [],
      "source": [
        "import pandas as pd\n",
        "import numpy as np"
      ]
    },
    {
      "attachments": {},
      "cell_type": "markdown",
      "metadata": {},
      "source": [
        "Parameters"
      ]
    },
    {
      "cell_type": "code",
      "execution_count": 2,
      "metadata": {},
      "outputs": [],
      "source": [
        "T_OI_0 = 0.35   # Initial tax rate on ordinary income\n",
        "T_CG_0 = 0.20   # Initial tax rate on capital gains\n",
        "T_OI_T = 0.25   # Ending tax rate on ordinary income\n",
        "T_CG_T = 0.20   # Ending tax rate on capital gains\n",
        "RET    = 0.10   # Annual rate of return \n",
        "T      = 30     # Years saving  "
      ]
    },
    {
      "attachments": {},
      "cell_type": "markdown",
      "metadata": {},
      "source": [
        "### Post-tax future values"
      ]
    },
    {
      "cell_type": "code",
      "execution_count": 3,
      "metadata": {},
      "outputs": [
        {
          "name": "stdout",
          "output_type": "stream",
          "text": [
            "$6.68\n"
          ]
        }
      ],
      "source": [
        "# Future value of $1 invested in a taxable account (returns taxed each year)\n",
        "fv  = (1 + RET * (1 - T_OI_0)) ** (T - 1) * (1 + RET * (1 - T_OI_T))\n",
        "print(f'${fv:,.2f}')"
      ]
    },
    {
      "cell_type": "code",
      "execution_count": 4,
      "metadata": {
        "colab": {
          "base_uri": "https://localhost:8080/"
        },
        "id": "QMC_z8xgilO7",
        "outputId": "5e707756-6eda-48f8-d5b7-d9e3eb7a12b9"
      },
      "outputs": [
        {
          "name": "stdout",
          "output_type": "stream",
          "text": [
            "$13.34\n"
          ]
        }
      ],
      "source": [
        "# Future value of $1 invested in a non-deductible IRA\n",
        "fv = (1 - T_OI_T) * (1 + RET) ** T + T_OI_T\n",
        "print(f'${fv:,.2f}')"
      ]
    },
    {
      "cell_type": "code",
      "execution_count": 5,
      "metadata": {
        "colab": {
          "base_uri": "https://localhost:8080/"
        },
        "id": "q36a6at2iu_8",
        "outputId": "22c33e5a-808c-4cc4-faf3-ac92603e4dbb"
      },
      "outputs": [
        {
          "name": "stdout",
          "output_type": "stream",
          "text": [
            "$17.45\n"
          ]
        }
      ],
      "source": [
        "# Future value of $1 invested in a Roth IRA/529 Plan\n",
        "fv = (1 + RET) ** T\n",
        "print(f'${fv:,.2f}')"
      ]
    },
    {
      "cell_type": "code",
      "execution_count": 6,
      "metadata": {
        "colab": {
          "base_uri": "https://localhost:8080/"
        },
        "id": "1EH6ZpaFi1vD",
        "outputId": "18db5814-96ec-41c5-fbb1-84df9db0bade"
      },
      "outputs": [
        {
          "name": "stdout",
          "output_type": "stream",
          "text": [
            "$20.13\n"
          ]
        }
      ],
      "source": [
        "# Future value of $1 invested in a deductible IRA/401(k)/403(b)\n",
        "fv = ((1 - T_OI_T) * (1 + RET) ** T) / (1 - T_OI_0)\n",
        "print(f'${fv:,.2f}')"
      ]
    },
    {
      "cell_type": "code",
      "execution_count": 7,
      "metadata": {
        "id": "UKfAwy4yi7jW"
      },
      "outputs": [
        {
          "name": "stdout",
          "output_type": "stream",
          "text": [
            "$14.16\n"
          ]
        }
      ],
      "source": [
        "# Future value of $1 invested in non-dividend/interest-paying asset in a taxable account\n",
        "fv = (1-T_CG_T)* (1+RET)**T  + T_CG_T\n",
        "print(f'${fv:,.2f}')"
      ]
    },
    {
      "cell_type": "code",
      "execution_count": null,
      "metadata": {},
      "outputs": [],
      "source": []
    }
  ],
  "metadata": {
    "colab": {
      "authorship_tag": "ABX9TyNbPUKYSkEfMCWvxgivMXpN",
      "include_colab_link": true,
      "name": "tax_vehicles.ipynb",
      "provenance": []
    },
    "kernelspec": {
      "display_name": "Python 3",
      "name": "python3"
    },
    "language_info": {
      "codemirror_mode": {
        "name": "ipython",
        "version": 3
      },
      "file_extension": ".py",
      "mimetype": "text/x-python",
      "name": "python",
      "nbconvert_exporter": "python",
      "pygments_lexer": "ipython3",
      "version": "3.10.4"
    }
  },
  "nbformat": 4,
  "nbformat_minor": 0
}
