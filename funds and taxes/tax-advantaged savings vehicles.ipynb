{
  "cells": [
    {
      "cell_type": "markdown",
      "metadata": {},
      "source": [
        "# EXAMPLE DATA"
      ]
    },
    {
      "cell_type": "code",
      "execution_count": 1,
      "metadata": {},
      "outputs": [],
      "source": [
        "T_OI_0 = 0.35   # Initial tax rate on ordinary income\n",
        "T_OI_T = 0.30   # Ending tax rate on ordinary income\n",
        "RET    = 0.06   # Annual rate of return (pre-tax)\n",
        "T      = 30     # Years saving  "
      ]
    },
    {
      "attachments": {},
      "cell_type": "markdown",
      "metadata": {},
      "source": [
        "# CALCULATIONS"
      ]
    },
    {
      "cell_type": "code",
      "execution_count": 2,
      "metadata": {
        "colab": {
          "base_uri": "https://localhost:8080/"
        },
        "id": "mNm7ceXwiJ_k",
        "outputId": "9559866c-8d0c-449b-be7a-3aa0eebf7d7e"
      },
      "outputs": [],
      "source": [
        "import pandas as pd\n",
        "import numpy as np\n",
        "\n",
        "def post_tax_return(tax_treat, t_oi_0, t_oi_T, r, T):\n",
        "    '''\n",
        "    tax_treat: ['no_advantage', 'nondeductible_ira','roth','401k']\n",
        "    Assumes taxes are constant from t=0 to t=T-1 and then jump at t=T\n",
        "    Assumes constant rate of return\n",
        "    '''\n",
        "    if tax_treat == \"no_advantage\":\n",
        "        ret = (1 + r * (1 - t_oi_0)) ** (T - 1) * (1 + r * (1 - t_oi_T))\n",
        "    elif tax_treat == \"nondeductible_ira\":\n",
        "        ret = (1 - t_oi_T) * (1 + r) ** T + t_oi_T\n",
        "    elif tax_treat == \"roth\":\n",
        "        ret = (1 + r) ** T\n",
        "    elif tax_treat == \"401k\":\n",
        "        if T == 0:\n",
        "            ret = ((1 - t_oi_0) * (1 + r) ** T) / (1 - t_oi_0)\n",
        "        else:\n",
        "            ret = ((1 - t_oi_T) * (1 + r) ** T) / (1 - t_oi_0)\n",
        "    else:\n",
        "        print(\"Tax treatment not defined\")\n",
        "    return ret\n",
        "\n",
        "cols = [\"401k\", \"roth\", \"nondeductible_ira\", \"no_advantage\"]\n",
        "df = pd.DataFrame(dtype=float, index=np.arange(T + 1), columns=cols)\n",
        "for t in np.arange(T + 1):\n",
        "    for c in cols:\n",
        "        df.loc[t, c] = post_tax_return(c, T_OI_0, T_OI_T, RET, t)            \n",
        "df.columns = [\"401k\", \"Roth\", \"Non-Deductible IRA\", \"No Advantage\"]\n",
        "df = df.stack().reset_index()\n",
        "df.columns = [\"Year\", \"Vehicle\", \"Withdrawal\"]\n"
      ]
    },
    {
      "cell_type": "markdown",
      "metadata": {},
      "source": [
        "# FIGURE"
      ]
    },
    {
      "cell_type": "code",
      "execution_count": 3,
      "metadata": {},
      "outputs": [
        {
          "data": {
            "application/vnd.plotly.v1+json": {
              "config": {
                "plotlyServerURL": "https://plot.ly"
              },
              "data": [
                {
                  "customdata": [
                    [
                      "401k"
                    ],
                    [
                      "401k"
                    ],
                    [
                      "401k"
                    ],
                    [
                      "401k"
                    ],
                    [
                      "401k"
                    ],
                    [
                      "401k"
                    ],
                    [
                      "401k"
                    ],
                    [
                      "401k"
                    ],
                    [
                      "401k"
                    ],
                    [
                      "401k"
                    ],
                    [
                      "401k"
                    ],
                    [
                      "401k"
                    ],
                    [
                      "401k"
                    ],
                    [
                      "401k"
                    ],
                    [
                      "401k"
                    ],
                    [
                      "401k"
                    ],
                    [
                      "401k"
                    ],
                    [
                      "401k"
                    ],
                    [
                      "401k"
                    ],
                    [
                      "401k"
                    ],
                    [
                      "401k"
                    ],
                    [
                      "401k"
                    ],
                    [
                      "401k"
                    ],
                    [
                      "401k"
                    ],
                    [
                      "401k"
                    ],
                    [
                      "401k"
                    ],
                    [
                      "401k"
                    ],
                    [
                      "401k"
                    ],
                    [
                      "401k"
                    ],
                    [
                      "401k"
                    ],
                    [
                      "401k"
                    ]
                  ],
                  "hovertemplate": "%{customdata}<br>$%{y:,.2f}<extra></extra>",
                  "legendgroup": "401k",
                  "line": {
                    "color": "#636efa",
                    "dash": "solid"
                  },
                  "marker": {
                    "symbol": "circle"
                  },
                  "mode": "lines",
                  "name": "401k",
                  "orientation": "v",
                  "showlegend": true,
                  "type": "scatter",
                  "x": [
                    0,
                    1,
                    2,
                    3,
                    4,
                    5,
                    6,
                    7,
                    8,
                    9,
                    10,
                    11,
                    12,
                    13,
                    14,
                    15,
                    16,
                    17,
                    18,
                    19,
                    20,
                    21,
                    22,
                    23,
                    24,
                    25,
                    26,
                    27,
                    28,
                    29,
                    30
                  ],
                  "xaxis": "x",
                  "y": [
                    1,
                    1.1415384615384614,
                    1.2100307692307695,
                    1.2826326153846153,
                    1.3595905723076926,
                    1.441166006646154,
                    1.5276359670449233,
                    1.6192941250676187,
                    1.716451772571676,
                    1.8194388789259766,
                    1.9286052116615353,
                    2.0443215243612274,
                    2.1669808158229014,
                    2.296999664772276,
                    2.4348196446586123,
                    2.580908823338129,
                    2.735763352738417,
                    2.8999091539027217,
                    3.073903703136886,
                    3.258337925325099,
                    3.453838200844605,
                    3.6610684928952817,
                    3.880732602468999,
                    4.1135765586171384,
                    4.360391152134167,
                    4.622014621262218,
                    4.899335498537951,
                    5.193295628450228,
                    5.5048933661572415,
                    5.835186968126677,
                    6.185298186214277
                  ],
                  "yaxis": "y"
                },
                {
                  "customdata": [
                    [
                      "Roth"
                    ],
                    [
                      "Roth"
                    ],
                    [
                      "Roth"
                    ],
                    [
                      "Roth"
                    ],
                    [
                      "Roth"
                    ],
                    [
                      "Roth"
                    ],
                    [
                      "Roth"
                    ],
                    [
                      "Roth"
                    ],
                    [
                      "Roth"
                    ],
                    [
                      "Roth"
                    ],
                    [
                      "Roth"
                    ],
                    [
                      "Roth"
                    ],
                    [
                      "Roth"
                    ],
                    [
                      "Roth"
                    ],
                    [
                      "Roth"
                    ],
                    [
                      "Roth"
                    ],
                    [
                      "Roth"
                    ],
                    [
                      "Roth"
                    ],
                    [
                      "Roth"
                    ],
                    [
                      "Roth"
                    ],
                    [
                      "Roth"
                    ],
                    [
                      "Roth"
                    ],
                    [
                      "Roth"
                    ],
                    [
                      "Roth"
                    ],
                    [
                      "Roth"
                    ],
                    [
                      "Roth"
                    ],
                    [
                      "Roth"
                    ],
                    [
                      "Roth"
                    ],
                    [
                      "Roth"
                    ],
                    [
                      "Roth"
                    ],
                    [
                      "Roth"
                    ]
                  ],
                  "hovertemplate": "%{customdata}<br>$%{y:,.2f}<extra></extra>",
                  "legendgroup": "Roth",
                  "line": {
                    "color": "#EF553B",
                    "dash": "solid"
                  },
                  "marker": {
                    "symbol": "circle"
                  },
                  "mode": "lines",
                  "name": "Roth",
                  "orientation": "v",
                  "showlegend": true,
                  "type": "scatter",
                  "x": [
                    0,
                    1,
                    2,
                    3,
                    4,
                    5,
                    6,
                    7,
                    8,
                    9,
                    10,
                    11,
                    12,
                    13,
                    14,
                    15,
                    16,
                    17,
                    18,
                    19,
                    20,
                    21,
                    22,
                    23,
                    24,
                    25,
                    26,
                    27,
                    28,
                    29,
                    30
                  ],
                  "xaxis": "x",
                  "y": [
                    1,
                    1.06,
                    1.1236000000000002,
                    1.191016,
                    1.2624769600000003,
                    1.3382255776000003,
                    1.4185191122560004,
                    1.5036302589913606,
                    1.5938480745308423,
                    1.6894789590026928,
                    1.7908476965428546,
                    1.898298558335426,
                    2.0121964718355514,
                    2.1329282601456847,
                    2.260903955754426,
                    2.3965581930996915,
                    2.5403516846856733,
                    2.6927727857668136,
                    2.854339152912823,
                    3.025599502087592,
                    3.207135472212848,
                    3.399563600545619,
                    3.6035374165783565,
                    3.819749661573058,
                    4.048934641267442,
                    4.291870719743488,
                    4.549382962928098,
                    4.822345940703784,
                    5.111686697146011,
                    5.418387898974772,
                    5.7434911729132585
                  ],
                  "yaxis": "y"
                },
                {
                  "customdata": [
                    [
                      "Non-Deductible IRA"
                    ],
                    [
                      "Non-Deductible IRA"
                    ],
                    [
                      "Non-Deductible IRA"
                    ],
                    [
                      "Non-Deductible IRA"
                    ],
                    [
                      "Non-Deductible IRA"
                    ],
                    [
                      "Non-Deductible IRA"
                    ],
                    [
                      "Non-Deductible IRA"
                    ],
                    [
                      "Non-Deductible IRA"
                    ],
                    [
                      "Non-Deductible IRA"
                    ],
                    [
                      "Non-Deductible IRA"
                    ],
                    [
                      "Non-Deductible IRA"
                    ],
                    [
                      "Non-Deductible IRA"
                    ],
                    [
                      "Non-Deductible IRA"
                    ],
                    [
                      "Non-Deductible IRA"
                    ],
                    [
                      "Non-Deductible IRA"
                    ],
                    [
                      "Non-Deductible IRA"
                    ],
                    [
                      "Non-Deductible IRA"
                    ],
                    [
                      "Non-Deductible IRA"
                    ],
                    [
                      "Non-Deductible IRA"
                    ],
                    [
                      "Non-Deductible IRA"
                    ],
                    [
                      "Non-Deductible IRA"
                    ],
                    [
                      "Non-Deductible IRA"
                    ],
                    [
                      "Non-Deductible IRA"
                    ],
                    [
                      "Non-Deductible IRA"
                    ],
                    [
                      "Non-Deductible IRA"
                    ],
                    [
                      "Non-Deductible IRA"
                    ],
                    [
                      "Non-Deductible IRA"
                    ],
                    [
                      "Non-Deductible IRA"
                    ],
                    [
                      "Non-Deductible IRA"
                    ],
                    [
                      "Non-Deductible IRA"
                    ],
                    [
                      "Non-Deductible IRA"
                    ]
                  ],
                  "hovertemplate": "%{customdata}<br>$%{y:,.2f}<extra></extra>",
                  "legendgroup": "Non-Deductible IRA",
                  "line": {
                    "color": "#00cc96",
                    "dash": "solid"
                  },
                  "marker": {
                    "symbol": "circle"
                  },
                  "mode": "lines",
                  "name": "Non-Deductible IRA",
                  "orientation": "v",
                  "showlegend": true,
                  "type": "scatter",
                  "x": [
                    0,
                    1,
                    2,
                    3,
                    4,
                    5,
                    6,
                    7,
                    8,
                    9,
                    10,
                    11,
                    12,
                    13,
                    14,
                    15,
                    16,
                    17,
                    18,
                    19,
                    20,
                    21,
                    22,
                    23,
                    24,
                    25,
                    26,
                    27,
                    28,
                    29,
                    30
                  ],
                  "xaxis": "x",
                  "y": [
                    1,
                    1.042,
                    1.0865200000000002,
                    1.1337112,
                    1.1837338720000001,
                    1.23675790432,
                    1.2929633785792,
                    1.3525411812939523,
                    1.4156936521715895,
                    1.4826352713018849,
                    1.553593387579998,
                    1.628808990834798,
                    1.708537530284886,
                    1.7930497821019793,
                    1.8826327690280982,
                    1.9775907351697841,
                    2.078246179279971,
                    2.1849409500367694,
                    2.2980374070389757,
                    2.417919651461314,
                    2.544994830548993,
                    2.679694520381933,
                    2.8224761916048493,
                    2.97382476310114,
                    3.134254248887209,
                    3.3043095038204413,
                    3.484568074049668,
                    3.675642158492648,
                    3.878180688002207,
                    4.09287152928234,
                    4.32044382103928
                  ],
                  "yaxis": "y"
                },
                {
                  "customdata": [
                    [
                      "No Advantage"
                    ],
                    [
                      "No Advantage"
                    ],
                    [
                      "No Advantage"
                    ],
                    [
                      "No Advantage"
                    ],
                    [
                      "No Advantage"
                    ],
                    [
                      "No Advantage"
                    ],
                    [
                      "No Advantage"
                    ],
                    [
                      "No Advantage"
                    ],
                    [
                      "No Advantage"
                    ],
                    [
                      "No Advantage"
                    ],
                    [
                      "No Advantage"
                    ],
                    [
                      "No Advantage"
                    ],
                    [
                      "No Advantage"
                    ],
                    [
                      "No Advantage"
                    ],
                    [
                      "No Advantage"
                    ],
                    [
                      "No Advantage"
                    ],
                    [
                      "No Advantage"
                    ],
                    [
                      "No Advantage"
                    ],
                    [
                      "No Advantage"
                    ],
                    [
                      "No Advantage"
                    ],
                    [
                      "No Advantage"
                    ],
                    [
                      "No Advantage"
                    ],
                    [
                      "No Advantage"
                    ],
                    [
                      "No Advantage"
                    ],
                    [
                      "No Advantage"
                    ],
                    [
                      "No Advantage"
                    ],
                    [
                      "No Advantage"
                    ],
                    [
                      "No Advantage"
                    ],
                    [
                      "No Advantage"
                    ],
                    [
                      "No Advantage"
                    ],
                    [
                      "No Advantage"
                    ]
                  ],
                  "hovertemplate": "%{customdata}<br>$%{y:,.2f}<extra></extra>",
                  "legendgroup": "No Advantage",
                  "line": {
                    "color": "#ab63fa",
                    "dash": "solid"
                  },
                  "marker": {
                    "symbol": "circle"
                  },
                  "mode": "lines",
                  "name": "No Advantage",
                  "orientation": "v",
                  "showlegend": true,
                  "type": "scatter",
                  "x": [
                    0,
                    1,
                    2,
                    3,
                    4,
                    5,
                    6,
                    7,
                    8,
                    9,
                    10,
                    11,
                    12,
                    13,
                    14,
                    15,
                    16,
                    17,
                    18,
                    19,
                    20,
                    21,
                    22,
                    23,
                    24,
                    25,
                    26,
                    27,
                    28,
                    29,
                    30
                  ],
                  "xaxis": "x",
                  "y": [
                    1.0028873917228105,
                    1.042,
                    1.082638,
                    1.1248608819999997,
                    1.1687304563979997,
                    1.2143109441975215,
                    1.261669071021225,
                    1.3108741647910525,
                    1.3619982572179035,
                    1.4151161892494017,
                    1.4703057206301282,
                    1.527647643734703,
                    1.5872259018403565,
                    1.6491277120121304,
                    1.7134436927806032,
                    1.7802679967990467,
                    1.8496984486742092,
                    1.9218366881725033,
                    1.9967883190112308,
                    2.0746630634526686,
                    2.1555749229273222,
                    2.239642344921488,
                    2.3269883963734257,
                    2.4177409438319892,
                    2.5120328406414365,
                    2.6100021214264526,
                    2.7117922041620837,
                    2.8175521001244053,
                    2.927436632029256,
                    3.041606660678397,
                    3.1602293204448544
                  ],
                  "yaxis": "y"
                }
              ],
              "layout": {
                "hovermode": "x unified",
                "legend": {
                  "title": {
                    "text": ""
                  },
                  "tracegroupgap": 0,
                  "x": 0.01,
                  "xanchor": "left",
                  "y": 0.99,
                  "yanchor": "top"
                },
                "margin": {
                  "t": 60
                },
                "template": {
                  "data": {
                    "bar": [
                      {
                        "error_x": {
                          "color": "#2a3f5f"
                        },
                        "error_y": {
                          "color": "#2a3f5f"
                        },
                        "marker": {
                          "line": {
                            "color": "#E5ECF6",
                            "width": 0.5
                          },
                          "pattern": {
                            "fillmode": "overlay",
                            "size": 10,
                            "solidity": 0.2
                          }
                        },
                        "type": "bar"
                      }
                    ],
                    "barpolar": [
                      {
                        "marker": {
                          "line": {
                            "color": "#E5ECF6",
                            "width": 0.5
                          },
                          "pattern": {
                            "fillmode": "overlay",
                            "size": 10,
                            "solidity": 0.2
                          }
                        },
                        "type": "barpolar"
                      }
                    ],
                    "carpet": [
                      {
                        "aaxis": {
                          "endlinecolor": "#2a3f5f",
                          "gridcolor": "white",
                          "linecolor": "white",
                          "minorgridcolor": "white",
                          "startlinecolor": "#2a3f5f"
                        },
                        "baxis": {
                          "endlinecolor": "#2a3f5f",
                          "gridcolor": "white",
                          "linecolor": "white",
                          "minorgridcolor": "white",
                          "startlinecolor": "#2a3f5f"
                        },
                        "type": "carpet"
                      }
                    ],
                    "choropleth": [
                      {
                        "colorbar": {
                          "outlinewidth": 0,
                          "ticks": ""
                        },
                        "type": "choropleth"
                      }
                    ],
                    "contour": [
                      {
                        "colorbar": {
                          "outlinewidth": 0,
                          "ticks": ""
                        },
                        "colorscale": [
                          [
                            0,
                            "#0d0887"
                          ],
                          [
                            0.1111111111111111,
                            "#46039f"
                          ],
                          [
                            0.2222222222222222,
                            "#7201a8"
                          ],
                          [
                            0.3333333333333333,
                            "#9c179e"
                          ],
                          [
                            0.4444444444444444,
                            "#bd3786"
                          ],
                          [
                            0.5555555555555556,
                            "#d8576b"
                          ],
                          [
                            0.6666666666666666,
                            "#ed7953"
                          ],
                          [
                            0.7777777777777778,
                            "#fb9f3a"
                          ],
                          [
                            0.8888888888888888,
                            "#fdca26"
                          ],
                          [
                            1,
                            "#f0f921"
                          ]
                        ],
                        "type": "contour"
                      }
                    ],
                    "contourcarpet": [
                      {
                        "colorbar": {
                          "outlinewidth": 0,
                          "ticks": ""
                        },
                        "type": "contourcarpet"
                      }
                    ],
                    "heatmap": [
                      {
                        "colorbar": {
                          "outlinewidth": 0,
                          "ticks": ""
                        },
                        "colorscale": [
                          [
                            0,
                            "#0d0887"
                          ],
                          [
                            0.1111111111111111,
                            "#46039f"
                          ],
                          [
                            0.2222222222222222,
                            "#7201a8"
                          ],
                          [
                            0.3333333333333333,
                            "#9c179e"
                          ],
                          [
                            0.4444444444444444,
                            "#bd3786"
                          ],
                          [
                            0.5555555555555556,
                            "#d8576b"
                          ],
                          [
                            0.6666666666666666,
                            "#ed7953"
                          ],
                          [
                            0.7777777777777778,
                            "#fb9f3a"
                          ],
                          [
                            0.8888888888888888,
                            "#fdca26"
                          ],
                          [
                            1,
                            "#f0f921"
                          ]
                        ],
                        "type": "heatmap"
                      }
                    ],
                    "heatmapgl": [
                      {
                        "colorbar": {
                          "outlinewidth": 0,
                          "ticks": ""
                        },
                        "colorscale": [
                          [
                            0,
                            "#0d0887"
                          ],
                          [
                            0.1111111111111111,
                            "#46039f"
                          ],
                          [
                            0.2222222222222222,
                            "#7201a8"
                          ],
                          [
                            0.3333333333333333,
                            "#9c179e"
                          ],
                          [
                            0.4444444444444444,
                            "#bd3786"
                          ],
                          [
                            0.5555555555555556,
                            "#d8576b"
                          ],
                          [
                            0.6666666666666666,
                            "#ed7953"
                          ],
                          [
                            0.7777777777777778,
                            "#fb9f3a"
                          ],
                          [
                            0.8888888888888888,
                            "#fdca26"
                          ],
                          [
                            1,
                            "#f0f921"
                          ]
                        ],
                        "type": "heatmapgl"
                      }
                    ],
                    "histogram": [
                      {
                        "marker": {
                          "pattern": {
                            "fillmode": "overlay",
                            "size": 10,
                            "solidity": 0.2
                          }
                        },
                        "type": "histogram"
                      }
                    ],
                    "histogram2d": [
                      {
                        "colorbar": {
                          "outlinewidth": 0,
                          "ticks": ""
                        },
                        "colorscale": [
                          [
                            0,
                            "#0d0887"
                          ],
                          [
                            0.1111111111111111,
                            "#46039f"
                          ],
                          [
                            0.2222222222222222,
                            "#7201a8"
                          ],
                          [
                            0.3333333333333333,
                            "#9c179e"
                          ],
                          [
                            0.4444444444444444,
                            "#bd3786"
                          ],
                          [
                            0.5555555555555556,
                            "#d8576b"
                          ],
                          [
                            0.6666666666666666,
                            "#ed7953"
                          ],
                          [
                            0.7777777777777778,
                            "#fb9f3a"
                          ],
                          [
                            0.8888888888888888,
                            "#fdca26"
                          ],
                          [
                            1,
                            "#f0f921"
                          ]
                        ],
                        "type": "histogram2d"
                      }
                    ],
                    "histogram2dcontour": [
                      {
                        "colorbar": {
                          "outlinewidth": 0,
                          "ticks": ""
                        },
                        "colorscale": [
                          [
                            0,
                            "#0d0887"
                          ],
                          [
                            0.1111111111111111,
                            "#46039f"
                          ],
                          [
                            0.2222222222222222,
                            "#7201a8"
                          ],
                          [
                            0.3333333333333333,
                            "#9c179e"
                          ],
                          [
                            0.4444444444444444,
                            "#bd3786"
                          ],
                          [
                            0.5555555555555556,
                            "#d8576b"
                          ],
                          [
                            0.6666666666666666,
                            "#ed7953"
                          ],
                          [
                            0.7777777777777778,
                            "#fb9f3a"
                          ],
                          [
                            0.8888888888888888,
                            "#fdca26"
                          ],
                          [
                            1,
                            "#f0f921"
                          ]
                        ],
                        "type": "histogram2dcontour"
                      }
                    ],
                    "mesh3d": [
                      {
                        "colorbar": {
                          "outlinewidth": 0,
                          "ticks": ""
                        },
                        "type": "mesh3d"
                      }
                    ],
                    "parcoords": [
                      {
                        "line": {
                          "colorbar": {
                            "outlinewidth": 0,
                            "ticks": ""
                          }
                        },
                        "type": "parcoords"
                      }
                    ],
                    "pie": [
                      {
                        "automargin": true,
                        "type": "pie"
                      }
                    ],
                    "scatter": [
                      {
                        "fillpattern": {
                          "fillmode": "overlay",
                          "size": 10,
                          "solidity": 0.2
                        },
                        "type": "scatter"
                      }
                    ],
                    "scatter3d": [
                      {
                        "line": {
                          "colorbar": {
                            "outlinewidth": 0,
                            "ticks": ""
                          }
                        },
                        "marker": {
                          "colorbar": {
                            "outlinewidth": 0,
                            "ticks": ""
                          }
                        },
                        "type": "scatter3d"
                      }
                    ],
                    "scattercarpet": [
                      {
                        "marker": {
                          "colorbar": {
                            "outlinewidth": 0,
                            "ticks": ""
                          }
                        },
                        "type": "scattercarpet"
                      }
                    ],
                    "scattergeo": [
                      {
                        "marker": {
                          "colorbar": {
                            "outlinewidth": 0,
                            "ticks": ""
                          }
                        },
                        "type": "scattergeo"
                      }
                    ],
                    "scattergl": [
                      {
                        "marker": {
                          "colorbar": {
                            "outlinewidth": 0,
                            "ticks": ""
                          }
                        },
                        "type": "scattergl"
                      }
                    ],
                    "scattermapbox": [
                      {
                        "marker": {
                          "colorbar": {
                            "outlinewidth": 0,
                            "ticks": ""
                          }
                        },
                        "type": "scattermapbox"
                      }
                    ],
                    "scatterpolar": [
                      {
                        "marker": {
                          "colorbar": {
                            "outlinewidth": 0,
                            "ticks": ""
                          }
                        },
                        "type": "scatterpolar"
                      }
                    ],
                    "scatterpolargl": [
                      {
                        "marker": {
                          "colorbar": {
                            "outlinewidth": 0,
                            "ticks": ""
                          }
                        },
                        "type": "scatterpolargl"
                      }
                    ],
                    "scatterternary": [
                      {
                        "marker": {
                          "colorbar": {
                            "outlinewidth": 0,
                            "ticks": ""
                          }
                        },
                        "type": "scatterternary"
                      }
                    ],
                    "surface": [
                      {
                        "colorbar": {
                          "outlinewidth": 0,
                          "ticks": ""
                        },
                        "colorscale": [
                          [
                            0,
                            "#0d0887"
                          ],
                          [
                            0.1111111111111111,
                            "#46039f"
                          ],
                          [
                            0.2222222222222222,
                            "#7201a8"
                          ],
                          [
                            0.3333333333333333,
                            "#9c179e"
                          ],
                          [
                            0.4444444444444444,
                            "#bd3786"
                          ],
                          [
                            0.5555555555555556,
                            "#d8576b"
                          ],
                          [
                            0.6666666666666666,
                            "#ed7953"
                          ],
                          [
                            0.7777777777777778,
                            "#fb9f3a"
                          ],
                          [
                            0.8888888888888888,
                            "#fdca26"
                          ],
                          [
                            1,
                            "#f0f921"
                          ]
                        ],
                        "type": "surface"
                      }
                    ],
                    "table": [
                      {
                        "cells": {
                          "fill": {
                            "color": "#EBF0F8"
                          },
                          "line": {
                            "color": "white"
                          }
                        },
                        "header": {
                          "fill": {
                            "color": "#C8D4E3"
                          },
                          "line": {
                            "color": "white"
                          }
                        },
                        "type": "table"
                      }
                    ]
                  },
                  "layout": {
                    "annotationdefaults": {
                      "arrowcolor": "#2a3f5f",
                      "arrowhead": 0,
                      "arrowwidth": 1
                    },
                    "autotypenumbers": "strict",
                    "coloraxis": {
                      "colorbar": {
                        "outlinewidth": 0,
                        "ticks": ""
                      }
                    },
                    "colorscale": {
                      "diverging": [
                        [
                          0,
                          "#8e0152"
                        ],
                        [
                          0.1,
                          "#c51b7d"
                        ],
                        [
                          0.2,
                          "#de77ae"
                        ],
                        [
                          0.3,
                          "#f1b6da"
                        ],
                        [
                          0.4,
                          "#fde0ef"
                        ],
                        [
                          0.5,
                          "#f7f7f7"
                        ],
                        [
                          0.6,
                          "#e6f5d0"
                        ],
                        [
                          0.7,
                          "#b8e186"
                        ],
                        [
                          0.8,
                          "#7fbc41"
                        ],
                        [
                          0.9,
                          "#4d9221"
                        ],
                        [
                          1,
                          "#276419"
                        ]
                      ],
                      "sequential": [
                        [
                          0,
                          "#0d0887"
                        ],
                        [
                          0.1111111111111111,
                          "#46039f"
                        ],
                        [
                          0.2222222222222222,
                          "#7201a8"
                        ],
                        [
                          0.3333333333333333,
                          "#9c179e"
                        ],
                        [
                          0.4444444444444444,
                          "#bd3786"
                        ],
                        [
                          0.5555555555555556,
                          "#d8576b"
                        ],
                        [
                          0.6666666666666666,
                          "#ed7953"
                        ],
                        [
                          0.7777777777777778,
                          "#fb9f3a"
                        ],
                        [
                          0.8888888888888888,
                          "#fdca26"
                        ],
                        [
                          1,
                          "#f0f921"
                        ]
                      ],
                      "sequentialminus": [
                        [
                          0,
                          "#0d0887"
                        ],
                        [
                          0.1111111111111111,
                          "#46039f"
                        ],
                        [
                          0.2222222222222222,
                          "#7201a8"
                        ],
                        [
                          0.3333333333333333,
                          "#9c179e"
                        ],
                        [
                          0.4444444444444444,
                          "#bd3786"
                        ],
                        [
                          0.5555555555555556,
                          "#d8576b"
                        ],
                        [
                          0.6666666666666666,
                          "#ed7953"
                        ],
                        [
                          0.7777777777777778,
                          "#fb9f3a"
                        ],
                        [
                          0.8888888888888888,
                          "#fdca26"
                        ],
                        [
                          1,
                          "#f0f921"
                        ]
                      ]
                    },
                    "colorway": [
                      "#636efa",
                      "#EF553B",
                      "#00cc96",
                      "#ab63fa",
                      "#FFA15A",
                      "#19d3f3",
                      "#FF6692",
                      "#B6E880",
                      "#FF97FF",
                      "#FECB52"
                    ],
                    "font": {
                      "color": "#2a3f5f"
                    },
                    "geo": {
                      "bgcolor": "white",
                      "lakecolor": "white",
                      "landcolor": "#E5ECF6",
                      "showlakes": true,
                      "showland": true,
                      "subunitcolor": "white"
                    },
                    "hoverlabel": {
                      "align": "left"
                    },
                    "hovermode": "closest",
                    "mapbox": {
                      "style": "light"
                    },
                    "paper_bgcolor": "white",
                    "plot_bgcolor": "#E5ECF6",
                    "polar": {
                      "angularaxis": {
                        "gridcolor": "white",
                        "linecolor": "white",
                        "ticks": ""
                      },
                      "bgcolor": "#E5ECF6",
                      "radialaxis": {
                        "gridcolor": "white",
                        "linecolor": "white",
                        "ticks": ""
                      }
                    },
                    "scene": {
                      "xaxis": {
                        "backgroundcolor": "#E5ECF6",
                        "gridcolor": "white",
                        "gridwidth": 2,
                        "linecolor": "white",
                        "showbackground": true,
                        "ticks": "",
                        "zerolinecolor": "white"
                      },
                      "yaxis": {
                        "backgroundcolor": "#E5ECF6",
                        "gridcolor": "white",
                        "gridwidth": 2,
                        "linecolor": "white",
                        "showbackground": true,
                        "ticks": "",
                        "zerolinecolor": "white"
                      },
                      "zaxis": {
                        "backgroundcolor": "#E5ECF6",
                        "gridcolor": "white",
                        "gridwidth": 2,
                        "linecolor": "white",
                        "showbackground": true,
                        "ticks": "",
                        "zerolinecolor": "white"
                      }
                    },
                    "shapedefaults": {
                      "line": {
                        "color": "#2a3f5f"
                      }
                    },
                    "ternary": {
                      "aaxis": {
                        "gridcolor": "white",
                        "linecolor": "white",
                        "ticks": ""
                      },
                      "baxis": {
                        "gridcolor": "white",
                        "linecolor": "white",
                        "ticks": ""
                      },
                      "bgcolor": "#E5ECF6",
                      "caxis": {
                        "gridcolor": "white",
                        "linecolor": "white",
                        "ticks": ""
                      }
                    },
                    "title": {
                      "x": 0.05
                    },
                    "xaxis": {
                      "automargin": true,
                      "gridcolor": "white",
                      "linecolor": "white",
                      "ticks": "",
                      "title": {
                        "standoff": 15
                      },
                      "zerolinecolor": "white",
                      "zerolinewidth": 2
                    },
                    "yaxis": {
                      "automargin": true,
                      "gridcolor": "white",
                      "linecolor": "white",
                      "ticks": "",
                      "title": {
                        "standoff": 15
                      },
                      "zerolinecolor": "white",
                      "zerolinewidth": 2
                    }
                  }
                },
                "xaxis": {
                  "anchor": "y",
                  "domain": [
                    0,
                    1
                  ],
                  "title": {
                    "text": "Year of Withdrawal"
                  }
                },
                "yaxis": {
                  "anchor": "x",
                  "domain": [
                    0,
                    1
                  ],
                  "tickformat": "$,.0f",
                  "title": {
                    "text": "After-Tax FV of $1 of After-tax Initial Investment"
                  }
                }
              }
            }
          },
          "metadata": {},
          "output_type": "display_data"
        }
      ],
      "source": [
        "import plotly.express as px\n",
        "\n",
        "fig = px.line(\n",
        "    df, x=\"Year\", y=\"Withdrawal\", color=\"Vehicle\", custom_data=[\"Vehicle\"]\n",
        ")\n",
        "fig.layout.xaxis[\"title\"] = \"Year of Withdrawal\"\n",
        "fig.update_yaxes(\n",
        "    title=\"After-Tax FV of $1 of After-tax Initial Investment\", tickformat=\"$,.0f\"\n",
        ")\n",
        "string = \"%{customdata}<br>$%{y:,.2f}<extra></extra>\"\n",
        "fig.update_traces(hovertemplate=string)\n",
        "fig.update_layout(hovermode=\"x unified\")\n",
        "\n",
        "fig.update_layout(legend=dict(yanchor=\"top\", y=0.99, xanchor=\"left\", x=0.01, title=\"\"))\n",
        "fig.show()"
      ]
    },
    {
      "cell_type": "code",
      "execution_count": null,
      "metadata": {},
      "outputs": [],
      "source": []
    }
  ],
  "metadata": {
    "colab": {
      "authorship_tag": "ABX9TyNbPUKYSkEfMCWvxgivMXpN",
      "include_colab_link": true,
      "name": "tax_vehicles.ipynb",
      "provenance": []
    },
    "kernelspec": {
      "display_name": "Python 3",
      "name": "python3"
    },
    "language_info": {
      "codemirror_mode": {
        "name": "ipython",
        "version": 3
      },
      "file_extension": ".py",
      "mimetype": "text/x-python",
      "name": "python",
      "nbconvert_exporter": "python",
      "pygments_lexer": "ipython3",
      "version": "3.10.6"
    }
  },
  "nbformat": 4,
  "nbformat_minor": 0
}
