{
  "nbformat": 4,
  "nbformat_minor": 0,
  "metadata": {
    "colab": {
      "name": "tax_vehicles.ipynb",
      "provenance": [],
      "authorship_tag": "ABX9TyNbPUKYSkEfMCWvxgivMXpN",
      "include_colab_link": true
    },
    "kernelspec": {
      "name": "python3",
      "display_name": "Python 3"
    },
    "language_info": {
      "name": "python"
    }
  },
  "cells": [
    {
      "cell_type": "markdown",
      "metadata": {
        "id": "view-in-github",
        "colab_type": "text"
      },
      "source": [
        "<a href=\"https://colab.research.google.com/github/bbcx-investments/notebooks/blob/main/taxes/tax_vehicles.ipynb\" target=\"_parent\"><img src=\"https://colab.research.google.com/assets/colab-badge.svg\" alt=\"Open In Colab\"/></a>"
      ]
    },
    {
      "cell_type": "code",
      "execution_count": 2,
      "metadata": {
        "colab": {
          "base_uri": "https://localhost:8080/"
        },
        "id": "mNm7ceXwiJ_k",
        "outputId": "9559866c-8d0c-449b-be7a-3aa0eebf7d7e"
      },
      "outputs": [
        {
          "output_type": "execute_result",
          "data": {
            "text/plain": [
              "3.1511307715376233"
            ]
          },
          "metadata": {},
          "execution_count": 2
        }
      ],
      "source": [
        "import pandas as pd\n",
        "import numpy as np\n",
        "\n",
        "# tax_treat: \"No tax advantage\", \"Nondeductible IRA\", \"Roth IRA/529 Plan\", \"Deductible IRA/401(k)/403(b)\"\n",
        "# tax_treat: ['no_advantage', 'nondeductible_ira','roth','401k']\n",
        "# Assumes taxes are constant from t=0 to t=T-1 and then jump at t=T\n",
        "# Assumes constant rate of return\n",
        "\n",
        "# Example data\n",
        "t_oi_0 = 0.35 # Initial tax rate on ordinary income\n",
        "t_cg_0 = 0.35 # Initial tax rate on capital gains\n",
        "t_oi_T = 0.35 # Ending tax rate on ordinary income\n",
        "t_cg_T = 0.35 # Ending tax rate on capital gains\n",
        "r = 0.06    # Annual rate of return\n",
        "T = 30     # Years saving \n",
        "\n",
        "# post tax return: No tax advantage\n",
        "tax_treat = 'no_advantage'\n",
        "ret_no_advantage = (1 + r * (1 - t_oi_0)) ** (T - 1) * (1 + r * (1 - t_oi_T))\n",
        "ret_no_advantage"
      ]
    },
    {
      "cell_type": "code",
      "source": [
        "# post tax return: Nondeductible IRA\n",
        "tax_treat = 'nondeductible_ira'\n",
        "ret_nondeductible_ira = (1 - t_oi_T) * (1 + r) ** T + t_oi_T\n",
        "ret_nondeductible_ira"
      ],
      "metadata": {
        "colab": {
          "base_uri": "https://localhost:8080/"
        },
        "id": "QMC_z8xgilO7",
        "outputId": "5e707756-6eda-48f8-d5b7-d9e3eb7a12b9"
      },
      "execution_count": 3,
      "outputs": [
        {
          "output_type": "execute_result",
          "data": {
            "text/plain": [
              "4.083269262393618"
            ]
          },
          "metadata": {},
          "execution_count": 3
        }
      ]
    },
    {
      "cell_type": "code",
      "source": [
        "# post tax return: Roth IRA/529 Plan\n",
        "tax_treat = 'roth'\n",
        "ret_roth = (1 + r) ** T\n",
        "ret_roth"
      ],
      "metadata": {
        "colab": {
          "base_uri": "https://localhost:8080/"
        },
        "id": "q36a6at2iu_8",
        "outputId": "22c33e5a-808c-4cc4-faf3-ac92603e4dbb"
      },
      "execution_count": 5,
      "outputs": [
        {
          "output_type": "execute_result",
          "data": {
            "text/plain": [
              "5.7434911729132585"
            ]
          },
          "metadata": {},
          "execution_count": 5
        }
      ]
    },
    {
      "cell_type": "code",
      "source": [
        "# post tax return: Deductible IRA/401(k)/403(b)\n",
        "tax_treat = '401k'\n",
        "ret_401k = ((1 - t_oi_T) * (1 + r) ** T) / (1 - t_oi_0)\n",
        "ret_401k"
      ],
      "metadata": {
        "colab": {
          "base_uri": "https://localhost:8080/"
        },
        "id": "1EH6ZpaFi1vD",
        "outputId": "18db5814-96ec-41c5-fbb1-84df9db0bade"
      },
      "execution_count": 6,
      "outputs": [
        {
          "output_type": "execute_result",
          "data": {
            "text/plain": [
              "5.7434911729132585"
            ]
          },
          "metadata": {},
          "execution_count": 6
        }
      ]
    },
    {
      "cell_type": "code",
      "source": [
        ""
      ],
      "metadata": {
        "id": "UKfAwy4yi7jW"
      },
      "execution_count": null,
      "outputs": []
    }
  ]
}