{
  "cells": [
    {
      "cell_type": "markdown",
      "metadata": {
        "id": "view-in-github",
        "colab_type": "text"
      },
      "source": [
        "<a href=\"https://colab.research.google.com/github/bbcx-investments/notebooks/blob/main/factor_investing/two_way_sorts.ipynb\" target=\"_parent\"><img src=\"https://colab.research.google.com/assets/colab-badge.svg\" alt=\"Open In Colab\"/></a>"
      ]
    },
    {
      "cell_type": "code",
      "execution_count": null,
      "outputs": [],
      "source": [
        "from pandas_datareader import DataReader as pdr\n",
        "import pandas as pd\n",
        "import numpy as np\n",
        "import statsmodels.api as sm\n",
        "\n",
        "files = [\n",
        "    '25_Portfolios_5x5',\n",
        "    '25_Portfolios_ME_INV_5x5',\n",
        "    '25_Portfolios_ME_Prior_12_2',\n",
        "    '25_Portfolios_ME_Prior_1_0',\n",
        "    '25_Portfolios_ME_Prior_60_13',\n",
        "    '25_Portfolios_ME_AC_5x5',\n",
        "    '25_Portfolios_ME_BETA_5x5',\n",
        "    '25_Portfolios_ME_NI_5x5',\n",
        "    '25_Portfolios_ME_VAR_5x5',\n",
        "    '25_Portfolios_ME_RESVAR_5x5'\n",
        "]\n",
        "\n",
        "chars = [\n",
        "    \"Book to market ratio\",\n",
        "    \"Investment rate\",\n",
        "    \"Momentum\",\n",
        "    \"Short term reversal\",\n",
        "    \"Long term reversal\",\n",
        "    \"Accruals\",\n",
        "    \"Beta\",\n",
        "    \"Net equity issuance\",\n",
        "    \"Variance\",\n",
        "    \"Residual variance\",\n",
        "]\n",
        "\n",
        "charsDict = dict(zip(chars, files))\n",
        "chars.sort()\n",
        "\n",
        "RETS = None\n",
        "CHAR = None\n",
        "\n",
        "dates = [1980, 2010]\n",
        "char = \"Book to market ratio\"           # example characteristic\n",
        "\n",
        "CHAR = char\n",
        "RETS = pdr(charsDict[char], \"famafrench\", start=1926)[0] / 100\n",
        "ff = pdr('F-F_Research_Data_Factors','famafrench', start=1900)[0] / 100\n",
        "RETS = RETS.subtract(ff.RF, axis=\"index\")\n",
        "if char == \"Net equity issuance\":\n",
        "    for x in RETS.columns:\n",
        "        if x.split(\" \")[1][0] == \"Z\" or x.split(\" \")[1][0:2] == \"Ne\":\n",
        "            RETS = RETS.drop(columns=x)\n",
        "\n",
        "start = str(dates[0]) + \"-01\"\n",
        "stop = str(dates[1]) + \"-12\"\n",
        "df = RETS.loc[start:stop].copy()\n",
        "\n",
        "# see what the two chars are in the two-way sort\n",
        "s = df.columns[1].split(\" \")\n",
        "s1 = s[0][:-1]             # market equity\n",
        "s2 = s[1][:-1]             # other characteristic\n",
        "\n",
        "def splitName(x):\n",
        "    x1 = x.split(\" \")[0]\n",
        "    x1 = x1 if x1[0] == \"M\" else (\"ME1\" if x1[0] == \"S\" else \"ME5\")\n",
        "    x2 = x.split(\" \")[1]\n",
        "    x2 = x2 if x2[0] == s2[0] else (s2 + \"1\" if x2[0] == \"L\" else s2 + \"5\")\n",
        "    return x1, x2\n",
        "\n",
        "splits = [splitName(x) for x in df.columns]\n",
        "\n",
        "mns = 12 * df.mean()\n",
        "mns.index = [a + '-' + b for a, b in splits]\n",
        "sds = np.sqrt(12) * df.std()\n",
        "sds.index = [a + '-' + b for a, b in splits]\n",
        "\n",
        "# 5x5 table calculations\n",
        "\n",
        "df.columns = pd.MultiIndex.from_tuples(splits)"
      ],
      "metadata": {
        "pycharm": {
          "name": "#%%\n"
        },
        "id": "y7N2Cdw5gs0w"
      }
    },
    {
      "cell_type": "code",
      "execution_count": null,
      "outputs": [
        {
          "data": {
            "text/plain": "      BM1    BM2    BM3    BM4    BM5\nME1  0.03   9.53   9.64  12.68  12.69\nME2  4.38   9.93  10.43  11.15  11.79\nME3  6.33  10.21   9.04  10.42  13.27\nME4  8.45   9.02   8.56   9.48  10.51\nME5  6.88   7.48   7.60   5.72   8.83",
            "text/html": "<div>\n<style scoped>\n    .dataframe tbody tr th:only-of-type {\n        vertical-align: middle;\n    }\n\n    .dataframe tbody tr th {\n        vertical-align: top;\n    }\n\n    .dataframe thead th {\n        text-align: right;\n    }\n</style>\n<table border=\"1\" class=\"dataframe\">\n  <thead>\n    <tr style=\"text-align: right;\">\n      <th></th>\n      <th>BM1</th>\n      <th>BM2</th>\n      <th>BM3</th>\n      <th>BM4</th>\n      <th>BM5</th>\n    </tr>\n  </thead>\n  <tbody>\n    <tr>\n      <th>ME1</th>\n      <td>0.03</td>\n      <td>9.53</td>\n      <td>9.64</td>\n      <td>12.68</td>\n      <td>12.69</td>\n    </tr>\n    <tr>\n      <th>ME2</th>\n      <td>4.38</td>\n      <td>9.93</td>\n      <td>10.43</td>\n      <td>11.15</td>\n      <td>11.79</td>\n    </tr>\n    <tr>\n      <th>ME3</th>\n      <td>6.33</td>\n      <td>10.21</td>\n      <td>9.04</td>\n      <td>10.42</td>\n      <td>13.27</td>\n    </tr>\n    <tr>\n      <th>ME4</th>\n      <td>8.45</td>\n      <td>9.02</td>\n      <td>8.56</td>\n      <td>9.48</td>\n      <td>10.51</td>\n    </tr>\n    <tr>\n      <th>ME5</th>\n      <td>6.88</td>\n      <td>7.48</td>\n      <td>7.60</td>\n      <td>5.72</td>\n      <td>8.83</td>\n    </tr>\n  </tbody>\n</table>\n</div>"
          },
          "execution_count": 16,
          "metadata": {},
          "output_type": "execute_result"
        }
      ],
      "source": [
        "means = 100 * 12 * df.mean()\n",
        "means = means.unstack().round(2)\n",
        "means"
      ],
      "metadata": {
        "pycharm": {
          "name": "#%%\n"
        },
        "id": "eRXVTlvDgs0z",
        "outputId": "16da80e7-6920-4ce4-deb6-f9d350139402"
      }
    },
    {
      "cell_type": "code",
      "execution_count": null,
      "outputs": [
        {
          "data": {
            "text/plain": "       BM1    BM2    BM3    BM4    BM5\nME1   0.10  39.07  48.20  66.55  64.17\nME2  17.33  47.39  58.17  63.64  57.00\nME3  26.99  53.05  53.11  61.40  69.92\nME4  39.35  49.65  48.76  56.65  54.65\nME5  41.21  45.21  47.59  32.44  45.21",
            "text/html": "<div>\n<style scoped>\n    .dataframe tbody tr th:only-of-type {\n        vertical-align: middle;\n    }\n\n    .dataframe tbody tr th {\n        vertical-align: top;\n    }\n\n    .dataframe thead th {\n        text-align: right;\n    }\n</style>\n<table border=\"1\" class=\"dataframe\">\n  <thead>\n    <tr style=\"text-align: right;\">\n      <th></th>\n      <th>BM1</th>\n      <th>BM2</th>\n      <th>BM3</th>\n      <th>BM4</th>\n      <th>BM5</th>\n    </tr>\n  </thead>\n  <tbody>\n    <tr>\n      <th>ME1</th>\n      <td>0.10</td>\n      <td>39.07</td>\n      <td>48.20</td>\n      <td>66.55</td>\n      <td>64.17</td>\n    </tr>\n    <tr>\n      <th>ME2</th>\n      <td>17.33</td>\n      <td>47.39</td>\n      <td>58.17</td>\n      <td>63.64</td>\n      <td>57.00</td>\n    </tr>\n    <tr>\n      <th>ME3</th>\n      <td>26.99</td>\n      <td>53.05</td>\n      <td>53.11</td>\n      <td>61.40</td>\n      <td>69.92</td>\n    </tr>\n    <tr>\n      <th>ME4</th>\n      <td>39.35</td>\n      <td>49.65</td>\n      <td>48.76</td>\n      <td>56.65</td>\n      <td>54.65</td>\n    </tr>\n    <tr>\n      <th>ME5</th>\n      <td>41.21</td>\n      <td>45.21</td>\n      <td>47.59</td>\n      <td>32.44</td>\n      <td>45.21</td>\n    </tr>\n  </tbody>\n</table>\n</div>"
          },
          "execution_count": 17,
          "metadata": {},
          "output_type": "execute_result"
        }
      ],
      "source": [
        "sharpes = 100 * np.sqrt(12) * df.mean() / df.std()\n",
        "sharpes = sharpes.unstack().round(2)\n",
        "sharpes"
      ],
      "metadata": {
        "pycharm": {
          "name": "#%%\n"
        },
        "id": "zbv_zy76gs01",
        "outputId": "36748d6b-3908-4d08-b2d8-2908af1fda90"
      }
    },
    {
      "cell_type": "code",
      "execution_count": null,
      "outputs": [
        {
          "data": {
            "text/plain": "         BM1   BM2   BM3   BM4   BM5      \nME1    -3.01  0.54  1.26  2.92  2.72   NaN\nME2    -2.11  1.14  2.32  2.84  2.10   NaN\nME3    -1.25  1.84  1.80  2.65  3.38   NaN\nME4     0.04  1.46  1.28  2.17  1.89   NaN\nME5     0.13  0.80  1.15 -0.23  1.09   NaN\nMkt-RF   NaN   NaN   NaN   NaN   NaN  9.22",
            "text/html": "<div>\n<style scoped>\n    .dataframe tbody tr th:only-of-type {\n        vertical-align: middle;\n    }\n\n    .dataframe tbody tr th {\n        vertical-align: top;\n    }\n\n    .dataframe thead th {\n        text-align: right;\n    }\n</style>\n<table border=\"1\" class=\"dataframe\">\n  <thead>\n    <tr style=\"text-align: right;\">\n      <th></th>\n      <th>BM1</th>\n      <th>BM2</th>\n      <th>BM3</th>\n      <th>BM4</th>\n      <th>BM5</th>\n      <th></th>\n    </tr>\n  </thead>\n  <tbody>\n    <tr>\n      <th>ME1</th>\n      <td>-3.01</td>\n      <td>0.54</td>\n      <td>1.26</td>\n      <td>2.92</td>\n      <td>2.72</td>\n      <td>NaN</td>\n    </tr>\n    <tr>\n      <th>ME2</th>\n      <td>-2.11</td>\n      <td>1.14</td>\n      <td>2.32</td>\n      <td>2.84</td>\n      <td>2.10</td>\n      <td>NaN</td>\n    </tr>\n    <tr>\n      <th>ME3</th>\n      <td>-1.25</td>\n      <td>1.84</td>\n      <td>1.80</td>\n      <td>2.65</td>\n      <td>3.38</td>\n      <td>NaN</td>\n    </tr>\n    <tr>\n      <th>ME4</th>\n      <td>0.04</td>\n      <td>1.46</td>\n      <td>1.28</td>\n      <td>2.17</td>\n      <td>1.89</td>\n      <td>NaN</td>\n    </tr>\n    <tr>\n      <th>ME5</th>\n      <td>0.13</td>\n      <td>0.80</td>\n      <td>1.15</td>\n      <td>-0.23</td>\n      <td>1.09</td>\n      <td>NaN</td>\n    </tr>\n    <tr>\n      <th>Mkt-RF</th>\n      <td>NaN</td>\n      <td>NaN</td>\n      <td>NaN</td>\n      <td>NaN</td>\n      <td>NaN</td>\n      <td>9.22</td>\n    </tr>\n  </tbody>\n</table>\n</div>"
          },
          "execution_count": 25,
          "metadata": {},
          "output_type": "execute_result"
        }
      ],
      "source": [
        "# multi-indexed index, for unstacking\n",
        "regr = pd.DataFrame(dtype=float, index=df.columns, columns=['alpha', 'beta', 'tstat', 'empirical', 'theoretical'])\n",
        "df['Mkt-RF'] = ff['Mkt-RF']\n",
        "\n",
        "for port in regr.index:\n",
        "    result = sm.OLS(df[port], sm.add_constant(df['Mkt-RF'])).fit()\n",
        "    regr.loc[port, 'alpha'] = 100 * 12 * result.params['const']\n",
        "    regr.loc[port, 'beta'] = result.params['Mkt-RF']\n",
        "    regr.loc[port, 'tstat'] = result.tvalues['const']\n",
        "    regr.loc[port, 'empirical'] = 12 * df[port].mean()\n",
        "    regr.loc[port, 'theoretical'] = 12 * result.params['Mkt-RF'] * df['Mkt-RF'].mean()\n",
        "\n",
        "# Alphas (annualized, in percent)\n",
        "regr.alpha.unstack().round(2)"
      ],
      "metadata": {
        "pycharm": {
          "name": "#%%\n"
        },
        "id": "5wGKkopggs01",
        "outputId": "fc754422-628d-4965-ece6-4c43c382e31c"
      }
    },
    {
      "cell_type": "code",
      "execution_count": null,
      "outputs": [
        {
          "data": {
            "text/plain": "         BM1   BM2   BM3   BM4   BM5      \nME1    -3.01  0.54  1.26  2.92  2.72   NaN\nME2    -2.11  1.14  2.32  2.84  2.10   NaN\nME3    -1.25  1.84  1.80  2.65  3.38   NaN\nME4     0.04  1.46  1.28  2.17  1.89   NaN\nME5     0.13  0.80  1.15 -0.23  1.09   NaN\nMkt-RF   NaN   NaN   NaN   NaN   NaN  9.22",
            "text/html": "<div>\n<style scoped>\n    .dataframe tbody tr th:only-of-type {\n        vertical-align: middle;\n    }\n\n    .dataframe tbody tr th {\n        vertical-align: top;\n    }\n\n    .dataframe thead th {\n        text-align: right;\n    }\n</style>\n<table border=\"1\" class=\"dataframe\">\n  <thead>\n    <tr style=\"text-align: right;\">\n      <th></th>\n      <th>BM1</th>\n      <th>BM2</th>\n      <th>BM3</th>\n      <th>BM4</th>\n      <th>BM5</th>\n      <th></th>\n    </tr>\n  </thead>\n  <tbody>\n    <tr>\n      <th>ME1</th>\n      <td>-3.01</td>\n      <td>0.54</td>\n      <td>1.26</td>\n      <td>2.92</td>\n      <td>2.72</td>\n      <td>NaN</td>\n    </tr>\n    <tr>\n      <th>ME2</th>\n      <td>-2.11</td>\n      <td>1.14</td>\n      <td>2.32</td>\n      <td>2.84</td>\n      <td>2.10</td>\n      <td>NaN</td>\n    </tr>\n    <tr>\n      <th>ME3</th>\n      <td>-1.25</td>\n      <td>1.84</td>\n      <td>1.80</td>\n      <td>2.65</td>\n      <td>3.38</td>\n      <td>NaN</td>\n    </tr>\n    <tr>\n      <th>ME4</th>\n      <td>0.04</td>\n      <td>1.46</td>\n      <td>1.28</td>\n      <td>2.17</td>\n      <td>1.89</td>\n      <td>NaN</td>\n    </tr>\n    <tr>\n      <th>ME5</th>\n      <td>0.13</td>\n      <td>0.80</td>\n      <td>1.15</td>\n      <td>-0.23</td>\n      <td>1.09</td>\n      <td>NaN</td>\n    </tr>\n    <tr>\n      <th>Mkt-RF</th>\n      <td>NaN</td>\n      <td>NaN</td>\n      <td>NaN</td>\n      <td>NaN</td>\n      <td>NaN</td>\n      <td>9.22</td>\n    </tr>\n  </tbody>\n</table>\n</div>"
          },
          "execution_count": 26,
          "metadata": {},
          "output_type": "execute_result"
        }
      ],
      "source": [
        "# t statistics\n",
        "regr.tstat.unstack().round(2)"
      ],
      "metadata": {
        "pycharm": {
          "name": "#%%\n"
        },
        "id": "9npMSXEPgs02",
        "outputId": "ea239995-a64e-4642-f9da-d229b5899e57"
      }
    },
    {
      "cell_type": "code",
      "execution_count": null,
      "outputs": [],
      "source": [
        ""
      ],
      "metadata": {
        "pycharm": {
          "name": "#%%\n"
        },
        "id": "C-symgv8gs03"
      }
    }
  ],
  "metadata": {
    "kernelspec": {
      "display_name": "Python 3",
      "language": "python",
      "name": "python3"
    },
    "language_info": {
      "codemirror_mode": {
        "name": "ipython",
        "version": 2
      },
      "file_extension": ".py",
      "mimetype": "text/x-python",
      "name": "python",
      "nbconvert_exporter": "python",
      "pygments_lexer": "ipython2",
      "version": "2.7.6"
    },
    "colab": {
      "name": "two_way_sorts.ipynb",
      "provenance": [],
      "include_colab_link": true
    }
  },
  "nbformat": 4,
  "nbformat_minor": 0
}