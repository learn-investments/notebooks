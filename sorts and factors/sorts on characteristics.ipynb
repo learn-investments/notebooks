{
 "cells": [
  {
   "cell_type": "markdown",
   "metadata": {},
   "source": [
    "---\n",
    "\n",
    "Created for [learn-investments.rice-business.org](https://learn-investments.rice-business.org)\n",
    "    \n",
    "By [Kerry Back](https://kerryback.com) and [Kevin Crotty](https://kevin-crotty.com)\n",
    "    \n",
    "Jones Graduate School of Business, Rice University\n",
    "\n",
    "---\n"
   ]
  },
  {
   "cell_type": "markdown",
   "metadata": {},
   "source": [
    "# EXAMPLE DATA"
   ]
  },
  {
   "cell_type": "code",
   "execution_count": 9,
   "metadata": {},
   "outputs": [],
   "source": [
    "# Date Range (input a year)\n",
    "start_yr = 1980\n",
    "stop_yr  = 2023\n",
    "\n",
    "# Characteristic for second sort (1st is market equity)\n",
    "key = \"Book to market ratio\"\n",
    "\n",
    "# Some choices: \n",
    "# \"Book to market ratio\", \"Investment rate\", \"Momentum\", \"Short term reversal\",\n",
    "# \"Long term reversal\", \"Accruals\", \"Beta\", \"Net equity issuance\", \"Variance\", \"Residual variance\""
   ]
  },
  {
   "cell_type": "markdown",
   "metadata": {},
   "source": [
    "# GET DATA"
   ]
  },
  {
   "cell_type": "code",
   "execution_count": 10,
   "metadata": {
    "id": "3w-f_BHPFagx"
   },
   "outputs": [],
   "source": [
    "import numpy as np\n",
    "import pandas as pd\n",
    "from pandas_datareader import DataReader as pdr\n",
    "import warnings\n",
    "warnings.simplefilter(action='ignore', category=FutureWarning)\n",
    "\n",
    "# associate names of French files with characteristic names\n",
    "files = {'Earnings to price ratio': 'Portfolios_Formed_on_E-P',\\\n",
    " 'Variance': 'Portfolios_Formed_on_VAR',\\\n",
    " 'Accruals': 'Portfolios_Formed_on_AC',\\\n",
    " 'Residual variance': 'Portfolios_Formed_on_RESVAR',\\\n",
    " 'Net equity issuance': 'Portfolios_Formed_on_NI',\\\n",
    " 'Beta': 'Portfolios_Formed_on_BETA',\\\n",
    " 'Cash flow to price': 'Portfolios_Formed_on_CF-P',\\\n",
    " 'Market equity': 'Portfolios_Formed_on_ME',\\\n",
    " 'Book to market ratio': 'Portfolios_Formed_on_BE-ME',\\\n",
    " 'Dividend to price ratio': 'Portfolios_Formed_on_D-P',\\\n",
    " 'Investment rate': 'Portfolios_Formed_on_INV',\\\n",
    " 'Momentum': '10_Portfolios_Prior_12_2',\\\n",
    " 'Short term reversal': '10_Portfolios_Prior_1_0',\\\n",
    " 'Long term reversal': '10_Portfolios_Prior_60_13'}\n",
    "\n",
    "# sort characteristics in alphabetical order\n",
    "keys = np.sort(list(files.keys()))\n",
    "\n",
    "# read value-weighted monthly returns in decimal format\n",
    "f = files[key]\n",
    "d = pdr(f,'famafrench',start=1920)[2]/100\n",
    "\n",
    "# for momentum and reversal files, combine deciles to form quintiles\n",
    "if 'Portfolios_Formed_on' not in f :\n",
    "    cols = d.columns.to_list()\n",
    "    d['Lo 20'] = d[cols[:2]].mean(axis=1)\n",
    "    d['Qnt 2'] = d[cols[2:4]].mean(axis=1)\n",
    "    d['Qnt 3'] = d[cols[4:6]].mean(axis=1)\n",
    "    d['Qnt 4'] = d[cols[6:8]].mean(axis=1)\n",
    "    d['Hi 20'] = d[cols[8:]].mean(axis=1)\n",
    "\n",
    "# for other files, extract quintiles\n",
    "else :    \n",
    "    quintiles = ['Lo 20','Qnt 2','Qnt 3','Qnt 4','Hi 20']\n",
    "    d = d[quintiles].copy()\n",
    "\n",
    "d = d.reset_index()\n",
    "d[\"Date\"] = d.Date.astype(str).astype(int)\n",
    "d = d.set_index(\"Date\").dropna()\n",
    "rets = d.copy()\n",
    "\n",
    "# Subset for date window\n",
    "mindate = max(start_yr, rets.index[0])\n",
    "rets = rets.loc[mindate : stop_yr]"
   ]
  },
  {
   "cell_type": "markdown",
   "metadata": {},
   "source": [
    "# CALCULATIONS"
   ]
  },
  {
   "cell_type": "code",
   "execution_count": 11,
   "metadata": {},
   "outputs": [],
   "source": [
    "accum = (1 + rets).cumprod()\n",
    "accum.loc[mindate - 1] = 1\n",
    "accum = accum.sort_index()\n",
    "\n",
    "rets = rets.stack().reset_index()\n",
    "rets.columns = [\"Date\", \"Quintile\", \"Return\"]\n",
    "\n",
    "accum = accum.stack().reset_index()\n",
    "accum.columns = [\"Date\", \"Quintile\", \"Accumulation\"]"
   ]
  },
  {
   "cell_type": "markdown",
   "metadata": {},
   "source": [
    "# FIGURE (CUMULATIVE RETURN)"
   ]
  },
  {
   "cell_type": "code",
   "execution_count": 12,
   "metadata": {},
   "outputs": [
    {
     "data": {
      "application/vnd.plotly.v1+json": {
       "config": {
        "plotlyServerURL": "https://plot.ly"
       },
       "data": [
        {
         "hovertemplate": "$%{y:,.2f}<extra></extra>",
         "legendgroup": "Lo 20",
         "line": {
          "color": "#636efa",
          "dash": "solid"
         },
         "marker": {
          "symbol": "circle"
         },
         "mode": "lines",
         "name": "Lo 20",
         "orientation": "v",
         "showlegend": true,
         "type": "scatter",
         "x": [
          1979,
          1980,
          1981,
          1982,
          1983,
          1984,
          1985,
          1986,
          1987,
          1988,
          1989,
          1990,
          1991,
          1992,
          1993,
          1994,
          1995,
          1996,
          1997,
          1998,
          1999,
          2000,
          2001,
          2002,
          2003,
          2004,
          2005,
          2006,
          2007,
          2008,
          2009,
          2010,
          2011,
          2012,
          2013,
          2014,
          2015,
          2016,
          2017,
          2018,
          2019,
          2020,
          2021,
          2022
         ],
         "xaxis": "x",
         "y": [
          1,
          1.3933,
          1.2759841399999998,
          1.547258368164,
          1.8027107247478764,
          1.7228506396415455,
          2.2598631840178154,
          2.5328546566471677,
          2.6683623807777916,
          2.9536103192829377,
          3.9566563837114233,
          4.0535944651123526,
          6.072284508738304,
          6.244130160335597,
          6.134233469513691,
          6.196189227555779,
          8.553219609717997,
          10.320314781085735,
          13.363775610027917,
          18.935133661848557,
          24.350581889137246,
          20.805137166078865,
          17.495039842955716,
          13.221001609321636,
          16.747042738527714,
          18.00809505673885,
          18.605963812622576,
          20.332597254433953,
          23.13442915609495,
          15.058199937702204,
          20.17196463654587,
          23.48016683693939,
          23.94977017367818,
          27.68832929778934,
          37.240802905526664,
          41.9592126336569,
          44.54390013189017,
          47.39025535031795,
          62.37031506655346,
          62.8256183665393,
          85.97685873460904,
          121.86359957043486,
          151.06211802751105,
          108.97621194504647
         ],
         "yaxis": "y"
        },
        {
         "hovertemplate": "$%{y:,.2f}<extra></extra>",
         "legendgroup": "Qnt 2",
         "line": {
          "color": "#EF553B",
          "dash": "solid"
         },
         "marker": {
          "symbol": "circle"
         },
         "mode": "lines",
         "name": "Qnt 2",
         "orientation": "v",
         "showlegend": true,
         "type": "scatter",
         "x": [
          1979,
          1980,
          1981,
          1982,
          1983,
          1984,
          1985,
          1986,
          1987,
          1988,
          1989,
          1990,
          1991,
          1992,
          1993,
          1994,
          1995,
          1996,
          1997,
          1998,
          1999,
          2000,
          2001,
          2002,
          2003,
          2004,
          2005,
          2006,
          2007,
          2008,
          2009,
          2010,
          2011,
          2012,
          2013,
          2014,
          2015,
          2016,
          2017,
          2018,
          2019,
          2020,
          2021,
          2022
         ],
         "xaxis": "x",
         "y": [
          1,
          1.3892,
          1.30807072,
          1.547578468832,
          1.8382137052786496,
          1.9225877143509398,
          2.6174109143173694,
          3.112363318214784,
          3.1584262953243627,
          3.7585272914359913,
          4.64704314313146,
          4.44629087934818,
          5.546747871986855,
          6.461961270864687,
          7.468734836865405,
          7.450062999773242,
          9.819183033701133,
          12.011806605126596,
          15.520455314484074,
          17.039907889772067,
          20.301346259874443,
          21.15603293741516,
          20.63136332056726,
          17.272577371978908,
          23.449251040198565,
          26.385097270431423,
          27.741291270131594,
          32.41847297827578,
          35.715431680166425,
          23.311462257644628,
          29.202268770151424,
          34.42947488000853,
          36.70870611706509,
          42.09020243382684,
          56.08940376331765,
          63.17349545862467,
          63.48304558637193,
          70.5614051692524,
          84.86420199705987,
          83.12448585612015,
          105.23559909384811,
          126.21957755316143,
          157.4589229975689,
          133.08428171754522
         ],
         "yaxis": "y"
        },
        {
         "hovertemplate": "$%{y:,.2f}<extra></extra>",
         "legendgroup": "Qnt 3",
         "line": {
          "color": "#00cc96",
          "dash": "solid"
         },
         "marker": {
          "symbol": "circle"
         },
         "mode": "lines",
         "name": "Qnt 3",
         "orientation": "v",
         "showlegend": true,
         "type": "scatter",
         "x": [
          1979,
          1980,
          1981,
          1982,
          1983,
          1984,
          1985,
          1986,
          1987,
          1988,
          1989,
          1990,
          1991,
          1992,
          1993,
          1994,
          1995,
          1996,
          1997,
          1998,
          1999,
          2000,
          2001,
          2002,
          2003,
          2004,
          2005,
          2006,
          2007,
          2008,
          2009,
          2010,
          2011,
          2012,
          2013,
          2014,
          2015,
          2016,
          2017,
          2018,
          2019,
          2020,
          2021,
          2022
         ],
         "xaxis": "x",
         "y": [
          1,
          1.3793,
          1.24178379,
          1.50131660211,
          1.904420109776535,
          1.9838344283542166,
          2.6420706916821453,
          3.0428728156103264,
          3.038612793668472,
          3.5803974547795603,
          4.601884848628169,
          4.289416867406317,
          5.23566222835615,
          5.677552120429409,
          6.692130684350145,
          6.897579096359694,
          9.465547793934409,
          11.716455059332011,
          15.885169769442339,
          17.124213011458842,
          17.745821943774796,
          20.233786180292025,
          21.52267835997663,
          19.181010954411175,
          26.3662176579336,
          31.022491696324675,
          34.01926439418964,
          40.74827489136035,
          40.89904350845839,
          26.7397946458301,
          33.127931586718915,
          40.38626139736903,
          42.22787491708907,
          47.278328757172915,
          62.71470309638987,
          71.16864507378322,
          71.08324269969468,
          85.57000756189245,
          99.25265177103906,
          89.99237936080112,
          117.17007792776307,
          126.4030800684708,
          152.6949207227127,
          133.59278614030134
         ],
         "yaxis": "y"
        },
        {
         "hovertemplate": "$%{y:,.2f}<extra></extra>",
         "legendgroup": "Qnt 4",
         "line": {
          "color": "#ab63fa",
          "dash": "solid"
         },
         "marker": {
          "symbol": "circle"
         },
         "mode": "lines",
         "name": "Qnt 4",
         "orientation": "v",
         "showlegend": true,
         "type": "scatter",
         "x": [
          1979,
          1980,
          1981,
          1982,
          1983,
          1984,
          1985,
          1986,
          1987,
          1988,
          1989,
          1990,
          1991,
          1992,
          1993,
          1994,
          1995,
          1996,
          1997,
          1998,
          1999,
          2000,
          2001,
          2002,
          2003,
          2004,
          2005,
          2006,
          2007,
          2008,
          2009,
          2010,
          2011,
          2012,
          2013,
          2014,
          2015,
          2016,
          2017,
          2018,
          2019,
          2020,
          2021,
          2022
         ],
         "xaxis": "x",
         "y": [
          1,
          1.1919,
          1.29249636,
          1.6236339274319997,
          2.058118366412803,
          2.2133004912403282,
          2.8786186189071707,
          3.4180717480903744,
          3.509334263764387,
          4.291915804583846,
          5.588074377568168,
          4.706835048225668,
          6.376349439831312,
          7.577653674295532,
          8.861308206721196,
          8.528123018148479,
          11.52405263442404,
          14.213766519298611,
          19.44016846844471,
          22.447562530513107,
          22.618164005745008,
          28.95577356015476,
          28.365075779527604,
          24.558482609915,
          32.1298627985518,
          36.804757835741086,
          40.40426315207656,
          48.679056245621844,
          46.352197357081124,
          23.815759002068283,
          28.395529458166013,
          31.964847511057478,
          32.035170175581804,
          38.48064641490886,
          52.26826202537071,
          55.90090623613398,
          52.59157258695485,
          63.9408339512197,
          73.65984071180509,
          65.06373730073743,
          79.07846631531628,
          71.11526475736393,
          93.55924231478798,
          96.98351058350922
         ],
         "yaxis": "y"
        },
        {
         "hovertemplate": "$%{y:,.2f}<extra></extra>",
         "legendgroup": "Hi 20",
         "line": {
          "color": "#FFA15A",
          "dash": "solid"
         },
         "marker": {
          "symbol": "circle"
         },
         "mode": "lines",
         "name": "Hi 20",
         "orientation": "v",
         "showlegend": true,
         "type": "scatter",
         "x": [
          1979,
          1980,
          1981,
          1982,
          1983,
          1984,
          1985,
          1986,
          1987,
          1988,
          1989,
          1990,
          1991,
          1992,
          1993,
          1994,
          1995,
          1996,
          1997,
          1998,
          1999,
          2000,
          2001,
          2002,
          2003,
          2004,
          2005,
          2006,
          2007,
          2008,
          2009,
          2010,
          2011,
          2012,
          2013,
          2014,
          2015,
          2016,
          2017,
          2018,
          2019,
          2020,
          2021,
          2022
         ],
         "xaxis": "x",
         "y": [
          1,
          1.1807,
          1.3864960100000003,
          1.8369685636490003,
          2.4532715167532397,
          2.9223370307564593,
          3.8837859138753346,
          4.808515339969052,
          4.760911038103358,
          6.1539536078524,
          7.919522897945253,
          6.598546478567984,
          8.554355654815534,
          11.21133852120124,
          14.01417315150155,
          13.446599138865738,
          19.61589882377734,
          24.172672120540813,
          32.53883394145999,
          35.887079954036224,
          37.36921635613792,
          45.56054858140335,
          53.25116918194424,
          37.35569518113389,
          53.96777282818413,
          67.999393763512,
          78.29450197930773,
          96.47448533890298,
          91.59287638075449,
          59.416298908195444,
          77.71651897191964,
          89.6460046341093,
          73.50972379996963,
          95.53323705044055,
          137.71116120821006,
          152.80430447662988,
          139.877060317907,
          174.06301385960344,
          202.64416073535034,
          165.3171063278988,
          210.38254951288403,
          206.93227570087274,
          291.3813374143989,
          287.0980317544072
         ],
         "yaxis": "y"
        }
       ],
       "layout": {
        "hovermode": "x unified",
        "legend": {
         "title": {
          "text": "Quintile"
         },
         "tracegroupgap": 0,
         "x": 0.01,
         "xanchor": "left",
         "y": 0.99,
         "yanchor": "top"
        },
        "margin": {
         "t": 60
        },
        "template": {
         "data": {
          "bar": [
           {
            "error_x": {
             "color": "#2a3f5f"
            },
            "error_y": {
             "color": "#2a3f5f"
            },
            "marker": {
             "line": {
              "color": "#E5ECF6",
              "width": 0.5
             },
             "pattern": {
              "fillmode": "overlay",
              "size": 10,
              "solidity": 0.2
             }
            },
            "type": "bar"
           }
          ],
          "barpolar": [
           {
            "marker": {
             "line": {
              "color": "#E5ECF6",
              "width": 0.5
             },
             "pattern": {
              "fillmode": "overlay",
              "size": 10,
              "solidity": 0.2
             }
            },
            "type": "barpolar"
           }
          ],
          "carpet": [
           {
            "aaxis": {
             "endlinecolor": "#2a3f5f",
             "gridcolor": "white",
             "linecolor": "white",
             "minorgridcolor": "white",
             "startlinecolor": "#2a3f5f"
            },
            "baxis": {
             "endlinecolor": "#2a3f5f",
             "gridcolor": "white",
             "linecolor": "white",
             "minorgridcolor": "white",
             "startlinecolor": "#2a3f5f"
            },
            "type": "carpet"
           }
          ],
          "choropleth": [
           {
            "colorbar": {
             "outlinewidth": 0,
             "ticks": ""
            },
            "type": "choropleth"
           }
          ],
          "contour": [
           {
            "colorbar": {
             "outlinewidth": 0,
             "ticks": ""
            },
            "colorscale": [
             [
              0,
              "#0d0887"
             ],
             [
              0.1111111111111111,
              "#46039f"
             ],
             [
              0.2222222222222222,
              "#7201a8"
             ],
             [
              0.3333333333333333,
              "#9c179e"
             ],
             [
              0.4444444444444444,
              "#bd3786"
             ],
             [
              0.5555555555555556,
              "#d8576b"
             ],
             [
              0.6666666666666666,
              "#ed7953"
             ],
             [
              0.7777777777777778,
              "#fb9f3a"
             ],
             [
              0.8888888888888888,
              "#fdca26"
             ],
             [
              1,
              "#f0f921"
             ]
            ],
            "type": "contour"
           }
          ],
          "contourcarpet": [
           {
            "colorbar": {
             "outlinewidth": 0,
             "ticks": ""
            },
            "type": "contourcarpet"
           }
          ],
          "heatmap": [
           {
            "colorbar": {
             "outlinewidth": 0,
             "ticks": ""
            },
            "colorscale": [
             [
              0,
              "#0d0887"
             ],
             [
              0.1111111111111111,
              "#46039f"
             ],
             [
              0.2222222222222222,
              "#7201a8"
             ],
             [
              0.3333333333333333,
              "#9c179e"
             ],
             [
              0.4444444444444444,
              "#bd3786"
             ],
             [
              0.5555555555555556,
              "#d8576b"
             ],
             [
              0.6666666666666666,
              "#ed7953"
             ],
             [
              0.7777777777777778,
              "#fb9f3a"
             ],
             [
              0.8888888888888888,
              "#fdca26"
             ],
             [
              1,
              "#f0f921"
             ]
            ],
            "type": "heatmap"
           }
          ],
          "heatmapgl": [
           {
            "colorbar": {
             "outlinewidth": 0,
             "ticks": ""
            },
            "colorscale": [
             [
              0,
              "#0d0887"
             ],
             [
              0.1111111111111111,
              "#46039f"
             ],
             [
              0.2222222222222222,
              "#7201a8"
             ],
             [
              0.3333333333333333,
              "#9c179e"
             ],
             [
              0.4444444444444444,
              "#bd3786"
             ],
             [
              0.5555555555555556,
              "#d8576b"
             ],
             [
              0.6666666666666666,
              "#ed7953"
             ],
             [
              0.7777777777777778,
              "#fb9f3a"
             ],
             [
              0.8888888888888888,
              "#fdca26"
             ],
             [
              1,
              "#f0f921"
             ]
            ],
            "type": "heatmapgl"
           }
          ],
          "histogram": [
           {
            "marker": {
             "pattern": {
              "fillmode": "overlay",
              "size": 10,
              "solidity": 0.2
             }
            },
            "type": "histogram"
           }
          ],
          "histogram2d": [
           {
            "colorbar": {
             "outlinewidth": 0,
             "ticks": ""
            },
            "colorscale": [
             [
              0,
              "#0d0887"
             ],
             [
              0.1111111111111111,
              "#46039f"
             ],
             [
              0.2222222222222222,
              "#7201a8"
             ],
             [
              0.3333333333333333,
              "#9c179e"
             ],
             [
              0.4444444444444444,
              "#bd3786"
             ],
             [
              0.5555555555555556,
              "#d8576b"
             ],
             [
              0.6666666666666666,
              "#ed7953"
             ],
             [
              0.7777777777777778,
              "#fb9f3a"
             ],
             [
              0.8888888888888888,
              "#fdca26"
             ],
             [
              1,
              "#f0f921"
             ]
            ],
            "type": "histogram2d"
           }
          ],
          "histogram2dcontour": [
           {
            "colorbar": {
             "outlinewidth": 0,
             "ticks": ""
            },
            "colorscale": [
             [
              0,
              "#0d0887"
             ],
             [
              0.1111111111111111,
              "#46039f"
             ],
             [
              0.2222222222222222,
              "#7201a8"
             ],
             [
              0.3333333333333333,
              "#9c179e"
             ],
             [
              0.4444444444444444,
              "#bd3786"
             ],
             [
              0.5555555555555556,
              "#d8576b"
             ],
             [
              0.6666666666666666,
              "#ed7953"
             ],
             [
              0.7777777777777778,
              "#fb9f3a"
             ],
             [
              0.8888888888888888,
              "#fdca26"
             ],
             [
              1,
              "#f0f921"
             ]
            ],
            "type": "histogram2dcontour"
           }
          ],
          "mesh3d": [
           {
            "colorbar": {
             "outlinewidth": 0,
             "ticks": ""
            },
            "type": "mesh3d"
           }
          ],
          "parcoords": [
           {
            "line": {
             "colorbar": {
              "outlinewidth": 0,
              "ticks": ""
             }
            },
            "type": "parcoords"
           }
          ],
          "pie": [
           {
            "automargin": true,
            "type": "pie"
           }
          ],
          "scatter": [
           {
            "fillpattern": {
             "fillmode": "overlay",
             "size": 10,
             "solidity": 0.2
            },
            "type": "scatter"
           }
          ],
          "scatter3d": [
           {
            "line": {
             "colorbar": {
              "outlinewidth": 0,
              "ticks": ""
             }
            },
            "marker": {
             "colorbar": {
              "outlinewidth": 0,
              "ticks": ""
             }
            },
            "type": "scatter3d"
           }
          ],
          "scattercarpet": [
           {
            "marker": {
             "colorbar": {
              "outlinewidth": 0,
              "ticks": ""
             }
            },
            "type": "scattercarpet"
           }
          ],
          "scattergeo": [
           {
            "marker": {
             "colorbar": {
              "outlinewidth": 0,
              "ticks": ""
             }
            },
            "type": "scattergeo"
           }
          ],
          "scattergl": [
           {
            "marker": {
             "colorbar": {
              "outlinewidth": 0,
              "ticks": ""
             }
            },
            "type": "scattergl"
           }
          ],
          "scattermapbox": [
           {
            "marker": {
             "colorbar": {
              "outlinewidth": 0,
              "ticks": ""
             }
            },
            "type": "scattermapbox"
           }
          ],
          "scatterpolar": [
           {
            "marker": {
             "colorbar": {
              "outlinewidth": 0,
              "ticks": ""
             }
            },
            "type": "scatterpolar"
           }
          ],
          "scatterpolargl": [
           {
            "marker": {
             "colorbar": {
              "outlinewidth": 0,
              "ticks": ""
             }
            },
            "type": "scatterpolargl"
           }
          ],
          "scatterternary": [
           {
            "marker": {
             "colorbar": {
              "outlinewidth": 0,
              "ticks": ""
             }
            },
            "type": "scatterternary"
           }
          ],
          "surface": [
           {
            "colorbar": {
             "outlinewidth": 0,
             "ticks": ""
            },
            "colorscale": [
             [
              0,
              "#0d0887"
             ],
             [
              0.1111111111111111,
              "#46039f"
             ],
             [
              0.2222222222222222,
              "#7201a8"
             ],
             [
              0.3333333333333333,
              "#9c179e"
             ],
             [
              0.4444444444444444,
              "#bd3786"
             ],
             [
              0.5555555555555556,
              "#d8576b"
             ],
             [
              0.6666666666666666,
              "#ed7953"
             ],
             [
              0.7777777777777778,
              "#fb9f3a"
             ],
             [
              0.8888888888888888,
              "#fdca26"
             ],
             [
              1,
              "#f0f921"
             ]
            ],
            "type": "surface"
           }
          ],
          "table": [
           {
            "cells": {
             "fill": {
              "color": "#EBF0F8"
             },
             "line": {
              "color": "white"
             }
            },
            "header": {
             "fill": {
              "color": "#C8D4E3"
             },
             "line": {
              "color": "white"
             }
            },
            "type": "table"
           }
          ]
         },
         "layout": {
          "annotationdefaults": {
           "arrowcolor": "#2a3f5f",
           "arrowhead": 0,
           "arrowwidth": 1
          },
          "autotypenumbers": "strict",
          "coloraxis": {
           "colorbar": {
            "outlinewidth": 0,
            "ticks": ""
           }
          },
          "colorscale": {
           "diverging": [
            [
             0,
             "#8e0152"
            ],
            [
             0.1,
             "#c51b7d"
            ],
            [
             0.2,
             "#de77ae"
            ],
            [
             0.3,
             "#f1b6da"
            ],
            [
             0.4,
             "#fde0ef"
            ],
            [
             0.5,
             "#f7f7f7"
            ],
            [
             0.6,
             "#e6f5d0"
            ],
            [
             0.7,
             "#b8e186"
            ],
            [
             0.8,
             "#7fbc41"
            ],
            [
             0.9,
             "#4d9221"
            ],
            [
             1,
             "#276419"
            ]
           ],
           "sequential": [
            [
             0,
             "#0d0887"
            ],
            [
             0.1111111111111111,
             "#46039f"
            ],
            [
             0.2222222222222222,
             "#7201a8"
            ],
            [
             0.3333333333333333,
             "#9c179e"
            ],
            [
             0.4444444444444444,
             "#bd3786"
            ],
            [
             0.5555555555555556,
             "#d8576b"
            ],
            [
             0.6666666666666666,
             "#ed7953"
            ],
            [
             0.7777777777777778,
             "#fb9f3a"
            ],
            [
             0.8888888888888888,
             "#fdca26"
            ],
            [
             1,
             "#f0f921"
            ]
           ],
           "sequentialminus": [
            [
             0,
             "#0d0887"
            ],
            [
             0.1111111111111111,
             "#46039f"
            ],
            [
             0.2222222222222222,
             "#7201a8"
            ],
            [
             0.3333333333333333,
             "#9c179e"
            ],
            [
             0.4444444444444444,
             "#bd3786"
            ],
            [
             0.5555555555555556,
             "#d8576b"
            ],
            [
             0.6666666666666666,
             "#ed7953"
            ],
            [
             0.7777777777777778,
             "#fb9f3a"
            ],
            [
             0.8888888888888888,
             "#fdca26"
            ],
            [
             1,
             "#f0f921"
            ]
           ]
          },
          "colorway": [
           "#636efa",
           "#EF553B",
           "#00cc96",
           "#ab63fa",
           "#FFA15A",
           "#19d3f3",
           "#FF6692",
           "#B6E880",
           "#FF97FF",
           "#FECB52"
          ],
          "font": {
           "color": "#2a3f5f"
          },
          "geo": {
           "bgcolor": "white",
           "lakecolor": "white",
           "landcolor": "#E5ECF6",
           "showlakes": true,
           "showland": true,
           "subunitcolor": "white"
          },
          "hoverlabel": {
           "align": "left"
          },
          "hovermode": "closest",
          "mapbox": {
           "style": "light"
          },
          "paper_bgcolor": "white",
          "plot_bgcolor": "#E5ECF6",
          "polar": {
           "angularaxis": {
            "gridcolor": "white",
            "linecolor": "white",
            "ticks": ""
           },
           "bgcolor": "#E5ECF6",
           "radialaxis": {
            "gridcolor": "white",
            "linecolor": "white",
            "ticks": ""
           }
          },
          "scene": {
           "xaxis": {
            "backgroundcolor": "#E5ECF6",
            "gridcolor": "white",
            "gridwidth": 2,
            "linecolor": "white",
            "showbackground": true,
            "ticks": "",
            "zerolinecolor": "white"
           },
           "yaxis": {
            "backgroundcolor": "#E5ECF6",
            "gridcolor": "white",
            "gridwidth": 2,
            "linecolor": "white",
            "showbackground": true,
            "ticks": "",
            "zerolinecolor": "white"
           },
           "zaxis": {
            "backgroundcolor": "#E5ECF6",
            "gridcolor": "white",
            "gridwidth": 2,
            "linecolor": "white",
            "showbackground": true,
            "ticks": "",
            "zerolinecolor": "white"
           }
          },
          "shapedefaults": {
           "line": {
            "color": "#2a3f5f"
           }
          },
          "ternary": {
           "aaxis": {
            "gridcolor": "white",
            "linecolor": "white",
            "ticks": ""
           },
           "baxis": {
            "gridcolor": "white",
            "linecolor": "white",
            "ticks": ""
           },
           "bgcolor": "#E5ECF6",
           "caxis": {
            "gridcolor": "white",
            "linecolor": "white",
            "ticks": ""
           }
          },
          "title": {
           "x": 0.05
          },
          "xaxis": {
           "automargin": true,
           "gridcolor": "white",
           "linecolor": "white",
           "ticks": "",
           "title": {
            "standoff": 15
           },
           "zerolinecolor": "white",
           "zerolinewidth": 2
          },
          "yaxis": {
           "automargin": true,
           "gridcolor": "white",
           "linecolor": "white",
           "ticks": "",
           "title": {
            "standoff": 15
           },
           "zerolinecolor": "white",
           "zerolinewidth": 2
          }
         }
        },
        "xaxis": {
         "anchor": "y",
         "domain": [
          0,
          1
         ],
         "title": {
          "text": "Date"
         }
        },
        "yaxis": {
         "anchor": "x",
         "domain": [
          0,
          1
         ],
         "title": {
          "text": "Compound Return"
         }
        }
       }
      }
     },
     "metadata": {},
     "output_type": "display_data"
    }
   ],
   "source": [
    "import plotly.express as px\n",
    "\n",
    "\n",
    "fig1 = px.line(accum, x=\"Date\", y=\"Accumulation\", color=\"Quintile\")\n",
    "string = \"$%{y:,.2f}<extra></extra>\"\n",
    "fig1.update_traces(mode=\"lines\", hovertemplate=string)\n",
    "fig1.update_layout(\n",
    "    xaxis_title=\"Date\",\n",
    "    yaxis_title=\"Compound Return\",\n",
    "    hovermode=\"x unified\",\n",
    "    legend = dict(\n",
    "        yanchor=\"top\",\n",
    "        y=0.99,\n",
    "        xanchor=\"left\",\n",
    "        x=0.01\n",
    "    )\n",
    ")\n",
    "fig1.show()\n"
   ]
  },
  {
   "cell_type": "markdown",
   "metadata": {},
   "source": [
    "# FIGURE (CUMULATIVE RETURN-LOG SCALE)"
   ]
  },
  {
   "cell_type": "code",
   "execution_count": 13,
   "metadata": {},
   "outputs": [
    {
     "data": {
      "application/vnd.plotly.v1+json": {
       "config": {
        "plotlyServerURL": "https://plot.ly"
       },
       "data": [
        {
         "hovertemplate": "$%{y:,.2f}<extra></extra>",
         "legendgroup": "Lo 20",
         "line": {
          "color": "#636efa",
          "dash": "solid"
         },
         "marker": {
          "symbol": "circle"
         },
         "mode": "lines",
         "name": "Lo 20",
         "orientation": "v",
         "showlegend": true,
         "type": "scatter",
         "x": [
          1979,
          1980,
          1981,
          1982,
          1983,
          1984,
          1985,
          1986,
          1987,
          1988,
          1989,
          1990,
          1991,
          1992,
          1993,
          1994,
          1995,
          1996,
          1997,
          1998,
          1999,
          2000,
          2001,
          2002,
          2003,
          2004,
          2005,
          2006,
          2007,
          2008,
          2009,
          2010,
          2011,
          2012,
          2013,
          2014,
          2015,
          2016,
          2017,
          2018,
          2019,
          2020,
          2021,
          2022
         ],
         "xaxis": "x",
         "y": [
          1,
          1.3933,
          1.2759841399999998,
          1.547258368164,
          1.8027107247478764,
          1.7228506396415455,
          2.2598631840178154,
          2.5328546566471677,
          2.6683623807777916,
          2.9536103192829377,
          3.9566563837114233,
          4.0535944651123526,
          6.072284508738304,
          6.244130160335597,
          6.134233469513691,
          6.196189227555779,
          8.553219609717997,
          10.320314781085735,
          13.363775610027917,
          18.935133661848557,
          24.350581889137246,
          20.805137166078865,
          17.495039842955716,
          13.221001609321636,
          16.747042738527714,
          18.00809505673885,
          18.605963812622576,
          20.332597254433953,
          23.13442915609495,
          15.058199937702204,
          20.17196463654587,
          23.48016683693939,
          23.94977017367818,
          27.68832929778934,
          37.240802905526664,
          41.9592126336569,
          44.54390013189017,
          47.39025535031795,
          62.37031506655346,
          62.8256183665393,
          85.97685873460904,
          121.86359957043486,
          151.06211802751105,
          108.97621194504647
         ],
         "yaxis": "y"
        },
        {
         "hovertemplate": "$%{y:,.2f}<extra></extra>",
         "legendgroup": "Qnt 2",
         "line": {
          "color": "#EF553B",
          "dash": "solid"
         },
         "marker": {
          "symbol": "circle"
         },
         "mode": "lines",
         "name": "Qnt 2",
         "orientation": "v",
         "showlegend": true,
         "type": "scatter",
         "x": [
          1979,
          1980,
          1981,
          1982,
          1983,
          1984,
          1985,
          1986,
          1987,
          1988,
          1989,
          1990,
          1991,
          1992,
          1993,
          1994,
          1995,
          1996,
          1997,
          1998,
          1999,
          2000,
          2001,
          2002,
          2003,
          2004,
          2005,
          2006,
          2007,
          2008,
          2009,
          2010,
          2011,
          2012,
          2013,
          2014,
          2015,
          2016,
          2017,
          2018,
          2019,
          2020,
          2021,
          2022
         ],
         "xaxis": "x",
         "y": [
          1,
          1.3892,
          1.30807072,
          1.547578468832,
          1.8382137052786496,
          1.9225877143509398,
          2.6174109143173694,
          3.112363318214784,
          3.1584262953243627,
          3.7585272914359913,
          4.64704314313146,
          4.44629087934818,
          5.546747871986855,
          6.461961270864687,
          7.468734836865405,
          7.450062999773242,
          9.819183033701133,
          12.011806605126596,
          15.520455314484074,
          17.039907889772067,
          20.301346259874443,
          21.15603293741516,
          20.63136332056726,
          17.272577371978908,
          23.449251040198565,
          26.385097270431423,
          27.741291270131594,
          32.41847297827578,
          35.715431680166425,
          23.311462257644628,
          29.202268770151424,
          34.42947488000853,
          36.70870611706509,
          42.09020243382684,
          56.08940376331765,
          63.17349545862467,
          63.48304558637193,
          70.5614051692524,
          84.86420199705987,
          83.12448585612015,
          105.23559909384811,
          126.21957755316143,
          157.4589229975689,
          133.08428171754522
         ],
         "yaxis": "y"
        },
        {
         "hovertemplate": "$%{y:,.2f}<extra></extra>",
         "legendgroup": "Qnt 3",
         "line": {
          "color": "#00cc96",
          "dash": "solid"
         },
         "marker": {
          "symbol": "circle"
         },
         "mode": "lines",
         "name": "Qnt 3",
         "orientation": "v",
         "showlegend": true,
         "type": "scatter",
         "x": [
          1979,
          1980,
          1981,
          1982,
          1983,
          1984,
          1985,
          1986,
          1987,
          1988,
          1989,
          1990,
          1991,
          1992,
          1993,
          1994,
          1995,
          1996,
          1997,
          1998,
          1999,
          2000,
          2001,
          2002,
          2003,
          2004,
          2005,
          2006,
          2007,
          2008,
          2009,
          2010,
          2011,
          2012,
          2013,
          2014,
          2015,
          2016,
          2017,
          2018,
          2019,
          2020,
          2021,
          2022
         ],
         "xaxis": "x",
         "y": [
          1,
          1.3793,
          1.24178379,
          1.50131660211,
          1.904420109776535,
          1.9838344283542166,
          2.6420706916821453,
          3.0428728156103264,
          3.038612793668472,
          3.5803974547795603,
          4.601884848628169,
          4.289416867406317,
          5.23566222835615,
          5.677552120429409,
          6.692130684350145,
          6.897579096359694,
          9.465547793934409,
          11.716455059332011,
          15.885169769442339,
          17.124213011458842,
          17.745821943774796,
          20.233786180292025,
          21.52267835997663,
          19.181010954411175,
          26.3662176579336,
          31.022491696324675,
          34.01926439418964,
          40.74827489136035,
          40.89904350845839,
          26.7397946458301,
          33.127931586718915,
          40.38626139736903,
          42.22787491708907,
          47.278328757172915,
          62.71470309638987,
          71.16864507378322,
          71.08324269969468,
          85.57000756189245,
          99.25265177103906,
          89.99237936080112,
          117.17007792776307,
          126.4030800684708,
          152.6949207227127,
          133.59278614030134
         ],
         "yaxis": "y"
        },
        {
         "hovertemplate": "$%{y:,.2f}<extra></extra>",
         "legendgroup": "Qnt 4",
         "line": {
          "color": "#ab63fa",
          "dash": "solid"
         },
         "marker": {
          "symbol": "circle"
         },
         "mode": "lines",
         "name": "Qnt 4",
         "orientation": "v",
         "showlegend": true,
         "type": "scatter",
         "x": [
          1979,
          1980,
          1981,
          1982,
          1983,
          1984,
          1985,
          1986,
          1987,
          1988,
          1989,
          1990,
          1991,
          1992,
          1993,
          1994,
          1995,
          1996,
          1997,
          1998,
          1999,
          2000,
          2001,
          2002,
          2003,
          2004,
          2005,
          2006,
          2007,
          2008,
          2009,
          2010,
          2011,
          2012,
          2013,
          2014,
          2015,
          2016,
          2017,
          2018,
          2019,
          2020,
          2021,
          2022
         ],
         "xaxis": "x",
         "y": [
          1,
          1.1919,
          1.29249636,
          1.6236339274319997,
          2.058118366412803,
          2.2133004912403282,
          2.8786186189071707,
          3.4180717480903744,
          3.509334263764387,
          4.291915804583846,
          5.588074377568168,
          4.706835048225668,
          6.376349439831312,
          7.577653674295532,
          8.861308206721196,
          8.528123018148479,
          11.52405263442404,
          14.213766519298611,
          19.44016846844471,
          22.447562530513107,
          22.618164005745008,
          28.95577356015476,
          28.365075779527604,
          24.558482609915,
          32.1298627985518,
          36.804757835741086,
          40.40426315207656,
          48.679056245621844,
          46.352197357081124,
          23.815759002068283,
          28.395529458166013,
          31.964847511057478,
          32.035170175581804,
          38.48064641490886,
          52.26826202537071,
          55.90090623613398,
          52.59157258695485,
          63.9408339512197,
          73.65984071180509,
          65.06373730073743,
          79.07846631531628,
          71.11526475736393,
          93.55924231478798,
          96.98351058350922
         ],
         "yaxis": "y"
        },
        {
         "hovertemplate": "$%{y:,.2f}<extra></extra>",
         "legendgroup": "Hi 20",
         "line": {
          "color": "#FFA15A",
          "dash": "solid"
         },
         "marker": {
          "symbol": "circle"
         },
         "mode": "lines",
         "name": "Hi 20",
         "orientation": "v",
         "showlegend": true,
         "type": "scatter",
         "x": [
          1979,
          1980,
          1981,
          1982,
          1983,
          1984,
          1985,
          1986,
          1987,
          1988,
          1989,
          1990,
          1991,
          1992,
          1993,
          1994,
          1995,
          1996,
          1997,
          1998,
          1999,
          2000,
          2001,
          2002,
          2003,
          2004,
          2005,
          2006,
          2007,
          2008,
          2009,
          2010,
          2011,
          2012,
          2013,
          2014,
          2015,
          2016,
          2017,
          2018,
          2019,
          2020,
          2021,
          2022
         ],
         "xaxis": "x",
         "y": [
          1,
          1.1807,
          1.3864960100000003,
          1.8369685636490003,
          2.4532715167532397,
          2.9223370307564593,
          3.8837859138753346,
          4.808515339969052,
          4.760911038103358,
          6.1539536078524,
          7.919522897945253,
          6.598546478567984,
          8.554355654815534,
          11.21133852120124,
          14.01417315150155,
          13.446599138865738,
          19.61589882377734,
          24.172672120540813,
          32.53883394145999,
          35.887079954036224,
          37.36921635613792,
          45.56054858140335,
          53.25116918194424,
          37.35569518113389,
          53.96777282818413,
          67.999393763512,
          78.29450197930773,
          96.47448533890298,
          91.59287638075449,
          59.416298908195444,
          77.71651897191964,
          89.6460046341093,
          73.50972379996963,
          95.53323705044055,
          137.71116120821006,
          152.80430447662988,
          139.877060317907,
          174.06301385960344,
          202.64416073535034,
          165.3171063278988,
          210.38254951288403,
          206.93227570087274,
          291.3813374143989,
          287.0980317544072
         ],
         "yaxis": "y"
        }
       ],
       "layout": {
        "legend": {
         "title": {
          "text": "Quintile"
         },
         "tracegroupgap": 0
        },
        "margin": {
         "t": 60
        },
        "template": {
         "data": {
          "bar": [
           {
            "error_x": {
             "color": "#2a3f5f"
            },
            "error_y": {
             "color": "#2a3f5f"
            },
            "marker": {
             "line": {
              "color": "#E5ECF6",
              "width": 0.5
             },
             "pattern": {
              "fillmode": "overlay",
              "size": 10,
              "solidity": 0.2
             }
            },
            "type": "bar"
           }
          ],
          "barpolar": [
           {
            "marker": {
             "line": {
              "color": "#E5ECF6",
              "width": 0.5
             },
             "pattern": {
              "fillmode": "overlay",
              "size": 10,
              "solidity": 0.2
             }
            },
            "type": "barpolar"
           }
          ],
          "carpet": [
           {
            "aaxis": {
             "endlinecolor": "#2a3f5f",
             "gridcolor": "white",
             "linecolor": "white",
             "minorgridcolor": "white",
             "startlinecolor": "#2a3f5f"
            },
            "baxis": {
             "endlinecolor": "#2a3f5f",
             "gridcolor": "white",
             "linecolor": "white",
             "minorgridcolor": "white",
             "startlinecolor": "#2a3f5f"
            },
            "type": "carpet"
           }
          ],
          "choropleth": [
           {
            "colorbar": {
             "outlinewidth": 0,
             "ticks": ""
            },
            "type": "choropleth"
           }
          ],
          "contour": [
           {
            "colorbar": {
             "outlinewidth": 0,
             "ticks": ""
            },
            "colorscale": [
             [
              0,
              "#0d0887"
             ],
             [
              0.1111111111111111,
              "#46039f"
             ],
             [
              0.2222222222222222,
              "#7201a8"
             ],
             [
              0.3333333333333333,
              "#9c179e"
             ],
             [
              0.4444444444444444,
              "#bd3786"
             ],
             [
              0.5555555555555556,
              "#d8576b"
             ],
             [
              0.6666666666666666,
              "#ed7953"
             ],
             [
              0.7777777777777778,
              "#fb9f3a"
             ],
             [
              0.8888888888888888,
              "#fdca26"
             ],
             [
              1,
              "#f0f921"
             ]
            ],
            "type": "contour"
           }
          ],
          "contourcarpet": [
           {
            "colorbar": {
             "outlinewidth": 0,
             "ticks": ""
            },
            "type": "contourcarpet"
           }
          ],
          "heatmap": [
           {
            "colorbar": {
             "outlinewidth": 0,
             "ticks": ""
            },
            "colorscale": [
             [
              0,
              "#0d0887"
             ],
             [
              0.1111111111111111,
              "#46039f"
             ],
             [
              0.2222222222222222,
              "#7201a8"
             ],
             [
              0.3333333333333333,
              "#9c179e"
             ],
             [
              0.4444444444444444,
              "#bd3786"
             ],
             [
              0.5555555555555556,
              "#d8576b"
             ],
             [
              0.6666666666666666,
              "#ed7953"
             ],
             [
              0.7777777777777778,
              "#fb9f3a"
             ],
             [
              0.8888888888888888,
              "#fdca26"
             ],
             [
              1,
              "#f0f921"
             ]
            ],
            "type": "heatmap"
           }
          ],
          "heatmapgl": [
           {
            "colorbar": {
             "outlinewidth": 0,
             "ticks": ""
            },
            "colorscale": [
             [
              0,
              "#0d0887"
             ],
             [
              0.1111111111111111,
              "#46039f"
             ],
             [
              0.2222222222222222,
              "#7201a8"
             ],
             [
              0.3333333333333333,
              "#9c179e"
             ],
             [
              0.4444444444444444,
              "#bd3786"
             ],
             [
              0.5555555555555556,
              "#d8576b"
             ],
             [
              0.6666666666666666,
              "#ed7953"
             ],
             [
              0.7777777777777778,
              "#fb9f3a"
             ],
             [
              0.8888888888888888,
              "#fdca26"
             ],
             [
              1,
              "#f0f921"
             ]
            ],
            "type": "heatmapgl"
           }
          ],
          "histogram": [
           {
            "marker": {
             "pattern": {
              "fillmode": "overlay",
              "size": 10,
              "solidity": 0.2
             }
            },
            "type": "histogram"
           }
          ],
          "histogram2d": [
           {
            "colorbar": {
             "outlinewidth": 0,
             "ticks": ""
            },
            "colorscale": [
             [
              0,
              "#0d0887"
             ],
             [
              0.1111111111111111,
              "#46039f"
             ],
             [
              0.2222222222222222,
              "#7201a8"
             ],
             [
              0.3333333333333333,
              "#9c179e"
             ],
             [
              0.4444444444444444,
              "#bd3786"
             ],
             [
              0.5555555555555556,
              "#d8576b"
             ],
             [
              0.6666666666666666,
              "#ed7953"
             ],
             [
              0.7777777777777778,
              "#fb9f3a"
             ],
             [
              0.8888888888888888,
              "#fdca26"
             ],
             [
              1,
              "#f0f921"
             ]
            ],
            "type": "histogram2d"
           }
          ],
          "histogram2dcontour": [
           {
            "colorbar": {
             "outlinewidth": 0,
             "ticks": ""
            },
            "colorscale": [
             [
              0,
              "#0d0887"
             ],
             [
              0.1111111111111111,
              "#46039f"
             ],
             [
              0.2222222222222222,
              "#7201a8"
             ],
             [
              0.3333333333333333,
              "#9c179e"
             ],
             [
              0.4444444444444444,
              "#bd3786"
             ],
             [
              0.5555555555555556,
              "#d8576b"
             ],
             [
              0.6666666666666666,
              "#ed7953"
             ],
             [
              0.7777777777777778,
              "#fb9f3a"
             ],
             [
              0.8888888888888888,
              "#fdca26"
             ],
             [
              1,
              "#f0f921"
             ]
            ],
            "type": "histogram2dcontour"
           }
          ],
          "mesh3d": [
           {
            "colorbar": {
             "outlinewidth": 0,
             "ticks": ""
            },
            "type": "mesh3d"
           }
          ],
          "parcoords": [
           {
            "line": {
             "colorbar": {
              "outlinewidth": 0,
              "ticks": ""
             }
            },
            "type": "parcoords"
           }
          ],
          "pie": [
           {
            "automargin": true,
            "type": "pie"
           }
          ],
          "scatter": [
           {
            "fillpattern": {
             "fillmode": "overlay",
             "size": 10,
             "solidity": 0.2
            },
            "type": "scatter"
           }
          ],
          "scatter3d": [
           {
            "line": {
             "colorbar": {
              "outlinewidth": 0,
              "ticks": ""
             }
            },
            "marker": {
             "colorbar": {
              "outlinewidth": 0,
              "ticks": ""
             }
            },
            "type": "scatter3d"
           }
          ],
          "scattercarpet": [
           {
            "marker": {
             "colorbar": {
              "outlinewidth": 0,
              "ticks": ""
             }
            },
            "type": "scattercarpet"
           }
          ],
          "scattergeo": [
           {
            "marker": {
             "colorbar": {
              "outlinewidth": 0,
              "ticks": ""
             }
            },
            "type": "scattergeo"
           }
          ],
          "scattergl": [
           {
            "marker": {
             "colorbar": {
              "outlinewidth": 0,
              "ticks": ""
             }
            },
            "type": "scattergl"
           }
          ],
          "scattermapbox": [
           {
            "marker": {
             "colorbar": {
              "outlinewidth": 0,
              "ticks": ""
             }
            },
            "type": "scattermapbox"
           }
          ],
          "scatterpolar": [
           {
            "marker": {
             "colorbar": {
              "outlinewidth": 0,
              "ticks": ""
             }
            },
            "type": "scatterpolar"
           }
          ],
          "scatterpolargl": [
           {
            "marker": {
             "colorbar": {
              "outlinewidth": 0,
              "ticks": ""
             }
            },
            "type": "scatterpolargl"
           }
          ],
          "scatterternary": [
           {
            "marker": {
             "colorbar": {
              "outlinewidth": 0,
              "ticks": ""
             }
            },
            "type": "scatterternary"
           }
          ],
          "surface": [
           {
            "colorbar": {
             "outlinewidth": 0,
             "ticks": ""
            },
            "colorscale": [
             [
              0,
              "#0d0887"
             ],
             [
              0.1111111111111111,
              "#46039f"
             ],
             [
              0.2222222222222222,
              "#7201a8"
             ],
             [
              0.3333333333333333,
              "#9c179e"
             ],
             [
              0.4444444444444444,
              "#bd3786"
             ],
             [
              0.5555555555555556,
              "#d8576b"
             ],
             [
              0.6666666666666666,
              "#ed7953"
             ],
             [
              0.7777777777777778,
              "#fb9f3a"
             ],
             [
              0.8888888888888888,
              "#fdca26"
             ],
             [
              1,
              "#f0f921"
             ]
            ],
            "type": "surface"
           }
          ],
          "table": [
           {
            "cells": {
             "fill": {
              "color": "#EBF0F8"
             },
             "line": {
              "color": "white"
             }
            },
            "header": {
             "fill": {
              "color": "#C8D4E3"
             },
             "line": {
              "color": "white"
             }
            },
            "type": "table"
           }
          ]
         },
         "layout": {
          "annotationdefaults": {
           "arrowcolor": "#2a3f5f",
           "arrowhead": 0,
           "arrowwidth": 1
          },
          "autotypenumbers": "strict",
          "coloraxis": {
           "colorbar": {
            "outlinewidth": 0,
            "ticks": ""
           }
          },
          "colorscale": {
           "diverging": [
            [
             0,
             "#8e0152"
            ],
            [
             0.1,
             "#c51b7d"
            ],
            [
             0.2,
             "#de77ae"
            ],
            [
             0.3,
             "#f1b6da"
            ],
            [
             0.4,
             "#fde0ef"
            ],
            [
             0.5,
             "#f7f7f7"
            ],
            [
             0.6,
             "#e6f5d0"
            ],
            [
             0.7,
             "#b8e186"
            ],
            [
             0.8,
             "#7fbc41"
            ],
            [
             0.9,
             "#4d9221"
            ],
            [
             1,
             "#276419"
            ]
           ],
           "sequential": [
            [
             0,
             "#0d0887"
            ],
            [
             0.1111111111111111,
             "#46039f"
            ],
            [
             0.2222222222222222,
             "#7201a8"
            ],
            [
             0.3333333333333333,
             "#9c179e"
            ],
            [
             0.4444444444444444,
             "#bd3786"
            ],
            [
             0.5555555555555556,
             "#d8576b"
            ],
            [
             0.6666666666666666,
             "#ed7953"
            ],
            [
             0.7777777777777778,
             "#fb9f3a"
            ],
            [
             0.8888888888888888,
             "#fdca26"
            ],
            [
             1,
             "#f0f921"
            ]
           ],
           "sequentialminus": [
            [
             0,
             "#0d0887"
            ],
            [
             0.1111111111111111,
             "#46039f"
            ],
            [
             0.2222222222222222,
             "#7201a8"
            ],
            [
             0.3333333333333333,
             "#9c179e"
            ],
            [
             0.4444444444444444,
             "#bd3786"
            ],
            [
             0.5555555555555556,
             "#d8576b"
            ],
            [
             0.6666666666666666,
             "#ed7953"
            ],
            [
             0.7777777777777778,
             "#fb9f3a"
            ],
            [
             0.8888888888888888,
             "#fdca26"
            ],
            [
             1,
             "#f0f921"
            ]
           ]
          },
          "colorway": [
           "#636efa",
           "#EF553B",
           "#00cc96",
           "#ab63fa",
           "#FFA15A",
           "#19d3f3",
           "#FF6692",
           "#B6E880",
           "#FF97FF",
           "#FECB52"
          ],
          "font": {
           "color": "#2a3f5f"
          },
          "geo": {
           "bgcolor": "white",
           "lakecolor": "white",
           "landcolor": "#E5ECF6",
           "showlakes": true,
           "showland": true,
           "subunitcolor": "white"
          },
          "hoverlabel": {
           "align": "left"
          },
          "hovermode": "closest",
          "mapbox": {
           "style": "light"
          },
          "paper_bgcolor": "white",
          "plot_bgcolor": "#E5ECF6",
          "polar": {
           "angularaxis": {
            "gridcolor": "white",
            "linecolor": "white",
            "ticks": ""
           },
           "bgcolor": "#E5ECF6",
           "radialaxis": {
            "gridcolor": "white",
            "linecolor": "white",
            "ticks": ""
           }
          },
          "scene": {
           "xaxis": {
            "backgroundcolor": "#E5ECF6",
            "gridcolor": "white",
            "gridwidth": 2,
            "linecolor": "white",
            "showbackground": true,
            "ticks": "",
            "zerolinecolor": "white"
           },
           "yaxis": {
            "backgroundcolor": "#E5ECF6",
            "gridcolor": "white",
            "gridwidth": 2,
            "linecolor": "white",
            "showbackground": true,
            "ticks": "",
            "zerolinecolor": "white"
           },
           "zaxis": {
            "backgroundcolor": "#E5ECF6",
            "gridcolor": "white",
            "gridwidth": 2,
            "linecolor": "white",
            "showbackground": true,
            "ticks": "",
            "zerolinecolor": "white"
           }
          },
          "shapedefaults": {
           "line": {
            "color": "#2a3f5f"
           }
          },
          "ternary": {
           "aaxis": {
            "gridcolor": "white",
            "linecolor": "white",
            "ticks": ""
           },
           "baxis": {
            "gridcolor": "white",
            "linecolor": "white",
            "ticks": ""
           },
           "bgcolor": "#E5ECF6",
           "caxis": {
            "gridcolor": "white",
            "linecolor": "white",
            "ticks": ""
           }
          },
          "title": {
           "x": 0.05
          },
          "xaxis": {
           "automargin": true,
           "gridcolor": "white",
           "linecolor": "white",
           "ticks": "",
           "title": {
            "standoff": 15
           },
           "zerolinecolor": "white",
           "zerolinewidth": 2
          },
          "yaxis": {
           "automargin": true,
           "gridcolor": "white",
           "linecolor": "white",
           "ticks": "",
           "title": {
            "standoff": 15
           },
           "zerolinecolor": "white",
           "zerolinewidth": 2
          }
         }
        },
        "xaxis": {
         "anchor": "y",
         "domain": [
          0,
          1
         ],
         "title": {
          "text": "Date"
         }
        },
        "yaxis": {
         "anchor": "x",
         "domain": [
          0,
          1
         ],
         "title": {
          "text": "Accumulation"
         },
         "type": "log"
        }
       }
      }
     },
     "metadata": {},
     "output_type": "display_data"
    }
   ],
   "source": [
    "fig2 = px.line(accum, x=\"Date\", y=\"Accumulation\", color=\"Quintile\", log_y=True)\n",
    "fig2.update_traces(mode=\"lines\", hovertemplate=string)\n",
    "fig1.update_layout(\n",
    "    xaxis_title=\"Date\",\n",
    "    yaxis_title=\"Compound Return (Log Scale)\",\n",
    "    hovermode=\"x unified\",\n",
    "    legend = dict(\n",
    "        yanchor=\"top\",\n",
    "        y=0.99,\n",
    "        xanchor=\"left\",\n",
    "        x=0.01\n",
    "    )\n",
    ")\n",
    "fig2.show()"
   ]
  },
  {
   "cell_type": "markdown",
   "metadata": {},
   "source": [
    "# FIGURE (DISTRIBUTIONS)"
   ]
  },
  {
   "cell_type": "code",
   "execution_count": 14,
   "metadata": {
    "id": "yeOx_Oy3-RIz"
   },
   "outputs": [
    {
     "data": {
      "application/vnd.plotly.v1+json": {
       "config": {
        "plotlyServerURL": "https://plot.ly"
       },
       "data": [
        {
         "alignmentgroup": "True",
         "hovertemplate": "Quintile=%{x}<br>Return=%{y}<extra></extra>",
         "legendgroup": "Lo 20",
         "marker": {
          "color": "#636efa"
         },
         "name": "Lo 20",
         "notched": false,
         "offsetgroup": "Lo 20",
         "orientation": "v",
         "showlegend": true,
         "type": "box",
         "x": [
          "Lo 20",
          "Lo 20",
          "Lo 20",
          "Lo 20",
          "Lo 20",
          "Lo 20",
          "Lo 20",
          "Lo 20",
          "Lo 20",
          "Lo 20",
          "Lo 20",
          "Lo 20",
          "Lo 20",
          "Lo 20",
          "Lo 20",
          "Lo 20",
          "Lo 20",
          "Lo 20",
          "Lo 20",
          "Lo 20",
          "Lo 20",
          "Lo 20",
          "Lo 20",
          "Lo 20",
          "Lo 20",
          "Lo 20",
          "Lo 20",
          "Lo 20",
          "Lo 20",
          "Lo 20",
          "Lo 20",
          "Lo 20",
          "Lo 20",
          "Lo 20",
          "Lo 20",
          "Lo 20",
          "Lo 20",
          "Lo 20",
          "Lo 20",
          "Lo 20",
          "Lo 20",
          "Lo 20",
          "Lo 20"
         ],
         "x0": " ",
         "xaxis": "x",
         "y": [
          0.3933,
          -0.0842,
          0.2126,
          0.16510000000000002,
          -0.0443,
          0.31170000000000003,
          0.1208,
          0.0535,
          0.1069,
          0.3396,
          0.0245,
          0.498,
          0.028300000000000002,
          -0.0176,
          0.0101,
          0.3804,
          0.2066,
          0.2949,
          0.4169,
          0.28600000000000003,
          -0.1456,
          -0.1591,
          -0.2443,
          0.2667,
          0.0753,
          0.0332,
          0.0928,
          0.1378,
          -0.34909999999999997,
          0.3396,
          0.16399999999999998,
          0.02,
          0.1561,
          0.345,
          0.1267,
          0.0616,
          0.0639,
          0.3161,
          0.0073,
          0.3685,
          0.4174,
          0.2396,
          -0.2786
         ],
         "y0": " ",
         "yaxis": "y"
        },
        {
         "alignmentgroup": "True",
         "hovertemplate": "Quintile=%{x}<br>Return=%{y}<extra></extra>",
         "legendgroup": "Qnt 2",
         "marker": {
          "color": "#EF553B"
         },
         "name": "Qnt 2",
         "notched": false,
         "offsetgroup": "Qnt 2",
         "orientation": "v",
         "showlegend": true,
         "type": "box",
         "x": [
          "Qnt 2",
          "Qnt 2",
          "Qnt 2",
          "Qnt 2",
          "Qnt 2",
          "Qnt 2",
          "Qnt 2",
          "Qnt 2",
          "Qnt 2",
          "Qnt 2",
          "Qnt 2",
          "Qnt 2",
          "Qnt 2",
          "Qnt 2",
          "Qnt 2",
          "Qnt 2",
          "Qnt 2",
          "Qnt 2",
          "Qnt 2",
          "Qnt 2",
          "Qnt 2",
          "Qnt 2",
          "Qnt 2",
          "Qnt 2",
          "Qnt 2",
          "Qnt 2",
          "Qnt 2",
          "Qnt 2",
          "Qnt 2",
          "Qnt 2",
          "Qnt 2",
          "Qnt 2",
          "Qnt 2",
          "Qnt 2",
          "Qnt 2",
          "Qnt 2",
          "Qnt 2",
          "Qnt 2",
          "Qnt 2",
          "Qnt 2",
          "Qnt 2",
          "Qnt 2",
          "Qnt 2"
         ],
         "x0": " ",
         "xaxis": "x",
         "y": [
          0.3892,
          -0.0584,
          0.18309999999999998,
          0.18780000000000002,
          0.045899999999999996,
          0.3614,
          0.1891,
          0.0148,
          0.19,
          0.2364,
          -0.0432,
          0.2475,
          0.165,
          0.1558,
          -0.0025,
          0.318,
          0.22329999999999997,
          0.2921,
          0.09789999999999999,
          0.19140000000000001,
          0.0421,
          -0.0248,
          -0.1628,
          0.3576,
          0.1252,
          0.051399999999999994,
          0.1686,
          0.1017,
          -0.34729999999999994,
          0.2527,
          0.179,
          0.0662,
          0.1466,
          0.3326,
          0.1263,
          0.0049,
          0.1115,
          0.2027,
          -0.020499999999999997,
          0.266,
          0.19940000000000002,
          0.2475,
          -0.1548
         ],
         "y0": " ",
         "yaxis": "y"
        },
        {
         "alignmentgroup": "True",
         "hovertemplate": "Quintile=%{x}<br>Return=%{y}<extra></extra>",
         "legendgroup": "Qnt 3",
         "marker": {
          "color": "#00cc96"
         },
         "name": "Qnt 3",
         "notched": false,
         "offsetgroup": "Qnt 3",
         "orientation": "v",
         "showlegend": true,
         "type": "box",
         "x": [
          "Qnt 3",
          "Qnt 3",
          "Qnt 3",
          "Qnt 3",
          "Qnt 3",
          "Qnt 3",
          "Qnt 3",
          "Qnt 3",
          "Qnt 3",
          "Qnt 3",
          "Qnt 3",
          "Qnt 3",
          "Qnt 3",
          "Qnt 3",
          "Qnt 3",
          "Qnt 3",
          "Qnt 3",
          "Qnt 3",
          "Qnt 3",
          "Qnt 3",
          "Qnt 3",
          "Qnt 3",
          "Qnt 3",
          "Qnt 3",
          "Qnt 3",
          "Qnt 3",
          "Qnt 3",
          "Qnt 3",
          "Qnt 3",
          "Qnt 3",
          "Qnt 3",
          "Qnt 3",
          "Qnt 3",
          "Qnt 3",
          "Qnt 3",
          "Qnt 3",
          "Qnt 3",
          "Qnt 3",
          "Qnt 3",
          "Qnt 3",
          "Qnt 3",
          "Qnt 3",
          "Qnt 3"
         ],
         "x0": " ",
         "xaxis": "x",
         "y": [
          0.37929999999999997,
          -0.09970000000000001,
          0.209,
          0.2685,
          0.0417,
          0.3318,
          0.1517,
          -0.0014000000000000002,
          0.1783,
          0.2853,
          -0.0679,
          0.2206,
          0.08439999999999999,
          0.1787,
          0.030699999999999998,
          0.37229999999999996,
          0.2378,
          0.3558,
          0.078,
          0.0363,
          0.1402,
          0.0637,
          -0.10880000000000001,
          0.3746,
          0.1766,
          0.0966,
          0.1978,
          0.0037,
          -0.34619999999999995,
          0.2389,
          0.2191,
          0.045599999999999995,
          0.11960000000000001,
          0.3265,
          0.1348,
          -0.0012,
          0.20379999999999998,
          0.15990000000000001,
          -0.0933,
          0.302,
          0.0788,
          0.20800000000000002,
          -0.1251
         ],
         "y0": " ",
         "yaxis": "y"
        },
        {
         "alignmentgroup": "True",
         "hovertemplate": "Quintile=%{x}<br>Return=%{y}<extra></extra>",
         "legendgroup": "Qnt 4",
         "marker": {
          "color": "#ab63fa"
         },
         "name": "Qnt 4",
         "notched": false,
         "offsetgroup": "Qnt 4",
         "orientation": "v",
         "showlegend": true,
         "type": "box",
         "x": [
          "Qnt 4",
          "Qnt 4",
          "Qnt 4",
          "Qnt 4",
          "Qnt 4",
          "Qnt 4",
          "Qnt 4",
          "Qnt 4",
          "Qnt 4",
          "Qnt 4",
          "Qnt 4",
          "Qnt 4",
          "Qnt 4",
          "Qnt 4",
          "Qnt 4",
          "Qnt 4",
          "Qnt 4",
          "Qnt 4",
          "Qnt 4",
          "Qnt 4",
          "Qnt 4",
          "Qnt 4",
          "Qnt 4",
          "Qnt 4",
          "Qnt 4",
          "Qnt 4",
          "Qnt 4",
          "Qnt 4",
          "Qnt 4",
          "Qnt 4",
          "Qnt 4",
          "Qnt 4",
          "Qnt 4",
          "Qnt 4",
          "Qnt 4",
          "Qnt 4",
          "Qnt 4",
          "Qnt 4",
          "Qnt 4",
          "Qnt 4",
          "Qnt 4",
          "Qnt 4",
          "Qnt 4"
         ],
         "x0": " ",
         "xaxis": "x",
         "y": [
          0.19190000000000002,
          0.08439999999999999,
          0.2562,
          0.2676,
          0.0754,
          0.3006,
          0.18739999999999998,
          0.026699999999999998,
          0.223,
          0.302,
          -0.1577,
          0.3547,
          0.1884,
          0.16940000000000002,
          -0.037599999999999995,
          0.3513,
          0.2334,
          0.3677,
          0.1547,
          0.0076,
          0.2802,
          -0.0204,
          -0.13419999999999999,
          0.30829999999999996,
          0.14550000000000002,
          0.0978,
          0.2048,
          -0.0478,
          -0.48619999999999997,
          0.1923,
          0.1257,
          0.0022,
          0.20120000000000002,
          0.3583,
          0.0695,
          -0.0592,
          0.2158,
          0.152,
          -0.1167,
          0.21539999999999998,
          -0.1007,
          0.3156,
          0.0366
         ],
         "y0": " ",
         "yaxis": "y"
        },
        {
         "alignmentgroup": "True",
         "hovertemplate": "Quintile=%{x}<br>Return=%{y}<extra></extra>",
         "legendgroup": "Hi 20",
         "marker": {
          "color": "#FFA15A"
         },
         "name": "Hi 20",
         "notched": false,
         "offsetgroup": "Hi 20",
         "orientation": "v",
         "showlegend": true,
         "type": "box",
         "x": [
          "Hi 20",
          "Hi 20",
          "Hi 20",
          "Hi 20",
          "Hi 20",
          "Hi 20",
          "Hi 20",
          "Hi 20",
          "Hi 20",
          "Hi 20",
          "Hi 20",
          "Hi 20",
          "Hi 20",
          "Hi 20",
          "Hi 20",
          "Hi 20",
          "Hi 20",
          "Hi 20",
          "Hi 20",
          "Hi 20",
          "Hi 20",
          "Hi 20",
          "Hi 20",
          "Hi 20",
          "Hi 20",
          "Hi 20",
          "Hi 20",
          "Hi 20",
          "Hi 20",
          "Hi 20",
          "Hi 20",
          "Hi 20",
          "Hi 20",
          "Hi 20",
          "Hi 20",
          "Hi 20",
          "Hi 20",
          "Hi 20",
          "Hi 20",
          "Hi 20",
          "Hi 20",
          "Hi 20",
          "Hi 20"
         ],
         "x0": " ",
         "xaxis": "x",
         "y": [
          0.1807,
          0.1743,
          0.3249,
          0.33549999999999996,
          0.1912,
          0.32899999999999996,
          0.23809999999999998,
          -0.009899999999999999,
          0.2926,
          0.2869,
          -0.1668,
          0.2964,
          0.3106,
          0.25,
          -0.0405,
          0.45880000000000004,
          0.2323,
          0.3461,
          0.10289999999999999,
          0.041299999999999996,
          0.2192,
          0.16879999999999998,
          -0.2985,
          0.4447,
          0.26,
          0.1514,
          0.2322,
          -0.0506,
          -0.3513,
          0.308,
          0.1535,
          -0.18,
          0.29960000000000003,
          0.4415,
          0.1096,
          -0.08460000000000001,
          0.2444,
          0.1642,
          -0.18420000000000003,
          0.2726,
          -0.016399999999999998,
          0.4081,
          -0.0147
         ],
         "y0": " ",
         "yaxis": "y"
        }
       ],
       "layout": {
        "boxmode": "overlay",
        "legend": {
         "title": {
          "text": "Quintile"
         },
         "tracegroupgap": 0
        },
        "margin": {
         "t": 60
        },
        "template": {
         "data": {
          "bar": [
           {
            "error_x": {
             "color": "#2a3f5f"
            },
            "error_y": {
             "color": "#2a3f5f"
            },
            "marker": {
             "line": {
              "color": "#E5ECF6",
              "width": 0.5
             },
             "pattern": {
              "fillmode": "overlay",
              "size": 10,
              "solidity": 0.2
             }
            },
            "type": "bar"
           }
          ],
          "barpolar": [
           {
            "marker": {
             "line": {
              "color": "#E5ECF6",
              "width": 0.5
             },
             "pattern": {
              "fillmode": "overlay",
              "size": 10,
              "solidity": 0.2
             }
            },
            "type": "barpolar"
           }
          ],
          "carpet": [
           {
            "aaxis": {
             "endlinecolor": "#2a3f5f",
             "gridcolor": "white",
             "linecolor": "white",
             "minorgridcolor": "white",
             "startlinecolor": "#2a3f5f"
            },
            "baxis": {
             "endlinecolor": "#2a3f5f",
             "gridcolor": "white",
             "linecolor": "white",
             "minorgridcolor": "white",
             "startlinecolor": "#2a3f5f"
            },
            "type": "carpet"
           }
          ],
          "choropleth": [
           {
            "colorbar": {
             "outlinewidth": 0,
             "ticks": ""
            },
            "type": "choropleth"
           }
          ],
          "contour": [
           {
            "colorbar": {
             "outlinewidth": 0,
             "ticks": ""
            },
            "colorscale": [
             [
              0,
              "#0d0887"
             ],
             [
              0.1111111111111111,
              "#46039f"
             ],
             [
              0.2222222222222222,
              "#7201a8"
             ],
             [
              0.3333333333333333,
              "#9c179e"
             ],
             [
              0.4444444444444444,
              "#bd3786"
             ],
             [
              0.5555555555555556,
              "#d8576b"
             ],
             [
              0.6666666666666666,
              "#ed7953"
             ],
             [
              0.7777777777777778,
              "#fb9f3a"
             ],
             [
              0.8888888888888888,
              "#fdca26"
             ],
             [
              1,
              "#f0f921"
             ]
            ],
            "type": "contour"
           }
          ],
          "contourcarpet": [
           {
            "colorbar": {
             "outlinewidth": 0,
             "ticks": ""
            },
            "type": "contourcarpet"
           }
          ],
          "heatmap": [
           {
            "colorbar": {
             "outlinewidth": 0,
             "ticks": ""
            },
            "colorscale": [
             [
              0,
              "#0d0887"
             ],
             [
              0.1111111111111111,
              "#46039f"
             ],
             [
              0.2222222222222222,
              "#7201a8"
             ],
             [
              0.3333333333333333,
              "#9c179e"
             ],
             [
              0.4444444444444444,
              "#bd3786"
             ],
             [
              0.5555555555555556,
              "#d8576b"
             ],
             [
              0.6666666666666666,
              "#ed7953"
             ],
             [
              0.7777777777777778,
              "#fb9f3a"
             ],
             [
              0.8888888888888888,
              "#fdca26"
             ],
             [
              1,
              "#f0f921"
             ]
            ],
            "type": "heatmap"
           }
          ],
          "heatmapgl": [
           {
            "colorbar": {
             "outlinewidth": 0,
             "ticks": ""
            },
            "colorscale": [
             [
              0,
              "#0d0887"
             ],
             [
              0.1111111111111111,
              "#46039f"
             ],
             [
              0.2222222222222222,
              "#7201a8"
             ],
             [
              0.3333333333333333,
              "#9c179e"
             ],
             [
              0.4444444444444444,
              "#bd3786"
             ],
             [
              0.5555555555555556,
              "#d8576b"
             ],
             [
              0.6666666666666666,
              "#ed7953"
             ],
             [
              0.7777777777777778,
              "#fb9f3a"
             ],
             [
              0.8888888888888888,
              "#fdca26"
             ],
             [
              1,
              "#f0f921"
             ]
            ],
            "type": "heatmapgl"
           }
          ],
          "histogram": [
           {
            "marker": {
             "pattern": {
              "fillmode": "overlay",
              "size": 10,
              "solidity": 0.2
             }
            },
            "type": "histogram"
           }
          ],
          "histogram2d": [
           {
            "colorbar": {
             "outlinewidth": 0,
             "ticks": ""
            },
            "colorscale": [
             [
              0,
              "#0d0887"
             ],
             [
              0.1111111111111111,
              "#46039f"
             ],
             [
              0.2222222222222222,
              "#7201a8"
             ],
             [
              0.3333333333333333,
              "#9c179e"
             ],
             [
              0.4444444444444444,
              "#bd3786"
             ],
             [
              0.5555555555555556,
              "#d8576b"
             ],
             [
              0.6666666666666666,
              "#ed7953"
             ],
             [
              0.7777777777777778,
              "#fb9f3a"
             ],
             [
              0.8888888888888888,
              "#fdca26"
             ],
             [
              1,
              "#f0f921"
             ]
            ],
            "type": "histogram2d"
           }
          ],
          "histogram2dcontour": [
           {
            "colorbar": {
             "outlinewidth": 0,
             "ticks": ""
            },
            "colorscale": [
             [
              0,
              "#0d0887"
             ],
             [
              0.1111111111111111,
              "#46039f"
             ],
             [
              0.2222222222222222,
              "#7201a8"
             ],
             [
              0.3333333333333333,
              "#9c179e"
             ],
             [
              0.4444444444444444,
              "#bd3786"
             ],
             [
              0.5555555555555556,
              "#d8576b"
             ],
             [
              0.6666666666666666,
              "#ed7953"
             ],
             [
              0.7777777777777778,
              "#fb9f3a"
             ],
             [
              0.8888888888888888,
              "#fdca26"
             ],
             [
              1,
              "#f0f921"
             ]
            ],
            "type": "histogram2dcontour"
           }
          ],
          "mesh3d": [
           {
            "colorbar": {
             "outlinewidth": 0,
             "ticks": ""
            },
            "type": "mesh3d"
           }
          ],
          "parcoords": [
           {
            "line": {
             "colorbar": {
              "outlinewidth": 0,
              "ticks": ""
             }
            },
            "type": "parcoords"
           }
          ],
          "pie": [
           {
            "automargin": true,
            "type": "pie"
           }
          ],
          "scatter": [
           {
            "fillpattern": {
             "fillmode": "overlay",
             "size": 10,
             "solidity": 0.2
            },
            "type": "scatter"
           }
          ],
          "scatter3d": [
           {
            "line": {
             "colorbar": {
              "outlinewidth": 0,
              "ticks": ""
             }
            },
            "marker": {
             "colorbar": {
              "outlinewidth": 0,
              "ticks": ""
             }
            },
            "type": "scatter3d"
           }
          ],
          "scattercarpet": [
           {
            "marker": {
             "colorbar": {
              "outlinewidth": 0,
              "ticks": ""
             }
            },
            "type": "scattercarpet"
           }
          ],
          "scattergeo": [
           {
            "marker": {
             "colorbar": {
              "outlinewidth": 0,
              "ticks": ""
             }
            },
            "type": "scattergeo"
           }
          ],
          "scattergl": [
           {
            "marker": {
             "colorbar": {
              "outlinewidth": 0,
              "ticks": ""
             }
            },
            "type": "scattergl"
           }
          ],
          "scattermapbox": [
           {
            "marker": {
             "colorbar": {
              "outlinewidth": 0,
              "ticks": ""
             }
            },
            "type": "scattermapbox"
           }
          ],
          "scatterpolar": [
           {
            "marker": {
             "colorbar": {
              "outlinewidth": 0,
              "ticks": ""
             }
            },
            "type": "scatterpolar"
           }
          ],
          "scatterpolargl": [
           {
            "marker": {
             "colorbar": {
              "outlinewidth": 0,
              "ticks": ""
             }
            },
            "type": "scatterpolargl"
           }
          ],
          "scatterternary": [
           {
            "marker": {
             "colorbar": {
              "outlinewidth": 0,
              "ticks": ""
             }
            },
            "type": "scatterternary"
           }
          ],
          "surface": [
           {
            "colorbar": {
             "outlinewidth": 0,
             "ticks": ""
            },
            "colorscale": [
             [
              0,
              "#0d0887"
             ],
             [
              0.1111111111111111,
              "#46039f"
             ],
             [
              0.2222222222222222,
              "#7201a8"
             ],
             [
              0.3333333333333333,
              "#9c179e"
             ],
             [
              0.4444444444444444,
              "#bd3786"
             ],
             [
              0.5555555555555556,
              "#d8576b"
             ],
             [
              0.6666666666666666,
              "#ed7953"
             ],
             [
              0.7777777777777778,
              "#fb9f3a"
             ],
             [
              0.8888888888888888,
              "#fdca26"
             ],
             [
              1,
              "#f0f921"
             ]
            ],
            "type": "surface"
           }
          ],
          "table": [
           {
            "cells": {
             "fill": {
              "color": "#EBF0F8"
             },
             "line": {
              "color": "white"
             }
            },
            "header": {
             "fill": {
              "color": "#C8D4E3"
             },
             "line": {
              "color": "white"
             }
            },
            "type": "table"
           }
          ]
         },
         "layout": {
          "annotationdefaults": {
           "arrowcolor": "#2a3f5f",
           "arrowhead": 0,
           "arrowwidth": 1
          },
          "autotypenumbers": "strict",
          "coloraxis": {
           "colorbar": {
            "outlinewidth": 0,
            "ticks": ""
           }
          },
          "colorscale": {
           "diverging": [
            [
             0,
             "#8e0152"
            ],
            [
             0.1,
             "#c51b7d"
            ],
            [
             0.2,
             "#de77ae"
            ],
            [
             0.3,
             "#f1b6da"
            ],
            [
             0.4,
             "#fde0ef"
            ],
            [
             0.5,
             "#f7f7f7"
            ],
            [
             0.6,
             "#e6f5d0"
            ],
            [
             0.7,
             "#b8e186"
            ],
            [
             0.8,
             "#7fbc41"
            ],
            [
             0.9,
             "#4d9221"
            ],
            [
             1,
             "#276419"
            ]
           ],
           "sequential": [
            [
             0,
             "#0d0887"
            ],
            [
             0.1111111111111111,
             "#46039f"
            ],
            [
             0.2222222222222222,
             "#7201a8"
            ],
            [
             0.3333333333333333,
             "#9c179e"
            ],
            [
             0.4444444444444444,
             "#bd3786"
            ],
            [
             0.5555555555555556,
             "#d8576b"
            ],
            [
             0.6666666666666666,
             "#ed7953"
            ],
            [
             0.7777777777777778,
             "#fb9f3a"
            ],
            [
             0.8888888888888888,
             "#fdca26"
            ],
            [
             1,
             "#f0f921"
            ]
           ],
           "sequentialminus": [
            [
             0,
             "#0d0887"
            ],
            [
             0.1111111111111111,
             "#46039f"
            ],
            [
             0.2222222222222222,
             "#7201a8"
            ],
            [
             0.3333333333333333,
             "#9c179e"
            ],
            [
             0.4444444444444444,
             "#bd3786"
            ],
            [
             0.5555555555555556,
             "#d8576b"
            ],
            [
             0.6666666666666666,
             "#ed7953"
            ],
            [
             0.7777777777777778,
             "#fb9f3a"
            ],
            [
             0.8888888888888888,
             "#fdca26"
            ],
            [
             1,
             "#f0f921"
            ]
           ]
          },
          "colorway": [
           "#636efa",
           "#EF553B",
           "#00cc96",
           "#ab63fa",
           "#FFA15A",
           "#19d3f3",
           "#FF6692",
           "#B6E880",
           "#FF97FF",
           "#FECB52"
          ],
          "font": {
           "color": "#2a3f5f"
          },
          "geo": {
           "bgcolor": "white",
           "lakecolor": "white",
           "landcolor": "#E5ECF6",
           "showlakes": true,
           "showland": true,
           "subunitcolor": "white"
          },
          "hoverlabel": {
           "align": "left"
          },
          "hovermode": "closest",
          "mapbox": {
           "style": "light"
          },
          "paper_bgcolor": "white",
          "plot_bgcolor": "#E5ECF6",
          "polar": {
           "angularaxis": {
            "gridcolor": "white",
            "linecolor": "white",
            "ticks": ""
           },
           "bgcolor": "#E5ECF6",
           "radialaxis": {
            "gridcolor": "white",
            "linecolor": "white",
            "ticks": ""
           }
          },
          "scene": {
           "xaxis": {
            "backgroundcolor": "#E5ECF6",
            "gridcolor": "white",
            "gridwidth": 2,
            "linecolor": "white",
            "showbackground": true,
            "ticks": "",
            "zerolinecolor": "white"
           },
           "yaxis": {
            "backgroundcolor": "#E5ECF6",
            "gridcolor": "white",
            "gridwidth": 2,
            "linecolor": "white",
            "showbackground": true,
            "ticks": "",
            "zerolinecolor": "white"
           },
           "zaxis": {
            "backgroundcolor": "#E5ECF6",
            "gridcolor": "white",
            "gridwidth": 2,
            "linecolor": "white",
            "showbackground": true,
            "ticks": "",
            "zerolinecolor": "white"
           }
          },
          "shapedefaults": {
           "line": {
            "color": "#2a3f5f"
           }
          },
          "ternary": {
           "aaxis": {
            "gridcolor": "white",
            "linecolor": "white",
            "ticks": ""
           },
           "baxis": {
            "gridcolor": "white",
            "linecolor": "white",
            "ticks": ""
           },
           "bgcolor": "#E5ECF6",
           "caxis": {
            "gridcolor": "white",
            "linecolor": "white",
            "ticks": ""
           }
          },
          "title": {
           "x": 0.05
          },
          "xaxis": {
           "automargin": true,
           "gridcolor": "white",
           "linecolor": "white",
           "ticks": "",
           "title": {
            "standoff": 15
           },
           "zerolinecolor": "white",
           "zerolinewidth": 2
          },
          "yaxis": {
           "automargin": true,
           "gridcolor": "white",
           "linecolor": "white",
           "ticks": "",
           "title": {
            "standoff": 15
           },
           "zerolinecolor": "white",
           "zerolinewidth": 2
          }
         }
        },
        "xaxis": {
         "anchor": "y",
         "categoryarray": [
          "Lo 20",
          "Qnt 2",
          "Qnt 3",
          "Qnt 4",
          "Hi 20"
         ],
         "categoryorder": "array",
         "domain": [
          0,
          1
         ],
         "title": {
          "text": ""
         }
        },
        "yaxis": {
         "anchor": "x",
         "domain": [
          0,
          1
         ],
         "tickformat": ".0%",
         "title": {
          "text": "Return"
         }
        }
       }
      }
     },
     "metadata": {},
     "output_type": "display_data"
    }
   ],
   "source": [
    "fig3 = px.box(rets, x=\"Quintile\", y=\"Return\", color=\"Quintile\")\n",
    "fig3.update_layout(\n",
    "    xaxis_title=\"\",\n",
    "    yaxis_title=\"Return\",\n",
    "    yaxis_tickformat=\".0%\"\n",
    ")\n",
    "fig3.show()"
   ]
  },
  {
   "cell_type": "markdown",
   "metadata": {},
   "source": [
    "# TABLE"
   ]
  },
  {
   "cell_type": "code",
   "execution_count": 15,
   "metadata": {},
   "outputs": [
    {
     "data": {
      "text/html": [
       "<div>\n",
       "<style scoped>\n",
       "    .dataframe tbody tr th:only-of-type {\n",
       "        vertical-align: middle;\n",
       "    }\n",
       "\n",
       "    .dataframe tbody tr th {\n",
       "        vertical-align: top;\n",
       "    }\n",
       "\n",
       "    .dataframe thead th {\n",
       "        text-align: right;\n",
       "    }\n",
       "</style>\n",
       "<table border=\"1\" class=\"dataframe\">\n",
       "  <thead>\n",
       "    <tr style=\"text-align: right;\">\n",
       "      <th>Quintile</th>\n",
       "      <th>Statistic</th>\n",
       "      <th>Lo 20</th>\n",
       "      <th>Qnt 2</th>\n",
       "      <th>Qnt 3</th>\n",
       "      <th>Qnt 4</th>\n",
       "      <th>Hi 20</th>\n",
       "    </tr>\n",
       "  </thead>\n",
       "  <tbody>\n",
       "    <tr>\n",
       "      <th>0</th>\n",
       "      <td>mean</td>\n",
       "      <td>0.133907</td>\n",
       "      <td>0.131544</td>\n",
       "      <td>0.132251</td>\n",
       "      <td>0.127979</td>\n",
       "      <td>0.159812</td>\n",
       "    </tr>\n",
       "    <tr>\n",
       "      <th>1</th>\n",
       "      <td>std</td>\n",
       "      <td>0.199692</td>\n",
       "      <td>0.151969</td>\n",
       "      <td>0.157489</td>\n",
       "      <td>0.174382</td>\n",
       "      <td>0.199746</td>\n",
       "    </tr>\n",
       "    <tr>\n",
       "      <th>2</th>\n",
       "      <td>min</td>\n",
       "      <td>-0.349100</td>\n",
       "      <td>-0.347300</td>\n",
       "      <td>-0.346200</td>\n",
       "      <td>-0.486200</td>\n",
       "      <td>-0.351300</td>\n",
       "    </tr>\n",
       "    <tr>\n",
       "      <th>3</th>\n",
       "      <td>25%</td>\n",
       "      <td>0.022250</td>\n",
       "      <td>0.044000</td>\n",
       "      <td>0.039000</td>\n",
       "      <td>0.017150</td>\n",
       "      <td>0.015700</td>\n",
       "    </tr>\n",
       "    <tr>\n",
       "      <th>4</th>\n",
       "      <td>50%</td>\n",
       "      <td>0.126700</td>\n",
       "      <td>0.165000</td>\n",
       "      <td>0.151700</td>\n",
       "      <td>0.169400</td>\n",
       "      <td>0.219200</td>\n",
       "    </tr>\n",
       "    <tr>\n",
       "      <th>5</th>\n",
       "      <td>75%</td>\n",
       "      <td>0.303300</td>\n",
       "      <td>0.229850</td>\n",
       "      <td>0.229200</td>\n",
       "      <td>0.244800</td>\n",
       "      <td>0.298000</td>\n",
       "    </tr>\n",
       "    <tr>\n",
       "      <th>6</th>\n",
       "      <td>max</td>\n",
       "      <td>0.498000</td>\n",
       "      <td>0.389200</td>\n",
       "      <td>0.379300</td>\n",
       "      <td>0.367700</td>\n",
       "      <td>0.458800</td>\n",
       "    </tr>\n",
       "  </tbody>\n",
       "</table>\n",
       "</div>"
      ],
      "text/plain": [
       "Quintile Statistic     Lo 20     Qnt 2     Qnt 3     Qnt 4     Hi 20\n",
       "0             mean  0.133907  0.131544  0.132251  0.127979  0.159812\n",
       "1              std  0.199692  0.151969  0.157489  0.174382  0.199746\n",
       "2              min -0.349100 -0.347300 -0.346200 -0.486200 -0.351300\n",
       "3              25%  0.022250  0.044000  0.039000  0.017150  0.015700\n",
       "4              50%  0.126700  0.165000  0.151700  0.169400  0.219200\n",
       "5              75%  0.303300  0.229850  0.229200  0.244800  0.298000\n",
       "6              max  0.498000  0.389200  0.379300  0.367700  0.458800"
      ]
     },
     "execution_count": 15,
     "metadata": {},
     "output_type": "execute_result"
    }
   ],
   "source": [
    "rets = rets.set_index([\"Date\", \"Quintile\"]).unstack(\"Quintile\")\n",
    "data = rets.describe()[\"Return\"].iloc[1:]\n",
    "data.index.name = \"Statistic\"\n",
    "data = data.reset_index()\n",
    "data[['Statistic']+quintiles]"
   ]
  },
  {
   "cell_type": "code",
   "execution_count": null,
   "metadata": {},
   "outputs": [],
   "source": []
  }
 ],
 "metadata": {
  "colab": {
   "collapsed_sections": [],
   "include_colab_link": true,
   "name": "sorts on characteristics.ipynb",
   "provenance": []
  },
  "kernelspec": {
   "display_name": "Python 3",
   "name": "python3"
  },
  "language_info": {
   "codemirror_mode": {
    "name": "ipython",
    "version": 3
   },
   "file_extension": ".py",
   "mimetype": "text/x-python",
   "name": "python",
   "nbconvert_exporter": "python",
   "pygments_lexer": "ipython3",
   "version": "3.10.8"
  }
 },
 "nbformat": 4,
 "nbformat_minor": 0
}