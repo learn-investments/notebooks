{
  "cells": [
    {
      "cell_type": "markdown",
      "metadata": {},
      "source": [
        "# EXAMPLE TICKER"
      ]
    },
    {
      "cell_type": "code",
      "execution_count": 1,
      "metadata": {},
      "outputs": [],
      "source": [
        "ticker = 'CVX'"
      ]
    },
    {
      "cell_type": "markdown",
      "metadata": {},
      "source": [
        "# GET DATA"
      ]
    },
    {
      "cell_type": "code",
      "execution_count": 2,
      "metadata": {},
      "outputs": [],
      "source": [
        "import pandas as pd\n",
        "import yfinance as yf\n",
        "from pandas_datareader import DataReader as pdr\n",
        "import warnings\n",
        "warnings.simplefilter(action='ignore', category=FutureWarning)\n",
        "\n",
        "# read annual original Fama-French factors from 1926 and compute means\n",
        "ff= pdr('F-F_Research_Data_Factors','famafrench',start=1926)[1]\n",
        "fprem = ff[['Mkt-RF','SMB','HML']].mean()\n",
        "\n",
        "# read CMA and RMW from 1964, compute means, and combine with other means\n",
        "ff= pdr('F-F_Research_Data_5_Factors_2x3','famafrench',start=1964)[1]\n",
        "fprem = pd.concat((fprem,ff[['RMW','CMA']].mean()))\n",
        "\n",
        "\n",
        "# read monthly Fama-French factors for past 60 months\n",
        "ff = pdr('F-F_Research_Data_5_Factors_2x3','famafrench',start=2017)[0]\n",
        "ff = ff.iloc[-60:]\n",
        "\n",
        "# get current 3-month Treasury bill yield from FRED\n",
        "rf = pdr('DGS3MO','fred',start=2022).iloc[-1].item()\n",
        "\n",
        "# pull data from yahoo for ticker\n",
        "ticker = ticker.upper()\n",
        "ret = yf.download(ticker, start='2017-01-01', progress=False)['Adj Close']\n",
        "ret = ret.resample('M').last().pct_change()*100\n",
        "# ret.index = ret.index.to_period('M')\n",
        "ret.name = \"ret\"\n",
        "\n",
        "# merge with French data, reducing to 60 months in the process\n",
        "ret.index = ret.index.to_period('M')\n",
        "df = ff.join(ret,how='left')\n",
        "\n",
        "# compute excess returns for the ticker \n",
        "df['ret'] -= df.RF"
      ]
    },
    {
      "cell_type": "markdown",
      "metadata": {},
      "source": [
        "# RUN TIME-SERIES REGRESSION"
      ]
    },
    {
      "cell_type": "code",
      "execution_count": 3,
      "metadata": {
        "id": "HpyAlGLCqizk",
        "outputId": "57f9262b-b219-434d-fc4d-68d72e81ee89",
        "pycharm": {
          "name": "#%%\n"
        }
      },
      "outputs": [],
      "source": [
        "import statsmodels.api as sm\n",
        "\n",
        "# run regression of excess return on market excess return and get beta\n",
        "factors = ['Mkt-RF','SMB','HML','RMW','CMA']\n",
        "result = sm.OLS(df.ret,sm.add_constant(df[factors])).fit()\n",
        "betas = result.params[factors]"
      ]
    },
    {
      "cell_type": "markdown",
      "metadata": {},
      "source": [
        "# CALCULATE COST OF EQUITY"
      ]
    },
    {
      "cell_type": "code",
      "execution_count": 4,
      "metadata": {},
      "outputs": [
        {
          "name": "stdout",
          "output_type": "stream",
          "text": [
            "Factor Risk Premia and Betas:\n",
            "\tFactor:\tMkt-RF\tRisk Premium:\t8.55\tBeta\t1.25\n",
            "\tFactor:\tSMB\tRisk Premium:\t2.91\tBeta\t-0.01\n",
            "\tFactor:\tHML\tRisk Premium:\t4.43\tBeta\t0.64\n",
            "\tFactor:\tRMW\tRisk Premium:\t3.54\tBeta\t-0.38\n",
            "\tFactor:\tCMA\tRisk Premium:\t3.76\tBeta\t0.85\n",
            "CVX Risk Premium:\t15.37\n",
            "Risk-free Rate:\t\t5.62\n",
            "CVX Cost of Equity:\t20.99\n"
          ]
        }
      ],
      "source": [
        "# compute cost of equity\n",
        "eret = rf + betas@fprem\n",
        "\n",
        "\n",
        "print('Factor Risk Premia and Betas:')\n",
        "for i,f in enumerate(factors):\n",
        "    print(f'\\tFactor:\\t{f}\\tRisk Premium:\\t{fprem[i]:.2f}\\tBeta\\t{betas[i]:.2f}')\n",
        "print(f'{ticker} Risk Premium:\\t{betas@fprem:.2f}')\n",
        "print(f'Risk-free Rate:\\t\\t{rf:.2f}')\n",
        "print(f'{ticker} Cost of Equity:\\t{eret:.2f}')"
      ]
    },
    {
      "cell_type": "code",
      "execution_count": null,
      "metadata": {},
      "outputs": [],
      "source": []
    }
  ],
  "metadata": {
    "colab": {
      "include_colab_link": true,
      "name": "fama-french cost of equity calculator.ipynb",
      "provenance": []
    },
    "kernelspec": {
      "display_name": "Python 3",
      "language": "python",
      "name": "python3"
    },
    "language_info": {
      "codemirror_mode": {
        "name": "ipython",
        "version": 3
      },
      "file_extension": ".py",
      "mimetype": "text/x-python",
      "name": "python",
      "nbconvert_exporter": "python",
      "pygments_lexer": "ipython3",
      "version": "3.10.6"
    }
  },
  "nbformat": 4,
  "nbformat_minor": 0
}
