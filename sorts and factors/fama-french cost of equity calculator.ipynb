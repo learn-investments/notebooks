{
  "cells": [
    {
      "cell_type": "markdown",
      "metadata": {
        "id": "view-in-github",
        "colab_type": "text"
      },
      "source": [
        "<a href=\"https://colab.research.google.com/github/bbcx-investments/notebooks/blob/main/factor_investing/ff_costequity.ipynb\" target=\"_parent\"><img src=\"https://colab.research.google.com/assets/colab-badge.svg\" alt=\"Open In Colab\"/></a>"
      ]
    },
    {
      "cell_type": "code",
      "execution_count": null,
      "outputs": [
        {
          "name": "stdout",
          "output_type": "stream",
          "text": [
            "Requirement already satisfied: pandas-datareader in ./venv/lib/python3.8/site-packages (0.10.0)\r\n",
            "Requirement already satisfied: lxml in ./venv/lib/python3.8/site-packages (from pandas-datareader) (4.8.0)\r\n",
            "Requirement already satisfied: requests>=2.19.0 in ./venv/lib/python3.8/site-packages (from pandas-datareader) (2.27.1)\r\n",
            "Requirement already satisfied: pandas>=0.23 in ./venv/lib/python3.8/site-packages (from pandas-datareader) (1.4.1)\r\n",
            "Requirement already satisfied: numpy>=1.18.5 in ./venv/lib/python3.8/site-packages (from pandas>=0.23->pandas-datareader) (1.22.3)\r\n",
            "Requirement already satisfied: pytz>=2020.1 in ./venv/lib/python3.8/site-packages (from pandas>=0.23->pandas-datareader) (2022.1)\r\n",
            "Requirement already satisfied: python-dateutil>=2.8.1 in ./venv/lib/python3.8/site-packages (from pandas>=0.23->pandas-datareader) (2.8.2)\r\n",
            "Requirement already satisfied: certifi>=2017.4.17 in ./venv/lib/python3.8/site-packages (from requests>=2.19.0->pandas-datareader) (2021.10.8)\r\n",
            "Requirement already satisfied: urllib3<1.27,>=1.21.1 in ./venv/lib/python3.8/site-packages (from requests>=2.19.0->pandas-datareader) (1.26.9)\r\n",
            "Requirement already satisfied: charset-normalizer~=2.0.0 in ./venv/lib/python3.8/site-packages (from requests>=2.19.0->pandas-datareader) (2.0.12)\r\n",
            "Requirement already satisfied: idna<4,>=2.5 in ./venv/lib/python3.8/site-packages (from requests>=2.19.0->pandas-datareader) (3.3)\r\n",
            "Requirement already satisfied: six>=1.5 in ./venv/lib/python3.8/site-packages (from python-dateutil>=2.8.1->pandas>=0.23->pandas-datareader) (1.16.0)\r\n",
            "\u001b[33mWARNING: You are using pip version 21.3.1; however, version 22.2 is available.\r\n",
            "You should consider upgrading via the '/Users/kailiao/PycharmProjects/appcode_draft/venv/bin/python -m pip install --upgrade pip' command.\u001b[0m\r\n"
          ]
        }
      ],
      "source": [
        "import warnings\n",
        "warnings.simplefilter(action='ignore', category=FutureWarning)\n",
        "\n",
        "import pandas as pd\n",
        "import numpy as np\n",
        "import statsmodels.api as sm\n",
        "!pip install --upgrade pandas-datareader  # need to upgrade to read Yahoo\n",
        "from pandas_datareader import DataReader as pdr\n",
        "\n",
        "# read annual original Fama-French factors from 1926 and compute means\n",
        "ff= pdr('F-F_Research_Data_Factors','famafrench',start=1926)[1]\n",
        "fprem = ff[['Mkt-RF','SMB','HML']].mean()\n",
        "\n",
        "# read CMA and RMW from 1964, compute means, and combine with other means\n",
        "ff= pdr('F-F_Research_Data_5_Factors_2x3','famafrench',start=1964)[1]\n",
        "fprem = pd.concat((fprem,ff[['RMW','CMA']].mean()))\n",
        "\n",
        "# read monthly Fama-French factors for past 60 months\n",
        "ff = pdr('F-F_Research_Data_5_Factors_2x3','famafrench',start=2017)[0]\n",
        "ff = ff.iloc[-60:]\n",
        "\n",
        "# read current 10-year Treasury yield from FRED\n",
        "rf = pdr('DGS10','fred',start=2022).iloc[-1].item()"
      ],
      "metadata": {
        "pycharm": {
          "name": "#%%\n"
        },
        "id": "mADh2stKqizh",
        "outputId": "0cb30ed4-b82b-49a7-f2af-574dde817772"
      }
    },
    {
      "cell_type": "code",
      "execution_count": null,
      "outputs": [
        {
          "name": "stdout",
          "output_type": "stream",
          "text": [
            "CVX cost of equity is 18.810302495569623\n"
          ]
        }
      ],
      "source": [
        "# example ticker\n",
        "ticker = 'CVX'\n",
        "\n",
        "# compute monthly returns from Yahoo data\n",
        "# put returns in percent form to match French and FRED data\n",
        "data = pdr(ticker,'yahoo',start=2016)\n",
        "close = data['Adj Close'].resample('M').last()\n",
        "ret = 100*close.pct_change()\n",
        "ret.name = 'ret'\n",
        "\n",
        "# merge with French data, reducing to 60 months in the process\n",
        "ret.index = ret.index.to_period('M')\n",
        "df = ff.join(ret,how='left')\n",
        "\n",
        "# compute excess returns for the ticker\n",
        "df['ret'] -= df.RF\n",
        "\n",
        "# run regression of excess return on market excess return and get beta\n",
        "factors = ['Mkt-RF','SMB','HML','RMW','CMA']\n",
        "result = sm.OLS(df.ret,sm.add_constant(df[factors])).fit()\n",
        "betas = result.params[factors]\n",
        "\n",
        "# compute cost of equity\n",
        "print(ticker,'cost of equity is',rf+betas@fprem)"
      ],
      "metadata": {
        "pycharm": {
          "name": "#%%\n"
        },
        "id": "HpyAlGLCqizk",
        "outputId": "57f9262b-b219-434d-fc4d-68d72e81ee89"
      }
    }
  ],
  "metadata": {
    "kernelspec": {
      "display_name": "Python 3",
      "language": "python",
      "name": "python3"
    },
    "language_info": {
      "codemirror_mode": {
        "name": "ipython",
        "version": 2
      },
      "file_extension": ".py",
      "mimetype": "text/x-python",
      "name": "python",
      "nbconvert_exporter": "python",
      "pygments_lexer": "ipython2",
      "version": "2.7.6"
    },
    "colab": {
      "name": "ff_costequity.ipynb",
      "provenance": [],
      "include_colab_link": true
    }
  },
  "nbformat": 4,
  "nbformat_minor": 0
}