{
  "nbformat": 4,
  "nbformat_minor": 0,
  "metadata": {
    "colab": {
      "name": "quintiles_boxes.ipynb",
      "provenance": [],
      "collapsed_sections": [],
      "include_colab_link": true
    },
    "kernelspec": {
      "name": "python3",
      "display_name": "Python 3"
    },
    "language_info": {
      "name": "python"
    }
  },
  "cells": [
    {
      "cell_type": "markdown",
      "metadata": {
        "id": "view-in-github",
        "colab_type": "text"
      },
      "source": [
        "<a href=\"https://colab.research.google.com/github/bbcx-investments/notebooks/blob/main/factor_investing/quintiles_boxes.ipynb\" target=\"_parent\"><img src=\"https://colab.research.google.com/assets/colab-badge.svg\" alt=\"Open In Colab\"/></a>"
      ]
    },
    {
      "cell_type": "code",
      "execution_count": null,
      "metadata": {
        "colab": {
          "base_uri": "https://localhost:8080/",
          "height": 283
        },
        "id": "Rqnlteb7YJRr",
        "outputId": "c54fe6f0-f50e-4f1c-8850-75208a2c8fc3"
      },
      "outputs": [
        {
          "output_type": "execute_result",
          "data": {
            "text/plain": [
              "<matplotlib.axes._subplots.AxesSubplot at 0x7fccebcbe690>"
            ]
          },
          "metadata": {},
          "execution_count": 2
        },
        {
          "output_type": "display_data",
          "data": {
            "text/plain": [
              "<Figure size 432x288 with 1 Axes>"
            ],
            "image/png": "[encoded data removed]"
          },
          "metadata": {}
        }
      ],
      "source": [
        "import numpy as np\n",
        "import pandas as pd\n",
        "import seaborn as sns\n",
        "sns.set_style('whitegrid')\n",
        "from pandas_datareader import DataReader as pdr\n",
        "\n",
        "# associate names of French files with characteristic names\n",
        "files = {'Earnings to price ratio': 'Portfolios_Formed_on_E-P',\\\n",
        " 'Variance': 'Portfolios_Formed_on_VAR',\\\n",
        " 'Accruals': 'Portfolios_Formed_on_AC',\\\n",
        " 'Residual variance': 'Portfolios_Formed_on_RESVAR',\\\n",
        " 'Net equity issuance': 'Portfolios_Formed_on_NI',\\\n",
        " 'Beta': 'Portfolios_Formed_on_BETA',\\\n",
        " 'Cash flow to price': 'Portfolios_Formed_on_CF-P',\\\n",
        " 'Market equity': 'Portfolios_Formed_on_ME',\\\n",
        " 'Book to market ratio': 'Portfolios_Formed_on_BE-ME',\\\n",
        " 'Dividend to price ratio': 'Portfolios_Formed_on_D-P',\\\n",
        " 'Investment rate': 'Portfolios_Formed_on_INV',\\\n",
        " 'Momentum': '10_Portfolios_Prior_12_2',\\\n",
        " 'Short term reversal': '10_Portfolios_Prior_1_0',\\\n",
        " 'Long term reversal': '10_Portfolios_Prior_60_13'}\n",
        "\n",
        "# sort characteristics in alphabetical order\n",
        "keys = np.sort(list(files.keys()))\n",
        "\n",
        "df = None\n",
        "# loop over files\n",
        "for key in keys :\n",
        "\n",
        "    # read file\n",
        "    f = files[key]\n",
        "    d = pdr(f,'famafrench',start=1920)[2]/100\n",
        "\n",
        "    # for momentum and reversal files, combine deciles to form quintiles\n",
        "    if 'Portfolios_Formed_on' not in f :\n",
        "        cols = d.columns.to_list()\n",
        "        d['Lo 20'] = d[cols[:2]].mean(axis=1)\n",
        "        d['Qnt 2'] = d[cols[2:4]].mean(axis=1)\n",
        "        d['Qnt 3'] = d[cols[4:6]].mean(axis=1)\n",
        "        d['Qnt 4'] = d[cols[6:8]].mean(axis=1)\n",
        "        d['Hi 20'] = d[cols[8:]].mean(axis=1)\n",
        "    \n",
        "    # for other files, extract quintiles\n",
        "    quintiles = ['Lo 20','Qnt 2','Qnt 3','Qnt 4','Hi 20']\n",
        "    d = d[quintiles].copy()\n",
        "\n",
        "    # add characteristic to the index\n",
        "    d['Characteristic'] = key\n",
        "    d = d.reset_index().set_index(['Date','Characteristic'])\n",
        "\n",
        "    # add to df\n",
        "    df = pd.concat((df,d))\n",
        "\n",
        "# convert to wide format with multi-indexed columns\n",
        "df = df.stack().swaplevel(1,2).unstack().unstack()\n",
        "\n",
        "# example start date and characteristic\n",
        "start = 1980\n",
        "char = 'Momentum'\n",
        "sns.boxplot(data=df[char])\n"
      ]
    },
    {
      "cell_type": "code",
      "source": [
        ""
      ],
      "metadata": {
        "id": "r_5sb7nCaDFQ"
      },
      "execution_count": null,
      "outputs": []
    }
  ]
}