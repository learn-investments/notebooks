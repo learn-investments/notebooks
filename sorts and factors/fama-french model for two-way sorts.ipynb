{
  "cells": [
    {
      "cell_type": "markdown",
      "metadata": {
        "id": "view-in-github",
        "colab_type": "text"
      },
      "source": [
        "<a href=\"https://colab.research.google.com/github/bbcx-investments/notebooks/blob/main/factor_investing/ff_characteristics.ipynb\" target=\"_parent\"><img src=\"https://colab.research.google.com/assets/colab-badge.svg\" alt=\"Open In Colab\"/></a>"
      ]
    },
    {
      "cell_type": "code",
      "execution_count": null,
      "outputs": [
        {
          "name": "stderr",
          "output_type": "stream",
          "text": [
            "/var/folders/rt/kyq9qr_50fzfcbfdhh8vgydc0000gn/T/ipykernel_93370/652643244.py:75: FutureWarning: merging between different levels is deprecated and will be removed in a future version. (2 levels on the left, 1 on the right)\n",
            "  df = df.join(ff).dropna()\n"
          ]
        }
      ],
      "source": [
        "import pandas as pd\n",
        "import statsmodels.api as sm\n",
        "from pandas_datareader import DataReader as pdr\n",
        "\n",
        "files = [\n",
        "    '25_Portfolios_5x5',\n",
        "    '25_Portfolios_ME_INV_5x5',\n",
        "    '25_Portfolios_ME_Prior_12_2',\n",
        "    '25_Portfolios_ME_Prior_1_0',\n",
        "    '25_Portfolios_ME_Prior_60_13',\n",
        "    '25_Portfolios_ME_AC_5x5',\n",
        "    '25_Portfolios_ME_BETA_5x5',\n",
        "    '25_Portfolios_ME_NI_5x5',\n",
        "    '25_Portfolios_ME_VAR_5x5',\n",
        "    '25_Portfolios_ME_RESVAR_5x5'\n",
        "]\n",
        "\n",
        "chars = [\n",
        "    \"Book to market ratio\",\n",
        "    \"Investment rate\",\n",
        "    \"Momentum\",\n",
        "    \"Short term reversal\",\n",
        "    \"Long term reversal\",\n",
        "    \"Accruals\",\n",
        "    \"Beta\",\n",
        "    \"Net equity issuance\",\n",
        "    \"Variance\",\n",
        "    \"Residual variance\",\n",
        "]\n",
        "\n",
        "charsDict = dict(zip(chars, files))\n",
        "chars.sort()\n",
        "\n",
        "\n",
        "ff = pdr('F-F_Research_Data_5_Factors_2x3','famafrench', start=1900)[0]/100\n",
        "\n",
        "dates = [1980, 2010]                    # example start and end dates\n",
        "char = \"Book to market ratio\"           # example characteristic\n",
        "\n",
        "RETS = pdr(charsDict[char], \"famafrench\", start=1963)[0] / 100\n",
        "RETS = RETS.subtract(ff.RF, axis=\"index\")\n",
        "if char == \"Net equity issuance\":\n",
        "    for x in RETS.columns:\n",
        "        if x.split(\" \")[1][0] == \"Z\" or x.split(\" \")[1][0:2] == \"Ne\":\n",
        "            RETS = RETS.drop(columns=x)\n",
        "\n",
        "start = str(dates[0]) + \"-01\"\n",
        "stop = str(dates[1]) + \"-12\"\n",
        "df = RETS.loc[start:stop].copy()\n",
        "\n",
        "# see what the two chars are in the two-way sort\n",
        "s = df.columns[1].split(\" \")\n",
        "s1 = s[0][:-1]             # market equity\n",
        "s2 = s[1][:-1]             # other characteristic\n",
        "\n",
        "def splitName(x):\n",
        "    x1 = x.split(\" \")[0]\n",
        "    x1 = x1 if x1[0] == \"M\" else (\"ME1\" if x1[0] == \"S\" else \"ME5\")\n",
        "    x2 = x.split(\" \")[1]\n",
        "    x2 = x2 if x2[0] == s2[0] else (s2 + \"1\" if x2[0] == \"L\" else s2 + \"5\")\n",
        "    return x1, x2\n",
        "\n",
        "splits = [splitName(x) for x in df.columns]\n",
        "\n",
        "df.columns = pd.MultiIndex.from_tuples(splits)\n",
        "\n",
        "# multi-indexed index, for unstacking\n",
        "factors = ['Mkt-RF', 'SMB', 'HML', 'RMW', 'CMA']\n",
        "regr = pd.DataFrame(\n",
        "    dtype=float,\n",
        "    index=df.columns,\n",
        "    columns=factors + ['alpha', 'tstat', 'empirical', 'theoretical']\n",
        ")\n",
        "\n",
        "df = df.join(ff).dropna()\n",
        "\n",
        "for port in regr.index:\n",
        "    result = sm.OLS(df[port], sm.add_constant(df[factors])).fit()\n",
        "    regr.loc[port, factors] = result.params[factors]\n",
        "    regr.loc[port, 'alpha'] = 100 * 12 * result.params['const']\n",
        "    regr.loc[port, 'tstat'] = result.tvalues['const']\n",
        "    regr.loc[port, 'empiricalf'] = 12 * df[port].mean()\n",
        "    regr.loc[port, 'theoretical'] = 12 * result.params[factors] @ df[factors].mean()\n",
        "\n",
        "regr['port'] = splits\n",
        "\n",
        "# 5 x 5 tables\n",
        "\n",
        "alpha_tbl = regr.alpha.unstack().round(2)\n",
        "tstat_tbl = regr.tstat.unstack().round(2)"
      ],
      "metadata": {
        "pycharm": {
          "name": "#%%\n"
        },
        "id": "vrZas62fJwGb",
        "outputId": "c3e7d2ec-e160-467c-9ff6-4e6acd94c5ed"
      }
    },
    {
      "cell_type": "code",
      "execution_count": null,
      "outputs": [
        {
          "data": {
            "text/plain": "      BM1   BM2   BM3   BM4   BM5\nME1 -4.47  3.99  0.80  3.58  1.80\nME2 -1.63  0.18 -0.51  0.40 -0.42\nME3  1.57  0.37 -1.91 -1.04  0.41\nME4  3.45 -2.14 -3.65 -0.69 -1.55\nME5  1.20 -1.64 -1.37 -4.85 -0.06",
            "text/html": "<div>\n<style scoped>\n    .dataframe tbody tr th:only-of-type {\n        vertical-align: middle;\n    }\n\n    .dataframe tbody tr th {\n        vertical-align: top;\n    }\n\n    .dataframe thead th {\n        text-align: right;\n    }\n</style>\n<table border=\"1\" class=\"dataframe\">\n  <thead>\n    <tr style=\"text-align: right;\">\n      <th></th>\n      <th>BM1</th>\n      <th>BM2</th>\n      <th>BM3</th>\n      <th>BM4</th>\n      <th>BM5</th>\n    </tr>\n  </thead>\n  <tbody>\n    <tr>\n      <th>ME1</th>\n      <td>-4.47</td>\n      <td>3.99</td>\n      <td>0.80</td>\n      <td>3.58</td>\n      <td>1.80</td>\n    </tr>\n    <tr>\n      <th>ME2</th>\n      <td>-1.63</td>\n      <td>0.18</td>\n      <td>-0.51</td>\n      <td>0.40</td>\n      <td>-0.42</td>\n    </tr>\n    <tr>\n      <th>ME3</th>\n      <td>1.57</td>\n      <td>0.37</td>\n      <td>-1.91</td>\n      <td>-1.04</td>\n      <td>0.41</td>\n    </tr>\n    <tr>\n      <th>ME4</th>\n      <td>3.45</td>\n      <td>-2.14</td>\n      <td>-3.65</td>\n      <td>-0.69</td>\n      <td>-1.55</td>\n    </tr>\n    <tr>\n      <th>ME5</th>\n      <td>1.20</td>\n      <td>-1.64</td>\n      <td>-1.37</td>\n      <td>-4.85</td>\n      <td>-0.06</td>\n    </tr>\n  </tbody>\n</table>\n</div>"
          },
          "execution_count": 8,
          "metadata": {},
          "output_type": "execute_result"
        }
      ],
      "source": [
        "alpha_tbl"
      ],
      "metadata": {
        "pycharm": {
          "name": "#%%\n"
        },
        "id": "EsATNzYqJwGd",
        "outputId": "86f3af0f-b1c0-46ba-c204-5cc988834344"
      }
    },
    {
      "cell_type": "code",
      "execution_count": null,
      "outputs": [
        {
          "data": {
            "text/plain": "      BM1   BM2   BM3   BM4   BM5\nME1 -2.97  3.42  0.92  3.91  1.83\nME2 -1.78  0.20 -0.58  0.48 -0.49\nME3  1.66  0.35 -1.86 -1.01  0.32\nME4  3.39 -2.01 -3.21 -0.59 -1.10\nME5  1.69 -1.63 -1.16 -4.26 -0.04",
            "text/html": "<div>\n<style scoped>\n    .dataframe tbody tr th:only-of-type {\n        vertical-align: middle;\n    }\n\n    .dataframe tbody tr th {\n        vertical-align: top;\n    }\n\n    .dataframe thead th {\n        text-align: right;\n    }\n</style>\n<table border=\"1\" class=\"dataframe\">\n  <thead>\n    <tr style=\"text-align: right;\">\n      <th></th>\n      <th>BM1</th>\n      <th>BM2</th>\n      <th>BM3</th>\n      <th>BM4</th>\n      <th>BM5</th>\n    </tr>\n  </thead>\n  <tbody>\n    <tr>\n      <th>ME1</th>\n      <td>-2.97</td>\n      <td>3.42</td>\n      <td>0.92</td>\n      <td>3.91</td>\n      <td>1.83</td>\n    </tr>\n    <tr>\n      <th>ME2</th>\n      <td>-1.78</td>\n      <td>0.20</td>\n      <td>-0.58</td>\n      <td>0.48</td>\n      <td>-0.49</td>\n    </tr>\n    <tr>\n      <th>ME3</th>\n      <td>1.66</td>\n      <td>0.35</td>\n      <td>-1.86</td>\n      <td>-1.01</td>\n      <td>0.32</td>\n    </tr>\n    <tr>\n      <th>ME4</th>\n      <td>3.39</td>\n      <td>-2.01</td>\n      <td>-3.21</td>\n      <td>-0.59</td>\n      <td>-1.10</td>\n    </tr>\n    <tr>\n      <th>ME5</th>\n      <td>1.69</td>\n      <td>-1.63</td>\n      <td>-1.16</td>\n      <td>-4.26</td>\n      <td>-0.04</td>\n    </tr>\n  </tbody>\n</table>\n</div>"
          },
          "execution_count": 9,
          "metadata": {},
          "output_type": "execute_result"
        }
      ],
      "source": [
        "tstat_tbl"
      ],
      "metadata": {
        "pycharm": {
          "name": "#%%\n"
        },
        "id": "6XQcut-LJwGe",
        "outputId": "5556444c-3939-450b-f482-690f90d05e70"
      }
    },
    {
      "cell_type": "code",
      "execution_count": null,
      "outputs": [],
      "source": [
        ""
      ],
      "metadata": {
        "pycharm": {
          "name": "#%%\n"
        },
        "id": "pGYFeP07JwGe"
      }
    }
  ],
  "metadata": {
    "kernelspec": {
      "display_name": "Python 3",
      "language": "python",
      "name": "python3"
    },
    "language_info": {
      "codemirror_mode": {
        "name": "ipython",
        "version": 2
      },
      "file_extension": ".py",
      "mimetype": "text/x-python",
      "name": "python",
      "nbconvert_exporter": "python",
      "pygments_lexer": "ipython2",
      "version": "2.7.6"
    },
    "colab": {
      "name": "ff_characteristics.ipynb",
      "provenance": [],
      "include_colab_link": true
    }
  },
  "nbformat": 4,
  "nbformat_minor": 0
}