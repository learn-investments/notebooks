{
  "cells": [
    {
      "cell_type": "markdown",
      "metadata": {
        "id": "view-in-github",
        "colab_type": "text"
      },
      "source": [
        "<a href=\"https://colab.research.google.com/github/bbcx-investments/notebooks/blob/main/options/europeans_americans.ipynb\" target=\"_parent\"><img src=\"https://colab.research.google.com/assets/colab-badge.svg\" alt=\"Open In Colab\"/></a>"
      ]
    },
    {
      "cell_type": "code",
      "execution_count": null,
      "outputs": [],
      "source": [
        "import numpy as np\n",
        "from scipy.stats import norm\n",
        "\n",
        "\n",
        "# Black-Scholes valuation for European options\n",
        "\n",
        "def callBS(s, K, T, sigma, r, q):\n",
        "    s = s if s != 0 else 1.0e-6\n",
        "    d1 = (np.log(s / K) + (r - q + 0.5 * sigma ** 2) * T) / (sigma * np.sqrt(T))\n",
        "    d2 = d1 - sigma * np.sqrt(T)\n",
        "    return np.exp(-q * T) * s * norm.cdf(d1) - np.exp(-r * T) * K * norm.cdf(d2)\n",
        "\n",
        "def putBS(s, K, T, sigma, r, q):\n",
        "    s = s if s != 0 else 1.0e-6\n",
        "    d1 = (np.log(s / K) + (r - q + 0.5 * sigma ** 2) * T) / (sigma * np.sqrt(T))\n",
        "    d2 = d1 - sigma * np.sqrt(T)\n",
        "    return np.exp(-r * T) * K * norm.cdf(-d2) - np.exp(-q * T) * s * norm.cdf(-d1)\n",
        "\n",
        "# Binomial trees valuation for American options\n",
        "\n",
        "def callAmerican(s, K, T, sigma, r, q, N=40):\n",
        "    s = s if s != 0 else 1.0e-6\n",
        "    dt = T / N\n",
        "    up = np.exp(sigma * np.sqrt(dt))\n",
        "    down = 1 / up\n",
        "    prob = (np.exp((r - q) * dt) - down) / (up - down)\n",
        "    discount = np.exp(-r * dt)\n",
        "    v = np.zeros(N + 1)\n",
        "    x = s * up ** N\n",
        "    v[0] = np.maximum(x - K, 0)\n",
        "    for i in range(1, N + 1):\n",
        "        x *= down * down\n",
        "        v[i] = np.maximum(x - K, 0)\n",
        "    for n in range(N - 1, -1, -1):\n",
        "        x = s * up ** n\n",
        "        v[0] = np.maximum(x - K, discount * (prob * v[0] + (1 - prob) * v[1]))\n",
        "        for i in range(1, n + 1):\n",
        "            x *= down * down\n",
        "            v[i] = np.maximum(\n",
        "                x - K, discount * (prob * v[i] + (1 - prob) * v[i + 1])\n",
        "            )\n",
        "    return v[0]\n",
        "\n",
        "def putAmerican(s, K, T, sigma, r, q, N=40):\n",
        "    s = s if s != 0 else 1.0e-6\n",
        "    dt = T / N\n",
        "    up = np.exp(sigma * np.sqrt(dt))\n",
        "    down = 1 / up\n",
        "    prob = (np.exp((r - q) * dt) - down) / (up - down)\n",
        "    discount = np.exp(-r * dt)\n",
        "    v = np.zeros(N + 1)\n",
        "    x = s * up ** N\n",
        "    v[0] = np.maximum(K - x, 0)\n",
        "    for i in range(1, N + 1):\n",
        "        x *= down * down\n",
        "        v[i] = np.maximum(K - x, 0)\n",
        "    for n in range(N - 1, -1, -1):\n",
        "        x = s * up ** n\n",
        "        v[0] = np.maximum(K - x, discount * (prob * v[0] + (1 - prob) * v[1]))\n",
        "        for i in range(1, n + 1):\n",
        "            x *= down * down\n",
        "            v[i] = np.maximum(\n",
        "                K - x, discount * (prob * v[i] + (1 - prob) * v[i + 1])\n",
        "            )\n",
        "    return v[0]"
      ],
      "metadata": {
        "pycharm": {
          "name": "#%%\n"
        },
        "id": "LCyz2w8hbnKI"
      }
    },
    {
      "cell_type": "code",
      "execution_count": null,
      "outputs": [
        {
          "name": "stdout",
          "output_type": "stream",
          "text": [
            "The value for European call is 5.7.\n",
            "The value for American call is 5.78.\n",
            "The value for European call is 11.09.\n",
            "The value for American call is 11.13.\n"
          ]
        }
      ],
      "source": [
        "# example parameters\n",
        "\n",
        "S = 50\n",
        "K = 55\n",
        "T = 1\n",
        "sigma = 0.4\n",
        "r = 0.02\n",
        "q = 0.03\n",
        "\n",
        "print('The value for European call is', callBS(S, K, T, sigma, r, q).round(2), end='.\\n')\n",
        "print('The value for American call is', callAmerican(S, K, T, sigma, r, q).round(2), end='.\\n')\n",
        "print('The value for European call is', putBS(S, K, T, sigma, r, q).round(2), end='.\\n')\n",
        "print('The value for American call is', putAmerican(S, K, T, sigma, r, q).round(2), end='.\\n')"
      ],
      "metadata": {
        "pycharm": {
          "name": "#%%\n"
        },
        "id": "mmtoUqpTbnKh",
        "outputId": "005567fc-7c74-4525-a148-f22bf9b890fa"
      }
    },
    {
      "cell_type": "code",
      "execution_count": null,
      "outputs": [],
      "source": [
        ""
      ],
      "metadata": {
        "pycharm": {
          "name": "#%%\n"
        },
        "id": "3g-wuR-kbnKi"
      }
    }
  ],
  "metadata": {
    "kernelspec": {
      "display_name": "Python 3",
      "language": "python",
      "name": "python3"
    },
    "language_info": {
      "codemirror_mode": {
        "name": "ipython",
        "version": 2
      },
      "file_extension": ".py",
      "mimetype": "text/x-python",
      "name": "python",
      "nbconvert_exporter": "python",
      "pygments_lexer": "ipython2",
      "version": "2.7.6"
    },
    "colab": {
      "name": "europeans_americans.ipynb",
      "provenance": [],
      "include_colab_link": true
    }
  },
  "nbformat": 4,
  "nbformat_minor": 0
}