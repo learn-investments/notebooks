{
  "cells": [
    {
      "cell_type": "markdown",
      "metadata": {
        "id": "view-in-github",
        "colab_type": "text"
      },
      "source": [
        "<a href=\"https://colab.research.google.com/github/bbcx-investments/notebooks/blob/main/options/delta_hedge_portfolios.ipynb\" target=\"_parent\"><img src=\"https://colab.research.google.com/assets/colab-badge.svg\" alt=\"Open In Colab\"/></a>"
      ]
    },
    {
      "cell_type": "code",
      "execution_count": null,
      "outputs": [
        {
          "name": "stdout",
          "output_type": "stream",
          "text": [
            "The delta for the portfolio is 1.04 when the underlying price is 50.\n",
            "The delta-hedge portfolio shorts 1.04 shares of the underlying and saves 16.37 cash.\n"
          ]
        }
      ],
      "source": [
        "import numpy as np\n",
        "from scipy.stats import norm\n",
        "\n",
        "# -------------\n",
        "# Example:\n",
        "#   Long a call strike at 50,  a put strike at 55, and a unit of underlying.\n",
        "# -------------\n",
        "\n",
        "# example parameters\n",
        "S = 50\n",
        "K_call = 50\n",
        "K_put = 55\n",
        "T = 1\n",
        "sigma = 0.4\n",
        "r = 0.02\n",
        "q = 0.03\n",
        "\n",
        "# call\n",
        "\n",
        "K = K_call\n",
        "\n",
        "d1 = (np.log(S/K) + (r-q+0.5*sigma**2)*T) / (sigma*np.sqrt(T))\n",
        "d2 = d1 - sigma*np.sqrt(T)\n",
        "qT = np.exp(-q*T)\n",
        "rT = np.exp(-r*T)\n",
        "\n",
        "N1 = norm.cdf(d1)\n",
        "N2 = norm.cdf(d2)\n",
        "call_premium = qT * S * N1 - rT * S * N2\n",
        "call_delta = N1\n",
        "call_intercept =  - ((call_delta * S) - call_premium)\n",
        "\n",
        "# put\n",
        "\n",
        "K = K_put\n",
        "\n",
        "d1 = (np.log(S/K) + (r-q+0.5*sigma**2)*T) / (sigma*np.sqrt(T))\n",
        "d2 = d1 - sigma*np.sqrt(T)\n",
        "qT = np.exp(-q*T)\n",
        "rT = np.exp(-r*T)\n",
        "\n",
        "N1 = norm.cdf(-d1)\n",
        "N2 = norm.cdf(-d2)\n",
        "put_premium = rT * K * N2 - qT * S * N1\n",
        "put_delta = norm.cdf(d1) - 1\n",
        "put_intercept =  - ((put_delta * S) - put_premium)\n",
        "\n",
        "\n",
        "# sum up each asset in the portfolio\n",
        "\n",
        "port_delta = call_delta + put_delta + 1  # +1 because we also hold a long position of a unit of underlying\n",
        "port_intercept = -((port_delta * S) - (call_premium + put_premium + S))\n",
        "\n",
        "print('The delta for the portfolio is', port_delta.round(2), 'when the underlying price is', S, end='.\\n')\n",
        "print('The delta-hedge portfolio shorts', abs(port_delta.round(2)),\n",
        "      'shares of the underlying and saves', port_intercept.round(2), 'cash.')"
      ],
      "metadata": {
        "pycharm": {
          "name": "#%%\n"
        },
        "id": "PI1fPA8Wdu6E",
        "outputId": "f9784ad9-9e0b-4536-b5da-18b81d2daeb1"
      }
    },
    {
      "cell_type": "code",
      "execution_count": null,
      "outputs": [],
      "source": [
        ""
      ],
      "metadata": {
        "pycharm": {
          "name": "#%%\n"
        },
        "id": "Nb7v8fDqdu6H"
      }
    }
  ],
  "metadata": {
    "kernelspec": {
      "display_name": "Python 3",
      "language": "python",
      "name": "python3"
    },
    "language_info": {
      "codemirror_mode": {
        "name": "ipython",
        "version": 2
      },
      "file_extension": ".py",
      "mimetype": "text/x-python",
      "name": "python",
      "nbconvert_exporter": "python",
      "pygments_lexer": "ipython2",
      "version": "2.7.6"
    },
    "colab": {
      "name": "delta_hedge_portfolios.ipynb",
      "provenance": [],
      "include_colab_link": true
    }
  },
  "nbformat": 4,
  "nbformat_minor": 0
}