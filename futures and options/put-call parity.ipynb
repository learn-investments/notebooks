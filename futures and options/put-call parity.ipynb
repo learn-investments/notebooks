{
  "cells": [
    {
      "cell_type": "markdown",
      "metadata": {
        "id": "view-in-github",
        "colab_type": "text"
      },
      "source": [
        "<a href=\"https://colab.research.google.com/github/bbcx-investments/notebooks/blob/main/options/put_call_parity.ipynb\" target=\"_parent\"><img src=\"https://colab.research.google.com/assets/colab-badge.svg\" alt=\"Open In Colab\"/></a>"
      ]
    },
    {
      "cell_type": "code",
      "execution_count": null,
      "outputs": [],
      "source": [
        "import numpy as np\n",
        "from scipy.stats import norm\n",
        "\n",
        "# example parameters\n",
        "\n",
        "S = 50\n",
        "K = 50\n",
        "T = 1\n",
        "sigma = 0.4\n",
        "r = 0.02\n",
        "q = 0.03\n",
        "\n",
        "# preliminary calculations\n",
        "\n",
        "d1 = (np.log(S/K) + (r-q+0.5*sigma**2)*T) / (sigma*np.sqrt(T))\n",
        "d2 = d1 - sigma*np.sqrt(T)\n",
        "qT = np.exp(-q*T)\n",
        "rT = np.exp(-r*T)\n",
        "\n",
        "# Call premium\n",
        "N1 = norm.cdf(d1)\n",
        "N2 = norm.cdf(d2)\n",
        "C = qT * S * N1 - rT * S * N2\n",
        "# Put premium\n",
        "N1 = norm.cdf(-d1)\n",
        "N2 = norm.cdf(-d2)\n",
        "P = rT * K * N2 - qT * S * N1"
      ],
      "metadata": {
        "pycharm": {
          "name": "#%%\n"
        },
        "id": "E7qLMT6hMZYr"
      }
    },
    {
      "cell_type": "code",
      "execution_count": null,
      "outputs": [
        {
          "name": "stdout",
          "output_type": "stream",
          "text": [
            "The left hand side of put-call parity is 56.498863378773066 the right hand side is 56.498863378773066\n"
          ]
        }
      ],
      "source": [
        "LHS = C + rT * K\n",
        "RHS = P + qT * S\n",
        "print('The left hand side of put-call parity is', LHS, 'the right hand side is', RHS)"
      ],
      "metadata": {
        "pycharm": {
          "name": "#%%\n"
        },
        "id": "BSjehM37MZYt",
        "outputId": "dabee07e-a4eb-4364-e73c-d62f5ce862d2"
      }
    },
    {
      "cell_type": "code",
      "execution_count": null,
      "outputs": [],
      "source": [
        ""
      ],
      "metadata": {
        "pycharm": {
          "name": "#%%\n"
        },
        "id": "-LP_9uSBMZYt"
      }
    }
  ],
  "metadata": {
    "kernelspec": {
      "display_name": "Python 3",
      "language": "python",
      "name": "python3"
    },
    "language_info": {
      "codemirror_mode": {
        "name": "ipython",
        "version": 2
      },
      "file_extension": ".py",
      "mimetype": "text/x-python",
      "name": "python",
      "nbconvert_exporter": "python",
      "pygments_lexer": "ipython2",
      "version": "2.7.6"
    },
    "colab": {
      "name": "put-call parity.ipynb",
      "provenance": [],
      "include_colab_link": true
    }
  },
  "nbformat": 4,
  "nbformat_minor": 0
}