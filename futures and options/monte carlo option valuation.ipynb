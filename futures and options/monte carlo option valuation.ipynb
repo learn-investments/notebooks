{
  "cells": [
    {
      "cell_type": "markdown",
      "metadata": {
        "id": "view-in-github",
        "colab_type": "text"
      },
      "source": [
        "<a href=\"https://colab.research.google.com/github/bbcx-investments/notebooks/blob/main/options/monte_carlo.ipynb\" target=\"_parent\"><img src=\"https://colab.research.google.com/assets/colab-badge.svg\" alt=\"Open In Colab\"/></a>"
      ]
    },
    {
      "cell_type": "code",
      "execution_count": null,
      "metadata": {
        "collapsed": true,
        "pycharm": {
          "name": "#%%\n"
        },
        "id": "ldpYBX3UEHd_",
        "outputId": "ff84dc0c-62a3-4397-e01d-13359af14a8b"
      },
      "outputs": [
        {
          "name": "stdout",
          "output_type": "stream",
          "text": [
            "The Black-Scholes value of the call is 10.48.\n",
            "The Black-Scholes value of the put is 6.11.\n"
          ]
        }
      ],
      "source": [
        "import pandas as pd\n",
        "import numpy as np\n",
        "from scipy.stats import norm\n",
        "\n",
        "# example parameters\n",
        "\n",
        "S = 55\n",
        "K = 50\n",
        "T = 1\n",
        "sigma = 0.4\n",
        "r = 0.02\n",
        "q = 0.03\n",
        "\n",
        "# Black-Scholes values\n",
        "\n",
        "d1 = (np.log(S / K) + (r - q + 0.5 * sigma ** 2) * T) / (sigma * np.sqrt(T))\n",
        "N1 = norm.cdf(d1)\n",
        "d2 = d1 - sigma * np.sqrt(T)\n",
        "N2 = norm.cdf(d2)\n",
        "call = np.exp(-q*T)*S*N1 - np.exp(-r*T)*K*N2\n",
        "put = np.exp(-r*T)*K*(1-N2) - np.exp(-q*T)*S*(1-N1)\n",
        "\n",
        "print('The Black-Scholes value of the call is', call.round(2), end='.\\n')\n",
        "print('The Black-Scholes value of the put is', put.round(2), end='.\\n')"
      ]
    },
    {
      "cell_type": "code",
      "execution_count": null,
      "outputs": [
        {
          "data": {
            "text/plain": "   Simulated Call Values  Simulated Put Values\n0               0.000000             16.314223\n1              24.191941              0.000000\n2              13.194100              0.000000\n3               0.000000             20.266329\n4              12.299121              0.000000",
            "text/html": "<div>\n<style scoped>\n    .dataframe tbody tr th:only-of-type {\n        vertical-align: middle;\n    }\n\n    .dataframe tbody tr th {\n        vertical-align: top;\n    }\n\n    .dataframe thead th {\n        text-align: right;\n    }\n</style>\n<table border=\"1\" class=\"dataframe\">\n  <thead>\n    <tr style=\"text-align: right;\">\n      <th></th>\n      <th>Simulated Call Values</th>\n      <th>Simulated Put Values</th>\n    </tr>\n  </thead>\n  <tbody>\n    <tr>\n      <th>0</th>\n      <td>0.000000</td>\n      <td>16.314223</td>\n    </tr>\n    <tr>\n      <th>1</th>\n      <td>24.191941</td>\n      <td>0.000000</td>\n    </tr>\n    <tr>\n      <th>2</th>\n      <td>13.194100</td>\n      <td>0.000000</td>\n    </tr>\n    <tr>\n      <th>3</th>\n      <td>0.000000</td>\n      <td>20.266329</td>\n    </tr>\n    <tr>\n      <th>4</th>\n      <td>12.299121</td>\n      <td>0.000000</td>\n    </tr>\n  </tbody>\n</table>\n</div>"
          },
          "execution_count": 19,
          "metadata": {},
          "output_type": "execute_result"
        }
      ],
      "source": [
        "N = 1000    # number of iteration\n",
        "eps = norm.rvs(0, 1, N)\n",
        "ST = S * np.exp((r - q - 0.5 * sigma ** 2) * T + sigma * np.sqrt(T) * eps)\n",
        "\n",
        "C = np.exp(-r * T) * pd.Series(np.maximum(0, ST - K))\n",
        "P = np.exp(-r * T) * pd.Series(np.maximum(0, K - ST))\n",
        "\n",
        "C.name = 'Simulated Call Values'\n",
        "P.name = 'Simulated Put Values'\n",
        "\n",
        "df = pd.concat((C, P), axis=1)\n",
        "\n",
        "df.head()"
      ],
      "metadata": {
        "pycharm": {
          "name": "#%%\n"
        },
        "id": "B-W2Td4kEHeC",
        "outputId": "1760b99f-93f5-4b4f-f142-8c3084e68fba"
      }
    },
    {
      "cell_type": "code",
      "execution_count": null,
      "outputs": [
        {
          "data": {
            "text/plain": "       Simulated Call Values  Simulated Put Values\ncount            1000.000000           1000.000000\nmean               10.274925              6.081546\nstd                16.066946              8.210919\nmin                 0.000000              0.000000\n25%                 0.000000              0.000000\n50%                 0.706414              0.000000\n75%                16.641529             11.725490\nmax                99.942222             36.966233",
            "text/html": "<div>\n<style scoped>\n    .dataframe tbody tr th:only-of-type {\n        vertical-align: middle;\n    }\n\n    .dataframe tbody tr th {\n        vertical-align: top;\n    }\n\n    .dataframe thead th {\n        text-align: right;\n    }\n</style>\n<table border=\"1\" class=\"dataframe\">\n  <thead>\n    <tr style=\"text-align: right;\">\n      <th></th>\n      <th>Simulated Call Values</th>\n      <th>Simulated Put Values</th>\n    </tr>\n  </thead>\n  <tbody>\n    <tr>\n      <th>count</th>\n      <td>1000.000000</td>\n      <td>1000.000000</td>\n    </tr>\n    <tr>\n      <th>mean</th>\n      <td>10.274925</td>\n      <td>6.081546</td>\n    </tr>\n    <tr>\n      <th>std</th>\n      <td>16.066946</td>\n      <td>8.210919</td>\n    </tr>\n    <tr>\n      <th>min</th>\n      <td>0.000000</td>\n      <td>0.000000</td>\n    </tr>\n    <tr>\n      <th>25%</th>\n      <td>0.000000</td>\n      <td>0.000000</td>\n    </tr>\n    <tr>\n      <th>50%</th>\n      <td>0.706414</td>\n      <td>0.000000</td>\n    </tr>\n    <tr>\n      <th>75%</th>\n      <td>16.641529</td>\n      <td>11.725490</td>\n    </tr>\n    <tr>\n      <th>max</th>\n      <td>99.942222</td>\n      <td>36.966233</td>\n    </tr>\n  </tbody>\n</table>\n</div>"
          },
          "execution_count": 20,
          "metadata": {},
          "output_type": "execute_result"
        }
      ],
      "source": [
        "df.describe()"
      ],
      "metadata": {
        "pycharm": {
          "name": "#%%\n"
        },
        "id": "dVJfqQ3QEHeD",
        "outputId": "7cd3f511-72a8-42cb-ac2a-769e03de5365"
      }
    },
    {
      "cell_type": "code",
      "execution_count": null,
      "outputs": [],
      "source": [
        ""
      ],
      "metadata": {
        "pycharm": {
          "name": "#%%\n"
        },
        "id": "s2DeQsk-EHeE"
      }
    }
  ],
  "metadata": {
    "kernelspec": {
      "display_name": "Python 3",
      "language": "python",
      "name": "python3"
    },
    "language_info": {
      "codemirror_mode": {
        "name": "ipython",
        "version": 2
      },
      "file_extension": ".py",
      "mimetype": "text/x-python",
      "name": "python",
      "nbconvert_exporter": "python",
      "pygments_lexer": "ipython2",
      "version": "2.7.6"
    },
    "colab": {
      "name": "monte_carlo.ipynb",
      "provenance": [],
      "include_colab_link": true
    }
  },
  "nbformat": 4,
  "nbformat_minor": 0
}