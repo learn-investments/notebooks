{
 "cells": [
  {
   "cell_type": "markdown",
   "metadata": {},
   "source": [
    "---\n",
    "\n",
    "Created for [learn-investments.rice-business.org](https://learn-investments.rice-business.org)\n",
    "    \n",
    "By [Kerry Back](https://kerryback.com) and [Kevin Crotty](https://kevin-crotty.com)\n",
    "    \n",
    "Jones Graduate School of Business, Rice University\n",
    "\n",
    "---\n"
   ]
  },
  {
   "cell_type": "markdown",
   "metadata": {},
   "source": [
    "# EXAMPLE DATA"
   ]
  },
  {
   "cell_type": "code",
   "execution_count": 4,
   "metadata": {},
   "outputs": [],
   "source": [
    "S = 50                      # initial price of underlying\n",
    "K = 50                      # strike price\n",
    "r = 0.01                    # risk-free rate per period\n",
    "q = 0.02                    # dividend yield\n",
    "sigma = 0.30                # volatility per year\n",
    "T = 1                       # years to maturity\n",
    "n = 10                      # number of periods\n",
    "kind = 'European call'      # type of option\n",
    "# kind options: 'European call', 'European put', 'American call', 'American put',"
   ]
  },
  {
   "cell_type": "markdown",
   "metadata": {},
   "source": [
    "# FUNCTIONS"
   ]
  },
  {
   "cell_type": "code",
   "execution_count": 5,
   "metadata": {},
   "outputs": [],
   "source": [
    "import numpy as np\n",
    "import plotly.graph_objects as go\n",
    "\n",
    "\n",
    "def europeanTree(S, K, r, q, sigma, T, n, kind):\n",
    "    def f(S):\n",
    "        if kind == \"call\":\n",
    "            return np.maximum(np.array(S) - K, 0)\n",
    "        else:\n",
    "            return np.maximum(K - np.array(S), 0)\n",
    "\n",
    "    # parameters\n",
    "    dt = T / n\n",
    "    u = np.exp(sigma * np.sqrt(dt))\n",
    "    d = 1/u\n",
    "    p = (np.exp((r - q) * dt) - d) / (u - d)\n",
    "    disc = np.exp(-r * dt)    \n",
    "\n",
    "    # build tree\n",
    "    ST = [S * u ** (n - 2 * i) for i in range(n + 1)]\n",
    "    x = f(ST)\n",
    "    lst = [x]\n",
    "    while len(x) > 1:\n",
    "        x = disc * (p * x[:-1] + (1 - p) * x[1:])\n",
    "        lst.insert(0, x)\n",
    "    return [list(x) for x in lst], p\n",
    "\n",
    "\n",
    "def americanTree(S, K, r, q, sigma, T, n, kind):\n",
    "    def f(S):\n",
    "        if kind == \"call\":\n",
    "            return np.maximum(np.array(S) - K, 0)\n",
    "        else:\n",
    "            return np.maximum(K - np.array(S), 0)\n",
    "\n",
    "    # parameters\n",
    "    dt = T / n\n",
    "    u = np.exp(sigma * np.sqrt(dt))\n",
    "    d = 1/u\n",
    "    p = (np.exp((r - q) * dt) - d) / (u - d)\n",
    "    disc = np.exp(-r * dt)   \n",
    "\n",
    "    # build tree\n",
    "    ST = [S * u ** (n - 2 * i) for i in range(n + 1)]\n",
    "    x = f(ST)\n",
    "    lst = [x]\n",
    "    while len(x) > 1:\n",
    "        x0 = disc * (p * x[:-1] + (1 - p) * x[1:])\n",
    "        t = len(x0) - 1\n",
    "        St = [S * u ** (t - 2 * i) for i in range(t + 1)]\n",
    "        x = np.maximum(x0, f(St))\n",
    "        lst.insert(0, x)\n",
    "    return [list(x) for x in lst], p"
   ]
  },
  {
   "cell_type": "markdown",
   "metadata": {},
   "source": [
    "# CALCULATIONS"
   ]
  },
  {
   "cell_type": "code",
   "execution_count": 6,
   "metadata": {},
   "outputs": [
    {
     "name": "stdout",
     "output_type": "stream",
     "text": [
      "European call value at date 0:\t\t$5.49\n",
      "Risk-neutral probability of up state:\t47.1%\n"
     ]
    }
   ],
   "source": [
    "# Stock price tree\n",
    "dt = T/n\n",
    "u  = np.exp(sigma * np.sqrt(dt))\n",
    "stock_tree = [[S * u ** (t - 2 * i) for i in range(t + 1)] for t in range(n + 1)]\n",
    "\n",
    "# Option tree\n",
    "kind_split = kind.split(\" \")\n",
    "Tree = europeanTree if kind_split[0] == \"European\" else americanTree\n",
    "option_tree, prob = Tree(S, K, r, q, sigma, T, n, kind_split[1])\n",
    "option_value = option_tree[0][0]\n",
    "\n",
    "# Summarize output\n",
    "print(f'{kind} value at date 0:\\t\\t${option_value:.2f}')\n",
    "print(f'Risk-neutral probability of up state:\\t{prob:.1%}')"
   ]
  },
  {
   "cell_type": "markdown",
   "metadata": {},
   "source": [
    "# FIGURE: UNDERLYING PRICE"
   ]
  },
  {
   "cell_type": "code",
   "execution_count": 7,
   "metadata": {},
   "outputs": [
    {
     "data": {
      "application/vnd.plotly.v1+json": {
       "config": {
        "plotlyServerURL": "https://plot.ly"
       },
       "data": [
        {
         "hovertemplate": "$%{y:,.2f}<extra></extra>",
         "line": {
          "color": "blue"
         },
         "marker": {
          "color": "blue",
          "size": 12
         },
         "mode": "lines+markers",
         "showlegend": false,
         "type": "scatter",
         "x": [
          1,
          0,
          1
         ],
         "y": [
          54.9757036181134,
          50,
          45.47463398315287
         ]
        },
        {
         "hovertemplate": "$%{y:,.2f}<extra></extra>",
         "line": {
          "color": "blue"
         },
         "marker": {
          "color": "blue",
          "size": 12
         },
         "mode": "lines+markers",
         "showlegend": false,
         "type": "scatter",
         "x": [
          2,
          1,
          2,
          1,
          2
         ],
         "y": [
          60.44655976613294,
          54.9757036181134,
          50,
          45.47463398315287,
          41.358846718034435
         ]
        },
        {
         "hovertemplate": "$%{y:,.2f}<extra></extra>",
         "line": {
          "color": "blue"
         },
         "marker": {
          "color": "blue",
          "size": 12
         },
         "mode": "lines+markers",
         "showlegend": false,
         "type": "scatter",
         "x": [
          3,
          2,
          3,
          2,
          3,
          2,
          3
         ],
         "y": [
          66.46184308875006,
          60.44655976613294,
          54.9757036181134,
          50,
          45.47463398315287,
          41.358846718034435,
          37.61556832935879
         ]
        },
        {
         "hovertemplate": "$%{y:,.2f}<extra></extra>",
         "line": {
          "color": "blue"
         },
         "marker": {
          "color": "blue",
          "size": 12
         },
         "mode": "lines+markers",
         "showlegend": false,
         "type": "scatter",
         "x": [
          4,
          3,
          4,
          3,
          4,
          3,
          4,
          3,
          4
         ],
         "y": [
          73.07573175121364,
          66.46184308875006,
          60.44655976613294,
          54.9757036181134,
          50,
          45.47463398315287,
          41.358846718034435,
          37.61556832935879,
          34.21108403691736
         ]
        },
        {
         "hovertemplate": "$%{y:,.2f}<extra></extra>",
         "line": {
          "color": "blue"
         },
         "marker": {
          "color": "blue",
          "size": 12
         },
         "mode": "lines+markers",
         "showlegend": false,
         "type": "scatter",
         "x": [
          5,
          4,
          5,
          4,
          5,
          4,
          5,
          4,
          5,
          4,
          5
         ],
         "y": [
          80.3477954086296,
          73.07573175121364,
          66.46184308875006,
          60.44655976613294,
          54.9757036181134,
          50,
          45.47463398315287,
          41.358846718034435,
          37.61556832935879,
          34.21108403691736,
          31.114730494914017
         ]
        },
        {
         "hovertemplate": "$%{y:,.2f}<extra></extra>",
         "line": {
          "color": "blue"
         },
         "marker": {
          "color": "blue",
          "size": 12
         },
         "mode": "lines+markers",
         "showlegend": false,
         "type": "scatter",
         "x": [
          6,
          5,
          6,
          5,
          6,
          5,
          6,
          5,
          6,
          5,
          6,
          5,
          6
         ],
         "y": [
          88.34353173507267,
          80.3477954086296,
          73.07573175121364,
          66.46184308875006,
          60.44655976613294,
          54.9757036181134,
          50,
          45.47463398315287,
          41.358846718034435,
          37.61556832935879,
          34.21108403691736,
          31.114730494914017,
          28.2986196148132
         ]
        },
        {
         "hovertemplate": "$%{y:,.2f}<extra></extra>",
         "line": {
          "color": "blue"
         },
         "marker": {
          "color": "blue",
          "size": 12
         },
         "mode": "lines+markers",
         "showlegend": false,
         "type": "scatter",
         "x": [
          7,
          6,
          7,
          6,
          7,
          6,
          7,
          6,
          7,
          6,
          7,
          6,
          7,
          6,
          7
         ],
         "y": [
          97.13495634489502,
          88.34353173507267,
          80.3477954086296,
          73.07573175121364,
          66.46184308875006,
          60.44655976613294,
          54.9757036181134,
          50,
          45.47463398315287,
          41.358846718034435,
          37.61556832935879,
          34.21108403691736,
          31.114730494914017,
          28.2986196148132,
          25.737387384242016
         ]
        },
        {
         "hovertemplate": "$%{y:,.2f}<extra></extra>",
         "line": {
          "color": "blue"
         },
         "marker": {
          "color": "blue",
          "size": 12
         },
         "mode": "lines+markers",
         "showlegend": false,
         "type": "scatter",
         "x": [
          8,
          7,
          8,
          7,
          8,
          7,
          8,
          7,
          8,
          7,
          8,
          7,
          8,
          7,
          8,
          7,
          8
         ],
         "y": [
          106.80125141950666,
          97.13495634489502,
          88.34353173507267,
          80.3477954086296,
          73.07573175121364,
          66.46184308875006,
          60.44655976613294,
          54.9757036181134,
          50,
          45.47463398315287,
          41.358846718034435,
          37.61556832935879,
          34.21108403691736,
          31.114730494914017,
          28.2986196148132,
          25.737387384242016,
          23.40796541962044
         ]
        },
        {
         "hovertemplate": "$%{y:,.2f}<extra></extra>",
         "line": {
          "color": "blue"
         },
         "marker": {
          "color": "blue",
          "size": 12
         },
         "mode": "lines+markers",
         "showlegend": false,
         "type": "scatter",
         "x": [
          9,
          8,
          9,
          8,
          9,
          8,
          9,
          8,
          9,
          8,
          9,
          8,
          9,
          8,
          9,
          8,
          9,
          8,
          9
         ],
         "y": [
          117.42947888164824,
          106.80125141950666,
          97.13495634489502,
          88.34353173507267,
          80.3477954086296,
          73.07573175121364,
          66.46184308875006,
          60.44655976613294,
          54.9757036181134,
          50,
          45.47463398315287,
          41.358846718034435,
          37.61556832935879,
          34.21108403691736,
          31.114730494914017,
          28.2986196148132,
          25.737387384242016,
          23.40796541962044,
          21.289373194950777
         ]
        },
        {
         "hovertemplate": "$%{y:,.2f}<extra></extra>",
         "line": {
          "color": "blue"
         },
         "marker": {
          "color": "blue",
          "size": 12
         },
         "mode": "lines+markers",
         "showlegend": false,
         "type": "scatter",
         "x": [
          10,
          9,
          10,
          9,
          10,
          9,
          10,
          9,
          10,
          9,
          10,
          9,
          10,
          9,
          10,
          9,
          10,
          9,
          10,
          9,
          10
         ],
         "y": [
          129.11536454054,
          117.42947888164824,
          106.80125141950666,
          97.13495634489502,
          88.34353173507267,
          80.3477954086296,
          73.07573175121364,
          66.46184308875006,
          60.44655976613294,
          54.9757036181134,
          50,
          45.47463398315287,
          41.358846718034435,
          37.61556832935879,
          34.21108403691736,
          31.114730494914017,
          28.2986196148132,
          25.737387384242016,
          23.40796541962044,
          21.289373194950777,
          19.36252907542265
         ]
        }
       ],
       "layout": {
        "template": {
         "data": {
          "bar": [
           {
            "error_x": {
             "color": "#2a3f5f"
            },
            "error_y": {
             "color": "#2a3f5f"
            },
            "marker": {
             "line": {
              "color": "white",
              "width": 0.5
             },
             "pattern": {
              "fillmode": "overlay",
              "size": 10,
              "solidity": 0.2
             }
            },
            "type": "bar"
           }
          ],
          "barpolar": [
           {
            "marker": {
             "line": {
              "color": "white",
              "width": 0.5
             },
             "pattern": {
              "fillmode": "overlay",
              "size": 10,
              "solidity": 0.2
             }
            },
            "type": "barpolar"
           }
          ],
          "carpet": [
           {
            "aaxis": {
             "endlinecolor": "#2a3f5f",
             "gridcolor": "#C8D4E3",
             "linecolor": "#C8D4E3",
             "minorgridcolor": "#C8D4E3",
             "startlinecolor": "#2a3f5f"
            },
            "baxis": {
             "endlinecolor": "#2a3f5f",
             "gridcolor": "#C8D4E3",
             "linecolor": "#C8D4E3",
             "minorgridcolor": "#C8D4E3",
             "startlinecolor": "#2a3f5f"
            },
            "type": "carpet"
           }
          ],
          "choropleth": [
           {
            "colorbar": {
             "outlinewidth": 0,
             "ticks": ""
            },
            "type": "choropleth"
           }
          ],
          "contour": [
           {
            "colorbar": {
             "outlinewidth": 0,
             "ticks": ""
            },
            "colorscale": [
             [
              0,
              "#0d0887"
             ],
             [
              0.1111111111111111,
              "#46039f"
             ],
             [
              0.2222222222222222,
              "#7201a8"
             ],
             [
              0.3333333333333333,
              "#9c179e"
             ],
             [
              0.4444444444444444,
              "#bd3786"
             ],
             [
              0.5555555555555556,
              "#d8576b"
             ],
             [
              0.6666666666666666,
              "#ed7953"
             ],
             [
              0.7777777777777778,
              "#fb9f3a"
             ],
             [
              0.8888888888888888,
              "#fdca26"
             ],
             [
              1,
              "#f0f921"
             ]
            ],
            "type": "contour"
           }
          ],
          "contourcarpet": [
           {
            "colorbar": {
             "outlinewidth": 0,
             "ticks": ""
            },
            "type": "contourcarpet"
           }
          ],
          "heatmap": [
           {
            "colorbar": {
             "outlinewidth": 0,
             "ticks": ""
            },
            "colorscale": [
             [
              0,
              "#0d0887"
             ],
             [
              0.1111111111111111,
              "#46039f"
             ],
             [
              0.2222222222222222,
              "#7201a8"
             ],
             [
              0.3333333333333333,
              "#9c179e"
             ],
             [
              0.4444444444444444,
              "#bd3786"
             ],
             [
              0.5555555555555556,
              "#d8576b"
             ],
             [
              0.6666666666666666,
              "#ed7953"
             ],
             [
              0.7777777777777778,
              "#fb9f3a"
             ],
             [
              0.8888888888888888,
              "#fdca26"
             ],
             [
              1,
              "#f0f921"
             ]
            ],
            "type": "heatmap"
           }
          ],
          "heatmapgl": [
           {
            "colorbar": {
             "outlinewidth": 0,
             "ticks": ""
            },
            "colorscale": [
             [
              0,
              "#0d0887"
             ],
             [
              0.1111111111111111,
              "#46039f"
             ],
             [
              0.2222222222222222,
              "#7201a8"
             ],
             [
              0.3333333333333333,
              "#9c179e"
             ],
             [
              0.4444444444444444,
              "#bd3786"
             ],
             [
              0.5555555555555556,
              "#d8576b"
             ],
             [
              0.6666666666666666,
              "#ed7953"
             ],
             [
              0.7777777777777778,
              "#fb9f3a"
             ],
             [
              0.8888888888888888,
              "#fdca26"
             ],
             [
              1,
              "#f0f921"
             ]
            ],
            "type": "heatmapgl"
           }
          ],
          "histogram": [
           {
            "marker": {
             "pattern": {
              "fillmode": "overlay",
              "size": 10,
              "solidity": 0.2
             }
            },
            "type": "histogram"
           }
          ],
          "histogram2d": [
           {
            "colorbar": {
             "outlinewidth": 0,
             "ticks": ""
            },
            "colorscale": [
             [
              0,
              "#0d0887"
             ],
             [
              0.1111111111111111,
              "#46039f"
             ],
             [
              0.2222222222222222,
              "#7201a8"
             ],
             [
              0.3333333333333333,
              "#9c179e"
             ],
             [
              0.4444444444444444,
              "#bd3786"
             ],
             [
              0.5555555555555556,
              "#d8576b"
             ],
             [
              0.6666666666666666,
              "#ed7953"
             ],
             [
              0.7777777777777778,
              "#fb9f3a"
             ],
             [
              0.8888888888888888,
              "#fdca26"
             ],
             [
              1,
              "#f0f921"
             ]
            ],
            "type": "histogram2d"
           }
          ],
          "histogram2dcontour": [
           {
            "colorbar": {
             "outlinewidth": 0,
             "ticks": ""
            },
            "colorscale": [
             [
              0,
              "#0d0887"
             ],
             [
              0.1111111111111111,
              "#46039f"
             ],
             [
              0.2222222222222222,
              "#7201a8"
             ],
             [
              0.3333333333333333,
              "#9c179e"
             ],
             [
              0.4444444444444444,
              "#bd3786"
             ],
             [
              0.5555555555555556,
              "#d8576b"
             ],
             [
              0.6666666666666666,
              "#ed7953"
             ],
             [
              0.7777777777777778,
              "#fb9f3a"
             ],
             [
              0.8888888888888888,
              "#fdca26"
             ],
             [
              1,
              "#f0f921"
             ]
            ],
            "type": "histogram2dcontour"
           }
          ],
          "mesh3d": [
           {
            "colorbar": {
             "outlinewidth": 0,
             "ticks": ""
            },
            "type": "mesh3d"
           }
          ],
          "parcoords": [
           {
            "line": {
             "colorbar": {
              "outlinewidth": 0,
              "ticks": ""
             }
            },
            "type": "parcoords"
           }
          ],
          "pie": [
           {
            "automargin": true,
            "type": "pie"
           }
          ],
          "scatter": [
           {
            "fillpattern": {
             "fillmode": "overlay",
             "size": 10,
             "solidity": 0.2
            },
            "type": "scatter"
           }
          ],
          "scatter3d": [
           {
            "line": {
             "colorbar": {
              "outlinewidth": 0,
              "ticks": ""
             }
            },
            "marker": {
             "colorbar": {
              "outlinewidth": 0,
              "ticks": ""
             }
            },
            "type": "scatter3d"
           }
          ],
          "scattercarpet": [
           {
            "marker": {
             "colorbar": {
              "outlinewidth": 0,
              "ticks": ""
             }
            },
            "type": "scattercarpet"
           }
          ],
          "scattergeo": [
           {
            "marker": {
             "colorbar": {
              "outlinewidth": 0,
              "ticks": ""
             }
            },
            "type": "scattergeo"
           }
          ],
          "scattergl": [
           {
            "marker": {
             "colorbar": {
              "outlinewidth": 0,
              "ticks": ""
             }
            },
            "type": "scattergl"
           }
          ],
          "scattermapbox": [
           {
            "marker": {
             "colorbar": {
              "outlinewidth": 0,
              "ticks": ""
             }
            },
            "type": "scattermapbox"
           }
          ],
          "scatterpolar": [
           {
            "marker": {
             "colorbar": {
              "outlinewidth": 0,
              "ticks": ""
             }
            },
            "type": "scatterpolar"
           }
          ],
          "scatterpolargl": [
           {
            "marker": {
             "colorbar": {
              "outlinewidth": 0,
              "ticks": ""
             }
            },
            "type": "scatterpolargl"
           }
          ],
          "scatterternary": [
           {
            "marker": {
             "colorbar": {
              "outlinewidth": 0,
              "ticks": ""
             }
            },
            "type": "scatterternary"
           }
          ],
          "surface": [
           {
            "colorbar": {
             "outlinewidth": 0,
             "ticks": ""
            },
            "colorscale": [
             [
              0,
              "#0d0887"
             ],
             [
              0.1111111111111111,
              "#46039f"
             ],
             [
              0.2222222222222222,
              "#7201a8"
             ],
             [
              0.3333333333333333,
              "#9c179e"
             ],
             [
              0.4444444444444444,
              "#bd3786"
             ],
             [
              0.5555555555555556,
              "#d8576b"
             ],
             [
              0.6666666666666666,
              "#ed7953"
             ],
             [
              0.7777777777777778,
              "#fb9f3a"
             ],
             [
              0.8888888888888888,
              "#fdca26"
             ],
             [
              1,
              "#f0f921"
             ]
            ],
            "type": "surface"
           }
          ],
          "table": [
           {
            "cells": {
             "fill": {
              "color": "#EBF0F8"
             },
             "line": {
              "color": "white"
             }
            },
            "header": {
             "fill": {
              "color": "#C8D4E3"
             },
             "line": {
              "color": "white"
             }
            },
            "type": "table"
           }
          ]
         },
         "layout": {
          "annotationdefaults": {
           "arrowcolor": "#2a3f5f",
           "arrowhead": 0,
           "arrowwidth": 1
          },
          "autotypenumbers": "strict",
          "coloraxis": {
           "colorbar": {
            "outlinewidth": 0,
            "ticks": ""
           }
          },
          "colorscale": {
           "diverging": [
            [
             0,
             "#8e0152"
            ],
            [
             0.1,
             "#c51b7d"
            ],
            [
             0.2,
             "#de77ae"
            ],
            [
             0.3,
             "#f1b6da"
            ],
            [
             0.4,
             "#fde0ef"
            ],
            [
             0.5,
             "#f7f7f7"
            ],
            [
             0.6,
             "#e6f5d0"
            ],
            [
             0.7,
             "#b8e186"
            ],
            [
             0.8,
             "#7fbc41"
            ],
            [
             0.9,
             "#4d9221"
            ],
            [
             1,
             "#276419"
            ]
           ],
           "sequential": [
            [
             0,
             "#0d0887"
            ],
            [
             0.1111111111111111,
             "#46039f"
            ],
            [
             0.2222222222222222,
             "#7201a8"
            ],
            [
             0.3333333333333333,
             "#9c179e"
            ],
            [
             0.4444444444444444,
             "#bd3786"
            ],
            [
             0.5555555555555556,
             "#d8576b"
            ],
            [
             0.6666666666666666,
             "#ed7953"
            ],
            [
             0.7777777777777778,
             "#fb9f3a"
            ],
            [
             0.8888888888888888,
             "#fdca26"
            ],
            [
             1,
             "#f0f921"
            ]
           ],
           "sequentialminus": [
            [
             0,
             "#0d0887"
            ],
            [
             0.1111111111111111,
             "#46039f"
            ],
            [
             0.2222222222222222,
             "#7201a8"
            ],
            [
             0.3333333333333333,
             "#9c179e"
            ],
            [
             0.4444444444444444,
             "#bd3786"
            ],
            [
             0.5555555555555556,
             "#d8576b"
            ],
            [
             0.6666666666666666,
             "#ed7953"
            ],
            [
             0.7777777777777778,
             "#fb9f3a"
            ],
            [
             0.8888888888888888,
             "#fdca26"
            ],
            [
             1,
             "#f0f921"
            ]
           ]
          },
          "colorway": [
           "#636efa",
           "#EF553B",
           "#00cc96",
           "#ab63fa",
           "#FFA15A",
           "#19d3f3",
           "#FF6692",
           "#B6E880",
           "#FF97FF",
           "#FECB52"
          ],
          "font": {
           "color": "#2a3f5f"
          },
          "geo": {
           "bgcolor": "white",
           "lakecolor": "white",
           "landcolor": "white",
           "showlakes": true,
           "showland": true,
           "subunitcolor": "#C8D4E3"
          },
          "hoverlabel": {
           "align": "left"
          },
          "hovermode": "closest",
          "mapbox": {
           "style": "light"
          },
          "paper_bgcolor": "white",
          "plot_bgcolor": "white",
          "polar": {
           "angularaxis": {
            "gridcolor": "#EBF0F8",
            "linecolor": "#EBF0F8",
            "ticks": ""
           },
           "bgcolor": "white",
           "radialaxis": {
            "gridcolor": "#EBF0F8",
            "linecolor": "#EBF0F8",
            "ticks": ""
           }
          },
          "scene": {
           "xaxis": {
            "backgroundcolor": "white",
            "gridcolor": "#DFE8F3",
            "gridwidth": 2,
            "linecolor": "#EBF0F8",
            "showbackground": true,
            "ticks": "",
            "zerolinecolor": "#EBF0F8"
           },
           "yaxis": {
            "backgroundcolor": "white",
            "gridcolor": "#DFE8F3",
            "gridwidth": 2,
            "linecolor": "#EBF0F8",
            "showbackground": true,
            "ticks": "",
            "zerolinecolor": "#EBF0F8"
           },
           "zaxis": {
            "backgroundcolor": "white",
            "gridcolor": "#DFE8F3",
            "gridwidth": 2,
            "linecolor": "#EBF0F8",
            "showbackground": true,
            "ticks": "",
            "zerolinecolor": "#EBF0F8"
           }
          },
          "shapedefaults": {
           "line": {
            "color": "#2a3f5f"
           }
          },
          "ternary": {
           "aaxis": {
            "gridcolor": "#DFE8F3",
            "linecolor": "#A2B1C6",
            "ticks": ""
           },
           "baxis": {
            "gridcolor": "#DFE8F3",
            "linecolor": "#A2B1C6",
            "ticks": ""
           },
           "bgcolor": "white",
           "caxis": {
            "gridcolor": "#DFE8F3",
            "linecolor": "#A2B1C6",
            "ticks": ""
           }
          },
          "title": {
           "x": 0.05
          },
          "xaxis": {
           "automargin": true,
           "gridcolor": "#EBF0F8",
           "linecolor": "#EBF0F8",
           "ticks": "",
           "title": {
            "standoff": 15
           },
           "zerolinecolor": "#EBF0F8",
           "zerolinewidth": 2
          },
          "yaxis": {
           "automargin": true,
           "gridcolor": "#EBF0F8",
           "linecolor": "#EBF0F8",
           "ticks": "",
           "title": {
            "standoff": 15
           },
           "zerolinecolor": "#EBF0F8",
           "zerolinewidth": 2
          }
         }
        },
        "xaxis": {
         "dtick": 1,
         "tick0": 0,
         "tickmode": "linear",
         "title": {
          "text": "Time"
         }
        },
        "yaxis": {
         "tickformat": ",.0f",
         "tickprefix": "$",
         "title": {
          "text": "Underlying Price"
         }
        }
       }
      }
     },
     "metadata": {},
     "output_type": "display_data"
    }
   ],
   "source": [
    "tree = stock_tree\n",
    "\n",
    "# Prep data for plotting\n",
    "spliced = []\n",
    "for a, b in zip(tree[1:], tree[:-1]):\n",
    "    x = []\n",
    "    for i in range(len(a)):\n",
    "        x.append(a[i])\n",
    "        try:\n",
    "            x.append(b[i])\n",
    "        except:\n",
    "            pass\n",
    "    spliced.append(x)\n",
    "\n",
    "\n",
    "# Make figure\n",
    "fig = go.Figure()\n",
    "string = \"$%{y:,.2f}<extra></extra>\"\n",
    "for i in range(len(tree) - 1):\n",
    "    x = [1, 0, 1]\n",
    "    for j in range(i):\n",
    "        x.append(0)\n",
    "        x.append(1)\n",
    "    x = np.array(x) + i\n",
    "    y = spliced[i]\n",
    "    trace = go.Scatter(\n",
    "        x=x,\n",
    "        y=y,\n",
    "        mode=\"lines+markers\",\n",
    "        hovertemplate=string,\n",
    "        marker=dict(size=12, color='blue'),\n",
    "        line=dict(color='blue'),\n",
    "        showlegend=False\n",
    "    )\n",
    "    fig.add_trace(trace)\n",
    "\n",
    "fig.update_layout(\n",
    "    xaxis=dict(tickmode=\"linear\", tick0=0, dtick=1, title=\"Time\"),\n",
    "    yaxis=dict(tickprefix=\"$\", tickformat=\",.0f\", title=\"Underlying Price\"),\n",
    "    template=\"plotly_white\"\n",
    ")"
   ]
  },
  {
   "cell_type": "markdown",
   "metadata": {},
   "source": [
    "# FIGURE: OPTION"
   ]
  },
  {
   "cell_type": "code",
   "execution_count": 8,
   "metadata": {},
   "outputs": [
    {
     "data": {
      "application/vnd.plotly.v1+json": {
       "config": {
        "plotlyServerURL": "https://plot.ly"
       },
       "data": [
        {
         "hovertemplate": "$%{y:,.2f}<extra></extra>",
         "line": {
          "color": "green"
         },
         "marker": {
          "color": "green",
          "size": 12
         },
         "mode": "lines+markers",
         "showlegend": false,
         "type": "scatter",
         "x": [
          1,
          0,
          1
         ],
         "y": [
          8.182218186561764,
          5.485198928743792,
          3.0938652788572694
         ]
        },
        {
         "hovertemplate": "$%{y:,.2f}<extra></extra>",
         "line": {
          "color": "green"
         },
         "marker": {
          "color": "green",
          "size": 12
         },
         "mode": "lines+markers",
         "showlegend": false,
         "type": "scatter",
         "x": [
          2,
          1,
          2,
          1,
          2
         ],
         "y": [
          11.867898713252082,
          8.182218186561764,
          4.9155781958159315,
          3.0938652788572694,
          1.4774730499474529
         ]
        },
        {
         "hovertemplate": "$%{y:,.2f}<extra></extra>",
         "line": {
          "color": "green"
         },
         "marker": {
          "color": "green",
          "size": 12
         },
         "mode": "lines+markers",
         "showlegend": false,
         "type": "scatter",
         "x": [
          3,
          2,
          3,
          2,
          3,
          2,
          3
         ],
         "y": [
          16.68805864453882,
          11.867898713252082,
          7.597970633606588,
          4.9155781958159315,
          2.5361923902191457,
          1.4774730499474529,
          0.5374729481349042
         ]
        },
        {
         "hovertemplate": "$%{y:,.2f}<extra></extra>",
         "line": {
          "color": "green"
         },
         "marker": {
          "color": "green",
          "size": 12
         },
         "mode": "lines+markers",
         "showlegend": false,
         "type": "scatter",
         "x": [
          4,
          3,
          4,
          3,
          4,
          3,
          4,
          3,
          4
         ],
         "y": [
          22.691313068800817,
          16.68805864453882,
          11.373696317280409,
          7.597970633606588,
          4.250039921867754,
          2.5361923902191457,
          1.0147999955522553,
          0.5374729481349042,
          0.11342751815517695
         ]
        },
        {
         "hovertemplate": "$%{y:,.2f}<extra></extra>",
         "line": {
          "color": "green"
         },
         "marker": {
          "color": "green",
          "size": 12
         },
         "mode": "lines+markers",
         "showlegend": false,
         "type": "scatter",
         "x": [
          5,
          4,
          5,
          4,
          5,
          4,
          5,
          4,
          5,
          4,
          5
         ],
         "y": [
          29.7976975267918,
          22.691313068800817,
          16.405962994335876,
          11.373696317280409,
          6.913951400218044,
          4.250039921867754,
          1.8858526669908309,
          1.0147999955522553,
          0.2410428425650274,
          0.11342751815517695,
          0
         ]
        },
        {
         "hovertemplate": "$%{y:,.2f}<extra></extra>",
         "line": {
          "color": "green"
         },
         "marker": {
          "color": "green",
          "size": 12
         },
         "mode": "lines+markers",
         "showlegend": false,
         "type": "scatter",
         "x": [
          6,
          5,
          6,
          5,
          6,
          5,
          6,
          5,
          6,
          5,
          6,
          5,
          6
         ],
         "y": [
          37.83920348341322,
          29.7976975267918,
          22.693058630076287,
          16.405962994335876,
          10.838305132029369,
          6.913951400218044,
          3.432372907735281,
          1.8858526669908309,
          0.5122359450053502,
          0.2410428425650274,
          0,
          0,
          0
         ]
        },
        {
         "hovertemplate": "$%{y:,.2f}<extra></extra>",
         "line": {
          "color": "green"
         },
         "marker": {
          "color": "green",
          "size": 12
         },
         "mode": "lines+markers",
         "showlegend": false,
         "type": "scatter",
         "x": [
          7,
          6,
          7,
          6,
          7,
          6,
          7,
          6,
          7,
          6,
          7,
          6,
          7,
          6,
          7
         ],
         "y": [
          46.7036667692518,
          37.83920348341322,
          30.01692723313948,
          22.693058630076287,
          16.214041179182797,
          10.838305132029369,
          6.071686421705069,
          3.432372907735281,
          1.0885436819586916,
          0.5122359450053502,
          0,
          0,
          0,
          0,
          0
         ]
        },
        {
         "hovertemplate": "$%{y:,.2f}<extra></extra>",
         "line": {
          "color": "green"
         },
         "marker": {
          "color": "green",
          "size": 12
         },
         "mode": "lines+markers",
         "showlegend": false,
         "type": "scatter",
         "x": [
          8,
          7,
          8,
          7,
          8,
          7,
          8,
          7,
          8,
          7,
          8,
          7,
          8,
          7,
          8,
          7,
          8
         ],
         "y": [
          56.4747997523983,
          46.7036667692518,
          38.09076348163019,
          30.01692723313948,
          22.88391271800052,
          16.214041179182797,
          10.305156522060834,
          6.071686421705069,
          2.3132452126525576,
          1.0885436819586916,
          0,
          0,
          0,
          0,
          0,
          0,
          0
         ]
        },
        {
         "hovertemplate": "$%{y:,.2f}<extra></extra>",
         "line": {
          "color": "green"
         },
         "marker": {
          "color": "green",
          "size": 12
         },
         "mode": "lines+markers",
         "showlegend": false,
         "type": "scatter",
         "x": [
          9,
          8,
          9,
          8,
          9,
          8,
          9,
          8,
          9,
          8,
          9,
          8,
          9,
          8,
          9,
          8,
          9,
          8,
          9
         ],
         "y": [
          67.24482963467958,
          56.4747997523983,
          46.99085558100063,
          38.09076348163019,
          30.237235414657558,
          22.88391271800052,
          16.379027246018488,
          10.305156522060834,
          4.9158370973513605,
          2.3132452126525576,
          0,
          0,
          0,
          0,
          0,
          0,
          0,
          0,
          0
         ]
        },
        {
         "hovertemplate": "$%{y:,.2f}<extra></extra>",
         "line": {
          "color": "green"
         },
         "marker": {
          "color": "green",
          "size": 12
         },
         "mode": "lines+markers",
         "showlegend": false,
         "type": "scatter",
         "x": [
          10,
          9,
          10,
          9,
          10,
          9,
          10,
          9,
          10,
          9,
          10,
          9,
          10,
          9,
          10,
          9,
          10,
          9,
          10,
          9,
          10
         ],
         "y": [
          79.11536454054001,
          67.24482963467958,
          56.801251419506656,
          46.99085558100063,
          38.34353173507267,
          30.237235414657558,
          23.075731751213638,
          16.379027246018488,
          10.446559766132943,
          4.9158370973513605,
          0,
          0,
          0,
          0,
          0,
          0,
          0,
          0,
          0,
          0,
          0
         ]
        }
       ],
       "layout": {
        "template": {
         "data": {
          "bar": [
           {
            "error_x": {
             "color": "#2a3f5f"
            },
            "error_y": {
             "color": "#2a3f5f"
            },
            "marker": {
             "line": {
              "color": "white",
              "width": 0.5
             },
             "pattern": {
              "fillmode": "overlay",
              "size": 10,
              "solidity": 0.2
             }
            },
            "type": "bar"
           }
          ],
          "barpolar": [
           {
            "marker": {
             "line": {
              "color": "white",
              "width": 0.5
             },
             "pattern": {
              "fillmode": "overlay",
              "size": 10,
              "solidity": 0.2
             }
            },
            "type": "barpolar"
           }
          ],
          "carpet": [
           {
            "aaxis": {
             "endlinecolor": "#2a3f5f",
             "gridcolor": "#C8D4E3",
             "linecolor": "#C8D4E3",
             "minorgridcolor": "#C8D4E3",
             "startlinecolor": "#2a3f5f"
            },
            "baxis": {
             "endlinecolor": "#2a3f5f",
             "gridcolor": "#C8D4E3",
             "linecolor": "#C8D4E3",
             "minorgridcolor": "#C8D4E3",
             "startlinecolor": "#2a3f5f"
            },
            "type": "carpet"
           }
          ],
          "choropleth": [
           {
            "colorbar": {
             "outlinewidth": 0,
             "ticks": ""
            },
            "type": "choropleth"
           }
          ],
          "contour": [
           {
            "colorbar": {
             "outlinewidth": 0,
             "ticks": ""
            },
            "colorscale": [
             [
              0,
              "#0d0887"
             ],
             [
              0.1111111111111111,
              "#46039f"
             ],
             [
              0.2222222222222222,
              "#7201a8"
             ],
             [
              0.3333333333333333,
              "#9c179e"
             ],
             [
              0.4444444444444444,
              "#bd3786"
             ],
             [
              0.5555555555555556,
              "#d8576b"
             ],
             [
              0.6666666666666666,
              "#ed7953"
             ],
             [
              0.7777777777777778,
              "#fb9f3a"
             ],
             [
              0.8888888888888888,
              "#fdca26"
             ],
             [
              1,
              "#f0f921"
             ]
            ],
            "type": "contour"
           }
          ],
          "contourcarpet": [
           {
            "colorbar": {
             "outlinewidth": 0,
             "ticks": ""
            },
            "type": "contourcarpet"
           }
          ],
          "heatmap": [
           {
            "colorbar": {
             "outlinewidth": 0,
             "ticks": ""
            },
            "colorscale": [
             [
              0,
              "#0d0887"
             ],
             [
              0.1111111111111111,
              "#46039f"
             ],
             [
              0.2222222222222222,
              "#7201a8"
             ],
             [
              0.3333333333333333,
              "#9c179e"
             ],
             [
              0.4444444444444444,
              "#bd3786"
             ],
             [
              0.5555555555555556,
              "#d8576b"
             ],
             [
              0.6666666666666666,
              "#ed7953"
             ],
             [
              0.7777777777777778,
              "#fb9f3a"
             ],
             [
              0.8888888888888888,
              "#fdca26"
             ],
             [
              1,
              "#f0f921"
             ]
            ],
            "type": "heatmap"
           }
          ],
          "heatmapgl": [
           {
            "colorbar": {
             "outlinewidth": 0,
             "ticks": ""
            },
            "colorscale": [
             [
              0,
              "#0d0887"
             ],
             [
              0.1111111111111111,
              "#46039f"
             ],
             [
              0.2222222222222222,
              "#7201a8"
             ],
             [
              0.3333333333333333,
              "#9c179e"
             ],
             [
              0.4444444444444444,
              "#bd3786"
             ],
             [
              0.5555555555555556,
              "#d8576b"
             ],
             [
              0.6666666666666666,
              "#ed7953"
             ],
             [
              0.7777777777777778,
              "#fb9f3a"
             ],
             [
              0.8888888888888888,
              "#fdca26"
             ],
             [
              1,
              "#f0f921"
             ]
            ],
            "type": "heatmapgl"
           }
          ],
          "histogram": [
           {
            "marker": {
             "pattern": {
              "fillmode": "overlay",
              "size": 10,
              "solidity": 0.2
             }
            },
            "type": "histogram"
           }
          ],
          "histogram2d": [
           {
            "colorbar": {
             "outlinewidth": 0,
             "ticks": ""
            },
            "colorscale": [
             [
              0,
              "#0d0887"
             ],
             [
              0.1111111111111111,
              "#46039f"
             ],
             [
              0.2222222222222222,
              "#7201a8"
             ],
             [
              0.3333333333333333,
              "#9c179e"
             ],
             [
              0.4444444444444444,
              "#bd3786"
             ],
             [
              0.5555555555555556,
              "#d8576b"
             ],
             [
              0.6666666666666666,
              "#ed7953"
             ],
             [
              0.7777777777777778,
              "#fb9f3a"
             ],
             [
              0.8888888888888888,
              "#fdca26"
             ],
             [
              1,
              "#f0f921"
             ]
            ],
            "type": "histogram2d"
           }
          ],
          "histogram2dcontour": [
           {
            "colorbar": {
             "outlinewidth": 0,
             "ticks": ""
            },
            "colorscale": [
             [
              0,
              "#0d0887"
             ],
             [
              0.1111111111111111,
              "#46039f"
             ],
             [
              0.2222222222222222,
              "#7201a8"
             ],
             [
              0.3333333333333333,
              "#9c179e"
             ],
             [
              0.4444444444444444,
              "#bd3786"
             ],
             [
              0.5555555555555556,
              "#d8576b"
             ],
             [
              0.6666666666666666,
              "#ed7953"
             ],
             [
              0.7777777777777778,
              "#fb9f3a"
             ],
             [
              0.8888888888888888,
              "#fdca26"
             ],
             [
              1,
              "#f0f921"
             ]
            ],
            "type": "histogram2dcontour"
           }
          ],
          "mesh3d": [
           {
            "colorbar": {
             "outlinewidth": 0,
             "ticks": ""
            },
            "type": "mesh3d"
           }
          ],
          "parcoords": [
           {
            "line": {
             "colorbar": {
              "outlinewidth": 0,
              "ticks": ""
             }
            },
            "type": "parcoords"
           }
          ],
          "pie": [
           {
            "automargin": true,
            "type": "pie"
           }
          ],
          "scatter": [
           {
            "fillpattern": {
             "fillmode": "overlay",
             "size": 10,
             "solidity": 0.2
            },
            "type": "scatter"
           }
          ],
          "scatter3d": [
           {
            "line": {
             "colorbar": {
              "outlinewidth": 0,
              "ticks": ""
             }
            },
            "marker": {
             "colorbar": {
              "outlinewidth": 0,
              "ticks": ""
             }
            },
            "type": "scatter3d"
           }
          ],
          "scattercarpet": [
           {
            "marker": {
             "colorbar": {
              "outlinewidth": 0,
              "ticks": ""
             }
            },
            "type": "scattercarpet"
           }
          ],
          "scattergeo": [
           {
            "marker": {
             "colorbar": {
              "outlinewidth": 0,
              "ticks": ""
             }
            },
            "type": "scattergeo"
           }
          ],
          "scattergl": [
           {
            "marker": {
             "colorbar": {
              "outlinewidth": 0,
              "ticks": ""
             }
            },
            "type": "scattergl"
           }
          ],
          "scattermapbox": [
           {
            "marker": {
             "colorbar": {
              "outlinewidth": 0,
              "ticks": ""
             }
            },
            "type": "scattermapbox"
           }
          ],
          "scatterpolar": [
           {
            "marker": {
             "colorbar": {
              "outlinewidth": 0,
              "ticks": ""
             }
            },
            "type": "scatterpolar"
           }
          ],
          "scatterpolargl": [
           {
            "marker": {
             "colorbar": {
              "outlinewidth": 0,
              "ticks": ""
             }
            },
            "type": "scatterpolargl"
           }
          ],
          "scatterternary": [
           {
            "marker": {
             "colorbar": {
              "outlinewidth": 0,
              "ticks": ""
             }
            },
            "type": "scatterternary"
           }
          ],
          "surface": [
           {
            "colorbar": {
             "outlinewidth": 0,
             "ticks": ""
            },
            "colorscale": [
             [
              0,
              "#0d0887"
             ],
             [
              0.1111111111111111,
              "#46039f"
             ],
             [
              0.2222222222222222,
              "#7201a8"
             ],
             [
              0.3333333333333333,
              "#9c179e"
             ],
             [
              0.4444444444444444,
              "#bd3786"
             ],
             [
              0.5555555555555556,
              "#d8576b"
             ],
             [
              0.6666666666666666,
              "#ed7953"
             ],
             [
              0.7777777777777778,
              "#fb9f3a"
             ],
             [
              0.8888888888888888,
              "#fdca26"
             ],
             [
              1,
              "#f0f921"
             ]
            ],
            "type": "surface"
           }
          ],
          "table": [
           {
            "cells": {
             "fill": {
              "color": "#EBF0F8"
             },
             "line": {
              "color": "white"
             }
            },
            "header": {
             "fill": {
              "color": "#C8D4E3"
             },
             "line": {
              "color": "white"
             }
            },
            "type": "table"
           }
          ]
         },
         "layout": {
          "annotationdefaults": {
           "arrowcolor": "#2a3f5f",
           "arrowhead": 0,
           "arrowwidth": 1
          },
          "autotypenumbers": "strict",
          "coloraxis": {
           "colorbar": {
            "outlinewidth": 0,
            "ticks": ""
           }
          },
          "colorscale": {
           "diverging": [
            [
             0,
             "#8e0152"
            ],
            [
             0.1,
             "#c51b7d"
            ],
            [
             0.2,
             "#de77ae"
            ],
            [
             0.3,
             "#f1b6da"
            ],
            [
             0.4,
             "#fde0ef"
            ],
            [
             0.5,
             "#f7f7f7"
            ],
            [
             0.6,
             "#e6f5d0"
            ],
            [
             0.7,
             "#b8e186"
            ],
            [
             0.8,
             "#7fbc41"
            ],
            [
             0.9,
             "#4d9221"
            ],
            [
             1,
             "#276419"
            ]
           ],
           "sequential": [
            [
             0,
             "#0d0887"
            ],
            [
             0.1111111111111111,
             "#46039f"
            ],
            [
             0.2222222222222222,
             "#7201a8"
            ],
            [
             0.3333333333333333,
             "#9c179e"
            ],
            [
             0.4444444444444444,
             "#bd3786"
            ],
            [
             0.5555555555555556,
             "#d8576b"
            ],
            [
             0.6666666666666666,
             "#ed7953"
            ],
            [
             0.7777777777777778,
             "#fb9f3a"
            ],
            [
             0.8888888888888888,
             "#fdca26"
            ],
            [
             1,
             "#f0f921"
            ]
           ],
           "sequentialminus": [
            [
             0,
             "#0d0887"
            ],
            [
             0.1111111111111111,
             "#46039f"
            ],
            [
             0.2222222222222222,
             "#7201a8"
            ],
            [
             0.3333333333333333,
             "#9c179e"
            ],
            [
             0.4444444444444444,
             "#bd3786"
            ],
            [
             0.5555555555555556,
             "#d8576b"
            ],
            [
             0.6666666666666666,
             "#ed7953"
            ],
            [
             0.7777777777777778,
             "#fb9f3a"
            ],
            [
             0.8888888888888888,
             "#fdca26"
            ],
            [
             1,
             "#f0f921"
            ]
           ]
          },
          "colorway": [
           "#636efa",
           "#EF553B",
           "#00cc96",
           "#ab63fa",
           "#FFA15A",
           "#19d3f3",
           "#FF6692",
           "#B6E880",
           "#FF97FF",
           "#FECB52"
          ],
          "font": {
           "color": "#2a3f5f"
          },
          "geo": {
           "bgcolor": "white",
           "lakecolor": "white",
           "landcolor": "white",
           "showlakes": true,
           "showland": true,
           "subunitcolor": "#C8D4E3"
          },
          "hoverlabel": {
           "align": "left"
          },
          "hovermode": "closest",
          "mapbox": {
           "style": "light"
          },
          "paper_bgcolor": "white",
          "plot_bgcolor": "white",
          "polar": {
           "angularaxis": {
            "gridcolor": "#EBF0F8",
            "linecolor": "#EBF0F8",
            "ticks": ""
           },
           "bgcolor": "white",
           "radialaxis": {
            "gridcolor": "#EBF0F8",
            "linecolor": "#EBF0F8",
            "ticks": ""
           }
          },
          "scene": {
           "xaxis": {
            "backgroundcolor": "white",
            "gridcolor": "#DFE8F3",
            "gridwidth": 2,
            "linecolor": "#EBF0F8",
            "showbackground": true,
            "ticks": "",
            "zerolinecolor": "#EBF0F8"
           },
           "yaxis": {
            "backgroundcolor": "white",
            "gridcolor": "#DFE8F3",
            "gridwidth": 2,
            "linecolor": "#EBF0F8",
            "showbackground": true,
            "ticks": "",
            "zerolinecolor": "#EBF0F8"
           },
           "zaxis": {
            "backgroundcolor": "white",
            "gridcolor": "#DFE8F3",
            "gridwidth": 2,
            "linecolor": "#EBF0F8",
            "showbackground": true,
            "ticks": "",
            "zerolinecolor": "#EBF0F8"
           }
          },
          "shapedefaults": {
           "line": {
            "color": "#2a3f5f"
           }
          },
          "ternary": {
           "aaxis": {
            "gridcolor": "#DFE8F3",
            "linecolor": "#A2B1C6",
            "ticks": ""
           },
           "baxis": {
            "gridcolor": "#DFE8F3",
            "linecolor": "#A2B1C6",
            "ticks": ""
           },
           "bgcolor": "white",
           "caxis": {
            "gridcolor": "#DFE8F3",
            "linecolor": "#A2B1C6",
            "ticks": ""
           }
          },
          "title": {
           "x": 0.05
          },
          "xaxis": {
           "automargin": true,
           "gridcolor": "#EBF0F8",
           "linecolor": "#EBF0F8",
           "ticks": "",
           "title": {
            "standoff": 15
           },
           "zerolinecolor": "#EBF0F8",
           "zerolinewidth": 2
          },
          "yaxis": {
           "automargin": true,
           "gridcolor": "#EBF0F8",
           "linecolor": "#EBF0F8",
           "ticks": "",
           "title": {
            "standoff": 15
           },
           "zerolinecolor": "#EBF0F8",
           "zerolinewidth": 2
          }
         }
        },
        "xaxis": {
         "dtick": 1,
         "tick0": 0,
         "tickmode": "linear",
         "title": {
          "text": "Time"
         }
        },
        "yaxis": {
         "tickformat": ",.0f",
         "tickprefix": "$",
         "title": {
          "text": "European Call Value"
         }
        }
       }
      }
     },
     "metadata": {},
     "output_type": "display_data"
    }
   ],
   "source": [
    "tree = option_tree\n",
    "\n",
    "# Prep data for plotting\n",
    "spliced = []\n",
    "for a, b in zip(tree[1:], tree[:-1]):\n",
    "    x = []\n",
    "    for i in range(len(a)):\n",
    "        x.append(a[i])\n",
    "        try:\n",
    "            x.append(b[i])\n",
    "        except:\n",
    "            pass\n",
    "    spliced.append(x)\n",
    "spliced\n",
    "\n",
    "# Make figure\n",
    "fig = go.Figure()\n",
    "string = \"$%{y:,.2f}<extra></extra>\"\n",
    "for i in range(len(tree) - 1):\n",
    "    x = [1, 0, 1]\n",
    "    for j in range(i):\n",
    "        x.append(0)\n",
    "        x.append(1)\n",
    "    x = np.array(x) + i\n",
    "    y = spliced[i]\n",
    "    trace = go.Scatter(\n",
    "        x=x,\n",
    "        y=y,\n",
    "        mode=\"lines+markers\",\n",
    "        hovertemplate=string,\n",
    "        marker=dict(size=12, color='green'),\n",
    "        line=dict(color='green'),\n",
    "        showlegend=False\n",
    "    )\n",
    "    fig.add_trace(trace)\n",
    "\n",
    "fig.update_layout(\n",
    "    xaxis=dict(\n",
    "        tickmode=\"linear\", \n",
    "        tick0=0, \n",
    "        dtick=1, \n",
    "        title=\"Time\"\n",
    "    ),\n",
    "    yaxis=dict(\n",
    "        tickprefix=\"$\", \n",
    "        tickformat=\",.0f\", \n",
    "        title=kind.title() + \" Value\", \n",
    "        autorange=\"reversed\" if kind_split[1]==\"put\" else None\n",
    "    ),\n",
    "    template=\"plotly_white\"\n",
    ")\n",
    "\n",
    "fig.show()"
   ]
  },
  {
   "cell_type": "code",
   "execution_count": null,
   "metadata": {},
   "outputs": [],
   "source": []
  }
 ],
 "metadata": {
  "colab": {
   "include_colab_link": true,
   "name": "calibrated binomial trees.ipynb",
   "provenance": []
  },
  "kernelspec": {
   "display_name": "Python 3",
   "language": "python",
   "name": "python3"
  },
  "language_info": {
   "codemirror_mode": {
    "name": "ipython",
    "version": 3
   },
   "file_extension": ".py",
   "mimetype": "text/x-python",
   "name": "python",
   "nbconvert_exporter": "python",
   "pygments_lexer": "ipython3",
   "version": "3.10.6"
  }
 },
 "nbformat": 4,
 "nbformat_minor": 0
}
