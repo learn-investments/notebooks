{
  "cells": [
    {
      "cell_type": "markdown",
      "metadata": {
        "id": "view-in-github",
        "colab_type": "text"
      },
      "source": [
        "<a href=\"https://colab.research.google.com/github/bbcx-investments/notebooks/blob/main/options/calibrated_binomial_trees.ipynb\" target=\"_parent\"><img src=\"https://colab.research.google.com/assets/colab-badge.svg\" alt=\"Open In Colab\"/></a>"
      ]
    },
    {
      "cell_type": "code",
      "execution_count": null,
      "outputs": [],
      "source": [
        "import numpy as np\n",
        "import pandas as pd\n",
        "\n",
        "def stockTree(S, sigma, T, n):\n",
        "    dt = T / n\n",
        "    u = np.exp(sigma * np.sqrt(dt))\n",
        "    return [[S * u ** (t - 2 * i) for i in range(t + 1)] for t in range(n + 1)]\n",
        "\n",
        "\n",
        "def params(r, q, sigma, T, n):\n",
        "    dt = T / n\n",
        "    u = np.exp(sigma * np.sqrt(dt))\n",
        "    d = 1 / u\n",
        "    p = (np.exp((r - q) * dt) - d) / (u - d)\n",
        "    disc = np.exp(-r * dt)\n",
        "    return u, d, p, disc\n",
        "\n",
        "\n",
        "def europeanTree(S, K, r, q, sigma, T, n, kind):\n",
        "    def f(S):\n",
        "        if kind == \"call\":\n",
        "            return np.maximum(np.array(S) - K, 0)\n",
        "        else:\n",
        "            return np.maximum(K - np.array(S), 0)\n",
        "\n",
        "    u, d, p, disc = params(r, q, sigma, T, n)\n",
        "    ST = [S * u ** (n - 2 * i) for i in range(n + 1)]\n",
        "    x = f(ST)\n",
        "    lst = [x]\n",
        "    while len(x) > 1:\n",
        "        x = disc * (p * x[:-1] + (1 - p) * x[1:])\n",
        "        lst.insert(0, x)\n",
        "    return [list(x) for x in lst], p\n",
        "\n",
        "\n",
        "def americanTree(S, K, r, q, sigma, T, n, kind):\n",
        "    def f(S):\n",
        "        if kind == \"call\":\n",
        "            return np.maximum(np.array(S) - K, 0)\n",
        "        else:\n",
        "            return np.maximum(K - np.array(S), 0)\n",
        "\n",
        "    u, d, p, disc = params(r, q, sigma, T, n)\n",
        "    ST = [S * u ** (n - 2 * i) for i in range(n + 1)]\n",
        "    x = f(ST)\n",
        "    lst = [x]\n",
        "    while len(x) > 1:\n",
        "        x0 = disc * (p * x[:-1] + (1 - p) * x[1:])\n",
        "        t = len(x0) - 1\n",
        "        St = [S * u ** (t - 2 * i) for i in range(t + 1)]\n",
        "        x = np.maximum(x0, f(St))\n",
        "        lst.insert(0, x)\n",
        "    return [list(x) for x in lst], p"
      ],
      "metadata": {
        "pycharm": {
          "name": "#%%\n"
        },
        "id": "MP8JukeHauFf"
      }
    },
    {
      "cell_type": "code",
      "execution_count": null,
      "outputs": [
        {
          "data": {
            "text/plain": "   period 0   period 1   period 2   period 3    period 4    period 5\n0      50.0  59.794187  71.506895  85.513933  102.264721  122.296717\n1       NaN  41.810085  50.000000  59.794187   71.506895   85.513933\n2       NaN        NaN  34.961663  41.810085   50.000000   59.794187\n3       NaN        NaN        NaN  29.235002   34.961663   41.810085\n4       NaN        NaN        NaN        NaN   24.446358   29.235002\n5       NaN        NaN        NaN        NaN         NaN   20.442086",
            "text/html": "<div>\n<style scoped>\n    .dataframe tbody tr th:only-of-type {\n        vertical-align: middle;\n    }\n\n    .dataframe tbody tr th {\n        vertical-align: top;\n    }\n\n    .dataframe thead th {\n        text-align: right;\n    }\n</style>\n<table border=\"1\" class=\"dataframe\">\n  <thead>\n    <tr style=\"text-align: right;\">\n      <th></th>\n      <th>period 0</th>\n      <th>period 1</th>\n      <th>period 2</th>\n      <th>period 3</th>\n      <th>period 4</th>\n      <th>period 5</th>\n    </tr>\n  </thead>\n  <tbody>\n    <tr>\n      <th>0</th>\n      <td>50.0</td>\n      <td>59.794187</td>\n      <td>71.506895</td>\n      <td>85.513933</td>\n      <td>102.264721</td>\n      <td>122.296717</td>\n    </tr>\n    <tr>\n      <th>1</th>\n      <td>NaN</td>\n      <td>41.810085</td>\n      <td>50.000000</td>\n      <td>59.794187</td>\n      <td>71.506895</td>\n      <td>85.513933</td>\n    </tr>\n    <tr>\n      <th>2</th>\n      <td>NaN</td>\n      <td>NaN</td>\n      <td>34.961663</td>\n      <td>41.810085</td>\n      <td>50.000000</td>\n      <td>59.794187</td>\n    </tr>\n    <tr>\n      <th>3</th>\n      <td>NaN</td>\n      <td>NaN</td>\n      <td>NaN</td>\n      <td>29.235002</td>\n      <td>34.961663</td>\n      <td>41.810085</td>\n    </tr>\n    <tr>\n      <th>4</th>\n      <td>NaN</td>\n      <td>NaN</td>\n      <td>NaN</td>\n      <td>NaN</td>\n      <td>24.446358</td>\n      <td>29.235002</td>\n    </tr>\n    <tr>\n      <th>5</th>\n      <td>NaN</td>\n      <td>NaN</td>\n      <td>NaN</td>\n      <td>NaN</td>\n      <td>NaN</td>\n      <td>20.442086</td>\n    </tr>\n  </tbody>\n</table>\n</div>"
          },
          "execution_count": 4,
          "metadata": {},
          "output_type": "execute_result"
        }
      ],
      "source": [
        "# example parameters\n",
        "\n",
        "S = 50\n",
        "K = 50\n",
        "T = 1\n",
        "sigma = 0.4\n",
        "r = 0.02\n",
        "q = 0.03\n",
        "n = 5\n",
        "kind = 'put'\n",
        "\n",
        "# stock tree\n",
        "\n",
        "df = pd.DataFrame(stockTree(S, sigma, T, n)).transpose()\n",
        "df.columns = ['period ' + str(i) for i in range(df.shape[0])]\n",
        "df"
      ],
      "metadata": {
        "pycharm": {
          "name": "#%%\n"
        },
        "id": "CZTfYmoNauFi",
        "outputId": "a812b520-ad5e-4aeb-d43c-681c8780ebb1"
      }
    },
    {
      "cell_type": "code",
      "execution_count": null,
      "outputs": [
        {
          "data": {
            "text/plain": "   period 0   period 1   period 2   period 3   period 4   period 5\n0  8.359248   4.287081   1.347500   0.000000   0.000000   0.000000\n1       NaN  11.749801   6.721895   2.459116   0.000000   0.000000\n2       NaN        NaN  15.946527  10.256377   4.487756   0.000000\n3       NaN        NaN        NaN  20.715317  15.047878   8.189915\n4       NaN        NaN        NaN        NaN  25.500280  20.764998\n5       NaN        NaN        NaN        NaN        NaN  29.557914",
            "text/html": "<div>\n<style scoped>\n    .dataframe tbody tr th:only-of-type {\n        vertical-align: middle;\n    }\n\n    .dataframe tbody tr th {\n        vertical-align: top;\n    }\n\n    .dataframe thead th {\n        text-align: right;\n    }\n</style>\n<table border=\"1\" class=\"dataframe\">\n  <thead>\n    <tr style=\"text-align: right;\">\n      <th></th>\n      <th>period 0</th>\n      <th>period 1</th>\n      <th>period 2</th>\n      <th>period 3</th>\n      <th>period 4</th>\n      <th>period 5</th>\n    </tr>\n  </thead>\n  <tbody>\n    <tr>\n      <th>0</th>\n      <td>8.359248</td>\n      <td>4.287081</td>\n      <td>1.347500</td>\n      <td>0.000000</td>\n      <td>0.000000</td>\n      <td>0.000000</td>\n    </tr>\n    <tr>\n      <th>1</th>\n      <td>NaN</td>\n      <td>11.749801</td>\n      <td>6.721895</td>\n      <td>2.459116</td>\n      <td>0.000000</td>\n      <td>0.000000</td>\n    </tr>\n    <tr>\n      <th>2</th>\n      <td>NaN</td>\n      <td>NaN</td>\n      <td>15.946527</td>\n      <td>10.256377</td>\n      <td>4.487756</td>\n      <td>0.000000</td>\n    </tr>\n    <tr>\n      <th>3</th>\n      <td>NaN</td>\n      <td>NaN</td>\n      <td>NaN</td>\n      <td>20.715317</td>\n      <td>15.047878</td>\n      <td>8.189915</td>\n    </tr>\n    <tr>\n      <th>4</th>\n      <td>NaN</td>\n      <td>NaN</td>\n      <td>NaN</td>\n      <td>NaN</td>\n      <td>25.500280</td>\n      <td>20.764998</td>\n    </tr>\n    <tr>\n      <th>5</th>\n      <td>NaN</td>\n      <td>NaN</td>\n      <td>NaN</td>\n      <td>NaN</td>\n      <td>NaN</td>\n      <td>29.557914</td>\n    </tr>\n  </tbody>\n</table>\n</div>"
          },
          "execution_count": 5,
          "metadata": {},
          "output_type": "execute_result"
        }
      ],
      "source": [
        "# European put tree\n",
        "\n",
        "df = pd.DataFrame(europeanTree(S, K, r, q, sigma, T, n, kind)[0]).transpose()\n",
        "df.columns = ['period ' + str(i) for i in range(df.shape[0])]\n",
        "df"
      ],
      "metadata": {
        "pycharm": {
          "name": "#%%\n"
        },
        "id": "SsaTZfBOauFk",
        "outputId": "e752950f-0e0e-4934-82ca-c1c260f5b2cb"
      }
    },
    {
      "cell_type": "code",
      "execution_count": null,
      "outputs": [
        {
          "name": "stdout",
          "output_type": "stream",
          "text": [
            "European Put value at date 0: 8.359\n"
          ]
        }
      ],
      "source": [
        "print('European Put value at date 0:', df.iloc[0,0].round(3))"
      ],
      "metadata": {
        "pycharm": {
          "name": "#%%\n"
        },
        "id": "1z1JEWccauFk",
        "outputId": "10d60a3a-73ba-4fe7-e1f3-f0689f0e6ce2"
      }
    },
    {
      "cell_type": "code",
      "execution_count": null,
      "outputs": [
        {
          "data": {
            "text/plain": "   period 0   period 1   period 2   period 3   period 4   period 5\n0  8.367422   4.287081   1.347500   0.000000   0.000000   0.000000\n1       NaN  11.764718   6.721895   2.459116   0.000000   0.000000\n2       NaN        NaN  15.973750  10.256377   4.487756   0.000000\n3       NaN        NaN        NaN  20.764998  15.047878   8.189915\n4       NaN        NaN        NaN        NaN  25.553642  20.764998\n5       NaN        NaN        NaN        NaN        NaN  29.557914",
            "text/html": "<div>\n<style scoped>\n    .dataframe tbody tr th:only-of-type {\n        vertical-align: middle;\n    }\n\n    .dataframe tbody tr th {\n        vertical-align: top;\n    }\n\n    .dataframe thead th {\n        text-align: right;\n    }\n</style>\n<table border=\"1\" class=\"dataframe\">\n  <thead>\n    <tr style=\"text-align: right;\">\n      <th></th>\n      <th>period 0</th>\n      <th>period 1</th>\n      <th>period 2</th>\n      <th>period 3</th>\n      <th>period 4</th>\n      <th>period 5</th>\n    </tr>\n  </thead>\n  <tbody>\n    <tr>\n      <th>0</th>\n      <td>8.367422</td>\n      <td>4.287081</td>\n      <td>1.347500</td>\n      <td>0.000000</td>\n      <td>0.000000</td>\n      <td>0.000000</td>\n    </tr>\n    <tr>\n      <th>1</th>\n      <td>NaN</td>\n      <td>11.764718</td>\n      <td>6.721895</td>\n      <td>2.459116</td>\n      <td>0.000000</td>\n      <td>0.000000</td>\n    </tr>\n    <tr>\n      <th>2</th>\n      <td>NaN</td>\n      <td>NaN</td>\n      <td>15.973750</td>\n      <td>10.256377</td>\n      <td>4.487756</td>\n      <td>0.000000</td>\n    </tr>\n    <tr>\n      <th>3</th>\n      <td>NaN</td>\n      <td>NaN</td>\n      <td>NaN</td>\n      <td>20.764998</td>\n      <td>15.047878</td>\n      <td>8.189915</td>\n    </tr>\n    <tr>\n      <th>4</th>\n      <td>NaN</td>\n      <td>NaN</td>\n      <td>NaN</td>\n      <td>NaN</td>\n      <td>25.553642</td>\n      <td>20.764998</td>\n    </tr>\n    <tr>\n      <th>5</th>\n      <td>NaN</td>\n      <td>NaN</td>\n      <td>NaN</td>\n      <td>NaN</td>\n      <td>NaN</td>\n      <td>29.557914</td>\n    </tr>\n  </tbody>\n</table>\n</div>"
          },
          "execution_count": 8,
          "metadata": {},
          "output_type": "execute_result"
        }
      ],
      "source": [
        "# American put tree\n",
        "\n",
        "df = pd.DataFrame(americanTree(S, K, r, q, sigma, T, n, kind)[0]).transpose()\n",
        "df.columns = ['period ' + str(i) for i in range(df.shape[0])]\n",
        "df"
      ],
      "metadata": {
        "pycharm": {
          "name": "#%%\n"
        },
        "id": "bG5Z8KuuauFl",
        "outputId": "c557e245-4ae9-41c3-aa69-c4654c492be2"
      }
    },
    {
      "cell_type": "code",
      "execution_count": null,
      "outputs": [
        {
          "name": "stdout",
          "output_type": "stream",
          "text": [
            "American Put value at date 0: 8.367\n"
          ]
        }
      ],
      "source": [
        "print('American Put value at date 0:', df.iloc[0,0].round(3))"
      ],
      "metadata": {
        "pycharm": {
          "name": "#%%\n"
        },
        "id": "BDurNWprauFl",
        "outputId": "f81b834b-e4fc-493a-eb9b-641e297f37e9"
      }
    },
    {
      "cell_type": "code",
      "execution_count": null,
      "outputs": [],
      "source": [
        ""
      ],
      "metadata": {
        "pycharm": {
          "name": "#%%\n"
        },
        "id": "L-K-l6SmauFm"
      }
    }
  ],
  "metadata": {
    "kernelspec": {
      "display_name": "Python 3",
      "language": "python",
      "name": "python3"
    },
    "language_info": {
      "codemirror_mode": {
        "name": "ipython",
        "version": 2
      },
      "file_extension": ".py",
      "mimetype": "text/x-python",
      "name": "python",
      "nbconvert_exporter": "python",
      "pygments_lexer": "ipython2",
      "version": "2.7.6"
    },
    "colab": {
      "name": "calibrated_binomial_trees.ipynb",
      "provenance": [],
      "include_colab_link": true
    }
  },
  "nbformat": 4,
  "nbformat_minor": 0
}