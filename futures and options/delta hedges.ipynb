{
  "cells": [
    {
      "cell_type": "markdown",
      "metadata": {
        "id": "view-in-github",
        "colab_type": "text"
      },
      "source": [
        "<a href=\"https://colab.research.google.com/github/bbcx-investments/notebooks/blob/main/options/delta_hedge.ipynb\" target=\"_parent\"><img src=\"https://colab.research.google.com/assets/colab-badge.svg\" alt=\"Open In Colab\"/></a>"
      ]
    },
    {
      "cell_type": "code",
      "execution_count": null,
      "outputs": [],
      "source": [
        "import numpy as np\n",
        "from scipy.stats import norm\n",
        "\n",
        "# example parameters\n",
        "\n",
        "S = 50\n",
        "K = 50\n",
        "T = 1\n",
        "sigma = 0.4\n",
        "r = 0.02\n",
        "q = 0.03\n",
        "\n",
        "# preliminary calculations\n",
        "\n",
        "d1 = (np.log(S/K) + (r-q+0.5*sigma**2)*T) / (sigma*np.sqrt(T))\n",
        "d2 = d1 - sigma*np.sqrt(T)\n",
        "qT = np.exp(-q*T)\n",
        "rT = np.exp(-r*T)"
      ],
      "metadata": {
        "pycharm": {
          "name": "#%%\n"
        },
        "id": "VChvfDm3MxkI"
      }
    },
    {
      "cell_type": "code",
      "execution_count": null,
      "outputs": [
        {
          "name": "stdout",
          "output_type": "stream",
          "text": [
            "The delta for the call is 0.57 when the underlying price is 50\n",
            "The delta-hedge portfolio holds 0.57 shares of the underlying purchased with -20.98 borrowed money.\n"
          ]
        }
      ],
      "source": [
        "# call\n",
        "N1 = norm.cdf(d1)\n",
        "N2 = norm.cdf(d2)\n",
        "call_premium = qT * S * N1 - rT * S * N2\n",
        "call_delta = N1\n",
        "intercept =  - ((call_delta * S) - call_premium)\n",
        "print('The delta for the call is', call_delta.round(2), 'when the underlying price is', S)\n",
        "print('The delta-hedge portfolio holds', call_delta.round(2),\n",
        "      'shares of the underlying purchased with', intercept.round(2), 'borrowed money.')"
      ],
      "metadata": {
        "pycharm": {
          "name": "#%%\n"
        },
        "id": "MUh7GCjtMxkJ",
        "outputId": "95c77909-b4f5-4448-bbac-b4b5c679f359"
      }
    },
    {
      "cell_type": "code",
      "execution_count": null,
      "outputs": [
        {
          "name": "stdout",
          "output_type": "stream",
          "text": [
            "The delta for the put is -0.43 when the underlying price is 50\n",
            "The delta-hedge portfolio shorts 0.43 shares of the underlying and saves 29.5 cash.\n"
          ]
        }
      ],
      "source": [
        "# put\n",
        "N1 = norm.cdf(-d1)\n",
        "N2 = norm.cdf(-d2)\n",
        "put_premium = rT * K * N2 - qT * S * N1\n",
        "put_delta = norm.cdf(d1) - 1\n",
        "intercept =  - ((put_delta * S) - put_premium)\n",
        "print('The delta for the put is', put_delta.round(2), 'when the underlying price is', S)\n",
        "print('The delta-hedge portfolio shorts', abs(put_delta.round(2)),\n",
        "      'shares of the underlying and saves', intercept.round(2), 'cash.')"
      ],
      "metadata": {
        "pycharm": {
          "name": "#%%\n"
        },
        "id": "YeIjOecAMxkK",
        "outputId": "1271d3ec-8182-4428-a1b6-a8f4a1a8616a"
      }
    },
    {
      "cell_type": "code",
      "execution_count": null,
      "outputs": [],
      "source": [
        ""
      ],
      "metadata": {
        "pycharm": {
          "name": "#%%\n"
        },
        "id": "Fu0VX4MzMxkL"
      }
    }
  ],
  "metadata": {
    "kernelspec": {
      "display_name": "Python 3",
      "language": "python",
      "name": "python3"
    },
    "language_info": {
      "codemirror_mode": {
        "name": "ipython",
        "version": 2
      },
      "file_extension": ".py",
      "mimetype": "text/x-python",
      "name": "python",
      "nbconvert_exporter": "python",
      "pygments_lexer": "ipython2",
      "version": "2.7.6"
    },
    "colab": {
      "name": "delta_hedge.ipynb",
      "provenance": [],
      "include_colab_link": true
    }
  },
  "nbformat": 4,
  "nbformat_minor": 0
}