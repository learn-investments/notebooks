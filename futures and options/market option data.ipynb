{
  "cells": [
    {
      "cell_type": "markdown",
      "metadata": {
        "id": "view-in-github",
        "colab_type": "text"
      },
      "source": [
        "<a href=\"https://colab.research.google.com/github/bbcx-investments/notebooks/blob/main/options/market_data.ipynb\" target=\"_parent\"><img src=\"https://colab.research.google.com/assets/colab-badge.svg\" alt=\"Open In Colab\"/></a>"
      ]
    },
    {
      "cell_type": "code",
      "execution_count": null,
      "outputs": [
        {
          "name": "stdout",
          "output_type": "stream",
          "text": [
            "The current price of the underlying is 15.010000228881836\n"
          ]
        }
      ],
      "source": [
        "import yfinance as yf\n",
        "\n",
        "ticker = 'aple'             # example ticker\n",
        "\n",
        "# the current price of the underlying\n",
        "tick = yf.Ticker(ticker.upper())\n",
        "close = tick.history().iloc[-1].Close\n",
        "print('The current price of the underlying is', close)"
      ],
      "metadata": {
        "pycharm": {
          "name": "#%%\n"
        },
        "id": "B_PQOXO_MNK2",
        "outputId": "febfd697-158d-466b-8d41-24bda204b3b3"
      }
    },
    {
      "cell_type": "code",
      "execution_count": null,
      "outputs": [
        {
          "name": "stdout",
          "output_type": "stream",
          "text": [
            "The maturities of the underlying are ['2022-07-15', '2022-08-19', '2022-10-21', '2022-12-16', '2023-01-20']\n"
          ]
        }
      ],
      "source": [
        "maturities = list(tick.options)\n",
        "print('The maturities of the underlying are', maturities)"
      ],
      "metadata": {
        "pycharm": {
          "name": "#%%\n"
        },
        "id": "gnZmbNeoMNK4",
        "outputId": "138bc5e0-da68-4751-cb40-438c563b3c8b"
      }
    },
    {
      "cell_type": "code",
      "execution_count": null,
      "outputs": [
        {
          "data": {
            "text/plain": "        contractSymbol             lastTradeDate  strike  lastPrice    bid  \\\n0  APLE220715C00002500 2022-04-29 13:58:11+00:00     2.5      15.86  13.40   \n1  APLE220715C00012500 2022-03-29 14:21:42+00:00    12.5       6.08   5.50   \n2  APLE220715C00015000 2022-06-27 16:22:23+00:00    15.0       0.55   0.35   \n3  APLE220715C00017500 2022-06-27 18:45:46+00:00    17.5       0.05   0.05   \n4  APLE220715C00020000 2022-06-23 13:30:03+00:00    20.0       0.08   0.00   \n5  APLE220715C00022500 2021-11-29 14:33:49+00:00    22.5       0.26   0.00   \n\n    ask  change  percentChange  volume  openInterest  impliedVolatility  \\\n0  14.8    0.00       0.000000      25             0          12.039065   \n1   6.0    0.00       0.000000       1             0           3.608399   \n2   0.6    0.12      27.906979       1           300           0.435553   \n3   0.1   -0.05     -50.000000      30           490           0.537114   \n4   0.0    0.00       0.000000       1           298           0.250007   \n5   0.3    0.00       0.000000       3             4           1.191410   \n\n   inTheMoney contractSize currency  \n0        True      REGULAR      USD  \n1        True      REGULAR      USD  \n2        True      REGULAR      USD  \n3       False      REGULAR      USD  \n4       False      REGULAR      USD  \n5       False      REGULAR      USD  ",
            "text/html": "<div>\n<style scoped>\n    .dataframe tbody tr th:only-of-type {\n        vertical-align: middle;\n    }\n\n    .dataframe tbody tr th {\n        vertical-align: top;\n    }\n\n    .dataframe thead th {\n        text-align: right;\n    }\n</style>\n<table border=\"1\" class=\"dataframe\">\n  <thead>\n    <tr style=\"text-align: right;\">\n      <th></th>\n      <th>contractSymbol</th>\n      <th>lastTradeDate</th>\n      <th>strike</th>\n      <th>lastPrice</th>\n      <th>bid</th>\n      <th>ask</th>\n      <th>change</th>\n      <th>percentChange</th>\n      <th>volume</th>\n      <th>openInterest</th>\n      <th>impliedVolatility</th>\n      <th>inTheMoney</th>\n      <th>contractSize</th>\n      <th>currency</th>\n    </tr>\n  </thead>\n  <tbody>\n    <tr>\n      <th>0</th>\n      <td>APLE220715C00002500</td>\n      <td>2022-04-29 13:58:11+00:00</td>\n      <td>2.5</td>\n      <td>15.86</td>\n      <td>13.40</td>\n      <td>14.8</td>\n      <td>0.00</td>\n      <td>0.000000</td>\n      <td>25</td>\n      <td>0</td>\n      <td>12.039065</td>\n      <td>True</td>\n      <td>REGULAR</td>\n      <td>USD</td>\n    </tr>\n    <tr>\n      <th>1</th>\n      <td>APLE220715C00012500</td>\n      <td>2022-03-29 14:21:42+00:00</td>\n      <td>12.5</td>\n      <td>6.08</td>\n      <td>5.50</td>\n      <td>6.0</td>\n      <td>0.00</td>\n      <td>0.000000</td>\n      <td>1</td>\n      <td>0</td>\n      <td>3.608399</td>\n      <td>True</td>\n      <td>REGULAR</td>\n      <td>USD</td>\n    </tr>\n    <tr>\n      <th>2</th>\n      <td>APLE220715C00015000</td>\n      <td>2022-06-27 16:22:23+00:00</td>\n      <td>15.0</td>\n      <td>0.55</td>\n      <td>0.35</td>\n      <td>0.6</td>\n      <td>0.12</td>\n      <td>27.906979</td>\n      <td>1</td>\n      <td>300</td>\n      <td>0.435553</td>\n      <td>True</td>\n      <td>REGULAR</td>\n      <td>USD</td>\n    </tr>\n    <tr>\n      <th>3</th>\n      <td>APLE220715C00017500</td>\n      <td>2022-06-27 18:45:46+00:00</td>\n      <td>17.5</td>\n      <td>0.05</td>\n      <td>0.05</td>\n      <td>0.1</td>\n      <td>-0.05</td>\n      <td>-50.000000</td>\n      <td>30</td>\n      <td>490</td>\n      <td>0.537114</td>\n      <td>False</td>\n      <td>REGULAR</td>\n      <td>USD</td>\n    </tr>\n    <tr>\n      <th>4</th>\n      <td>APLE220715C00020000</td>\n      <td>2022-06-23 13:30:03+00:00</td>\n      <td>20.0</td>\n      <td>0.08</td>\n      <td>0.00</td>\n      <td>0.0</td>\n      <td>0.00</td>\n      <td>0.000000</td>\n      <td>1</td>\n      <td>298</td>\n      <td>0.250007</td>\n      <td>False</td>\n      <td>REGULAR</td>\n      <td>USD</td>\n    </tr>\n    <tr>\n      <th>5</th>\n      <td>APLE220715C00022500</td>\n      <td>2021-11-29 14:33:49+00:00</td>\n      <td>22.5</td>\n      <td>0.26</td>\n      <td>0.00</td>\n      <td>0.3</td>\n      <td>0.00</td>\n      <td>0.000000</td>\n      <td>3</td>\n      <td>4</td>\n      <td>1.191410</td>\n      <td>False</td>\n      <td>REGULAR</td>\n      <td>USD</td>\n    </tr>\n  </tbody>\n</table>\n</div>"
          },
          "execution_count": 5,
          "metadata": {},
          "output_type": "execute_result"
        }
      ],
      "source": [
        "# example maturity = the closest maturity\n",
        "maturity = maturities[0]\n",
        "# Call data\n",
        "df = tick.option_chain(maturity).calls\n",
        "df"
      ],
      "metadata": {
        "pycharm": {
          "name": "#%%\n"
        },
        "id": "ZdvTT1AFMNK5",
        "outputId": "0009e068-609c-42b6-9c88-bb8b851955c3"
      }
    },
    {
      "cell_type": "code",
      "execution_count": null,
      "outputs": [
        {
          "data": {
            "text/plain": "        contractSymbol             lastTradeDate  strike  lastPrice    bid  \\\n0  APLE220715P00010000 2022-05-20 19:53:33+00:00    10.0       0.10   0.00   \n1  APLE220715P00012500 2022-06-27 17:15:44+00:00    12.5       0.05   0.00   \n2  APLE220715P00015000 2022-06-24 19:40:29+00:00    15.0       0.65   0.40   \n3  APLE220715P00017500 2022-06-10 14:09:04+00:00    17.5       1.40   2.35   \n4  APLE220715P00020000 2022-04-08 15:08:12+00:00    20.0       3.75   3.10   \n5  APLE220715P00022500 2022-04-08 15:08:12+00:00    22.5       6.12   5.30   \n6  APLE220715P00030000 2022-01-05 19:24:29+00:00    30.0      13.80  13.00   \n\n    ask  change  percentChange  volume  openInterest  impliedVolatility  \\\n0   0.3    0.00            0.0     6.0             6           1.320316   \n1   0.1   -0.05          -50.0     2.0            52           0.539067   \n2   0.6    0.00            0.0     5.0           306           0.443365   \n3   2.8    0.00            0.0    14.0           178           0.515630   \n4   3.5    0.00            0.0    10.0             0           0.000010   \n5   6.1    0.00            0.0    10.0            10           0.000010   \n6  14.2    0.00            0.0     NaN             5           0.000010   \n\n   inTheMoney contractSize currency  \n0       False      REGULAR      USD  \n1       False      REGULAR      USD  \n2       False      REGULAR      USD  \n3        True      REGULAR      USD  \n4        True      REGULAR      USD  \n5        True      REGULAR      USD  \n6        True      REGULAR      USD  ",
            "text/html": "<div>\n<style scoped>\n    .dataframe tbody tr th:only-of-type {\n        vertical-align: middle;\n    }\n\n    .dataframe tbody tr th {\n        vertical-align: top;\n    }\n\n    .dataframe thead th {\n        text-align: right;\n    }\n</style>\n<table border=\"1\" class=\"dataframe\">\n  <thead>\n    <tr style=\"text-align: right;\">\n      <th></th>\n      <th>contractSymbol</th>\n      <th>lastTradeDate</th>\n      <th>strike</th>\n      <th>lastPrice</th>\n      <th>bid</th>\n      <th>ask</th>\n      <th>change</th>\n      <th>percentChange</th>\n      <th>volume</th>\n      <th>openInterest</th>\n      <th>impliedVolatility</th>\n      <th>inTheMoney</th>\n      <th>contractSize</th>\n      <th>currency</th>\n    </tr>\n  </thead>\n  <tbody>\n    <tr>\n      <th>0</th>\n      <td>APLE220715P00010000</td>\n      <td>2022-05-20 19:53:33+00:00</td>\n      <td>10.0</td>\n      <td>0.10</td>\n      <td>0.00</td>\n      <td>0.3</td>\n      <td>0.00</td>\n      <td>0.0</td>\n      <td>6.0</td>\n      <td>6</td>\n      <td>1.320316</td>\n      <td>False</td>\n      <td>REGULAR</td>\n      <td>USD</td>\n    </tr>\n    <tr>\n      <th>1</th>\n      <td>APLE220715P00012500</td>\n      <td>2022-06-27 17:15:44+00:00</td>\n      <td>12.5</td>\n      <td>0.05</td>\n      <td>0.00</td>\n      <td>0.1</td>\n      <td>-0.05</td>\n      <td>-50.0</td>\n      <td>2.0</td>\n      <td>52</td>\n      <td>0.539067</td>\n      <td>False</td>\n      <td>REGULAR</td>\n      <td>USD</td>\n    </tr>\n    <tr>\n      <th>2</th>\n      <td>APLE220715P00015000</td>\n      <td>2022-06-24 19:40:29+00:00</td>\n      <td>15.0</td>\n      <td>0.65</td>\n      <td>0.40</td>\n      <td>0.6</td>\n      <td>0.00</td>\n      <td>0.0</td>\n      <td>5.0</td>\n      <td>306</td>\n      <td>0.443365</td>\n      <td>False</td>\n      <td>REGULAR</td>\n      <td>USD</td>\n    </tr>\n    <tr>\n      <th>3</th>\n      <td>APLE220715P00017500</td>\n      <td>2022-06-10 14:09:04+00:00</td>\n      <td>17.5</td>\n      <td>1.40</td>\n      <td>2.35</td>\n      <td>2.8</td>\n      <td>0.00</td>\n      <td>0.0</td>\n      <td>14.0</td>\n      <td>178</td>\n      <td>0.515630</td>\n      <td>True</td>\n      <td>REGULAR</td>\n      <td>USD</td>\n    </tr>\n    <tr>\n      <th>4</th>\n      <td>APLE220715P00020000</td>\n      <td>2022-04-08 15:08:12+00:00</td>\n      <td>20.0</td>\n      <td>3.75</td>\n      <td>3.10</td>\n      <td>3.5</td>\n      <td>0.00</td>\n      <td>0.0</td>\n      <td>10.0</td>\n      <td>0</td>\n      <td>0.000010</td>\n      <td>True</td>\n      <td>REGULAR</td>\n      <td>USD</td>\n    </tr>\n    <tr>\n      <th>5</th>\n      <td>APLE220715P00022500</td>\n      <td>2022-04-08 15:08:12+00:00</td>\n      <td>22.5</td>\n      <td>6.12</td>\n      <td>5.30</td>\n      <td>6.1</td>\n      <td>0.00</td>\n      <td>0.0</td>\n      <td>10.0</td>\n      <td>10</td>\n      <td>0.000010</td>\n      <td>True</td>\n      <td>REGULAR</td>\n      <td>USD</td>\n    </tr>\n    <tr>\n      <th>6</th>\n      <td>APLE220715P00030000</td>\n      <td>2022-01-05 19:24:29+00:00</td>\n      <td>30.0</td>\n      <td>13.80</td>\n      <td>13.00</td>\n      <td>14.2</td>\n      <td>0.00</td>\n      <td>0.0</td>\n      <td>NaN</td>\n      <td>5</td>\n      <td>0.000010</td>\n      <td>True</td>\n      <td>REGULAR</td>\n      <td>USD</td>\n    </tr>\n  </tbody>\n</table>\n</div>"
          },
          "execution_count": 6,
          "metadata": {},
          "output_type": "execute_result"
        }
      ],
      "source": [
        "# Put data\n",
        "df = tick.option_chain(maturity).puts\n",
        "df"
      ],
      "metadata": {
        "pycharm": {
          "name": "#%%\n"
        },
        "id": "C9YvoiE5MNK6",
        "outputId": "36df72e7-0035-423d-a516-e2877cdb5bfc"
      }
    },
    {
      "cell_type": "code",
      "execution_count": null,
      "outputs": [],
      "source": [
        ""
      ],
      "metadata": {
        "pycharm": {
          "name": "#%%\n"
        },
        "id": "j8syIX3vMNK6"
      }
    }
  ],
  "metadata": {
    "kernelspec": {
      "display_name": "Python 3",
      "language": "python",
      "name": "python3"
    },
    "language_info": {
      "codemirror_mode": {
        "name": "ipython",
        "version": 2
      },
      "file_extension": ".py",
      "mimetype": "text/x-python",
      "name": "python",
      "nbconvert_exporter": "python",
      "pygments_lexer": "ipython2",
      "version": "2.7.6"
    },
    "colab": {
      "name": "market_data.ipynb",
      "provenance": [],
      "include_colab_link": true
    }
  },
  "nbformat": 4,
  "nbformat_minor": 0
}