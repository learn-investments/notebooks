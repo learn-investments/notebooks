{
  "cells": [
    {
      "cell_type": "markdown",
      "metadata": {
        "id": "view-in-github",
        "colab_type": "text"
      },
      "source": [
        "<a href=\"https://colab.research.google.com/github/bbcx-investments/notebooks/blob/main/options/implied_volatilities.ipynb\" target=\"_parent\"><img src=\"https://colab.research.google.com/assets/colab-badge.svg\" alt=\"Open In Colab\"/></a>"
      ]
    },
    {
      "cell_type": "code",
      "execution_count": 19,
      "outputs": [],
      "source": [
        "import numpy as np\n",
        "from scipy.stats import norm\n",
        "from scipy.optimize import fsolve\n",
        "\n",
        "# example parameters\n",
        "S = 50\n",
        "K = 45\n",
        "T = 1\n",
        "v = 10\n",
        "r = 0.02\n",
        "q = 0.03\n"
      ],
      "metadata": {
        "pycharm": {
          "name": "#%%\n"
        },
        "id": "1v4z7VhjXOwD"
      }
    },
    {
      "cell_type": "markdown",
      "source": [
        "### Call"
      ],
      "metadata": {
        "collapsed": false,
        "pycharm": {
          "name": "#%% md\n"
        },
        "id": "ua0wFhweXOwG"
      }
    },
    {
      "cell_type": "code",
      "execution_count": 20,
      "outputs": [
        {
          "output_type": "stream",
          "name": "stdout",
          "text": [
            "The implied volitility for this call option is:  0.414026237311276\n"
          ]
        }
      ],
      "source": [
        "# return Black-Sholes value - option premium\n",
        "def callFunc(sigma, *args) :\n",
        "    s, K, T, r, q, v = args\n",
        "    d1 = ( np.log(s/K) + (r-q+0.5*sigma**2)*T ) / (sigma*np.sqrt(T))\n",
        "    d2 = d1 - sigma*np.sqrt(T)\n",
        "    return np.exp(-q*T)*s*norm.cdf(d1) - np.exp(-r*T)*K*norm.cdf(d2) - v\n",
        "\n",
        "# find sigma (the implied volatily) such that the Black-Scholes Value of the option is equal to the option premium\n",
        "inpt = (S, K, T, r, q, v)\n",
        "sigma_0 = 0.2               # initial value\n",
        "sol = fsolve(callFunc, sigma_0, args=inpt)\n",
        "print('The implied volitility for this call option is: ', float(sol))"
      ],
      "metadata": {
        "pycharm": {
          "name": "#%%\n"
        },
        "colab": {
          "base_uri": "https://localhost:8080/"
        },
        "id": "rdYM5xMwXOwH",
        "outputId": "f21b6475-db6b-495c-c09c-5eec4b29ccc7"
      }
    },
    {
      "cell_type": "markdown",
      "source": [
        "## Put"
      ],
      "metadata": {
        "collapsed": false,
        "pycharm": {
          "name": "#%% md\n"
        },
        "id": "Nhw5XUgUXOwJ"
      }
    },
    {
      "cell_type": "code",
      "execution_count": 21,
      "outputs": [
        {
          "output_type": "stream",
          "name": "stdout",
          "text": [
            "The implied volitility for this put option is:  0.6663175820402625\n"
          ]
        }
      ],
      "source": [
        "# return Black-Sholes value - option premium\n",
        "def putFunc(sigma, *args) :\n",
        "    s, K, T, r, q, v = args\n",
        "    d1 = ( np.log(s/K) + (r-q+0.5*sigma**2)*T ) / (sigma*np.sqrt(T))\n",
        "    d2 = d1 - sigma*np.sqrt(T)\n",
        "    return np.exp(-r*T)*K*norm.cdf(-d2) - np.exp(-q*T)*s*norm.cdf(-d1) - v\n",
        "\n",
        "# find sigma (the implied volatily) such that the Black-Scholes Value of the option is equal to the option premium\n",
        "inpt = (S, K, T, r, q, v)\n",
        "sigma_0 = 0.2               # initial value\n",
        "sol = fsolve(putFunc, sigma_0, args=inpt)\n",
        "print('The implied volitility for this put option is: ', float(sol))"
      ],
      "metadata": {
        "pycharm": {
          "name": "#%%\n"
        },
        "colab": {
          "base_uri": "https://localhost:8080/"
        },
        "id": "gdJc97zhXOwJ",
        "outputId": "0750e282-f667-4581-8fbc-040f2634e321"
      }
    },
    {
      "cell_type": "code",
      "execution_count": null,
      "outputs": [],
      "source": [
        ""
      ],
      "metadata": {
        "pycharm": {
          "name": "#%%\n"
        },
        "id": "FCeUNpryXOwK"
      }
    }
  ],
  "metadata": {
    "kernelspec": {
      "display_name": "Python 3",
      "language": "python",
      "name": "python3"
    },
    "language_info": {
      "codemirror_mode": {
        "name": "ipython",
        "version": 2
      },
      "file_extension": ".py",
      "mimetype": "text/x-python",
      "name": "python",
      "nbconvert_exporter": "python",
      "pygments_lexer": "ipython2",
      "version": "2.7.6"
    },
    "colab": {
      "name": "implied_volatility.ipynb",
      "provenance": [],
      "include_colab_link": true
    }
  },
  "nbformat": 4,
  "nbformat_minor": 0
}