{
 "cells": [
  {
   "cell_type": "markdown",
   "metadata": {},
   "source": [
    "---\n",
    "\n",
    "Created for [learn-investments.rice-business.org](https://learn-investments.rice-business.org)\n",
    "    \n",
    "By [Kerry Back](https://kerryback.com) and [Kevin Crotty](https://kevin-crotty.com)\n",
    "    \n",
    "Jones Graduate School of Business, Rice University\n",
    "\n",
    "---\n"
   ]
  },
  {
   "cell_type": "markdown",
   "metadata": {},
   "source": [
    "# EXAMPLE DATA"
   ]
  },
  {
   "cell_type": "code",
   "execution_count": 1,
   "metadata": {},
   "outputs": [],
   "source": [
    "S = 100         # Underlying price\n",
    "K = 100         # strike price\n",
    "T = 1           # years to maturity\n",
    "sigma = 0.4     # volatility of underlying\n",
    "r = 0.02        # risk-free rate\n",
    "q = 0.04        # dividend yield\n",
    "vc = 10.2       # call premium\n",
    "vp = 12.2       # put premium "
   ]
  },
  {
   "cell_type": "markdown",
   "metadata": {},
   "source": [
    "# CALL IMPLIED VOLATILITY"
   ]
  },
  {
   "cell_type": "code",
   "execution_count": 2,
   "metadata": {
    "id": "1v4z7VhjXOwD",
    "pycharm": {
     "name": "#%%\n"
    }
   },
   "outputs": [
    {
     "name": "stdout",
     "output_type": "stream",
     "text": [
      "Call implied volatility:\t28.9%\n"
     ]
    },
    {
     "data": {
      "text/html": [
       "<div>\n",
       "<style scoped>\n",
       "    .dataframe tbody tr th:only-of-type {\n",
       "        vertical-align: middle;\n",
       "    }\n",
       "\n",
       "    .dataframe tbody tr th {\n",
       "        vertical-align: top;\n",
       "    }\n",
       "\n",
       "    .dataframe thead th {\n",
       "        text-align: right;\n",
       "    }\n",
       "</style>\n",
       "<table border=\"1\" class=\"dataframe\">\n",
       "  <thead>\n",
       "    <tr style=\"text-align: right;\">\n",
       "      <th></th>\n",
       "      <th>values</th>\n",
       "    </tr>\n",
       "  </thead>\n",
       "  <tbody>\n",
       "    <tr>\n",
       "      <th>d1</th>\n",
       "      <td>0.08</td>\n",
       "    </tr>\n",
       "    <tr>\n",
       "      <th>N(d1)</th>\n",
       "      <td>0.53</td>\n",
       "    </tr>\n",
       "    <tr>\n",
       "      <th>d2</th>\n",
       "      <td>-0.21</td>\n",
       "    </tr>\n",
       "    <tr>\n",
       "      <th>N(d2)</th>\n",
       "      <td>0.42</td>\n",
       "    </tr>\n",
       "    <tr>\n",
       "      <th>exp(-qT)S</th>\n",
       "      <td>96.08</td>\n",
       "    </tr>\n",
       "    <tr>\n",
       "      <th>exp(-rT)K</th>\n",
       "      <td>98.02</td>\n",
       "    </tr>\n",
       "    <tr>\n",
       "      <th>exp(-qT)SN(d1)</th>\n",
       "      <td>50.92</td>\n",
       "    </tr>\n",
       "    <tr>\n",
       "      <th>exp(-rT)KN(d2)</th>\n",
       "      <td>40.72</td>\n",
       "    </tr>\n",
       "    <tr>\n",
       "      <th>call value</th>\n",
       "      <td>10.20</td>\n",
       "    </tr>\n",
       "  </tbody>\n",
       "</table>\n",
       "</div>"
      ],
      "text/plain": [
       "                values\n",
       "d1                0.08\n",
       "N(d1)             0.53\n",
       "d2               -0.21\n",
       "N(d2)             0.42\n",
       "exp(-qT)S        96.08\n",
       "exp(-rT)K        98.02\n",
       "exp(-qT)SN(d1)   50.92\n",
       "exp(-rT)KN(d2)   40.72\n",
       "call value       10.20"
      ]
     },
     "execution_count": 2,
     "metadata": {},
     "output_type": "execute_result"
    }
   ],
   "source": [
    "import pandas as pd\n",
    "import numpy as np\n",
    "from scipy.stats import norm\n",
    "from scipy.optimize import fsolve\n",
    "\n",
    "def callImpliedVolatility(S, K, T, r, q, v):\n",
    "    def callFunc(sigma, *args):\n",
    "        S, K, T, r, q, v = args\n",
    "\n",
    "        def f(s):\n",
    "            s = s if s != 0 else 1.0e-6\n",
    "            d1 = (np.log(s / K) + (r - q + 0.5 * sigma ** 2) * T) / (sigma * np.sqrt(T))\n",
    "            d2 = d1 - sigma * np.sqrt(T)\n",
    "            return (\n",
    "                np.exp(-q * T) * s * norm.cdf(d1)\n",
    "                - np.exp(-r * T) * K * norm.cdf(d2)\n",
    "                - v\n",
    "            )\n",
    "\n",
    "        if isinstance(S, list) or isinstance(S, np.ndarray):\n",
    "            return np.array([f(s) for s in S])\n",
    "        else:\n",
    "            return f(S)\n",
    "\n",
    "    inpt = (S, K, T, r, q, v)\n",
    "    sol = fsolve(callFunc, 0.2, args=inpt, full_output=True)\n",
    "    return sol\n",
    "\n",
    "# Calculate implied vol\n",
    "sigma_c = float(callImpliedVolatility(S, K, T, r, q, vc)[0])\n",
    "print(f'Call implied volatility:\\t{sigma_c:.1%}')\n",
    "\n",
    "\n",
    "# Black-Scholes values at implied-volatility\n",
    "indx = [\n",
    "    \"d1\",\n",
    "    \"N(d1)\",\n",
    "    \"d2\",\n",
    "    \"N(d2)\",\n",
    "    \"exp(-qT)S\",\n",
    "    \"exp(-rT)K\",\n",
    "    \"exp(-qT)SN(d1)\",\n",
    "    \"exp(-rT)KN(d2)\",\n",
    "    \"call value\",\n",
    "]\n",
    "tbl = pd.DataFrame(dtype=float, index=indx, columns=[\"values\"])\n",
    "d1 = (np.log(S / K) + (r - q + 0.5 * sigma_c ** 2) * T) / (sigma_c * np.sqrt(T))\n",
    "tbl.loc[\"d1\"] = d1\n",
    "tbl.loc[\"N(d1)\"] = norm.cdf(d1)\n",
    "d2 = d1 - sigma_c * np.sqrt(T)\n",
    "tbl.loc[\"d2\"] = d2\n",
    "tbl.loc[\"N(d2)\"] = norm.cdf(d2)\n",
    "tbl.loc[\"exp(-qT)S\"] = np.exp(-q * T) * S\n",
    "tbl.loc[\"exp(-rT)K\"] = np.exp(-r * T) * K\n",
    "tbl.loc[\"exp(-qT)SN(d1)\"] = np.exp(-q * T) * S * norm.cdf(d1)\n",
    "tbl.loc[\"exp(-rT)KN(d2)\"] = np.exp(-r * T) * K * norm.cdf(d2)\n",
    "tbl.loc[\"call value\"] = np.exp(-q * T) * S * norm.cdf(d1) - np.exp(\n",
    "    -r * T\n",
    ") * K * norm.cdf(d2)\n",
    "tbl_c = tbl.round(2)\n",
    "tbl_c\n"
   ]
  },
  {
   "cell_type": "markdown",
   "metadata": {},
   "source": [
    "# PUT IMPLIED VOLATILITY"
   ]
  },
  {
   "cell_type": "code",
   "execution_count": 3,
   "metadata": {},
   "outputs": [
    {
     "name": "stdout",
     "output_type": "stream",
     "text": [
      "Put implied volatility:\t29.0%\n"
     ]
    },
    {
     "data": {
      "text/html": [
       "<div>\n",
       "<style scoped>\n",
       "    .dataframe tbody tr th:only-of-type {\n",
       "        vertical-align: middle;\n",
       "    }\n",
       "\n",
       "    .dataframe tbody tr th {\n",
       "        vertical-align: top;\n",
       "    }\n",
       "\n",
       "    .dataframe thead th {\n",
       "        text-align: right;\n",
       "    }\n",
       "</style>\n",
       "<table border=\"1\" class=\"dataframe\">\n",
       "  <thead>\n",
       "    <tr style=\"text-align: right;\">\n",
       "      <th></th>\n",
       "      <th>values</th>\n",
       "    </tr>\n",
       "  </thead>\n",
       "  <tbody>\n",
       "    <tr>\n",
       "      <th>d1</th>\n",
       "      <td>0.08</td>\n",
       "    </tr>\n",
       "    <tr>\n",
       "      <th>N(-d1)</th>\n",
       "      <td>0.47</td>\n",
       "    </tr>\n",
       "    <tr>\n",
       "      <th>d2</th>\n",
       "      <td>-0.21</td>\n",
       "    </tr>\n",
       "    <tr>\n",
       "      <th>N(-d2)</th>\n",
       "      <td>0.58</td>\n",
       "    </tr>\n",
       "    <tr>\n",
       "      <th>exp(-qT)S</th>\n",
       "      <td>96.08</td>\n",
       "    </tr>\n",
       "    <tr>\n",
       "      <th>exp(-rT)K</th>\n",
       "      <td>98.02</td>\n",
       "    </tr>\n",
       "    <tr>\n",
       "      <th>exp(-rT)KN(-d2)</th>\n",
       "      <td>57.32</td>\n",
       "    </tr>\n",
       "    <tr>\n",
       "      <th>exp(-qT)SN(-d1)</th>\n",
       "      <td>45.12</td>\n",
       "    </tr>\n",
       "    <tr>\n",
       "      <th>put value</th>\n",
       "      <td>12.20</td>\n",
       "    </tr>\n",
       "  </tbody>\n",
       "</table>\n",
       "</div>"
      ],
      "text/plain": [
       "                 values\n",
       "d1                 0.08\n",
       "N(-d1)             0.47\n",
       "d2                -0.21\n",
       "N(-d2)             0.58\n",
       "exp(-qT)S         96.08\n",
       "exp(-rT)K         98.02\n",
       "exp(-rT)KN(-d2)   57.32\n",
       "exp(-qT)SN(-d1)   45.12\n",
       "put value         12.20"
      ]
     },
     "execution_count": 3,
     "metadata": {},
     "output_type": "execute_result"
    }
   ],
   "source": [
    "def putImpliedVolatility(S, K, T, r, q, v):\n",
    "    def putFunc(sigma, *args):\n",
    "        S, K, T, r, q, v = args\n",
    "\n",
    "        def f(s):\n",
    "            s = s if s != 0 else 1.0e-6\n",
    "            d1 = (np.log(s / K) + (r - q + 0.5 * sigma ** 2) * T) / (sigma * np.sqrt(T))\n",
    "            d2 = d1 - sigma * np.sqrt(T)\n",
    "            return (\n",
    "                np.exp(-r * T) * K * norm.cdf(-d2)\n",
    "                - np.exp(-q * T) * s * norm.cdf(-d1)\n",
    "                - v\n",
    "            )\n",
    "\n",
    "        if isinstance(S, list) or isinstance(S, np.ndarray):\n",
    "            return np.array([f(s) for s in S])\n",
    "        else:\n",
    "            return f(S)\n",
    "\n",
    "    inpt = (S, K, T, r, q, v)\n",
    "    sol = fsolve(putFunc, 0.2, args=inpt, full_output=True)\n",
    "    return sol\n",
    "\n",
    "\n",
    "# Calculate implied vol\n",
    "sigma_p = float(putImpliedVolatility(S, K, T, r, q, vp)[0])\n",
    "print(f'Put implied volatility:\\t{sigma_p:.1%}')\n",
    "\n",
    "\n",
    "# Black-Scholes values at implied-volatility\n",
    "indx = [\n",
    "    \"d1\",\n",
    "    \"N(-d1)\",\n",
    "    \"d2\",\n",
    "    \"N(-d2)\",\n",
    "    \"exp(-qT)S\",\n",
    "    \"exp(-rT)K\",\n",
    "    \"exp(-rT)KN(-d2)\",\n",
    "    \"exp(-qT)SN(-d1)\",\n",
    "    \"put value\",\n",
    "]\n",
    "tbl = pd.DataFrame(dtype=float, index=indx, columns=[\"values\"])\n",
    "d1 = (np.log(S / K) + (r - q + 0.5 * sigma_p ** 2) * T) / (sigma_p * np.sqrt(T))\n",
    "tbl.loc[\"d1\"] = d1\n",
    "tbl.loc[\"N(-d1)\"] = norm.cdf(-d1)\n",
    "d2 = d1 - sigma_p * np.sqrt(T)\n",
    "tbl.loc[\"d2\"] = d2\n",
    "tbl.loc[\"N(-d2)\"] = norm.cdf(-d2)\n",
    "tbl.loc[\"exp(-qT)S\"] = np.exp(-q * T) * S\n",
    "tbl.loc[\"exp(-rT)K\"] = np.exp(-r * T) * K\n",
    "tbl.loc[\"exp(-qT)SN(-d1)\"] = np.exp(-q * T) * S * norm.cdf(-d1)\n",
    "tbl.loc[\"exp(-rT)KN(-d2)\"] = np.exp(-r * T) * K * norm.cdf(-d2)\n",
    "tbl.loc[\"put value\"] = np.exp(-r * T) * K * norm.cdf(-d2) - np.exp(-q * T) * S * norm.cdf(-d1)\n",
    "tbl_p = tbl.round(2)\n",
    "tbl_p"
   ]
  },
  {
   "cell_type": "markdown",
   "metadata": {},
   "source": [
    "# CALCULATIONS FOR FIGURE"
   ]
  },
  {
   "cell_type": "code",
   "execution_count": 4,
   "metadata": {},
   "outputs": [],
   "source": [
    "# Black-Scholes functions\n",
    "def callBS(S, K, T, sigma, r, q):\n",
    "    def f(s):\n",
    "        s = s if s != 0 else 1.0e-6\n",
    "        d1 = (np.log(s / K) + (r - q + 0.5 * sigma ** 2) * T) / (sigma * np.sqrt(T))\n",
    "        d2 = d1 - sigma * np.sqrt(T)\n",
    "        return np.exp(-q * T) * s * norm.cdf(d1) - np.exp(-r * T) * K * norm.cdf(d2)\n",
    "\n",
    "    if isinstance(S, list) or isinstance(S, np.ndarray):\n",
    "        return np.array([f(s) for s in S])\n",
    "    else:\n",
    "        return f(S)\n",
    "\n",
    "def putBS(S, K, T, sigma, r, q):\n",
    "    def f(s):\n",
    "        s = s if s != 0 else 1.0e-6\n",
    "        d1 = (np.log(s / K) + (r - q + 0.5 * sigma ** 2) * T) / (sigma * np.sqrt(T))\n",
    "        d2 = d1 - sigma * np.sqrt(T)\n",
    "        return np.exp(-r * T) * K * norm.cdf(-d2) - np.exp(-q * T) * s * norm.cdf(-d1)\n",
    "\n",
    "    if isinstance(S, list) or isinstance(S, np.ndarray):\n",
    "        return np.array([f(s) for s in S])\n",
    "    else:\n",
    "        return f(S)\n",
    "\n",
    "\n",
    "# Black-Scholes as function of volatility\n",
    "maxprem = 2 * max(vc,vp)\n",
    "\n",
    "v_c_l, sigma_c_l = [], []\n",
    "sigma = 0.02\n",
    "prem = 0\n",
    "while prem < maxprem:\n",
    "    prem = callBS(S, K, T, sigma, r, q)\n",
    "    v_c_l.append(prem)\n",
    "    sigma_c_l.append(sigma)\n",
    "    sigma += 0.02\n",
    "\n",
    "v_p_l, sigma_p_l = [], []\n",
    "sigma = 0.02\n",
    "prem = 0\n",
    "while prem < maxprem:\n",
    "    prem = putBS(S, K, T, sigma, r, q)\n",
    "    v_p_l.append(prem)\n",
    "    sigma_p_l.append(sigma)\n",
    "    sigma += 0.02\n"
   ]
  },
  {
   "cell_type": "markdown",
   "metadata": {
    "id": "FCeUNpryXOwK",
    "pycharm": {
     "name": "#%%\n"
    }
   },
   "source": [
    "# FIGURE"
   ]
  },
  {
   "cell_type": "code",
   "execution_count": 6,
   "metadata": {},
   "outputs": [
    {
     "data": {
      "application/vnd.plotly.v1+json": {
       "config": {
        "plotlyServerURL": "https://plot.ly"
       },
       "data": [
        {
         "hovertemplate": "call value = $%{y:.2f} when volatility = %{x:.0%}",
         "line": {
          "color": "blue"
         },
         "mode": "lines",
         "name": "Call",
         "type": "scatter",
         "x": [
          0.02,
          0.04,
          0.06,
          0.08,
          0.1,
          0.12000000000000001,
          0.14,
          0.16,
          0.18,
          0.19999999999999998,
          0.21999999999999997,
          0.23999999999999996,
          0.25999999999999995,
          0.27999999999999997,
          0.3,
          0.32,
          0.34,
          0.36000000000000004,
          0.38000000000000006,
          0.4000000000000001,
          0.4200000000000001,
          0.4400000000000001,
          0.46000000000000013,
          0.48000000000000015,
          0.5000000000000001,
          0.5200000000000001,
          0.5400000000000001,
          0.5600000000000002,
          0.5800000000000002,
          0.6000000000000002,
          0.6200000000000002,
          0.6400000000000002,
          0.6600000000000003,
          0.6800000000000003
         ],
         "y": [
          0.16170112049694652,
          0.7677248351262342,
          1.4800289178463544,
          2.2222921940249236,
          2.9767143188209246,
          3.737066613039275,
          4.500589331073186,
          5.265851745294853,
          6.032020798306682,
          6.798564496167167,
          7.565115936409001,
          8.331404942383607,
          9.09722111249011,
          9.86239265249624,
          10.626773655367494,
          11.390236145596042,
          12.152664932010687,
          12.913954179685042,
          13.674005068991463,
          14.432724162013137,
          15.190022240890961,
          15.945813468120775,
          16.70001477088949,
          17.45254538412096,
          18.203326507774165,
          18.95228104759441,
          19.699333417630065,
          20.444409389014318,
          21.187435973780694,
          21.928341335470414,
          22.667054720413468,
          23.40350640509066,
          24.137627656095006,
          24.869350700027894
         ]
        },
        {
         "hovertemplate": "put value = $%{y:.2f} when volatility = %{x:.0%}",
         "line": {
          "color": "green"
         },
         "mode": "lines",
         "name": "Put",
         "type": "scatter",
         "x": [
          0.02,
          0.04,
          0.06,
          0.08,
          0.1,
          0.12000000000000001,
          0.14,
          0.16,
          0.18,
          0.19999999999999998,
          0.21999999999999997,
          0.23999999999999996,
          0.25999999999999995,
          0.27999999999999997,
          0.3,
          0.32,
          0.34,
          0.36000000000000004,
          0.38000000000000006,
          0.4000000000000001,
          0.4200000000000001,
          0.4400000000000001,
          0.46000000000000013,
          0.48000000000000015,
          0.5000000000000001,
          0.5200000000000001,
          0.5400000000000001,
          0.5600000000000002,
          0.5800000000000002,
          0.6000000000000002,
          0.6200000000000002
         ],
         "y": [
          2.1026245359401514,
          2.7086482505694534,
          3.4209523332895557,
          4.163215609468139,
          4.917637734264133,
          5.6779900284824905,
          6.441512746516395,
          7.206775160738076,
          7.972944213749898,
          8.739487911610368,
          9.506039351852216,
          10.272328357826822,
          11.038144527933326,
          11.803316067939448,
          12.567697070810702,
          13.33115956103925,
          14.093588347453895,
          14.85487759512825,
          15.614928484434678,
          16.37364757745634,
          17.13094565633417,
          17.88673688356399,
          18.640938186332697,
          19.393468799564168,
          20.144249923217373,
          20.89320446303762,
          21.640256833073273,
          22.385332804457526,
          23.128359389223895,
          23.86926475091363,
          24.607978135856676
         ]
        },
        {
         "hovertemplate": "call premium = $%{y:.2f}<extra></extra>",
         "line": {
          "color": "blue",
          "dash": "dot"
         },
         "mode": "lines",
         "showlegend": false,
         "type": "scatter",
         "x": [
          0.02,
          0.04,
          0.06,
          0.08,
          0.1,
          0.12000000000000001,
          0.14,
          0.16,
          0.18,
          0.19999999999999998,
          0.21999999999999997,
          0.23999999999999996,
          0.25999999999999995,
          0.27999999999999997,
          0.3,
          0.32,
          0.34,
          0.36000000000000004,
          0.38000000000000006,
          0.4000000000000001,
          0.4200000000000001,
          0.4400000000000001,
          0.46000000000000013,
          0.48000000000000015,
          0.5000000000000001,
          0.5200000000000001,
          0.5400000000000001,
          0.5600000000000002,
          0.5800000000000002,
          0.6000000000000002,
          0.6200000000000002,
          0.6400000000000002,
          0.6600000000000003,
          0.6800000000000003
         ],
         "y": [
          10.2,
          10.2,
          10.2,
          10.2,
          10.2,
          10.2,
          10.2,
          10.2,
          10.2,
          10.2,
          10.2,
          10.2,
          10.2,
          10.2,
          10.2,
          10.2,
          10.2,
          10.2,
          10.2,
          10.2,
          10.2,
          10.2,
          10.2,
          10.2,
          10.2,
          10.2,
          10.2,
          10.2,
          10.2,
          10.2,
          10.2,
          10.2,
          10.2,
          10.2
         ]
        },
        {
         "hovertemplate": "put premium = $%{y:.2f}<extra></extra>",
         "line": {
          "color": "green",
          "dash": "dot"
         },
         "mode": "lines",
         "name": "Put Premium",
         "showlegend": false,
         "type": "scatter",
         "x": [
          0.02,
          0.04,
          0.06,
          0.08,
          0.1,
          0.12000000000000001,
          0.14,
          0.16,
          0.18,
          0.19999999999999998,
          0.21999999999999997,
          0.23999999999999996,
          0.25999999999999995,
          0.27999999999999997,
          0.3,
          0.32,
          0.34,
          0.36000000000000004,
          0.38000000000000006,
          0.4000000000000001,
          0.4200000000000001,
          0.4400000000000001,
          0.46000000000000013,
          0.48000000000000015,
          0.5000000000000001,
          0.5200000000000001,
          0.5400000000000001,
          0.5600000000000002,
          0.5800000000000002,
          0.6000000000000002,
          0.6200000000000002
         ],
         "y": [
          12.2,
          12.2,
          12.2,
          12.2,
          12.2,
          12.2,
          12.2,
          12.2,
          12.2,
          12.2,
          12.2,
          12.2,
          12.2,
          12.2,
          12.2,
          12.2,
          12.2,
          12.2,
          12.2,
          12.2,
          12.2,
          12.2,
          12.2,
          12.2,
          12.2,
          12.2,
          12.2,
          12.2,
          12.2,
          12.2,
          12.2
         ]
        },
        {
         "hovertemplate": "call implied volatility = %{x:0.1%}<extra></extra>",
         "marker": {
          "color": "blue",
          "size": 15
         },
         "mode": "markers",
         "showlegend": false,
         "type": "scatter",
         "x": [
          0.28883072585285036
         ],
         "y": [
          10.2
         ]
        },
        {
         "hovertemplate": "put implied volatility = %{x:0.1%}<extra></extra>",
         "marker": {
          "color": "green",
          "size": 15
         },
         "mode": "markers",
         "showlegend": false,
         "type": "scatter",
         "x": [
          0.2903764174552332
         ],
         "y": [
          12.2
         ]
        }
       ],
       "layout": {
        "legend": {
         "x": 0.01,
         "xanchor": "left",
         "y": 0.99,
         "yanchor": "top"
        },
        "template": {
         "data": {
          "bar": [
           {
            "error_x": {
             "color": "#2a3f5f"
            },
            "error_y": {
             "color": "#2a3f5f"
            },
            "marker": {
             "line": {
              "color": "white",
              "width": 0.5
             },
             "pattern": {
              "fillmode": "overlay",
              "size": 10,
              "solidity": 0.2
             }
            },
            "type": "bar"
           }
          ],
          "barpolar": [
           {
            "marker": {
             "line": {
              "color": "white",
              "width": 0.5
             },
             "pattern": {
              "fillmode": "overlay",
              "size": 10,
              "solidity": 0.2
             }
            },
            "type": "barpolar"
           }
          ],
          "carpet": [
           {
            "aaxis": {
             "endlinecolor": "#2a3f5f",
             "gridcolor": "#C8D4E3",
             "linecolor": "#C8D4E3",
             "minorgridcolor": "#C8D4E3",
             "startlinecolor": "#2a3f5f"
            },
            "baxis": {
             "endlinecolor": "#2a3f5f",
             "gridcolor": "#C8D4E3",
             "linecolor": "#C8D4E3",
             "minorgridcolor": "#C8D4E3",
             "startlinecolor": "#2a3f5f"
            },
            "type": "carpet"
           }
          ],
          "choropleth": [
           {
            "colorbar": {
             "outlinewidth": 0,
             "ticks": ""
            },
            "type": "choropleth"
           }
          ],
          "contour": [
           {
            "colorbar": {
             "outlinewidth": 0,
             "ticks": ""
            },
            "colorscale": [
             [
              0,
              "#0d0887"
             ],
             [
              0.1111111111111111,
              "#46039f"
             ],
             [
              0.2222222222222222,
              "#7201a8"
             ],
             [
              0.3333333333333333,
              "#9c179e"
             ],
             [
              0.4444444444444444,
              "#bd3786"
             ],
             [
              0.5555555555555556,
              "#d8576b"
             ],
             [
              0.6666666666666666,
              "#ed7953"
             ],
             [
              0.7777777777777778,
              "#fb9f3a"
             ],
             [
              0.8888888888888888,
              "#fdca26"
             ],
             [
              1,
              "#f0f921"
             ]
            ],
            "type": "contour"
           }
          ],
          "contourcarpet": [
           {
            "colorbar": {
             "outlinewidth": 0,
             "ticks": ""
            },
            "type": "contourcarpet"
           }
          ],
          "heatmap": [
           {
            "colorbar": {
             "outlinewidth": 0,
             "ticks": ""
            },
            "colorscale": [
             [
              0,
              "#0d0887"
             ],
             [
              0.1111111111111111,
              "#46039f"
             ],
             [
              0.2222222222222222,
              "#7201a8"
             ],
             [
              0.3333333333333333,
              "#9c179e"
             ],
             [
              0.4444444444444444,
              "#bd3786"
             ],
             [
              0.5555555555555556,
              "#d8576b"
             ],
             [
              0.6666666666666666,
              "#ed7953"
             ],
             [
              0.7777777777777778,
              "#fb9f3a"
             ],
             [
              0.8888888888888888,
              "#fdca26"
             ],
             [
              1,
              "#f0f921"
             ]
            ],
            "type": "heatmap"
           }
          ],
          "heatmapgl": [
           {
            "colorbar": {
             "outlinewidth": 0,
             "ticks": ""
            },
            "colorscale": [
             [
              0,
              "#0d0887"
             ],
             [
              0.1111111111111111,
              "#46039f"
             ],
             [
              0.2222222222222222,
              "#7201a8"
             ],
             [
              0.3333333333333333,
              "#9c179e"
             ],
             [
              0.4444444444444444,
              "#bd3786"
             ],
             [
              0.5555555555555556,
              "#d8576b"
             ],
             [
              0.6666666666666666,
              "#ed7953"
             ],
             [
              0.7777777777777778,
              "#fb9f3a"
             ],
             [
              0.8888888888888888,
              "#fdca26"
             ],
             [
              1,
              "#f0f921"
             ]
            ],
            "type": "heatmapgl"
           }
          ],
          "histogram": [
           {
            "marker": {
             "pattern": {
              "fillmode": "overlay",
              "size": 10,
              "solidity": 0.2
             }
            },
            "type": "histogram"
           }
          ],
          "histogram2d": [
           {
            "colorbar": {
             "outlinewidth": 0,
             "ticks": ""
            },
            "colorscale": [
             [
              0,
              "#0d0887"
             ],
             [
              0.1111111111111111,
              "#46039f"
             ],
             [
              0.2222222222222222,
              "#7201a8"
             ],
             [
              0.3333333333333333,
              "#9c179e"
             ],
             [
              0.4444444444444444,
              "#bd3786"
             ],
             [
              0.5555555555555556,
              "#d8576b"
             ],
             [
              0.6666666666666666,
              "#ed7953"
             ],
             [
              0.7777777777777778,
              "#fb9f3a"
             ],
             [
              0.8888888888888888,
              "#fdca26"
             ],
             [
              1,
              "#f0f921"
             ]
            ],
            "type": "histogram2d"
           }
          ],
          "histogram2dcontour": [
           {
            "colorbar": {
             "outlinewidth": 0,
             "ticks": ""
            },
            "colorscale": [
             [
              0,
              "#0d0887"
             ],
             [
              0.1111111111111111,
              "#46039f"
             ],
             [
              0.2222222222222222,
              "#7201a8"
             ],
             [
              0.3333333333333333,
              "#9c179e"
             ],
             [
              0.4444444444444444,
              "#bd3786"
             ],
             [
              0.5555555555555556,
              "#d8576b"
             ],
             [
              0.6666666666666666,
              "#ed7953"
             ],
             [
              0.7777777777777778,
              "#fb9f3a"
             ],
             [
              0.8888888888888888,
              "#fdca26"
             ],
             [
              1,
              "#f0f921"
             ]
            ],
            "type": "histogram2dcontour"
           }
          ],
          "mesh3d": [
           {
            "colorbar": {
             "outlinewidth": 0,
             "ticks": ""
            },
            "type": "mesh3d"
           }
          ],
          "parcoords": [
           {
            "line": {
             "colorbar": {
              "outlinewidth": 0,
              "ticks": ""
             }
            },
            "type": "parcoords"
           }
          ],
          "pie": [
           {
            "automargin": true,
            "type": "pie"
           }
          ],
          "scatter": [
           {
            "fillpattern": {
             "fillmode": "overlay",
             "size": 10,
             "solidity": 0.2
            },
            "type": "scatter"
           }
          ],
          "scatter3d": [
           {
            "line": {
             "colorbar": {
              "outlinewidth": 0,
              "ticks": ""
             }
            },
            "marker": {
             "colorbar": {
              "outlinewidth": 0,
              "ticks": ""
             }
            },
            "type": "scatter3d"
           }
          ],
          "scattercarpet": [
           {
            "marker": {
             "colorbar": {
              "outlinewidth": 0,
              "ticks": ""
             }
            },
            "type": "scattercarpet"
           }
          ],
          "scattergeo": [
           {
            "marker": {
             "colorbar": {
              "outlinewidth": 0,
              "ticks": ""
             }
            },
            "type": "scattergeo"
           }
          ],
          "scattergl": [
           {
            "marker": {
             "colorbar": {
              "outlinewidth": 0,
              "ticks": ""
             }
            },
            "type": "scattergl"
           }
          ],
          "scattermapbox": [
           {
            "marker": {
             "colorbar": {
              "outlinewidth": 0,
              "ticks": ""
             }
            },
            "type": "scattermapbox"
           }
          ],
          "scatterpolar": [
           {
            "marker": {
             "colorbar": {
              "outlinewidth": 0,
              "ticks": ""
             }
            },
            "type": "scatterpolar"
           }
          ],
          "scatterpolargl": [
           {
            "marker": {
             "colorbar": {
              "outlinewidth": 0,
              "ticks": ""
             }
            },
            "type": "scatterpolargl"
           }
          ],
          "scatterternary": [
           {
            "marker": {
             "colorbar": {
              "outlinewidth": 0,
              "ticks": ""
             }
            },
            "type": "scatterternary"
           }
          ],
          "surface": [
           {
            "colorbar": {
             "outlinewidth": 0,
             "ticks": ""
            },
            "colorscale": [
             [
              0,
              "#0d0887"
             ],
             [
              0.1111111111111111,
              "#46039f"
             ],
             [
              0.2222222222222222,
              "#7201a8"
             ],
             [
              0.3333333333333333,
              "#9c179e"
             ],
             [
              0.4444444444444444,
              "#bd3786"
             ],
             [
              0.5555555555555556,
              "#d8576b"
             ],
             [
              0.6666666666666666,
              "#ed7953"
             ],
             [
              0.7777777777777778,
              "#fb9f3a"
             ],
             [
              0.8888888888888888,
              "#fdca26"
             ],
             [
              1,
              "#f0f921"
             ]
            ],
            "type": "surface"
           }
          ],
          "table": [
           {
            "cells": {
             "fill": {
              "color": "#EBF0F8"
             },
             "line": {
              "color": "white"
             }
            },
            "header": {
             "fill": {
              "color": "#C8D4E3"
             },
             "line": {
              "color": "white"
             }
            },
            "type": "table"
           }
          ]
         },
         "layout": {
          "annotationdefaults": {
           "arrowcolor": "#2a3f5f",
           "arrowhead": 0,
           "arrowwidth": 1
          },
          "autotypenumbers": "strict",
          "coloraxis": {
           "colorbar": {
            "outlinewidth": 0,
            "ticks": ""
           }
          },
          "colorscale": {
           "diverging": [
            [
             0,
             "#8e0152"
            ],
            [
             0.1,
             "#c51b7d"
            ],
            [
             0.2,
             "#de77ae"
            ],
            [
             0.3,
             "#f1b6da"
            ],
            [
             0.4,
             "#fde0ef"
            ],
            [
             0.5,
             "#f7f7f7"
            ],
            [
             0.6,
             "#e6f5d0"
            ],
            [
             0.7,
             "#b8e186"
            ],
            [
             0.8,
             "#7fbc41"
            ],
            [
             0.9,
             "#4d9221"
            ],
            [
             1,
             "#276419"
            ]
           ],
           "sequential": [
            [
             0,
             "#0d0887"
            ],
            [
             0.1111111111111111,
             "#46039f"
            ],
            [
             0.2222222222222222,
             "#7201a8"
            ],
            [
             0.3333333333333333,
             "#9c179e"
            ],
            [
             0.4444444444444444,
             "#bd3786"
            ],
            [
             0.5555555555555556,
             "#d8576b"
            ],
            [
             0.6666666666666666,
             "#ed7953"
            ],
            [
             0.7777777777777778,
             "#fb9f3a"
            ],
            [
             0.8888888888888888,
             "#fdca26"
            ],
            [
             1,
             "#f0f921"
            ]
           ],
           "sequentialminus": [
            [
             0,
             "#0d0887"
            ],
            [
             0.1111111111111111,
             "#46039f"
            ],
            [
             0.2222222222222222,
             "#7201a8"
            ],
            [
             0.3333333333333333,
             "#9c179e"
            ],
            [
             0.4444444444444444,
             "#bd3786"
            ],
            [
             0.5555555555555556,
             "#d8576b"
            ],
            [
             0.6666666666666666,
             "#ed7953"
            ],
            [
             0.7777777777777778,
             "#fb9f3a"
            ],
            [
             0.8888888888888888,
             "#fdca26"
            ],
            [
             1,
             "#f0f921"
            ]
           ]
          },
          "colorway": [
           "#636efa",
           "#EF553B",
           "#00cc96",
           "#ab63fa",
           "#FFA15A",
           "#19d3f3",
           "#FF6692",
           "#B6E880",
           "#FF97FF",
           "#FECB52"
          ],
          "font": {
           "color": "#2a3f5f"
          },
          "geo": {
           "bgcolor": "white",
           "lakecolor": "white",
           "landcolor": "white",
           "showlakes": true,
           "showland": true,
           "subunitcolor": "#C8D4E3"
          },
          "hoverlabel": {
           "align": "left"
          },
          "hovermode": "closest",
          "mapbox": {
           "style": "light"
          },
          "paper_bgcolor": "white",
          "plot_bgcolor": "white",
          "polar": {
           "angularaxis": {
            "gridcolor": "#EBF0F8",
            "linecolor": "#EBF0F8",
            "ticks": ""
           },
           "bgcolor": "white",
           "radialaxis": {
            "gridcolor": "#EBF0F8",
            "linecolor": "#EBF0F8",
            "ticks": ""
           }
          },
          "scene": {
           "xaxis": {
            "backgroundcolor": "white",
            "gridcolor": "#DFE8F3",
            "gridwidth": 2,
            "linecolor": "#EBF0F8",
            "showbackground": true,
            "ticks": "",
            "zerolinecolor": "#EBF0F8"
           },
           "yaxis": {
            "backgroundcolor": "white",
            "gridcolor": "#DFE8F3",
            "gridwidth": 2,
            "linecolor": "#EBF0F8",
            "showbackground": true,
            "ticks": "",
            "zerolinecolor": "#EBF0F8"
           },
           "zaxis": {
            "backgroundcolor": "white",
            "gridcolor": "#DFE8F3",
            "gridwidth": 2,
            "linecolor": "#EBF0F8",
            "showbackground": true,
            "ticks": "",
            "zerolinecolor": "#EBF0F8"
           }
          },
          "shapedefaults": {
           "line": {
            "color": "#2a3f5f"
           }
          },
          "ternary": {
           "aaxis": {
            "gridcolor": "#DFE8F3",
            "linecolor": "#A2B1C6",
            "ticks": ""
           },
           "baxis": {
            "gridcolor": "#DFE8F3",
            "linecolor": "#A2B1C6",
            "ticks": ""
           },
           "bgcolor": "white",
           "caxis": {
            "gridcolor": "#DFE8F3",
            "linecolor": "#A2B1C6",
            "ticks": ""
           }
          },
          "title": {
           "x": 0.05
          },
          "xaxis": {
           "automargin": true,
           "gridcolor": "#EBF0F8",
           "linecolor": "#EBF0F8",
           "ticks": "",
           "title": {
            "standoff": 15
           },
           "zerolinecolor": "#EBF0F8",
           "zerolinewidth": 2
          },
          "yaxis": {
           "automargin": true,
           "gridcolor": "#EBF0F8",
           "linecolor": "#EBF0F8",
           "ticks": "",
           "title": {
            "standoff": 15
           },
           "zerolinecolor": "#EBF0F8",
           "zerolinewidth": 2
          }
         }
        },
        "xaxis": {
         "range": [
          0,
          0.5807528349104664
         ],
         "tickformat": ",.1f",
         "title": {
          "text": "Volatility"
         }
        },
        "yaxis": {
         "range": [
          0,
          24.4
         ],
         "tickformat": ",.1f",
         "title": {
          "text": "Option Premium"
         }
        }
       }
      }
     },
     "metadata": {},
     "output_type": "display_data"
    }
   ],
   "source": [
    "import plotly.graph_objects as go\n",
    "fig = go.Figure()\n",
    "\n",
    "trace1 = go.Scatter(\n",
    "    x=sigma_c_l,\n",
    "    y=v_c_l,\n",
    "    mode=\"lines\",\n",
    "    name=\"Call\",\n",
    "    hovertemplate=\"call value = $%{y:.2f} when volatility = %{x:.0%}\",\n",
    "    line=dict(color='blue'),\n",
    ")\n",
    "trace2 = go.Scatter(\n",
    "    x=sigma_p_l,\n",
    "    y=v_p_l,\n",
    "    mode=\"lines\",\n",
    "    name=\"Put\",\n",
    "    hovertemplate=\"put value = $%{y:.2f} when volatility = %{x:.0%}\",\n",
    "    line=dict(color='green')\n",
    ")\n",
    "trace3 = go.Scatter(\n",
    "    x=sigma_c_l,\n",
    "    y=[vc] * len(sigma_c_l),\n",
    "    mode=\"lines\",\n",
    "    line=dict(dash=\"dot\", color='blue'),\n",
    "    hovertemplate=\"call premium = $%{y:.2f}<extra></extra>\",\n",
    "    showlegend=False,\n",
    ")\n",
    "trace4 = go.Scatter(\n",
    "    x=sigma_p_l,\n",
    "    y=[vp] * len(sigma_p_l),\n",
    "    mode=\"lines\",\n",
    "    line=dict(dash=\"dot\", color='green'),\n",
    "    name=\"Put Premium\",\n",
    "    hovertemplate=\"put premium = $%{y:.2f}<extra></extra>\",\n",
    "    showlegend=False,\n",
    ")\n",
    "trace5 = go.Scatter(\n",
    "    x=[sigma_c],\n",
    "    y=[vc],\n",
    "    mode=\"markers\",\n",
    "    hovertemplate=\"call implied volatility = %{x:0.1%}<extra></extra>\",\n",
    "    marker=dict(size=15, color='blue'),\n",
    "    showlegend=False,\n",
    ")\n",
    "trace6 = go.Scatter(\n",
    "    x=[sigma_p],\n",
    "    y=[vp],\n",
    "    mode=\"markers\",\n",
    "    hovertemplate=\"put implied volatility = %{x:0.1%}<extra></extra>\",\n",
    "    marker=dict(size=15, color='green'),\n",
    "    showlegend=False,\n",
    ")\n",
    "\n",
    "for trace in [trace1, trace2, trace3, trace4, trace5, trace6]:\n",
    "    fig.add_trace(trace)\n",
    "\n",
    "fig.update_layout(\n",
    "    yaxis = dict(\n",
    "        title=\"Option Premium\",\n",
    "        tickformat=\",.1f\",\n",
    "        range=[0, np.maximum(vc, vp) * 2]\n",
    "    ),\n",
    "    xaxis=dict(\n",
    "        title=\"Volatility\",\n",
    "        tickformat=\",.1f\",\n",
    "        range=[0, np.maximum(sigma_c, sigma_p) * 2]\n",
    "    ),\n",
    "    legend=dict(\n",
    "        yanchor=\"top\", \n",
    "        y=0.99, \n",
    "        xanchor=\"left\", \n",
    "        x=0.01),\n",
    "    template=\"plotly_white\",\n",
    ")\n",
    "fig.show()"
   ]
  },
  {
   "cell_type": "code",
   "execution_count": null,
   "metadata": {},
   "outputs": [],
   "source": []
  }
 ],
 "metadata": {
  "colab": {
   "include_colab_link": true,
   "name": "implied volatilities.ipynb",
   "provenance": []
  },
  "kernelspec": {
   "display_name": "Python 3",
   "language": "python",
   "name": "python3"
  },
  "language_info": {
   "codemirror_mode": {
    "name": "ipython",
    "version": 3
   },
   "file_extension": ".py",
   "mimetype": "text/x-python",
   "name": "python",
   "nbconvert_exporter": "python",
   "pygments_lexer": "ipython3",
   "version": "3.10.8"
  }
 },
 "nbformat": 4,
 "nbformat_minor": 0
}