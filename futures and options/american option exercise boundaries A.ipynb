{
  "cells": [
    {
      "cell_type": "markdown",
      "metadata": {
        "id": "view-in-github",
        "colab_type": "text"
      },
      "source": [
        "<a href=\"https://colab.research.google.com/github/bbcx-investments/notebooks/blob/main/options/american_boundary.ipynb\" target=\"_parent\"><img src=\"https://colab.research.google.com/assets/colab-badge.svg\" alt=\"Open In Colab\"/></a>"
      ]
    },
    {
      "cell_type": "code",
      "execution_count": null,
      "outputs": [
        {
          "data": {
            "text/plain": "   Time (Year)  Excercise Boundary (Exercise when Above It)\n0         0.00                                   116.794186\n1         0.25                                   109.239041\n2         0.50                                    99.562310\n3         0.75                                    86.511716\n4         0.90                                    73.938831\n5         0.95                                    67.420205\n6         0.98                                    61.390634\n7         1.00                                    50.000000",
            "text/html": "<div>\n<style scoped>\n    .dataframe tbody tr th:only-of-type {\n        vertical-align: middle;\n    }\n\n    .dataframe tbody tr th {\n        vertical-align: top;\n    }\n\n    .dataframe thead th {\n        text-align: right;\n    }\n</style>\n<table border=\"1\" class=\"dataframe\">\n  <thead>\n    <tr style=\"text-align: right;\">\n      <th></th>\n      <th>Time (Year)</th>\n      <th>Excercise Boundary (Exercise when Above It)</th>\n    </tr>\n  </thead>\n  <tbody>\n    <tr>\n      <th>0</th>\n      <td>0.00</td>\n      <td>116.794186</td>\n    </tr>\n    <tr>\n      <th>1</th>\n      <td>0.25</td>\n      <td>109.239041</td>\n    </tr>\n    <tr>\n      <th>2</th>\n      <td>0.50</td>\n      <td>99.562310</td>\n    </tr>\n    <tr>\n      <th>3</th>\n      <td>0.75</td>\n      <td>86.511716</td>\n    </tr>\n    <tr>\n      <th>4</th>\n      <td>0.90</td>\n      <td>73.938831</td>\n    </tr>\n    <tr>\n      <th>5</th>\n      <td>0.95</td>\n      <td>67.420205</td>\n    </tr>\n    <tr>\n      <th>6</th>\n      <td>0.98</td>\n      <td>61.390634</td>\n    </tr>\n    <tr>\n      <th>7</th>\n      <td>1.00</td>\n      <td>50.000000</td>\n    </tr>\n  </tbody>\n</table>\n</div>"
          },
          "execution_count": 9,
          "metadata": {},
          "output_type": "execute_result"
        }
      ],
      "source": [
        "import pandas as pd\n",
        "import numpy as np\n",
        "from scipy.stats import norm\n",
        "from scipy.optimize import minimize\n",
        "\n",
        "\n",
        "def callBS(S, K, T, sigma, r, q):\n",
        "    def f(s):\n",
        "        s = s if s != 0 else 1.0e-6\n",
        "        d1 = (np.log(s / K) + (r - q + 0.5 * sigma ** 2) * T) / (sigma * np.sqrt(T))\n",
        "        d2 = d1 - sigma * np.sqrt(T)\n",
        "        return np.exp(-q * T) * s * norm.cdf(d1) - np.exp(-r * T) * K * norm.cdf(d2)\n",
        "\n",
        "    if isinstance(S, list) or isinstance(S, np.ndarray):\n",
        "        return np.array([f(s) for s in S])\n",
        "    else:\n",
        "        return f(S)\n",
        "\n",
        "\n",
        "def putBS(S, K, T, sigma, r, q):\n",
        "    def f(s):\n",
        "        s = s if s != 0 else 1.0e-6\n",
        "        d1 = (np.log(s / K) + (r - q + 0.5 * sigma ** 2) * T) / (sigma * np.sqrt(T))\n",
        "        d2 = d1 - sigma * np.sqrt(T)\n",
        "        return np.exp(-r * T) * K * norm.cdf(-d2) - np.exp(-q * T) * s * norm.cdf(-d1)\n",
        "\n",
        "    if isinstance(S, list) or isinstance(S, np.ndarray):\n",
        "        return np.array([f(s) for s in S])\n",
        "    else:\n",
        "        return f(S)\n",
        "\n",
        "\n",
        "def American(S, K, T, sigma, r, q, N, kind):\n",
        "    bs = callBS if kind == \"call\" else putBS\n",
        "    intrinsic = lambda x: (x - K if kind == \"call\" else K - x)\n",
        "    dt = T / N\n",
        "    up = np.exp(sigma * np.sqrt(dt))\n",
        "    down = 1 / up\n",
        "    prob = (np.exp((r - q) * dt) - down) / (up - down)\n",
        "    discount = np.exp(-r * dt)\n",
        "\n",
        "    # Black-Scholes at penultimate date\n",
        "    x = S * up ** np.arange(N - 1, -N - 1, -2)\n",
        "    v = bs(x, K, T, sigma, r, q)\n",
        "    for n in range(N - 2, -1, -1):\n",
        "        x = S * up ** n\n",
        "        v[0] = np.maximum(intrinsic(x), discount * (prob * v[0] + (1 - prob) * v[1]))\n",
        "        for i in range(1, n + 1):\n",
        "            x *= down * down\n",
        "            v[i] = np.maximum(\n",
        "                intrinsic(x), discount * (prob * v[i] + (1 - prob) * v[i + 1])\n",
        "            )\n",
        "    return v[0]\n",
        "\n",
        "\n",
        "def Richardson(S, K, T, sigma, r, q, N, kind):\n",
        "    y1 = American(S, K, T, sigma, r, q, N, kind)\n",
        "    y2 = American(S, K, T, sigma, r, q, 2 * N, kind)\n",
        "    return 2 * y2 - y1\n",
        "\n",
        "\n",
        "def Boundary(K, times, sigma, r, q, kind, N=30):\n",
        "    intrinsic = lambda x: (x - K if kind == \"call\" else K - x)\n",
        "    richardson = lambda x: Richardson(x, K, T, sigma, r, q, N, kind)\n",
        "    bdys = []\n",
        "\n",
        "    for t in times[:-1]:\n",
        "\n",
        "        def constraint(x):\n",
        "            return Richardson(x, K, times[-1] - t, sigma, r, q, N, kind) - intrinsic(x)\n",
        "\n",
        "        def objective(x):\n",
        "            return x if kind == \"call\" else -x\n",
        "\n",
        "        cons = {\"type\": \"eq\", \"fun\": constraint}\n",
        "        b = minimize(objective, x0=K, method=\"SLSQP\", constraints=cons).x[0]\n",
        "        bdys.append(b)\n",
        "\n",
        "    bdys.append(K)\n",
        "    return bdys\n",
        "\n",
        "\n",
        "\n",
        "# an example option\n",
        "\n",
        "K = 50\n",
        "T = 1\n",
        "sigma = 0.4\n",
        "r = 0.02\n",
        "q = 0.03\n",
        "kind = 'call'\n",
        "\n",
        "# for efficiency, we only compute the boundary for these grids\n",
        "times = T * np.array([0, 0.25, 0.5, 0.75, 0.9, 0.95, 0.98, 1])\n",
        "\n",
        "boundaries = Boundary(K, times, sigma, r, q, kind)\n",
        "pd.DataFrame([times, boundaries]).transpose().rename(columns={0 : 'Time (Year)', 1 : 'Excercise Boundary (Exercise when Above It)'})\n",
        "\n"
      ],
      "metadata": {
        "pycharm": {
          "name": "#%%\n"
        },
        "id": "EmlbklGddrQZ",
        "outputId": "81446bad-74ba-4e12-c749-dcb8beac4597"
      }
    },
    {
      "cell_type": "code",
      "execution_count": null,
      "outputs": [],
      "source": [
        ""
      ],
      "metadata": {
        "pycharm": {
          "name": "#%%\n"
        },
        "id": "gXtRyarodrQf"
      }
    },
    {
      "cell_type": "code",
      "execution_count": null,
      "outputs": [],
      "source": [
        ""
      ],
      "metadata": {
        "pycharm": {
          "name": "#%%\n"
        },
        "id": "LavWMmBHdrQf"
      }
    }
  ],
  "metadata": {
    "kernelspec": {
      "display_name": "Python 3",
      "language": "python",
      "name": "python3"
    },
    "language_info": {
      "codemirror_mode": {
        "name": "ipython",
        "version": 2
      },
      "file_extension": ".py",
      "mimetype": "text/x-python",
      "name": "python",
      "nbconvert_exporter": "python",
      "pygments_lexer": "ipython2",
      "version": "2.7.6"
    },
    "colab": {
      "name": "american_boundary.ipynb",
      "provenance": [],
      "include_colab_link": true
    }
  },
  "nbformat": 4,
  "nbformat_minor": 0
}