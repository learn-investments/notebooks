{
  "cells": [
    {
      "cell_type": "markdown",
      "metadata": {
        "id": "view-in-github",
        "colab_type": "text"
      },
      "source": [
        "<a href=\"https://colab.research.google.com/github/bbcx-investments/notebooks/blob/main/options/black_scholes_formula.ipynb\" target=\"_parent\"><img src=\"https://colab.research.google.com/assets/colab-badge.svg\" alt=\"Open In Colab\"/></a>"
      ]
    },
    {
      "cell_type": "code",
      "execution_count": null,
      "outputs": [
        {
          "name": "stdout",
          "output_type": "stream",
          "text": [
            "The call premium is 7.488929713435304\n",
            "The put premium is 7.976586701347657\n"
          ]
        }
      ],
      "source": [
        "import numpy as np\n",
        "from scipy.stats import norm\n",
        "\n",
        "# example parameters\n",
        "\n",
        "S = 50\n",
        "K = 50\n",
        "T = 1\n",
        "sigma = 0.4\n",
        "r = 0.02\n",
        "q = 0.03\n",
        "\n",
        "# preliminary calculations\n",
        "\n",
        "d1 = (np.log(S/K) + (r-q+0.5*sigma**2)*T) / (sigma*np.sqrt(T))\n",
        "d2 = d1 - sigma*np.sqrt(T)\n",
        "qT = np.exp(-q*T)\n",
        "rT = np.exp(-r*T)\n",
        "\n",
        "# Call premium\n",
        "N1 = norm.cdf(d1)\n",
        "N2 = norm.cdf(d2)\n",
        "C = qT * S * N1 - rT * S * N2\n",
        "# Put premium\n",
        "N1 = norm.cdf(-d1)\n",
        "N2 = norm.cdf(-d2)\n",
        "P = rT * K * N2 - qT * S * N1\n",
        "\n",
        "print('The call premium is', C)\n",
        "print('The put premium is', P)"
      ],
      "metadata": {
        "pycharm": {
          "name": "#%%\n"
        },
        "id": "fWEXmWMWLuKA",
        "outputId": "e06db0bd-d2c5-48bb-dd43-cf1d09c8c914"
      }
    },
    {
      "cell_type": "code",
      "source": [
        ""
      ],
      "metadata": {
        "id": "op_D-nZLLwUj"
      },
      "execution_count": null,
      "outputs": []
    },
    {
      "cell_type": "code",
      "execution_count": null,
      "outputs": [],
      "source": [
        ""
      ],
      "metadata": {
        "pycharm": {
          "name": "#%%\n"
        },
        "id": "wCB4ipiULuKC"
      }
    }
  ],
  "metadata": {
    "kernelspec": {
      "display_name": "Python 3",
      "language": "python",
      "name": "python3"
    },
    "language_info": {
      "codemirror_mode": {
        "name": "ipython",
        "version": 2
      },
      "file_extension": ".py",
      "mimetype": "text/x-python",
      "name": "python",
      "nbconvert_exporter": "python",
      "pygments_lexer": "ipython2",
      "version": "2.7.6"
    },
    "colab": {
      "name": "black_scholes_formula.ipynb",
      "provenance": [],
      "include_colab_link": true
    }
  },
  "nbformat": 4,
  "nbformat_minor": 0
}