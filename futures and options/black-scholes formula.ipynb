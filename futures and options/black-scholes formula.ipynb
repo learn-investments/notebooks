{
  "cells": [
    {
      "cell_type": "markdown",
      "metadata": {},
      "source": [
        "---\n",
        "\n",
        "Created for [learn-investments.rice-business.org](https://learn-investments.rice-business.org)\n",
        "    \n",
        "By [Kerry Back](https://kerryback.com) and [Kevin Crotty](https://kevincrotty.rice.edu/)\n",
        "    \n",
        "Jones Graduate School of Business, Rice University\n",
        "\n",
        "---\n"
      ]
    },
    {
      "cell_type": "markdown",
      "metadata": {},
      "source": [
        "# EXAMPLE DATA"
      ]
    },
    {
      "cell_type": "code",
      "execution_count": 1,
      "metadata": {},
      "outputs": [],
      "source": [
        "S = 50          # price of underlying\n",
        "K = 50          # strike price\n",
        "T = 1           # years to maturity\n",
        "sigma = 0.4     # volatility of underlying\n",
        "r = 0.02        # risk-free rate\n",
        "q = 0.03        # dividend yield"
      ]
    },
    {
      "cell_type": "markdown",
      "metadata": {},
      "source": [
        "# CALL CALCULATIONS"
      ]
    },
    {
      "cell_type": "code",
      "execution_count": 2,
      "metadata": {},
      "outputs": [
        {
          "data": {
            "text/html": [
              "<div>\n",
              "<style scoped>\n",
              "    .dataframe tbody tr th:only-of-type {\n",
              "        vertical-align: middle;\n",
              "    }\n",
              "\n",
              "    .dataframe tbody tr th {\n",
              "        vertical-align: top;\n",
              "    }\n",
              "\n",
              "    .dataframe thead th {\n",
              "        text-align: right;\n",
              "    }\n",
              "</style>\n",
              "<table border=\"1\" class=\"dataframe\">\n",
              "  <thead>\n",
              "    <tr style=\"text-align: right;\">\n",
              "      <th></th>\n",
              "      <th>values</th>\n",
              "    </tr>\n",
              "  </thead>\n",
              "  <tbody>\n",
              "    <tr>\n",
              "      <th>d1</th>\n",
              "      <td>0.1750</td>\n",
              "    </tr>\n",
              "    <tr>\n",
              "      <th>N(d1)</th>\n",
              "      <td>0.5695</td>\n",
              "    </tr>\n",
              "    <tr>\n",
              "      <th>d2</th>\n",
              "      <td>-0.2250</td>\n",
              "    </tr>\n",
              "    <tr>\n",
              "      <th>N(d2)</th>\n",
              "      <td>0.4110</td>\n",
              "    </tr>\n",
              "    <tr>\n",
              "      <th>exp(-qT)S</th>\n",
              "      <td>48.5223</td>\n",
              "    </tr>\n",
              "    <tr>\n",
              "      <th>exp(-rT)K</th>\n",
              "      <td>49.0099</td>\n",
              "    </tr>\n",
              "    <tr>\n",
              "      <th>exp(-qT)SN(d1)</th>\n",
              "      <td>27.6315</td>\n",
              "    </tr>\n",
              "    <tr>\n",
              "      <th>exp(-rT)KN(d2)</th>\n",
              "      <td>20.1426</td>\n",
              "    </tr>\n",
              "    <tr>\n",
              "      <th>call value</th>\n",
              "      <td>7.4889</td>\n",
              "    </tr>\n",
              "  </tbody>\n",
              "</table>\n",
              "</div>"
            ],
            "text/plain": [
              "                 values\n",
              "d1               0.1750\n",
              "N(d1)            0.5695\n",
              "d2              -0.2250\n",
              "N(d2)            0.4110\n",
              "exp(-qT)S       48.5223\n",
              "exp(-rT)K       49.0099\n",
              "exp(-qT)SN(d1)  27.6315\n",
              "exp(-rT)KN(d2)  20.1426\n",
              "call value       7.4889"
            ]
          },
          "execution_count": 2,
          "metadata": {},
          "output_type": "execute_result"
        }
      ],
      "source": [
        "import pandas as pd\n",
        "import numpy as np\n",
        "from scipy.stats import norm    \n",
        "\n",
        "indx = [\n",
        "    \"d1\",\n",
        "    \"N(d1)\",\n",
        "    \"d2\",\n",
        "    \"N(d2)\",\n",
        "    \"exp(-qT)S\",\n",
        "    \"exp(-rT)K\",\n",
        "    \"exp(-qT)SN(d1)\",\n",
        "    \"exp(-rT)KN(d2)\",\n",
        "    \"call value\",\n",
        "]\n",
        "tbl = pd.DataFrame(dtype=float, index=indx, columns=[\"values\"])\n",
        "d1 = (np.log(S / K) + (r - q + 0.5 * sigma ** 2) * T) / (sigma * np.sqrt(T))\n",
        "tbl.loc[\"d1\"] = d1\n",
        "tbl.loc[\"N(d1)\"] = norm.cdf(d1)\n",
        "d2 = d1 - sigma * np.sqrt(T)\n",
        "tbl.loc[\"d2\"] = d2\n",
        "tbl.loc[\"N(d2)\"] = norm.cdf(d2)\n",
        "tbl.loc[\"exp(-qT)S\"] = np.exp(-q * T) * S\n",
        "tbl.loc[\"exp(-rT)K\"] = np.exp(-r * T) * K\n",
        "tbl.loc[\"exp(-qT)SN(d1)\"] = np.exp(-q * T) * S * norm.cdf(d1)\n",
        "tbl.loc[\"exp(-rT)KN(d2)\"] = np.exp(-r * T) * K * norm.cdf(d2)\n",
        "tbl.loc[\"call value\"] = np.exp(-q * T) * S * norm.cdf(d1) - np.exp(\n",
        "    -r * T\n",
        ") * K * norm.cdf(d2)\n",
        "tbl = tbl.round(4)\n",
        "tbl"
      ]
    },
    {
      "cell_type": "markdown",
      "metadata": {},
      "source": [
        "# PUT CALCULATIONS"
      ]
    },
    {
      "cell_type": "code",
      "execution_count": 3,
      "metadata": {
        "id": "fWEXmWMWLuKA",
        "outputId": "e06db0bd-d2c5-48bb-dd43-cf1d09c8c914",
        "pycharm": {
          "name": "#%%\n"
        }
      },
      "outputs": [
        {
          "data": {
            "text/html": [
              "<div>\n",
              "<style scoped>\n",
              "    .dataframe tbody tr th:only-of-type {\n",
              "        vertical-align: middle;\n",
              "    }\n",
              "\n",
              "    .dataframe tbody tr th {\n",
              "        vertical-align: top;\n",
              "    }\n",
              "\n",
              "    .dataframe thead th {\n",
              "        text-align: right;\n",
              "    }\n",
              "</style>\n",
              "<table border=\"1\" class=\"dataframe\">\n",
              "  <thead>\n",
              "    <tr style=\"text-align: right;\">\n",
              "      <th></th>\n",
              "      <th>values</th>\n",
              "    </tr>\n",
              "  </thead>\n",
              "  <tbody>\n",
              "    <tr>\n",
              "      <th>d1</th>\n",
              "      <td>0.1750</td>\n",
              "    </tr>\n",
              "    <tr>\n",
              "      <th>N(-d1)</th>\n",
              "      <td>0.4305</td>\n",
              "    </tr>\n",
              "    <tr>\n",
              "      <th>d2</th>\n",
              "      <td>-0.2250</td>\n",
              "    </tr>\n",
              "    <tr>\n",
              "      <th>N(-d2)</th>\n",
              "      <td>0.5890</td>\n",
              "    </tr>\n",
              "    <tr>\n",
              "      <th>exp(-qT)S</th>\n",
              "      <td>48.5223</td>\n",
              "    </tr>\n",
              "    <tr>\n",
              "      <th>exp(-rT)K</th>\n",
              "      <td>49.0099</td>\n",
              "    </tr>\n",
              "    <tr>\n",
              "      <th>exp(-rT)KN(-d2)</th>\n",
              "      <td>28.8674</td>\n",
              "    </tr>\n",
              "    <tr>\n",
              "      <th>exp(-qT)SN(-d1)</th>\n",
              "      <td>20.8908</td>\n",
              "    </tr>\n",
              "    <tr>\n",
              "      <th>put value</th>\n",
              "      <td>7.9766</td>\n",
              "    </tr>\n",
              "  </tbody>\n",
              "</table>\n",
              "</div>"
            ],
            "text/plain": [
              "                  values\n",
              "d1                0.1750\n",
              "N(-d1)            0.4305\n",
              "d2               -0.2250\n",
              "N(-d2)            0.5890\n",
              "exp(-qT)S        48.5223\n",
              "exp(-rT)K        49.0099\n",
              "exp(-rT)KN(-d2)  28.8674\n",
              "exp(-qT)SN(-d1)  20.8908\n",
              "put value         7.9766"
            ]
          },
          "execution_count": 3,
          "metadata": {},
          "output_type": "execute_result"
        }
      ],
      "source": [
        "indx = [\n",
        "    \"d1\",\n",
        "    \"N(-d1)\",\n",
        "    \"d2\",\n",
        "    \"N(-d2)\",\n",
        "    \"exp(-qT)S\",\n",
        "    \"exp(-rT)K\",\n",
        "    \"exp(-rT)KN(-d2)\",\n",
        "    \"exp(-qT)SN(-d1)\",\n",
        "    \"put value\",\n",
        "]\n",
        "tbl = pd.DataFrame(dtype=float, index=indx, columns=[\"values\"])\n",
        "d1 = (np.log(S / K) + (r - q + 0.5 * sigma ** 2) * T) / (sigma * np.sqrt(T))\n",
        "tbl.loc[\"d1\"] = d1\n",
        "tbl.loc[\"N(-d1)\"] = norm.cdf(-d1)\n",
        "d2 = d1 - sigma * np.sqrt(T)\n",
        "tbl.loc[\"d2\"] = d2\n",
        "tbl.loc[\"N(-d2)\"] = norm.cdf(-d2)\n",
        "tbl.loc[\"exp(-qT)S\"] = np.exp(-q * T) * S\n",
        "tbl.loc[\"exp(-rT)K\"] = np.exp(-r * T) * K\n",
        "tbl.loc[\"exp(-qT)SN(-d1)\"] = np.exp(-q * T) * S * norm.cdf(-d1)\n",
        "tbl.loc[\"exp(-rT)KN(-d2)\"] = np.exp(-r * T) * K * norm.cdf(-d2)\n",
        "tbl.loc[\"put value\"] = np.exp(-r * T) * K * norm.cdf(-d2) - np.exp(\n",
        "    -q * T\n",
        ") * S * norm.cdf(-d1)\n",
        "tbl = tbl.round(4)\n",
        "tbl"
      ]
    },
    {
      "cell_type": "code",
      "execution_count": null,
      "metadata": {
        "id": "wCB4ipiULuKC",
        "pycharm": {
          "name": "#%%\n"
        }
      },
      "outputs": [],
      "source": []
    }
  ],
  "metadata": {
    "colab": {
      "include_colab_link": true,
      "name": "black_scholes_formula.ipynb",
      "provenance": []
    },
    "kernelspec": {
      "display_name": "Python 3",
      "language": "python",
      "name": "python3"
    },
    "language_info": {
      "codemirror_mode": {
        "name": "ipython",
        "version": 3
      },
      "file_extension": ".py",
      "mimetype": "text/x-python",
      "name": "python",
      "nbconvert_exporter": "python",
      "pygments_lexer": "ipython3",
      "version": "3.10.6"
    }
  },
  "nbformat": 4,
  "nbformat_minor": 0
}
