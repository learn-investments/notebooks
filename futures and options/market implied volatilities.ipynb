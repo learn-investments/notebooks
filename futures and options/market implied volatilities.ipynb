{
  "cells": [
    {
      "cell_type": "markdown",
      "metadata": {
        "id": "view-in-github",
        "colab_type": "text"
      },
      "source": [
        "<a href=\"https://colab.research.google.com/github/bbcx-investments/notebooks/blob/main/options/market_implied_vols.ipynb\" target=\"_parent\"><img src=\"https://colab.research.google.com/assets/colab-badge.svg\" alt=\"Open In Colab\"/></a>"
      ]
    },
    {
      "cell_type": "code",
      "execution_count": null,
      "outputs": [
        {
          "data": {
            "text/plain": "('2022-08-19',\n '2022-08-26',\n '2022-09-02',\n '2022-09-09',\n '2022-09-16',\n '2022-09-23',\n '2022-09-30',\n '2022-10-21',\n '2022-11-18',\n '2022-12-16',\n '2023-01-20',\n '2023-03-17',\n '2023-04-21',\n '2023-06-16',\n '2023-09-15',\n '2024-01-19',\n '2024-03-15',\n '2024-06-21')"
          },
          "execution_count": 3,
          "metadata": {},
          "output_type": "execute_result"
        }
      ],
      "source": [
        "import yfinance as yf\n",
        "\n",
        "# example stock\n",
        "ticker = 'TSLA'\n",
        "tick = yf.Ticker(ticker)\n",
        "\n",
        "# all maturities of the trading options\n",
        "tick.options"
      ],
      "metadata": {
        "pycharm": {
          "name": "#%%\n"
        },
        "id": "vQA0nTCVdx7q",
        "outputId": "79745abe-68a7-41f2-ab49-7eee4caca3c8"
      }
    },
    {
      "cell_type": "code",
      "execution_count": null,
      "outputs": [
        {
          "data": {
            "text/plain": "        contractSymbol             lastTradeDate  strike  lastPrice     bid  \\\n0  TSLA220819C00050000 2022-08-15 16:53:57+00:00    50.0     885.95  876.80   \n1  TSLA220819C00100000 2022-08-15 17:39:56+00:00   100.0     831.15  826.85   \n2  TSLA220819C00150000 2022-08-15 15:41:14+00:00   150.0     773.30  776.90   \n3  TSLA220819C00200000 2022-08-15 17:39:56+00:00   200.0     731.20  726.90   \n4  TSLA220819C00250000 2022-08-15 19:01:55+00:00   250.0     682.81  677.25   \n\n      ask     change  percentChange  volume  openInterest  impliedVolatility  \\\n0  879.00  64.669980       7.874291      30            31          11.156253   \n1  828.00  33.790040       4.237740      17            75           5.968753   \n2  778.20  59.149963       8.282568       7            18           5.734378   \n3  728.25  25.049988       3.547403      13            15           4.929691   \n4  678.05  57.909973       9.267077      22            52           3.777344   \n\n   inTheMoney contractSize currency  \n0        True      REGULAR      USD  \n1        True      REGULAR      USD  \n2        True      REGULAR      USD  \n3        True      REGULAR      USD  \n4        True      REGULAR      USD  ",
            "text/html": "<div>\n<style scoped>\n    .dataframe tbody tr th:only-of-type {\n        vertical-align: middle;\n    }\n\n    .dataframe tbody tr th {\n        vertical-align: top;\n    }\n\n    .dataframe thead th {\n        text-align: right;\n    }\n</style>\n<table border=\"1\" class=\"dataframe\">\n  <thead>\n    <tr style=\"text-align: right;\">\n      <th></th>\n      <th>contractSymbol</th>\n      <th>lastTradeDate</th>\n      <th>strike</th>\n      <th>lastPrice</th>\n      <th>bid</th>\n      <th>ask</th>\n      <th>change</th>\n      <th>percentChange</th>\n      <th>volume</th>\n      <th>openInterest</th>\n      <th>impliedVolatility</th>\n      <th>inTheMoney</th>\n      <th>contractSize</th>\n      <th>currency</th>\n    </tr>\n  </thead>\n  <tbody>\n    <tr>\n      <th>0</th>\n      <td>TSLA220819C00050000</td>\n      <td>2022-08-15 16:53:57+00:00</td>\n      <td>50.0</td>\n      <td>885.95</td>\n      <td>876.80</td>\n      <td>879.00</td>\n      <td>64.669980</td>\n      <td>7.874291</td>\n      <td>30</td>\n      <td>31</td>\n      <td>11.156253</td>\n      <td>True</td>\n      <td>REGULAR</td>\n      <td>USD</td>\n    </tr>\n    <tr>\n      <th>1</th>\n      <td>TSLA220819C00100000</td>\n      <td>2022-08-15 17:39:56+00:00</td>\n      <td>100.0</td>\n      <td>831.15</td>\n      <td>826.85</td>\n      <td>828.00</td>\n      <td>33.790040</td>\n      <td>4.237740</td>\n      <td>17</td>\n      <td>75</td>\n      <td>5.968753</td>\n      <td>True</td>\n      <td>REGULAR</td>\n      <td>USD</td>\n    </tr>\n    <tr>\n      <th>2</th>\n      <td>TSLA220819C00150000</td>\n      <td>2022-08-15 15:41:14+00:00</td>\n      <td>150.0</td>\n      <td>773.30</td>\n      <td>776.90</td>\n      <td>778.20</td>\n      <td>59.149963</td>\n      <td>8.282568</td>\n      <td>7</td>\n      <td>18</td>\n      <td>5.734378</td>\n      <td>True</td>\n      <td>REGULAR</td>\n      <td>USD</td>\n    </tr>\n    <tr>\n      <th>3</th>\n      <td>TSLA220819C00200000</td>\n      <td>2022-08-15 17:39:56+00:00</td>\n      <td>200.0</td>\n      <td>731.20</td>\n      <td>726.90</td>\n      <td>728.25</td>\n      <td>25.049988</td>\n      <td>3.547403</td>\n      <td>13</td>\n      <td>15</td>\n      <td>4.929691</td>\n      <td>True</td>\n      <td>REGULAR</td>\n      <td>USD</td>\n    </tr>\n    <tr>\n      <th>4</th>\n      <td>TSLA220819C00250000</td>\n      <td>2022-08-15 19:01:55+00:00</td>\n      <td>250.0</td>\n      <td>682.81</td>\n      <td>677.25</td>\n      <td>678.05</td>\n      <td>57.909973</td>\n      <td>9.267077</td>\n      <td>22</td>\n      <td>52</td>\n      <td>3.777344</td>\n      <td>True</td>\n      <td>REGULAR</td>\n      <td>USD</td>\n    </tr>\n  </tbody>\n</table>\n</div>"
          },
          "execution_count": 7,
          "metadata": {},
          "output_type": "execute_result"
        }
      ],
      "source": [
        "# use the closest options as examples\n",
        "maturity = tick.options[0]\n",
        "calls = tick.option_chain(maturity).calls\n",
        "puts = tick.option_chain(maturity).puts\n",
        "calls.head()"
      ],
      "metadata": {
        "pycharm": {
          "name": "#%%\n"
        },
        "id": "FZLmEUIkdx7t",
        "outputId": "7f1bf0d4-2e4b-4452-903e-50ce88cc2d57"
      }
    },
    {
      "cell_type": "code",
      "execution_count": null,
      "outputs": [
        {
          "data": {
            "text/plain": "     strike  impliedVolatility\n132  1000.0           0.559209",
            "text/html": "<div>\n<style scoped>\n    .dataframe tbody tr th:only-of-type {\n        vertical-align: middle;\n    }\n\n    .dataframe tbody tr th {\n        vertical-align: top;\n    }\n\n    .dataframe thead th {\n        text-align: right;\n    }\n</style>\n<table border=\"1\" class=\"dataframe\">\n  <thead>\n    <tr style=\"text-align: right;\">\n      <th></th>\n      <th>strike</th>\n      <th>impliedVolatility</th>\n    </tr>\n  </thead>\n  <tbody>\n    <tr>\n      <th>132</th>\n      <td>1000.0</td>\n      <td>0.559209</td>\n    </tr>\n  </tbody>\n</table>\n</div>"
          },
          "execution_count": 10,
          "metadata": {},
          "output_type": "execute_result"
        }
      ],
      "source": [
        "# the implied volatility of the Tesla call option with strike $1000\n",
        "calls[calls['strike'] == 1000][['strike', 'impliedVolatility']]"
      ],
      "metadata": {
        "pycharm": {
          "name": "#%%\n"
        },
        "id": "xwEmZ2GJdx7u",
        "outputId": "adc7ff95-fa83-4c91-b998-d87efaeabe8a"
      }
    },
    {
      "cell_type": "code",
      "execution_count": null,
      "outputs": [],
      "source": [
        ""
      ],
      "metadata": {
        "pycharm": {
          "name": "#%%\n"
        },
        "id": "f4TPHr6pdx7u"
      }
    }
  ],
  "metadata": {
    "kernelspec": {
      "display_name": "Python 3",
      "language": "python",
      "name": "python3"
    },
    "language_info": {
      "codemirror_mode": {
        "name": "ipython",
        "version": 2
      },
      "file_extension": ".py",
      "mimetype": "text/x-python",
      "name": "python",
      "nbconvert_exporter": "python",
      "pygments_lexer": "ipython2",
      "version": "2.7.6"
    },
    "colab": {
      "name": "market_implied_vols.ipynb",
      "provenance": [],
      "include_colab_link": true
    }
  },
  "nbformat": 4,
  "nbformat_minor": 0
}