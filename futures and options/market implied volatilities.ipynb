{
  "cells": [
    {
      "cell_type": "markdown",
      "metadata": {},
      "source": [
        "---\n",
        "\n",
        "Created for [learn-investments.rice-business.org](https://learn-investments.rice-business.org)\n",
        "    \n",
        "By [Kerry Back](https://kerryback.com) and [Kevin Crotty](https://kevincrotty.rice.edu/)\n",
        "    \n",
        "Jones Graduate School of Business, Rice University\n",
        "\n",
        "---\n"
      ]
    },
    {
      "cell_type": "markdown",
      "metadata": {},
      "source": [
        "# EXAMPLE DATA"
      ]
    },
    {
      "cell_type": "code",
      "execution_count": 1,
      "metadata": {},
      "outputs": [],
      "source": [
        "ticker = 'TSLA'\n",
        "\n",
        "maturity = None          # enter none to get the next maturity\n",
        "# maturity = '2023-12-15'    # or enter a specific maturity date"
      ]
    },
    {
      "cell_type": "markdown",
      "metadata": {},
      "source": [
        "# GET DATA"
      ]
    },
    {
      "cell_type": "code",
      "execution_count": 2,
      "metadata": {},
      "outputs": [
        {
          "name": "stdout",
          "output_type": "stream",
          "text": [
            "Last TSLA price was $257.00.\n"
          ]
        }
      ],
      "source": [
        "import yfinance as yf\n",
        "from datetime import timedelta\n",
        "\n",
        "ticker = ticker.upper()\n",
        "tick = yf.Ticker(ticker)\n",
        "\n",
        "# Use next maturity if none specified above\n",
        "if maturity == None:\n",
        "    maturity = tick.options[0]\n",
        "\n",
        "# Pull options data\n",
        "calls = tick.option_chain(maturity).calls\n",
        "puts = tick.option_chain(maturity).puts\n",
        "\n",
        "now = max(calls.lastTradeDate.max(), puts.lastTradeDate.max())\n",
        "calls = calls[calls.lastTradeDate >= now - timedelta(hours=24)]\n",
        "puts = puts[puts.lastTradeDate >= now - timedelta(hours=24)]\n",
        "\n",
        "# Pull last stock price\n",
        "close = tick.history().iloc[-1].Close\n",
        "print(f\"Last {ticker.upper()} price was ${close:.2f}.\")\n"
      ]
    },
    {
      "cell_type": "markdown",
      "metadata": {},
      "source": [
        "# FIGURE"
      ]
    },
    {
      "cell_type": "code",
      "execution_count": 3,
      "metadata": {
        "id": "FZLmEUIkdx7t",
        "outputId": "7f1bf0d4-2e4b-4452-903e-50ce88cc2d57",
        "pycharm": {
          "name": "#%%\n"
        }
      },
      "outputs": [
        {
          "data": {
            "application/vnd.plotly.v1+json": {
              "config": {
                "plotlyServerURL": "https://plot.ly"
              },
              "data": [
                {
                  "hovertemplate": "call implied vol = %{y:.1%}<extra></extra>",
                  "mode": "lines+markers",
                  "name": "Call",
                  "type": "scatter",
                  "x": [
                    20,
                    120,
                    125,
                    140,
                    145,
                    150,
                    165,
                    170,
                    175,
                    180,
                    190,
                    195,
                    200,
                    202.5,
                    205,
                    207.5,
                    210,
                    212.5,
                    215,
                    217.5,
                    220,
                    222.5,
                    225,
                    227.5,
                    230,
                    232.5,
                    235,
                    237.5,
                    240,
                    242.5,
                    245,
                    247.5,
                    250,
                    252.5,
                    255,
                    257.5,
                    260,
                    262.5,
                    265,
                    267.5,
                    270,
                    272.5,
                    275,
                    277.5,
                    280,
                    282.5,
                    285,
                    287.5,
                    290,
                    292.5,
                    295,
                    297.5,
                    300,
                    302.5,
                    305,
                    307.5,
                    310,
                    312.5,
                    315,
                    317.5,
                    320,
                    322.5,
                    325,
                    327.5,
                    330,
                    332.5,
                    335,
                    340,
                    345,
                    385,
                    395,
                    455,
                    480,
                    490,
                    500
                  ],
                  "y": [
                    14.851563217773437,
                    4.1328173339843755,
                    3.9003908740234374,
                    3.3710953222656244,
                    3.058596103515625,
                    2.8359404101562498,
                    2.593753515625,
                    2.6406283984375003,
                    2.1523483691406247,
                    2.075200124511718,
                    2.172856130371094,
                    1.669923525390625,
                    1.8701178369140625,
                    1.5693380908203123,
                    1.712892060546875,
                    1.712892060546875,
                    1.6601579492187502,
                    1.5029321728515623,
                    1.4677760986328123,
                    1.421877890625,
                    1.2939488427734374,
                    1.2221718579101561,
                    1.1630901220703125,
                    1.0844772338867186,
                    1.0004932788085936,
                    0.945313046875,
                    0.8774426318359375,
                    0.8378922460937499,
                    0.7568383691406251,
                    0.6877472631835939,
                    0.6550327465820314,
                    0.6120644262695314,
                    0.5815471533203125,
                    0.5485884985351563,
                    0.5240526110839843,
                    0.5036670727539063,
                    0.4929249926757813,
                    0.47241738525390625,
                    0.45898978515625005,
                    0.45215391601562505,
                    0.446294599609375,
                    0.4458063232421875,
                    0.45117736328125,
                    0.45898978515625005,
                    0.46680220703125,
                    0.48828636718750007,
                    0.5039112109375,
                    0.51562984375,
                    0.5312546875,
                    0.5312546875,
                    0.5625043750000001,
                    0.5937540625000001,
                    0.6250037500000001,
                    0.6562534375000001,
                    0.6875031250000001,
                    0.710940390625,
                    0.6718782812500002,
                    0.6875031250000001,
                    0.7187528125,
                    0.7500025,
                    0.7812521875,
                    0.79687703125,
                    0.8125018749999999,
                    0.8437515624999999,
                    0.87500125,
                    0.9062509375,
                    0.9062509375,
                    0.9687503125,
                    1.000005,
                    1.3437532812499997,
                    1.4375028125,
                    1.875000625,
                    2.000005,
                    2.0625048437499998,
                    2.1250046874999997
                  ]
                },
                {
                  "hovertemplate": "put implied vol = %{y:.1%}<extra></extra>",
                  "mode": "lines+markers",
                  "name": "Put",
                  "type": "scatter",
                  "x": [
                    60,
                    115,
                    150,
                    160,
                    165,
                    170,
                    175,
                    180,
                    182.5,
                    185,
                    187.5,
                    190,
                    192.5,
                    195,
                    197.5,
                    200,
                    202.5,
                    205,
                    207.5,
                    210,
                    212.5,
                    215,
                    217.5,
                    220,
                    222.5,
                    225,
                    227.5,
                    230,
                    232.5,
                    235,
                    237.5,
                    240,
                    242.5,
                    245,
                    247.5,
                    250,
                    252.5,
                    255,
                    257.5,
                    260,
                    262.5,
                    265,
                    267.5,
                    270,
                    272.5,
                    275,
                    277.5,
                    280,
                    282.5,
                    285,
                    287.5,
                    290,
                    292.5,
                    300,
                    320,
                    375
                  ],
                  "y": [
                    4.7500040624999995,
                    2.68750328125,
                    1.8125009374999999,
                    1.625001875,
                    1.5000025,
                    1.4375028125,
                    1.3125034374999998,
                    1.2500037499999999,
                    1.1875040625,
                    1.15625421875,
                    1.09375453125,
                    1.0625046875000002,
                    1.0312548437500002,
                    0.9687503125,
                    0.937500625,
                    0.9062509375,
                    0.937500625,
                    0.8906260937499999,
                    0.851563984375,
                    0.851563984375,
                    0.804689453125,
                    0.7617211328125001,
                    0.7187528125,
                    0.6992217578125001,
                    0.6757844921875001,
                    0.6445348046875,
                    0.6113320117187502,
                    0.5742230078125,
                    0.55273884765625,
                    0.524418818359375,
                    0.5048877636718749,
                    0.48438015625,
                    0.46631393066406257,
                    0.44824770507812495,
                    0.436529072265625,
                    0.42407802490234375,
                    0.4116269775390625,
                    0.39893179199218753,
                    0.38635867553710934,
                    0.3627993408203125,
                    0.3305731005859375,
                    0.27637442382812494,
                    0.000010000000000000003,
                    0.000010000000000000003,
                    0.000010000000000000003,
                    0.000010000000000000003,
                    0.000010000000000000003,
                    0.000010000000000000003,
                    0.000010000000000000003,
                    0.000010000000000000003,
                    0.737307314453125,
                    0.632816171875,
                    0.8027363476562499,
                    0.8984385156249999,
                    1.6484392578125,
                    2.540042712402343
                  ]
                }
              ],
              "layout": {
                "hovermode": "x unified",
                "legend": {
                  "x": 0.45,
                  "xanchor": "left",
                  "y": 0.99,
                  "yanchor": "top"
                },
                "template": {
                  "data": {
                    "bar": [
                      {
                        "error_x": {
                          "color": "#2a3f5f"
                        },
                        "error_y": {
                          "color": "#2a3f5f"
                        },
                        "marker": {
                          "line": {
                            "color": "#E5ECF6",
                            "width": 0.5
                          },
                          "pattern": {
                            "fillmode": "overlay",
                            "size": 10,
                            "solidity": 0.2
                          }
                        },
                        "type": "bar"
                      }
                    ],
                    "barpolar": [
                      {
                        "marker": {
                          "line": {
                            "color": "#E5ECF6",
                            "width": 0.5
                          },
                          "pattern": {
                            "fillmode": "overlay",
                            "size": 10,
                            "solidity": 0.2
                          }
                        },
                        "type": "barpolar"
                      }
                    ],
                    "carpet": [
                      {
                        "aaxis": {
                          "endlinecolor": "#2a3f5f",
                          "gridcolor": "white",
                          "linecolor": "white",
                          "minorgridcolor": "white",
                          "startlinecolor": "#2a3f5f"
                        },
                        "baxis": {
                          "endlinecolor": "#2a3f5f",
                          "gridcolor": "white",
                          "linecolor": "white",
                          "minorgridcolor": "white",
                          "startlinecolor": "#2a3f5f"
                        },
                        "type": "carpet"
                      }
                    ],
                    "choropleth": [
                      {
                        "colorbar": {
                          "outlinewidth": 0,
                          "ticks": ""
                        },
                        "type": "choropleth"
                      }
                    ],
                    "contour": [
                      {
                        "colorbar": {
                          "outlinewidth": 0,
                          "ticks": ""
                        },
                        "colorscale": [
                          [
                            0,
                            "#0d0887"
                          ],
                          [
                            0.1111111111111111,
                            "#46039f"
                          ],
                          [
                            0.2222222222222222,
                            "#7201a8"
                          ],
                          [
                            0.3333333333333333,
                            "#9c179e"
                          ],
                          [
                            0.4444444444444444,
                            "#bd3786"
                          ],
                          [
                            0.5555555555555556,
                            "#d8576b"
                          ],
                          [
                            0.6666666666666666,
                            "#ed7953"
                          ],
                          [
                            0.7777777777777778,
                            "#fb9f3a"
                          ],
                          [
                            0.8888888888888888,
                            "#fdca26"
                          ],
                          [
                            1,
                            "#f0f921"
                          ]
                        ],
                        "type": "contour"
                      }
                    ],
                    "contourcarpet": [
                      {
                        "colorbar": {
                          "outlinewidth": 0,
                          "ticks": ""
                        },
                        "type": "contourcarpet"
                      }
                    ],
                    "heatmap": [
                      {
                        "colorbar": {
                          "outlinewidth": 0,
                          "ticks": ""
                        },
                        "colorscale": [
                          [
                            0,
                            "#0d0887"
                          ],
                          [
                            0.1111111111111111,
                            "#46039f"
                          ],
                          [
                            0.2222222222222222,
                            "#7201a8"
                          ],
                          [
                            0.3333333333333333,
                            "#9c179e"
                          ],
                          [
                            0.4444444444444444,
                            "#bd3786"
                          ],
                          [
                            0.5555555555555556,
                            "#d8576b"
                          ],
                          [
                            0.6666666666666666,
                            "#ed7953"
                          ],
                          [
                            0.7777777777777778,
                            "#fb9f3a"
                          ],
                          [
                            0.8888888888888888,
                            "#fdca26"
                          ],
                          [
                            1,
                            "#f0f921"
                          ]
                        ],
                        "type": "heatmap"
                      }
                    ],
                    "heatmapgl": [
                      {
                        "colorbar": {
                          "outlinewidth": 0,
                          "ticks": ""
                        },
                        "colorscale": [
                          [
                            0,
                            "#0d0887"
                          ],
                          [
                            0.1111111111111111,
                            "#46039f"
                          ],
                          [
                            0.2222222222222222,
                            "#7201a8"
                          ],
                          [
                            0.3333333333333333,
                            "#9c179e"
                          ],
                          [
                            0.4444444444444444,
                            "#bd3786"
                          ],
                          [
                            0.5555555555555556,
                            "#d8576b"
                          ],
                          [
                            0.6666666666666666,
                            "#ed7953"
                          ],
                          [
                            0.7777777777777778,
                            "#fb9f3a"
                          ],
                          [
                            0.8888888888888888,
                            "#fdca26"
                          ],
                          [
                            1,
                            "#f0f921"
                          ]
                        ],
                        "type": "heatmapgl"
                      }
                    ],
                    "histogram": [
                      {
                        "marker": {
                          "pattern": {
                            "fillmode": "overlay",
                            "size": 10,
                            "solidity": 0.2
                          }
                        },
                        "type": "histogram"
                      }
                    ],
                    "histogram2d": [
                      {
                        "colorbar": {
                          "outlinewidth": 0,
                          "ticks": ""
                        },
                        "colorscale": [
                          [
                            0,
                            "#0d0887"
                          ],
                          [
                            0.1111111111111111,
                            "#46039f"
                          ],
                          [
                            0.2222222222222222,
                            "#7201a8"
                          ],
                          [
                            0.3333333333333333,
                            "#9c179e"
                          ],
                          [
                            0.4444444444444444,
                            "#bd3786"
                          ],
                          [
                            0.5555555555555556,
                            "#d8576b"
                          ],
                          [
                            0.6666666666666666,
                            "#ed7953"
                          ],
                          [
                            0.7777777777777778,
                            "#fb9f3a"
                          ],
                          [
                            0.8888888888888888,
                            "#fdca26"
                          ],
                          [
                            1,
                            "#f0f921"
                          ]
                        ],
                        "type": "histogram2d"
                      }
                    ],
                    "histogram2dcontour": [
                      {
                        "colorbar": {
                          "outlinewidth": 0,
                          "ticks": ""
                        },
                        "colorscale": [
                          [
                            0,
                            "#0d0887"
                          ],
                          [
                            0.1111111111111111,
                            "#46039f"
                          ],
                          [
                            0.2222222222222222,
                            "#7201a8"
                          ],
                          [
                            0.3333333333333333,
                            "#9c179e"
                          ],
                          [
                            0.4444444444444444,
                            "#bd3786"
                          ],
                          [
                            0.5555555555555556,
                            "#d8576b"
                          ],
                          [
                            0.6666666666666666,
                            "#ed7953"
                          ],
                          [
                            0.7777777777777778,
                            "#fb9f3a"
                          ],
                          [
                            0.8888888888888888,
                            "#fdca26"
                          ],
                          [
                            1,
                            "#f0f921"
                          ]
                        ],
                        "type": "histogram2dcontour"
                      }
                    ],
                    "mesh3d": [
                      {
                        "colorbar": {
                          "outlinewidth": 0,
                          "ticks": ""
                        },
                        "type": "mesh3d"
                      }
                    ],
                    "parcoords": [
                      {
                        "line": {
                          "colorbar": {
                            "outlinewidth": 0,
                            "ticks": ""
                          }
                        },
                        "type": "parcoords"
                      }
                    ],
                    "pie": [
                      {
                        "automargin": true,
                        "type": "pie"
                      }
                    ],
                    "scatter": [
                      {
                        "fillpattern": {
                          "fillmode": "overlay",
                          "size": 10,
                          "solidity": 0.2
                        },
                        "type": "scatter"
                      }
                    ],
                    "scatter3d": [
                      {
                        "line": {
                          "colorbar": {
                            "outlinewidth": 0,
                            "ticks": ""
                          }
                        },
                        "marker": {
                          "colorbar": {
                            "outlinewidth": 0,
                            "ticks": ""
                          }
                        },
                        "type": "scatter3d"
                      }
                    ],
                    "scattercarpet": [
                      {
                        "marker": {
                          "colorbar": {
                            "outlinewidth": 0,
                            "ticks": ""
                          }
                        },
                        "type": "scattercarpet"
                      }
                    ],
                    "scattergeo": [
                      {
                        "marker": {
                          "colorbar": {
                            "outlinewidth": 0,
                            "ticks": ""
                          }
                        },
                        "type": "scattergeo"
                      }
                    ],
                    "scattergl": [
                      {
                        "marker": {
                          "colorbar": {
                            "outlinewidth": 0,
                            "ticks": ""
                          }
                        },
                        "type": "scattergl"
                      }
                    ],
                    "scattermapbox": [
                      {
                        "marker": {
                          "colorbar": {
                            "outlinewidth": 0,
                            "ticks": ""
                          }
                        },
                        "type": "scattermapbox"
                      }
                    ],
                    "scatterpolar": [
                      {
                        "marker": {
                          "colorbar": {
                            "outlinewidth": 0,
                            "ticks": ""
                          }
                        },
                        "type": "scatterpolar"
                      }
                    ],
                    "scatterpolargl": [
                      {
                        "marker": {
                          "colorbar": {
                            "outlinewidth": 0,
                            "ticks": ""
                          }
                        },
                        "type": "scatterpolargl"
                      }
                    ],
                    "scatterternary": [
                      {
                        "marker": {
                          "colorbar": {
                            "outlinewidth": 0,
                            "ticks": ""
                          }
                        },
                        "type": "scatterternary"
                      }
                    ],
                    "surface": [
                      {
                        "colorbar": {
                          "outlinewidth": 0,
                          "ticks": ""
                        },
                        "colorscale": [
                          [
                            0,
                            "#0d0887"
                          ],
                          [
                            0.1111111111111111,
                            "#46039f"
                          ],
                          [
                            0.2222222222222222,
                            "#7201a8"
                          ],
                          [
                            0.3333333333333333,
                            "#9c179e"
                          ],
                          [
                            0.4444444444444444,
                            "#bd3786"
                          ],
                          [
                            0.5555555555555556,
                            "#d8576b"
                          ],
                          [
                            0.6666666666666666,
                            "#ed7953"
                          ],
                          [
                            0.7777777777777778,
                            "#fb9f3a"
                          ],
                          [
                            0.8888888888888888,
                            "#fdca26"
                          ],
                          [
                            1,
                            "#f0f921"
                          ]
                        ],
                        "type": "surface"
                      }
                    ],
                    "table": [
                      {
                        "cells": {
                          "fill": {
                            "color": "#EBF0F8"
                          },
                          "line": {
                            "color": "white"
                          }
                        },
                        "header": {
                          "fill": {
                            "color": "#C8D4E3"
                          },
                          "line": {
                            "color": "white"
                          }
                        },
                        "type": "table"
                      }
                    ]
                  },
                  "layout": {
                    "annotationdefaults": {
                      "arrowcolor": "#2a3f5f",
                      "arrowhead": 0,
                      "arrowwidth": 1
                    },
                    "autotypenumbers": "strict",
                    "coloraxis": {
                      "colorbar": {
                        "outlinewidth": 0,
                        "ticks": ""
                      }
                    },
                    "colorscale": {
                      "diverging": [
                        [
                          0,
                          "#8e0152"
                        ],
                        [
                          0.1,
                          "#c51b7d"
                        ],
                        [
                          0.2,
                          "#de77ae"
                        ],
                        [
                          0.3,
                          "#f1b6da"
                        ],
                        [
                          0.4,
                          "#fde0ef"
                        ],
                        [
                          0.5,
                          "#f7f7f7"
                        ],
                        [
                          0.6,
                          "#e6f5d0"
                        ],
                        [
                          0.7,
                          "#b8e186"
                        ],
                        [
                          0.8,
                          "#7fbc41"
                        ],
                        [
                          0.9,
                          "#4d9221"
                        ],
                        [
                          1,
                          "#276419"
                        ]
                      ],
                      "sequential": [
                        [
                          0,
                          "#0d0887"
                        ],
                        [
                          0.1111111111111111,
                          "#46039f"
                        ],
                        [
                          0.2222222222222222,
                          "#7201a8"
                        ],
                        [
                          0.3333333333333333,
                          "#9c179e"
                        ],
                        [
                          0.4444444444444444,
                          "#bd3786"
                        ],
                        [
                          0.5555555555555556,
                          "#d8576b"
                        ],
                        [
                          0.6666666666666666,
                          "#ed7953"
                        ],
                        [
                          0.7777777777777778,
                          "#fb9f3a"
                        ],
                        [
                          0.8888888888888888,
                          "#fdca26"
                        ],
                        [
                          1,
                          "#f0f921"
                        ]
                      ],
                      "sequentialminus": [
                        [
                          0,
                          "#0d0887"
                        ],
                        [
                          0.1111111111111111,
                          "#46039f"
                        ],
                        [
                          0.2222222222222222,
                          "#7201a8"
                        ],
                        [
                          0.3333333333333333,
                          "#9c179e"
                        ],
                        [
                          0.4444444444444444,
                          "#bd3786"
                        ],
                        [
                          0.5555555555555556,
                          "#d8576b"
                        ],
                        [
                          0.6666666666666666,
                          "#ed7953"
                        ],
                        [
                          0.7777777777777778,
                          "#fb9f3a"
                        ],
                        [
                          0.8888888888888888,
                          "#fdca26"
                        ],
                        [
                          1,
                          "#f0f921"
                        ]
                      ]
                    },
                    "colorway": [
                      "#636efa",
                      "#EF553B",
                      "#00cc96",
                      "#ab63fa",
                      "#FFA15A",
                      "#19d3f3",
                      "#FF6692",
                      "#B6E880",
                      "#FF97FF",
                      "#FECB52"
                    ],
                    "font": {
                      "color": "#2a3f5f"
                    },
                    "geo": {
                      "bgcolor": "white",
                      "lakecolor": "white",
                      "landcolor": "#E5ECF6",
                      "showlakes": true,
                      "showland": true,
                      "subunitcolor": "white"
                    },
                    "hoverlabel": {
                      "align": "left"
                    },
                    "hovermode": "closest",
                    "mapbox": {
                      "style": "light"
                    },
                    "paper_bgcolor": "white",
                    "plot_bgcolor": "#E5ECF6",
                    "polar": {
                      "angularaxis": {
                        "gridcolor": "white",
                        "linecolor": "white",
                        "ticks": ""
                      },
                      "bgcolor": "#E5ECF6",
                      "radialaxis": {
                        "gridcolor": "white",
                        "linecolor": "white",
                        "ticks": ""
                      }
                    },
                    "scene": {
                      "xaxis": {
                        "backgroundcolor": "#E5ECF6",
                        "gridcolor": "white",
                        "gridwidth": 2,
                        "linecolor": "white",
                        "showbackground": true,
                        "ticks": "",
                        "zerolinecolor": "white"
                      },
                      "yaxis": {
                        "backgroundcolor": "#E5ECF6",
                        "gridcolor": "white",
                        "gridwidth": 2,
                        "linecolor": "white",
                        "showbackground": true,
                        "ticks": "",
                        "zerolinecolor": "white"
                      },
                      "zaxis": {
                        "backgroundcolor": "#E5ECF6",
                        "gridcolor": "white",
                        "gridwidth": 2,
                        "linecolor": "white",
                        "showbackground": true,
                        "ticks": "",
                        "zerolinecolor": "white"
                      }
                    },
                    "shapedefaults": {
                      "line": {
                        "color": "#2a3f5f"
                      }
                    },
                    "ternary": {
                      "aaxis": {
                        "gridcolor": "white",
                        "linecolor": "white",
                        "ticks": ""
                      },
                      "baxis": {
                        "gridcolor": "white",
                        "linecolor": "white",
                        "ticks": ""
                      },
                      "bgcolor": "#E5ECF6",
                      "caxis": {
                        "gridcolor": "white",
                        "linecolor": "white",
                        "ticks": ""
                      }
                    },
                    "title": {
                      "x": 0.05
                    },
                    "xaxis": {
                      "automargin": true,
                      "gridcolor": "white",
                      "linecolor": "white",
                      "ticks": "",
                      "title": {
                        "standoff": 15
                      },
                      "zerolinecolor": "white",
                      "zerolinewidth": 2
                    },
                    "yaxis": {
                      "automargin": true,
                      "gridcolor": "white",
                      "linecolor": "white",
                      "ticks": "",
                      "title": {
                        "standoff": 15
                      },
                      "zerolinecolor": "white",
                      "zerolinewidth": 2
                    }
                  }
                },
                "xaxis": {
                  "tickprefix": "$",
                  "title": {
                    "text": "Strike"
                  }
                },
                "yaxis": {
                  "tickformat": ".0%",
                  "title": {
                    "text": "Implied Volatility"
                  }
                }
              }
            }
          },
          "metadata": {},
          "output_type": "display_data"
        }
      ],
      "source": [
        "import plotly.graph_objects as go\n",
        "\n",
        "fig = go.Figure()\n",
        "string = \"call implied vol = %{y:.1%}<extra></extra>\"\n",
        "trace1 = go.Scatter(x=calls.strike,\n",
        "                    y=calls.impliedVolatility,\n",
        "                    mode=\"lines+markers\",\n",
        "                    hovertemplate=string,\n",
        "                    name=\"Call\"\n",
        "                    )\n",
        "\n",
        "string = \"put implied vol = %{y:.1%}<extra></extra>\"\n",
        "trace2 = go.Scatter(x=puts.strike,\n",
        "                    y=puts.impliedVolatility,\n",
        "                    mode=\"lines+markers\",\n",
        "                    hovertemplate=string,\n",
        "                    name=\"Put\"\n",
        "                    )\n",
        "fig.add_trace(trace1)\n",
        "fig.add_trace(trace2)\n",
        "fig.update_yaxes(title='Implied Volatility', tickformat=\".0%\")\n",
        "fig.update_xaxes(title=\"Strike\", tickprefix=\"$\")\n",
        "fig.update_layout(hovermode=\"x unified\")\n",
        "fig.update_layout(legend=dict(yanchor=\"top\", y=0.99, xanchor=\"left\", x=0.45))\n",
        "fig.show()"
      ]
    },
    {
      "cell_type": "code",
      "execution_count": null,
      "metadata": {},
      "outputs": [],
      "source": []
    }
  ],
  "metadata": {
    "colab": {
      "include_colab_link": true,
      "name": "market_implied_vols.ipynb",
      "provenance": []
    },
    "kernelspec": {
      "display_name": "Python 3",
      "language": "python",
      "name": "python3"
    },
    "language_info": {
      "codemirror_mode": {
        "name": "ipython",
        "version": 3
      },
      "file_extension": ".py",
      "mimetype": "text/x-python",
      "name": "python",
      "nbconvert_exporter": "python",
      "pygments_lexer": "ipython3",
      "version": "3.10.6"
    }
  },
  "nbformat": 4,
  "nbformat_minor": 0
}
