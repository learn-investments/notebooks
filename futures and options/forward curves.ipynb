{
  "cells": [
    {
      "cell_type": "markdown",
      "metadata": {
        "id": "view-in-github",
        "colab_type": "text"
      },
      "source": [
        "<a href=\"https://colab.research.google.com/github/bbcx-investments/notebooks/blob/main/futures/forward_curve.ipynb\" target=\"_parent\"><img src=\"https://colab.research.google.com/assets/colab-badge.svg\" alt=\"Open In Colab\"/></a>"
      ]
    },
    {
      "cell_type": "code",
      "execution_count": null,
      "outputs": [],
      "source": [
        "import pandas as pd\n",
        "from datetime import datetime\n",
        "from io import BytesIO\n",
        "from zipfile import ZipFile\n",
        "import requests\n",
        "import quandl\n",
        "quandl.ApiConfig.api_key = \"f-5zoU2G4zzHaUtkJ7BY\"\n",
        "\n",
        "url = (\n",
        "    \"https://data.nasdaq.com/api/v3/databases/SRF/metadata?api_key=\"\n",
        "    + quandl.ApiConfig.api_key\n",
        ")\n",
        "content = requests.get(url)\n",
        "zf = ZipFile(BytesIO(content.content))\n",
        "file = zf.namelist()[0]\n",
        "meta = pd.read_csv(zf.open(file), low_memory=False)\n",
        "\n",
        "months = [\"F\", \"G\", \"H\", \"J\", \"K\", \"M\", \"N\", \"Q\", \"U\", \"V\", \"X\", \"Z\"]\n",
        "codeToMonth = dict(zip(months, range(1, 13)))\n",
        "\n",
        "def expiry(code):\n",
        "    year = code[-4:]\n",
        "    month = codeToMonth[code[-5]]\n",
        "    month = str(month) if month >= 10 else \"0\" + str(month)\n",
        "    return datetime.strptime(year + month + \"21\", \"%Y%m%d\")\n",
        "\n",
        "\n",
        "meta[\"expiry\"] = meta.code.map(expiry)\n",
        "meta[\"contract\"] = meta.code.map(lambda x: x[:-5])"
      ],
      "metadata": {
        "pycharm": {
          "name": "#%%\n"
        },
        "id": "b78qEFQvbBHn"
      }
    },
    {
      "cell_type": "code",
      "execution_count": null,
      "outputs": [
        {
          "data": {
            "text/plain": "         Date   Open   High    Low  Settle  Volume  Prev. Day Open Interest  \\\n0  2022-06-27  96.41  96.65  95.84   96.50  2032.0                  10626.0   \n0  2022-06-27  84.87  84.87  84.87   84.87   131.0                   2710.0   \n0  2022-06-27  77.96  77.96  77.96   77.96     0.0                   1101.0   \n0  2022-06-27  73.04  73.04  73.04   73.04     0.0                    250.0   \n0  2022-06-27  69.53  69.53  69.53   69.53     0.0                      0.0   \n..        ...    ...    ...    ...     ...     ...                      ...   \n0  2022-06-27  73.41  73.41  73.41   73.41    13.0                   6779.0   \n0  2022-06-27  69.83  69.83  69.83   69.83     0.0                     28.0   \n0  2022-06-27  67.47  67.47  67.47   67.47     0.0                      0.0   \n0  2022-06-27  66.32  66.32  66.32   66.32     0.0                      0.0   \n0  2022-06-27  65.72  65.72  65.72   65.72     0.0                      0.0   \n\n      Contract  \n0   ICE_TF2023  \n0   ICE_TF2024  \n0   ICE_TF2025  \n0   ICE_TF2026  \n0   ICE_TF2027  \n..         ...  \n0   ICE_TZ2025  \n0   ICE_TZ2026  \n0   ICE_TZ2027  \n0   ICE_TZ2028  \n0   ICE_TZ2029  \n\n[90 rows x 8 columns]",
            "text/html": "<div>\n<style scoped>\n    .dataframe tbody tr th:only-of-type {\n        vertical-align: middle;\n    }\n\n    .dataframe tbody tr th {\n        vertical-align: top;\n    }\n\n    .dataframe thead th {\n        text-align: right;\n    }\n</style>\n<table border=\"1\" class=\"dataframe\">\n  <thead>\n    <tr style=\"text-align: right;\">\n      <th></th>\n      <th>Date</th>\n      <th>Open</th>\n      <th>High</th>\n      <th>Low</th>\n      <th>Settle</th>\n      <th>Volume</th>\n      <th>Prev. Day Open Interest</th>\n      <th>Contract</th>\n    </tr>\n  </thead>\n  <tbody>\n    <tr>\n      <th>0</th>\n      <td>2022-06-27</td>\n      <td>96.41</td>\n      <td>96.65</td>\n      <td>95.84</td>\n      <td>96.50</td>\n      <td>2032.0</td>\n      <td>10626.0</td>\n      <td>ICE_TF2023</td>\n    </tr>\n    <tr>\n      <th>0</th>\n      <td>2022-06-27</td>\n      <td>84.87</td>\n      <td>84.87</td>\n      <td>84.87</td>\n      <td>84.87</td>\n      <td>131.0</td>\n      <td>2710.0</td>\n      <td>ICE_TF2024</td>\n    </tr>\n    <tr>\n      <th>0</th>\n      <td>2022-06-27</td>\n      <td>77.96</td>\n      <td>77.96</td>\n      <td>77.96</td>\n      <td>77.96</td>\n      <td>0.0</td>\n      <td>1101.0</td>\n      <td>ICE_TF2025</td>\n    </tr>\n    <tr>\n      <th>0</th>\n      <td>2022-06-27</td>\n      <td>73.04</td>\n      <td>73.04</td>\n      <td>73.04</td>\n      <td>73.04</td>\n      <td>0.0</td>\n      <td>250.0</td>\n      <td>ICE_TF2026</td>\n    </tr>\n    <tr>\n      <th>0</th>\n      <td>2022-06-27</td>\n      <td>69.53</td>\n      <td>69.53</td>\n      <td>69.53</td>\n      <td>69.53</td>\n      <td>0.0</td>\n      <td>0.0</td>\n      <td>ICE_TF2027</td>\n    </tr>\n    <tr>\n      <th>...</th>\n      <td>...</td>\n      <td>...</td>\n      <td>...</td>\n      <td>...</td>\n      <td>...</td>\n      <td>...</td>\n      <td>...</td>\n      <td>...</td>\n    </tr>\n    <tr>\n      <th>0</th>\n      <td>2022-06-27</td>\n      <td>73.41</td>\n      <td>73.41</td>\n      <td>73.41</td>\n      <td>73.41</td>\n      <td>13.0</td>\n      <td>6779.0</td>\n      <td>ICE_TZ2025</td>\n    </tr>\n    <tr>\n      <th>0</th>\n      <td>2022-06-27</td>\n      <td>69.83</td>\n      <td>69.83</td>\n      <td>69.83</td>\n      <td>69.83</td>\n      <td>0.0</td>\n      <td>28.0</td>\n      <td>ICE_TZ2026</td>\n    </tr>\n    <tr>\n      <th>0</th>\n      <td>2022-06-27</td>\n      <td>67.47</td>\n      <td>67.47</td>\n      <td>67.47</td>\n      <td>67.47</td>\n      <td>0.0</td>\n      <td>0.0</td>\n      <td>ICE_TZ2027</td>\n    </tr>\n    <tr>\n      <th>0</th>\n      <td>2022-06-27</td>\n      <td>66.32</td>\n      <td>66.32</td>\n      <td>66.32</td>\n      <td>66.32</td>\n      <td>0.0</td>\n      <td>0.0</td>\n      <td>ICE_TZ2028</td>\n    </tr>\n    <tr>\n      <th>0</th>\n      <td>2022-06-27</td>\n      <td>65.72</td>\n      <td>65.72</td>\n      <td>65.72</td>\n      <td>65.72</td>\n      <td>0.0</td>\n      <td>0.0</td>\n      <td>ICE_TZ2029</td>\n    </tr>\n  </tbody>\n</table>\n<p>90 rows × 8 columns</p>\n</div>"
          },
          "execution_count": 10,
          "metadata": {},
          "output_type": "execute_result"
        }
      ],
      "source": [
        "contract = 'ICE_T'      # example: WTI Crude Oil Futures\n",
        "codes = meta.code[(meta.contract == contract) & (meta.expiry >= datetime.today())]\n",
        "contracts = [\"SRF/\" + c for c in codes]\n",
        "d = None\n",
        "for c in contracts:\n",
        "    try:\n",
        "        x = quandl.get(c, rows=1).reset_index()\n",
        "        x[\"Contract\"] = c.split(\"/\")[1]\n",
        "        d = pd.concat((d, x))\n",
        "    except:\n",
        "        pass\n",
        "\n",
        "d"
      ],
      "metadata": {
        "pycharm": {
          "name": "#%%\n"
        },
        "id": "fmvZJUSFbBHp",
        "outputId": "468b46b1-fbf5-4ef6-93f7-14a28fa3ada1"
      }
    },
    {
      "cell_type": "code",
      "execution_count": null,
      "outputs": [],
      "source": [
        ""
      ],
      "metadata": {
        "pycharm": {
          "name": "#%%\n"
        },
        "id": "mvlR3VmEbBHq"
      }
    }
  ],
  "metadata": {
    "kernelspec": {
      "display_name": "Python 3",
      "language": "python",
      "name": "python3"
    },
    "language_info": {
      "codemirror_mode": {
        "name": "ipython",
        "version": 2
      },
      "file_extension": ".py",
      "mimetype": "text/x-python",
      "name": "python",
      "nbconvert_exporter": "python",
      "pygments_lexer": "ipython2",
      "version": "2.7.6"
    },
    "colab": {
      "name": "forward_curve.ipynb",
      "provenance": [],
      "include_colab_link": true
    }
  },
  "nbformat": 4,
  "nbformat_minor": 0
}