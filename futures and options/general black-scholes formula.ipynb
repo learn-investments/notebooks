{
 "cells": [
  {
   "cell_type": "markdown",
   "metadata": {},
   "source": [
    "---\n",
    "\n",
    "Created for [learn-investments.rice-business.org](https://learn-investments.rice-business.org)\n",
    "    \n",
    "By [Kerry Back](https://kerryback.com) and [Kevin Crotty](https://kevin-crotty.com)\n",
    "    \n",
    "Jones Graduate School of Business, Rice University\n",
    "\n",
    "---\n"
   ]
  },
  {
   "cell_type": "markdown",
   "metadata": {},
   "source": [
    "# EXAMPLE DATA"
   ]
  },
  {
   "cell_type": "code",
   "execution_count": 1,
   "metadata": {},
   "outputs": [],
   "source": [
    "receive = 50   # PV of asset to be received\n",
    "deliver = 50   # PV of asset to be delivered\n",
    "sigma = 0.3    # volatility of ratio\n",
    "T = 1          # time to maturity"
   ]
  },
  {
   "cell_type": "markdown",
   "metadata": {},
   "source": [
    "# TABLE"
   ]
  },
  {
   "cell_type": "code",
   "execution_count": 2,
   "metadata": {},
   "outputs": [
    {
     "data": {
      "text/html": [
       "<div>\n",
       "<style scoped>\n",
       "    .dataframe tbody tr th:only-of-type {\n",
       "        vertical-align: middle;\n",
       "    }\n",
       "\n",
       "    .dataframe tbody tr th {\n",
       "        vertical-align: top;\n",
       "    }\n",
       "\n",
       "    .dataframe thead th {\n",
       "        text-align: right;\n",
       "    }\n",
       "</style>\n",
       "<table border=\"1\" class=\"dataframe\">\n",
       "  <thead>\n",
       "    <tr style=\"text-align: right;\">\n",
       "      <th></th>\n",
       "      <th>values</th>\n",
       "    </tr>\n",
       "  </thead>\n",
       "  <tbody>\n",
       "    <tr>\n",
       "      <th>a</th>\n",
       "      <td>0.1500</td>\n",
       "    </tr>\n",
       "    <tr>\n",
       "      <th>N(a)</th>\n",
       "      <td>0.5596</td>\n",
       "    </tr>\n",
       "    <tr>\n",
       "      <th>b</th>\n",
       "      <td>-0.1500</td>\n",
       "    </tr>\n",
       "    <tr>\n",
       "      <th>N(b)</th>\n",
       "      <td>0.4404</td>\n",
       "    </tr>\n",
       "    <tr>\n",
       "      <th>value_recieve * N(a)</th>\n",
       "      <td>27.9809</td>\n",
       "    </tr>\n",
       "    <tr>\n",
       "      <th>value_deliver * N(b)</th>\n",
       "      <td>22.0191</td>\n",
       "    </tr>\n",
       "    <tr>\n",
       "      <th>option value</th>\n",
       "      <td>5.9618</td>\n",
       "    </tr>\n",
       "  </tbody>\n",
       "</table>\n",
       "</div>"
      ],
      "text/plain": [
       "                       values\n",
       "a                      0.1500\n",
       "N(a)                   0.5596\n",
       "b                     -0.1500\n",
       "N(b)                   0.4404\n",
       "value_recieve * N(a)  27.9809\n",
       "value_deliver * N(b)  22.0191\n",
       "option value           5.9618"
      ]
     },
     "execution_count": 2,
     "metadata": {},
     "output_type": "execute_result"
    }
   ],
   "source": [
    "import pandas as pd\n",
    "import numpy as np\n",
    "from scipy.stats import norm    \n",
    "\n",
    "indx = [\n",
    "    \"a\",\n",
    "    \"N(a)\",\n",
    "    \"b\",\n",
    "    \"N(b)\",\n",
    "    \"value_recieve * N(a)\",\n",
    "    \"value_deliver * N(b)\",\n",
    "    \"option value\"\n",
    "]\n",
    "tbl = pd.DataFrame(dtype=float, index=indx, columns=[\"values\"])\n",
    "\n",
    "a = (\n",
    "    (np.log(receive / deliver) + 0.5 * sigma**2 * T) \n",
    "    / (sigma * np.sqrt(T))\n",
    ")\n",
    "b = a - sigma * np.sqrt(T)\n",
    "\n",
    "tbl.loc[\"a\"] = a\n",
    "tbl.loc[\"N(a)\"] = norm.cdf(a)\n",
    "tbl.loc[\"b\"] = b\n",
    "tbl.loc[\"N(b)\"] = norm.cdf(b)\n",
    "tbl.loc[\"value_recieve * N(a)\"] = receive * norm.cdf(a)\n",
    "tbl.loc[\"value_deliver * N(b)\"] = deliver * norm.cdf(b)\n",
    "tbl.loc[\"option value\"] = (\n",
    "    receive * norm.cdf(a) - deliver * norm.cdf(b)\n",
    ")\n",
    "tbl.round(4)"
   ]
  }
 ],
 "metadata": {
  "colab": {
   "include_colab_link": true,
   "name": "general Black-Scholes formula.ipynb",
   "provenance": []
  },
  "kernelspec": {
   "display_name": "Python 3",
   "language": "python",
   "name": "python3"
  },
  "language_info": {
   "codemirror_mode": {
    "name": "ipython",
    "version": 3
   },
   "file_extension": ".py",
   "mimetype": "text/x-python",
   "name": "python",
   "nbconvert_exporter": "python",
   "pygments_lexer": "ipython3",
   "version": "3.10.8"
  }
 },
 "nbformat": 4,
 "nbformat_minor": 0
}
