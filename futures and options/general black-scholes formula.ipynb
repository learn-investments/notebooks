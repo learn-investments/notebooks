{
  "cells": [
    {
      "cell_type": "markdown",
      "metadata": {
        "id": "view-in-github",
        "colab_type": "text"
      },
      "source": [
        "<a href=\"https://colab.research.google.com/github/bbcx-investments/notebooks/blob/main/options/general_black_scholes.ipynb\" target=\"_parent\"><img src=\"https://colab.research.google.com/assets/colab-badge.svg\" alt=\"Open In Colab\"/></a>"
      ]
    },
    {
      "cell_type": "code",
      "execution_count": null,
      "outputs": [
        {
          "data": {
            "text/plain": "                      values\na                       0.15\nN(a)                    0.56\nb                      -0.15\nN(b)                    0.44\nvalue_receive x N(a)   27.98\nvalue_deliver x N(b)   22.02\noption value            5.96",
            "text/html": "<div>\n<style scoped>\n    .dataframe tbody tr th:only-of-type {\n        vertical-align: middle;\n    }\n\n    .dataframe tbody tr th {\n        vertical-align: top;\n    }\n\n    .dataframe thead th {\n        text-align: right;\n    }\n</style>\n<table border=\"1\" class=\"dataframe\">\n  <thead>\n    <tr style=\"text-align: right;\">\n      <th></th>\n      <th>values</th>\n    </tr>\n  </thead>\n  <tbody>\n    <tr>\n      <th>a</th>\n      <td>0.15</td>\n    </tr>\n    <tr>\n      <th>N(a)</th>\n      <td>0.56</td>\n    </tr>\n    <tr>\n      <th>b</th>\n      <td>-0.15</td>\n    </tr>\n    <tr>\n      <th>N(b)</th>\n      <td>0.44</td>\n    </tr>\n    <tr>\n      <th>value_receive x N(a)</th>\n      <td>27.98</td>\n    </tr>\n    <tr>\n      <th>value_deliver x N(b)</th>\n      <td>22.02</td>\n    </tr>\n    <tr>\n      <th>option value</th>\n      <td>5.96</td>\n    </tr>\n  </tbody>\n</table>\n</div>"
          },
          "execution_count": 2,
          "metadata": {},
          "output_type": "execute_result"
        }
      ],
      "source": [
        "import pandas as pd\n",
        "import numpy as np\n",
        "from scipy.stats import norm\n",
        "\n",
        "# example parameters\n",
        "\n",
        "receive = 50    # present value of asset to be received\n",
        "deliver = 50    # present value of asset to be delivered\n",
        "sigma = 0.3     # volatility\n",
        "T = 1           # time to maturity\n",
        "\n",
        "indx = [\n",
        "    \"a\",\n",
        "    \"N(a)\",\n",
        "    \"b\",\n",
        "    \"N(b)\",\n",
        "    \"value_receive x N(a)\",\n",
        "    \"value_deliver x N(b)\",\n",
        "    \"option value\",\n",
        "]\n",
        "tbl = pd.DataFrame(dtype=float, index=indx, columns=[\"values\"])\n",
        "a = (np.log(receive/deliver) + 0.5 * sigma ** 2 * T) / (sigma * np.sqrt(T))\n",
        "tbl.loc[\"a\"] = a\n",
        "Na = norm.cdf(a)\n",
        "tbl.loc[\"N(a)\"] = Na\n",
        "b = a - sigma * np.sqrt(T)\n",
        "tbl.loc[\"b\"] = b\n",
        "Nb = norm.cdf(b)\n",
        "tbl.loc[\"N(b)\"] = Nb\n",
        "tbl.loc[\"value_receive x N(a)\"] = receive * Na\n",
        "tbl.loc[\"value_deliver x N(b)\"] = deliver * Nb\n",
        "tbl.loc[\"option value\"] = receive*Na - deliver*Nb\n",
        "tbl = tbl.round(2)\n",
        "tbl"
      ],
      "metadata": {
        "pycharm": {
          "name": "#%%\n"
        },
        "id": "SGdIWBfzEU5X",
        "outputId": "24a28998-d7a5-4977-ab37-882a4ffbdd80"
      }
    },
    {
      "cell_type": "code",
      "execution_count": null,
      "outputs": [],
      "source": [
        ""
      ],
      "metadata": {
        "pycharm": {
          "name": "#%%\n"
        },
        "id": "kAGD1biEEU5Z"
      }
    },
    {
      "cell_type": "code",
      "execution_count": null,
      "outputs": [],
      "source": [
        ""
      ],
      "metadata": {
        "pycharm": {
          "name": "#%%\n"
        },
        "id": "MKmdF4aIEU5a"
      }
    }
  ],
  "metadata": {
    "kernelspec": {
      "display_name": "Python 3",
      "language": "python",
      "name": "python3"
    },
    "language_info": {
      "codemirror_mode": {
        "name": "ipython",
        "version": 2
      },
      "file_extension": ".py",
      "mimetype": "text/x-python",
      "name": "python",
      "nbconvert_exporter": "python",
      "pygments_lexer": "ipython2",
      "version": "2.7.6"
    },
    "colab": {
      "name": "general_black_scholes.ipynb",
      "provenance": [],
      "include_colab_link": true
    }
  },
  "nbformat": 4,
  "nbformat_minor": 0
}