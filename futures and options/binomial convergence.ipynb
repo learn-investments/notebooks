{
  "cells": [
    {
      "cell_type": "markdown",
      "metadata": {
        "id": "view-in-github",
        "colab_type": "text"
      },
      "source": [
        "<a href=\"https://colab.research.google.com/github/bbcx-investments/notebooks/blob/main/options/binomial_convergence.ipynb\" target=\"_parent\"><img src=\"https://colab.research.google.com/assets/colab-badge.svg\" alt=\"Open In Colab\"/></a>"
      ]
    },
    {
      "cell_type": "code",
      "execution_count": null,
      "outputs": [],
      "source": [
        "import numpy as np\n",
        "from scipy.stats import norm\n",
        "\n",
        "# Binomial trees for European options\n",
        "\n",
        "def callEuropean(S, K, T, sigma, r, q, N=100):\n",
        "    def f(s):\n",
        "        s = s if s != 0 else 1.0e-6\n",
        "        dt = T / N\n",
        "        up = np.exp(sigma * np.sqrt(dt))\n",
        "        down = 1 / up\n",
        "        prob = (np.exp((r - q) * dt) - down) / (up - down)\n",
        "        discount = np.exp(-r * dt)\n",
        "        v = np.zeros(N + 1)\n",
        "        x = s * up ** N\n",
        "        v[0] = np.maximum(x - K, 0)\n",
        "        for i in range(1, N + 1):\n",
        "            x *= down * down\n",
        "            v[i] = np.maximum(x - K, 0)\n",
        "        for n in range(N - 1, -1, -1):\n",
        "            x = s * up ** n\n",
        "            v[0] = discount * (prob * v[0] + (1 - prob) * v[1])\n",
        "            for i in range(1, n + 1):\n",
        "                x *= down * down\n",
        "                v[i] = discount * (prob * v[i] + (1 - prob) * v[i + 1])\n",
        "        return v[0]\n",
        "\n",
        "    if isinstance(S, list) or isinstance(S, np.ndarray):\n",
        "        return np.array([f(s) for s in S])\n",
        "    else:\n",
        "        return f(S)\n",
        "\n",
        "\n",
        "def putEuropean(S, K, T, sigma, r, q, N=100):\n",
        "    def f(s):\n",
        "        s = s if s != 0 else 1.0e-6\n",
        "        dt = T / N\n",
        "        up = np.exp(sigma * np.sqrt(dt))\n",
        "        down = 1 / up\n",
        "        prob = (np.exp((r - q) * dt) - down) / (up - down)\n",
        "        discount = np.exp(-r * dt)\n",
        "        v = np.zeros(N + 1)\n",
        "        x = s * up ** N\n",
        "        v[0] = np.maximum(K - x, 0)\n",
        "        for i in range(1, N + 1):\n",
        "            x *= down * down\n",
        "            v[i] = np.maximum(K - x, 0)\n",
        "        for n in range(N - 1, -1, -1):\n",
        "            x = s * up ** n\n",
        "            v[0] = discount * (prob * v[0] + (1 - prob) * v[1])\n",
        "            for i in range(1, n + 1):\n",
        "                x *= down * down\n",
        "                v[i] = discount * (prob * v[i] + (1 - prob) * v[i + 1])\n",
        "        return v[0]\n",
        "\n",
        "    if isinstance(S, list) or isinstance(S, np.ndarray):\n",
        "        return np.array([f(s) for s in S])\n",
        "    else:\n",
        "        return f(S)"
      ],
      "metadata": {
        "pycharm": {
          "name": "#%%\n"
        },
        "id": "F5OjlUZjb49f"
      }
    },
    {
      "cell_type": "code",
      "execution_count": null,
      "outputs": [
        {
          "name": "stdout",
          "output_type": "stream",
          "text": [
            "The Black-Scholes value of the call premium is 7.49.\n",
            "When the number of time steps in the binomial model is 10, the simulated value is 7.3 and the difference with Black-Sholes value is -0.19.\n",
            "When the number of time steps in the binomial model is 20, the simulated value is 7.39 and the difference with Black-Sholes value is -0.1.\n",
            "When the number of time steps in the binomial model is 40, the simulated value is 7.44 and the difference with Black-Sholes value is -0.05.\n",
            "When the number of time steps in the binomial model is 80, the simulated value is 7.46 and the difference with Black-Sholes value is -0.02.\n"
          ]
        }
      ],
      "source": [
        "# example parameters\n",
        "\n",
        "S = 50\n",
        "K = 50\n",
        "T = 1\n",
        "sigma = 0.4\n",
        "r = 0.02\n",
        "q = 0.03\n",
        "\n",
        "# preliminary calculations\n",
        "\n",
        "d1 = (np.log(S/K) + (r-q+0.5*sigma**2)*T) / (sigma*np.sqrt(T))\n",
        "d2 = d1 - sigma*np.sqrt(T)\n",
        "qT = np.exp(-q*T)\n",
        "rT = np.exp(-r*T)\n",
        "\n",
        "# Call premium (Black-Scholes Value)\n",
        "N1 = norm.cdf(d1)\n",
        "N2 = norm.cdf(d2)\n",
        "C = qT * S * N1 - rT * S * N2\n",
        "# Put premium (Black-Scholes Value)\n",
        "N1 = norm.cdf(-d1)\n",
        "N2 = norm.cdf(-d2)\n",
        "P = rT * K * N2 - qT * S * N1\n",
        "\n",
        "N = [10, 20, 40, 80] # example number of interation\n",
        "print('The Black-Scholes value of the call premium is', C.round(2), end='.\\n')\n",
        "for n in N:\n",
        "    C_sim = callEuropean(S, K, T, sigma, r, q, n)\n",
        "    print('When the number of time steps in the binomial model is', n, end=', ')\n",
        "    print('the simulated value is', C_sim.round(2), 'and the difference with Black-Sholes value is', (C_sim - C).round(2), end='.\\n')\n",
        "\n"
      ],
      "metadata": {
        "pycharm": {
          "name": "#%%\n"
        },
        "id": "JJWLXfKDb49h",
        "outputId": "06b5ff1d-bce7-4c20-b2ad-0affb5183383"
      }
    },
    {
      "cell_type": "code",
      "execution_count": null,
      "outputs": [],
      "source": [
        ""
      ],
      "metadata": {
        "pycharm": {
          "name": "#%%\n"
        },
        "id": "mrKCA2Uxb49i"
      }
    }
  ],
  "metadata": {
    "kernelspec": {
      "display_name": "Python 3",
      "language": "python",
      "name": "python3"
    },
    "language_info": {
      "codemirror_mode": {
        "name": "ipython",
        "version": 2
      },
      "file_extension": ".py",
      "mimetype": "text/x-python",
      "name": "python",
      "nbconvert_exporter": "python",
      "pygments_lexer": "ipython2",
      "version": "2.7.6"
    },
    "colab": {
      "name": "binomial_convergence.ipynb",
      "provenance": [],
      "include_colab_link": true
    }
  },
  "nbformat": 4,
  "nbformat_minor": 0
}