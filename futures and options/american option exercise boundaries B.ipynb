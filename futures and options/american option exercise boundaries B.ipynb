{
  "cells": [
    {
      "cell_type": "markdown",
      "metadata": {
        "id": "view-in-github",
        "colab_type": "text"
      },
      "source": [
        "<a href=\"https://colab.research.google.com/github/bbcx-investments/notebooks/blob/main/options/american_call.ipynb\" target=\"_parent\"><img src=\"https://colab.research.google.com/assets/colab-badge.svg\" alt=\"Open In Colab\"/></a>"
      ]
    },
    {
      "cell_type": "code",
      "execution_count": null,
      "outputs": [],
      "source": [
        "import numpy as np\n",
        "from scipy.stats import norm\n",
        "from scipy.optimize import fsolve\n",
        "from scipy.stats import multivariate_normal as mnorm\n",
        "\n",
        "def callBS(s, K, T, sigma, r, q):\n",
        "    if s <= 0:\n",
        "        return 0\n",
        "    d1 = (np.log(s / K) + (r - q + 0.5 * sigma ** 2) * T) / (sigma * np.sqrt(T))\n",
        "    d2 = d1 - sigma * np.sqrt(T)\n",
        "    return np.exp(-q * T) * s * norm.cdf(d1) - np.exp(-r * T) * K * norm.cdf(d2)\n",
        "\n",
        "\n",
        "def callDelta(s, K, T, sigma, r, q):\n",
        "    if s <= 0:\n",
        "        return 0\n",
        "    d1 = (np.log(s / K) + (r - q + 0.5 * sigma ** 2) * T) / (sigma * np.sqrt(T))\n",
        "    return np.exp(-q * T) * norm.cdf(d1)\n",
        "\n",
        "\n",
        "def Dmin(K, deltaT, r):\n",
        "    return (1 - np.exp(-r * deltaT)) * K\n",
        "\n",
        "\n",
        "def criticalS(D, K, deltaT, sigma, r):\n",
        "    def f(s):\n",
        "        return s - K - callBS(s - D, K, deltaT, sigma, r, 0)\n",
        "\n",
        "    def fprime(s):\n",
        "        return 1 - callDelta(s - D, K, deltaT, sigma, r, 0)\n",
        "\n",
        "    return fsolve(f, x0=1.5 * K, fprime=fprime).item()\n",
        "\n",
        "\n",
        "def binorm(a, b, corr):\n",
        "    cov = [[1, corr], [corr, 1]]\n",
        "    return mnorm.cdf(x=[a, b], mean=[0, 0], cov=cov)\n",
        "\n",
        "\n",
        "def AmericanCall(D, S, K, t, deltaT, sigma, r):\n",
        "    # t = time until dividend\n",
        "    # deltaT = time between dividend and maturity\n",
        "    Z0 = S - np.exp(-r * t) * D\n",
        "    if D <= Dmin(K, deltaT, r):\n",
        "        return callBS(Z0, K, t + deltaT, sigma, r, 0)\n",
        "    Sstar = criticalS(D, K, deltaT, sigma, r)\n",
        "    Zstar = Sstar - D\n",
        "    d1 = (np.log(Z0 / Zstar) + (r + 0.5 * sigma ** 2) * t) / (sigma * np.sqrt(t))\n",
        "    d2 = d1 - sigma * np.sqrt(t)\n",
        "    d1prime = (np.log(Z0 / K) + (r + 0.5 * sigma ** 2) * (t + deltaT)) / (\n",
        "        sigma * np.sqrt(t + deltaT)\n",
        "    )\n",
        "    d2prime = d1prime - sigma * np.sqrt(t + deltaT)\n",
        "    N1 = norm.cdf(d1)\n",
        "    N2 = norm.cdf(d2)\n",
        "    corr = -np.sqrt(t / (t + deltaT))\n",
        "    M1 = binorm(-d1, d1prime, corr)\n",
        "    M2 = binorm(-d2, d2prime, corr)\n",
        "    return (\n",
        "        Z0 * (N1 + M1)\n",
        "        + np.exp(-r * t) * (D - K) * N2\n",
        "        - np.exp(-r * (t + deltaT)) * K * M2\n",
        "    )"
      ],
      "metadata": {
        "pycharm": {
          "name": "#%%\n"
        },
        "id": "MgjxJSVbZ-qQ"
      }
    },
    {
      "cell_type": "code",
      "execution_count": null,
      "outputs": [
        {
          "name": "stdout",
          "output_type": "stream",
          "text": [
            "The critical price is 98.72.\n",
            "It is optimal to exercise if and only if S_t is great than this price, where S_t denotes the underlying price just before it goes ex-dividend.\n"
          ]
        }
      ],
      "source": [
        "# example parameters\n",
        "\n",
        "S = 50\n",
        "K = 55\n",
        "D = 2\n",
        "t = 1           # time until dividend\n",
        "deltaT = 1      # time between dividend and maturity\n",
        "sigma = 0.4\n",
        "r = 0.02\n",
        "\n",
        "\n",
        "print('The critical price is', round(criticalS(D, K, deltaT, sigma, r),2), end='.\\n')\n",
        "print('It is optimal to exercise if and only if S_t is great than this price, where S_t denotes the underlying price just before it goes ex-dividend.')"
      ],
      "metadata": {
        "pycharm": {
          "name": "#%%\n"
        },
        "id": "ZIbBkrwKZ-qT",
        "outputId": "ed2fade7-e135-4fba-ce04-845eb180edba"
      }
    },
    {
      "cell_type": "code",
      "execution_count": null,
      "outputs": [
        {
          "name": "stdout",
          "output_type": "stream",
          "text": [
            "The value of the American option is 9.0."
          ]
        }
      ],
      "source": [
        "print('The value of the American option is', AmericanCall(D, S, K, t, deltaT, sigma, r).round(2), end='.')"
      ],
      "metadata": {
        "pycharm": {
          "name": "#%%\n"
        },
        "id": "gnRIyy60Z-qV",
        "outputId": "3d9ecbd6-be34-4b7c-b39d-9332aa1a301b"
      }
    },
    {
      "cell_type": "code",
      "execution_count": null,
      "outputs": [],
      "source": [
        ""
      ],
      "metadata": {
        "pycharm": {
          "name": "#%%\n"
        },
        "id": "45nFKsZqZ-qV"
      }
    }
  ],
  "metadata": {
    "kernelspec": {
      "display_name": "Python 3",
      "language": "python",
      "name": "python3"
    },
    "language_info": {
      "codemirror_mode": {
        "name": "ipython",
        "version": 2
      },
      "file_extension": ".py",
      "mimetype": "text/x-python",
      "name": "python",
      "nbconvert_exporter": "python",
      "pygments_lexer": "ipython2",
      "version": "2.7.6"
    },
    "colab": {
      "name": "american_call.ipynb",
      "provenance": [],
      "include_colab_link": true
    }
  },
  "nbformat": 4,
  "nbformat_minor": 0
}