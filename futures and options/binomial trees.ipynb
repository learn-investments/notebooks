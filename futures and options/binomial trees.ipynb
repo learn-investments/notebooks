{
  "cells": [
    {
      "cell_type": "markdown",
      "metadata": {
        "id": "view-in-github",
        "colab_type": "text"
      },
      "source": [
        "<a href=\"https://colab.research.google.com/github/bbcx-investments/notebooks/blob/main/options/binomial_trees.ipynb\" target=\"_parent\"><img src=\"https://colab.research.google.com/assets/colab-badge.svg\" alt=\"Open In Colab\"/></a>"
      ]
    },
    {
      "cell_type": "code",
      "execution_count": null,
      "outputs": [],
      "source": [
        "import numpy as np\n",
        "import pandas as pd\n",
        "\n",
        "def stockTree(S, u, n):\n",
        "    return [[S * u ** (t - 2 * i) for i in range(t + 1)] for t in range(n + 1)]\n",
        "\n",
        "def europeanTree(S, K, r, u, n, kind):\n",
        "    def f(S):\n",
        "        if kind == \"call\":\n",
        "            return np.maximum(np.array(S) - K, 0)\n",
        "        else:\n",
        "            return np.maximum(K - np.array(S), 0)\n",
        "\n",
        "    d = 1 / u\n",
        "    p = (1 + r - d) / (u - d)\n",
        "    disc = 1 / (1 + r)\n",
        "    ST = [S * u ** (n - 2 * i) for i in range(n + 1)]\n",
        "    x = f(ST)\n",
        "    lst = [x]\n",
        "    while len(x) > 1:\n",
        "        x = disc * (p * x[:-1] + (1 - p) * x[1:])\n",
        "        lst.insert(0, x)\n",
        "    return [list(x) for x in lst], p\n",
        "\n",
        "\n",
        "def americanTree(S, K, r, u, n, kind):\n",
        "    def f(S):\n",
        "        if kind == \"call\":\n",
        "            return np.maximum(np.array(S) - K, 0)\n",
        "        else:\n",
        "            return np.maximum(K - np.array(S), 0)\n",
        "\n",
        "    d = 1 / u\n",
        "    p = (1 + r - d) / (u - d)\n",
        "    disc = 1 / (1 + r)\n",
        "    ST = [S * u ** (n - 2 * i) for i in range(n + 1)]\n",
        "    x = f(ST)\n",
        "    lst = [x]\n",
        "    while len(x) > 1:\n",
        "        x0 = disc * (p * x[:-1] + (1 - p) * x[1:])\n",
        "        t = len(x0) - 1\n",
        "        St = [S * u ** (t - 2 * i) for i in range(t + 1)]\n",
        "        x = np.maximum(x0, f(St))\n",
        "        lst.insert(0, x)\n",
        "    return [list(x) for x in lst], p"
      ],
      "metadata": {
        "pycharm": {
          "name": "#%%\n"
        },
        "id": "yZJKoU83agga"
      }
    },
    {
      "cell_type": "code",
      "execution_count": null,
      "outputs": [
        {
          "data": {
            "text/plain": "   period 0   period 1   period 2   period 3\n0      50.0  55.000000  60.500000  66.550000\n1       NaN  45.454545  50.000000  55.000000\n2       NaN        NaN  41.322314  45.454545\n3       NaN        NaN        NaN  37.565740",
            "text/html": "<div>\n<style scoped>\n    .dataframe tbody tr th:only-of-type {\n        vertical-align: middle;\n    }\n\n    .dataframe tbody tr th {\n        vertical-align: top;\n    }\n\n    .dataframe thead th {\n        text-align: right;\n    }\n</style>\n<table border=\"1\" class=\"dataframe\">\n  <thead>\n    <tr style=\"text-align: right;\">\n      <th></th>\n      <th>period 0</th>\n      <th>period 1</th>\n      <th>period 2</th>\n      <th>period 3</th>\n    </tr>\n  </thead>\n  <tbody>\n    <tr>\n      <th>0</th>\n      <td>50.0</td>\n      <td>55.000000</td>\n      <td>60.500000</td>\n      <td>66.550000</td>\n    </tr>\n    <tr>\n      <th>1</th>\n      <td>NaN</td>\n      <td>45.454545</td>\n      <td>50.000000</td>\n      <td>55.000000</td>\n    </tr>\n    <tr>\n      <th>2</th>\n      <td>NaN</td>\n      <td>NaN</td>\n      <td>41.322314</td>\n      <td>45.454545</td>\n    </tr>\n    <tr>\n      <th>3</th>\n      <td>NaN</td>\n      <td>NaN</td>\n      <td>NaN</td>\n      <td>37.565740</td>\n    </tr>\n  </tbody>\n</table>\n</div>"
          },
          "execution_count": 45,
          "metadata": {},
          "output_type": "execute_result"
        }
      ],
      "source": [
        "# example parameters\n",
        "\n",
        "S = 50\n",
        "K = 50\n",
        "r = 0.02\n",
        "u = 1.1\n",
        "n = 3\n",
        "kind = 'put'\n",
        "\n",
        "# stock tree\n",
        "\n",
        "df = pd.DataFrame(stockTree(S, u, n)).transpose()\n",
        "df.columns = ['period ' + str(i) for i in range(df.shape[0])]\n",
        "df"
      ],
      "metadata": {
        "pycharm": {
          "name": "#%%\n"
        },
        "id": "5IURN34laggd",
        "outputId": "5921a3ad-5298-4075-dd02-e6f783bcb254"
      }
    },
    {
      "cell_type": "code",
      "execution_count": null,
      "outputs": [
        {
          "data": {
            "text/plain": "   period 0  period 1  period 2   period 3\n0   2.17309  0.767191  0.000000   0.000000\n1       NaN  4.225893  1.867414   0.000000\n2       NaN       NaN  7.697294   4.545455\n3       NaN       NaN       NaN  12.434260",
            "text/html": "<div>\n<style scoped>\n    .dataframe tbody tr th:only-of-type {\n        vertical-align: middle;\n    }\n\n    .dataframe tbody tr th {\n        vertical-align: top;\n    }\n\n    .dataframe thead th {\n        text-align: right;\n    }\n</style>\n<table border=\"1\" class=\"dataframe\">\n  <thead>\n    <tr style=\"text-align: right;\">\n      <th></th>\n      <th>period 0</th>\n      <th>period 1</th>\n      <th>period 2</th>\n      <th>period 3</th>\n    </tr>\n  </thead>\n  <tbody>\n    <tr>\n      <th>0</th>\n      <td>2.17309</td>\n      <td>0.767191</td>\n      <td>0.000000</td>\n      <td>0.000000</td>\n    </tr>\n    <tr>\n      <th>1</th>\n      <td>NaN</td>\n      <td>4.225893</td>\n      <td>1.867414</td>\n      <td>0.000000</td>\n    </tr>\n    <tr>\n      <th>2</th>\n      <td>NaN</td>\n      <td>NaN</td>\n      <td>7.697294</td>\n      <td>4.545455</td>\n    </tr>\n    <tr>\n      <th>3</th>\n      <td>NaN</td>\n      <td>NaN</td>\n      <td>NaN</td>\n      <td>12.434260</td>\n    </tr>\n  </tbody>\n</table>\n</div>"
          },
          "execution_count": 46,
          "metadata": {},
          "output_type": "execute_result"
        }
      ],
      "source": [
        "# European put tree\n",
        "\n",
        "df = pd.DataFrame(europeanTree(S, K, r, u, n, kind)[0]).transpose()\n",
        "df.columns = ['period ' + str(i) for i in range(df.shape[0])]\n",
        "df"
      ],
      "metadata": {
        "pycharm": {
          "name": "#%%\n"
        },
        "id": "HlIM8-bjaggf",
        "outputId": "1eeaa698-a3d0-4005-9487-a70fde403a4f"
      }
    },
    {
      "cell_type": "code",
      "execution_count": null,
      "outputs": [
        {
          "name": "stdout",
          "output_type": "stream",
          "text": [
            "European Put value at date 0: 2.173\n"
          ]
        }
      ],
      "source": [
        "print('European Put value at date 0:', df.iloc[0,0].round(3))"
      ],
      "metadata": {
        "pycharm": {
          "name": "#%%\n"
        },
        "id": "72undd33aggf",
        "outputId": "85ff3da8-38a8-465d-fad1-771eb004ee68"
      }
    },
    {
      "cell_type": "code",
      "execution_count": null,
      "outputs": [
        {
          "data": {
            "text/plain": "   period 0  period 1  period 2   period 3\n0  2.338563  0.767191  0.000000   0.000000\n1       NaN  4.628669  1.867414   0.000000\n2       NaN       NaN  8.677686   4.545455\n3       NaN       NaN       NaN  12.434260",
            "text/html": "<div>\n<style scoped>\n    .dataframe tbody tr th:only-of-type {\n        vertical-align: middle;\n    }\n\n    .dataframe tbody tr th {\n        vertical-align: top;\n    }\n\n    .dataframe thead th {\n        text-align: right;\n    }\n</style>\n<table border=\"1\" class=\"dataframe\">\n  <thead>\n    <tr style=\"text-align: right;\">\n      <th></th>\n      <th>period 0</th>\n      <th>period 1</th>\n      <th>period 2</th>\n      <th>period 3</th>\n    </tr>\n  </thead>\n  <tbody>\n    <tr>\n      <th>0</th>\n      <td>2.338563</td>\n      <td>0.767191</td>\n      <td>0.000000</td>\n      <td>0.000000</td>\n    </tr>\n    <tr>\n      <th>1</th>\n      <td>NaN</td>\n      <td>4.628669</td>\n      <td>1.867414</td>\n      <td>0.000000</td>\n    </tr>\n    <tr>\n      <th>2</th>\n      <td>NaN</td>\n      <td>NaN</td>\n      <td>8.677686</td>\n      <td>4.545455</td>\n    </tr>\n    <tr>\n      <th>3</th>\n      <td>NaN</td>\n      <td>NaN</td>\n      <td>NaN</td>\n      <td>12.434260</td>\n    </tr>\n  </tbody>\n</table>\n</div>"
          },
          "execution_count": 48,
          "metadata": {},
          "output_type": "execute_result"
        }
      ],
      "source": [
        "# American put tree\n",
        "\n",
        "df = pd.DataFrame(americanTree(S, K, r, u, n, kind)[0]).transpose()\n",
        "df.columns = ['period ' + str(i) for i in range(df.shape[0])]\n",
        "df"
      ],
      "metadata": {
        "pycharm": {
          "name": "#%%\n"
        },
        "id": "ZfsVW8KOaggg",
        "outputId": "c65426d8-b8b7-40d0-b560-d4f8159b3929"
      }
    },
    {
      "cell_type": "code",
      "execution_count": null,
      "outputs": [
        {
          "name": "stdout",
          "output_type": "stream",
          "text": [
            "American Put value at date 0: 2.339\n"
          ]
        }
      ],
      "source": [
        "print('American Put value at date 0:', df.iloc[0,0].round(3))"
      ],
      "metadata": {
        "pycharm": {
          "name": "#%%\n"
        },
        "id": "IufC2uwxaggh",
        "outputId": "bb435cca-c372-45e9-ac34-afdb0d14b5a0"
      }
    },
    {
      "cell_type": "code",
      "execution_count": null,
      "outputs": [],
      "source": [
        ""
      ],
      "metadata": {
        "pycharm": {
          "name": "#%%\n"
        },
        "id": "7lH9zWclaggh"
      }
    }
  ],
  "metadata": {
    "kernelspec": {
      "display_name": "Python 3",
      "language": "python",
      "name": "python3"
    },
    "language_info": {
      "codemirror_mode": {
        "name": "ipython",
        "version": 2
      },
      "file_extension": ".py",
      "mimetype": "text/x-python",
      "name": "python",
      "nbconvert_exporter": "python",
      "pygments_lexer": "ipython2",
      "version": "2.7.6"
    },
    "colab": {
      "name": "binomial_trees.ipynb",
      "provenance": [],
      "include_colab_link": true
    }
  },
  "nbformat": 4,
  "nbformat_minor": 0
}