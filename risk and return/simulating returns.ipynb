{
  "cells": [
    {
      "cell_type": "markdown",
      "metadata": {
        "id": "view-in-github",
        "colab_type": "text"
      },
      "source": [
        "<a href=\"https://colab.research.google.com/github/bbcx-investments/notebooks/blob/main/risk/simulation.ipynb\" target=\"_parent\"><img src=\"https://colab.research.google.com/assets/colab-badge.svg\" alt=\"Open In Colab\"/></a>"
      ]
    },
    {
      "cell_type": "code",
      "execution_count": null,
      "outputs": [
        {
          "data": {
            "text/plain": "1     0.080912\n2     0.373871\n3    -0.081015\n4     0.178275\n5     0.177592\n6     0.030645\n7     0.135282\n8     0.071188\n9    -0.121704\n10   -0.282844\n11    0.004514\n12    0.084506\n13    0.041694\n14    0.297317\n15    0.012548\n16   -0.038229\n17   -0.116195\n18   -0.267653\n19    0.287003\n20    0.097273\ndtype: float64"
          },
          "execution_count": 15,
          "metadata": {},
          "output_type": "execute_result"
        }
      ],
      "source": [
        "import pandas as pd\n",
        "from scipy.stats import norm\n",
        "import numpy as np\n",
        "\n",
        "mn = 0.06       # example mean\n",
        "sd = 0.15       # example standard deviation\n",
        "T  = 20         # example time period\n",
        "\n",
        "# simulate return data\n",
        "rv = norm(loc=mn, scale=sd)\n",
        "ret = pd.Series(rv.rvs(T), index=range(1,T+1))\n",
        "\n",
        "ret"
      ],
      "metadata": {
        "pycharm": {
          "name": "#%%\n"
        },
        "id": "pPu2Go0fHo_8",
        "outputId": "36a01fc3-1460-46c0-9e6e-06d56837bae1"
      }
    },
    {
      "cell_type": "code",
      "execution_count": null,
      "outputs": [
        {
          "name": "stdout",
          "output_type": "stream",
          "text": [
            "The arithmetic average of the simulated returns is  0.04824902643908325.\n",
            "The geometric average of the simulated returns is  0.03419497494798507.\n"
          ]
        }
      ],
      "source": [
        "arith = ret.mean()\n",
        "geom = (1 + ret).prod() ** (1 / T) - 1\n",
        "print('The arithmetic average of the simulated returns is ', arith, end='.\\n')\n",
        "print('The geometric average of the simulated returns is ', geom, end='.\\n')"
      ],
      "metadata": {
        "pycharm": {
          "name": "#%%\n"
        },
        "id": "1CPEFS1sHpAB",
        "outputId": "c181257f-c095-4c62-eba8-fcf2454d1b91"
      }
    },
    {
      "cell_type": "code",
      "execution_count": null,
      "outputs": [],
      "source": [
        ""
      ],
      "metadata": {
        "pycharm": {
          "name": "#%%\n"
        },
        "id": "xbH0jYevHpAC"
      }
    }
  ],
  "metadata": {
    "kernelspec": {
      "display_name": "Python 3",
      "language": "python",
      "name": "python3"
    },
    "language_info": {
      "codemirror_mode": {
        "name": "ipython",
        "version": 2
      },
      "file_extension": ".py",
      "mimetype": "text/x-python",
      "name": "python",
      "nbconvert_exporter": "python",
      "pygments_lexer": "ipython2",
      "version": "2.7.6"
    },
    "colab": {
      "name": "simulation.ipynb",
      "provenance": [],
      "include_colab_link": true
    }
  },
  "nbformat": 4,
  "nbformat_minor": 0
}