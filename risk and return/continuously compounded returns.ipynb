{
  "cells": [
    {
      "cell_type": "markdown",
      "metadata": {
        "id": "view-in-github",
        "colab_type": "text"
      },
      "source": [
        "<a href=\"https://colab.research.google.com/github/bbcx-investments/notebooks/blob/main/risk/continuous_compounding.ipynb\" target=\"_parent\"><img src=\"https://colab.research.google.com/assets/colab-badge.svg\" alt=\"Open In Colab\"/></a>"
      ]
    },
    {
      "cell_type": "code",
      "execution_count": null,
      "outputs": [
        {
          "data": {
            "text/plain": "   date     ret\n0  1927  0.3259\n1  1928  0.3895\n2  1929 -0.1479\n3  1930 -0.2882\n4  1931 -0.4404\n5  1932 -0.0843\n6  1933  0.5735\n7  1934  0.0318\n8  1935  0.4513\n9  1936  0.3225",
            "text/html": "<div>\n<style scoped>\n    .dataframe tbody tr th:only-of-type {\n        vertical-align: middle;\n    }\n\n    .dataframe tbody tr th {\n        vertical-align: top;\n    }\n\n    .dataframe thead th {\n        text-align: right;\n    }\n</style>\n<table border=\"1\" class=\"dataframe\">\n  <thead>\n    <tr style=\"text-align: right;\">\n      <th></th>\n      <th>date</th>\n      <th>ret</th>\n    </tr>\n  </thead>\n  <tbody>\n    <tr>\n      <th>0</th>\n      <td>1927</td>\n      <td>0.3259</td>\n    </tr>\n    <tr>\n      <th>1</th>\n      <td>1928</td>\n      <td>0.3895</td>\n    </tr>\n    <tr>\n      <th>2</th>\n      <td>1929</td>\n      <td>-0.1479</td>\n    </tr>\n    <tr>\n      <th>3</th>\n      <td>1930</td>\n      <td>-0.2882</td>\n    </tr>\n    <tr>\n      <th>4</th>\n      <td>1931</td>\n      <td>-0.4404</td>\n    </tr>\n    <tr>\n      <th>5</th>\n      <td>1932</td>\n      <td>-0.0843</td>\n    </tr>\n    <tr>\n      <th>6</th>\n      <td>1933</td>\n      <td>0.5735</td>\n    </tr>\n    <tr>\n      <th>7</th>\n      <td>1934</td>\n      <td>0.0318</td>\n    </tr>\n    <tr>\n      <th>8</th>\n      <td>1935</td>\n      <td>0.4513</td>\n    </tr>\n    <tr>\n      <th>9</th>\n      <td>1936</td>\n      <td>0.3225</td>\n    </tr>\n  </tbody>\n</table>\n</div>"
          },
          "execution_count": 1,
          "metadata": {},
          "output_type": "execute_result"
        }
      ],
      "source": [
        "import numpy as np\n",
        "import pandas as pd\n",
        "from pandas_datareader import DataReader as pdr\n",
        "\n",
        "\n",
        "# annual market return data\n",
        "df = pdr('F-F_Research_Data_Factors','famafrench', start=1900)[1]/100\n",
        "\n",
        "mkt = df[\"Mkt-RF\"] + df.RF\n",
        "mkt = pd.DataFrame(mkt).reset_index()\n",
        "mkt.columns = ['date', 'ret']\n",
        "mkt.date = mkt.date.astype(str)\n",
        "\n",
        "mkt.head(10)"
      ],
      "metadata": {
        "pycharm": {
          "name": "#%%\n"
        },
        "id": "lKBwHNUsGNsp",
        "outputId": "8ceeecb2-e9c3-481e-f706-4f5a309e98f6"
      }
    },
    {
      "cell_type": "code",
      "execution_count": null,
      "outputs": [
        {
          "data": {
            "text/plain": "   date       ret\n0  1971  0.106523\n1  1972  0.453690\n2  1973 -0.090196\n3  1974 -0.316028\n4  1975  0.417095\n5  1976  0.481888\n6  1977 -0.051829\n7  1978  0.205788\n8  1979  0.202667\n9  1980  0.764967",
            "text/html": "<div>\n<style scoped>\n    .dataframe tbody tr th:only-of-type {\n        vertical-align: middle;\n    }\n\n    .dataframe tbody tr th {\n        vertical-align: top;\n    }\n\n    .dataframe thead th {\n        text-align: right;\n    }\n</style>\n<table border=\"1\" class=\"dataframe\">\n  <thead>\n    <tr style=\"text-align: right;\">\n      <th></th>\n      <th>date</th>\n      <th>ret</th>\n    </tr>\n  </thead>\n  <tbody>\n    <tr>\n      <th>0</th>\n      <td>1971</td>\n      <td>0.106523</td>\n    </tr>\n    <tr>\n      <th>1</th>\n      <td>1972</td>\n      <td>0.453690</td>\n    </tr>\n    <tr>\n      <th>2</th>\n      <td>1973</td>\n      <td>-0.090196</td>\n    </tr>\n    <tr>\n      <th>3</th>\n      <td>1974</td>\n      <td>-0.316028</td>\n    </tr>\n    <tr>\n      <th>4</th>\n      <td>1975</td>\n      <td>0.417095</td>\n    </tr>\n    <tr>\n      <th>5</th>\n      <td>1976</td>\n      <td>0.481888</td>\n    </tr>\n    <tr>\n      <th>6</th>\n      <td>1977</td>\n      <td>-0.051829</td>\n    </tr>\n    <tr>\n      <th>7</th>\n      <td>1978</td>\n      <td>0.205788</td>\n    </tr>\n    <tr>\n      <th>8</th>\n      <td>1979</td>\n      <td>0.202667</td>\n    </tr>\n    <tr>\n      <th>9</th>\n      <td>1980</td>\n      <td>0.764967</td>\n    </tr>\n  </tbody>\n</table>\n</div>"
          },
          "execution_count": 2,
          "metadata": {},
          "output_type": "execute_result"
        }
      ],
      "source": [
        "# individual stock annual return data\n",
        "tick = 'CVX'        # example stock\n",
        "close = pdr(tick, \"yahoo\", start=1970)[\"Adj Close\"]\n",
        "annual = close.resample('Y').last().pct_change().dropna().reset_index()\n",
        "annual.columns = ['date', 'ret']\n",
        "annual.date = annual.date.dt.to_period('Y').astype(str)\n",
        "\n",
        "annual.head(10)"
      ],
      "metadata": {
        "pycharm": {
          "name": "#%%\n"
        },
        "id": "jZAd4HaMGNsr",
        "outputId": "37c6fbe0-9b98-4691-a6b3-07ea4cb0cfe8"
      }
    },
    {
      "cell_type": "code",
      "execution_count": null,
      "outputs": [
        {
          "data": {
            "text/plain": "   date     ret       log\n0  1927  0.3259  0.282091\n1  1928  0.3895  0.328944\n2  1929 -0.1479 -0.160051\n3  1930 -0.2882 -0.339958\n4  1931 -0.4404 -0.580533\n5  1932 -0.0843 -0.088066\n6  1933  0.5735  0.453302\n7  1934  0.0318  0.031305\n8  1935  0.4513  0.372460\n9  1936  0.3225  0.279524",
            "text/html": "<div>\n<style scoped>\n    .dataframe tbody tr th:only-of-type {\n        vertical-align: middle;\n    }\n\n    .dataframe tbody tr th {\n        vertical-align: top;\n    }\n\n    .dataframe thead th {\n        text-align: right;\n    }\n</style>\n<table border=\"1\" class=\"dataframe\">\n  <thead>\n    <tr style=\"text-align: right;\">\n      <th></th>\n      <th>date</th>\n      <th>ret</th>\n      <th>log</th>\n    </tr>\n  </thead>\n  <tbody>\n    <tr>\n      <th>0</th>\n      <td>1927</td>\n      <td>0.3259</td>\n      <td>0.282091</td>\n    </tr>\n    <tr>\n      <th>1</th>\n      <td>1928</td>\n      <td>0.3895</td>\n      <td>0.328944</td>\n    </tr>\n    <tr>\n      <th>2</th>\n      <td>1929</td>\n      <td>-0.1479</td>\n      <td>-0.160051</td>\n    </tr>\n    <tr>\n      <th>3</th>\n      <td>1930</td>\n      <td>-0.2882</td>\n      <td>-0.339958</td>\n    </tr>\n    <tr>\n      <th>4</th>\n      <td>1931</td>\n      <td>-0.4404</td>\n      <td>-0.580533</td>\n    </tr>\n    <tr>\n      <th>5</th>\n      <td>1932</td>\n      <td>-0.0843</td>\n      <td>-0.088066</td>\n    </tr>\n    <tr>\n      <th>6</th>\n      <td>1933</td>\n      <td>0.5735</td>\n      <td>0.453302</td>\n    </tr>\n    <tr>\n      <th>7</th>\n      <td>1934</td>\n      <td>0.0318</td>\n      <td>0.031305</td>\n    </tr>\n    <tr>\n      <th>8</th>\n      <td>1935</td>\n      <td>0.4513</td>\n      <td>0.372460</td>\n    </tr>\n    <tr>\n      <th>9</th>\n      <td>1936</td>\n      <td>0.3225</td>\n      <td>0.279524</td>\n    </tr>\n  </tbody>\n</table>\n</div>"
          },
          "execution_count": 3,
          "metadata": {},
          "output_type": "execute_result"
        }
      ],
      "source": [
        "# Use market return data as examples to compute continuously compounded returns\n",
        "\n",
        "mkt['log'] = np.log(1+mkt.ret)\n",
        "\n",
        "mkt.head(10)"
      ],
      "metadata": {
        "pycharm": {
          "name": "#%%\n"
        },
        "id": "rAKpqQrWGNss",
        "outputId": "fb5f8159-498f-4c7a-ce67-5876d4c7cd11"
      }
    },
    {
      "cell_type": "code",
      "execution_count": null,
      "outputs": [
        {
          "data": {
            "text/plain": "           ret       log\nmean  0.121726  0.097512\nstd   0.198931  0.193448\nmin  -0.440400 -0.580533\n25%   0.000700  0.000700\n50%   0.154000  0.143234\n75%   0.269650  0.238741\nmax   0.573500  0.453302",
            "text/html": "<div>\n<style scoped>\n    .dataframe tbody tr th:only-of-type {\n        vertical-align: middle;\n    }\n\n    .dataframe tbody tr th {\n        vertical-align: top;\n    }\n\n    .dataframe thead th {\n        text-align: right;\n    }\n</style>\n<table border=\"1\" class=\"dataframe\">\n  <thead>\n    <tr style=\"text-align: right;\">\n      <th></th>\n      <th>ret</th>\n      <th>log</th>\n    </tr>\n  </thead>\n  <tbody>\n    <tr>\n      <th>mean</th>\n      <td>0.121726</td>\n      <td>0.097512</td>\n    </tr>\n    <tr>\n      <th>std</th>\n      <td>0.198931</td>\n      <td>0.193448</td>\n    </tr>\n    <tr>\n      <th>min</th>\n      <td>-0.440400</td>\n      <td>-0.580533</td>\n    </tr>\n    <tr>\n      <th>25%</th>\n      <td>0.000700</td>\n      <td>0.000700</td>\n    </tr>\n    <tr>\n      <th>50%</th>\n      <td>0.154000</td>\n      <td>0.143234</td>\n    </tr>\n    <tr>\n      <th>75%</th>\n      <td>0.269650</td>\n      <td>0.238741</td>\n    </tr>\n    <tr>\n      <th>max</th>\n      <td>0.573500</td>\n      <td>0.453302</td>\n    </tr>\n  </tbody>\n</table>\n</div>"
          },
          "execution_count": 5,
          "metadata": {},
          "output_type": "execute_result"
        }
      ],
      "source": [
        "# describe returns and continuous compounding returns data\n",
        "tbl = mkt[['ret', 'log']].describe().iloc[1:]\n",
        "\n",
        "tbl"
      ],
      "metadata": {
        "pycharm": {
          "name": "#%%\n"
        },
        "id": "kgVXsVc0GNst",
        "outputId": "b86011c4-092e-4a64-87bf-28cd06586c53"
      }
    },
    {
      "cell_type": "code",
      "execution_count": null,
      "outputs": [],
      "source": [
        ""
      ],
      "metadata": {
        "pycharm": {
          "name": "#%%\n"
        },
        "id": "unKHLTzdGNst"
      }
    }
  ],
  "metadata": {
    "kernelspec": {
      "display_name": "Python 3",
      "language": "python",
      "name": "python3"
    },
    "language_info": {
      "codemirror_mode": {
        "name": "ipython",
        "version": 2
      },
      "file_extension": ".py",
      "mimetype": "text/x-python",
      "name": "python",
      "nbconvert_exporter": "python",
      "pygments_lexer": "ipython2",
      "version": "2.7.6"
    },
    "colab": {
      "name": "continuous_compounding.ipynb",
      "provenance": [],
      "include_colab_link": true
    }
  },
  "nbformat": 4,
  "nbformat_minor": 0
}