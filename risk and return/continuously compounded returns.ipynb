{
  "cells": [
    {
      "attachments": {},
      "cell_type": "markdown",
      "metadata": {},
      "source": [
        "# U.S. STOCK MARKET RETURN"
      ]
    },
    {
      "cell_type": "code",
      "execution_count": 2,
      "metadata": {},
      "outputs": [
        {
          "data": {
            "text/plain": [
              "year\n",
              "2018   -0.0512\n",
              "2019    0.3043\n",
              "2020    0.2411\n",
              "2021    0.2360\n",
              "2022   -0.2017\n",
              "Name: market, dtype: float64"
            ]
          },
          "execution_count": 2,
          "metadata": {},
          "output_type": "execute_result"
        }
      ],
      "source": [
        "from pandas_datareader import DataReader as pdr\n",
        "\n",
        "mkt = pdr('F-F_Research_Data_Factors','famafrench',start=1926)[1]/100\n",
        "mkt = mkt['Mkt-RF'] + mkt.RF\n",
        "mkt.index.name = \"year\"\n",
        "mkt.name = \"market\"\n",
        "mkt.index = mkt.index.astype(str)\n",
        "mkt.tail()"
      ]
    },
    {
      "attachments": {},
      "cell_type": "markdown",
      "metadata": {},
      "source": [
        "# RETURNS FROM YAHOO FINANCE"
      ]
    },
    {
      "cell_type": "code",
      "execution_count": 3,
      "metadata": {},
      "outputs": [
        {
          "name": "stdout",
          "output_type": "stream",
          "text": [
            "[*********************100%***********************]  1 of 1 completed\n"
          ]
        },
        {
          "data": {
            "text/plain": [
              "year\n",
              "2018   -0.097474\n",
              "2019    0.152737\n",
              "2020   -0.259521\n",
              "2021    0.462413\n",
              "2022    0.584623\n",
              "Name: cvx, dtype: float64"
            ]
          },
          "execution_count": 3,
          "metadata": {},
          "output_type": "execute_result"
        }
      ],
      "source": [
        "import yfinance as yf\n",
        "\n",
        "ticker = input(\"Input a ticker\")\n",
        "price = yf.download(ticker, start=\"1970-01-01\")[\"Adj Close\"]\n",
        "price = price.resample(\"Y\").last()\n",
        "ser = price.pct_change()[:-1].dropna()\n",
        "ser.index = ser.index.map(lambda x: x.year)\n",
        "ser.index.name = \"year\"\n",
        "ser.name = ticker\n",
        "ser.tail()"
      ]
    },
    {
      "attachments": {},
      "cell_type": "markdown",
      "metadata": {},
      "source": [
        "# YAHOO RETURN OR MARKET"
      ]
    },
    {
      "cell_type": "code",
      "execution_count": 4,
      "metadata": {},
      "outputs": [],
      "source": [
        "import numpy as np\n",
        "import pandas as pd\n",
        "\n",
        "flag = int(input(\"input 0 for market or 1 for yahoo return\"))\n",
        "ret = ser if flag else mkt\n",
        "name = f\"{ticker.upper()} Return\" if flag else \"Market Return\"\n",
        "ccret = np.log(1+ret)\n",
        "data = pd.concat((ret, ccret), axis=1)\n",
        "data.columns = [\"Return\", \"CC Return\"]"
      ]
    },
    {
      "cell_type": "markdown",
      "metadata": {},
      "source": [
        "# TABLE"
      ]
    },
    {
      "cell_type": "code",
      "execution_count": 6,
      "metadata": {},
      "outputs": [
        {
          "data": {
            "text/html": [
              "<div>\n",
              "<style scoped>\n",
              "    .dataframe tbody tr th:only-of-type {\n",
              "        vertical-align: middle;\n",
              "    }\n",
              "\n",
              "    .dataframe tbody tr th {\n",
              "        vertical-align: top;\n",
              "    }\n",
              "\n",
              "    .dataframe thead th {\n",
              "        text-align: right;\n",
              "    }\n",
              "</style>\n",
              "<table border=\"1\" class=\"dataframe\">\n",
              "  <thead>\n",
              "    <tr style=\"text-align: right;\">\n",
              "      <th></th>\n",
              "      <th>Return</th>\n",
              "      <th>CC Return</th>\n",
              "    </tr>\n",
              "  </thead>\n",
              "  <tbody>\n",
              "    <tr>\n",
              "      <th>mean</th>\n",
              "      <td>0.142744</td>\n",
              "      <td>0.112567</td>\n",
              "    </tr>\n",
              "    <tr>\n",
              "      <th>std</th>\n",
              "      <td>0.232506</td>\n",
              "      <td>0.208578</td>\n",
              "    </tr>\n",
              "    <tr>\n",
              "      <th>min</th>\n",
              "      <td>-0.316027</td>\n",
              "      <td>-0.379838</td>\n",
              "    </tr>\n",
              "    <tr>\n",
              "      <th>25%</th>\n",
              "      <td>-0.017183</td>\n",
              "      <td>-0.017509</td>\n",
              "    </tr>\n",
              "    <tr>\n",
              "      <th>50%</th>\n",
              "      <td>0.116748</td>\n",
              "      <td>0.110420</td>\n",
              "    </tr>\n",
              "    <tr>\n",
              "      <th>75%</th>\n",
              "      <td>0.289680</td>\n",
              "      <td>0.254375</td>\n",
              "    </tr>\n",
              "    <tr>\n",
              "      <th>max</th>\n",
              "      <td>0.764967</td>\n",
              "      <td>0.568132</td>\n",
              "    </tr>\n",
              "  </tbody>\n",
              "</table>\n",
              "</div>"
            ],
            "text/plain": [
              "        Return  CC Return\n",
              "mean  0.142744   0.112567\n",
              "std   0.232506   0.208578\n",
              "min  -0.316027  -0.379838\n",
              "25%  -0.017183  -0.017509\n",
              "50%   0.116748   0.110420\n",
              "75%   0.289680   0.254375\n",
              "max   0.764967   0.568132"
            ]
          },
          "execution_count": 6,
          "metadata": {},
          "output_type": "execute_result"
        }
      ],
      "source": [
        "data.describe().iloc[1:]"
      ]
    },
    {
      "attachments": {},
      "cell_type": "markdown",
      "metadata": {},
      "source": [
        "# FIGURE 1"
      ]
    },
    {
      "cell_type": "code",
      "execution_count": 11,
      "metadata": {
        "id": "tcmPMcyQtNIS"
      },
      "outputs": [
        {
          "data": {
            "application/vnd.plotly.v1+json": {
              "config": {
                "plotlyServerURL": "https://plot.ly"
              },
              "data": [
                {
                  "hovertemplate": "%{text}<br>Return = %{x:.1%}<br>Cont. Comp. Ret = %{y:.1%}",
                  "mode": "markers",
                  "text": [
                    "1971",
                    "1972",
                    "1973",
                    "1974",
                    "1975",
                    "1976",
                    "1977",
                    "1978",
                    "1979",
                    "1980",
                    "1981",
                    "1982",
                    "1983",
                    "1984",
                    "1985",
                    "1986",
                    "1987",
                    "1988",
                    "1989",
                    "1990",
                    "1991",
                    "1992",
                    "1993",
                    "1994",
                    "1995",
                    "1996",
                    "1997",
                    "1998",
                    "1999",
                    "2000",
                    "2001",
                    "2002",
                    "2003",
                    "2004",
                    "2005",
                    "2006",
                    "2007",
                    "2008",
                    "2009",
                    "2010",
                    "2011",
                    "2012",
                    "2013",
                    "2014",
                    "2015",
                    "2016",
                    "2017",
                    "2018",
                    "2019",
                    "2020",
                    "2021",
                    "2022"
                  ],
                  "type": "scatter",
                  "x": [
                    0.10652287827968077,
                    0.45369033604926856,
                    -0.09019694248756127,
                    -0.31602747004937404,
                    0.4170948648204873,
                    0.4818883193432284,
                    -0.0518292078767868,
                    0.20578797796248005,
                    0.20266702533909808,
                    0.7649667891488545,
                    -0.138191112574793,
                    -0.2536443172365431,
                    0.08203152118315749,
                    -0.04896107439784014,
                    0.3032730674898869,
                    0.26633296732422096,
                    -0.08654749717063148,
                    0.220032760714451,
                    0.5578349070394482,
                    0.11806912691375415,
                    -0.006590677778201215,
                    0.05694792830517348,
                    0.3062851426125506,
                    0.0679760298339096,
                    0.2216042326251717,
                    0.285148539592194,
                    0.22147778830173248,
                    0.11018719956702427,
                    0.07354340972799966,
                    0.005439076693620981,
                    0.09280108931518449,
                    -0.23091156574056726,
                    0.3536678370963058,
                    0.2554101410247487,
                    0.11542621710668444,
                    0.33702476940561166,
                    0.30549926509770975,
                    -0.18329265651460136,
                    0.08061052909850663,
                    0.2294612548364967,
                    0.20280024656834672,
                    0.05061476097278561,
                    0.1930860687842304,
                    -0.06988865239219078,
                    -0.16170677759272745,
                    0.3666141530180722,
                    0.10589635173033107,
                    -0.09747425577809898,
                    0.1527366030483588,
                    -0.25952111190272054,
                    0.46241310600884566,
                    0.5846234473031282
                  ],
                  "y": [
                    0.10122255655340057,
                    0.3741053825978661,
                    -0.09452712320949874,
                    -0.37983752305695445,
                    0.3486089061179581,
                    0.39331716596633626,
                    -0.05322063248653886,
                    0.18713327684804684,
                    0.18454161176318046,
                    0.5681318738619724,
                    -0.1487217412227933,
                    -0.292553005858777,
                    0.07884031233189016,
                    -0.050200286041851734,
                    0.2648788444824929,
                    0.23612529650671396,
                    -0.09052389922918257,
                    0.1988777114292606,
                    0.44329697716089245,
                    0.11160320369243658,
                    -0.006612492195681301,
                    0.05538544200873451,
                    0.26718733980453857,
                    0.06576529631039323,
                    0.20016493973715063,
                    0.2508743066799749,
                    0.20006142759759163,
                    0.10452864936330435,
                    0.07096477508595944,
                    0.005424338333874507,
                    0.08874420664500494,
                    -0.2625493170514018,
                    0.30281782467219964,
                    0.2274623247918389,
                    0.10923658936508342,
                    0.2904468240556133,
                    0.2665855462290518,
                    -0.202474457002401,
                    0.07752618613244662,
                    0.206576069234498,
                    0.18465237712751584,
                    0.049375479479748144,
                    0.17654328534517616,
                    -0.07245097139118592,
                    -0.17638733229612777,
                    0.312336259682985,
                    0.10065618417912425,
                    -0.10255806372831415,
                    0.14213877030507718,
                    -0.30045815601524234,
                    0.38008788366394525,
                    0.46034680642497017
                  ]
                }
              ],
              "layout": {
                "template": {
                  "data": {
                    "bar": [
                      {
                        "error_x": {
                          "color": "#2a3f5f"
                        },
                        "error_y": {
                          "color": "#2a3f5f"
                        },
                        "marker": {
                          "line": {
                            "color": "white",
                            "width": 0.5
                          },
                          "pattern": {
                            "fillmode": "overlay",
                            "size": 10,
                            "solidity": 0.2
                          }
                        },
                        "type": "bar"
                      }
                    ],
                    "barpolar": [
                      {
                        "marker": {
                          "line": {
                            "color": "white",
                            "width": 0.5
                          },
                          "pattern": {
                            "fillmode": "overlay",
                            "size": 10,
                            "solidity": 0.2
                          }
                        },
                        "type": "barpolar"
                      }
                    ],
                    "carpet": [
                      {
                        "aaxis": {
                          "endlinecolor": "#2a3f5f",
                          "gridcolor": "#C8D4E3",
                          "linecolor": "#C8D4E3",
                          "minorgridcolor": "#C8D4E3",
                          "startlinecolor": "#2a3f5f"
                        },
                        "baxis": {
                          "endlinecolor": "#2a3f5f",
                          "gridcolor": "#C8D4E3",
                          "linecolor": "#C8D4E3",
                          "minorgridcolor": "#C8D4E3",
                          "startlinecolor": "#2a3f5f"
                        },
                        "type": "carpet"
                      }
                    ],
                    "choropleth": [
                      {
                        "colorbar": {
                          "outlinewidth": 0,
                          "ticks": ""
                        },
                        "type": "choropleth"
                      }
                    ],
                    "contour": [
                      {
                        "colorbar": {
                          "outlinewidth": 0,
                          "ticks": ""
                        },
                        "colorscale": [
                          [
                            0,
                            "#0d0887"
                          ],
                          [
                            0.1111111111111111,
                            "#46039f"
                          ],
                          [
                            0.2222222222222222,
                            "#7201a8"
                          ],
                          [
                            0.3333333333333333,
                            "#9c179e"
                          ],
                          [
                            0.4444444444444444,
                            "#bd3786"
                          ],
                          [
                            0.5555555555555556,
                            "#d8576b"
                          ],
                          [
                            0.6666666666666666,
                            "#ed7953"
                          ],
                          [
                            0.7777777777777778,
                            "#fb9f3a"
                          ],
                          [
                            0.8888888888888888,
                            "#fdca26"
                          ],
                          [
                            1,
                            "#f0f921"
                          ]
                        ],
                        "type": "contour"
                      }
                    ],
                    "contourcarpet": [
                      {
                        "colorbar": {
                          "outlinewidth": 0,
                          "ticks": ""
                        },
                        "type": "contourcarpet"
                      }
                    ],
                    "heatmap": [
                      {
                        "colorbar": {
                          "outlinewidth": 0,
                          "ticks": ""
                        },
                        "colorscale": [
                          [
                            0,
                            "#0d0887"
                          ],
                          [
                            0.1111111111111111,
                            "#46039f"
                          ],
                          [
                            0.2222222222222222,
                            "#7201a8"
                          ],
                          [
                            0.3333333333333333,
                            "#9c179e"
                          ],
                          [
                            0.4444444444444444,
                            "#bd3786"
                          ],
                          [
                            0.5555555555555556,
                            "#d8576b"
                          ],
                          [
                            0.6666666666666666,
                            "#ed7953"
                          ],
                          [
                            0.7777777777777778,
                            "#fb9f3a"
                          ],
                          [
                            0.8888888888888888,
                            "#fdca26"
                          ],
                          [
                            1,
                            "#f0f921"
                          ]
                        ],
                        "type": "heatmap"
                      }
                    ],
                    "heatmapgl": [
                      {
                        "colorbar": {
                          "outlinewidth": 0,
                          "ticks": ""
                        },
                        "colorscale": [
                          [
                            0,
                            "#0d0887"
                          ],
                          [
                            0.1111111111111111,
                            "#46039f"
                          ],
                          [
                            0.2222222222222222,
                            "#7201a8"
                          ],
                          [
                            0.3333333333333333,
                            "#9c179e"
                          ],
                          [
                            0.4444444444444444,
                            "#bd3786"
                          ],
                          [
                            0.5555555555555556,
                            "#d8576b"
                          ],
                          [
                            0.6666666666666666,
                            "#ed7953"
                          ],
                          [
                            0.7777777777777778,
                            "#fb9f3a"
                          ],
                          [
                            0.8888888888888888,
                            "#fdca26"
                          ],
                          [
                            1,
                            "#f0f921"
                          ]
                        ],
                        "type": "heatmapgl"
                      }
                    ],
                    "histogram": [
                      {
                        "marker": {
                          "pattern": {
                            "fillmode": "overlay",
                            "size": 10,
                            "solidity": 0.2
                          }
                        },
                        "type": "histogram"
                      }
                    ],
                    "histogram2d": [
                      {
                        "colorbar": {
                          "outlinewidth": 0,
                          "ticks": ""
                        },
                        "colorscale": [
                          [
                            0,
                            "#0d0887"
                          ],
                          [
                            0.1111111111111111,
                            "#46039f"
                          ],
                          [
                            0.2222222222222222,
                            "#7201a8"
                          ],
                          [
                            0.3333333333333333,
                            "#9c179e"
                          ],
                          [
                            0.4444444444444444,
                            "#bd3786"
                          ],
                          [
                            0.5555555555555556,
                            "#d8576b"
                          ],
                          [
                            0.6666666666666666,
                            "#ed7953"
                          ],
                          [
                            0.7777777777777778,
                            "#fb9f3a"
                          ],
                          [
                            0.8888888888888888,
                            "#fdca26"
                          ],
                          [
                            1,
                            "#f0f921"
                          ]
                        ],
                        "type": "histogram2d"
                      }
                    ],
                    "histogram2dcontour": [
                      {
                        "colorbar": {
                          "outlinewidth": 0,
                          "ticks": ""
                        },
                        "colorscale": [
                          [
                            0,
                            "#0d0887"
                          ],
                          [
                            0.1111111111111111,
                            "#46039f"
                          ],
                          [
                            0.2222222222222222,
                            "#7201a8"
                          ],
                          [
                            0.3333333333333333,
                            "#9c179e"
                          ],
                          [
                            0.4444444444444444,
                            "#bd3786"
                          ],
                          [
                            0.5555555555555556,
                            "#d8576b"
                          ],
                          [
                            0.6666666666666666,
                            "#ed7953"
                          ],
                          [
                            0.7777777777777778,
                            "#fb9f3a"
                          ],
                          [
                            0.8888888888888888,
                            "#fdca26"
                          ],
                          [
                            1,
                            "#f0f921"
                          ]
                        ],
                        "type": "histogram2dcontour"
                      }
                    ],
                    "mesh3d": [
                      {
                        "colorbar": {
                          "outlinewidth": 0,
                          "ticks": ""
                        },
                        "type": "mesh3d"
                      }
                    ],
                    "parcoords": [
                      {
                        "line": {
                          "colorbar": {
                            "outlinewidth": 0,
                            "ticks": ""
                          }
                        },
                        "type": "parcoords"
                      }
                    ],
                    "pie": [
                      {
                        "automargin": true,
                        "type": "pie"
                      }
                    ],
                    "scatter": [
                      {
                        "fillpattern": {
                          "fillmode": "overlay",
                          "size": 10,
                          "solidity": 0.2
                        },
                        "type": "scatter"
                      }
                    ],
                    "scatter3d": [
                      {
                        "line": {
                          "colorbar": {
                            "outlinewidth": 0,
                            "ticks": ""
                          }
                        },
                        "marker": {
                          "colorbar": {
                            "outlinewidth": 0,
                            "ticks": ""
                          }
                        },
                        "type": "scatter3d"
                      }
                    ],
                    "scattercarpet": [
                      {
                        "marker": {
                          "colorbar": {
                            "outlinewidth": 0,
                            "ticks": ""
                          }
                        },
                        "type": "scattercarpet"
                      }
                    ],
                    "scattergeo": [
                      {
                        "marker": {
                          "colorbar": {
                            "outlinewidth": 0,
                            "ticks": ""
                          }
                        },
                        "type": "scattergeo"
                      }
                    ],
                    "scattergl": [
                      {
                        "marker": {
                          "colorbar": {
                            "outlinewidth": 0,
                            "ticks": ""
                          }
                        },
                        "type": "scattergl"
                      }
                    ],
                    "scattermapbox": [
                      {
                        "marker": {
                          "colorbar": {
                            "outlinewidth": 0,
                            "ticks": ""
                          }
                        },
                        "type": "scattermapbox"
                      }
                    ],
                    "scatterpolar": [
                      {
                        "marker": {
                          "colorbar": {
                            "outlinewidth": 0,
                            "ticks": ""
                          }
                        },
                        "type": "scatterpolar"
                      }
                    ],
                    "scatterpolargl": [
                      {
                        "marker": {
                          "colorbar": {
                            "outlinewidth": 0,
                            "ticks": ""
                          }
                        },
                        "type": "scatterpolargl"
                      }
                    ],
                    "scatterternary": [
                      {
                        "marker": {
                          "colorbar": {
                            "outlinewidth": 0,
                            "ticks": ""
                          }
                        },
                        "type": "scatterternary"
                      }
                    ],
                    "surface": [
                      {
                        "colorbar": {
                          "outlinewidth": 0,
                          "ticks": ""
                        },
                        "colorscale": [
                          [
                            0,
                            "#0d0887"
                          ],
                          [
                            0.1111111111111111,
                            "#46039f"
                          ],
                          [
                            0.2222222222222222,
                            "#7201a8"
                          ],
                          [
                            0.3333333333333333,
                            "#9c179e"
                          ],
                          [
                            0.4444444444444444,
                            "#bd3786"
                          ],
                          [
                            0.5555555555555556,
                            "#d8576b"
                          ],
                          [
                            0.6666666666666666,
                            "#ed7953"
                          ],
                          [
                            0.7777777777777778,
                            "#fb9f3a"
                          ],
                          [
                            0.8888888888888888,
                            "#fdca26"
                          ],
                          [
                            1,
                            "#f0f921"
                          ]
                        ],
                        "type": "surface"
                      }
                    ],
                    "table": [
                      {
                        "cells": {
                          "fill": {
                            "color": "#EBF0F8"
                          },
                          "line": {
                            "color": "white"
                          }
                        },
                        "header": {
                          "fill": {
                            "color": "#C8D4E3"
                          },
                          "line": {
                            "color": "white"
                          }
                        },
                        "type": "table"
                      }
                    ]
                  },
                  "layout": {
                    "annotationdefaults": {
                      "arrowcolor": "#2a3f5f",
                      "arrowhead": 0,
                      "arrowwidth": 1
                    },
                    "autotypenumbers": "strict",
                    "coloraxis": {
                      "colorbar": {
                        "outlinewidth": 0,
                        "ticks": ""
                      }
                    },
                    "colorscale": {
                      "diverging": [
                        [
                          0,
                          "#8e0152"
                        ],
                        [
                          0.1,
                          "#c51b7d"
                        ],
                        [
                          0.2,
                          "#de77ae"
                        ],
                        [
                          0.3,
                          "#f1b6da"
                        ],
                        [
                          0.4,
                          "#fde0ef"
                        ],
                        [
                          0.5,
                          "#f7f7f7"
                        ],
                        [
                          0.6,
                          "#e6f5d0"
                        ],
                        [
                          0.7,
                          "#b8e186"
                        ],
                        [
                          0.8,
                          "#7fbc41"
                        ],
                        [
                          0.9,
                          "#4d9221"
                        ],
                        [
                          1,
                          "#276419"
                        ]
                      ],
                      "sequential": [
                        [
                          0,
                          "#0d0887"
                        ],
                        [
                          0.1111111111111111,
                          "#46039f"
                        ],
                        [
                          0.2222222222222222,
                          "#7201a8"
                        ],
                        [
                          0.3333333333333333,
                          "#9c179e"
                        ],
                        [
                          0.4444444444444444,
                          "#bd3786"
                        ],
                        [
                          0.5555555555555556,
                          "#d8576b"
                        ],
                        [
                          0.6666666666666666,
                          "#ed7953"
                        ],
                        [
                          0.7777777777777778,
                          "#fb9f3a"
                        ],
                        [
                          0.8888888888888888,
                          "#fdca26"
                        ],
                        [
                          1,
                          "#f0f921"
                        ]
                      ],
                      "sequentialminus": [
                        [
                          0,
                          "#0d0887"
                        ],
                        [
                          0.1111111111111111,
                          "#46039f"
                        ],
                        [
                          0.2222222222222222,
                          "#7201a8"
                        ],
                        [
                          0.3333333333333333,
                          "#9c179e"
                        ],
                        [
                          0.4444444444444444,
                          "#bd3786"
                        ],
                        [
                          0.5555555555555556,
                          "#d8576b"
                        ],
                        [
                          0.6666666666666666,
                          "#ed7953"
                        ],
                        [
                          0.7777777777777778,
                          "#fb9f3a"
                        ],
                        [
                          0.8888888888888888,
                          "#fdca26"
                        ],
                        [
                          1,
                          "#f0f921"
                        ]
                      ]
                    },
                    "colorway": [
                      "#636efa",
                      "#EF553B",
                      "#00cc96",
                      "#ab63fa",
                      "#FFA15A",
                      "#19d3f3",
                      "#FF6692",
                      "#B6E880",
                      "#FF97FF",
                      "#FECB52"
                    ],
                    "font": {
                      "color": "#2a3f5f"
                    },
                    "geo": {
                      "bgcolor": "white",
                      "lakecolor": "white",
                      "landcolor": "white",
                      "showlakes": true,
                      "showland": true,
                      "subunitcolor": "#C8D4E3"
                    },
                    "hoverlabel": {
                      "align": "left"
                    },
                    "hovermode": "closest",
                    "mapbox": {
                      "style": "light"
                    },
                    "paper_bgcolor": "white",
                    "plot_bgcolor": "white",
                    "polar": {
                      "angularaxis": {
                        "gridcolor": "#EBF0F8",
                        "linecolor": "#EBF0F8",
                        "ticks": ""
                      },
                      "bgcolor": "white",
                      "radialaxis": {
                        "gridcolor": "#EBF0F8",
                        "linecolor": "#EBF0F8",
                        "ticks": ""
                      }
                    },
                    "scene": {
                      "xaxis": {
                        "backgroundcolor": "white",
                        "gridcolor": "#DFE8F3",
                        "gridwidth": 2,
                        "linecolor": "#EBF0F8",
                        "showbackground": true,
                        "ticks": "",
                        "zerolinecolor": "#EBF0F8"
                      },
                      "yaxis": {
                        "backgroundcolor": "white",
                        "gridcolor": "#DFE8F3",
                        "gridwidth": 2,
                        "linecolor": "#EBF0F8",
                        "showbackground": true,
                        "ticks": "",
                        "zerolinecolor": "#EBF0F8"
                      },
                      "zaxis": {
                        "backgroundcolor": "white",
                        "gridcolor": "#DFE8F3",
                        "gridwidth": 2,
                        "linecolor": "#EBF0F8",
                        "showbackground": true,
                        "ticks": "",
                        "zerolinecolor": "#EBF0F8"
                      }
                    },
                    "shapedefaults": {
                      "line": {
                        "color": "#2a3f5f"
                      }
                    },
                    "ternary": {
                      "aaxis": {
                        "gridcolor": "#DFE8F3",
                        "linecolor": "#A2B1C6",
                        "ticks": ""
                      },
                      "baxis": {
                        "gridcolor": "#DFE8F3",
                        "linecolor": "#A2B1C6",
                        "ticks": ""
                      },
                      "bgcolor": "white",
                      "caxis": {
                        "gridcolor": "#DFE8F3",
                        "linecolor": "#A2B1C6",
                        "ticks": ""
                      }
                    },
                    "title": {
                      "x": 0.05
                    },
                    "xaxis": {
                      "automargin": true,
                      "gridcolor": "#EBF0F8",
                      "linecolor": "#EBF0F8",
                      "ticks": "",
                      "title": {
                        "standoff": 15
                      },
                      "zerolinecolor": "#EBF0F8",
                      "zerolinewidth": 2
                    },
                    "yaxis": {
                      "automargin": true,
                      "gridcolor": "#EBF0F8",
                      "linecolor": "#EBF0F8",
                      "ticks": "",
                      "title": {
                        "standoff": 15
                      },
                      "zerolinecolor": "#EBF0F8",
                      "zerolinewidth": 2
                    }
                  }
                },
                "xaxis": {
                  "tickformat": ".0%",
                  "title": {
                    "text": "Return"
                  }
                },
                "yaxis": {
                  "tickformat": ".0%",
                  "title": {
                    "text": "Continuously Compounded Return"
                  }
                }
              }
            }
          },
          "metadata": {},
          "output_type": "display_data"
        }
      ],
      "source": [
        "import plotly.graph_objects as go\n",
        "\n",
        "trace = go.Scatter(\n",
        "    x=data[\"Return\"],\n",
        "    y=data[\"CC Return\"], \n",
        "    mode=\"markers\", \n",
        "    text=data.index.to_list(),\n",
        "    hovertemplate=\"%{text}<br>Return = %{x:.1%}<br>Cont. Comp. Ret = %{y:.1%}\"\n",
        ")\n",
        "fig = go.Figure(trace)\n",
        "fig.update_layout(\n",
        "    xaxis_title=\"Return\",\n",
        "    yaxis_title=\"Continuously Compounded Return\",\n",
        "    xaxis_tickformat=\".0%\",\n",
        "    yaxis_tickformat=\".0%\",\n",
        "    template=\"plotly_white\",  \n",
        ")\n",
        "fig.show()"
      ]
    },
    {
      "attachments": {},
      "cell_type": "markdown",
      "metadata": {},
      "source": [
        "# FIGURE 2"
      ]
    },
    {
      "cell_type": "code",
      "execution_count": 13,
      "metadata": {},
      "outputs": [
        {
          "data": {
            "application/vnd.plotly.v1+json": {
              "config": {
                "plotlyServerURL": "https://plot.ly"
              },
              "data": [
                {
                  "hovertemplate": "",
                  "legendgroup": "Return",
                  "marker": {
                    "color": "rgb(31, 119, 180)"
                  },
                  "mode": "lines",
                  "name": "Return",
                  "showlegend": true,
                  "type": "scatter",
                  "x": [
                    -0.31602747004937404,
                    -0.3138654815309776,
                    -0.3117034930125811,
                    -0.30954150449418466,
                    -0.3073795159757882,
                    -0.3052175274573917,
                    -0.3030555389389953,
                    -0.30089355042059884,
                    -0.2987315619022024,
                    -0.2965695733838059,
                    -0.29440758486540947,
                    -0.292245596347013,
                    -0.29008360782861653,
                    -0.2879216193102201,
                    -0.28575963079182365,
                    -0.28359764227342715,
                    -0.2814356537550307,
                    -0.27927366523663427,
                    -0.27711167671823783,
                    -0.27494968819984134,
                    -0.2727876996814449,
                    -0.27062571116304845,
                    -0.26846372264465196,
                    -0.2663017341262555,
                    -0.2641397456078591,
                    -0.2619777570894626,
                    -0.25981576857106614,
                    -0.2576537800526697,
                    -0.25549179153427326,
                    -0.25332980301587676,
                    -0.2511678144974803,
                    -0.24900582597908386,
                    -0.2468438374606874,
                    -0.24468184894229095,
                    -0.2425198604238945,
                    -0.24035787190549804,
                    -0.23819588338710157,
                    -0.23603389486870513,
                    -0.23387190635030866,
                    -0.2317099178319122,
                    -0.22954792931351575,
                    -0.22738594079511928,
                    -0.22522395227672282,
                    -0.22306196375832638,
                    -0.2208999752399299,
                    -0.21873798672153344,
                    -0.216575998203137,
                    -0.21441400968474056,
                    -0.2122520211663441,
                    -0.21009003264794762,
                    -0.20792804412955118,
                    -0.2057660556111547,
                    -0.20360406709275825,
                    -0.2014420785743618,
                    -0.19928009005596534,
                    -0.19711810153756887,
                    -0.19495611301917243,
                    -0.192794124500776,
                    -0.19063213598237952,
                    -0.18847014746398305,
                    -0.18630815894558658,
                    -0.18414617042719014,
                    -0.18198418190879367,
                    -0.17982219339039723,
                    -0.17766020487200077,
                    -0.1754982163536043,
                    -0.17333622783520786,
                    -0.1711742393168114,
                    -0.16901225079841495,
                    -0.16685026228001848,
                    -0.16468827376162204,
                    -0.16252628524322557,
                    -0.16036429672482913,
                    -0.15820230820643266,
                    -0.1560403196880362,
                    -0.15387833116963975,
                    -0.15171634265124329,
                    -0.14955435413284685,
                    -0.14739236561445035,
                    -0.1452303770960539,
                    -0.14306838857765744,
                    -0.14090640005926097,
                    -0.13874441154086453,
                    -0.13658242302246806,
                    -0.13442043450407162,
                    -0.13225844598567515,
                    -0.13009645746727871,
                    -0.12793446894888225,
                    -0.12577248043048578,
                    -0.12361049191208934,
                    -0.12144850339369287,
                    -0.11928651487529643,
                    -0.11712452635689996,
                    -0.11496253783850352,
                    -0.11280054932010705,
                    -0.11063856080171061,
                    -0.10847657228331414,
                    -0.10631458376491768,
                    -0.10415259524652123,
                    -0.10199060672812474,
                    -0.0998286182097283,
                    -0.09766662969133183,
                    -0.09550464117293539,
                    -0.09334265265453892,
                    -0.09118066413614248,
                    -0.08901867561774601,
                    -0.08685668709934954,
                    -0.0846946985809531,
                    -0.08253271006255664,
                    -0.0803707215441602,
                    -0.07820873302576373,
                    -0.07604674450736729,
                    -0.07388475598897082,
                    -0.07172276747057435,
                    -0.06956077895217791,
                    -0.06739879043378144,
                    -0.065236801915385,
                    -0.0630748133969885,
                    -0.060912824878592065,
                    -0.058750836360195624,
                    -0.05658884784179913,
                    -0.05442685932340269,
                    -0.05226487080500625,
                    -0.05010288228660981,
                    -0.04794089376821331,
                    -0.04577890524981687,
                    -0.04361691673142043,
                    -0.04145492821302399,
                    -0.03929293969462749,
                    -0.03713095117623105,
                    -0.03496896265783456,
                    -0.03280697413943817,
                    -0.030644985621041676,
                    -0.02848299710264518,
                    -0.02632100858424874,
                    -0.0241590200658523,
                    -0.02199703154745586,
                    -0.019835043029059363,
                    -0.017673054510662922,
                    -0.015511065992266426,
                    -0.013349077473870041,
                    -0.011187088955473545,
                    -0.009025100437077105,
                    -0.006863111918680609,
                    -0.004701123400284224,
                    -0.002539134881887728,
                    -0.0003771463634912875,
                    0.0017848421549052085,
                    0.003946830673301649,
                    0.006108819191698089,
                    0.00827080771009453,
                    0.010432796228491026,
                    0.012594784746887466,
                    0.014756773265283962,
                    0.016918761783680347,
                    0.019080750302076843,
                    0.02124273882047334,
                    0.02340472733886978,
                    0.02556671585726622,
                    0.02772870437566266,
                    0.029890692894059157,
                    0.0320526814124556,
                    0.03421466993085209,
                    0.03637665844924848,
                    0.038538646967644974,
                    0.040700635486041414,
                    0.04286262400443791,
                    0.045024612522834295,
                    0.04718660104123079,
                    0.04934858955962723,
                    0.05151057807802373,
                    0.05367256659642017,
                    0.05583455511481661,
                    0.05799654363321305,
                    0.060158532151609545,
                    0.062320520670005985,
                    0.06448250918840248,
                    0.06664449770679892,
                    0.06880648622519536,
                    0.07096847474359186,
                    0.0731304632619883,
                    0.07529245178038474,
                    0.07745444029878118,
                    0.07961642881717768,
                    0.08177841733557412,
                    0.08394040585397061,
                    0.086102394372367,
                    0.0882643828907635,
                    0.09042637140915993,
                    0.09258835992755643,
                    0.09475034844595281,
                    0.09691233696434931,
                    0.09907432548274575,
                    0.10123631400114225,
                    0.10339830251953869,
                    0.10556029103793513,
                    0.10772227955633157,
                    0.10988426807472806,
                    0.11204625659312456,
                    0.11420824511152095,
                    0.11637023362991744,
                    0.11853222214831388,
                    0.12069421066671038,
                    0.12285619918510682,
                    0.12501818770350326,
                    0.1271801762218997,
                    0.1293421647402962,
                    0.13150415325869264,
                    0.13366614177708908,
                    0.13582813029548552,
                    0.137990118813882,
                    0.14015210733227845,
                    0.14231409585067495,
                    0.14447608436907133,
                    0.14663807288746783,
                    0.14880006140586427,
                    0.15096204992426077,
                    0.1531240384426572,
                    0.15528602696105365,
                    0.1574480154794501,
                    0.15961000399784658,
                    0.16177199251624308,
                    0.16393398103463946,
                    0.16609596955303596,
                    0.1682579580714324,
                    0.1704199465898289,
                    0.17258193510822534,
                    0.17474392362662178,
                    0.17690591214501822,
                    0.17906790066341471,
                    0.18122988918181115,
                    0.1833918777002076,
                    0.18555386621860404,
                    0.18771585473700048,
                    0.18987784325539703,
                    0.19203983177379347,
                    0.1942018202921899,
                    0.19636380881058635,
                    0.1985257973289828,
                    0.20068778584737923,
                    0.20284977436577578,
                    0.20501176288417222,
                    0.20717375140256866,
                    0.2093357399209651,
                    0.21149772843936154,
                    0.21365971695775798,
                    0.21582170547615442,
                    0.21798369399455098,
                    0.22014568251294742,
                    0.22230767103134386,
                    0.2244696595497403,
                    0.22663164806813685,
                    0.22879363658653318,
                    0.23095562510492962,
                    0.23311761362332606,
                    0.2352796021417226,
                    0.23744159066011905,
                    0.2396035791785155,
                    0.24176556769691193,
                    0.24392755621530848,
                    0.24608954473370492,
                    0.24825153325210125,
                    0.2504135217704977,
                    0.25257551028889424,
                    0.2547374988072907,
                    0.2568994873256871,
                    0.2590614758440837,
                    0.2612234643624801,
                    0.26338545288087656,
                    0.265547441399273,
                    0.26770942991766944,
                    0.2698714184360659,
                    0.2720334069544623,
                    0.27419539547285876,
                    0.2763573839912553,
                    0.27851937250965175,
                    0.2806813610280482,
                    0.28284334954644463,
                    0.2850053380648412,
                    0.2871673265832375,
                    0.28932931510163395,
                    0.2914913036200304,
                    0.29365329213842695,
                    0.2958152806568234,
                    0.2979772691752198,
                    0.30013925769361627,
                    0.3023012462120128,
                    0.30446323473040926,
                    0.3066252232488056,
                    0.30878721176720214,
                    0.3109492002855986,
                    0.313111188803995,
                    0.31527317732239146,
                    0.317435165840788,
                    0.31959715435918445,
                    0.3217591428775809,
                    0.32392113139597734,
                    0.3260831199143739,
                    0.3282451084327702,
                    0.33040709695116666,
                    0.3325690854695631,
                    0.33473107398795965,
                    0.3368930625063561,
                    0.33905505102475253,
                    0.34121703954314897,
                    0.3433790280615455,
                    0.34554101657994196,
                    0.3477030050983383,
                    0.34986499361673473,
                    0.3520269821351313,
                    0.3541889706535277,
                    0.35635095917192416,
                    0.3585129476903207,
                    0.36067493620871716,
                    0.3628369247271136,
                    0.36499891324551004,
                    0.3671609017639065,
                    0.3693228902823029,
                    0.37148487880069936,
                    0.3736468673190958,
                    0.37580885583749235,
                    0.3779708443558888,
                    0.38013283287428523,
                    0.38229482139268167,
                    0.3844568099110782,
                    0.38661879842947455,
                    0.388780786947871,
                    0.39094277546626743,
                    0.393104763984664,
                    0.3952667525030604,
                    0.39742874102145687,
                    0.3995907295398534,
                    0.40175271805824986,
                    0.4039147065766463,
                    0.40607669509504263,
                    0.4082386836134392,
                    0.4104006721318356,
                    0.41256266065023206,
                    0.4147246491686285,
                    0.41688663768702505,
                    0.4190486262054215,
                    0.42121061472381793,
                    0.4233726032422144,
                    0.4255345917606108,
                    0.42769658027900725,
                    0.4298585687974037,
                    0.43202055731580014,
                    0.4341825458341967,
                    0.4363445343525931,
                    0.43850652287098957,
                    0.440668511389386,
                    0.44283049990778256,
                    0.444992488426179,
                    0.44715447694457533,
                    0.4493164654629719,
                    0.4514784539813683,
                    0.45364044249976476,
                    0.4558024310181612,
                    0.45796441953655775,
                    0.4601264080549542,
                    0.46228839657335064,
                    0.4644503850917471,
                    0.4666123736101435,
                    0.46877436212853996,
                    0.4709363506469364,
                    0.47309833916533284,
                    0.4752603276837294,
                    0.47742231620212583,
                    0.47958430472052227,
                    0.4817462932389187,
                    0.48390828175731526,
                    0.4860702702757116,
                    0.48823225879410803,
                    0.49039424731250447,
                    0.492556235830901,
                    0.49471822434929746,
                    0.4968802128676939,
                    0.49904220138609046,
                    0.5012041899044869,
                    0.5033661784228833,
                    0.5055281669412797,
                    0.5076901554596762,
                    0.5098521439780727,
                    0.5120141324964691,
                    0.5141761210148655,
                    0.5163381095332621,
                    0.5185000980516585,
                    0.520662086570055,
                    0.5228240750884514,
                    0.5249860636068479,
                    0.5271480521252443,
                    0.5293100406436407,
                    0.5314720291620372,
                    0.5336340176804337,
                    0.5357960061988302,
                    0.5379579947172266,
                    0.5401199832356232,
                    0.5422819717540196,
                    0.5444439602724159,
                    0.5466059487908124,
                    0.5487679373092089,
                    0.5509299258276054,
                    0.5530919143460018,
                    0.5552539028643982,
                    0.5574158913827948,
                    0.5595778799011912,
                    0.5617398684195877,
                    0.563901856937984,
                    0.5660638454563806,
                    0.568225833974777,
                    0.5703878224931734,
                    0.5725498110115699,
                    0.5747117995299664,
                    0.5768737880483629,
                    0.5790357765667593,
                    0.5811977650851557,
                    0.5833597536035522,
                    0.5855217421219486,
                    0.5876837306403451,
                    0.5898457191587416,
                    0.5920077076771381,
                    0.5941696961955345,
                    0.5963316847139309,
                    0.5984936732323275,
                    0.6006556617507239,
                    0.6028176502691204,
                    0.6049796387875167,
                    0.6071416273059133,
                    0.6093036158243097,
                    0.6114656043427061,
                    0.6136275928611026,
                    0.6157895813794991,
                    0.6179515698978956,
                    0.620113558416292,
                    0.6222755469346885,
                    0.6244375354530849,
                    0.6265995239714813,
                    0.6287615124898778,
                    0.6309235010082742,
                    0.6330854895266708,
                    0.6352474780450672,
                    0.6374094665634636,
                    0.6395714550818602,
                    0.6417334436002566,
                    0.643895432118653,
                    0.6460574206370494,
                    0.648219409155446,
                    0.6503813976738424,
                    0.6525433861922388,
                    0.6547053747106353,
                    0.6568673632290318,
                    0.6590293517474283,
                    0.6611913402658247,
                    0.663353328784221,
                    0.6655153173026176,
                    0.667677305821014,
                    0.6698392943394105,
                    0.6720012828578069,
                    0.6741632713762035,
                    0.6763252598945999,
                    0.6784872484129963,
                    0.6806492369313929,
                    0.6828112254497892,
                    0.6849732139681858,
                    0.6871352024865821,
                    0.6892971910049787,
                    0.691459179523375,
                    0.6936211680417715,
                    0.6957831565601681,
                    0.6979451450785644,
                    0.700107133596961,
                    0.7022691221153573,
                    0.7044311106337539,
                    0.7065930991521502,
                    0.7087550876705467,
                    0.7109170761889433,
                    0.7130790647073396,
                    0.715241053225736,
                    0.7174030417441325,
                    0.719565030262529,
                    0.7217270187809256,
                    0.7238890072993219,
                    0.7260509958177185,
                    0.7282129843361148,
                    0.7303749728545114,
                    0.7325369613729077,
                    0.7346989498913042,
                    0.7368609384097008,
                    0.7390229269280971,
                    0.7411849154464937,
                    0.74334690396489,
                    0.7455088924832866,
                    0.7476708810016829,
                    0.7498328695200794,
                    0.751994858038476,
                    0.7541568465568723,
                    0.7563188350752689,
                    0.7584808235936652,
                    0.7606428121120618,
                    0.7628048006304581
                  ],
                  "xaxis": "x",
                  "y": [
                    0.3607944941539757,
                    0.36700358112990017,
                    0.37323676839548603,
                    0.3794926082625676,
                    0.38576966637430904,
                    0.3920665236401423,
                    0.3983817781170591,
                    0.4047140468329075,
                    0.41106196754756225,
                    0.4174242004481015,
                    0.4237994297743756,
                    0.43018636537163496,
                    0.43658374416717316,
                    0.4429903315682545,
                    0.44940492277889704,
                    0.45582634403342115,
                    0.4622534537449934,
                    0.4686851435677505,
                    0.47512033937141623,
                    0.48155800212768884,
                    0.48799712870801076,
                    0.4944367525926988,
                    0.5008759444917449,
                    0.5073138128779527,
                    0.5137495044334158,
                    0.5201822044106642,
                    0.5266111369101395,
                    0.5330355650759759,
                    0.5394547912123484,
                    0.5458681568229505,
                    0.5522750425764368,
                    0.5586748682009084,
                    0.5650670923107641,
                    0.571451212169458,
                    0.5778267633918925,
                    0.5841933195903538,
                    0.5905504919680502,
                    0.5968979288644242,
                    0.603235315256534,
                    0.6095623722208461,
                    0.6158788563598547,
                    0.622184559197944,
                    0.6284793065509174,
                    0.6347629578735777,
                    0.6410354055896789,
                    0.6472965744084904,
                    0.6535464206320913,
                    0.6597849314573737,
                    0.6660121242765691,
                    0.6722280459799168,
                    0.6784327722638748,
                    0.6846264069480411,
                    0.6908090813036868,
                    0.6969809533965198,
                    0.7031422074460063,
                    0.7092930532032466,
                    0.7154337253490861,
                    0.7215644829137764,
                    0.7276856087191645,
                    0.7337974088440053,
                    0.7399002121126294,
                    0.7459943696068112,
                    0.7520802542003113,
                    0.7581582601151786,
                    0.7642288024985191,
                    0.7702923170180724,
                    0.7763492594745616,
                    0.7824001054284349,
                    0.7884453498382609,
                    0.794485506707729,
                    0.8005211087378755,
                    0.8065527069808754,
                    0.8125808704914682,
                    0.8186061859718324,
                    0.824629257405512,
                    0.8306507056757994,
                    0.83667116816382,
                    0.8426912983214239,
                    0.8487117652139119,
                    0.8547332530275275,
                    0.8607564605366493,
                    0.8667821005256012,
                    0.8728108991600639,
                    0.8788435953031294,
                    0.8848809397711793,
                    0.8909236945249289,
                    0.8969726317911458,
                    0.9030285331108314,
                    0.9090921883098838,
                    0.9151643943885908,
                    0.9212459543266445,
                    0.9273376758007308,
                    0.9334403698121779,
                    0.9395548492225689,
                    0.9456819271957114,
                    0.951822415544829,
                    0.9579771229843986,
                    0.9641468532865471,
                    0.9703324033425461,
                    0.9765345611304569,
                    0.9827541035906228,
                    0.9889917944112838,
                    0.9952483817271861,
                    1.001524595734707,
                    1.0078211462275883,
                    1.0141387200580119,
                    1.0204779785283369,
                    1.0268395547194131,
                    1.0332240507619699,
                    1.039632035058125,
                    1.046064039460615,
                    1.0525205564178493,
                    1.0590020360933812,
                    1.0655088834688426,
                    1.0720414554398137,
                    1.0786000579144692,
                    1.0851849429252016,
                    1.0917963057637077,
                    1.098434282150277,
                    1.1050989454482425,
                    1.1117903039346801,
                    1.1185082981385785,
                    1.1252527982577314,
                    1.132023601665592,
                    1.1388204305193048,
                    1.1456429294799657,
                    1.1524906635560304,
                    1.1593631160805309,
                    1.1662596868324964,
                    1.1731796903126206,
                    1.18012235418282,
                    1.1870868178788818,
                    1.1940721314049112,
                    1.2010772543176913,
                    1.208101054908532,
                    1.2151423095894767,
                    1.2221997024900846,
                    1.2292718252702635,
                    1.2363571771538548,
                    1.2434541651868956,
                    1.2505611047236098,
                    1.257676220142389,
                    1.26479764579307,
                    1.271923427175996,
                    1.2790515223523793,
                    1.2861798035846137,
                    1.2933060592042263,
                    1.3004279957042768,
                    1.30754324005206,
                    1.314649342217093,
                    1.3217437779084722,
                    1.328823951514792,
                    1.3358871992390096,
                    1.3429307924198006,
                    1.3499519410301517,
                    1.3569477973432307,
                    1.3639154597548162,
                    1.3708519767509597,
                    1.3777543510088823,
                    1.3846195436186126,
                    1.3914444784122966,
                    1.3982260463877203,
                    1.4049611102121604,
                    1.4116465087923697,
                    1.4182790618962338,
                    1.4248555748114504,
                    1.4313728430264365,
                    1.437827656918634,
                    1.4442168064353689,
                    1.4505370857525062,
                    1.4567852978962874,
                    1.4629582593139538,
                    1.4690528043790259,
                    1.4750657898174737,
                    1.4809940990413932,
                    1.4868346463772972,
                    1.492584381176662,
                    1.4982402917969166,
                    1.5037994094417506,
                    1.5092588118502688,
                    1.5146156268252682,
                    1.5198670355916937,
                    1.525010275977128,
                    1.5300426454070388,
                    1.5349615037083817,
                    1.53976427571604,
                    1.5444484536775385,
                    1.5490115994523888,
                    1.5534513465033728,
                    1.5577654016780307,
                    1.561951546779586,
                    1.5660076399274592,
                    1.5699316167085169,
                    1.5737214911210653,
                    1.5773753563145723,
                    1.580891385128924,
                    1.5842678304379345,
                    1.5875030253026179,
                    1.5905953829405186,
                    1.5935433965181696,
                    1.5963456387744246,
                    1.5990007614830735,
                    1.6015074947637606,
                    1.6038646462507793,
                    1.6060711001297836,
                    1.6081258160529404,
                    1.6100278279433788,
                    1.6117762427001356,
                    1.6133702388150322,
                    1.6148090649131206,
                    1.6160920382284396,
                    1.6172185430269157,
                    1.6181880289881938,
                    1.6190000095581616,
                    1.619654060283763,
                    1.6201498171415356,
                    1.6204869748710333,
                    1.6206652853239862,
                    1.6206845558397294,
                    1.6205446476569252,
                    1.6202454743712464,
                    1.6197870004480757,
                    1.619169239798779,
                    1.6183922544284834,
                    1.6174561531626621,
                    1.6163610904591523,
                    1.6151072653115457,
                    1.613694920249149,
                    1.6121243404379724,
                    1.6103958528864626,
                    1.608509825758874,
                    1.6064666677984485,
                    1.6042668278617307,
                    1.601910794564596,
                    1.599399096039779,
                    1.5967322998048896,
                    1.5939110127392002,
                    1.5909358811666705,
                    1.5878075910420182,
                    1.5845268682359,
                    1.581094478914625,
                    1.5775112300091598,
                    1.5737779697675913,
                    1.5698955883846495,
                    1.5658650187013343,
                    1.5616872369672437,
                    1.557363263657729,
                    1.5528941643376055,
                    1.548281050562821,
                    1.543525080811162,
                    1.5386274614328295,
                    1.533589447611542,
                    1.5284123443266455,
                    1.5230975073066302,
                    1.5176463439644177,
                    1.5120603143047833,
                    1.5063409317943304,
                    1.5004897641845716,
                    1.4945084342787935,
                    1.4883986206336324,
                    1.4821620581865047,
                    1.4758005388003692,
                    1.4693159117176076,
                    1.462710083915236,
                    1.4559850203540374,
                    1.4491427441146976,
                    1.4421853364145036,
                    1.4351149364987037,
                    1.4279337414011448,
                    1.4206440055694274,
                    1.4132480403503853,
                    1.4057482133323098,
                    1.3981469475410178,
                    1.3904467204874418,
                    1.3826500630651444,
                    1.3747595582967735,
                    1.3667778399291663,
                    1.3587075908774724,
                    1.3505515415193212,
                    1.3423124678407305,
                    1.3339931894360826,
                    1.3255965673651635,
                    1.317125501870837,
                    1.3085829299615819,
                    1.2999718228636585,
                    1.2912951833482735,
                    1.2825560429396232,
                    1.2737574590102263,
                    1.2649025117704134,
                    1.255994301159344,
                    1.247035943645284,
                    1.238030568943299,
                    1.2289813166588777,
                    1.2198913328662793,
                    1.2107637666307267,
                    1.2016017664837657,
                    1.1924084768613425,
                    1.1831870345143105,
                    1.173940564901189,
                    1.164672178573108,
                    1.1553849675609014,
                    1.1460820017743203,
                    1.1367663254233367,
                    1.127440953471394,
                    1.1181088681303977,
                    1.1087730154070932,
                    1.0994363017102733,
                    1.0901015905280926,
                    1.0807716991844882,
                    1.071449395683462,
                    1.062137395649658,
                    1.0528383593733401,
                    1.0435548889675348,
                    1.0342895256447089,
                    1.0250447471199355,
                    1.0158229651471182,
                    1.0066265231943494,
                    0.9974576942640522,
                    0.9883186788630663,
                    0.9792116031273523,
                    0.9701385171054878,
                    0.9611013932046194,
                    0.9521021248020269,
                    0.9431425250249208,
                    0.9342243257005942,
                    0.9253491764785022,
                    0.9165186441253363,
                    0.9077342119936449,
                    0.8989972796640162,
                    0.8903091627603692,
                    0.8816710929373459,
                    0.8730842180383804,
                    0.864549602422478,
                    0.8560682274573084,
                    0.8476409921757709,
                    0.8392687140927374,
                    0.8309521301782832,
                    0.8226918979833,
                    0.8144885969130262,
                    0.8063427296436552,
                    0.7982547236768607,
                    0.7902249330267439,
                    0.7822536400334377,
                    0.7743410572973161,
                    0.7664873297275072,
                    0.7586925366982095,
                    0.7509566943060759,
                    0.7432797577217811,
                    0.7356616236287304,
                    0.7281021327417191,
                    0.7206010723982775,
                    0.7131581792153302,
                    0.7057731418037463,
                    0.698445603533323,
                    0.6911751653407198,
                    0.6839613885728852,
                    0.6768037978585171,
                    0.6697018840001647,
                    0.6626551068796446,
                    0.6556628983695154,
                    0.648724665243459,
                    0.6418397920785551,
                    0.6350076441425383,
                    0.6282275702592957,
                    0.6214989056460304,
                    0.6148209747156689,
                    0.6081930938383093,
                    0.6016145740556844,
                    0.5950847237428267,
                    0.5886028512113574,
                    0.5821682672490307,
                    0.5757802875904138,
                    0.5694382353138093,
                    0.5631414431598057,
                    0.5568892557670511,
                    0.5506810318211521,
                    0.5445161461128163,
                    0.5383939915016579,
                    0.5323139807823276,
                    0.52627554844991,
                    0.5202781523617945,
                    0.5143212752934999,
                    0.5084044263862022,
                    0.5025271424839759,
                    0.49668898935904016,
                    0.4908895628235619,
                    0.48512848972683026,
                    0.4794054288368804,
                    0.47372007160591445,
                    0.46807214281910875,
                    0.46246140112666606,
                    0.4568876394592156,
                    0.4513506853269117,
                    0.4458504010028295,
                    0.44038668359149935,
                    0.43495946498364424,
                    0.42956871169844235,
                    0.42421442461484016,
                    0.4188966385936822,
                    0.4136154219926358,
                    0.408370876076113,
                    0.40316313432258993,
                    0.3979923616319364,
                    0.39285875343557847,
                    0.3877625347124921,
                    0.382703958914233,
                    0.3776833068023878,
                    0.372700885202004,
                    0.3677570256747388,
                    0.362852083115631,
                    0.3579864342775496,
                    0.353160476227543,
                    0.3483746247394476,
                    0.3436293126272554,
                    0.33892498802386983,
                    0.3342621126100104,
                    0.3296411597981266,
                    0.32506261287629945,
                    0.3205269631172003,
                    0.31603470785726123,
                    0.31158634855129214,
                    0.3071823888078432,
                    0.3028233324106644,
                    0.2985096813316647,
                    0.29424193374079854,
                    0.290020582018329,
                    0.28584611077492944,
                    0.2817189948850752,
                    0.2776396975391636,
                    0.27360866831976205,
                    0.26962634130735,
                    0.2656931332208514,
                    0.26180944159818825,
                    0.2579756430219946,
                    0.25419209139553534,
                    0.2504591162737489,
                    0.2467770212542139,
                    0.2431460824326862,
                    0.2395665469277019,
                    0.2360386314785631,
                    0.23256252112084366,
                    0.22913836794334302,
                    0.22576628993021453,
                    0.2224463698917603,
                    0.21917865448714804,
                    0.2159631533420576,
                    0.21279983826400606,
                    0.20968864255781983,
                    0.20662946044344685,
                    0.20362214657801597,
                    0.20066651568373875,
                    0.19776234228295786,
                    0.1949093605413179,
                    0.1921072642197337,
                    0.18935570673549215,
                    0.18665430133251196,
                    0.18400262136044443,
                    0.18140020066198262,
                    0.1788465340674067,
                    0.17634107799507037,
                    0.17388325115620595,
                    0.17147243536210618,
                    0.16910797643142086,
                    0.16678918519499392,
                    0.16451533859537198,
                    0.1622856808778025,
                    0.16009942486927384,
                    0.1579557533418553,
                    0.1558538204563461,
                    0.15379275328197983,
                    0.1517716533877006,
                    0.14978959850030327,
                    0.1478456442245172,
                    0.14593882581993434,
                    0.14406816002949294,
                    0.14223264695409069,
                    0.1404312719677478,
                    0.13866300766763462,
                    0.13692681585317446,
                    0.13522164952835838,
                    0.13354645492134556,
                    0.1319001735153929,
                    0.13028174408513557,
                    0.1286901047322519,
                    0.12712419491456017,
                    0.12558295746265866,
                    0.12406534057826678,
                    0.12257029980853101,
                    0.12109679999065356,
                    0.11964381716133318,
                    0.11821034042565454,
                    0.1167953737802202,
                    0.11539793788550753,
                    0.11401707178262238,
                    0.11265183454984459,
                    0.11130130689457973,
                    0.10996459267657956,
                    0.10864082035855009,
                    0.10732914438052857,
                    0.10602874645469466
                  ],
                  "yaxis": "y"
                },
                {
                  "hovertemplate": "",
                  "legendgroup": "CC Return",
                  "marker": {
                    "color": "rgb(255, 127, 14)"
                  },
                  "mode": "lines",
                  "name": "CC Return",
                  "showlegend": true,
                  "type": "scatter",
                  "x": [
                    -0.37983752305695445,
                    -0.3779415842631166,
                    -0.37604564546927877,
                    -0.3741497066754409,
                    -0.372253767881603,
                    -0.37035782908776516,
                    -0.36846189029392734,
                    -0.36656595150008947,
                    -0.3646700127062516,
                    -0.3627740739124138,
                    -0.3608781351185759,
                    -0.35898219632473805,
                    -0.3570862575309002,
                    -0.35519031873706236,
                    -0.3532943799432245,
                    -0.3513984411493866,
                    -0.3495025023555488,
                    -0.34760656356171094,
                    -0.34571062476787306,
                    -0.34381468597403525,
                    -0.3419187471801974,
                    -0.3400228083863595,
                    -0.3381268695925217,
                    -0.3362309307986838,
                    -0.33433499200484595,
                    -0.3324390532110081,
                    -0.33054311441717027,
                    -0.3286471756233324,
                    -0.32675123682949453,
                    -0.3248552980356567,
                    -0.32295935924181884,
                    -0.321063420447981,
                    -0.3191674816541431,
                    -0.3172715428603053,
                    -0.3153756040664674,
                    -0.3134796652726296,
                    -0.31158372647879173,
                    -0.30968778768495386,
                    -0.307791848891116,
                    -0.3058959100972782,
                    -0.3039999713034403,
                    -0.30210403250960244,
                    -0.3002080937157646,
                    -0.29831215492192675,
                    -0.2964162161280889,
                    -0.294520277334251,
                    -0.29262433854041314,
                    -0.29072839974657533,
                    -0.28883246095273746,
                    -0.28693652215889964,
                    -0.2850405833650618,
                    -0.2831446445712239,
                    -0.28124870577738603,
                    -0.2793527669835482,
                    -0.27745682818971035,
                    -0.2755608893958725,
                    -0.27366495060203466,
                    -0.2717690118081968,
                    -0.2698730730143589,
                    -0.26797713422052105,
                    -0.26608119542668324,
                    -0.26418525663284537,
                    -0.26228931783900755,
                    -0.2603933790451697,
                    -0.2584974402513318,
                    -0.25660150145749394,
                    -0.25470556266365607,
                    -0.25280962386981826,
                    -0.2509136850759804,
                    -0.24901774628214254,
                    -0.2471218074883047,
                    -0.24522586869446683,
                    -0.243329929900629,
                    -0.24143399110679112,
                    -0.23953805231295328,
                    -0.23764211351911543,
                    -0.23574617472527756,
                    -0.23385023593143972,
                    -0.23195429713760188,
                    -0.230058358343764,
                    -0.22816241954992617,
                    -0.2262664807560883,
                    -0.22437054196225045,
                    -0.2224746031684126,
                    -0.22057866437457474,
                    -0.2186827255807369,
                    -0.216786786786899,
                    -0.21489084799306116,
                    -0.21299490919922331,
                    -0.21109897040538544,
                    -0.2092030316115476,
                    -0.20730709281770973,
                    -0.2054111540238719,
                    -0.20351521523003405,
                    -0.20161927643619618,
                    -0.19972333764235833,
                    -0.19782739884852046,
                    -0.19593146005468262,
                    -0.19403552126084478,
                    -0.1921395824670069,
                    -0.19024364367316907,
                    -0.18834770487933122,
                    -0.18645176608549335,
                    -0.1845558272916555,
                    -0.18265988849781764,
                    -0.1807639497039798,
                    -0.17886801091014196,
                    -0.17697207211630409,
                    -0.17507613332246624,
                    -0.17318019452862837,
                    -0.17128425573479053,
                    -0.1693883169409527,
                    -0.16749237814711482,
                    -0.16559643935327698,
                    -0.1637005005594391,
                    -0.16180456176560126,
                    -0.15990862297176342,
                    -0.15801268417792555,
                    -0.1561167453840877,
                    -0.15422080659024986,
                    -0.152324867796412,
                    -0.15042892900257415,
                    -0.14853299020873628,
                    -0.14663705141489844,
                    -0.1447411126210606,
                    -0.14284517382722273,
                    -0.14094923503338488,
                    -0.13905329623954701,
                    -0.13715735744570917,
                    -0.13526141865187133,
                    -0.13336547985803346,
                    -0.13146954106419562,
                    -0.12957360227035775,
                    -0.12767766347651988,
                    -0.12578172468268206,
                    -0.12388578588884419,
                    -0.12198984709500632,
                    -0.12009390830116845,
                    -0.11819796950733064,
                    -0.11630203071349277,
                    -0.11440609191965495,
                    -0.11251015312581703,
                    -0.11061421433197921,
                    -0.10871827553814134,
                    -0.10682233674430353,
                    -0.10492639795046566,
                    -0.10303045915662778,
                    -0.10113452036278991,
                    -0.0992385815689521,
                    -0.09734264277511423,
                    -0.09544670398127642,
                    -0.09355076518743854,
                    -0.09165482639360067,
                    -0.0897588875997628,
                    -0.08786294880592499,
                    -0.08596701001208712,
                    -0.0840710712182493,
                    -0.08217513242441138,
                    -0.08027919363057356,
                    -0.0783832548367357,
                    -0.07648731604289788,
                    -0.07459137724906001,
                    -0.07269543845522214,
                    -0.07079949966138427,
                    -0.06890356086754645,
                    -0.06700762207370858,
                    -0.06511168327987077,
                    -0.06321574448603284,
                    -0.06131980569219503,
                    -0.05942386689835716,
                    -0.057527928104519344,
                    -0.05563198931068147,
                    -0.05373605051684355,
                    -0.05184011172300573,
                    -0.04994417292916786,
                    -0.04804823413533005,
                    -0.04615229534149218,
                    -0.04425635654765431,
                    -0.04236041775381644,
                    -0.04046447895997862,
                    -0.03856854016614075,
                    -0.03667260137230294,
                    -0.03477666257846501,
                    -0.0328807237846272,
                    -0.030984784990789327,
                    -0.029088846196951512,
                    -0.027192907403113642,
                    -0.02529696860927577,
                    -0.0234010298154379,
                    -0.021505091021600087,
                    -0.019609152227762217,
                    -0.017713213433924402,
                    -0.015817274640086476,
                    -0.013921335846248661,
                    -0.012025397052410791,
                    -0.010129458258572976,
                    -0.008233519464735106,
                    -0.0063375806708972915,
                    -0.004441641877059366,
                    -0.002545703083221551,
                    -0.0006497642893836808,
                    0.001246174504454134,
                    0.003142113298292004,
                    0.005038052092129874,
                    0.006933990885967745,
                    0.00882992967980556,
                    0.01072586847364343,
                    0.012621807267481244,
                    0.01451774606131917,
                    0.016413684855156985,
                    0.018309623648994855,
                    0.02020556244283267,
                    0.02210150123667054,
                    0.02399744003050841,
                    0.02589337882434628,
                    0.027789317618184095,
                    0.029685256412021965,
                    0.03158119520585978,
                    0.033477133999697706,
                    0.03537307279353552,
                    0.03726901158737339,
                    0.039164950381211205,
                    0.041060889175049076,
                    0.042956827968886946,
                    0.044852766762724816,
                    0.04674870555656263,
                    0.0486446443504005,
                    0.050540583144238316,
                    0.05243652193807624,
                    0.054332460731914056,
                    0.056228399525751926,
                    0.0581243383195898,
                    0.06002027711342761,
                    0.06191621590726554,
                    0.06381215470110335,
                    0.06570809349494122,
                    0.06760403228877904,
                    0.06949997108261691,
                    0.07139590987645472,
                    0.07329184867029265,
                    0.07518778746413046,
                    0.07708372625796833,
                    0.07897966505180615,
                    0.08087560384564402,
                    0.08277154263948189,
                    0.08466748143331976,
                    0.08656342022715757,
                    0.08845935902099544,
                    0.09035529781483326,
                    0.09225123660867118,
                    0.094147175402509,
                    0.09604311419634687,
                    0.09793905299018468,
                    0.09983499178402255,
                    0.10173093057786042,
                    0.1036268693716983,
                    0.10552280816553611,
                    0.10741874695937398,
                    0.1093146857532118,
                    0.11121062454704972,
                    0.11310656334088753,
                    0.1150025021347254,
                    0.11689844092856322,
                    0.11879437972240109,
                    0.12069031851623896,
                    0.12258625731007683,
                    0.1244821961039147,
                    0.12637813489775246,
                    0.12827407369159033,
                    0.1301700124854282,
                    0.13206595127926607,
                    0.13396189007310394,
                    0.1358578288669418,
                    0.13775376766077957,
                    0.13964970645461755,
                    0.1415456452484553,
                    0.14344158404229318,
                    0.14533752283613105,
                    0.14723346162996892,
                    0.1491294004238068,
                    0.15102533921764455,
                    0.15292127801148242,
                    0.1548172168053204,
                    0.15671315559915816,
                    0.15860909439299603,
                    0.1605050331868338,
                    0.16240097198067177,
                    0.16429691077450964,
                    0.1661928495683474,
                    0.16808878836218538,
                    0.16998472715602314,
                    0.171880665949861,
                    0.17377660474369888,
                    0.17567254353753675,
                    0.17756848233137462,
                    0.17946442112521238,
                    0.18136035991905025,
                    0.18325629871288823,
                    0.185152237506726,
                    0.18704817630056386,
                    0.18894411509440162,
                    0.1908400538882396,
                    0.19273599268207736,
                    0.19463193147591523,
                    0.1965278702697531,
                    0.19842380906359097,
                    0.20031974785742884,
                    0.2022156866512666,
                    0.20411162544510447,
                    0.20600756423894245,
                    0.2079035030327802,
                    0.20979944182661808,
                    0.21169538062045584,
                    0.21359131941429382,
                    0.2154872582081317,
                    0.21738319700196945,
                    0.21927913579580732,
                    0.2211750745896452,
                    0.22307101338348306,
                    0.22496695217732093,
                    0.2268628909711587,
                    0.22875882976499667,
                    0.23065476855883443,
                    0.2325507073526723,
                    0.23444664614651017,
                    0.23634258494034804,
                    0.23823852373418591,
                    0.24013446252802367,
                    0.24203040132186154,
                    0.24392634011569952,
                    0.24582227890953728,
                    0.24771821770337515,
                    0.2496141564972129,
                    0.2515100952910509,
                    0.25340603408488876,
                    0.2553019728787265,
                    0.2571979116725644,
                    0.25909385046640226,
                    0.26098978926024013,
                    0.262885728054078,
                    0.26478166684791576,
                    0.26667760564175375,
                    0.2685735444355915,
                    0.2704694832294294,
                    0.27236542202326736,
                    0.2742613608171051,
                    0.276157299610943,
                    0.27805323840478074,
                    0.2799491771986187,
                    0.2818451159924566,
                    0.28374105478629436,
                    0.2856369935801322,
                    0.2875329323739701,
                    0.28942887116780797,
                    0.29132480996164584,
                    0.2932207487554836,
                    0.2951166875493216,
                    0.29701262634315934,
                    0.2989085651369972,
                    0.3008045039308351,
                    0.30270044272467295,
                    0.3045963815185108,
                    0.3064923203123486,
                    0.30838825910618645,
                    0.3102841979000244,
                    0.3121801366938622,
                    0.31407607548770006,
                    0.3159720142815378,
                    0.3178679530753758,
                    0.31976389186921367,
                    0.3216598306630514,
                    0.3235557694568893,
                    0.32545170825072717,
                    0.32734764704456504,
                    0.3292435858384029,
                    0.33113952463224067,
                    0.33303546342607865,
                    0.3349314022199164,
                    0.3368273410137543,
                    0.33872327980759215,
                    0.34061921860143,
                    0.3425151573952679,
                    0.34441109618910565,
                    0.3463070349829435,
                    0.3482029737767815,
                    0.35009891257061926,
                    0.35199485136445713,
                    0.3538907901582949,
                    0.35578672895213287,
                    0.35768266774597063,
                    0.3595786065398085,
                    0.36147454533364637,
                    0.36337048412748424,
                    0.3652664229213221,
                    0.36716236171515987,
                    0.36905830050899774,
                    0.3709542393028357,
                    0.3728501780966735,
                    0.37474611689051135,
                    0.3766420556843491,
                    0.3785379944781871,
                    0.38043393327202496,
                    0.3823298720658627,
                    0.3842258108597007,
                    0.38612174965353846,
                    0.38801768844737633,
                    0.3899136272412142,
                    0.39180956603505207,
                    0.39370550482888994,
                    0.3956014436227277,
                    0.39749738241656557,
                    0.39939332121040355,
                    0.4012892600042413,
                    0.4031851987980792,
                    0.40508113759191694,
                    0.4069770763857549,
                    0.4088730151795928,
                    0.41076895397343055,
                    0.4126648927672684,
                    0.4145608315611063,
                    0.41645677035494416,
                    0.41835270914878203,
                    0.4202486479426198,
                    0.42214458673645777,
                    0.42404052553029553,
                    0.4259364643241334,
                    0.42783240311797127,
                    0.42972834191180914,
                    0.431624280705647,
                    0.43352021949948477,
                    0.43541615829332264,
                    0.4373120970871606,
                    0.4392080358809984,
                    0.44110397467483625,
                    0.442999913468674,
                    0.444895852262512,
                    0.44679179105634986,
                    0.4486877298501876,
                    0.4505836686440255,
                    0.45247960743786336,
                    0.45437554623170123,
                    0.4562714850255391,
                    0.45816742381937686,
                    0.46006336261321484,
                    0.4619593014070526,
                    0.4638552402008905,
                    0.46575117899472834,
                    0.4676471177885662,
                    0.4695430565824041,
                    0.47143899537624184,
                    0.4733349341700797,
                    0.4752308729639177,
                    0.47712681175775545,
                    0.4790227505515933,
                    0.4809186893454311,
                    0.48281462813926906,
                    0.48471056693310693,
                    0.4866065057269447,
                    0.48850244452078256,
                    0.49039838331462043,
                    0.4922943221084583,
                    0.4941902609022962,
                    0.49608619969613404,
                    0.4979821384899719,
                    0.4998780772838097,
                    0.5017740160776476,
                    0.5036699548714856,
                    0.5055658936653233,
                    0.5074618324591611,
                    0.5093577712529989,
                    0.5112537100468368,
                    0.5131496488406746,
                    0.5150455876345126,
                    0.5169415264283503,
                    0.5188374652221883,
                    0.5207334040160261,
                    0.5226293428098638,
                    0.5245252816037018,
                    0.5264212203975398,
                    0.5283171591913776,
                    0.5302130979852153,
                    0.5321090367790531,
                    0.5340049755728911,
                    0.535900914366729,
                    0.5377968531605668,
                    0.5396927919544046,
                    0.5415887307482425,
                    0.5434846695420803,
                    0.5453806083359183,
                    0.547276547129756,
                    0.549172485923594,
                    0.5510684247174318,
                    0.5529643635112695,
                    0.5548603023051075,
                    0.5567562410989453,
                    0.5586521798927833,
                    0.560548118686621,
                    0.5624440574804588,
                    0.5643399962742968,
                    0.5662359350681345
                  ],
                  "xaxis": "x",
                  "y": [
                    0.258441072451682,
                    0.26261432325440676,
                    0.26679852856341435,
                    0.27099259719261237,
                    0.2751954466483397,
                    0.2794060049338323,
                    0.2836232123579455,
                    0.28784602334440546,
                    0.2920734082377746,
                    0.29630435510223,
                    0.3005378715091756,
                    0.3047729863096467,
                    0.309008751387399,
                    0.3132442433885345,
                    0.3174785654234729,
                    0.3217108487370505,
                    0.32594025434251483,
                    0.33016597461517555,
                    0.3343872348414855,
                    0.33860329471933365,
                    0.34281344980538503,
                    0.3470170329053242,
                    0.35121341540294126,
                    0.35540200852405596,
                    0.35958226453137027,
                    0.3637536778464435,
                    0.3679157860950867,
                    0.3720681710726191,
                    0.37621045962555855,
                    0.38034232444648186,
                    0.3844634847789631,
                    0.3885737070296772,
                    0.39267280528496107,
                    0.39676064172932907,
                    0.40083712696367446,
                    0.4049022202211115,
                    0.40895592947867304,
                    0.4129983114633333,
                    0.4170294715510983,
                    0.42104956355818607,
                    0.42505878942360953,
                    0.42905739878277577,
                    0.43304568843202085,
                    0.43702400168431593,
                    0.440992727616694,
                    0.44495230021028237,
                    0.44890319738414464,
                    0.4528459399244793,
                    0.4567810903110432,
                    0.4607092514430173,
                    0.46463106526685727,
                    0.46854721130900906,
                    0.47245840511669973,
                    0.47636539661034105,
                    0.4802689683514043,
                    0.48416993372993655,
                    0.48806913507620897,
                    0.49196744170126644,
                    0.4958657478714549,
                    0.49976497072227044,
                    0.5036660481171369,
                    0.5075699364569795,
                    0.5114776084466827,
                    0.5153900508247573,
                    0.5193082620627263,
                    0.5232332500409385,
                    0.5271660297076689,
                    0.5311076207285247,
                    0.5350590451332798,
                    0.539021324967379,
                    0.542995479955418,
                    0.546982525183966,
                    0.5509834688111223,
                    0.5549993098102067,
                    0.5590310357549586,
                    0.5630796206535781,
                    0.567146022838857,
                    0.5712311829215677,
                    0.5753360218141264,
                    0.5794614388314183,
                    0.5836083098754712,
                    0.5877774857104713,
                    0.591969790334375,
                    0.5961860194531152,
                    0.6004269390631093,
                    0.6046932841474758,
                    0.6089857574910216,
                    0.6133050286187117,
                    0.6176517328619512,
                    0.6220264705565993,
                    0.6264298063762216,
                    0.6308622688036399,
                    0.6353243497433694,
                    0.6398165042770697,
                    0.6443391505636232,
                    0.6488926698849646,
                    0.6534774068382461,
                    0.6580936696744022,
                    0.6627417307826365,
                    0.6674218273197944,
                    0.6721341619830422,
                    0.6768789039237146,
                    0.6816561897996223,
                    0.6864661249625686,
                    0.6913087847772599,
                    0.6961842160672397,
                    0.7010924386829477,
                    0.706033447186448,
                    0.7110072126468696,
                    0.7160136845400782,
                    0.7210527927456066,
                    0.7261244496333994,
                    0.7312285522324663,
                    0.7363649844731027,
                    0.7415336194939354,
                    0.7467343220046531,
                    0.7519669506949357,
                    0.7572313606797687,
                    0.7625274059710279,
                    0.7678549419649685,
                    0.7732138279350218,
                    0.7786039295191073,
                    0.7840251211905309,
                    0.7894772887014176,
                    0.7949603314875546,
                    0.8004741650234987,
                    0.8060187231168059,
                    0.8115939601303049,
                    0.8171998531214205,
                    0.822836403887718,
                    0.8285036409080005,
                    0.8342016211685465,
                    0.8399304318643295,
                    0.8456901919653994,
                    0.8514810536389522,
                    0.8573032035180265,
                    0.8631568638082177,
                    0.8690422932242702,
                    0.874959787748962,
                    0.8809096812072311,
                    0.8868923456491179,
                    0.8929081915357227,
                    0.8989576677230467,
                    0.9050412612392893,
                    0.9111594968518926,
                    0.9173129364213878,
                    0.9235021780398666,
                    0.9297278549527007,
                    0.9359906342629425,
                    0.9422912154186818,
                    0.9486303284844443,
                    0.9550087321986084,
                    0.9614272118196199,
                    0.9678865767646835,
                    0.9743876580454303,
                    0.9809313055059194,
                    0.9875183848691711,
                    0.9941497745992427,
                    1.0008263625866776,
                    1.0075490426659386,
                    1.0143187109742027,
                    1.0211362621616347,
                    1.028002585463964,
                    1.0349185606488513,
                    1.041885053848199,
                    1.048902913289118,
                    1.055972964936847,
                    1.0630960080634102,
                    1.0702728107562849,
                    1.0775041053817207,
                    1.0847905840177472,
                    1.0921328938721813,
                    1.0995316327012088,
                    1.1069873442442744,
                    1.114500513691174,
                    1.1220715631972642,
                    1.129700847462748,
                    1.1373886493918965,
                    1.1451351758479695,
                    1.1529405535193857,
                    1.1608048249124596,
                    1.1687279444857068,
                    1.1767097749403181,
                    1.184750083681002,
                    1.1928485394608777,
                    1.20100470922354,
                    1.2092180551548297,
                    1.2174879319561562,
                    1.2258135843505158,
                    1.2341941448315905,
                    1.2426286316654835,
                    1.2511159471538111,
                    1.2596548761659834,
                    1.2682440849475614,
                    1.2768821202106395,
                    1.2855674085112025,
                    1.294298255917411,
                    1.3030728479717182,
                    1.3118892499487205,
                    1.3207454074095248,
                    1.3296391470524378,
                    1.3385681778586354,
                    1.3475300925304983,
                    1.3565223692191757,
                    1.36554237353696,
                    1.3745873608489947,
                    1.3836544788378793,
                    1.3927407703337191,
                    1.4018431764012798,
                    1.4109585396749393,
                    1.4200836079313421,
                    1.4292150378887374,
                    1.4383493992213106,
                    1.4474831787759996,
                    1.4566127849786867,
                    1.4657345524159648,
                    1.4748447465781938,
                    1.483939568749001,
                    1.493015161025987,
                    1.5020676114569969,
                    1.5110929592760516,
                    1.5200872002227541,
                    1.5290462919288619,
                    1.537966159355592,
                    1.5468427002652236,
                    1.5556717907105708,
                    1.5644492905260532,
                    1.573171048804242,
                    1.5818329093420205,
                    1.5904307160408087,
                    1.5989603182456735,
                    1.6074175760086062,
                    1.615798365261717,
                    1.6240985828866827,
                    1.6323141516673652,
                    1.6404410251132062,
                    1.6484751921416914,
                    1.6564126816089266,
                    1.6642495666781834,
                    1.6719819690170585,
                    1.6796060628147869,
                    1.6871180786121063,
                    1.6945143069369826,
                    1.7017911017404415,
                    1.7089448836276664,
                    1.7159721428804935,
                    1.7228694422683606,
                    1.7296334196457315,
                    1.7362607903349465,
                    1.7427483492944014,
                    1.749092973072846,
                    1.75529162155152,
                    1.7613413394766988,
                    1.767239257786095,
                    1.7729825947333202,
                    1.7785686568154822,
                    1.7839948395096377,
                    1.7892586278245999,
                    1.7943575966751888,
                    1.7992894110866866,
                    1.8040518262377356,
                    1.8086426873504982,
                    1.8130599294372929,
                    1.8173015769133272,
                    1.8213657430854806,
                    1.8252506295273903,
                    1.8289545253512414,
                    1.8324758063869095,
                    1.8358129342791083,
                    1.838964455513302,
                    1.8419290003810764,
                    1.8447052818955902,
                    1.8472920946676028,
                    1.8496883137523594,
                    1.8518928934773884,
                    1.8539048662609408,
                    1.8557233414304783,
                    1.8573475040502059,
                    1.8587766137662027,
                    1.860010003677238,
                    1.861047079238824,
                    1.8618873172075212,
                    1.86253026463191,
                    1.8629755378960438,
                    1.8632228218205575,
                    1.8632718688259664,
                    1.86312249816198,
                    1.8627745952060268,
                    1.8622281108334524,
                    1.8614830608611792,
                    1.8605395255659227,
                    1.859397649277355,
                    1.8580576400459383,
                    1.8565197693844777,
                    1.8547843720817796,
                    1.852851846086163,
                    1.8507226524559763,
                    1.8483973153736541,
                    1.8458764222193103,
                    1.8431606236993159,
                    1.840250634024832,
                    1.8371472311347885,
                    1.8338512569573926,
                    1.8303636177038674,
                    1.8266852841877685,
                    1.8228172921629646,
                    1.8187607426730699,
                    1.8145168024049643,
                    1.8100867040388342,
                    1.8054717465870973,
                    1.8006732957144749,
                    1.795692784031484,
                    1.7905317113536585,
                    1.7851916449188443,
                    1.7796742195551056,
                    1.773981137791875,
                    1.7681141699072411,
                    1.7620751539045116,
                    1.7558659954114506,
                    1.7494886674959735,
                    1.7429452103923975,
                    1.7362377311327788,
                    1.7293684030783036,
                    1.722339465346112,
                    1.7151532221275008,
                    1.7078120418938825,
                    1.7003183564874578,
                    1.6926746600940918,
                    1.684883508096441,
                    1.6769475158059635,
                    1.668869357073017,
                    1.6606517627748372,
                    1.652297519181794,
                    1.6438094662028833,
                    1.6351904955120238,
                    1.6264435485572877,
                    1.6175716144557641,
                    1.6085777277773272,
                    1.5994649662210918,
                    1.5902364481888684,
                    1.5808953302604587,
                    1.5714448045760585,
                    1.561888096131546,
                    1.5522284599927936,
                    1.5424691784356013,
                    1.532613558018185,
                    1.5226649265934473,
                    1.5126266302686575,
                    1.5025020303203085,
                    1.4922945000722607,
                    1.4820074217453703,
                    1.4716441832870362,
                    1.4612081751891708,
                    1.4507027873031728,
                    1.44013140566055,
                    1.4294974093078054,
                    1.418804167164186,
                    1.4080550349108134,
                    1.3972533519195798,
                    1.3864024382300904,
                    1.3755055915827072,
                    1.364566084515548,
                    1.3535871615330601,
                    1.3425720363534686,
                    1.3315238892421444,
                    1.3204458644375423,
                    1.3093410676760233,
                    1.2982125638215094,
                    1.287063374605446,
                    1.2758964764821934,
                    1.264714798604443,
                    1.2535212209228608,
                    1.2423185724136354,
                    1.2311096294371269,
                    1.2198971142303379,
                    1.2086836935353906,
                    1.197471977365714,
                    1.1862645179111155,
                    1.1750638085824003,
                    1.1638722831957162,
                    1.1526923152962634,
                    1.1415262176205383,
                    1.1303762416957903,
                    1.119244577574874,
                    1.10813335370424,
                    1.097044636922354,
                    1.085980432585368,
                    1.0749426848165224,
                    1.063933276875285,
                    1.0529540316419284,
                    1.0420067122128378,
                    1.0310930226015707,
                    1.0202146085403523,
                    1.0093730583764182,
                    0.9985699040573922,
                    0.9878066221996369,
                    0.9770846352333479,
                    0.9664053126179792,
                    0.9557699721214612,
                    0.9451798811565798,
                    0.9346362581677793,
                    0.9241402740616437,
                    0.9136930536742489,
                    0.9032956772686358,
                    0.89294918205566,
                    0.8826545637315403,
                    0.872412778025559,
                    0.8622247422514399,
                    0.8520913368560934,
                    0.8420134069596109,
                    0.8319917638805389,
                    0.8220271866407178,
                    0.8121204234441772,
                    0.8022721931248515,
                    0.7924831865581508,
                    0.7827540680316936,
                    0.7730854765708465,
                    0.7634780272149921,
                    0.7539323122408059,
                    0.7444489023291636,
                    0.7350283476726195,
                    0.7256711790207917,
                    0.7163779086613103,
                    0.7071490313343873,
                    0.6979850250794106,
                    0.6888863520123178,
                    0.6798534590329195,
                    0.6708867784616435,
                    0.661986728605576,
                    0.6531537142539956,
                    0.6443881271039653,
                    0.6356903461168641,
                    0.6270607378070706,
                    0.6184996564643211,
                    0.6100074443115765,
                    0.601584431600499,
                    0.5932309366469316,
                    0.5849472658090002,
                    0.5767337134107317,
                    0.5685905616142719,
                    0.5605180802439969,
                    0.5525165265660021,
                    0.5445861450266057,
                    0.5367271669536426,
                    0.5289398102244659,
                    0.521224278904642,
                    0.5135807628614415,
                    0.5060094373562517,
                    0.49851046262010296,
                    0.49108398341650195,
                    0.4837301285957599,
                    0.4764490106449994,
                    0.4692407252379516,
                    0.46210535078861004,
                    0.4550429480127319,
                    0.44805355950105064,
                    0.4411372093079815,
                    0.4342939025594312,
                    0.42752362508320463,
                    0.4208263430653193,
                    0.4142020027353622,
                    0.40765053008383234,
                    0.40117183061421946,
                    0.3947657891323393,
                    0.3884322695752327,
                    0.38217111488170735,
                    0.3759821469063568,
                    0.36986516637864364,
                    0.36381995290839836,
                    0.357846265038822,
                    0.35194384034783177,
                    0.346112395598331,
                    0.34035162693773063,
                    0.33466121014680617,
                    0.3290408009376997,
                    0.323490035300666,
                    0.3180085298988797,
                    0.3125958825104218,
                    0.3072516725163138,
                    0.30197546143325016,
                    0.2967667934894759,
                    0.2916251962420533,
                    0.2865501812335663,
                    0.28154124468613373,
                    0.27659786823044313,
                    0.2717195196673472,
                    0.266905653759447,
                    0.26215571304993796,
                    0.25746912870588884,
                    0.25284532138303834,
                    0.24828370210908657,
                    0.2437836731824184,
                    0.23934462908311463,
                    0.23496595739309464,
                    0.2306470397221953,
                    0.22638725263698356,
                    0.22218596858912254,
                    0.21804255684010937,
                    0.2139563843792624,
                    0.2099268168318699
                  ],
                  "yaxis": "y"
                }
              ],
              "layout": {
                "barmode": "overlay",
                "hovermode": "closest",
                "legend": {
                  "traceorder": "reversed",
                  "x": 0.01,
                  "xanchor": "left",
                  "y": 0.99,
                  "yanchor": "top"
                },
                "template": {
                  "data": {
                    "bar": [
                      {
                        "error_x": {
                          "color": "#2a3f5f"
                        },
                        "error_y": {
                          "color": "#2a3f5f"
                        },
                        "marker": {
                          "line": {
                            "color": "white",
                            "width": 0.5
                          },
                          "pattern": {
                            "fillmode": "overlay",
                            "size": 10,
                            "solidity": 0.2
                          }
                        },
                        "type": "bar"
                      }
                    ],
                    "barpolar": [
                      {
                        "marker": {
                          "line": {
                            "color": "white",
                            "width": 0.5
                          },
                          "pattern": {
                            "fillmode": "overlay",
                            "size": 10,
                            "solidity": 0.2
                          }
                        },
                        "type": "barpolar"
                      }
                    ],
                    "carpet": [
                      {
                        "aaxis": {
                          "endlinecolor": "#2a3f5f",
                          "gridcolor": "#C8D4E3",
                          "linecolor": "#C8D4E3",
                          "minorgridcolor": "#C8D4E3",
                          "startlinecolor": "#2a3f5f"
                        },
                        "baxis": {
                          "endlinecolor": "#2a3f5f",
                          "gridcolor": "#C8D4E3",
                          "linecolor": "#C8D4E3",
                          "minorgridcolor": "#C8D4E3",
                          "startlinecolor": "#2a3f5f"
                        },
                        "type": "carpet"
                      }
                    ],
                    "choropleth": [
                      {
                        "colorbar": {
                          "outlinewidth": 0,
                          "ticks": ""
                        },
                        "type": "choropleth"
                      }
                    ],
                    "contour": [
                      {
                        "colorbar": {
                          "outlinewidth": 0,
                          "ticks": ""
                        },
                        "colorscale": [
                          [
                            0,
                            "#0d0887"
                          ],
                          [
                            0.1111111111111111,
                            "#46039f"
                          ],
                          [
                            0.2222222222222222,
                            "#7201a8"
                          ],
                          [
                            0.3333333333333333,
                            "#9c179e"
                          ],
                          [
                            0.4444444444444444,
                            "#bd3786"
                          ],
                          [
                            0.5555555555555556,
                            "#d8576b"
                          ],
                          [
                            0.6666666666666666,
                            "#ed7953"
                          ],
                          [
                            0.7777777777777778,
                            "#fb9f3a"
                          ],
                          [
                            0.8888888888888888,
                            "#fdca26"
                          ],
                          [
                            1,
                            "#f0f921"
                          ]
                        ],
                        "type": "contour"
                      }
                    ],
                    "contourcarpet": [
                      {
                        "colorbar": {
                          "outlinewidth": 0,
                          "ticks": ""
                        },
                        "type": "contourcarpet"
                      }
                    ],
                    "heatmap": [
                      {
                        "colorbar": {
                          "outlinewidth": 0,
                          "ticks": ""
                        },
                        "colorscale": [
                          [
                            0,
                            "#0d0887"
                          ],
                          [
                            0.1111111111111111,
                            "#46039f"
                          ],
                          [
                            0.2222222222222222,
                            "#7201a8"
                          ],
                          [
                            0.3333333333333333,
                            "#9c179e"
                          ],
                          [
                            0.4444444444444444,
                            "#bd3786"
                          ],
                          [
                            0.5555555555555556,
                            "#d8576b"
                          ],
                          [
                            0.6666666666666666,
                            "#ed7953"
                          ],
                          [
                            0.7777777777777778,
                            "#fb9f3a"
                          ],
                          [
                            0.8888888888888888,
                            "#fdca26"
                          ],
                          [
                            1,
                            "#f0f921"
                          ]
                        ],
                        "type": "heatmap"
                      }
                    ],
                    "heatmapgl": [
                      {
                        "colorbar": {
                          "outlinewidth": 0,
                          "ticks": ""
                        },
                        "colorscale": [
                          [
                            0,
                            "#0d0887"
                          ],
                          [
                            0.1111111111111111,
                            "#46039f"
                          ],
                          [
                            0.2222222222222222,
                            "#7201a8"
                          ],
                          [
                            0.3333333333333333,
                            "#9c179e"
                          ],
                          [
                            0.4444444444444444,
                            "#bd3786"
                          ],
                          [
                            0.5555555555555556,
                            "#d8576b"
                          ],
                          [
                            0.6666666666666666,
                            "#ed7953"
                          ],
                          [
                            0.7777777777777778,
                            "#fb9f3a"
                          ],
                          [
                            0.8888888888888888,
                            "#fdca26"
                          ],
                          [
                            1,
                            "#f0f921"
                          ]
                        ],
                        "type": "heatmapgl"
                      }
                    ],
                    "histogram": [
                      {
                        "marker": {
                          "pattern": {
                            "fillmode": "overlay",
                            "size": 10,
                            "solidity": 0.2
                          }
                        },
                        "type": "histogram"
                      }
                    ],
                    "histogram2d": [
                      {
                        "colorbar": {
                          "outlinewidth": 0,
                          "ticks": ""
                        },
                        "colorscale": [
                          [
                            0,
                            "#0d0887"
                          ],
                          [
                            0.1111111111111111,
                            "#46039f"
                          ],
                          [
                            0.2222222222222222,
                            "#7201a8"
                          ],
                          [
                            0.3333333333333333,
                            "#9c179e"
                          ],
                          [
                            0.4444444444444444,
                            "#bd3786"
                          ],
                          [
                            0.5555555555555556,
                            "#d8576b"
                          ],
                          [
                            0.6666666666666666,
                            "#ed7953"
                          ],
                          [
                            0.7777777777777778,
                            "#fb9f3a"
                          ],
                          [
                            0.8888888888888888,
                            "#fdca26"
                          ],
                          [
                            1,
                            "#f0f921"
                          ]
                        ],
                        "type": "histogram2d"
                      }
                    ],
                    "histogram2dcontour": [
                      {
                        "colorbar": {
                          "outlinewidth": 0,
                          "ticks": ""
                        },
                        "colorscale": [
                          [
                            0,
                            "#0d0887"
                          ],
                          [
                            0.1111111111111111,
                            "#46039f"
                          ],
                          [
                            0.2222222222222222,
                            "#7201a8"
                          ],
                          [
                            0.3333333333333333,
                            "#9c179e"
                          ],
                          [
                            0.4444444444444444,
                            "#bd3786"
                          ],
                          [
                            0.5555555555555556,
                            "#d8576b"
                          ],
                          [
                            0.6666666666666666,
                            "#ed7953"
                          ],
                          [
                            0.7777777777777778,
                            "#fb9f3a"
                          ],
                          [
                            0.8888888888888888,
                            "#fdca26"
                          ],
                          [
                            1,
                            "#f0f921"
                          ]
                        ],
                        "type": "histogram2dcontour"
                      }
                    ],
                    "mesh3d": [
                      {
                        "colorbar": {
                          "outlinewidth": 0,
                          "ticks": ""
                        },
                        "type": "mesh3d"
                      }
                    ],
                    "parcoords": [
                      {
                        "line": {
                          "colorbar": {
                            "outlinewidth": 0,
                            "ticks": ""
                          }
                        },
                        "type": "parcoords"
                      }
                    ],
                    "pie": [
                      {
                        "automargin": true,
                        "type": "pie"
                      }
                    ],
                    "scatter": [
                      {
                        "fillpattern": {
                          "fillmode": "overlay",
                          "size": 10,
                          "solidity": 0.2
                        },
                        "type": "scatter"
                      }
                    ],
                    "scatter3d": [
                      {
                        "line": {
                          "colorbar": {
                            "outlinewidth": 0,
                            "ticks": ""
                          }
                        },
                        "marker": {
                          "colorbar": {
                            "outlinewidth": 0,
                            "ticks": ""
                          }
                        },
                        "type": "scatter3d"
                      }
                    ],
                    "scattercarpet": [
                      {
                        "marker": {
                          "colorbar": {
                            "outlinewidth": 0,
                            "ticks": ""
                          }
                        },
                        "type": "scattercarpet"
                      }
                    ],
                    "scattergeo": [
                      {
                        "marker": {
                          "colorbar": {
                            "outlinewidth": 0,
                            "ticks": ""
                          }
                        },
                        "type": "scattergeo"
                      }
                    ],
                    "scattergl": [
                      {
                        "marker": {
                          "colorbar": {
                            "outlinewidth": 0,
                            "ticks": ""
                          }
                        },
                        "type": "scattergl"
                      }
                    ],
                    "scattermapbox": [
                      {
                        "marker": {
                          "colorbar": {
                            "outlinewidth": 0,
                            "ticks": ""
                          }
                        },
                        "type": "scattermapbox"
                      }
                    ],
                    "scatterpolar": [
                      {
                        "marker": {
                          "colorbar": {
                            "outlinewidth": 0,
                            "ticks": ""
                          }
                        },
                        "type": "scatterpolar"
                      }
                    ],
                    "scatterpolargl": [
                      {
                        "marker": {
                          "colorbar": {
                            "outlinewidth": 0,
                            "ticks": ""
                          }
                        },
                        "type": "scatterpolargl"
                      }
                    ],
                    "scatterternary": [
                      {
                        "marker": {
                          "colorbar": {
                            "outlinewidth": 0,
                            "ticks": ""
                          }
                        },
                        "type": "scatterternary"
                      }
                    ],
                    "surface": [
                      {
                        "colorbar": {
                          "outlinewidth": 0,
                          "ticks": ""
                        },
                        "colorscale": [
                          [
                            0,
                            "#0d0887"
                          ],
                          [
                            0.1111111111111111,
                            "#46039f"
                          ],
                          [
                            0.2222222222222222,
                            "#7201a8"
                          ],
                          [
                            0.3333333333333333,
                            "#9c179e"
                          ],
                          [
                            0.4444444444444444,
                            "#bd3786"
                          ],
                          [
                            0.5555555555555556,
                            "#d8576b"
                          ],
                          [
                            0.6666666666666666,
                            "#ed7953"
                          ],
                          [
                            0.7777777777777778,
                            "#fb9f3a"
                          ],
                          [
                            0.8888888888888888,
                            "#fdca26"
                          ],
                          [
                            1,
                            "#f0f921"
                          ]
                        ],
                        "type": "surface"
                      }
                    ],
                    "table": [
                      {
                        "cells": {
                          "fill": {
                            "color": "#EBF0F8"
                          },
                          "line": {
                            "color": "white"
                          }
                        },
                        "header": {
                          "fill": {
                            "color": "#C8D4E3"
                          },
                          "line": {
                            "color": "white"
                          }
                        },
                        "type": "table"
                      }
                    ]
                  },
                  "layout": {
                    "annotationdefaults": {
                      "arrowcolor": "#2a3f5f",
                      "arrowhead": 0,
                      "arrowwidth": 1
                    },
                    "autotypenumbers": "strict",
                    "coloraxis": {
                      "colorbar": {
                        "outlinewidth": 0,
                        "ticks": ""
                      }
                    },
                    "colorscale": {
                      "diverging": [
                        [
                          0,
                          "#8e0152"
                        ],
                        [
                          0.1,
                          "#c51b7d"
                        ],
                        [
                          0.2,
                          "#de77ae"
                        ],
                        [
                          0.3,
                          "#f1b6da"
                        ],
                        [
                          0.4,
                          "#fde0ef"
                        ],
                        [
                          0.5,
                          "#f7f7f7"
                        ],
                        [
                          0.6,
                          "#e6f5d0"
                        ],
                        [
                          0.7,
                          "#b8e186"
                        ],
                        [
                          0.8,
                          "#7fbc41"
                        ],
                        [
                          0.9,
                          "#4d9221"
                        ],
                        [
                          1,
                          "#276419"
                        ]
                      ],
                      "sequential": [
                        [
                          0,
                          "#0d0887"
                        ],
                        [
                          0.1111111111111111,
                          "#46039f"
                        ],
                        [
                          0.2222222222222222,
                          "#7201a8"
                        ],
                        [
                          0.3333333333333333,
                          "#9c179e"
                        ],
                        [
                          0.4444444444444444,
                          "#bd3786"
                        ],
                        [
                          0.5555555555555556,
                          "#d8576b"
                        ],
                        [
                          0.6666666666666666,
                          "#ed7953"
                        ],
                        [
                          0.7777777777777778,
                          "#fb9f3a"
                        ],
                        [
                          0.8888888888888888,
                          "#fdca26"
                        ],
                        [
                          1,
                          "#f0f921"
                        ]
                      ],
                      "sequentialminus": [
                        [
                          0,
                          "#0d0887"
                        ],
                        [
                          0.1111111111111111,
                          "#46039f"
                        ],
                        [
                          0.2222222222222222,
                          "#7201a8"
                        ],
                        [
                          0.3333333333333333,
                          "#9c179e"
                        ],
                        [
                          0.4444444444444444,
                          "#bd3786"
                        ],
                        [
                          0.5555555555555556,
                          "#d8576b"
                        ],
                        [
                          0.6666666666666666,
                          "#ed7953"
                        ],
                        [
                          0.7777777777777778,
                          "#fb9f3a"
                        ],
                        [
                          0.8888888888888888,
                          "#fdca26"
                        ],
                        [
                          1,
                          "#f0f921"
                        ]
                      ]
                    },
                    "colorway": [
                      "#636efa",
                      "#EF553B",
                      "#00cc96",
                      "#ab63fa",
                      "#FFA15A",
                      "#19d3f3",
                      "#FF6692",
                      "#B6E880",
                      "#FF97FF",
                      "#FECB52"
                    ],
                    "font": {
                      "color": "#2a3f5f"
                    },
                    "geo": {
                      "bgcolor": "white",
                      "lakecolor": "white",
                      "landcolor": "white",
                      "showlakes": true,
                      "showland": true,
                      "subunitcolor": "#C8D4E3"
                    },
                    "hoverlabel": {
                      "align": "left"
                    },
                    "hovermode": "closest",
                    "mapbox": {
                      "style": "light"
                    },
                    "paper_bgcolor": "white",
                    "plot_bgcolor": "white",
                    "polar": {
                      "angularaxis": {
                        "gridcolor": "#EBF0F8",
                        "linecolor": "#EBF0F8",
                        "ticks": ""
                      },
                      "bgcolor": "white",
                      "radialaxis": {
                        "gridcolor": "#EBF0F8",
                        "linecolor": "#EBF0F8",
                        "ticks": ""
                      }
                    },
                    "scene": {
                      "xaxis": {
                        "backgroundcolor": "white",
                        "gridcolor": "#DFE8F3",
                        "gridwidth": 2,
                        "linecolor": "#EBF0F8",
                        "showbackground": true,
                        "ticks": "",
                        "zerolinecolor": "#EBF0F8"
                      },
                      "yaxis": {
                        "backgroundcolor": "white",
                        "gridcolor": "#DFE8F3",
                        "gridwidth": 2,
                        "linecolor": "#EBF0F8",
                        "showbackground": true,
                        "ticks": "",
                        "zerolinecolor": "#EBF0F8"
                      },
                      "zaxis": {
                        "backgroundcolor": "white",
                        "gridcolor": "#DFE8F3",
                        "gridwidth": 2,
                        "linecolor": "#EBF0F8",
                        "showbackground": true,
                        "ticks": "",
                        "zerolinecolor": "#EBF0F8"
                      }
                    },
                    "shapedefaults": {
                      "line": {
                        "color": "#2a3f5f"
                      }
                    },
                    "ternary": {
                      "aaxis": {
                        "gridcolor": "#DFE8F3",
                        "linecolor": "#A2B1C6",
                        "ticks": ""
                      },
                      "baxis": {
                        "gridcolor": "#DFE8F3",
                        "linecolor": "#A2B1C6",
                        "ticks": ""
                      },
                      "bgcolor": "white",
                      "caxis": {
                        "gridcolor": "#DFE8F3",
                        "linecolor": "#A2B1C6",
                        "ticks": ""
                      }
                    },
                    "title": {
                      "x": 0.05
                    },
                    "xaxis": {
                      "automargin": true,
                      "gridcolor": "#EBF0F8",
                      "linecolor": "#EBF0F8",
                      "ticks": "",
                      "title": {
                        "standoff": 15
                      },
                      "zerolinecolor": "#EBF0F8",
                      "zerolinewidth": 2
                    },
                    "yaxis": {
                      "automargin": true,
                      "gridcolor": "#EBF0F8",
                      "linecolor": "#EBF0F8",
                      "ticks": "",
                      "title": {
                        "standoff": 15
                      },
                      "zerolinecolor": "#EBF0F8",
                      "zerolinewidth": 2
                    }
                  }
                },
                "xaxis": {
                  "anchor": "y2",
                  "domain": [
                    0,
                    1
                  ],
                  "tickformat": "0%",
                  "title": {
                    "text": ""
                  },
                  "zeroline": false
                },
                "yaxis": {
                  "anchor": "free",
                  "domain": [
                    0,
                    1
                  ],
                  "position": 0,
                  "tickvals": []
                }
              }
            }
          },
          "metadata": {},
          "output_type": "display_data"
        }
      ],
      "source": [
        "import plotly.figure_factory as ff\n",
        "\n",
        "fig = ff.create_distplot(\n",
        "    [data[\"Return\"], data[\"CC Return\"]], \n",
        "    group_labels=[\"Return\", \"CC Return\"], \n",
        "    show_rug=False, \n",
        "    show_hist=False\n",
        ")\n",
        "\n",
        "fig.update_traces(hovertemplate=\"\")\n",
        "fig.update_layout(\n",
        "    xaxis_tickformat=\"0%\",\n",
        "    xaxis_title=\"\",\n",
        "    yaxis_tickvals=[],\n",
        "\n",
        "    legend=dict(\n",
        "        yanchor=\"top\",\n",
        "        y=0.99,\n",
        "        xanchor=\"left\",\n",
        "        x=0.01,\n",
        "    ),\n",
        "    template=\"plotly_white\"\n",
        ")\n",
        "fig.show()"
      ]
    }
  ],
  "metadata": {
    "colab": {
      "collapsed_sections": [],
      "include_colab_link": true,
      "name": "continuously compounded returns.ipynb",
      "provenance": []
    },
    "kernelspec": {
      "display_name": "Python 3",
      "name": "python3"
    },
    "language_info": {
      "codemirror_mode": {
        "name": "ipython",
        "version": 3
      },
      "file_extension": ".py",
      "mimetype": "text/x-python",
      "name": "python",
      "nbconvert_exporter": "python",
      "pygments_lexer": "ipython3",
      "version": "3.10.8"
    }
  },
  "nbformat": 4,
  "nbformat_minor": 0
}
