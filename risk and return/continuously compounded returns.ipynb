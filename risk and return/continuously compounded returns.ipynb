{
 "cells": [
  {
   "cell_type": "markdown",
   "metadata": {},
   "source": [
    "---\n",
    "\n",
    "Created for [learn-investments.rice-business.org](https://learn-investments.rice-business.org)\n",
    "    \n",
    "By [Kerry Back](https://kerryback.com) and [Kevin Crotty](https://kevin-crotty.com)\n",
    "    \n",
    "Jones Graduate School of Business, Rice University\n",
    "\n",
    "---\n"
   ]
  },
  {
   "attachments": {},
   "cell_type": "markdown",
   "metadata": {},
   "source": [
    "# U.S. STOCK MARKET RETURN"
   ]
  },
  {
   "cell_type": "code",
   "execution_count": null,
   "metadata": {},
   "outputs": [],
   "source": [
    "from pandas_datareader import DataReader as pdr\n",
    "\n",
    "mkt = pdr('F-F_Research_Data_Factors','famafrench',start=1926)[1]/100\n",
    "mkt = mkt['Mkt-RF'] + mkt.RF\n",
    "mkt.index.name = \"year\"\n",
    "mkt.name = \"market\"\n",
    "mkt.index = mkt.index.astype(str)\n",
    "mkt.tail()"
   ]
  },
  {
   "attachments": {},
   "cell_type": "markdown",
   "metadata": {},
   "source": [
    "# RETURNS FROM YAHOO FINANCE"
   ]
  },
  {
   "cell_type": "code",
   "execution_count": null,
   "metadata": {},
   "outputs": [],
   "source": [
    "import yfinance as yf\n",
    "\n",
    "ticker = input(\"Input a ticker\")\n",
    "price = yf.download(ticker, start=\"1970-01-01\")[\"Adj Close\"]\n",
    "price = price.resample(\"Y\").last()\n",
    "ser = price.pct_change()[:-1].dropna()\n",
    "ser.index = ser.index.map(lambda x: x.year)\n",
    "ser.index.name = \"year\"\n",
    "ser.name = ticker\n",
    "ser.tail()"
   ]
  },
  {
   "attachments": {},
   "cell_type": "markdown",
   "metadata": {},
   "source": [
    "# YAHOO RETURN OR MARKET"
   ]
  },
  {
   "cell_type": "code",
   "execution_count": null,
   "metadata": {},
   "outputs": [],
   "source": [
    "import numpy as np\n",
    "import pandas as pd\n",
    "\n",
    "flag = int(input(\"input 0 for market or 1 for yahoo return\"))\n",
    "ret = ser if flag else mkt\n",
    "name = f\"{ticker.upper()} Return\" if flag else \"Market Return\"\n",
    "ccret = np.log(1+ret)\n",
    "data = pd.concat((ret, ccret), axis=1)\n",
    "data.columns = [\"Return\", \"CC Return\"]"
   ]
  },
  {
   "cell_type": "markdown",
   "metadata": {},
   "source": [
    "# TABLE"
   ]
  },
  {
   "cell_type": "code",
   "execution_count": null,
   "metadata": {},
   "outputs": [],
   "source": [
    "data.describe().iloc[1:]"
   ]
  },
  {
   "attachments": {},
   "cell_type": "markdown",
   "metadata": {},
   "source": [
    "# FIGURE 1"
   ]
  },
  {
   "cell_type": "code",
   "execution_count": null,
   "metadata": {
    "id": "tcmPMcyQtNIS"
   },
   "outputs": [],
   "source": [
    "import plotly.graph_objects as go\n",
    "\n",
    "trace = go.Scatter(\n",
    "    x=data[\"Return\"],\n",
    "    y=data[\"CC Return\"], \n",
    "    mode=\"markers\", \n",
    "    text=data.index.to_list(),\n",
    "    hovertemplate=\"%{text}<br>Return = %{x:.1%}<br>Cont. Comp. Ret = %{y:.1%}\"\n",
    ")\n",
    "fig = go.Figure(trace)\n",
    "fig.update_layout(\n",
    "    xaxis_title=\"Return\",\n",
    "    yaxis_title=\"Continuously Compounded Return\",\n",
    "    xaxis_tickformat=\".0%\",\n",
    "    yaxis_tickformat=\".0%\",\n",
    "    template=\"plotly_white\",  \n",
    ")\n",
    "fig.show()"
   ]
  },
  {
   "attachments": {},
   "cell_type": "markdown",
   "metadata": {},
   "source": [
    "# FIGURE 2"
   ]
  },
  {
   "cell_type": "code",
   "execution_count": null,
   "metadata": {},
   "outputs": [],
   "source": [
    "import plotly.figure_factory as ff\n",
    "\n",
    "fig = ff.create_distplot(\n",
    "    [data[\"Return\"], data[\"CC Return\"]], \n",
    "    group_labels=[\"Return\", \"CC Return\"], \n",
    "    show_rug=False, \n",
    "    show_hist=False\n",
    ")\n",
    "\n",
    "fig.update_traces(hovertemplate=\"\")\n",
    "fig.update_layout(\n",
    "    xaxis_tickformat=\"0%\",\n",
    "    xaxis_title=\"\",\n",
    "    yaxis_tickvals=[],\n",
    "\n",
    "    legend=dict(\n",
    "        yanchor=\"top\",\n",
    "        y=0.99,\n",
    "        xanchor=\"left\",\n",
    "        x=0.01,\n",
    "    ),\n",
    "    template=\"plotly_white\"\n",
    ")\n",
    "fig.show()"
   ]
  }
 ],
 "metadata": {
  "colab": {
   "collapsed_sections": [],
   "include_colab_link": true,
   "name": "continuously compounded returns.ipynb",
   "provenance": []
  },
  "kernelspec": {
   "display_name": "Python 3",
   "name": "python3"
  },
  "language_info": {
   "codemirror_mode": {
    "name": "ipython",
    "version": 3
   },
   "file_extension": ".py",
   "mimetype": "text/x-python",
   "name": "python",
   "nbconvert_exporter": "python",
   "pygments_lexer": "ipython3",
   "version": "3.10.7"
  }
 },
 "nbformat": 4,
 "nbformat_minor": 0
}