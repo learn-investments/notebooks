{
  "cells": [
    {
      "cell_type": "code",
      "execution_count": 1,
      "metadata": {},
      "outputs": [],
      "source": [
        "import numpy as np\n",
        "import pandas as pd\n",
        "from pandas_datareader import DataReader as pdr\n",
        "import yfinance as yf\n",
        "import plotly.express as px\n",
        "import plotly.graph_objects as go"
      ]
    },
    {
      "attachments": {},
      "cell_type": "markdown",
      "metadata": {},
      "source": [
        "# U.S. STOCK MARKET RETURN"
      ]
    },
    {
      "cell_type": "code",
      "execution_count": 2,
      "metadata": {},
      "outputs": [
        {
          "data": {
            "text/plain": [
              "year\n",
              "2018   -0.0512\n",
              "2019    0.3043\n",
              "2020    0.2411\n",
              "2021    0.2360\n",
              "2022   -0.2017\n",
              "Name: market, dtype: float64"
            ]
          },
          "execution_count": 2,
          "metadata": {},
          "output_type": "execute_result"
        }
      ],
      "source": [
        "mkt = pdr('F-F_Research_Data_Factors','famafrench',start=1926)[1]/100\n",
        "mkt = mkt['Mkt-RF'] + mkt.RF\n",
        "mkt.index.name = \"year\"\n",
        "mkt.name = \"market\"\n",
        "mkt.index = mkt.index.astype(str)\n",
        "mkt.tail()"
      ]
    },
    {
      "attachments": {},
      "cell_type": "markdown",
      "metadata": {},
      "source": [
        "# RETURNS FROM YAHOO FINANCE"
      ]
    },
    {
      "cell_type": "code",
      "execution_count": 3,
      "metadata": {},
      "outputs": [
        {
          "name": "stdout",
          "output_type": "stream",
          "text": [
            "[*********************100%***********************]  1 of 1 completed\n"
          ]
        },
        {
          "data": {
            "text/plain": [
              "year\n",
              "2018   -0.053902\n",
              "2019    0.889578\n",
              "2020    0.823067\n",
              "2021    0.346482\n",
              "2022   -0.264042\n",
              "Name: aapl, dtype: float64"
            ]
          },
          "execution_count": 3,
          "metadata": {},
          "output_type": "execute_result"
        }
      ],
      "source": [
        "ticker = input(\"Input a ticker\")\n",
        "price = yf.download(ticker, start=\"1970-01-01\")[\"Adj Close\"]\n",
        "price = price.resample(\"Y\").last()\n",
        "ret = price.pct_change()[:-1]\n",
        "ret.index = ret.index.map(lambda x: x.year)\n",
        "ret.index.name = \"year\"\n",
        "ret.name = ticker\n",
        "ret.tail()"
      ]
    },
    {
      "attachments": {},
      "cell_type": "markdown",
      "metadata": {},
      "source": [
        "# FIGURE 1"
      ]
    },
    {
      "cell_type": "code",
      "execution_count": 6,
      "metadata": {
        "id": "tcmPMcyQtNIS"
      },
      "outputs": [
        {
          "ename": "ValueError",
          "evalue": "string indices must be integers\n\nInvalid value received for the 'xaxis' property of scatter\n\n    The 'xaxis' property is an identifier of a particular\n    subplot, of type 'x', that may be specified as the string 'x'\n    optionally followed by an integer >= 1\n    (e.g. 'x', 'x1', 'x2', 'x3', etc.)\n        \n\nProperty does not support subscripting:\nxaxis_title\n^^^^^",
          "output_type": "error",
          "traceback": [
            "\u001b[1;31m---------------------------------------------------------------------------\u001b[0m",
            "\u001b[1;31mValueError\u001b[0m                                Traceback (most recent call last)",
            "Cell \u001b[1;32mIn[6], line 5\u001b[0m\n\u001b[0;32m      1\u001b[0m fig \u001b[39m=\u001b[39m px\u001b[39m.\u001b[39mline(\n\u001b[0;32m      2\u001b[0m     x\u001b[39m=\u001b[39mret\u001b[39m.\u001b[39mindex\u001b[39m.\u001b[39mto_list(),\n\u001b[0;32m      3\u001b[0m     y\u001b[39m=\u001b[39mret\n\u001b[0;32m      4\u001b[0m )\n\u001b[1;32m----> 5\u001b[0m fig\u001b[39m.\u001b[39;49mupdate_traces(\n\u001b[0;32m      6\u001b[0m     xaxis_title\u001b[39m=\u001b[39;49m\u001b[39m\"\u001b[39;49m\u001b[39mYear\u001b[39;49m\u001b[39m\"\u001b[39;49m,\n\u001b[0;32m      7\u001b[0m     yaxis_title\u001b[39m=\u001b[39;49m\u001b[39m\"\u001b[39;49m\u001b[39mReturn\u001b[39;49m\u001b[39m\"\u001b[39;49m,\n\u001b[0;32m      8\u001b[0m     hovertemplate\u001b[39m=\u001b[39;49m\u001b[39m\"\u001b[39;49m\u001b[39m%\u001b[39;49m\u001b[39m{x}\u001b[39;49;00m\u001b[39m<br>return = \u001b[39;49m\u001b[39m%\u001b[39;49m\u001b[39m{y:.1%}\u001b[39;49;00m\u001b[39m\"\u001b[39;49m,\n\u001b[0;32m      9\u001b[0m     template\u001b[39m=\u001b[39;49m\u001b[39m\"\u001b[39;49m\u001b[39mplotly_white\u001b[39;49m\u001b[39m\"\u001b[39;49m\n\u001b[0;32m     10\u001b[0m )\n\u001b[0;32m     11\u001b[0m fig\u001b[39m.\u001b[39mshow()\n",
            "File \u001b[1;32mc:\\Users\\kerry\\AppData\\Local\\Programs\\Python\\Python310\\lib\\site-packages\\plotly\\graph_objs\\_figure.py:745\u001b[0m, in \u001b[0;36mFigure.update_traces\u001b[1;34m(self, patch, selector, row, col, secondary_y, overwrite, **kwargs)\u001b[0m\n\u001b[0;32m    682\u001b[0m \u001b[39mdef\u001b[39;00m \u001b[39mupdate_traces\u001b[39m(\n\u001b[0;32m    683\u001b[0m     \u001b[39mself\u001b[39m,\n\u001b[0;32m    684\u001b[0m     patch\u001b[39m=\u001b[39m\u001b[39mNone\u001b[39;00m,\n\u001b[1;32m   (...)\u001b[0m\n\u001b[0;32m    690\u001b[0m     \u001b[39m*\u001b[39m\u001b[39m*\u001b[39mkwargs,\n\u001b[0;32m    691\u001b[0m ) \u001b[39m-\u001b[39m\u001b[39m>\u001b[39m \u001b[39m\"\u001b[39m\u001b[39mFigure\u001b[39m\u001b[39m\"\u001b[39m:\n\u001b[0;32m    692\u001b[0m \u001b[39m    \u001b[39m\u001b[39m\"\"\"\u001b[39;00m\n\u001b[0;32m    693\u001b[0m \n\u001b[0;32m    694\u001b[0m \u001b[39m    Perform a property update operation on all traces that satisfy the\u001b[39;00m\n\u001b[1;32m   (...)\u001b[0m\n\u001b[0;32m    743\u001b[0m \n\u001b[0;32m    744\u001b[0m \u001b[39m    \"\"\"\u001b[39;00m\n\u001b[1;32m--> 745\u001b[0m     \u001b[39mreturn\u001b[39;00m \u001b[39msuper\u001b[39m(Figure, \u001b[39mself\u001b[39m)\u001b[39m.\u001b[39mupdate_traces(\n\u001b[0;32m    746\u001b[0m         patch, selector, row, col, secondary_y, overwrite, \u001b[39m*\u001b[39m\u001b[39m*\u001b[39mkwargs\n\u001b[0;32m    747\u001b[0m     )\n",
            "File \u001b[1;32mc:\\Users\\kerry\\AppData\\Local\\Programs\\Python\\Python310\\lib\\site-packages\\plotly\\basedatatypes.py:1366\u001b[0m, in \u001b[0;36mBaseFigure.update_traces\u001b[1;34m(self, patch, selector, row, col, secondary_y, overwrite, **kwargs)\u001b[0m\n\u001b[0;32m   1312\u001b[0m \u001b[39m\u001b[39m\u001b[39m\"\"\"\u001b[39;00m\n\u001b[0;32m   1313\u001b[0m \u001b[39mPerform a property update operation on all traces that satisfy the\u001b[39;00m\n\u001b[0;32m   1314\u001b[0m \u001b[39mspecified selection criteria\u001b[39;00m\n\u001b[1;32m   (...)\u001b[0m\n\u001b[0;32m   1361\u001b[0m \u001b[39m    Returns the Figure object that the method was called on\u001b[39;00m\n\u001b[0;32m   1362\u001b[0m \u001b[39m\"\"\"\u001b[39;00m\n\u001b[0;32m   1363\u001b[0m \u001b[39mfor\u001b[39;00m trace \u001b[39min\u001b[39;00m \u001b[39mself\u001b[39m\u001b[39m.\u001b[39mselect_traces(\n\u001b[0;32m   1364\u001b[0m     selector\u001b[39m=\u001b[39mselector, row\u001b[39m=\u001b[39mrow, col\u001b[39m=\u001b[39mcol, secondary_y\u001b[39m=\u001b[39msecondary_y\n\u001b[0;32m   1365\u001b[0m ):\n\u001b[1;32m-> 1366\u001b[0m     trace\u001b[39m.\u001b[39mupdate(patch, overwrite\u001b[39m=\u001b[39moverwrite, \u001b[39m*\u001b[39m\u001b[39m*\u001b[39mkwargs)\n\u001b[0;32m   1367\u001b[0m \u001b[39mreturn\u001b[39;00m \u001b[39mself\u001b[39m\n",
            "File \u001b[1;32mc:\\Users\\kerry\\AppData\\Local\\Programs\\Python\\Python310\\lib\\site-packages\\plotly\\basedatatypes.py:5114\u001b[0m, in \u001b[0;36mBasePlotlyType.update\u001b[1;34m(self, dict1, overwrite, **kwargs)\u001b[0m\n\u001b[0;32m   5112\u001b[0m     \u001b[39mwith\u001b[39;00m \u001b[39mself\u001b[39m\u001b[39m.\u001b[39mfigure\u001b[39m.\u001b[39mbatch_update():\n\u001b[0;32m   5113\u001b[0m         BaseFigure\u001b[39m.\u001b[39m_perform_update(\u001b[39mself\u001b[39m, dict1, overwrite\u001b[39m=\u001b[39moverwrite)\n\u001b[1;32m-> 5114\u001b[0m         BaseFigure\u001b[39m.\u001b[39;49m_perform_update(\u001b[39mself\u001b[39;49m, kwargs, overwrite\u001b[39m=\u001b[39;49moverwrite)\n\u001b[0;32m   5115\u001b[0m \u001b[39melse\u001b[39;00m:\n\u001b[0;32m   5116\u001b[0m     BaseFigure\u001b[39m.\u001b[39m_perform_update(\u001b[39mself\u001b[39m, dict1, overwrite\u001b[39m=\u001b[39moverwrite)\n",
            "File \u001b[1;32mc:\\Users\\kerry\\AppData\\Local\\Programs\\Python\\Python310\\lib\\site-packages\\plotly\\basedatatypes.py:3877\u001b[0m, in \u001b[0;36mBaseFigure._perform_update\u001b[1;34m(plotly_obj, update_obj, overwrite)\u001b[0m\n\u001b[0;32m   3873\u001b[0m                 \u001b[39mcontinue\u001b[39;00m\n\u001b[0;32m   3874\u001b[0m         \u001b[39m# If no match, raise the error, which should already\u001b[39;00m\n\u001b[0;32m   3875\u001b[0m         \u001b[39m# contain the _raise_on_invalid_property_error\u001b[39;00m\n\u001b[0;32m   3876\u001b[0m         \u001b[39m# generated message\u001b[39;00m\n\u001b[1;32m-> 3877\u001b[0m         \u001b[39mraise\u001b[39;00m err\n\u001b[0;32m   3879\u001b[0m \u001b[39m# Convert update_obj to dict\u001b[39;00m\n\u001b[0;32m   3880\u001b[0m \u001b[39m# --------------------------\u001b[39;00m\n\u001b[0;32m   3881\u001b[0m \u001b[39mif\u001b[39;00m \u001b[39misinstance\u001b[39m(update_obj, BasePlotlyType):\n",
            "\u001b[1;31mValueError\u001b[0m: string indices must be integers\n\nInvalid value received for the 'xaxis' property of scatter\n\n    The 'xaxis' property is an identifier of a particular\n    subplot, of type 'x', that may be specified as the string 'x'\n    optionally followed by an integer >= 1\n    (e.g. 'x', 'x1', 'x2', 'x3', etc.)\n        \n\nProperty does not support subscripting:\nxaxis_title\n^^^^^"
          ]
        }
      ],
      "source": [
        "fig = px.line(\n",
        "    x=ret.index.to_list(),\n",
        "    y=ret\n",
        ")\n",
        "fig.update_traces(\n",
        "    xaxis_title=\"Year\",\n",
        "    yaxis_title=\"Return\",\n",
        "    hovertemplate=\"%{x}<br>return = %{y:.1%}\",\n",
        "    template=\"plotly_white\"\n",
        ")\n",
        "fig.show()"
      ]
    },
    {
      "attachments": {},
      "cell_type": "markdown",
      "metadata": {},
      "source": [
        "# FIGURE 2"
      ]
    },
    {
      "cell_type": "code",
      "execution_count": null,
      "metadata": {},
      "outputs": [],
      "source": []
    },
    {
      "attachments": {},
      "cell_type": "markdown",
      "metadata": {},
      "source": [
        "# FIGURE 3"
      ]
    },
    {
      "cell_type": "code",
      "execution_count": null,
      "metadata": {},
      "outputs": [],
      "source": []
    },
    {
      "attachments": {},
      "cell_type": "markdown",
      "metadata": {},
      "source": [
        "# FIGURE 4"
      ]
    },
    {
      "cell_type": "code",
      "execution_count": null,
      "metadata": {},
      "outputs": [],
      "source": [
        "fig1 = px.line(accum, x=\"Year\", y=\"Compound Return\")"
      ]
    },
    {
      "attachments": {},
      "cell_type": "markdown",
      "metadata": {},
      "source": [
        "# FIGURE 5"
      ]
    },
    {
      "cell_type": "code",
      "execution_count": null,
      "metadata": {},
      "outputs": [],
      "source": [
        "fig2 = px.line(accum, x=\"Year\", y=\"Compound Return\", log_y=True)"
      ]
    },
    {
      "cell_type": "code",
      "execution_count": null,
      "metadata": {},
      "outputs": [],
      "source": [
        "fig1 = px.line(accum, x=\"Year\", y=\"Compound Return\")\n",
        "    fig2 = px.line(accum, x=\"Year\", y=\"Compound Return\", log_y=True)\n",
        "    z = rets.copy()\n",
        "    tick = ticker.upper() if radio == \"Ticker\" else \"Mkt\"\n",
        "    z.columns = [\"Year\", tick]\n",
        "    trace = go.Box(y=z[tick], text=z.Year, name=tick, hovertemplate=\"%{text}<br>%{y:.1%}<extra></extra>\")\n",
        "    fig3 = go.Figure(trace)\n",
        "    fig3.update_yaxes(tickformat=\".1%\")\n",
        "\n",
        "    fig4 = px.histogram(rets[\"Return\"])\n",
        "    fig5 = px.line(rets, x=\"Year\", y=\"Return\")\n",
        "\n",
        "    string = \"%{x}<br>$%{y:,.2f}<extra></extra>\"\n",
        "    for fig in [fig1, fig2]:\n",
        "        fig.update_traces(mode=\"lines\", hovertemplate=string)\n",
        "        fig.layout.xaxis[\"title\"] = \"Year\"\n",
        "    fig1.layout.yaxis[\"title\"] = ticker + \" Accumulation (from $1)\"\n",
        "    fig2.layout.yaxis[\"title\"] = ticker + \" Accumulation (Log Scale)\"\n",
        "\n",
        "    fig3.layout.xaxis[\"title\"] = None\n",
        "    fig3.update_yaxes(title=None, tickformat=\".0%\")\n",
        "\n",
        "    fig4.layout.xaxis[\"title\"] = ticker + \" Return\"\n",
        "    fig4.layout.yaxis[\"title\"] = \"Number of Years\"\n",
        "    fig4.update_xaxes(tickformat=\".0%\")\n",
        "\n",
        "    fig5.layout.xaxis[\"title\"] = \"Year\"\n",
        "    fig5.update_layout(yaxis_tickformat=\".0%\")\n",
        "    fig5.layout.yaxis[\"title\"] = ticker + \" Return\""
      ]
    }
  ],
  "metadata": {
    "colab": {
      "collapsed_sections": [],
      "include_colab_link": true,
      "name": "returns.ipynb",
      "provenance": []
    },
    "kernelspec": {
      "display_name": "Python 3",
      "name": "python3"
    },
    "language_info": {
      "codemirror_mode": {
        "name": "ipython",
        "version": 3
      },
      "file_extension": ".py",
      "mimetype": "text/x-python",
      "name": "python",
      "nbconvert_exporter": "python",
      "pygments_lexer": "ipython3",
      "version": "3.10.3"
    }
  },
  "nbformat": 4,
  "nbformat_minor": 0
}
