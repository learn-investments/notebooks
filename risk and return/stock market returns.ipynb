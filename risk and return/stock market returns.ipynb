{
  "cells": [
    {
      "cell_type": "code",
      "execution_count": 1,
      "metadata": {},
      "outputs": [],
      "source": [
        "import numpy as np\n",
        "import pandas as pd\n",
        "from pandas_datareader import DataReader as pdr\n",
        "import yfinance as yf\n",
        "import plotly.graph_objects as go"
      ]
    },
    {
      "attachments": {},
      "cell_type": "markdown",
      "metadata": {},
      "source": [
        "# U.S. STOCK MARKET RETURN"
      ]
    },
    {
      "cell_type": "code",
      "execution_count": 23,
      "metadata": {},
      "outputs": [
        {
          "data": {
            "text/plain": [
              "year\n",
              "2018   -0.0512\n",
              "2019    0.3043\n",
              "2020    0.2411\n",
              "2021    0.2360\n",
              "2022   -0.2017\n",
              "Name: market, dtype: float64"
            ]
          },
          "execution_count": 23,
          "metadata": {},
          "output_type": "execute_result"
        }
      ],
      "source": [
        "mkt = pdr('F-F_Research_Data_Factors','famafrench',start=1926)[1]/100\n",
        "mkt = mkt['Mkt-RF'] + mkt.RF\n",
        "mkt.index.name = \"year\"\n",
        "mkt.name = \"market\"\n",
        "mkt.index = mkt.index.astype(str)\n",
        "mkt.tail()"
      ]
    },
    {
      "attachments": {},
      "cell_type": "markdown",
      "metadata": {},
      "source": [
        "# RETURNS FROM YAHOO FINANCE"
      ]
    },
    {
      "cell_type": "code",
      "execution_count": 20,
      "metadata": {},
      "outputs": [
        {
          "name": "stdout",
          "output_type": "stream",
          "text": [
            "[*********************100%***********************]  1 of 1 completed\n"
          ]
        },
        {
          "data": {
            "text/plain": [
              "year\n",
              "2018   -0.053902\n",
              "2019    0.889578\n",
              "2020    0.823067\n",
              "2021    0.346482\n",
              "2022   -0.264042\n",
              "Name: aapl, dtype: float64"
            ]
          },
          "execution_count": 20,
          "metadata": {},
          "output_type": "execute_result"
        }
      ],
      "source": [
        "ticker = input(\"Input a ticker\")\n",
        "price = yf.download(ticker, start=\"1970-01-01\")[\"Adj Close\"]\n",
        "price = price.resample(\"Y\").last()\n",
        "ret = price.pct_change()[:-1]\n",
        "ret.index = ret.index.map(lambda x: x.year)\n",
        "ret.index.name = \"year\"\n",
        "ret.name = ticker\n",
        "ret.tail()"
      ]
    },
    {
      "attachments": {},
      "cell_type": "markdown",
      "metadata": {},
      "source": [
        "# FIGURE 1"
      ]
    },
    {
      "cell_type": "code",
      "execution_count": null,
      "metadata": {
        "id": "tcmPMcyQtNIS"
      },
      "outputs": [],
      "source": []
    },
    {
      "attachments": {},
      "cell_type": "markdown",
      "metadata": {},
      "source": [
        "# FIGURE 2"
      ]
    },
    {
      "cell_type": "code",
      "execution_count": null,
      "metadata": {},
      "outputs": [],
      "source": []
    },
    {
      "attachments": {},
      "cell_type": "markdown",
      "metadata": {},
      "source": [
        "# FIGURE 3"
      ]
    },
    {
      "cell_type": "code",
      "execution_count": null,
      "metadata": {},
      "outputs": [],
      "source": []
    },
    {
      "attachments": {},
      "cell_type": "markdown",
      "metadata": {},
      "source": [
        "# FIGURE 4"
      ]
    },
    {
      "cell_type": "code",
      "execution_count": null,
      "metadata": {},
      "outputs": [],
      "source": [
        "fig1 = px.line(accum, x=\"Year\", y=\"Compound Return\")"
      ]
    },
    {
      "attachments": {},
      "cell_type": "markdown",
      "metadata": {},
      "source": [
        "# FIGURE 5"
      ]
    },
    {
      "cell_type": "code",
      "execution_count": null,
      "metadata": {},
      "outputs": [],
      "source": [
        "fig2 = px.line(accum, x=\"Year\", y=\"Compound Return\", log_y=True)"
      ]
    },
    {
      "cell_type": "code",
      "execution_count": null,
      "metadata": {},
      "outputs": [],
      "source": [
        "fig1 = px.line(accum, x=\"Year\", y=\"Compound Return\")\n",
        "    fig2 = px.line(accum, x=\"Year\", y=\"Compound Return\", log_y=True)\n",
        "    z = rets.copy()\n",
        "    tick = ticker.upper() if radio == \"Ticker\" else \"Mkt\"\n",
        "    z.columns = [\"Year\", tick]\n",
        "    trace = go.Box(y=z[tick], text=z.Year, name=tick, hovertemplate=\"%{text}<br>%{y:.1%}<extra></extra>\")\n",
        "    fig3 = go.Figure(trace)\n",
        "    fig3.update_yaxes(tickformat=\".1%\")\n",
        "\n",
        "    fig4 = px.histogram(rets[\"Return\"])\n",
        "    fig5 = px.line(rets, x=\"Year\", y=\"Return\")\n",
        "\n",
        "    string = \"%{x}<br>$%{y:,.2f}<extra></extra>\"\n",
        "    for fig in [fig1, fig2]:\n",
        "        fig.update_traces(mode=\"lines\", hovertemplate=string)\n",
        "        fig.layout.xaxis[\"title\"] = \"Year\"\n",
        "    fig1.layout.yaxis[\"title\"] = ticker + \" Accumulation (from $1)\"\n",
        "    fig2.layout.yaxis[\"title\"] = ticker + \" Accumulation (Log Scale)\"\n",
        "\n",
        "    fig3.layout.xaxis[\"title\"] = None\n",
        "    fig3.update_yaxes(title=None, tickformat=\".0%\")\n",
        "\n",
        "    fig4.layout.xaxis[\"title\"] = ticker + \" Return\"\n",
        "    fig4.layout.yaxis[\"title\"] = \"Number of Years\"\n",
        "    fig4.update_xaxes(tickformat=\".0%\")\n",
        "\n",
        "    fig5.layout.xaxis[\"title\"] = \"Year\"\n",
        "    fig5.update_layout(yaxis_tickformat=\".0%\")\n",
        "    fig5.layout.yaxis[\"title\"] = ticker + \" Return\""
      ]
    }
  ],
  "metadata": {
    "colab": {
      "collapsed_sections": [],
      "include_colab_link": true,
      "name": "returns.ipynb",
      "provenance": []
    },
    "kernelspec": {
      "display_name": "Python 3",
      "name": "python3"
    },
    "language_info": {
      "codemirror_mode": {
        "name": "ipython",
        "version": 3
      },
      "file_extension": ".py",
      "mimetype": "text/x-python",
      "name": "python",
      "nbconvert_exporter": "python",
      "pygments_lexer": "ipython3",
      "version": "3.10.3"
    }
  },
  "nbformat": 4,
  "nbformat_minor": 0
}
