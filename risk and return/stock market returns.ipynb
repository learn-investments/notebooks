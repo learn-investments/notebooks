{
  "nbformat": 4,
  "nbformat_minor": 0,
  "metadata": {
    "colab": {
      "name": "returns.ipynb",
      "provenance": [],
      "collapsed_sections": [],
      "include_colab_link": true
    },
    "kernelspec": {
      "name": "python3",
      "display_name": "Python 3"
    },
    "language_info": {
      "name": "python"
    }
  },
  "cells": [
    {
      "cell_type": "markdown",
      "metadata": {
        "id": "view-in-github",
        "colab_type": "text"
      },
      "source": [
        "<a href=\"https://colab.research.google.com/github/bbcx-investments/notebooks/blob/main/risk/returns.ipynb\" target=\"_parent\"><img src=\"https://colab.research.google.com/assets/colab-badge.svg\" alt=\"Open In Colab\"/></a>"
      ]
    },
    {
      "cell_type": "code",
      "execution_count": null,
      "metadata": {
        "colab": {
          "base_uri": "https://localhost:8080/"
        },
        "id": "kkexIjwFq4gV",
        "outputId": "a3d2112d-b50f-45b6-867d-a1cb13614d71"
      },
      "outputs": [
        {
          "output_type": "stream",
          "name": "stdout",
          "text": [
            "Requirement already satisfied: pandas-datareader in /usr/local/lib/python3.7/dist-packages (0.10.0)\n",
            "Requirement already satisfied: requests>=2.19.0 in /usr/local/lib/python3.7/dist-packages (from pandas-datareader) (2.23.0)\n",
            "Requirement already satisfied: lxml in /usr/local/lib/python3.7/dist-packages (from pandas-datareader) (4.2.6)\n",
            "Requirement already satisfied: pandas>=0.23 in /usr/local/lib/python3.7/dist-packages (from pandas-datareader) (1.3.5)\n",
            "Requirement already satisfied: python-dateutil>=2.7.3 in /usr/local/lib/python3.7/dist-packages (from pandas>=0.23->pandas-datareader) (2.8.2)\n",
            "Requirement already satisfied: pytz>=2017.3 in /usr/local/lib/python3.7/dist-packages (from pandas>=0.23->pandas-datareader) (2022.1)\n",
            "Requirement already satisfied: numpy>=1.17.3 in /usr/local/lib/python3.7/dist-packages (from pandas>=0.23->pandas-datareader) (1.21.6)\n",
            "Requirement already satisfied: six>=1.5 in /usr/local/lib/python3.7/dist-packages (from python-dateutil>=2.7.3->pandas>=0.23->pandas-datareader) (1.15.0)\n",
            "Requirement already satisfied: certifi>=2017.4.17 in /usr/local/lib/python3.7/dist-packages (from requests>=2.19.0->pandas-datareader) (2021.10.8)\n",
            "Requirement already satisfied: chardet<4,>=3.0.2 in /usr/local/lib/python3.7/dist-packages (from requests>=2.19.0->pandas-datareader) (3.0.4)\n",
            "Requirement already satisfied: idna<3,>=2.5 in /usr/local/lib/python3.7/dist-packages (from requests>=2.19.0->pandas-datareader) (2.10)\n",
            "Requirement already satisfied: urllib3!=1.25.0,!=1.25.1,<1.26,>=1.21.1 in /usr/local/lib/python3.7/dist-packages (from requests>=2.19.0->pandas-datareader) (1.24.3)\n"
          ]
        }
      ],
      "source": [
        "import numpy as np\n",
        "import pandas as pd\n",
        "!pip install --upgrade pandas-datareader\n",
        "from pandas_datareader import DataReader as pdr\n",
        "\n",
        "# market returns\n",
        "df = pdr('F-F_Research_Data_Factors','famafrench',start=1926)[1]/100\n",
        "mkt = df['Mkt-RF'] + df.RF\n",
        "mkt.index.name = 'Year'\n",
        "mkt.index = [int(str(x)) for x in mkt.index]\n",
        "    \n",
        "# example stock returns\n",
        "ticker = 'CVX'\n",
        "stock = pdr(ticker,'yahoo',start=1970)\n",
        "stock['Year'] = [x.year for x in stock.index]\n",
        "stock = stock.groupby('Year').last()['Adj Close']\n",
        "stock = stock.pct_change().dropna()\n",
        "\n",
        "# example start and stop dates\n",
        "start = 1970\n",
        "stop = 2021\n",
        "\n",
        "# reduce data to start:stop range\n",
        "mkt = mkt.loc[start:stop]\n",
        "stock = stock.loc[max(start,stock.index[0]):stop]\n",
        "\n",
        "# compound returns\n",
        "mkt_compound = (1+mkt).cumprod()\n",
        "mkt_compound.loc[mkt.index[0]-1] = 1\n",
        "mkt_compound = mkt_compound.sort_index()\n",
        "\n",
        "stock_compound = (1+stock).cumprod()\n",
        "stock_compound.loc[stock.index[0]-1] = 1\n",
        "stock_compound = stock_compound.sort_index()"
      ]
    },
    {
      "cell_type": "code",
      "source": [
        "mkt"
      ],
      "metadata": {
        "colab": {
          "base_uri": "https://localhost:8080/"
        },
        "id": "6uCL-j6CtEZ9",
        "outputId": "777e3ac4-c031-4caf-c1bb-cf8697d8fba4"
      },
      "execution_count": null,
      "outputs": [
        {
          "output_type": "execute_result",
          "data": {
            "text/plain": [
              "1970    0.0003\n",
              "1971    0.1617\n",
              "1972    0.1689\n",
              "1973   -0.1925\n",
              "1974   -0.2775\n",
              "1975    0.3824\n",
              "1976    0.2699\n",
              "1977   -0.0314\n",
              "1978    0.0821\n",
              "1979    0.2347\n",
              "1980    0.3337\n",
              "1981   -0.0342\n",
              "1982    0.2120\n",
              "1983    0.2254\n",
              "1984    0.0380\n",
              "1985    0.3263\n",
              "1986    0.1628\n",
              "1987    0.0160\n",
              "1988    0.1790\n",
              "1989    0.2886\n",
              "1990   -0.0614\n",
              "1991    0.3478\n",
              "1992    0.0974\n",
              "1993    0.1111\n",
              "1994   -0.0020\n",
              "1995    0.3682\n",
              "1996    0.2117\n",
              "1997    0.3122\n",
              "1998    0.2432\n",
              "1999    0.2525\n",
              "2000   -0.1171\n",
              "2001   -0.1138\n",
              "2002   -0.2111\n",
              "2003    0.3177\n",
              "2004    0.1192\n",
              "2005    0.0607\n",
              "2006    0.1540\n",
              "2007    0.0570\n",
              "2008   -0.3674\n",
              "2009    0.2836\n",
              "2010    0.1749\n",
              "2011    0.0048\n",
              "2012    0.1633\n",
              "2013    0.3522\n",
              "2014    0.1173\n",
              "2015    0.0009\n",
              "2016    0.1350\n",
              "2017    0.2231\n",
              "2018   -0.0512\n",
              "2019    0.3042\n",
              "2020    0.2411\n",
              "2021    0.2361\n",
              "dtype: float64"
            ]
          },
          "metadata": {},
          "execution_count": 2
        }
      ]
    },
    {
      "cell_type": "code",
      "source": [
        "mkt_compound"
      ],
      "metadata": {
        "colab": {
          "base_uri": "https://localhost:8080/"
        },
        "id": "Br64WYadtFmW",
        "outputId": "ba81fdae-0070-443c-f232-079b119f23e3"
      },
      "execution_count": null,
      "outputs": [
        {
          "output_type": "execute_result",
          "data": {
            "text/plain": [
              "1969      1.000000\n",
              "1970      1.000300\n",
              "1971      1.162049\n",
              "1972      1.358319\n",
              "1973      1.096842\n",
              "1974      0.792468\n",
              "1975      1.095508\n",
              "1976      1.391186\n",
              "1977      1.347503\n",
              "1978      1.458133\n",
              "1979      1.800357\n",
              "1980      2.401136\n",
              "1981      2.319017\n",
              "1982      2.810648\n",
              "1983      3.444169\n",
              "1984      3.575047\n",
              "1985      4.741585\n",
              "1986      5.513515\n",
              "1987      5.601731\n",
              "1988      6.604441\n",
              "1989      8.510483\n",
              "1990      7.987939\n",
              "1991     10.766144\n",
              "1992     11.814767\n",
              "1993     13.127387\n",
              "1994     13.101132\n",
              "1995     17.924969\n",
              "1996     21.719686\n",
              "1997     28.500571\n",
              "1998     35.431910\n",
              "1999     44.378468\n",
              "2000     39.181749\n",
              "2001     34.722866\n",
              "2002     27.392869\n",
              "2003     36.095583\n",
              "2004     40.398177\n",
              "2005     42.850346\n",
              "2006     49.449300\n",
              "2007     52.267910\n",
              "2008     33.064680\n",
              "2009     42.441823\n",
              "2010     49.864898\n",
              "2011     50.104249\n",
              "2012     58.286273\n",
              "2013     78.814699\n",
              "2014     88.059663\n",
              "2015     88.138916\n",
              "2016    100.037670\n",
              "2017    122.356074\n",
              "2018    116.091443\n",
              "2019    151.406460\n",
              "2020    187.910558\n",
              "2021    232.276241\n",
              "dtype: float64"
            ]
          },
          "metadata": {},
          "execution_count": 3
        }
      ]
    },
    {
      "cell_type": "code",
      "source": [
        "stock"
      ],
      "metadata": {
        "colab": {
          "base_uri": "https://localhost:8080/"
        },
        "id": "y6tWn0zytIRi",
        "outputId": "4a93695f-3d07-48db-d469-07f413d8fcfd"
      },
      "execution_count": null,
      "outputs": [
        {
          "output_type": "execute_result",
          "data": {
            "text/plain": [
              "Year\n",
              "1971    0.106523\n",
              "1972    0.453690\n",
              "1973   -0.090197\n",
              "1974   -0.316028\n",
              "1975    0.417094\n",
              "1976    0.481890\n",
              "1977   -0.051829\n",
              "1978    0.205788\n",
              "1979    0.202666\n",
              "1980    0.764968\n",
              "1981   -0.138191\n",
              "1982   -0.253645\n",
              "1983    0.082032\n",
              "1984   -0.048962\n",
              "1985    0.303274\n",
              "1986    0.266332\n",
              "1987   -0.086547\n",
              "1988    0.220033\n",
              "1989    0.557834\n",
              "1990    0.118069\n",
              "1991   -0.006591\n",
              "1992    0.056948\n",
              "1993    0.306286\n",
              "1994    0.067977\n",
              "1995    0.221603\n",
              "1996    0.285149\n",
              "1997    0.221478\n",
              "1998    0.110188\n",
              "1999    0.073543\n",
              "2000    0.005440\n",
              "2001    0.092800\n",
              "2002   -0.230911\n",
              "2003    0.353669\n",
              "2004    0.255410\n",
              "2005    0.115425\n",
              "2006    0.337025\n",
              "2007    0.305499\n",
              "2008   -0.183292\n",
              "2009    0.080610\n",
              "2010    0.229461\n",
              "2011    0.202800\n",
              "2012    0.050615\n",
              "2013    0.193086\n",
              "2014   -0.069889\n",
              "2015   -0.161707\n",
              "2016    0.366614\n",
              "2017    0.105896\n",
              "2018   -0.097474\n",
              "2019    0.152737\n",
              "2020   -0.259521\n",
              "2021    0.462413\n",
              "Name: Adj Close, dtype: float64"
            ]
          },
          "metadata": {},
          "execution_count": 4
        }
      ]
    },
    {
      "cell_type": "code",
      "source": [
        "stock_compound"
      ],
      "metadata": {
        "colab": {
          "base_uri": "https://localhost:8080/"
        },
        "id": "ZBfrFoEjtK8U",
        "outputId": "661a52d6-11bf-4bb1-8475-5befcc3cf95e"
      },
      "execution_count": null,
      "outputs": [
        {
          "output_type": "execute_result",
          "data": {
            "text/plain": [
              "Year\n",
              "1970      1.000000\n",
              "1971      1.106523\n",
              "1972      1.608541\n",
              "1973      1.463455\n",
              "1974      1.000963\n",
              "1975      1.418459\n",
              "1976      2.102000\n",
              "1977      1.993055\n",
              "1978      2.403201\n",
              "1979      2.890249\n",
              "1980      5.101195\n",
              "1981      4.396258\n",
              "1982      3.281169\n",
              "1983      3.550331\n",
              "1984      3.376500\n",
              "1985      4.400504\n",
              "1986      5.572501\n",
              "1987      5.090218\n",
              "1988      6.210234\n",
              "1989      9.674517\n",
              "1990     10.816775\n",
              "1991     10.745482\n",
              "1992     11.357419\n",
              "1993     14.836031\n",
              "1994     15.844534\n",
              "1995     19.355728\n",
              "1996     24.874995\n",
              "1997     30.384248\n",
              "1998     33.732222\n",
              "1999     36.212997\n",
              "2000     36.409980\n",
              "2001     39.788830\n",
              "2002     30.601135\n",
              "2003     41.423803\n",
              "2004     52.003866\n",
              "2005     58.006437\n",
              "2006     77.556066\n",
              "2007    101.249352\n",
              "2008     82.691115\n",
              "2009     89.356871\n",
              "2010    109.860815\n",
              "2011    132.140599\n",
              "2012    138.828840\n",
              "2013    165.634810\n",
              "2014    154.058790\n",
              "2015    129.146477\n",
              "2016    176.493424\n",
              "2017    195.183376\n",
              "2018    176.158009\n",
              "2019    203.063803\n",
              "2020    150.364468\n",
              "2021    219.894957\n",
              "Name: Adj Close, dtype: float64"
            ]
          },
          "metadata": {},
          "execution_count": 5
        }
      ]
    },
    {
      "cell_type": "code",
      "source": [
        ""
      ],
      "metadata": {
        "id": "tcmPMcyQtNIS"
      },
      "execution_count": null,
      "outputs": []
    }
  ]
}