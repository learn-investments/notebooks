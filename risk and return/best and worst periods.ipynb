{
  "nbformat": 4,
  "nbformat_minor": 0,
  "metadata": {
    "colab": {
      "name": "compounded_returns.ipynb",
      "provenance": [],
      "collapsed_sections": [],
      "include_colab_link": true
    },
    "kernelspec": {
      "name": "python3",
      "display_name": "Python 3"
    },
    "language_info": {
      "name": "python"
    }
  },
  "cells": [
    {
      "cell_type": "markdown",
      "metadata": {
        "id": "view-in-github",
        "colab_type": "text"
      },
      "source": [
        "<a href=\"https://colab.research.google.com/github/bbcx-investments/notebooks/blob/main/risk/compounded_returns.ipynb\" target=\"_parent\"><img src=\"https://colab.research.google.com/assets/colab-badge.svg\" alt=\"Open In Colab\"/></a>"
      ]
    },
    {
      "cell_type": "code",
      "execution_count": null,
      "metadata": {
        "colab": {
          "base_uri": "https://localhost:8080/"
        },
        "id": "feZiEpAytoF7",
        "outputId": "35618ac8-7ff3-46c9-e6c9-1d5a690296c9"
      },
      "outputs": [
        {
          "output_type": "stream",
          "name": "stdout",
          "text": [
            "Requirement already satisfied: pandas-datareader in /usr/local/lib/python3.7/dist-packages (0.9.0)\n",
            "Collecting pandas-datareader\n",
            "  Downloading pandas_datareader-0.10.0-py3-none-any.whl (109 kB)\n",
            "\u001b[K     |████████████████████████████████| 109 kB 5.3 MB/s \n",
            "\u001b[?25hRequirement already satisfied: lxml in /usr/local/lib/python3.7/dist-packages (from pandas-datareader) (4.2.6)\n",
            "Requirement already satisfied: requests>=2.19.0 in /usr/local/lib/python3.7/dist-packages (from pandas-datareader) (2.23.0)\n",
            "Requirement already satisfied: pandas>=0.23 in /usr/local/lib/python3.7/dist-packages (from pandas-datareader) (1.3.5)\n",
            "Requirement already satisfied: numpy>=1.17.3 in /usr/local/lib/python3.7/dist-packages (from pandas>=0.23->pandas-datareader) (1.21.6)\n",
            "Requirement already satisfied: python-dateutil>=2.7.3 in /usr/local/lib/python3.7/dist-packages (from pandas>=0.23->pandas-datareader) (2.8.2)\n",
            "Requirement already satisfied: pytz>=2017.3 in /usr/local/lib/python3.7/dist-packages (from pandas>=0.23->pandas-datareader) (2022.1)\n",
            "Requirement already satisfied: six>=1.5 in /usr/local/lib/python3.7/dist-packages (from python-dateutil>=2.7.3->pandas>=0.23->pandas-datareader) (1.15.0)\n",
            "Requirement already satisfied: urllib3!=1.25.0,!=1.25.1,<1.26,>=1.21.1 in /usr/local/lib/python3.7/dist-packages (from requests>=2.19.0->pandas-datareader) (1.24.3)\n",
            "Requirement already satisfied: certifi>=2017.4.17 in /usr/local/lib/python3.7/dist-packages (from requests>=2.19.0->pandas-datareader) (2021.10.8)\n",
            "Requirement already satisfied: idna<3,>=2.5 in /usr/local/lib/python3.7/dist-packages (from requests>=2.19.0->pandas-datareader) (2.10)\n",
            "Requirement already satisfied: chardet<4,>=3.0.2 in /usr/local/lib/python3.7/dist-packages (from requests>=2.19.0->pandas-datareader) (3.0.4)\n",
            "Installing collected packages: pandas-datareader\n",
            "  Attempting uninstall: pandas-datareader\n",
            "    Found existing installation: pandas-datareader 0.9.0\n",
            "    Uninstalling pandas-datareader-0.9.0:\n",
            "      Successfully uninstalled pandas-datareader-0.9.0\n",
            "Successfully installed pandas-datareader-0.10.0\n"
          ]
        }
      ],
      "source": [
        "import numpy as np\n",
        "import pandas as pd\n",
        "!pip install --upgrade pandas-datareader\n",
        "from pandas_datareader import DataReader as pdr\n",
        "\n",
        "# market returns\n",
        "df = pdr('F-F_Research_Data_Factors','famafrench',start=1926)[1]/100\n",
        "mkt = df['Mkt-RF'] + df.RF\n",
        "mkt.index.name = 'Year'\n",
        "mkt.index = [int(str(x)) for x in mkt.index]\n",
        "    \n",
        "# example stock returns\n",
        "ticker = 'CVX'\n",
        "stock = pdr(ticker,'yahoo',start=1970)\n",
        "stock['Year'] = [x.year for x in stock.index]\n",
        "stock = stock.groupby('Year').last()['Adj Close']\n",
        "stock = stock.pct_change().dropna()\n",
        "\n",
        "# example compounding period\n",
        "numyears = 10\n",
        "\n",
        "# create dictionary of dataframes\n",
        "dfs = {}\n",
        "for rets, name in zip((mkt,stock),('market','stock')) :\n",
        "    years = min(numyears,len(rets.index))\n",
        "    compound = rets.rolling(years).apply(lambda x: (1+x).prod())\n",
        "\n",
        "    bestyear = compound.idxmax()\n",
        "    best = compound.loc[(bestyear-years+1):bestyear]\n",
        "    best = (1+best).cumprod()\n",
        "    best.loc[bestyear-years] = 1\n",
        "    best = best.sort_index()\n",
        "   \n",
        "    worstyear = compound.idxmin()\n",
        "    worst = rets.loc[(worstyear-numyears+1):worstyear]\n",
        "    worst = (1+worst).cumprod()\n",
        "    worst.loc[worstyear-years] = 1\n",
        "    worst = worst.sort_index()\n",
        "    \n",
        "    dfs[name+'_compound'] = compound\n",
        "    dfs[name+'_best'] = best\n",
        "    dfs[name+'_worst'] = worst"
      ]
    },
    {
      "cell_type": "code",
      "source": [
        "# example output\n",
        "dfs['market_best']"
      ],
      "metadata": {
        "colab": {
          "base_uri": "https://localhost:8080/"
        },
        "id": "D0-D5sTRw3W1",
        "outputId": "6d926369-5f22-46ce-aa20-2cddd4343915"
      },
      "execution_count": null,
      "outputs": [
        {
          "output_type": "execute_result",
          "data": {
            "text/plain": [
              "1948    1.000000e+00\n",
              "1949    3.479735e+00\n",
              "1950    1.556157e+01\n",
              "1951    8.840907e+01\n",
              "1952    4.915779e+02\n",
              "1953    2.252147e+03\n",
              "1954    1.224054e+04\n",
              "1955    6.128750e+04\n",
              "1956    3.455265e+05\n",
              "1957    1.739353e+06\n",
              "1958    1.172472e+07\n",
              "dtype: float64"
            ]
          },
          "metadata": {},
          "execution_count": 2
        }
      ]
    },
    {
      "cell_type": "code",
      "source": [
        ""
      ],
      "metadata": {
        "id": "dlL9h2fgw6Wi"
      },
      "execution_count": null,
      "outputs": []
    }
  ]
}