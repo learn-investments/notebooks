{
  "cells": [
    {
      "cell_type": "code",
      "execution_count": null,
      "metadata": {},
      "outputs": [],
      "source": [
        "import numpy as np\n",
        "import pandas as pd\n",
        "from pandas_datareader import DataReader as pdr\n",
        "import yfinance as yf\n",
        "import plotly.graph_objects as go"
      ]
    },
    {
      "attachments": {},
      "cell_type": "markdown",
      "metadata": {},
      "source": [
        "# U.S. STOCK MARKET RETURN"
      ]
    },
    {
      "cell_type": "code",
      "execution_count": null,
      "metadata": {},
      "outputs": [],
      "source": [
        "mkt = pdr('F-F_Research_Data_Factors','famafrench',start=1926)[1]/100\n",
        "mkt = mkt['Mkt-RF'] + mkt.RF\n",
        "mkt.index.name = \"year\"\n",
        "mkt.name = \"market\"\n",
        "mkt.index = mkt.index.astype(str)\n",
        "mkt.tail()"
      ]
    },
    {
      "attachments": {},
      "cell_type": "markdown",
      "metadata": {},
      "source": [
        "# RETURNS FROM YAHOO FINANCE"
      ]
    },
    {
      "cell_type": "code",
      "execution_count": null,
      "metadata": {},
      "outputs": [],
      "source": [
        "ticker = input(\"Input a ticker\")\n",
        "price = yf.download(ticker, start=\"1970-01-01\")[\"Adj Close\"]\n",
        "price = price.resample(\"Y\").last()\n",
        "ret = price.pct_change()[:-1].dropna()\n",
        "ret.index = ret.index.map(lambda x: x.year)\n",
        "ret.index.name = \"year\"\n",
        "ret.name = ticker\n",
        "ret.tail()"
      ]
    },
    {
      "attachments": {},
      "cell_type": "markdown",
      "metadata": {},
      "source": [
        "# YAHOO RETURN OR MARKET"
      ]
    },
    {
      "cell_type": "code",
      "execution_count": null,
      "metadata": {},
      "outputs": [],
      "source": [
        "flag = int(input(\"input 0 for market or 1 for yahoo return\"))\n",
        "data = ret if flag else mkt\n",
        "name = f\"{ticker.upper()}\" if flag else \"Market\""
      ]
    },
    {
      "attachments": {},
      "cell_type": "markdown",
      "metadata": {},
      "source": [
        "# BEST AND WORST PERIODS"
      ]
    },
    {
      "cell_type": "code",
      "execution_count": null,
      "metadata": {},
      "outputs": [],
      "source": [
        "years = int(input(\"input desired length of time period in years \"))\n",
        "\n",
        "compound = data.rolling(years).apply(lambda x: (1 + x).prod())\n",
        "bestyear = compound.idxmax()\n",
        "worstyear = compound.idxmin()\n",
        "\n",
        "geomean = compound.dropna()**(1/years) - 1\n",
        "geomean = geomean.reset_index()\n",
        "geomean.columns = [\"endyear\", \"geomean\"]\n",
        "geomean[\"startyear\"] = compound.endyear - years + 1\n",
        "\n",
        "best = data.loc[(bestyear - years + 1) : bestyear]\n",
        "best = (1 + best).cumprod()\n",
        "best = best.reset_index()\n",
        "best.columns = [\"year\", \"compounded_return\"]\n",
        "best[\"startyear\"] = best.year.iloc[0]\n",
        "\n",
        "worst = data.loc[(worstyear - years + 1) : bestyear]\n",
        "worst = (1 + worst).cumprod()\n",
        "worst = worst.reset_index()\n",
        "worst.columns = [\"year\", \"compounded_return\"]\n",
        "worst[\"startyear\"] = worst.year.iloc[0]"
      ]
    },
    {
      "attachments": {},
      "cell_type": "markdown",
      "metadata": {},
      "source": [
        "# FIGURE 1"
      ]
    },
    {
      "cell_type": "code",
      "execution_count": null,
      "metadata": {
        "id": "tcmPMcyQtNIS"
      },
      "outputs": [],
      "source": [
        "trace = go.Scatter(\n",
        "    x=best.year,\n",
        "    y=best.compounded_return,\n",
        "    text=best.startyear,\n",
        "    hovertemplate=\"%{text}-%{x}<br>$%{y:.2f}\",\n",
        "    mode=\"lines+markers\"\n",
        ")\n",
        "fig = go.Figure(trace)\n",
        "fig.update_layout(\n",
        "    title = f\"Best {years} Year Period\"\n",
        "    xaxis_title=\"Year\",\n",
        "    yaxis_title=f\"{name} Accumulation from $1\",\n",
        "    yaxis_tickprefix=\"$\",\n",
        "    yaxis_tickformat=\".2f\",\n",
        "    template=\"plotly_white\"\n",
        ")\n",
        "fig.show()"
      ]
    },
    {
      "attachments": {},
      "cell_type": "markdown",
      "metadata": {},
      "source": [
        "# FIGURE 2"
      ]
    },
    {
      "cell_type": "code",
      "execution_count": null,
      "metadata": {},
      "outputs": [],
      "source": [
        "trace = go.Scatter(\n",
        "    x=worst.year,\n",
        "    y=worst.compounded_return,\n",
        "    text=worst.startyear,\n",
        "    hovertemplate=\"%{text}-%{x}<br>$%{y:.2f}\",\n",
        "    mode=\"lines+markers\"\n",
        ")\n",
        "fig = go.Figure(trace)\n",
        "fig.update_layout(\n",
        "    title = f\"Worst {years} Year Period\"\n",
        "    xaxis_title=\"Year\",\n",
        "    yaxis_title=f\"{name} Accumulation from $1\",\n",
        "    yaxis_tickprefix=\"$\",\n",
        "    yaxis_tickformat=\".2f\",\n",
        "    template=\"plotly_white\"\n",
        ")\n",
        "fig.show()"
      ]
    },
    {
      "attachments": {},
      "cell_type": "markdown",
      "metadata": {},
      "source": [
        "# FIGURE 3"
      ]
    },
    {
      "cell_type": "code",
      "execution_count": null,
      "metadata": {},
      "outputs": [],
      "source": [
        "trace = go.Scatter(\n",
        "    x=geomean.year,\n",
        "    y=geomean.geomean,\n",
        "    text=geomean.startyear,\n",
        "    hovertemplate=\"%{text}-%{x}<br>%{y:.2%}\",\n",
        "    mode=\"lines+markers\"\n",
        ")\n",
        "fig = go.Figure(trace)\n",
        "fig.update_layout(\n",
        "    title = f\"{years} Year {name} Geometric Average Returns\"\n",
        "    xaxis_title=\"Ending Year\",\n",
        "    yaxis_title=\"Geometric Average Return\",\n",
        "    yaxis_tickformat=\".2f\",\n",
        "    template=\"plotly_white\"\n",
        ")\n",
        "fig.show()"
      ]
    },
    {
      "attachments": {},
      "cell_type": "markdown",
      "metadata": {},
      "source": [
        "# FIGURE 4"
      ]
    },
    {
      "cell_type": "code",
      "execution_count": null,
      "metadata": {},
      "outputs": [],
      "source": [
        "trace = go.Box(\n",
        "    x = geomean.geomean,\n",
        ")\n",
        "fig = go.Figure(trace)\n",
        "fig.update_layout(\n",
        "    template=\"plotly_white\"\n",
        ")\n",
        "fig.show()\n"
      ]
    }
  ],
  "metadata": {
    "colab": {
      "collapsed_sections": [],
      "include_colab_link": true,
      "name": "returns.ipynb",
      "provenance": []
    },
    "kernelspec": {
      "display_name": "Python 3",
      "name": "python3"
    },
    "language_info": {
      "codemirror_mode": {
        "name": "ipython",
        "version": 3
      },
      "file_extension": ".py",
      "mimetype": "text/x-python",
      "name": "python",
      "nbconvert_exporter": "python",
      "pygments_lexer": "ipython3",
      "version": "3.10.8"
    }
  },
  "nbformat": 4,
  "nbformat_minor": 0
}
