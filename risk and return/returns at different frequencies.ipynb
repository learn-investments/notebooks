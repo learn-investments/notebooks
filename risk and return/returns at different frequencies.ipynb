{
 "cells": [
  {
   "cell_type": "code",
   "execution_count": null,
   "metadata": {
    "pycharm": {
     "name": "#%%\n"
    }
   },
   "outputs": [],
   "source": [
    "import numpy as np\n",
    "import pandas as pd\n",
    "from pandas_datareader import DataReader as pdr\n",
    "import yfinance as yf\n",
    "import plotly.graph_objects as go\n",
    "import plotly.figure_factory as ff\n",
    "from scipy.stats import norm"
   ]
  },
  {
   "attachments": {},
   "cell_type": "markdown",
   "metadata": {
    "pycharm": {
     "name": "#%% md\n"
    }
   },
   "source": [
    "# U.S. STOCK MARKET RETURN"
   ]
  },
  {
   "attachments": {},
   "cell_type": "markdown",
   "metadata": {
    "pycharm": {
     "name": "#%% md\n"
    }
   },
   "source": [
    "## ANNUAL"
   ]
  },
  {
   "cell_type": "code",
   "execution_count": null,
   "metadata": {
    "pycharm": {
     "name": "#%%\n"
    }
   },
   "outputs": [],
   "source": [
    "mkt_annual = pdr('F-F_Research_Data_Factors','famafrench',start=1926)[1]/100\n",
    "mkt_annual = mkt_annual['Mkt-RF'] + mkt_annual.RF\n",
    "mkt_annual.index.name = \"year\"\n",
    "mkt_annual.name = \"market annual\"\n",
    "mkt_annual.index = mkt_annual.index.astype(str)\n",
    "mkt_annual.tail()"
   ]
  },
  {
   "attachments": {},
   "cell_type": "markdown",
   "metadata": {
    "pycharm": {
     "name": "#%% md\n"
    }
   },
   "source": [
    "## MONTHLY"
   ]
  },
  {
   "cell_type": "code",
   "execution_count": null,
   "metadata": {
    "pycharm": {
     "name": "#%%\n"
    }
   },
   "outputs": [],
   "source": [
    "mkt_monthly = pdr('F-F_Research_Data_Factors','famafrench',start=1926)[0]/100\n",
    "mkt_monthly = mkt_monthly['Mkt-RF'] + mkt_monthly.RF\n",
    "mkt_annual.index.name = \"month\"\n",
    "mkt_monthly.name = \"market monthly\"\n",
    "mkt_monthly.index = mkt_monthly.index.astype(str)\n",
    "mkt_monthly.tail()"
   ]
  },
  {
   "attachments": {},
   "cell_type": "markdown",
   "metadata": {
    "pycharm": {
     "name": "#%% md\n"
    }
   },
   "source": [
    "## DAILY"
   ]
  },
  {
   "cell_type": "code",
   "execution_count": null,
   "metadata": {
    "pycharm": {
     "name": "#%%\n"
    }
   },
   "outputs": [],
   "source": [
    "mkt_daily = pdr('F-F_Research_Data_Factors_Daily','famafrench',start=1926)[0]/100\n",
    "mkt_daily = mkt_daily['Mkt-RF'] + mkt_daily.RF\n",
    "mkt_daily.index.name = \"day\"\n",
    "mkt_daily.name = \"market daily\"\n",
    "mkt_daily.index = mkt_daily.index.astype(str)\n",
    "mkt_daily.tail()"
   ]
  },
  {
   "attachments": {},
   "cell_type": "markdown",
   "metadata": {
    "pycharm": {
     "name": "#%% md\n"
    }
   },
   "source": [
    "# RETURNS FROM YAHOO FINANCE"
   ]
  },
  {
   "cell_type": "code",
   "execution_count": null,
   "metadata": {
    "pycharm": {
     "name": "#%%\n"
    }
   },
   "outputs": [],
   "source": [
    "ticker = input(\"Input a ticker\")\n",
    "price = yf.download(ticker, start=\"1970-01-01\")[\"Adj Close\"]"
   ]
  },
  {
   "attachments": {},
   "cell_type": "markdown",
   "metadata": {
    "pycharm": {
     "name": "#%% md\n"
    }
   },
   "source": [
    "## ANNUAL"
   ]
  },
  {
   "cell_type": "code",
   "execution_count": null,
   "metadata": {
    "pycharm": {
     "name": "#%%\n"
    }
   },
   "outputs": [],
   "source": [
    "price_annual = price.resample(\"Y\").last()\n",
    "ret_annual = price_annual.pct_change().dropna()[:-1]\n",
    "ret_annual.index = ret_annual.index.map(lambda x: x.year)\n",
    "ret_annual.index.name = \"year\"\n",
    "ret_annual.name = ticker + \" annual\"\n",
    "ret_annual.tail()"
   ]
  },
  {
   "attachments": {},
   "cell_type": "markdown",
   "metadata": {
    "pycharm": {
     "name": "#%% md\n"
    }
   },
   "source": [
    "## MONTHLY"
   ]
  },
  {
   "cell_type": "code",
   "execution_count": null,
   "metadata": {
    "pycharm": {
     "name": "#%%\n"
    }
   },
   "outputs": [],
   "source": [
    "price_monthly = price.resample(\"M\").last()\n",
    "ret_monthly = price_monthly.pct_change().dropna()[:-1]\n",
    "ret_monthly.index = ret_monthly.index.to_period(\"M\").astype(str)\n",
    "ret_monthly.index.name = \"month\"\n",
    "ret_monthly.name = ticker + \" monthly\"\n",
    "ret_monthly.tail()"
   ]
  },
  {
   "attachments": {},
   "cell_type": "markdown",
   "metadata": {
    "pycharm": {
     "name": "#%% md\n"
    }
   },
   "source": [
    "## DAILY"
   ]
  },
  {
   "cell_type": "code",
   "execution_count": null,
   "metadata": {
    "pycharm": {
     "name": "#%%\n"
    }
   },
   "outputs": [],
   "source": [
    "ret_daily = price.pct_change().dropna()\n",
    "ret_daily.index = ret_daily.index.to_period(\"D\").astype(str)\n",
    "ret_daily.index.name = \"day\"\n",
    "ret_daily.name = ticker + \" daily\"\n",
    "ret_daily.tail()"
   ]
  },
  {
   "attachments": {},
   "cell_type": "markdown",
   "metadata": {
    "pycharm": {
     "name": "#%% md\n"
    }
   },
   "source": [
    "# SELECT YAHOO RETURN OR MARKET"
   ]
  },
  {
   "cell_type": "code",
   "execution_count": null,
   "metadata": {
    "pycharm": {
     "name": "#%%\n"
    }
   },
   "outputs": [],
   "source": [
    "\"Market Return\"\n",
    "\n",
    "flag = input(\"input 0 for market or 1 for yahoo return\")\n",
    "data = \"ret\" if flag else \"mkt\"\n",
    "name = ticker.upper() if flag else \"Market\"\n",
    "annual = eval(data + \"_annual\")\n",
    "monthly = eval(data + \"_monthly\")\n",
    "daily = eval(data + \"_daily\")"
   ]
  },
  {
   "attachments": {},
   "cell_type": "markdown",
   "metadata": {
    "pycharm": {
     "name": "#%% md\n"
    }
   },
   "source": [
    "# TABLE"
   ]
  },
  {
   "cell_type": "code",
   "execution_count": null,
   "metadata": {
    "pycharm": {
     "name": "#%%\n"
    }
   },
   "outputs": [],
   "source": [
    "ser1 = annual.describe(percentiles=(0.1, 0.25, 0.5, 0.75, 0.9))\n",
    "ser2 = monthly.describe(percentiles=(0.1, 0.25, 0.5, 0.75, 0.9))\n",
    "ser3 = daily.describe(percentiles=(0.1, 0.25, 0.5, 0.75, 0.9))\n",
    "table = pd.concat((ser1, ser2, ser3), axis=1)\n",
    "table"
   ]
  },
  {
   "attachments": {},
   "cell_type": "markdown",
   "metadata": {
    "pycharm": {
     "name": "#%% md\n"
    }
   },
   "source": [
    "# FIGURE 1"
   ]
  },
  {
   "cell_type": "code",
   "execution_count": null,
   "metadata": {
    "id": "tcmPMcyQtNIS",
    "pycharm": {
     "name": "#%%\n"
    }
   },
   "outputs": [],
   "source": [
    "trace1 = go.Box(\n",
    "    y=daily, \n",
    "    text=daily.index.to_list(), \n",
    "    name=name + \" Daily\", \n",
    "    hovertemplate=\"%{text}<br>%{y:.1%}<extra></extra>\"\n",
    ")\n",
    "trace2 = go.Box(\n",
    "    y=monthly, \n",
    "    text=monthly.index.to_list(), \n",
    "    name=name + \" Monthly\", \n",
    "    hovertemplate=\"%{text}<br>%{y:.1%}<extra></extra>\"\n",
    ")\n",
    "trace3 = go.Box(\n",
    "    y=annual, \n",
    "    text=annual.index.to_list(), \n",
    "    name=name + \" Annual\", \n",
    "    hovertemplate=\"%{text}<br>%{y:.1%}<extra></extra>\"\n",
    ")\n",
    "fig = go.Figure()\n",
    "for trace in [trace1, trace2, trace3]:\n",
    "    fig.add_trace(trace)\n",
    "fig.update_layout(\n",
    "    yaxis_tickformat=\".1%\",\n",
    "    template=\"plotly_white\",\n",
    "    showlegend=False\n",
    ")\n",
    "fig.show()"
   ]
  },
  {
   "attachments": {},
   "cell_type": "markdown",
   "metadata": {
    "pycharm": {
     "name": "#%% md\n"
    }
   },
   "source": [
    "# FIGURE 2"
   ]
  },
  {
   "cell_type": "code",
   "execution_count": null,
   "metadata": {
    "pycharm": {
     "name": "#%%\n"
    }
   },
   "outputs": [],
   "source": [
    "trace1 = ff.create_distplot(\n",
    "    [daily], \n",
    "    group_labels=[\"actual\"], \n",
    "    show_rug=False, \n",
    "    show_hist=False\n",
    ")\n",
    "\n",
    "m = daily.mean()\n",
    "s = daily.std()\n",
    "grid = np.linspace(m - 3 * s, m + 3 * s, 201)\n",
    "trace2 = go.Scatter(\n",
    "    x=grid, \n",
    "    y=norm.pdf(grid, loc=m, scale=s), \n",
    "    mode=\"lines\", \n",
    "    name=\"normal\"\n",
    ")\n",
    "\n",
    "fig = go.Figure(trace1)\n",
    "fig.add_trace(trace2)\n",
    "fig.update_layout(\n",
    "    yaxis_tickvals=[],\n",
    "    xaxis_tickformat=\".0%\",\n",
    "    title=dict(\n",
    "        text=name + \" Daily Returns\",\n",
    "    ),\n",
    "    legend=dict(\n",
    "        yanchor=\"top\",\n",
    "        y=0.99,\n",
    "        xanchor=\"right\",\n",
    "        x=0.99\n",
    "    ),\n",
    "    template=\"plotly_white\",\n",
    ")\n",
    "fig.show()\n"
   ]
  },
  {
   "attachments": {},
   "cell_type": "markdown",
   "metadata": {
    "pycharm": {
     "name": "#%% md\n"
    }
   },
   "source": [
    "# FIGURE 3"
   ]
  },
  {
   "cell_type": "code",
   "execution_count": null,
   "metadata": {
    "pycharm": {
     "name": "#%%\n"
    }
   },
   "outputs": [],
   "source": [
    "trace1 = ff.create_distplot(\n",
    "    [monthly], \n",
    "    group_labels=[\"actual\"], \n",
    "    show_rug=False, \n",
    "    show_hist=False\n",
    ")\n",
    "\n",
    "m = monthly.mean()\n",
    "s = monthly.std()\n",
    "grid = np.linspace(m - 3 * s, m + 3 * s, 201)\n",
    "trace2 = go.Scatter(\n",
    "    x=grid, \n",
    "    y=norm.pdf(grid, loc=m, scale=s), \n",
    "    mode=\"lines\", \n",
    "    name=\"normal\"\n",
    ")\n",
    "\n",
    "fig = go.Figure(trace1)\n",
    "fig.add_trace(trace2)\n",
    "fig.update_layout(\n",
    "    yaxis_tickvals=[],\n",
    "    xaxis_tickformat=\".0%\",\n",
    "    title=dict(\n",
    "        text=name + \" Monthly Returns\",\n",
    "    ),\n",
    "    legend=dict(\n",
    "        yanchor=\"top\",\n",
    "        y=0.99,\n",
    "        xanchor=\"right\",\n",
    "        x=0.99\n",
    "    ),\n",
    "    template=\"plotly_white\",\n",
    ")\n",
    "fig.show()\n"
   ]
  },
  {
   "attachments": {},
   "cell_type": "markdown",
   "metadata": {
    "pycharm": {
     "name": "#%% md\n"
    }
   },
   "source": [
    "# FIGURE 4"
   ]
  },
  {
   "cell_type": "code",
   "execution_count": null,
   "metadata": {
    "pycharm": {
     "name": "#%%\n"
    }
   },
   "outputs": [],
   "source": [
    "trace1 = ff.create_distplot(\n",
    "    [annual], \n",
    "    group_labels=[\"actual\"], \n",
    "    show_rug=False, \n",
    "    show_hist=False\n",
    ")\n",
    "\n",
    "m = annual.mean()\n",
    "s = annual.std()\n",
    "grid = np.linspace(m - 3 * s, m + 3 * s, 201)\n",
    "trace2 = go.Scatter(\n",
    "    x=grid, \n",
    "    y=norm.pdf(grid, loc=m, scale=s), \n",
    "    mode=\"lines\", \n",
    "    name=\"normal\"\n",
    ")\n",
    "\n",
    "fig = go.Figure(trace1)\n",
    "fig.add_trace(trace2)\n",
    "fig.update_layout(\n",
    "    yaxis_tickvals=[],\n",
    "    xaxis_tickformat=\".0%\",\n",
    "    title=dict(\n",
    "        text=name + \" Annual Returns\",\n",
    "    ),\n",
    "    legend=dict(\n",
    "        yanchor=\"top\",\n",
    "        y=0.99,\n",
    "        xanchor=\"right\",\n",
    "        x=0.99\n",
    "    ),\n",
    "    template=\"plotly_white\",\n",
    ")\n",
    "fig.show()\n",
    "\n"
   ]
  }
 ],
 "metadata": {
  "colab": {
   "collapsed_sections": [],
   "include_colab_link": true,
   "name": "returns at different frequencies.ipynb",
   "provenance": []
  },
  "kernelspec": {
   "display_name": "Python 3",
   "name": "python3"
  },
  "language_info": {
   "codemirror_mode": {
    "name": "ipython",
    "version": 3
   },
   "file_extension": ".py",
   "mimetype": "text/x-python",
   "name": "python",
   "nbconvert_exporter": "python",
   "pygments_lexer": "ipython3",
   "version": "3.10.5"
  }
 },
 "nbformat": 4,
 "nbformat_minor": 0
}
