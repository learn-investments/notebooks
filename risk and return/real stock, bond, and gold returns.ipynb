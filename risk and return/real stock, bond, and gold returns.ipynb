{
 "cells": [
  {
   "cell_type": "markdown",
   "metadata": {},
   "source": [
    "---\n",
    "\n",
    "Created for [learn-investments.rice-business.org](https://learn-investments.rice-business.org)\n",
    "    \n",
    "By [Kerry Back](https://kerryback.com) and [Kevin Crotty](https://kevin-crotty.com)\n",
    "    \n",
    "Jones Graduate School of Business, Rice University\n",
    "\n",
    "---\n"
   ]
  },
  {
   "cell_type": "markdown",
   "metadata": {},
   "source": [
    "# READ DATA"
   ]
  },
  {
   "cell_type": "code",
   "execution_count": 54,
   "metadata": {},
   "outputs": [],
   "source": [
    "import pandas as pd\n",
    "from pandas_datareader import DataReader as pdr\n",
    "\n",
    "# nominal returns on stocks, bonds, bills, and gold\n",
    "df = pd.read_csv(\n",
    "    \"https://www.dropbox.com/scl/fi/qzdune8v7txf78sqplmvm/sbbg_nominal.csv?rlkey=3eif98d1oy1u3k9husmclcnkb&dl=1\",\n",
    "    index_col=\"Year\"\n",
    ")\n",
    "\n",
    "# inflation rate\n",
    "inflation = pdr(\"CPIAUCSL\", \"fred\", start=\"1967-01-01\")\n",
    "inflation = inflation.resample(\"Y\").last().iloc[:-1]\n",
    "inflation.index = [x.year for x in inflation.index]\n",
    "inflation = inflation.pct_change().dropna()\n",
    "df[\"inflation\"] = inflation"
   ]
  },
  {
   "cell_type": "markdown",
   "metadata": {},
   "source": [
    "# CALCULATE REAL RETURNS"
   ]
  },
  {
   "cell_type": "code",
   "execution_count": 55,
   "metadata": {},
   "outputs": [],
   "source": [
    "df = (1+df).div(1+df.inflation, axis=\"index\") - 1\n",
    "df = df.drop(columns=[\"inflation\"])"
   ]
  },
  {
   "cell_type": "markdown",
   "metadata": {},
   "source": [
    "# SUMMARY STATISTICS"
   ]
  },
  {
   "cell_type": "code",
   "execution_count": 56,
   "metadata": {},
   "outputs": [
    {
     "data": {
      "text/html": [
       "<div>\n",
       "<style scoped>\n",
       "    .dataframe tbody tr th:only-of-type {\n",
       "        vertical-align: middle;\n",
       "    }\n",
       "\n",
       "    .dataframe tbody tr th {\n",
       "        vertical-align: top;\n",
       "    }\n",
       "\n",
       "    .dataframe thead th {\n",
       "        text-align: right;\n",
       "    }\n",
       "</style>\n",
       "<table border=\"1\" class=\"dataframe\">\n",
       "  <thead>\n",
       "    <tr style=\"text-align: right;\">\n",
       "      <th></th>\n",
       "      <th>S&amp;P 500</th>\n",
       "      <th>Gold</th>\n",
       "      <th>Corporates</th>\n",
       "      <th>Treasuries</th>\n",
       "      <th>TBills</th>\n",
       "    </tr>\n",
       "  </thead>\n",
       "  <tbody>\n",
       "    <tr>\n",
       "      <th>mean</th>\n",
       "      <td>0.071532</td>\n",
       "      <td>0.055711</td>\n",
       "      <td>0.044882</td>\n",
       "      <td>0.024660</td>\n",
       "      <td>0.004179</td>\n",
       "    </tr>\n",
       "    <tr>\n",
       "      <th>std</th>\n",
       "      <td>0.168236</td>\n",
       "      <td>0.236037</td>\n",
       "      <td>0.092577</td>\n",
       "      <td>0.105357</td>\n",
       "      <td>0.025348</td>\n",
       "    </tr>\n",
       "    <tr>\n",
       "      <th>min</th>\n",
       "      <td>-0.365382</td>\n",
       "      <td>-0.376982</td>\n",
       "      <td>-0.196658</td>\n",
       "      <td>-0.228034</td>\n",
       "      <td>-0.066696</td>\n",
       "    </tr>\n",
       "    <tr>\n",
       "      <th>25%</th>\n",
       "      <td>-0.015712</td>\n",
       "      <td>-0.083743</td>\n",
       "      <td>-0.015566</td>\n",
       "      <td>-0.040691</td>\n",
       "      <td>-0.012671</td>\n",
       "    </tr>\n",
       "    <tr>\n",
       "      <th>50%</th>\n",
       "      <td>0.106083</td>\n",
       "      <td>0.015780</td>\n",
       "      <td>0.062383</td>\n",
       "      <td>0.006578</td>\n",
       "      <td>0.002431</td>\n",
       "    </tr>\n",
       "    <tr>\n",
       "      <th>75%</th>\n",
       "      <td>0.182826</td>\n",
       "      <td>0.171412</td>\n",
       "      <td>0.103233</td>\n",
       "      <td>0.102256</td>\n",
       "      <td>0.020313</td>\n",
       "    </tr>\n",
       "    <tr>\n",
       "      <th>max</th>\n",
       "      <td>0.338077</td>\n",
       "      <td>1.060907</td>\n",
       "      <td>0.242972</td>\n",
       "      <td>0.279207</td>\n",
       "      <td>0.065280</td>\n",
       "    </tr>\n",
       "  </tbody>\n",
       "</table>\n",
       "</div>"
      ],
      "text/plain": [
       "       S&P 500      Gold  Corporates  Treasuries    TBills\n",
       "mean  0.071532  0.055711    0.044882    0.024660  0.004179\n",
       "std   0.168236  0.236037    0.092577    0.105357  0.025348\n",
       "min  -0.365382 -0.376982   -0.196658   -0.228034 -0.066696\n",
       "25%  -0.015712 -0.083743   -0.015566   -0.040691 -0.012671\n",
       "50%   0.106083  0.015780    0.062383    0.006578  0.002431\n",
       "75%   0.182826  0.171412    0.103233    0.102256  0.020313\n",
       "max   0.338077  1.060907    0.242972    0.279207  0.065280"
      ]
     },
     "execution_count": 56,
     "metadata": {},
     "output_type": "execute_result"
    }
   ],
   "source": [
    "df.describe().iloc[1:]"
   ]
  },
  {
   "cell_type": "markdown",
   "metadata": {},
   "source": [
    "# CORRELATION MATRIX"
   ]
  },
  {
   "cell_type": "code",
   "execution_count": 57,
   "metadata": {},
   "outputs": [
    {
     "data": {
      "text/html": [
       "<div>\n",
       "<style scoped>\n",
       "    .dataframe tbody tr th:only-of-type {\n",
       "        vertical-align: middle;\n",
       "    }\n",
       "\n",
       "    .dataframe tbody tr th {\n",
       "        vertical-align: top;\n",
       "    }\n",
       "\n",
       "    .dataframe thead th {\n",
       "        text-align: right;\n",
       "    }\n",
       "</style>\n",
       "<table border=\"1\" class=\"dataframe\">\n",
       "  <thead>\n",
       "    <tr style=\"text-align: right;\">\n",
       "      <th></th>\n",
       "      <th>S&amp;P 500</th>\n",
       "      <th>Gold</th>\n",
       "      <th>Corporates</th>\n",
       "      <th>Treasuries</th>\n",
       "      <th>TBills</th>\n",
       "    </tr>\n",
       "  </thead>\n",
       "  <tbody>\n",
       "    <tr>\n",
       "      <th>S&amp;P 500</th>\n",
       "      <td>1.000</td>\n",
       "      <td>-0.199</td>\n",
       "      <td>0.546</td>\n",
       "      <td>0.185</td>\n",
       "      <td>0.198</td>\n",
       "    </tr>\n",
       "    <tr>\n",
       "      <th>Gold</th>\n",
       "      <td>-0.199</td>\n",
       "      <td>1.000</td>\n",
       "      <td>-0.163</td>\n",
       "      <td>-0.116</td>\n",
       "      <td>-0.360</td>\n",
       "    </tr>\n",
       "    <tr>\n",
       "      <th>Corporates</th>\n",
       "      <td>0.546</td>\n",
       "      <td>-0.163</td>\n",
       "      <td>1.000</td>\n",
       "      <td>0.716</td>\n",
       "      <td>0.491</td>\n",
       "    </tr>\n",
       "    <tr>\n",
       "      <th>Treasuries</th>\n",
       "      <td>0.185</td>\n",
       "      <td>-0.116</td>\n",
       "      <td>0.716</td>\n",
       "      <td>1.000</td>\n",
       "      <td>0.576</td>\n",
       "    </tr>\n",
       "    <tr>\n",
       "      <th>TBills</th>\n",
       "      <td>0.198</td>\n",
       "      <td>-0.360</td>\n",
       "      <td>0.491</td>\n",
       "      <td>0.576</td>\n",
       "      <td>1.000</td>\n",
       "    </tr>\n",
       "  </tbody>\n",
       "</table>\n",
       "</div>"
      ],
      "text/plain": [
       "            S&P 500   Gold  Corporates  Treasuries  TBills\n",
       "S&P 500       1.000 -0.199       0.546       0.185   0.198\n",
       "Gold         -0.199  1.000      -0.163      -0.116  -0.360\n",
       "Corporates    0.546 -0.163       1.000       0.716   0.491\n",
       "Treasuries    0.185 -0.116       0.716       1.000   0.576\n",
       "TBills        0.198 -0.360       0.491       0.576   1.000"
      ]
     },
     "execution_count": 57,
     "metadata": {},
     "output_type": "execute_result"
    }
   ],
   "source": [
    "df.corr().round(3)"
   ]
  },
  {
   "cell_type": "markdown",
   "metadata": {},
   "source": [
    "# FIGURE 1 (BOXPLOTS)"
   ]
  },
  {
   "cell_type": "code",
   "execution_count": 58,
   "metadata": {},
   "outputs": [
    {
     "data": {
      "application/vnd.plotly.v1+json": {
       "config": {
        "plotlyServerURL": "https://plot.ly"
       },
       "data": [
        {
         "hovertemplate": "%{y:.1%}<extra></extra>",
         "name": "S&P 500",
         "type": "box",
         "y": [
          0.058344193863610005,
          -0.13352594438238363,
          -0.01903136609617695,
          0.1060831586076334,
          0.14843421548460678,
          -0.21341080261228396,
          -0.33896968791262616,
          0.27878554241204445,
          0.17893896310224844,
          -0.1280280446283495,
          -0.02274986926404121,
          0.046485485354273326,
          0.17250467354977728,
          -0.1250038806996404,
          0.1598191487191949,
          0.17873176798989365,
          0.020210312678968112,
          0.26441171422361864,
          0.17104299404386802,
          0.014191138227843014,
          0.11613086073507572,
          0.25645721814175326,
          -0.08770791644632447,
          0.2646538313097586,
          0.043965790989664244,
          0.069604335303447,
          -0.012392925042503777,
          0.3380766312723329,
          0.18671280140185065,
          0.30882516741602006,
          0.2630827761832222,
          0.17734311037314487,
          -0.12053671475636163,
          -0.13241081996579673,
          -0.23854658458381273,
          0.2579560349914751,
          0.07161110785758185,
          0.014475988955610086,
          0.12766360097008578,
          0.013216189957117042,
          -0.3653823782968225,
          0.2248826333591174,
          0.1319360255952151,
          -0.009350599443170515,
          0.1388674233906817,
          0.3017573735914705,
          0.12787780527318815,
          0.007354692653931183,
          0.09526904313327678,
          0.19069386004409106,
          -0.061069654827670794,
          0.28244125335452375,
          0.16483249809379208,
          0.19846541736804957,
          -0.22973296733863235
         ]
        },
        {
         "hovertemplate": "%{y:.1%}<extra></extra>",
         "name": "Gold",
         "type": "box",
         "y": [
          0.1388461268212915,
          -0.20742073265191918,
          0.005614553882733908,
          0.13002386224726892,
          0.4344040779998384,
          0.5925387483684459,
          0.4901450879925846,
          -0.30177697841726614,
          -0.08663834151344207,
          0.15372268181256943,
          0.24386797151252537,
          1.0609069134994393,
          0.0013020833333332593,
          -0.3769824208451298,
          0.07873080859774828,
          -0.1795102933925049,
          -0.22151646344872122,
          0.01959480427361804,
          0.18138724207597767,
          0.19288643632253155,
          -0.19255967459432866,
          -0.06565863501843405,
          -0.08233700398779498,
          -0.12232392359196254,
          -0.08514894563046038,
          0.14139143018528322,
          -0.04565095175680889,
          -0.013982086661825321,
          -0.07558395532667994,
          -0.23048561215750507,
          -0.02177056095681329,
          -0.014546523236268483,
          -0.09371532386903259,
          -0.0018857466210692175,
          0.20960079733108938,
          0.19307802556223352,
          0.015779786233545368,
          0.13339395490032024,
          0.20867460790495862,
          0.26393935721137507,
          0.03430043630587831,
          0.2413669827298086,
          0.25929431650691703,
          0.08329742015732444,
          0.03856975579194577,
          -0.2887054484154865,
          -0.008349341758539963,
          -0.11985973915185244,
          0.06924630244316621,
          0.0952129692662409,
          -0.03085979282954565,
          0.16143643298150434,
          0.22549255617251274,
          -0.10214042332074547,
          -0.06454737294697332
         ]
        },
        {
         "hovertemplate": "%{y:.1%}<extra></extra>",
         "name": "Corporates",
         "type": "box",
         "y": [
          0.0013300482096996191,
          -0.07482648470244035,
          0.0007509298162013955,
          0.10395580382821246,
          0.07739146967362731,
          -0.042436993384260324,
          -0.14698021707791853,
          0.03659948479282793,
          0.14011240713744,
          0.030714656591026346,
          -0.05368607598267572,
          -0.134774847692408,
          -0.13946477594097118,
          -0.0041284468492028825,
          0.242971962868066,
          0.11954458541887569,
          0.11125949038017624,
          0.193379791339378,
          0.20060143740240655,
          -0.019574831648974444,
          0.10251053022030443,
          0.10655682900589736,
          -0.0010812263403784383,
          0.14442387663499412,
          0.08940307527896785,
          0.13248153795923057,
          -0.03817451364088231,
          0.17189397968896003,
          0.013675741712884548,
          0.09968668483240006,
          0.06238289551532872,
          -0.01785449790466409,
          0.05697886116558304,
          0.06117382873160393,
          0.09462891798191686,
          0.11267492179022698,
          0.06334588261960872,
          0.015279759320565356,
          0.044130358297308714,
          -0.009206014441826227,
          -0.05044607941777146,
          0.19953853366884933,
          0.06812105368040844,
          0.0923952706855975,
          0.08220532222344801,
          -0.025304578366985964,
          0.09668638483818803,
          -0.0132776237252481,
          0.0814722373461334,
          0.0743559813777761,
          -0.04671468532215983,
          0.12721103874730066,
          0.0897090119038868,
          -0.05840800220655451,
          -0.1966579022877295
         ]
        },
        {
         "hovertemplate": "%{y:.1%}<extra></extra>",
         "name": "Treasuries",
         "type": "box",
         "y": [
          -0.013669362462749413,
          -0.10305043921149515,
          0.10594311352126784,
          0.06314318381132566,
          -0.005685116241579413,
          -0.04848957978344759,
          -0.09015942533778187,
          -0.03289340611958358,
          0.10423657145646459,
          -0.050508234437391275,
          -0.08960873004915748,
          -0.11111288566750677,
          -0.13656381168735587,
          -0.006544930390956494,
          0.2792066639365829,
          -0.005654786707054882,
          0.0931339473452113,
          0.21120251200273765,
          0.22826006841367819,
          -0.08906785383410254,
          0.03650767850097503,
          0.12475243168211869,
          -0.00018420978928557208,
          0.11675870076839523,
          0.062106695509482224,
          0.11088306664061087,
          -0.10364841486416332,
          0.2043187196161198,
          -0.018864692683561057,
          0.08104546516877154,
          0.13103939690253563,
          -0.10645692609635982,
          0.12780120794771466,
          0.03905878442181043,
          0.1233030487940916,
          -0.016267767151984525,
          0.011112249701196175,
          -0.00455799755732289,
          -0.005491169572032106,
          0.0586031896703918,
          0.2012798197787895,
          -0.1354951830866017,
          0.0692556555977033,
          0.125878206783699,
          0.011911093696567177,
          -0.10459176722795194,
          0.10027566875684002,
          0.006414776429615854,
          -0.013329130748076623,
          0.006577753911058748,
          -0.019794374132766968,
          0.07156051735580782,
          0.09879252931008264,
          -0.10831243833783932,
          -0.22803443656525701
         ]
        },
        {
         "hovertemplate": "%{y:.1%}<extra></extra>",
         "name": "TBills",
         "type": "box",
         "y": [
          0.006033258426966226,
          0.0072672285445365414,
          0.007774045226130788,
          0.010341467084884481,
          0.00633920564705881,
          -0.01749322876750503,
          -0.03790756087935554,
          -0.012533559417526319,
          -0.0005652465753424041,
          -0.013284062735693936,
          -0.016611415031593135,
          -0.028259399513402395,
          -0.008560697685185192,
          0.047048497496895214,
          0.06527955219033754,
          0.04654274437869832,
          0.05283265459944042,
          0.03545243040212109,
          0.04725958122743701,
          0.013852204844290616,
          0.02161322816901401,
          0.03318014980205852,
          0.01168445782414329,
          0.023256549927640924,
          0.004512136135709666,
          0.00181067505126431,
          0.01612951553047659,
          0.02884918518518509,
          0.015734165394630573,
          0.0330888088998762,
          0.03118919270072995,
          0.019108649761145013,
          0.02304595501156892,
          0.017673469833072497,
          -0.008537746534653556,
          -0.010063620053908262,
          -0.01904039019300985,
          -0.0018327121655727918,
          0.021517134416543682,
          0.0024314828934162147,
          0.013938525691743697,
          -0.02590697700175304,
          -0.01280929689385013,
          -0.02919819998503681,
          -0.01642996376626704,
          -0.014340633068477548,
          -0.006163757103431977,
          -0.005829693097512911,
          -0.016998190411190328,
          -0.011708719580315274,
          -0.0006477856974588247,
          -0.0024582051319330667,
          -0.009546751093209793,
          -0.06669597401016358,
          -0.04152533089110866
         ]
        }
       ],
       "layout": {
        "template": {
         "data": {
          "bar": [
           {
            "error_x": {
             "color": "#2a3f5f"
            },
            "error_y": {
             "color": "#2a3f5f"
            },
            "marker": {
             "line": {
              "color": "white",
              "width": 0.5
             },
             "pattern": {
              "fillmode": "overlay",
              "size": 10,
              "solidity": 0.2
             }
            },
            "type": "bar"
           }
          ],
          "barpolar": [
           {
            "marker": {
             "line": {
              "color": "white",
              "width": 0.5
             },
             "pattern": {
              "fillmode": "overlay",
              "size": 10,
              "solidity": 0.2
             }
            },
            "type": "barpolar"
           }
          ],
          "carpet": [
           {
            "aaxis": {
             "endlinecolor": "#2a3f5f",
             "gridcolor": "#C8D4E3",
             "linecolor": "#C8D4E3",
             "minorgridcolor": "#C8D4E3",
             "startlinecolor": "#2a3f5f"
            },
            "baxis": {
             "endlinecolor": "#2a3f5f",
             "gridcolor": "#C8D4E3",
             "linecolor": "#C8D4E3",
             "minorgridcolor": "#C8D4E3",
             "startlinecolor": "#2a3f5f"
            },
            "type": "carpet"
           }
          ],
          "choropleth": [
           {
            "colorbar": {
             "outlinewidth": 0,
             "ticks": ""
            },
            "type": "choropleth"
           }
          ],
          "contour": [
           {
            "colorbar": {
             "outlinewidth": 0,
             "ticks": ""
            },
            "colorscale": [
             [
              0,
              "#0d0887"
             ],
             [
              0.1111111111111111,
              "#46039f"
             ],
             [
              0.2222222222222222,
              "#7201a8"
             ],
             [
              0.3333333333333333,
              "#9c179e"
             ],
             [
              0.4444444444444444,
              "#bd3786"
             ],
             [
              0.5555555555555556,
              "#d8576b"
             ],
             [
              0.6666666666666666,
              "#ed7953"
             ],
             [
              0.7777777777777778,
              "#fb9f3a"
             ],
             [
              0.8888888888888888,
              "#fdca26"
             ],
             [
              1,
              "#f0f921"
             ]
            ],
            "type": "contour"
           }
          ],
          "contourcarpet": [
           {
            "colorbar": {
             "outlinewidth": 0,
             "ticks": ""
            },
            "type": "contourcarpet"
           }
          ],
          "heatmap": [
           {
            "colorbar": {
             "outlinewidth": 0,
             "ticks": ""
            },
            "colorscale": [
             [
              0,
              "#0d0887"
             ],
             [
              0.1111111111111111,
              "#46039f"
             ],
             [
              0.2222222222222222,
              "#7201a8"
             ],
             [
              0.3333333333333333,
              "#9c179e"
             ],
             [
              0.4444444444444444,
              "#bd3786"
             ],
             [
              0.5555555555555556,
              "#d8576b"
             ],
             [
              0.6666666666666666,
              "#ed7953"
             ],
             [
              0.7777777777777778,
              "#fb9f3a"
             ],
             [
              0.8888888888888888,
              "#fdca26"
             ],
             [
              1,
              "#f0f921"
             ]
            ],
            "type": "heatmap"
           }
          ],
          "heatmapgl": [
           {
            "colorbar": {
             "outlinewidth": 0,
             "ticks": ""
            },
            "colorscale": [
             [
              0,
              "#0d0887"
             ],
             [
              0.1111111111111111,
              "#46039f"
             ],
             [
              0.2222222222222222,
              "#7201a8"
             ],
             [
              0.3333333333333333,
              "#9c179e"
             ],
             [
              0.4444444444444444,
              "#bd3786"
             ],
             [
              0.5555555555555556,
              "#d8576b"
             ],
             [
              0.6666666666666666,
              "#ed7953"
             ],
             [
              0.7777777777777778,
              "#fb9f3a"
             ],
             [
              0.8888888888888888,
              "#fdca26"
             ],
             [
              1,
              "#f0f921"
             ]
            ],
            "type": "heatmapgl"
           }
          ],
          "histogram": [
           {
            "marker": {
             "pattern": {
              "fillmode": "overlay",
              "size": 10,
              "solidity": 0.2
             }
            },
            "type": "histogram"
           }
          ],
          "histogram2d": [
           {
            "colorbar": {
             "outlinewidth": 0,
             "ticks": ""
            },
            "colorscale": [
             [
              0,
              "#0d0887"
             ],
             [
              0.1111111111111111,
              "#46039f"
             ],
             [
              0.2222222222222222,
              "#7201a8"
             ],
             [
              0.3333333333333333,
              "#9c179e"
             ],
             [
              0.4444444444444444,
              "#bd3786"
             ],
             [
              0.5555555555555556,
              "#d8576b"
             ],
             [
              0.6666666666666666,
              "#ed7953"
             ],
             [
              0.7777777777777778,
              "#fb9f3a"
             ],
             [
              0.8888888888888888,
              "#fdca26"
             ],
             [
              1,
              "#f0f921"
             ]
            ],
            "type": "histogram2d"
           }
          ],
          "histogram2dcontour": [
           {
            "colorbar": {
             "outlinewidth": 0,
             "ticks": ""
            },
            "colorscale": [
             [
              0,
              "#0d0887"
             ],
             [
              0.1111111111111111,
              "#46039f"
             ],
             [
              0.2222222222222222,
              "#7201a8"
             ],
             [
              0.3333333333333333,
              "#9c179e"
             ],
             [
              0.4444444444444444,
              "#bd3786"
             ],
             [
              0.5555555555555556,
              "#d8576b"
             ],
             [
              0.6666666666666666,
              "#ed7953"
             ],
             [
              0.7777777777777778,
              "#fb9f3a"
             ],
             [
              0.8888888888888888,
              "#fdca26"
             ],
             [
              1,
              "#f0f921"
             ]
            ],
            "type": "histogram2dcontour"
           }
          ],
          "mesh3d": [
           {
            "colorbar": {
             "outlinewidth": 0,
             "ticks": ""
            },
            "type": "mesh3d"
           }
          ],
          "parcoords": [
           {
            "line": {
             "colorbar": {
              "outlinewidth": 0,
              "ticks": ""
             }
            },
            "type": "parcoords"
           }
          ],
          "pie": [
           {
            "automargin": true,
            "type": "pie"
           }
          ],
          "scatter": [
           {
            "fillpattern": {
             "fillmode": "overlay",
             "size": 10,
             "solidity": 0.2
            },
            "type": "scatter"
           }
          ],
          "scatter3d": [
           {
            "line": {
             "colorbar": {
              "outlinewidth": 0,
              "ticks": ""
             }
            },
            "marker": {
             "colorbar": {
              "outlinewidth": 0,
              "ticks": ""
             }
            },
            "type": "scatter3d"
           }
          ],
          "scattercarpet": [
           {
            "marker": {
             "colorbar": {
              "outlinewidth": 0,
              "ticks": ""
             }
            },
            "type": "scattercarpet"
           }
          ],
          "scattergeo": [
           {
            "marker": {
             "colorbar": {
              "outlinewidth": 0,
              "ticks": ""
             }
            },
            "type": "scattergeo"
           }
          ],
          "scattergl": [
           {
            "marker": {
             "colorbar": {
              "outlinewidth": 0,
              "ticks": ""
             }
            },
            "type": "scattergl"
           }
          ],
          "scattermapbox": [
           {
            "marker": {
             "colorbar": {
              "outlinewidth": 0,
              "ticks": ""
             }
            },
            "type": "scattermapbox"
           }
          ],
          "scatterpolar": [
           {
            "marker": {
             "colorbar": {
              "outlinewidth": 0,
              "ticks": ""
             }
            },
            "type": "scatterpolar"
           }
          ],
          "scatterpolargl": [
           {
            "marker": {
             "colorbar": {
              "outlinewidth": 0,
              "ticks": ""
             }
            },
            "type": "scatterpolargl"
           }
          ],
          "scatterternary": [
           {
            "marker": {
             "colorbar": {
              "outlinewidth": 0,
              "ticks": ""
             }
            },
            "type": "scatterternary"
           }
          ],
          "surface": [
           {
            "colorbar": {
             "outlinewidth": 0,
             "ticks": ""
            },
            "colorscale": [
             [
              0,
              "#0d0887"
             ],
             [
              0.1111111111111111,
              "#46039f"
             ],
             [
              0.2222222222222222,
              "#7201a8"
             ],
             [
              0.3333333333333333,
              "#9c179e"
             ],
             [
              0.4444444444444444,
              "#bd3786"
             ],
             [
              0.5555555555555556,
              "#d8576b"
             ],
             [
              0.6666666666666666,
              "#ed7953"
             ],
             [
              0.7777777777777778,
              "#fb9f3a"
             ],
             [
              0.8888888888888888,
              "#fdca26"
             ],
             [
              1,
              "#f0f921"
             ]
            ],
            "type": "surface"
           }
          ],
          "table": [
           {
            "cells": {
             "fill": {
              "color": "#EBF0F8"
             },
             "line": {
              "color": "white"
             }
            },
            "header": {
             "fill": {
              "color": "#C8D4E3"
             },
             "line": {
              "color": "white"
             }
            },
            "type": "table"
           }
          ]
         },
         "layout": {
          "annotationdefaults": {
           "arrowcolor": "#2a3f5f",
           "arrowhead": 0,
           "arrowwidth": 1
          },
          "autotypenumbers": "strict",
          "coloraxis": {
           "colorbar": {
            "outlinewidth": 0,
            "ticks": ""
           }
          },
          "colorscale": {
           "diverging": [
            [
             0,
             "#8e0152"
            ],
            [
             0.1,
             "#c51b7d"
            ],
            [
             0.2,
             "#de77ae"
            ],
            [
             0.3,
             "#f1b6da"
            ],
            [
             0.4,
             "#fde0ef"
            ],
            [
             0.5,
             "#f7f7f7"
            ],
            [
             0.6,
             "#e6f5d0"
            ],
            [
             0.7,
             "#b8e186"
            ],
            [
             0.8,
             "#7fbc41"
            ],
            [
             0.9,
             "#4d9221"
            ],
            [
             1,
             "#276419"
            ]
           ],
           "sequential": [
            [
             0,
             "#0d0887"
            ],
            [
             0.1111111111111111,
             "#46039f"
            ],
            [
             0.2222222222222222,
             "#7201a8"
            ],
            [
             0.3333333333333333,
             "#9c179e"
            ],
            [
             0.4444444444444444,
             "#bd3786"
            ],
            [
             0.5555555555555556,
             "#d8576b"
            ],
            [
             0.6666666666666666,
             "#ed7953"
            ],
            [
             0.7777777777777778,
             "#fb9f3a"
            ],
            [
             0.8888888888888888,
             "#fdca26"
            ],
            [
             1,
             "#f0f921"
            ]
           ],
           "sequentialminus": [
            [
             0,
             "#0d0887"
            ],
            [
             0.1111111111111111,
             "#46039f"
            ],
            [
             0.2222222222222222,
             "#7201a8"
            ],
            [
             0.3333333333333333,
             "#9c179e"
            ],
            [
             0.4444444444444444,
             "#bd3786"
            ],
            [
             0.5555555555555556,
             "#d8576b"
            ],
            [
             0.6666666666666666,
             "#ed7953"
            ],
            [
             0.7777777777777778,
             "#fb9f3a"
            ],
            [
             0.8888888888888888,
             "#fdca26"
            ],
            [
             1,
             "#f0f921"
            ]
           ]
          },
          "colorway": [
           "#636efa",
           "#EF553B",
           "#00cc96",
           "#ab63fa",
           "#FFA15A",
           "#19d3f3",
           "#FF6692",
           "#B6E880",
           "#FF97FF",
           "#FECB52"
          ],
          "font": {
           "color": "#2a3f5f"
          },
          "geo": {
           "bgcolor": "white",
           "lakecolor": "white",
           "landcolor": "white",
           "showlakes": true,
           "showland": true,
           "subunitcolor": "#C8D4E3"
          },
          "hoverlabel": {
           "align": "left"
          },
          "hovermode": "closest",
          "mapbox": {
           "style": "light"
          },
          "paper_bgcolor": "white",
          "plot_bgcolor": "white",
          "polar": {
           "angularaxis": {
            "gridcolor": "#EBF0F8",
            "linecolor": "#EBF0F8",
            "ticks": ""
           },
           "bgcolor": "white",
           "radialaxis": {
            "gridcolor": "#EBF0F8",
            "linecolor": "#EBF0F8",
            "ticks": ""
           }
          },
          "scene": {
           "xaxis": {
            "backgroundcolor": "white",
            "gridcolor": "#DFE8F3",
            "gridwidth": 2,
            "linecolor": "#EBF0F8",
            "showbackground": true,
            "ticks": "",
            "zerolinecolor": "#EBF0F8"
           },
           "yaxis": {
            "backgroundcolor": "white",
            "gridcolor": "#DFE8F3",
            "gridwidth": 2,
            "linecolor": "#EBF0F8",
            "showbackground": true,
            "ticks": "",
            "zerolinecolor": "#EBF0F8"
           },
           "zaxis": {
            "backgroundcolor": "white",
            "gridcolor": "#DFE8F3",
            "gridwidth": 2,
            "linecolor": "#EBF0F8",
            "showbackground": true,
            "ticks": "",
            "zerolinecolor": "#EBF0F8"
           }
          },
          "shapedefaults": {
           "line": {
            "color": "#2a3f5f"
           }
          },
          "ternary": {
           "aaxis": {
            "gridcolor": "#DFE8F3",
            "linecolor": "#A2B1C6",
            "ticks": ""
           },
           "baxis": {
            "gridcolor": "#DFE8F3",
            "linecolor": "#A2B1C6",
            "ticks": ""
           },
           "bgcolor": "white",
           "caxis": {
            "gridcolor": "#DFE8F3",
            "linecolor": "#A2B1C6",
            "ticks": ""
           }
          },
          "title": {
           "x": 0.05
          },
          "xaxis": {
           "automargin": true,
           "gridcolor": "#EBF0F8",
           "linecolor": "#EBF0F8",
           "ticks": "",
           "title": {
            "standoff": 15
           },
           "zerolinecolor": "#EBF0F8",
           "zerolinewidth": 2
          },
          "yaxis": {
           "automargin": true,
           "gridcolor": "#EBF0F8",
           "linecolor": "#EBF0F8",
           "ticks": "",
           "title": {
            "standoff": 15
           },
           "zerolinecolor": "#EBF0F8",
           "zerolinewidth": 2
          }
         }
        },
        "yaxis": {
         "tickformat": ".0%"
        }
       }
      }
     },
     "metadata": {},
     "output_type": "display_data"
    }
   ],
   "source": [
    "import plotly.graph_objects as go \n",
    "\n",
    "traces = []\n",
    "for asset in df.columns:\n",
    "    trace = go.Box(\n",
    "        y=df[asset].to_numpy(),\n",
    "        name=asset,\n",
    "        hovertemplate=\"%{y:.1%}<extra></extra>\"\n",
    "    )\n",
    "    traces.append(trace)\n",
    "\n",
    "fig = go.Figure()\n",
    "for trace in traces:\n",
    "    fig.add_trace(trace)\n",
    "    \n",
    "fig.update_layout(\n",
    "    yaxis_tickformat=\".0%\",\n",
    "    template=\"plotly_white\"\n",
    ")\n",
    "fig.show()    \n"
   ]
  },
  {
   "cell_type": "markdown",
   "metadata": {},
   "source": [
    "# FIGURE 2 (COMPOUND RETURNS)"
   ]
  },
  {
   "cell_type": "code",
   "execution_count": 59,
   "metadata": {},
   "outputs": [
    {
     "data": {
      "application/vnd.plotly.v1+json": {
       "config": {
        "plotlyServerURL": "https://plot.ly"
       },
       "data": [
        {
         "hovertemplate": "%{text} = $%{y:.2f}<extra></extra>",
         "name": "S&P 500",
         "text": [
          "S&P 500",
          "S&P 500",
          "S&P 500",
          "S&P 500",
          "S&P 500",
          "S&P 500",
          "S&P 500",
          "S&P 500",
          "S&P 500",
          "S&P 500",
          "S&P 500",
          "S&P 500",
          "S&P 500",
          "S&P 500",
          "S&P 500",
          "S&P 500",
          "S&P 500",
          "S&P 500",
          "S&P 500",
          "S&P 500",
          "S&P 500",
          "S&P 500",
          "S&P 500",
          "S&P 500",
          "S&P 500",
          "S&P 500",
          "S&P 500",
          "S&P 500",
          "S&P 500",
          "S&P 500",
          "S&P 500",
          "S&P 500",
          "S&P 500",
          "S&P 500",
          "S&P 500",
          "S&P 500",
          "S&P 500",
          "S&P 500",
          "S&P 500",
          "S&P 500",
          "S&P 500",
          "S&P 500",
          "S&P 500",
          "S&P 500",
          "S&P 500",
          "S&P 500",
          "S&P 500",
          "S&P 500",
          "S&P 500",
          "S&P 500",
          "S&P 500",
          "S&P 500",
          "S&P 500",
          "S&P 500",
          "S&P 500"
         ],
         "type": "scatter",
         "x": [
          1968,
          1969,
          1970,
          1971,
          1972,
          1973,
          1974,
          1975,
          1976,
          1977,
          1978,
          1979,
          1980,
          1981,
          1982,
          1983,
          1984,
          1985,
          1986,
          1987,
          1988,
          1989,
          1990,
          1991,
          1992,
          1993,
          1994,
          1995,
          1996,
          1997,
          1998,
          1999,
          2000,
          2001,
          2002,
          2003,
          2004,
          2005,
          2006,
          2007,
          2008,
          2009,
          2010,
          2011,
          2012,
          2013,
          2014,
          2015,
          2016,
          2017,
          2018,
          2019,
          2020,
          2021,
          2022
         ],
         "y": [
          1.05834419386361,
          0.917027785896359,
          0.8995754943825989,
          0.9950053042327284,
          1.1426981359695358,
          0.8988340096287164,
          0.594156525899616,
          0.7597987752501963,
          0.8957563802598247,
          0.7810744424317911,
          0.763305100980984,
          0.7987877090734777,
          0.9365823220627725,
          0.8195058972102455,
          0.950478632072747,
          1.1203593584197247,
          1.1430021713661953,
          1.4452253348584494,
          1.6924210032006903,
          1.716438383596816,
          1.9157698504826364,
          2.4070828569372558,
          2.195962634841623,
          2.777132559565531,
          2.8992313892299806,
          3.1010304629682226,
          3.0625996248861367,
          4.0979929890035525,
          4.863140740105549,
          6.365000993336313,
          8.039523125072197,
          9.465277161989325,
          8.324363748624714,
          7.222127918975763,
          5.499313970476695,
          6.91789519747409,
          7.413293336607855,
          7.520608089073288,
          8.480715999209139,
          8.592798752827049,
          5.453141508293132,
          6.679458330758,
          7.56071951604706,
          7.490022256350342,
          8.530142348228573,
          11.104175699591405,
          12.524153317423023,
          12.616264615823383,
          13.818204073689094,
          16.45325074737785,
          15.44845640344237,
          19.81173779242335,
          23.07735602432768,
          27.657413119446947,
          21.30359353460598
         ]
        },
        {
         "hovertemplate": "%{text} = $%{y:.2f}<extra></extra>",
         "name": "Gold",
         "text": [
          "Gold",
          "Gold",
          "Gold",
          "Gold",
          "Gold",
          "Gold",
          "Gold",
          "Gold",
          "Gold",
          "Gold",
          "Gold",
          "Gold",
          "Gold",
          "Gold",
          "Gold",
          "Gold",
          "Gold",
          "Gold",
          "Gold",
          "Gold",
          "Gold",
          "Gold",
          "Gold",
          "Gold",
          "Gold",
          "Gold",
          "Gold",
          "Gold",
          "Gold",
          "Gold",
          "Gold",
          "Gold",
          "Gold",
          "Gold",
          "Gold",
          "Gold",
          "Gold",
          "Gold",
          "Gold",
          "Gold",
          "Gold",
          "Gold",
          "Gold",
          "Gold",
          "Gold",
          "Gold",
          "Gold",
          "Gold",
          "Gold",
          "Gold",
          "Gold",
          "Gold",
          "Gold",
          "Gold",
          "Gold"
         ],
         "type": "scatter",
         "x": [
          1968,
          1969,
          1970,
          1971,
          1972,
          1973,
          1974,
          1975,
          1976,
          1977,
          1978,
          1979,
          1980,
          1981,
          1982,
          1983,
          1984,
          1985,
          1986,
          1987,
          1988,
          1989,
          1990,
          1991,
          1992,
          1993,
          1994,
          1995,
          1996,
          1997,
          1998,
          1999,
          2000,
          2001,
          2002,
          2003,
          2004,
          2005,
          2006,
          2007,
          2008,
          2009,
          2010,
          2011,
          2012,
          2013,
          2014,
          2015,
          2016,
          2017,
          2018,
          2019,
          2020,
          2021,
          2022
         ],
         "y": [
          1.1388461268212915,
          0.9026258288182187,
          0.907693670170066,
          1.0257155069029766,
          1.471290505969301,
          2.3430871408627283,
          3.4915397936951837,
          2.4378734647302065,
          2.2266601509263526,
          2.568948320811932,
          3.195432536728846,
          6.58548900656553,
          6.5940638620428285,
          4.108217704122537,
          4.431661005863689,
          3.636132238484975,
          2.830669084383901,
          2.8861354910557853,
          3.4096436480359915,
          4.0673176604354095,
          3.2841162952702008,
          3.068485702080963,
          2.815835782592231,
          2.471391701474905,
          2.2609553038544474,
          2.5806350078514293,
          2.4628265636060718,
          2.4283911091606862,
          2.244843704050178,
          1.7274395287242517,
          1.6898322011649516,
          1.6652510177853108,
          1.5091914793303243,
          1.5063455265976307,
          1.8220767500286137,
          2.1738797313469895,
          2.208183088805082,
          2.502741364164797,
          3.024999937019407,
          3.8234164759607596,
          3.9545613292652972,
          4.9090618653300435,
          6.181953706390968,
          6.696894501665345,
          6.955192087159002,
          4.947190236819919,
          4.905884454788198,
          4.317866423728156,
          4.616862708014828,
          5.056447915139498,
          4.900406980024905,
          5.691511203037792,
          6.974904612695277,
          6.262484902932761,
          5.85825795432837
         ]
        },
        {
         "hovertemplate": "%{text} = $%{y:.2f}<extra></extra>",
         "name": "Corporates",
         "text": [
          "Corporates",
          "Corporates",
          "Corporates",
          "Corporates",
          "Corporates",
          "Corporates",
          "Corporates",
          "Corporates",
          "Corporates",
          "Corporates",
          "Corporates",
          "Corporates",
          "Corporates",
          "Corporates",
          "Corporates",
          "Corporates",
          "Corporates",
          "Corporates",
          "Corporates",
          "Corporates",
          "Corporates",
          "Corporates",
          "Corporates",
          "Corporates",
          "Corporates",
          "Corporates",
          "Corporates",
          "Corporates",
          "Corporates",
          "Corporates",
          "Corporates",
          "Corporates",
          "Corporates",
          "Corporates",
          "Corporates",
          "Corporates",
          "Corporates",
          "Corporates",
          "Corporates",
          "Corporates",
          "Corporates",
          "Corporates",
          "Corporates",
          "Corporates",
          "Corporates",
          "Corporates",
          "Corporates",
          "Corporates",
          "Corporates",
          "Corporates",
          "Corporates",
          "Corporates",
          "Corporates",
          "Corporates",
          "Corporates"
         ],
         "type": "scatter",
         "x": [
          1968,
          1969,
          1970,
          1971,
          1972,
          1973,
          1974,
          1975,
          1976,
          1977,
          1978,
          1979,
          1980,
          1981,
          1982,
          1983,
          1984,
          1985,
          1986,
          1987,
          1988,
          1989,
          1990,
          1991,
          1992,
          1993,
          1994,
          1995,
          1996,
          1997,
          1998,
          1999,
          2000,
          2001,
          2002,
          2003,
          2004,
          2005,
          2006,
          2007,
          2008,
          2009,
          2010,
          2011,
          2012,
          2013,
          2014,
          2015,
          2016,
          2017,
          2018,
          2019,
          2020,
          2021,
          2022
         ],
         "y": [
          1.0013300482096996,
          0.9264040406752426,
          0.9270997050912351,
          1.023477100162893,
          1.1026854971218016,
          1.055890839975524,
          0.9006957751053357,
          0.9336607764292678,
          1.0644782352645836,
          1.097173318709357,
          1.038270388554962,
          0.8983376550739297,
          0.7730511952897067,
          0.7698596945182403,
          0.9569140156283469,
          1.071307904908149,
          1.190501076448484,
          1.4207199262013968,
          1.705718385543638,
          1.6723292353060608,
          1.8437605919202014,
          2.0402258740412544,
          2.0380199280859195,
          2.33235866675946,
          2.540878704221309,
          2.877498222724405,
          2.7676511275693976,
          3.243393694277939,
          3.2877495087140822,
          3.6154943577971412,
          3.841039364555861,
          3.772459535269666,
          3.9874099833825762,
          4.23133511878871,
          4.631741782698572,
          5.153622925816659,
          5.480083718741166,
          5.56381807902008,
          5.80935136434828,
          5.755870391790447,
          5.465509296887787,
          6.55608900774224,
          7.002696698972184,
          7.6497127560028595,
          8.278559858026895,
          8.06907439133367,
          8.849244023222125,
          8.73174709082888,
          9.443142062259302,
          10.145296157588348,
          9.67136184008649,
          10.901665825864898,
          11.879643495209608,
          11.185777251728325,
          8.986005761945629
         ]
        },
        {
         "hovertemplate": "%{text} = $%{y:.2f}<extra></extra>",
         "name": "Treasuries",
         "text": [
          "Treasuries",
          "Treasuries",
          "Treasuries",
          "Treasuries",
          "Treasuries",
          "Treasuries",
          "Treasuries",
          "Treasuries",
          "Treasuries",
          "Treasuries",
          "Treasuries",
          "Treasuries",
          "Treasuries",
          "Treasuries",
          "Treasuries",
          "Treasuries",
          "Treasuries",
          "Treasuries",
          "Treasuries",
          "Treasuries",
          "Treasuries",
          "Treasuries",
          "Treasuries",
          "Treasuries",
          "Treasuries",
          "Treasuries",
          "Treasuries",
          "Treasuries",
          "Treasuries",
          "Treasuries",
          "Treasuries",
          "Treasuries",
          "Treasuries",
          "Treasuries",
          "Treasuries",
          "Treasuries",
          "Treasuries",
          "Treasuries",
          "Treasuries",
          "Treasuries",
          "Treasuries",
          "Treasuries",
          "Treasuries",
          "Treasuries",
          "Treasuries",
          "Treasuries",
          "Treasuries",
          "Treasuries",
          "Treasuries",
          "Treasuries",
          "Treasuries",
          "Treasuries",
          "Treasuries",
          "Treasuries",
          "Treasuries"
         ],
         "type": "scatter",
         "x": [
          1968,
          1969,
          1970,
          1971,
          1972,
          1973,
          1974,
          1975,
          1976,
          1977,
          1978,
          1979,
          1980,
          1981,
          1982,
          1983,
          1984,
          1985,
          1986,
          1987,
          1988,
          1989,
          1990,
          1991,
          1992,
          1993,
          1994,
          1995,
          1996,
          1997,
          1998,
          1999,
          2000,
          2001,
          2002,
          2003,
          2004,
          2005,
          2006,
          2007,
          2008,
          2009,
          2010,
          2011,
          2012,
          2013,
          2014,
          2015,
          2016,
          2017,
          2018,
          2019,
          2020,
          2021,
          2022
         ],
         "y": [
          0.9863306375372506,
          0.8846888321312829,
          0.9784155215047653,
          1.0401957926229948,
          1.0342821586279312,
          0.9841302513785457,
          0.8954016334567292,
          0.8659488238872984,
          0.9562123603460683,
          0.9079157622777778,
          0.8265585838284534,
          0.7347172744060261,
          0.6343814829005942,
          0.6302295002536981,
          0.806193776533953,
          0.8016349226830984,
          0.8762943473623487,
          1.0613699147790763,
          1.303638284138768,
          1.1875260199945559,
          1.2308798381440595,
          1.3844350910610237,
          1.3841800645646198,
          1.5457951305326982,
          1.6417993580247328,
          1.8238471056511014,
          1.6348082441957725,
          1.9688301714677297,
          1.9316887953368682,
          2.0882434123162485,
          2.361885569651863,
          2.110446492115376,
          2.380164103116738,
          2.4731304197089066,
          2.778074940524426,
          2.7328818642612114,
          2.7632503299407523,
          2.7506554416866105,
          2.7355511262220764,
          2.8958631477251227,
          3.4787419602032736,
          3.0073891813944873,
          3.215667890789403,
          3.6204503984938925,
          3.6635739224141273,
          3.280394251498594,
          3.609337978853709,
          3.6324910750469774,
          3.5840731265664547,
          3.6076482775922476,
          3.5362371378461543,
          3.7892920969232464,
          4.163645847473001,
          3.712671213357981,
          2.8660543250678447
         ]
        },
        {
         "hovertemplate": "%{text} = $%{y:.2f}<extra></extra>",
         "name": "TBills",
         "text": [
          "TBills",
          "TBills",
          "TBills",
          "TBills",
          "TBills",
          "TBills",
          "TBills",
          "TBills",
          "TBills",
          "TBills",
          "TBills",
          "TBills",
          "TBills",
          "TBills",
          "TBills",
          "TBills",
          "TBills",
          "TBills",
          "TBills",
          "TBills",
          "TBills",
          "TBills",
          "TBills",
          "TBills",
          "TBills",
          "TBills",
          "TBills",
          "TBills",
          "TBills",
          "TBills",
          "TBills",
          "TBills",
          "TBills",
          "TBills",
          "TBills",
          "TBills",
          "TBills",
          "TBills",
          "TBills",
          "TBills",
          "TBills",
          "TBills",
          "TBills",
          "TBills",
          "TBills",
          "TBills",
          "TBills",
          "TBills",
          "TBills",
          "TBills",
          "TBills",
          "TBills",
          "TBills",
          "TBills",
          "TBills"
         ],
         "type": "scatter",
         "x": [
          1968,
          1969,
          1970,
          1971,
          1972,
          1973,
          1974,
          1975,
          1976,
          1977,
          1978,
          1979,
          1980,
          1981,
          1982,
          1983,
          1984,
          1985,
          1986,
          1987,
          1988,
          1989,
          1990,
          1991,
          1992,
          1993,
          1994,
          1995,
          1996,
          1997,
          1998,
          1999,
          2000,
          2001,
          2002,
          2003,
          2004,
          2005,
          2006,
          2007,
          2008,
          2009,
          2010,
          2011,
          2012,
          2013,
          2014,
          2015,
          2016,
          2017,
          2018,
          2019,
          2020,
          2021,
          2022
         ],
         "y": [
          1.0060332584269662,
          1.0133443320393598,
          1.0212221167062772,
          1.0317830516125512,
          1.0383237365598732,
          1.0201601019015007,
          0.9814883207319801,
          0.9691867785464777,
          0.9686389490390372,
          0.9557714884717661,
          0.939894771601398,
          0.913333909750156,
          0.9055151342631568,
          0.9481182607909376,
          1.0100109962788517,
          1.0570196798983327,
          1.1128648355512123,
          1.1523185986805595,
          1.2067766930947899,
          1.2234932110488546,
          1.2499368489824931,
          1.2914099408748452,
          1.3064993658626767,
          1.3368840335952932,
          1.3429162363525318,
          1.345347821277633,
          1.3670476298548235,
          1.4064858400854736,
          1.4286157209185844,
          1.4758869134994184,
          1.5219186348490372,
          1.5510004450073274,
          1.5867447314858896,
          1.6147880166305921,
          1.6010013658374043,
          1.5848894963858284,
          1.5547125819618395,
          1.5518632412989088,
          1.5852548912580307,
          1.589109411407829,
          1.6112592537657286,
          1.569516397334558,
          1.5494119958213337,
          1.5041719545081274,
          1.4794584637973238,
          1.458242092827953,
          1.4492538427697612,
          1.4408051376460222,
          1.416314057570894,
          1.3997308334331378,
          1.3988241078189476,
          1.3953855112184355,
          1.3820641130637616,
          1.2898860008984812,
          1.236323057899363
         ]
        }
       ],
       "layout": {
        "hovermode": "x unified",
        "legend": {
         "x": 0.01,
         "xanchor": "left",
         "y": 0.99,
         "yanchor": "top"
        },
        "template": {
         "data": {
          "bar": [
           {
            "error_x": {
             "color": "#2a3f5f"
            },
            "error_y": {
             "color": "#2a3f5f"
            },
            "marker": {
             "line": {
              "color": "white",
              "width": 0.5
             },
             "pattern": {
              "fillmode": "overlay",
              "size": 10,
              "solidity": 0.2
             }
            },
            "type": "bar"
           }
          ],
          "barpolar": [
           {
            "marker": {
             "line": {
              "color": "white",
              "width": 0.5
             },
             "pattern": {
              "fillmode": "overlay",
              "size": 10,
              "solidity": 0.2
             }
            },
            "type": "barpolar"
           }
          ],
          "carpet": [
           {
            "aaxis": {
             "endlinecolor": "#2a3f5f",
             "gridcolor": "#C8D4E3",
             "linecolor": "#C8D4E3",
             "minorgridcolor": "#C8D4E3",
             "startlinecolor": "#2a3f5f"
            },
            "baxis": {
             "endlinecolor": "#2a3f5f",
             "gridcolor": "#C8D4E3",
             "linecolor": "#C8D4E3",
             "minorgridcolor": "#C8D4E3",
             "startlinecolor": "#2a3f5f"
            },
            "type": "carpet"
           }
          ],
          "choropleth": [
           {
            "colorbar": {
             "outlinewidth": 0,
             "ticks": ""
            },
            "type": "choropleth"
           }
          ],
          "contour": [
           {
            "colorbar": {
             "outlinewidth": 0,
             "ticks": ""
            },
            "colorscale": [
             [
              0,
              "#0d0887"
             ],
             [
              0.1111111111111111,
              "#46039f"
             ],
             [
              0.2222222222222222,
              "#7201a8"
             ],
             [
              0.3333333333333333,
              "#9c179e"
             ],
             [
              0.4444444444444444,
              "#bd3786"
             ],
             [
              0.5555555555555556,
              "#d8576b"
             ],
             [
              0.6666666666666666,
              "#ed7953"
             ],
             [
              0.7777777777777778,
              "#fb9f3a"
             ],
             [
              0.8888888888888888,
              "#fdca26"
             ],
             [
              1,
              "#f0f921"
             ]
            ],
            "type": "contour"
           }
          ],
          "contourcarpet": [
           {
            "colorbar": {
             "outlinewidth": 0,
             "ticks": ""
            },
            "type": "contourcarpet"
           }
          ],
          "heatmap": [
           {
            "colorbar": {
             "outlinewidth": 0,
             "ticks": ""
            },
            "colorscale": [
             [
              0,
              "#0d0887"
             ],
             [
              0.1111111111111111,
              "#46039f"
             ],
             [
              0.2222222222222222,
              "#7201a8"
             ],
             [
              0.3333333333333333,
              "#9c179e"
             ],
             [
              0.4444444444444444,
              "#bd3786"
             ],
             [
              0.5555555555555556,
              "#d8576b"
             ],
             [
              0.6666666666666666,
              "#ed7953"
             ],
             [
              0.7777777777777778,
              "#fb9f3a"
             ],
             [
              0.8888888888888888,
              "#fdca26"
             ],
             [
              1,
              "#f0f921"
             ]
            ],
            "type": "heatmap"
           }
          ],
          "heatmapgl": [
           {
            "colorbar": {
             "outlinewidth": 0,
             "ticks": ""
            },
            "colorscale": [
             [
              0,
              "#0d0887"
             ],
             [
              0.1111111111111111,
              "#46039f"
             ],
             [
              0.2222222222222222,
              "#7201a8"
             ],
             [
              0.3333333333333333,
              "#9c179e"
             ],
             [
              0.4444444444444444,
              "#bd3786"
             ],
             [
              0.5555555555555556,
              "#d8576b"
             ],
             [
              0.6666666666666666,
              "#ed7953"
             ],
             [
              0.7777777777777778,
              "#fb9f3a"
             ],
             [
              0.8888888888888888,
              "#fdca26"
             ],
             [
              1,
              "#f0f921"
             ]
            ],
            "type": "heatmapgl"
           }
          ],
          "histogram": [
           {
            "marker": {
             "pattern": {
              "fillmode": "overlay",
              "size": 10,
              "solidity": 0.2
             }
            },
            "type": "histogram"
           }
          ],
          "histogram2d": [
           {
            "colorbar": {
             "outlinewidth": 0,
             "ticks": ""
            },
            "colorscale": [
             [
              0,
              "#0d0887"
             ],
             [
              0.1111111111111111,
              "#46039f"
             ],
             [
              0.2222222222222222,
              "#7201a8"
             ],
             [
              0.3333333333333333,
              "#9c179e"
             ],
             [
              0.4444444444444444,
              "#bd3786"
             ],
             [
              0.5555555555555556,
              "#d8576b"
             ],
             [
              0.6666666666666666,
              "#ed7953"
             ],
             [
              0.7777777777777778,
              "#fb9f3a"
             ],
             [
              0.8888888888888888,
              "#fdca26"
             ],
             [
              1,
              "#f0f921"
             ]
            ],
            "type": "histogram2d"
           }
          ],
          "histogram2dcontour": [
           {
            "colorbar": {
             "outlinewidth": 0,
             "ticks": ""
            },
            "colorscale": [
             [
              0,
              "#0d0887"
             ],
             [
              0.1111111111111111,
              "#46039f"
             ],
             [
              0.2222222222222222,
              "#7201a8"
             ],
             [
              0.3333333333333333,
              "#9c179e"
             ],
             [
              0.4444444444444444,
              "#bd3786"
             ],
             [
              0.5555555555555556,
              "#d8576b"
             ],
             [
              0.6666666666666666,
              "#ed7953"
             ],
             [
              0.7777777777777778,
              "#fb9f3a"
             ],
             [
              0.8888888888888888,
              "#fdca26"
             ],
             [
              1,
              "#f0f921"
             ]
            ],
            "type": "histogram2dcontour"
           }
          ],
          "mesh3d": [
           {
            "colorbar": {
             "outlinewidth": 0,
             "ticks": ""
            },
            "type": "mesh3d"
           }
          ],
          "parcoords": [
           {
            "line": {
             "colorbar": {
              "outlinewidth": 0,
              "ticks": ""
             }
            },
            "type": "parcoords"
           }
          ],
          "pie": [
           {
            "automargin": true,
            "type": "pie"
           }
          ],
          "scatter": [
           {
            "fillpattern": {
             "fillmode": "overlay",
             "size": 10,
             "solidity": 0.2
            },
            "type": "scatter"
           }
          ],
          "scatter3d": [
           {
            "line": {
             "colorbar": {
              "outlinewidth": 0,
              "ticks": ""
             }
            },
            "marker": {
             "colorbar": {
              "outlinewidth": 0,
              "ticks": ""
             }
            },
            "type": "scatter3d"
           }
          ],
          "scattercarpet": [
           {
            "marker": {
             "colorbar": {
              "outlinewidth": 0,
              "ticks": ""
             }
            },
            "type": "scattercarpet"
           }
          ],
          "scattergeo": [
           {
            "marker": {
             "colorbar": {
              "outlinewidth": 0,
              "ticks": ""
             }
            },
            "type": "scattergeo"
           }
          ],
          "scattergl": [
           {
            "marker": {
             "colorbar": {
              "outlinewidth": 0,
              "ticks": ""
             }
            },
            "type": "scattergl"
           }
          ],
          "scattermapbox": [
           {
            "marker": {
             "colorbar": {
              "outlinewidth": 0,
              "ticks": ""
             }
            },
            "type": "scattermapbox"
           }
          ],
          "scatterpolar": [
           {
            "marker": {
             "colorbar": {
              "outlinewidth": 0,
              "ticks": ""
             }
            },
            "type": "scatterpolar"
           }
          ],
          "scatterpolargl": [
           {
            "marker": {
             "colorbar": {
              "outlinewidth": 0,
              "ticks": ""
             }
            },
            "type": "scatterpolargl"
           }
          ],
          "scatterternary": [
           {
            "marker": {
             "colorbar": {
              "outlinewidth": 0,
              "ticks": ""
             }
            },
            "type": "scatterternary"
           }
          ],
          "surface": [
           {
            "colorbar": {
             "outlinewidth": 0,
             "ticks": ""
            },
            "colorscale": [
             [
              0,
              "#0d0887"
             ],
             [
              0.1111111111111111,
              "#46039f"
             ],
             [
              0.2222222222222222,
              "#7201a8"
             ],
             [
              0.3333333333333333,
              "#9c179e"
             ],
             [
              0.4444444444444444,
              "#bd3786"
             ],
             [
              0.5555555555555556,
              "#d8576b"
             ],
             [
              0.6666666666666666,
              "#ed7953"
             ],
             [
              0.7777777777777778,
              "#fb9f3a"
             ],
             [
              0.8888888888888888,
              "#fdca26"
             ],
             [
              1,
              "#f0f921"
             ]
            ],
            "type": "surface"
           }
          ],
          "table": [
           {
            "cells": {
             "fill": {
              "color": "#EBF0F8"
             },
             "line": {
              "color": "white"
             }
            },
            "header": {
             "fill": {
              "color": "#C8D4E3"
             },
             "line": {
              "color": "white"
             }
            },
            "type": "table"
           }
          ]
         },
         "layout": {
          "annotationdefaults": {
           "arrowcolor": "#2a3f5f",
           "arrowhead": 0,
           "arrowwidth": 1
          },
          "autotypenumbers": "strict",
          "coloraxis": {
           "colorbar": {
            "outlinewidth": 0,
            "ticks": ""
           }
          },
          "colorscale": {
           "diverging": [
            [
             0,
             "#8e0152"
            ],
            [
             0.1,
             "#c51b7d"
            ],
            [
             0.2,
             "#de77ae"
            ],
            [
             0.3,
             "#f1b6da"
            ],
            [
             0.4,
             "#fde0ef"
            ],
            [
             0.5,
             "#f7f7f7"
            ],
            [
             0.6,
             "#e6f5d0"
            ],
            [
             0.7,
             "#b8e186"
            ],
            [
             0.8,
             "#7fbc41"
            ],
            [
             0.9,
             "#4d9221"
            ],
            [
             1,
             "#276419"
            ]
           ],
           "sequential": [
            [
             0,
             "#0d0887"
            ],
            [
             0.1111111111111111,
             "#46039f"
            ],
            [
             0.2222222222222222,
             "#7201a8"
            ],
            [
             0.3333333333333333,
             "#9c179e"
            ],
            [
             0.4444444444444444,
             "#bd3786"
            ],
            [
             0.5555555555555556,
             "#d8576b"
            ],
            [
             0.6666666666666666,
             "#ed7953"
            ],
            [
             0.7777777777777778,
             "#fb9f3a"
            ],
            [
             0.8888888888888888,
             "#fdca26"
            ],
            [
             1,
             "#f0f921"
            ]
           ],
           "sequentialminus": [
            [
             0,
             "#0d0887"
            ],
            [
             0.1111111111111111,
             "#46039f"
            ],
            [
             0.2222222222222222,
             "#7201a8"
            ],
            [
             0.3333333333333333,
             "#9c179e"
            ],
            [
             0.4444444444444444,
             "#bd3786"
            ],
            [
             0.5555555555555556,
             "#d8576b"
            ],
            [
             0.6666666666666666,
             "#ed7953"
            ],
            [
             0.7777777777777778,
             "#fb9f3a"
            ],
            [
             0.8888888888888888,
             "#fdca26"
            ],
            [
             1,
             "#f0f921"
            ]
           ]
          },
          "colorway": [
           "#636efa",
           "#EF553B",
           "#00cc96",
           "#ab63fa",
           "#FFA15A",
           "#19d3f3",
           "#FF6692",
           "#B6E880",
           "#FF97FF",
           "#FECB52"
          ],
          "font": {
           "color": "#2a3f5f"
          },
          "geo": {
           "bgcolor": "white",
           "lakecolor": "white",
           "landcolor": "white",
           "showlakes": true,
           "showland": true,
           "subunitcolor": "#C8D4E3"
          },
          "hoverlabel": {
           "align": "left"
          },
          "hovermode": "closest",
          "mapbox": {
           "style": "light"
          },
          "paper_bgcolor": "white",
          "plot_bgcolor": "white",
          "polar": {
           "angularaxis": {
            "gridcolor": "#EBF0F8",
            "linecolor": "#EBF0F8",
            "ticks": ""
           },
           "bgcolor": "white",
           "radialaxis": {
            "gridcolor": "#EBF0F8",
            "linecolor": "#EBF0F8",
            "ticks": ""
           }
          },
          "scene": {
           "xaxis": {
            "backgroundcolor": "white",
            "gridcolor": "#DFE8F3",
            "gridwidth": 2,
            "linecolor": "#EBF0F8",
            "showbackground": true,
            "ticks": "",
            "zerolinecolor": "#EBF0F8"
           },
           "yaxis": {
            "backgroundcolor": "white",
            "gridcolor": "#DFE8F3",
            "gridwidth": 2,
            "linecolor": "#EBF0F8",
            "showbackground": true,
            "ticks": "",
            "zerolinecolor": "#EBF0F8"
           },
           "zaxis": {
            "backgroundcolor": "white",
            "gridcolor": "#DFE8F3",
            "gridwidth": 2,
            "linecolor": "#EBF0F8",
            "showbackground": true,
            "ticks": "",
            "zerolinecolor": "#EBF0F8"
           }
          },
          "shapedefaults": {
           "line": {
            "color": "#2a3f5f"
           }
          },
          "ternary": {
           "aaxis": {
            "gridcolor": "#DFE8F3",
            "linecolor": "#A2B1C6",
            "ticks": ""
           },
           "baxis": {
            "gridcolor": "#DFE8F3",
            "linecolor": "#A2B1C6",
            "ticks": ""
           },
           "bgcolor": "white",
           "caxis": {
            "gridcolor": "#DFE8F3",
            "linecolor": "#A2B1C6",
            "ticks": ""
           }
          },
          "title": {
           "x": 0.05
          },
          "xaxis": {
           "automargin": true,
           "gridcolor": "#EBF0F8",
           "linecolor": "#EBF0F8",
           "ticks": "",
           "title": {
            "standoff": 15
           },
           "zerolinecolor": "#EBF0F8",
           "zerolinewidth": 2
          },
          "yaxis": {
           "automargin": true,
           "gridcolor": "#EBF0F8",
           "linecolor": "#EBF0F8",
           "ticks": "",
           "title": {
            "standoff": 15
           },
           "zerolinecolor": "#EBF0F8",
           "zerolinewidth": 2
          }
         }
        },
        "xaxis": {
         "tickformat": ".0f"
        },
        "yaxis": {
         "tickprefix": "$"
        }
       }
      }
     },
     "metadata": {},
     "output_type": "display_data"
    }
   ],
   "source": [
    "accum = (1+df).cumprod()\n",
    "\n",
    "traces = []\n",
    "for asset in accum.columns:\n",
    "    trace = go.Scatter(\n",
    "        x=accum.index.to_list(),\n",
    "        y=accum[asset],\n",
    "        name=asset,\n",
    "        text=[asset]*accum.shape[0],\n",
    "        hovertemplate=\"%{text} = $%{y:.2f}<extra></extra>\"\n",
    "    )\n",
    "    traces.append(trace)\n",
    "\n",
    "fig = go.Figure()\n",
    "for trace in traces:\n",
    "    fig.add_trace(trace)\n",
    "\n",
    "fig.update_layout(\n",
    "    yaxis_tickprefix=\"$\",\n",
    "    xaxis_tickformat=\".0f\",\n",
    "    hovermode=\"x unified\",\n",
    "    template=\"plotly_white\",\n",
    "    legend=dict(\n",
    "        yanchor=\"top\", \n",
    "        y=0.99, \n",
    "        xanchor=\"left\", \n",
    "        x=0.01\n",
    "    ),\n",
    ")\n",
    "fig.show()"
   ]
  },
  {
   "cell_type": "markdown",
   "metadata": {},
   "source": [
    "# FIGURE 3 (COMPOUND RETURNS ON LOG SCALE)"
   ]
  },
  {
   "cell_type": "code",
   "execution_count": 60,
   "metadata": {},
   "outputs": [
    {
     "data": {
      "application/vnd.plotly.v1+json": {
       "config": {
        "plotlyServerURL": "https://plot.ly"
       },
       "data": [
        {
         "hovertemplate": "%{text} = $%{y:.2f}<extra></extra>",
         "name": "S&P 500",
         "text": [
          "S&P 500",
          "S&P 500",
          "S&P 500",
          "S&P 500",
          "S&P 500",
          "S&P 500",
          "S&P 500",
          "S&P 500",
          "S&P 500",
          "S&P 500",
          "S&P 500",
          "S&P 500",
          "S&P 500",
          "S&P 500",
          "S&P 500",
          "S&P 500",
          "S&P 500",
          "S&P 500",
          "S&P 500",
          "S&P 500",
          "S&P 500",
          "S&P 500",
          "S&P 500",
          "S&P 500",
          "S&P 500",
          "S&P 500",
          "S&P 500",
          "S&P 500",
          "S&P 500",
          "S&P 500",
          "S&P 500",
          "S&P 500",
          "S&P 500",
          "S&P 500",
          "S&P 500",
          "S&P 500",
          "S&P 500",
          "S&P 500",
          "S&P 500",
          "S&P 500",
          "S&P 500",
          "S&P 500",
          "S&P 500",
          "S&P 500",
          "S&P 500",
          "S&P 500",
          "S&P 500",
          "S&P 500",
          "S&P 500",
          "S&P 500",
          "S&P 500",
          "S&P 500",
          "S&P 500",
          "S&P 500",
          "S&P 500"
         ],
         "type": "scatter",
         "x": [
          1968,
          1969,
          1970,
          1971,
          1972,
          1973,
          1974,
          1975,
          1976,
          1977,
          1978,
          1979,
          1980,
          1981,
          1982,
          1983,
          1984,
          1985,
          1986,
          1987,
          1988,
          1989,
          1990,
          1991,
          1992,
          1993,
          1994,
          1995,
          1996,
          1997,
          1998,
          1999,
          2000,
          2001,
          2002,
          2003,
          2004,
          2005,
          2006,
          2007,
          2008,
          2009,
          2010,
          2011,
          2012,
          2013,
          2014,
          2015,
          2016,
          2017,
          2018,
          2019,
          2020,
          2021,
          2022
         ],
         "y": [
          1.05834419386361,
          0.917027785896359,
          0.8995754943825989,
          0.9950053042327284,
          1.1426981359695358,
          0.8988340096287164,
          0.594156525899616,
          0.7597987752501963,
          0.8957563802598247,
          0.7810744424317911,
          0.763305100980984,
          0.7987877090734777,
          0.9365823220627725,
          0.8195058972102455,
          0.950478632072747,
          1.1203593584197247,
          1.1430021713661953,
          1.4452253348584494,
          1.6924210032006903,
          1.716438383596816,
          1.9157698504826364,
          2.4070828569372558,
          2.195962634841623,
          2.777132559565531,
          2.8992313892299806,
          3.1010304629682226,
          3.0625996248861367,
          4.0979929890035525,
          4.863140740105549,
          6.365000993336313,
          8.039523125072197,
          9.465277161989325,
          8.324363748624714,
          7.222127918975763,
          5.499313970476695,
          6.91789519747409,
          7.413293336607855,
          7.520608089073288,
          8.480715999209139,
          8.592798752827049,
          5.453141508293132,
          6.679458330758,
          7.56071951604706,
          7.490022256350342,
          8.530142348228573,
          11.104175699591405,
          12.524153317423023,
          12.616264615823383,
          13.818204073689094,
          16.45325074737785,
          15.44845640344237,
          19.81173779242335,
          23.07735602432768,
          27.657413119446947,
          21.30359353460598
         ]
        },
        {
         "hovertemplate": "%{text} = $%{y:.2f}<extra></extra>",
         "name": "Gold",
         "text": [
          "Gold",
          "Gold",
          "Gold",
          "Gold",
          "Gold",
          "Gold",
          "Gold",
          "Gold",
          "Gold",
          "Gold",
          "Gold",
          "Gold",
          "Gold",
          "Gold",
          "Gold",
          "Gold",
          "Gold",
          "Gold",
          "Gold",
          "Gold",
          "Gold",
          "Gold",
          "Gold",
          "Gold",
          "Gold",
          "Gold",
          "Gold",
          "Gold",
          "Gold",
          "Gold",
          "Gold",
          "Gold",
          "Gold",
          "Gold",
          "Gold",
          "Gold",
          "Gold",
          "Gold",
          "Gold",
          "Gold",
          "Gold",
          "Gold",
          "Gold",
          "Gold",
          "Gold",
          "Gold",
          "Gold",
          "Gold",
          "Gold",
          "Gold",
          "Gold",
          "Gold",
          "Gold",
          "Gold",
          "Gold"
         ],
         "type": "scatter",
         "x": [
          1968,
          1969,
          1970,
          1971,
          1972,
          1973,
          1974,
          1975,
          1976,
          1977,
          1978,
          1979,
          1980,
          1981,
          1982,
          1983,
          1984,
          1985,
          1986,
          1987,
          1988,
          1989,
          1990,
          1991,
          1992,
          1993,
          1994,
          1995,
          1996,
          1997,
          1998,
          1999,
          2000,
          2001,
          2002,
          2003,
          2004,
          2005,
          2006,
          2007,
          2008,
          2009,
          2010,
          2011,
          2012,
          2013,
          2014,
          2015,
          2016,
          2017,
          2018,
          2019,
          2020,
          2021,
          2022
         ],
         "y": [
          1.1388461268212915,
          0.9026258288182187,
          0.907693670170066,
          1.0257155069029766,
          1.471290505969301,
          2.3430871408627283,
          3.4915397936951837,
          2.4378734647302065,
          2.2266601509263526,
          2.568948320811932,
          3.195432536728846,
          6.58548900656553,
          6.5940638620428285,
          4.108217704122537,
          4.431661005863689,
          3.636132238484975,
          2.830669084383901,
          2.8861354910557853,
          3.4096436480359915,
          4.0673176604354095,
          3.2841162952702008,
          3.068485702080963,
          2.815835782592231,
          2.471391701474905,
          2.2609553038544474,
          2.5806350078514293,
          2.4628265636060718,
          2.4283911091606862,
          2.244843704050178,
          1.7274395287242517,
          1.6898322011649516,
          1.6652510177853108,
          1.5091914793303243,
          1.5063455265976307,
          1.8220767500286137,
          2.1738797313469895,
          2.208183088805082,
          2.502741364164797,
          3.024999937019407,
          3.8234164759607596,
          3.9545613292652972,
          4.9090618653300435,
          6.181953706390968,
          6.696894501665345,
          6.955192087159002,
          4.947190236819919,
          4.905884454788198,
          4.317866423728156,
          4.616862708014828,
          5.056447915139498,
          4.900406980024905,
          5.691511203037792,
          6.974904612695277,
          6.262484902932761,
          5.85825795432837
         ]
        },
        {
         "hovertemplate": "%{text} = $%{y:.2f}<extra></extra>",
         "name": "Corporates",
         "text": [
          "Corporates",
          "Corporates",
          "Corporates",
          "Corporates",
          "Corporates",
          "Corporates",
          "Corporates",
          "Corporates",
          "Corporates",
          "Corporates",
          "Corporates",
          "Corporates",
          "Corporates",
          "Corporates",
          "Corporates",
          "Corporates",
          "Corporates",
          "Corporates",
          "Corporates",
          "Corporates",
          "Corporates",
          "Corporates",
          "Corporates",
          "Corporates",
          "Corporates",
          "Corporates",
          "Corporates",
          "Corporates",
          "Corporates",
          "Corporates",
          "Corporates",
          "Corporates",
          "Corporates",
          "Corporates",
          "Corporates",
          "Corporates",
          "Corporates",
          "Corporates",
          "Corporates",
          "Corporates",
          "Corporates",
          "Corporates",
          "Corporates",
          "Corporates",
          "Corporates",
          "Corporates",
          "Corporates",
          "Corporates",
          "Corporates",
          "Corporates",
          "Corporates",
          "Corporates",
          "Corporates",
          "Corporates",
          "Corporates"
         ],
         "type": "scatter",
         "x": [
          1968,
          1969,
          1970,
          1971,
          1972,
          1973,
          1974,
          1975,
          1976,
          1977,
          1978,
          1979,
          1980,
          1981,
          1982,
          1983,
          1984,
          1985,
          1986,
          1987,
          1988,
          1989,
          1990,
          1991,
          1992,
          1993,
          1994,
          1995,
          1996,
          1997,
          1998,
          1999,
          2000,
          2001,
          2002,
          2003,
          2004,
          2005,
          2006,
          2007,
          2008,
          2009,
          2010,
          2011,
          2012,
          2013,
          2014,
          2015,
          2016,
          2017,
          2018,
          2019,
          2020,
          2021,
          2022
         ],
         "y": [
          1.0013300482096996,
          0.9264040406752426,
          0.9270997050912351,
          1.023477100162893,
          1.1026854971218016,
          1.055890839975524,
          0.9006957751053357,
          0.9336607764292678,
          1.0644782352645836,
          1.097173318709357,
          1.038270388554962,
          0.8983376550739297,
          0.7730511952897067,
          0.7698596945182403,
          0.9569140156283469,
          1.071307904908149,
          1.190501076448484,
          1.4207199262013968,
          1.705718385543638,
          1.6723292353060608,
          1.8437605919202014,
          2.0402258740412544,
          2.0380199280859195,
          2.33235866675946,
          2.540878704221309,
          2.877498222724405,
          2.7676511275693976,
          3.243393694277939,
          3.2877495087140822,
          3.6154943577971412,
          3.841039364555861,
          3.772459535269666,
          3.9874099833825762,
          4.23133511878871,
          4.631741782698572,
          5.153622925816659,
          5.480083718741166,
          5.56381807902008,
          5.80935136434828,
          5.755870391790447,
          5.465509296887787,
          6.55608900774224,
          7.002696698972184,
          7.6497127560028595,
          8.278559858026895,
          8.06907439133367,
          8.849244023222125,
          8.73174709082888,
          9.443142062259302,
          10.145296157588348,
          9.67136184008649,
          10.901665825864898,
          11.879643495209608,
          11.185777251728325,
          8.986005761945629
         ]
        },
        {
         "hovertemplate": "%{text} = $%{y:.2f}<extra></extra>",
         "name": "Treasuries",
         "text": [
          "Treasuries",
          "Treasuries",
          "Treasuries",
          "Treasuries",
          "Treasuries",
          "Treasuries",
          "Treasuries",
          "Treasuries",
          "Treasuries",
          "Treasuries",
          "Treasuries",
          "Treasuries",
          "Treasuries",
          "Treasuries",
          "Treasuries",
          "Treasuries",
          "Treasuries",
          "Treasuries",
          "Treasuries",
          "Treasuries",
          "Treasuries",
          "Treasuries",
          "Treasuries",
          "Treasuries",
          "Treasuries",
          "Treasuries",
          "Treasuries",
          "Treasuries",
          "Treasuries",
          "Treasuries",
          "Treasuries",
          "Treasuries",
          "Treasuries",
          "Treasuries",
          "Treasuries",
          "Treasuries",
          "Treasuries",
          "Treasuries",
          "Treasuries",
          "Treasuries",
          "Treasuries",
          "Treasuries",
          "Treasuries",
          "Treasuries",
          "Treasuries",
          "Treasuries",
          "Treasuries",
          "Treasuries",
          "Treasuries",
          "Treasuries",
          "Treasuries",
          "Treasuries",
          "Treasuries",
          "Treasuries",
          "Treasuries"
         ],
         "type": "scatter",
         "x": [
          1968,
          1969,
          1970,
          1971,
          1972,
          1973,
          1974,
          1975,
          1976,
          1977,
          1978,
          1979,
          1980,
          1981,
          1982,
          1983,
          1984,
          1985,
          1986,
          1987,
          1988,
          1989,
          1990,
          1991,
          1992,
          1993,
          1994,
          1995,
          1996,
          1997,
          1998,
          1999,
          2000,
          2001,
          2002,
          2003,
          2004,
          2005,
          2006,
          2007,
          2008,
          2009,
          2010,
          2011,
          2012,
          2013,
          2014,
          2015,
          2016,
          2017,
          2018,
          2019,
          2020,
          2021,
          2022
         ],
         "y": [
          0.9863306375372506,
          0.8846888321312829,
          0.9784155215047653,
          1.0401957926229948,
          1.0342821586279312,
          0.9841302513785457,
          0.8954016334567292,
          0.8659488238872984,
          0.9562123603460683,
          0.9079157622777778,
          0.8265585838284534,
          0.7347172744060261,
          0.6343814829005942,
          0.6302295002536981,
          0.806193776533953,
          0.8016349226830984,
          0.8762943473623487,
          1.0613699147790763,
          1.303638284138768,
          1.1875260199945559,
          1.2308798381440595,
          1.3844350910610237,
          1.3841800645646198,
          1.5457951305326982,
          1.6417993580247328,
          1.8238471056511014,
          1.6348082441957725,
          1.9688301714677297,
          1.9316887953368682,
          2.0882434123162485,
          2.361885569651863,
          2.110446492115376,
          2.380164103116738,
          2.4731304197089066,
          2.778074940524426,
          2.7328818642612114,
          2.7632503299407523,
          2.7506554416866105,
          2.7355511262220764,
          2.8958631477251227,
          3.4787419602032736,
          3.0073891813944873,
          3.215667890789403,
          3.6204503984938925,
          3.6635739224141273,
          3.280394251498594,
          3.609337978853709,
          3.6324910750469774,
          3.5840731265664547,
          3.6076482775922476,
          3.5362371378461543,
          3.7892920969232464,
          4.163645847473001,
          3.712671213357981,
          2.8660543250678447
         ]
        },
        {
         "hovertemplate": "%{text} = $%{y:.2f}<extra></extra>",
         "name": "TBills",
         "text": [
          "TBills",
          "TBills",
          "TBills",
          "TBills",
          "TBills",
          "TBills",
          "TBills",
          "TBills",
          "TBills",
          "TBills",
          "TBills",
          "TBills",
          "TBills",
          "TBills",
          "TBills",
          "TBills",
          "TBills",
          "TBills",
          "TBills",
          "TBills",
          "TBills",
          "TBills",
          "TBills",
          "TBills",
          "TBills",
          "TBills",
          "TBills",
          "TBills",
          "TBills",
          "TBills",
          "TBills",
          "TBills",
          "TBills",
          "TBills",
          "TBills",
          "TBills",
          "TBills",
          "TBills",
          "TBills",
          "TBills",
          "TBills",
          "TBills",
          "TBills",
          "TBills",
          "TBills",
          "TBills",
          "TBills",
          "TBills",
          "TBills",
          "TBills",
          "TBills",
          "TBills",
          "TBills",
          "TBills",
          "TBills"
         ],
         "type": "scatter",
         "x": [
          1968,
          1969,
          1970,
          1971,
          1972,
          1973,
          1974,
          1975,
          1976,
          1977,
          1978,
          1979,
          1980,
          1981,
          1982,
          1983,
          1984,
          1985,
          1986,
          1987,
          1988,
          1989,
          1990,
          1991,
          1992,
          1993,
          1994,
          1995,
          1996,
          1997,
          1998,
          1999,
          2000,
          2001,
          2002,
          2003,
          2004,
          2005,
          2006,
          2007,
          2008,
          2009,
          2010,
          2011,
          2012,
          2013,
          2014,
          2015,
          2016,
          2017,
          2018,
          2019,
          2020,
          2021,
          2022
         ],
         "y": [
          1.0060332584269662,
          1.0133443320393598,
          1.0212221167062772,
          1.0317830516125512,
          1.0383237365598732,
          1.0201601019015007,
          0.9814883207319801,
          0.9691867785464777,
          0.9686389490390372,
          0.9557714884717661,
          0.939894771601398,
          0.913333909750156,
          0.9055151342631568,
          0.9481182607909376,
          1.0100109962788517,
          1.0570196798983327,
          1.1128648355512123,
          1.1523185986805595,
          1.2067766930947899,
          1.2234932110488546,
          1.2499368489824931,
          1.2914099408748452,
          1.3064993658626767,
          1.3368840335952932,
          1.3429162363525318,
          1.345347821277633,
          1.3670476298548235,
          1.4064858400854736,
          1.4286157209185844,
          1.4758869134994184,
          1.5219186348490372,
          1.5510004450073274,
          1.5867447314858896,
          1.6147880166305921,
          1.6010013658374043,
          1.5848894963858284,
          1.5547125819618395,
          1.5518632412989088,
          1.5852548912580307,
          1.589109411407829,
          1.6112592537657286,
          1.569516397334558,
          1.5494119958213337,
          1.5041719545081274,
          1.4794584637973238,
          1.458242092827953,
          1.4492538427697612,
          1.4408051376460222,
          1.416314057570894,
          1.3997308334331378,
          1.3988241078189476,
          1.3953855112184355,
          1.3820641130637616,
          1.2898860008984812,
          1.236323057899363
         ]
        }
       ],
       "layout": {
        "hovermode": "x unified",
        "legend": {
         "x": 0.01,
         "xanchor": "left",
         "y": 0.99,
         "yanchor": "top"
        },
        "template": {
         "data": {
          "bar": [
           {
            "error_x": {
             "color": "#2a3f5f"
            },
            "error_y": {
             "color": "#2a3f5f"
            },
            "marker": {
             "line": {
              "color": "white",
              "width": 0.5
             },
             "pattern": {
              "fillmode": "overlay",
              "size": 10,
              "solidity": 0.2
             }
            },
            "type": "bar"
           }
          ],
          "barpolar": [
           {
            "marker": {
             "line": {
              "color": "white",
              "width": 0.5
             },
             "pattern": {
              "fillmode": "overlay",
              "size": 10,
              "solidity": 0.2
             }
            },
            "type": "barpolar"
           }
          ],
          "carpet": [
           {
            "aaxis": {
             "endlinecolor": "#2a3f5f",
             "gridcolor": "#C8D4E3",
             "linecolor": "#C8D4E3",
             "minorgridcolor": "#C8D4E3",
             "startlinecolor": "#2a3f5f"
            },
            "baxis": {
             "endlinecolor": "#2a3f5f",
             "gridcolor": "#C8D4E3",
             "linecolor": "#C8D4E3",
             "minorgridcolor": "#C8D4E3",
             "startlinecolor": "#2a3f5f"
            },
            "type": "carpet"
           }
          ],
          "choropleth": [
           {
            "colorbar": {
             "outlinewidth": 0,
             "ticks": ""
            },
            "type": "choropleth"
           }
          ],
          "contour": [
           {
            "colorbar": {
             "outlinewidth": 0,
             "ticks": ""
            },
            "colorscale": [
             [
              0,
              "#0d0887"
             ],
             [
              0.1111111111111111,
              "#46039f"
             ],
             [
              0.2222222222222222,
              "#7201a8"
             ],
             [
              0.3333333333333333,
              "#9c179e"
             ],
             [
              0.4444444444444444,
              "#bd3786"
             ],
             [
              0.5555555555555556,
              "#d8576b"
             ],
             [
              0.6666666666666666,
              "#ed7953"
             ],
             [
              0.7777777777777778,
              "#fb9f3a"
             ],
             [
              0.8888888888888888,
              "#fdca26"
             ],
             [
              1,
              "#f0f921"
             ]
            ],
            "type": "contour"
           }
          ],
          "contourcarpet": [
           {
            "colorbar": {
             "outlinewidth": 0,
             "ticks": ""
            },
            "type": "contourcarpet"
           }
          ],
          "heatmap": [
           {
            "colorbar": {
             "outlinewidth": 0,
             "ticks": ""
            },
            "colorscale": [
             [
              0,
              "#0d0887"
             ],
             [
              0.1111111111111111,
              "#46039f"
             ],
             [
              0.2222222222222222,
              "#7201a8"
             ],
             [
              0.3333333333333333,
              "#9c179e"
             ],
             [
              0.4444444444444444,
              "#bd3786"
             ],
             [
              0.5555555555555556,
              "#d8576b"
             ],
             [
              0.6666666666666666,
              "#ed7953"
             ],
             [
              0.7777777777777778,
              "#fb9f3a"
             ],
             [
              0.8888888888888888,
              "#fdca26"
             ],
             [
              1,
              "#f0f921"
             ]
            ],
            "type": "heatmap"
           }
          ],
          "heatmapgl": [
           {
            "colorbar": {
             "outlinewidth": 0,
             "ticks": ""
            },
            "colorscale": [
             [
              0,
              "#0d0887"
             ],
             [
              0.1111111111111111,
              "#46039f"
             ],
             [
              0.2222222222222222,
              "#7201a8"
             ],
             [
              0.3333333333333333,
              "#9c179e"
             ],
             [
              0.4444444444444444,
              "#bd3786"
             ],
             [
              0.5555555555555556,
              "#d8576b"
             ],
             [
              0.6666666666666666,
              "#ed7953"
             ],
             [
              0.7777777777777778,
              "#fb9f3a"
             ],
             [
              0.8888888888888888,
              "#fdca26"
             ],
             [
              1,
              "#f0f921"
             ]
            ],
            "type": "heatmapgl"
           }
          ],
          "histogram": [
           {
            "marker": {
             "pattern": {
              "fillmode": "overlay",
              "size": 10,
              "solidity": 0.2
             }
            },
            "type": "histogram"
           }
          ],
          "histogram2d": [
           {
            "colorbar": {
             "outlinewidth": 0,
             "ticks": ""
            },
            "colorscale": [
             [
              0,
              "#0d0887"
             ],
             [
              0.1111111111111111,
              "#46039f"
             ],
             [
              0.2222222222222222,
              "#7201a8"
             ],
             [
              0.3333333333333333,
              "#9c179e"
             ],
             [
              0.4444444444444444,
              "#bd3786"
             ],
             [
              0.5555555555555556,
              "#d8576b"
             ],
             [
              0.6666666666666666,
              "#ed7953"
             ],
             [
              0.7777777777777778,
              "#fb9f3a"
             ],
             [
              0.8888888888888888,
              "#fdca26"
             ],
             [
              1,
              "#f0f921"
             ]
            ],
            "type": "histogram2d"
           }
          ],
          "histogram2dcontour": [
           {
            "colorbar": {
             "outlinewidth": 0,
             "ticks": ""
            },
            "colorscale": [
             [
              0,
              "#0d0887"
             ],
             [
              0.1111111111111111,
              "#46039f"
             ],
             [
              0.2222222222222222,
              "#7201a8"
             ],
             [
              0.3333333333333333,
              "#9c179e"
             ],
             [
              0.4444444444444444,
              "#bd3786"
             ],
             [
              0.5555555555555556,
              "#d8576b"
             ],
             [
              0.6666666666666666,
              "#ed7953"
             ],
             [
              0.7777777777777778,
              "#fb9f3a"
             ],
             [
              0.8888888888888888,
              "#fdca26"
             ],
             [
              1,
              "#f0f921"
             ]
            ],
            "type": "histogram2dcontour"
           }
          ],
          "mesh3d": [
           {
            "colorbar": {
             "outlinewidth": 0,
             "ticks": ""
            },
            "type": "mesh3d"
           }
          ],
          "parcoords": [
           {
            "line": {
             "colorbar": {
              "outlinewidth": 0,
              "ticks": ""
             }
            },
            "type": "parcoords"
           }
          ],
          "pie": [
           {
            "automargin": true,
            "type": "pie"
           }
          ],
          "scatter": [
           {
            "fillpattern": {
             "fillmode": "overlay",
             "size": 10,
             "solidity": 0.2
            },
            "type": "scatter"
           }
          ],
          "scatter3d": [
           {
            "line": {
             "colorbar": {
              "outlinewidth": 0,
              "ticks": ""
             }
            },
            "marker": {
             "colorbar": {
              "outlinewidth": 0,
              "ticks": ""
             }
            },
            "type": "scatter3d"
           }
          ],
          "scattercarpet": [
           {
            "marker": {
             "colorbar": {
              "outlinewidth": 0,
              "ticks": ""
             }
            },
            "type": "scattercarpet"
           }
          ],
          "scattergeo": [
           {
            "marker": {
             "colorbar": {
              "outlinewidth": 0,
              "ticks": ""
             }
            },
            "type": "scattergeo"
           }
          ],
          "scattergl": [
           {
            "marker": {
             "colorbar": {
              "outlinewidth": 0,
              "ticks": ""
             }
            },
            "type": "scattergl"
           }
          ],
          "scattermapbox": [
           {
            "marker": {
             "colorbar": {
              "outlinewidth": 0,
              "ticks": ""
             }
            },
            "type": "scattermapbox"
           }
          ],
          "scatterpolar": [
           {
            "marker": {
             "colorbar": {
              "outlinewidth": 0,
              "ticks": ""
             }
            },
            "type": "scatterpolar"
           }
          ],
          "scatterpolargl": [
           {
            "marker": {
             "colorbar": {
              "outlinewidth": 0,
              "ticks": ""
             }
            },
            "type": "scatterpolargl"
           }
          ],
          "scatterternary": [
           {
            "marker": {
             "colorbar": {
              "outlinewidth": 0,
              "ticks": ""
             }
            },
            "type": "scatterternary"
           }
          ],
          "surface": [
           {
            "colorbar": {
             "outlinewidth": 0,
             "ticks": ""
            },
            "colorscale": [
             [
              0,
              "#0d0887"
             ],
             [
              0.1111111111111111,
              "#46039f"
             ],
             [
              0.2222222222222222,
              "#7201a8"
             ],
             [
              0.3333333333333333,
              "#9c179e"
             ],
             [
              0.4444444444444444,
              "#bd3786"
             ],
             [
              0.5555555555555556,
              "#d8576b"
             ],
             [
              0.6666666666666666,
              "#ed7953"
             ],
             [
              0.7777777777777778,
              "#fb9f3a"
             ],
             [
              0.8888888888888888,
              "#fdca26"
             ],
             [
              1,
              "#f0f921"
             ]
            ],
            "type": "surface"
           }
          ],
          "table": [
           {
            "cells": {
             "fill": {
              "color": "#EBF0F8"
             },
             "line": {
              "color": "white"
             }
            },
            "header": {
             "fill": {
              "color": "#C8D4E3"
             },
             "line": {
              "color": "white"
             }
            },
            "type": "table"
           }
          ]
         },
         "layout": {
          "annotationdefaults": {
           "arrowcolor": "#2a3f5f",
           "arrowhead": 0,
           "arrowwidth": 1
          },
          "autotypenumbers": "strict",
          "coloraxis": {
           "colorbar": {
            "outlinewidth": 0,
            "ticks": ""
           }
          },
          "colorscale": {
           "diverging": [
            [
             0,
             "#8e0152"
            ],
            [
             0.1,
             "#c51b7d"
            ],
            [
             0.2,
             "#de77ae"
            ],
            [
             0.3,
             "#f1b6da"
            ],
            [
             0.4,
             "#fde0ef"
            ],
            [
             0.5,
             "#f7f7f7"
            ],
            [
             0.6,
             "#e6f5d0"
            ],
            [
             0.7,
             "#b8e186"
            ],
            [
             0.8,
             "#7fbc41"
            ],
            [
             0.9,
             "#4d9221"
            ],
            [
             1,
             "#276419"
            ]
           ],
           "sequential": [
            [
             0,
             "#0d0887"
            ],
            [
             0.1111111111111111,
             "#46039f"
            ],
            [
             0.2222222222222222,
             "#7201a8"
            ],
            [
             0.3333333333333333,
             "#9c179e"
            ],
            [
             0.4444444444444444,
             "#bd3786"
            ],
            [
             0.5555555555555556,
             "#d8576b"
            ],
            [
             0.6666666666666666,
             "#ed7953"
            ],
            [
             0.7777777777777778,
             "#fb9f3a"
            ],
            [
             0.8888888888888888,
             "#fdca26"
            ],
            [
             1,
             "#f0f921"
            ]
           ],
           "sequentialminus": [
            [
             0,
             "#0d0887"
            ],
            [
             0.1111111111111111,
             "#46039f"
            ],
            [
             0.2222222222222222,
             "#7201a8"
            ],
            [
             0.3333333333333333,
             "#9c179e"
            ],
            [
             0.4444444444444444,
             "#bd3786"
            ],
            [
             0.5555555555555556,
             "#d8576b"
            ],
            [
             0.6666666666666666,
             "#ed7953"
            ],
            [
             0.7777777777777778,
             "#fb9f3a"
            ],
            [
             0.8888888888888888,
             "#fdca26"
            ],
            [
             1,
             "#f0f921"
            ]
           ]
          },
          "colorway": [
           "#636efa",
           "#EF553B",
           "#00cc96",
           "#ab63fa",
           "#FFA15A",
           "#19d3f3",
           "#FF6692",
           "#B6E880",
           "#FF97FF",
           "#FECB52"
          ],
          "font": {
           "color": "#2a3f5f"
          },
          "geo": {
           "bgcolor": "white",
           "lakecolor": "white",
           "landcolor": "white",
           "showlakes": true,
           "showland": true,
           "subunitcolor": "#C8D4E3"
          },
          "hoverlabel": {
           "align": "left"
          },
          "hovermode": "closest",
          "mapbox": {
           "style": "light"
          },
          "paper_bgcolor": "white",
          "plot_bgcolor": "white",
          "polar": {
           "angularaxis": {
            "gridcolor": "#EBF0F8",
            "linecolor": "#EBF0F8",
            "ticks": ""
           },
           "bgcolor": "white",
           "radialaxis": {
            "gridcolor": "#EBF0F8",
            "linecolor": "#EBF0F8",
            "ticks": ""
           }
          },
          "scene": {
           "xaxis": {
            "backgroundcolor": "white",
            "gridcolor": "#DFE8F3",
            "gridwidth": 2,
            "linecolor": "#EBF0F8",
            "showbackground": true,
            "ticks": "",
            "zerolinecolor": "#EBF0F8"
           },
           "yaxis": {
            "backgroundcolor": "white",
            "gridcolor": "#DFE8F3",
            "gridwidth": 2,
            "linecolor": "#EBF0F8",
            "showbackground": true,
            "ticks": "",
            "zerolinecolor": "#EBF0F8"
           },
           "zaxis": {
            "backgroundcolor": "white",
            "gridcolor": "#DFE8F3",
            "gridwidth": 2,
            "linecolor": "#EBF0F8",
            "showbackground": true,
            "ticks": "",
            "zerolinecolor": "#EBF0F8"
           }
          },
          "shapedefaults": {
           "line": {
            "color": "#2a3f5f"
           }
          },
          "ternary": {
           "aaxis": {
            "gridcolor": "#DFE8F3",
            "linecolor": "#A2B1C6",
            "ticks": ""
           },
           "baxis": {
            "gridcolor": "#DFE8F3",
            "linecolor": "#A2B1C6",
            "ticks": ""
           },
           "bgcolor": "white",
           "caxis": {
            "gridcolor": "#DFE8F3",
            "linecolor": "#A2B1C6",
            "ticks": ""
           }
          },
          "title": {
           "x": 0.05
          },
          "xaxis": {
           "automargin": true,
           "gridcolor": "#EBF0F8",
           "linecolor": "#EBF0F8",
           "ticks": "",
           "title": {
            "standoff": 15
           },
           "zerolinecolor": "#EBF0F8",
           "zerolinewidth": 2
          },
          "yaxis": {
           "automargin": true,
           "gridcolor": "#EBF0F8",
           "linecolor": "#EBF0F8",
           "ticks": "",
           "title": {
            "standoff": 15
           },
           "zerolinecolor": "#EBF0F8",
           "zerolinewidth": 2
          }
         }
        },
        "xaxis": {
         "tickformat": ".0f"
        },
        "yaxis": {
         "tickprefix": "$",
         "type": "log"
        }
       }
      }
     },
     "metadata": {},
     "output_type": "display_data"
    }
   ],
   "source": [
    "accum = (1+df).cumprod()\n",
    "\n",
    "traces = []\n",
    "for asset in accum.columns:\n",
    "    trace = go.Scatter(\n",
    "        x=accum.index.to_list(),\n",
    "        y=accum[asset],\n",
    "        name=asset,\n",
    "        text=[asset]*accum.shape[0],\n",
    "        hovertemplate=\"%{text} = $%{y:.2f}<extra></extra>\"\n",
    "    )\n",
    "    traces.append(trace)\n",
    "\n",
    "fig = go.Figure()\n",
    "for trace in traces:\n",
    "    fig.add_trace(trace)\n",
    "\n",
    "fig.update_layout(\n",
    "    yaxis_tickprefix=\"$\",\n",
    "    xaxis_tickformat=\".0f\",\n",
    "    yaxis_type=\"log\",\n",
    "    hovermode=\"x unified\",\n",
    "    template=\"plotly_white\",\n",
    "    legend=dict(\n",
    "        yanchor=\"top\", \n",
    "        y=0.99, \n",
    "        xanchor=\"left\", \n",
    "        x=0.01\n",
    "    ),\n",
    ")\n",
    "fig.show()"
   ]
  },
  {
   "cell_type": "code",
   "execution_count": null,
   "metadata": {},
   "outputs": [],
   "source": []
  }
 ],
 "metadata": {
  "colab": {
   "include_colab_link": true,
   "name": "stock, bond, and gold returns.ipynb",
   "provenance": []
  },
  "kernelspec": {
   "display_name": "Python 3",
   "language": "python",
   "name": "python3"
  },
  "language_info": {
   "codemirror_mode": {
    "name": "ipython",
    "version": 3
   },
   "file_extension": ".py",
   "mimetype": "text/x-python",
   "name": "python",
   "nbconvert_exporter": "python",
   "pygments_lexer": "ipython3",
   "version": "3.10.8"
  }
 },
 "nbformat": 4,
 "nbformat_minor": 0
}
