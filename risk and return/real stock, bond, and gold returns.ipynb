{
  "cells": [
    {
      "cell_type": "markdown",
      "metadata": {
        "id": "view-in-github",
        "colab_type": "text"
      },
      "source": [
        "<a href=\"https://colab.research.google.com/github/bbcx-investments/notebooks/blob/main/risk/sbb_real.ipynb\" target=\"_parent\"><img src=\"https://colab.research.google.com/assets/colab-badge.svg\" alt=\"Open In Colab\"/></a>"
      ]
    },
    {
      "cell_type": "code",
      "execution_count": null,
      "outputs": [
        {
          "name": "stderr",
          "output_type": "stream",
          "text": [
            "/Users/kailiao/PycharmProjects/appcode_draft/venv/lib/python3.8/site-packages/pandas/core/indexes/base.py:6982: FutureWarning: In a future version, the Index constructor will not infer numeric dtypes when passed object-dtype sequences (matching Series behavior)\n",
            "  return Index(sequences[0], name=names)\n"
          ]
        },
        {
          "data": {
            "text/plain": "         SP500    TBills    TBonds  Corporates\n1928  0.454932  0.042856  0.020148    0.044268\n1929 -0.088311  0.025602  0.035980    0.024189\n1930 -0.200079  0.116932  0.116835    0.074090\n1931 -0.380674  0.128213  0.074522   -0.070178\n1932  0.018184  0.126429  0.212472    0.377411\n...        ...       ...       ...         ...\n2017  0.190937 -0.011539  0.006783    0.074575\n2018 -0.060220  0.000285 -0.018907   -0.045852\n2019  0.282803 -0.007187  0.071863    0.127529\n2020  0.164373 -0.012549  0.098359    0.089279\n2021  0.200643 -0.064860 -0.106692   -0.056697\n\n[94 rows x 4 columns]",
            "text/html": "<div>\n<style scoped>\n    .dataframe tbody tr th:only-of-type {\n        vertical-align: middle;\n    }\n\n    .dataframe tbody tr th {\n        vertical-align: top;\n    }\n\n    .dataframe thead th {\n        text-align: right;\n    }\n</style>\n<table border=\"1\" class=\"dataframe\">\n  <thead>\n    <tr style=\"text-align: right;\">\n      <th></th>\n      <th>SP500</th>\n      <th>TBills</th>\n      <th>TBonds</th>\n      <th>Corporates</th>\n    </tr>\n  </thead>\n  <tbody>\n    <tr>\n      <th>1928</th>\n      <td>0.454932</td>\n      <td>0.042856</td>\n      <td>0.020148</td>\n      <td>0.044268</td>\n    </tr>\n    <tr>\n      <th>1929</th>\n      <td>-0.088311</td>\n      <td>0.025602</td>\n      <td>0.035980</td>\n      <td>0.024189</td>\n    </tr>\n    <tr>\n      <th>1930</th>\n      <td>-0.200079</td>\n      <td>0.116932</td>\n      <td>0.116835</td>\n      <td>0.074090</td>\n    </tr>\n    <tr>\n      <th>1931</th>\n      <td>-0.380674</td>\n      <td>0.128213</td>\n      <td>0.074522</td>\n      <td>-0.070178</td>\n    </tr>\n    <tr>\n      <th>1932</th>\n      <td>0.018184</td>\n      <td>0.126429</td>\n      <td>0.212472</td>\n      <td>0.377411</td>\n    </tr>\n    <tr>\n      <th>...</th>\n      <td>...</td>\n      <td>...</td>\n      <td>...</td>\n      <td>...</td>\n    </tr>\n    <tr>\n      <th>2017</th>\n      <td>0.190937</td>\n      <td>-0.011539</td>\n      <td>0.006783</td>\n      <td>0.074575</td>\n    </tr>\n    <tr>\n      <th>2018</th>\n      <td>-0.060220</td>\n      <td>0.000285</td>\n      <td>-0.018907</td>\n      <td>-0.045852</td>\n    </tr>\n    <tr>\n      <th>2019</th>\n      <td>0.282803</td>\n      <td>-0.007187</td>\n      <td>0.071863</td>\n      <td>0.127529</td>\n    </tr>\n    <tr>\n      <th>2020</th>\n      <td>0.164373</td>\n      <td>-0.012549</td>\n      <td>0.098359</td>\n      <td>0.089279</td>\n    </tr>\n    <tr>\n      <th>2021</th>\n      <td>0.200643</td>\n      <td>-0.064860</td>\n      <td>-0.106692</td>\n      <td>-0.056697</td>\n    </tr>\n  </tbody>\n</table>\n<p>94 rows × 4 columns</p>\n</div>"
          },
          "execution_count": 1,
          "metadata": {},
          "output_type": "execute_result"
        }
      ],
      "source": [
        "import pandas as pd\n",
        "import ssl\n",
        "\n",
        "# Get return data from Aswath Damodoran\n",
        "ssl._create_default_https_context = ssl._create_unverified_context\n",
        "file = \"http://www.stern.nyu.edu/~adamodar/pc/datasets/histretSP.xls\"\n",
        "sheet = \"Returns by year\"\n",
        "df = pd.read_excel(file, sheet_name=sheet, skiprows=16, header=[0, 1])\n",
        "col1 = (\"Unnamed: 0_level_0\", \"Year\")\n",
        "indx = df[df[col1].isna()].index[0]\n",
        "df = df.iloc[:indx].set_index(col1)\n",
        "df.index.name = \"Year\"\n",
        "df = df[\"Annual Real Returns on\"]\n",
        "df = df[df.columns[1:5]]\n",
        "df.columns = [\"SP500\", \"TBills\", \"TBonds\", \"Corporates\"]\n",
        "df.dtype = \"float\"\n",
        "df.index = [int(x) for x in df.index]\n",
        "df"
      ],
      "metadata": {
        "pycharm": {
          "name": "#%%\n"
        },
        "id": "IigP3y9mmpHn",
        "outputId": "3219cc67-5da2-4173-f9a5-b4811e550007"
      }
    },
    {
      "cell_type": "code",
      "execution_count": null,
      "outputs": [
        {
          "data": {
            "text/plain": "           SP500     TBills     TBonds  Corporates\ncount  94.000000  94.000000  94.000000   94.000000\nmean    0.086037   0.003464   0.021436    0.041630\nstd     0.193355   0.038283   0.086421    0.086618\nmin    -0.380674  -0.150272  -0.137812   -0.148823\n25%    -0.022114  -0.013412  -0.028090   -0.017446\n50%     0.104434   0.003797   0.012028    0.044131\n75%     0.207642   0.018792   0.071099    0.095034\nmax     0.537061   0.128213   0.279156    0.377411",
            "text/html": "<div>\n<style scoped>\n    .dataframe tbody tr th:only-of-type {\n        vertical-align: middle;\n    }\n\n    .dataframe tbody tr th {\n        vertical-align: top;\n    }\n\n    .dataframe thead th {\n        text-align: right;\n    }\n</style>\n<table border=\"1\" class=\"dataframe\">\n  <thead>\n    <tr style=\"text-align: right;\">\n      <th></th>\n      <th>SP500</th>\n      <th>TBills</th>\n      <th>TBonds</th>\n      <th>Corporates</th>\n    </tr>\n  </thead>\n  <tbody>\n    <tr>\n      <th>count</th>\n      <td>94.000000</td>\n      <td>94.000000</td>\n      <td>94.000000</td>\n      <td>94.000000</td>\n    </tr>\n    <tr>\n      <th>mean</th>\n      <td>0.086037</td>\n      <td>0.003464</td>\n      <td>0.021436</td>\n      <td>0.041630</td>\n    </tr>\n    <tr>\n      <th>std</th>\n      <td>0.193355</td>\n      <td>0.038283</td>\n      <td>0.086421</td>\n      <td>0.086618</td>\n    </tr>\n    <tr>\n      <th>min</th>\n      <td>-0.380674</td>\n      <td>-0.150272</td>\n      <td>-0.137812</td>\n      <td>-0.148823</td>\n    </tr>\n    <tr>\n      <th>25%</th>\n      <td>-0.022114</td>\n      <td>-0.013412</td>\n      <td>-0.028090</td>\n      <td>-0.017446</td>\n    </tr>\n    <tr>\n      <th>50%</th>\n      <td>0.104434</td>\n      <td>0.003797</td>\n      <td>0.012028</td>\n      <td>0.044131</td>\n    </tr>\n    <tr>\n      <th>75%</th>\n      <td>0.207642</td>\n      <td>0.018792</td>\n      <td>0.071099</td>\n      <td>0.095034</td>\n    </tr>\n    <tr>\n      <th>max</th>\n      <td>0.537061</td>\n      <td>0.128213</td>\n      <td>0.279156</td>\n      <td>0.377411</td>\n    </tr>\n  </tbody>\n</table>\n</div>"
          },
          "execution_count": 2,
          "metadata": {},
          "output_type": "execute_result"
        }
      ],
      "source": [
        "df.describe()"
      ],
      "metadata": {
        "pycharm": {
          "name": "#%%\n"
        },
        "id": "AvsnLoz4mpHo",
        "outputId": "a7b48fae-3001-4fa1-dbee-6d39f79c9b8e"
      }
    },
    {
      "cell_type": "code",
      "execution_count": null,
      "outputs": [],
      "source": [
        ""
      ],
      "metadata": {
        "pycharm": {
          "name": "#%%\n"
        },
        "id": "449vuS7YmpHp"
      }
    }
  ],
  "metadata": {
    "kernelspec": {
      "display_name": "Python 3",
      "language": "python",
      "name": "python3"
    },
    "language_info": {
      "codemirror_mode": {
        "name": "ipython",
        "version": 2
      },
      "file_extension": ".py",
      "mimetype": "text/x-python",
      "name": "python",
      "nbconvert_exporter": "python",
      "pygments_lexer": "ipython2",
      "version": "2.7.6"
    },
    "colab": {
      "name": "sbb_real.ipynb",
      "provenance": [],
      "include_colab_link": true
    }
  },
  "nbformat": 4,
  "nbformat_minor": 0
}