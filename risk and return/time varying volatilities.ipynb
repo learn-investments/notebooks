{
 "cells": [
  {
   "cell_type": "code",
   "execution_count": null,
   "metadata": {
    "pycharm": {
     "name": "#%%\n"
    }
   },
   "outputs": [],
   "source": [
    "import pandas as pd\n",
    "from pandas_datareader import DataReader as pdr\n",
    "import yfinance as yf\n",
    "import plotly.graph_objects as go\n",
    "import plotly.express as px"
   ]
  },
  {
   "attachments": {},
   "cell_type": "markdown",
   "metadata": {
    "pycharm": {
     "name": "#%% md\n"
    }
   },
   "source": [
    "# U.S. STOCK MARKET RETURN"
   ]
  },
  {
   "attachments": {},
   "cell_type": "markdown",
   "metadata": {
    "pycharm": {
     "name": "#%% md\n"
    }
   },
   "source": [
    "## VOLATILITY"
   ]
  },
  {
   "cell_type": "code",
   "execution_count": null,
   "metadata": {
    "pycharm": {
     "name": "#%%\n"
    }
   },
   "outputs": [],
   "source": [
    "mkt = pdr('F-F_Research_Data_Factors_Daily','famafrench',start=1926)[0]/100\n",
    "mkt = mkt['Mkt-RF'] + mkt.RF\n",
    "mkt_vol = mkt.resample(\"M\").apply(lambda x: x.std())[:-1]\n",
    "mkt_vol.index = mkt_vol.index.to_period(\"M\").astype(str)\n",
    "mkt_vol.name = \"market volatility\"\n",
    "mkt_vol.tail()\n"
   ]
  },
  {
   "attachments": {},
   "cell_type": "markdown",
   "metadata": {},
   "source": [
    "## MONTHLY RETURNS"
   ]
  },
  {
   "cell_type": "code",
   "execution_count": null,
   "metadata": {},
   "outputs": [],
   "source": [
    "mkt = pdr('F-F_Research_Data_Factors','famafrench',start=1926)[0]/100\n",
    "mkt_ret = mkt['Mkt-RF'] + mkt.RF\n",
    "mkt_ret.index = mkt_ret.index.astype(str)\n",
    "mkt_ret.name = \"market return\"\n",
    "mkt_ret.tail()"
   ]
  },
  {
   "attachments": {},
   "cell_type": "markdown",
   "metadata": {
    "pycharm": {
     "name": "#%% md\n"
    }
   },
   "source": [
    "# RETURNS FROM YAHOO FINANCE"
   ]
  },
  {
   "cell_type": "code",
   "execution_count": null,
   "metadata": {
    "pycharm": {
     "name": "#%%\n"
    }
   },
   "outputs": [],
   "source": [
    "ticker = input(\"Input a ticker\")\n",
    "price = yf.download(ticker, start=\"1970-01-01\")[\"Adj Close\"]"
   ]
  },
  {
   "attachments": {},
   "cell_type": "markdown",
   "metadata": {
    "pycharm": {
     "name": "#%% md\n"
    }
   },
   "source": [
    "## VOLATILITY"
   ]
  },
  {
   "cell_type": "code",
   "execution_count": null,
   "metadata": {},
   "outputs": [],
   "source": [
    "ret_daily = price.pct_change()\n",
    "ret_vol = ret_daily.resample(\"M\").apply(lambda x: x.std())[:-1]\n",
    "ret_vol.index = ret_vol.index.to_period(\"M\").astype(str)\n",
    "ret_vol.name = ticker + \" volatility\"\n",
    "ret_vol.tail()"
   ]
  },
  {
   "attachments": {},
   "cell_type": "markdown",
   "metadata": {},
   "source": [
    "## MONTHLY RETURNS"
   ]
  },
  {
   "cell_type": "code",
   "execution_count": null,
   "metadata": {
    "pycharm": {
     "name": "#%%\n"
    }
   },
   "outputs": [],
   "source": [
    "price_monthly = price.resample(\"M\").last()\n",
    "ret_ret = price_monthly.pct_change()[:-1]\n",
    "ret_ret.index = ret_ret.index.to_period(\"M\").astype(str)\n",
    "ret_ret.index.name = \"month\"\n",
    "ret_ret.name = ticker + \" return\"\n",
    "ret_ret.tail()"
   ]
  },
  {
   "attachments": {},
   "cell_type": "markdown",
   "metadata": {
    "pycharm": {
     "name": "#%% md\n"
    }
   },
   "source": [
    "# SELECT YAHOO RETURN OR MARKET"
   ]
  },
  {
   "cell_type": "code",
   "execution_count": null,
   "metadata": {
    "pycharm": {
     "name": "#%%\n"
    }
   },
   "outputs": [],
   "source": [
    "flag = int(input(\"input 0 for market or 1 for yahoo return\"))\n",
    "data = \"ret\" if flag else \"mkt\"\n",
    "name = ticker.upper() if flag else \"Market\" \n",
    "vol = eval(data + \"_vol\")\n",
    "ret = eval(data + \"_ret\")\n",
    "df = pd.concat((vol, ret), axis=1).dropna()\n",
    "df.columns = [\"vol\", \"ret\"]"
   ]
  },
  {
   "attachments": {},
   "cell_type": "markdown",
   "metadata": {
    "pycharm": {
     "name": "#%% md\n"
    }
   },
   "source": [
    "# FIGURE 1"
   ]
  },
  {
   "cell_type": "code",
   "execution_count": null,
   "metadata": {
    "id": "tcmPMcyQtNIS",
    "pycharm": {
     "name": "#%%\n"
    }
   },
   "outputs": [],
   "source": [
    "trace = go.Scatter(\n",
    "    x=vol.index.to_list(), \n",
    "    y=vol, \n",
    "    mode=\"lines\", \n",
    "    hovertemplate=\"%{x}<br>%{y:.1%}<extra></extra>\"\n",
    ")\n",
    "fig = go.Figure(trace)\n",
    "fig.update_layout(\n",
    "    yaxis_tickformat=\".0%\",\n",
    "    yaxis_title = f\"{name} Volatility\",\n",
    "    template=\"plotly_white\",\n",
    ")\n",
    "fig.show()"
   ]
  },
  {
   "attachments": {},
   "cell_type": "markdown",
   "metadata": {
    "pycharm": {
     "name": "#%% md\n"
    }
   },
   "source": [
    "# FIGURE 2"
   ]
  },
  {
   "cell_type": "code",
   "execution_count": null,
   "metadata": {
    "pycharm": {
     "name": "#%%\n"
    }
   },
   "outputs": [],
   "source": [
    "fig = px.scatter(\n",
    "    x=vol[:-1],\n",
    "    y=vol[1:],\n",
    "    trendline=\"ols\",\n",
    ")\n",
    "fig.update_layout(\n",
    "    xaxis_title=f\"Lagged {name} Volatility\",\n",
    "    yaxis_title=f\"{name} Volatility\",\n",
    "    xaxis_tickformat=\".0%\",\n",
    "    yaxis_tickformat=\".0%\",\n",
    "    template=\"plotly_white\",\n",
    ")\n",
    "fig.update_traces(\n",
    "    marker=dict(\n",
    "        size=12, \n",
    "        line=dict(width=2, color=\"DarkSlateGrey\")\n",
    "    ),\n",
    "    selector=dict(mode=\"markers\"),\n",
    "    text=df.index.to_list()[1:],\n",
    "    hovertemplate=\"%{text}<br>lagged vol = %{x}<br>vol = %{y}<extra></extra>\"\n",
    ")\n",
    "fig.show()\n"
   ]
  },
  {
   "attachments": {},
   "cell_type": "markdown",
   "metadata": {
    "pycharm": {
     "name": "#%% md\n"
    }
   },
   "source": [
    "# FIGURE 3"
   ]
  },
  {
   "cell_type": "code",
   "execution_count": null,
   "metadata": {
    "pycharm": {
     "name": "#%%\n"
    }
   },
   "outputs": [],
   "source": [
    "fig = px.scatter(\n",
    "    x=df.vol[:-1],\n",
    "    y=df.ret[1:],\n",
    "    trendline=\"ols\",\n",
    ")\n",
    "fig.update_layout(\n",
    "    xaxis_title=f\"Lagged {name} Volatility\",\n",
    "    yaxis_title=f\"{name} Return\",\n",
    "    xaxis_tickformat=\".0%\",\n",
    "    yaxis_tickformat=\".0%\",\n",
    "    template=\"plotly_white\",\n",
    ")\n",
    "fig.update_traces(\n",
    "    marker=dict(\n",
    "        size=12, \n",
    "        line=dict(width=2, color=\"DarkSlateGrey\")\n",
    "    ),\n",
    "    selector=dict(mode=\"markers\"),\n",
    "    text=df.index.to_list()[1:],\n",
    "    hovertemplate=\"%{text}<br>lagged vol = %{x}<br>return = %{y}<extra></extra>\"\n",
    ")\n",
    "fig.show()"
   ]
  },
  {
   "attachments": {},
   "cell_type": "markdown",
   "metadata": {
    "pycharm": {
     "name": "#%% md\n"
    }
   },
   "source": [
    "# FIGURE 4"
   ]
  },
  {
   "cell_type": "code",
   "execution_count": null,
   "metadata": {
    "pycharm": {
     "name": "#%%\n"
    }
   },
   "outputs": [],
   "source": [
    "fig = px.scatter(\n",
    "    x=df.vol,\n",
    "    y=df.ret,\n",
    "    trendline=\"ols\",\n",
    ")\n",
    "fig.update_layout(\n",
    "    xaxis_title=f\"{name} Volatility\",\n",
    "    yaxis_title=f\"{name} Return\",\n",
    "    xaxis_tickformat=\".0%\",\n",
    "    yaxis_tickformat=\".0%\",\n",
    "    template=\"plotly_white\",\n",
    ")\n",
    "fig.update_traces(\n",
    "    marker=dict(\n",
    "        size=12, \n",
    "        line=dict(width=2, color=\"DarkSlateGrey\")\n",
    "    ),\n",
    "    selector=dict(mode=\"markers\"),\n",
    "    text=df.index.to_list(),\n",
    "    hovertemplate=\"%{text}<br>vol = %{x}<br>return = %{y}<extra></extra>\"\n",
    ")\n",
    "fig.show()"
   ]
  }
 ],
 "metadata": {
  "colab": {
   "collapsed_sections": [],
   "include_colab_link": true,
   "name": "returns.ipynb",
   "provenance": []
  },
  "kernelspec": {
   "display_name": "Python 3",
   "name": "python3"
  },
  "language_info": {
   "codemirror_mode": {
    "name": "ipython",
    "version": 3
   },
   "file_extension": ".py",
   "mimetype": "text/x-python",
   "name": "python",
   "nbconvert_exporter": "python",
   "pygments_lexer": "ipython3",
   "version": "3.10.3"
  }
 },
 "nbformat": 4,
 "nbformat_minor": 0
}
