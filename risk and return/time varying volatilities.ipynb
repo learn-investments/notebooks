{
  "cells": [
    {
      "cell_type": "markdown",
      "metadata": {
        "id": "view-in-github",
        "colab_type": "text"
      },
      "source": [
        "<a href=\"https://colab.research.google.com/github/bbcx-investments/notebooks/blob/main/risk/volatilities.ipynb\" target=\"_parent\"><img src=\"https://colab.research.google.com/assets/colab-badge.svg\" alt=\"Open In Colab\"/></a>"
      ]
    },
    {
      "cell_type": "code",
      "execution_count": null,
      "outputs": [
        {
          "data": {
            "text/plain": "        date      ret    month\n0 1926-07-01  0.00109  1926-07\n1 1926-07-02  0.00459  1926-07\n2 1926-07-06  0.00179  1926-07\n3 1926-07-07  0.00099  1926-07\n4 1926-07-08  0.00219  1926-07\n5 1926-07-09 -0.00701  1926-07\n6 1926-07-10  0.00629  1926-07\n7 1926-07-12  0.00049  1926-07\n8 1926-07-13  0.00489  1926-07\n9 1926-07-14  0.00049  1926-07",
            "text/html": "<div>\n<style scoped>\n    .dataframe tbody tr th:only-of-type {\n        vertical-align: middle;\n    }\n\n    .dataframe tbody tr th {\n        vertical-align: top;\n    }\n\n    .dataframe thead th {\n        text-align: right;\n    }\n</style>\n<table border=\"1\" class=\"dataframe\">\n  <thead>\n    <tr style=\"text-align: right;\">\n      <th></th>\n      <th>date</th>\n      <th>ret</th>\n      <th>month</th>\n    </tr>\n  </thead>\n  <tbody>\n    <tr>\n      <th>0</th>\n      <td>1926-07-01</td>\n      <td>0.00109</td>\n      <td>1926-07</td>\n    </tr>\n    <tr>\n      <th>1</th>\n      <td>1926-07-02</td>\n      <td>0.00459</td>\n      <td>1926-07</td>\n    </tr>\n    <tr>\n      <th>2</th>\n      <td>1926-07-06</td>\n      <td>0.00179</td>\n      <td>1926-07</td>\n    </tr>\n    <tr>\n      <th>3</th>\n      <td>1926-07-07</td>\n      <td>0.00099</td>\n      <td>1926-07</td>\n    </tr>\n    <tr>\n      <th>4</th>\n      <td>1926-07-08</td>\n      <td>0.00219</td>\n      <td>1926-07</td>\n    </tr>\n    <tr>\n      <th>5</th>\n      <td>1926-07-09</td>\n      <td>-0.00701</td>\n      <td>1926-07</td>\n    </tr>\n    <tr>\n      <th>6</th>\n      <td>1926-07-10</td>\n      <td>0.00629</td>\n      <td>1926-07</td>\n    </tr>\n    <tr>\n      <th>7</th>\n      <td>1926-07-12</td>\n      <td>0.00049</td>\n      <td>1926-07</td>\n    </tr>\n    <tr>\n      <th>8</th>\n      <td>1926-07-13</td>\n      <td>0.00489</td>\n      <td>1926-07</td>\n    </tr>\n    <tr>\n      <th>9</th>\n      <td>1926-07-14</td>\n      <td>0.00049</td>\n      <td>1926-07</td>\n    </tr>\n  </tbody>\n</table>\n</div>"
          },
          "execution_count": 11,
          "metadata": {},
          "output_type": "execute_result"
        }
      ],
      "source": [
        "import pandas as pd\n",
        "from pandas_datareader import DataReader as pdr\n",
        "\n",
        "ffd = pdr('F-F_Research_Data_Factors_daily','famafrench', start=1900)[0]/100\n",
        "\n",
        "# get daily market return data\n",
        "mktd = ffd[\"Mkt-RF\"] + ffd.RF\n",
        "mktd = pd.DataFrame(mktd).reset_index()\n",
        "mktd.columns = ['date', 'ret']\n",
        "mktd['month'] = mktd.date.dt.to_period('M').astype(str)\n",
        "\n",
        "mktd.head(10)"
      ],
      "metadata": {
        "pycharm": {
          "name": "#%%\n"
        },
        "id": "vMHWBvOQIEVn",
        "outputId": "92281a2f-cbe4-4fa3-c179-2f33d1d43874"
      }
    },
    {
      "cell_type": "code",
      "execution_count": null,
      "outputs": [
        {
          "data": {
            "text/plain": "     month       vol       ret   vol_lag\n0  1926-07  0.004528  0.031161       NaN\n1  1926-08  0.005926  0.029367  0.004528\n2  1926-09  0.004956  0.005894  0.005926\n3  1926-10  0.008389 -0.029859  0.004956\n4  1926-11  0.003820  0.029049  0.008389\n5  1926-12  0.004053  0.029258  0.003820\n6  1927-01  0.004151  0.002396  0.004053\n7  1927-02  0.002564  0.044594  0.004151\n8  1927-03  0.005722  0.003851  0.002564\n9  1927-04  0.004896  0.007639  0.005722",
            "text/html": "<div>\n<style scoped>\n    .dataframe tbody tr th:only-of-type {\n        vertical-align: middle;\n    }\n\n    .dataframe tbody tr th {\n        vertical-align: top;\n    }\n\n    .dataframe thead th {\n        text-align: right;\n    }\n</style>\n<table border=\"1\" class=\"dataframe\">\n  <thead>\n    <tr style=\"text-align: right;\">\n      <th></th>\n      <th>month</th>\n      <th>vol</th>\n      <th>ret</th>\n      <th>vol_lag</th>\n    </tr>\n  </thead>\n  <tbody>\n    <tr>\n      <th>0</th>\n      <td>1926-07</td>\n      <td>0.004528</td>\n      <td>0.031161</td>\n      <td>NaN</td>\n    </tr>\n    <tr>\n      <th>1</th>\n      <td>1926-08</td>\n      <td>0.005926</td>\n      <td>0.029367</td>\n      <td>0.004528</td>\n    </tr>\n    <tr>\n      <th>2</th>\n      <td>1926-09</td>\n      <td>0.004956</td>\n      <td>0.005894</td>\n      <td>0.005926</td>\n    </tr>\n    <tr>\n      <th>3</th>\n      <td>1926-10</td>\n      <td>0.008389</td>\n      <td>-0.029859</td>\n      <td>0.004956</td>\n    </tr>\n    <tr>\n      <th>4</th>\n      <td>1926-11</td>\n      <td>0.003820</td>\n      <td>0.029049</td>\n      <td>0.008389</td>\n    </tr>\n    <tr>\n      <th>5</th>\n      <td>1926-12</td>\n      <td>0.004053</td>\n      <td>0.029258</td>\n      <td>0.003820</td>\n    </tr>\n    <tr>\n      <th>6</th>\n      <td>1927-01</td>\n      <td>0.004151</td>\n      <td>0.002396</td>\n      <td>0.004053</td>\n    </tr>\n    <tr>\n      <th>7</th>\n      <td>1927-02</td>\n      <td>0.002564</td>\n      <td>0.044594</td>\n      <td>0.004151</td>\n    </tr>\n    <tr>\n      <th>8</th>\n      <td>1927-03</td>\n      <td>0.005722</td>\n      <td>0.003851</td>\n      <td>0.002564</td>\n    </tr>\n    <tr>\n      <th>9</th>\n      <td>1927-04</td>\n      <td>0.004896</td>\n      <td>0.007639</td>\n      <td>0.005722</td>\n    </tr>\n  </tbody>\n</table>\n</div>"
          },
          "execution_count": 12,
          "metadata": {},
          "output_type": "execute_result"
        }
      ],
      "source": [
        "# Use daily return data to compute monthly return and volatility of each month\n",
        "mktm = pd.DataFrame(mktd.groupby('month').ret.std())\n",
        "mktm.columns = ['vol']\n",
        "mktm['ret'] = mktd.groupby('month').ret.apply(lambda x: (1+x).prod()-1)\n",
        "mktm['vol_lag'] = mktm.vol.shift()\n",
        "mktm = mktm.reset_index()\n",
        "\n",
        "mktm.head(10)"
      ],
      "metadata": {
        "pycharm": {
          "name": "#%%\n"
        },
        "id": "2Qt-OnauIEVr",
        "outputId": "9186ce04-e781-4e7e-c220-eabfcf3d0755"
      }
    },
    {
      "cell_type": "code",
      "execution_count": null,
      "outputs": [
        {
          "data": {
            "text/plain": "     month       vol       ret   vol_lag\n0  1970-01  0.011653 -0.117224       NaN\n1  1970-02  0.019395  0.045856  0.011653\n2  1970-03  0.011564 -0.063158  0.019395\n3  1970-04  0.009673 -0.061798  0.011564\n4  1970-05  0.014991  0.060014  0.009673\n5  1970-06  0.013499 -0.074713  0.014991\n6  1970-07  0.014868  0.093167  0.013499\n7  1970-08  0.015482  0.097150  0.014868\n8  1970-09  0.011982 -0.039473  0.015482\n9  1970-10  0.011721  0.054795  0.011982",
            "text/html": "<div>\n<style scoped>\n    .dataframe tbody tr th:only-of-type {\n        vertical-align: middle;\n    }\n\n    .dataframe tbody tr th {\n        vertical-align: top;\n    }\n\n    .dataframe thead th {\n        text-align: right;\n    }\n</style>\n<table border=\"1\" class=\"dataframe\">\n  <thead>\n    <tr style=\"text-align: right;\">\n      <th></th>\n      <th>month</th>\n      <th>vol</th>\n      <th>ret</th>\n      <th>vol_lag</th>\n    </tr>\n  </thead>\n  <tbody>\n    <tr>\n      <th>0</th>\n      <td>1970-01</td>\n      <td>0.011653</td>\n      <td>-0.117224</td>\n      <td>NaN</td>\n    </tr>\n    <tr>\n      <th>1</th>\n      <td>1970-02</td>\n      <td>0.019395</td>\n      <td>0.045856</td>\n      <td>0.011653</td>\n    </tr>\n    <tr>\n      <th>2</th>\n      <td>1970-03</td>\n      <td>0.011564</td>\n      <td>-0.063158</td>\n      <td>0.019395</td>\n    </tr>\n    <tr>\n      <th>3</th>\n      <td>1970-04</td>\n      <td>0.009673</td>\n      <td>-0.061798</td>\n      <td>0.011564</td>\n    </tr>\n    <tr>\n      <th>4</th>\n      <td>1970-05</td>\n      <td>0.014991</td>\n      <td>0.060014</td>\n      <td>0.009673</td>\n    </tr>\n    <tr>\n      <th>5</th>\n      <td>1970-06</td>\n      <td>0.013499</td>\n      <td>-0.074713</td>\n      <td>0.014991</td>\n    </tr>\n    <tr>\n      <th>6</th>\n      <td>1970-07</td>\n      <td>0.014868</td>\n      <td>0.093167</td>\n      <td>0.013499</td>\n    </tr>\n    <tr>\n      <th>7</th>\n      <td>1970-08</td>\n      <td>0.015482</td>\n      <td>0.097150</td>\n      <td>0.014868</td>\n    </tr>\n    <tr>\n      <th>8</th>\n      <td>1970-09</td>\n      <td>0.011982</td>\n      <td>-0.039473</td>\n      <td>0.015482</td>\n    </tr>\n    <tr>\n      <th>9</th>\n      <td>1970-10</td>\n      <td>0.011721</td>\n      <td>0.054795</td>\n      <td>0.011982</td>\n    </tr>\n  </tbody>\n</table>\n</div>"
          },
          "execution_count": 13,
          "metadata": {},
          "output_type": "execute_result"
        }
      ],
      "source": [
        "# We can also get compute the monthly volatility and return for individual stock\n",
        "\n",
        "ticker = 'CVX'\n",
        "close = pdr(ticker, \"yahoo\", start=1970)[\"Adj Close\"]\n",
        "daily = close.pct_change().dropna()\n",
        "daily = pd.DataFrame(daily).reset_index()\n",
        "daily.columns = ['date', 'ret']\n",
        "daily['month'] = daily.date.dt.to_period('M').astype(str)\n",
        "monthly = pd.DataFrame(daily.groupby('month').ret.std())\n",
        "monthly.columns = ['vol']\n",
        "monthly['ret'] = daily.groupby('month').ret.apply(lambda x: (1+x).prod() - 1)\n",
        "monthly['vol_lag'] = monthly.vol.shift()\n",
        "monthly = monthly.reset_index()\n",
        "\n",
        "monthly.head(10)"
      ],
      "metadata": {
        "pycharm": {
          "name": "#%%\n"
        },
        "id": "ZSLQJm81IEVs",
        "outputId": "2028cee2-d1e3-4f5d-96fa-8fc84e89d212"
      }
    },
    {
      "cell_type": "code",
      "execution_count": null,
      "outputs": [],
      "source": [
        ""
      ],
      "metadata": {
        "pycharm": {
          "name": "#%%\n"
        },
        "id": "_ik1kGVxIEVs"
      }
    }
  ],
  "metadata": {
    "kernelspec": {
      "display_name": "Python 3",
      "language": "python",
      "name": "python3"
    },
    "language_info": {
      "codemirror_mode": {
        "name": "ipython",
        "version": 2
      },
      "file_extension": ".py",
      "mimetype": "text/x-python",
      "name": "python",
      "nbconvert_exporter": "python",
      "pygments_lexer": "ipython2",
      "version": "2.7.6"
    },
    "colab": {
      "name": "volatilities.ipynb",
      "provenance": [],
      "include_colab_link": true
    }
  },
  "nbformat": 4,
  "nbformat_minor": 0
}