{
 "cells": [
  {
   "cell_type": "markdown",
   "metadata": {},
   "source": [
    "---\n",
    "\n",
    "Created for [learn-investments.rice-business.org](https://learn-investments.rice-business.org)\n",
    "    \n",
    "By [Kerry Back](https://kerryback.com) and [Kevin Crotty](https://kpcrotty.github.io/)\n",
    "    \n",
    "Jones Graduate School of Business, Rice University\n",
    "\n",
    "---\n"
   ]
  },
  {
   "attachments": {},
   "cell_type": "markdown",
   "metadata": {},
   "source": [
    "# U.S. STOCK MARKET RETURN"
   ]
  },
  {
   "cell_type": "code",
   "execution_count": null,
   "metadata": {},
   "outputs": [],
   "source": [
    "from pandas_datareader import DataReader as pdr\n",
    "\n",
    "mkt = pdr('F-F_Research_Data_Factors','famafrench',start=1926)[1]/100\n",
    "mkt = mkt['Mkt-RF'] + mkt.RF\n",
    "mkt.index.name = \"year\"\n",
    "mkt.name = \"market\"\n",
    "mkt.index = mkt.index.astype(str)\n",
    "mkt.tail()"
   ]
  },
  {
   "attachments": {},
   "cell_type": "markdown",
   "metadata": {},
   "source": [
    "# RETURNS FROM YAHOO FINANCE"
   ]
  },
  {
   "cell_type": "code",
   "execution_count": null,
   "metadata": {},
   "outputs": [],
   "source": [
    "import yfinance as yf\n",
    "\n",
    "ticker = input(\"Input a ticker\")\n",
    "price = yf.download(ticker, start=\"1970-01-01\")[\"Adj Close\"]\n",
    "price = price.resample(\"Y\").last()\n",
    "ser = price.pct_change()[:-1].dropna()\n",
    "ser.index = ser.index.map(lambda x: x.year)\n",
    "ser.index.name = \"year\"\n",
    "ser.name = ticker\n",
    "ser.tail()"
   ]
  },
  {
   "attachments": {},
   "cell_type": "markdown",
   "metadata": {},
   "source": [
    "# YAHOO RETURN OR MARKET"
   ]
  },
  {
   "cell_type": "code",
   "execution_count": null,
   "metadata": {},
   "outputs": [],
   "source": [
    "flag = int(input(\"input 0 for market or 1 for yahoo return\"))\n",
    "data = ser if flag else mkt\n",
    "name = f\"{ticker.upper()} Return\" if flag else \"Market Return\""
   ]
  },
  {
   "attachments": {},
   "cell_type": "markdown",
   "metadata": {},
   "source": [
    "# FIGURE 1"
   ]
  },
  {
   "cell_type": "code",
   "execution_count": null,
   "metadata": {
    "id": "tcmPMcyQtNIS"
   },
   "outputs": [],
   "source": [
    "import plotly.graph_objects as go\n",
    "\n",
    "trace = go.Scatter(\n",
    "    x=data.index.to_list(),\n",
    "    y=data, \n",
    "    mode=\"lines\", \n",
    "    hovertemplate=\"%{x}<br>%{y:.1%}\"\n",
    ")\n",
    "fig = go.Figure(trace)\n",
    "fig.update_layout(\n",
    "    xaxis_title=\"Year\",\n",
    "    yaxis_title=name,\n",
    "    yaxis_tickformat=\".0%\",\n",
    "    template=\"plotly_white\",  \n",
    ")\n",
    "fig.show()"
   ]
  },
  {
   "attachments": {},
   "cell_type": "markdown",
   "metadata": {},
   "source": [
    "# FIGURE 2"
   ]
  },
  {
   "cell_type": "code",
   "execution_count": null,
   "metadata": {},
   "outputs": [],
   "source": [
    "import numpy as np\n",
    "\n",
    "mean = data.mean()\n",
    "T = len(data)\n",
    "geomean = (1+data).prod()**(1/T) - 1\n",
    "\n",
    "trace1 = go.Scatter(\n",
    "    x=data.index.to_list(),\n",
    "    y=(1+data).cumprod(),\n",
    "    mode=\"lines\",\n",
    "    name=\"Actual Accumulation\",\n",
    "    hovertemplate=\"%{y:.2f}\"\n",
    ")\n",
    "trace2 = go.Scatter(\n",
    "    x=data.index.to_list(),\n",
    "    y=(1+mean)**np.arange(1, T+1),\n",
    "    mode=\"lines\",\n",
    "    name=\"Compounded Arithmetic Avg\",\n",
    "    hovertemplate=\"%{y:.2f}\"\n",
    ")\n",
    "trace3 = go.Scatter(\n",
    "    x=data.index.to_list(),\n",
    "    y=(1+geomean)**np.arange(1, T+1),\n",
    "    mode=\"lines\",\n",
    "    name=\"Compounded Geometric Avg\",\n",
    "    hovertemplate=\"%{y:.2f}\"\n",
    ")\n",
    "\n",
    "fig = go.Figure()\n",
    "for trace in (trace1, trace2, trace3):\n",
    "    fig.add_trace(trace)\n",
    "fig.update_layout(\n",
    "    xaxis_title=\"Year\",\n",
    "    hovermode=\"x unified\",\n",
    "    legend=dict(\n",
    "        yanchor=\"top\",\n",
    "        y=0.99,\n",
    "        xanchor=\"left\",\n",
    "        x=0.01,\n",
    "    ),\n",
    "    template=\"plotly_white\"\n",
    ")\n",
    "fig.show()"
   ]
  }
 ],
 "metadata": {
  "colab": {
   "collapsed_sections": [],
   "include_colab_link": true,
   "name": "geometric average returns.ipynb",
   "provenance": []
  },
  "kernelspec": {
   "display_name": "Python 3",
   "name": "python3"
  },
  "language_info": {
   "codemirror_mode": {
    "name": "ipython",
    "version": 3
   },
   "file_extension": ".py",
   "mimetype": "text/x-python",
   "name": "python",
   "nbconvert_exporter": "python",
   "pygments_lexer": "ipython3",
   "version": "3.10.7"
  }
 },
 "nbformat": 4,
 "nbformat_minor": 0
}