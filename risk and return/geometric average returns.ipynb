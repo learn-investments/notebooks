{
  "cells": [
    {
      "cell_type": "markdown",
      "metadata": {
        "id": "view-in-github",
        "colab_type": "text"
      },
      "source": [
        "<a href=\"https://colab.research.google.com/github/bbcx-investments/notebooks/blob/main/risk/geometric.ipynb\" target=\"_parent\"><img src=\"https://colab.research.google.com/assets/colab-badge.svg\" alt=\"Open In Colab\"/></a>"
      ]
    },
    {
      "cell_type": "code",
      "execution_count": null,
      "outputs": [
        {
          "data": {
            "text/plain": "    date     ret\n0   1927  0.3259\n1   1928  0.3895\n2   1929 -0.1479\n3   1930 -0.2882\n4   1931 -0.4404\n..   ...     ...\n90  2017  0.2231\n91  2018 -0.0512\n92  2019  0.3043\n93  2020  0.2411\n94  2021  0.2360\n\n[95 rows x 2 columns]",
            "text/html": "<div>\n<style scoped>\n    .dataframe tbody tr th:only-of-type {\n        vertical-align: middle;\n    }\n\n    .dataframe tbody tr th {\n        vertical-align: top;\n    }\n\n    .dataframe thead th {\n        text-align: right;\n    }\n</style>\n<table border=\"1\" class=\"dataframe\">\n  <thead>\n    <tr style=\"text-align: right;\">\n      <th></th>\n      <th>date</th>\n      <th>ret</th>\n    </tr>\n  </thead>\n  <tbody>\n    <tr>\n      <th>0</th>\n      <td>1927</td>\n      <td>0.3259</td>\n    </tr>\n    <tr>\n      <th>1</th>\n      <td>1928</td>\n      <td>0.3895</td>\n    </tr>\n    <tr>\n      <th>2</th>\n      <td>1929</td>\n      <td>-0.1479</td>\n    </tr>\n    <tr>\n      <th>3</th>\n      <td>1930</td>\n      <td>-0.2882</td>\n    </tr>\n    <tr>\n      <th>4</th>\n      <td>1931</td>\n      <td>-0.4404</td>\n    </tr>\n    <tr>\n      <th>...</th>\n      <td>...</td>\n      <td>...</td>\n    </tr>\n    <tr>\n      <th>90</th>\n      <td>2017</td>\n      <td>0.2231</td>\n    </tr>\n    <tr>\n      <th>91</th>\n      <td>2018</td>\n      <td>-0.0512</td>\n    </tr>\n    <tr>\n      <th>92</th>\n      <td>2019</td>\n      <td>0.3043</td>\n    </tr>\n    <tr>\n      <th>93</th>\n      <td>2020</td>\n      <td>0.2411</td>\n    </tr>\n    <tr>\n      <th>94</th>\n      <td>2021</td>\n      <td>0.2360</td>\n    </tr>\n  </tbody>\n</table>\n<p>95 rows × 2 columns</p>\n</div>"
          },
          "execution_count": 2,
          "metadata": {},
          "output_type": "execute_result"
        }
      ],
      "source": [
        "import pandas as pd\n",
        "import numpy as np\n",
        "from pandas_datareader import DataReader as pdr\n",
        "\n",
        "\n",
        "# get market return data\n",
        "df = pdr('F-F_Research_Data_Factors','famafrench', start=1900)[1]/100\n",
        "\n",
        "mkt = df[\"Mkt-RF\"] + df.RF\n",
        "mkt = pd.DataFrame(mkt).reset_index()\n",
        "mkt.columns = ['date', 'ret']\n",
        "mkt.date = mkt.date.astype(str).astype(int)\n",
        "\n",
        "mkt"
      ],
      "metadata": {
        "pycharm": {
          "name": "#%%\n"
        },
        "id": "ILVg6MdYGlEC",
        "outputId": "cda5deaa-accf-4963-8d23-cbfc5593fd4c"
      }
    },
    {
      "cell_type": "code",
      "execution_count": null,
      "outputs": [
        {
          "data": {
            "text/plain": "    date       ret\n0   1971  0.106523\n1   1972  0.453690\n2   1973 -0.090197\n3   1974 -0.316027\n4   1975  0.417093\n5   1976  0.481890\n6   1977 -0.051829\n7   1978  0.205788\n8   1979  0.202667\n9   1980  0.764966\n10  1981 -0.138191\n11  1982 -0.253645\n12  1983  0.082031\n13  1984 -0.048961\n14  1985  0.303273\n15  1986  0.266333\n16  1987 -0.086547\n17  1988  0.220033\n18  1989  0.557836\n19  1990  0.118068\n20  1991 -0.006590\n21  1992  0.056948\n22  1993  0.306285\n23  1994  0.067977\n24  1995  0.221604\n25  1996  0.285148\n26  1997  0.221478\n27  1998  0.110188\n28  1999  0.073543\n29  2000  0.005439\n30  2001  0.092801\n31  2002 -0.230911\n32  2003  0.353668\n33  2004  0.255410\n34  2005  0.115426\n35  2006  0.337025\n36  2007  0.305500\n37  2008 -0.183293\n38  2009  0.080610\n39  2010  0.229461\n40  2011  0.202801\n41  2012  0.050614\n42  2013  0.193086\n43  2014 -0.069889\n44  2015 -0.161706\n45  2016  0.366614\n46  2017  0.105896\n47  2018 -0.097474\n48  2019  0.152737\n49  2020 -0.259521\n50  2021  0.462413\n51  2022  0.393520",
            "text/html": "<div>\n<style scoped>\n    .dataframe tbody tr th:only-of-type {\n        vertical-align: middle;\n    }\n\n    .dataframe tbody tr th {\n        vertical-align: top;\n    }\n\n    .dataframe thead th {\n        text-align: right;\n    }\n</style>\n<table border=\"1\" class=\"dataframe\">\n  <thead>\n    <tr style=\"text-align: right;\">\n      <th></th>\n      <th>date</th>\n      <th>ret</th>\n    </tr>\n  </thead>\n  <tbody>\n    <tr>\n      <th>0</th>\n      <td>1971</td>\n      <td>0.106523</td>\n    </tr>\n    <tr>\n      <th>1</th>\n      <td>1972</td>\n      <td>0.453690</td>\n    </tr>\n    <tr>\n      <th>2</th>\n      <td>1973</td>\n      <td>-0.090197</td>\n    </tr>\n    <tr>\n      <th>3</th>\n      <td>1974</td>\n      <td>-0.316027</td>\n    </tr>\n    <tr>\n      <th>4</th>\n      <td>1975</td>\n      <td>0.417093</td>\n    </tr>\n    <tr>\n      <th>5</th>\n      <td>1976</td>\n      <td>0.481890</td>\n    </tr>\n    <tr>\n      <th>6</th>\n      <td>1977</td>\n      <td>-0.051829</td>\n    </tr>\n    <tr>\n      <th>7</th>\n      <td>1978</td>\n      <td>0.205788</td>\n    </tr>\n    <tr>\n      <th>8</th>\n      <td>1979</td>\n      <td>0.202667</td>\n    </tr>\n    <tr>\n      <th>9</th>\n      <td>1980</td>\n      <td>0.764966</td>\n    </tr>\n    <tr>\n      <th>10</th>\n      <td>1981</td>\n      <td>-0.138191</td>\n    </tr>\n    <tr>\n      <th>11</th>\n      <td>1982</td>\n      <td>-0.253645</td>\n    </tr>\n    <tr>\n      <th>12</th>\n      <td>1983</td>\n      <td>0.082031</td>\n    </tr>\n    <tr>\n      <th>13</th>\n      <td>1984</td>\n      <td>-0.048961</td>\n    </tr>\n    <tr>\n      <th>14</th>\n      <td>1985</td>\n      <td>0.303273</td>\n    </tr>\n    <tr>\n      <th>15</th>\n      <td>1986</td>\n      <td>0.266333</td>\n    </tr>\n    <tr>\n      <th>16</th>\n      <td>1987</td>\n      <td>-0.086547</td>\n    </tr>\n    <tr>\n      <th>17</th>\n      <td>1988</td>\n      <td>0.220033</td>\n    </tr>\n    <tr>\n      <th>18</th>\n      <td>1989</td>\n      <td>0.557836</td>\n    </tr>\n    <tr>\n      <th>19</th>\n      <td>1990</td>\n      <td>0.118068</td>\n    </tr>\n    <tr>\n      <th>20</th>\n      <td>1991</td>\n      <td>-0.006590</td>\n    </tr>\n    <tr>\n      <th>21</th>\n      <td>1992</td>\n      <td>0.056948</td>\n    </tr>\n    <tr>\n      <th>22</th>\n      <td>1993</td>\n      <td>0.306285</td>\n    </tr>\n    <tr>\n      <th>23</th>\n      <td>1994</td>\n      <td>0.067977</td>\n    </tr>\n    <tr>\n      <th>24</th>\n      <td>1995</td>\n      <td>0.221604</td>\n    </tr>\n    <tr>\n      <th>25</th>\n      <td>1996</td>\n      <td>0.285148</td>\n    </tr>\n    <tr>\n      <th>26</th>\n      <td>1997</td>\n      <td>0.221478</td>\n    </tr>\n    <tr>\n      <th>27</th>\n      <td>1998</td>\n      <td>0.110188</td>\n    </tr>\n    <tr>\n      <th>28</th>\n      <td>1999</td>\n      <td>0.073543</td>\n    </tr>\n    <tr>\n      <th>29</th>\n      <td>2000</td>\n      <td>0.005439</td>\n    </tr>\n    <tr>\n      <th>30</th>\n      <td>2001</td>\n      <td>0.092801</td>\n    </tr>\n    <tr>\n      <th>31</th>\n      <td>2002</td>\n      <td>-0.230911</td>\n    </tr>\n    <tr>\n      <th>32</th>\n      <td>2003</td>\n      <td>0.353668</td>\n    </tr>\n    <tr>\n      <th>33</th>\n      <td>2004</td>\n      <td>0.255410</td>\n    </tr>\n    <tr>\n      <th>34</th>\n      <td>2005</td>\n      <td>0.115426</td>\n    </tr>\n    <tr>\n      <th>35</th>\n      <td>2006</td>\n      <td>0.337025</td>\n    </tr>\n    <tr>\n      <th>36</th>\n      <td>2007</td>\n      <td>0.305500</td>\n    </tr>\n    <tr>\n      <th>37</th>\n      <td>2008</td>\n      <td>-0.183293</td>\n    </tr>\n    <tr>\n      <th>38</th>\n      <td>2009</td>\n      <td>0.080610</td>\n    </tr>\n    <tr>\n      <th>39</th>\n      <td>2010</td>\n      <td>0.229461</td>\n    </tr>\n    <tr>\n      <th>40</th>\n      <td>2011</td>\n      <td>0.202801</td>\n    </tr>\n    <tr>\n      <th>41</th>\n      <td>2012</td>\n      <td>0.050614</td>\n    </tr>\n    <tr>\n      <th>42</th>\n      <td>2013</td>\n      <td>0.193086</td>\n    </tr>\n    <tr>\n      <th>43</th>\n      <td>2014</td>\n      <td>-0.069889</td>\n    </tr>\n    <tr>\n      <th>44</th>\n      <td>2015</td>\n      <td>-0.161706</td>\n    </tr>\n    <tr>\n      <th>45</th>\n      <td>2016</td>\n      <td>0.366614</td>\n    </tr>\n    <tr>\n      <th>46</th>\n      <td>2017</td>\n      <td>0.105896</td>\n    </tr>\n    <tr>\n      <th>47</th>\n      <td>2018</td>\n      <td>-0.097474</td>\n    </tr>\n    <tr>\n      <th>48</th>\n      <td>2019</td>\n      <td>0.152737</td>\n    </tr>\n    <tr>\n      <th>49</th>\n      <td>2020</td>\n      <td>-0.259521</td>\n    </tr>\n    <tr>\n      <th>50</th>\n      <td>2021</td>\n      <td>0.462413</td>\n    </tr>\n    <tr>\n      <th>51</th>\n      <td>2022</td>\n      <td>0.393520</td>\n    </tr>\n  </tbody>\n</table>\n</div>"
          },
          "execution_count": 3,
          "metadata": {},
          "output_type": "execute_result"
        }
      ],
      "source": [
        "# get stock return data\n",
        "tick = 'CVX'        # example stock\n",
        "close = pdr(tick, \"yahoo\", start=1970)[\"Adj Close\"]\n",
        "annual = close.resample('Y').last().pct_change().dropna().reset_index()\n",
        "annual.columns = ['date', 'ret']\n",
        "annual.date = annual.date.dt.to_period('Y').astype(str).astype(int)\n",
        "\n",
        "annual"
      ],
      "metadata": {
        "pycharm": {
          "name": "#%%\n"
        },
        "id": "5vrBPA0jGlEF",
        "outputId": "7b1cd1d1-6ebb-4c9f-b941-6ce3689f197a"
      }
    },
    {
      "cell_type": "code",
      "execution_count": null,
      "outputs": [
        {
          "name": "stdout",
          "output_type": "stream",
          "text": [
            "The arithmetic average of the annual market return from 1950 to 2022 is  0.13057638888888887.\n",
            "The geometric average of the annual market return from 1950 to 2022 is  0.1163491792071425.\n"
          ]
        }
      ],
      "source": [
        "# use market return from 1950 to 2022 as an example\n",
        "\n",
        "ret = mkt[(mkt.date >= 1950) & (mkt.date <= 2022)].copy()\n",
        "\n",
        "\n",
        "T = ret.shape[0]            # number of periods\n",
        "arith = ret.ret.mean()\n",
        "geom = (1 + ret.ret).prod() ** (1 / T) - 1\n",
        "print('The arithmetic average of the annual market return from 1950 to 2022 is ', arith, end='.\\n')\n",
        "print('The geometric average of the annual market return from 1950 to 2022 is ', geom, end='.\\n')"
      ],
      "metadata": {
        "pycharm": {
          "name": "#%%\n"
        },
        "id": "fHaNrLCfGlEG",
        "outputId": "0f104198-e7e3-438b-e440-4782cc25f78d"
      }
    },
    {
      "cell_type": "code",
      "execution_count": null,
      "outputs": [],
      "source": [
        ""
      ],
      "metadata": {
        "pycharm": {
          "name": "#%%\n"
        },
        "id": "TCBZIQ_IGlEH"
      }
    }
  ],
  "metadata": {
    "kernelspec": {
      "display_name": "Python 3",
      "language": "python",
      "name": "python3"
    },
    "language_info": {
      "codemirror_mode": {
        "name": "ipython",
        "version": 2
      },
      "file_extension": ".py",
      "mimetype": "text/x-python",
      "name": "python",
      "nbconvert_exporter": "python",
      "pygments_lexer": "ipython2",
      "version": "2.7.6"
    },
    "colab": {
      "name": "geometric.ipynb",
      "provenance": [],
      "include_colab_link": true
    }
  },
  "nbformat": 4,
  "nbformat_minor": 0
}