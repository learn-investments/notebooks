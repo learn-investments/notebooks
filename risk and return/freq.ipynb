{
  "cells": [
    {
      "cell_type": "code",
      "execution_count": 6,
      "metadata": {},
      "outputs": [],
      "source": [
        "import numpy as np\n",
        "import pandas as pd\n",
        "from pandas_datareader import DataReader as pdr\n",
        "import yfinance as yf\n",
        "import plotly.express as px\n",
        "import plotly.graph_objects as go"
      ]
    },
    {
      "attachments": {},
      "cell_type": "markdown",
      "metadata": {},
      "source": [
        "# U.S. STOCK MARKET RETURN"
      ]
    },
    {
      "cell_type": "markdown",
      "metadata": {},
      "source": [
        "## ANNUAL"
      ]
    },
    {
      "cell_type": "code",
      "execution_count": 7,
      "metadata": {},
      "outputs": [
        {
          "data": {
            "text/plain": [
              "year\n",
              "2018   -0.0512\n",
              "2019    0.3043\n",
              "2020    0.2411\n",
              "2021    0.2360\n",
              "2022   -0.2017\n",
              "Name: market annual, dtype: float64"
            ]
          },
          "execution_count": 7,
          "metadata": {},
          "output_type": "execute_result"
        }
      ],
      "source": [
        "mkt_annual = pdr('F-F_Research_Data_Factors','famafrench',start=1926)[1]/100\n",
        "mkt_annual = mkt_annual['Mkt-RF'] + mkt_annual.RF\n",
        "mkt_annual.index.name = \"year\"\n",
        "mkt_annual.name = \"market annual\"\n",
        "mkt_annual.index = mkt_annual.index.astype(str)\n",
        "mkt_annual.tail()"
      ]
    },
    {
      "attachments": {},
      "cell_type": "markdown",
      "metadata": {},
      "source": [
        "## MONTHLY"
      ]
    },
    {
      "cell_type": "code",
      "execution_count": 8,
      "metadata": {},
      "outputs": [
        {
          "data": {
            "text/plain": [
              "Date\n",
              "2022-12   -0.0608\n",
              "2023-01    0.0700\n",
              "2023-02   -0.0224\n",
              "2023-03    0.0287\n",
              "2023-04    0.0096\n",
              "Name: market monthly, dtype: float64"
            ]
          },
          "execution_count": 8,
          "metadata": {},
          "output_type": "execute_result"
        }
      ],
      "source": [
        "mkt_monthly = pdr('F-F_Research_Data_Factors','famafrench',start=1926)[0]/100\n",
        "mkt_monthly = mkt_monthly['Mkt-RF'] + mkt_monthly.RF\n",
        "mkt_annual.index.name = \"month\"\n",
        "mkt_monthly.name = \"market monthly\"\n",
        "mkt_monthly.index = mkt_monthly.index.astype(str)\n",
        "mkt_monthly.tail()"
      ]
    },
    {
      "attachments": {},
      "cell_type": "markdown",
      "metadata": {},
      "source": [
        "## DAILY"
      ]
    },
    {
      "cell_type": "code",
      "execution_count": 9,
      "metadata": {},
      "outputs": [
        {
          "data": {
            "text/plain": [
              "day\n",
              "2023-04-24    0.00018\n",
              "2023-04-25   -0.01742\n",
              "2023-04-26   -0.00392\n",
              "2023-04-27    0.01868\n",
              "2023-04-28    0.00788\n",
              "Name: market daily, dtype: float64"
            ]
          },
          "execution_count": 9,
          "metadata": {},
          "output_type": "execute_result"
        }
      ],
      "source": [
        "mkt_daily = pdr('F-F_Research_Data_Factors_Daily','famafrench',start=1926)[0]/100\n",
        "mkt_daily = mkt_daily['Mkt-RF'] + mkt_daily.RF\n",
        "mkt_daily.index.name = \"day\"\n",
        "mkt_daily.name = \"market daily\"\n",
        "mkt_daily.index = mkt_daily.index.astype(str)\n",
        "mkt_daily.tail()"
      ]
    },
    {
      "attachments": {},
      "cell_type": "markdown",
      "metadata": {},
      "source": [
        "# RETURNS FROM YAHOO FINANCE"
      ]
    },
    {
      "cell_type": "code",
      "execution_count": 10,
      "metadata": {},
      "outputs": [
        {
          "name": "stdout",
          "output_type": "stream",
          "text": [
            "[*********************100%***********************]  1 of 1 completed\n"
          ]
        }
      ],
      "source": [
        "ticker = input(\"Input a ticker\")\n",
        "price = yf.download(ticker, start=\"1970-01-01\")[\"Adj Close\"]"
      ]
    },
    {
      "attachments": {},
      "cell_type": "markdown",
      "metadata": {},
      "source": [
        "## ANNUAL"
      ]
    },
    {
      "cell_type": "code",
      "execution_count": 11,
      "metadata": {},
      "outputs": [
        {
          "data": {
            "text/plain": [
              "year\n",
              "2018   -0.053902\n",
              "2019    0.889578\n",
              "2020    0.823067\n",
              "2021    0.346482\n",
              "2022   -0.264042\n",
              "Name: aapl annual, dtype: float64"
            ]
          },
          "execution_count": 11,
          "metadata": {},
          "output_type": "execute_result"
        }
      ],
      "source": [
        "price_annual = price.resample(\"Y\").last()\n",
        "ret_annual = price_annual.pct_change()[:-1]\n",
        "ret_annual.index = ret_annual.index.map(lambda x: x.year)\n",
        "ret_annual.index.name = \"year\"\n",
        "ret_annual.name = ticker + \" annual\"\n",
        "ret_annual.tail()"
      ]
    },
    {
      "attachments": {},
      "cell_type": "markdown",
      "metadata": {},
      "source": [
        "## MONTHLY"
      ]
    },
    {
      "cell_type": "code",
      "execution_count": 15,
      "metadata": {},
      "outputs": [
        {
          "name": "stderr",
          "output_type": "stream",
          "text": [
            "C:\\Users\\kerry\\AppData\\Local\\Temp\\ipykernel_28000\\3697967823.py:3: UserWarning: Converting to PeriodArray/Index representation will drop timezone information.\n",
            "  ret_monthly.index = ret_monthly.index.to_period(\"M\").astype(str)\n"
          ]
        },
        {
          "data": {
            "text/plain": [
              "month\n",
              "2023-01    0.110521\n",
              "2023-02    0.023183\n",
              "2023-03    0.118649\n",
              "2023-04    0.028987\n",
              "2023-05    0.046058\n",
              "Name: aapl monthly, dtype: float64"
            ]
          },
          "execution_count": 15,
          "metadata": {},
          "output_type": "execute_result"
        }
      ],
      "source": [
        "price_monthly = price.resample(\"M\").last()\n",
        "ret_monthly = price_monthly.pct_change()[:-1]\n",
        "ret_monthly.index = ret_monthly.index.to_period(\"M\").astype(str)\n",
        "ret_monthly.index.name = \"month\"\n",
        "ret_monthly.name = ticker + \" monthly\"\n",
        "ret_monthly.tail()"
      ]
    },
    {
      "attachments": {},
      "cell_type": "markdown",
      "metadata": {},
      "source": [
        "## DAILY"
      ]
    },
    {
      "cell_type": "code",
      "execution_count": 17,
      "metadata": {},
      "outputs": [
        {
          "name": "stderr",
          "output_type": "stream",
          "text": [
            "C:\\Users\\kerry\\AppData\\Local\\Temp\\ipykernel_28000\\1185978493.py:2: UserWarning: Converting to PeriodArray/Index representation will drop timezone information.\n",
            "  ret_daily.index = ret_daily.index.to_period(\"D\").astype(str)\n"
          ]
        },
        {
          "data": {
            "text/plain": [
              "day\n",
              "2023-05-25    0.006692\n",
              "2023-05-26    0.014105\n",
              "2023-05-30    0.010660\n",
              "2023-05-31   -0.000282\n",
              "2023-06-01    0.016023\n",
              "Name: aapl daily, dtype: float64"
            ]
          },
          "execution_count": 17,
          "metadata": {},
          "output_type": "execute_result"
        }
      ],
      "source": [
        "ret_daily = price.pct_change()\n",
        "ret_daily.index = ret_daily.index.to_period(\"D\").astype(str)\n",
        "ret_daily.index.name = \"day\"\n",
        "ret_daily.name = ticker + \" daily\"\n",
        "ret_daily.tail()"
      ]
    },
    {
      "attachments": {},
      "cell_type": "markdown",
      "metadata": {},
      "source": [
        "# SELECT YAHOO RETURN OR MARKET"
      ]
    },
    {
      "cell_type": "code",
      "execution_count": 20,
      "metadata": {},
      "outputs": [],
      "source": [
        "flag = input(\"input 0 for market or 1 for yahoo return\")\n",
        "flag = \"mkt\" if flag==\"0\" else \"ret\" \n",
        "df_annual = eval(flag + \"_annual\")\n",
        "df_monthly = eval(flag + \"_monthly\")\n",
        "df_daily = eval(flag + \"_daily\")"
      ]
    },
    {
      "attachments": {},
      "cell_type": "markdown",
      "metadata": {},
      "source": [
        "# TABLE"
      ]
    },
    {
      "cell_type": "code",
      "execution_count": 21,
      "metadata": {},
      "outputs": [
        {
          "data": {
            "text/html": [
              "<div>\n",
              "<style scoped>\n",
              "    .dataframe tbody tr th:only-of-type {\n",
              "        vertical-align: middle;\n",
              "    }\n",
              "\n",
              "    .dataframe tbody tr th {\n",
              "        vertical-align: top;\n",
              "    }\n",
              "\n",
              "    .dataframe thead th {\n",
              "        text-align: right;\n",
              "    }\n",
              "</style>\n",
              "<table border=\"1\" class=\"dataframe\">\n",
              "  <thead>\n",
              "    <tr style=\"text-align: right;\">\n",
              "      <th></th>\n",
              "      <th>market daily</th>\n",
              "      <th>market annual</th>\n",
              "      <th>market monthly</th>\n",
              "    </tr>\n",
              "  </thead>\n",
              "  <tbody>\n",
              "    <tr>\n",
              "      <th>count</th>\n",
              "      <td>25480.000000</td>\n",
              "      <td>96.000000</td>\n",
              "      <td>1162.000000</td>\n",
              "    </tr>\n",
              "    <tr>\n",
              "      <th>mean</th>\n",
              "      <td>0.000420</td>\n",
              "      <td>0.118357</td>\n",
              "      <td>0.009382</td>\n",
              "    </tr>\n",
              "    <tr>\n",
              "      <th>std</th>\n",
              "      <td>0.010825</td>\n",
              "      <td>0.200615</td>\n",
              "      <td>0.053373</td>\n",
              "    </tr>\n",
              "    <tr>\n",
              "      <th>min</th>\n",
              "      <td>-0.174130</td>\n",
              "      <td>-0.440400</td>\n",
              "      <td>-0.291000</td>\n",
              "    </tr>\n",
              "    <tr>\n",
              "      <th>10%</th>\n",
              "      <td>-0.010300</td>\n",
              "      <td>-0.115450</td>\n",
              "      <td>-0.051560</td>\n",
              "    </tr>\n",
              "    <tr>\n",
              "      <th>25%</th>\n",
              "      <td>-0.003893</td>\n",
              "      <td>-0.000275</td>\n",
              "      <td>-0.017800</td>\n",
              "    </tr>\n",
              "    <tr>\n",
              "      <th>50%</th>\n",
              "      <td>0.000750</td>\n",
              "      <td>0.149250</td>\n",
              "      <td>0.012850</td>\n",
              "    </tr>\n",
              "    <tr>\n",
              "      <th>75%</th>\n",
              "      <td>0.005100</td>\n",
              "      <td>0.269525</td>\n",
              "      <td>0.039525</td>\n",
              "    </tr>\n",
              "    <tr>\n",
              "      <th>90%</th>\n",
              "      <td>0.010600</td>\n",
              "      <td>0.340750</td>\n",
              "      <td>0.062270</td>\n",
              "    </tr>\n",
              "    <tr>\n",
              "      <th>max</th>\n",
              "      <td>0.157620</td>\n",
              "      <td>0.573500</td>\n",
              "      <td>0.389500</td>\n",
              "    </tr>\n",
              "  </tbody>\n",
              "</table>\n",
              "</div>"
            ],
            "text/plain": [
              "       market daily  market annual  market monthly\n",
              "count  25480.000000      96.000000     1162.000000\n",
              "mean       0.000420       0.118357        0.009382\n",
              "std        0.010825       0.200615        0.053373\n",
              "min       -0.174130      -0.440400       -0.291000\n",
              "10%       -0.010300      -0.115450       -0.051560\n",
              "25%       -0.003893      -0.000275       -0.017800\n",
              "50%        0.000750       0.149250        0.012850\n",
              "75%        0.005100       0.269525        0.039525\n",
              "90%        0.010600       0.340750        0.062270\n",
              "max        0.157620       0.573500        0.389500"
            ]
          },
          "execution_count": 21,
          "metadata": {},
          "output_type": "execute_result"
        }
      ],
      "source": [
        "annual = df_annual.describe(percentiles=(0.1, 0.25, 0.5, 0.75, 0.9))\n",
        "monthly = df_monthly.describe(percentiles=(0.1, 0.25, 0.5, 0.75, 0.9))\n",
        "daily = df_daily.describe(percentiles=(0.1, 0.25, 0.5, 0.75, 0.9))\n",
        "table = pd.concat((daily, annual, monthly), axis=1)\n",
        "table"
      ]
    },
    {
      "attachments": {},
      "cell_type": "markdown",
      "metadata": {},
      "source": [
        "# FIGURE 1"
      ]
    },
    {
      "cell_type": "code",
      "execution_count": null,
      "metadata": {
        "id": "tcmPMcyQtNIS"
      },
      "outputs": [],
      "source": [
        "trace = go.Scatter(\n",
        "    x=data.index.to_list(),\n",
        "    y=data,\n",
        "    hovertemplate=\"%{x}<br>return = %{y:.1%}\",\n",
        "    mode=\"lines+markers\"\n",
        ")\n",
        "fig = go.Figure(trace)\n",
        "fig.update_layout(\n",
        "    xaxis_title=\"Year\",\n",
        "    yaxis_title=name,\n",
        "    template=\"plotly_white\"\n",
        ")\n",
        "fig.show()"
      ]
    },
    {
      "attachments": {},
      "cell_type": "markdown",
      "metadata": {},
      "source": [
        "# FIGURE 2"
      ]
    },
    {
      "cell_type": "code",
      "execution_count": null,
      "metadata": {},
      "outputs": [],
      "source": [
        "trace = go.Box(\n",
        "    x=data,\n",
        "    hovertemplate=\"%{x}<extra></extra>\", \n",
        "    name=\"\"\n",
        ")\n",
        "fig = go.Figure(trace)\n",
        "fig.update_layout(\n",
        "    yaxis_title=\"\",\n",
        "    xaxis_title=name,\n",
        "    xaxis_tickformat=\".0%\",\n",
        "    template=\"plotly_white\",\n",
        ")\n",
        "fig.show()"
      ]
    },
    {
      "attachments": {},
      "cell_type": "markdown",
      "metadata": {},
      "source": [
        "# FIGURE 3"
      ]
    },
    {
      "cell_type": "code",
      "execution_count": null,
      "metadata": {},
      "outputs": [],
      "source": [
        "trace = go.Histogram(\n",
        "    x=data,\n",
        "    hovertemplate=\"%{x}<extra></extra>\", \n",
        "    name=\"\"\n",
        ")\n",
        "fig = go.Figure(trace)\n",
        "fig.update_layout(\n",
        "    xaxis_title=name,\n",
        "    xaxis_tickformat=\".0%\",\n",
        "    template=\"plotly_white\",\n",
        ")\n",
        "fig.show()"
      ]
    },
    {
      "attachments": {},
      "cell_type": "markdown",
      "metadata": {},
      "source": [
        "# FIGURE 4"
      ]
    },
    {
      "cell_type": "code",
      "execution_count": null,
      "metadata": {},
      "outputs": [],
      "source": [
        "trace = go.Scatter(\n",
        "    x = data.index.to_list(),\n",
        "    y=(1+data).cumprod(),\n",
        "    hovertemplate=\"%{x}<br>accumulation = $%{y:.2f}<extra></extra>\",\n",
        "    mode=\"lines\",\n",
        ")\n",
        "fig = go.Figure(trace)\n",
        "fig.update_layout(\n",
        "    xaxis_title=\"Year\",\n",
        "    yaxis_title=name.split()[0] + \" Cumulative Return\",\n",
        "    yaxis_tickformat=\":.2f\",\n",
        "    template=\"plotly_white\"\n",
        ")\n",
        "fig.show()\n"
      ]
    },
    {
      "attachments": {},
      "cell_type": "markdown",
      "metadata": {},
      "source": [
        "# FIGURE 5"
      ]
    },
    {
      "cell_type": "code",
      "execution_count": null,
      "metadata": {},
      "outputs": [],
      "source": [
        "trace = go.Scatter(\n",
        "    x = data.index.to_list(),\n",
        "    y=(1+data).cumprod(),\n",
        "    hovertemplate=\"%{x}<br>accumulation = $%{y:.2f}<extra></extra>\",\n",
        ")\n",
        "fig = go.Figure(trace)\n",
        "fig.update_layout(\n",
        "    yaxis_type=\"log\",\n",
        "    xaxis_title=\"Year\",\n",
        "    yaxis_title=name.split()[0] + \" Cumulative Return\",\n",
        "    template=\"plotly_white\"\n",
        ")\n",
        "fig.show()"
      ]
    }
  ],
  "metadata": {
    "colab": {
      "collapsed_sections": [],
      "include_colab_link": true,
      "name": "returns.ipynb",
      "provenance": []
    },
    "kernelspec": {
      "display_name": "Python 3",
      "name": "python3"
    },
    "language_info": {
      "codemirror_mode": {
        "name": "ipython",
        "version": 3
      },
      "file_extension": ".py",
      "mimetype": "text/x-python",
      "name": "python",
      "nbconvert_exporter": "python",
      "pygments_lexer": "ipython3",
      "version": "3.10.8"
    }
  },
  "nbformat": 4,
  "nbformat_minor": 0
}
