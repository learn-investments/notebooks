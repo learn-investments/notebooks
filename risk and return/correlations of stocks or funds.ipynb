{
  "cells": [
    {
      "cell_type": "markdown",
      "metadata": {
        "id": "view-in-github",
        "colab_type": "text"
      },
      "source": [
        "<a href=\"https://colab.research.google.com/github/bbcx-investments/notebooks/blob/main/risk/correlations.ipynb\" target=\"_parent\"><img src=\"https://colab.research.google.com/assets/colab-badge.svg\" alt=\"Open In Colab\"/></a>"
      ]
    },
    {
      "cell_type": "code",
      "execution_count": null,
      "outputs": [
        {
          "name": "stderr",
          "output_type": "stream",
          "text": [
            "/Users/kailiao/PycharmProjects/appcode_draft/venv/lib/python3.8/site-packages/pandas/core/indexes/base.py:6982: FutureWarning: In a future version, the Index constructor will not infer numeric dtypes when passed object-dtype sequences (matching Series behavior)\n",
            "  return Index(sequences[0], name=names)\n"
          ]
        },
        {
          "data": {
            "text/plain": "      Inflation     SP500    TBills    TBonds  Corporates\nYear                                                     \n1947        NaN  0.052000  0.006008  0.009197    0.002621\n1948   0.027339  0.057046  0.010450  0.019510    0.034370\n1949  -0.018295  0.183032  0.011150  0.046635    0.053773\n1950   0.058026  0.308055  0.012033  0.004296    0.042388\n1951   0.059648  0.236785  0.015175 -0.002953   -0.001910\n...         ...       ...       ...       ...         ...\n2017   0.021299  0.216055  0.009308  0.028017    0.097239\n2018   0.019152 -0.042269  0.019392 -0.000167   -0.027626\n2019   0.022617  0.312117  0.015500  0.096356    0.153295\n2020   0.012782  0.180232  0.000900  0.113319    0.104115\n2021   0.070965  0.284689  0.000600 -0.044160    0.009334\n\n[75 rows x 5 columns]",
            "text/html": "<div>\n<style scoped>\n    .dataframe tbody tr th:only-of-type {\n        vertical-align: middle;\n    }\n\n    .dataframe tbody tr th {\n        vertical-align: top;\n    }\n\n    .dataframe thead th {\n        text-align: right;\n    }\n</style>\n<table border=\"1\" class=\"dataframe\">\n  <thead>\n    <tr style=\"text-align: right;\">\n      <th></th>\n      <th>Inflation</th>\n      <th>SP500</th>\n      <th>TBills</th>\n      <th>TBonds</th>\n      <th>Corporates</th>\n    </tr>\n    <tr>\n      <th>Year</th>\n      <th></th>\n      <th></th>\n      <th></th>\n      <th></th>\n      <th></th>\n    </tr>\n  </thead>\n  <tbody>\n    <tr>\n      <th>1947</th>\n      <td>NaN</td>\n      <td>0.052000</td>\n      <td>0.006008</td>\n      <td>0.009197</td>\n      <td>0.002621</td>\n    </tr>\n    <tr>\n      <th>1948</th>\n      <td>0.027339</td>\n      <td>0.057046</td>\n      <td>0.010450</td>\n      <td>0.019510</td>\n      <td>0.034370</td>\n    </tr>\n    <tr>\n      <th>1949</th>\n      <td>-0.018295</td>\n      <td>0.183032</td>\n      <td>0.011150</td>\n      <td>0.046635</td>\n      <td>0.053773</td>\n    </tr>\n    <tr>\n      <th>1950</th>\n      <td>0.058026</td>\n      <td>0.308055</td>\n      <td>0.012033</td>\n      <td>0.004296</td>\n      <td>0.042388</td>\n    </tr>\n    <tr>\n      <th>1951</th>\n      <td>0.059648</td>\n      <td>0.236785</td>\n      <td>0.015175</td>\n      <td>-0.002953</td>\n      <td>-0.001910</td>\n    </tr>\n    <tr>\n      <th>...</th>\n      <td>...</td>\n      <td>...</td>\n      <td>...</td>\n      <td>...</td>\n      <td>...</td>\n    </tr>\n    <tr>\n      <th>2017</th>\n      <td>0.021299</td>\n      <td>0.216055</td>\n      <td>0.009308</td>\n      <td>0.028017</td>\n      <td>0.097239</td>\n    </tr>\n    <tr>\n      <th>2018</th>\n      <td>0.019152</td>\n      <td>-0.042269</td>\n      <td>0.019392</td>\n      <td>-0.000167</td>\n      <td>-0.027626</td>\n    </tr>\n    <tr>\n      <th>2019</th>\n      <td>0.022617</td>\n      <td>0.312117</td>\n      <td>0.015500</td>\n      <td>0.096356</td>\n      <td>0.153295</td>\n    </tr>\n    <tr>\n      <th>2020</th>\n      <td>0.012782</td>\n      <td>0.180232</td>\n      <td>0.000900</td>\n      <td>0.113319</td>\n      <td>0.104115</td>\n    </tr>\n    <tr>\n      <th>2021</th>\n      <td>0.070965</td>\n      <td>0.284689</td>\n      <td>0.000600</td>\n      <td>-0.044160</td>\n      <td>0.009334</td>\n    </tr>\n  </tbody>\n</table>\n<p>75 rows × 5 columns</p>\n</div>"
          },
          "execution_count": 3,
          "metadata": {},
          "output_type": "execute_result"
        }
      ],
      "source": [
        "import pandas as pd\n",
        "from pandas_datareader import DataReader as pdr\n",
        "import ssl\n",
        "\n",
        "# Get return data from Aswath Damodoran\n",
        "ssl._create_default_https_context = ssl._create_unverified_context\n",
        "file = \"http://www.stern.nyu.edu/~adamodar/pc/datasets/histretSP.xls\"\n",
        "sheet = \"Returns by year\"\n",
        "df = pd.read_excel(file, sheet_name=sheet, skiprows=16, header=[0, 1])\n",
        "col1 = (\"Unnamed: 0_level_0\", \"Year\")\n",
        "indx = df[df[col1].isna()].index[0]\n",
        "df = df.iloc[:indx].set_index(col1)\n",
        "df.index.name = \"Year\"\n",
        "df = df[\"Annual Returns on Investments in\"]\n",
        "df = df[df.columns[:4]]\n",
        "df.columns = [\"SP500\", \"TBills\", \"TBonds\", \"Corporates\"]\n",
        "df.dtype = \"float\"\n",
        "df.index = [int(x) for x in df.index]\n",
        "df.reset_index(inplace=True)\n",
        "df = df.rename(columns={\"index\": \"Year\"})\n",
        "\n",
        "# Get inflation data from Federal Reserve Economic Data\n",
        "df_in = pdr(\"CPIAUCSL\", \"fred\", start=\"1929-12-01\")\n",
        "df_in = df_in.resample(\"Y\").last().iloc[:-1]\n",
        "df_in = df_in.pct_change().reset_index()\n",
        "df_in.columns = [\"Year\", \"Inflation\"]\n",
        "df_in[\"Year\"] = df_in.Year.map(lambda x: x.year)\n",
        "\n",
        "# Merge data\n",
        "df = df_in.merge(df, on=\"Year\")\n",
        "df = df.set_index('Year')\n",
        "\n",
        "df"
      ],
      "metadata": {
        "pycharm": {
          "name": "#%%\n"
        },
        "id": "PalOTV3rofYg",
        "outputId": "cb77a124-18dc-4222-8e1b-72bdf3701d46"
      }
    },
    {
      "cell_type": "code",
      "execution_count": null,
      "outputs": [
        {
          "data": {
            "text/plain": "            Inflation     SP500    TBills    TBonds  Corporates\nInflation    1.000000 -0.133546  0.658949 -0.122190   -0.161914\nSP500       -0.133546  1.000000 -0.081840 -0.067505    0.352723\nTBills       0.658949 -0.081840  1.000000  0.261221    0.151863\nTBonds      -0.122190 -0.067505  0.261221  1.000000    0.622999\nCorporates  -0.161914  0.352723  0.151863  0.622999    1.000000",
            "text/html": "<div>\n<style scoped>\n    .dataframe tbody tr th:only-of-type {\n        vertical-align: middle;\n    }\n\n    .dataframe tbody tr th {\n        vertical-align: top;\n    }\n\n    .dataframe thead th {\n        text-align: right;\n    }\n</style>\n<table border=\"1\" class=\"dataframe\">\n  <thead>\n    <tr style=\"text-align: right;\">\n      <th></th>\n      <th>Inflation</th>\n      <th>SP500</th>\n      <th>TBills</th>\n      <th>TBonds</th>\n      <th>Corporates</th>\n    </tr>\n  </thead>\n  <tbody>\n    <tr>\n      <th>Inflation</th>\n      <td>1.000000</td>\n      <td>-0.133546</td>\n      <td>0.658949</td>\n      <td>-0.122190</td>\n      <td>-0.161914</td>\n    </tr>\n    <tr>\n      <th>SP500</th>\n      <td>-0.133546</td>\n      <td>1.000000</td>\n      <td>-0.081840</td>\n      <td>-0.067505</td>\n      <td>0.352723</td>\n    </tr>\n    <tr>\n      <th>TBills</th>\n      <td>0.658949</td>\n      <td>-0.081840</td>\n      <td>1.000000</td>\n      <td>0.261221</td>\n      <td>0.151863</td>\n    </tr>\n    <tr>\n      <th>TBonds</th>\n      <td>-0.122190</td>\n      <td>-0.067505</td>\n      <td>0.261221</td>\n      <td>1.000000</td>\n      <td>0.622999</td>\n    </tr>\n    <tr>\n      <th>Corporates</th>\n      <td>-0.161914</td>\n      <td>0.352723</td>\n      <td>0.151863</td>\n      <td>0.622999</td>\n      <td>1.000000</td>\n    </tr>\n  </tbody>\n</table>\n</div>"
          },
          "execution_count": 4,
          "metadata": {},
          "output_type": "execute_result"
        }
      ],
      "source": [
        "df.corr()"
      ],
      "metadata": {
        "pycharm": {
          "name": "#%%\n"
        },
        "id": "IwFZKKeTofYn",
        "outputId": "dcdafc44-9a98-404c-ad11-3dda35f74277"
      }
    },
    {
      "cell_type": "code",
      "execution_count": null,
      "outputs": [],
      "source": [
        ""
      ],
      "metadata": {
        "pycharm": {
          "name": "#%%\n"
        },
        "id": "RISXMggEofYo"
      }
    }
  ],
  "metadata": {
    "kernelspec": {
      "display_name": "Python 3",
      "language": "python",
      "name": "python3"
    },
    "language_info": {
      "codemirror_mode": {
        "name": "ipython",
        "version": 2
      },
      "file_extension": ".py",
      "mimetype": "text/x-python",
      "name": "python",
      "nbconvert_exporter": "python",
      "pygments_lexer": "ipython2",
      "version": "2.7.6"
    },
    "colab": {
      "name": "correlations.ipynb",
      "provenance": [],
      "include_colab_link": true
    }
  },
  "nbformat": 4,
  "nbformat_minor": 0
}