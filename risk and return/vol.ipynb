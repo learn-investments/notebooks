{
 "cells": [
  {
   "cell_type": "code",
   "execution_count": 1,
   "metadata": {
    "pycharm": {
     "name": "#%%\n"
    }
   },
   "outputs": [],
   "source": [
    "import numpy as np\n",
    "import pandas as pd\n",
    "from pandas_datareader import DataReader as pdr\n",
    "import yfinance as yf\n",
    "import plotly.graph_objects as go\n",
    "import plotly.figure_factory as ff\n",
    "from scipy.stats import norm"
   ]
  },
  {
   "attachments": {},
   "cell_type": "markdown",
   "metadata": {
    "pycharm": {
     "name": "#%% md\n"
    }
   },
   "source": [
    "# U.S. STOCK MARKET RETURN"
   ]
  },
  {
   "attachments": {},
   "cell_type": "markdown",
   "metadata": {
    "pycharm": {
     "name": "#%% md\n"
    }
   },
   "source": [
    "## VOLATILITY"
   ]
  },
  {
   "cell_type": "code",
   "execution_count": 17,
   "metadata": {
    "pycharm": {
     "name": "#%%\n"
    }
   },
   "outputs": [
    {
     "data": {
      "text/plain": [
       "Date\n",
       "2022-11    0.018173\n",
       "2022-12    0.011684\n",
       "2023-01    0.010742\n",
       "2023-02    0.010208\n",
       "2023-03    0.011875\n",
       "Name: market volatility, dtype: float64"
      ]
     },
     "execution_count": 17,
     "metadata": {},
     "output_type": "execute_result"
    }
   ],
   "source": [
    "mkt = pdr('F-F_Research_Data_Factors_Daily','famafrench',start=1926)[0]/100\n",
    "mkt = mkt['Mkt-RF'] + mkt.RF\n",
    "mkt_vol = mkt.resample(\"M\").apply(lambda x: x.std())[:-1]\n",
    "mkt_vol.index = mkt_vol.index.to_period(\"M\").astype(str)\n",
    "mkt_vol.name = \"market volatility\"\n",
    "mkt_vol.tail()\n"
   ]
  },
  {
   "attachments": {},
   "cell_type": "markdown",
   "metadata": {},
   "source": [
    "## MONTHLY RETURNS"
   ]
  },
  {
   "cell_type": "code",
   "execution_count": 18,
   "metadata": {},
   "outputs": [
    {
     "data": {
      "text/plain": [
       "Date\n",
       "2022-12   -0.0608\n",
       "2023-01    0.0700\n",
       "2023-02   -0.0224\n",
       "2023-03    0.0287\n",
       "2023-04    0.0096\n",
       "Name: market return, dtype: float64"
      ]
     },
     "execution_count": 18,
     "metadata": {},
     "output_type": "execute_result"
    }
   ],
   "source": [
    "mkt = pdr('F-F_Research_Data_Factors','famafrench',start=1926)[0]/100\n",
    "mkt_ret = mkt['Mkt-RF'] + mkt.RF\n",
    "mkt_ret.index = mkt_ret.index.astype(str)\n",
    "mkt_ret.name = \"market return\"\n",
    "mkt_ret.tail()"
   ]
  },
  {
   "attachments": {},
   "cell_type": "markdown",
   "metadata": {
    "pycharm": {
     "name": "#%% md\n"
    }
   },
   "source": [
    "# RETURNS FROM YAHOO FINANCE"
   ]
  },
  {
   "cell_type": "code",
   "execution_count": 13,
   "metadata": {
    "pycharm": {
     "name": "#%%\n"
    }
   },
   "outputs": [
    {
     "name": "stdout",
     "output_type": "stream",
     "text": [
      "[*********************100%***********************]  1 of 1 completed\n"
     ]
    }
   ],
   "source": [
    "ticker = input(\"Input a ticker\")\n",
    "price = yf.download(ticker, start=\"1970-01-01\")[\"Adj Close\"]"
   ]
  },
  {
   "attachments": {},
   "cell_type": "markdown",
   "metadata": {
    "pycharm": {
     "name": "#%% md\n"
    }
   },
   "source": [
    "## VOLATILITY"
   ]
  },
  {
   "cell_type": "code",
   "execution_count": 15,
   "metadata": {},
   "outputs": [
    {
     "name": "stderr",
     "output_type": "stream",
     "text": [
      "C:\\Users\\kerry\\AppData\\Local\\Temp\\ipykernel_55436\\3651085163.py:3: UserWarning: Converting to PeriodArray/Index representation will drop timezone information.\n",
      "  ret_vol.index = ret_vol.index.to_period(\"M\").astype(str)\n"
     ]
    },
    {
     "data": {
      "text/plain": [
       "Date\n",
       "2023-01    0.016254\n",
       "2023-02    0.016534\n",
       "2023-03    0.013760\n",
       "2023-04    0.012627\n",
       "2023-05    0.012628\n",
       "Name: aapl volatility, dtype: float64"
      ]
     },
     "execution_count": 15,
     "metadata": {},
     "output_type": "execute_result"
    }
   ],
   "source": [
    "ret_daily = price.pct_change()\n",
    "ret_vol = ret_daily.resample(\"M\").apply(lambda x: x.std())[:-1]\n",
    "ret_vol.index = ret_vol.index.to_period(\"M\").astype(str)\n",
    "ret_vol.name = ticker + \" volatility\"\n",
    "ret_vol.tail()"
   ]
  },
  {
   "attachments": {},
   "cell_type": "markdown",
   "metadata": {},
   "source": [
    "## MONTHLY RETURNS"
   ]
  },
  {
   "cell_type": "code",
   "execution_count": 19,
   "metadata": {
    "pycharm": {
     "name": "#%%\n"
    }
   },
   "outputs": [
    {
     "name": "stderr",
     "output_type": "stream",
     "text": [
      "C:\\Users\\kerry\\AppData\\Local\\Temp\\ipykernel_55436\\774543617.py:3: UserWarning: Converting to PeriodArray/Index representation will drop timezone information.\n",
      "  ret_ret.index = ret_ret.index.to_period(\"M\").astype(str)\n"
     ]
    },
    {
     "data": {
      "text/plain": [
       "month\n",
       "2023-01    0.110521\n",
       "2023-02    0.023183\n",
       "2023-03    0.118649\n",
       "2023-04    0.028987\n",
       "2023-05    0.046058\n",
       "Name: aapl return, dtype: float64"
      ]
     },
     "execution_count": 19,
     "metadata": {},
     "output_type": "execute_result"
    }
   ],
   "source": [
    "price_monthly = price.resample(\"M\").last()\n",
    "ret_ret = price_monthly.pct_change()[:-1]\n",
    "ret_ret.index = ret_ret.index.to_period(\"M\").astype(str)\n",
    "ret_ret.index.name = \"month\"\n",
    "ret_ret.name = ticker + \" return\"\n",
    "ret_ret.tail()"
   ]
  },
  {
   "attachments": {},
   "cell_type": "markdown",
   "metadata": {
    "pycharm": {
     "name": "#%% md\n"
    }
   },
   "source": [
    "# SELECT YAHOO RETURN OR MARKET"
   ]
  },
  {
   "cell_type": "code",
   "execution_count": 20,
   "metadata": {
    "pycharm": {
     "name": "#%%\n"
    }
   },
   "outputs": [],
   "source": [
    "flag = input(\"input 0 for market or 1 for yahoo return\")\n",
    "flag = \"mkt\" if flag==\"0\" else \"ret\"\n",
    "name = \"Market\" if flag==\"mkt\" else ticker.upper()\n",
    "vol = eval(flag + \"_vol\")\n",
    "ret = eval(flag + \"_ret\")"
   ]
  },
  {
   "cell_type": "code",
   "execution_count": null,
   "metadata": {},
   "outputs": [],
   "source": [
    "trace = go.Scatter(x=m.month, y=m.vol, mode=\"lines\", hovertemplate=\"%{x}<br>%{y:.1%}<extra></extra>\")\n",
    "    fig1 = go.Figure(trace)\n",
    "    fig1.update_yaxes(tickformat=\".0%\")\n",
    "    fig1.layout.yaxis[\"title\"] = f\"{tick} Volatility\"\n",
    "\n",
    "    fig = px.scatter(\n",
    "        m,\n",
    "        x=\"vol_lag\",\n",
    "        y=\"vol\",\n",
    "        trendline=\"ols\",\n",
    "        hover_data=dict(ret=False, vol=False, month=False, vol_lag=False),\n",
    "        hover_name=\"month\",\n",
    "    )\n",
    "    fig.layout.xaxis[\"title\"] = f\"Lagged {tick} Volatility\"\n",
    "    fig.layout.yaxis[\"title\"] = f\"{tick} Volatility\"\n",
    "    fig.update_traces(\n",
    "        marker=dict(size=12, line=dict(width=2, color=\"DarkSlateGrey\")),\n",
    "        selector=dict(mode=\"markers\"),\n",
    "    )\n",
    "    fig.update_yaxes(tickformat=\".0%\")\n",
    "    fig.update_xaxes(tickformat=\".0%\")\n",
    "    fig2 = fig\n",
    "\n",
    "    fig = px.scatter(\n",
    "        m,\n",
    "        x=\"vol_lag\",\n",
    "        y=\"ret\",\n",
    "        trendline=\"ols\",\n",
    "        hover_data=dict(ret=False, vol=False, month=False, vol_lag=False),\n",
    "        hover_name=\"month\",\n",
    "    )\n",
    "    fig.layout.xaxis[\"title\"] = f\"Lagged {tick} Volatility\"\n",
    "    fig.layout.yaxis[\"title\"] = f\"Monthly {tick} Return\"\n",
    "    fig.update_traces(\n",
    "        marker=dict(size=12, line=dict(width=2, color=\"DarkSlateGrey\")),\n",
    "        selector=dict(mode=\"markers\"),\n",
    "    )\n",
    "    fig.update_yaxes(tickformat=\".0%\")\n",
    "    fig.update_xaxes(tickformat=\".0%\")\n",
    "    fig3 = fig\n",
    "\n",
    "    fig = px.scatter(\n",
    "        m,\n",
    "        x=\"vol\",\n",
    "        y=\"ret\",\n",
    "        trendline=\"ols\",\n",
    "        hover_data=dict(ret=False, vol=False, month=False, vol_lag=False),\n",
    "        hover_name=\"month\",\n",
    "    )\n",
    "    fig.layout.xaxis[\"title\"] = f\"{tick} Volatility\"\n",
    "    fig.layout.yaxis[\"title\"] = f\"Monthly {tick} Return\"\n",
    "    fig.update_traces(\n",
    "        marker=dict(size=12, line=dict(width=2, color=\"DarkSlateGrey\")),\n",
    "        selector=dict(mode=\"markers\"),\n",
    "    )\n",
    "    fig.update_yaxes(tickformat=\".0%\")\n",
    "    fig.update_xaxes(tickformat=\".0%\")"
   ]
  },
  {
   "attachments": {},
   "cell_type": "markdown",
   "metadata": {
    "pycharm": {
     "name": "#%% md\n"
    }
   },
   "source": [
    "# FIGURE 1"
   ]
  },
  {
   "cell_type": "code",
   "execution_count": null,
   "metadata": {
    "id": "tcmPMcyQtNIS",
    "pycharm": {
     "name": "#%%\n"
    }
   },
   "outputs": [],
   "source": [
    "trace1 = go.Box(\n",
    "    y=daily, \n",
    "    text=daily.index.to_list(), \n",
    "    name=name + \" Daily\", \n",
    "    hovertemplate=\"%{text}<br>%{y:.1%}<extra></extra>\"\n",
    ")\n",
    "trace2 = go.Box(\n",
    "    y=monthly, \n",
    "    text=monthly.index.to_list(), \n",
    "    name=name + \" Monthly\", \n",
    "    hovertemplate=\"%{text}<br>%{y:.1%}<extra></extra>\"\n",
    ")\n",
    "trace3 = go.Box(\n",
    "    y=annual, \n",
    "    text=annual.index.to_list(), \n",
    "    name=name + \" Annual\", \n",
    "    hovertemplate=\"%{text}<br>%{y:.1%}<extra></extra>\"\n",
    ")\n",
    "fig = go.Figure()\n",
    "for trace in [trace1, trace2, trace3]:\n",
    "    fig.add_trace(trace)\n",
    "fig.update_layout(\n",
    "    yaxis_tickformat=\".1%\",\n",
    "    template=\"plotly_white\",\n",
    "    showlegend=False\n",
    ")\n",
    "fig.show()"
   ]
  },
  {
   "attachments": {},
   "cell_type": "markdown",
   "metadata": {
    "pycharm": {
     "name": "#%% md\n"
    }
   },
   "source": [
    "# FIGURE 2"
   ]
  },
  {
   "cell_type": "code",
   "execution_count": null,
   "metadata": {
    "pycharm": {
     "name": "#%%\n"
    }
   },
   "outputs": [],
   "source": [
    "trace1 = ff.create_distplot(\n",
    "    [daily], \n",
    "    group_labels=[\"actual\"], \n",
    "    show_rug=False, \n",
    "    show_hist=False\n",
    ")\n",
    "\n",
    "m = daily.mean()\n",
    "s = daily.std()\n",
    "grid = np.linspace(m - 3 * s, m + 3 * s, 201)\n",
    "trace2 = go.Scatter(\n",
    "    x=grid, \n",
    "    y=norm.pdf(grid, loc=m, scale=s), \n",
    "    mode=\"lines\", \n",
    "    name=\"normal\"\n",
    ")\n",
    "\n",
    "fig = go.Figure(trace1)\n",
    "fig.add_trace(trace2)\n",
    "fig.update_layout(\n",
    "    yaxis_tickvals=[],\n",
    "    xaxis_tickformat=\".0%\",\n",
    "    title=dict(\n",
    "        text=name + \" Daily Returns\",\n",
    "    ),\n",
    "    legend=dict(\n",
    "        yanchor=\"top\",\n",
    "        y=0.99,\n",
    "        xanchor=\"right\",\n",
    "        x=0.99\n",
    "    ),\n",
    "    template=\"plotly_white\",\n",
    ")\n",
    "fig.show()\n"
   ]
  },
  {
   "attachments": {},
   "cell_type": "markdown",
   "metadata": {
    "pycharm": {
     "name": "#%% md\n"
    }
   },
   "source": [
    "# FIGURE 3"
   ]
  },
  {
   "cell_type": "code",
   "execution_count": null,
   "metadata": {
    "pycharm": {
     "name": "#%%\n"
    }
   },
   "outputs": [],
   "source": [
    "trace1 = ff.create_distplot(\n",
    "    [monthly], \n",
    "    group_labels=[\"actual\"], \n",
    "    show_rug=False, \n",
    "    show_hist=False\n",
    ")\n",
    "\n",
    "m = monthly.mean()\n",
    "s = monthly.std()\n",
    "grid = np.linspace(m - 3 * s, m + 3 * s, 201)\n",
    "trace2 = go.Scatter(\n",
    "    x=grid, \n",
    "    y=norm.pdf(grid, loc=m, scale=s), \n",
    "    mode=\"lines\", \n",
    "    name=\"normal\"\n",
    ")\n",
    "\n",
    "fig = go.Figure(trace1)\n",
    "fig.add_trace(trace2)\n",
    "fig.update_layout(\n",
    "    yaxis_tickvals=[],\n",
    "    xaxis_tickformat=\".0%\",\n",
    "    title=dict(\n",
    "        text=name + \" Monthly Returns\",\n",
    "    ),\n",
    "    legend=dict(\n",
    "        yanchor=\"top\",\n",
    "        y=0.99,\n",
    "        xanchor=\"right\",\n",
    "        x=0.99\n",
    "    ),\n",
    "    template=\"plotly_white\",\n",
    ")\n",
    "fig.show()\n"
   ]
  },
  {
   "attachments": {},
   "cell_type": "markdown",
   "metadata": {
    "pycharm": {
     "name": "#%% md\n"
    }
   },
   "source": [
    "# FIGURE 4"
   ]
  },
  {
   "cell_type": "code",
   "execution_count": null,
   "metadata": {
    "pycharm": {
     "name": "#%%\n"
    }
   },
   "outputs": [],
   "source": [
    "trace1 = ff.create_distplot(\n",
    "    [annual], \n",
    "    group_labels=[\"actual\"], \n",
    "    show_rug=False, \n",
    "    show_hist=False\n",
    ")\n",
    "\n",
    "m = annual.mean()\n",
    "s = annual.std()\n",
    "grid = np.linspace(m - 3 * s, m + 3 * s, 201)\n",
    "trace2 = go.Scatter(\n",
    "    x=grid, \n",
    "    y=norm.pdf(grid, loc=m, scale=s), \n",
    "    mode=\"lines\", \n",
    "    name=\"normal\"\n",
    ")\n",
    "\n",
    "fig = go.Figure(trace1)\n",
    "fig.add_trace(trace2)\n",
    "fig.update_layout(\n",
    "    yaxis_tickvals=[],\n",
    "    xaxis_tickformat=\".0%\",\n",
    "    title=dict(\n",
    "        text=name + \" Annual Returns\",\n",
    "    ),\n",
    "    legend=dict(\n",
    "        yanchor=\"top\",\n",
    "        y=0.99,\n",
    "        xanchor=\"right\",\n",
    "        x=0.99\n",
    "    ),\n",
    "    template=\"plotly_white\",\n",
    ")\n",
    "fig.show()\n",
    "\n"
   ]
  }
 ],
 "metadata": {
  "colab": {
   "collapsed_sections": [],
   "include_colab_link": true,
   "name": "returns.ipynb",
   "provenance": []
  },
  "kernelspec": {
   "display_name": "Python 3",
   "name": "python3"
  },
  "language_info": {
   "codemirror_mode": {
    "name": "ipython",
    "version": 3
   },
   "file_extension": ".py",
   "mimetype": "text/x-python",
   "name": "python",
   "nbconvert_exporter": "python",
   "pygments_lexer": "ipython3",
   "version": "3.10.3"
  }
 },
 "nbformat": 4,
 "nbformat_minor": 0
}
