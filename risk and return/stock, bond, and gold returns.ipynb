{
  "cells": [
    {
      "cell_type": "markdown",
      "metadata": {
        "id": "view-in-github",
        "colab_type": "text"
      },
      "source": [
        "<a href=\"https://colab.research.google.com/github/bbcx-investments/notebooks/blob/main/risk/sbb.ipynb\" target=\"_parent\"><img src=\"https://colab.research.google.com/assets/colab-badge.svg\" alt=\"Open In Colab\"/></a>"
      ]
    },
    {
      "cell_type": "code",
      "execution_count": null,
      "outputs": [
        {
          "name": "stderr",
          "output_type": "stream",
          "text": [
            "/Users/kailiao/PycharmProjects/appcode_draft/venv/lib/python3.8/site-packages/pandas/core/indexes/base.py:6982: FutureWarning: In a future version, the Index constructor will not infer numeric dtypes when passed object-dtype sequences (matching Series behavior)\n",
            "  return Index(sequences[0], name=names)\n"
          ]
        },
        {
          "data": {
            "text/plain": "         SP500    TBills    TBonds  Corporates\n1928  0.438112  0.030800  0.008355    0.032196\n1929 -0.082979  0.031600  0.042038    0.030179\n1930 -0.251236  0.045500  0.045409    0.005398\n1931 -0.438375  0.023100 -0.025589   -0.156808\n1932 -0.086424  0.010700  0.087903    0.235896\n...        ...       ...       ...         ...\n2017  0.216055  0.009308  0.028017    0.097239\n2018 -0.042269  0.019392 -0.000167   -0.027626\n2019  0.312117  0.015500  0.096356    0.153295\n2020  0.180232  0.000900  0.113319    0.104115\n2021  0.284689  0.000600 -0.044160    0.009334\n\n[94 rows x 4 columns]",
            "text/html": "<div>\n<style scoped>\n    .dataframe tbody tr th:only-of-type {\n        vertical-align: middle;\n    }\n\n    .dataframe tbody tr th {\n        vertical-align: top;\n    }\n\n    .dataframe thead th {\n        text-align: right;\n    }\n</style>\n<table border=\"1\" class=\"dataframe\">\n  <thead>\n    <tr style=\"text-align: right;\">\n      <th></th>\n      <th>SP500</th>\n      <th>TBills</th>\n      <th>TBonds</th>\n      <th>Corporates</th>\n    </tr>\n  </thead>\n  <tbody>\n    <tr>\n      <th>1928</th>\n      <td>0.438112</td>\n      <td>0.030800</td>\n      <td>0.008355</td>\n      <td>0.032196</td>\n    </tr>\n    <tr>\n      <th>1929</th>\n      <td>-0.082979</td>\n      <td>0.031600</td>\n      <td>0.042038</td>\n      <td>0.030179</td>\n    </tr>\n    <tr>\n      <th>1930</th>\n      <td>-0.251236</td>\n      <td>0.045500</td>\n      <td>0.045409</td>\n      <td>0.005398</td>\n    </tr>\n    <tr>\n      <th>1931</th>\n      <td>-0.438375</td>\n      <td>0.023100</td>\n      <td>-0.025589</td>\n      <td>-0.156808</td>\n    </tr>\n    <tr>\n      <th>1932</th>\n      <td>-0.086424</td>\n      <td>0.010700</td>\n      <td>0.087903</td>\n      <td>0.235896</td>\n    </tr>\n    <tr>\n      <th>...</th>\n      <td>...</td>\n      <td>...</td>\n      <td>...</td>\n      <td>...</td>\n    </tr>\n    <tr>\n      <th>2017</th>\n      <td>0.216055</td>\n      <td>0.009308</td>\n      <td>0.028017</td>\n      <td>0.097239</td>\n    </tr>\n    <tr>\n      <th>2018</th>\n      <td>-0.042269</td>\n      <td>0.019392</td>\n      <td>-0.000167</td>\n      <td>-0.027626</td>\n    </tr>\n    <tr>\n      <th>2019</th>\n      <td>0.312117</td>\n      <td>0.015500</td>\n      <td>0.096356</td>\n      <td>0.153295</td>\n    </tr>\n    <tr>\n      <th>2020</th>\n      <td>0.180232</td>\n      <td>0.000900</td>\n      <td>0.113319</td>\n      <td>0.104115</td>\n    </tr>\n    <tr>\n      <th>2021</th>\n      <td>0.284689</td>\n      <td>0.000600</td>\n      <td>-0.044160</td>\n      <td>0.009334</td>\n    </tr>\n  </tbody>\n</table>\n<p>94 rows × 4 columns</p>\n</div>"
          },
          "execution_count": 2,
          "metadata": {},
          "output_type": "execute_result"
        }
      ],
      "source": [
        "import pandas as pd\n",
        "import ssl\n",
        "\n",
        "ssl._create_default_https_context = ssl._create_unverified_context\n",
        "file = \"http://www.stern.nyu.edu/~adamodar/pc/datasets/histretSP.xls\"\n",
        "sheet = \"Returns by year\"\n",
        "df = pd.read_excel(file, sheet_name=sheet, skiprows=16, header=[0, 1])\n",
        "col1 = (\"Unnamed: 0_level_0\", \"Year\")\n",
        "indx = df[df[col1].isna()].index[0]\n",
        "df = df.iloc[:indx].set_index(col1)\n",
        "df.index.name = \"Year\"\n",
        "df = df[\"Annual Returns on Investments in\"]\n",
        "df = df[df.columns[:4]]\n",
        "df.columns = [\"SP500\", \"TBills\", \"TBonds\", \"Corporates\"]\n",
        "df.dtype = \"float\"\n",
        "df.index = [int(x) for x in df.index]\n",
        "df"
      ],
      "metadata": {
        "pycharm": {
          "name": "#%%\n"
        },
        "id": "RFFVx0ngO3Iy",
        "outputId": "04cfba9a-64db-45f3-c49c-80499bbb5b5b"
      }
    },
    {
      "cell_type": "code",
      "execution_count": null,
      "outputs": [
        {
          "data": {
            "text/plain": "           SP500     TBills     TBonds  Corporates\ncount  94.000000  94.000000  94.000000   94.000000\nmean    0.118205   0.033263   0.051104    0.071861\nstd     0.194605   0.030376   0.076799    0.075118\nmin    -0.438375   0.000325  -0.111167   -0.156808\n25%    -0.011658   0.006833   0.008565    0.023444\n50%     0.145211   0.029404   0.032822    0.064627\n75%     0.257168   0.050471   0.087085    0.114028\nmax     0.525633   0.140250   0.328145    0.290525",
            "text/html": "<div>\n<style scoped>\n    .dataframe tbody tr th:only-of-type {\n        vertical-align: middle;\n    }\n\n    .dataframe tbody tr th {\n        vertical-align: top;\n    }\n\n    .dataframe thead th {\n        text-align: right;\n    }\n</style>\n<table border=\"1\" class=\"dataframe\">\n  <thead>\n    <tr style=\"text-align: right;\">\n      <th></th>\n      <th>SP500</th>\n      <th>TBills</th>\n      <th>TBonds</th>\n      <th>Corporates</th>\n    </tr>\n  </thead>\n  <tbody>\n    <tr>\n      <th>count</th>\n      <td>94.000000</td>\n      <td>94.000000</td>\n      <td>94.000000</td>\n      <td>94.000000</td>\n    </tr>\n    <tr>\n      <th>mean</th>\n      <td>0.118205</td>\n      <td>0.033263</td>\n      <td>0.051104</td>\n      <td>0.071861</td>\n    </tr>\n    <tr>\n      <th>std</th>\n      <td>0.194605</td>\n      <td>0.030376</td>\n      <td>0.076799</td>\n      <td>0.075118</td>\n    </tr>\n    <tr>\n      <th>min</th>\n      <td>-0.438375</td>\n      <td>0.000325</td>\n      <td>-0.111167</td>\n      <td>-0.156808</td>\n    </tr>\n    <tr>\n      <th>25%</th>\n      <td>-0.011658</td>\n      <td>0.006833</td>\n      <td>0.008565</td>\n      <td>0.023444</td>\n    </tr>\n    <tr>\n      <th>50%</th>\n      <td>0.145211</td>\n      <td>0.029404</td>\n      <td>0.032822</td>\n      <td>0.064627</td>\n    </tr>\n    <tr>\n      <th>75%</th>\n      <td>0.257168</td>\n      <td>0.050471</td>\n      <td>0.087085</td>\n      <td>0.114028</td>\n    </tr>\n    <tr>\n      <th>max</th>\n      <td>0.525633</td>\n      <td>0.140250</td>\n      <td>0.328145</td>\n      <td>0.290525</td>\n    </tr>\n  </tbody>\n</table>\n</div>"
          },
          "execution_count": 3,
          "metadata": {},
          "output_type": "execute_result"
        }
      ],
      "source": [
        "df.describe()"
      ],
      "metadata": {
        "pycharm": {
          "name": "#%%\n"
        },
        "id": "LLJ-ArfZO3I3",
        "outputId": "e37f5ad7-3ec4-412c-cad2-6744fdf5a8c0"
      }
    },
    {
      "cell_type": "code",
      "execution_count": null,
      "outputs": [],
      "source": [
        ""
      ],
      "metadata": {
        "pycharm": {
          "name": "#%%\n"
        },
        "id": "eSKs9QNtO3I3"
      }
    }
  ],
  "metadata": {
    "kernelspec": {
      "display_name": "Python 3",
      "language": "python",
      "name": "python3"
    },
    "language_info": {
      "codemirror_mode": {
        "name": "ipython",
        "version": 2
      },
      "file_extension": ".py",
      "mimetype": "text/x-python",
      "name": "python",
      "nbconvert_exporter": "python",
      "pygments_lexer": "ipython2",
      "version": "2.7.6"
    },
    "colab": {
      "name": "sbb.ipynb",
      "provenance": [],
      "include_colab_link": true
    }
  },
  "nbformat": 4,
  "nbformat_minor": 0
}