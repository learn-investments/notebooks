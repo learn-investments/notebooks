{
 "cells": [
  {
   "cell_type": "markdown",
   "metadata": {},
   "source": [
    "---\n",
    "\n",
    "Created for [learn-investments.rice-business.org](https://learn-investments.rice-business.org)\n",
    "    \n",
    "By [Kerry Back](https://kerryback.com) and [Kevin Crotty](https://kevin-crotty.com)\n",
    "    \n",
    "Jones Graduate School of Business, Rice University\n",
    "\n",
    "---\n"
   ]
  },
  {
   "cell_type": "markdown",
   "metadata": {},
   "source": [
    "# READ DATA"
   ]
  },
  {
   "cell_type": "code",
   "execution_count": 18,
   "metadata": {},
   "outputs": [],
   "source": [
    "import pandas as pd\n",
    "df = pd.read_csv(\n",
    "    \"https://www.dropbox.com/scl/fi/x61ewvoj9spslqblqweke/stocks_bonds_gold.csv?rlkey=ssmouraepasrj95b4rxj26bpk&dl=1\",\n",
    "    index_col=\"Year\"\n",
    ")"
   ]
  },
  {
   "cell_type": "markdown",
   "metadata": {},
   "source": [
    "# SUMMARY STATISTICS"
   ]
  },
  {
   "cell_type": "code",
   "execution_count": 19,
   "metadata": {},
   "outputs": [
    {
     "data": {
      "text/html": [
       "<div>\n",
       "<style scoped>\n",
       "    .dataframe tbody tr th:only-of-type {\n",
       "        vertical-align: middle;\n",
       "    }\n",
       "\n",
       "    .dataframe tbody tr th {\n",
       "        vertical-align: top;\n",
       "    }\n",
       "\n",
       "    .dataframe thead th {\n",
       "        text-align: right;\n",
       "    }\n",
       "</style>\n",
       "<table border=\"1\" class=\"dataframe\">\n",
       "  <thead>\n",
       "    <tr style=\"text-align: right;\">\n",
       "      <th></th>\n",
       "      <th>Stocks</th>\n",
       "      <th>Treasuries</th>\n",
       "      <th>Corporates</th>\n",
       "      <th>Gold</th>\n",
       "    </tr>\n",
       "  </thead>\n",
       "  <tbody>\n",
       "    <tr>\n",
       "      <th>mean</th>\n",
       "      <td>0.113763</td>\n",
       "      <td>0.064922</td>\n",
       "      <td>0.085898</td>\n",
       "      <td>0.100861</td>\n",
       "    </tr>\n",
       "    <tr>\n",
       "      <th>std</th>\n",
       "      <td>0.169278</td>\n",
       "      <td>0.098747</td>\n",
       "      <td>0.083688</td>\n",
       "      <td>0.267740</td>\n",
       "    </tr>\n",
       "    <tr>\n",
       "      <th>min</th>\n",
       "      <td>-0.365523</td>\n",
       "      <td>-0.178282</td>\n",
       "      <td>-0.144883</td>\n",
       "      <td>-0.321459</td>\n",
       "    </tr>\n",
       "    <tr>\n",
       "      <th>25%</th>\n",
       "      <td>0.017386</td>\n",
       "      <td>0.009874</td>\n",
       "      <td>0.031440</td>\n",
       "      <td>-0.039093</td>\n",
       "    </tr>\n",
       "    <tr>\n",
       "      <th>50%</th>\n",
       "      <td>0.142212</td>\n",
       "      <td>0.044907</td>\n",
       "      <td>0.097239</td>\n",
       "      <td>0.056843</td>\n",
       "    </tr>\n",
       "    <tr>\n",
       "      <th>75%</th>\n",
       "      <td>0.232560</td>\n",
       "      <td>0.139722</td>\n",
       "      <td>0.137667</td>\n",
       "      <td>0.206386</td>\n",
       "    </tr>\n",
       "    <tr>\n",
       "      <th>max</th>\n",
       "      <td>0.371952</td>\n",
       "      <td>0.328145</td>\n",
       "      <td>0.290525</td>\n",
       "      <td>1.334076</td>\n",
       "    </tr>\n",
       "  </tbody>\n",
       "</table>\n",
       "</div>"
      ],
      "text/plain": [
       "        Stocks  Treasuries  Corporates      Gold\n",
       "mean  0.113763    0.064922    0.085898  0.100861\n",
       "std   0.169278    0.098747    0.083688  0.267740\n",
       "min  -0.365523   -0.178282   -0.144883 -0.321459\n",
       "25%   0.017386    0.009874    0.031440 -0.039093\n",
       "50%   0.142212    0.044907    0.097239  0.056843\n",
       "75%   0.232560    0.139722    0.137667  0.206386\n",
       "max   0.371952    0.328145    0.290525  1.334076"
      ]
     },
     "execution_count": 19,
     "metadata": {},
     "output_type": "execute_result"
    }
   ],
   "source": [
    "df.describe().iloc[1:]"
   ]
  },
  {
   "cell_type": "markdown",
   "metadata": {},
   "source": [
    "# CORRELATION MATRIX"
   ]
  },
  {
   "cell_type": "code",
   "execution_count": 20,
   "metadata": {},
   "outputs": [
    {
     "data": {
      "text/html": [
       "<div>\n",
       "<style scoped>\n",
       "    .dataframe tbody tr th:only-of-type {\n",
       "        vertical-align: middle;\n",
       "    }\n",
       "\n",
       "    .dataframe tbody tr th {\n",
       "        vertical-align: top;\n",
       "    }\n",
       "\n",
       "    .dataframe thead th {\n",
       "        text-align: right;\n",
       "    }\n",
       "</style>\n",
       "<table border=\"1\" class=\"dataframe\">\n",
       "  <thead>\n",
       "    <tr style=\"text-align: right;\">\n",
       "      <th></th>\n",
       "      <th>Stocks</th>\n",
       "      <th>Treasuries</th>\n",
       "      <th>Corporates</th>\n",
       "      <th>Gold</th>\n",
       "    </tr>\n",
       "  </thead>\n",
       "  <tbody>\n",
       "    <tr>\n",
       "      <th>Stocks</th>\n",
       "      <td>1.000</td>\n",
       "      <td>0.091</td>\n",
       "      <td>0.490</td>\n",
       "      <td>-0.163</td>\n",
       "    </tr>\n",
       "    <tr>\n",
       "      <th>Treasuries</th>\n",
       "      <td>0.091</td>\n",
       "      <td>1.000</td>\n",
       "      <td>0.651</td>\n",
       "      <td>-0.077</td>\n",
       "    </tr>\n",
       "    <tr>\n",
       "      <th>Corporates</th>\n",
       "      <td>0.490</td>\n",
       "      <td>0.651</td>\n",
       "      <td>1.000</td>\n",
       "      <td>-0.139</td>\n",
       "    </tr>\n",
       "    <tr>\n",
       "      <th>Gold</th>\n",
       "      <td>-0.163</td>\n",
       "      <td>-0.077</td>\n",
       "      <td>-0.139</td>\n",
       "      <td>1.000</td>\n",
       "    </tr>\n",
       "  </tbody>\n",
       "</table>\n",
       "</div>"
      ],
      "text/plain": [
       "            Stocks  Treasuries  Corporates   Gold\n",
       "Stocks       1.000       0.091       0.490 -0.163\n",
       "Treasuries   0.091       1.000       0.651 -0.077\n",
       "Corporates   0.490       0.651       1.000 -0.139\n",
       "Gold        -0.163      -0.077      -0.139  1.000"
      ]
     },
     "execution_count": 20,
     "metadata": {},
     "output_type": "execute_result"
    }
   ],
   "source": [
    "df.corr().round(3)"
   ]
  },
  {
   "cell_type": "markdown",
   "metadata": {},
   "source": [
    "# FIGURE 1 (BOXPLOTS)"
   ]
  },
  {
   "cell_type": "code",
   "execution_count": 21,
   "metadata": {},
   "outputs": [
    {
     "data": {
      "application/vnd.plotly.v1+json": {
       "config": {
        "plotlyServerURL": "https://plot.ly"
       },
       "data": [
        {
         "hovertemplate": "%{y:.1%}<extra></extra>",
         "name": "Stocks",
         "type": "box",
         "y": [
          0.1081486265160153,
          -0.0824137107644906,
          0.0356114490549641,
          0.1422115029842647,
          0.1875536291507492,
          -0.1430804743752647,
          -0.2590178575089697,
          0.3699513710618435,
          0.2383099900210666,
          -0.0697970407593523,
          0.0650928391167193,
          0.1851949016751638,
          0.3173524550676301,
          -0.0470239024749557,
          0.2041905507955935,
          0.2233715585893061,
          0.0614614199963621,
          0.3123514948576895,
          0.1849457875804618,
          0.0581272164182187,
          0.1653719281204468,
          0.3147518363819672,
          -0.0306445161290321,
          0.3023484313487976,
          0.0749372797238006,
          0.0996705147919488,
          0.0132592067745738,
          0.3719519890260631,
          0.2268096601886579,
          0.3310365310365309,
          0.2833795327844358,
          0.2088535099208447,
          -0.0903181895524927,
          -0.1184975914200018,
          -0.219660479579127,
          0.2835580005001023,
          0.1074277594409619,
          0.0483447752326885,
          0.156125579793157,
          0.0548473524642176,
          -0.3655234411179819,
          0.2593523387766398,
          0.1482109227871941,
          0.0209837473362805,
          0.1589058524173029,
          0.3214508585812548,
          0.1352442164946223,
          0.0137889164116761,
          0.1177308087479817,
          0.2160548143449928,
          -0.0422686928908854,
          0.3121167999680875,
          0.1802320182742247,
          0.2846885175196416,
          -0.1800897154534659
         ]
        },
        {
         "hovertemplate": "%{y:.1%}<extra></extra>",
         "name": "Treasuries",
         "type": "box",
         "y": [
          0.0327461969507683,
          -0.0501404932099261,
          0.1675473718341233,
          0.0978689661971229,
          0.0281844905044496,
          0.03658664602415,
          0.0198860869323785,
          0.0360525360260338,
          0.1598456074290921,
          0.0128996060710704,
          -0.0077758069075086,
          0.0067072031247235,
          -0.029897442519994,
          0.0819921533589235,
          0.3281454948629558,
          0.0320020944514292,
          0.1373336434410234,
          0.2571248821260641,
          0.2428421514176761,
          -0.0496050893792622,
          0.0822359584348416,
          0.1769364715944621,
          0.0623537533355333,
          0.150045100195173,
          0.0936163731620794,
          0.142109575892631,
          -0.0803665555099859,
          0.234807801125389,
          0.0142860779340184,
          0.0993913027297753,
          0.1492143192260621,
          -0.0825421479626857,
          0.1665526712539748,
          0.0557218118924925,
          0.1511640037810928,
          0.0037531858817758,
          0.0449068370227454,
          0.0286753295977795,
          0.0196100124175683,
          0.102099219300128,
          0.2010127992697701,
          -0.1111669531325916,
          0.0846293388035577,
          0.1603533499946135,
          0.0297157197801894,
          -0.0910456879434726,
          0.1074618045200475,
          0.0128429967097922,
          0.0069055046987477,
          0.0280171627077894,
          -0.000166923857134,
          0.0963563074154839,
          0.1133189764661412,
          -0.0441603444860447,
          -0.1782817153825067
         ]
        },
        {
         "hovertemplate": "%{y:.1%}<extra></extra>",
         "name": "Corporates",
         "type": "box",
         "y": [
          0.0484514622430974,
          -0.0202516425079214,
          0.0564956765698887,
          0.1400146617421994,
          0.1140909357938969,
          0.0431804048543235,
          -0.0438071979771916,
          0.1104996407414495,
          0.1975281398709801,
          0.0995466285209063,
          0.0313758497716908,
          -0.0200911014366153,
          -0.0331567833719104,
          0.084623994808912,
          0.2905245565590866,
          0.1619428962279836,
          0.1561920733245421,
          0.2386264184991647,
          0.2148551530975949,
          0.0228984608427668,
          0.1511507006712003,
          0.1578966653143731,
          0.061400628860817,
          0.1785348714676317,
          0.1217225586989665,
          0.164315172195611,
          -0.0131920334757106,
          0.2015621817064022,
          0.0479259941944115,
          0.1183488724442636,
          0.0794545613270708,
          0.0084316347548218,
          0.093296855210372,
          0.0781915075428782,
          0.1217786769397548,
          0.1353201209685757,
          0.0988862840872183,
          0.0491753798716953,
          0.0704839766288914,
          0.0315038615280555,
          -0.0506571462874887,
          0.2332950249166189,
          0.0834784236590661,
          0.125845144013723,
          0.101246778758435,
          -0.0105590120694946,
          0.1038490782203046,
          -0.0069751836790324,
          0.1036510582179322,
          0.0972390194624883,
          -0.0276262822171722,
          0.1532945756236848,
          0.1041153715711134,
          0.0093344457198752,
          -0.1448829821423142
         ]
        },
        {
         "hovertemplate": "%{y:.1%}<extra></extra>",
         "name": "Gold",
         "type": "box",
         "y": [
          0.1924388857305288,
          -0.1606674612634088,
          0.0616302186878727,
          0.1669341894060994,
          0.4832645575424119,
          0.7349304482225656,
          0.6703786191536749,
          -0.252,
          -0.0406417112299464,
          0.2307692307692306,
          0.3556763285024156,
          1.3340757238307348,
          0.125,
          -0.3214588634435963,
          0.1200000000000001,
          -0.1484375,
          -0.1900393184796854,
          0.0582524271844659,
          0.1954128440366971,
          0.2445638270657457,
          -0.1569373072970196,
          -0.0223089113738875,
          -0.0249376558603491,
          -0.0961636828644502,
          -0.0580079230333899,
          0.1734755181736258,
          -0.0208626647894534,
          0.0109803921568627,
          -0.0443496250323247,
          -0.2174265999188203,
          -0.0060511756569847,
          0.011828144025048,
          -0.0625752105896512,
          0.0141206675224647,
          0.2396021699819168,
          0.2173595915390225,
          0.0497303774715398,
          0.1712328767123287,
          0.2391812865497076,
          0.315872266792512,
          0.0340705319784817,
          0.2763005780346821,
          0.2774003623188406,
          0.1164687112214146,
          0.0568434423626547,
          -0.2779447115384615,
          -0.0018726591760299,
          -0.1142380654575776,
          0.0911743939750528,
          0.1185402467431628,
          -0.0114539143848823,
          0.1883119416377325,
          0.2416940249507551,
          -0.0375442863941621,
          -0.0042580078017691
         ]
        }
       ],
       "layout": {
        "template": {
         "data": {
          "bar": [
           {
            "error_x": {
             "color": "#2a3f5f"
            },
            "error_y": {
             "color": "#2a3f5f"
            },
            "marker": {
             "line": {
              "color": "white",
              "width": 0.5
             },
             "pattern": {
              "fillmode": "overlay",
              "size": 10,
              "solidity": 0.2
             }
            },
            "type": "bar"
           }
          ],
          "barpolar": [
           {
            "marker": {
             "line": {
              "color": "white",
              "width": 0.5
             },
             "pattern": {
              "fillmode": "overlay",
              "size": 10,
              "solidity": 0.2
             }
            },
            "type": "barpolar"
           }
          ],
          "carpet": [
           {
            "aaxis": {
             "endlinecolor": "#2a3f5f",
             "gridcolor": "#C8D4E3",
             "linecolor": "#C8D4E3",
             "minorgridcolor": "#C8D4E3",
             "startlinecolor": "#2a3f5f"
            },
            "baxis": {
             "endlinecolor": "#2a3f5f",
             "gridcolor": "#C8D4E3",
             "linecolor": "#C8D4E3",
             "minorgridcolor": "#C8D4E3",
             "startlinecolor": "#2a3f5f"
            },
            "type": "carpet"
           }
          ],
          "choropleth": [
           {
            "colorbar": {
             "outlinewidth": 0,
             "ticks": ""
            },
            "type": "choropleth"
           }
          ],
          "contour": [
           {
            "colorbar": {
             "outlinewidth": 0,
             "ticks": ""
            },
            "colorscale": [
             [
              0,
              "#0d0887"
             ],
             [
              0.1111111111111111,
              "#46039f"
             ],
             [
              0.2222222222222222,
              "#7201a8"
             ],
             [
              0.3333333333333333,
              "#9c179e"
             ],
             [
              0.4444444444444444,
              "#bd3786"
             ],
             [
              0.5555555555555556,
              "#d8576b"
             ],
             [
              0.6666666666666666,
              "#ed7953"
             ],
             [
              0.7777777777777778,
              "#fb9f3a"
             ],
             [
              0.8888888888888888,
              "#fdca26"
             ],
             [
              1,
              "#f0f921"
             ]
            ],
            "type": "contour"
           }
          ],
          "contourcarpet": [
           {
            "colorbar": {
             "outlinewidth": 0,
             "ticks": ""
            },
            "type": "contourcarpet"
           }
          ],
          "heatmap": [
           {
            "colorbar": {
             "outlinewidth": 0,
             "ticks": ""
            },
            "colorscale": [
             [
              0,
              "#0d0887"
             ],
             [
              0.1111111111111111,
              "#46039f"
             ],
             [
              0.2222222222222222,
              "#7201a8"
             ],
             [
              0.3333333333333333,
              "#9c179e"
             ],
             [
              0.4444444444444444,
              "#bd3786"
             ],
             [
              0.5555555555555556,
              "#d8576b"
             ],
             [
              0.6666666666666666,
              "#ed7953"
             ],
             [
              0.7777777777777778,
              "#fb9f3a"
             ],
             [
              0.8888888888888888,
              "#fdca26"
             ],
             [
              1,
              "#f0f921"
             ]
            ],
            "type": "heatmap"
           }
          ],
          "heatmapgl": [
           {
            "colorbar": {
             "outlinewidth": 0,
             "ticks": ""
            },
            "colorscale": [
             [
              0,
              "#0d0887"
             ],
             [
              0.1111111111111111,
              "#46039f"
             ],
             [
              0.2222222222222222,
              "#7201a8"
             ],
             [
              0.3333333333333333,
              "#9c179e"
             ],
             [
              0.4444444444444444,
              "#bd3786"
             ],
             [
              0.5555555555555556,
              "#d8576b"
             ],
             [
              0.6666666666666666,
              "#ed7953"
             ],
             [
              0.7777777777777778,
              "#fb9f3a"
             ],
             [
              0.8888888888888888,
              "#fdca26"
             ],
             [
              1,
              "#f0f921"
             ]
            ],
            "type": "heatmapgl"
           }
          ],
          "histogram": [
           {
            "marker": {
             "pattern": {
              "fillmode": "overlay",
              "size": 10,
              "solidity": 0.2
             }
            },
            "type": "histogram"
           }
          ],
          "histogram2d": [
           {
            "colorbar": {
             "outlinewidth": 0,
             "ticks": ""
            },
            "colorscale": [
             [
              0,
              "#0d0887"
             ],
             [
              0.1111111111111111,
              "#46039f"
             ],
             [
              0.2222222222222222,
              "#7201a8"
             ],
             [
              0.3333333333333333,
              "#9c179e"
             ],
             [
              0.4444444444444444,
              "#bd3786"
             ],
             [
              0.5555555555555556,
              "#d8576b"
             ],
             [
              0.6666666666666666,
              "#ed7953"
             ],
             [
              0.7777777777777778,
              "#fb9f3a"
             ],
             [
              0.8888888888888888,
              "#fdca26"
             ],
             [
              1,
              "#f0f921"
             ]
            ],
            "type": "histogram2d"
           }
          ],
          "histogram2dcontour": [
           {
            "colorbar": {
             "outlinewidth": 0,
             "ticks": ""
            },
            "colorscale": [
             [
              0,
              "#0d0887"
             ],
             [
              0.1111111111111111,
              "#46039f"
             ],
             [
              0.2222222222222222,
              "#7201a8"
             ],
             [
              0.3333333333333333,
              "#9c179e"
             ],
             [
              0.4444444444444444,
              "#bd3786"
             ],
             [
              0.5555555555555556,
              "#d8576b"
             ],
             [
              0.6666666666666666,
              "#ed7953"
             ],
             [
              0.7777777777777778,
              "#fb9f3a"
             ],
             [
              0.8888888888888888,
              "#fdca26"
             ],
             [
              1,
              "#f0f921"
             ]
            ],
            "type": "histogram2dcontour"
           }
          ],
          "mesh3d": [
           {
            "colorbar": {
             "outlinewidth": 0,
             "ticks": ""
            },
            "type": "mesh3d"
           }
          ],
          "parcoords": [
           {
            "line": {
             "colorbar": {
              "outlinewidth": 0,
              "ticks": ""
             }
            },
            "type": "parcoords"
           }
          ],
          "pie": [
           {
            "automargin": true,
            "type": "pie"
           }
          ],
          "scatter": [
           {
            "fillpattern": {
             "fillmode": "overlay",
             "size": 10,
             "solidity": 0.2
            },
            "type": "scatter"
           }
          ],
          "scatter3d": [
           {
            "line": {
             "colorbar": {
              "outlinewidth": 0,
              "ticks": ""
             }
            },
            "marker": {
             "colorbar": {
              "outlinewidth": 0,
              "ticks": ""
             }
            },
            "type": "scatter3d"
           }
          ],
          "scattercarpet": [
           {
            "marker": {
             "colorbar": {
              "outlinewidth": 0,
              "ticks": ""
             }
            },
            "type": "scattercarpet"
           }
          ],
          "scattergeo": [
           {
            "marker": {
             "colorbar": {
              "outlinewidth": 0,
              "ticks": ""
             }
            },
            "type": "scattergeo"
           }
          ],
          "scattergl": [
           {
            "marker": {
             "colorbar": {
              "outlinewidth": 0,
              "ticks": ""
             }
            },
            "type": "scattergl"
           }
          ],
          "scattermapbox": [
           {
            "marker": {
             "colorbar": {
              "outlinewidth": 0,
              "ticks": ""
             }
            },
            "type": "scattermapbox"
           }
          ],
          "scatterpolar": [
           {
            "marker": {
             "colorbar": {
              "outlinewidth": 0,
              "ticks": ""
             }
            },
            "type": "scatterpolar"
           }
          ],
          "scatterpolargl": [
           {
            "marker": {
             "colorbar": {
              "outlinewidth": 0,
              "ticks": ""
             }
            },
            "type": "scatterpolargl"
           }
          ],
          "scatterternary": [
           {
            "marker": {
             "colorbar": {
              "outlinewidth": 0,
              "ticks": ""
             }
            },
            "type": "scatterternary"
           }
          ],
          "surface": [
           {
            "colorbar": {
             "outlinewidth": 0,
             "ticks": ""
            },
            "colorscale": [
             [
              0,
              "#0d0887"
             ],
             [
              0.1111111111111111,
              "#46039f"
             ],
             [
              0.2222222222222222,
              "#7201a8"
             ],
             [
              0.3333333333333333,
              "#9c179e"
             ],
             [
              0.4444444444444444,
              "#bd3786"
             ],
             [
              0.5555555555555556,
              "#d8576b"
             ],
             [
              0.6666666666666666,
              "#ed7953"
             ],
             [
              0.7777777777777778,
              "#fb9f3a"
             ],
             [
              0.8888888888888888,
              "#fdca26"
             ],
             [
              1,
              "#f0f921"
             ]
            ],
            "type": "surface"
           }
          ],
          "table": [
           {
            "cells": {
             "fill": {
              "color": "#EBF0F8"
             },
             "line": {
              "color": "white"
             }
            },
            "header": {
             "fill": {
              "color": "#C8D4E3"
             },
             "line": {
              "color": "white"
             }
            },
            "type": "table"
           }
          ]
         },
         "layout": {
          "annotationdefaults": {
           "arrowcolor": "#2a3f5f",
           "arrowhead": 0,
           "arrowwidth": 1
          },
          "autotypenumbers": "strict",
          "coloraxis": {
           "colorbar": {
            "outlinewidth": 0,
            "ticks": ""
           }
          },
          "colorscale": {
           "diverging": [
            [
             0,
             "#8e0152"
            ],
            [
             0.1,
             "#c51b7d"
            ],
            [
             0.2,
             "#de77ae"
            ],
            [
             0.3,
             "#f1b6da"
            ],
            [
             0.4,
             "#fde0ef"
            ],
            [
             0.5,
             "#f7f7f7"
            ],
            [
             0.6,
             "#e6f5d0"
            ],
            [
             0.7,
             "#b8e186"
            ],
            [
             0.8,
             "#7fbc41"
            ],
            [
             0.9,
             "#4d9221"
            ],
            [
             1,
             "#276419"
            ]
           ],
           "sequential": [
            [
             0,
             "#0d0887"
            ],
            [
             0.1111111111111111,
             "#46039f"
            ],
            [
             0.2222222222222222,
             "#7201a8"
            ],
            [
             0.3333333333333333,
             "#9c179e"
            ],
            [
             0.4444444444444444,
             "#bd3786"
            ],
            [
             0.5555555555555556,
             "#d8576b"
            ],
            [
             0.6666666666666666,
             "#ed7953"
            ],
            [
             0.7777777777777778,
             "#fb9f3a"
            ],
            [
             0.8888888888888888,
             "#fdca26"
            ],
            [
             1,
             "#f0f921"
            ]
           ],
           "sequentialminus": [
            [
             0,
             "#0d0887"
            ],
            [
             0.1111111111111111,
             "#46039f"
            ],
            [
             0.2222222222222222,
             "#7201a8"
            ],
            [
             0.3333333333333333,
             "#9c179e"
            ],
            [
             0.4444444444444444,
             "#bd3786"
            ],
            [
             0.5555555555555556,
             "#d8576b"
            ],
            [
             0.6666666666666666,
             "#ed7953"
            ],
            [
             0.7777777777777778,
             "#fb9f3a"
            ],
            [
             0.8888888888888888,
             "#fdca26"
            ],
            [
             1,
             "#f0f921"
            ]
           ]
          },
          "colorway": [
           "#636efa",
           "#EF553B",
           "#00cc96",
           "#ab63fa",
           "#FFA15A",
           "#19d3f3",
           "#FF6692",
           "#B6E880",
           "#FF97FF",
           "#FECB52"
          ],
          "font": {
           "color": "#2a3f5f"
          },
          "geo": {
           "bgcolor": "white",
           "lakecolor": "white",
           "landcolor": "white",
           "showlakes": true,
           "showland": true,
           "subunitcolor": "#C8D4E3"
          },
          "hoverlabel": {
           "align": "left"
          },
          "hovermode": "closest",
          "mapbox": {
           "style": "light"
          },
          "paper_bgcolor": "white",
          "plot_bgcolor": "white",
          "polar": {
           "angularaxis": {
            "gridcolor": "#EBF0F8",
            "linecolor": "#EBF0F8",
            "ticks": ""
           },
           "bgcolor": "white",
           "radialaxis": {
            "gridcolor": "#EBF0F8",
            "linecolor": "#EBF0F8",
            "ticks": ""
           }
          },
          "scene": {
           "xaxis": {
            "backgroundcolor": "white",
            "gridcolor": "#DFE8F3",
            "gridwidth": 2,
            "linecolor": "#EBF0F8",
            "showbackground": true,
            "ticks": "",
            "zerolinecolor": "#EBF0F8"
           },
           "yaxis": {
            "backgroundcolor": "white",
            "gridcolor": "#DFE8F3",
            "gridwidth": 2,
            "linecolor": "#EBF0F8",
            "showbackground": true,
            "ticks": "",
            "zerolinecolor": "#EBF0F8"
           },
           "zaxis": {
            "backgroundcolor": "white",
            "gridcolor": "#DFE8F3",
            "gridwidth": 2,
            "linecolor": "#EBF0F8",
            "showbackground": true,
            "ticks": "",
            "zerolinecolor": "#EBF0F8"
           }
          },
          "shapedefaults": {
           "line": {
            "color": "#2a3f5f"
           }
          },
          "ternary": {
           "aaxis": {
            "gridcolor": "#DFE8F3",
            "linecolor": "#A2B1C6",
            "ticks": ""
           },
           "baxis": {
            "gridcolor": "#DFE8F3",
            "linecolor": "#A2B1C6",
            "ticks": ""
           },
           "bgcolor": "white",
           "caxis": {
            "gridcolor": "#DFE8F3",
            "linecolor": "#A2B1C6",
            "ticks": ""
           }
          },
          "title": {
           "x": 0.05
          },
          "xaxis": {
           "automargin": true,
           "gridcolor": "#EBF0F8",
           "linecolor": "#EBF0F8",
           "ticks": "",
           "title": {
            "standoff": 15
           },
           "zerolinecolor": "#EBF0F8",
           "zerolinewidth": 2
          },
          "yaxis": {
           "automargin": true,
           "gridcolor": "#EBF0F8",
           "linecolor": "#EBF0F8",
           "ticks": "",
           "title": {
            "standoff": 15
           },
           "zerolinecolor": "#EBF0F8",
           "zerolinewidth": 2
          }
         }
        },
        "yaxis": {
         "tickformat": ".0%"
        }
       }
      }
     },
     "metadata": {},
     "output_type": "display_data"
    }
   ],
   "source": [
    "import plotly.graph_objects as go \n",
    "\n",
    "traces = []\n",
    "for asset in df.columns:\n",
    "    trace = go.Box(\n",
    "        y=df[asset].to_numpy(),\n",
    "        name=asset,\n",
    "        hovertemplate=\"%{y:.1%}<extra></extra>\"\n",
    "    )\n",
    "    traces.append(trace)\n",
    "\n",
    "fig = go.Figure()\n",
    "for trace in traces:\n",
    "    fig.add_trace(trace)\n",
    "    \n",
    "fig.update_layout(\n",
    "    yaxis_tickformat=\".0%\",\n",
    "    template=\"plotly_white\"\n",
    ")\n",
    "fig.show()    \n"
   ]
  },
  {
   "cell_type": "markdown",
   "metadata": {},
   "source": [
    "# FIGURE 2 (COMPOUND RETURNS)"
   ]
  },
  {
   "cell_type": "code",
   "execution_count": 30,
   "metadata": {},
   "outputs": [
    {
     "data": {
      "application/vnd.plotly.v1+json": {
       "config": {
        "plotlyServerURL": "https://plot.ly"
       },
       "data": [
        {
         "hovertemplate": "%{text} = $%{y:.2f}<extra></extra>",
         "name": "Stocks",
         "text": [
          "Stocks",
          "Stocks",
          "Stocks",
          "Stocks",
          "Stocks",
          "Stocks",
          "Stocks",
          "Stocks",
          "Stocks",
          "Stocks",
          "Stocks",
          "Stocks",
          "Stocks",
          "Stocks",
          "Stocks",
          "Stocks",
          "Stocks",
          "Stocks",
          "Stocks",
          "Stocks",
          "Stocks",
          "Stocks",
          "Stocks",
          "Stocks",
          "Stocks",
          "Stocks",
          "Stocks",
          "Stocks",
          "Stocks",
          "Stocks",
          "Stocks",
          "Stocks",
          "Stocks",
          "Stocks",
          "Stocks",
          "Stocks",
          "Stocks",
          "Stocks",
          "Stocks",
          "Stocks",
          "Stocks",
          "Stocks",
          "Stocks",
          "Stocks",
          "Stocks",
          "Stocks",
          "Stocks",
          "Stocks",
          "Stocks",
          "Stocks",
          "Stocks",
          "Stocks",
          "Stocks",
          "Stocks",
          "Stocks"
         ],
         "type": "scatter",
         "x": [
          1968,
          1969,
          1970,
          1971,
          1972,
          1973,
          1974,
          1975,
          1976,
          1977,
          1978,
          1979,
          1980,
          1981,
          1982,
          1983,
          1984,
          1985,
          1986,
          1987,
          1988,
          1989,
          1990,
          1991,
          1992,
          1993,
          1994,
          1995,
          1996,
          1997,
          1998,
          1999,
          2000,
          2001,
          2002,
          2003,
          2004,
          2005,
          2006,
          2007,
          2008,
          2009,
          2010,
          2011,
          2012,
          2013,
          2014,
          2015,
          2016,
          2017,
          2018,
          2019,
          2020,
          2021,
          2022
         ],
         "y": [
          1.1081486265160152,
          1.0168219861262568,
          1.0530324904831596,
          1.2027858236460331,
          1.4283726699619197,
          1.2240004307591048,
          0.9069624615938255,
          1.2424944677620857,
          1.5385933119756987,
          1.4312040518676639,
          1.5243651869590826,
          1.8066698478750125,
          2.3800209595948094,
          2.2681030861024727,
          2.731228304514922,
          3.341307027757648,
          3.5466685023274573,
          4.654475710794122,
          5.515301386901071,
          5.835890504229171,
          6.800982969213356,
          8.941604847975745,
          8.66759369399252,
          11.28822705093989,
          12.134136079041944,
          13.343551668595614,
          13.520476579276734,
          18.549444735519014,
          22.756637992670367,
          30.289916491818087,
          38.87345887534907,
          46.99231720422934,
          42.74805619146689,
          37.682514494891166,
          29.405155289195967,
          37.74322232739539,
          41.79789213610956,
          43.81860183662993,
          50.65980645409927,
          53.438362714456304,
          33.90538848735737,
          42.698830288684064,
          49.02726332770373,
          50.05603903396156,
          58.010236585287004,
          76.65767694212923,
          87.02518439846537,
          88.2251673918465,
          98.61198770081465,
          119.91758239570487,
          114.84882293320337,
          150.69507002721627,
          177.8551466421971,
          228.48846467300265,
          187.34004208564232
         ]
        },
        {
         "hovertemplate": "%{text} = $%{y:.2f}<extra></extra>",
         "name": "Treasuries",
         "text": [
          "Treasuries",
          "Treasuries",
          "Treasuries",
          "Treasuries",
          "Treasuries",
          "Treasuries",
          "Treasuries",
          "Treasuries",
          "Treasuries",
          "Treasuries",
          "Treasuries",
          "Treasuries",
          "Treasuries",
          "Treasuries",
          "Treasuries",
          "Treasuries",
          "Treasuries",
          "Treasuries",
          "Treasuries",
          "Treasuries",
          "Treasuries",
          "Treasuries",
          "Treasuries",
          "Treasuries",
          "Treasuries",
          "Treasuries",
          "Treasuries",
          "Treasuries",
          "Treasuries",
          "Treasuries",
          "Treasuries",
          "Treasuries",
          "Treasuries",
          "Treasuries",
          "Treasuries",
          "Treasuries",
          "Treasuries",
          "Treasuries",
          "Treasuries",
          "Treasuries",
          "Treasuries",
          "Treasuries",
          "Treasuries",
          "Treasuries",
          "Treasuries",
          "Treasuries",
          "Treasuries",
          "Treasuries",
          "Treasuries",
          "Treasuries",
          "Treasuries",
          "Treasuries",
          "Treasuries",
          "Treasuries",
          "Treasuries"
         ],
         "type": "scatter",
         "x": [
          1968,
          1969,
          1970,
          1971,
          1972,
          1973,
          1974,
          1975,
          1976,
          1977,
          1978,
          1979,
          1980,
          1981,
          1982,
          1983,
          1984,
          1985,
          1986,
          1987,
          1988,
          1989,
          1990,
          1991,
          1992,
          1993,
          1994,
          1995,
          1996,
          1997,
          1998,
          1999,
          2000,
          2001,
          2002,
          2003,
          2004,
          2005,
          2006,
          2007,
          2008,
          2009,
          2010,
          2011,
          2012,
          2013,
          2014,
          2015,
          2016,
          2017,
          2018,
          2019,
          2020,
          2021,
          2022
         ],
         "y": [
          1.0327461969507683,
          0.9809637932749813,
          1.1453216987026367,
          1.2574131493177962,
          1.2928526982849136,
          1.340153842318431,
          1.3668042581295363,
          1.4160810178862877,
          1.6424353483591285,
          1.6636221173501626,
          1.6506861129985873,
          1.6617576000536292,
          1.6120752977238626,
          1.7442528227609697,
          2.3166215284519756,
          2.39075826941371,
          2.7190898131390506,
          3.418235460832611,
          4.248327114193394,
          4.037588467981488,
          4.369623425411409,
          5.142769176500211,
          5.46344013719329,
          6.283202559988787,
          6.87141319549763,
          7.847906810492827,
          7.217197572170158,
          8.911851864378928,
          9.039167274649872,
          9.937581885669674,
          11.420411401493123,
          10.477746113796336,
          12.22284271777007,
          12.903921660481174,
          14.854530123157076,
          14.910281935895723,
          15.579855536754177,
          16.026613029356394,
          16.34089510987363,
          18.00928774325701,
          21.62938508538386,
          19.224912247310215,
          20.851903859356497,
          24.19557649696992,
          24.914565468074017,
          22.64620171522053,
          25.079803417063125,
          25.401903249830703,
          25.57731621207954,
          26.293920042021956,
          26.289530959469367,
          28.822693086408876,
          32.08885116595846,
          30.671796444308317,
          25.20357596035396
         ]
        },
        {
         "hovertemplate": "%{text} = $%{y:.2f}<extra></extra>",
         "name": "Corporates",
         "text": [
          "Corporates",
          "Corporates",
          "Corporates",
          "Corporates",
          "Corporates",
          "Corporates",
          "Corporates",
          "Corporates",
          "Corporates",
          "Corporates",
          "Corporates",
          "Corporates",
          "Corporates",
          "Corporates",
          "Corporates",
          "Corporates",
          "Corporates",
          "Corporates",
          "Corporates",
          "Corporates",
          "Corporates",
          "Corporates",
          "Corporates",
          "Corporates",
          "Corporates",
          "Corporates",
          "Corporates",
          "Corporates",
          "Corporates",
          "Corporates",
          "Corporates",
          "Corporates",
          "Corporates",
          "Corporates",
          "Corporates",
          "Corporates",
          "Corporates",
          "Corporates",
          "Corporates",
          "Corporates",
          "Corporates",
          "Corporates",
          "Corporates",
          "Corporates",
          "Corporates",
          "Corporates",
          "Corporates",
          "Corporates",
          "Corporates",
          "Corporates",
          "Corporates",
          "Corporates",
          "Corporates",
          "Corporates",
          "Corporates"
         ],
         "type": "scatter",
         "x": [
          1968,
          1969,
          1970,
          1971,
          1972,
          1973,
          1974,
          1975,
          1976,
          1977,
          1978,
          1979,
          1980,
          1981,
          1982,
          1983,
          1984,
          1985,
          1986,
          1987,
          1988,
          1989,
          1990,
          1991,
          1992,
          1993,
          1994,
          1995,
          1996,
          1997,
          1998,
          1999,
          2000,
          2001,
          2002,
          2003,
          2004,
          2005,
          2006,
          2007,
          2008,
          2009,
          2010,
          2011,
          2012,
          2013,
          2014,
          2015,
          2016,
          2017,
          2018,
          2019,
          2020,
          2021,
          2022
         ],
         "y": [
          1.0484514622430974,
          1.0272185980428428,
          1.0852520077244459,
          1.237203200491027,
          1.3783568714022523,
          1.4378748791431402,
          1.3748856096460862,
          1.5268099755725677,
          1.8283979099838734,
          2.0104087575174394,
          2.073487040672998,
          2.0318284022113295,
          1.9644595080303136,
          2.1306999192401888,
          2.749720568437926,
          3.195018281108421,
          3.6940548107445603,
          4.575553879972144,
          5.558635209359854,
          5.685919400040604,
          6.545350101316712,
          7.578839055629716,
          8.044184539680302,
          9.480351992534036,
          10.634324694432124,
          12.381705587781777,
          12.218365713181367,
          14.681126163216904,
          15.38473373048266,
          17.20549962034051,
          18.57255504508775,
          18.729152045691755,
          20.4765230323117,
          22.07761323744462,
          24.766195767488245,
          28.11756037467618,
          30.89800143772592,
          32.41742239570228,
          34.702331238209865,
          35.79558867623914,
          33.98228630422012,
          41.91018463428683,
          45.4087807828175,
          51.12325533991874,
          56.299320262730475,
          55.70485506057196,
          61.489752911008026,
          61.060850590075425,
          67.3898723694238,
          73.9427974803288,
          71.90003288921004,
          82.92191791829046,
          91.55536421374264,
          92.40998279135921,
          79.02134890482715
         ]
        },
        {
         "hovertemplate": "%{text} = $%{y:.2f}<extra></extra>",
         "name": "Gold",
         "text": [
          "Gold",
          "Gold",
          "Gold",
          "Gold",
          "Gold",
          "Gold",
          "Gold",
          "Gold",
          "Gold",
          "Gold",
          "Gold",
          "Gold",
          "Gold",
          "Gold",
          "Gold",
          "Gold",
          "Gold",
          "Gold",
          "Gold",
          "Gold",
          "Gold",
          "Gold",
          "Gold",
          "Gold",
          "Gold",
          "Gold",
          "Gold",
          "Gold",
          "Gold",
          "Gold",
          "Gold",
          "Gold",
          "Gold",
          "Gold",
          "Gold",
          "Gold",
          "Gold",
          "Gold",
          "Gold",
          "Gold",
          "Gold",
          "Gold",
          "Gold",
          "Gold",
          "Gold",
          "Gold",
          "Gold",
          "Gold",
          "Gold",
          "Gold",
          "Gold",
          "Gold",
          "Gold",
          "Gold",
          "Gold"
         ],
         "type": "scatter",
         "x": [
          1968,
          1969,
          1970,
          1971,
          1972,
          1973,
          1974,
          1975,
          1976,
          1977,
          1978,
          1979,
          1980,
          1981,
          1982,
          1983,
          1984,
          1985,
          1986,
          1987,
          1988,
          1989,
          1990,
          1991,
          1992,
          1993,
          1994,
          1995,
          1996,
          1997,
          1998,
          1999,
          2000,
          2001,
          2002,
          2003,
          2004,
          2005,
          2006,
          2007,
          2008,
          2009,
          2010,
          2011,
          2012,
          2013,
          2014,
          2015,
          2016,
          2017,
          2018,
          2019,
          2020,
          2021,
          2022
         ],
         "y": [
          1.1924388857305288,
          1.0008527572484367,
          1.0625355315520182,
          1.2399090392268333,
          1.8391131324616259,
          3.190733371233655,
          5.329732802728823,
          3.9866401364411597,
          3.824616259238204,
          4.707220011370096,
          6.381466742467311,
          14.89482660602615,
          16.75667993177942,
          11.370096645821489,
          12.734508243320068,
          10.844229675952246,
          8.783399658897102,
          9.295054007959068,
          11.11142694712905,
          13.828880045480387,
          11.65861284820921,
          11.398521887436045,
          11.114269471290507,
          10.045480386583286,
          9.462762933484935,
          11.104320636725413,
          10.8726549175668,
          10.992040932347926,
          10.50454803865833,
          8.220579874928937,
          8.170835702103469,
          8.267481523592954,
          7.7501421262080745,
          7.859579306424107,
          9.74275156338829,
          11.860432063672542,
          12.450255827174532,
          14.582148948266061,
          18.069926094371805,
          23.77771461057419,
          24.58783399658897,
          31.38146674246731,
          40.08669698692439,
          44.755542922114834,
          47.29960204661739,
          34.1529277998863,
          34.08897100625356,
          30.1947129050597,
          32.94769755542923,
          36.85332575326891,
          36.431210915292795,
          43.291642978965335,
          53.75497441728256,
          51.73678226264925,
          51.51648664013646
         ]
        }
       ],
       "layout": {
        "hovermode": "x unified",
        "legend": {
         "x": 0.01,
         "xanchor": "left",
         "y": 0.99,
         "yanchor": "top"
        },
        "template": {
         "data": {
          "bar": [
           {
            "error_x": {
             "color": "#2a3f5f"
            },
            "error_y": {
             "color": "#2a3f5f"
            },
            "marker": {
             "line": {
              "color": "white",
              "width": 0.5
             },
             "pattern": {
              "fillmode": "overlay",
              "size": 10,
              "solidity": 0.2
             }
            },
            "type": "bar"
           }
          ],
          "barpolar": [
           {
            "marker": {
             "line": {
              "color": "white",
              "width": 0.5
             },
             "pattern": {
              "fillmode": "overlay",
              "size": 10,
              "solidity": 0.2
             }
            },
            "type": "barpolar"
           }
          ],
          "carpet": [
           {
            "aaxis": {
             "endlinecolor": "#2a3f5f",
             "gridcolor": "#C8D4E3",
             "linecolor": "#C8D4E3",
             "minorgridcolor": "#C8D4E3",
             "startlinecolor": "#2a3f5f"
            },
            "baxis": {
             "endlinecolor": "#2a3f5f",
             "gridcolor": "#C8D4E3",
             "linecolor": "#C8D4E3",
             "minorgridcolor": "#C8D4E3",
             "startlinecolor": "#2a3f5f"
            },
            "type": "carpet"
           }
          ],
          "choropleth": [
           {
            "colorbar": {
             "outlinewidth": 0,
             "ticks": ""
            },
            "type": "choropleth"
           }
          ],
          "contour": [
           {
            "colorbar": {
             "outlinewidth": 0,
             "ticks": ""
            },
            "colorscale": [
             [
              0,
              "#0d0887"
             ],
             [
              0.1111111111111111,
              "#46039f"
             ],
             [
              0.2222222222222222,
              "#7201a8"
             ],
             [
              0.3333333333333333,
              "#9c179e"
             ],
             [
              0.4444444444444444,
              "#bd3786"
             ],
             [
              0.5555555555555556,
              "#d8576b"
             ],
             [
              0.6666666666666666,
              "#ed7953"
             ],
             [
              0.7777777777777778,
              "#fb9f3a"
             ],
             [
              0.8888888888888888,
              "#fdca26"
             ],
             [
              1,
              "#f0f921"
             ]
            ],
            "type": "contour"
           }
          ],
          "contourcarpet": [
           {
            "colorbar": {
             "outlinewidth": 0,
             "ticks": ""
            },
            "type": "contourcarpet"
           }
          ],
          "heatmap": [
           {
            "colorbar": {
             "outlinewidth": 0,
             "ticks": ""
            },
            "colorscale": [
             [
              0,
              "#0d0887"
             ],
             [
              0.1111111111111111,
              "#46039f"
             ],
             [
              0.2222222222222222,
              "#7201a8"
             ],
             [
              0.3333333333333333,
              "#9c179e"
             ],
             [
              0.4444444444444444,
              "#bd3786"
             ],
             [
              0.5555555555555556,
              "#d8576b"
             ],
             [
              0.6666666666666666,
              "#ed7953"
             ],
             [
              0.7777777777777778,
              "#fb9f3a"
             ],
             [
              0.8888888888888888,
              "#fdca26"
             ],
             [
              1,
              "#f0f921"
             ]
            ],
            "type": "heatmap"
           }
          ],
          "heatmapgl": [
           {
            "colorbar": {
             "outlinewidth": 0,
             "ticks": ""
            },
            "colorscale": [
             [
              0,
              "#0d0887"
             ],
             [
              0.1111111111111111,
              "#46039f"
             ],
             [
              0.2222222222222222,
              "#7201a8"
             ],
             [
              0.3333333333333333,
              "#9c179e"
             ],
             [
              0.4444444444444444,
              "#bd3786"
             ],
             [
              0.5555555555555556,
              "#d8576b"
             ],
             [
              0.6666666666666666,
              "#ed7953"
             ],
             [
              0.7777777777777778,
              "#fb9f3a"
             ],
             [
              0.8888888888888888,
              "#fdca26"
             ],
             [
              1,
              "#f0f921"
             ]
            ],
            "type": "heatmapgl"
           }
          ],
          "histogram": [
           {
            "marker": {
             "pattern": {
              "fillmode": "overlay",
              "size": 10,
              "solidity": 0.2
             }
            },
            "type": "histogram"
           }
          ],
          "histogram2d": [
           {
            "colorbar": {
             "outlinewidth": 0,
             "ticks": ""
            },
            "colorscale": [
             [
              0,
              "#0d0887"
             ],
             [
              0.1111111111111111,
              "#46039f"
             ],
             [
              0.2222222222222222,
              "#7201a8"
             ],
             [
              0.3333333333333333,
              "#9c179e"
             ],
             [
              0.4444444444444444,
              "#bd3786"
             ],
             [
              0.5555555555555556,
              "#d8576b"
             ],
             [
              0.6666666666666666,
              "#ed7953"
             ],
             [
              0.7777777777777778,
              "#fb9f3a"
             ],
             [
              0.8888888888888888,
              "#fdca26"
             ],
             [
              1,
              "#f0f921"
             ]
            ],
            "type": "histogram2d"
           }
          ],
          "histogram2dcontour": [
           {
            "colorbar": {
             "outlinewidth": 0,
             "ticks": ""
            },
            "colorscale": [
             [
              0,
              "#0d0887"
             ],
             [
              0.1111111111111111,
              "#46039f"
             ],
             [
              0.2222222222222222,
              "#7201a8"
             ],
             [
              0.3333333333333333,
              "#9c179e"
             ],
             [
              0.4444444444444444,
              "#bd3786"
             ],
             [
              0.5555555555555556,
              "#d8576b"
             ],
             [
              0.6666666666666666,
              "#ed7953"
             ],
             [
              0.7777777777777778,
              "#fb9f3a"
             ],
             [
              0.8888888888888888,
              "#fdca26"
             ],
             [
              1,
              "#f0f921"
             ]
            ],
            "type": "histogram2dcontour"
           }
          ],
          "mesh3d": [
           {
            "colorbar": {
             "outlinewidth": 0,
             "ticks": ""
            },
            "type": "mesh3d"
           }
          ],
          "parcoords": [
           {
            "line": {
             "colorbar": {
              "outlinewidth": 0,
              "ticks": ""
             }
            },
            "type": "parcoords"
           }
          ],
          "pie": [
           {
            "automargin": true,
            "type": "pie"
           }
          ],
          "scatter": [
           {
            "fillpattern": {
             "fillmode": "overlay",
             "size": 10,
             "solidity": 0.2
            },
            "type": "scatter"
           }
          ],
          "scatter3d": [
           {
            "line": {
             "colorbar": {
              "outlinewidth": 0,
              "ticks": ""
             }
            },
            "marker": {
             "colorbar": {
              "outlinewidth": 0,
              "ticks": ""
             }
            },
            "type": "scatter3d"
           }
          ],
          "scattercarpet": [
           {
            "marker": {
             "colorbar": {
              "outlinewidth": 0,
              "ticks": ""
             }
            },
            "type": "scattercarpet"
           }
          ],
          "scattergeo": [
           {
            "marker": {
             "colorbar": {
              "outlinewidth": 0,
              "ticks": ""
             }
            },
            "type": "scattergeo"
           }
          ],
          "scattergl": [
           {
            "marker": {
             "colorbar": {
              "outlinewidth": 0,
              "ticks": ""
             }
            },
            "type": "scattergl"
           }
          ],
          "scattermapbox": [
           {
            "marker": {
             "colorbar": {
              "outlinewidth": 0,
              "ticks": ""
             }
            },
            "type": "scattermapbox"
           }
          ],
          "scatterpolar": [
           {
            "marker": {
             "colorbar": {
              "outlinewidth": 0,
              "ticks": ""
             }
            },
            "type": "scatterpolar"
           }
          ],
          "scatterpolargl": [
           {
            "marker": {
             "colorbar": {
              "outlinewidth": 0,
              "ticks": ""
             }
            },
            "type": "scatterpolargl"
           }
          ],
          "scatterternary": [
           {
            "marker": {
             "colorbar": {
              "outlinewidth": 0,
              "ticks": ""
             }
            },
            "type": "scatterternary"
           }
          ],
          "surface": [
           {
            "colorbar": {
             "outlinewidth": 0,
             "ticks": ""
            },
            "colorscale": [
             [
              0,
              "#0d0887"
             ],
             [
              0.1111111111111111,
              "#46039f"
             ],
             [
              0.2222222222222222,
              "#7201a8"
             ],
             [
              0.3333333333333333,
              "#9c179e"
             ],
             [
              0.4444444444444444,
              "#bd3786"
             ],
             [
              0.5555555555555556,
              "#d8576b"
             ],
             [
              0.6666666666666666,
              "#ed7953"
             ],
             [
              0.7777777777777778,
              "#fb9f3a"
             ],
             [
              0.8888888888888888,
              "#fdca26"
             ],
             [
              1,
              "#f0f921"
             ]
            ],
            "type": "surface"
           }
          ],
          "table": [
           {
            "cells": {
             "fill": {
              "color": "#EBF0F8"
             },
             "line": {
              "color": "white"
             }
            },
            "header": {
             "fill": {
              "color": "#C8D4E3"
             },
             "line": {
              "color": "white"
             }
            },
            "type": "table"
           }
          ]
         },
         "layout": {
          "annotationdefaults": {
           "arrowcolor": "#2a3f5f",
           "arrowhead": 0,
           "arrowwidth": 1
          },
          "autotypenumbers": "strict",
          "coloraxis": {
           "colorbar": {
            "outlinewidth": 0,
            "ticks": ""
           }
          },
          "colorscale": {
           "diverging": [
            [
             0,
             "#8e0152"
            ],
            [
             0.1,
             "#c51b7d"
            ],
            [
             0.2,
             "#de77ae"
            ],
            [
             0.3,
             "#f1b6da"
            ],
            [
             0.4,
             "#fde0ef"
            ],
            [
             0.5,
             "#f7f7f7"
            ],
            [
             0.6,
             "#e6f5d0"
            ],
            [
             0.7,
             "#b8e186"
            ],
            [
             0.8,
             "#7fbc41"
            ],
            [
             0.9,
             "#4d9221"
            ],
            [
             1,
             "#276419"
            ]
           ],
           "sequential": [
            [
             0,
             "#0d0887"
            ],
            [
             0.1111111111111111,
             "#46039f"
            ],
            [
             0.2222222222222222,
             "#7201a8"
            ],
            [
             0.3333333333333333,
             "#9c179e"
            ],
            [
             0.4444444444444444,
             "#bd3786"
            ],
            [
             0.5555555555555556,
             "#d8576b"
            ],
            [
             0.6666666666666666,
             "#ed7953"
            ],
            [
             0.7777777777777778,
             "#fb9f3a"
            ],
            [
             0.8888888888888888,
             "#fdca26"
            ],
            [
             1,
             "#f0f921"
            ]
           ],
           "sequentialminus": [
            [
             0,
             "#0d0887"
            ],
            [
             0.1111111111111111,
             "#46039f"
            ],
            [
             0.2222222222222222,
             "#7201a8"
            ],
            [
             0.3333333333333333,
             "#9c179e"
            ],
            [
             0.4444444444444444,
             "#bd3786"
            ],
            [
             0.5555555555555556,
             "#d8576b"
            ],
            [
             0.6666666666666666,
             "#ed7953"
            ],
            [
             0.7777777777777778,
             "#fb9f3a"
            ],
            [
             0.8888888888888888,
             "#fdca26"
            ],
            [
             1,
             "#f0f921"
            ]
           ]
          },
          "colorway": [
           "#636efa",
           "#EF553B",
           "#00cc96",
           "#ab63fa",
           "#FFA15A",
           "#19d3f3",
           "#FF6692",
           "#B6E880",
           "#FF97FF",
           "#FECB52"
          ],
          "font": {
           "color": "#2a3f5f"
          },
          "geo": {
           "bgcolor": "white",
           "lakecolor": "white",
           "landcolor": "white",
           "showlakes": true,
           "showland": true,
           "subunitcolor": "#C8D4E3"
          },
          "hoverlabel": {
           "align": "left"
          },
          "hovermode": "closest",
          "mapbox": {
           "style": "light"
          },
          "paper_bgcolor": "white",
          "plot_bgcolor": "white",
          "polar": {
           "angularaxis": {
            "gridcolor": "#EBF0F8",
            "linecolor": "#EBF0F8",
            "ticks": ""
           },
           "bgcolor": "white",
           "radialaxis": {
            "gridcolor": "#EBF0F8",
            "linecolor": "#EBF0F8",
            "ticks": ""
           }
          },
          "scene": {
           "xaxis": {
            "backgroundcolor": "white",
            "gridcolor": "#DFE8F3",
            "gridwidth": 2,
            "linecolor": "#EBF0F8",
            "showbackground": true,
            "ticks": "",
            "zerolinecolor": "#EBF0F8"
           },
           "yaxis": {
            "backgroundcolor": "white",
            "gridcolor": "#DFE8F3",
            "gridwidth": 2,
            "linecolor": "#EBF0F8",
            "showbackground": true,
            "ticks": "",
            "zerolinecolor": "#EBF0F8"
           },
           "zaxis": {
            "backgroundcolor": "white",
            "gridcolor": "#DFE8F3",
            "gridwidth": 2,
            "linecolor": "#EBF0F8",
            "showbackground": true,
            "ticks": "",
            "zerolinecolor": "#EBF0F8"
           }
          },
          "shapedefaults": {
           "line": {
            "color": "#2a3f5f"
           }
          },
          "ternary": {
           "aaxis": {
            "gridcolor": "#DFE8F3",
            "linecolor": "#A2B1C6",
            "ticks": ""
           },
           "baxis": {
            "gridcolor": "#DFE8F3",
            "linecolor": "#A2B1C6",
            "ticks": ""
           },
           "bgcolor": "white",
           "caxis": {
            "gridcolor": "#DFE8F3",
            "linecolor": "#A2B1C6",
            "ticks": ""
           }
          },
          "title": {
           "x": 0.05
          },
          "xaxis": {
           "automargin": true,
           "gridcolor": "#EBF0F8",
           "linecolor": "#EBF0F8",
           "ticks": "",
           "title": {
            "standoff": 15
           },
           "zerolinecolor": "#EBF0F8",
           "zerolinewidth": 2
          },
          "yaxis": {
           "automargin": true,
           "gridcolor": "#EBF0F8",
           "linecolor": "#EBF0F8",
           "ticks": "",
           "title": {
            "standoff": 15
           },
           "zerolinecolor": "#EBF0F8",
           "zerolinewidth": 2
          }
         }
        },
        "xaxis": {
         "tickformat": ".0f"
        },
        "yaxis": {
         "tickprefix": "$"
        }
       }
      }
     },
     "metadata": {},
     "output_type": "display_data"
    }
   ],
   "source": [
    "accum = (1+df).cumprod()\n",
    "\n",
    "traces = []\n",
    "for asset in accum.columns:\n",
    "    trace = go.Scatter(\n",
    "        x=accum.index.to_list(),\n",
    "        y=accum[asset],\n",
    "        name=asset,\n",
    "        text=[asset]*accum.shape[0],\n",
    "        hovertemplate=\"%{text} = $%{y:.2f}<extra></extra>\"\n",
    "    )\n",
    "    traces.append(trace)\n",
    "\n",
    "fig = go.Figure()\n",
    "for trace in traces:\n",
    "    fig.add_trace(trace)\n",
    "\n",
    "fig.update_layout(\n",
    "    yaxis_tickprefix=\"$\",\n",
    "    xaxis_tickformat=\".0f\",\n",
    "    hovermode=\"x unified\",\n",
    "    template=\"plotly_white\",\n",
    "    legend=dict(\n",
    "        yanchor=\"top\", \n",
    "        y=0.99, \n",
    "        xanchor=\"left\", \n",
    "        x=0.01\n",
    "    ),\n",
    ")\n",
    "fig.show()"
   ]
  },
  {
   "cell_type": "markdown",
   "metadata": {},
   "source": [
    "# FIGURE 3 (COMPOUND RETURNS ON LOG SCALE)"
   ]
  },
  {
   "cell_type": "code",
   "execution_count": 31,
   "metadata": {},
   "outputs": [
    {
     "data": {
      "application/vnd.plotly.v1+json": {
       "config": {
        "plotlyServerURL": "https://plot.ly"
       },
       "data": [
        {
         "hovertemplate": "%{text} = $%{y:.2f}<extra></extra>",
         "name": "Stocks",
         "text": [
          "Stocks",
          "Stocks",
          "Stocks",
          "Stocks",
          "Stocks",
          "Stocks",
          "Stocks",
          "Stocks",
          "Stocks",
          "Stocks",
          "Stocks",
          "Stocks",
          "Stocks",
          "Stocks",
          "Stocks",
          "Stocks",
          "Stocks",
          "Stocks",
          "Stocks",
          "Stocks",
          "Stocks",
          "Stocks",
          "Stocks",
          "Stocks",
          "Stocks",
          "Stocks",
          "Stocks",
          "Stocks",
          "Stocks",
          "Stocks",
          "Stocks",
          "Stocks",
          "Stocks",
          "Stocks",
          "Stocks",
          "Stocks",
          "Stocks",
          "Stocks",
          "Stocks",
          "Stocks",
          "Stocks",
          "Stocks",
          "Stocks",
          "Stocks",
          "Stocks",
          "Stocks",
          "Stocks",
          "Stocks",
          "Stocks",
          "Stocks",
          "Stocks",
          "Stocks",
          "Stocks",
          "Stocks",
          "Stocks"
         ],
         "type": "scatter",
         "x": [
          1968,
          1969,
          1970,
          1971,
          1972,
          1973,
          1974,
          1975,
          1976,
          1977,
          1978,
          1979,
          1980,
          1981,
          1982,
          1983,
          1984,
          1985,
          1986,
          1987,
          1988,
          1989,
          1990,
          1991,
          1992,
          1993,
          1994,
          1995,
          1996,
          1997,
          1998,
          1999,
          2000,
          2001,
          2002,
          2003,
          2004,
          2005,
          2006,
          2007,
          2008,
          2009,
          2010,
          2011,
          2012,
          2013,
          2014,
          2015,
          2016,
          2017,
          2018,
          2019,
          2020,
          2021,
          2022
         ],
         "y": [
          1.1081486265160152,
          1.0168219861262568,
          1.0530324904831596,
          1.2027858236460331,
          1.4283726699619197,
          1.2240004307591048,
          0.9069624615938255,
          1.2424944677620857,
          1.5385933119756987,
          1.4312040518676639,
          1.5243651869590826,
          1.8066698478750125,
          2.3800209595948094,
          2.2681030861024727,
          2.731228304514922,
          3.341307027757648,
          3.5466685023274573,
          4.654475710794122,
          5.515301386901071,
          5.835890504229171,
          6.800982969213356,
          8.941604847975745,
          8.66759369399252,
          11.28822705093989,
          12.134136079041944,
          13.343551668595614,
          13.520476579276734,
          18.549444735519014,
          22.756637992670367,
          30.289916491818087,
          38.87345887534907,
          46.99231720422934,
          42.74805619146689,
          37.682514494891166,
          29.405155289195967,
          37.74322232739539,
          41.79789213610956,
          43.81860183662993,
          50.65980645409927,
          53.438362714456304,
          33.90538848735737,
          42.698830288684064,
          49.02726332770373,
          50.05603903396156,
          58.010236585287004,
          76.65767694212923,
          87.02518439846537,
          88.2251673918465,
          98.61198770081465,
          119.91758239570487,
          114.84882293320337,
          150.69507002721627,
          177.8551466421971,
          228.48846467300265,
          187.34004208564232
         ]
        },
        {
         "hovertemplate": "%{text} = $%{y:.2f}<extra></extra>",
         "name": "Treasuries",
         "text": [
          "Treasuries",
          "Treasuries",
          "Treasuries",
          "Treasuries",
          "Treasuries",
          "Treasuries",
          "Treasuries",
          "Treasuries",
          "Treasuries",
          "Treasuries",
          "Treasuries",
          "Treasuries",
          "Treasuries",
          "Treasuries",
          "Treasuries",
          "Treasuries",
          "Treasuries",
          "Treasuries",
          "Treasuries",
          "Treasuries",
          "Treasuries",
          "Treasuries",
          "Treasuries",
          "Treasuries",
          "Treasuries",
          "Treasuries",
          "Treasuries",
          "Treasuries",
          "Treasuries",
          "Treasuries",
          "Treasuries",
          "Treasuries",
          "Treasuries",
          "Treasuries",
          "Treasuries",
          "Treasuries",
          "Treasuries",
          "Treasuries",
          "Treasuries",
          "Treasuries",
          "Treasuries",
          "Treasuries",
          "Treasuries",
          "Treasuries",
          "Treasuries",
          "Treasuries",
          "Treasuries",
          "Treasuries",
          "Treasuries",
          "Treasuries",
          "Treasuries",
          "Treasuries",
          "Treasuries",
          "Treasuries",
          "Treasuries"
         ],
         "type": "scatter",
         "x": [
          1968,
          1969,
          1970,
          1971,
          1972,
          1973,
          1974,
          1975,
          1976,
          1977,
          1978,
          1979,
          1980,
          1981,
          1982,
          1983,
          1984,
          1985,
          1986,
          1987,
          1988,
          1989,
          1990,
          1991,
          1992,
          1993,
          1994,
          1995,
          1996,
          1997,
          1998,
          1999,
          2000,
          2001,
          2002,
          2003,
          2004,
          2005,
          2006,
          2007,
          2008,
          2009,
          2010,
          2011,
          2012,
          2013,
          2014,
          2015,
          2016,
          2017,
          2018,
          2019,
          2020,
          2021,
          2022
         ],
         "y": [
          1.0327461969507683,
          0.9809637932749813,
          1.1453216987026367,
          1.2574131493177962,
          1.2928526982849136,
          1.340153842318431,
          1.3668042581295363,
          1.4160810178862877,
          1.6424353483591285,
          1.6636221173501626,
          1.6506861129985873,
          1.6617576000536292,
          1.6120752977238626,
          1.7442528227609697,
          2.3166215284519756,
          2.39075826941371,
          2.7190898131390506,
          3.418235460832611,
          4.248327114193394,
          4.037588467981488,
          4.369623425411409,
          5.142769176500211,
          5.46344013719329,
          6.283202559988787,
          6.87141319549763,
          7.847906810492827,
          7.217197572170158,
          8.911851864378928,
          9.039167274649872,
          9.937581885669674,
          11.420411401493123,
          10.477746113796336,
          12.22284271777007,
          12.903921660481174,
          14.854530123157076,
          14.910281935895723,
          15.579855536754177,
          16.026613029356394,
          16.34089510987363,
          18.00928774325701,
          21.62938508538386,
          19.224912247310215,
          20.851903859356497,
          24.19557649696992,
          24.914565468074017,
          22.64620171522053,
          25.079803417063125,
          25.401903249830703,
          25.57731621207954,
          26.293920042021956,
          26.289530959469367,
          28.822693086408876,
          32.08885116595846,
          30.671796444308317,
          25.20357596035396
         ]
        },
        {
         "hovertemplate": "%{text} = $%{y:.2f}<extra></extra>",
         "name": "Corporates",
         "text": [
          "Corporates",
          "Corporates",
          "Corporates",
          "Corporates",
          "Corporates",
          "Corporates",
          "Corporates",
          "Corporates",
          "Corporates",
          "Corporates",
          "Corporates",
          "Corporates",
          "Corporates",
          "Corporates",
          "Corporates",
          "Corporates",
          "Corporates",
          "Corporates",
          "Corporates",
          "Corporates",
          "Corporates",
          "Corporates",
          "Corporates",
          "Corporates",
          "Corporates",
          "Corporates",
          "Corporates",
          "Corporates",
          "Corporates",
          "Corporates",
          "Corporates",
          "Corporates",
          "Corporates",
          "Corporates",
          "Corporates",
          "Corporates",
          "Corporates",
          "Corporates",
          "Corporates",
          "Corporates",
          "Corporates",
          "Corporates",
          "Corporates",
          "Corporates",
          "Corporates",
          "Corporates",
          "Corporates",
          "Corporates",
          "Corporates",
          "Corporates",
          "Corporates",
          "Corporates",
          "Corporates",
          "Corporates",
          "Corporates"
         ],
         "type": "scatter",
         "x": [
          1968,
          1969,
          1970,
          1971,
          1972,
          1973,
          1974,
          1975,
          1976,
          1977,
          1978,
          1979,
          1980,
          1981,
          1982,
          1983,
          1984,
          1985,
          1986,
          1987,
          1988,
          1989,
          1990,
          1991,
          1992,
          1993,
          1994,
          1995,
          1996,
          1997,
          1998,
          1999,
          2000,
          2001,
          2002,
          2003,
          2004,
          2005,
          2006,
          2007,
          2008,
          2009,
          2010,
          2011,
          2012,
          2013,
          2014,
          2015,
          2016,
          2017,
          2018,
          2019,
          2020,
          2021,
          2022
         ],
         "y": [
          1.0484514622430974,
          1.0272185980428428,
          1.0852520077244459,
          1.237203200491027,
          1.3783568714022523,
          1.4378748791431402,
          1.3748856096460862,
          1.5268099755725677,
          1.8283979099838734,
          2.0104087575174394,
          2.073487040672998,
          2.0318284022113295,
          1.9644595080303136,
          2.1306999192401888,
          2.749720568437926,
          3.195018281108421,
          3.6940548107445603,
          4.575553879972144,
          5.558635209359854,
          5.685919400040604,
          6.545350101316712,
          7.578839055629716,
          8.044184539680302,
          9.480351992534036,
          10.634324694432124,
          12.381705587781777,
          12.218365713181367,
          14.681126163216904,
          15.38473373048266,
          17.20549962034051,
          18.57255504508775,
          18.729152045691755,
          20.4765230323117,
          22.07761323744462,
          24.766195767488245,
          28.11756037467618,
          30.89800143772592,
          32.41742239570228,
          34.702331238209865,
          35.79558867623914,
          33.98228630422012,
          41.91018463428683,
          45.4087807828175,
          51.12325533991874,
          56.299320262730475,
          55.70485506057196,
          61.489752911008026,
          61.060850590075425,
          67.3898723694238,
          73.9427974803288,
          71.90003288921004,
          82.92191791829046,
          91.55536421374264,
          92.40998279135921,
          79.02134890482715
         ]
        },
        {
         "hovertemplate": "%{text} = $%{y:.2f}<extra></extra>",
         "name": "Gold",
         "text": [
          "Gold",
          "Gold",
          "Gold",
          "Gold",
          "Gold",
          "Gold",
          "Gold",
          "Gold",
          "Gold",
          "Gold",
          "Gold",
          "Gold",
          "Gold",
          "Gold",
          "Gold",
          "Gold",
          "Gold",
          "Gold",
          "Gold",
          "Gold",
          "Gold",
          "Gold",
          "Gold",
          "Gold",
          "Gold",
          "Gold",
          "Gold",
          "Gold",
          "Gold",
          "Gold",
          "Gold",
          "Gold",
          "Gold",
          "Gold",
          "Gold",
          "Gold",
          "Gold",
          "Gold",
          "Gold",
          "Gold",
          "Gold",
          "Gold",
          "Gold",
          "Gold",
          "Gold",
          "Gold",
          "Gold",
          "Gold",
          "Gold",
          "Gold",
          "Gold",
          "Gold",
          "Gold",
          "Gold",
          "Gold"
         ],
         "type": "scatter",
         "x": [
          1968,
          1969,
          1970,
          1971,
          1972,
          1973,
          1974,
          1975,
          1976,
          1977,
          1978,
          1979,
          1980,
          1981,
          1982,
          1983,
          1984,
          1985,
          1986,
          1987,
          1988,
          1989,
          1990,
          1991,
          1992,
          1993,
          1994,
          1995,
          1996,
          1997,
          1998,
          1999,
          2000,
          2001,
          2002,
          2003,
          2004,
          2005,
          2006,
          2007,
          2008,
          2009,
          2010,
          2011,
          2012,
          2013,
          2014,
          2015,
          2016,
          2017,
          2018,
          2019,
          2020,
          2021,
          2022
         ],
         "y": [
          1.1924388857305288,
          1.0008527572484367,
          1.0625355315520182,
          1.2399090392268333,
          1.8391131324616259,
          3.190733371233655,
          5.329732802728823,
          3.9866401364411597,
          3.824616259238204,
          4.707220011370096,
          6.381466742467311,
          14.89482660602615,
          16.75667993177942,
          11.370096645821489,
          12.734508243320068,
          10.844229675952246,
          8.783399658897102,
          9.295054007959068,
          11.11142694712905,
          13.828880045480387,
          11.65861284820921,
          11.398521887436045,
          11.114269471290507,
          10.045480386583286,
          9.462762933484935,
          11.104320636725413,
          10.8726549175668,
          10.992040932347926,
          10.50454803865833,
          8.220579874928937,
          8.170835702103469,
          8.267481523592954,
          7.7501421262080745,
          7.859579306424107,
          9.74275156338829,
          11.860432063672542,
          12.450255827174532,
          14.582148948266061,
          18.069926094371805,
          23.77771461057419,
          24.58783399658897,
          31.38146674246731,
          40.08669698692439,
          44.755542922114834,
          47.29960204661739,
          34.1529277998863,
          34.08897100625356,
          30.1947129050597,
          32.94769755542923,
          36.85332575326891,
          36.431210915292795,
          43.291642978965335,
          53.75497441728256,
          51.73678226264925,
          51.51648664013646
         ]
        }
       ],
       "layout": {
        "hovermode": "x unified",
        "legend": {
         "x": 0.01,
         "xanchor": "left",
         "y": 0.99,
         "yanchor": "top"
        },
        "template": {
         "data": {
          "bar": [
           {
            "error_x": {
             "color": "#2a3f5f"
            },
            "error_y": {
             "color": "#2a3f5f"
            },
            "marker": {
             "line": {
              "color": "white",
              "width": 0.5
             },
             "pattern": {
              "fillmode": "overlay",
              "size": 10,
              "solidity": 0.2
             }
            },
            "type": "bar"
           }
          ],
          "barpolar": [
           {
            "marker": {
             "line": {
              "color": "white",
              "width": 0.5
             },
             "pattern": {
              "fillmode": "overlay",
              "size": 10,
              "solidity": 0.2
             }
            },
            "type": "barpolar"
           }
          ],
          "carpet": [
           {
            "aaxis": {
             "endlinecolor": "#2a3f5f",
             "gridcolor": "#C8D4E3",
             "linecolor": "#C8D4E3",
             "minorgridcolor": "#C8D4E3",
             "startlinecolor": "#2a3f5f"
            },
            "baxis": {
             "endlinecolor": "#2a3f5f",
             "gridcolor": "#C8D4E3",
             "linecolor": "#C8D4E3",
             "minorgridcolor": "#C8D4E3",
             "startlinecolor": "#2a3f5f"
            },
            "type": "carpet"
           }
          ],
          "choropleth": [
           {
            "colorbar": {
             "outlinewidth": 0,
             "ticks": ""
            },
            "type": "choropleth"
           }
          ],
          "contour": [
           {
            "colorbar": {
             "outlinewidth": 0,
             "ticks": ""
            },
            "colorscale": [
             [
              0,
              "#0d0887"
             ],
             [
              0.1111111111111111,
              "#46039f"
             ],
             [
              0.2222222222222222,
              "#7201a8"
             ],
             [
              0.3333333333333333,
              "#9c179e"
             ],
             [
              0.4444444444444444,
              "#bd3786"
             ],
             [
              0.5555555555555556,
              "#d8576b"
             ],
             [
              0.6666666666666666,
              "#ed7953"
             ],
             [
              0.7777777777777778,
              "#fb9f3a"
             ],
             [
              0.8888888888888888,
              "#fdca26"
             ],
             [
              1,
              "#f0f921"
             ]
            ],
            "type": "contour"
           }
          ],
          "contourcarpet": [
           {
            "colorbar": {
             "outlinewidth": 0,
             "ticks": ""
            },
            "type": "contourcarpet"
           }
          ],
          "heatmap": [
           {
            "colorbar": {
             "outlinewidth": 0,
             "ticks": ""
            },
            "colorscale": [
             [
              0,
              "#0d0887"
             ],
             [
              0.1111111111111111,
              "#46039f"
             ],
             [
              0.2222222222222222,
              "#7201a8"
             ],
             [
              0.3333333333333333,
              "#9c179e"
             ],
             [
              0.4444444444444444,
              "#bd3786"
             ],
             [
              0.5555555555555556,
              "#d8576b"
             ],
             [
              0.6666666666666666,
              "#ed7953"
             ],
             [
              0.7777777777777778,
              "#fb9f3a"
             ],
             [
              0.8888888888888888,
              "#fdca26"
             ],
             [
              1,
              "#f0f921"
             ]
            ],
            "type": "heatmap"
           }
          ],
          "heatmapgl": [
           {
            "colorbar": {
             "outlinewidth": 0,
             "ticks": ""
            },
            "colorscale": [
             [
              0,
              "#0d0887"
             ],
             [
              0.1111111111111111,
              "#46039f"
             ],
             [
              0.2222222222222222,
              "#7201a8"
             ],
             [
              0.3333333333333333,
              "#9c179e"
             ],
             [
              0.4444444444444444,
              "#bd3786"
             ],
             [
              0.5555555555555556,
              "#d8576b"
             ],
             [
              0.6666666666666666,
              "#ed7953"
             ],
             [
              0.7777777777777778,
              "#fb9f3a"
             ],
             [
              0.8888888888888888,
              "#fdca26"
             ],
             [
              1,
              "#f0f921"
             ]
            ],
            "type": "heatmapgl"
           }
          ],
          "histogram": [
           {
            "marker": {
             "pattern": {
              "fillmode": "overlay",
              "size": 10,
              "solidity": 0.2
             }
            },
            "type": "histogram"
           }
          ],
          "histogram2d": [
           {
            "colorbar": {
             "outlinewidth": 0,
             "ticks": ""
            },
            "colorscale": [
             [
              0,
              "#0d0887"
             ],
             [
              0.1111111111111111,
              "#46039f"
             ],
             [
              0.2222222222222222,
              "#7201a8"
             ],
             [
              0.3333333333333333,
              "#9c179e"
             ],
             [
              0.4444444444444444,
              "#bd3786"
             ],
             [
              0.5555555555555556,
              "#d8576b"
             ],
             [
              0.6666666666666666,
              "#ed7953"
             ],
             [
              0.7777777777777778,
              "#fb9f3a"
             ],
             [
              0.8888888888888888,
              "#fdca26"
             ],
             [
              1,
              "#f0f921"
             ]
            ],
            "type": "histogram2d"
           }
          ],
          "histogram2dcontour": [
           {
            "colorbar": {
             "outlinewidth": 0,
             "ticks": ""
            },
            "colorscale": [
             [
              0,
              "#0d0887"
             ],
             [
              0.1111111111111111,
              "#46039f"
             ],
             [
              0.2222222222222222,
              "#7201a8"
             ],
             [
              0.3333333333333333,
              "#9c179e"
             ],
             [
              0.4444444444444444,
              "#bd3786"
             ],
             [
              0.5555555555555556,
              "#d8576b"
             ],
             [
              0.6666666666666666,
              "#ed7953"
             ],
             [
              0.7777777777777778,
              "#fb9f3a"
             ],
             [
              0.8888888888888888,
              "#fdca26"
             ],
             [
              1,
              "#f0f921"
             ]
            ],
            "type": "histogram2dcontour"
           }
          ],
          "mesh3d": [
           {
            "colorbar": {
             "outlinewidth": 0,
             "ticks": ""
            },
            "type": "mesh3d"
           }
          ],
          "parcoords": [
           {
            "line": {
             "colorbar": {
              "outlinewidth": 0,
              "ticks": ""
             }
            },
            "type": "parcoords"
           }
          ],
          "pie": [
           {
            "automargin": true,
            "type": "pie"
           }
          ],
          "scatter": [
           {
            "fillpattern": {
             "fillmode": "overlay",
             "size": 10,
             "solidity": 0.2
            },
            "type": "scatter"
           }
          ],
          "scatter3d": [
           {
            "line": {
             "colorbar": {
              "outlinewidth": 0,
              "ticks": ""
             }
            },
            "marker": {
             "colorbar": {
              "outlinewidth": 0,
              "ticks": ""
             }
            },
            "type": "scatter3d"
           }
          ],
          "scattercarpet": [
           {
            "marker": {
             "colorbar": {
              "outlinewidth": 0,
              "ticks": ""
             }
            },
            "type": "scattercarpet"
           }
          ],
          "scattergeo": [
           {
            "marker": {
             "colorbar": {
              "outlinewidth": 0,
              "ticks": ""
             }
            },
            "type": "scattergeo"
           }
          ],
          "scattergl": [
           {
            "marker": {
             "colorbar": {
              "outlinewidth": 0,
              "ticks": ""
             }
            },
            "type": "scattergl"
           }
          ],
          "scattermapbox": [
           {
            "marker": {
             "colorbar": {
              "outlinewidth": 0,
              "ticks": ""
             }
            },
            "type": "scattermapbox"
           }
          ],
          "scatterpolar": [
           {
            "marker": {
             "colorbar": {
              "outlinewidth": 0,
              "ticks": ""
             }
            },
            "type": "scatterpolar"
           }
          ],
          "scatterpolargl": [
           {
            "marker": {
             "colorbar": {
              "outlinewidth": 0,
              "ticks": ""
             }
            },
            "type": "scatterpolargl"
           }
          ],
          "scatterternary": [
           {
            "marker": {
             "colorbar": {
              "outlinewidth": 0,
              "ticks": ""
             }
            },
            "type": "scatterternary"
           }
          ],
          "surface": [
           {
            "colorbar": {
             "outlinewidth": 0,
             "ticks": ""
            },
            "colorscale": [
             [
              0,
              "#0d0887"
             ],
             [
              0.1111111111111111,
              "#46039f"
             ],
             [
              0.2222222222222222,
              "#7201a8"
             ],
             [
              0.3333333333333333,
              "#9c179e"
             ],
             [
              0.4444444444444444,
              "#bd3786"
             ],
             [
              0.5555555555555556,
              "#d8576b"
             ],
             [
              0.6666666666666666,
              "#ed7953"
             ],
             [
              0.7777777777777778,
              "#fb9f3a"
             ],
             [
              0.8888888888888888,
              "#fdca26"
             ],
             [
              1,
              "#f0f921"
             ]
            ],
            "type": "surface"
           }
          ],
          "table": [
           {
            "cells": {
             "fill": {
              "color": "#EBF0F8"
             },
             "line": {
              "color": "white"
             }
            },
            "header": {
             "fill": {
              "color": "#C8D4E3"
             },
             "line": {
              "color": "white"
             }
            },
            "type": "table"
           }
          ]
         },
         "layout": {
          "annotationdefaults": {
           "arrowcolor": "#2a3f5f",
           "arrowhead": 0,
           "arrowwidth": 1
          },
          "autotypenumbers": "strict",
          "coloraxis": {
           "colorbar": {
            "outlinewidth": 0,
            "ticks": ""
           }
          },
          "colorscale": {
           "diverging": [
            [
             0,
             "#8e0152"
            ],
            [
             0.1,
             "#c51b7d"
            ],
            [
             0.2,
             "#de77ae"
            ],
            [
             0.3,
             "#f1b6da"
            ],
            [
             0.4,
             "#fde0ef"
            ],
            [
             0.5,
             "#f7f7f7"
            ],
            [
             0.6,
             "#e6f5d0"
            ],
            [
             0.7,
             "#b8e186"
            ],
            [
             0.8,
             "#7fbc41"
            ],
            [
             0.9,
             "#4d9221"
            ],
            [
             1,
             "#276419"
            ]
           ],
           "sequential": [
            [
             0,
             "#0d0887"
            ],
            [
             0.1111111111111111,
             "#46039f"
            ],
            [
             0.2222222222222222,
             "#7201a8"
            ],
            [
             0.3333333333333333,
             "#9c179e"
            ],
            [
             0.4444444444444444,
             "#bd3786"
            ],
            [
             0.5555555555555556,
             "#d8576b"
            ],
            [
             0.6666666666666666,
             "#ed7953"
            ],
            [
             0.7777777777777778,
             "#fb9f3a"
            ],
            [
             0.8888888888888888,
             "#fdca26"
            ],
            [
             1,
             "#f0f921"
            ]
           ],
           "sequentialminus": [
            [
             0,
             "#0d0887"
            ],
            [
             0.1111111111111111,
             "#46039f"
            ],
            [
             0.2222222222222222,
             "#7201a8"
            ],
            [
             0.3333333333333333,
             "#9c179e"
            ],
            [
             0.4444444444444444,
             "#bd3786"
            ],
            [
             0.5555555555555556,
             "#d8576b"
            ],
            [
             0.6666666666666666,
             "#ed7953"
            ],
            [
             0.7777777777777778,
             "#fb9f3a"
            ],
            [
             0.8888888888888888,
             "#fdca26"
            ],
            [
             1,
             "#f0f921"
            ]
           ]
          },
          "colorway": [
           "#636efa",
           "#EF553B",
           "#00cc96",
           "#ab63fa",
           "#FFA15A",
           "#19d3f3",
           "#FF6692",
           "#B6E880",
           "#FF97FF",
           "#FECB52"
          ],
          "font": {
           "color": "#2a3f5f"
          },
          "geo": {
           "bgcolor": "white",
           "lakecolor": "white",
           "landcolor": "white",
           "showlakes": true,
           "showland": true,
           "subunitcolor": "#C8D4E3"
          },
          "hoverlabel": {
           "align": "left"
          },
          "hovermode": "closest",
          "mapbox": {
           "style": "light"
          },
          "paper_bgcolor": "white",
          "plot_bgcolor": "white",
          "polar": {
           "angularaxis": {
            "gridcolor": "#EBF0F8",
            "linecolor": "#EBF0F8",
            "ticks": ""
           },
           "bgcolor": "white",
           "radialaxis": {
            "gridcolor": "#EBF0F8",
            "linecolor": "#EBF0F8",
            "ticks": ""
           }
          },
          "scene": {
           "xaxis": {
            "backgroundcolor": "white",
            "gridcolor": "#DFE8F3",
            "gridwidth": 2,
            "linecolor": "#EBF0F8",
            "showbackground": true,
            "ticks": "",
            "zerolinecolor": "#EBF0F8"
           },
           "yaxis": {
            "backgroundcolor": "white",
            "gridcolor": "#DFE8F3",
            "gridwidth": 2,
            "linecolor": "#EBF0F8",
            "showbackground": true,
            "ticks": "",
            "zerolinecolor": "#EBF0F8"
           },
           "zaxis": {
            "backgroundcolor": "white",
            "gridcolor": "#DFE8F3",
            "gridwidth": 2,
            "linecolor": "#EBF0F8",
            "showbackground": true,
            "ticks": "",
            "zerolinecolor": "#EBF0F8"
           }
          },
          "shapedefaults": {
           "line": {
            "color": "#2a3f5f"
           }
          },
          "ternary": {
           "aaxis": {
            "gridcolor": "#DFE8F3",
            "linecolor": "#A2B1C6",
            "ticks": ""
           },
           "baxis": {
            "gridcolor": "#DFE8F3",
            "linecolor": "#A2B1C6",
            "ticks": ""
           },
           "bgcolor": "white",
           "caxis": {
            "gridcolor": "#DFE8F3",
            "linecolor": "#A2B1C6",
            "ticks": ""
           }
          },
          "title": {
           "x": 0.05
          },
          "xaxis": {
           "automargin": true,
           "gridcolor": "#EBF0F8",
           "linecolor": "#EBF0F8",
           "ticks": "",
           "title": {
            "standoff": 15
           },
           "zerolinecolor": "#EBF0F8",
           "zerolinewidth": 2
          },
          "yaxis": {
           "automargin": true,
           "gridcolor": "#EBF0F8",
           "linecolor": "#EBF0F8",
           "ticks": "",
           "title": {
            "standoff": 15
           },
           "zerolinecolor": "#EBF0F8",
           "zerolinewidth": 2
          }
         }
        },
        "xaxis": {
         "tickformat": ".0f"
        },
        "yaxis": {
         "tickprefix": "$",
         "type": "log"
        }
       }
      }
     },
     "metadata": {},
     "output_type": "display_data"
    }
   ],
   "source": [
    "accum = (1+df).cumprod()\n",
    "\n",
    "traces = []\n",
    "for asset in accum.columns:\n",
    "    trace = go.Scatter(\n",
    "        x=accum.index.to_list(),\n",
    "        y=accum[asset],\n",
    "        name=asset,\n",
    "        text=[asset]*accum.shape[0],\n",
    "        hovertemplate=\"%{text} = $%{y:.2f}<extra></extra>\"\n",
    "    )\n",
    "    traces.append(trace)\n",
    "\n",
    "fig = go.Figure()\n",
    "for trace in traces:\n",
    "    fig.add_trace(trace)\n",
    "\n",
    "fig.update_layout(\n",
    "    yaxis_tickprefix=\"$\",\n",
    "    xaxis_tickformat=\".0f\",\n",
    "    yaxis_type=\"log\",\n",
    "    hovermode=\"x unified\",\n",
    "    template=\"plotly_white\",\n",
    "    legend=dict(\n",
    "        yanchor=\"top\", \n",
    "        y=0.99, \n",
    "        xanchor=\"left\", \n",
    "        x=0.01\n",
    "    ),\n",
    ")\n",
    "fig.show()"
   ]
  }
 ],
 "metadata": {
  "colab": {
   "include_colab_link": true,
   "name": "stock, bond, and gold returns.ipynb",
   "provenance": []
  },
  "kernelspec": {
   "display_name": "Python 3",
   "language": "python",
   "name": "python3"
  },
  "language_info": {
   "codemirror_mode": {
    "name": "ipython",
    "version": 3
   },
   "file_extension": ".py",
   "mimetype": "text/x-python",
   "name": "python",
   "nbconvert_exporter": "python",
   "pygments_lexer": "ipython3",
   "version": "3.10.7"
  }
 },
 "nbformat": 4,
 "nbformat_minor": 0
}
