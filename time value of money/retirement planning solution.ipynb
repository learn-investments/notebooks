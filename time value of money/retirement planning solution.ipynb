{
 "nbformat": 4,
 "nbformat_minor": 0,
 "metadata": {
  "colab": {
   "name": "retirement_planning_sim.ipynb",
   "provenance": [],
   "collapsed_sections": [],
   "include_colab_link": true
  },
  "kernelspec": {
   "name": "python3",
   "display_name": "Python 3"
  },
  "language_info": {
   "name": "python"
  }
 },
 "cells": [
  {
   "cell_type": "markdown",
   "metadata": {
    "id": "view-in-github",
    "colab_type": "text",
    "pycharm": {
     "name": "#%% md\n"
    }
   },
   "source": [
    "<a href=\"https://colab.research.google.com/github/bbcx-investments/notebooks/blob/main/risk/retirement_planning_sim.ipynb\" target=\"_parent\"><img src=\"https://colab.research.google.com/assets/colab-badge.svg\" alt=\"Open In Colab\"/></a>"
   ]
  },
  {
   "cell_type": "code",
   "execution_count": 1,
   "metadata": {
    "id": "uwWoyf7fLQUf",
    "pycharm": {
     "name": "#%%\n"
    }
   },
   "outputs": [
    {
     "data": {
      "text/plain": "count    5.000000e+03\nmean     3.511844e+06\nstd      1.280497e+08\nmin     -6.692423e+08\n25%     -5.233691e+06\n50%     -2.354048e+06\n75%     -9.213764e+05\nmax      7.429025e+09\ndtype: float64"
     },
     "execution_count": 1,
     "metadata": {},
     "output_type": "execute_result"
    }
   ],
   "source": [
    "import numpy as np\n",
    "import pandas as pd\n",
    "\n",
    "R = 30*12      # 30 years until retirement\n",
    "T = 60*12      # 60 total years\n",
    "B0 = 100000    # initial balance is $100,000\n",
    "D1 = 1000      # initial savings is $1,000 (per month)\n",
    "W1 = 10000     # withdraw $10,000 first month in retirement\n",
    "g = 0.002      # deposit is 0.2% larger each month\n",
    "h = 0          # withdrawals are constant\n",
    "\n",
    "D = D1 * (1+g)**np.arange(R)\n",
    "W = W1 * (1+h)**np.arange(T-R)\n",
    "\n",
    "B0 = np.concatenate(([B0], np.zeros(T)))\n",
    "D = np.concatenate(([0], D, np.zeros(T-R)))\n",
    "W = np.concatenate((np.zeros(R), W, [0]))\n",
    "CF = B0 + D - W\n",
    "\n",
    "mn = 0.06 / 12\n",
    "sd = 0.30 / np.sqrt(12)\n",
    "numsims = 5000\n",
    "rets = np.random.normal(loc=mn, scale=sd, size=numsims*T)\n",
    "rets = pd.DataFrame(rets.reshape((T, numsims)))\n",
    "\n",
    "def fvs(rets):\n",
    "    x = np.flip(np.cumprod(1+rets))\n",
    "    return np.concatenate((x, [1]))\n",
    "\n",
    "fvFactors = rets.apply(fvs)\n",
    "BT = fvFactors.multiply(CF, axis=0).sum()\n",
    "BT.describe()"
   ]
  },
  {
   "cell_type": "code",
   "execution_count": null,
   "outputs": [],
   "source": [],
   "metadata": {
    "collapsed": false,
    "pycharm": {
     "name": "#%%\n"
    }
   }
  }
 ]
}