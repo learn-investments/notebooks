{
   "cells": [
      {
         "cell_type": "markdown",
         "metadata": {},
         "source": [
            "---\n",
            "\n",
            "Created for [learn-investments.rice-business.org](https://learn-investments.rice-business.org)\n",
            "    \n",
            "By [Kerry Back](https://kerryback.com) and [Kevin Crotty](https://kevincrotty.rice.edu/)\n",
            "    \n",
            "Jones Graduate School of Business, Rice University\n",
            "\n",
            "---\n"
         ]
      },
      {
         "attachments": {},
         "cell_type": "markdown",
         "metadata": {},
         "source": [
            "# EXAMPLE DATA"
         ]
      },
      {
         "cell_type": "code",
         "execution_count": 1,
         "metadata": {},
         "outputs": [],
         "source": [
            "start = 1970\n",
            "end = 2022"
         ]
      },
      {
         "attachments": {},
         "cell_type": "markdown",
         "metadata": {},
         "source": [
            "# GET INFLATION DATA"
         ]
      },
      {
         "cell_type": "code",
         "execution_count": 2,
         "metadata": {
            "colab": {
               "base_uri": "https://localhost:8080/",
               "height": 419
            },
            "id": "cb5St6RA2el1",
            "outputId": "5dc23a51-2ee3-4edb-9aff-450a67451c56",
            "pycharm": {
               "name": "#%%\n"
            }
         },
         "outputs": [
            {
               "data": {
                  "text/html": [
                     "<div>\n",
                     "<style scoped>\n",
                     "    .dataframe tbody tr th:only-of-type {\n",
                     "        vertical-align: middle;\n",
                     "    }\n",
                     "\n",
                     "    .dataframe tbody tr th {\n",
                     "        vertical-align: top;\n",
                     "    }\n",
                     "\n",
                     "    .dataframe thead th {\n",
                     "        text-align: right;\n",
                     "    }\n",
                     "</style>\n",
                     "<table border=\"1\" class=\"dataframe\">\n",
                     "  <thead>\n",
                     "    <tr style=\"text-align: right;\">\n",
                     "      <th></th>\n",
                     "      <th>inflation</th>\n",
                     "    </tr>\n",
                     "    <tr>\n",
                     "      <th>year</th>\n",
                     "      <th></th>\n",
                     "    </tr>\n",
                     "  </thead>\n",
                     "  <tbody>\n",
                     "    <tr>\n",
                     "      <th>2018</th>\n",
                     "      <td>0.020024</td>\n",
                     "    </tr>\n",
                     "    <tr>\n",
                     "      <th>2019</th>\n",
                     "      <td>0.023140</td>\n",
                     "    </tr>\n",
                     "    <tr>\n",
                     "      <th>2020</th>\n",
                     "      <td>0.013220</td>\n",
                     "    </tr>\n",
                     "    <tr>\n",
                     "      <th>2021</th>\n",
                     "      <td>0.071945</td>\n",
                     "    </tr>\n",
                     "    <tr>\n",
                     "      <th>2022</th>\n",
                     "      <td>0.064449</td>\n",
                     "    </tr>\n",
                     "  </tbody>\n",
                     "</table>\n",
                     "</div>"
                  ],
                  "text/plain": [
                     "      inflation\n",
                     "year           \n",
                     "2018   0.020024\n",
                     "2019   0.023140\n",
                     "2020   0.013220\n",
                     "2021   0.071945\n",
                     "2022   0.064449"
                  ]
               },
               "execution_count": 2,
               "metadata": {},
               "output_type": "execute_result"
            }
         ],
         "source": [
            "from pandas_datareader import DataReader as pdr\n",
            "\n",
            "cpi = pdr('CPIAUCSL', 'fred', start=f\"{start-1}-12-01\", end=f\"{end+1}-01-01\")\n",
            "cpi = cpi.resample('Y').last()\n",
            "\n",
            "inflation = cpi.pct_change().iloc[1:-1]\n",
            "inflation.columns = [\"inflation\"]\n",
            "inflation.index = inflation.index.map(lambda x: x.year)\n",
            "inflation.index.name = \"year\"\n",
            "inflation.tail()"
         ]
      },
      {
         "cell_type": "markdown",
         "metadata": {},
         "source": [
            "# GET STOCK MARKET RETURNS"
         ]
      },
      {
         "cell_type": "code",
         "execution_count": 3,
         "metadata": {},
         "outputs": [
            {
               "data": {
                  "text/plain": [
                     "Date\n",
                     "2018   -0.0512\n",
                     "2019    0.3043\n",
                     "2020    0.2411\n",
                     "2021    0.2360\n",
                     "2022   -0.2017\n",
                     "Name: market, dtype: float64"
                  ]
               },
               "execution_count": 3,
               "metadata": {},
               "output_type": "execute_result"
            }
         ],
         "source": [
            "ff = pdr('F-F_Research_Data_Factors', 'famafrench', start=start, end=end)[1]/100\n",
            "market = ff['Mkt-RF'] + ff['RF']\n",
            "market.name = \"market\"\n",
            "market.index = market.index.astype(str).astype(int)\n",
            "market.tail()"
         ]
      },
      {
         "cell_type": "markdown",
         "metadata": {},
         "source": [
            "# MERGE DATA"
         ]
      },
      {
         "cell_type": "code",
         "execution_count": 4,
         "metadata": {},
         "outputs": [
            {
               "data": {
                  "text/plain": [
                     "inflation    0.040252\n",
                     "market       0.119057\n",
                     "real         0.077097\n",
                     "dtype: float64"
                  ]
               },
               "execution_count": 4,
               "metadata": {},
               "output_type": "execute_result"
            }
         ],
         "source": [
            "df = inflation.join(market)\n",
            "df[\"real\"] = (1+df.market) / (1+df.inflation) - 1\n",
            "df.mean()"
         ]
      },
      {
         "attachments": {},
         "cell_type": "markdown",
         "metadata": {},
         "source": [
            "# FIGURE 1"
         ]
      },
      {
         "cell_type": "code",
         "execution_count": 5,
         "metadata": {},
         "outputs": [
            {
               "data": {
                  "application/vnd.plotly.v1+json": {
                     "config": {
                        "plotlyServerURL": "https://plot.ly"
                     },
                     "data": [
                        {
                           "hovertemplate": "%{x}<br>inflation = %{y:.2%}<extra></extra>",
                           "mode": "lines",
                           "type": "scatter",
                           "x": [
                              1970,
                              1971,
                              1972,
                              1973,
                              1974,
                              1975,
                              1976,
                              1977,
                              1978,
                              1979,
                              1980,
                              1981,
                              1982,
                              1983,
                              1984,
                              1985,
                              1986,
                              1987,
                              1988,
                              1989,
                              1990,
                              1991,
                              1992,
                              1993,
                              1994,
                              1995,
                              1996,
                              1997,
                              1998,
                              1999,
                              2000,
                              2001,
                              2002,
                              2003,
                              2004,
                              2005,
                              2006,
                              2007,
                              2008,
                              2009,
                              2010,
                              2011,
                              2012,
                              2013,
                              2014,
                              2015,
                              2016,
                              2017,
                              2018,
                              2019,
                              2020,
                              2021,
                              2022
                           ],
                           "y": [
                              0.055702917771883076,
                              0.03266331658291466,
                              0.03406326034063256,
                              0.0894117647058823,
                              0.12095032397408212,
                              0.07129094412331405,
                              0.050359712230215736,
                              0.0667808219178081,
                              0.08988764044943842,
                              0.13254786450662737,
                              0.12353706111833551,
                              0.08912037037037024,
                              0.03825717321997879,
                              0.03787103377686796,
                              0.04043392504930954,
                              0.03791469194312791,
                              0.01187214611872145,
                              0.04332129963898912,
                              0.044117647058823595,
                              0.046396023198011616,
                              0.06254948535233562,
                              0.02980625931445613,
                              0.02966714905933454,
                              0.028109627547435068,
                              0.02597402597402576,
                              0.025316455696202667,
                              0.03378817413905133,
                              0.016970458830924073,
                              0.01606922126081578,
                              0.02676399026763998,
                              0.03436018957345954,
                              0.01603665521191311,
                              0.024802705749718212,
                              0.020352035203520247,
                              0.033423180592991875,
                              0.03338549817423053,
                              0.025239777889954462,
                              0.04108813392417532,
                              -0.0002222800255385904,
                              0.028141231232083674,
                              0.01437793022217937,
                              0.03062066838419386,
                              0.017595049796895523,
                              0.015128383667573297,
                              0.006531213919623191,
                              0.006387247515364791,
                              0.020507989115119862,
                              0.021299307195522532,
                              0.020023809043401064,
                              0.02313988772268538,
                              0.013220373062765134,
                              0.07194458755509747,
                              0.06444940492084017
                           ]
                        }
                     ],
                     "layout": {
                        "template": {
                           "data": {
                              "bar": [
                                 {
                                    "error_x": {
                                       "color": "#2a3f5f"
                                    },
                                    "error_y": {
                                       "color": "#2a3f5f"
                                    },
                                    "marker": {
                                       "line": {
                                          "color": "white",
                                          "width": 0.5
                                       },
                                       "pattern": {
                                          "fillmode": "overlay",
                                          "size": 10,
                                          "solidity": 0.2
                                       }
                                    },
                                    "type": "bar"
                                 }
                              ],
                              "barpolar": [
                                 {
                                    "marker": {
                                       "line": {
                                          "color": "white",
                                          "width": 0.5
                                       },
                                       "pattern": {
                                          "fillmode": "overlay",
                                          "size": 10,
                                          "solidity": 0.2
                                       }
                                    },
                                    "type": "barpolar"
                                 }
                              ],
                              "carpet": [
                                 {
                                    "aaxis": {
                                       "endlinecolor": "#2a3f5f",
                                       "gridcolor": "#C8D4E3",
                                       "linecolor": "#C8D4E3",
                                       "minorgridcolor": "#C8D4E3",
                                       "startlinecolor": "#2a3f5f"
                                    },
                                    "baxis": {
                                       "endlinecolor": "#2a3f5f",
                                       "gridcolor": "#C8D4E3",
                                       "linecolor": "#C8D4E3",
                                       "minorgridcolor": "#C8D4E3",
                                       "startlinecolor": "#2a3f5f"
                                    },
                                    "type": "carpet"
                                 }
                              ],
                              "choropleth": [
                                 {
                                    "colorbar": {
                                       "outlinewidth": 0,
                                       "ticks": ""
                                    },
                                    "type": "choropleth"
                                 }
                              ],
                              "contour": [
                                 {
                                    "colorbar": {
                                       "outlinewidth": 0,
                                       "ticks": ""
                                    },
                                    "colorscale": [
                                       [
                                          0,
                                          "#0d0887"
                                       ],
                                       [
                                          0.1111111111111111,
                                          "#46039f"
                                       ],
                                       [
                                          0.2222222222222222,
                                          "#7201a8"
                                       ],
                                       [
                                          0.3333333333333333,
                                          "#9c179e"
                                       ],
                                       [
                                          0.4444444444444444,
                                          "#bd3786"
                                       ],
                                       [
                                          0.5555555555555556,
                                          "#d8576b"
                                       ],
                                       [
                                          0.6666666666666666,
                                          "#ed7953"
                                       ],
                                       [
                                          0.7777777777777778,
                                          "#fb9f3a"
                                       ],
                                       [
                                          0.8888888888888888,
                                          "#fdca26"
                                       ],
                                       [
                                          1,
                                          "#f0f921"
                                       ]
                                    ],
                                    "type": "contour"
                                 }
                              ],
                              "contourcarpet": [
                                 {
                                    "colorbar": {
                                       "outlinewidth": 0,
                                       "ticks": ""
                                    },
                                    "type": "contourcarpet"
                                 }
                              ],
                              "heatmap": [
                                 {
                                    "colorbar": {
                                       "outlinewidth": 0,
                                       "ticks": ""
                                    },
                                    "colorscale": [
                                       [
                                          0,
                                          "#0d0887"
                                       ],
                                       [
                                          0.1111111111111111,
                                          "#46039f"
                                       ],
                                       [
                                          0.2222222222222222,
                                          "#7201a8"
                                       ],
                                       [
                                          0.3333333333333333,
                                          "#9c179e"
                                       ],
                                       [
                                          0.4444444444444444,
                                          "#bd3786"
                                       ],
                                       [
                                          0.5555555555555556,
                                          "#d8576b"
                                       ],
                                       [
                                          0.6666666666666666,
                                          "#ed7953"
                                       ],
                                       [
                                          0.7777777777777778,
                                          "#fb9f3a"
                                       ],
                                       [
                                          0.8888888888888888,
                                          "#fdca26"
                                       ],
                                       [
                                          1,
                                          "#f0f921"
                                       ]
                                    ],
                                    "type": "heatmap"
                                 }
                              ],
                              "heatmapgl": [
                                 {
                                    "colorbar": {
                                       "outlinewidth": 0,
                                       "ticks": ""
                                    },
                                    "colorscale": [
                                       [
                                          0,
                                          "#0d0887"
                                       ],
                                       [
                                          0.1111111111111111,
                                          "#46039f"
                                       ],
                                       [
                                          0.2222222222222222,
                                          "#7201a8"
                                       ],
                                       [
                                          0.3333333333333333,
                                          "#9c179e"
                                       ],
                                       [
                                          0.4444444444444444,
                                          "#bd3786"
                                       ],
                                       [
                                          0.5555555555555556,
                                          "#d8576b"
                                       ],
                                       [
                                          0.6666666666666666,
                                          "#ed7953"
                                       ],
                                       [
                                          0.7777777777777778,
                                          "#fb9f3a"
                                       ],
                                       [
                                          0.8888888888888888,
                                          "#fdca26"
                                       ],
                                       [
                                          1,
                                          "#f0f921"
                                       ]
                                    ],
                                    "type": "heatmapgl"
                                 }
                              ],
                              "histogram": [
                                 {
                                    "marker": {
                                       "pattern": {
                                          "fillmode": "overlay",
                                          "size": 10,
                                          "solidity": 0.2
                                       }
                                    },
                                    "type": "histogram"
                                 }
                              ],
                              "histogram2d": [
                                 {
                                    "colorbar": {
                                       "outlinewidth": 0,
                                       "ticks": ""
                                    },
                                    "colorscale": [
                                       [
                                          0,
                                          "#0d0887"
                                       ],
                                       [
                                          0.1111111111111111,
                                          "#46039f"
                                       ],
                                       [
                                          0.2222222222222222,
                                          "#7201a8"
                                       ],
                                       [
                                          0.3333333333333333,
                                          "#9c179e"
                                       ],
                                       [
                                          0.4444444444444444,
                                          "#bd3786"
                                       ],
                                       [
                                          0.5555555555555556,
                                          "#d8576b"
                                       ],
                                       [
                                          0.6666666666666666,
                                          "#ed7953"
                                       ],
                                       [
                                          0.7777777777777778,
                                          "#fb9f3a"
                                       ],
                                       [
                                          0.8888888888888888,
                                          "#fdca26"
                                       ],
                                       [
                                          1,
                                          "#f0f921"
                                       ]
                                    ],
                                    "type": "histogram2d"
                                 }
                              ],
                              "histogram2dcontour": [
                                 {
                                    "colorbar": {
                                       "outlinewidth": 0,
                                       "ticks": ""
                                    },
                                    "colorscale": [
                                       [
                                          0,
                                          "#0d0887"
                                       ],
                                       [
                                          0.1111111111111111,
                                          "#46039f"
                                       ],
                                       [
                                          0.2222222222222222,
                                          "#7201a8"
                                       ],
                                       [
                                          0.3333333333333333,
                                          "#9c179e"
                                       ],
                                       [
                                          0.4444444444444444,
                                          "#bd3786"
                                       ],
                                       [
                                          0.5555555555555556,
                                          "#d8576b"
                                       ],
                                       [
                                          0.6666666666666666,
                                          "#ed7953"
                                       ],
                                       [
                                          0.7777777777777778,
                                          "#fb9f3a"
                                       ],
                                       [
                                          0.8888888888888888,
                                          "#fdca26"
                                       ],
                                       [
                                          1,
                                          "#f0f921"
                                       ]
                                    ],
                                    "type": "histogram2dcontour"
                                 }
                              ],
                              "mesh3d": [
                                 {
                                    "colorbar": {
                                       "outlinewidth": 0,
                                       "ticks": ""
                                    },
                                    "type": "mesh3d"
                                 }
                              ],
                              "parcoords": [
                                 {
                                    "line": {
                                       "colorbar": {
                                          "outlinewidth": 0,
                                          "ticks": ""
                                       }
                                    },
                                    "type": "parcoords"
                                 }
                              ],
                              "pie": [
                                 {
                                    "automargin": true,
                                    "type": "pie"
                                 }
                              ],
                              "scatter": [
                                 {
                                    "fillpattern": {
                                       "fillmode": "overlay",
                                       "size": 10,
                                       "solidity": 0.2
                                    },
                                    "type": "scatter"
                                 }
                              ],
                              "scatter3d": [
                                 {
                                    "line": {
                                       "colorbar": {
                                          "outlinewidth": 0,
                                          "ticks": ""
                                       }
                                    },
                                    "marker": {
                                       "colorbar": {
                                          "outlinewidth": 0,
                                          "ticks": ""
                                       }
                                    },
                                    "type": "scatter3d"
                                 }
                              ],
                              "scattercarpet": [
                                 {
                                    "marker": {
                                       "colorbar": {
                                          "outlinewidth": 0,
                                          "ticks": ""
                                       }
                                    },
                                    "type": "scattercarpet"
                                 }
                              ],
                              "scattergeo": [
                                 {
                                    "marker": {
                                       "colorbar": {
                                          "outlinewidth": 0,
                                          "ticks": ""
                                       }
                                    },
                                    "type": "scattergeo"
                                 }
                              ],
                              "scattergl": [
                                 {
                                    "marker": {
                                       "colorbar": {
                                          "outlinewidth": 0,
                                          "ticks": ""
                                       }
                                    },
                                    "type": "scattergl"
                                 }
                              ],
                              "scattermapbox": [
                                 {
                                    "marker": {
                                       "colorbar": {
                                          "outlinewidth": 0,
                                          "ticks": ""
                                       }
                                    },
                                    "type": "scattermapbox"
                                 }
                              ],
                              "scatterpolar": [
                                 {
                                    "marker": {
                                       "colorbar": {
                                          "outlinewidth": 0,
                                          "ticks": ""
                                       }
                                    },
                                    "type": "scatterpolar"
                                 }
                              ],
                              "scatterpolargl": [
                                 {
                                    "marker": {
                                       "colorbar": {
                                          "outlinewidth": 0,
                                          "ticks": ""
                                       }
                                    },
                                    "type": "scatterpolargl"
                                 }
                              ],
                              "scatterternary": [
                                 {
                                    "marker": {
                                       "colorbar": {
                                          "outlinewidth": 0,
                                          "ticks": ""
                                       }
                                    },
                                    "type": "scatterternary"
                                 }
                              ],
                              "surface": [
                                 {
                                    "colorbar": {
                                       "outlinewidth": 0,
                                       "ticks": ""
                                    },
                                    "colorscale": [
                                       [
                                          0,
                                          "#0d0887"
                                       ],
                                       [
                                          0.1111111111111111,
                                          "#46039f"
                                       ],
                                       [
                                          0.2222222222222222,
                                          "#7201a8"
                                       ],
                                       [
                                          0.3333333333333333,
                                          "#9c179e"
                                       ],
                                       [
                                          0.4444444444444444,
                                          "#bd3786"
                                       ],
                                       [
                                          0.5555555555555556,
                                          "#d8576b"
                                       ],
                                       [
                                          0.6666666666666666,
                                          "#ed7953"
                                       ],
                                       [
                                          0.7777777777777778,
                                          "#fb9f3a"
                                       ],
                                       [
                                          0.8888888888888888,
                                          "#fdca26"
                                       ],
                                       [
                                          1,
                                          "#f0f921"
                                       ]
                                    ],
                                    "type": "surface"
                                 }
                              ],
                              "table": [
                                 {
                                    "cells": {
                                       "fill": {
                                          "color": "#EBF0F8"
                                       },
                                       "line": {
                                          "color": "white"
                                       }
                                    },
                                    "header": {
                                       "fill": {
                                          "color": "#C8D4E3"
                                       },
                                       "line": {
                                          "color": "white"
                                       }
                                    },
                                    "type": "table"
                                 }
                              ]
                           },
                           "layout": {
                              "annotationdefaults": {
                                 "arrowcolor": "#2a3f5f",
                                 "arrowhead": 0,
                                 "arrowwidth": 1
                              },
                              "autotypenumbers": "strict",
                              "coloraxis": {
                                 "colorbar": {
                                    "outlinewidth": 0,
                                    "ticks": ""
                                 }
                              },
                              "colorscale": {
                                 "diverging": [
                                    [
                                       0,
                                       "#8e0152"
                                    ],
                                    [
                                       0.1,
                                       "#c51b7d"
                                    ],
                                    [
                                       0.2,
                                       "#de77ae"
                                    ],
                                    [
                                       0.3,
                                       "#f1b6da"
                                    ],
                                    [
                                       0.4,
                                       "#fde0ef"
                                    ],
                                    [
                                       0.5,
                                       "#f7f7f7"
                                    ],
                                    [
                                       0.6,
                                       "#e6f5d0"
                                    ],
                                    [
                                       0.7,
                                       "#b8e186"
                                    ],
                                    [
                                       0.8,
                                       "#7fbc41"
                                    ],
                                    [
                                       0.9,
                                       "#4d9221"
                                    ],
                                    [
                                       1,
                                       "#276419"
                                    ]
                                 ],
                                 "sequential": [
                                    [
                                       0,
                                       "#0d0887"
                                    ],
                                    [
                                       0.1111111111111111,
                                       "#46039f"
                                    ],
                                    [
                                       0.2222222222222222,
                                       "#7201a8"
                                    ],
                                    [
                                       0.3333333333333333,
                                       "#9c179e"
                                    ],
                                    [
                                       0.4444444444444444,
                                       "#bd3786"
                                    ],
                                    [
                                       0.5555555555555556,
                                       "#d8576b"
                                    ],
                                    [
                                       0.6666666666666666,
                                       "#ed7953"
                                    ],
                                    [
                                       0.7777777777777778,
                                       "#fb9f3a"
                                    ],
                                    [
                                       0.8888888888888888,
                                       "#fdca26"
                                    ],
                                    [
                                       1,
                                       "#f0f921"
                                    ]
                                 ],
                                 "sequentialminus": [
                                    [
                                       0,
                                       "#0d0887"
                                    ],
                                    [
                                       0.1111111111111111,
                                       "#46039f"
                                    ],
                                    [
                                       0.2222222222222222,
                                       "#7201a8"
                                    ],
                                    [
                                       0.3333333333333333,
                                       "#9c179e"
                                    ],
                                    [
                                       0.4444444444444444,
                                       "#bd3786"
                                    ],
                                    [
                                       0.5555555555555556,
                                       "#d8576b"
                                    ],
                                    [
                                       0.6666666666666666,
                                       "#ed7953"
                                    ],
                                    [
                                       0.7777777777777778,
                                       "#fb9f3a"
                                    ],
                                    [
                                       0.8888888888888888,
                                       "#fdca26"
                                    ],
                                    [
                                       1,
                                       "#f0f921"
                                    ]
                                 ]
                              },
                              "colorway": [
                                 "#636efa",
                                 "#EF553B",
                                 "#00cc96",
                                 "#ab63fa",
                                 "#FFA15A",
                                 "#19d3f3",
                                 "#FF6692",
                                 "#B6E880",
                                 "#FF97FF",
                                 "#FECB52"
                              ],
                              "font": {
                                 "color": "#2a3f5f"
                              },
                              "geo": {
                                 "bgcolor": "white",
                                 "lakecolor": "white",
                                 "landcolor": "white",
                                 "showlakes": true,
                                 "showland": true,
                                 "subunitcolor": "#C8D4E3"
                              },
                              "hoverlabel": {
                                 "align": "left"
                              },
                              "hovermode": "closest",
                              "mapbox": {
                                 "style": "light"
                              },
                              "paper_bgcolor": "white",
                              "plot_bgcolor": "white",
                              "polar": {
                                 "angularaxis": {
                                    "gridcolor": "#EBF0F8",
                                    "linecolor": "#EBF0F8",
                                    "ticks": ""
                                 },
                                 "bgcolor": "white",
                                 "radialaxis": {
                                    "gridcolor": "#EBF0F8",
                                    "linecolor": "#EBF0F8",
                                    "ticks": ""
                                 }
                              },
                              "scene": {
                                 "xaxis": {
                                    "backgroundcolor": "white",
                                    "gridcolor": "#DFE8F3",
                                    "gridwidth": 2,
                                    "linecolor": "#EBF0F8",
                                    "showbackground": true,
                                    "ticks": "",
                                    "zerolinecolor": "#EBF0F8"
                                 },
                                 "yaxis": {
                                    "backgroundcolor": "white",
                                    "gridcolor": "#DFE8F3",
                                    "gridwidth": 2,
                                    "linecolor": "#EBF0F8",
                                    "showbackground": true,
                                    "ticks": "",
                                    "zerolinecolor": "#EBF0F8"
                                 },
                                 "zaxis": {
                                    "backgroundcolor": "white",
                                    "gridcolor": "#DFE8F3",
                                    "gridwidth": 2,
                                    "linecolor": "#EBF0F8",
                                    "showbackground": true,
                                    "ticks": "",
                                    "zerolinecolor": "#EBF0F8"
                                 }
                              },
                              "shapedefaults": {
                                 "line": {
                                    "color": "#2a3f5f"
                                 }
                              },
                              "ternary": {
                                 "aaxis": {
                                    "gridcolor": "#DFE8F3",
                                    "linecolor": "#A2B1C6",
                                    "ticks": ""
                                 },
                                 "baxis": {
                                    "gridcolor": "#DFE8F3",
                                    "linecolor": "#A2B1C6",
                                    "ticks": ""
                                 },
                                 "bgcolor": "white",
                                 "caxis": {
                                    "gridcolor": "#DFE8F3",
                                    "linecolor": "#A2B1C6",
                                    "ticks": ""
                                 }
                              },
                              "title": {
                                 "x": 0.05
                              },
                              "xaxis": {
                                 "automargin": true,
                                 "gridcolor": "#EBF0F8",
                                 "linecolor": "#EBF0F8",
                                 "ticks": "",
                                 "title": {
                                    "standoff": 15
                                 },
                                 "zerolinecolor": "#EBF0F8",
                                 "zerolinewidth": 2
                              },
                              "yaxis": {
                                 "automargin": true,
                                 "gridcolor": "#EBF0F8",
                                 "linecolor": "#EBF0F8",
                                 "ticks": "",
                                 "title": {
                                    "standoff": 15
                                 },
                                 "zerolinecolor": "#EBF0F8",
                                 "zerolinewidth": 2
                              }
                           }
                        },
                        "xaxis": {
                           "title": {
                              "text": "Year"
                           }
                        },
                        "yaxis": {
                           "tickformat": ".0%",
                           "title": {
                              "text": "Inflation Rate"
                           }
                        }
                     }
                  }
               },
               "metadata": {},
               "output_type": "display_data"
            }
         ],
         "source": [
            "import plotly.graph_objects as go\n",
            "\n",
            "trace = go.Scatter(\n",
            "    x=df.index.to_list(),\n",
            "    y=df.inflation,\n",
            "    mode=\"lines\",\n",
            "    hovertemplate=\"%{x}<br>inflation = %{y:.2%}<extra></extra>\"\n",
            ")\n",
            "fig = go.Figure(trace)\n",
            "fig.update_layout(\n",
            "    xaxis_title=\"Year\",\n",
            "    yaxis_title=\"Inflation Rate\",\n",
            "    yaxis_tickformat=\".0%\",\n",
            "    template=\"plotly_white\"\n",
            ")\n",
            "fig.show()"
         ]
      },
      {
         "attachments": {},
         "cell_type": "markdown",
         "metadata": {},
         "source": [
            "# FIGURE 2"
         ]
      },
      {
         "cell_type": "code",
         "execution_count": 6,
         "metadata": {},
         "outputs": [
            {
               "data": {
                  "application/vnd.plotly.v1+json": {
                     "config": {
                        "plotlyServerURL": "https://plot.ly"
                     },
                     "data": [
                        {
                           "hovertemplate": "Accumulation in Nominal $ = %{y:0.2f}<extra></extra>",
                           "mode": "lines",
                           "name": "nominal $",
                           "type": "scatter",
                           "x": [
                              1970,
                              1971,
                              1972,
                              1973,
                              1974,
                              1975,
                              1976,
                              1977,
                              1978,
                              1979,
                              1980,
                              1981,
                              1982,
                              1983,
                              1984,
                              1985,
                              1986,
                              1987,
                              1988,
                              1989,
                              1990,
                              1991,
                              1992,
                              1993,
                              1994,
                              1995,
                              1996,
                              1997,
                              1998,
                              1999,
                              2000,
                              2001,
                              2002,
                              2003,
                              2004,
                              2005,
                              2006,
                              2007,
                              2008,
                              2009,
                              2010,
                              2011,
                              2012,
                              2013,
                              2014,
                              2015,
                              2016,
                              2017,
                              2018,
                              2019,
                              2020,
                              2021,
                              2022
                           ],
                           "y": [
                              1.0003,
                              1.16204851,
                              1.358318503339,
                              1.0968421914462425,
                              0.7924684833199103,
                              1.095508431341444,
                              1.3911861569604997,
                              1.3475029116319401,
                              1.4581329006769226,
                              1.800356692465796,
                              2.401135720741632,
                              2.3190168790922683,
                              2.810648457459829,
                              3.444449684617021,
                              3.5753387726324677,
                              4.741971814142442,
                              5.513964825484831,
                              5.6021882626925885,
                              6.604979961714562,
                              8.511177178665385,
                              7.98859089989533,
                              10.767022814878924,
                              11.81573083704813,
                              13.128458533044178,
                              13.102201615978089,
                              17.926432250981218,
                              21.72145795851394,
                              28.502897133161994,
                              35.434801715946996,
                              44.38208914922361,
                              39.184946509849524,
                              34.72569959702865,
                              27.3951044120959,
                              36.09852908381876,
                              40.40147375060996,
                              42.853843207271986,
                              49.453335061191865,
                              52.2721751596798,
                              33.06737800601344,
                              42.445286408518854,
                              49.8689670013688,
                              50.10833804297537,
                              58.291029645393245,
                              78.82113028650075,
                              88.06684886910728,
                              88.1637224028633,
                              100.06582492724985,
                              122.3905104685193,
                              116.1241163325311,
                              151.4606849325203,
                              187.97785606975097,
                              232.3406301022122,
                              185.477525010596
                           ]
                        },
                        {
                           "hovertemplate": "Accumulation in Constant $ = %{y:0.2f}<extra></extra>",
                           "mode": "lines",
                           "name": "constant $",
                           "type": "scatter",
                           "x": [
                              1970,
                              1971,
                              1972,
                              1973,
                              1974,
                              1975,
                              1976,
                              1977,
                              1978,
                              1979,
                              1980,
                              1981,
                              1982,
                              1983,
                              1984,
                              1985,
                              1986,
                              1987,
                              1988,
                              1989,
                              1990,
                              1991,
                              1992,
                              1993,
                              1994,
                              1995,
                              1996,
                              1997,
                              1998,
                              1999,
                              2000,
                              2001,
                              2002,
                              2003,
                              2004,
                              2005,
                              2006,
                              2007,
                              2008,
                              2009,
                              2010,
                              2011,
                              2012,
                              2013,
                              2014,
                              2015,
                              2016,
                              2017,
                              2018,
                              2019,
                              2020,
                              2021,
                              2022
                           ],
                           "y": [
                              0.9475203517587941,
                              1.0659179763260342,
                              1.204908413550125,
                              0.8931090846117354,
                              0.5756466632208213,
                              0.7428177672944685,
                              0.8980773650241586,
                              0.8154231102491841,
                              0.8095966179016201,
                              0.8826196008577444,
                              1.0477177855550877,
                              0.9290854021442992,
                              1.084559333124213,
                              1.2806287288960725,
                              1.2776329073767214,
                              1.6326240857823762,
                              1.8761414613788656,
                              1.827011224078813,
                              2.0630301951668533,
                              2.5405493241146893,
                              2.2441868623401953,
                              2.937169031265816,
                              3.13037984930931,
                              3.3830682617618986,
                              3.2908261220677835,
                              4.391335255763433,
                              5.1470708047515785,
                              6.641280728802274,
                              8.125863897148434,
                              9.912350479417837,
                              8.460896239526507,
                              7.379700534430556,
                              5.680942994147502,
                              7.336466557735677,
                              7.945412417308275,
                              8.155425991489928,
                              9.179668792747092,
                              9.319969748728651,
                              5.897123675847016,
                              7.362362018344682,
                              8.527432308645109,
                              8.31379017185836,
                              9.504205144131918,
                              12.660059951691512,
                              14.053299876256482,
                              13.979468182704267,
                              15.54784142466863,
                              18.619972335760703,
                              17.3198209645105,
                              22.079329283400952,
                              27.04510914125829,
                              31.184219116062355,
                              23.38707880831959
                           ]
                        }
                     ],
                     "layout": {
                        "hovermode": "x unified",
                        "legend": {
                           "x": 0.01,
                           "xanchor": "left",
                           "y": 0.99,
                           "yanchor": "top"
                        },
                        "template": {
                           "data": {
                              "bar": [
                                 {
                                    "error_x": {
                                       "color": "#2a3f5f"
                                    },
                                    "error_y": {
                                       "color": "#2a3f5f"
                                    },
                                    "marker": {
                                       "line": {
                                          "color": "white",
                                          "width": 0.5
                                       },
                                       "pattern": {
                                          "fillmode": "overlay",
                                          "size": 10,
                                          "solidity": 0.2
                                       }
                                    },
                                    "type": "bar"
                                 }
                              ],
                              "barpolar": [
                                 {
                                    "marker": {
                                       "line": {
                                          "color": "white",
                                          "width": 0.5
                                       },
                                       "pattern": {
                                          "fillmode": "overlay",
                                          "size": 10,
                                          "solidity": 0.2
                                       }
                                    },
                                    "type": "barpolar"
                                 }
                              ],
                              "carpet": [
                                 {
                                    "aaxis": {
                                       "endlinecolor": "#2a3f5f",
                                       "gridcolor": "#C8D4E3",
                                       "linecolor": "#C8D4E3",
                                       "minorgridcolor": "#C8D4E3",
                                       "startlinecolor": "#2a3f5f"
                                    },
                                    "baxis": {
                                       "endlinecolor": "#2a3f5f",
                                       "gridcolor": "#C8D4E3",
                                       "linecolor": "#C8D4E3",
                                       "minorgridcolor": "#C8D4E3",
                                       "startlinecolor": "#2a3f5f"
                                    },
                                    "type": "carpet"
                                 }
                              ],
                              "choropleth": [
                                 {
                                    "colorbar": {
                                       "outlinewidth": 0,
                                       "ticks": ""
                                    },
                                    "type": "choropleth"
                                 }
                              ],
                              "contour": [
                                 {
                                    "colorbar": {
                                       "outlinewidth": 0,
                                       "ticks": ""
                                    },
                                    "colorscale": [
                                       [
                                          0,
                                          "#0d0887"
                                       ],
                                       [
                                          0.1111111111111111,
                                          "#46039f"
                                       ],
                                       [
                                          0.2222222222222222,
                                          "#7201a8"
                                       ],
                                       [
                                          0.3333333333333333,
                                          "#9c179e"
                                       ],
                                       [
                                          0.4444444444444444,
                                          "#bd3786"
                                       ],
                                       [
                                          0.5555555555555556,
                                          "#d8576b"
                                       ],
                                       [
                                          0.6666666666666666,
                                          "#ed7953"
                                       ],
                                       [
                                          0.7777777777777778,
                                          "#fb9f3a"
                                       ],
                                       [
                                          0.8888888888888888,
                                          "#fdca26"
                                       ],
                                       [
                                          1,
                                          "#f0f921"
                                       ]
                                    ],
                                    "type": "contour"
                                 }
                              ],
                              "contourcarpet": [
                                 {
                                    "colorbar": {
                                       "outlinewidth": 0,
                                       "ticks": ""
                                    },
                                    "type": "contourcarpet"
                                 }
                              ],
                              "heatmap": [
                                 {
                                    "colorbar": {
                                       "outlinewidth": 0,
                                       "ticks": ""
                                    },
                                    "colorscale": [
                                       [
                                          0,
                                          "#0d0887"
                                       ],
                                       [
                                          0.1111111111111111,
                                          "#46039f"
                                       ],
                                       [
                                          0.2222222222222222,
                                          "#7201a8"
                                       ],
                                       [
                                          0.3333333333333333,
                                          "#9c179e"
                                       ],
                                       [
                                          0.4444444444444444,
                                          "#bd3786"
                                       ],
                                       [
                                          0.5555555555555556,
                                          "#d8576b"
                                       ],
                                       [
                                          0.6666666666666666,
                                          "#ed7953"
                                       ],
                                       [
                                          0.7777777777777778,
                                          "#fb9f3a"
                                       ],
                                       [
                                          0.8888888888888888,
                                          "#fdca26"
                                       ],
                                       [
                                          1,
                                          "#f0f921"
                                       ]
                                    ],
                                    "type": "heatmap"
                                 }
                              ],
                              "heatmapgl": [
                                 {
                                    "colorbar": {
                                       "outlinewidth": 0,
                                       "ticks": ""
                                    },
                                    "colorscale": [
                                       [
                                          0,
                                          "#0d0887"
                                       ],
                                       [
                                          0.1111111111111111,
                                          "#46039f"
                                       ],
                                       [
                                          0.2222222222222222,
                                          "#7201a8"
                                       ],
                                       [
                                          0.3333333333333333,
                                          "#9c179e"
                                       ],
                                       [
                                          0.4444444444444444,
                                          "#bd3786"
                                       ],
                                       [
                                          0.5555555555555556,
                                          "#d8576b"
                                       ],
                                       [
                                          0.6666666666666666,
                                          "#ed7953"
                                       ],
                                       [
                                          0.7777777777777778,
                                          "#fb9f3a"
                                       ],
                                       [
                                          0.8888888888888888,
                                          "#fdca26"
                                       ],
                                       [
                                          1,
                                          "#f0f921"
                                       ]
                                    ],
                                    "type": "heatmapgl"
                                 }
                              ],
                              "histogram": [
                                 {
                                    "marker": {
                                       "pattern": {
                                          "fillmode": "overlay",
                                          "size": 10,
                                          "solidity": 0.2
                                       }
                                    },
                                    "type": "histogram"
                                 }
                              ],
                              "histogram2d": [
                                 {
                                    "colorbar": {
                                       "outlinewidth": 0,
                                       "ticks": ""
                                    },
                                    "colorscale": [
                                       [
                                          0,
                                          "#0d0887"
                                       ],
                                       [
                                          0.1111111111111111,
                                          "#46039f"
                                       ],
                                       [
                                          0.2222222222222222,
                                          "#7201a8"
                                       ],
                                       [
                                          0.3333333333333333,
                                          "#9c179e"
                                       ],
                                       [
                                          0.4444444444444444,
                                          "#bd3786"
                                       ],
                                       [
                                          0.5555555555555556,
                                          "#d8576b"
                                       ],
                                       [
                                          0.6666666666666666,
                                          "#ed7953"
                                       ],
                                       [
                                          0.7777777777777778,
                                          "#fb9f3a"
                                       ],
                                       [
                                          0.8888888888888888,
                                          "#fdca26"
                                       ],
                                       [
                                          1,
                                          "#f0f921"
                                       ]
                                    ],
                                    "type": "histogram2d"
                                 }
                              ],
                              "histogram2dcontour": [
                                 {
                                    "colorbar": {
                                       "outlinewidth": 0,
                                       "ticks": ""
                                    },
                                    "colorscale": [
                                       [
                                          0,
                                          "#0d0887"
                                       ],
                                       [
                                          0.1111111111111111,
                                          "#46039f"
                                       ],
                                       [
                                          0.2222222222222222,
                                          "#7201a8"
                                       ],
                                       [
                                          0.3333333333333333,
                                          "#9c179e"
                                       ],
                                       [
                                          0.4444444444444444,
                                          "#bd3786"
                                       ],
                                       [
                                          0.5555555555555556,
                                          "#d8576b"
                                       ],
                                       [
                                          0.6666666666666666,
                                          "#ed7953"
                                       ],
                                       [
                                          0.7777777777777778,
                                          "#fb9f3a"
                                       ],
                                       [
                                          0.8888888888888888,
                                          "#fdca26"
                                       ],
                                       [
                                          1,
                                          "#f0f921"
                                       ]
                                    ],
                                    "type": "histogram2dcontour"
                                 }
                              ],
                              "mesh3d": [
                                 {
                                    "colorbar": {
                                       "outlinewidth": 0,
                                       "ticks": ""
                                    },
                                    "type": "mesh3d"
                                 }
                              ],
                              "parcoords": [
                                 {
                                    "line": {
                                       "colorbar": {
                                          "outlinewidth": 0,
                                          "ticks": ""
                                       }
                                    },
                                    "type": "parcoords"
                                 }
                              ],
                              "pie": [
                                 {
                                    "automargin": true,
                                    "type": "pie"
                                 }
                              ],
                              "scatter": [
                                 {
                                    "fillpattern": {
                                       "fillmode": "overlay",
                                       "size": 10,
                                       "solidity": 0.2
                                    },
                                    "type": "scatter"
                                 }
                              ],
                              "scatter3d": [
                                 {
                                    "line": {
                                       "colorbar": {
                                          "outlinewidth": 0,
                                          "ticks": ""
                                       }
                                    },
                                    "marker": {
                                       "colorbar": {
                                          "outlinewidth": 0,
                                          "ticks": ""
                                       }
                                    },
                                    "type": "scatter3d"
                                 }
                              ],
                              "scattercarpet": [
                                 {
                                    "marker": {
                                       "colorbar": {
                                          "outlinewidth": 0,
                                          "ticks": ""
                                       }
                                    },
                                    "type": "scattercarpet"
                                 }
                              ],
                              "scattergeo": [
                                 {
                                    "marker": {
                                       "colorbar": {
                                          "outlinewidth": 0,
                                          "ticks": ""
                                       }
                                    },
                                    "type": "scattergeo"
                                 }
                              ],
                              "scattergl": [
                                 {
                                    "marker": {
                                       "colorbar": {
                                          "outlinewidth": 0,
                                          "ticks": ""
                                       }
                                    },
                                    "type": "scattergl"
                                 }
                              ],
                              "scattermapbox": [
                                 {
                                    "marker": {
                                       "colorbar": {
                                          "outlinewidth": 0,
                                          "ticks": ""
                                       }
                                    },
                                    "type": "scattermapbox"
                                 }
                              ],
                              "scatterpolar": [
                                 {
                                    "marker": {
                                       "colorbar": {
                                          "outlinewidth": 0,
                                          "ticks": ""
                                       }
                                    },
                                    "type": "scatterpolar"
                                 }
                              ],
                              "scatterpolargl": [
                                 {
                                    "marker": {
                                       "colorbar": {
                                          "outlinewidth": 0,
                                          "ticks": ""
                                       }
                                    },
                                    "type": "scatterpolargl"
                                 }
                              ],
                              "scatterternary": [
                                 {
                                    "marker": {
                                       "colorbar": {
                                          "outlinewidth": 0,
                                          "ticks": ""
                                       }
                                    },
                                    "type": "scatterternary"
                                 }
                              ],
                              "surface": [
                                 {
                                    "colorbar": {
                                       "outlinewidth": 0,
                                       "ticks": ""
                                    },
                                    "colorscale": [
                                       [
                                          0,
                                          "#0d0887"
                                       ],
                                       [
                                          0.1111111111111111,
                                          "#46039f"
                                       ],
                                       [
                                          0.2222222222222222,
                                          "#7201a8"
                                       ],
                                       [
                                          0.3333333333333333,
                                          "#9c179e"
                                       ],
                                       [
                                          0.4444444444444444,
                                          "#bd3786"
                                       ],
                                       [
                                          0.5555555555555556,
                                          "#d8576b"
                                       ],
                                       [
                                          0.6666666666666666,
                                          "#ed7953"
                                       ],
                                       [
                                          0.7777777777777778,
                                          "#fb9f3a"
                                       ],
                                       [
                                          0.8888888888888888,
                                          "#fdca26"
                                       ],
                                       [
                                          1,
                                          "#f0f921"
                                       ]
                                    ],
                                    "type": "surface"
                                 }
                              ],
                              "table": [
                                 {
                                    "cells": {
                                       "fill": {
                                          "color": "#EBF0F8"
                                       },
                                       "line": {
                                          "color": "white"
                                       }
                                    },
                                    "header": {
                                       "fill": {
                                          "color": "#C8D4E3"
                                       },
                                       "line": {
                                          "color": "white"
                                       }
                                    },
                                    "type": "table"
                                 }
                              ]
                           },
                           "layout": {
                              "annotationdefaults": {
                                 "arrowcolor": "#2a3f5f",
                                 "arrowhead": 0,
                                 "arrowwidth": 1
                              },
                              "autotypenumbers": "strict",
                              "coloraxis": {
                                 "colorbar": {
                                    "outlinewidth": 0,
                                    "ticks": ""
                                 }
                              },
                              "colorscale": {
                                 "diverging": [
                                    [
                                       0,
                                       "#8e0152"
                                    ],
                                    [
                                       0.1,
                                       "#c51b7d"
                                    ],
                                    [
                                       0.2,
                                       "#de77ae"
                                    ],
                                    [
                                       0.3,
                                       "#f1b6da"
                                    ],
                                    [
                                       0.4,
                                       "#fde0ef"
                                    ],
                                    [
                                       0.5,
                                       "#f7f7f7"
                                    ],
                                    [
                                       0.6,
                                       "#e6f5d0"
                                    ],
                                    [
                                       0.7,
                                       "#b8e186"
                                    ],
                                    [
                                       0.8,
                                       "#7fbc41"
                                    ],
                                    [
                                       0.9,
                                       "#4d9221"
                                    ],
                                    [
                                       1,
                                       "#276419"
                                    ]
                                 ],
                                 "sequential": [
                                    [
                                       0,
                                       "#0d0887"
                                    ],
                                    [
                                       0.1111111111111111,
                                       "#46039f"
                                    ],
                                    [
                                       0.2222222222222222,
                                       "#7201a8"
                                    ],
                                    [
                                       0.3333333333333333,
                                       "#9c179e"
                                    ],
                                    [
                                       0.4444444444444444,
                                       "#bd3786"
                                    ],
                                    [
                                       0.5555555555555556,
                                       "#d8576b"
                                    ],
                                    [
                                       0.6666666666666666,
                                       "#ed7953"
                                    ],
                                    [
                                       0.7777777777777778,
                                       "#fb9f3a"
                                    ],
                                    [
                                       0.8888888888888888,
                                       "#fdca26"
                                    ],
                                    [
                                       1,
                                       "#f0f921"
                                    ]
                                 ],
                                 "sequentialminus": [
                                    [
                                       0,
                                       "#0d0887"
                                    ],
                                    [
                                       0.1111111111111111,
                                       "#46039f"
                                    ],
                                    [
                                       0.2222222222222222,
                                       "#7201a8"
                                    ],
                                    [
                                       0.3333333333333333,
                                       "#9c179e"
                                    ],
                                    [
                                       0.4444444444444444,
                                       "#bd3786"
                                    ],
                                    [
                                       0.5555555555555556,
                                       "#d8576b"
                                    ],
                                    [
                                       0.6666666666666666,
                                       "#ed7953"
                                    ],
                                    [
                                       0.7777777777777778,
                                       "#fb9f3a"
                                    ],
                                    [
                                       0.8888888888888888,
                                       "#fdca26"
                                    ],
                                    [
                                       1,
                                       "#f0f921"
                                    ]
                                 ]
                              },
                              "colorway": [
                                 "#636efa",
                                 "#EF553B",
                                 "#00cc96",
                                 "#ab63fa",
                                 "#FFA15A",
                                 "#19d3f3",
                                 "#FF6692",
                                 "#B6E880",
                                 "#FF97FF",
                                 "#FECB52"
                              ],
                              "font": {
                                 "color": "#2a3f5f"
                              },
                              "geo": {
                                 "bgcolor": "white",
                                 "lakecolor": "white",
                                 "landcolor": "white",
                                 "showlakes": true,
                                 "showland": true,
                                 "subunitcolor": "#C8D4E3"
                              },
                              "hoverlabel": {
                                 "align": "left"
                              },
                              "hovermode": "closest",
                              "mapbox": {
                                 "style": "light"
                              },
                              "paper_bgcolor": "white",
                              "plot_bgcolor": "white",
                              "polar": {
                                 "angularaxis": {
                                    "gridcolor": "#EBF0F8",
                                    "linecolor": "#EBF0F8",
                                    "ticks": ""
                                 },
                                 "bgcolor": "white",
                                 "radialaxis": {
                                    "gridcolor": "#EBF0F8",
                                    "linecolor": "#EBF0F8",
                                    "ticks": ""
                                 }
                              },
                              "scene": {
                                 "xaxis": {
                                    "backgroundcolor": "white",
                                    "gridcolor": "#DFE8F3",
                                    "gridwidth": 2,
                                    "linecolor": "#EBF0F8",
                                    "showbackground": true,
                                    "ticks": "",
                                    "zerolinecolor": "#EBF0F8"
                                 },
                                 "yaxis": {
                                    "backgroundcolor": "white",
                                    "gridcolor": "#DFE8F3",
                                    "gridwidth": 2,
                                    "linecolor": "#EBF0F8",
                                    "showbackground": true,
                                    "ticks": "",
                                    "zerolinecolor": "#EBF0F8"
                                 },
                                 "zaxis": {
                                    "backgroundcolor": "white",
                                    "gridcolor": "#DFE8F3",
                                    "gridwidth": 2,
                                    "linecolor": "#EBF0F8",
                                    "showbackground": true,
                                    "ticks": "",
                                    "zerolinecolor": "#EBF0F8"
                                 }
                              },
                              "shapedefaults": {
                                 "line": {
                                    "color": "#2a3f5f"
                                 }
                              },
                              "ternary": {
                                 "aaxis": {
                                    "gridcolor": "#DFE8F3",
                                    "linecolor": "#A2B1C6",
                                    "ticks": ""
                                 },
                                 "baxis": {
                                    "gridcolor": "#DFE8F3",
                                    "linecolor": "#A2B1C6",
                                    "ticks": ""
                                 },
                                 "bgcolor": "white",
                                 "caxis": {
                                    "gridcolor": "#DFE8F3",
                                    "linecolor": "#A2B1C6",
                                    "ticks": ""
                                 }
                              },
                              "title": {
                                 "x": 0.05
                              },
                              "xaxis": {
                                 "automargin": true,
                                 "gridcolor": "#EBF0F8",
                                 "linecolor": "#EBF0F8",
                                 "ticks": "",
                                 "title": {
                                    "standoff": 15
                                 },
                                 "zerolinecolor": "#EBF0F8",
                                 "zerolinewidth": 2
                              },
                              "yaxis": {
                                 "automargin": true,
                                 "gridcolor": "#EBF0F8",
                                 "linecolor": "#EBF0F8",
                                 "ticks": "",
                                 "title": {
                                    "standoff": 15
                                 },
                                 "zerolinecolor": "#EBF0F8",
                                 "zerolinewidth": 2
                              }
                           }
                        },
                        "xaxis": {
                           "title": {
                              "text": "Year"
                           }
                        },
                        "yaxis": {
                           "tickformat": "$.0f",
                           "title": {
                              "text": "Compound Return"
                           }
                        }
                     }
                  }
               },
               "metadata": {},
               "output_type": "display_data"
            }
         ],
         "source": [
            "df = (1+df).cumprod().dropna()\n",
            "trace1 = go.Scatter(\n",
            "    x=df.index.to_list(),\n",
            "    y=df.market,\n",
            "    mode=\"lines\",\n",
            "    name=\"nominal $\",\n",
            "    hovertemplate=\"Accumulation in Nominal $ = %{y:0.2f}<extra></extra>\"\n",
            ")\n",
            "\n",
            "trace2 = go.Scatter(\n",
            "    x=df.index.to_list(),\n",
            "    y=df.real,\n",
            "    mode=\"lines\",\n",
            "    name=\"constant $\",\n",
            "    hovertemplate=\"Accumulation in Constant $ = %{y:0.2f}<extra></extra>\"\n",
            ")\n",
            "\n",
            "fig = go.Figure(trace1)\n",
            "fig.add_trace(trace2)\n",
            "fig.update_layout(\n",
            "    xaxis_title=\"Year\",\n",
            "    yaxis_title=\"Compound Return\",\n",
            "    yaxis_tickformat=\"$.0f\",\n",
            "    hovermode=\"x unified\",\n",
            "    legend=dict(yanchor=\"top\", y=0.99, xanchor=\"left\", x=0.01),\n",
            "    template=\"plotly_white\",\n",
            ")\n",
            "fig.show()"
         ]
      }
   ],
   "metadata": {
      "kernelspec": {
         "display_name": "Python 3",
         "language": "python",
         "name": "python3"
      },
      "language_info": {
         "codemirror_mode": {
            "name": "ipython",
            "version": 3
         },
         "file_extension": ".py",
         "mimetype": "text/x-python",
         "name": "python",
         "nbconvert_exporter": "python",
         "pygments_lexer": "ipython3",
         "version": "3.10.7"
      },
      "orig_nbformat": 4
   },
   "nbformat": 4,
   "nbformat_minor": 0
}
