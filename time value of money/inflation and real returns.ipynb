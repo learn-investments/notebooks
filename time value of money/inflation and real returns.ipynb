{
 "cells": [
  {
   "cell_type": "markdown",
   "metadata": {
    "id": "view-in-github",
    "colab_type": "text",
    "pycharm": {
     "name": "#%% md\n"
    }
   },
   "source": [
    "<a href=\"https://colab.research.google.com/github/bbcx-investments/notebooks/blob/main/borrowing_saving/inflation.ipynb\" target=\"_parent\"><img src=\"https://colab.research.google.com/assets/colab-badge.svg\" alt=\"Open In Colab\"/></a>"
   ]
  },
  {
   "cell_type": "code",
   "execution_count": 1,
   "outputs": [
    {
     "data": {
      "text/plain": "    Year  Inflation\n0   1949        NaN\n1   1950   0.058026\n2   1951   0.059648\n3   1952   0.009067\n4   1953   0.005990\n..   ...        ...\n68  2017   0.021299\n69  2018   0.019152\n70  2019   0.022617\n71  2020   0.012782\n72  2021   0.070965\n\n[73 rows x 2 columns]",
      "text/html": "<div>\n<style scoped>\n    .dataframe tbody tr th:only-of-type {\n        vertical-align: middle;\n    }\n\n    .dataframe tbody tr th {\n        vertical-align: top;\n    }\n\n    .dataframe thead th {\n        text-align: right;\n    }\n</style>\n<table border=\"1\" class=\"dataframe\">\n  <thead>\n    <tr style=\"text-align: right;\">\n      <th></th>\n      <th>Year</th>\n      <th>Inflation</th>\n    </tr>\n  </thead>\n  <tbody>\n    <tr>\n      <th>0</th>\n      <td>1949</td>\n      <td>NaN</td>\n    </tr>\n    <tr>\n      <th>1</th>\n      <td>1950</td>\n      <td>0.058026</td>\n    </tr>\n    <tr>\n      <th>2</th>\n      <td>1951</td>\n      <td>0.059648</td>\n    </tr>\n    <tr>\n      <th>3</th>\n      <td>1952</td>\n      <td>0.009067</td>\n    </tr>\n    <tr>\n      <th>4</th>\n      <td>1953</td>\n      <td>0.005990</td>\n    </tr>\n    <tr>\n      <th>...</th>\n      <td>...</td>\n      <td>...</td>\n    </tr>\n    <tr>\n      <th>68</th>\n      <td>2017</td>\n      <td>0.021299</td>\n    </tr>\n    <tr>\n      <th>69</th>\n      <td>2018</td>\n      <td>0.019152</td>\n    </tr>\n    <tr>\n      <th>70</th>\n      <td>2019</td>\n      <td>0.022617</td>\n    </tr>\n    <tr>\n      <th>71</th>\n      <td>2020</td>\n      <td>0.012782</td>\n    </tr>\n    <tr>\n      <th>72</th>\n      <td>2021</td>\n      <td>0.070965</td>\n    </tr>\n  </tbody>\n</table>\n<p>73 rows × 2 columns</p>\n</div>"
     },
     "execution_count": 1,
     "metadata": {},
     "output_type": "execute_result"
    }
   ],
   "source": [
    "from pandas_datareader import DataReader as pdr\n",
    "\n",
    "# get inflation data\n",
    "df = pdr('CPIAUCSL','fred',start='1949-12-01')\n",
    "df = df.resample('Y').last().iloc[:-1]\n",
    "df = df.pct_change().reset_index()\n",
    "df.columns = ['Year','Inflation']\n",
    "df['Year'] = df.Year.map(lambda x: x.year)\n",
    "df"
   ],
   "metadata": {
    "pycharm": {
     "name": "#%%\n"
    },
    "colab": {
     "base_uri": "https://localhost:8080/",
     "height": 419
    },
    "id": "cb5St6RA2el1",
    "outputId": "5dc23a51-2ee3-4edb-9aff-450a67451c56"
   }
  },
  {
   "cell_type": "code",
   "execution_count": 2,
   "outputs": [
    {
     "name": "stdout",
     "output_type": "stream",
     "text": [
      "The real rate of return of an asset with a 10.00% nominal return in 2021 was 2.71%\n"
     ]
    }
   ],
   "source": [
    "y = 0.1                                         # example nominal return\n",
    "i = float(df[df[\"Year\"] == 2021][\"Inflation\"])  # inflation rate in 2021\n",
    "r = (1+y) / (1+i) - 1                           # real rate of return\n",
    "print(f\"The real rate of return of an asset with a {y:.2%} nominal return in 2021 was {r:.2%}\")"
   ],
   "metadata": {
    "pycharm": {
     "name": "#%%\n"
    },
    "colab": {
     "base_uri": "https://localhost:8080/"
    },
    "id": "BihqJnTy2el3",
    "outputId": "4caa677e-7603-435f-e02c-159997c1989d"
   }
  },
  {
   "cell_type": "code",
   "source": [],
   "metadata": {
    "id": "iWYrckt2DG0Q",
    "pycharm": {
     "name": "#%%\n"
    }
   },
   "execution_count": 2,
   "outputs": []
  }
 ],
 "metadata": {
  "kernelspec": {
   "display_name": "Python 3",
   "language": "python",
   "name": "python3"
  },
  "language_info": {
   "codemirror_mode": {
    "name": "ipython",
    "version": 2
   },
   "file_extension": ".py",
   "mimetype": "text/x-python",
   "name": "python",
   "nbconvert_exporter": "python",
   "pygments_lexer": "ipython2",
   "version": "2.7.6"
  },
  "colab": {
   "name": "inflation.ipynb",
   "provenance": [],
   "include_colab_link": true
  }
 },
 "nbformat": 4,
 "nbformat_minor": 0
}