{
   "cells": [
      {
         "cell_type": "code",
         "execution_count": null,
         "metadata": {},
         "outputs": [],
         "source": [
            "import numpy as np\n",
            "from pandas_datareader import DataReader as pdr\n",
            "import plotly.graph_objects as go"
         ]
      },
      {
         "attachments": {},
         "cell_type": "markdown",
         "metadata": {},
         "source": [
            "# EXAMPLE INPUTS"
         ]
      },
      {
         "cell_type": "code",
         "execution_count": null,
         "metadata": {},
         "outputs": [],
         "source": [
            "start = 1980\n",
            "end = 2022\n",
            "nom_return = 0.1"
         ]
      },
      {
         "attachments": {},
         "cell_type": "markdown",
         "metadata": {},
         "source": [
            "# GET INFLATION DATA"
         ]
      },
      {
         "cell_type": "code",
         "execution_count": null,
         "metadata": {
            "colab": {
               "base_uri": "https://localhost:8080/",
               "height": 419
            },
            "id": "cb5St6RA2el1",
            "outputId": "5dc23a51-2ee3-4edb-9aff-450a67451c56",
            "pycharm": {
               "name": "#%%\n"
            }
         },
         "outputs": [],
         "source": [
            "cpi = pdr('CPIAUCSL', 'fred', start=f\"{start-1}-12-01\", end=f\"{end+1}-01-01\")\n",
            "cpi = cpi.resample('Y').last()\n",
            "\n",
            "inflation = cpi.pct_change().iloc[1:-1]\n",
            "inflation.columns = [\"inflation\"]\n",
            "inflation.index = inflation.index.map(lambda x: x.year)\n",
            "inflation.index.name = \"year\"\n",
            "inflation.tail()"
         ]
      },
      {
         "attachments": {},
         "cell_type": "markdown",
         "metadata": {},
         "source": [
            "# FIGURE 1"
         ]
      },
      {
         "cell_type": "code",
         "execution_count": null,
         "metadata": {},
         "outputs": [],
         "source": [
            "trace = go.Scatter(\n",
            "    x=inflation.index.to_list(),\n",
            "    y=inflation.inflation,\n",
            "    mode=\"lines\",\n",
            "    hovertemplate=\"%{x}<br>inflation = %{y:.2%}<extra></extra>\"\n",
            ")\n",
            "fig = go.Figure(trace)\n",
            "fig.update_layout(\n",
            "    xaxis_title=\"Year\",\n",
            "    yaxis_title=\"Inflation Rate\",\n",
            "    yaxis_tickformat=\".0%\",\n",
            "    template=\"plotly_white\"\n",
            ")\n",
            "fig.show()"
         ]
      },
      {
         "attachments": {},
         "cell_type": "markdown",
         "metadata": {},
         "source": [
            "# HYPOTHETICAL REAL RETURNS"
         ]
      },
      {
         "cell_type": "code",
         "execution_count": null,
         "metadata": {},
         "outputs": [],
         "source": [
            "real_return = (1+nom_return) / (1+inflation) - 1"
         ]
      },
      {
         "attachments": {},
         "cell_type": "markdown",
         "metadata": {},
         "source": [
            "# FIGURE 2"
         ]
      },
      {
         "cell_type": "code",
         "execution_count": null,
         "metadata": {},
         "outputs": [],
         "source": [
            "trace1 = go.Scatter(\n",
            "    x=real_return.index.to_list(),\n",
            "    y=(1+nom_return)**np.arange(1, end-start+1),\n",
            "    mode=\"lines\",\n",
            "    name=\"nominal $\",\n",
            "    hovertemplate=\"Accumulation in Nominal $ = %{y:0.2f}<extra></extra>\"\n",
            ")\n",
            "\n",
            "trace2 = go.Scatter(\n",
            "    x=real_return.index.to_list(),\n",
            "    y=(1+real_return.iloc[:,0]).cumprod(),\n",
            "    mode=\"lines\",\n",
            "    name=\"constant $\",\n",
            "    hovertemplate=\"Accumulation in Constant $ = %{y:0.2f}<extra></extra>\"\n",
            ")\n",
            "\n",
            "fig = go.Figure(trace1)\n",
            "fig.add_trace(trace2)\n",
            "fig.update_layout(\n",
            "    xaxis_title=\"Year\",\n",
            "    yaxis_title=\"Compound Return\",\n",
            "    yaxis_tickformat=\"$.0f\",\n",
            "    hovermode=\"x unified\",\n",
            "    legend=dict(yanchor=\"top\", y=0.99, xanchor=\"left\", x=0.01),\n",
            "    template=\"plotly_white\",\n",
            ")\n",
            "fig.show()"
         ]
      }
   ],
   "metadata": {
      "kernelspec": {
         "display_name": "Python 3",
         "language": "python",
         "name": "python3"
      },
      "language_info": {
         "codemirror_mode": {
            "name": "ipython",
            "version": 3
         },
         "file_extension": ".py",
         "mimetype": "text/x-python",
         "name": "python",
         "nbconvert_exporter": "python",
         "pygments_lexer": "ipython3",
         "version": "3.10.8"
      },
      "orig_nbformat": 4
   },
   "nbformat": 4,
   "nbformat_minor": 0
}
