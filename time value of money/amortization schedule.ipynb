{
 "cells": [
  {
   "cell_type": "markdown",
   "metadata": {},
   "source": [
    "---\n",
    "\n",
    "Created for [learn-investments.rice-business.org](https://learn-investments.rice-business.org)\n",
    "    \n",
    "By [Kerry Back](https://kerryback.com) and [Kevin Crotty](https://kevincrotty.rice.edu/)\n",
    "    \n",
    "Jones Graduate School of Business, Rice University\n",
    "\n",
    "---\n"
   ]
  },
  {
   "cell_type": "markdown",
   "metadata": {},
   "source": [
    "# EXAMPLE DATA \n",
    "\n",
    "Assuming monthly payments."
   ]
  },
  {
   "cell_type": "code",
   "execution_count": null,
   "metadata": {},
   "outputs": [],
   "source": [
    "num_years = 15\n",
    "principal = 400000\n",
    "annual_rate = 0.05"
   ]
  },
  {
   "cell_type": "markdown",
   "metadata": {},
   "source": [
    "# INSTALL LIBRARIES"
   ]
  },
  {
   "cell_type": "code",
   "execution_count": null,
   "metadata": {},
   "outputs": [],
   "source": [
    "!pip install numpy-financial"
   ]
  },
  {
   "cell_type": "code",
   "execution_count": null,
   "metadata": {},
   "outputs": [],
   "source": [
    "\n",
    "import plotly.graph_objects as go"
   ]
  },
  {
   "attachments": {},
   "cell_type": "markdown",
   "metadata": {},
   "source": [
    "# CALCULATION"
   ]
  },
  {
   "cell_type": "code",
   "execution_count": null,
   "metadata": {},
   "outputs": [],
   "source": [
    "import numpy as np\n",
    "import numpy_financial as npf\n",
    "\n",
    "nper = 12*num_years\n",
    "payment = - npf.pmt(rate=annual_rate/12, nper=nper, pv=principal)\n",
    "\n",
    "balance = np.empty(nper+1)\n",
    "interest = np.empty(nper)\n",
    "balance[0] = principal\n",
    "for i in range(nper):\n",
    "    interest[i] = balance[i]*annual_rate/12\n",
    "    balance[i+1] = balance[i] + interest[i] - payment"
   ]
  },
  {
   "attachments": {},
   "cell_type": "markdown",
   "metadata": {},
   "source": [
    "# FIGURE 1"
   ]
  },
  {
   "cell_type": "code",
   "execution_count": null,
   "metadata": {},
   "outputs": [],
   "source": [
    "trace = go.Scatter(\n",
    "    x=[i for i in range(nper)],\n",
    "    y=balance,\n",
    "    mode=\"lines\",\n",
    "    hovertemplate=\"payoff at period %{x:.0f} is $%{y:,.2f}<extra></extra>\",\n",
    "    fill=\"tozeroy\",\n",
    "    name=\"Remaining Balance\",\n",
    ")\n",
    "fig = go.Figure(trace)\n",
    "\n",
    "fig.update_layout(\n",
    "    xaxis_title=\"Month\",\n",
    "    yaxis_title=\"Loan Payoff\",\n",
    "    yaxis_tickprefix=\"$\", \n",
    "    yaxis_tickformat=\",.0f\",\n",
    "    legend=dict(yanchor=\"bottom\", y=0.01, xanchor=\"left\", x=0.01),\n",
    "    template=\"simple_white\",\n",
    ")\n",
    "fig.show()\n"
   ]
  },
  {
   "attachments": {},
   "cell_type": "markdown",
   "metadata": {},
   "source": [
    "# FIGURE 2"
   ]
  },
  {
   "cell_type": "code",
   "execution_count": null,
   "metadata": {},
   "outputs": [],
   "source": [
    "fig2 = go.Figure()\n",
    "\n",
    "trace1 = go.Scatter(\n",
    "    x=[i for i in range(1, nper + 1)],\n",
    "    y=payment-interest,\n",
    "    mode=\"lines\",\n",
    "    hovertemplate=\"principal payment at period %{x:.0f} is $%{y:,.2f}<extra></extra>\",\n",
    "    fill=\"tozeroy\",\n",
    "    name=\"Principal\",\n",
    ")\n",
    "\n",
    "trace2 = go.Scatter(\n",
    "    x=[i for i in range(1, nper + 1)],\n",
    "    y=[payment]*nper,\n",
    "    customdata=interest,\n",
    "    mode=\"lines\",\n",
    "    hovertemplate=\"interest payment at period %{x:.0f} is $%{customdata:,.2f}<extra></extra>\",\n",
    "    fill=\"tonexty\",\n",
    "    name=\"Interest\",\n",
    ")\n",
    "\n",
    "fig = go.Figure(trace1)\n",
    "fig.add_trace(trace2)\n",
    "fig.update_layout(\n",
    "    xaxis_title=\"Month\",\n",
    "    yaxis_title=\"Allocation of Payment\",\n",
    "    yaxis_tickprefix=\"$\", \n",
    "    yaxis_tickformat=\",.0f\",\n",
    "    legend=dict(yanchor=\"bottom\", y=0.01, xanchor=\"right\", x=0.99),\n",
    "    xaxis_rangemode=\"tozero\",\n",
    "    template=\"simple_white\",\n",
    ")\n",
    "fig.show()"
   ]
  }
 ],
 "metadata": {
  "kernelspec": {
   "display_name": "Python 3",
   "language": "python",
   "name": "python3"
  },
  "language_info": {
   "codemirror_mode": {
    "name": "ipython",
    "version": 3
   },
   "file_extension": ".py",
   "mimetype": "text/x-python",
   "name": "python",
   "nbconvert_exporter": "python",
   "pygments_lexer": "ipython3",
   "version": "3.10.7"
  },
  "orig_nbformat": 4
 },
 "nbformat": 4,
 "nbformat_minor": 2
}
