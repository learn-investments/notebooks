{
 "cells": [
  {
   "cell_type": "code",
   "execution_count": 1,
   "metadata": {
    "colab": {
     "base_uri": "https://localhost:8080/"
    },
    "id": "eBL0iX76cFpN",
    "outputId": "90e533d6-c5fa-4240-8a83-dd2416b25df2",
    "pycharm": {
     "name": "#%%\n"
    }
   },
   "outputs": [],
   "source": [
    "!pip install numpy-financial"
   ]
  },
  {
   "cell_type": "code",
   "execution_count": 2,
   "metadata": {
    "colab": {
     "base_uri": "https://localhost:8080/"
    },
    "id": "QNPbxFaAcTPK",
    "outputId": "4ef416bc-b1ad-4f70-9aac-d9ad6a68f95c",
    "pycharm": {
     "name": "#%%\n"
    }
   },
   "outputs": [
    {
     "name": "stdout",
     "output_type": "stream",
     "text": [
      "IRR = 0.15330489648400425\n"
     ]
    }
   ],
   "source": [
    "import numpy as np\n",
    "import numpy_financial as npf \n",
    "\n",
    "# Example\n",
    "cashFlows = [-100,20,30,50,40,10]\n",
    "irr = npf.irr(cashFlows)\n",
    "\n",
    "if (irr is np.nan) or (irr<0) :\n",
    "  print('IRR does not exist.')\n",
    "else :\n",
    "  print('IRR =',irr)"
   ]
  }
 ],
 "metadata": {
  "kernelspec": {
   "display_name": "Python 3",
   "name": "python3"
  },
  "language_info": {
   "name": "python"
  }
 },
 "nbformat": 4,
 "nbformat_minor": 0
}
