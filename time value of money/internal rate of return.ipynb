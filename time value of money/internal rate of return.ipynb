{
 "nbformat": 4,
 "nbformat_minor": 0,
 "metadata": {
  "colab": {
   "name": "irr.ipynb",
   "provenance": [],
   "authorship_tag": "ABX9TyMBpSRS376jFmI4xQrRI4eX",
   "include_colab_link": true
  },
  "kernelspec": {
   "name": "python3",
   "display_name": "Python 3"
  },
  "language_info": {
   "name": "python"
  }
 },
 "cells": [
  {
   "cell_type": "markdown",
   "metadata": {
    "id": "view-in-github",
    "colab_type": "text",
    "pycharm": {
     "name": "#%% md\n"
    }
   },
   "source": [
    "<a href=\"https://colab.research.google.com/github/bbcx-investments/notebooks/blob/main/borrowing_saving/irr.ipynb\" target=\"_parent\"><img src=\"https://colab.research.google.com/assets/colab-badge.svg\" alt=\"Open In Colab\"/></a>"
   ]
  },
  {
   "cell_type": "code",
   "execution_count": 1,
   "metadata": {
    "colab": {
     "base_uri": "https://localhost:8080/"
    },
    "id": "eBL0iX76cFpN",
    "outputId": "90e533d6-c5fa-4240-8a83-dd2416b25df2",
    "pycharm": {
     "name": "#%%\n"
    }
   },
   "outputs": [],
   "source": [
    "!pip install numpy-financial"
   ]
  },
  {
   "cell_type": "code",
   "source": [
    "import numpy as np\n",
    "import numpy_financial as npf \n",
    "\n",
    "# Example\n",
    "cashFlows = [-100,20,30,50,40,10]\n",
    "irr = npf.irr(cashFlows)\n",
    "\n",
    "if (irr is np.nan) or (irr<0) :\n",
    "  print('IRR does not exist.')\n",
    "else :\n",
    "  print('IRR =',irr)"
   ],
   "metadata": {
    "colab": {
     "base_uri": "https://localhost:8080/"
    },
    "id": "QNPbxFaAcTPK",
    "outputId": "4ef416bc-b1ad-4f70-9aac-d9ad6a68f95c",
    "pycharm": {
     "name": "#%%\n"
    }
   },
   "execution_count": 2,
   "outputs": [
    {
     "name": "stdout",
     "output_type": "stream",
     "text": [
      "IRR = 0.15330489648400425\n"
     ]
    }
   ]
  }
 ]
}