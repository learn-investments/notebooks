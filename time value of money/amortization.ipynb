{
 "cells": [
  {
   "cell_type": "code",
   "execution_count": null,
   "metadata": {},
   "outputs": [],
   "source": [
    "!pip install numpy-financial"
   ]
  },
  {
   "cell_type": "code",
   "execution_count": 1,
   "metadata": {},
   "outputs": [],
   "source": [
    "import numpy_financial as npf"
   ]
  },
  {
   "cell_type": "code",
   "execution_count": 2,
   "metadata": {},
   "outputs": [
    {
     "name": "stdout",
     "output_type": "stream",
     "text": [
      "A $30,0000 5-year loan with monthly payments at 5% will have a $566.14 monthly payment.\n"
     ]
    }
   ],
   "source": [
    "payment = npf.pmt(rate=0.05/12, nper=5*12, pv=30000, fv=0)\n",
    "print(f\"A $30,0000 5-year loan with monthly payments at 5% will have a ${-payment:,.2f} monthly payment.\")"
   ]
  },
  {
   "cell_type": "code",
   "execution_count": 3,
   "metadata": {},
   "outputs": [
    {
     "name": "stdout",
     "output_type": "stream",
     "text": [
      "At a 5% rate and with monthly payments of $600 on a 5-year loan, one can borrow $31,794.42.\n"
     ]
    }
   ],
   "source": [
    "principal = npf.pv(rate=0.05/12, nper=5*12, pmt=-600, fv=0)\n",
    "print(f\"At a 5% rate and with monthly payments of $600 on a 5-year loan, one can borrow ${principal:,.2f}.\")"
   ]
  },
  {
   "cell_type": "code",
   "execution_count": 4,
   "metadata": {},
   "outputs": [
    {
     "name": "stdout",
     "output_type": "stream",
     "text": [
      "At a 5% rate and with monthly payments of $500 on a 5-year loan and a principal amount of $30,000, there will be a balloon payment of $ 4,497.72.\n"
     ]
    }
   ],
   "source": [
    "balloon = npf.fv(rate=0.05/12, nper=5*12, pv=30000, pmt=-500)\n",
    "print(f\"At a 5% rate and with monthly payments of $500 on a 5-year loan and a principal amount of $30,000, there will be a balloon payment of ${-balloon: ,.2f}.\")"
   ]
  },
  {
   "cell_type": "code",
   "execution_count": 5,
   "metadata": {},
   "outputs": [
    {
     "name": "stdout",
     "output_type": "stream",
     "text": [
      "To borrow $30,000 over 5 years with monthly payments of $550 and no balloon payment, you need a rate of  3.82% or less.\n"
     ]
    }
   ],
   "source": [
    "rate = npf.rate(nper=5*12, pmt=-550, pv=30000, fv=0)\n",
    "print(f\"To borrow $30,000 over 5 years with monthly payments of $550 and no balloon payment, you need a rate of {12*rate: .2%} or less.\")"
   ]
  },
  {
   "cell_type": "code",
   "execution_count": null,
   "metadata": {},
   "outputs": [],
   "source": []
  }
 ],
 "metadata": {
  "kernelspec": {
   "display_name": "Python 3",
   "language": "python",
   "name": "python3"
  },
  "language_info": {
   "codemirror_mode": {
    "name": "ipython",
    "version": 3
   },
   "file_extension": ".py",
   "mimetype": "text/x-python",
   "name": "python",
   "nbconvert_exporter": "python",
   "pygments_lexer": "ipython3",
   "version": "3.10.8"
  },
  "orig_nbformat": 4
 },
 "nbformat": 4,
 "nbformat_minor": 2
}
