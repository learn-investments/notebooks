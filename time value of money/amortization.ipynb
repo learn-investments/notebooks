{
  "cells": [
    {
      "cell_type": "markdown",
      "metadata": {
        "id": "view-in-github",
        "colab_type": "text"
      },
      "source": [
        "<a href=\"https://colab.research.google.com/github/bbcx-investments/notebooks/blob/main/borrowing_saving/amortization.ipynb\" target=\"_parent\"><img src=\"https://colab.research.google.com/assets/colab-badge.svg\" alt=\"Open In Colab\"/></a>"
      ]
    },
    {
      "cell_type": "code",
      "execution_count": null,
      "outputs": [],
      "source": [
        "!pip install numpy-financial"
      ],
      "metadata": {
        "pycharm": {
          "name": "#%%\n"
        },
        "id": "usaVbkRyUzqr"
      }
    },
    {
      "cell_type": "code",
      "execution_count": null,
      "outputs": [
        {
          "name": "stdout",
          "output_type": "stream",
          "text": [
            "A $30,0000 5-year loan with monthly payments at 5% will have a $566.14 monthly payment.\n"
          ]
        }
      ],
      "source": [
        "import numpy_financial as npf\n",
        "\n",
        "Payment = npf.pmt(rate=0.05/12, nper=5*12, pv=30000, fv=0)\n",
        "print(f\"A $30,0000 5-year loan with monthly payments at 5% will have a ${-Payment:,.2f} monthly payment.\")"
      ],
      "metadata": {
        "pycharm": {
          "name": "#%%\n"
        },
        "id": "WMp3WBXF2Dw2",
        "outputId": "cef8ac70-2686-48c7-8499-d6aa5d4139ab"
      }
    },
    {
      "cell_type": "code",
      "execution_count": null,
      "outputs": [
        {
          "name": "stdout",
          "output_type": "stream",
          "text": [
            "At a 5% rate and with monthly payments of $600 on a 5-year loan, one can borrow $31,794.42.\n"
          ]
        }
      ],
      "source": [
        "Principal = npf.pv(rate=0.05/12, nper=5*12, pmt=-600, fv=0)\n",
        "print(f\"At a 5% rate and with monthly payments of $600 on a 5-year loan, one can borrow ${Principal:,.2f}.\")"
      ],
      "metadata": {
        "pycharm": {
          "name": "#%%\n"
        },
        "id": "vmi6XQhW2Dw4",
        "outputId": "9cfb4ae7-84d1-418d-8620-c0f66503677c"
      }
    },
    {
      "cell_type": "code",
      "execution_count": null,
      "outputs": [
        {
          "name": "stdout",
          "output_type": "stream",
          "text": [
            "At a 5% rate and with monthly payments of $500 on a 5-year loan and a principal amount of $30,000, there will be a balloon payment of $ 4,497.72.\n"
          ]
        }
      ],
      "source": [
        "Balloon = npf.fv(rate=0.05/12, nper=5*12, pv=30000, pmt=-500)\n",
        "print(f\"At a 5% rate and with monthly payments of $500 on a 5-year loan and a principal amount of $30,000, there will be a balloon payment of ${-Balloon: ,.2f}.\")"
      ],
      "metadata": {
        "pycharm": {
          "name": "#%%\n"
        },
        "id": "paJ_B8gU2Dw5",
        "outputId": "c4ccb5c7-6baf-4fbe-9f21-57a0a2ecb795"
      }
    },
    {
      "cell_type": "code",
      "execution_count": null,
      "outputs": [
        {
          "name": "stdout",
          "output_type": "stream",
          "text": [
            "To borrow $30,000 over 5 years with monthly payments of $550 and no balloon payment, you need a rate of  3.82% or less.\n"
          ]
        }
      ],
      "source": [
        "Rate = npf.rate(nper=5*12, pmt=-550, pv=30000, fv=0)\n",
        "print (f\"To borrow $30,000 over 5 years with monthly payments of $550 and no balloon payment, you need a rate of {12*Rate: .2%} or less.\")"
      ],
      "metadata": {
        "pycharm": {
          "name": "#%%\n"
        },
        "id": "1UeYvnG-Uzqw",
        "outputId": "23cb293a-d5bc-412b-971b-089ecdbdd06a"
      }
    },
    {
      "cell_type": "code",
      "execution_count": null,
      "outputs": [],
      "source": [],
      "metadata": {
        "pycharm": {
          "name": "#%%\n"
        },
        "id": "w3o4yPk-Uzqw"
      }
    }
  ],
  "metadata": {
    "kernelspec": {
      "display_name": "Python 3",
      "language": "python",
      "name": "python3"
    },
    "language_info": {
      "codemirror_mode": {
        "name": "ipython",
        "version": 2
      },
      "file_extension": ".py",
      "mimetype": "text/x-python",
      "name": "python",
      "nbconvert_exporter": "python",
      "pygments_lexer": "ipython2",
      "version": "2.7.6"
    },
    "colab": {
      "name": "amortization.ipynb",
      "provenance": [],
      "include_colab_link": true
    }
  },
  "nbformat": 4,
  "nbformat_minor": 0
}