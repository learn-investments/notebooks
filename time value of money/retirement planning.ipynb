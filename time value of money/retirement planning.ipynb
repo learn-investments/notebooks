{
 "cells": [
  {
   "cell_type": "code",
   "execution_count": null,
   "metadata": {},
   "outputs": [],
   "source": [
    "import numpy as np\n",
    "import pandas as pd\n",
    "import plotly.express as px"
   ]
  },
  {
   "attachments": {},
   "cell_type": "markdown",
   "metadata": {},
   "source": [
    "# EXAMPLE PARAMETERS"
   ]
  },
  {
   "cell_type": "code",
   "execution_count": null,
   "metadata": {},
   "outputs": [],
   "source": [
    "R = 30*12                      # 30 years until retirement\n",
    "T = 60*12                      # 60 total years\n",
    "B0 = 100000                    # initial balance is $100,000\n",
    "D1 = 1000                      # initial savings is $1,000 (per month)\n",
    "W1 = 10000                     # withdraw $10,000 first month in retirement\n",
    "g = 0.002                      # deposit is 0.2% larger each month\n",
    "h = 0                          # withdrawals are constant\n",
    "r = 0.06 / 12                  # earn 1/2% per month"
   ]
  },
  {
   "attachments": {},
   "cell_type": "markdown",
   "metadata": {},
   "source": [
    "# CASH FLOWS"
   ]
  },
  {
   "cell_type": "code",
   "execution_count": null,
   "metadata": {},
   "outputs": [],
   "source": [
    "D = D1 * (1+g)**np.arange(R)\n",
    "W = W1 * (1+h)**np.arange(T-R)\n",
    "D = np.concatenate(([0], D, np.zeros(T-R)))\n",
    "W = np.concatenate((np.zeros(R), W, [0]))\n",
    "CF = D - W"
   ]
  },
  {
   "attachments": {},
   "cell_type": "markdown",
   "metadata": {},
   "source": [
    "# ACCOUNT BALANCE"
   ]
  },
  {
   "cell_type": "code",
   "execution_count": null,
   "metadata": {},
   "outputs": [],
   "source": [
    "B = np.empty(T+1)\n",
    "B[0] = B0\n",
    "for t in range(1, T+1) :\n",
    "    B[t] = (1+r)*B[t-1] + CF[t]"
   ]
  },
  {
   "attachments": {},
   "cell_type": "markdown",
   "metadata": {},
   "source": [
    "# FIGURE"
   ]
  },
  {
   "cell_type": "code",
   "execution_count": null,
   "metadata": {
    "collapsed": false,
    "pycharm": {
     "name": "#%%\n"
    }
   },
   "outputs": [],
   "source": [
    "string = \"\"\"\n",
    "         at month %{x:.0f}:<br> \n",
    "         balance = $%{y:,.0f} <br> \n",
    "         deposit = $%{customdata[0]:,.0f} <br> \n",
    "         withdrawal = $%{customdata[1]:,.0f} <extra></extra> \n",
    "         \"\"\"\n",
    "fig = px.line(\n",
    "    x=[i for i in range(T+1)],\n",
    "    y=B,\n",
    "    custom_data=[D, W]\n",
    ")\n",
    "fig.update_traces(hovertemplate=string)\n",
    "fig.update_layout(\n",
    "    xaxis_title=\"Month\",\n",
    "    yaxis_title=\"Account Balance\",\n",
    "    template=\"plotly_white\",\n",
    ")\n",
    "fig.show()"
   ]
  }
 ],
 "metadata": {
  "kernelspec": {
   "display_name": "Python 3",
   "language": "python",
   "name": "python3"
  },
  "language_info": {
   "codemirror_mode": {
    "name": "ipython",
    "version": 3
   },
   "file_extension": ".py",
   "mimetype": "text/x-python",
   "name": "python",
   "nbconvert_exporter": "python",
   "pygments_lexer": "ipython3",
   "version": "3.10.3"
  },
  "orig_nbformat": 4
 },
 "nbformat": 4,
 "nbformat_minor": 2
}
