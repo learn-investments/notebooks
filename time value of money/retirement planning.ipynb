{
 "cells": [
  {
   "cell_type": "markdown",
   "metadata": {
    "id": "view-in-github",
    "colab_type": "text",
    "pycharm": {
     "name": "#%% md\n"
    }
   },
   "source": [
    "<a href=\"https://colab.research.google.com/github/bbcx-investments/notebooks/blob/main/borrowing_saving/retirement_planning.ipynb\" target=\"_parent\"><img src=\"https://colab.research.google.com/assets/colab-badge.svg\" alt=\"Open In Colab\"/></a>"
   ]
  },
  {
   "cell_type": "code",
   "execution_count": 1,
   "id": "259de60c",
   "metadata": {
    "scrolled": true,
    "id": "259de60c",
    "outputId": "93772ac5-e2b8-4c3b-f295-1ba527eeba63",
    "colab": {
     "base_uri": "https://localhost:8080/"
    },
    "pycharm": {
     "name": "#%%\n"
    }
   },
   "outputs": [
    {
     "output_type": "execute_result",
     "data": {
      "text/plain": [
       "month\n",
       "0      1.000000e+05\n",
       "1      1.015020e+05\n",
       "2      1.030135e+05\n",
       "3      1.045346e+05\n",
       "4      1.060653e+05\n",
       "           ...     \n",
       "716    1.516530e+06\n",
       "717    1.514112e+06\n",
       "718    1.511683e+06\n",
       "719    1.509241e+06\n",
       "720    1.516788e+06\n",
       "Length: 721, dtype: float64"
      ]
     },
     "metadata": {},
     "execution_count": 1
    }
   ],
   "source": [
    "import numpy as np\n",
    "\n",
    "R = 30*12      # 30 years until retirement\n",
    "T = 60*12      # 60 total years\n",
    "r = 0.005      # earn 1/2 % per month  (~ 6% per year)\n",
    "B0 = 100000    # initial balance is $100,000\n",
    "D1 = 1000      # initial savings is $1,000 (per month)\n",
    "W1 = 10000     # withdraw $10,000 first month in retirement\n",
    "g = 0.002      # deposit is 0.2% larger each month\n",
    "h = 0          # withdrawals are constant\n",
    "\n",
    "# deposits\n",
    "\n",
    "D = D1 * (1+g)**np.arange(R)\n",
    "D = dict(zip(range(1, R+1), D))\n",
    "\n",
    "# withdrawals\n",
    "W = W1 * (1+h)**np.arange(T-R)\n",
    "W = dict(zip(range(R, T), W))\n",
    "\n",
    "# balance\n",
    "B = np.empty(T+1)\n",
    "B[0] = B0\n",
    "\n",
    "for t in range(1, R+1) :\n",
    "    B[t] = (1+r)*B[t-1] + D[t]\n",
    "\n",
    "B[R] -= W[R]\n",
    "\n",
    "for t in range(R+1, T):\n",
    "    B[t] = (1+r)*B[t-1] - W[t]\n",
    "\n",
    "B[T] = (1+r)*B[T-1]"
   ]
  },
  {
   "cell_type": "code",
   "source": [],
   "metadata": {
    "id": "wP9pEfkzCBYS",
    "pycharm": {
     "name": "#%%\n"
    }
   },
   "id": "wP9pEfkzCBYS",
   "execution_count": null,
   "outputs": []
  }
 ],
 "metadata": {
  "kernelspec": {
   "display_name": "Python 3 (ipykernel)",
   "language": "python",
   "name": "python3"
  },
  "language_info": {
   "codemirror_mode": {
    "name": "ipython",
    "version": 3
   },
   "file_extension": ".py",
   "mimetype": "text/x-python",
   "name": "python",
   "nbconvert_exporter": "python",
   "pygments_lexer": "ipython3",
   "version": "3.9.7"
  },
  "colab": {
   "name": "retirement_planning.ipynb",
   "provenance": [],
   "include_colab_link": true
  }
 },
 "nbformat": 4,
 "nbformat_minor": 5
}