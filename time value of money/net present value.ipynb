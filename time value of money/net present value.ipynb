{
 "nbformat": 4,
 "nbformat_minor": 0,
 "metadata": {
  "colab": {
   "name": "npv.ipynb",
   "provenance": [],
   "authorship_tag": "ABX9TyNHUiLR6FsRAglzpxlKg4TP",
   "include_colab_link": true
  },
  "kernelspec": {
   "name": "python3",
   "display_name": "Python 3"
  },
  "language_info": {
   "name": "python"
  }
 },
 "cells": [
  {
   "cell_type": "markdown",
   "metadata": {
    "id": "view-in-github",
    "colab_type": "text",
    "pycharm": {
     "name": "#%% md\n"
    }
   },
   "source": [
    "<a href=\"https://colab.research.google.com/github/bbcx-investments/notebooks/blob/main/borrowing_saving/npv.ipynb\" target=\"_parent\"><img src=\"https://colab.research.google.com/assets/colab-badge.svg\" alt=\"Open In Colab\"/></a>"
   ]
  },
  {
   "cell_type": "code",
   "execution_count": null,
   "metadata": {
    "colab": {
     "base_uri": "https://localhost:8080/"
    },
    "id": "3jryoogfWylL",
    "outputId": "ccea032f-73b2-4170-ccc7-c12ca8022b81",
    "pycharm": {
     "name": "#%%\n"
    }
   },
   "outputs": [
    {
     "output_type": "stream",
     "name": "stdout",
     "text": [
      "Requirement already satisfied: numpy-financial in /usr/local/lib/python3.7/dist-packages (1.0.0)\n",
      "Requirement already satisfied: numpy>=1.15 in /usr/local/lib/python3.7/dist-packages (from numpy-financial) (1.21.6)\n"
     ]
    }
   ],
   "source": [
    "!pip install numpy-financial"
   ]
  },
  {
   "cell_type": "code",
   "source": [
    "import numpy as np\n",
    "import numpy_financial as npf\n",
    "\n",
    "'''\n",
    "Remark: most of the numpy-financial functions have the same\n",
    "behavior as their counterparts in Microsoft Excel.  However,\n",
    "for some perverse reason, the Excel NPV function assumes the\n",
    "first cash flow is one period away.  See help(npf.npv) for \n",
    "one way to get the Excel behavior (if you should want it)\n",
    "from npf.npv.\n",
    "'''\n",
    "\n",
    "# Example\n",
    "rate = 0.1\n",
    "cashFlows = [-100,20,30,50,40,10]\n",
    "\n",
    "# Method 1\n",
    "npv1 = npf.npv(rate,cashFlows)\n",
    "\n",
    "# Method 2\n",
    "pvFactors = 1 / (1+rate)**np.arange(len(cashFlows))\n",
    "pvs = pvFactors * cashFlows\n",
    "npv2 = np.sum(pvs)\n",
    "\n",
    "print('NPV by method 1 is', npv1)\n",
    "print('NPV by method 2 is', npv2)"
   ],
   "metadata": {
    "colab": {
     "base_uri": "https://localhost:8080/"
    },
    "id": "PpJ7xHdTXCQM",
    "outputId": "7ece5e59-04ad-4b78-d56c-db50f8288f4a",
    "pycharm": {
     "name": "#%%\n"
    }
   },
   "execution_count": null,
   "outputs": [
    {
     "output_type": "stream",
     "name": "stdout",
     "text": [
      "NPV by method 1 is 14.070698101843496\n",
      "NPV by method 2 is 14.070698101843496\n"
     ]
    }
   ]
  },
  {
   "cell_type": "code",
   "source": [],
   "metadata": {
    "id": "jPJuEtSPXwvb",
    "pycharm": {
     "name": "#%%\n"
    }
   },
   "execution_count": null,
   "outputs": []
  }
 ]
}