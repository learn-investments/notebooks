{
 "cells": [
  {
   "cell_type": "code",
   "execution_count": null,
   "metadata": {},
   "outputs": [],
   "source": [
    "!pip install numpy-financial"
   ]
  },
  {
   "cell_type": "code",
   "execution_count": null,
   "metadata": {},
   "outputs": [],
   "source": [
    "import numpy as np\n",
    "import numpy_financial as npf"
   ]
  },
  {
   "attachments": {},
   "cell_type": "markdown",
   "metadata": {},
   "source": [
    "Most of the numpy-financial functions have the same\n",
    "behavior as their counterparts in Microsoft Excel.  However,\n",
    "the Excel NPV function assumes the\n",
    "first cash flow is one period away, whereas npf.npv assumes the first cash flow is at date 0.  See help(npf.npv) for \n",
    "one way to get the Excel behavior (if you should want it)\n",
    "from npf.npv."
   ]
  },
  {
   "cell_type": "code",
   "execution_count": null,
   "metadata": {},
   "outputs": [],
   "source": [
    "# Example\n",
    "rate = 0.1\n",
    "cashFlows = [-100,20,30,50,40,10]\n",
    "\n",
    "# Method 1\n",
    "npv1 = npf.npv(rate,cashFlows)\n",
    "\n",
    "# Method 2\n",
    "pvFactors = 1 / (1+rate)**np.arange(len(cashFlows))\n",
    "pvs = pvFactors * cashFlows\n",
    "npv2 = np.sum(pvs)\n",
    "\n",
    "print('NPV by method 1 is', npv1)\n",
    "print('NPV by method 2 is', npv2)"
   ]
  }
 ],
 "metadata": {
  "kernelspec": {
   "display_name": "Python 3",
   "language": "python",
   "name": "python3"
  },
  "language_info": {
   "name": "python",
   "version": "3.10.8"
  },
  "orig_nbformat": 4
 },
 "nbformat": 4,
 "nbformat_minor": 2
}
