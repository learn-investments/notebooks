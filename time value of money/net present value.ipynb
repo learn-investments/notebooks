{
 "cells": [
  {
   "cell_type": "markdown",
   "metadata": {},
   "source": [
    "<div class=\"warning\" style='background-color:#C1C6C8; color: #00205B; border-left: solid #00205B 4px; border-radius: 4px; padding:0.7em;'>\n",
    "<span>\n",
    "<p style='margin-top:1em; text-align:center'>\n",
    "<b>Created for <a target=\"_blank\" href=\"https://learn-investments.rice-business.org\">learn-investments.rice-business.org</a></b></p>\n",
    "<p style='margin-top:1em; text-align:center'><b>\n",
    "By <a target=\"_blank\" href=\"https://kerryback.com\">Kerry Back</a> and <a target=\"_blank\" href=\"https://kevincrotty.rice.edu/\">Kevin Crotty</a></b></p>\n",
    "<p style='margin-top:1em; text-align:center'>\n",
    "<b>Jones Graduate School of Business, Rice University</b></p>\n",
    "</div>\n"
   ]
  },
  {
   "cell_type": "markdown",
   "metadata": {},
   "source": [
    "# EXAMPLE DATA"
   ]
  },
  {
   "cell_type": "code",
   "execution_count": null,
   "metadata": {},
   "outputs": [],
   "source": [
    "rate = 0.1\n",
    "cashFlows = [-100, 20, 30, 50, 40, 10]"
   ]
  },
  {
   "cell_type": "markdown",
   "metadata": {},
   "source": [
    "# INSTALL LIBRARIES"
   ]
  },
  {
   "cell_type": "code",
   "execution_count": null,
   "metadata": {},
   "outputs": [],
   "source": [
    "!pip install numpy-financial"
   ]
  },
  {
   "cell_type": "markdown",
   "metadata": {},
   "source": [
    "# CALCULATION\n",
    "\n",
    "Most of the numpy-financial functions have the same\n",
    "behavior as their counterparts in Microsoft Excel.  However,\n",
    "the Excel NPV function assumes the\n",
    "first cash flow is one period away, whereas npf.npv assumes the first cash flow is at date 0.  See help(npf.npv) for \n",
    "one way to get the Excel behavior (if you should want it)\n",
    "from npf.npv."
   ]
  },
  {
   "cell_type": "code",
   "execution_count": null,
   "metadata": {},
   "outputs": [],
   "source": [
    "import numpy as np\n",
    "import numpy_financial as npf\n",
    "\n",
    "# Method 1\n",
    "npv1 = npf.npv(rate,cashFlows)\n",
    "\n",
    "# Method 2\n",
    "pvFactors = 1 / (1+rate)**np.arange(len(cashFlows))\n",
    "pvs = pvFactors * cashFlows\n",
    "npv2 = np.sum(pvs)\n",
    "\n",
    "print('NPV by method 1 is', npv1)\n",
    "print('NPV by method 2 is', npv2)"
   ]
  }
 ],
 "metadata": {
  "kernelspec": {
   "display_name": "Python 3",
   "language": "python",
   "name": "python3"
  },
  "language_info": {
   "codemirror_mode": {
    "name": "ipython",
    "version": 3
   },
   "file_extension": ".py",
   "mimetype": "text/x-python",
   "name": "python",
   "nbconvert_exporter": "python",
   "pygments_lexer": "ipython3",
   "version": "3.10.7"
  },
  "orig_nbformat": 4
 },
 "nbformat": 4,
 "nbformat_minor": 2
}
