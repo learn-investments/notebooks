{
 "cells": [
  {
   "cell_type": "code",
   "execution_count": null,
   "metadata": {
    "colab": {
     "base_uri": "https://localhost:8080/"
    },
    "id": "3jryoogfWylL",
    "outputId": "ccea032f-73b2-4170-ccc7-c12ca8022b81",
    "pycharm": {
     "name": "#%%\n"
    }
   },
   "outputs": [
    {
     "name": "stdout",
     "output_type": "stream",
     "text": [
      "Requirement already satisfied: numpy-financial in /usr/local/lib/python3.7/dist-packages (1.0.0)\n",
      "Requirement already satisfied: numpy>=1.15 in /usr/local/lib/python3.7/dist-packages (from numpy-financial) (1.21.6)\n"
     ]
    }
   ],
   "source": [
    "!pip install numpy-financial"
   ]
  },
  {
   "cell_type": "code",
   "execution_count": null,
   "metadata": {
    "colab": {
     "base_uri": "https://localhost:8080/"
    },
    "id": "PpJ7xHdTXCQM",
    "outputId": "7ece5e59-04ad-4b78-d56c-db50f8288f4a",
    "pycharm": {
     "name": "#%%\n"
    }
   },
   "outputs": [
    {
     "name": "stdout",
     "output_type": "stream",
     "text": [
      "NPV by method 1 is 14.070698101843496\n",
      "NPV by method 2 is 14.070698101843496\n"
     ]
    }
   ],
   "source": [
    "import numpy as np\n",
    "import numpy_financial as npf\n",
    "\n",
    "'''\n",
    "Remark: most of the numpy-financial functions have the same\n",
    "behavior as their counterparts in Microsoft Excel.  However,\n",
    "for some perverse reason, the Excel NPV function assumes the\n",
    "first cash flow is one period away.  See help(npf.npv) for \n",
    "one way to get the Excel behavior (if you should want it)\n",
    "from npf.npv.\n",
    "'''\n",
    "\n",
    "# Example\n",
    "rate = 0.1\n",
    "cashFlows = [-100,20,30,50,40,10]\n",
    "\n",
    "# Method 1\n",
    "npv1 = npf.npv(rate,cashFlows)\n",
    "\n",
    "# Method 2\n",
    "pvFactors = 1 / (1+rate)**np.arange(len(cashFlows))\n",
    "pvs = pvFactors * cashFlows\n",
    "npv2 = np.sum(pvs)\n",
    "\n",
    "print('NPV by method 1 is', npv1)\n",
    "print('NPV by method 2 is', npv2)"
   ]
  },
  {
   "cell_type": "code",
   "execution_count": null,
   "metadata": {
    "id": "jPJuEtSPXwvb",
    "pycharm": {
     "name": "#%%\n"
    }
   },
   "outputs": [],
   "source": []
  }
 ],
 "metadata": {
  "colab": {
   "authorship_tag": "ABX9TyNHUiLR6FsRAglzpxlKg4TP",
   "include_colab_link": true,
   "name": "net present value.ipynb",
   "provenance": []
  },
  "kernelspec": {
   "display_name": "Python 3",
   "name": "python3"
  },
  "language_info": {
   "name": "python"
  }
 },
 "nbformat": 4,
 "nbformat_minor": 0
}
