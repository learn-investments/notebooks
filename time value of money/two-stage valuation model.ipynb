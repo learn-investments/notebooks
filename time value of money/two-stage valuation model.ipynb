{
 "cells": [
  {
   "cell_type": "code",
   "execution_count": 9,
   "metadata": {},
   "outputs": [
    {
     "name": "stdout",
     "output_type": "stream",
     "text": [
      "Requirement already satisfied: numpy-financial in c:\\users\\kerry\\appdata\\local\\programs\\python\\python37\\lib\\site-packages (1.0.0)\n",
      "Requirement already satisfied: numpy>=1.15 in c:\\users\\kerry\\appdata\\local\\programs\\python\\python37\\lib\\site-packages (from numpy-financial) (1.21.6)\n"
     ]
    }
   ],
   "source": [
    "!pip install numpy-financial"
   ]
  },
  {
   "cell_type": "code",
   "execution_count": 10,
   "metadata": {},
   "outputs": [],
   "source": [
    "import numpy_financial as npf"
   ]
  },
  {
   "attachments": {},
   "cell_type": "markdown",
   "metadata": {},
   "source": [
    "# EXAMPLE INPUTS"
   ]
  },
  {
   "cell_type": "code",
   "execution_count": 12,
   "metadata": {},
   "outputs": [],
   "source": [
    "cashFlows = [100, 120, 130, 140]        # cash flows in stage 1 (assume 1st cash flow occurs at year 1)\n",
    "g = 0.04                                # second-stage growth rate\n",
    "r = 0.1                                 # discount rate"
   ]
  },
  {
   "attachments": {},
   "cell_type": "markdown",
   "metadata": {},
   "source": [
    "# CALCULATIONS"
   ]
  },
  {
   "cell_type": "code",
   "execution_count": 13,
   "metadata": {
    "colab": {
     "base_uri": "https://localhost:8080/"
    },
    "id": "PmxAYm9LYv2G",
    "outputId": "5541ffc0-a27c-4255-b1a0-caa373872046",
    "pycharm": {
     "name": "#%%\n"
    }
   },
   "outputs": [
    {
     "name": "stdout",
     "output_type": "stream",
     "text": [
      "The terminal value is $2,427\n"
     ]
    }
   ],
   "source": [
    "tv = (1+g) * cashFlows[-1] / (r-g)      # terminal value of 2nd stage cash flows as of end of 1st stage\n",
    "print(f\"The terminal value is ${tv:,.0f}\")"
   ]
  },
  {
   "cell_type": "code",
   "execution_count": 17,
   "metadata": {
    "colab": {
     "base_uri": "https://localhost:8080/"
    },
    "id": "B3amUdWZY0QT",
    "outputId": "0035ecd2-e652-4211-e372-7ec545d8983b",
    "pycharm": {
     "name": "#%%\n"
    }
   },
   "outputs": [
    {
     "name": "stdout",
     "output_type": "stream",
     "text": [
      "PV at date 0 of the terminal value is $1,657\n"
     ]
    }
   ],
   "source": [
    "# PV of terminal value\n",
    "pv2 = tv / (1+r)**len(cashFlows)\n",
    "print(f\"PV at date 0 of the terminal value is ${pv2:,.0f}\")"
   ]
  },
  {
   "cell_type": "code",
   "execution_count": 18,
   "metadata": {},
   "outputs": [
    {
     "name": "stdout",
     "output_type": "stream",
     "text": [
      "PV of first-stage cash flows is $383\n"
     ]
    }
   ],
   "source": [
    "pv1 = npf.npv(r, [0]+cashFlows)         # add 0 cash flow at year 0     \n",
    "print(f\"PV of first-stage cash flows is ${pv1:,.0f}\")"
   ]
  },
  {
   "cell_type": "code",
   "execution_count": 19,
   "metadata": {
    "colab": {
     "base_uri": "https://localhost:8080/"
    },
    "id": "FNszv8yKY1gY",
    "outputId": "1d57901b-e215-49c2-e62b-fdc095d75624",
    "pycharm": {
     "name": "#%%\n"
    }
   },
   "outputs": [
    {
     "name": "stdout",
     "output_type": "stream",
     "text": [
      "Total present value is $2,041\n"
     ]
    }
   ],
   "source": [
    "npv = pv1 + pv2\n",
    "print(f\"Total present value is ${npv:,.0f}\")"
   ]
  }
 ],
 "metadata": {
  "kernelspec": {
   "display_name": "Python 3",
   "language": "python",
   "name": "python3"
  },
  "language_info": {
   "codemirror_mode": {
    "name": "ipython",
    "version": 3
   },
   "file_extension": ".py",
   "mimetype": "text/x-python",
   "name": "python",
   "nbconvert_exporter": "python",
   "pygments_lexer": "ipython3",
   "version": "3.10.3"
  },
  "orig_nbformat": 4
 },
 "nbformat": 4,
 "nbformat_minor": 2
}
