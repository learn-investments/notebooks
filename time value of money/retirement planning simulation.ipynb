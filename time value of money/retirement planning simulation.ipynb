{
 "cells": [
  {
   "cell_type": "code",
   "execution_count": null,
   "metadata": {},
   "outputs": [],
   "source": [
    "import numpy as np\n",
    "import pandas as pd\n",
    "import plotly.graph_objects as go"
   ]
  },
  {
   "attachments": {},
   "cell_type": "markdown",
   "metadata": {},
   "source": [
    "# EXAMPLE INPUTS"
   ]
  },
  {
   "cell_type": "code",
   "execution_count": null,
   "metadata": {},
   "outputs": [],
   "source": [
    "R = 30*12                      # 30 years until retirement\n",
    "T = 60*12                      # 60 total years\n",
    "B0 = 100000                    # initial balance is $100,000\n",
    "D1 = 1000                      # initial savings is $1,000 (per month)\n",
    "W1 = 10000                     # withdraw $10,000 first month in retirement\n",
    "g = 0.002                      # deposit is 0.2% larger each month\n",
    "h = 0                          # withdrawals are constant\n",
    "mn = 0.06 / 12                 # earn 1/2% per month on average\n",
    "sd = 0.30 / np.sqrt(12)        # risk annualizes to 30%\n",
    "numsims = 5000                 # 5,000 simulations"
   ]
  },
  {
   "attachments": {},
   "cell_type": "markdown",
   "metadata": {},
   "source": [
    "# CASH FLOWS"
   ]
  },
  {
   "cell_type": "code",
   "execution_count": null,
   "metadata": {},
   "outputs": [],
   "source": [
    "D = D1 * (1+g)**np.arange(R)\n",
    "W = W1 * (1+h)**np.arange(T-R)\n",
    "B0 = np.concatenate(([B0], np.zeros(T)))\n",
    "D = np.concatenate(([0], D, np.zeros(T-R)))\n",
    "W = np.concatenate((np.zeros(R), W, [0]))\n",
    "CF = B0 + D - W"
   ]
  },
  {
   "attachments": {},
   "cell_type": "markdown",
   "metadata": {},
   "source": [
    "# SIMULATED FUTURE VALUE FACTORS\n",
    "\n",
    "Future value of a cash flow $x$ at date $t$ is $$x(1+r_{t+1})(1+r_{t+2})\\cdots (1+r_T).$$ fvFactors contains the products of the (1+r) factors for each date $t=0, \\ldots, T-1$ and each simulation."
   ]
  },
  {
   "cell_type": "code",
   "execution_count": null,
   "metadata": {},
   "outputs": [],
   "source": [
    "rets = np.random.normal(loc=mn, scale=sd, size=(T, numsims))\n",
    "rets = pd.DataFrame(rets)\n",
    "\n",
    "def fvs(rets):\n",
    "    x = np.flip(np.cumprod(1+rets))\n",
    "    return np.concatenate((x, [1]))\n",
    "\n",
    "fvFactors = rets.apply(fvs)"
   ]
  },
  {
   "attachments": {},
   "cell_type": "markdown",
   "metadata": {},
   "source": [
    "# ENDING BALANCES"
   ]
  },
  {
   "cell_type": "code",
   "execution_count": null,
   "metadata": {
    "id": "uwWoyf7fLQUf",
    "pycharm": {
     "name": "#%%\n"
    }
   },
   "outputs": [],
   "source": [
    "BT = fvFactors.multiply(CF, axis=0).sum()\n",
    "BT.describe(percentiles=(0.1, 0.25, 0.5, 0.75, 0.9))"
   ]
  },
  {
   "attachments": {},
   "cell_type": "markdown",
   "metadata": {},
   "source": [
    "# FIGURE 1"
   ]
  },
  {
   "cell_type": "code",
   "execution_count": null,
   "metadata": {
    "collapsed": false,
    "pycharm": {
     "name": "#%%\n"
    }
   },
   "outputs": [],
   "source": [
    "trace = go.Box(x=BT, hovertemplate=\"%{x}\", name=\"\")\n",
    "fig = go.Figure(trace)\n",
    "fig.update_layout(\n",
    "    yaxis_title=\"\",\n",
    "    xaxis_title=\"Ending Balance\",\n",
    "    template=\"plotly_white\",\n",
    ")\n",
    "fig.show()"
   ]
  },
  {
   "attachments": {},
   "cell_type": "markdown",
   "metadata": {},
   "source": [
    "# FIGURE 2"
   ]
  },
  {
   "cell_type": "code",
   "execution_count": null,
   "metadata": {},
   "outputs": [],
   "source": [
    "grid = [i / 100 for i in range(1, 100)]\n",
    "pcts = BT.quantile(grid).to_numpy()\n",
    "trace = go.Scatter(\n",
    "    x=grid,\n",
    "    y=pcts,\n",
    "    mode=\"lines\",\n",
    "    hovertemplate=\"%{x:.0%} percentile=%{y:,.1f}MM<extra></extra>\"\n",
    ")\n",
    "fig = go.Figure(trace)\n",
    "fig.update_layout(\n",
    "    xaxis_title=\"Percentile\",\n",
    "    yaxis_title=\"Ending Balance\",\n",
    "    xaxis_tickformat=\".0%\",\n",
    "    template=\"plotly_white\",\n",
    ")\n",
    "fig.show()"
   ]
  }
 ],
 "metadata": {
  "kernelspec": {
   "display_name": "Python 3",
   "language": "python",
   "name": "python3"
  },
  "language_info": {
   "codemirror_mode": {
    "name": "ipython",
    "version": 3
   },
   "file_extension": ".py",
   "mimetype": "text/x-python",
   "name": "python",
   "nbconvert_exporter": "python",
   "pygments_lexer": "ipython3",
   "version": "3.10.3"
  },
  "orig_nbformat": 4
 },
 "nbformat": 4,
 "nbformat_minor": 2
}
