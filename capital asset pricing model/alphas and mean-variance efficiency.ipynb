{
  "cells": [
    {
      "cell_type": "markdown",
      "metadata": {},
      "source": [
        "# EXAMPLE DATA"
      ]
    },
    {
      "cell_type": "code",
      "execution_count": 1,
      "metadata": {},
      "outputs": [],
      "source": [
        "# market mean and std dev\n",
        "mmn = 0.12\n",
        "msd = 0.20\n",
        "\n",
        "# stock std dev and alpha and correlation between stock and market\n",
        "ssd = 0.30\n",
        "alpha = 0.05\n",
        "corr = 0.3\n",
        "\n",
        "# risk-free rate\n",
        "rf = 0.02"
      ]
    },
    {
      "cell_type": "markdown",
      "metadata": {},
      "source": [
        "# CALCULATIONS"
      ]
    },
    {
      "cell_type": "code",
      "execution_count": 2,
      "metadata": {
        "colab": {
          "base_uri": "https://localhost:8080/"
        },
        "id": "t6_97sggLNN9",
        "outputId": "4d566b42-fd2f-4818-bb27-4cf8da7dc82f"
      },
      "outputs": [
        {
          "data": {
            "text/plain": [
              "market    0.784715\n",
              "stock     0.215285\n",
              "dtype: float64"
            ]
          },
          "execution_count": 2,
          "metadata": {},
          "output_type": "execute_result"
        }
      ],
      "source": [
        "import numpy as np\n",
        "import pandas as pd\n",
        "\n",
        "# stock beta\n",
        "beta = corr * ssd / msd\n",
        "\n",
        "# market and stock risk premia\n",
        "mprem = mmn - rf\n",
        "sprem = alpha+beta*mprem\n",
        "rprem = np.array([mprem,sprem])\n",
        "\n",
        "# covariance matrix\n",
        "mvar = msd**2\n",
        "svar = ssd**2\n",
        "cov = corr*msd*ssd\n",
        "cov = np.array([[mvar,cov],[cov,svar]])\n",
        "\n",
        "#tangency portfolio\n",
        "tang = np.linalg.solve(cov,rprem)\n",
        "tang = tang / np.sum(tang)\n",
        "pd.Series(tang,index=['market','stock'])"
      ]
    },
    {
      "cell_type": "code",
      "execution_count": null,
      "metadata": {},
      "outputs": [],
      "source": [
        "sharpe = (tang_mn - rf) / tang_sd\n",
        "    if (tang > 0).sum() == 2:\n",
        "        wts = np.linspace(0, 1, 201)\n",
        "    elif tang[\"market\"] < 0:\n",
        "        wts = np.array(\n",
        "            list(np.linspace(0, 1, 101))\n",
        "            + list(np.linspace(1.01, max(2, 1 - 2 * tang[\"market\"]), 100))\n",
        "        )\n",
        "    else:\n",
        "        wts = np.array(\n",
        "            list(np.linspace(min(-1, 2 * tang[\"stock\"]), 0, 101))\n",
        "            + list(np.linspace(0.01, 1, 100))\n",
        "        )\n",
        "    df = pd.DataFrame(\n",
        "        dtype=float,\n",
        "        index=range(201),\n",
        "        columns=[\"stock\", \"market\", \"mean\", \"std\", \"msize\"],\n",
        "    )\n",
        "    df[\"stock\"] = 100 * wts\n",
        "    df[\"market\"] = 100 * (1 - wts)\n",
        "    df[\"mean\"] = [rf + w * sprem + (1 - w) * mprem for w in wts]\n",
        "    df[\"std\"] = np.sqrt(\n",
        "        [w ** 2 * svar + (1 - w) ** 2 * mvar + 2 * w * (1 - w) * c for w in wts]\n",
        "    )\n",
        "    df.loc[200] = [stock, 1 - stock, tang_mn, tang_sd, 15]\n",
        "    df = df.sort_values(by=\"mean\")\n",
        "\n",
        "    df2 = pd.DataFrame(dtype=float, index=range(101), columns=[\"mean\", \"std\"])\n",
        "    grid = np.linspace(0, 1.1 * df[\"std\"].max(), 101)\n",
        "    df2[\"std\"] = grid\n",
        "    df2[\"mean\"] = rf + sharpe * grid\n",
        "    df2[\"market\"] = 100 * (df2[\"std\"] / tang_sd) * tang[\"market\"]\n",
        "    df2[\"stock\"] = 100 * (df2[\"std\"] / tang_sd) * stock\n",
        "\n",
        "    df3 = pd.DataFrame(\n",
        "        dtype=float,\n",
        "        index=[\"stock\", \"tangency\", \"market\"],\n",
        "        columns=[\"mean\", \"std\", \"stock\", \"market\"],\n",
        "    )\n",
        "    df3.loc[\"stock\"] = [rf + alpha + beta * mprem, ssd, 100, 0]\n",
        "    df3.loc[\"market\"] = [rf + mprem, msd, 0, 100]\n",
        "    df3.loc[\"tangency\"] = [tang_mn, tang_sd, tang[\"stock\"], tang[\"market\"]]\n",
        "\n",
        "    return df, df2, df3\n",
        "\n",
        "\n",
        "def figtbl(rf, mmn, msd, beta, rsd, alpha):\n",
        "    df, df2, df3 = data(rf, mmn, msd, beta, rsd, alpha)\n",
        "    trace1 = go.Scatter(\n",
        "        x=df[\"std\"],\n",
        "        y=df[\"mean\"],\n",
        "        mode=\"lines\",\n",
        "        line=dict(color=green),\n",
        "        text=df[\"market\"],\n",
        "        customdata=df[\"stock\"],\n",
        "        hovertemplate=\"benchmark: %{text:.1f}%<br>asset: %{customdata:.1f}%<extra></extra>\",\n",
        "        showlegend=False\n",
        "    )\n",
        "    trace2 = go.Scatter(\n",
        "        x=df2[\"std\"],\n",
        "        y=df2[\"mean\"],\n",
        "        mode=\"lines\",\n",
        "        line=dict(color=blue),\n",
        "        text=df2[\"market\"],\n",
        "        customdata=df2[\"stock\"],\n",
        "        hovertemplate=\"benchmark: %{text:.1f}%<br>asset: %{customdata:.1f}%<extra></extra>\",\n",
        "        showlegend=False,\n",
        "    )\n",
        "    trace3a = go.Scatter(\n",
        "        x=[df3[\"std\"].loc[\"stock\"]],\n",
        "        y=[df3[\"mean\"].loc[\"stock\"]],\n",
        "        mode=\"markers\",\n",
        "        hovertemplate=\"asset<extra></extra>\",\n",
        "        marker=dict(size=15, color=red),\n",
        "        name=\"Asset\",\n",
        "    )\n",
        "    trace3b = go.Scatter(\n",
        "        x=[df3[\"std\"].loc[\"market\"]],\n",
        "        y=[df3[\"mean\"].loc[\"market\"]],\n",
        "        mode=\"markers\",\n",
        "        hovertemplate=\"benchmark<extra></extra>\",\n",
        "        marker=dict(size=15, color=yellow),\n",
        "        name=\"Benchmark\"\n",
        "    )\n",
        "    trace3c = go.Scatter(\n",
        "        x=[df3[\"std\"].loc[\"tangency\"]],\n",
        "        y=[df3[\"mean\"].loc[\"tangency\"]],\n",
        "        mode=\"markers\",\n",
        "        text=[df3[\"stock\"].loc[\"tangency\"]],\n",
        "        customdata=[df3[\"market\"].loc[\"tangency\"]],\n",
        "        hovertemplate=\"Tangency<br>benchmark=%{customdata:.1%}<br>asset=%{text:.1%}<extra></extra>\",\n",
        "        marker=dict(size=15, color=green),\n",
        "        name=\"Tangency\",\n",
        "    )\n",
        "    fig = go.Figure()\n",
        "    for trace in [trace1, trace2, trace3a, trace3b, trace3c]:\n",
        "        fig.add_trace(trace)\n",
        "    fig.layout.xaxis[\"title\"] = \"Standard Deviation\"\n",
        "    fig.layout.yaxis[\"title\"] = \"Expected Return\"\n",
        "    xmax = 1.25 * np.max([df[\"std\"].max(), df2[\"std\"].max()])\n",
        "    ymax = 1.25 * np.max([df[\"mean\"].max(), df2[\"mean\"].max()])\n",
        "    ymin = np.min([0, 1.25 * df[\"mean\"].min()])\n",
        "    fig.update_xaxes(range=[0, xmax])\n",
        "    fig.update_yaxes(range=[ymin, ymax])\n",
        "    fig.update_yaxes(tickformat=\".0%\")\n",
        "    fig.update_xaxes(tickformat=\".0%\")\n",
        "    fig.update_layout(legend=dict(yanchor=\"top\", y=0.99, xanchor=\"left\", x=0.01))\n",
        "    return largefig(fig, showlegend=True)\n"
      ]
    }
  ],
  "metadata": {
    "colab": {
      "include_colab_link": true,
      "name": "alphas_mve.ipynb",
      "provenance": []
    },
    "kernelspec": {
      "display_name": "Python 3",
      "name": "python3"
    },
    "language_info": {
      "codemirror_mode": {
        "name": "ipython",
        "version": 3
      },
      "file_extension": ".py",
      "mimetype": "text/x-python",
      "name": "python",
      "nbconvert_exporter": "python",
      "pygments_lexer": "ipython3",
      "version": "3.10.7"
    }
  },
  "nbformat": 4,
  "nbformat_minor": 0
}
