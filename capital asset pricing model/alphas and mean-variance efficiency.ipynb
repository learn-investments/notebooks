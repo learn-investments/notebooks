{
  "cells": [
    {
      "cell_type": "markdown",
      "metadata": {},
      "source": [
        "# EXAMPLE DATA"
      ]
    },
    {
      "cell_type": "code",
      "execution_count": 1,
      "metadata": {},
      "outputs": [],
      "source": [
        "# market mean and std dev\n",
        "mmn = 0.12\n",
        "msd = 0.20\n",
        "\n",
        "# stock std dev and alpha and correlation between stock and market\n",
        "ssd = 0.30\n",
        "alpha = 0.05\n",
        "corr = 0.3\n",
        "\n",
        "# risk-free rate\n",
        "rf = 0.02"
      ]
    },
    {
      "cell_type": "markdown",
      "metadata": {},
      "source": [
        "# CALCULATIONS"
      ]
    },
    {
      "cell_type": "code",
      "execution_count": 2,
      "metadata": {
        "colab": {
          "base_uri": "https://localhost:8080/"
        },
        "id": "t6_97sggLNN9",
        "outputId": "4d566b42-fd2f-4818-bb27-4cf8da7dc82f"
      },
      "outputs": [
        {
          "data": {
            "text/plain": [
              "market    0.784715\n",
              "stock     0.215285\n",
              "dtype: float64"
            ]
          },
          "execution_count": 2,
          "metadata": {},
          "output_type": "execute_result"
        }
      ],
      "source": [
        "import numpy as np\n",
        "import pandas as pd\n",
        "\n",
        "# stock beta\n",
        "beta = corr * ssd / msd\n",
        "\n",
        "# market and stock risk premia\n",
        "mprem = mmn - rf\n",
        "sprem = alpha+beta*mprem\n",
        "rprem = np.array([mprem,sprem])\n",
        "\n",
        "# covariance matrix\n",
        "mvar = msd**2\n",
        "svar = ssd**2\n",
        "cov = corr*msd*ssd\n",
        "cov = np.array([[mvar,cov],[cov,svar]])\n",
        "\n",
        "#tangency portfolio\n",
        "tang = np.linalg.solve(cov,rprem)\n",
        "tang = tang / np.sum(tang)\n",
        "pd.Series(tang,index=['market','stock'])\n",
        "\n",
        "\n"
      ]
    }
  ],
  "metadata": {
    "colab": {
      "include_colab_link": true,
      "name": "alphas_mve.ipynb",
      "provenance": []
    },
    "kernelspec": {
      "display_name": "Python 3",
      "name": "python3"
    },
    "language_info": {
      "codemirror_mode": {
        "name": "ipython",
        "version": 3
      },
      "file_extension": ".py",
      "mimetype": "text/x-python",
      "name": "python",
      "nbconvert_exporter": "python",
      "pygments_lexer": "ipython3",
      "version": "3.10.7"
    }
  },
  "nbformat": 4,
  "nbformat_minor": 0
}
