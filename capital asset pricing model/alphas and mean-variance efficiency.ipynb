{
  "nbformat": 4,
  "nbformat_minor": 0,
  "metadata": {
    "colab": {
      "name": "alphas_mve.ipynb",
      "provenance": [],
      "include_colab_link": true
    },
    "kernelspec": {
      "name": "python3",
      "display_name": "Python 3"
    },
    "language_info": {
      "name": "python"
    }
  },
  "cells": [
    {
      "cell_type": "markdown",
      "metadata": {
        "id": "view-in-github",
        "colab_type": "text"
      },
      "source": [
        "<a href=\"https://colab.research.google.com/github/bbcx-investments/notebooks/blob/main/capm/alphas_mve.ipynb\" target=\"_parent\"><img src=\"https://colab.research.google.com/assets/colab-badge.svg\" alt=\"Open In Colab\"/></a>"
      ]
    },
    {
      "cell_type": "code",
      "execution_count": null,
      "metadata": {
        "colab": {
          "base_uri": "https://localhost:8080/"
        },
        "id": "t6_97sggLNN9",
        "outputId": "4d566b42-fd2f-4818-bb27-4cf8da7dc82f"
      },
      "outputs": [
        {
          "output_type": "execute_result",
          "data": {
            "text/plain": [
              "market    0.784715\n",
              "stock     0.215285\n",
              "dtype: float64"
            ]
          },
          "metadata": {},
          "execution_count": 3
        }
      ],
      "source": [
        "import pandas as pd\n",
        "import numpy as np\n",
        "\n",
        "# example market mean and std dev\n",
        "mmn = 0.12\n",
        "msd = 0.20\n",
        "\n",
        "# example stock std dev and alpha and correlation between stock and market\n",
        "ssd = 0.30\n",
        "alpha = 0.05\n",
        "corr = 0.3\n",
        "\n",
        "# example risk-free rate\n",
        "rf = 0.02\n",
        "\n",
        "# calculate stock beta\n",
        "beta = corr * ssd / msd\n",
        "\n",
        "# calculate market and stock risk premia\n",
        "mprem = mmn - rf\n",
        "sprem = alpha+beta*mprem\n",
        "rprem = np.array([mprem,sprem])\n",
        "\n",
        "# calculate covariance matrix\n",
        "mvar = msd**2\n",
        "svar = ssd**2\n",
        "cov = corr*msd*ssd\n",
        "cov = np.array([[mvar,cov],[cov,svar]])\n",
        "\n",
        "# calculate tangency portfolio\n",
        "tang = np.linalg.solve(cov,rprem)\n",
        "tang = tang / np.sum(tang)\n",
        "tang = pd.Series(tang,index=['market','stock'])\n",
        "tang\n",
        "\n"
      ]
    },
    {
      "cell_type": "code",
      "source": [
        ""
      ],
      "metadata": {
        "id": "yC3hX-wpOD5w"
      },
      "execution_count": null,
      "outputs": []
    }
  ]
}