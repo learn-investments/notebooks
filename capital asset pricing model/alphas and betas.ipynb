{
 "cells": [
  {
   "cell_type": "markdown",
   "metadata": {},
   "source": [
    "Parameters"
   ]
  },
  {
   "cell_type": "code",
   "execution_count": 1,
   "metadata": {},
   "outputs": [],
   "source": [
    "# Choose ticker to pull \n",
    "ticker = \"IBM\""
   ]
  },
  {
   "cell_type": "code",
   "execution_count": 2,
   "metadata": {},
   "outputs": [],
   "source": [
    "import pandas as pd\n",
    "import plotly.express as px\n",
    "import statsmodels.api as sm\n",
    "from pandas_datareader import DataReader as pdr\n",
    "import yfinance as yf\n",
    "yf.pdr_override()"
   ]
  },
  {
   "cell_type": "code",
   "execution_count": 3,
   "metadata": {},
   "outputs": [
    {
     "name": "stderr",
     "output_type": "stream",
     "text": [
      "C:\\Users\\kpc2\\AppData\\Local\\Temp\\ipykernel_26808\\4212460753.py:2: FutureWarning: The argument 'date_parser' is deprecated and will be removed in a future version. Please use 'date_format' instead, or read your data in as 'object' dtype and then call 'to_datetime'.\n",
      "  ff = pdr('F-F_Research_Data_Factors','famafrench',start=1970)[0] / 100\n",
      "C:\\Users\\kpc2\\AppData\\Local\\Temp\\ipykernel_26808\\4212460753.py:2: FutureWarning: The argument 'date_parser' is deprecated and will be removed in a future version. Please use 'date_format' instead, or read your data in as 'object' dtype and then call 'to_datetime'.\n",
      "  ff = pdr('F-F_Research_Data_Factors','famafrench',start=1970)[0] / 100\n"
     ]
    }
   ],
   "source": [
    "# get monthly market excess return and risk-free rate for past 60 months from French's data library\n",
    "ff = pdr('F-F_Research_Data_Factors','famafrench',start=1970)[0] / 100\n",
    "ff = ff.iloc[-60:]\n",
    "\n",
    "# pull data from yahoo for ticker\n",
    "ticker = ticker.upper()\n",
    "ret = yf.download(ticker, start='2017-01-01', progress=False)['Adj Close']\n",
    "ret = ret.resample('M').last().pct_change()\n",
    "ret.index = ret.index.to_period('M')\n",
    "ret.name = \"ret\"\n",
    "\n",
    "# Combine with market data\n",
    "df = ff.join(ret, how=\"left\")\n",
    "df[\"ret\"] -= df.RF\n",
    "df = df[[\"Mkt-RF\", \"ret\"]].reset_index()\n",
    "df.columns = [\"date\", \"mkt\", \"ret\"]\n",
    "df[\"date\"] = df.date.astype(str)"
   ]
  },
  {
   "cell_type": "code",
   "execution_count": 4,
   "metadata": {},
   "outputs": [
    {
     "name": "stdout",
     "output_type": "stream",
     "text": [
      "IBM Alpha (bps/month):\t-1.44\n",
      "IBM Beta:\t\t0.80\n"
     ]
    }
   ],
   "source": [
    "# Run market model regression to get alpha and beta\n",
    "result = sm.OLS(df.ret, sm.add_constant(df.mkt)).fit()\n",
    "alpha = result.params[\"const\"]*100*100\n",
    "beta  = result.params[\"mkt\"]\n",
    "print(f'{ticker} Alpha (bps/month):\\t{alpha:.2f}')\n",
    "print(f'{ticker} Beta:\\t\\t{beta:.2f}')"
   ]
  },
  {
   "cell_type": "code",
   "execution_count": 5,
   "metadata": {},
   "outputs": [
    {
     "data": {
      "application/vnd.plotly.v1+json": {
       "config": {
        "plotlyServerURL": "https://plot.ly"
       },
       "data": [
        {
         "customdata": [
          [
           "2018-09"
          ],
          [
           "2018-10"
          ],
          [
           "2018-11"
          ],
          [
           "2018-12"
          ],
          [
           "2019-01"
          ],
          [
           "2019-02"
          ],
          [
           "2019-03"
          ],
          [
           "2019-04"
          ],
          [
           "2019-05"
          ],
          [
           "2019-06"
          ],
          [
           "2019-07"
          ],
          [
           "2019-08"
          ],
          [
           "2019-09"
          ],
          [
           "2019-10"
          ],
          [
           "2019-11"
          ],
          [
           "2019-12"
          ],
          [
           "2020-01"
          ],
          [
           "2020-02"
          ],
          [
           "2020-03"
          ],
          [
           "2020-04"
          ],
          [
           "2020-05"
          ],
          [
           "2020-06"
          ],
          [
           "2020-07"
          ],
          [
           "2020-08"
          ],
          [
           "2020-09"
          ],
          [
           "2020-10"
          ],
          [
           "2020-11"
          ],
          [
           "2020-12"
          ],
          [
           "2021-01"
          ],
          [
           "2021-02"
          ],
          [
           "2021-03"
          ],
          [
           "2021-04"
          ],
          [
           "2021-05"
          ],
          [
           "2021-06"
          ],
          [
           "2021-07"
          ],
          [
           "2021-08"
          ],
          [
           "2021-09"
          ],
          [
           "2021-10"
          ],
          [
           "2021-11"
          ],
          [
           "2021-12"
          ],
          [
           "2022-01"
          ],
          [
           "2022-02"
          ],
          [
           "2022-03"
          ],
          [
           "2022-04"
          ],
          [
           "2022-05"
          ],
          [
           "2022-06"
          ],
          [
           "2022-07"
          ],
          [
           "2022-08"
          ],
          [
           "2022-09"
          ],
          [
           "2022-10"
          ],
          [
           "2022-11"
          ],
          [
           "2022-12"
          ],
          [
           "2023-01"
          ],
          [
           "2023-02"
          ],
          [
           "2023-03"
          ],
          [
           "2023-04"
          ],
          [
           "2023-05"
          ],
          [
           "2023-06"
          ],
          [
           "2023-07"
          ],
          [
           "2023-08"
          ]
         ],
         "hovertemplate": "<b>%{hovertext}</b><br><br><extra></extra>",
         "hovertext": [
          "2018-09",
          "2018-10",
          "2018-11",
          "2018-12",
          "2019-01",
          "2019-02",
          "2019-03",
          "2019-04",
          "2019-05",
          "2019-06",
          "2019-07",
          "2019-08",
          "2019-09",
          "2019-10",
          "2019-11",
          "2019-12",
          "2020-01",
          "2020-02",
          "2020-03",
          "2020-04",
          "2020-05",
          "2020-06",
          "2020-07",
          "2020-08",
          "2020-09",
          "2020-10",
          "2020-11",
          "2020-12",
          "2021-01",
          "2021-02",
          "2021-03",
          "2021-04",
          "2021-05",
          "2021-06",
          "2021-07",
          "2021-08",
          "2021-09",
          "2021-10",
          "2021-11",
          "2021-12",
          "2022-01",
          "2022-02",
          "2022-03",
          "2022-04",
          "2022-05",
          "2022-06",
          "2022-07",
          "2022-08",
          "2022-09",
          "2022-10",
          "2022-11",
          "2022-12",
          "2023-01",
          "2023-02",
          "2023-03",
          "2023-04",
          "2023-05",
          "2023-06",
          "2023-07",
          "2023-08"
         ],
         "legendgroup": "",
         "marker": {
          "color": "#636efa",
          "line": {
           "color": "DarkSlateGrey",
           "width": 2
          },
          "size": 12,
          "symbol": "circle"
         },
         "mode": "markers",
         "name": "",
         "orientation": "v",
         "showlegend": false,
         "type": "scatter",
         "x": [
          0.0006,
          -0.0768,
          0.0169,
          -0.09570000000000001,
          0.084,
          0.034,
          0.011000000000000001,
          0.0397,
          -0.0694,
          0.0693,
          0.011899999999999999,
          -0.0258,
          0.0143,
          0.0206,
          0.0387,
          0.0277,
          -0.0011,
          -0.08130000000000001,
          -0.13390000000000002,
          0.1365,
          0.0558,
          0.0246,
          0.057699999999999994,
          0.07629999999999999,
          -0.0363,
          -0.021,
          0.1247,
          0.0463,
          -0.0003,
          0.0278,
          0.0308,
          0.0493,
          0.0029,
          0.0275,
          0.0127,
          0.0291,
          -0.0437,
          0.0665,
          -0.0155,
          0.031,
          -0.0625,
          -0.0229,
          0.0305,
          -0.0946,
          -0.0034000000000000002,
          -0.0843,
          0.09570000000000001,
          -0.0377,
          -0.0935,
          0.0783,
          0.046,
          -0.0641,
          0.0665,
          -0.0258,
          0.025099999999999997,
          0.0060999999999999995,
          0.0034999999999999996,
          0.0646,
          0.0321,
          -0.0239
         ],
         "xaxis": "x",
         "y": [
          0.030791090212465566,
          -0.23852457844327535,
          0.0884949900881831,
          -0.08729827804383317,
          0.18044594192033347,
          0.03777290949934422,
          0.019601287851817042,
          -0.007981967816382616,
          -0.08602080901604138,
          0.08411234234447099,
          0.07308174037647565,
          -0.07656669333412087,
          0.07117274262046538,
          -0.08198792636556136,
          0.01605858614060649,
          -0.0044494762784482045,
          0.07099187407004534,
          -0.08622716658750432,
          -0.14897572117861382,
          0.13188492351313852,
          0.007984294626717448,
          -0.033166431156790535,
          0.017867948346849783,
          0.01604257187879553,
          -0.013399815732323305,
          -0.08237181534897488,
          0.12215602760120613,
          0.019006294699236415,
          -0.05388134887904118,
          0.011831351117974398,
          0.1204910978104401,
          0.06468534612919741,
          0.024429543039360402,
          0.019827490277071202,
          -0.03840651563756414,
          0.007063914002084504,
          -0.010047235950821465,
          -0.09954640321605157,
          -0.00782514259349032,
          0.1413175790614596,
          -0.0006732424343083299,
          -0.07175493917726705,
          0.061201043647652206,
          0.016743739757917087,
          0.06258622287545698,
          0.016325992292639025,
          -0.07445969962063234,
          -0.00741729742690521,
          -0.07694873561870373,
          0.16165926409043416,
          0.08666051857919967,
          -0.057094564321654856,
          -0.04722213011100179,
          -0.03191455464003971,
          0.010243747971418853,
          -0.039200646368592384,
          0.027516166129124157,
          0.036594147584835035,
          0.07299788802348978,
          0.02559919199099076
         ],
         "yaxis": "y"
        },
        {
         "hovertemplate": "<b>OLS trendline</b><br>ret = 0.796118 * mkt + -0.000144175<br>R<sup>2</sup>=0.342296<br><br><extra></extra>",
         "legendgroup": "",
         "marker": {
          "color": "#636efa",
          "symbol": "circle"
         },
         "mode": "lines",
         "name": "",
         "showlegend": false,
         "type": "scatter",
         "x": [
          -0.13390000000000002,
          -0.09570000000000001,
          -0.0946,
          -0.0935,
          -0.0843,
          -0.08130000000000001,
          -0.0768,
          -0.0694,
          -0.0641,
          -0.0625,
          -0.0437,
          -0.0377,
          -0.0363,
          -0.0258,
          -0.0258,
          -0.0239,
          -0.0229,
          -0.021,
          -0.0155,
          -0.0034000000000000002,
          -0.0011,
          -0.0003,
          0.0006,
          0.0029,
          0.0034999999999999996,
          0.0060999999999999995,
          0.011000000000000001,
          0.011899999999999999,
          0.0127,
          0.0143,
          0.0169,
          0.0206,
          0.0246,
          0.025099999999999997,
          0.0275,
          0.0277,
          0.0278,
          0.0291,
          0.0305,
          0.0308,
          0.031,
          0.0321,
          0.034,
          0.0387,
          0.0397,
          0.046,
          0.0463,
          0.0493,
          0.0558,
          0.057699999999999994,
          0.0646,
          0.0665,
          0.0665,
          0.0693,
          0.07629999999999999,
          0.0783,
          0.084,
          0.09570000000000001,
          0.1247,
          0.1365
         ],
         "xaxis": "x",
         "y": [
          -0.1067444276354206,
          -0.07633270502229308,
          -0.0754569747899779,
          -0.0745812445576627,
          -0.06725695534193565,
          -0.06486860016289424,
          -0.061286067394332094,
          -0.05539479128602991,
          -0.051175363803056734,
          -0.049901574374234633,
          -0.03493454858557503,
          -0.03015783822749217,
          -0.029043272477272838,
          -0.020684029350627846,
          -0.020684029350627846,
          -0.01917140440390161,
          -0.018375286010887802,
          -0.016862661064161566,
          -0.012484009902585615,
          -0.002850977347118529,
          -0.0010199050431867684,
          -0.0003830103287757212,
          0.00033349622493670665,
          0.0021645685288684668,
          0.002642239564676752,
          0.004712147386512655,
          0.008613127512280319,
          0.009329634065992746,
          0.009966528780403792,
          0.011240318209225887,
          0.01331022603106179,
          0.016255864085212884,
          0.01944033765726812,
          0.01983839685377502,
          0.021749080997008164,
          0.021908304675610925,
          0.021987916514912307,
          0.023022870425830257,
          0.02413743617604959,
          0.024376271693953733,
          0.024535495372556494,
          0.025411225604871683,
          0.026923850551597923,
          0.03066560699876282,
          0.031461725391776635,
          0.03647727126776362,
          0.036716106785667765,
          0.039104461964709195,
          0.04427923151929895,
          0.04579185646602518,
          0.05128507337782047,
          0.05279769832454671,
          0.05279769832454671,
          0.05502682982498537,
          0.06059965857608203,
          0.062191895362109645,
          0.06672977020228837,
          0.07604435540054993,
          0.09913178879795038,
          0.10852598583551333
         ],
         "yaxis": "y"
        }
       ],
       "layout": {
        "legend": {
         "tracegroupgap": 0
        },
        "margin": {
         "t": 60
        },
        "template": {
         "data": {
          "bar": [
           {
            "error_x": {
             "color": "#2a3f5f"
            },
            "error_y": {
             "color": "#2a3f5f"
            },
            "marker": {
             "line": {
              "color": "#E5ECF6",
              "width": 0.5
             },
             "pattern": {
              "fillmode": "overlay",
              "size": 10,
              "solidity": 0.2
             }
            },
            "type": "bar"
           }
          ],
          "barpolar": [
           {
            "marker": {
             "line": {
              "color": "#E5ECF6",
              "width": 0.5
             },
             "pattern": {
              "fillmode": "overlay",
              "size": 10,
              "solidity": 0.2
             }
            },
            "type": "barpolar"
           }
          ],
          "carpet": [
           {
            "aaxis": {
             "endlinecolor": "#2a3f5f",
             "gridcolor": "white",
             "linecolor": "white",
             "minorgridcolor": "white",
             "startlinecolor": "#2a3f5f"
            },
            "baxis": {
             "endlinecolor": "#2a3f5f",
             "gridcolor": "white",
             "linecolor": "white",
             "minorgridcolor": "white",
             "startlinecolor": "#2a3f5f"
            },
            "type": "carpet"
           }
          ],
          "choropleth": [
           {
            "colorbar": {
             "outlinewidth": 0,
             "ticks": ""
            },
            "type": "choropleth"
           }
          ],
          "contour": [
           {
            "colorbar": {
             "outlinewidth": 0,
             "ticks": ""
            },
            "colorscale": [
             [
              0,
              "#0d0887"
             ],
             [
              0.1111111111111111,
              "#46039f"
             ],
             [
              0.2222222222222222,
              "#7201a8"
             ],
             [
              0.3333333333333333,
              "#9c179e"
             ],
             [
              0.4444444444444444,
              "#bd3786"
             ],
             [
              0.5555555555555556,
              "#d8576b"
             ],
             [
              0.6666666666666666,
              "#ed7953"
             ],
             [
              0.7777777777777778,
              "#fb9f3a"
             ],
             [
              0.8888888888888888,
              "#fdca26"
             ],
             [
              1,
              "#f0f921"
             ]
            ],
            "type": "contour"
           }
          ],
          "contourcarpet": [
           {
            "colorbar": {
             "outlinewidth": 0,
             "ticks": ""
            },
            "type": "contourcarpet"
           }
          ],
          "heatmap": [
           {
            "colorbar": {
             "outlinewidth": 0,
             "ticks": ""
            },
            "colorscale": [
             [
              0,
              "#0d0887"
             ],
             [
              0.1111111111111111,
              "#46039f"
             ],
             [
              0.2222222222222222,
              "#7201a8"
             ],
             [
              0.3333333333333333,
              "#9c179e"
             ],
             [
              0.4444444444444444,
              "#bd3786"
             ],
             [
              0.5555555555555556,
              "#d8576b"
             ],
             [
              0.6666666666666666,
              "#ed7953"
             ],
             [
              0.7777777777777778,
              "#fb9f3a"
             ],
             [
              0.8888888888888888,
              "#fdca26"
             ],
             [
              1,
              "#f0f921"
             ]
            ],
            "type": "heatmap"
           }
          ],
          "heatmapgl": [
           {
            "colorbar": {
             "outlinewidth": 0,
             "ticks": ""
            },
            "colorscale": [
             [
              0,
              "#0d0887"
             ],
             [
              0.1111111111111111,
              "#46039f"
             ],
             [
              0.2222222222222222,
              "#7201a8"
             ],
             [
              0.3333333333333333,
              "#9c179e"
             ],
             [
              0.4444444444444444,
              "#bd3786"
             ],
             [
              0.5555555555555556,
              "#d8576b"
             ],
             [
              0.6666666666666666,
              "#ed7953"
             ],
             [
              0.7777777777777778,
              "#fb9f3a"
             ],
             [
              0.8888888888888888,
              "#fdca26"
             ],
             [
              1,
              "#f0f921"
             ]
            ],
            "type": "heatmapgl"
           }
          ],
          "histogram": [
           {
            "marker": {
             "pattern": {
              "fillmode": "overlay",
              "size": 10,
              "solidity": 0.2
             }
            },
            "type": "histogram"
           }
          ],
          "histogram2d": [
           {
            "colorbar": {
             "outlinewidth": 0,
             "ticks": ""
            },
            "colorscale": [
             [
              0,
              "#0d0887"
             ],
             [
              0.1111111111111111,
              "#46039f"
             ],
             [
              0.2222222222222222,
              "#7201a8"
             ],
             [
              0.3333333333333333,
              "#9c179e"
             ],
             [
              0.4444444444444444,
              "#bd3786"
             ],
             [
              0.5555555555555556,
              "#d8576b"
             ],
             [
              0.6666666666666666,
              "#ed7953"
             ],
             [
              0.7777777777777778,
              "#fb9f3a"
             ],
             [
              0.8888888888888888,
              "#fdca26"
             ],
             [
              1,
              "#f0f921"
             ]
            ],
            "type": "histogram2d"
           }
          ],
          "histogram2dcontour": [
           {
            "colorbar": {
             "outlinewidth": 0,
             "ticks": ""
            },
            "colorscale": [
             [
              0,
              "#0d0887"
             ],
             [
              0.1111111111111111,
              "#46039f"
             ],
             [
              0.2222222222222222,
              "#7201a8"
             ],
             [
              0.3333333333333333,
              "#9c179e"
             ],
             [
              0.4444444444444444,
              "#bd3786"
             ],
             [
              0.5555555555555556,
              "#d8576b"
             ],
             [
              0.6666666666666666,
              "#ed7953"
             ],
             [
              0.7777777777777778,
              "#fb9f3a"
             ],
             [
              0.8888888888888888,
              "#fdca26"
             ],
             [
              1,
              "#f0f921"
             ]
            ],
            "type": "histogram2dcontour"
           }
          ],
          "mesh3d": [
           {
            "colorbar": {
             "outlinewidth": 0,
             "ticks": ""
            },
            "type": "mesh3d"
           }
          ],
          "parcoords": [
           {
            "line": {
             "colorbar": {
              "outlinewidth": 0,
              "ticks": ""
             }
            },
            "type": "parcoords"
           }
          ],
          "pie": [
           {
            "automargin": true,
            "type": "pie"
           }
          ],
          "scatter": [
           {
            "fillpattern": {
             "fillmode": "overlay",
             "size": 10,
             "solidity": 0.2
            },
            "type": "scatter"
           }
          ],
          "scatter3d": [
           {
            "line": {
             "colorbar": {
              "outlinewidth": 0,
              "ticks": ""
             }
            },
            "marker": {
             "colorbar": {
              "outlinewidth": 0,
              "ticks": ""
             }
            },
            "type": "scatter3d"
           }
          ],
          "scattercarpet": [
           {
            "marker": {
             "colorbar": {
              "outlinewidth": 0,
              "ticks": ""
             }
            },
            "type": "scattercarpet"
           }
          ],
          "scattergeo": [
           {
            "marker": {
             "colorbar": {
              "outlinewidth": 0,
              "ticks": ""
             }
            },
            "type": "scattergeo"
           }
          ],
          "scattergl": [
           {
            "marker": {
             "colorbar": {
              "outlinewidth": 0,
              "ticks": ""
             }
            },
            "type": "scattergl"
           }
          ],
          "scattermapbox": [
           {
            "marker": {
             "colorbar": {
              "outlinewidth": 0,
              "ticks": ""
             }
            },
            "type": "scattermapbox"
           }
          ],
          "scatterpolar": [
           {
            "marker": {
             "colorbar": {
              "outlinewidth": 0,
              "ticks": ""
             }
            },
            "type": "scatterpolar"
           }
          ],
          "scatterpolargl": [
           {
            "marker": {
             "colorbar": {
              "outlinewidth": 0,
              "ticks": ""
             }
            },
            "type": "scatterpolargl"
           }
          ],
          "scatterternary": [
           {
            "marker": {
             "colorbar": {
              "outlinewidth": 0,
              "ticks": ""
             }
            },
            "type": "scatterternary"
           }
          ],
          "surface": [
           {
            "colorbar": {
             "outlinewidth": 0,
             "ticks": ""
            },
            "colorscale": [
             [
              0,
              "#0d0887"
             ],
             [
              0.1111111111111111,
              "#46039f"
             ],
             [
              0.2222222222222222,
              "#7201a8"
             ],
             [
              0.3333333333333333,
              "#9c179e"
             ],
             [
              0.4444444444444444,
              "#bd3786"
             ],
             [
              0.5555555555555556,
              "#d8576b"
             ],
             [
              0.6666666666666666,
              "#ed7953"
             ],
             [
              0.7777777777777778,
              "#fb9f3a"
             ],
             [
              0.8888888888888888,
              "#fdca26"
             ],
             [
              1,
              "#f0f921"
             ]
            ],
            "type": "surface"
           }
          ],
          "table": [
           {
            "cells": {
             "fill": {
              "color": "#EBF0F8"
             },
             "line": {
              "color": "white"
             }
            },
            "header": {
             "fill": {
              "color": "#C8D4E3"
             },
             "line": {
              "color": "white"
             }
            },
            "type": "table"
           }
          ]
         },
         "layout": {
          "annotationdefaults": {
           "arrowcolor": "#2a3f5f",
           "arrowhead": 0,
           "arrowwidth": 1
          },
          "autotypenumbers": "strict",
          "coloraxis": {
           "colorbar": {
            "outlinewidth": 0,
            "ticks": ""
           }
          },
          "colorscale": {
           "diverging": [
            [
             0,
             "#8e0152"
            ],
            [
             0.1,
             "#c51b7d"
            ],
            [
             0.2,
             "#de77ae"
            ],
            [
             0.3,
             "#f1b6da"
            ],
            [
             0.4,
             "#fde0ef"
            ],
            [
             0.5,
             "#f7f7f7"
            ],
            [
             0.6,
             "#e6f5d0"
            ],
            [
             0.7,
             "#b8e186"
            ],
            [
             0.8,
             "#7fbc41"
            ],
            [
             0.9,
             "#4d9221"
            ],
            [
             1,
             "#276419"
            ]
           ],
           "sequential": [
            [
             0,
             "#0d0887"
            ],
            [
             0.1111111111111111,
             "#46039f"
            ],
            [
             0.2222222222222222,
             "#7201a8"
            ],
            [
             0.3333333333333333,
             "#9c179e"
            ],
            [
             0.4444444444444444,
             "#bd3786"
            ],
            [
             0.5555555555555556,
             "#d8576b"
            ],
            [
             0.6666666666666666,
             "#ed7953"
            ],
            [
             0.7777777777777778,
             "#fb9f3a"
            ],
            [
             0.8888888888888888,
             "#fdca26"
            ],
            [
             1,
             "#f0f921"
            ]
           ],
           "sequentialminus": [
            [
             0,
             "#0d0887"
            ],
            [
             0.1111111111111111,
             "#46039f"
            ],
            [
             0.2222222222222222,
             "#7201a8"
            ],
            [
             0.3333333333333333,
             "#9c179e"
            ],
            [
             0.4444444444444444,
             "#bd3786"
            ],
            [
             0.5555555555555556,
             "#d8576b"
            ],
            [
             0.6666666666666666,
             "#ed7953"
            ],
            [
             0.7777777777777778,
             "#fb9f3a"
            ],
            [
             0.8888888888888888,
             "#fdca26"
            ],
            [
             1,
             "#f0f921"
            ]
           ]
          },
          "colorway": [
           "#636efa",
           "#EF553B",
           "#00cc96",
           "#ab63fa",
           "#FFA15A",
           "#19d3f3",
           "#FF6692",
           "#B6E880",
           "#FF97FF",
           "#FECB52"
          ],
          "font": {
           "color": "#2a3f5f"
          },
          "geo": {
           "bgcolor": "white",
           "lakecolor": "white",
           "landcolor": "#E5ECF6",
           "showlakes": true,
           "showland": true,
           "subunitcolor": "white"
          },
          "hoverlabel": {
           "align": "left"
          },
          "hovermode": "closest",
          "mapbox": {
           "style": "light"
          },
          "paper_bgcolor": "white",
          "plot_bgcolor": "#E5ECF6",
          "polar": {
           "angularaxis": {
            "gridcolor": "white",
            "linecolor": "white",
            "ticks": ""
           },
           "bgcolor": "#E5ECF6",
           "radialaxis": {
            "gridcolor": "white",
            "linecolor": "white",
            "ticks": ""
           }
          },
          "scene": {
           "xaxis": {
            "backgroundcolor": "#E5ECF6",
            "gridcolor": "white",
            "gridwidth": 2,
            "linecolor": "white",
            "showbackground": true,
            "ticks": "",
            "zerolinecolor": "white"
           },
           "yaxis": {
            "backgroundcolor": "#E5ECF6",
            "gridcolor": "white",
            "gridwidth": 2,
            "linecolor": "white",
            "showbackground": true,
            "ticks": "",
            "zerolinecolor": "white"
           },
           "zaxis": {
            "backgroundcolor": "#E5ECF6",
            "gridcolor": "white",
            "gridwidth": 2,
            "linecolor": "white",
            "showbackground": true,
            "ticks": "",
            "zerolinecolor": "white"
           }
          },
          "shapedefaults": {
           "line": {
            "color": "#2a3f5f"
           }
          },
          "ternary": {
           "aaxis": {
            "gridcolor": "white",
            "linecolor": "white",
            "ticks": ""
           },
           "baxis": {
            "gridcolor": "white",
            "linecolor": "white",
            "ticks": ""
           },
           "bgcolor": "#E5ECF6",
           "caxis": {
            "gridcolor": "white",
            "linecolor": "white",
            "ticks": ""
           }
          },
          "title": {
           "x": 0.05
          },
          "xaxis": {
           "automargin": true,
           "gridcolor": "white",
           "linecolor": "white",
           "ticks": "",
           "title": {
            "standoff": 15
           },
           "zerolinecolor": "white",
           "zerolinewidth": 2
          },
          "yaxis": {
           "automargin": true,
           "gridcolor": "white",
           "linecolor": "white",
           "ticks": "",
           "title": {
            "standoff": 15
           },
           "zerolinecolor": "white",
           "zerolinewidth": 2
          }
         }
        },
        "xaxis": {
         "anchor": "y",
         "domain": [
          0,
          1
         ],
         "tickformat": ".0%",
         "title": {
          "text": "Market Excess Return"
         }
        },
        "yaxis": {
         "anchor": "x",
         "domain": [
          0,
          1
         ],
         "tickformat": ".0%",
         "title": {
          "text": "IBM Excess Return"
         }
        }
       }
      }
     },
     "metadata": {},
     "output_type": "display_data"
    }
   ],
   "source": [
    "# Plot data\n",
    "fig = px.scatter(\n",
    "    df,\n",
    "    x=\"mkt\",\n",
    "    y=\"ret\",\n",
    "    trendline=\"ols\",\n",
    "    hover_data=dict(ret=False, mkt=False, date=False),\n",
    "    hover_name=\"date\",\n",
    ")\n",
    "fig.layout.xaxis[\"title\"] = \"Market Excess Return\"\n",
    "fig.layout.yaxis[\"title\"] = ticker.upper() + \" Excess Return\"\n",
    "fig.update_traces(\n",
    "    marker=dict(size=12, line=dict(width=2, color=\"DarkSlateGrey\")),\n",
    "    selector=dict(mode=\"markers\"),\n",
    ")\n",
    "fig.update_yaxes(tickformat=\".0%\")\n",
    "fig.update_xaxes(tickformat=\".0%\")\n",
    "fig.show()"
   ]
  },
  {
   "cell_type": "code",
   "execution_count": null,
   "metadata": {},
   "outputs": [],
   "source": []
  }
 ],
 "metadata": {
  "kernelspec": {
   "display_name": "Python 3",
   "language": "python",
   "name": "python3"
  },
  "language_info": {
   "codemirror_mode": {
    "name": "ipython",
    "version": 3
   },
   "file_extension": ".py",
   "mimetype": "text/x-python",
   "name": "python",
   "nbconvert_exporter": "python",
   "pygments_lexer": "ipython3",
   "version": "3.10.6"
  },
  "orig_nbformat": 4
 },
 "nbformat": 4,
 "nbformat_minor": 2
}
