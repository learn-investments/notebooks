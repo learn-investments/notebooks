{
 "cells": [
  {
   "cell_type": "markdown",
   "metadata": {},
   "source": [
    "---\n",
    "\n",
    "Created for [learn-investments.rice-business.org](https://learn-investments.rice-business.org)\n",
    "    \n",
    "By [Kerry Back](https://kerryback.com) and [Kevin Crotty](https://kevin-crotty.com)\n",
    "    \n",
    "Jones Graduate School of Business, Rice University\n",
    "\n",
    "---\n"
   ]
  },
  {
   "cell_type": "markdown",
   "metadata": {},
   "source": [
    "# EXAMPLE TICKER"
   ]
  },
  {
   "cell_type": "code",
   "execution_count": 1,
   "metadata": {},
   "outputs": [],
   "source": [
    "ticker = \"IBM\""
   ]
  },
  {
   "cell_type": "markdown",
   "metadata": {},
   "source": [
    "# GET DATA"
   ]
  },
  {
   "cell_type": "code",
   "execution_count": 2,
   "metadata": {},
   "outputs": [],
   "source": [
    "import yfinance as yf\n",
    "from pandas_datareader import DataReader as pdr\n",
    "\n",
    " # get monthly market excess return and risk-free rate for past 60 months from French's data library\n",
    "ff = pdr('F-F_Research_Data_Factors','famafrench',start=1970)[0] / 100\n",
    "ff = ff.iloc[-60:]\n",
    "\n",
    "# pull data from yahoo for ticker\n",
    "ticker = ticker.upper()\n",
    "ret = yf.download(ticker, start='2017-01-01', progress=False)['Adj Close']\n",
    "ret = ret.resample('M').last().pct_change()\n",
    "ret.index = ret.index.to_period('M')\n",
    "ret.name = \"ret\"\n",
    "\n",
    "# Combine with market data\n",
    "df = ff.join(ret, how=\"left\")\n",
    "df[\"ret\"] -= df.RF\n",
    "df = df[[\"Mkt-RF\", \"ret\"]].reset_index()\n",
    "df.columns = [\"date\", \"mkt\", \"ret\"]\n",
    "df[\"date\"] = df.date.astype(str)"
   ]
  },
  {
   "cell_type": "markdown",
   "metadata": {},
   "source": [
    "# RUN MARKET MODEL REGRESSION"
   ]
  },
  {
   "cell_type": "code",
   "execution_count": 6,
   "metadata": {},
   "outputs": [
    {
     "name": "stdout",
     "output_type": "stream",
     "text": [
      "IBM Alpha (bps/month):\t-10.76\n",
      "IBM Beta:\t\t0.80\n"
     ]
    }
   ],
   "source": [
    "import statsmodels.formula.api as smf\n",
    "\n",
    "result = smf.ols(\"ret ~ mkt\", data=df).fit()\n",
    "alpha = result.params[\"Intercept\"]*100*100\n",
    "beta  = result.params[\"mkt\"]\n",
    "print(f'{ticker} Alpha (bps/month):\\t{alpha:.2f}')\n",
    "print(f'{ticker} Beta:\\t\\t{beta:.2f}')"
   ]
  },
  {
   "cell_type": "markdown",
   "metadata": {},
   "source": [
    "# FIGURE"
   ]
  },
  {
   "cell_type": "code",
   "execution_count": 7,
   "metadata": {},
   "outputs": [
    {
     "data": {
      "application/vnd.plotly.v1+json": {
       "config": {
        "plotlyServerURL": "https://plot.ly"
       },
       "data": [
        {
         "customdata": [
          [
           "2018-08"
          ],
          [
           "2018-09"
          ],
          [
           "2018-10"
          ],
          [
           "2018-11"
          ],
          [
           "2018-12"
          ],
          [
           "2019-01"
          ],
          [
           "2019-02"
          ],
          [
           "2019-03"
          ],
          [
           "2019-04"
          ],
          [
           "2019-05"
          ],
          [
           "2019-06"
          ],
          [
           "2019-07"
          ],
          [
           "2019-08"
          ],
          [
           "2019-09"
          ],
          [
           "2019-10"
          ],
          [
           "2019-11"
          ],
          [
           "2019-12"
          ],
          [
           "2020-01"
          ],
          [
           "2020-02"
          ],
          [
           "2020-03"
          ],
          [
           "2020-04"
          ],
          [
           "2020-05"
          ],
          [
           "2020-06"
          ],
          [
           "2020-07"
          ],
          [
           "2020-08"
          ],
          [
           "2020-09"
          ],
          [
           "2020-10"
          ],
          [
           "2020-11"
          ],
          [
           "2020-12"
          ],
          [
           "2021-01"
          ],
          [
           "2021-02"
          ],
          [
           "2021-03"
          ],
          [
           "2021-04"
          ],
          [
           "2021-05"
          ],
          [
           "2021-06"
          ],
          [
           "2021-07"
          ],
          [
           "2021-08"
          ],
          [
           "2021-09"
          ],
          [
           "2021-10"
          ],
          [
           "2021-11"
          ],
          [
           "2021-12"
          ],
          [
           "2022-01"
          ],
          [
           "2022-02"
          ],
          [
           "2022-03"
          ],
          [
           "2022-04"
          ],
          [
           "2022-05"
          ],
          [
           "2022-06"
          ],
          [
           "2022-07"
          ],
          [
           "2022-08"
          ],
          [
           "2022-09"
          ],
          [
           "2022-10"
          ],
          [
           "2022-11"
          ],
          [
           "2022-12"
          ],
          [
           "2023-01"
          ],
          [
           "2023-02"
          ],
          [
           "2023-03"
          ],
          [
           "2023-04"
          ],
          [
           "2023-05"
          ],
          [
           "2023-06"
          ],
          [
           "2023-07"
          ]
         ],
         "hovertemplate": "<b>%{hovertext}</b><br><br><extra></extra>",
         "hovertext": [
          "2018-08",
          "2018-09",
          "2018-10",
          "2018-11",
          "2018-12",
          "2019-01",
          "2019-02",
          "2019-03",
          "2019-04",
          "2019-05",
          "2019-06",
          "2019-07",
          "2019-08",
          "2019-09",
          "2019-10",
          "2019-11",
          "2019-12",
          "2020-01",
          "2020-02",
          "2020-03",
          "2020-04",
          "2020-05",
          "2020-06",
          "2020-07",
          "2020-08",
          "2020-09",
          "2020-10",
          "2020-11",
          "2020-12",
          "2021-01",
          "2021-02",
          "2021-03",
          "2021-04",
          "2021-05",
          "2021-06",
          "2021-07",
          "2021-08",
          "2021-09",
          "2021-10",
          "2021-11",
          "2021-12",
          "2022-01",
          "2022-02",
          "2022-03",
          "2022-04",
          "2022-05",
          "2022-06",
          "2022-07",
          "2022-08",
          "2022-09",
          "2022-10",
          "2022-11",
          "2022-12",
          "2023-01",
          "2023-02",
          "2023-03",
          "2023-04",
          "2023-05",
          "2023-06",
          "2023-07"
         ],
         "legendgroup": "",
         "marker": {
          "color": "#636efa",
          "line": {
           "color": "DarkSlateGrey",
           "width": 2
          },
          "size": 12,
          "symbol": "circle"
         },
         "mode": "markers",
         "name": "",
         "orientation": "v",
         "showlegend": false,
         "type": "scatter",
         "x": [
          0.0344,
          0.0006,
          -0.0768,
          0.0169,
          -0.09570000000000001,
          0.084,
          0.034,
          0.011000000000000001,
          0.0397,
          -0.0694,
          0.0693,
          0.011899999999999999,
          -0.0258,
          0.0143,
          0.0206,
          0.0387,
          0.0277,
          -0.0011,
          -0.08130000000000001,
          -0.13390000000000002,
          0.1365,
          0.0558,
          0.0246,
          0.057699999999999994,
          0.07629999999999999,
          -0.0363,
          -0.021,
          0.1247,
          0.0463,
          -0.0003,
          0.0278,
          0.0308,
          0.0493,
          0.0029,
          0.0275,
          0.0127,
          0.0291,
          -0.0437,
          0.0665,
          -0.0155,
          0.031,
          -0.0625,
          -0.0229,
          0.0305,
          -0.0946,
          -0.0034000000000000002,
          -0.0843,
          0.09570000000000001,
          -0.0377,
          -0.0935,
          0.0783,
          0.046,
          -0.0641,
          0.0665,
          -0.0258,
          0.025099999999999997,
          0.0060999999999999995,
          0.0034999999999999996,
          0.0646,
          0.0321
         ],
         "xaxis": "x",
         "y": [
          0.02001417160127188,
          0.030791018337056164,
          -0.23852464589235134,
          0.08849490970994991,
          -0.08729804875190672,
          0.18044592574748686,
          0.03777290653455225,
          0.019601502505689497,
          -0.007982530563337318,
          -0.08602033606059901,
          0.08411216743847064,
          0.0730816636866516,
          -0.07656682606305094,
          0.07117275309100249,
          -0.08198780338845875,
          0.01605858614060649,
          -0.0044494762784482045,
          0.07099194576356535,
          -0.0862272277626566,
          -0.14897564810531908,
          0.13188482647195876,
          0.007984294626717448,
          -0.033166431156790535,
          0.017868103760107158,
          0.016042264074176183,
          -0.013399742608163689,
          -0.08237166934281061,
          0.12215601745881675,
          0.019006145441365686,
          -0.05388142531701136,
          0.011831429591659726,
          0.12049103117592486,
          0.06468555772528362,
          0.02442941447164615,
          0.019827553499901285,
          -0.0384063332724639,
          0.007063596581061704,
          -0.010047111666469655,
          -0.09954646662600819,
          -0.007825002304495232,
          0.14131763999969338,
          -0.00067330453238168,
          -0.07175499693610521,
          0.061201110681350576,
          0.016743675532226766,
          0.06258634710656727,
          0.016325873433416117,
          -0.07445969962063234,
          -0.0074173594643193045,
          -0.07694867791876779,
          0.16165926409043416,
          0.08666051857919967,
          -0.057094564321654856,
          -0.04722213011100179,
          -0.03191455464003971,
          0.010243747971418853,
          -0.039200646368592384,
          0.027516166129124157,
          0.036594147584835035,
          0.07299788802348978
         ],
         "yaxis": "y"
        },
        {
         "hovertemplate": "<b>OLS trendline</b><br>ret = 0.803092 * mkt + -0.00107607<br>R<sup>2</sup>=0.347719<br><br><extra></extra>",
         "legendgroup": "",
         "marker": {
          "color": "#636efa",
          "symbol": "circle"
         },
         "mode": "lines",
         "name": "",
         "showlegend": false,
         "type": "scatter",
         "x": [
          -0.13390000000000002,
          -0.09570000000000001,
          -0.0946,
          -0.0935,
          -0.0843,
          -0.08130000000000001,
          -0.0768,
          -0.0694,
          -0.0641,
          -0.0625,
          -0.0437,
          -0.0377,
          -0.0363,
          -0.0258,
          -0.0258,
          -0.0229,
          -0.021,
          -0.0155,
          -0.0034000000000000002,
          -0.0011,
          -0.0003,
          0.0006,
          0.0029,
          0.0034999999999999996,
          0.0060999999999999995,
          0.011000000000000001,
          0.011899999999999999,
          0.0127,
          0.0143,
          0.0169,
          0.0206,
          0.0246,
          0.025099999999999997,
          0.0275,
          0.0277,
          0.0278,
          0.0291,
          0.0305,
          0.0308,
          0.031,
          0.0321,
          0.034,
          0.0344,
          0.0387,
          0.0397,
          0.046,
          0.0463,
          0.0493,
          0.0558,
          0.057699999999999994,
          0.0646,
          0.0665,
          0.0665,
          0.0693,
          0.07629999999999999,
          0.0783,
          0.084,
          0.09570000000000001,
          0.1247,
          0.1365
         ],
         "xaxis": "x",
         "y": [
          -0.10861010865896334,
          -0.07793198960037728,
          -0.07704858826622951,
          -0.07616518693208174,
          -0.06877673941011861,
          -0.06636746304426108,
          -0.06275354849547475,
          -0.056810666793026154,
          -0.052554278546677824,
          -0.0512693311515538,
          -0.03617119925884653,
          -0.03135264652713144,
          -0.03022831755639792,
          -0.02179585027589652,
          -0.02179585027589652,
          -0.019466883122234227,
          -0.01794100809052445,
          -0.013524001419785622,
          -0.003806586744160197,
          -0.001959474863669413,
          -0.0013170011661074016,
          -0.0005942182563501387,
          0.0012528936241406443,
          0.001734748897312153,
          0.0038227884143886906,
          0.007757939811956013,
          0.008480722721713274,
          0.009123196419275286,
          0.01040814381439931,
          0.012496183331475846,
          0.015467624182700151,
          0.01867999267051021,
          0.019081538731486464,
          0.021008959824172502,
          0.021169578248563005,
          0.021249887460758253,
          0.022293907219296527,
          0.023418236190030042,
          0.0236591638266158,
          0.023819782251006304,
          0.02470318358515406,
          0.026229058616863844,
          0.02655029546564485,
          0.03000359159004066,
          0.030806683711993174,
          0.03586616408029402,
          0.03610709171687977,
          0.03851636808273731,
          0.04373646687542866,
          0.04526234190713843,
          0.050803677548610794,
          0.05232955258032057,
          0.05232955258032057,
          0.05457821052178761,
          0.0601998553754552,
          0.06180603961936024,
          0.06638366471448957,
          0.07577984254133399,
          0.09906951407795692,
          0.10854600111699658
         ],
         "yaxis": "y"
        }
       ],
       "layout": {
        "legend": {
         "tracegroupgap": 0
        },
        "margin": {
         "t": 60
        },
        "showlegend": false,
        "template": {
         "data": {
          "bar": [
           {
            "error_x": {
             "color": "#2a3f5f"
            },
            "error_y": {
             "color": "#2a3f5f"
            },
            "marker": {
             "line": {
              "color": "white",
              "width": 0.5
             },
             "pattern": {
              "fillmode": "overlay",
              "size": 10,
              "solidity": 0.2
             }
            },
            "type": "bar"
           }
          ],
          "barpolar": [
           {
            "marker": {
             "line": {
              "color": "white",
              "width": 0.5
             },
             "pattern": {
              "fillmode": "overlay",
              "size": 10,
              "solidity": 0.2
             }
            },
            "type": "barpolar"
           }
          ],
          "carpet": [
           {
            "aaxis": {
             "endlinecolor": "#2a3f5f",
             "gridcolor": "#C8D4E3",
             "linecolor": "#C8D4E3",
             "minorgridcolor": "#C8D4E3",
             "startlinecolor": "#2a3f5f"
            },
            "baxis": {
             "endlinecolor": "#2a3f5f",
             "gridcolor": "#C8D4E3",
             "linecolor": "#C8D4E3",
             "minorgridcolor": "#C8D4E3",
             "startlinecolor": "#2a3f5f"
            },
            "type": "carpet"
           }
          ],
          "choropleth": [
           {
            "colorbar": {
             "outlinewidth": 0,
             "ticks": ""
            },
            "type": "choropleth"
           }
          ],
          "contour": [
           {
            "colorbar": {
             "outlinewidth": 0,
             "ticks": ""
            },
            "colorscale": [
             [
              0,
              "#0d0887"
             ],
             [
              0.1111111111111111,
              "#46039f"
             ],
             [
              0.2222222222222222,
              "#7201a8"
             ],
             [
              0.3333333333333333,
              "#9c179e"
             ],
             [
              0.4444444444444444,
              "#bd3786"
             ],
             [
              0.5555555555555556,
              "#d8576b"
             ],
             [
              0.6666666666666666,
              "#ed7953"
             ],
             [
              0.7777777777777778,
              "#fb9f3a"
             ],
             [
              0.8888888888888888,
              "#fdca26"
             ],
             [
              1,
              "#f0f921"
             ]
            ],
            "type": "contour"
           }
          ],
          "contourcarpet": [
           {
            "colorbar": {
             "outlinewidth": 0,
             "ticks": ""
            },
            "type": "contourcarpet"
           }
          ],
          "heatmap": [
           {
            "colorbar": {
             "outlinewidth": 0,
             "ticks": ""
            },
            "colorscale": [
             [
              0,
              "#0d0887"
             ],
             [
              0.1111111111111111,
              "#46039f"
             ],
             [
              0.2222222222222222,
              "#7201a8"
             ],
             [
              0.3333333333333333,
              "#9c179e"
             ],
             [
              0.4444444444444444,
              "#bd3786"
             ],
             [
              0.5555555555555556,
              "#d8576b"
             ],
             [
              0.6666666666666666,
              "#ed7953"
             ],
             [
              0.7777777777777778,
              "#fb9f3a"
             ],
             [
              0.8888888888888888,
              "#fdca26"
             ],
             [
              1,
              "#f0f921"
             ]
            ],
            "type": "heatmap"
           }
          ],
          "heatmapgl": [
           {
            "colorbar": {
             "outlinewidth": 0,
             "ticks": ""
            },
            "colorscale": [
             [
              0,
              "#0d0887"
             ],
             [
              0.1111111111111111,
              "#46039f"
             ],
             [
              0.2222222222222222,
              "#7201a8"
             ],
             [
              0.3333333333333333,
              "#9c179e"
             ],
             [
              0.4444444444444444,
              "#bd3786"
             ],
             [
              0.5555555555555556,
              "#d8576b"
             ],
             [
              0.6666666666666666,
              "#ed7953"
             ],
             [
              0.7777777777777778,
              "#fb9f3a"
             ],
             [
              0.8888888888888888,
              "#fdca26"
             ],
             [
              1,
              "#f0f921"
             ]
            ],
            "type": "heatmapgl"
           }
          ],
          "histogram": [
           {
            "marker": {
             "pattern": {
              "fillmode": "overlay",
              "size": 10,
              "solidity": 0.2
             }
            },
            "type": "histogram"
           }
          ],
          "histogram2d": [
           {
            "colorbar": {
             "outlinewidth": 0,
             "ticks": ""
            },
            "colorscale": [
             [
              0,
              "#0d0887"
             ],
             [
              0.1111111111111111,
              "#46039f"
             ],
             [
              0.2222222222222222,
              "#7201a8"
             ],
             [
              0.3333333333333333,
              "#9c179e"
             ],
             [
              0.4444444444444444,
              "#bd3786"
             ],
             [
              0.5555555555555556,
              "#d8576b"
             ],
             [
              0.6666666666666666,
              "#ed7953"
             ],
             [
              0.7777777777777778,
              "#fb9f3a"
             ],
             [
              0.8888888888888888,
              "#fdca26"
             ],
             [
              1,
              "#f0f921"
             ]
            ],
            "type": "histogram2d"
           }
          ],
          "histogram2dcontour": [
           {
            "colorbar": {
             "outlinewidth": 0,
             "ticks": ""
            },
            "colorscale": [
             [
              0,
              "#0d0887"
             ],
             [
              0.1111111111111111,
              "#46039f"
             ],
             [
              0.2222222222222222,
              "#7201a8"
             ],
             [
              0.3333333333333333,
              "#9c179e"
             ],
             [
              0.4444444444444444,
              "#bd3786"
             ],
             [
              0.5555555555555556,
              "#d8576b"
             ],
             [
              0.6666666666666666,
              "#ed7953"
             ],
             [
              0.7777777777777778,
              "#fb9f3a"
             ],
             [
              0.8888888888888888,
              "#fdca26"
             ],
             [
              1,
              "#f0f921"
             ]
            ],
            "type": "histogram2dcontour"
           }
          ],
          "mesh3d": [
           {
            "colorbar": {
             "outlinewidth": 0,
             "ticks": ""
            },
            "type": "mesh3d"
           }
          ],
          "parcoords": [
           {
            "line": {
             "colorbar": {
              "outlinewidth": 0,
              "ticks": ""
             }
            },
            "type": "parcoords"
           }
          ],
          "pie": [
           {
            "automargin": true,
            "type": "pie"
           }
          ],
          "scatter": [
           {
            "fillpattern": {
             "fillmode": "overlay",
             "size": 10,
             "solidity": 0.2
            },
            "type": "scatter"
           }
          ],
          "scatter3d": [
           {
            "line": {
             "colorbar": {
              "outlinewidth": 0,
              "ticks": ""
             }
            },
            "marker": {
             "colorbar": {
              "outlinewidth": 0,
              "ticks": ""
             }
            },
            "type": "scatter3d"
           }
          ],
          "scattercarpet": [
           {
            "marker": {
             "colorbar": {
              "outlinewidth": 0,
              "ticks": ""
             }
            },
            "type": "scattercarpet"
           }
          ],
          "scattergeo": [
           {
            "marker": {
             "colorbar": {
              "outlinewidth": 0,
              "ticks": ""
             }
            },
            "type": "scattergeo"
           }
          ],
          "scattergl": [
           {
            "marker": {
             "colorbar": {
              "outlinewidth": 0,
              "ticks": ""
             }
            },
            "type": "scattergl"
           }
          ],
          "scattermapbox": [
           {
            "marker": {
             "colorbar": {
              "outlinewidth": 0,
              "ticks": ""
             }
            },
            "type": "scattermapbox"
           }
          ],
          "scatterpolar": [
           {
            "marker": {
             "colorbar": {
              "outlinewidth": 0,
              "ticks": ""
             }
            },
            "type": "scatterpolar"
           }
          ],
          "scatterpolargl": [
           {
            "marker": {
             "colorbar": {
              "outlinewidth": 0,
              "ticks": ""
             }
            },
            "type": "scatterpolargl"
           }
          ],
          "scatterternary": [
           {
            "marker": {
             "colorbar": {
              "outlinewidth": 0,
              "ticks": ""
             }
            },
            "type": "scatterternary"
           }
          ],
          "surface": [
           {
            "colorbar": {
             "outlinewidth": 0,
             "ticks": ""
            },
            "colorscale": [
             [
              0,
              "#0d0887"
             ],
             [
              0.1111111111111111,
              "#46039f"
             ],
             [
              0.2222222222222222,
              "#7201a8"
             ],
             [
              0.3333333333333333,
              "#9c179e"
             ],
             [
              0.4444444444444444,
              "#bd3786"
             ],
             [
              0.5555555555555556,
              "#d8576b"
             ],
             [
              0.6666666666666666,
              "#ed7953"
             ],
             [
              0.7777777777777778,
              "#fb9f3a"
             ],
             [
              0.8888888888888888,
              "#fdca26"
             ],
             [
              1,
              "#f0f921"
             ]
            ],
            "type": "surface"
           }
          ],
          "table": [
           {
            "cells": {
             "fill": {
              "color": "#EBF0F8"
             },
             "line": {
              "color": "white"
             }
            },
            "header": {
             "fill": {
              "color": "#C8D4E3"
             },
             "line": {
              "color": "white"
             }
            },
            "type": "table"
           }
          ]
         },
         "layout": {
          "annotationdefaults": {
           "arrowcolor": "#2a3f5f",
           "arrowhead": 0,
           "arrowwidth": 1
          },
          "autotypenumbers": "strict",
          "coloraxis": {
           "colorbar": {
            "outlinewidth": 0,
            "ticks": ""
           }
          },
          "colorscale": {
           "diverging": [
            [
             0,
             "#8e0152"
            ],
            [
             0.1,
             "#c51b7d"
            ],
            [
             0.2,
             "#de77ae"
            ],
            [
             0.3,
             "#f1b6da"
            ],
            [
             0.4,
             "#fde0ef"
            ],
            [
             0.5,
             "#f7f7f7"
            ],
            [
             0.6,
             "#e6f5d0"
            ],
            [
             0.7,
             "#b8e186"
            ],
            [
             0.8,
             "#7fbc41"
            ],
            [
             0.9,
             "#4d9221"
            ],
            [
             1,
             "#276419"
            ]
           ],
           "sequential": [
            [
             0,
             "#0d0887"
            ],
            [
             0.1111111111111111,
             "#46039f"
            ],
            [
             0.2222222222222222,
             "#7201a8"
            ],
            [
             0.3333333333333333,
             "#9c179e"
            ],
            [
             0.4444444444444444,
             "#bd3786"
            ],
            [
             0.5555555555555556,
             "#d8576b"
            ],
            [
             0.6666666666666666,
             "#ed7953"
            ],
            [
             0.7777777777777778,
             "#fb9f3a"
            ],
            [
             0.8888888888888888,
             "#fdca26"
            ],
            [
             1,
             "#f0f921"
            ]
           ],
           "sequentialminus": [
            [
             0,
             "#0d0887"
            ],
            [
             0.1111111111111111,
             "#46039f"
            ],
            [
             0.2222222222222222,
             "#7201a8"
            ],
            [
             0.3333333333333333,
             "#9c179e"
            ],
            [
             0.4444444444444444,
             "#bd3786"
            ],
            [
             0.5555555555555556,
             "#d8576b"
            ],
            [
             0.6666666666666666,
             "#ed7953"
            ],
            [
             0.7777777777777778,
             "#fb9f3a"
            ],
            [
             0.8888888888888888,
             "#fdca26"
            ],
            [
             1,
             "#f0f921"
            ]
           ]
          },
          "colorway": [
           "#636efa",
           "#EF553B",
           "#00cc96",
           "#ab63fa",
           "#FFA15A",
           "#19d3f3",
           "#FF6692",
           "#B6E880",
           "#FF97FF",
           "#FECB52"
          ],
          "font": {
           "color": "#2a3f5f"
          },
          "geo": {
           "bgcolor": "white",
           "lakecolor": "white",
           "landcolor": "white",
           "showlakes": true,
           "showland": true,
           "subunitcolor": "#C8D4E3"
          },
          "hoverlabel": {
           "align": "left"
          },
          "hovermode": "closest",
          "mapbox": {
           "style": "light"
          },
          "paper_bgcolor": "white",
          "plot_bgcolor": "white",
          "polar": {
           "angularaxis": {
            "gridcolor": "#EBF0F8",
            "linecolor": "#EBF0F8",
            "ticks": ""
           },
           "bgcolor": "white",
           "radialaxis": {
            "gridcolor": "#EBF0F8",
            "linecolor": "#EBF0F8",
            "ticks": ""
           }
          },
          "scene": {
           "xaxis": {
            "backgroundcolor": "white",
            "gridcolor": "#DFE8F3",
            "gridwidth": 2,
            "linecolor": "#EBF0F8",
            "showbackground": true,
            "ticks": "",
            "zerolinecolor": "#EBF0F8"
           },
           "yaxis": {
            "backgroundcolor": "white",
            "gridcolor": "#DFE8F3",
            "gridwidth": 2,
            "linecolor": "#EBF0F8",
            "showbackground": true,
            "ticks": "",
            "zerolinecolor": "#EBF0F8"
           },
           "zaxis": {
            "backgroundcolor": "white",
            "gridcolor": "#DFE8F3",
            "gridwidth": 2,
            "linecolor": "#EBF0F8",
            "showbackground": true,
            "ticks": "",
            "zerolinecolor": "#EBF0F8"
           }
          },
          "shapedefaults": {
           "line": {
            "color": "#2a3f5f"
           }
          },
          "ternary": {
           "aaxis": {
            "gridcolor": "#DFE8F3",
            "linecolor": "#A2B1C6",
            "ticks": ""
           },
           "baxis": {
            "gridcolor": "#DFE8F3",
            "linecolor": "#A2B1C6",
            "ticks": ""
           },
           "bgcolor": "white",
           "caxis": {
            "gridcolor": "#DFE8F3",
            "linecolor": "#A2B1C6",
            "ticks": ""
           }
          },
          "title": {
           "x": 0.05
          },
          "xaxis": {
           "automargin": true,
           "gridcolor": "#EBF0F8",
           "linecolor": "#EBF0F8",
           "ticks": "",
           "title": {
            "standoff": 15
           },
           "zerolinecolor": "#EBF0F8",
           "zerolinewidth": 2
          },
          "yaxis": {
           "automargin": true,
           "gridcolor": "#EBF0F8",
           "linecolor": "#EBF0F8",
           "ticks": "",
           "title": {
            "standoff": 15
           },
           "zerolinecolor": "#EBF0F8",
           "zerolinewidth": 2
          }
         }
        },
        "xaxis": {
         "anchor": "y",
         "domain": [
          0,
          1
         ],
         "tickformat": ".0%",
         "title": {
          "text": "Market Excess Return"
         }
        },
        "yaxis": {
         "anchor": "x",
         "domain": [
          0,
          1
         ],
         "tickformat": ".0%",
         "title": {
          "text": "IBM Excess Return"
         }
        }
       }
      }
     },
     "metadata": {},
     "output_type": "display_data"
    }
   ],
   "source": [
    "import plotly.express as px\n",
    "\n",
    "fig = px.scatter(\n",
    "    df,\n",
    "    x=\"mkt\",\n",
    "    y=\"ret\",\n",
    "    trendline=\"ols\",\n",
    "    hover_data=dict(ret=False, mkt=False, date=False),\n",
    "    hover_name=\"date\",\n",
    ")\n",
    "\n",
    "fig.update_traces(\n",
    "    marker=dict(size=12, line=dict(width=2, color=\"DarkSlateGrey\")),\n",
    "    selector=dict(mode=\"markers\"),\n",
    ")\n",
    "\n",
    "fig.update_layout(\n",
    "    xaxis_title=\"Market Excess Return\",\n",
    "    yaxis_title= ticker.upper() + \" Excess Return\",\n",
    "    xaxis_tickformat=\".0%\",\n",
    "    yaxis_tickformat=\".0%\",\n",
    "    template=\"plotly_white\",\n",
    "    showlegend=False\n",
    ")\n",
    "\n",
    "fig.show()"
   ]
  }
 ],
 "metadata": {
  "kernelspec": {
   "display_name": "Python 3",
   "language": "python",
   "name": "python3"
  },
  "language_info": {
   "codemirror_mode": {
    "name": "ipython",
    "version": 3
   },
   "file_extension": ".py",
   "mimetype": "text/x-python",
   "name": "python",
   "nbconvert_exporter": "python",
   "pygments_lexer": "ipython3",
   "version": "3.10.7"
  },
  "orig_nbformat": 4
 },
 "nbformat": 4,
 "nbformat_minor": 2
}