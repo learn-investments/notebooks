{
  "nbformat": 4,
  "nbformat_minor": 0,
  "metadata": {
    "colab": {
      "name": "alphas_sharpes.ipynb",
      "provenance": [],
      "collapsed_sections": [],
      "include_colab_link": true
    },
    "kernelspec": {
      "name": "python3",
      "display_name": "Python 3"
    },
    "language_info": {
      "name": "python"
    }
  },
  "cells": [
    {
      "cell_type": "markdown",
      "metadata": {
        "id": "view-in-github",
        "colab_type": "text"
      },
      "source": [
        "<a href=\"https://colab.research.google.com/github/bbcx-investments/notebooks/blob/main/capm/alphas_sharpes.ipynb\" target=\"_parent\"><img src=\"https://colab.research.google.com/assets/colab-badge.svg\" alt=\"Open In Colab\"/></a>"
      ]
    },
    {
      "cell_type": "code",
      "execution_count": null,
      "metadata": {
        "colab": {
          "base_uri": "https://localhost:8080/"
        },
        "id": "t6_97sggLNN9",
        "outputId": "4bc60c08-8ae3-4f19-ede3-218f0e597f37"
      },
      "outputs": [
        {
          "output_type": "stream",
          "name": "stdout",
          "text": [
            "stock Sharpe ratio is 0.14999999999999997\n",
            "market Sharpe ratio x correlation is 0.14999999999999997\n"
          ]
        }
      ],
      "source": [
        "import pandas as pd\n",
        "import numpy as np\n",
        "\n",
        "# example market mean and std dev\n",
        "mmn = 0.12\n",
        "msd = 0.20\n",
        "\n",
        "# example stock std dev and alpha and correlation between stock and market\n",
        "ssd = 0.30\n",
        "alpha = 0\n",
        "corr = 0.3\n",
        "\n",
        "# example risk-free rate\n",
        "rf = 0.02\n",
        "\n",
        "# calculate stock beta\n",
        "beta = corr * ssd / msd\n",
        "\n",
        "# calculate market and stock Sharpe ratios\n",
        "mprem = mmn - rf\n",
        "msharpe = mprem / msd \n",
        "sprem = alpha+beta*mprem\n",
        "ssharpe = sprem / ssd\n",
        "\n",
        "# compare stock Sharpe ratio to market Sharpe ratio x correlation\n",
        "print('stock Sharpe ratio is', ssharpe)\n",
        "print('market Sharpe ratio x correlation is', msharpe*corr)\n",
        "\n"
      ]
    },
    {
      "cell_type": "code",
      "source": [
        ""
      ],
      "metadata": {
        "id": "yC3hX-wpOD5w"
      },
      "execution_count": null,
      "outputs": []
    }
  ]
}