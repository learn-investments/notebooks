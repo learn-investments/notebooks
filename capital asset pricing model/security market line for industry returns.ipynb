{
 "cells": [
  {
   "cell_type": "markdown",
   "metadata": {},
   "source": [
    "---\n",
    "\n",
    "Created for [learn-investments.rice-business.org](https://learn-investments.rice-business.org)\n",
    "    \n",
    "By [Kerry Back](https://kerryback.com) and [Kevin Crotty](https://kevin-crotty.com)\n",
    "    \n",
    "Jones Graduate School of Business, Rice University\n",
    "\n",
    "---\n"
   ]
  },
  {
   "cell_type": "markdown",
   "metadata": {},
   "source": [
    "# EXAMPLE DATA"
   ]
  },
  {
   "cell_type": "code",
   "execution_count": 1,
   "metadata": {},
   "outputs": [],
   "source": [
    "# start and end years\n",
    "\n",
    "start_yr = 1980\n",
    "stop_yr  = 2022\n"
   ]
  },
  {
   "cell_type": "markdown",
   "metadata": {},
   "source": [
    "# GET DATA"
   ]
  },
  {
   "cell_type": "code",
   "execution_count": 2,
   "metadata": {},
   "outputs": [],
   "source": [
    "import pandas as pd\n",
    "import yfinance as yf\n",
    "from pandas_datareader import DataReader as pdr\n",
    "import statsmodels.api as sm\n",
    "import warnings\n",
    "warnings.simplefilter(action='ignore', category=FutureWarning)\n",
    "\n",
    "start = str(start_yr) + \"-01\"\n",
    "stop  = str(stop_yr) + \"-12\"\n",
    "\n",
    "# get monthly market excess return, risk-free rate, and value-weighted industry returns\n",
    "ff = pdr('F-F_Research_Data_Factors','famafrench',start=1970)[0] \n",
    "df = pdr('48_Industry_Portfolios','famafrench',start=1970)[0] \n",
    "inds = df.columns\n",
    "\n",
    "# merge with market excess return and risk-free rate\n",
    "df = df.join(ff,how='inner')\n",
    "\n",
    "# compute excess industry returns\n",
    "df[inds] = df[inds].subtract(df.RF,axis='index')"
   ]
  },
  {
   "cell_type": "markdown",
   "metadata": {},
   "source": [
    "# CALCULATIONS"
   ]
  },
  {
   "cell_type": "code",
   "execution_count": 3,
   "metadata": {},
   "outputs": [],
   "source": [
    "# compute anualized industry mean excess returns\n",
    "d1 = df.loc[start:stop]\n",
    "d2 = pd.DataFrame(dtype=float,index=inds,columns=['rprem','beta'])\n",
    "d2['rprem'] = 12*d1[inds].mean()\n",
    "\n",
    "# run regressions to compute industry betas\n",
    "X = sm.add_constant(d1[\"Mkt-RF\"])\n",
    "def beta(y):\n",
    "    return sm.OLS(y, X).fit().params[\"Mkt-RF\"]\n",
    "betas = d1[inds].apply(beta)\n",
    "\n",
    "# calculate empirical and theoretical risk premia\n",
    "d2 = pd.DataFrame(\n",
    "    dtype=float,\n",
    "    index=inds,\n",
    "    columns=[\"beta\", \"empirical rprem\", \"theoretical rprem\"],\n",
    ")\n",
    "d2.index.name = \"industry\"\n",
    "d2[\"beta\"] = betas\n",
    "d2[\"empirical rprem\"] = 12 * d1[inds].mean() / 100 \n",
    "d2[\"theoretical rprem\"] = 12 * betas * d1[\"Mkt-RF\"].mean() / 100 \n",
    "d2 = d2.reset_index()"
   ]
  },
  {
   "cell_type": "markdown",
   "metadata": {},
   "source": [
    "# FIGURE"
   ]
  },
  {
   "cell_type": "code",
   "execution_count": 4,
   "metadata": {
    "id": "33lBTAbghiJn"
   },
   "outputs": [
    {
     "data": {
      "application/vnd.plotly.v1+json": {
       "config": {
        "plotlyServerURL": "https://plot.ly"
       },
       "data": [
        {
         "hovertemplate": "<b>%{hovertext}</b><br><br>beta=%{x}<br>empirical rprem=%{y}<extra></extra>",
         "hovertext": [
          "Agric",
          "Food ",
          "Soda ",
          "Beer ",
          "Smoke",
          "Toys ",
          "Fun  ",
          "Books",
          "Hshld",
          "Clths",
          "Hlth ",
          "MedEq",
          "Drugs",
          "Chems",
          "Rubbr",
          "Txtls",
          "BldMt",
          "Cnstr",
          "Steel",
          "FabPr",
          "Mach ",
          "ElcEq",
          "Autos",
          "Aero ",
          "Ships",
          "Guns ",
          "Gold ",
          "Mines",
          "Coal ",
          "Oil  ",
          "Util ",
          "Telcm",
          "PerSv",
          "BusSv",
          "Comps",
          "Chips",
          "LabEq",
          "Paper",
          "Boxes",
          "Trans",
          "Whlsl",
          "Rtail",
          "Meals",
          "Banks",
          "Insur",
          "RlEst",
          "Fin  ",
          "Other"
         ],
         "legendgroup": "",
         "marker": {
          "color": "#636efa",
          "line": {
           "color": "DarkSlateGrey",
           "width": 2
          },
          "size": 12,
          "symbol": "circle"
         },
         "mode": "markers",
         "name": "",
         "orientation": "v",
         "showlegend": false,
         "type": "scatter",
         "x": [
          0.7957593049300763,
          0.5901020668255703,
          0.7130191723427819,
          0.6336949407380894,
          0.622393806350047,
          1.1119544366683654,
          1.2980674208102814,
          1.0642792374046535,
          0.690358832063545,
          1.073984882622725,
          0.9545662387463734,
          0.879103078405703,
          0.7212886542119974,
          1.0654155402887215,
          1.0442076857934803,
          1.1623130131359263,
          1.184331280550945,
          1.2608967645649558,
          1.4283750865067764,
          1.083152772658956,
          1.2539231038577132,
          1.2476402117958638,
          1.3184368018660102,
          1.0750827352622212,
          1.1057559916609359,
          0.7052979362030514,
          0.5375440016450906,
          1.158416913755321,
          1.1282854457412634,
          0.8796053471557619,
          0.45639038485270866,
          0.8345411079892125,
          1.00458241522452,
          1.2395658617544276,
          1.258006339665,
          1.3860534355338017,
          1.221744239460276,
          0.9418193091990208,
          0.9456398705785081,
          1.0348621963109266,
          0.9911047527017707,
          0.9640769606829751,
          0.883252281347698,
          1.066533658820801,
          0.8890400799309786,
          1.1503272341436817,
          1.250734536657418,
          1.0399540803631817
         ],
         "xaxis": "x",
         "y": [
          0.09190465116279072,
          0.10178372093023257,
          0.11023023255813953,
          0.11976744186046512,
          0.13467906976744182,
          0.06030930232558141,
          0.11273953488372093,
          0.07245348837209303,
          0.08214883720930231,
          0.0990906976744186,
          0.08107906976744186,
          0.10084418604651163,
          0.10445813953488373,
          0.08683023255813954,
          0.09476046511627906,
          0.08176976744186046,
          0.09331860465116279,
          0.08871860465116278,
          0.0663046511627907,
          0.05246511627906977,
          0.08746046511627906,
          0.10673255813953487,
          0.09379767441860463,
          0.10434651162790697,
          0.08737906976744188,
          0.11221627906976744,
          0.05488372093023257,
          0.07937209302325582,
          0.07523488372093023,
          0.09013488372093023,
          0.07691162790697675,
          0.0716906976744186,
          0.0608139534883721,
          0.1101767441860465,
          0.08286744186046512,
          0.11232790697674419,
          0.10087209302325582,
          0.06983953488372091,
          0.09196744186046513,
          0.087,
          0.0833558139534884,
          0.10834186046511629,
          0.10144418604651165,
          0.08911860465116281,
          0.09805348837209302,
          0.04459767441860465,
          0.1101325581395349,
          0.048944186046511635
         ],
         "yaxis": "y"
        },
        {
         "hovertemplate": "<b>OLS trendline</b><br>empirical rprem = -0.00858394 * beta + 0.0977222<br>R<sup>2</sup>=0.010566<br><br>beta=%{x}<br>empirical rprem=%{y} <b>(trend)</b><extra></extra>",
         "legendgroup": "",
         "marker": {
          "color": "#636efa",
          "symbol": "circle"
         },
         "mode": "lines",
         "name": "",
         "showlegend": false,
         "type": "scatter",
         "x": [
          0.45639038485270866,
          0.5375440016450906,
          0.5901020668255703,
          0.622393806350047,
          0.6336949407380894,
          0.690358832063545,
          0.7052979362030514,
          0.7130191723427819,
          0.7212886542119974,
          0.7957593049300763,
          0.8345411079892125,
          0.879103078405703,
          0.8796053471557619,
          0.883252281347698,
          0.8890400799309786,
          0.9418193091990208,
          0.9456398705785081,
          0.9545662387463734,
          0.9640769606829751,
          0.9911047527017707,
          1.00458241522452,
          1.0348621963109266,
          1.0399540803631817,
          1.0442076857934803,
          1.0642792374046535,
          1.0654155402887215,
          1.066533658820801,
          1.073984882622725,
          1.0750827352622212,
          1.083152772658956,
          1.1057559916609359,
          1.1119544366683654,
          1.1282854457412634,
          1.1503272341436817,
          1.158416913755321,
          1.1623130131359263,
          1.184331280550945,
          1.221744239460276,
          1.2395658617544276,
          1.2476402117958638,
          1.250734536657418,
          1.2539231038577132,
          1.258006339665,
          1.2608967645649558,
          1.2980674208102814,
          1.3184368018660102,
          1.3860534355338017,
          1.4283750865067764
         ],
         "xaxis": "x",
         "y": [
          0.09380454874787432,
          0.09310793100410308,
          0.09265677574781087,
          0.09237958540658998,
          0.09228257715174418,
          0.09179617773187085,
          0.09166794136446099,
          0.0916016627399045,
          0.09153067800712755,
          0.09089142644039672,
          0.0905585257858818,
          0.09017600852397155,
          0.09017169707936486,
          0.09014039201658536,
          0.0900907099032077,
          0.08963765618774913,
          0.08960486071968113,
          0.08952823731460137,
          0.08944659785207365,
          0.089214592918228,
          0.08909890147736557,
          0.08883898166582761,
          0.08879527324074163,
          0.08875876054870317,
          0.08858646756226568,
          0.08857671360695688,
          0.08856711574502697,
          0.08850315489006581,
          0.0884937309893335,
          0.0884244582758592,
          0.08823043360948592,
          0.08817722653201195,
          0.08803704213674371,
          0.08784783675671909,
          0.08777839543565868,
          0.0877449515539526,
          0.08755594807666281,
          0.08723479749763316,
          0.08708181776852686,
          0.08701250803557098,
          0.0869859465378984,
          0.0869585760696836,
          0.08692352582019644,
          0.08689871458747593,
          0.08657964391987574,
          0.0864047943834791,
          0.08582437728503273,
          0.08546109078988005
         ],
         "yaxis": "y"
        },
        {
         "hovertemplate": "<b>%{hovertext}</b><br><br>beta=%{x}<br>theoretical rprem=%{y}<extra></extra>",
         "hovertext": [
          "Agric",
          "Food ",
          "Soda ",
          "Beer ",
          "Smoke",
          "Toys ",
          "Fun  ",
          "Books",
          "Hshld",
          "Clths",
          "Hlth ",
          "MedEq",
          "Drugs",
          "Chems",
          "Rubbr",
          "Txtls",
          "BldMt",
          "Cnstr",
          "Steel",
          "FabPr",
          "Mach ",
          "ElcEq",
          "Autos",
          "Aero ",
          "Ships",
          "Guns ",
          "Gold ",
          "Mines",
          "Coal ",
          "Oil  ",
          "Util ",
          "Telcm",
          "PerSv",
          "BusSv",
          "Comps",
          "Chips",
          "LabEq",
          "Paper",
          "Boxes",
          "Trans",
          "Whlsl",
          "Rtail",
          "Meals",
          "Banks",
          "Insur",
          "RlEst",
          "Fin  ",
          "Other"
         ],
         "legendgroup": "",
         "marker": {
          "color": "green",
          "line": {
           "color": "DarkSlateGrey",
           "width": 2
          },
          "size": 12,
          "symbol": "circle"
         },
         "mode": "markers",
         "name": "",
         "orientation": "v",
         "showlegend": false,
         "type": "scatter",
         "x": [
          0.7957593049300763,
          0.5901020668255703,
          0.7130191723427819,
          0.6336949407380894,
          0.622393806350047,
          1.1119544366683654,
          1.2980674208102814,
          1.0642792374046535,
          0.690358832063545,
          1.073984882622725,
          0.9545662387463734,
          0.879103078405703,
          0.7212886542119974,
          1.0654155402887215,
          1.0442076857934803,
          1.1623130131359263,
          1.184331280550945,
          1.2608967645649558,
          1.4283750865067764,
          1.083152772658956,
          1.2539231038577132,
          1.2476402117958638,
          1.3184368018660102,
          1.0750827352622212,
          1.1057559916609359,
          0.7052979362030514,
          0.5375440016450906,
          1.158416913755321,
          1.1282854457412634,
          0.8796053471557619,
          0.45639038485270866,
          0.8345411079892125,
          1.00458241522452,
          1.2395658617544276,
          1.258006339665,
          1.3860534355338017,
          1.221744239460276,
          0.9418193091990208,
          0.9456398705785081,
          1.0348621963109266,
          0.9911047527017707,
          0.9640769606829751,
          0.883252281347698,
          1.066533658820801,
          0.8890400799309786,
          1.1503272341436817,
          1.250734536657418,
          1.0399540803631817
         ],
         "xaxis": "x",
         "y": [
          0.06501908702189141,
          0.048215455850813,
          0.05825864093277047,
          0.051777297785795436,
          0.05085391626116873,
          0.09085443529745664,
          0.10606116456453124,
          0.0869590388999421,
          0.05640713303655952,
          0.08775205782806239,
          0.07799472147003508,
          0.07182885478303715,
          0.05893431529554493,
          0.08705188277326499,
          0.08531905309922823,
          0.09496908233376196,
          0.09676812839738816,
          0.10302406261912829,
          0.11670820997518394,
          0.08850113840604598,
          0.10245426588589979,
          0.10194090977031602,
          0.10772548510874515,
          0.08784176004814626,
          0.09034797909538447,
          0.05762776207106514,
          0.043921095241392136,
          0.09465074383227781,
          0.09218879267598501,
          0.07186989364411754,
          0.03729027856143039,
          0.06818783090254187,
          0.08208139203836812,
          0.10128117903925597,
          0.10278789473904679,
          0.11325023582335954,
          0.09982502816092406,
          0.07695320839394977,
          0.07726537491373328,
          0.08455546140741418,
          0.08098017298005585,
          0.07877181380612942,
          0.07216787361132565,
          0.08714324085816286,
          0.07264077713556977,
          0.09398976056838167,
          0.10219373769981799,
          0.08497150385925589
         ],
         "yaxis": "y"
        }
       ],
       "layout": {
        "template": {
         "data": {
          "bar": [
           {
            "error_x": {
             "color": "#2a3f5f"
            },
            "error_y": {
             "color": "#2a3f5f"
            },
            "marker": {
             "line": {
              "color": "white",
              "width": 0.5
             },
             "pattern": {
              "fillmode": "overlay",
              "size": 10,
              "solidity": 0.2
             }
            },
            "type": "bar"
           }
          ],
          "barpolar": [
           {
            "marker": {
             "line": {
              "color": "white",
              "width": 0.5
             },
             "pattern": {
              "fillmode": "overlay",
              "size": 10,
              "solidity": 0.2
             }
            },
            "type": "barpolar"
           }
          ],
          "carpet": [
           {
            "aaxis": {
             "endlinecolor": "#2a3f5f",
             "gridcolor": "#C8D4E3",
             "linecolor": "#C8D4E3",
             "minorgridcolor": "#C8D4E3",
             "startlinecolor": "#2a3f5f"
            },
            "baxis": {
             "endlinecolor": "#2a3f5f",
             "gridcolor": "#C8D4E3",
             "linecolor": "#C8D4E3",
             "minorgridcolor": "#C8D4E3",
             "startlinecolor": "#2a3f5f"
            },
            "type": "carpet"
           }
          ],
          "choropleth": [
           {
            "colorbar": {
             "outlinewidth": 0,
             "ticks": ""
            },
            "type": "choropleth"
           }
          ],
          "contour": [
           {
            "colorbar": {
             "outlinewidth": 0,
             "ticks": ""
            },
            "colorscale": [
             [
              0,
              "#0d0887"
             ],
             [
              0.1111111111111111,
              "#46039f"
             ],
             [
              0.2222222222222222,
              "#7201a8"
             ],
             [
              0.3333333333333333,
              "#9c179e"
             ],
             [
              0.4444444444444444,
              "#bd3786"
             ],
             [
              0.5555555555555556,
              "#d8576b"
             ],
             [
              0.6666666666666666,
              "#ed7953"
             ],
             [
              0.7777777777777778,
              "#fb9f3a"
             ],
             [
              0.8888888888888888,
              "#fdca26"
             ],
             [
              1,
              "#f0f921"
             ]
            ],
            "type": "contour"
           }
          ],
          "contourcarpet": [
           {
            "colorbar": {
             "outlinewidth": 0,
             "ticks": ""
            },
            "type": "contourcarpet"
           }
          ],
          "heatmap": [
           {
            "colorbar": {
             "outlinewidth": 0,
             "ticks": ""
            },
            "colorscale": [
             [
              0,
              "#0d0887"
             ],
             [
              0.1111111111111111,
              "#46039f"
             ],
             [
              0.2222222222222222,
              "#7201a8"
             ],
             [
              0.3333333333333333,
              "#9c179e"
             ],
             [
              0.4444444444444444,
              "#bd3786"
             ],
             [
              0.5555555555555556,
              "#d8576b"
             ],
             [
              0.6666666666666666,
              "#ed7953"
             ],
             [
              0.7777777777777778,
              "#fb9f3a"
             ],
             [
              0.8888888888888888,
              "#fdca26"
             ],
             [
              1,
              "#f0f921"
             ]
            ],
            "type": "heatmap"
           }
          ],
          "heatmapgl": [
           {
            "colorbar": {
             "outlinewidth": 0,
             "ticks": ""
            },
            "colorscale": [
             [
              0,
              "#0d0887"
             ],
             [
              0.1111111111111111,
              "#46039f"
             ],
             [
              0.2222222222222222,
              "#7201a8"
             ],
             [
              0.3333333333333333,
              "#9c179e"
             ],
             [
              0.4444444444444444,
              "#bd3786"
             ],
             [
              0.5555555555555556,
              "#d8576b"
             ],
             [
              0.6666666666666666,
              "#ed7953"
             ],
             [
              0.7777777777777778,
              "#fb9f3a"
             ],
             [
              0.8888888888888888,
              "#fdca26"
             ],
             [
              1,
              "#f0f921"
             ]
            ],
            "type": "heatmapgl"
           }
          ],
          "histogram": [
           {
            "marker": {
             "pattern": {
              "fillmode": "overlay",
              "size": 10,
              "solidity": 0.2
             }
            },
            "type": "histogram"
           }
          ],
          "histogram2d": [
           {
            "colorbar": {
             "outlinewidth": 0,
             "ticks": ""
            },
            "colorscale": [
             [
              0,
              "#0d0887"
             ],
             [
              0.1111111111111111,
              "#46039f"
             ],
             [
              0.2222222222222222,
              "#7201a8"
             ],
             [
              0.3333333333333333,
              "#9c179e"
             ],
             [
              0.4444444444444444,
              "#bd3786"
             ],
             [
              0.5555555555555556,
              "#d8576b"
             ],
             [
              0.6666666666666666,
              "#ed7953"
             ],
             [
              0.7777777777777778,
              "#fb9f3a"
             ],
             [
              0.8888888888888888,
              "#fdca26"
             ],
             [
              1,
              "#f0f921"
             ]
            ],
            "type": "histogram2d"
           }
          ],
          "histogram2dcontour": [
           {
            "colorbar": {
             "outlinewidth": 0,
             "ticks": ""
            },
            "colorscale": [
             [
              0,
              "#0d0887"
             ],
             [
              0.1111111111111111,
              "#46039f"
             ],
             [
              0.2222222222222222,
              "#7201a8"
             ],
             [
              0.3333333333333333,
              "#9c179e"
             ],
             [
              0.4444444444444444,
              "#bd3786"
             ],
             [
              0.5555555555555556,
              "#d8576b"
             ],
             [
              0.6666666666666666,
              "#ed7953"
             ],
             [
              0.7777777777777778,
              "#fb9f3a"
             ],
             [
              0.8888888888888888,
              "#fdca26"
             ],
             [
              1,
              "#f0f921"
             ]
            ],
            "type": "histogram2dcontour"
           }
          ],
          "mesh3d": [
           {
            "colorbar": {
             "outlinewidth": 0,
             "ticks": ""
            },
            "type": "mesh3d"
           }
          ],
          "parcoords": [
           {
            "line": {
             "colorbar": {
              "outlinewidth": 0,
              "ticks": ""
             }
            },
            "type": "parcoords"
           }
          ],
          "pie": [
           {
            "automargin": true,
            "type": "pie"
           }
          ],
          "scatter": [
           {
            "fillpattern": {
             "fillmode": "overlay",
             "size": 10,
             "solidity": 0.2
            },
            "type": "scatter"
           }
          ],
          "scatter3d": [
           {
            "line": {
             "colorbar": {
              "outlinewidth": 0,
              "ticks": ""
             }
            },
            "marker": {
             "colorbar": {
              "outlinewidth": 0,
              "ticks": ""
             }
            },
            "type": "scatter3d"
           }
          ],
          "scattercarpet": [
           {
            "marker": {
             "colorbar": {
              "outlinewidth": 0,
              "ticks": ""
             }
            },
            "type": "scattercarpet"
           }
          ],
          "scattergeo": [
           {
            "marker": {
             "colorbar": {
              "outlinewidth": 0,
              "ticks": ""
             }
            },
            "type": "scattergeo"
           }
          ],
          "scattergl": [
           {
            "marker": {
             "colorbar": {
              "outlinewidth": 0,
              "ticks": ""
             }
            },
            "type": "scattergl"
           }
          ],
          "scattermapbox": [
           {
            "marker": {
             "colorbar": {
              "outlinewidth": 0,
              "ticks": ""
             }
            },
            "type": "scattermapbox"
           }
          ],
          "scatterpolar": [
           {
            "marker": {
             "colorbar": {
              "outlinewidth": 0,
              "ticks": ""
             }
            },
            "type": "scatterpolar"
           }
          ],
          "scatterpolargl": [
           {
            "marker": {
             "colorbar": {
              "outlinewidth": 0,
              "ticks": ""
             }
            },
            "type": "scatterpolargl"
           }
          ],
          "scatterternary": [
           {
            "marker": {
             "colorbar": {
              "outlinewidth": 0,
              "ticks": ""
             }
            },
            "type": "scatterternary"
           }
          ],
          "surface": [
           {
            "colorbar": {
             "outlinewidth": 0,
             "ticks": ""
            },
            "colorscale": [
             [
              0,
              "#0d0887"
             ],
             [
              0.1111111111111111,
              "#46039f"
             ],
             [
              0.2222222222222222,
              "#7201a8"
             ],
             [
              0.3333333333333333,
              "#9c179e"
             ],
             [
              0.4444444444444444,
              "#bd3786"
             ],
             [
              0.5555555555555556,
              "#d8576b"
             ],
             [
              0.6666666666666666,
              "#ed7953"
             ],
             [
              0.7777777777777778,
              "#fb9f3a"
             ],
             [
              0.8888888888888888,
              "#fdca26"
             ],
             [
              1,
              "#f0f921"
             ]
            ],
            "type": "surface"
           }
          ],
          "table": [
           {
            "cells": {
             "fill": {
              "color": "#EBF0F8"
             },
             "line": {
              "color": "white"
             }
            },
            "header": {
             "fill": {
              "color": "#C8D4E3"
             },
             "line": {
              "color": "white"
             }
            },
            "type": "table"
           }
          ]
         },
         "layout": {
          "annotationdefaults": {
           "arrowcolor": "#2a3f5f",
           "arrowhead": 0,
           "arrowwidth": 1
          },
          "autotypenumbers": "strict",
          "coloraxis": {
           "colorbar": {
            "outlinewidth": 0,
            "ticks": ""
           }
          },
          "colorscale": {
           "diverging": [
            [
             0,
             "#8e0152"
            ],
            [
             0.1,
             "#c51b7d"
            ],
            [
             0.2,
             "#de77ae"
            ],
            [
             0.3,
             "#f1b6da"
            ],
            [
             0.4,
             "#fde0ef"
            ],
            [
             0.5,
             "#f7f7f7"
            ],
            [
             0.6,
             "#e6f5d0"
            ],
            [
             0.7,
             "#b8e186"
            ],
            [
             0.8,
             "#7fbc41"
            ],
            [
             0.9,
             "#4d9221"
            ],
            [
             1,
             "#276419"
            ]
           ],
           "sequential": [
            [
             0,
             "#0d0887"
            ],
            [
             0.1111111111111111,
             "#46039f"
            ],
            [
             0.2222222222222222,
             "#7201a8"
            ],
            [
             0.3333333333333333,
             "#9c179e"
            ],
            [
             0.4444444444444444,
             "#bd3786"
            ],
            [
             0.5555555555555556,
             "#d8576b"
            ],
            [
             0.6666666666666666,
             "#ed7953"
            ],
            [
             0.7777777777777778,
             "#fb9f3a"
            ],
            [
             0.8888888888888888,
             "#fdca26"
            ],
            [
             1,
             "#f0f921"
            ]
           ],
           "sequentialminus": [
            [
             0,
             "#0d0887"
            ],
            [
             0.1111111111111111,
             "#46039f"
            ],
            [
             0.2222222222222222,
             "#7201a8"
            ],
            [
             0.3333333333333333,
             "#9c179e"
            ],
            [
             0.4444444444444444,
             "#bd3786"
            ],
            [
             0.5555555555555556,
             "#d8576b"
            ],
            [
             0.6666666666666666,
             "#ed7953"
            ],
            [
             0.7777777777777778,
             "#fb9f3a"
            ],
            [
             0.8888888888888888,
             "#fdca26"
            ],
            [
             1,
             "#f0f921"
            ]
           ]
          },
          "colorway": [
           "#636efa",
           "#EF553B",
           "#00cc96",
           "#ab63fa",
           "#FFA15A",
           "#19d3f3",
           "#FF6692",
           "#B6E880",
           "#FF97FF",
           "#FECB52"
          ],
          "font": {
           "color": "#2a3f5f"
          },
          "geo": {
           "bgcolor": "white",
           "lakecolor": "white",
           "landcolor": "white",
           "showlakes": true,
           "showland": true,
           "subunitcolor": "#C8D4E3"
          },
          "hoverlabel": {
           "align": "left"
          },
          "hovermode": "closest",
          "mapbox": {
           "style": "light"
          },
          "paper_bgcolor": "white",
          "plot_bgcolor": "white",
          "polar": {
           "angularaxis": {
            "gridcolor": "#EBF0F8",
            "linecolor": "#EBF0F8",
            "ticks": ""
           },
           "bgcolor": "white",
           "radialaxis": {
            "gridcolor": "#EBF0F8",
            "linecolor": "#EBF0F8",
            "ticks": ""
           }
          },
          "scene": {
           "xaxis": {
            "backgroundcolor": "white",
            "gridcolor": "#DFE8F3",
            "gridwidth": 2,
            "linecolor": "#EBF0F8",
            "showbackground": true,
            "ticks": "",
            "zerolinecolor": "#EBF0F8"
           },
           "yaxis": {
            "backgroundcolor": "white",
            "gridcolor": "#DFE8F3",
            "gridwidth": 2,
            "linecolor": "#EBF0F8",
            "showbackground": true,
            "ticks": "",
            "zerolinecolor": "#EBF0F8"
           },
           "zaxis": {
            "backgroundcolor": "white",
            "gridcolor": "#DFE8F3",
            "gridwidth": 2,
            "linecolor": "#EBF0F8",
            "showbackground": true,
            "ticks": "",
            "zerolinecolor": "#EBF0F8"
           }
          },
          "shapedefaults": {
           "line": {
            "color": "#2a3f5f"
           }
          },
          "ternary": {
           "aaxis": {
            "gridcolor": "#DFE8F3",
            "linecolor": "#A2B1C6",
            "ticks": ""
           },
           "baxis": {
            "gridcolor": "#DFE8F3",
            "linecolor": "#A2B1C6",
            "ticks": ""
           },
           "bgcolor": "white",
           "caxis": {
            "gridcolor": "#DFE8F3",
            "linecolor": "#A2B1C6",
            "ticks": ""
           }
          },
          "title": {
           "x": 0.05
          },
          "xaxis": {
           "automargin": true,
           "gridcolor": "#EBF0F8",
           "linecolor": "#EBF0F8",
           "ticks": "",
           "title": {
            "standoff": 15
           },
           "zerolinecolor": "#EBF0F8",
           "zerolinewidth": 2
          },
          "yaxis": {
           "automargin": true,
           "gridcolor": "#EBF0F8",
           "linecolor": "#EBF0F8",
           "ticks": "",
           "title": {
            "standoff": 15
           },
           "zerolinecolor": "#EBF0F8",
           "zerolinewidth": 2
          }
         }
        },
        "xaxis": {
         "title": {
          "text": "Beta"
         }
        },
        "yaxis": {
         "tickformat": ".1%",
         "title": {
          "text": "Risk Premium (Annualized)"
         }
        }
       }
      }
     },
     "metadata": {},
     "output_type": "display_data"
    }
   ],
   "source": [
    "import plotly.express as px\n",
    "import plotly.graph_objects as go\n",
    "\n",
    "fig1 = px.scatter(\n",
    "    d2, x=\"beta\", y=\"empirical rprem\", hover_name=\"industry\", trendline=\"ols\",\n",
    ")\n",
    "fig1.update_traces(\n",
    "    marker=dict(size=12, line=dict(width=2, color=\"DarkSlateGrey\")),\n",
    "    selector=dict(mode=\"markers\"),\n",
    ")\n",
    "\n",
    "fig2 = px.scatter(d2, x=\"beta\", y=\"theoretical rprem\", hover_name=\"industry\")\n",
    "fig2.update_traces(\n",
    "    marker=dict(size=12, color='green', line=dict(width=2, color=\"DarkSlateGrey\")),\n",
    "    selector=dict(mode=\"markers\"),\n",
    ")\n",
    "\n",
    "fig = go.Figure(data=fig1.data + fig2.data)\n",
    "\n",
    "fig.update_layout(\n",
    "    xaxis_title=\"Beta\",\n",
    "    yaxis_title=\"Risk Premium (Annualized)\",\n",
    "    yaxis_tickformat=\".1%\",\n",
    "    template=\"plotly_white\"\n",
    ")\n",
    "fig.show()"
   ]
  },
  {
   "cell_type": "code",
   "execution_count": null,
   "metadata": {},
   "outputs": [],
   "source": []
  }
 ],
 "metadata": {
  "colab": {
   "collapsed_sections": [],
   "include_colab_link": true,
   "name": "security market line for industry returns.ipynb",
   "provenance": []
  },
  "kernelspec": {
   "display_name": "Python 3",
   "name": "python3"
  },
  "language_info": {
   "codemirror_mode": {
    "name": "ipython",
    "version": 3
   },
   "file_extension": ".py",
   "mimetype": "text/x-python",
   "name": "python",
   "nbconvert_exporter": "python",
   "pygments_lexer": "ipython3",
   "version": "3.10.8"
  }
 },
 "nbformat": 4,
 "nbformat_minor": 0
}