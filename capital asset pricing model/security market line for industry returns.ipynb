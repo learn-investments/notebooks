{
  "nbformat": 4,
  "nbformat_minor": 0,
  "metadata": {
    "colab": {
      "name": "sml_industries.ipynb",
      "provenance": [],
      "collapsed_sections": [],
      "include_colab_link": true
    },
    "kernelspec": {
      "name": "python3",
      "display_name": "Python 3"
    },
    "language_info": {
      "name": "python"
    }
  },
  "cells": [
    {
      "cell_type": "markdown",
      "metadata": {
        "id": "view-in-github",
        "colab_type": "text"
      },
      "source": [
        "<a href=\"https://colab.research.google.com/github/bbcx-investments/notebooks/blob/main/capm/sml_industries.ipynb\" target=\"_parent\"><img src=\"https://colab.research.google.com/assets/colab-badge.svg\" alt=\"Open In Colab\"/></a>"
      ]
    },
    {
      "cell_type": "code",
      "execution_count": null,
      "metadata": {
        "colab": {
          "base_uri": "https://localhost:8080/",
          "height": 297
        },
        "id": "A8dspX1PggcA",
        "outputId": "08a1a925-6a59-4f7e-8e8c-5b627eb28952"
      },
      "outputs": [
        {
          "output_type": "execute_result",
          "data": {
            "text/plain": [
              "<matplotlib.axes._subplots.AxesSubplot at 0x7f2d1766ab90>"
            ]
          },
          "metadata": {},
          "execution_count": 1
        },
        {
          "output_type": "display_data",
          "data": {
            "text/plain": [
              "<Figure size 432x288 with 1 Axes>"
            ],
            "image/png": "[encoded data removed]"
          },
          "metadata": {}
        }
      ],
      "source": [
        "import warnings\n",
        "warnings.simplefilter(action='ignore', category=FutureWarning)\n",
        "\n",
        "import numpy as np\n",
        "import pandas as pd\n",
        "import statsmodels.api as sm\n",
        "import seaborn as sns\n",
        "sns.set_style('whitegrid')\n",
        "from pandas_datareader import DataReader as pdr\n",
        "\n",
        "# get monthly market excess return, risk-free rate, and value-weighted industry returns\n",
        "ff = pdr('F-F_Research_Data_Factors','famafrench',start=1970)[0] \n",
        "df = pdr('48_Industry_Portfolios','famafrench',start=1970)[0] \n",
        "inds = df.columns\n",
        "\n",
        "# merge with market excess return and risk-free rate\n",
        "df = df.join(ff,how='inner')\n",
        "\n",
        "# compute excess industry returns\n",
        "df[inds] = df[inds].subtract(df.RF,axis='index')\n",
        "\n",
        "# example start date\n",
        "start = 1980\n",
        "\n",
        "# compute anualized industry mean excess returns\n",
        "d1 = df.loc[str(start)+'-01':]\n",
        "d2 = pd.DataFrame(dtype=float,index=inds,columns=['rprem','beta'])\n",
        "d2['rprem'] = 12*d1[inds].mean()\n",
        "\n",
        "# run regressions to compute industry betas\n",
        "X = sm.add_constant(d1['Mkt-RF'])\n",
        "for ind in inds :\n",
        "  d2.loc[ind,'beta'] = sm.OLS(d1[ind],X).fit().params['Mkt-RF']\n",
        "\n",
        "# plot mean excess returns against betas\n",
        "sns.regplot(data=d2,x='beta',y='rprem',ci=None)"
      ]
    },
    {
      "cell_type": "code",
      "source": [
        ""
      ],
      "metadata": {
        "id": "33lBTAbghiJn"
      },
      "execution_count": null,
      "outputs": []
    }
  ]
}