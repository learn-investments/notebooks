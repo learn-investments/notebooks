{
 "cells": [
  {
   "cell_type": "markdown",
   "metadata": {},
   "source": [
    "---\n",
    "\n",
    "Created for [learn-investments.rice-business.org](https://learn-investments.rice-business.org)\n",
    "    \n",
    "By [Kerry Back](https://kerryback.com) and [Kevin Crotty](https://kpcrotty.github.io/)\n",
    "    \n",
    "Jones Graduate School of Business, Rice University\n",
    "\n",
    "---\n"
   ]
  },
  {
   "cell_type": "markdown",
   "metadata": {},
   "source": [
    "# EXAMPLE DATA"
   ]
  },
  {
   "cell_type": "code",
   "execution_count": 1,
   "metadata": {},
   "outputs": [],
   "source": [
    "# start and end years\n",
    "\n",
    "start_yr = 1980\n",
    "stop_yr  = 2022\n"
   ]
  },
  {
   "cell_type": "markdown",
   "metadata": {},
   "source": [
    "# GET DATA"
   ]
  },
  {
   "cell_type": "code",
   "execution_count": 2,
   "metadata": {},
   "outputs": [],
   "source": [
    "import pandas as pd\n",
    "import yfinance as yf\n",
    "from pandas_datareader import DataReader as pdr\n",
    "import statsmodels.api as sm\n",
    "import warnings\n",
    "warnings.simplefilter(action='ignore', category=FutureWarning)\n",
    "\n",
    "start = str(start_yr) + \"-01\"\n",
    "stop  = str(stop_yr) + \"-12\"\n",
    "\n",
    "# get monthly market excess return, risk-free rate, and value-weighted industry returns\n",
    "ff = pdr('F-F_Research_Data_Factors','famafrench',start=1970)[0] \n",
    "df = pdr('48_Industry_Portfolios','famafrench',start=1970)[0] \n",
    "inds = df.columns\n",
    "\n",
    "# merge with market excess return and risk-free rate\n",
    "df = df.join(ff,how='inner')\n",
    "\n",
    "# compute excess industry returns\n",
    "df[inds] = df[inds].subtract(df.RF,axis='index')"
   ]
  },
  {
   "cell_type": "markdown",
   "metadata": {},
   "source": [
    "# CALCULATIONS"
   ]
  },
  {
   "cell_type": "code",
   "execution_count": 3,
   "metadata": {},
   "outputs": [],
   "source": [
    "# compute anualized industry mean excess returns\n",
    "d1 = df.loc[start:stop]\n",
    "d2 = pd.DataFrame(dtype=float,index=inds,columns=['rprem','beta'])\n",
    "d2['rprem'] = 12*d1[inds].mean()\n",
    "\n",
    "# run regressions to compute industry betas\n",
    "X = sm.add_constant(d1[\"Mkt-RF\"])\n",
    "def beta(y):\n",
    "    return sm.OLS(y, X).fit().params[\"Mkt-RF\"]\n",
    "betas = d1[inds].apply(beta)\n",
    "\n",
    "# calculate empirical and theoretical risk premia\n",
    "d2 = pd.DataFrame(\n",
    "    dtype=float,\n",
    "    index=inds,\n",
    "    columns=[\"beta\", \"empirical rprem\", \"theoretical rprem\"],\n",
    ")\n",
    "d2.index.name = \"industry\"\n",
    "d2[\"beta\"] = betas\n",
    "d2[\"empirical rprem\"] = 12 * d1[inds].mean() / 100 \n",
    "d2[\"theoretical rprem\"] = 12 * betas * d1[\"Mkt-RF\"].mean() / 100 \n",
    "d2 = d2.reset_index()"
   ]
  },
  {
   "cell_type": "markdown",
   "metadata": {},
   "source": [
    "# FIGURE"
   ]
  },
  {
   "cell_type": "code",
   "execution_count": 4,
   "metadata": {
    "id": "33lBTAbghiJn"
   },
   "outputs": [
    {
     "data": {
      "application/vnd.plotly.v1+json": {
       "config": {
        "plotlyServerURL": "https://plot.ly"
       },
       "data": [
        {
         "hovertemplate": "<b>%{hovertext}</b><br><br>beta=%{x}<br>empirical rprem=%{y}<extra></extra>",
         "hovertext": [
          "Agric",
          "Food ",
          "Soda ",
          "Beer ",
          "Smoke",
          "Toys ",
          "Fun  ",
          "Books",
          "Hshld",
          "Clths",
          "Hlth ",
          "MedEq",
          "Drugs",
          "Chems",
          "Rubbr",
          "Txtls",
          "BldMt",
          "Cnstr",
          "Steel",
          "FabPr",
          "Mach ",
          "ElcEq",
          "Autos",
          "Aero ",
          "Ships",
          "Guns ",
          "Gold ",
          "Mines",
          "Coal ",
          "Oil  ",
          "Util ",
          "Telcm",
          "PerSv",
          "BusSv",
          "Comps",
          "Chips",
          "LabEq",
          "Paper",
          "Boxes",
          "Trans",
          "Whlsl",
          "Rtail",
          "Meals",
          "Banks",
          "Insur",
          "RlEst",
          "Fin  ",
          "Other"
         ],
         "legendgroup": "",
         "marker": {
          "color": "#636efa",
          "line": {
           "color": "DarkSlateGrey",
           "width": 2
          },
          "size": 12,
          "symbol": "circle"
         },
         "mode": "markers",
         "name": "",
         "orientation": "v",
         "showlegend": false,
         "type": "scatter",
         "x": [
          0.7957593049300767,
          0.5901020668255703,
          0.7130191723427819,
          0.6336949407380893,
          0.622393806350047,
          1.111954436668365,
          1.2980674208102816,
          1.0642792374046528,
          0.690358832063545,
          1.0739848826227245,
          0.9545662387463735,
          0.8791030784057035,
          0.7212886542119972,
          1.0654155402887215,
          1.0442076857934808,
          1.1623130131359263,
          1.184331280550944,
          1.2608967645649554,
          1.4283750865067768,
          1.0831527726589556,
          1.2539231038577134,
          1.2476402117958636,
          1.3184368018660102,
          1.0750827352622212,
          1.1057559916609363,
          0.7052979362030511,
          0.5375440016450906,
          1.158416913755321,
          1.1282854457412639,
          0.8796053471557618,
          0.45639038485270844,
          0.8345411079892121,
          1.0045824152245197,
          1.2395658617544278,
          1.2580063396649994,
          1.386053435533802,
          1.2217442394602758,
          0.9418193091990205,
          0.9456398705785083,
          1.0348621963109266,
          0.9911047527017709,
          0.9640769606829751,
          0.8832522813476975,
          1.0665336588208008,
          0.8890400799309788,
          1.1503272341436817,
          1.250734536657418,
          1.0399540803631822
         ],
         "xaxis": "x",
         "y": [
          0.09190465116279072,
          0.10178372093023257,
          0.11023023255813953,
          0.11976744186046512,
          0.13467906976744182,
          0.06030930232558141,
          0.11273953488372093,
          0.07245348837209303,
          0.08214883720930231,
          0.0990906976744186,
          0.08107906976744186,
          0.10084418604651163,
          0.10445813953488373,
          0.08683023255813954,
          0.09476046511627906,
          0.08176976744186046,
          0.09331860465116279,
          0.08871860465116278,
          0.0663046511627907,
          0.05246511627906977,
          0.08746046511627906,
          0.10673255813953487,
          0.09379767441860463,
          0.10434651162790697,
          0.08737906976744188,
          0.11221627906976744,
          0.05488372093023257,
          0.07937209302325582,
          0.07523488372093023,
          0.09013488372093023,
          0.07691162790697675,
          0.0716906976744186,
          0.0608139534883721,
          0.1101767441860465,
          0.08286744186046512,
          0.11232790697674419,
          0.10087209302325582,
          0.06983953488372091,
          0.09196744186046513,
          0.087,
          0.0833558139534884,
          0.10834186046511629,
          0.10144418604651165,
          0.08911860465116281,
          0.09805348837209302,
          0.04459767441860465,
          0.1101325581395349,
          0.048944186046511635
         ],
         "yaxis": "y"
        },
        {
         "hovertemplate": "<b>OLS trendline</b><br>empirical rprem = -0.00858394 * beta + 0.0977222<br>R<sup>2</sup>=0.010566<br><br>beta=%{x}<br>empirical rprem=%{y} <b>(trend)</b><extra></extra>",
         "legendgroup": "",
         "marker": {
          "color": "#636efa",
          "symbol": "circle"
         },
         "mode": "lines",
         "name": "",
         "showlegend": false,
         "type": "scatter",
         "x": [
          0.45639038485270844,
          0.5375440016450906,
          0.5901020668255703,
          0.622393806350047,
          0.6336949407380893,
          0.690358832063545,
          0.7052979362030511,
          0.7130191723427819,
          0.7212886542119972,
          0.7957593049300767,
          0.8345411079892121,
          0.8791030784057035,
          0.8796053471557618,
          0.8832522813476975,
          0.8890400799309788,
          0.9418193091990205,
          0.9456398705785083,
          0.9545662387463735,
          0.9640769606829751,
          0.9911047527017709,
          1.0045824152245197,
          1.0348621963109266,
          1.0399540803631822,
          1.0442076857934808,
          1.0642792374046528,
          1.0654155402887215,
          1.0665336588208008,
          1.0739848826227245,
          1.0750827352622212,
          1.0831527726589556,
          1.1057559916609363,
          1.111954436668365,
          1.1282854457412639,
          1.1503272341436817,
          1.158416913755321,
          1.1623130131359263,
          1.184331280550944,
          1.2217442394602758,
          1.2395658617544278,
          1.2476402117958636,
          1.250734536657418,
          1.2539231038577134,
          1.2580063396649994,
          1.2608967645649554,
          1.2980674208102816,
          1.3184368018660102,
          1.386053435533802,
          1.4283750865067768
         ],
         "xaxis": "x",
         "y": [
          0.09380454874787432,
          0.09310793100410308,
          0.09265677574781087,
          0.09237958540658998,
          0.09228257715174419,
          0.09179617773187086,
          0.091667941364461,
          0.09160166273990451,
          0.09153067800712757,
          0.09089142644039673,
          0.09055852578588183,
          0.09017600852397156,
          0.09017169707936488,
          0.09014039201658539,
          0.09009070990320771,
          0.08963765618774917,
          0.08960486071968116,
          0.08952823731460141,
          0.08944659785207368,
          0.08921459291822803,
          0.08909890147736561,
          0.08883898166582765,
          0.08879527324074166,
          0.0887587605487032,
          0.08858646756226572,
          0.08857671360695692,
          0.08856711574502701,
          0.08850315489006585,
          0.08849373098933354,
          0.08842445827585924,
          0.08823043360948596,
          0.08817722653201199,
          0.08803704213674375,
          0.08784783675671913,
          0.08777839543565873,
          0.08774495155395264,
          0.08755594807666287,
          0.08723479749763322,
          0.08708181776852691,
          0.08701250803557103,
          0.08698594653789846,
          0.08695857606968366,
          0.0869235258201965,
          0.08689871458747599,
          0.0865796439198758,
          0.08640479438347916,
          0.08582437728503278,
          0.08546109078988012
         ],
         "yaxis": "y"
        },
        {
         "hovertemplate": "<b>%{hovertext}</b><br><br>beta=%{x}<br>theoretical rprem=%{y}<extra></extra>",
         "hovertext": [
          "Agric",
          "Food ",
          "Soda ",
          "Beer ",
          "Smoke",
          "Toys ",
          "Fun  ",
          "Books",
          "Hshld",
          "Clths",
          "Hlth ",
          "MedEq",
          "Drugs",
          "Chems",
          "Rubbr",
          "Txtls",
          "BldMt",
          "Cnstr",
          "Steel",
          "FabPr",
          "Mach ",
          "ElcEq",
          "Autos",
          "Aero ",
          "Ships",
          "Guns ",
          "Gold ",
          "Mines",
          "Coal ",
          "Oil  ",
          "Util ",
          "Telcm",
          "PerSv",
          "BusSv",
          "Comps",
          "Chips",
          "LabEq",
          "Paper",
          "Boxes",
          "Trans",
          "Whlsl",
          "Rtail",
          "Meals",
          "Banks",
          "Insur",
          "RlEst",
          "Fin  ",
          "Other"
         ],
         "legendgroup": "",
         "marker": {
          "color": "green",
          "line": {
           "color": "DarkSlateGrey",
           "width": 2
          },
          "size": 12,
          "symbol": "circle"
         },
         "mode": "markers",
         "name": "",
         "orientation": "v",
         "showlegend": false,
         "type": "scatter",
         "x": [
          0.7957593049300767,
          0.5901020668255703,
          0.7130191723427819,
          0.6336949407380893,
          0.622393806350047,
          1.111954436668365,
          1.2980674208102816,
          1.0642792374046528,
          0.690358832063545,
          1.0739848826227245,
          0.9545662387463735,
          0.8791030784057035,
          0.7212886542119972,
          1.0654155402887215,
          1.0442076857934808,
          1.1623130131359263,
          1.184331280550944,
          1.2608967645649554,
          1.4283750865067768,
          1.0831527726589556,
          1.2539231038577134,
          1.2476402117958636,
          1.3184368018660102,
          1.0750827352622212,
          1.1057559916609363,
          0.7052979362030511,
          0.5375440016450906,
          1.158416913755321,
          1.1282854457412639,
          0.8796053471557618,
          0.45639038485270844,
          0.8345411079892121,
          1.0045824152245197,
          1.2395658617544278,
          1.2580063396649994,
          1.386053435533802,
          1.2217442394602758,
          0.9418193091990205,
          0.9456398705785083,
          1.0348621963109266,
          0.9911047527017709,
          0.9640769606829751,
          0.8832522813476975,
          1.0665336588208008,
          0.8890400799309788,
          1.1503272341436817,
          1.250734536657418,
          1.0399540803631822
         ],
         "xaxis": "x",
         "y": [
          0.06501908702189145,
          0.048215455850813,
          0.05825864093277047,
          0.05177729778579542,
          0.05085391626116873,
          0.0908544352974566,
          0.10606116456453125,
          0.08695903889994204,
          0.05640713303655952,
          0.08775205782806235,
          0.0779947214700351,
          0.07182885478303719,
          0.05893431529554492,
          0.08705188277326499,
          0.08531905309922827,
          0.09496908233376196,
          0.09676812839738808,
          0.10302406261912825,
          0.11670820997518395,
          0.08850113840604594,
          0.10245426588589979,
          0.101940909770316,
          0.10772548510874515,
          0.08784176004814626,
          0.09034797909538451,
          0.05762776207106513,
          0.043921095241392136,
          0.09465074383227781,
          0.09218879267598505,
          0.07186989364411754,
          0.03729027856143037,
          0.06818783090254182,
          0.0820813920383681,
          0.10128117903925599,
          0.10278789473904673,
          0.11325023582335955,
          0.09982502816092405,
          0.07695320839394974,
          0.0772653749137333,
          0.08455546140741418,
          0.08098017298005587,
          0.07877181380612942,
          0.0721678736113256,
          0.08714324085816283,
          0.0726407771355698,
          0.09398976056838167,
          0.10219373769981799,
          0.08497150385925593
         ],
         "yaxis": "y"
        }
       ],
       "layout": {
        "template": {
         "data": {
          "bar": [
           {
            "error_x": {
             "color": "#2a3f5f"
            },
            "error_y": {
             "color": "#2a3f5f"
            },
            "marker": {
             "line": {
              "color": "#E5ECF6",
              "width": 0.5
             },
             "pattern": {
              "fillmode": "overlay",
              "size": 10,
              "solidity": 0.2
             }
            },
            "type": "bar"
           }
          ],
          "barpolar": [
           {
            "marker": {
             "line": {
              "color": "#E5ECF6",
              "width": 0.5
             },
             "pattern": {
              "fillmode": "overlay",
              "size": 10,
              "solidity": 0.2
             }
            },
            "type": "barpolar"
           }
          ],
          "carpet": [
           {
            "aaxis": {
             "endlinecolor": "#2a3f5f",
             "gridcolor": "white",
             "linecolor": "white",
             "minorgridcolor": "white",
             "startlinecolor": "#2a3f5f"
            },
            "baxis": {
             "endlinecolor": "#2a3f5f",
             "gridcolor": "white",
             "linecolor": "white",
             "minorgridcolor": "white",
             "startlinecolor": "#2a3f5f"
            },
            "type": "carpet"
           }
          ],
          "choropleth": [
           {
            "colorbar": {
             "outlinewidth": 0,
             "ticks": ""
            },
            "type": "choropleth"
           }
          ],
          "contour": [
           {
            "colorbar": {
             "outlinewidth": 0,
             "ticks": ""
            },
            "colorscale": [
             [
              0,
              "#0d0887"
             ],
             [
              0.1111111111111111,
              "#46039f"
             ],
             [
              0.2222222222222222,
              "#7201a8"
             ],
             [
              0.3333333333333333,
              "#9c179e"
             ],
             [
              0.4444444444444444,
              "#bd3786"
             ],
             [
              0.5555555555555556,
              "#d8576b"
             ],
             [
              0.6666666666666666,
              "#ed7953"
             ],
             [
              0.7777777777777778,
              "#fb9f3a"
             ],
             [
              0.8888888888888888,
              "#fdca26"
             ],
             [
              1,
              "#f0f921"
             ]
            ],
            "type": "contour"
           }
          ],
          "contourcarpet": [
           {
            "colorbar": {
             "outlinewidth": 0,
             "ticks": ""
            },
            "type": "contourcarpet"
           }
          ],
          "heatmap": [
           {
            "colorbar": {
             "outlinewidth": 0,
             "ticks": ""
            },
            "colorscale": [
             [
              0,
              "#0d0887"
             ],
             [
              0.1111111111111111,
              "#46039f"
             ],
             [
              0.2222222222222222,
              "#7201a8"
             ],
             [
              0.3333333333333333,
              "#9c179e"
             ],
             [
              0.4444444444444444,
              "#bd3786"
             ],
             [
              0.5555555555555556,
              "#d8576b"
             ],
             [
              0.6666666666666666,
              "#ed7953"
             ],
             [
              0.7777777777777778,
              "#fb9f3a"
             ],
             [
              0.8888888888888888,
              "#fdca26"
             ],
             [
              1,
              "#f0f921"
             ]
            ],
            "type": "heatmap"
           }
          ],
          "heatmapgl": [
           {
            "colorbar": {
             "outlinewidth": 0,
             "ticks": ""
            },
            "colorscale": [
             [
              0,
              "#0d0887"
             ],
             [
              0.1111111111111111,
              "#46039f"
             ],
             [
              0.2222222222222222,
              "#7201a8"
             ],
             [
              0.3333333333333333,
              "#9c179e"
             ],
             [
              0.4444444444444444,
              "#bd3786"
             ],
             [
              0.5555555555555556,
              "#d8576b"
             ],
             [
              0.6666666666666666,
              "#ed7953"
             ],
             [
              0.7777777777777778,
              "#fb9f3a"
             ],
             [
              0.8888888888888888,
              "#fdca26"
             ],
             [
              1,
              "#f0f921"
             ]
            ],
            "type": "heatmapgl"
           }
          ],
          "histogram": [
           {
            "marker": {
             "pattern": {
              "fillmode": "overlay",
              "size": 10,
              "solidity": 0.2
             }
            },
            "type": "histogram"
           }
          ],
          "histogram2d": [
           {
            "colorbar": {
             "outlinewidth": 0,
             "ticks": ""
            },
            "colorscale": [
             [
              0,
              "#0d0887"
             ],
             [
              0.1111111111111111,
              "#46039f"
             ],
             [
              0.2222222222222222,
              "#7201a8"
             ],
             [
              0.3333333333333333,
              "#9c179e"
             ],
             [
              0.4444444444444444,
              "#bd3786"
             ],
             [
              0.5555555555555556,
              "#d8576b"
             ],
             [
              0.6666666666666666,
              "#ed7953"
             ],
             [
              0.7777777777777778,
              "#fb9f3a"
             ],
             [
              0.8888888888888888,
              "#fdca26"
             ],
             [
              1,
              "#f0f921"
             ]
            ],
            "type": "histogram2d"
           }
          ],
          "histogram2dcontour": [
           {
            "colorbar": {
             "outlinewidth": 0,
             "ticks": ""
            },
            "colorscale": [
             [
              0,
              "#0d0887"
             ],
             [
              0.1111111111111111,
              "#46039f"
             ],
             [
              0.2222222222222222,
              "#7201a8"
             ],
             [
              0.3333333333333333,
              "#9c179e"
             ],
             [
              0.4444444444444444,
              "#bd3786"
             ],
             [
              0.5555555555555556,
              "#d8576b"
             ],
             [
              0.6666666666666666,
              "#ed7953"
             ],
             [
              0.7777777777777778,
              "#fb9f3a"
             ],
             [
              0.8888888888888888,
              "#fdca26"
             ],
             [
              1,
              "#f0f921"
             ]
            ],
            "type": "histogram2dcontour"
           }
          ],
          "mesh3d": [
           {
            "colorbar": {
             "outlinewidth": 0,
             "ticks": ""
            },
            "type": "mesh3d"
           }
          ],
          "parcoords": [
           {
            "line": {
             "colorbar": {
              "outlinewidth": 0,
              "ticks": ""
             }
            },
            "type": "parcoords"
           }
          ],
          "pie": [
           {
            "automargin": true,
            "type": "pie"
           }
          ],
          "scatter": [
           {
            "fillpattern": {
             "fillmode": "overlay",
             "size": 10,
             "solidity": 0.2
            },
            "type": "scatter"
           }
          ],
          "scatter3d": [
           {
            "line": {
             "colorbar": {
              "outlinewidth": 0,
              "ticks": ""
             }
            },
            "marker": {
             "colorbar": {
              "outlinewidth": 0,
              "ticks": ""
             }
            },
            "type": "scatter3d"
           }
          ],
          "scattercarpet": [
           {
            "marker": {
             "colorbar": {
              "outlinewidth": 0,
              "ticks": ""
             }
            },
            "type": "scattercarpet"
           }
          ],
          "scattergeo": [
           {
            "marker": {
             "colorbar": {
              "outlinewidth": 0,
              "ticks": ""
             }
            },
            "type": "scattergeo"
           }
          ],
          "scattergl": [
           {
            "marker": {
             "colorbar": {
              "outlinewidth": 0,
              "ticks": ""
             }
            },
            "type": "scattergl"
           }
          ],
          "scattermapbox": [
           {
            "marker": {
             "colorbar": {
              "outlinewidth": 0,
              "ticks": ""
             }
            },
            "type": "scattermapbox"
           }
          ],
          "scatterpolar": [
           {
            "marker": {
             "colorbar": {
              "outlinewidth": 0,
              "ticks": ""
             }
            },
            "type": "scatterpolar"
           }
          ],
          "scatterpolargl": [
           {
            "marker": {
             "colorbar": {
              "outlinewidth": 0,
              "ticks": ""
             }
            },
            "type": "scatterpolargl"
           }
          ],
          "scatterternary": [
           {
            "marker": {
             "colorbar": {
              "outlinewidth": 0,
              "ticks": ""
             }
            },
            "type": "scatterternary"
           }
          ],
          "surface": [
           {
            "colorbar": {
             "outlinewidth": 0,
             "ticks": ""
            },
            "colorscale": [
             [
              0,
              "#0d0887"
             ],
             [
              0.1111111111111111,
              "#46039f"
             ],
             [
              0.2222222222222222,
              "#7201a8"
             ],
             [
              0.3333333333333333,
              "#9c179e"
             ],
             [
              0.4444444444444444,
              "#bd3786"
             ],
             [
              0.5555555555555556,
              "#d8576b"
             ],
             [
              0.6666666666666666,
              "#ed7953"
             ],
             [
              0.7777777777777778,
              "#fb9f3a"
             ],
             [
              0.8888888888888888,
              "#fdca26"
             ],
             [
              1,
              "#f0f921"
             ]
            ],
            "type": "surface"
           }
          ],
          "table": [
           {
            "cells": {
             "fill": {
              "color": "#EBF0F8"
             },
             "line": {
              "color": "white"
             }
            },
            "header": {
             "fill": {
              "color": "#C8D4E3"
             },
             "line": {
              "color": "white"
             }
            },
            "type": "table"
           }
          ]
         },
         "layout": {
          "annotationdefaults": {
           "arrowcolor": "#2a3f5f",
           "arrowhead": 0,
           "arrowwidth": 1
          },
          "autotypenumbers": "strict",
          "coloraxis": {
           "colorbar": {
            "outlinewidth": 0,
            "ticks": ""
           }
          },
          "colorscale": {
           "diverging": [
            [
             0,
             "#8e0152"
            ],
            [
             0.1,
             "#c51b7d"
            ],
            [
             0.2,
             "#de77ae"
            ],
            [
             0.3,
             "#f1b6da"
            ],
            [
             0.4,
             "#fde0ef"
            ],
            [
             0.5,
             "#f7f7f7"
            ],
            [
             0.6,
             "#e6f5d0"
            ],
            [
             0.7,
             "#b8e186"
            ],
            [
             0.8,
             "#7fbc41"
            ],
            [
             0.9,
             "#4d9221"
            ],
            [
             1,
             "#276419"
            ]
           ],
           "sequential": [
            [
             0,
             "#0d0887"
            ],
            [
             0.1111111111111111,
             "#46039f"
            ],
            [
             0.2222222222222222,
             "#7201a8"
            ],
            [
             0.3333333333333333,
             "#9c179e"
            ],
            [
             0.4444444444444444,
             "#bd3786"
            ],
            [
             0.5555555555555556,
             "#d8576b"
            ],
            [
             0.6666666666666666,
             "#ed7953"
            ],
            [
             0.7777777777777778,
             "#fb9f3a"
            ],
            [
             0.8888888888888888,
             "#fdca26"
            ],
            [
             1,
             "#f0f921"
            ]
           ],
           "sequentialminus": [
            [
             0,
             "#0d0887"
            ],
            [
             0.1111111111111111,
             "#46039f"
            ],
            [
             0.2222222222222222,
             "#7201a8"
            ],
            [
             0.3333333333333333,
             "#9c179e"
            ],
            [
             0.4444444444444444,
             "#bd3786"
            ],
            [
             0.5555555555555556,
             "#d8576b"
            ],
            [
             0.6666666666666666,
             "#ed7953"
            ],
            [
             0.7777777777777778,
             "#fb9f3a"
            ],
            [
             0.8888888888888888,
             "#fdca26"
            ],
            [
             1,
             "#f0f921"
            ]
           ]
          },
          "colorway": [
           "#636efa",
           "#EF553B",
           "#00cc96",
           "#ab63fa",
           "#FFA15A",
           "#19d3f3",
           "#FF6692",
           "#B6E880",
           "#FF97FF",
           "#FECB52"
          ],
          "font": {
           "color": "#2a3f5f"
          },
          "geo": {
           "bgcolor": "white",
           "lakecolor": "white",
           "landcolor": "#E5ECF6",
           "showlakes": true,
           "showland": true,
           "subunitcolor": "white"
          },
          "hoverlabel": {
           "align": "left"
          },
          "hovermode": "closest",
          "mapbox": {
           "style": "light"
          },
          "paper_bgcolor": "white",
          "plot_bgcolor": "#E5ECF6",
          "polar": {
           "angularaxis": {
            "gridcolor": "white",
            "linecolor": "white",
            "ticks": ""
           },
           "bgcolor": "#E5ECF6",
           "radialaxis": {
            "gridcolor": "white",
            "linecolor": "white",
            "ticks": ""
           }
          },
          "scene": {
           "xaxis": {
            "backgroundcolor": "#E5ECF6",
            "gridcolor": "white",
            "gridwidth": 2,
            "linecolor": "white",
            "showbackground": true,
            "ticks": "",
            "zerolinecolor": "white"
           },
           "yaxis": {
            "backgroundcolor": "#E5ECF6",
            "gridcolor": "white",
            "gridwidth": 2,
            "linecolor": "white",
            "showbackground": true,
            "ticks": "",
            "zerolinecolor": "white"
           },
           "zaxis": {
            "backgroundcolor": "#E5ECF6",
            "gridcolor": "white",
            "gridwidth": 2,
            "linecolor": "white",
            "showbackground": true,
            "ticks": "",
            "zerolinecolor": "white"
           }
          },
          "shapedefaults": {
           "line": {
            "color": "#2a3f5f"
           }
          },
          "ternary": {
           "aaxis": {
            "gridcolor": "white",
            "linecolor": "white",
            "ticks": ""
           },
           "baxis": {
            "gridcolor": "white",
            "linecolor": "white",
            "ticks": ""
           },
           "bgcolor": "#E5ECF6",
           "caxis": {
            "gridcolor": "white",
            "linecolor": "white",
            "ticks": ""
           }
          },
          "title": {
           "x": 0.05
          },
          "xaxis": {
           "automargin": true,
           "gridcolor": "white",
           "linecolor": "white",
           "ticks": "",
           "title": {
            "standoff": 15
           },
           "zerolinecolor": "white",
           "zerolinewidth": 2
          },
          "yaxis": {
           "automargin": true,
           "gridcolor": "white",
           "linecolor": "white",
           "ticks": "",
           "title": {
            "standoff": 15
           },
           "zerolinecolor": "white",
           "zerolinewidth": 2
          }
         }
        },
        "xaxis": {
         "tickformat": ".2",
         "title": {
          "text": "Beta"
         }
        },
        "yaxis": {
         "tickformat": ".1%",
         "title": {
          "text": "Risk Premium (Annualized)"
         }
        }
       }
      }
     },
     "metadata": {},
     "output_type": "display_data"
    }
   ],
   "source": [
    "import plotly.express as px\n",
    "import plotly.graph_objects as go\n",
    "\n",
    "fig1 = px.scatter(\n",
    "    d2, x=\"beta\", y=\"empirical rprem\", hover_name=\"industry\", trendline=\"ols\",\n",
    ")\n",
    "fig1.update_traces(\n",
    "    marker=dict(size=12, line=dict(width=2, color=\"DarkSlateGrey\")),\n",
    "    selector=dict(mode=\"markers\"),\n",
    ")\n",
    "\n",
    "fig2 = px.scatter(d2, x=\"beta\", y=\"theoretical rprem\", hover_name=\"industry\")\n",
    "fig2.update_traces(\n",
    "    marker=dict(size=12, color='green', line=dict(width=2, color=\"DarkSlateGrey\")),\n",
    "    selector=dict(mode=\"markers\"),\n",
    ")\n",
    "fig = go.Figure(data=fig1.data + fig2.data)\n",
    "\n",
    "fig.layout.xaxis[\"title\"] = \"Beta\"\n",
    "fig.layout.yaxis[\"title\"] = \"Risk Premium (Annualized)\"\n",
    "fig.update_yaxes(tickformat=\".1%\")\n",
    "fig.update_xaxes(tickformat=\".2\")\n",
    "fig.show()"
   ]
  },
  {
   "cell_type": "code",
   "execution_count": null,
   "metadata": {},
   "outputs": [],
   "source": []
  }
 ],
 "metadata": {
  "colab": {
   "collapsed_sections": [],
   "include_colab_link": true,
   "name": "security market line for industry returns.ipynb",
   "provenance": []
  },
  "kernelspec": {
   "display_name": "Python 3",
   "name": "python3"
  },
  "language_info": {
   "codemirror_mode": {
    "name": "ipython",
    "version": 3
   },
   "file_extension": ".py",
   "mimetype": "text/x-python",
   "name": "python",
   "nbconvert_exporter": "python",
   "pygments_lexer": "ipython3",
   "version": "3.10.6"
  }
 },
 "nbformat": 4,
 "nbformat_minor": 0
}