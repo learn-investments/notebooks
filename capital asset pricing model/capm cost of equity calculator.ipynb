{
 "cells": [
  {
   "cell_type": "markdown",
   "metadata": {},
   "source": [
    "---\n",
    "\n",
    "Created for [learn-investments.rice-business.org](https://learn-investments.rice-business.org)\n",
    "    \n",
    "By [Kerry Back](https://kerryback.com) and [Kevin Crotty](https://kevin-crotty.com)\n",
    "    \n",
    "Jones Graduate School of Business, Rice University\n",
    "\n",
    "---\n"
   ]
  },
  {
   "cell_type": "markdown",
   "metadata": {},
   "source": [
    "# EXAMPLE TICKER"
   ]
  },
  {
   "cell_type": "code",
   "execution_count": 6,
   "metadata": {},
   "outputs": [],
   "source": [
    "ticker = \"IBM\""
   ]
  },
  {
   "cell_type": "markdown",
   "metadata": {},
   "source": [
    "# GET DATA"
   ]
  },
  {
   "cell_type": "code",
   "execution_count": 7,
   "metadata": {},
   "outputs": [
    {
     "name": "stderr",
     "output_type": "stream",
     "text": [
      "C:\\Users\\kerry\\AppData\\Local\\Temp\\ipykernel_24984\\2747595350.py:25: UserWarning: Converting to PeriodArray/Index representation will drop timezone information.\n",
      "  ret.index = ret.index.to_period('M')\n"
     ]
    }
   ],
   "source": [
    "import pandas as pd\n",
    "import yfinance as yf\n",
    "from pandas_datareader import DataReader as pdr\n",
    "import warnings\n",
    "warnings.simplefilter(action='ignore', category=FutureWarning)\n",
    "\n",
    "# get monthly market excess return and risk-free rate for past 60 months from French's data library\n",
    "ff = pdr('F-F_Research_Data_Factors','famafrench',start=2017)[0]\n",
    "ff = ff.iloc[-60:]\n",
    "\n",
    "# get mean annual market excess return since 1926 from French's data library\n",
    "mprem = pdr('F-F_Research_Data_Factors','famafrench',start=1926)[1]['Mkt-RF'].mean()\n",
    "\n",
    "# get current 3-month Treasury bill yield from FRED\n",
    "rf = pdr('DGS3MO','fred',start=2022).iloc[-1].item()\n",
    "\n",
    "# pull data from yahoo for ticker\n",
    "ticker = ticker.upper()\n",
    "ret = yf.download(ticker, start='2017-01-01', progress=False)['Adj Close']\n",
    "ret = ret.resample('M').last().pct_change()*100\n",
    "# ret.index = ret.index.to_period('M')\n",
    "ret.name = \"ret\"\n",
    "\n",
    "# merge with French data, reducing to 60 months in the process\n",
    "ret.index = ret.index.to_period('M')\n",
    "df = ff.join(ret,how='left')\n",
    "\n",
    "# compute excess returns for the ticker \n",
    "df['ret'] -= df.RF"
   ]
  },
  {
   "cell_type": "markdown",
   "metadata": {},
   "source": [
    "# RUN MARKET MODEL REGRESSION"
   ]
  },
  {
   "cell_type": "code",
   "execution_count": 8,
   "metadata": {},
   "outputs": [],
   "source": [
    "import statsmodels.api as sm\n",
    "\n",
    "# run regression of excess return on market excess return and get beta\n",
    "result = sm.OLS(df.ret,sm.add_constant(df['Mkt-RF'])).fit()\n",
    "beta = result.params['Mkt-RF']"
   ]
  },
  {
   "cell_type": "markdown",
   "metadata": {},
   "source": [
    "# CALCULATE COST OF EQUITY"
   ]
  },
  {
   "cell_type": "code",
   "execution_count": 9,
   "metadata": {},
   "outputs": [
    {
     "name": "stdout",
     "output_type": "stream",
     "text": [
      "Beta:\t\t\t0.80\n",
      "Market Risk Premium:\t8.55\n",
      "IBM Risk Premium:\t6.87\n",
      "Risk-free Rate:\t\t5.61\n",
      "IBM Cost of Equity:\t12.48\n"
     ]
    }
   ],
   "source": [
    "# compute cost of equity\n",
    "eret = rf + beta*mprem\n",
    "\n",
    "\n",
    "print(f'Beta:\\t\\t\\t{beta:.2f}')\n",
    "print(f'Market Risk Premium:\\t{mprem:.2f}')\n",
    "print(f'{ticker} Risk Premium:\\t{beta*mprem:.2f}')\n",
    "print(f'Risk-free Rate:\\t\\t{rf:.2f}')\n",
    "print(f'{ticker} Cost of Equity:\\t{eret:.2f}')"
   ]
  },
  {
   "cell_type": "markdown",
   "metadata": {},
   "source": [
    "# FIGURE"
   ]
  },
  {
   "cell_type": "code",
   "execution_count": 12,
   "metadata": {
    "id": "5dCLJ_BvUC_A"
   },
   "outputs": [
    {
     "data": {
      "application/vnd.plotly.v1+json": {
       "config": {
        "plotlyServerURL": "https://plot.ly"
       },
       "data": [
        {
         "customdata": [
          [
           "2018-08"
          ],
          [
           "2018-09"
          ],
          [
           "2018-10"
          ],
          [
           "2018-11"
          ],
          [
           "2018-12"
          ],
          [
           "2019-01"
          ],
          [
           "2019-02"
          ],
          [
           "2019-03"
          ],
          [
           "2019-04"
          ],
          [
           "2019-05"
          ],
          [
           "2019-06"
          ],
          [
           "2019-07"
          ],
          [
           "2019-08"
          ],
          [
           "2019-09"
          ],
          [
           "2019-10"
          ],
          [
           "2019-11"
          ],
          [
           "2019-12"
          ],
          [
           "2020-01"
          ],
          [
           "2020-02"
          ],
          [
           "2020-03"
          ],
          [
           "2020-04"
          ],
          [
           "2020-05"
          ],
          [
           "2020-06"
          ],
          [
           "2020-07"
          ],
          [
           "2020-08"
          ],
          [
           "2020-09"
          ],
          [
           "2020-10"
          ],
          [
           "2020-11"
          ],
          [
           "2020-12"
          ],
          [
           "2021-01"
          ],
          [
           "2021-02"
          ],
          [
           "2021-03"
          ],
          [
           "2021-04"
          ],
          [
           "2021-05"
          ],
          [
           "2021-06"
          ],
          [
           "2021-07"
          ],
          [
           "2021-08"
          ],
          [
           "2021-09"
          ],
          [
           "2021-10"
          ],
          [
           "2021-11"
          ],
          [
           "2021-12"
          ],
          [
           "2022-01"
          ],
          [
           "2022-02"
          ],
          [
           "2022-03"
          ],
          [
           "2022-04"
          ],
          [
           "2022-05"
          ],
          [
           "2022-06"
          ],
          [
           "2022-07"
          ],
          [
           "2022-08"
          ],
          [
           "2022-09"
          ],
          [
           "2022-10"
          ],
          [
           "2022-11"
          ],
          [
           "2022-12"
          ],
          [
           "2023-01"
          ],
          [
           "2023-02"
          ],
          [
           "2023-03"
          ],
          [
           "2023-04"
          ],
          [
           "2023-05"
          ],
          [
           "2023-06"
          ],
          [
           "2023-07"
          ]
         ],
         "hovertemplate": "<b>%{hovertext}</b><br><br><extra></extra>",
         "hovertext": [
          "2018-08",
          "2018-09",
          "2018-10",
          "2018-11",
          "2018-12",
          "2019-01",
          "2019-02",
          "2019-03",
          "2019-04",
          "2019-05",
          "2019-06",
          "2019-07",
          "2019-08",
          "2019-09",
          "2019-10",
          "2019-11",
          "2019-12",
          "2020-01",
          "2020-02",
          "2020-03",
          "2020-04",
          "2020-05",
          "2020-06",
          "2020-07",
          "2020-08",
          "2020-09",
          "2020-10",
          "2020-11",
          "2020-12",
          "2021-01",
          "2021-02",
          "2021-03",
          "2021-04",
          "2021-05",
          "2021-06",
          "2021-07",
          "2021-08",
          "2021-09",
          "2021-10",
          "2021-11",
          "2021-12",
          "2022-01",
          "2022-02",
          "2022-03",
          "2022-04",
          "2022-05",
          "2022-06",
          "2022-07",
          "2022-08",
          "2022-09",
          "2022-10",
          "2022-11",
          "2022-12",
          "2023-01",
          "2023-02",
          "2023-03",
          "2023-04",
          "2023-05",
          "2023-06",
          "2023-07"
         ],
         "legendgroup": "",
         "marker": {
          "color": "#636efa",
          "line": {
           "color": "DarkSlateGrey",
           "width": 2
          },
          "size": 12,
          "symbol": "circle"
         },
         "mode": "markers",
         "name": "",
         "orientation": "v",
         "showlegend": false,
         "type": "scatter",
         "x": [
          0.0344,
          0.0006,
          -0.0768,
          0.0169,
          -0.09570000000000001,
          0.084,
          0.034,
          0.011000000000000001,
          0.0397,
          -0.0694,
          0.0693,
          0.011899999999999999,
          -0.0258,
          0.0143,
          0.0206,
          0.0387,
          0.0277,
          -0.0011,
          -0.08130000000000001,
          -0.13390000000000002,
          0.1365,
          0.0558,
          0.0246,
          0.057699999999999994,
          0.07629999999999999,
          -0.0363,
          -0.021,
          0.1247,
          0.0463,
          -0.0003,
          0.0278,
          0.0308,
          0.0493,
          0.0029,
          0.0275,
          0.0127,
          0.0291,
          -0.0437,
          0.0665,
          -0.0155,
          0.031,
          -0.0625,
          -0.0229,
          0.0305,
          -0.0946,
          -0.0034000000000000002,
          -0.0843,
          0.09570000000000001,
          -0.0377,
          -0.0935,
          0.0783,
          0.046,
          -0.0641,
          0.0665,
          -0.0258,
          0.025099999999999997,
          0.0060999999999999995,
          0.0034999999999999996,
          0.0646,
          0.0321
         ],
         "xaxis": "x",
         "y": [
          0.0200140293372582,
          0.030791022833715213,
          -0.23852434056715777,
          0.08849462070652205,
          -0.08729821082983656,
          0.18044640107342969,
          0.037772822720455033,
          0.019601139067571008,
          -0.007982179054024216,
          -0.08602046608587134,
          0.08411216743847064,
          0.0730818063678176,
          -0.07656688247724182,
          0.07117260437015463,
          -0.08198767503631528,
          0.016058657594204197,
          -0.004449547317408252,
          0.07099179719367207,
          -0.0862271665875043,
          -0.1489756481053191,
          0.13188482647195876,
          0.007984294626717448,
          -0.03316643115679053,
          0.017868181466735845,
          0.016042339176983268,
          -0.013399815732323305,
          -0.08237158694410342,
          0.12215574829336306,
          0.01900622077649049,
          -0.05388142531701135,
          0.011831506251369417,
          0.1204909462838093,
          0.06468569295763982,
          0.024429284352490255,
          0.019827429512598416,
          -0.0384065203069035,
          0.007063914895193424,
          -0.010046986120730184,
          -0.09954658082143275,
          -0.007825072724516158,
          0.14131750808605092,
          -0.0006731802943600318,
          -0.07175500140096658,
          0.06120118182429412,
          0.016743612370417205,
          0.06258628889722902,
          0.016326109173550197,
          -0.07445974862226822,
          -0.007417421159446978,
          -0.07694861553717203,
          0.16165932047561957,
          0.08666027642906173,
          -0.057094463683203624,
          -0.04722201770408878,
          -0.03191466883453335,
          0.010243747971418853,
          -0.039200646368592384,
          0.027516166129124157,
          0.03659414758483504,
          0.07299788802348978
         ],
         "yaxis": "y"
        },
        {
         "hovertemplate": "<b>OLS trendline</b><br>ret = 0.803092 * mkt + -0.00107607<br>R<sup>2</sup>=0.347719<br><br><extra></extra>",
         "legendgroup": "",
         "marker": {
          "color": "#636efa",
          "symbol": "circle"
         },
         "mode": "lines",
         "name": "",
         "showlegend": false,
         "type": "scatter",
         "x": [
          -0.13390000000000002,
          -0.09570000000000001,
          -0.0946,
          -0.0935,
          -0.0843,
          -0.08130000000000001,
          -0.0768,
          -0.0694,
          -0.0641,
          -0.0625,
          -0.0437,
          -0.0377,
          -0.0363,
          -0.0258,
          -0.0258,
          -0.0229,
          -0.021,
          -0.0155,
          -0.0034000000000000002,
          -0.0011,
          -0.0003,
          0.0006,
          0.0029,
          0.0034999999999999996,
          0.0060999999999999995,
          0.011000000000000001,
          0.011899999999999999,
          0.0127,
          0.0143,
          0.0169,
          0.0206,
          0.0246,
          0.025099999999999997,
          0.0275,
          0.0277,
          0.0278,
          0.0291,
          0.0305,
          0.0308,
          0.031,
          0.0321,
          0.034,
          0.0344,
          0.0387,
          0.0397,
          0.046,
          0.0463,
          0.0493,
          0.0558,
          0.057699999999999994,
          0.0646,
          0.0665,
          0.0665,
          0.0693,
          0.07629999999999999,
          0.0783,
          0.084,
          0.09570000000000001,
          0.1247,
          0.1365
         ],
         "xaxis": "x",
         "y": [
          -0.10861009747214584,
          -0.07793198185676534,
          -0.07704858062176748,
          -0.07616517938676959,
          -0.06877673269406015,
          -0.06636745659861143,
          -0.06275354245543832,
          -0.05681066141999814,
          -0.052554273651372045,
          -0.05126932640046605,
          -0.03617119620232068,
          -0.03135264401142321,
          -0.030228315166880473,
          -0.021795848832809918,
          -0.021795848832809918,
          -0.019466881940542812,
          -0.017941007080091952,
          -0.01352400090510261,
          -0.0038065873201260656,
          -0.0019594756469487056,
          -0.0013170020214957109,
          -0.0005942191928610918,
          0.001252892480316268,
          0.001734747699406014,
          0.0038227869821282467,
          0.007757937938027841,
          0.008480720766662458,
          0.009123194392115454,
          0.010408141643021444,
          0.012496180925743675,
          0.015467621443463777,
          0.01867998957072875,
          0.01908153558663687,
          0.021008956462995856,
          0.021169574869359106,
          0.021249884072540727,
          0.022293903713901848,
          0.023418232558444586,
          0.02365916016798946,
          0.023819778574352708,
          0.024703179809350575,
          0.02622905466980144,
          0.026550291482527938,
          0.030003587219337782,
          0.030806679251154025,
          0.03586615905159636,
          0.036107086661141236,
          0.03851636275658996,
          0.04373646096339555,
          0.0452623358238464,
          0.050803670843378494,
          0.052329545703829354,
          0.052329545703829354,
          0.05457820339291483,
          0.06019984761562853,
          0.06180603167926101,
          0.06638365626061363,
          0.07577983303286367,
          0.09906950195553471,
          0.1085459879309664
         ],
         "yaxis": "y"
        }
       ],
       "layout": {
        "legend": {
         "tracegroupgap": 0
        },
        "margin": {
         "t": 60
        },
        "template": {
         "data": {
          "bar": [
           {
            "error_x": {
             "color": "#2a3f5f"
            },
            "error_y": {
             "color": "#2a3f5f"
            },
            "marker": {
             "line": {
              "color": "white",
              "width": 0.5
             },
             "pattern": {
              "fillmode": "overlay",
              "size": 10,
              "solidity": 0.2
             }
            },
            "type": "bar"
           }
          ],
          "barpolar": [
           {
            "marker": {
             "line": {
              "color": "white",
              "width": 0.5
             },
             "pattern": {
              "fillmode": "overlay",
              "size": 10,
              "solidity": 0.2
             }
            },
            "type": "barpolar"
           }
          ],
          "carpet": [
           {
            "aaxis": {
             "endlinecolor": "#2a3f5f",
             "gridcolor": "#C8D4E3",
             "linecolor": "#C8D4E3",
             "minorgridcolor": "#C8D4E3",
             "startlinecolor": "#2a3f5f"
            },
            "baxis": {
             "endlinecolor": "#2a3f5f",
             "gridcolor": "#C8D4E3",
             "linecolor": "#C8D4E3",
             "minorgridcolor": "#C8D4E3",
             "startlinecolor": "#2a3f5f"
            },
            "type": "carpet"
           }
          ],
          "choropleth": [
           {
            "colorbar": {
             "outlinewidth": 0,
             "ticks": ""
            },
            "type": "choropleth"
           }
          ],
          "contour": [
           {
            "colorbar": {
             "outlinewidth": 0,
             "ticks": ""
            },
            "colorscale": [
             [
              0,
              "#0d0887"
             ],
             [
              0.1111111111111111,
              "#46039f"
             ],
             [
              0.2222222222222222,
              "#7201a8"
             ],
             [
              0.3333333333333333,
              "#9c179e"
             ],
             [
              0.4444444444444444,
              "#bd3786"
             ],
             [
              0.5555555555555556,
              "#d8576b"
             ],
             [
              0.6666666666666666,
              "#ed7953"
             ],
             [
              0.7777777777777778,
              "#fb9f3a"
             ],
             [
              0.8888888888888888,
              "#fdca26"
             ],
             [
              1,
              "#f0f921"
             ]
            ],
            "type": "contour"
           }
          ],
          "contourcarpet": [
           {
            "colorbar": {
             "outlinewidth": 0,
             "ticks": ""
            },
            "type": "contourcarpet"
           }
          ],
          "heatmap": [
           {
            "colorbar": {
             "outlinewidth": 0,
             "ticks": ""
            },
            "colorscale": [
             [
              0,
              "#0d0887"
             ],
             [
              0.1111111111111111,
              "#46039f"
             ],
             [
              0.2222222222222222,
              "#7201a8"
             ],
             [
              0.3333333333333333,
              "#9c179e"
             ],
             [
              0.4444444444444444,
              "#bd3786"
             ],
             [
              0.5555555555555556,
              "#d8576b"
             ],
             [
              0.6666666666666666,
              "#ed7953"
             ],
             [
              0.7777777777777778,
              "#fb9f3a"
             ],
             [
              0.8888888888888888,
              "#fdca26"
             ],
             [
              1,
              "#f0f921"
             ]
            ],
            "type": "heatmap"
           }
          ],
          "heatmapgl": [
           {
            "colorbar": {
             "outlinewidth": 0,
             "ticks": ""
            },
            "colorscale": [
             [
              0,
              "#0d0887"
             ],
             [
              0.1111111111111111,
              "#46039f"
             ],
             [
              0.2222222222222222,
              "#7201a8"
             ],
             [
              0.3333333333333333,
              "#9c179e"
             ],
             [
              0.4444444444444444,
              "#bd3786"
             ],
             [
              0.5555555555555556,
              "#d8576b"
             ],
             [
              0.6666666666666666,
              "#ed7953"
             ],
             [
              0.7777777777777778,
              "#fb9f3a"
             ],
             [
              0.8888888888888888,
              "#fdca26"
             ],
             [
              1,
              "#f0f921"
             ]
            ],
            "type": "heatmapgl"
           }
          ],
          "histogram": [
           {
            "marker": {
             "pattern": {
              "fillmode": "overlay",
              "size": 10,
              "solidity": 0.2
             }
            },
            "type": "histogram"
           }
          ],
          "histogram2d": [
           {
            "colorbar": {
             "outlinewidth": 0,
             "ticks": ""
            },
            "colorscale": [
             [
              0,
              "#0d0887"
             ],
             [
              0.1111111111111111,
              "#46039f"
             ],
             [
              0.2222222222222222,
              "#7201a8"
             ],
             [
              0.3333333333333333,
              "#9c179e"
             ],
             [
              0.4444444444444444,
              "#bd3786"
             ],
             [
              0.5555555555555556,
              "#d8576b"
             ],
             [
              0.6666666666666666,
              "#ed7953"
             ],
             [
              0.7777777777777778,
              "#fb9f3a"
             ],
             [
              0.8888888888888888,
              "#fdca26"
             ],
             [
              1,
              "#f0f921"
             ]
            ],
            "type": "histogram2d"
           }
          ],
          "histogram2dcontour": [
           {
            "colorbar": {
             "outlinewidth": 0,
             "ticks": ""
            },
            "colorscale": [
             [
              0,
              "#0d0887"
             ],
             [
              0.1111111111111111,
              "#46039f"
             ],
             [
              0.2222222222222222,
              "#7201a8"
             ],
             [
              0.3333333333333333,
              "#9c179e"
             ],
             [
              0.4444444444444444,
              "#bd3786"
             ],
             [
              0.5555555555555556,
              "#d8576b"
             ],
             [
              0.6666666666666666,
              "#ed7953"
             ],
             [
              0.7777777777777778,
              "#fb9f3a"
             ],
             [
              0.8888888888888888,
              "#fdca26"
             ],
             [
              1,
              "#f0f921"
             ]
            ],
            "type": "histogram2dcontour"
           }
          ],
          "mesh3d": [
           {
            "colorbar": {
             "outlinewidth": 0,
             "ticks": ""
            },
            "type": "mesh3d"
           }
          ],
          "parcoords": [
           {
            "line": {
             "colorbar": {
              "outlinewidth": 0,
              "ticks": ""
             }
            },
            "type": "parcoords"
           }
          ],
          "pie": [
           {
            "automargin": true,
            "type": "pie"
           }
          ],
          "scatter": [
           {
            "fillpattern": {
             "fillmode": "overlay",
             "size": 10,
             "solidity": 0.2
            },
            "type": "scatter"
           }
          ],
          "scatter3d": [
           {
            "line": {
             "colorbar": {
              "outlinewidth": 0,
              "ticks": ""
             }
            },
            "marker": {
             "colorbar": {
              "outlinewidth": 0,
              "ticks": ""
             }
            },
            "type": "scatter3d"
           }
          ],
          "scattercarpet": [
           {
            "marker": {
             "colorbar": {
              "outlinewidth": 0,
              "ticks": ""
             }
            },
            "type": "scattercarpet"
           }
          ],
          "scattergeo": [
           {
            "marker": {
             "colorbar": {
              "outlinewidth": 0,
              "ticks": ""
             }
            },
            "type": "scattergeo"
           }
          ],
          "scattergl": [
           {
            "marker": {
             "colorbar": {
              "outlinewidth": 0,
              "ticks": ""
             }
            },
            "type": "scattergl"
           }
          ],
          "scattermapbox": [
           {
            "marker": {
             "colorbar": {
              "outlinewidth": 0,
              "ticks": ""
             }
            },
            "type": "scattermapbox"
           }
          ],
          "scatterpolar": [
           {
            "marker": {
             "colorbar": {
              "outlinewidth": 0,
              "ticks": ""
             }
            },
            "type": "scatterpolar"
           }
          ],
          "scatterpolargl": [
           {
            "marker": {
             "colorbar": {
              "outlinewidth": 0,
              "ticks": ""
             }
            },
            "type": "scatterpolargl"
           }
          ],
          "scatterternary": [
           {
            "marker": {
             "colorbar": {
              "outlinewidth": 0,
              "ticks": ""
             }
            },
            "type": "scatterternary"
           }
          ],
          "surface": [
           {
            "colorbar": {
             "outlinewidth": 0,
             "ticks": ""
            },
            "colorscale": [
             [
              0,
              "#0d0887"
             ],
             [
              0.1111111111111111,
              "#46039f"
             ],
             [
              0.2222222222222222,
              "#7201a8"
             ],
             [
              0.3333333333333333,
              "#9c179e"
             ],
             [
              0.4444444444444444,
              "#bd3786"
             ],
             [
              0.5555555555555556,
              "#d8576b"
             ],
             [
              0.6666666666666666,
              "#ed7953"
             ],
             [
              0.7777777777777778,
              "#fb9f3a"
             ],
             [
              0.8888888888888888,
              "#fdca26"
             ],
             [
              1,
              "#f0f921"
             ]
            ],
            "type": "surface"
           }
          ],
          "table": [
           {
            "cells": {
             "fill": {
              "color": "#EBF0F8"
             },
             "line": {
              "color": "white"
             }
            },
            "header": {
             "fill": {
              "color": "#C8D4E3"
             },
             "line": {
              "color": "white"
             }
            },
            "type": "table"
           }
          ]
         },
         "layout": {
          "annotationdefaults": {
           "arrowcolor": "#2a3f5f",
           "arrowhead": 0,
           "arrowwidth": 1
          },
          "autotypenumbers": "strict",
          "coloraxis": {
           "colorbar": {
            "outlinewidth": 0,
            "ticks": ""
           }
          },
          "colorscale": {
           "diverging": [
            [
             0,
             "#8e0152"
            ],
            [
             0.1,
             "#c51b7d"
            ],
            [
             0.2,
             "#de77ae"
            ],
            [
             0.3,
             "#f1b6da"
            ],
            [
             0.4,
             "#fde0ef"
            ],
            [
             0.5,
             "#f7f7f7"
            ],
            [
             0.6,
             "#e6f5d0"
            ],
            [
             0.7,
             "#b8e186"
            ],
            [
             0.8,
             "#7fbc41"
            ],
            [
             0.9,
             "#4d9221"
            ],
            [
             1,
             "#276419"
            ]
           ],
           "sequential": [
            [
             0,
             "#0d0887"
            ],
            [
             0.1111111111111111,
             "#46039f"
            ],
            [
             0.2222222222222222,
             "#7201a8"
            ],
            [
             0.3333333333333333,
             "#9c179e"
            ],
            [
             0.4444444444444444,
             "#bd3786"
            ],
            [
             0.5555555555555556,
             "#d8576b"
            ],
            [
             0.6666666666666666,
             "#ed7953"
            ],
            [
             0.7777777777777778,
             "#fb9f3a"
            ],
            [
             0.8888888888888888,
             "#fdca26"
            ],
            [
             1,
             "#f0f921"
            ]
           ],
           "sequentialminus": [
            [
             0,
             "#0d0887"
            ],
            [
             0.1111111111111111,
             "#46039f"
            ],
            [
             0.2222222222222222,
             "#7201a8"
            ],
            [
             0.3333333333333333,
             "#9c179e"
            ],
            [
             0.4444444444444444,
             "#bd3786"
            ],
            [
             0.5555555555555556,
             "#d8576b"
            ],
            [
             0.6666666666666666,
             "#ed7953"
            ],
            [
             0.7777777777777778,
             "#fb9f3a"
            ],
            [
             0.8888888888888888,
             "#fdca26"
            ],
            [
             1,
             "#f0f921"
            ]
           ]
          },
          "colorway": [
           "#636efa",
           "#EF553B",
           "#00cc96",
           "#ab63fa",
           "#FFA15A",
           "#19d3f3",
           "#FF6692",
           "#B6E880",
           "#FF97FF",
           "#FECB52"
          ],
          "font": {
           "color": "#2a3f5f"
          },
          "geo": {
           "bgcolor": "white",
           "lakecolor": "white",
           "landcolor": "white",
           "showlakes": true,
           "showland": true,
           "subunitcolor": "#C8D4E3"
          },
          "hoverlabel": {
           "align": "left"
          },
          "hovermode": "closest",
          "mapbox": {
           "style": "light"
          },
          "paper_bgcolor": "white",
          "plot_bgcolor": "white",
          "polar": {
           "angularaxis": {
            "gridcolor": "#EBF0F8",
            "linecolor": "#EBF0F8",
            "ticks": ""
           },
           "bgcolor": "white",
           "radialaxis": {
            "gridcolor": "#EBF0F8",
            "linecolor": "#EBF0F8",
            "ticks": ""
           }
          },
          "scene": {
           "xaxis": {
            "backgroundcolor": "white",
            "gridcolor": "#DFE8F3",
            "gridwidth": 2,
            "linecolor": "#EBF0F8",
            "showbackground": true,
            "ticks": "",
            "zerolinecolor": "#EBF0F8"
           },
           "yaxis": {
            "backgroundcolor": "white",
            "gridcolor": "#DFE8F3",
            "gridwidth": 2,
            "linecolor": "#EBF0F8",
            "showbackground": true,
            "ticks": "",
            "zerolinecolor": "#EBF0F8"
           },
           "zaxis": {
            "backgroundcolor": "white",
            "gridcolor": "#DFE8F3",
            "gridwidth": 2,
            "linecolor": "#EBF0F8",
            "showbackground": true,
            "ticks": "",
            "zerolinecolor": "#EBF0F8"
           }
          },
          "shapedefaults": {
           "line": {
            "color": "#2a3f5f"
           }
          },
          "ternary": {
           "aaxis": {
            "gridcolor": "#DFE8F3",
            "linecolor": "#A2B1C6",
            "ticks": ""
           },
           "baxis": {
            "gridcolor": "#DFE8F3",
            "linecolor": "#A2B1C6",
            "ticks": ""
           },
           "bgcolor": "white",
           "caxis": {
            "gridcolor": "#DFE8F3",
            "linecolor": "#A2B1C6",
            "ticks": ""
           }
          },
          "title": {
           "x": 0.05
          },
          "xaxis": {
           "automargin": true,
           "gridcolor": "#EBF0F8",
           "linecolor": "#EBF0F8",
           "ticks": "",
           "title": {
            "standoff": 15
           },
           "zerolinecolor": "#EBF0F8",
           "zerolinewidth": 2
          },
          "yaxis": {
           "automargin": true,
           "gridcolor": "#EBF0F8",
           "linecolor": "#EBF0F8",
           "ticks": "",
           "title": {
            "standoff": 15
           },
           "zerolinecolor": "#EBF0F8",
           "zerolinewidth": 2
          }
         }
        },
        "xaxis": {
         "anchor": "y",
         "domain": [
          0,
          1
         ],
         "tickformat": ".0%",
         "title": {
          "text": "Market Excess Return"
         }
        },
        "yaxis": {
         "anchor": "x",
         "domain": [
          0,
          1
         ],
         "tickformat": ".0%",
         "title": {
          "text": "IBM Excess Return"
         }
        }
       }
      }
     },
     "metadata": {},
     "output_type": "display_data"
    }
   ],
   "source": [
    "import plotly.express as px\n",
    "\n",
    "df = df[[\"Mkt-RF\", \"ret\"]].reset_index()\n",
    "df.columns = [\"date\", \"mkt\", \"ret\"]\n",
    "df[\"date\"] = df.date.astype(str)\n",
    "df['mkt'] = df['mkt']/100\n",
    "df['ret'] = df['ret']/100\n",
    "\n",
    "fig = px.scatter(\n",
    "    df,\n",
    "    x=\"mkt\",\n",
    "    y=\"ret\",\n",
    "    trendline=\"ols\",\n",
    "    hover_data=dict(ret=False, mkt=False, date=False),\n",
    "    hover_name=\"date\",\n",
    ")\n",
    "\n",
    "fig.update_traces(\n",
    "    marker=dict(\n",
    "        size=12, \n",
    "        line=dict(width=2, color=\"DarkSlateGrey\")\n",
    "    ),\n",
    "    selector=dict(mode=\"markers\"),\n",
    ")\n",
    "\n",
    "fig.update_layout(\n",
    "    xaxis_title=\"Market Excess Return\",\n",
    "    yaxis_title=ticker.upper() + \" Excess Return\",\n",
    "    xaxis_tickformat=\".0%\",\n",
    "    yaxis_tickformat=\".0%\",\n",
    "    template=\"plotly_white\"\n",
    ")\n",
    "fig.show()"
   ]
  }
 ],
 "metadata": {
  "colab": {
   "collapsed_sections": [],
   "include_colab_link": true,
   "name": "capm cost of equity calculator.ipynb",
   "provenance": []
  },
  "kernelspec": {
   "display_name": "Python 3",
   "name": "python3"
  },
  "language_info": {
   "codemirror_mode": {
    "name": "ipython",
    "version": 3
   },
   "file_extension": ".py",
   "mimetype": "text/x-python",
   "name": "python",
   "nbconvert_exporter": "python",
   "pygments_lexer": "ipython3",
   "version": "3.10.8"
  }
 },
 "nbformat": 4,
 "nbformat_minor": 0
}