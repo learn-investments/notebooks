{
  "cells": [
    {
      "cell_type": "markdown",
      "metadata": {},
      "source": [
        "# EXAMPLE TICKER"
      ]
    },
    {
      "cell_type": "code",
      "execution_count": 1,
      "metadata": {},
      "outputs": [],
      "source": [
        "ticker = \"IBM\""
      ]
    },
    {
      "cell_type": "markdown",
      "metadata": {},
      "source": [
        "# GET DATA"
      ]
    },
    {
      "cell_type": "code",
      "execution_count": 2,
      "metadata": {},
      "outputs": [],
      "source": [
        "import pandas as pd\n",
        "import yfinance as yf\n",
        "from pandas_datareader import DataReader as pdr\n",
        "import warnings\n",
        "warnings.simplefilter(action='ignore', category=FutureWarning)\n",
        "\n",
        "# get monthly market excess return and risk-free rate for past 60 months from French's data library\n",
        "ff = pdr('F-F_Research_Data_Factors','famafrench',start=2017)[0]\n",
        "ff = ff.iloc[-60:]\n",
        "\n",
        "# get mean annual market excess return since 1926 from French's data library\n",
        "mprem = pdr('F-F_Research_Data_Factors','famafrench',start=1926)[1]['Mkt-RF'].mean()\n",
        "\n",
        "# get current 3-month Treasury bill yield from FRED\n",
        "rf = pdr('DGS3MO','fred',start=2022).iloc[-1].item()\n",
        "\n",
        "# pull data from yahoo for ticker\n",
        "ticker = ticker.upper()\n",
        "ret = yf.download(ticker, start='2017-01-01', progress=False)['Adj Close']\n",
        "ret = ret.resample('M').last().pct_change()*100\n",
        "# ret.index = ret.index.to_period('M')\n",
        "ret.name = \"ret\"\n",
        "\n",
        "# merge with French data, reducing to 60 months in the process\n",
        "ret.index = ret.index.to_period('M')\n",
        "df = ff.join(ret,how='left')\n",
        "\n",
        "# compute excess returns for the ticker \n",
        "df['ret'] -= df.RF"
      ]
    },
    {
      "cell_type": "markdown",
      "metadata": {},
      "source": [
        "# RUN MARKET MODEL REGRESSION"
      ]
    },
    {
      "cell_type": "code",
      "execution_count": 3,
      "metadata": {},
      "outputs": [],
      "source": [
        "import statsmodels.api as sm\n",
        "\n",
        "# run regression of excess return on market excess return and get beta\n",
        "result = sm.OLS(df.ret,sm.add_constant(df['Mkt-RF'])).fit()\n",
        "beta = result.params['Mkt-RF']"
      ]
    },
    {
      "cell_type": "markdown",
      "metadata": {},
      "source": [
        "# CALCULATE COST OF EQUITY"
      ]
    },
    {
      "cell_type": "code",
      "execution_count": 4,
      "metadata": {},
      "outputs": [
        {
          "name": "stdout",
          "output_type": "stream",
          "text": [
            "Beta:\t\t\t0.80\n",
            "Market Risk Premium:\t8.55\n",
            "IBM Risk Premium:\t6.87\n",
            "Risk-free Rate:\t\t5.62\n",
            "IBM Cost of Equity:\t12.49\n"
          ]
        }
      ],
      "source": [
        "# compute cost of equity\n",
        "eret = rf + beta*mprem\n",
        "\n",
        "\n",
        "print(f'Beta:\\t\\t\\t{beta:.2f}')\n",
        "print(f'Market Risk Premium:\\t{mprem:.2f}')\n",
        "print(f'{ticker} Risk Premium:\\t{beta*mprem:.2f}')\n",
        "print(f'Risk-free Rate:\\t\\t{rf:.2f}')\n",
        "print(f'{ticker} Cost of Equity:\\t{eret:.2f}')"
      ]
    },
    {
      "cell_type": "markdown",
      "metadata": {},
      "source": [
        "# FIGURE"
      ]
    },
    {
      "cell_type": "code",
      "execution_count": 5,
      "metadata": {
        "id": "5dCLJ_BvUC_A"
      },
      "outputs": [
        {
          "data": {
            "application/vnd.plotly.v1+json": {
              "config": {
                "plotlyServerURL": "https://plot.ly"
              },
              "data": [
                {
                  "customdata": [
                    [
                      "2018-08"
                    ],
                    [
                      "2018-09"
                    ],
                    [
                      "2018-10"
                    ],
                    [
                      "2018-11"
                    ],
                    [
                      "2018-12"
                    ],
                    [
                      "2019-01"
                    ],
                    [
                      "2019-02"
                    ],
                    [
                      "2019-03"
                    ],
                    [
                      "2019-04"
                    ],
                    [
                      "2019-05"
                    ],
                    [
                      "2019-06"
                    ],
                    [
                      "2019-07"
                    ],
                    [
                      "2019-08"
                    ],
                    [
                      "2019-09"
                    ],
                    [
                      "2019-10"
                    ],
                    [
                      "2019-11"
                    ],
                    [
                      "2019-12"
                    ],
                    [
                      "2020-01"
                    ],
                    [
                      "2020-02"
                    ],
                    [
                      "2020-03"
                    ],
                    [
                      "2020-04"
                    ],
                    [
                      "2020-05"
                    ],
                    [
                      "2020-06"
                    ],
                    [
                      "2020-07"
                    ],
                    [
                      "2020-08"
                    ],
                    [
                      "2020-09"
                    ],
                    [
                      "2020-10"
                    ],
                    [
                      "2020-11"
                    ],
                    [
                      "2020-12"
                    ],
                    [
                      "2021-01"
                    ],
                    [
                      "2021-02"
                    ],
                    [
                      "2021-03"
                    ],
                    [
                      "2021-04"
                    ],
                    [
                      "2021-05"
                    ],
                    [
                      "2021-06"
                    ],
                    [
                      "2021-07"
                    ],
                    [
                      "2021-08"
                    ],
                    [
                      "2021-09"
                    ],
                    [
                      "2021-10"
                    ],
                    [
                      "2021-11"
                    ],
                    [
                      "2021-12"
                    ],
                    [
                      "2022-01"
                    ],
                    [
                      "2022-02"
                    ],
                    [
                      "2022-03"
                    ],
                    [
                      "2022-04"
                    ],
                    [
                      "2022-05"
                    ],
                    [
                      "2022-06"
                    ],
                    [
                      "2022-07"
                    ],
                    [
                      "2022-08"
                    ],
                    [
                      "2022-09"
                    ],
                    [
                      "2022-10"
                    ],
                    [
                      "2022-11"
                    ],
                    [
                      "2022-12"
                    ],
                    [
                      "2023-01"
                    ],
                    [
                      "2023-02"
                    ],
                    [
                      "2023-03"
                    ],
                    [
                      "2023-04"
                    ],
                    [
                      "2023-05"
                    ],
                    [
                      "2023-06"
                    ],
                    [
                      "2023-07"
                    ]
                  ],
                  "hovertemplate": "<b>%{hovertext}</b><br><br><extra></extra>",
                  "hovertext": [
                    "2018-08",
                    "2018-09",
                    "2018-10",
                    "2018-11",
                    "2018-12",
                    "2019-01",
                    "2019-02",
                    "2019-03",
                    "2019-04",
                    "2019-05",
                    "2019-06",
                    "2019-07",
                    "2019-08",
                    "2019-09",
                    "2019-10",
                    "2019-11",
                    "2019-12",
                    "2020-01",
                    "2020-02",
                    "2020-03",
                    "2020-04",
                    "2020-05",
                    "2020-06",
                    "2020-07",
                    "2020-08",
                    "2020-09",
                    "2020-10",
                    "2020-11",
                    "2020-12",
                    "2021-01",
                    "2021-02",
                    "2021-03",
                    "2021-04",
                    "2021-05",
                    "2021-06",
                    "2021-07",
                    "2021-08",
                    "2021-09",
                    "2021-10",
                    "2021-11",
                    "2021-12",
                    "2022-01",
                    "2022-02",
                    "2022-03",
                    "2022-04",
                    "2022-05",
                    "2022-06",
                    "2022-07",
                    "2022-08",
                    "2022-09",
                    "2022-10",
                    "2022-11",
                    "2022-12",
                    "2023-01",
                    "2023-02",
                    "2023-03",
                    "2023-04",
                    "2023-05",
                    "2023-06",
                    "2023-07"
                  ],
                  "legendgroup": "",
                  "marker": {
                    "color": "#636efa",
                    "line": {
                      "color": "DarkSlateGrey",
                      "width": 2
                    },
                    "size": 12,
                    "symbol": "circle"
                  },
                  "mode": "markers",
                  "name": "",
                  "orientation": "v",
                  "showlegend": false,
                  "type": "scatter",
                  "x": [
                    0.0344,
                    0.0006,
                    -0.0768,
                    0.0169,
                    -0.09570000000000001,
                    0.084,
                    0.034,
                    0.011000000000000001,
                    0.0397,
                    -0.0694,
                    0.0693,
                    0.011899999999999999,
                    -0.0258,
                    0.0143,
                    0.0206,
                    0.0387,
                    0.0277,
                    -0.0011,
                    -0.08130000000000001,
                    -0.13390000000000002,
                    0.1365,
                    0.0558,
                    0.0246,
                    0.057699999999999994,
                    0.07629999999999999,
                    -0.0363,
                    -0.021,
                    0.1247,
                    0.0463,
                    -0.0003,
                    0.0278,
                    0.0308,
                    0.0493,
                    0.0029,
                    0.0275,
                    0.0127,
                    0.0291,
                    -0.0437,
                    0.0665,
                    -0.0155,
                    0.031,
                    -0.0625,
                    -0.0229,
                    0.0305,
                    -0.0946,
                    -0.0034000000000000002,
                    -0.0843,
                    0.09570000000000001,
                    -0.0377,
                    -0.0935,
                    0.0783,
                    0.046,
                    -0.0641,
                    0.0665,
                    -0.0258,
                    0.025099999999999997,
                    0.0060999999999999995,
                    0.0034999999999999996,
                    0.0646,
                    0.0321
                  ],
                  "xaxis": "x",
                  "y": [
                    0.0200140293372582,
                    0.030791231714970172,
                    -0.23852456248316722,
                    0.08849471704098091,
                    -0.08729796771294185,
                    0.1804458209786175,
                    0.03777290653455225,
                    0.019601358370074054,
                    -0.007982249189899657,
                    -0.08602060802251456,
                    0.08411233568887447,
                    0.0730817350272346,
                    -0.07656682108791786,
                    0.07117267611294412,
                    -0.08198787025203419,
                    0.016058732812357902,
                    -0.004449476060487222,
                    0.07099165380664249,
                    -0.0862270442371752,
                    -0.14897579425190846,
                    0.1318850205543347,
                    0.007984446115874889,
                    -0.0331665764620297,
                    0.017867870640221096,
                    0.016042496775989113,
                    -0.013399667485776156,
                    -0.08237181534897488,
                    0.12215611056145347,
                    0.019006145441365686,
                    -0.05388128024332918,
                    0.011831274458276475,
                    0.12049110693924604,
                    0.06468555335149362,
                    0.02442922239583223,
                    0.019827617951925447,
                    -0.03840645718386326,
                    0.007063724353232548,
                    -0.010046923978534683,
                    -0.09954651741148413,
                    -0.00782507217347439,
                    0.1413174270734825,
                    -0.0006732424761717315,
                    -0.07175488141842168,
                    0.06120104364765221,
                    0.016743676596103752,
                    0.06258628889722902,
                    0.016325992292639025,
                    -0.07445964215287545,
                    -0.007417421159446978,
                    -0.07694861553717203,
                    0.16165932047561957,
                    0.08666027642906173,
                    -0.057094463683203624,
                    -0.04722201770408878,
                    -0.03191466883453335,
                    0.010243687473195533,
                    -0.0392005888267854,
                    0.027516166129124157,
                    0.03659414758483504,
                    0.07299788802348978
                  ],
                  "yaxis": "y"
                },
                {
                  "hovertemplate": "<b>OLS trendline</b><br>ret = 0.803092 * mkt + -0.00107608<br>R<sup>2</sup>=0.347720<br><br><extra></extra>",
                  "legendgroup": "",
                  "marker": {
                    "color": "#636efa",
                    "symbol": "circle"
                  },
                  "mode": "lines",
                  "name": "",
                  "showlegend": false,
                  "type": "scatter",
                  "x": [
                    -0.13390000000000002,
                    -0.09570000000000001,
                    -0.0946,
                    -0.0935,
                    -0.0843,
                    -0.08130000000000001,
                    -0.0768,
                    -0.0694,
                    -0.0641,
                    -0.0625,
                    -0.0437,
                    -0.0377,
                    -0.0363,
                    -0.0258,
                    -0.0258,
                    -0.0229,
                    -0.021,
                    -0.0155,
                    -0.0034000000000000002,
                    -0.0011,
                    -0.0003,
                    0.0006,
                    0.0029,
                    0.0034999999999999996,
                    0.0060999999999999995,
                    0.011000000000000001,
                    0.011899999999999999,
                    0.0127,
                    0.0143,
                    0.0169,
                    0.0206,
                    0.0246,
                    0.025099999999999997,
                    0.0275,
                    0.0277,
                    0.0278,
                    0.0291,
                    0.0305,
                    0.0308,
                    0.031,
                    0.0321,
                    0.034,
                    0.0344,
                    0.0387,
                    0.0397,
                    0.046,
                    0.0463,
                    0.0493,
                    0.0558,
                    0.057699999999999994,
                    0.0646,
                    0.0665,
                    0.0665,
                    0.0693,
                    0.07629999999999999,
                    0.0783,
                    0.084,
                    0.09570000000000001,
                    0.1247,
                    0.1365
                  ],
                  "xaxis": "x",
                  "y": [
                    -0.10861013218368343,
                    -0.0779320070711643,
                    -0.0770486055626886,
                    -0.07616520405421291,
                    -0.06877675507423449,
                    -0.06636747823293718,
                    -0.0627535629709912,
                    -0.05681068009579116,
                    -0.052554291009499245,
                    -0.05126934336080734,
                    -0.036171208488677505,
                    -0.031352654806082875,
                    -0.03022832561347746,
                    -0.02179585666893686,
                    -0.02179585666893686,
                    -0.01946688905568279,
                    -0.01794101372286116,
                    -0.01352400618048275,
                    -0.0038065895872502484,
                    -0.0019594773422556408,
                    -0.0013170035179096901,
                    -0.000594220465520496,
                    0.0012528917794741115,
                    0.001734747147733574,
                    0.003822787076857913,
                    0.007757939250976861,
                    0.008480722303366052,
                    0.009123196127712004,
                    0.010408143776403905,
                    0.012496183705528243,
                    0.015467625143128267,
                    0.01867999426485802,
                    0.019081540405074236,
                    0.02100896187811209,
                    0.021169580334198575,
                    0.02124988956224182,
                    0.02229390952680399,
                    0.023418238719409405,
                    0.023659166403539135,
                    0.023819784859625624,
                    0.0247031863681013,
                    0.02622906170092294,
                    0.02655029861309591,
                    0.030003595418955396,
                    0.03080668769938783,
                    0.035866169066112195,
                    0.03610709675024193,
                    0.038516373591539234,
                    0.04373647341435009,
                    0.045262348747171714,
                    0.050803685482155546,
                    0.05232956081497718,
                    0.05232956081497718,
                    0.054578219200188,
                    0.060199865163215065,
                    0.06180604972407994,
                    0.06638367572254485,
                    0.07577985540360438,
                    0.09906953153614508,
                    0.10854602044524785
                  ],
                  "yaxis": "y"
                }
              ],
              "layout": {
                "legend": {
                  "tracegroupgap": 0
                },
                "margin": {
                  "t": 60
                },
                "template": {
                  "data": {
                    "bar": [
                      {
                        "error_x": {
                          "color": "#2a3f5f"
                        },
                        "error_y": {
                          "color": "#2a3f5f"
                        },
                        "marker": {
                          "line": {
                            "color": "#E5ECF6",
                            "width": 0.5
                          },
                          "pattern": {
                            "fillmode": "overlay",
                            "size": 10,
                            "solidity": 0.2
                          }
                        },
                        "type": "bar"
                      }
                    ],
                    "barpolar": [
                      {
                        "marker": {
                          "line": {
                            "color": "#E5ECF6",
                            "width": 0.5
                          },
                          "pattern": {
                            "fillmode": "overlay",
                            "size": 10,
                            "solidity": 0.2
                          }
                        },
                        "type": "barpolar"
                      }
                    ],
                    "carpet": [
                      {
                        "aaxis": {
                          "endlinecolor": "#2a3f5f",
                          "gridcolor": "white",
                          "linecolor": "white",
                          "minorgridcolor": "white",
                          "startlinecolor": "#2a3f5f"
                        },
                        "baxis": {
                          "endlinecolor": "#2a3f5f",
                          "gridcolor": "white",
                          "linecolor": "white",
                          "minorgridcolor": "white",
                          "startlinecolor": "#2a3f5f"
                        },
                        "type": "carpet"
                      }
                    ],
                    "choropleth": [
                      {
                        "colorbar": {
                          "outlinewidth": 0,
                          "ticks": ""
                        },
                        "type": "choropleth"
                      }
                    ],
                    "contour": [
                      {
                        "colorbar": {
                          "outlinewidth": 0,
                          "ticks": ""
                        },
                        "colorscale": [
                          [
                            0,
                            "#0d0887"
                          ],
                          [
                            0.1111111111111111,
                            "#46039f"
                          ],
                          [
                            0.2222222222222222,
                            "#7201a8"
                          ],
                          [
                            0.3333333333333333,
                            "#9c179e"
                          ],
                          [
                            0.4444444444444444,
                            "#bd3786"
                          ],
                          [
                            0.5555555555555556,
                            "#d8576b"
                          ],
                          [
                            0.6666666666666666,
                            "#ed7953"
                          ],
                          [
                            0.7777777777777778,
                            "#fb9f3a"
                          ],
                          [
                            0.8888888888888888,
                            "#fdca26"
                          ],
                          [
                            1,
                            "#f0f921"
                          ]
                        ],
                        "type": "contour"
                      }
                    ],
                    "contourcarpet": [
                      {
                        "colorbar": {
                          "outlinewidth": 0,
                          "ticks": ""
                        },
                        "type": "contourcarpet"
                      }
                    ],
                    "heatmap": [
                      {
                        "colorbar": {
                          "outlinewidth": 0,
                          "ticks": ""
                        },
                        "colorscale": [
                          [
                            0,
                            "#0d0887"
                          ],
                          [
                            0.1111111111111111,
                            "#46039f"
                          ],
                          [
                            0.2222222222222222,
                            "#7201a8"
                          ],
                          [
                            0.3333333333333333,
                            "#9c179e"
                          ],
                          [
                            0.4444444444444444,
                            "#bd3786"
                          ],
                          [
                            0.5555555555555556,
                            "#d8576b"
                          ],
                          [
                            0.6666666666666666,
                            "#ed7953"
                          ],
                          [
                            0.7777777777777778,
                            "#fb9f3a"
                          ],
                          [
                            0.8888888888888888,
                            "#fdca26"
                          ],
                          [
                            1,
                            "#f0f921"
                          ]
                        ],
                        "type": "heatmap"
                      }
                    ],
                    "heatmapgl": [
                      {
                        "colorbar": {
                          "outlinewidth": 0,
                          "ticks": ""
                        },
                        "colorscale": [
                          [
                            0,
                            "#0d0887"
                          ],
                          [
                            0.1111111111111111,
                            "#46039f"
                          ],
                          [
                            0.2222222222222222,
                            "#7201a8"
                          ],
                          [
                            0.3333333333333333,
                            "#9c179e"
                          ],
                          [
                            0.4444444444444444,
                            "#bd3786"
                          ],
                          [
                            0.5555555555555556,
                            "#d8576b"
                          ],
                          [
                            0.6666666666666666,
                            "#ed7953"
                          ],
                          [
                            0.7777777777777778,
                            "#fb9f3a"
                          ],
                          [
                            0.8888888888888888,
                            "#fdca26"
                          ],
                          [
                            1,
                            "#f0f921"
                          ]
                        ],
                        "type": "heatmapgl"
                      }
                    ],
                    "histogram": [
                      {
                        "marker": {
                          "pattern": {
                            "fillmode": "overlay",
                            "size": 10,
                            "solidity": 0.2
                          }
                        },
                        "type": "histogram"
                      }
                    ],
                    "histogram2d": [
                      {
                        "colorbar": {
                          "outlinewidth": 0,
                          "ticks": ""
                        },
                        "colorscale": [
                          [
                            0,
                            "#0d0887"
                          ],
                          [
                            0.1111111111111111,
                            "#46039f"
                          ],
                          [
                            0.2222222222222222,
                            "#7201a8"
                          ],
                          [
                            0.3333333333333333,
                            "#9c179e"
                          ],
                          [
                            0.4444444444444444,
                            "#bd3786"
                          ],
                          [
                            0.5555555555555556,
                            "#d8576b"
                          ],
                          [
                            0.6666666666666666,
                            "#ed7953"
                          ],
                          [
                            0.7777777777777778,
                            "#fb9f3a"
                          ],
                          [
                            0.8888888888888888,
                            "#fdca26"
                          ],
                          [
                            1,
                            "#f0f921"
                          ]
                        ],
                        "type": "histogram2d"
                      }
                    ],
                    "histogram2dcontour": [
                      {
                        "colorbar": {
                          "outlinewidth": 0,
                          "ticks": ""
                        },
                        "colorscale": [
                          [
                            0,
                            "#0d0887"
                          ],
                          [
                            0.1111111111111111,
                            "#46039f"
                          ],
                          [
                            0.2222222222222222,
                            "#7201a8"
                          ],
                          [
                            0.3333333333333333,
                            "#9c179e"
                          ],
                          [
                            0.4444444444444444,
                            "#bd3786"
                          ],
                          [
                            0.5555555555555556,
                            "#d8576b"
                          ],
                          [
                            0.6666666666666666,
                            "#ed7953"
                          ],
                          [
                            0.7777777777777778,
                            "#fb9f3a"
                          ],
                          [
                            0.8888888888888888,
                            "#fdca26"
                          ],
                          [
                            1,
                            "#f0f921"
                          ]
                        ],
                        "type": "histogram2dcontour"
                      }
                    ],
                    "mesh3d": [
                      {
                        "colorbar": {
                          "outlinewidth": 0,
                          "ticks": ""
                        },
                        "type": "mesh3d"
                      }
                    ],
                    "parcoords": [
                      {
                        "line": {
                          "colorbar": {
                            "outlinewidth": 0,
                            "ticks": ""
                          }
                        },
                        "type": "parcoords"
                      }
                    ],
                    "pie": [
                      {
                        "automargin": true,
                        "type": "pie"
                      }
                    ],
                    "scatter": [
                      {
                        "fillpattern": {
                          "fillmode": "overlay",
                          "size": 10,
                          "solidity": 0.2
                        },
                        "type": "scatter"
                      }
                    ],
                    "scatter3d": [
                      {
                        "line": {
                          "colorbar": {
                            "outlinewidth": 0,
                            "ticks": ""
                          }
                        },
                        "marker": {
                          "colorbar": {
                            "outlinewidth": 0,
                            "ticks": ""
                          }
                        },
                        "type": "scatter3d"
                      }
                    ],
                    "scattercarpet": [
                      {
                        "marker": {
                          "colorbar": {
                            "outlinewidth": 0,
                            "ticks": ""
                          }
                        },
                        "type": "scattercarpet"
                      }
                    ],
                    "scattergeo": [
                      {
                        "marker": {
                          "colorbar": {
                            "outlinewidth": 0,
                            "ticks": ""
                          }
                        },
                        "type": "scattergeo"
                      }
                    ],
                    "scattergl": [
                      {
                        "marker": {
                          "colorbar": {
                            "outlinewidth": 0,
                            "ticks": ""
                          }
                        },
                        "type": "scattergl"
                      }
                    ],
                    "scattermapbox": [
                      {
                        "marker": {
                          "colorbar": {
                            "outlinewidth": 0,
                            "ticks": ""
                          }
                        },
                        "type": "scattermapbox"
                      }
                    ],
                    "scatterpolar": [
                      {
                        "marker": {
                          "colorbar": {
                            "outlinewidth": 0,
                            "ticks": ""
                          }
                        },
                        "type": "scatterpolar"
                      }
                    ],
                    "scatterpolargl": [
                      {
                        "marker": {
                          "colorbar": {
                            "outlinewidth": 0,
                            "ticks": ""
                          }
                        },
                        "type": "scatterpolargl"
                      }
                    ],
                    "scatterternary": [
                      {
                        "marker": {
                          "colorbar": {
                            "outlinewidth": 0,
                            "ticks": ""
                          }
                        },
                        "type": "scatterternary"
                      }
                    ],
                    "surface": [
                      {
                        "colorbar": {
                          "outlinewidth": 0,
                          "ticks": ""
                        },
                        "colorscale": [
                          [
                            0,
                            "#0d0887"
                          ],
                          [
                            0.1111111111111111,
                            "#46039f"
                          ],
                          [
                            0.2222222222222222,
                            "#7201a8"
                          ],
                          [
                            0.3333333333333333,
                            "#9c179e"
                          ],
                          [
                            0.4444444444444444,
                            "#bd3786"
                          ],
                          [
                            0.5555555555555556,
                            "#d8576b"
                          ],
                          [
                            0.6666666666666666,
                            "#ed7953"
                          ],
                          [
                            0.7777777777777778,
                            "#fb9f3a"
                          ],
                          [
                            0.8888888888888888,
                            "#fdca26"
                          ],
                          [
                            1,
                            "#f0f921"
                          ]
                        ],
                        "type": "surface"
                      }
                    ],
                    "table": [
                      {
                        "cells": {
                          "fill": {
                            "color": "#EBF0F8"
                          },
                          "line": {
                            "color": "white"
                          }
                        },
                        "header": {
                          "fill": {
                            "color": "#C8D4E3"
                          },
                          "line": {
                            "color": "white"
                          }
                        },
                        "type": "table"
                      }
                    ]
                  },
                  "layout": {
                    "annotationdefaults": {
                      "arrowcolor": "#2a3f5f",
                      "arrowhead": 0,
                      "arrowwidth": 1
                    },
                    "autotypenumbers": "strict",
                    "coloraxis": {
                      "colorbar": {
                        "outlinewidth": 0,
                        "ticks": ""
                      }
                    },
                    "colorscale": {
                      "diverging": [
                        [
                          0,
                          "#8e0152"
                        ],
                        [
                          0.1,
                          "#c51b7d"
                        ],
                        [
                          0.2,
                          "#de77ae"
                        ],
                        [
                          0.3,
                          "#f1b6da"
                        ],
                        [
                          0.4,
                          "#fde0ef"
                        ],
                        [
                          0.5,
                          "#f7f7f7"
                        ],
                        [
                          0.6,
                          "#e6f5d0"
                        ],
                        [
                          0.7,
                          "#b8e186"
                        ],
                        [
                          0.8,
                          "#7fbc41"
                        ],
                        [
                          0.9,
                          "#4d9221"
                        ],
                        [
                          1,
                          "#276419"
                        ]
                      ],
                      "sequential": [
                        [
                          0,
                          "#0d0887"
                        ],
                        [
                          0.1111111111111111,
                          "#46039f"
                        ],
                        [
                          0.2222222222222222,
                          "#7201a8"
                        ],
                        [
                          0.3333333333333333,
                          "#9c179e"
                        ],
                        [
                          0.4444444444444444,
                          "#bd3786"
                        ],
                        [
                          0.5555555555555556,
                          "#d8576b"
                        ],
                        [
                          0.6666666666666666,
                          "#ed7953"
                        ],
                        [
                          0.7777777777777778,
                          "#fb9f3a"
                        ],
                        [
                          0.8888888888888888,
                          "#fdca26"
                        ],
                        [
                          1,
                          "#f0f921"
                        ]
                      ],
                      "sequentialminus": [
                        [
                          0,
                          "#0d0887"
                        ],
                        [
                          0.1111111111111111,
                          "#46039f"
                        ],
                        [
                          0.2222222222222222,
                          "#7201a8"
                        ],
                        [
                          0.3333333333333333,
                          "#9c179e"
                        ],
                        [
                          0.4444444444444444,
                          "#bd3786"
                        ],
                        [
                          0.5555555555555556,
                          "#d8576b"
                        ],
                        [
                          0.6666666666666666,
                          "#ed7953"
                        ],
                        [
                          0.7777777777777778,
                          "#fb9f3a"
                        ],
                        [
                          0.8888888888888888,
                          "#fdca26"
                        ],
                        [
                          1,
                          "#f0f921"
                        ]
                      ]
                    },
                    "colorway": [
                      "#636efa",
                      "#EF553B",
                      "#00cc96",
                      "#ab63fa",
                      "#FFA15A",
                      "#19d3f3",
                      "#FF6692",
                      "#B6E880",
                      "#FF97FF",
                      "#FECB52"
                    ],
                    "font": {
                      "color": "#2a3f5f"
                    },
                    "geo": {
                      "bgcolor": "white",
                      "lakecolor": "white",
                      "landcolor": "#E5ECF6",
                      "showlakes": true,
                      "showland": true,
                      "subunitcolor": "white"
                    },
                    "hoverlabel": {
                      "align": "left"
                    },
                    "hovermode": "closest",
                    "mapbox": {
                      "style": "light"
                    },
                    "paper_bgcolor": "white",
                    "plot_bgcolor": "#E5ECF6",
                    "polar": {
                      "angularaxis": {
                        "gridcolor": "white",
                        "linecolor": "white",
                        "ticks": ""
                      },
                      "bgcolor": "#E5ECF6",
                      "radialaxis": {
                        "gridcolor": "white",
                        "linecolor": "white",
                        "ticks": ""
                      }
                    },
                    "scene": {
                      "xaxis": {
                        "backgroundcolor": "#E5ECF6",
                        "gridcolor": "white",
                        "gridwidth": 2,
                        "linecolor": "white",
                        "showbackground": true,
                        "ticks": "",
                        "zerolinecolor": "white"
                      },
                      "yaxis": {
                        "backgroundcolor": "#E5ECF6",
                        "gridcolor": "white",
                        "gridwidth": 2,
                        "linecolor": "white",
                        "showbackground": true,
                        "ticks": "",
                        "zerolinecolor": "white"
                      },
                      "zaxis": {
                        "backgroundcolor": "#E5ECF6",
                        "gridcolor": "white",
                        "gridwidth": 2,
                        "linecolor": "white",
                        "showbackground": true,
                        "ticks": "",
                        "zerolinecolor": "white"
                      }
                    },
                    "shapedefaults": {
                      "line": {
                        "color": "#2a3f5f"
                      }
                    },
                    "ternary": {
                      "aaxis": {
                        "gridcolor": "white",
                        "linecolor": "white",
                        "ticks": ""
                      },
                      "baxis": {
                        "gridcolor": "white",
                        "linecolor": "white",
                        "ticks": ""
                      },
                      "bgcolor": "#E5ECF6",
                      "caxis": {
                        "gridcolor": "white",
                        "linecolor": "white",
                        "ticks": ""
                      }
                    },
                    "title": {
                      "x": 0.05
                    },
                    "xaxis": {
                      "automargin": true,
                      "gridcolor": "white",
                      "linecolor": "white",
                      "ticks": "",
                      "title": {
                        "standoff": 15
                      },
                      "zerolinecolor": "white",
                      "zerolinewidth": 2
                    },
                    "yaxis": {
                      "automargin": true,
                      "gridcolor": "white",
                      "linecolor": "white",
                      "ticks": "",
                      "title": {
                        "standoff": 15
                      },
                      "zerolinecolor": "white",
                      "zerolinewidth": 2
                    }
                  }
                },
                "xaxis": {
                  "anchor": "y",
                  "domain": [
                    0,
                    1
                  ],
                  "tickformat": ".0%",
                  "title": {
                    "text": "Market Excess Return"
                  }
                },
                "yaxis": {
                  "anchor": "x",
                  "domain": [
                    0,
                    1
                  ],
                  "tickformat": ".0%",
                  "title": {
                    "text": "IBM Excess Return"
                  }
                }
              }
            }
          },
          "metadata": {},
          "output_type": "display_data"
        }
      ],
      "source": [
        "import plotly.express as px\n",
        "\n",
        "df = df[[\"Mkt-RF\", \"ret\"]].reset_index()\n",
        "df.columns = [\"date\", \"mkt\", \"ret\"]\n",
        "df[\"date\"] = df.date.astype(str)\n",
        "df['mkt'] = df['mkt']/100\n",
        "df['ret'] = df['ret']/100\n",
        "\n",
        "fig = px.scatter(\n",
        "    df,\n",
        "    x=\"mkt\",\n",
        "    y=\"ret\",\n",
        "    trendline=\"ols\",\n",
        "    hover_data=dict(ret=False, mkt=False, date=False),\n",
        "    hover_name=\"date\",\n",
        ")\n",
        "fig.layout.xaxis[\"title\"] = \"Market Excess Return\"\n",
        "fig.layout.yaxis[\"title\"] = ticker.upper() + \" Excess Return\"\n",
        "fig.update_traces(\n",
        "    marker=dict(size=12, line=dict(width=2, color=\"DarkSlateGrey\")),\n",
        "    selector=dict(mode=\"markers\"),\n",
        ")\n",
        "fig.update_yaxes(tickformat=\".0%\")\n",
        "fig.update_xaxes(tickformat=\".0%\")\n",
        "fig.show()"
      ]
    },
    {
      "cell_type": "code",
      "execution_count": null,
      "metadata": {},
      "outputs": [],
      "source": []
    }
  ],
  "metadata": {
    "colab": {
      "collapsed_sections": [],
      "include_colab_link": true,
      "name": "capm cost of equity calculator.ipynb",
      "provenance": []
    },
    "kernelspec": {
      "display_name": "Python 3",
      "name": "python3"
    },
    "language_info": {
      "codemirror_mode": {
        "name": "ipython",
        "version": 3
      },
      "file_extension": ".py",
      "mimetype": "text/x-python",
      "name": "python",
      "nbconvert_exporter": "python",
      "pygments_lexer": "ipython3",
      "version": "3.10.6"
    }
  },
  "nbformat": 4,
  "nbformat_minor": 0
}
