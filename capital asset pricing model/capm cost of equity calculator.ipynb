{
 "cells": [
  {
   "cell_type": "markdown",
   "metadata": {},
   "source": [
    "---\n",
    "\n",
    "Created for [learn-investments.rice-business.org](https://learn-investments.rice-business.org)\n",
    "    \n",
    "By [Kerry Back](https://kerryback.com) and [Kevin Crotty](https://kevin-crotty.com)\n",
    "    \n",
    "Jones Graduate School of Business, Rice University\n",
    "\n",
    "---\n"
   ]
  },
  {
   "cell_type": "markdown",
   "metadata": {},
   "source": [
    "# EXAMPLE TICKER"
   ]
  },
  {
   "cell_type": "code",
   "execution_count": 1,
   "metadata": {},
   "outputs": [],
   "source": [
    "ticker = \"IBM\""
   ]
  },
  {
   "cell_type": "markdown",
   "metadata": {},
   "source": [
    "# GET DATA"
   ]
  },
  {
   "cell_type": "code",
   "execution_count": 2,
   "metadata": {},
   "outputs": [],
   "source": [
    "import pandas as pd\n",
    "import yfinance as yf\n",
    "from pandas_datareader import DataReader as pdr\n",
    "import warnings\n",
    "warnings.simplefilter(action='ignore', category=FutureWarning)\n",
    "\n",
    "# get monthly market excess return and risk-free rate for past 60 months from French's data library\n",
    "ff = pdr('F-F_Research_Data_Factors','famafrench',start=2017)[0]\n",
    "ff = ff.iloc[-60:]\n",
    "\n",
    "# get mean annual market excess return since 1926 from French's data library\n",
    "mprem = pdr('F-F_Research_Data_Factors','famafrench',start=1926)[1]['Mkt-RF'].mean()\n",
    "\n",
    "# get current 3-month Treasury bill yield from FRED\n",
    "rf = pdr('DGS3MO','fred',start=2022).iloc[-1].item()\n",
    "\n",
    "# pull data from yahoo for ticker\n",
    "ret = yf.download(\n",
    "    ticker, \n",
    "    start='2017-01-01', \n",
    "    progress=False,\n",
    "    auto_adjust=False\n",
    "  )['Adj Close']\n",
    "ret = ret.resample('M').last().pct_change()*100\n",
    "ret.index = ret.index.to_period('M')\n",
    "ret.columns = [\"ret\"]\n",
    "\n",
    "# merge with French data, reducing to 60 months in the process\n",
    "df = ff.join(ret,how='left')\n",
    "\n",
    "# compute excess returns for the ticker \n",
    "df['ret'] -= df.RF"
   ]
  },
  {
   "cell_type": "markdown",
   "metadata": {},
   "source": [
    "# RUN MARKET MODEL REGRESSION"
   ]
  },
  {
   "cell_type": "code",
   "execution_count": 3,
   "metadata": {},
   "outputs": [],
   "source": [
    "import statsmodels.api as sm\n",
    "\n",
    "# run regression of excess return on market excess return and get beta\n",
    "result = sm.OLS(df.ret,sm.add_constant(df['Mkt-RF'])).fit()\n",
    "beta = result.params['Mkt-RF']"
   ]
  },
  {
   "cell_type": "markdown",
   "metadata": {},
   "source": [
    "# CALCULATE COST OF EQUITY"
   ]
  },
  {
   "cell_type": "code",
   "execution_count": 4,
   "metadata": {},
   "outputs": [
    {
     "name": "stdout",
     "output_type": "stream",
     "text": [
      "Beta:\t\t\t0.69\n",
      "Market Risk Premium:\t8.80\n",
      "IBM Risk Premium:\t6.03\n",
      "Risk-free Rate:\t\t4.32\n",
      "IBM Cost of Equity:\t10.35\n"
     ]
    }
   ],
   "source": [
    "# compute cost of equity\n",
    "eret = rf + beta*mprem\n",
    "\n",
    "\n",
    "print(f'Beta:\\t\\t\\t{beta:.2f}')\n",
    "print(f'Market Risk Premium:\\t{mprem:.2f}')\n",
    "print(f'{ticker} Risk Premium:\\t{beta*mprem:.2f}')\n",
    "print(f'Risk-free Rate:\\t\\t{rf:.2f}')\n",
    "print(f'{ticker} Cost of Equity:\\t{eret:.2f}')"
   ]
  },
  {
   "cell_type": "markdown",
   "metadata": {},
   "source": [
    "# FIGURE"
   ]
  },
  {
   "cell_type": "code",
   "execution_count": 5,
   "metadata": {
    "id": "5dCLJ_BvUC_A"
   },
   "outputs": [
    {
     "data": {
      "application/vnd.plotly.v1+json": {
       "config": {
        "plotlyServerURL": "https://plot.ly"
       },
       "data": [
        {
         "customdata": [
          [
           "2020-01"
          ],
          [
           "2020-02"
          ],
          [
           "2020-03"
          ],
          [
           "2020-04"
          ],
          [
           "2020-05"
          ],
          [
           "2020-06"
          ],
          [
           "2020-07"
          ],
          [
           "2020-08"
          ],
          [
           "2020-09"
          ],
          [
           "2020-10"
          ],
          [
           "2020-11"
          ],
          [
           "2020-12"
          ],
          [
           "2021-01"
          ],
          [
           "2021-02"
          ],
          [
           "2021-03"
          ],
          [
           "2021-04"
          ],
          [
           "2021-05"
          ],
          [
           "2021-06"
          ],
          [
           "2021-07"
          ],
          [
           "2021-08"
          ],
          [
           "2021-09"
          ],
          [
           "2021-10"
          ],
          [
           "2021-11"
          ],
          [
           "2021-12"
          ],
          [
           "2022-01"
          ],
          [
           "2022-02"
          ],
          [
           "2022-03"
          ],
          [
           "2022-04"
          ],
          [
           "2022-05"
          ],
          [
           "2022-06"
          ],
          [
           "2022-07"
          ],
          [
           "2022-08"
          ],
          [
           "2022-09"
          ],
          [
           "2022-10"
          ],
          [
           "2022-11"
          ],
          [
           "2022-12"
          ],
          [
           "2023-01"
          ],
          [
           "2023-02"
          ],
          [
           "2023-03"
          ],
          [
           "2023-04"
          ],
          [
           "2023-05"
          ],
          [
           "2023-06"
          ],
          [
           "2023-07"
          ],
          [
           "2023-08"
          ],
          [
           "2023-09"
          ],
          [
           "2023-10"
          ],
          [
           "2023-11"
          ],
          [
           "2023-12"
          ],
          [
           "2024-01"
          ],
          [
           "2024-02"
          ],
          [
           "2024-03"
          ],
          [
           "2024-04"
          ],
          [
           "2024-05"
          ],
          [
           "2024-06"
          ],
          [
           "2024-07"
          ],
          [
           "2024-08"
          ],
          [
           "2024-09"
          ],
          [
           "2024-10"
          ],
          [
           "2024-11"
          ],
          [
           "2024-12"
          ]
         ],
         "hovertemplate": "<b>%{hovertext}</b><br><br><extra></extra>",
         "hovertext": [
          "2020-01",
          "2020-02",
          "2020-03",
          "2020-04",
          "2020-05",
          "2020-06",
          "2020-07",
          "2020-08",
          "2020-09",
          "2020-10",
          "2020-11",
          "2020-12",
          "2021-01",
          "2021-02",
          "2021-03",
          "2021-04",
          "2021-05",
          "2021-06",
          "2021-07",
          "2021-08",
          "2021-09",
          "2021-10",
          "2021-11",
          "2021-12",
          "2022-01",
          "2022-02",
          "2022-03",
          "2022-04",
          "2022-05",
          "2022-06",
          "2022-07",
          "2022-08",
          "2022-09",
          "2022-10",
          "2022-11",
          "2022-12",
          "2023-01",
          "2023-02",
          "2023-03",
          "2023-04",
          "2023-05",
          "2023-06",
          "2023-07",
          "2023-08",
          "2023-09",
          "2023-10",
          "2023-11",
          "2023-12",
          "2024-01",
          "2024-02",
          "2024-03",
          "2024-04",
          "2024-05",
          "2024-06",
          "2024-07",
          "2024-08",
          "2024-09",
          "2024-10",
          "2024-11",
          "2024-12"
         ],
         "legendgroup": "",
         "marker": {
          "color": "#636efa",
          "line": {
           "color": "DarkSlateGrey",
           "width": 2
          },
          "size": 12,
          "symbol": "circle"
         },
         "mode": "markers",
         "name": "",
         "orientation": "v",
         "showlegend": false,
         "type": "scatter",
         "x": [
          -0.0011,
          -0.08130000000000001,
          -0.13390000000000002,
          0.1365,
          0.0558,
          0.0246,
          0.057699999999999994,
          0.07629999999999999,
          -0.0363,
          -0.021,
          0.1247,
          0.0463,
          -0.0003,
          0.0278,
          0.0308,
          0.0493,
          0.0029,
          0.0275,
          0.0127,
          0.0291,
          -0.0437,
          0.0665,
          -0.0155,
          0.031,
          -0.0625,
          -0.0229,
          0.030600000000000002,
          -0.0946,
          -0.0034000000000000002,
          -0.08439999999999999,
          0.09570000000000001,
          -0.0377,
          -0.0935,
          0.0783,
          0.0461,
          -0.0641,
          0.0664,
          -0.0259,
          0.025099999999999997,
          0.0060999999999999995,
          0.0034999999999999996,
          0.0647,
          0.0321,
          -0.0239,
          -0.0524,
          -0.0318,
          0.0883,
          0.0487,
          0.006999999999999999,
          0.0507,
          0.028300000000000002,
          -0.0467,
          0.0434,
          0.0277,
          0.0124,
          0.0161,
          0.0174,
          -0.0097,
          0.06509999999999999,
          -0.0317
         ],
         "xaxis": "x",
         "y": [
          0.07099219724599778,
          -0.08622740494315885,
          -0.14897577904287598,
          0.13188513249650313,
          0.007983965727961218,
          -0.03316604982687044,
          0.017867871497795108,
          0.01604242140186195,
          -0.013399892884162667,
          -0.08237171689321611,
          0.12215591095486288,
          0.01900614549535583,
          -0.053881259646031535,
          0.011831566699851859,
          0.12049099541762764,
          0.06468562755195029,
          0.02442914430029952,
          0.019827680185483976,
          -0.03840651710891785,
          0.007063887409391567,
          -0.010046990269995226,
          -0.09954661268552034,
          -0.007825090118646294,
          0.14131758244144232,
          -0.0006733930317530668,
          -0.0717548379160845,
          0.061201163972914856,
          0.016743361521757805,
          0.06258640278285683,
          0.016326269710654696,
          -0.07445974487958704,
          -0.007417494392260902,
          -0.07694864488245444,
          0.16165922535255856,
          0.08666055334304282,
          -0.05709457501282692,
          -0.04722201975358702,
          -0.031914710348997774,
          0.010243766542954495,
          -0.039200628444818586,
          0.027516103536958707,
          0.036594256223774886,
          0.07299784603149634,
          0.025599245991545897,
          -0.048773292849583455,
          0.02623378312518769,
          0.10427156386348164,
          0.0271706937784035,
          0.11825931072797671,
          0.012444263965320595,
          0.027748916098216028,
          -0.13436072584429112,
          0.009476645816143008,
          0.03245985113347304,
          0.10645688343060161,
          0.05639439839549146,
          0.08975151029466621,
          -0.0688538930221758,
          0.10475695710885334,
          -0.03703184959124036
         ],
         "yaxis": "y"
        },
        {
         "hovertemplate": "<b>OLS trendline</b><br>ret = 0.685224 * mkt + 0.00607552<br>R<sup>2</sup>=0.290708<br><br><extra></extra>",
         "legendgroup": "",
         "marker": {
          "color": "#636efa",
          "symbol": "circle"
         },
         "mode": "lines",
         "name": "",
         "showlegend": false,
         "type": "scatter",
         "x": [
          -0.13390000000000002,
          -0.0946,
          -0.0935,
          -0.08439999999999999,
          -0.08130000000000001,
          -0.0641,
          -0.0625,
          -0.0524,
          -0.0467,
          -0.0437,
          -0.0377,
          -0.0363,
          -0.0318,
          -0.0317,
          -0.0259,
          -0.0239,
          -0.0229,
          -0.021,
          -0.0155,
          -0.0097,
          -0.0034000000000000002,
          -0.0011,
          -0.0003,
          0.0029,
          0.0034999999999999996,
          0.0060999999999999995,
          0.006999999999999999,
          0.0124,
          0.0127,
          0.0161,
          0.0174,
          0.0246,
          0.025099999999999997,
          0.0275,
          0.0277,
          0.0278,
          0.028300000000000002,
          0.0291,
          0.030600000000000002,
          0.0308,
          0.031,
          0.0321,
          0.0434,
          0.0461,
          0.0463,
          0.0487,
          0.0493,
          0.0507,
          0.0558,
          0.057699999999999994,
          0.0647,
          0.06509999999999999,
          0.0664,
          0.0665,
          0.07629999999999999,
          0.0783,
          0.0883,
          0.09570000000000001,
          0.1247,
          0.1365
         ],
         "xaxis": "x",
         "y": [
          -0.08567598297083173,
          -0.05874667694723961,
          -0.05799293046820777,
          -0.0517573914143989,
          -0.04963319679167282,
          -0.03784734275590222,
          -0.03675098424094682,
          -0.029830221115290836,
          -0.025924443905762207,
          -0.023868771690220825,
          -0.01975742725913806,
          -0.01879811355855208,
          -0.01571460523524001,
          -0.015646082828055297,
          -0.01167178321134196,
          -0.010301335067647705,
          -0.009616110995800578,
          -0.008314185259291037,
          -0.004545452864131836,
          -0.0005711532474184967,
          0.003745758405218405,
          0.005321773770466798,
          0.0058699530279445,
          0.008062670057855307,
          0.008473804500963583,
          0.010255387087766115,
          0.010872088752428528,
          0.014572298740403016,
          0.014777865961957154,
          0.01710762780623739,
          0.017998419099638653,
          0.02293203241693797,
          0.02327464445286153,
          0.02491918222529464,
          0.025056227039664064,
          0.025124749446848775,
          0.025467361482772344,
          0.026015540740250042,
          0.027043376848020734,
          0.02718042166239016,
          0.027317466476759585,
          0.028071212955791423,
          0.035814244967663965,
          0.03766434996165121,
          0.03780139477602063,
          0.03944593254845374,
          0.03985706699156201,
          0.04081638069214799,
          0.04431102345856834,
          0.04561294919507788,
          0.05040951769800777,
          0.05068360732674662,
          0.05157439862014789,
          0.0516429210273326,
          0.058358116931434445,
          0.0597285650751287,
          0.06658080579359998,
          0.07165146392526872,
          0.09152296200883542,
          0.09960860605663152
         ],
         "yaxis": "y"
        }
       ],
       "layout": {
        "legend": {
         "tracegroupgap": 0
        },
        "margin": {
         "t": 60
        },
        "template": {
         "data": {
          "bar": [
           {
            "error_x": {
             "color": "#2a3f5f"
            },
            "error_y": {
             "color": "#2a3f5f"
            },
            "marker": {
             "line": {
              "color": "white",
              "width": 0.5
             },
             "pattern": {
              "fillmode": "overlay",
              "size": 10,
              "solidity": 0.2
             }
            },
            "type": "bar"
           }
          ],
          "barpolar": [
           {
            "marker": {
             "line": {
              "color": "white",
              "width": 0.5
             },
             "pattern": {
              "fillmode": "overlay",
              "size": 10,
              "solidity": 0.2
             }
            },
            "type": "barpolar"
           }
          ],
          "carpet": [
           {
            "aaxis": {
             "endlinecolor": "#2a3f5f",
             "gridcolor": "#C8D4E3",
             "linecolor": "#C8D4E3",
             "minorgridcolor": "#C8D4E3",
             "startlinecolor": "#2a3f5f"
            },
            "baxis": {
             "endlinecolor": "#2a3f5f",
             "gridcolor": "#C8D4E3",
             "linecolor": "#C8D4E3",
             "minorgridcolor": "#C8D4E3",
             "startlinecolor": "#2a3f5f"
            },
            "type": "carpet"
           }
          ],
          "choropleth": [
           {
            "colorbar": {
             "outlinewidth": 0,
             "ticks": ""
            },
            "type": "choropleth"
           }
          ],
          "contour": [
           {
            "colorbar": {
             "outlinewidth": 0,
             "ticks": ""
            },
            "colorscale": [
             [
              0,
              "#0d0887"
             ],
             [
              0.1111111111111111,
              "#46039f"
             ],
             [
              0.2222222222222222,
              "#7201a8"
             ],
             [
              0.3333333333333333,
              "#9c179e"
             ],
             [
              0.4444444444444444,
              "#bd3786"
             ],
             [
              0.5555555555555556,
              "#d8576b"
             ],
             [
              0.6666666666666666,
              "#ed7953"
             ],
             [
              0.7777777777777778,
              "#fb9f3a"
             ],
             [
              0.8888888888888888,
              "#fdca26"
             ],
             [
              1,
              "#f0f921"
             ]
            ],
            "type": "contour"
           }
          ],
          "contourcarpet": [
           {
            "colorbar": {
             "outlinewidth": 0,
             "ticks": ""
            },
            "type": "contourcarpet"
           }
          ],
          "heatmap": [
           {
            "colorbar": {
             "outlinewidth": 0,
             "ticks": ""
            },
            "colorscale": [
             [
              0,
              "#0d0887"
             ],
             [
              0.1111111111111111,
              "#46039f"
             ],
             [
              0.2222222222222222,
              "#7201a8"
             ],
             [
              0.3333333333333333,
              "#9c179e"
             ],
             [
              0.4444444444444444,
              "#bd3786"
             ],
             [
              0.5555555555555556,
              "#d8576b"
             ],
             [
              0.6666666666666666,
              "#ed7953"
             ],
             [
              0.7777777777777778,
              "#fb9f3a"
             ],
             [
              0.8888888888888888,
              "#fdca26"
             ],
             [
              1,
              "#f0f921"
             ]
            ],
            "type": "heatmap"
           }
          ],
          "heatmapgl": [
           {
            "colorbar": {
             "outlinewidth": 0,
             "ticks": ""
            },
            "colorscale": [
             [
              0,
              "#0d0887"
             ],
             [
              0.1111111111111111,
              "#46039f"
             ],
             [
              0.2222222222222222,
              "#7201a8"
             ],
             [
              0.3333333333333333,
              "#9c179e"
             ],
             [
              0.4444444444444444,
              "#bd3786"
             ],
             [
              0.5555555555555556,
              "#d8576b"
             ],
             [
              0.6666666666666666,
              "#ed7953"
             ],
             [
              0.7777777777777778,
              "#fb9f3a"
             ],
             [
              0.8888888888888888,
              "#fdca26"
             ],
             [
              1,
              "#f0f921"
             ]
            ],
            "type": "heatmapgl"
           }
          ],
          "histogram": [
           {
            "marker": {
             "pattern": {
              "fillmode": "overlay",
              "size": 10,
              "solidity": 0.2
             }
            },
            "type": "histogram"
           }
          ],
          "histogram2d": [
           {
            "colorbar": {
             "outlinewidth": 0,
             "ticks": ""
            },
            "colorscale": [
             [
              0,
              "#0d0887"
             ],
             [
              0.1111111111111111,
              "#46039f"
             ],
             [
              0.2222222222222222,
              "#7201a8"
             ],
             [
              0.3333333333333333,
              "#9c179e"
             ],
             [
              0.4444444444444444,
              "#bd3786"
             ],
             [
              0.5555555555555556,
              "#d8576b"
             ],
             [
              0.6666666666666666,
              "#ed7953"
             ],
             [
              0.7777777777777778,
              "#fb9f3a"
             ],
             [
              0.8888888888888888,
              "#fdca26"
             ],
             [
              1,
              "#f0f921"
             ]
            ],
            "type": "histogram2d"
           }
          ],
          "histogram2dcontour": [
           {
            "colorbar": {
             "outlinewidth": 0,
             "ticks": ""
            },
            "colorscale": [
             [
              0,
              "#0d0887"
             ],
             [
              0.1111111111111111,
              "#46039f"
             ],
             [
              0.2222222222222222,
              "#7201a8"
             ],
             [
              0.3333333333333333,
              "#9c179e"
             ],
             [
              0.4444444444444444,
              "#bd3786"
             ],
             [
              0.5555555555555556,
              "#d8576b"
             ],
             [
              0.6666666666666666,
              "#ed7953"
             ],
             [
              0.7777777777777778,
              "#fb9f3a"
             ],
             [
              0.8888888888888888,
              "#fdca26"
             ],
             [
              1,
              "#f0f921"
             ]
            ],
            "type": "histogram2dcontour"
           }
          ],
          "mesh3d": [
           {
            "colorbar": {
             "outlinewidth": 0,
             "ticks": ""
            },
            "type": "mesh3d"
           }
          ],
          "parcoords": [
           {
            "line": {
             "colorbar": {
              "outlinewidth": 0,
              "ticks": ""
             }
            },
            "type": "parcoords"
           }
          ],
          "pie": [
           {
            "automargin": true,
            "type": "pie"
           }
          ],
          "scatter": [
           {
            "fillpattern": {
             "fillmode": "overlay",
             "size": 10,
             "solidity": 0.2
            },
            "type": "scatter"
           }
          ],
          "scatter3d": [
           {
            "line": {
             "colorbar": {
              "outlinewidth": 0,
              "ticks": ""
             }
            },
            "marker": {
             "colorbar": {
              "outlinewidth": 0,
              "ticks": ""
             }
            },
            "type": "scatter3d"
           }
          ],
          "scattercarpet": [
           {
            "marker": {
             "colorbar": {
              "outlinewidth": 0,
              "ticks": ""
             }
            },
            "type": "scattercarpet"
           }
          ],
          "scattergeo": [
           {
            "marker": {
             "colorbar": {
              "outlinewidth": 0,
              "ticks": ""
             }
            },
            "type": "scattergeo"
           }
          ],
          "scattergl": [
           {
            "marker": {
             "colorbar": {
              "outlinewidth": 0,
              "ticks": ""
             }
            },
            "type": "scattergl"
           }
          ],
          "scattermapbox": [
           {
            "marker": {
             "colorbar": {
              "outlinewidth": 0,
              "ticks": ""
             }
            },
            "type": "scattermapbox"
           }
          ],
          "scatterpolar": [
           {
            "marker": {
             "colorbar": {
              "outlinewidth": 0,
              "ticks": ""
             }
            },
            "type": "scatterpolar"
           }
          ],
          "scatterpolargl": [
           {
            "marker": {
             "colorbar": {
              "outlinewidth": 0,
              "ticks": ""
             }
            },
            "type": "scatterpolargl"
           }
          ],
          "scatterternary": [
           {
            "marker": {
             "colorbar": {
              "outlinewidth": 0,
              "ticks": ""
             }
            },
            "type": "scatterternary"
           }
          ],
          "surface": [
           {
            "colorbar": {
             "outlinewidth": 0,
             "ticks": ""
            },
            "colorscale": [
             [
              0,
              "#0d0887"
             ],
             [
              0.1111111111111111,
              "#46039f"
             ],
             [
              0.2222222222222222,
              "#7201a8"
             ],
             [
              0.3333333333333333,
              "#9c179e"
             ],
             [
              0.4444444444444444,
              "#bd3786"
             ],
             [
              0.5555555555555556,
              "#d8576b"
             ],
             [
              0.6666666666666666,
              "#ed7953"
             ],
             [
              0.7777777777777778,
              "#fb9f3a"
             ],
             [
              0.8888888888888888,
              "#fdca26"
             ],
             [
              1,
              "#f0f921"
             ]
            ],
            "type": "surface"
           }
          ],
          "table": [
           {
            "cells": {
             "fill": {
              "color": "#EBF0F8"
             },
             "line": {
              "color": "white"
             }
            },
            "header": {
             "fill": {
              "color": "#C8D4E3"
             },
             "line": {
              "color": "white"
             }
            },
            "type": "table"
           }
          ]
         },
         "layout": {
          "annotationdefaults": {
           "arrowcolor": "#2a3f5f",
           "arrowhead": 0,
           "arrowwidth": 1
          },
          "autotypenumbers": "strict",
          "coloraxis": {
           "colorbar": {
            "outlinewidth": 0,
            "ticks": ""
           }
          },
          "colorscale": {
           "diverging": [
            [
             0,
             "#8e0152"
            ],
            [
             0.1,
             "#c51b7d"
            ],
            [
             0.2,
             "#de77ae"
            ],
            [
             0.3,
             "#f1b6da"
            ],
            [
             0.4,
             "#fde0ef"
            ],
            [
             0.5,
             "#f7f7f7"
            ],
            [
             0.6,
             "#e6f5d0"
            ],
            [
             0.7,
             "#b8e186"
            ],
            [
             0.8,
             "#7fbc41"
            ],
            [
             0.9,
             "#4d9221"
            ],
            [
             1,
             "#276419"
            ]
           ],
           "sequential": [
            [
             0,
             "#0d0887"
            ],
            [
             0.1111111111111111,
             "#46039f"
            ],
            [
             0.2222222222222222,
             "#7201a8"
            ],
            [
             0.3333333333333333,
             "#9c179e"
            ],
            [
             0.4444444444444444,
             "#bd3786"
            ],
            [
             0.5555555555555556,
             "#d8576b"
            ],
            [
             0.6666666666666666,
             "#ed7953"
            ],
            [
             0.7777777777777778,
             "#fb9f3a"
            ],
            [
             0.8888888888888888,
             "#fdca26"
            ],
            [
             1,
             "#f0f921"
            ]
           ],
           "sequentialminus": [
            [
             0,
             "#0d0887"
            ],
            [
             0.1111111111111111,
             "#46039f"
            ],
            [
             0.2222222222222222,
             "#7201a8"
            ],
            [
             0.3333333333333333,
             "#9c179e"
            ],
            [
             0.4444444444444444,
             "#bd3786"
            ],
            [
             0.5555555555555556,
             "#d8576b"
            ],
            [
             0.6666666666666666,
             "#ed7953"
            ],
            [
             0.7777777777777778,
             "#fb9f3a"
            ],
            [
             0.8888888888888888,
             "#fdca26"
            ],
            [
             1,
             "#f0f921"
            ]
           ]
          },
          "colorway": [
           "#636efa",
           "#EF553B",
           "#00cc96",
           "#ab63fa",
           "#FFA15A",
           "#19d3f3",
           "#FF6692",
           "#B6E880",
           "#FF97FF",
           "#FECB52"
          ],
          "font": {
           "color": "#2a3f5f"
          },
          "geo": {
           "bgcolor": "white",
           "lakecolor": "white",
           "landcolor": "white",
           "showlakes": true,
           "showland": true,
           "subunitcolor": "#C8D4E3"
          },
          "hoverlabel": {
           "align": "left"
          },
          "hovermode": "closest",
          "mapbox": {
           "style": "light"
          },
          "paper_bgcolor": "white",
          "plot_bgcolor": "white",
          "polar": {
           "angularaxis": {
            "gridcolor": "#EBF0F8",
            "linecolor": "#EBF0F8",
            "ticks": ""
           },
           "bgcolor": "white",
           "radialaxis": {
            "gridcolor": "#EBF0F8",
            "linecolor": "#EBF0F8",
            "ticks": ""
           }
          },
          "scene": {
           "xaxis": {
            "backgroundcolor": "white",
            "gridcolor": "#DFE8F3",
            "gridwidth": 2,
            "linecolor": "#EBF0F8",
            "showbackground": true,
            "ticks": "",
            "zerolinecolor": "#EBF0F8"
           },
           "yaxis": {
            "backgroundcolor": "white",
            "gridcolor": "#DFE8F3",
            "gridwidth": 2,
            "linecolor": "#EBF0F8",
            "showbackground": true,
            "ticks": "",
            "zerolinecolor": "#EBF0F8"
           },
           "zaxis": {
            "backgroundcolor": "white",
            "gridcolor": "#DFE8F3",
            "gridwidth": 2,
            "linecolor": "#EBF0F8",
            "showbackground": true,
            "ticks": "",
            "zerolinecolor": "#EBF0F8"
           }
          },
          "shapedefaults": {
           "line": {
            "color": "#2a3f5f"
           }
          },
          "ternary": {
           "aaxis": {
            "gridcolor": "#DFE8F3",
            "linecolor": "#A2B1C6",
            "ticks": ""
           },
           "baxis": {
            "gridcolor": "#DFE8F3",
            "linecolor": "#A2B1C6",
            "ticks": ""
           },
           "bgcolor": "white",
           "caxis": {
            "gridcolor": "#DFE8F3",
            "linecolor": "#A2B1C6",
            "ticks": ""
           }
          },
          "title": {
           "x": 0.05
          },
          "xaxis": {
           "automargin": true,
           "gridcolor": "#EBF0F8",
           "linecolor": "#EBF0F8",
           "ticks": "",
           "title": {
            "standoff": 15
           },
           "zerolinecolor": "#EBF0F8",
           "zerolinewidth": 2
          },
          "yaxis": {
           "automargin": true,
           "gridcolor": "#EBF0F8",
           "linecolor": "#EBF0F8",
           "ticks": "",
           "title": {
            "standoff": 15
           },
           "zerolinecolor": "#EBF0F8",
           "zerolinewidth": 2
          }
         }
        },
        "xaxis": {
         "anchor": "y",
         "domain": [
          0,
          1
         ],
         "tickformat": ".0%",
         "title": {
          "text": "Market Excess Return"
         }
        },
        "yaxis": {
         "anchor": "x",
         "domain": [
          0,
          1
         ],
         "tickformat": ".0%",
         "title": {
          "text": "IBM Excess Return"
         }
        }
       }
      }
     },
     "metadata": {},
     "output_type": "display_data"
    }
   ],
   "source": [
    "import plotly.express as px\n",
    "\n",
    "df = df[[\"Mkt-RF\", \"ret\"]].reset_index()\n",
    "df.columns = [\"date\", \"mkt\", \"ret\"]\n",
    "df[\"date\"] = df.date.astype(str)\n",
    "df['mkt'] = df['mkt']/100\n",
    "df['ret'] = df['ret']/100\n",
    "\n",
    "fig = px.scatter(\n",
    "    df,\n",
    "    x=\"mkt\",\n",
    "    y=\"ret\",\n",
    "    trendline=\"ols\",\n",
    "    hover_data=dict(ret=False, mkt=False, date=False),\n",
    "    hover_name=\"date\",\n",
    ")\n",
    "\n",
    "fig.update_traces(\n",
    "    marker=dict(\n",
    "        size=12, \n",
    "        line=dict(width=2, color=\"DarkSlateGrey\")\n",
    "    ),\n",
    "    selector=dict(mode=\"markers\"),\n",
    ")\n",
    "\n",
    "fig.update_layout(\n",
    "    xaxis_title=\"Market Excess Return\",\n",
    "    yaxis_title=ticker.upper() + \" Excess Return\",\n",
    "    xaxis_tickformat=\".0%\",\n",
    "    yaxis_tickformat=\".0%\",\n",
    "    template=\"plotly_white\"\n",
    ")\n",
    "fig.show()"
   ]
  }
 ],
 "metadata": {
  "colab": {
   "collapsed_sections": [],
   "include_colab_link": true,
   "name": "capm cost of equity calculator.ipynb",
   "provenance": []
  },
  "kernelspec": {
   "display_name": "Python 3",
   "name": "python3"
  },
  "language_info": {
   "codemirror_mode": {
    "name": "ipython",
    "version": 3
   },
   "file_extension": ".py",
   "mimetype": "text/x-python",
   "name": "python",
   "nbconvert_exporter": "python",
   "pygments_lexer": "ipython3",
   "version": "3.13.0"
  }
 },
 "nbformat": 4,
 "nbformat_minor": 0
}
