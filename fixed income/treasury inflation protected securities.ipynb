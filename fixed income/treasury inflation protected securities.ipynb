{
  "cells": [
    {
      "cell_type": "markdown",
      "metadata": {
        "id": "view-in-github",
        "colab_type": "text"
      },
      "source": [
        "<a href=\"https://colab.research.google.com/github/bbcx-investments/notebooks/blob/main/bonds/tips.ipynb\" target=\"_parent\"><img src=\"https://colab.research.google.com/assets/colab-badge.svg\" alt=\"Open In Colab\"/></a>"
      ]
    },
    {
      "cell_type": "code",
      "execution_count": null,
      "outputs": [
        {
          "data": {
            "text/plain": "    Year  cf_nominal_tips  cf_nominal_treasury  cf_real_tips  cf_real_treasury\n0    0.5             3.06                 0.03          0.03              2.94\n1    1.0             3.12                 0.03          0.03              2.88\n2    1.5             3.18                 0.03          0.03              2.83\n3    2.0             3.25                 0.03          0.03              2.77\n4    2.5             3.31                 0.03          0.03              2.72\n5    3.0             3.38                 0.03          0.03              2.66\n6    3.5             3.45                 0.03          0.03              2.61\n7    4.0             3.51                 0.03          0.03              2.56\n8    4.5             3.59                 0.03          0.03              2.51\n9    5.0             3.66                 0.03          0.03              2.46\n10   5.5             3.73                 0.03          0.03              2.41\n11   6.0             3.80                 0.03          0.03              2.37\n12   6.5             3.88                 0.03          0.03              2.32\n13   7.0             3.96                 0.03          0.03              2.27\n14   7.5             4.04                 0.03          0.03              2.23\n15   8.0             4.12                 0.03          0.03              2.19\n16   8.5             4.20                 0.03          0.03              2.14\n17   9.0             4.28                 0.03          0.03              2.10\n18   9.5             4.37                 0.03          0.03              2.06\n19  10.0           153.05               100.03        100.03             69.32",
            "text/html": "<div>\n<style scoped>\n    .dataframe tbody tr th:only-of-type {\n        vertical-align: middle;\n    }\n\n    .dataframe tbody tr th {\n        vertical-align: top;\n    }\n\n    .dataframe thead th {\n        text-align: right;\n    }\n</style>\n<table border=\"1\" class=\"dataframe\">\n  <thead>\n    <tr style=\"text-align: right;\">\n      <th></th>\n      <th>Year</th>\n      <th>cf_nominal_tips</th>\n      <th>cf_nominal_treasury</th>\n      <th>cf_real_tips</th>\n      <th>cf_real_treasury</th>\n    </tr>\n  </thead>\n  <tbody>\n    <tr>\n      <th>0</th>\n      <td>0.5</td>\n      <td>3.06</td>\n      <td>0.03</td>\n      <td>0.03</td>\n      <td>2.94</td>\n    </tr>\n    <tr>\n      <th>1</th>\n      <td>1.0</td>\n      <td>3.12</td>\n      <td>0.03</td>\n      <td>0.03</td>\n      <td>2.88</td>\n    </tr>\n    <tr>\n      <th>2</th>\n      <td>1.5</td>\n      <td>3.18</td>\n      <td>0.03</td>\n      <td>0.03</td>\n      <td>2.83</td>\n    </tr>\n    <tr>\n      <th>3</th>\n      <td>2.0</td>\n      <td>3.25</td>\n      <td>0.03</td>\n      <td>0.03</td>\n      <td>2.77</td>\n    </tr>\n    <tr>\n      <th>4</th>\n      <td>2.5</td>\n      <td>3.31</td>\n      <td>0.03</td>\n      <td>0.03</td>\n      <td>2.72</td>\n    </tr>\n    <tr>\n      <th>5</th>\n      <td>3.0</td>\n      <td>3.38</td>\n      <td>0.03</td>\n      <td>0.03</td>\n      <td>2.66</td>\n    </tr>\n    <tr>\n      <th>6</th>\n      <td>3.5</td>\n      <td>3.45</td>\n      <td>0.03</td>\n      <td>0.03</td>\n      <td>2.61</td>\n    </tr>\n    <tr>\n      <th>7</th>\n      <td>4.0</td>\n      <td>3.51</td>\n      <td>0.03</td>\n      <td>0.03</td>\n      <td>2.56</td>\n    </tr>\n    <tr>\n      <th>8</th>\n      <td>4.5</td>\n      <td>3.59</td>\n      <td>0.03</td>\n      <td>0.03</td>\n      <td>2.51</td>\n    </tr>\n    <tr>\n      <th>9</th>\n      <td>5.0</td>\n      <td>3.66</td>\n      <td>0.03</td>\n      <td>0.03</td>\n      <td>2.46</td>\n    </tr>\n    <tr>\n      <th>10</th>\n      <td>5.5</td>\n      <td>3.73</td>\n      <td>0.03</td>\n      <td>0.03</td>\n      <td>2.41</td>\n    </tr>\n    <tr>\n      <th>11</th>\n      <td>6.0</td>\n      <td>3.80</td>\n      <td>0.03</td>\n      <td>0.03</td>\n      <td>2.37</td>\n    </tr>\n    <tr>\n      <th>12</th>\n      <td>6.5</td>\n      <td>3.88</td>\n      <td>0.03</td>\n      <td>0.03</td>\n      <td>2.32</td>\n    </tr>\n    <tr>\n      <th>13</th>\n      <td>7.0</td>\n      <td>3.96</td>\n      <td>0.03</td>\n      <td>0.03</td>\n      <td>2.27</td>\n    </tr>\n    <tr>\n      <th>14</th>\n      <td>7.5</td>\n      <td>4.04</td>\n      <td>0.03</td>\n      <td>0.03</td>\n      <td>2.23</td>\n    </tr>\n    <tr>\n      <th>15</th>\n      <td>8.0</td>\n      <td>4.12</td>\n      <td>0.03</td>\n      <td>0.03</td>\n      <td>2.19</td>\n    </tr>\n    <tr>\n      <th>16</th>\n      <td>8.5</td>\n      <td>4.20</td>\n      <td>0.03</td>\n      <td>0.03</td>\n      <td>2.14</td>\n    </tr>\n    <tr>\n      <th>17</th>\n      <td>9.0</td>\n      <td>4.28</td>\n      <td>0.03</td>\n      <td>0.03</td>\n      <td>2.10</td>\n    </tr>\n    <tr>\n      <th>18</th>\n      <td>9.5</td>\n      <td>4.37</td>\n      <td>0.03</td>\n      <td>0.03</td>\n      <td>2.06</td>\n    </tr>\n    <tr>\n      <th>19</th>\n      <td>10.0</td>\n      <td>153.05</td>\n      <td>100.03</td>\n      <td>100.03</td>\n      <td>69.32</td>\n    </tr>\n  </tbody>\n</table>\n</div>"
          },
          "execution_count": 3,
          "metadata": {},
          "output_type": "execute_result"
        }
      ],
      "source": [
        "import numpy as np\n",
        "import pandas as pd\n",
        "\n",
        "\n",
        "# example data\n",
        "maturity = 10\n",
        "inflation = 0.04\n",
        "coupon_rate_treasury = 0.06\n",
        "coupon_rate_tips = 0.06\n",
        "principal = 100\n",
        "\n",
        "# payments happen twice a year\n",
        "n = int(maturity * 2)\n",
        "coupon_treasury = coupon_rate_treasury / 2  # coupon of regular treasury in $\n",
        "coupon_tips = coupon_rate_tips / 2  # coupon of tips in $\n",
        "inflation = inflation / 2  # inflation rate for semi-year\n",
        "\n",
        "# nominal cash flows\n",
        "# tips\n",
        "adj_principal_nominal = principal * ((1 + inflation) ** np.arange(1, n + 1))\n",
        "ncashFlows_tips = adj_principal_nominal * (coupon_tips)\n",
        "ncashFlows_tips[-1] += adj_principal_nominal[-1]\n",
        "\n",
        "# regular treasury\n",
        "ncashFlows_treasury = [coupon_treasury] * n\n",
        "ncashFlows_treasury[-1] += 100\n",
        "\n",
        "# real cash flows\n",
        "# tips\n",
        "rcashFlows_tips = [coupon_tips] * n\n",
        "rcashFlows_tips[-1] += 100\n",
        "\n",
        "# regular treasury\n",
        "adj_principal_real = principal / ((1 + inflation) ** np.arange(1, n + 1))\n",
        "rcashFlows_treasury = adj_principal_real * (coupon_treasury)\n",
        "rcashFlows_treasury[-1] += adj_principal_real[-1]\n",
        "\n",
        "df = pd.DataFrame(\n",
        "    dtype=float,\n",
        "    index=np.arange(0.5, (n + 1) / 2, 0.5),\n",
        "    columns=[\n",
        "        \"cf_nominal_tips\",\n",
        "        \"cf_nominal_treasury\",\n",
        "        \"cf_real_tips\",\n",
        "        \"cf_real_treasury\",\n",
        "    ],\n",
        ")\n",
        "df.index.name = \"Year\"\n",
        "df[\"cf_nominal_tips\"] = ncashFlows_tips\n",
        "df[\"cf_nominal_treasury\"] = ncashFlows_treasury\n",
        "df[\"cf_real_tips\"] = rcashFlows_tips\n",
        "df[\"cf_real_treasury\"] = rcashFlows_treasury\n",
        "df[\"cf_nominal_tips\"] = df.cf_nominal_tips.round(2)\n",
        "df[\"cf_real_treasury\"] = df.cf_real_treasury.round(2)\n",
        "df = df.reset_index()\n",
        "df"
      ],
      "metadata": {
        "pycharm": {
          "name": "#%%\n"
        },
        "id": "vKXNtpvgJU-i",
        "outputId": "6b96b781-8f42-4707-c0f2-ab4083945ca0"
      }
    },
    {
      "cell_type": "code",
      "execution_count": null,
      "outputs": [],
      "source": [
        ""
      ],
      "metadata": {
        "pycharm": {
          "name": "#%%\n"
        },
        "id": "aIF_O3piJU-k"
      }
    }
  ],
  "metadata": {
    "kernelspec": {
      "display_name": "Python 3",
      "language": "python",
      "name": "python3"
    },
    "language_info": {
      "codemirror_mode": {
        "name": "ipython",
        "version": 2
      },
      "file_extension": ".py",
      "mimetype": "text/x-python",
      "name": "python",
      "nbconvert_exporter": "python",
      "pygments_lexer": "ipython2",
      "version": "2.7.6"
    },
    "colab": {
      "name": "tips.ipynb",
      "provenance": [],
      "include_colab_link": true
    }
  },
  "nbformat": 4,
  "nbformat_minor": 0
}