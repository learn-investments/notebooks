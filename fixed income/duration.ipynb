{
  "nbformat": 4,
  "nbformat_minor": 0,
  "metadata": {
    "colab": {
      "name": "duration.ipynb",
      "provenance": [],
      "authorship_tag": "ABX9TyMU6SJbbfHnfR3ycd+8tUvN",
      "include_colab_link": true
    },
    "kernelspec": {
      "name": "python3",
      "display_name": "Python 3"
    },
    "language_info": {
      "name": "python"
    }
  },
  "cells": [
    {
      "cell_type": "markdown",
      "metadata": {
        "id": "view-in-github",
        "colab_type": "text"
      },
      "source": [
        "<a href=\"https://colab.research.google.com/github/bbcx-investments/notebooks/blob/main/fixed_income/duration.ipynb\" target=\"_parent\"><img src=\"https://colab.research.google.com/assets/colab-badge.svg\" alt=\"Open In Colab\"/></a>"
      ]
    },
    {
      "cell_type": "code",
      "execution_count": 1,
      "metadata": {
        "colab": {
          "base_uri": "https://localhost:8080/"
        },
        "id": "Kn_q_6tWWzCK",
        "outputId": "1f1ccf83-05de-4dbc-e489-b7e8a2980f89"
      },
      "outputs": [
        {
          "output_type": "execute_result",
          "data": {
            "text/plain": [
              "[3.0, 3.0, 3.0, 3.0, 3.0, 3.0, 3.0, 3.0, 3.0, 103.0]"
            ]
          },
          "metadata": {},
          "execution_count": 1
        }
      ],
      "source": [
        "import numpy as np\n",
        "\n",
        "# Example \n",
        "face_value = 100 # the face value of this bond is $100\n",
        "maturity = 5\n",
        "coupon_rate = 0.06 # annual coupon rate\n",
        "yld = 0.05         # the yield is 5%\n",
        "\n",
        "# coupon pays twice a year\n",
        "n = int(maturity * 2)\n",
        "coupon = coupon_rate*100 / 2 # coupon in $\n",
        "cashFlows = [coupon] * n\n",
        "cashFlows[-1] += 100\n",
        "cashFlows"
      ]
    },
    {
      "cell_type": "code",
      "source": [
        "# discount factor at the bond yield\n",
        "factor = 1 / (1 + yld / 2) ** np.arange(1, n + 1)\n",
        "factor"
      ],
      "metadata": {
        "colab": {
          "base_uri": "https://localhost:8080/"
        },
        "id": "-9GyywlKXo93",
        "outputId": "f27fd1bd-52b7-4c7c-ee86-4dc1e65d2b86"
      },
      "execution_count": 2,
      "outputs": [
        {
          "output_type": "execute_result",
          "data": {
            "text/plain": [
              "array([0.97560976, 0.9518144 , 0.92859941, 0.90595064, 0.88385429,\n",
              "       0.86229687, 0.84126524, 0.82074657, 0.80072836, 0.7811984 ])"
            ]
          },
          "metadata": {},
          "execution_count": 2
        }
      ]
    },
    {
      "cell_type": "code",
      "source": [
        "# present value of the cash flow\n",
        "pv = cashFlows * factor\n",
        "pv"
      ],
      "metadata": {
        "id": "6balJ0GLX6Gw",
        "colab": {
          "base_uri": "https://localhost:8080/"
        },
        "outputId": "d0dbbd75-0466-4b4b-93ba-72408503c9b4"
      },
      "execution_count": 3,
      "outputs": [
        {
          "output_type": "execute_result",
          "data": {
            "text/plain": [
              "array([ 2.92682927,  2.85544319,  2.78579823,  2.71785193,  2.65156286,\n",
              "        2.5868906 ,  2.52379571,  2.46223971,  2.40218509, 80.46343538])"
            ]
          },
          "metadata": {},
          "execution_count": 3
        }
      ]
    },
    {
      "cell_type": "code",
      "source": [
        "# percent of the bond value that the pv of the cash flow contributes\n",
        "pct = pv / (sum(pv))\n",
        "pct"
      ],
      "metadata": {
        "colab": {
          "base_uri": "https://localhost:8080/"
        },
        "id": "Sy7T5wI7pXeW",
        "outputId": "2b3f7b64-cb61-490a-f82c-955feaca2b8c"
      },
      "execution_count": 4,
      "outputs": [
        {
          "output_type": "execute_result",
          "data": {
            "text/plain": [
              "array([0.0280412 , 0.02735727, 0.02669002, 0.02603904, 0.02540394,\n",
              "       0.02478434, 0.02417984, 0.02359009, 0.02301472, 0.77089954])"
            ]
          },
          "metadata": {},
          "execution_count": 4
        }
      ]
    },
    {
      "cell_type": "code",
      "source": [
        "# year x pct: cash flows of the 'time to cash flow' multiplied by the percent above\n",
        "year_pct = np.arange(0.5, (n + 1) / 2, 0.5) * pct\n",
        "year_pct"
      ],
      "metadata": {
        "colab": {
          "base_uri": "https://localhost:8080/"
        },
        "id": "hi3ncJxmpY37",
        "outputId": "05105cab-8990-4838-98fc-9f02bd7d6ebe"
      },
      "execution_count": 5,
      "outputs": [
        {
          "output_type": "execute_result",
          "data": {
            "text/plain": [
              "array([0.0140206 , 0.02735727, 0.04003503, 0.05207809, 0.06350986,\n",
              "       0.07435301, 0.08462944, 0.09436035, 0.10356624, 3.85449772])"
            ]
          },
          "metadata": {},
          "execution_count": 5
        }
      ]
    },
    {
      "cell_type": "code",
      "source": [
        "# Macaulay duration equals to the sum over year x pct\n",
        "macaulay = sum(year_pct).round(3)\n",
        "print(\"The macaulay duration of this bond at \", maturity, \"-year constant maturity with yield at \", yld*100, \"% and \", coupon_rate*100, \"% annual coupon rate\", \"is\", macaulay)"
      ],
      "metadata": {
        "colab": {
          "base_uri": "https://localhost:8080/"
        },
        "id": "VCk2uc92paMZ",
        "outputId": "a1d16a69-c3e1-4d52-997b-1242f33a9a0b"
      },
      "execution_count": 14,
      "outputs": [
        {
          "output_type": "stream",
          "name": "stdout",
          "text": [
            "The macaulay duration of this bond at  5 -year constant maturity with yield at  5.0 % and  6.0 % annual coupon rate is 4.408\n"
          ]
        }
      ]
    },
    {
      "cell_type": "code",
      "source": [
        "# Modified duration\n",
        "modified = macaulay / (1 + yld / 2)\n",
        "print(\"The modified duration of this bond at \", maturity, \"-year constant maturity with yield at \", yld*100, \"% and \", coupon_rate*100, \"% annual coupon rate\", \"is\", modified.round(3))"
      ],
      "metadata": {
        "colab": {
          "base_uri": "https://localhost:8080/"
        },
        "id": "oYPpO72lpbzD",
        "outputId": "e8d663d1-f8bd-4847-e8af-e7e8ef29b1d3"
      },
      "execution_count": 13,
      "outputs": [
        {
          "output_type": "stream",
          "name": "stdout",
          "text": [
            "The modified duration of this bond at  5 -year constant maturity with yield at  5.0 % and  6.0 % annual coupon rate is 4.3\n"
          ]
        }
      ]
    },
    {
      "cell_type": "code",
      "source": [
        ""
      ],
      "metadata": {
        "id": "lcuSZAXkpetD"
      },
      "execution_count": null,
      "outputs": []
    }
  ]
}