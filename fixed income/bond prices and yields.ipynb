{
  "cells": [
    {
      "cell_type": "markdown",
      "metadata": {
        "colab_type": "text",
        "id": "view-in-github"
      },
      "source": [
        "<a href=\"https://colab.research.google.com/github/bbcx-investments/notebooks/blob/main/bonds/prices_yields.ipynb\" target=\"_parent\"><img src=\"https://colab.research.google.com/assets/colab-badge.svg\" alt=\"Open In Colab\"/></a>"
      ]
    },
    {
      "cell_type": "code",
      "execution_count": 3,
      "metadata": {
        "id": "Owu936RfIo6Q",
        "pycharm": {
          "name": "#%%\n"
        }
      },
      "outputs": [
        {
          "name": "stdout",
          "output_type": "stream",
          "text": [
            "yield at price of $90.00 is 6.37%\n",
            "price at yield of 6.00% is $92.56\n"
          ]
        }
      ],
      "source": [
        "import numpy as np\n",
        "import numpy_financial as npf\n",
        "\n",
        "# example data\n",
        "years = 10       \n",
        "coupon_per_year = 5\n",
        "nper = 2*years\n",
        "coupon = coupon_per_year / 2\n",
        "\n",
        "# calculate yield from price\n",
        "price = 90  \n",
        "cashFlows = [-price] + [coupon]*(nper-1) + [100+coupon]\n",
        "yld = 2*npf.irr(cashFlows)\n",
        "print(f\"yield at price of ${price:.2f} is {yld:.2%}\")\n",
        "\n",
        "# calculate price from yield\n",
        "yld = 0.06\n",
        "cashFlows = np.array([coupon]*(nper-1) + [100+coupon])\n",
        "pvFactors = (1+yld/2)**np.arange(-1, -nper-1, -1)\n",
        "price = np.sum(cashFlows*pvFactors)\n",
        "print(f\"price at yield of {yld:.2%} is ${price:.2f}\")"
      ]
    },
    {
      "cell_type": "code",
      "execution_count": null,
      "metadata": {
        "id": "VGVD9jYnIo6W",
        "pycharm": {
          "name": "#%%\n"
        }
      },
      "outputs": [],
      "source": []
    }
  ],
  "metadata": {
    "colab": {
      "include_colab_link": true,
      "name": "prices_yields.ipynb",
      "provenance": []
    },
    "kernelspec": {
      "display_name": "Python 3.10.3 64-bit",
      "language": "python",
      "name": "python3"
    },
    "language_info": {
      "codemirror_mode": {
        "name": "ipython",
        "version": 3
      },
      "file_extension": ".py",
      "mimetype": "text/x-python",
      "name": "python",
      "nbconvert_exporter": "python",
      "pygments_lexer": "ipython3",
      "version": "3.10.3"
    },
    "vscode": {
      "interpreter": {
        "hash": "a98f34b6005ae2330f135078450db511ef8910ecc790235ef0560aa88aa6ce12"
      }
    }
  },
  "nbformat": 4,
  "nbformat_minor": 0
}
