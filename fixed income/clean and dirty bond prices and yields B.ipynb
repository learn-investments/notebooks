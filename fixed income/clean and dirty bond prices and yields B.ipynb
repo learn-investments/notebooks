{
  "nbformat": 4,
  "nbformat_minor": 0,
  "metadata": {
    "colab": {
      "name": "clean-dirty.ipynb",
      "provenance": [],
      "authorship_tag": "ABX9TyOkkGHQv2cpA3plrdsMrnqd",
      "include_colab_link": true
    },
    "kernelspec": {
      "name": "python3",
      "display_name": "Python 3"
    },
    "language_info": {
      "name": "python"
    }
  },
  "cells": [
    {
      "cell_type": "markdown",
      "metadata": {
        "id": "view-in-github",
        "colab_type": "text"
      },
      "source": [
        "<a href=\"https://colab.research.google.com/github/bbcx-investments/notebooks/blob/main/bonds/clean_dirty.ipynb\" target=\"_parent\"><img src=\"https://colab.research.google.com/assets/colab-badge.svg\" alt=\"Open In Colab\"/></a>"
      ]
    },
    {
      "cell_type": "code",
      "execution_count": 5,
      "metadata": {
        "colab": {
          "base_uri": "https://localhost:8080/"
        },
        "id": "i0wjTC0Nb7J3",
        "outputId": "6ba88daa-6ef3-4476-a5fd-5980bf69cbb8"
      },
      "outputs": [
        {
          "output_type": "stream",
          "name": "stdout",
          "text": [
            "The yield of this bond with clean price 110 is 2.70%\n"
          ]
        }
      ],
      "source": [
        "import numpy as np\n",
        "from scipy.optimize import fsolve\n",
        "\n",
        "# compute yield from clean price\n",
        "face_value = 100\n",
        "coupon_rate = 0.05         # annual coupon rate\n",
        "coupons_remaining = 10\n",
        "days_to_next_coupon = 60\n",
        "clean_price = 110\n",
        "\n",
        "coupon = coupon_rate*100/2     # coupon in $\n",
        "partial_period = days_to_next_coupon/180\n",
        "accrued = (1-partial_period)*coupon\n",
        "dirty_price = clean_price + accrued\n",
        "cashFlows = [coupon]*(coupons_remaining-1) + [100+coupon]\n",
        "def pvFactors(y):\n",
        "    return 1 / (1+y/2)**np.arange(partial_period, partial_period+coupons_remaining)\n",
        "def f(y) :\n",
        "    return dirty_price - np.sum(cashFlows*pvFactors(y))\n",
        "\n",
        "# yield\n",
        "yld = fsolve(f, x0=coupon_rate).item()\n",
        "yld = \"{:.2%}\".format(yld)\n",
        "print(\"The yield of this bond with clean price\", clean_price, \"is\" ,yld)"
      ]
    },
    {
      "cell_type": "code",
      "source": [
        ""
      ],
      "metadata": {
        "id": "y8lFocYvcCDF"
      },
      "execution_count": null,
      "outputs": []
    }
  ]
}
