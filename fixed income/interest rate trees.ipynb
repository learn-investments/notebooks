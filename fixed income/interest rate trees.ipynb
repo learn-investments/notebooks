{
 "cells": [
  {
   "cell_type": "markdown",
   "metadata": {},
   "source": [
    "---\n",
    "\n",
    "Created for [learn-investments.rice-business.org](https://learn-investments.rice-business.org)\n",
    "    \n",
    "By [Kerry Back](https://kerryback.com) and [Kevin Crotty](https://kevin-crotty.com)\n",
    "    \n",
    "Jones Graduate School of Business, Rice University\n",
    "\n",
    "---\n"
   ]
  },
  {
   "cell_type": "markdown",
   "metadata": {},
   "source": [
    "# EXAMPLE DATA"
   ]
  },
  {
   "cell_type": "code",
   "execution_count": 106,
   "metadata": {},
   "outputs": [],
   "source": [
    "sigma = 50                                                         # volatility in basis points\n",
    "prds_per_year = 2\n",
    "num_prds = 10\n",
    "num_bonds = 6                                                      # number of bonds\n",
    "maturities   = [1, 2, 3, 4, 5, 6]                                  # bond maturities\n",
    "coupon_rates = [0.02, 0.02, 0.02, 0.02, 0.02, 0.02]                # coupon rates (annual)\n",
    "yields       = [0.0175, 0.02, 0.0225, 0.024, 0.025, 0.026]         # yields (annual)\n",
    "zero_maturity = 5                                                  # for zero-coupon plot\n",
    "\n",
    "if not all(len(lst)==num_bonds for lst in [maturities, coupon_rates, yields]):\n",
    "    print('Lists need to be of the same length!')\n",
    "\n",
    "sigma /= 10000                                                      # volatility as decimal\n",
    "bonds = [\n",
    "    dict(\n",
    "        maturity= maturities[i],\n",
    "        coupon  = coupon_rates[i],\n",
    "        yld     = yields[i]\n",
    "    )\n",
    "    for i in range(num_bonds)\n",
    "]"
   ]
  },
  {
   "cell_type": "markdown",
   "metadata": {},
   "source": [
    "# FUNCTIONS"
   ]
  },
  {
   "cell_type": "code",
   "execution_count": 107,
   "metadata": {},
   "outputs": [],
   "source": [
    "import plotly.graph_objects as go\n",
    "\n",
    "def price(prds, **kwargs):\n",
    "    c = 100 * kwargs['coupon'] / 2\n",
    "    maturity = kwargs['maturity']\n",
    "    if 'yld' in kwargs.keys():\n",
    "        yld = kwargs['yld']\n",
    "        n = int(2 * maturity)\n",
    "        return c * np.sum((1 + yld/2) ** np.arange(-1, -n - 1, -1)) + 100 / (1 + yld/2) ** n\n",
    "    else:\n",
    "        n = int(prds * maturity)\n",
    "        pphy = int(prds/2)  # periods per half year\n",
    "        spots = np.array(kwargs['spots'])\n",
    "        # pv_factors = (1 + spots / 2) ** (-np.arange(1, len(spots) + 1))\n",
    "        pv_factors = (1 + spots / prds) ** (-np.arange(1, len(spots) + 1))\n",
    "        coupons = np.zeros(n)\n",
    "        coupons[(pphy - 1)::pphy] = c\n",
    "        return np.sum(coupons*pv_factors[:len(coupons)]) + 100*pv_factors[n-1]\n",
    "\n",
    "def forward_rates(prds, spots):\n",
    "    pphy = int(prds / 2)  # periods per half year\n",
    "    future_factors = (1 + spots / 2) ** (np.arange(1, len(spots) + 1) / pphy)\n",
    "    change_logs = np.diff(np.log(future_factors))\n",
    "    f = (np.exp(change_logs)-1) * prds\n",
    "    return np.concatenate(([spots[0]], f))\n",
    "\n",
    "def objective(prds, bonds, spots):\n",
    "    prices = [price(prds, **bond) for bond in bonds]\n",
    "    phats = [price(prds=prds, maturity=bond['maturity'], coupon=bond['coupon'], spots=spots) for bond in bonds]\n",
    "    errors = [np.log(phat/p) for phat, p in zip(prices, phats)]\n",
    "    sse = np.sum([e**2 for e in errors])\n",
    "    forwards = forward_rates(prds, spots)\n",
    "    diffs = np.sum(np.diff(np.log(1+forwards/prds))**2)\n",
    "    return sse + 0.5*diffs\n",
    "\n",
    "def spot_rates(prds, bonds):\n",
    "    maturities = [bond['maturity'] for bond in bonds]\n",
    "    n = int(np.max(maturities) * prds)\n",
    "    result = minimize(lambda x: objective(prds, bonds, x), [0.05]*n)\n",
    "    return result.x if result.success==True else np.nan\n",
    "\n",
    "def rateTree(r, sigma, dt, phis):\n",
    "    delta = sigma*np.sqrt(dt)\n",
    "    return [[r + phi + delta * (i - 2 * j) for j in range(i + 1)] for i, phi in enumerate(phis)]\n",
    "\n",
    "def phi(sigma, prds, n, forwards):\n",
    "    dt = 1/prds\n",
    "    m = len(forwards)\n",
    "    f = forwards[:n+1] if m>=n+1 else np.concatenate((forwards, [forwards[-1]]*(n+1-m)))\n",
    "    term1 = np.log(1+f*dt)\n",
    "    a = np.exp(sigma*dt**(3/2)*np.arange(n+1))\n",
    "    term2 = np.log(a + 1/a)\n",
    "    term3 = np.log(2*(1+f[0]*dt))\n",
    "    return (term1 + term2 - term3) / dt\n",
    "\n",
    "def zeroCouponTree(prds, maturity, tree):\n",
    "    n = int(prds * maturity)\n",
    "    rates = [np.array(x) for x in tree]\n",
    "    x = 100 * np.ones(n + 1)\n",
    "    lst = [x]\n",
    "    i = n - 1\n",
    "    while len(x) > 1:\n",
    "        x = 0.5 * (x[:-1] + x[1:]) / (1 + rates[i] / prds)\n",
    "        lst.insert(0, x)\n",
    "        i -= 1\n",
    "    return [list(x) for x in lst]\n",
    "\n",
    "def treePlot(tree, dt, kind='rate'):\n",
    "    string = \"%{y:.2%}<extra></extra>\" if kind=='rate' else \"$%{y:,.2f}<extra></extra>\"\n",
    "    color = \"blue\" if kind==\"rate\" else \"green\"\n",
    "    spliced = []\n",
    "    for a, b in zip(tree[1:], tree[:-1]):\n",
    "        x = []\n",
    "        for i in range(len(a)):\n",
    "            x.append(a[i])\n",
    "            try:\n",
    "                x.append(b[i])\n",
    "            except:\n",
    "                pass\n",
    "        spliced.append(x)\n",
    "    fig = go.Figure()\n",
    "    for i in range(len(tree) - 1):\n",
    "        x = [1, 0, 1]\n",
    "        for j in range(i):\n",
    "            x.append(0)\n",
    "            x.append(1)\n",
    "        x = np.array(x) + i\n",
    "        y = spliced[i]\n",
    "        trace = go.Scatter(\n",
    "            x=x*dt,\n",
    "            y=y,\n",
    "            mode=\"lines+markers\",\n",
    "            hovertemplate=string,\n",
    "            marker=dict(size=10, color=color),\n",
    "            line=dict(color=color)\n",
    "        )\n",
    "        fig.add_trace(trace)\n",
    "    fig.update_xaxes(title=\"Time (years)\")\n",
    "    if kind == \"rate\":\n",
    "        fig.update_layout(yaxis_tickformat=\".1%\")\n",
    "        fig.update_yaxes(title=\"Annualized Short Rate\")\n",
    "    else:\n",
    "        fig.update_layout(yaxis_tickprefix=\"$\", yaxis_tickformat=\".0f\")\n",
    "        fig.update_yaxes(title=\"Zero-Coupon Bond Price\", autorange=\"reversed\")\n",
    "    return fig"
   ]
  },
  {
   "cell_type": "markdown",
   "metadata": {},
   "source": [
    "# INTEREST RATE TREE"
   ]
  },
  {
   "cell_type": "code",
   "execution_count": 108,
   "metadata": {},
   "outputs": [
    {
     "data": {
      "application/vnd.plotly.v1+json": {
       "config": {
        "plotlyServerURL": "https://plot.ly"
       },
       "data": [
        {
         "hovertemplate": "%{y:.2%}<extra></extra>",
         "line": {
          "color": "blue"
         },
         "marker": {
          "color": "blue",
          "size": 10
         },
         "mode": "lines+markers",
         "type": "scatter",
         "x": [
          0.5,
          0,
          0.5
         ],
         "y": [
          0.02203682965634418,
          0.017180474174453078,
          0.014965761844478703
         ]
        },
        {
         "hovertemplate": "%{y:.2%}<extra></extra>",
         "line": {
          "color": "blue"
         },
         "marker": {
          "color": "blue",
          "size": 10
         },
         "mode": "lines+markers",
         "type": "scatter",
         "x": [
          1,
          0.5,
          1,
          0.5,
          1
         ],
         "y": [
          0.02820451134028494,
          0.02203682965634418,
          0.021133443528419463,
          0.014965761844478703,
          0.014062375716553987
         ]
        },
        {
         "hovertemplate": "%{y:.2%}<extra></extra>",
         "line": {
          "color": "blue"
         },
         "marker": {
          "color": "blue",
          "size": 10
         },
         "mode": "lines+markers",
         "type": "scatter",
         "x": [
          1.5,
          1,
          1.5,
          1,
          1.5,
          1,
          1.5
         ],
         "y": [
          0.03434896475847907,
          0.02820451134028494,
          0.02727789694661359,
          0.021133443528419463,
          0.02020682913474811,
          0.014062375716553987,
          0.013135761322882637
         ]
        },
        {
         "hovertemplate": "%{y:.2%}<extra></extra>",
         "line": {
          "color": "blue"
         },
         "marker": {
          "color": "blue",
          "size": 10
         },
         "mode": "lines+markers",
         "type": "scatter",
         "x": [
          2,
          1.5,
          2,
          1.5,
          2,
          1.5,
          2,
          1.5,
          2
         ],
         "y": [
          0.040469684463248404,
          0.03434896475847907,
          0.033398616651382926,
          0.02727789694661359,
          0.026327548839517448,
          0.02020682913474811,
          0.01925648102765197,
          0.013135761322882637,
          0.012185413215786495
         ]
        },
        {
         "hovertemplate": "%{y:.2%}<extra></extra>",
         "line": {
          "color": "blue"
         },
         "marker": {
          "color": "blue",
          "size": 10
         },
         "mode": "lines+markers",
         "type": "scatter",
         "x": [
          2.5,
          2,
          2.5,
          2,
          2.5,
          2,
          2.5,
          2,
          2.5,
          2,
          2.5
         ],
         "y": [
          0.04560719695616122,
          0.040469684463248404,
          0.038536129144295744,
          0.033398616651382926,
          0.031465061332430266,
          0.026327548839517448,
          0.02439399352056479,
          0.01925648102765197,
          0.017322925708699314,
          0.012185413215786495,
          0.010251857896833836
         ]
        },
        {
         "hovertemplate": "%{y:.2%}<extra></extra>",
         "line": {
          "color": "blue"
         },
         "marker": {
          "color": "blue",
          "size": 10
         },
         "mode": "lines+markers",
         "type": "scatter",
         "x": [
          3,
          2.5,
          3,
          2.5,
          3,
          2.5,
          3,
          2.5,
          3,
          2.5,
          3,
          2.5,
          3
         ],
         "y": [
          0.049770693401357737,
          0.04560719695616122,
          0.042699625589492265,
          0.038536129144295744,
          0.03562855777762679,
          0.031465061332430266,
          0.02855748996576131,
          0.02439399352056479,
          0.02148642215389583,
          0.017322925708699314,
          0.014415354342030357,
          0.010251857896833836,
          0.007344286530164883
         ]
        },
        {
         "hovertemplate": "%{y:.2%}<extra></extra>",
         "line": {
          "color": "blue"
         },
         "marker": {
          "color": "blue",
          "size": 10
         },
         "mode": "lines+markers",
         "type": "scatter",
         "x": [
          3.5,
          3,
          3.5,
          3,
          3.5,
          3,
          3.5,
          3,
          3.5,
          3,
          3.5,
          3,
          3.5,
          3,
          3.5
         ],
         "y": [
          0.05377909661895005,
          0.049770693401357737,
          0.04670802880708458,
          0.042699625589492265,
          0.0396369609952191,
          0.03562855777762679,
          0.03256589318335362,
          0.02855748996576131,
          0.025494825371488145,
          0.02148642215389583,
          0.01842375755962267,
          0.014415354342030357,
          0.011352689747757192,
          0.007344286530164883,
          0.004281621935891718
         ]
        },
        {
         "hovertemplate": "%{y:.2%}<extra></extra>",
         "line": {
          "color": "blue"
         },
         "marker": {
          "color": "blue",
          "size": 10
         },
         "mode": "lines+markers",
         "type": "scatter",
         "x": [
          4,
          3.5,
          4,
          3.5,
          4,
          3.5,
          4,
          3.5,
          4,
          3.5,
          4,
          3.5,
          4,
          3.5,
          4,
          3.5,
          4
         ],
         "y": [
          0.05763349816947922,
          0.05377909661895005,
          0.05056243035761374,
          0.04670802880708458,
          0.04349136254574827,
          0.0396369609952191,
          0.036420294733882794,
          0.03256589318335362,
          0.029349226922017316,
          0.025494825371488145,
          0.022278159110151838,
          0.01842375755962267,
          0.015207091298286363,
          0.011352689747757192,
          0.008136023486420889,
          0.004281621935891718,
          0.001064955674555411
         ]
        },
        {
         "hovertemplate": "%{y:.2%}<extra></extra>",
         "line": {
          "color": "blue"
         },
         "marker": {
          "color": "blue",
          "size": 10
         },
         "mode": "lines+markers",
         "type": "scatter",
         "x": [
          4.5,
          4,
          4.5,
          4,
          4.5,
          4,
          4.5,
          4,
          4.5,
          4,
          4.5,
          4,
          4.5,
          4,
          4.5,
          4,
          4.5,
          4,
          4.5
         ],
         "y": [
          0.061793105784631534,
          0.05763349816947922,
          0.054722037972766056,
          0.05056243035761374,
          0.047650970160900585,
          0.04349136254574827,
          0.04057990234903511,
          0.036420294733882794,
          0.03350883453716963,
          0.029349226922017316,
          0.02643776672530415,
          0.022278159110151838,
          0.019366698913438677,
          0.015207091298286363,
          0.012295631101573199,
          0.008136023486420889,
          0.005224563289707725,
          0.001064955674555411,
          -0.0018465045221577533
         ]
        },
        {
         "hovertemplate": "%{y:.2%}<extra></extra>",
         "line": {
          "color": "blue"
         },
         "marker": {
          "color": "blue",
          "size": 10
         },
         "mode": "lines+markers",
         "type": "scatter",
         "x": [
          5,
          4.5,
          5,
          4.5,
          5,
          4.5,
          5,
          4.5,
          5,
          4.5,
          5,
          4.5,
          5,
          4.5,
          5,
          4.5,
          5,
          4.5,
          5,
          4.5,
          5
         ],
         "y": [
          0.06625534518796364,
          0.061793105784631534,
          0.05918427737609817,
          0.054722037972766056,
          0.05211320956423269,
          0.047650970160900585,
          0.04504214175236722,
          0.04057990234903511,
          0.03797107394050174,
          0.03350883453716963,
          0.030900006128636262,
          0.02643776672530415,
          0.023828938316770784,
          0.019366698913438677,
          0.01675787050490531,
          0.012295631101573199,
          0.009686802693039835,
          0.005224563289707725,
          0.002615734881174357,
          -0.0018465045221577533,
          -0.004455332930691121
         ]
        }
       ],
       "layout": {
        "showlegend": false,
        "template": {
         "data": {
          "bar": [
           {
            "error_x": {
             "color": "#2a3f5f"
            },
            "error_y": {
             "color": "#2a3f5f"
            },
            "marker": {
             "line": {
              "color": "white",
              "width": 0.5
             },
             "pattern": {
              "fillmode": "overlay",
              "size": 10,
              "solidity": 0.2
             }
            },
            "type": "bar"
           }
          ],
          "barpolar": [
           {
            "marker": {
             "line": {
              "color": "white",
              "width": 0.5
             },
             "pattern": {
              "fillmode": "overlay",
              "size": 10,
              "solidity": 0.2
             }
            },
            "type": "barpolar"
           }
          ],
          "carpet": [
           {
            "aaxis": {
             "endlinecolor": "#2a3f5f",
             "gridcolor": "#C8D4E3",
             "linecolor": "#C8D4E3",
             "minorgridcolor": "#C8D4E3",
             "startlinecolor": "#2a3f5f"
            },
            "baxis": {
             "endlinecolor": "#2a3f5f",
             "gridcolor": "#C8D4E3",
             "linecolor": "#C8D4E3",
             "minorgridcolor": "#C8D4E3",
             "startlinecolor": "#2a3f5f"
            },
            "type": "carpet"
           }
          ],
          "choropleth": [
           {
            "colorbar": {
             "outlinewidth": 0,
             "ticks": ""
            },
            "type": "choropleth"
           }
          ],
          "contour": [
           {
            "colorbar": {
             "outlinewidth": 0,
             "ticks": ""
            },
            "colorscale": [
             [
              0,
              "#0d0887"
             ],
             [
              0.1111111111111111,
              "#46039f"
             ],
             [
              0.2222222222222222,
              "#7201a8"
             ],
             [
              0.3333333333333333,
              "#9c179e"
             ],
             [
              0.4444444444444444,
              "#bd3786"
             ],
             [
              0.5555555555555556,
              "#d8576b"
             ],
             [
              0.6666666666666666,
              "#ed7953"
             ],
             [
              0.7777777777777778,
              "#fb9f3a"
             ],
             [
              0.8888888888888888,
              "#fdca26"
             ],
             [
              1,
              "#f0f921"
             ]
            ],
            "type": "contour"
           }
          ],
          "contourcarpet": [
           {
            "colorbar": {
             "outlinewidth": 0,
             "ticks": ""
            },
            "type": "contourcarpet"
           }
          ],
          "heatmap": [
           {
            "colorbar": {
             "outlinewidth": 0,
             "ticks": ""
            },
            "colorscale": [
             [
              0,
              "#0d0887"
             ],
             [
              0.1111111111111111,
              "#46039f"
             ],
             [
              0.2222222222222222,
              "#7201a8"
             ],
             [
              0.3333333333333333,
              "#9c179e"
             ],
             [
              0.4444444444444444,
              "#bd3786"
             ],
             [
              0.5555555555555556,
              "#d8576b"
             ],
             [
              0.6666666666666666,
              "#ed7953"
             ],
             [
              0.7777777777777778,
              "#fb9f3a"
             ],
             [
              0.8888888888888888,
              "#fdca26"
             ],
             [
              1,
              "#f0f921"
             ]
            ],
            "type": "heatmap"
           }
          ],
          "heatmapgl": [
           {
            "colorbar": {
             "outlinewidth": 0,
             "ticks": ""
            },
            "colorscale": [
             [
              0,
              "#0d0887"
             ],
             [
              0.1111111111111111,
              "#46039f"
             ],
             [
              0.2222222222222222,
              "#7201a8"
             ],
             [
              0.3333333333333333,
              "#9c179e"
             ],
             [
              0.4444444444444444,
              "#bd3786"
             ],
             [
              0.5555555555555556,
              "#d8576b"
             ],
             [
              0.6666666666666666,
              "#ed7953"
             ],
             [
              0.7777777777777778,
              "#fb9f3a"
             ],
             [
              0.8888888888888888,
              "#fdca26"
             ],
             [
              1,
              "#f0f921"
             ]
            ],
            "type": "heatmapgl"
           }
          ],
          "histogram": [
           {
            "marker": {
             "pattern": {
              "fillmode": "overlay",
              "size": 10,
              "solidity": 0.2
             }
            },
            "type": "histogram"
           }
          ],
          "histogram2d": [
           {
            "colorbar": {
             "outlinewidth": 0,
             "ticks": ""
            },
            "colorscale": [
             [
              0,
              "#0d0887"
             ],
             [
              0.1111111111111111,
              "#46039f"
             ],
             [
              0.2222222222222222,
              "#7201a8"
             ],
             [
              0.3333333333333333,
              "#9c179e"
             ],
             [
              0.4444444444444444,
              "#bd3786"
             ],
             [
              0.5555555555555556,
              "#d8576b"
             ],
             [
              0.6666666666666666,
              "#ed7953"
             ],
             [
              0.7777777777777778,
              "#fb9f3a"
             ],
             [
              0.8888888888888888,
              "#fdca26"
             ],
             [
              1,
              "#f0f921"
             ]
            ],
            "type": "histogram2d"
           }
          ],
          "histogram2dcontour": [
           {
            "colorbar": {
             "outlinewidth": 0,
             "ticks": ""
            },
            "colorscale": [
             [
              0,
              "#0d0887"
             ],
             [
              0.1111111111111111,
              "#46039f"
             ],
             [
              0.2222222222222222,
              "#7201a8"
             ],
             [
              0.3333333333333333,
              "#9c179e"
             ],
             [
              0.4444444444444444,
              "#bd3786"
             ],
             [
              0.5555555555555556,
              "#d8576b"
             ],
             [
              0.6666666666666666,
              "#ed7953"
             ],
             [
              0.7777777777777778,
              "#fb9f3a"
             ],
             [
              0.8888888888888888,
              "#fdca26"
             ],
             [
              1,
              "#f0f921"
             ]
            ],
            "type": "histogram2dcontour"
           }
          ],
          "mesh3d": [
           {
            "colorbar": {
             "outlinewidth": 0,
             "ticks": ""
            },
            "type": "mesh3d"
           }
          ],
          "parcoords": [
           {
            "line": {
             "colorbar": {
              "outlinewidth": 0,
              "ticks": ""
             }
            },
            "type": "parcoords"
           }
          ],
          "pie": [
           {
            "automargin": true,
            "type": "pie"
           }
          ],
          "scatter": [
           {
            "fillpattern": {
             "fillmode": "overlay",
             "size": 10,
             "solidity": 0.2
            },
            "type": "scatter"
           }
          ],
          "scatter3d": [
           {
            "line": {
             "colorbar": {
              "outlinewidth": 0,
              "ticks": ""
             }
            },
            "marker": {
             "colorbar": {
              "outlinewidth": 0,
              "ticks": ""
             }
            },
            "type": "scatter3d"
           }
          ],
          "scattercarpet": [
           {
            "marker": {
             "colorbar": {
              "outlinewidth": 0,
              "ticks": ""
             }
            },
            "type": "scattercarpet"
           }
          ],
          "scattergeo": [
           {
            "marker": {
             "colorbar": {
              "outlinewidth": 0,
              "ticks": ""
             }
            },
            "type": "scattergeo"
           }
          ],
          "scattergl": [
           {
            "marker": {
             "colorbar": {
              "outlinewidth": 0,
              "ticks": ""
             }
            },
            "type": "scattergl"
           }
          ],
          "scattermapbox": [
           {
            "marker": {
             "colorbar": {
              "outlinewidth": 0,
              "ticks": ""
             }
            },
            "type": "scattermapbox"
           }
          ],
          "scatterpolar": [
           {
            "marker": {
             "colorbar": {
              "outlinewidth": 0,
              "ticks": ""
             }
            },
            "type": "scatterpolar"
           }
          ],
          "scatterpolargl": [
           {
            "marker": {
             "colorbar": {
              "outlinewidth": 0,
              "ticks": ""
             }
            },
            "type": "scatterpolargl"
           }
          ],
          "scatterternary": [
           {
            "marker": {
             "colorbar": {
              "outlinewidth": 0,
              "ticks": ""
             }
            },
            "type": "scatterternary"
           }
          ],
          "surface": [
           {
            "colorbar": {
             "outlinewidth": 0,
             "ticks": ""
            },
            "colorscale": [
             [
              0,
              "#0d0887"
             ],
             [
              0.1111111111111111,
              "#46039f"
             ],
             [
              0.2222222222222222,
              "#7201a8"
             ],
             [
              0.3333333333333333,
              "#9c179e"
             ],
             [
              0.4444444444444444,
              "#bd3786"
             ],
             [
              0.5555555555555556,
              "#d8576b"
             ],
             [
              0.6666666666666666,
              "#ed7953"
             ],
             [
              0.7777777777777778,
              "#fb9f3a"
             ],
             [
              0.8888888888888888,
              "#fdca26"
             ],
             [
              1,
              "#f0f921"
             ]
            ],
            "type": "surface"
           }
          ],
          "table": [
           {
            "cells": {
             "fill": {
              "color": "#EBF0F8"
             },
             "line": {
              "color": "white"
             }
            },
            "header": {
             "fill": {
              "color": "#C8D4E3"
             },
             "line": {
              "color": "white"
             }
            },
            "type": "table"
           }
          ]
         },
         "layout": {
          "annotationdefaults": {
           "arrowcolor": "#2a3f5f",
           "arrowhead": 0,
           "arrowwidth": 1
          },
          "autotypenumbers": "strict",
          "coloraxis": {
           "colorbar": {
            "outlinewidth": 0,
            "ticks": ""
           }
          },
          "colorscale": {
           "diverging": [
            [
             0,
             "#8e0152"
            ],
            [
             0.1,
             "#c51b7d"
            ],
            [
             0.2,
             "#de77ae"
            ],
            [
             0.3,
             "#f1b6da"
            ],
            [
             0.4,
             "#fde0ef"
            ],
            [
             0.5,
             "#f7f7f7"
            ],
            [
             0.6,
             "#e6f5d0"
            ],
            [
             0.7,
             "#b8e186"
            ],
            [
             0.8,
             "#7fbc41"
            ],
            [
             0.9,
             "#4d9221"
            ],
            [
             1,
             "#276419"
            ]
           ],
           "sequential": [
            [
             0,
             "#0d0887"
            ],
            [
             0.1111111111111111,
             "#46039f"
            ],
            [
             0.2222222222222222,
             "#7201a8"
            ],
            [
             0.3333333333333333,
             "#9c179e"
            ],
            [
             0.4444444444444444,
             "#bd3786"
            ],
            [
             0.5555555555555556,
             "#d8576b"
            ],
            [
             0.6666666666666666,
             "#ed7953"
            ],
            [
             0.7777777777777778,
             "#fb9f3a"
            ],
            [
             0.8888888888888888,
             "#fdca26"
            ],
            [
             1,
             "#f0f921"
            ]
           ],
           "sequentialminus": [
            [
             0,
             "#0d0887"
            ],
            [
             0.1111111111111111,
             "#46039f"
            ],
            [
             0.2222222222222222,
             "#7201a8"
            ],
            [
             0.3333333333333333,
             "#9c179e"
            ],
            [
             0.4444444444444444,
             "#bd3786"
            ],
            [
             0.5555555555555556,
             "#d8576b"
            ],
            [
             0.6666666666666666,
             "#ed7953"
            ],
            [
             0.7777777777777778,
             "#fb9f3a"
            ],
            [
             0.8888888888888888,
             "#fdca26"
            ],
            [
             1,
             "#f0f921"
            ]
           ]
          },
          "colorway": [
           "#636efa",
           "#EF553B",
           "#00cc96",
           "#ab63fa",
           "#FFA15A",
           "#19d3f3",
           "#FF6692",
           "#B6E880",
           "#FF97FF",
           "#FECB52"
          ],
          "font": {
           "color": "#2a3f5f"
          },
          "geo": {
           "bgcolor": "white",
           "lakecolor": "white",
           "landcolor": "white",
           "showlakes": true,
           "showland": true,
           "subunitcolor": "#C8D4E3"
          },
          "hoverlabel": {
           "align": "left"
          },
          "hovermode": "closest",
          "mapbox": {
           "style": "light"
          },
          "paper_bgcolor": "white",
          "plot_bgcolor": "white",
          "polar": {
           "angularaxis": {
            "gridcolor": "#EBF0F8",
            "linecolor": "#EBF0F8",
            "ticks": ""
           },
           "bgcolor": "white",
           "radialaxis": {
            "gridcolor": "#EBF0F8",
            "linecolor": "#EBF0F8",
            "ticks": ""
           }
          },
          "scene": {
           "xaxis": {
            "backgroundcolor": "white",
            "gridcolor": "#DFE8F3",
            "gridwidth": 2,
            "linecolor": "#EBF0F8",
            "showbackground": true,
            "ticks": "",
            "zerolinecolor": "#EBF0F8"
           },
           "yaxis": {
            "backgroundcolor": "white",
            "gridcolor": "#DFE8F3",
            "gridwidth": 2,
            "linecolor": "#EBF0F8",
            "showbackground": true,
            "ticks": "",
            "zerolinecolor": "#EBF0F8"
           },
           "zaxis": {
            "backgroundcolor": "white",
            "gridcolor": "#DFE8F3",
            "gridwidth": 2,
            "linecolor": "#EBF0F8",
            "showbackground": true,
            "ticks": "",
            "zerolinecolor": "#EBF0F8"
           }
          },
          "shapedefaults": {
           "line": {
            "color": "#2a3f5f"
           }
          },
          "ternary": {
           "aaxis": {
            "gridcolor": "#DFE8F3",
            "linecolor": "#A2B1C6",
            "ticks": ""
           },
           "baxis": {
            "gridcolor": "#DFE8F3",
            "linecolor": "#A2B1C6",
            "ticks": ""
           },
           "bgcolor": "white",
           "caxis": {
            "gridcolor": "#DFE8F3",
            "linecolor": "#A2B1C6",
            "ticks": ""
           }
          },
          "title": {
           "x": 0.05
          },
          "xaxis": {
           "automargin": true,
           "gridcolor": "#EBF0F8",
           "linecolor": "#EBF0F8",
           "ticks": "",
           "title": {
            "standoff": 15
           },
           "zerolinecolor": "#EBF0F8",
           "zerolinewidth": 2
          },
          "yaxis": {
           "automargin": true,
           "gridcolor": "#EBF0F8",
           "linecolor": "#EBF0F8",
           "ticks": "",
           "title": {
            "standoff": 15
           },
           "zerolinecolor": "#EBF0F8",
           "zerolinewidth": 2
          }
         }
        },
        "xaxis": {
         "title": {
          "text": "Time (years)"
         }
        },
        "yaxis": {
         "tickformat": ".1%",
         "title": {
          "text": "Annualized Short Rate"
         }
        }
       }
      }
     },
     "metadata": {},
     "output_type": "display_data"
    }
   ],
   "source": [
    "spots = spot_rates(prds_per_year, bonds)\n",
    "forwards = forward_rates(prds_per_year, spots)\n",
    "\n",
    "phis = phi(sigma, prds_per_year, num_prds, forwards)\n",
    "tree = rateTree(spots[0], sigma, 1/prds_per_year, phis)\n",
    "fig = treePlot(tree, 1 / prds_per_year)\n",
    "fig.update_layout(\n",
    "    template=\"plotly_white\",\n",
    "    showlegend=False\n",
    ")\n",
    "fig.show()"
   ]
  },
  {
   "cell_type": "markdown",
   "metadata": {},
   "source": [
    "# ZERO COUPON TREE"
   ]
  },
  {
   "cell_type": "code",
   "execution_count": 109,
   "metadata": {},
   "outputs": [
    {
     "data": {
      "application/vnd.plotly.v1+json": {
       "config": {
        "plotlyServerURL": "https://plot.ly"
       },
       "data": [
        {
         "hovertemplate": "$%{y:,.2f}<extra></extra>",
         "line": {
          "color": "green"
         },
         "marker": {
          "color": "green",
          "size": 10
         },
         "mode": "lines+markers",
         "type": "scatter",
         "x": [
          0.5,
          0,
          0.5
         ],
         "y": [
          87.64926494656085,
          88.2893616236867,
          90.44631139806727
         ]
        },
        {
         "hovertemplate": "$%{y:,.2f}<extra></extra>",
         "line": {
          "color": "green"
         },
         "marker": {
          "color": "green",
          "size": 10
         },
         "mode": "lines+markers",
         "type": "scatter",
         "x": [
          1,
          0.5,
          1,
          0.5,
          1
         ],
         "y": [
          87.3806621303124,
          87.64926494656085,
          89.84937968394041,
          90.44631139806727,
          92.39684106828915
         ]
        },
        {
         "hovertemplate": "$%{y:,.2f}<extra></extra>",
         "line": {
          "color": "green"
         },
         "marker": {
          "color": "green",
          "size": 10
         },
         "mode": "lines+markers",
         "type": "scatter",
         "x": [
          1.5,
          1,
          1.5,
          1,
          1.5,
          1,
          1.5
         ],
         "y": [
          87.53521097460629,
          87.3806621303124,
          89.6906421619945,
          89.84937968394041,
          91.9069439975004,
          92.39684106828915,
          94.1860572332029
         ]
        },
        {
         "hovertemplate": "$%{y:,.2f}<extra></extra>",
         "line": {
          "color": "green"
         },
         "marker": {
          "color": "green",
          "size": 10
         },
         "mode": "lines+markers",
         "type": "scatter",
         "x": [
          2,
          1.5,
          2,
          1.5,
          2,
          1.5,
          2,
          1.5,
          2
         ],
         "y": [
          88.11231045837474,
          87.53521097460629,
          89.96485536773059,
          89.6906421619945,
          91.86300105022889,
          91.9069439975004,
          93.80803485842625,
          94.1860572332029,
          95.80128517573826
         ]
        },
        {
         "hovertemplate": "$%{y:,.2f}<extra></extra>",
         "line": {
          "color": "green"
         },
         "marker": {
          "color": "green",
          "size": 10
         },
         "mode": "lines+markers",
         "type": "scatter",
         "x": [
          2.5,
          2,
          2.5,
          2,
          2.5,
          2,
          2.5,
          2,
          2.5,
          2,
          2.5
         ],
         "y": [
          89.11744543072196,
          88.11231045837474,
          90.67305288760576,
          89.96485536773059,
          92.26135956437935,
          91.86300105022889,
          93.883170182773,
          93.80803485842625,
          95.53931217757211,
          95.80128517573826,
          97.23063642037418
         ]
        },
        {
         "hovertemplate": "$%{y:,.2f}<extra></extra>",
         "line": {
          "color": "green"
         },
         "marker": {
          "color": "green",
          "size": 10
         },
         "mode": "lines+markers",
         "type": "scatter",
         "x": [
          3,
          2.5,
          3,
          2.5,
          3,
          2.5,
          3,
          2.5,
          3,
          2.5,
          3,
          2.5,
          3
         ],
         "y": [
          90.51988795855422,
          89.11744543072196,
          91.77939978887856,
          90.67305288760576,
          93.0608944623173,
          92.26135956437935,
          94.36483400374796,
          93.883170182773,
          95.69169180692668,
          95.53931217757211,
          97.04195295532989,
          97.23063642037418,
          98.41611455321889
         ]
        },
        {
         "hovertemplate": "$%{y:,.2f}<extra></extra>",
         "line": {
          "color": "green"
         },
         "marker": {
          "color": "green",
          "size": 10
         },
         "mode": "lines+markers",
         "type": "scatter",
         "x": [
          3.5,
          3,
          3.5,
          3,
          3.5,
          3,
          3.5,
          3,
          3.5,
          3,
          3.5,
          3,
          3.5,
          3,
          3.5
         ],
         "y": [
          92.2926616973876,
          90.51988795855422,
          93.25235181003131,
          91.77939978887856,
          94.22539377553925,
          93.0608944623173,
          95.21202060428362,
          94.36483400374796,
          96.21247020339509,
          95.69169180692668,
          97.22698549724238,
          97.04195295532989,
          98.25581455131113,
          98.41611455321889,
          99.29921069959101
         ]
        },
        {
         "hovertemplate": "$%{y:,.2f}<extra></extra>",
         "line": {
          "color": "green"
         },
         "marker": {
          "color": "green",
          "size": 10
         },
         "mode": "lines+markers",
         "type": "scatter",
         "x": [
          4,
          3.5,
          4,
          3.5,
          4,
          3.5,
          4,
          3.5,
          4,
          3.5,
          4,
          3.5,
          4,
          3.5,
          4,
          3.5,
          4
         ],
         "y": [
          94.44816604806776,
          92.2926616973876,
          95.10057331735133,
          93.25235181003131,
          95.7597638373826,
          94.22539377553925,
          96.42583197153611,
          95.21202060428362,
          97.09887372980147,
          96.21247020339509,
          97.77898680338379,
          97.22698549724238,
          98.46627060015511,
          98.25581455131113,
          99.16082628098134,
          99.29921069959101,
          99.8627567969488
         ]
        },
        {
         "hovertemplate": "$%{y:,.2f}<extra></extra>",
         "line": {
          "color": "green"
         },
         "marker": {
          "color": "green",
          "size": 10
         },
         "mode": "lines+markers",
         "type": "scatter",
         "x": [
          4.5,
          4,
          4.5,
          4,
          4.5,
          4,
          4.5,
          4,
          4.5,
          4,
          4.5,
          4,
          4.5,
          4,
          4.5,
          4,
          4.5,
          4,
          4.5
         ],
         "y": [
          97.00294342767648,
          94.44816604806776,
          97.33676687350099,
          95.10057331735133,
          97.67289587652938,
          95.7597638373826,
          98.01135440458268,
          96.42583197153611,
          98.35216675885275,
          97.09887372980147,
          98.69535757971846,
          97.77898680338379,
          99.04095185268433,
          98.46627060015511,
          99.38897491444425,
          99.16082628098134,
          99.73945245907338,
          99.8627567969488,
          100.0924105443519
         ]
        },
        {
         "hovertemplate": "$%{y:,.2f}<extra></extra>",
         "line": {
          "color": "green"
         },
         "marker": {
          "color": "green",
          "size": 10
         },
         "mode": "lines+markers",
         "type": "scatter",
         "x": [
          5,
          4.5,
          5,
          4.5,
          5,
          4.5,
          5,
          4.5,
          5,
          4.5,
          5,
          4.5,
          5,
          4.5,
          5,
          4.5,
          5,
          4.5,
          5,
          4.5,
          5
         ],
         "y": [
          100,
          97.00294342767648,
          100,
          97.33676687350099,
          100,
          97.67289587652938,
          100,
          98.01135440458268,
          100,
          98.35216675885275,
          100,
          98.69535757971846,
          100,
          99.04095185268433,
          100,
          99.38897491444425,
          100,
          99.73945245907338,
          100,
          100.0924105443519,
          100
         ]
        }
       ],
       "layout": {
        "showlegend": false,
        "template": {
         "data": {
          "bar": [
           {
            "error_x": {
             "color": "#2a3f5f"
            },
            "error_y": {
             "color": "#2a3f5f"
            },
            "marker": {
             "line": {
              "color": "white",
              "width": 0.5
             },
             "pattern": {
              "fillmode": "overlay",
              "size": 10,
              "solidity": 0.2
             }
            },
            "type": "bar"
           }
          ],
          "barpolar": [
           {
            "marker": {
             "line": {
              "color": "white",
              "width": 0.5
             },
             "pattern": {
              "fillmode": "overlay",
              "size": 10,
              "solidity": 0.2
             }
            },
            "type": "barpolar"
           }
          ],
          "carpet": [
           {
            "aaxis": {
             "endlinecolor": "#2a3f5f",
             "gridcolor": "#C8D4E3",
             "linecolor": "#C8D4E3",
             "minorgridcolor": "#C8D4E3",
             "startlinecolor": "#2a3f5f"
            },
            "baxis": {
             "endlinecolor": "#2a3f5f",
             "gridcolor": "#C8D4E3",
             "linecolor": "#C8D4E3",
             "minorgridcolor": "#C8D4E3",
             "startlinecolor": "#2a3f5f"
            },
            "type": "carpet"
           }
          ],
          "choropleth": [
           {
            "colorbar": {
             "outlinewidth": 0,
             "ticks": ""
            },
            "type": "choropleth"
           }
          ],
          "contour": [
           {
            "colorbar": {
             "outlinewidth": 0,
             "ticks": ""
            },
            "colorscale": [
             [
              0,
              "#0d0887"
             ],
             [
              0.1111111111111111,
              "#46039f"
             ],
             [
              0.2222222222222222,
              "#7201a8"
             ],
             [
              0.3333333333333333,
              "#9c179e"
             ],
             [
              0.4444444444444444,
              "#bd3786"
             ],
             [
              0.5555555555555556,
              "#d8576b"
             ],
             [
              0.6666666666666666,
              "#ed7953"
             ],
             [
              0.7777777777777778,
              "#fb9f3a"
             ],
             [
              0.8888888888888888,
              "#fdca26"
             ],
             [
              1,
              "#f0f921"
             ]
            ],
            "type": "contour"
           }
          ],
          "contourcarpet": [
           {
            "colorbar": {
             "outlinewidth": 0,
             "ticks": ""
            },
            "type": "contourcarpet"
           }
          ],
          "heatmap": [
           {
            "colorbar": {
             "outlinewidth": 0,
             "ticks": ""
            },
            "colorscale": [
             [
              0,
              "#0d0887"
             ],
             [
              0.1111111111111111,
              "#46039f"
             ],
             [
              0.2222222222222222,
              "#7201a8"
             ],
             [
              0.3333333333333333,
              "#9c179e"
             ],
             [
              0.4444444444444444,
              "#bd3786"
             ],
             [
              0.5555555555555556,
              "#d8576b"
             ],
             [
              0.6666666666666666,
              "#ed7953"
             ],
             [
              0.7777777777777778,
              "#fb9f3a"
             ],
             [
              0.8888888888888888,
              "#fdca26"
             ],
             [
              1,
              "#f0f921"
             ]
            ],
            "type": "heatmap"
           }
          ],
          "heatmapgl": [
           {
            "colorbar": {
             "outlinewidth": 0,
             "ticks": ""
            },
            "colorscale": [
             [
              0,
              "#0d0887"
             ],
             [
              0.1111111111111111,
              "#46039f"
             ],
             [
              0.2222222222222222,
              "#7201a8"
             ],
             [
              0.3333333333333333,
              "#9c179e"
             ],
             [
              0.4444444444444444,
              "#bd3786"
             ],
             [
              0.5555555555555556,
              "#d8576b"
             ],
             [
              0.6666666666666666,
              "#ed7953"
             ],
             [
              0.7777777777777778,
              "#fb9f3a"
             ],
             [
              0.8888888888888888,
              "#fdca26"
             ],
             [
              1,
              "#f0f921"
             ]
            ],
            "type": "heatmapgl"
           }
          ],
          "histogram": [
           {
            "marker": {
             "pattern": {
              "fillmode": "overlay",
              "size": 10,
              "solidity": 0.2
             }
            },
            "type": "histogram"
           }
          ],
          "histogram2d": [
           {
            "colorbar": {
             "outlinewidth": 0,
             "ticks": ""
            },
            "colorscale": [
             [
              0,
              "#0d0887"
             ],
             [
              0.1111111111111111,
              "#46039f"
             ],
             [
              0.2222222222222222,
              "#7201a8"
             ],
             [
              0.3333333333333333,
              "#9c179e"
             ],
             [
              0.4444444444444444,
              "#bd3786"
             ],
             [
              0.5555555555555556,
              "#d8576b"
             ],
             [
              0.6666666666666666,
              "#ed7953"
             ],
             [
              0.7777777777777778,
              "#fb9f3a"
             ],
             [
              0.8888888888888888,
              "#fdca26"
             ],
             [
              1,
              "#f0f921"
             ]
            ],
            "type": "histogram2d"
           }
          ],
          "histogram2dcontour": [
           {
            "colorbar": {
             "outlinewidth": 0,
             "ticks": ""
            },
            "colorscale": [
             [
              0,
              "#0d0887"
             ],
             [
              0.1111111111111111,
              "#46039f"
             ],
             [
              0.2222222222222222,
              "#7201a8"
             ],
             [
              0.3333333333333333,
              "#9c179e"
             ],
             [
              0.4444444444444444,
              "#bd3786"
             ],
             [
              0.5555555555555556,
              "#d8576b"
             ],
             [
              0.6666666666666666,
              "#ed7953"
             ],
             [
              0.7777777777777778,
              "#fb9f3a"
             ],
             [
              0.8888888888888888,
              "#fdca26"
             ],
             [
              1,
              "#f0f921"
             ]
            ],
            "type": "histogram2dcontour"
           }
          ],
          "mesh3d": [
           {
            "colorbar": {
             "outlinewidth": 0,
             "ticks": ""
            },
            "type": "mesh3d"
           }
          ],
          "parcoords": [
           {
            "line": {
             "colorbar": {
              "outlinewidth": 0,
              "ticks": ""
             }
            },
            "type": "parcoords"
           }
          ],
          "pie": [
           {
            "automargin": true,
            "type": "pie"
           }
          ],
          "scatter": [
           {
            "fillpattern": {
             "fillmode": "overlay",
             "size": 10,
             "solidity": 0.2
            },
            "type": "scatter"
           }
          ],
          "scatter3d": [
           {
            "line": {
             "colorbar": {
              "outlinewidth": 0,
              "ticks": ""
             }
            },
            "marker": {
             "colorbar": {
              "outlinewidth": 0,
              "ticks": ""
             }
            },
            "type": "scatter3d"
           }
          ],
          "scattercarpet": [
           {
            "marker": {
             "colorbar": {
              "outlinewidth": 0,
              "ticks": ""
             }
            },
            "type": "scattercarpet"
           }
          ],
          "scattergeo": [
           {
            "marker": {
             "colorbar": {
              "outlinewidth": 0,
              "ticks": ""
             }
            },
            "type": "scattergeo"
           }
          ],
          "scattergl": [
           {
            "marker": {
             "colorbar": {
              "outlinewidth": 0,
              "ticks": ""
             }
            },
            "type": "scattergl"
           }
          ],
          "scattermapbox": [
           {
            "marker": {
             "colorbar": {
              "outlinewidth": 0,
              "ticks": ""
             }
            },
            "type": "scattermapbox"
           }
          ],
          "scatterpolar": [
           {
            "marker": {
             "colorbar": {
              "outlinewidth": 0,
              "ticks": ""
             }
            },
            "type": "scatterpolar"
           }
          ],
          "scatterpolargl": [
           {
            "marker": {
             "colorbar": {
              "outlinewidth": 0,
              "ticks": ""
             }
            },
            "type": "scatterpolargl"
           }
          ],
          "scatterternary": [
           {
            "marker": {
             "colorbar": {
              "outlinewidth": 0,
              "ticks": ""
             }
            },
            "type": "scatterternary"
           }
          ],
          "surface": [
           {
            "colorbar": {
             "outlinewidth": 0,
             "ticks": ""
            },
            "colorscale": [
             [
              0,
              "#0d0887"
             ],
             [
              0.1111111111111111,
              "#46039f"
             ],
             [
              0.2222222222222222,
              "#7201a8"
             ],
             [
              0.3333333333333333,
              "#9c179e"
             ],
             [
              0.4444444444444444,
              "#bd3786"
             ],
             [
              0.5555555555555556,
              "#d8576b"
             ],
             [
              0.6666666666666666,
              "#ed7953"
             ],
             [
              0.7777777777777778,
              "#fb9f3a"
             ],
             [
              0.8888888888888888,
              "#fdca26"
             ],
             [
              1,
              "#f0f921"
             ]
            ],
            "type": "surface"
           }
          ],
          "table": [
           {
            "cells": {
             "fill": {
              "color": "#EBF0F8"
             },
             "line": {
              "color": "white"
             }
            },
            "header": {
             "fill": {
              "color": "#C8D4E3"
             },
             "line": {
              "color": "white"
             }
            },
            "type": "table"
           }
          ]
         },
         "layout": {
          "annotationdefaults": {
           "arrowcolor": "#2a3f5f",
           "arrowhead": 0,
           "arrowwidth": 1
          },
          "autotypenumbers": "strict",
          "coloraxis": {
           "colorbar": {
            "outlinewidth": 0,
            "ticks": ""
           }
          },
          "colorscale": {
           "diverging": [
            [
             0,
             "#8e0152"
            ],
            [
             0.1,
             "#c51b7d"
            ],
            [
             0.2,
             "#de77ae"
            ],
            [
             0.3,
             "#f1b6da"
            ],
            [
             0.4,
             "#fde0ef"
            ],
            [
             0.5,
             "#f7f7f7"
            ],
            [
             0.6,
             "#e6f5d0"
            ],
            [
             0.7,
             "#b8e186"
            ],
            [
             0.8,
             "#7fbc41"
            ],
            [
             0.9,
             "#4d9221"
            ],
            [
             1,
             "#276419"
            ]
           ],
           "sequential": [
            [
             0,
             "#0d0887"
            ],
            [
             0.1111111111111111,
             "#46039f"
            ],
            [
             0.2222222222222222,
             "#7201a8"
            ],
            [
             0.3333333333333333,
             "#9c179e"
            ],
            [
             0.4444444444444444,
             "#bd3786"
            ],
            [
             0.5555555555555556,
             "#d8576b"
            ],
            [
             0.6666666666666666,
             "#ed7953"
            ],
            [
             0.7777777777777778,
             "#fb9f3a"
            ],
            [
             0.8888888888888888,
             "#fdca26"
            ],
            [
             1,
             "#f0f921"
            ]
           ],
           "sequentialminus": [
            [
             0,
             "#0d0887"
            ],
            [
             0.1111111111111111,
             "#46039f"
            ],
            [
             0.2222222222222222,
             "#7201a8"
            ],
            [
             0.3333333333333333,
             "#9c179e"
            ],
            [
             0.4444444444444444,
             "#bd3786"
            ],
            [
             0.5555555555555556,
             "#d8576b"
            ],
            [
             0.6666666666666666,
             "#ed7953"
            ],
            [
             0.7777777777777778,
             "#fb9f3a"
            ],
            [
             0.8888888888888888,
             "#fdca26"
            ],
            [
             1,
             "#f0f921"
            ]
           ]
          },
          "colorway": [
           "#636efa",
           "#EF553B",
           "#00cc96",
           "#ab63fa",
           "#FFA15A",
           "#19d3f3",
           "#FF6692",
           "#B6E880",
           "#FF97FF",
           "#FECB52"
          ],
          "font": {
           "color": "#2a3f5f"
          },
          "geo": {
           "bgcolor": "white",
           "lakecolor": "white",
           "landcolor": "white",
           "showlakes": true,
           "showland": true,
           "subunitcolor": "#C8D4E3"
          },
          "hoverlabel": {
           "align": "left"
          },
          "hovermode": "closest",
          "mapbox": {
           "style": "light"
          },
          "paper_bgcolor": "white",
          "plot_bgcolor": "white",
          "polar": {
           "angularaxis": {
            "gridcolor": "#EBF0F8",
            "linecolor": "#EBF0F8",
            "ticks": ""
           },
           "bgcolor": "white",
           "radialaxis": {
            "gridcolor": "#EBF0F8",
            "linecolor": "#EBF0F8",
            "ticks": ""
           }
          },
          "scene": {
           "xaxis": {
            "backgroundcolor": "white",
            "gridcolor": "#DFE8F3",
            "gridwidth": 2,
            "linecolor": "#EBF0F8",
            "showbackground": true,
            "ticks": "",
            "zerolinecolor": "#EBF0F8"
           },
           "yaxis": {
            "backgroundcolor": "white",
            "gridcolor": "#DFE8F3",
            "gridwidth": 2,
            "linecolor": "#EBF0F8",
            "showbackground": true,
            "ticks": "",
            "zerolinecolor": "#EBF0F8"
           },
           "zaxis": {
            "backgroundcolor": "white",
            "gridcolor": "#DFE8F3",
            "gridwidth": 2,
            "linecolor": "#EBF0F8",
            "showbackground": true,
            "ticks": "",
            "zerolinecolor": "#EBF0F8"
           }
          },
          "shapedefaults": {
           "line": {
            "color": "#2a3f5f"
           }
          },
          "ternary": {
           "aaxis": {
            "gridcolor": "#DFE8F3",
            "linecolor": "#A2B1C6",
            "ticks": ""
           },
           "baxis": {
            "gridcolor": "#DFE8F3",
            "linecolor": "#A2B1C6",
            "ticks": ""
           },
           "bgcolor": "white",
           "caxis": {
            "gridcolor": "#DFE8F3",
            "linecolor": "#A2B1C6",
            "ticks": ""
           }
          },
          "title": {
           "x": 0.05
          },
          "xaxis": {
           "automargin": true,
           "gridcolor": "#EBF0F8",
           "linecolor": "#EBF0F8",
           "ticks": "",
           "title": {
            "standoff": 15
           },
           "zerolinecolor": "#EBF0F8",
           "zerolinewidth": 2
          },
          "yaxis": {
           "automargin": true,
           "gridcolor": "#EBF0F8",
           "linecolor": "#EBF0F8",
           "ticks": "",
           "title": {
            "standoff": 15
           },
           "zerolinecolor": "#EBF0F8",
           "zerolinewidth": 2
          }
         }
        },
        "xaxis": {
         "title": {
          "text": "Time (years)"
         }
        },
        "yaxis": {
         "autorange": "reversed",
         "tickformat": ".0f",
         "tickprefix": "$",
         "title": {
          "text": "Zero-Coupon Bond Price"
         }
        }
       }
      }
     },
     "metadata": {},
     "output_type": "display_data"
    }
   ],
   "source": [
    "zero = zeroCouponTree(prds_per_year, zero_maturity, tree)\n",
    "price = zero[0][0]\n",
    "rate = ((100/price)**(1/(prds_per_year*zero_maturity)) - 1)*prds_per_year\n",
    "fig2 = treePlot(zero, 1/prds_per_year, kind=\"zero\")\n",
    "fig2.update_layout(\n",
    "    template=\"plotly_white\",\n",
    "    showlegend=False\n",
    ")\n",
    "fig2.show()\n"
   ]
  }
 ],
 "metadata": {
  "colab": {
   "include_colab_link": true,
   "name": "interest rate trees.ipynb",
   "provenance": []
  },
  "kernelspec": {
   "display_name": "Python 3",
   "language": "python",
   "name": "python3"
  },
  "language_info": {
   "codemirror_mode": {
    "name": "ipython",
    "version": 3
   },
   "file_extension": ".py",
   "mimetype": "text/x-python",
   "name": "python",
   "nbconvert_exporter": "python",
   "pygments_lexer": "ipython3",
   "version": "3.10.8"
  }
 },
 "nbformat": 4,
 "nbformat_minor": 0
}
