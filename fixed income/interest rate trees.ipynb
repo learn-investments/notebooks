{
  "cells": [
    {
      "cell_type": "markdown",
      "metadata": {
        "id": "view-in-github",
        "colab_type": "text"
      },
      "source": [
        "<a href=\"https://colab.research.google.com/github/bbcx-investments/notebooks/blob/main/fixed_income/rate_tree.ipynb\" target=\"_parent\"><img src=\"https://colab.research.google.com/assets/colab-badge.svg\" alt=\"Open In Colab\"/></a>"
      ]
    },
    {
      "cell_type": "code",
      "execution_count": null,
      "outputs": [],
      "source": [
        "from scipy.optimize import minimize\n",
        "import numpy as np\n",
        "import pandas as pd\n",
        "\n",
        "def price(prds, **kwargs):\n",
        "    c = 100 * kwargs['coupon'] / 2\n",
        "    maturity = kwargs['maturity']\n",
        "    if 'yld' in kwargs.keys():\n",
        "        yld = kwargs['yld']\n",
        "        n = int(2 * maturity)\n",
        "        return c * np.sum((1 + yld/2) ** np.arange(-1, -n - 1, -1)) + 100 / (1 + yld/2) ** n\n",
        "    else:\n",
        "        n = int(prds * maturity)\n",
        "        pphy = int(prds/2)  # periods per half year\n",
        "        spots = np.array(kwargs['spots'])\n",
        "        # pv_factors = (1 + spots / 2) ** (-np.arange(1, len(spots) + 1))\n",
        "        pv_factors = (1 + spots / prds) ** (-np.arange(1, len(spots) + 1))\n",
        "        coupons = np.zeros(n)\n",
        "        coupons[(pphy - 1)::pphy] = c\n",
        "        return np.sum(coupons*pv_factors[:len(coupons)]) + 100*pv_factors[n-1]\n",
        "\n",
        "def forward_rates(prds, spots):\n",
        "    pphy = int(prds / 2)  # periods per half year\n",
        "    future_factors = (1 + spots / 2) ** (np.arange(1, len(spots) + 1) / pphy)\n",
        "    change_logs = np.diff(np.log(future_factors))\n",
        "    f = (np.exp(change_logs)-1) * prds\n",
        "    return np.concatenate(([spots[0]], f))\n",
        "\n",
        "def objective(prds, bonds, spots):\n",
        "    prices = [price(prds, **bond) for bond in bonds]\n",
        "    phats = [price(prds=prds, maturity=bond['maturity'], coupon=bond['coupon'], spots=spots) for bond in bonds]\n",
        "    errors = [np.log(phat/p) for phat, p in zip(prices, phats)]\n",
        "    sse = np.sum([e**2 for e in errors])\n",
        "    forwards = forward_rates(prds, spots)\n",
        "    diffs = np.sum(np.diff(np.log(1+forwards/prds))**2)\n",
        "    return sse + 0.5*diffs\n",
        "\n",
        "def spot_rates(prds, bonds):\n",
        "    maturities = [bond['maturity'] for bond in bonds]\n",
        "    n = int(np.max(maturities) * prds)\n",
        "    result = minimize(lambda x: objective(prds, bonds, x), [0.05]*n)\n",
        "    return result.x if result.success==True else np.nan\n",
        "\n",
        "def rateTree(r, sigma, dt, phis):\n",
        "    delta = sigma*np.sqrt(dt)\n",
        "    return [[r + phi + delta * (i - 2 * j) for j in range(i + 1)] for i, phi in enumerate(phis)]\n",
        "\n",
        "def phi(sigma, prds, n, forwards):\n",
        "    dt = 1/prds\n",
        "    m = len(forwards)\n",
        "    f = forwards[:n+1] if m>=n+1 else np.concatenate((forwards, [forwards[-1]]*(n+1-m)))\n",
        "    term1 = np.log(1+f*dt)\n",
        "    a = np.exp(sigma*dt**(3/2)*np.arange(n+1))\n",
        "    term2 = np.log(a + 1/a)\n",
        "    term3 = np.log(2*(1+f[0]*dt))\n",
        "    return (term1 + term2 - term3) / dt\n",
        "\n",
        "def zeroCouponTree(prds, maturity, tree):\n",
        "    n = int(prds * maturity)\n",
        "    rates = [np.array(x) for x in tree]\n",
        "    x = 100 * np.ones(n + 1)\n",
        "    lst = [x]\n",
        "    i = n - 1\n",
        "    while len(x) > 1:\n",
        "        x = 0.5 * (x[:-1] + x[1:]) / (1 + rates[i] / prds)\n",
        "        lst.insert(0, x)\n",
        "        i -= 1\n",
        "    return [list(x) for x in lst]\n",
        "\n"
      ],
      "metadata": {
        "pycharm": {
          "name": "#%%\n"
        },
        "id": "qk_h_3LYHwza"
      }
    },
    {
      "cell_type": "code",
      "execution_count": null,
      "outputs": [
        {
          "data": {
            "text/plain": "    year 0.5  year 1.0  year 1.5  year 2.0  year 2.5  year 3.0  year 3.5  \\\n0   0.014804  0.020787  0.029190  0.036014  0.041274  0.045864  0.049792   \n1        NaN  0.013716  0.022119  0.028943  0.034202  0.038793  0.042721   \n2        NaN       NaN  0.015048  0.021872  0.027131  0.031722  0.035650   \n3        NaN       NaN       NaN  0.014801  0.020060  0.024651  0.028579   \n4        NaN       NaN       NaN       NaN  0.012989  0.017580  0.021508   \n5        NaN       NaN       NaN       NaN       NaN  0.010509  0.014437   \n6        NaN       NaN       NaN       NaN       NaN       NaN  0.007366   \n7        NaN       NaN       NaN       NaN       NaN       NaN       NaN   \n8        NaN       NaN       NaN       NaN       NaN       NaN       NaN   \n9        NaN       NaN       NaN       NaN       NaN       NaN       NaN   \n10       NaN       NaN       NaN       NaN       NaN       NaN       NaN   \n\n    year 4.0  year 4.5  year 5.0  year 5.5  \n0   0.053694  0.057570  0.061748  0.066228  \n1   0.046623  0.050499  0.054677  0.059157  \n2   0.039552  0.043428  0.047606  0.052086  \n3   0.032481  0.036357  0.040535  0.045015  \n4   0.025410  0.029285  0.033464  0.037944  \n5   0.018339  0.022214  0.026393  0.030873  \n6   0.011267  0.015143  0.019322  0.023802  \n7   0.004196  0.008072  0.012251  0.016731  \n8        NaN  0.001001  0.005180  0.009660  \n9        NaN       NaN -0.001891  0.002589  \n10       NaN       NaN       NaN -0.004482  ",
            "text/html": "<div>\n<style scoped>\n    .dataframe tbody tr th:only-of-type {\n        vertical-align: middle;\n    }\n\n    .dataframe tbody tr th {\n        vertical-align: top;\n    }\n\n    .dataframe thead th {\n        text-align: right;\n    }\n</style>\n<table border=\"1\" class=\"dataframe\">\n  <thead>\n    <tr style=\"text-align: right;\">\n      <th></th>\n      <th>year 0.5</th>\n      <th>year 1.0</th>\n      <th>year 1.5</th>\n      <th>year 2.0</th>\n      <th>year 2.5</th>\n      <th>year 3.0</th>\n      <th>year 3.5</th>\n      <th>year 4.0</th>\n      <th>year 4.5</th>\n      <th>year 5.0</th>\n      <th>year 5.5</th>\n    </tr>\n  </thead>\n  <tbody>\n    <tr>\n      <th>0</th>\n      <td>0.014804</td>\n      <td>0.020787</td>\n      <td>0.029190</td>\n      <td>0.036014</td>\n      <td>0.041274</td>\n      <td>0.045864</td>\n      <td>0.049792</td>\n      <td>0.053694</td>\n      <td>0.057570</td>\n      <td>0.061748</td>\n      <td>0.066228</td>\n    </tr>\n    <tr>\n      <th>1</th>\n      <td>NaN</td>\n      <td>0.013716</td>\n      <td>0.022119</td>\n      <td>0.028943</td>\n      <td>0.034202</td>\n      <td>0.038793</td>\n      <td>0.042721</td>\n      <td>0.046623</td>\n      <td>0.050499</td>\n      <td>0.054677</td>\n      <td>0.059157</td>\n    </tr>\n    <tr>\n      <th>2</th>\n      <td>NaN</td>\n      <td>NaN</td>\n      <td>0.015048</td>\n      <td>0.021872</td>\n      <td>0.027131</td>\n      <td>0.031722</td>\n      <td>0.035650</td>\n      <td>0.039552</td>\n      <td>0.043428</td>\n      <td>0.047606</td>\n      <td>0.052086</td>\n    </tr>\n    <tr>\n      <th>3</th>\n      <td>NaN</td>\n      <td>NaN</td>\n      <td>NaN</td>\n      <td>0.014801</td>\n      <td>0.020060</td>\n      <td>0.024651</td>\n      <td>0.028579</td>\n      <td>0.032481</td>\n      <td>0.036357</td>\n      <td>0.040535</td>\n      <td>0.045015</td>\n    </tr>\n    <tr>\n      <th>4</th>\n      <td>NaN</td>\n      <td>NaN</td>\n      <td>NaN</td>\n      <td>NaN</td>\n      <td>0.012989</td>\n      <td>0.017580</td>\n      <td>0.021508</td>\n      <td>0.025410</td>\n      <td>0.029285</td>\n      <td>0.033464</td>\n      <td>0.037944</td>\n    </tr>\n    <tr>\n      <th>5</th>\n      <td>NaN</td>\n      <td>NaN</td>\n      <td>NaN</td>\n      <td>NaN</td>\n      <td>NaN</td>\n      <td>0.010509</td>\n      <td>0.014437</td>\n      <td>0.018339</td>\n      <td>0.022214</td>\n      <td>0.026393</td>\n      <td>0.030873</td>\n    </tr>\n    <tr>\n      <th>6</th>\n      <td>NaN</td>\n      <td>NaN</td>\n      <td>NaN</td>\n      <td>NaN</td>\n      <td>NaN</td>\n      <td>NaN</td>\n      <td>0.007366</td>\n      <td>0.011267</td>\n      <td>0.015143</td>\n      <td>0.019322</td>\n      <td>0.023802</td>\n    </tr>\n    <tr>\n      <th>7</th>\n      <td>NaN</td>\n      <td>NaN</td>\n      <td>NaN</td>\n      <td>NaN</td>\n      <td>NaN</td>\n      <td>NaN</td>\n      <td>NaN</td>\n      <td>0.004196</td>\n      <td>0.008072</td>\n      <td>0.012251</td>\n      <td>0.016731</td>\n    </tr>\n    <tr>\n      <th>8</th>\n      <td>NaN</td>\n      <td>NaN</td>\n      <td>NaN</td>\n      <td>NaN</td>\n      <td>NaN</td>\n      <td>NaN</td>\n      <td>NaN</td>\n      <td>NaN</td>\n      <td>0.001001</td>\n      <td>0.005180</td>\n      <td>0.009660</td>\n    </tr>\n    <tr>\n      <th>9</th>\n      <td>NaN</td>\n      <td>NaN</td>\n      <td>NaN</td>\n      <td>NaN</td>\n      <td>NaN</td>\n      <td>NaN</td>\n      <td>NaN</td>\n      <td>NaN</td>\n      <td>NaN</td>\n      <td>-0.001891</td>\n      <td>0.002589</td>\n    </tr>\n    <tr>\n      <th>10</th>\n      <td>NaN</td>\n      <td>NaN</td>\n      <td>NaN</td>\n      <td>NaN</td>\n      <td>NaN</td>\n      <td>NaN</td>\n      <td>NaN</td>\n      <td>NaN</td>\n      <td>NaN</td>\n      <td>NaN</td>\n      <td>-0.004482</td>\n    </tr>\n  </tbody>\n</table>\n</div>"
          },
          "execution_count": 18,
          "metadata": {},
          "output_type": "execute_result"
        }
      ],
      "source": [
        "# example parameters\n",
        "sigma = 0.005       # Volatility\n",
        "prds = 2            # Periods per year\n",
        "total = 10          # Total periods\n",
        "new_num = 6         # Number of bonds\n",
        "zerom = 5           # Maturity of zero-coupon bond\n",
        "\n",
        "# example bonds\n",
        "bonds = [\n",
        "        {\"maturity\": 1, \"coupon\": 0.02, \"yld\": 0.015},\n",
        "        {\"maturity\": 2, \"coupon\": 0.02, \"yld\": 0.02},\n",
        "        {\"maturity\": 3, \"coupon\": 0.02, \"yld\": 0.0225},\n",
        "        {\"maturity\": 4, \"coupon\": 0.02, \"yld\": 0.024},\n",
        "        {\"maturity\": 5, \"coupon\": 0.02, \"yld\": 0.025},\n",
        "        {\"maturity\": 6, \"coupon\": 0.02, \"yld\": 0.026},\n",
        "    ]\n",
        "\n",
        "# number of grids\n",
        "dt = 1/prds\n",
        "\n",
        "spots = spot_rates(prds, bonds)\n",
        "forwards = forward_rates(prds, spots)\n",
        "phis = phi(sigma, prds, total, forwards)\n",
        "tree = rateTree(spots[0], sigma, dt, phis)\n",
        "\n",
        "# Annual Short Rate Tree\n",
        "df_tree = pd.DataFrame(tree, index=['year ' + str(i/2) for i in range(total+1)]).transpose()\n",
        "df_tree"
      ],
      "metadata": {
        "pycharm": {
          "name": "#%%\n"
        },
        "id": "Wiq5HwVWHwzc",
        "outputId": "ea719af4-93da-4be0-b8cd-7572a4e0d9cc"
      }
    },
    {
      "cell_type": "code",
      "execution_count": null,
      "outputs": [
        {
          "data": {
            "text/plain": "     year 0.0   year 0.5   year 1.0   year 1.5   year 2.0   year 2.5  \\\n0   88.293754  87.550514  87.228550  87.425470  88.073957  89.113754   \n1         NaN  90.344054  89.692424  89.577807  89.925559  90.669284   \n2         NaN        NaN  92.234870  91.790917  91.822736  92.257511   \n3         NaN        NaN        NaN  94.066736  93.766773  93.879241   \n4         NaN        NaN        NaN        NaN  95.758998  95.535299   \n5         NaN        NaN        NaN        NaN        NaN  97.226538   \n6         NaN        NaN        NaN        NaN        NaN        NaN   \n7         NaN        NaN        NaN        NaN        NaN        NaN   \n8         NaN        NaN        NaN        NaN        NaN        NaN   \n9         NaN        NaN        NaN        NaN        NaN        NaN   \n10        NaN        NaN        NaN        NaN        NaN        NaN   \n\n     year 3.0   year 3.5   year 4.0    year 4.5  year 5.0  \n0   90.527509  92.301373  94.453153   97.005054     100.0  \n1   91.787154  93.261184  95.105612   97.338892     100.0  \n2   93.068784  94.234349  95.764855   97.675036     100.0  \n3   94.372862  95.221101  96.430977   98.013509     100.0  \n4   95.699861  96.221678  97.104072   98.354337     100.0  \n5   97.050267  97.236323  97.784240   98.697543     100.0  \n6   98.424576  98.265284  98.471579   99.043152     100.0  \n7         NaN  99.308815  99.166191   99.391191     100.0  \n8         NaN        NaN  99.868179   99.741684     100.0  \n9         NaN        NaN        NaN  100.094658     100.0  \n10        NaN        NaN        NaN         NaN     100.0  ",
            "text/html": "<div>\n<style scoped>\n    .dataframe tbody tr th:only-of-type {\n        vertical-align: middle;\n    }\n\n    .dataframe tbody tr th {\n        vertical-align: top;\n    }\n\n    .dataframe thead th {\n        text-align: right;\n    }\n</style>\n<table border=\"1\" class=\"dataframe\">\n  <thead>\n    <tr style=\"text-align: right;\">\n      <th></th>\n      <th>year 0.0</th>\n      <th>year 0.5</th>\n      <th>year 1.0</th>\n      <th>year 1.5</th>\n      <th>year 2.0</th>\n      <th>year 2.5</th>\n      <th>year 3.0</th>\n      <th>year 3.5</th>\n      <th>year 4.0</th>\n      <th>year 4.5</th>\n      <th>year 5.0</th>\n    </tr>\n  </thead>\n  <tbody>\n    <tr>\n      <th>0</th>\n      <td>88.293754</td>\n      <td>87.550514</td>\n      <td>87.228550</td>\n      <td>87.425470</td>\n      <td>88.073957</td>\n      <td>89.113754</td>\n      <td>90.527509</td>\n      <td>92.301373</td>\n      <td>94.453153</td>\n      <td>97.005054</td>\n      <td>100.0</td>\n    </tr>\n    <tr>\n      <th>1</th>\n      <td>NaN</td>\n      <td>90.344054</td>\n      <td>89.692424</td>\n      <td>89.577807</td>\n      <td>89.925559</td>\n      <td>90.669284</td>\n      <td>91.787154</td>\n      <td>93.261184</td>\n      <td>95.105612</td>\n      <td>97.338892</td>\n      <td>100.0</td>\n    </tr>\n    <tr>\n      <th>2</th>\n      <td>NaN</td>\n      <td>NaN</td>\n      <td>92.234870</td>\n      <td>91.790917</td>\n      <td>91.822736</td>\n      <td>92.257511</td>\n      <td>93.068784</td>\n      <td>94.234349</td>\n      <td>95.764855</td>\n      <td>97.675036</td>\n      <td>100.0</td>\n    </tr>\n    <tr>\n      <th>3</th>\n      <td>NaN</td>\n      <td>NaN</td>\n      <td>NaN</td>\n      <td>94.066736</td>\n      <td>93.766773</td>\n      <td>93.879241</td>\n      <td>94.372862</td>\n      <td>95.221101</td>\n      <td>96.430977</td>\n      <td>98.013509</td>\n      <td>100.0</td>\n    </tr>\n    <tr>\n      <th>4</th>\n      <td>NaN</td>\n      <td>NaN</td>\n      <td>NaN</td>\n      <td>NaN</td>\n      <td>95.758998</td>\n      <td>95.535299</td>\n      <td>95.699861</td>\n      <td>96.221678</td>\n      <td>97.104072</td>\n      <td>98.354337</td>\n      <td>100.0</td>\n    </tr>\n    <tr>\n      <th>5</th>\n      <td>NaN</td>\n      <td>NaN</td>\n      <td>NaN</td>\n      <td>NaN</td>\n      <td>NaN</td>\n      <td>97.226538</td>\n      <td>97.050267</td>\n      <td>97.236323</td>\n      <td>97.784240</td>\n      <td>98.697543</td>\n      <td>100.0</td>\n    </tr>\n    <tr>\n      <th>6</th>\n      <td>NaN</td>\n      <td>NaN</td>\n      <td>NaN</td>\n      <td>NaN</td>\n      <td>NaN</td>\n      <td>NaN</td>\n      <td>98.424576</td>\n      <td>98.265284</td>\n      <td>98.471579</td>\n      <td>99.043152</td>\n      <td>100.0</td>\n    </tr>\n    <tr>\n      <th>7</th>\n      <td>NaN</td>\n      <td>NaN</td>\n      <td>NaN</td>\n      <td>NaN</td>\n      <td>NaN</td>\n      <td>NaN</td>\n      <td>NaN</td>\n      <td>99.308815</td>\n      <td>99.166191</td>\n      <td>99.391191</td>\n      <td>100.0</td>\n    </tr>\n    <tr>\n      <th>8</th>\n      <td>NaN</td>\n      <td>NaN</td>\n      <td>NaN</td>\n      <td>NaN</td>\n      <td>NaN</td>\n      <td>NaN</td>\n      <td>NaN</td>\n      <td>NaN</td>\n      <td>99.868179</td>\n      <td>99.741684</td>\n      <td>100.0</td>\n    </tr>\n    <tr>\n      <th>9</th>\n      <td>NaN</td>\n      <td>NaN</td>\n      <td>NaN</td>\n      <td>NaN</td>\n      <td>NaN</td>\n      <td>NaN</td>\n      <td>NaN</td>\n      <td>NaN</td>\n      <td>NaN</td>\n      <td>100.094658</td>\n      <td>100.0</td>\n    </tr>\n    <tr>\n      <th>10</th>\n      <td>NaN</td>\n      <td>NaN</td>\n      <td>NaN</td>\n      <td>NaN</td>\n      <td>NaN</td>\n      <td>NaN</td>\n      <td>NaN</td>\n      <td>NaN</td>\n      <td>NaN</td>\n      <td>NaN</td>\n      <td>100.0</td>\n    </tr>\n  </tbody>\n</table>\n</div>"
          },
          "execution_count": 20,
          "metadata": {},
          "output_type": "execute_result"
        }
      ],
      "source": [
        "# Zero Coupon Bond Price\n",
        "zero = zeroCouponTree(prds, zerom, tree)\n",
        "df_zero = pd.DataFrame(zero, index=['year ' + str(i/2) for i in range(total+1)]).transpose()\n",
        "df_zero\n",
        "\n",
        "df_zero"
      ],
      "metadata": {
        "pycharm": {
          "name": "#%%\n"
        },
        "id": "uVqHpXeVHwzc",
        "outputId": "7fffc685-3ca7-44dd-8991-20580a61da15"
      }
    },
    {
      "cell_type": "code",
      "execution_count": null,
      "outputs": [
        {
          "name": "stdout",
          "output_type": "stream",
          "text": [
            "The Date-0 bond price is $88.29.\n",
            "The spot rate is 0.03.\n"
          ]
        }
      ],
      "source": [
        "price = zero[0][0]\n",
        "rate = ((100/price)**(1/(prds*zerom)) - 1)*prds\n",
        "\n",
        "print('The Date-0 bond price is', f\"${price:,.2f}\", end='.\\n')\n",
        "print('The spot rate is', f\"{rate:,.2f}\", end='.\\n')"
      ],
      "metadata": {
        "pycharm": {
          "name": "#%%\n"
        },
        "id": "CADMaoBuHwzd",
        "outputId": "bdf7e2d6-40ee-49ce-8bf4-ee0c7c52160e"
      }
    },
    {
      "cell_type": "code",
      "execution_count": null,
      "outputs": [],
      "source": [
        ""
      ],
      "metadata": {
        "pycharm": {
          "name": "#%%\n"
        },
        "id": "7czJgTTuHwzd"
      }
    }
  ],
  "metadata": {
    "kernelspec": {
      "display_name": "Python 3",
      "language": "python",
      "name": "python3"
    },
    "language_info": {
      "codemirror_mode": {
        "name": "ipython",
        "version": 2
      },
      "file_extension": ".py",
      "mimetype": "text/x-python",
      "name": "python",
      "nbconvert_exporter": "python",
      "pygments_lexer": "ipython2",
      "version": "2.7.6"
    },
    "colab": {
      "name": "rate_tree.ipynb",
      "provenance": [],
      "include_colab_link": true
    }
  },
  "nbformat": 4,
  "nbformat_minor": 0
}