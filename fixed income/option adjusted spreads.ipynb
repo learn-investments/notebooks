{
 "cells": [
  {
   "cell_type": "markdown",
   "metadata": {},
   "source": [
    "---\n",
    "\n",
    "Created for [learn-investments.rice-business.org](https://learn-investments.rice-business.org)\n",
    "    \n",
    "By [Kerry Back](https://kerryback.com) and [Kevin Crotty](https://kevin-crotty.com)\n",
    "    \n",
    "Jones Graduate School of Business, Rice University\n",
    "\n",
    "---\n"
   ]
  },
  {
   "cell_type": "markdown",
   "metadata": {},
   "source": [
    "# EXAMPLE DATA"
   ]
  },
  {
   "cell_type": "code",
   "execution_count": 15,
   "metadata": {},
   "outputs": [],
   "source": [
    "sigma = 50                                                         # volatility in basis points\n",
    "prds_per_year = 2\n",
    "num_bonds = 6                                                      # number of bonds\n",
    "maturities   = [1, 2, 3, 4, 5, 6]                                  # bond maturities\n",
    "coupon_rates = [0.02, 0.02, 0.02, 0.02, 0.02, 0.02]                # coupon rates (annual)\n",
    "yields       = [0.015, 0.02, 0.0225, 0.024, 0.025, 0.026]         # yields (annual)\n",
    "\n",
    "if not all(len(lst)==num_bonds for lst in [maturities, coupon_rates, yields]):\n",
    "    print('Lists need to be of the same length!')\n",
    "\n",
    "# corporate bond information\n",
    "coupon_rate = 0.05   # annual coupon rate, coupons paid semi-annually\n",
    "maturity = 10        # maturity in number of periods\n",
    "option = \"put\"       # use \"put\" or \"call\"\n",
    "strike = 100\n",
    "bond_price = 102     # given bond price\n",
    "\n",
    "if (bond_price<=100 and option==\"put\") or (bond_price>=100 and option==\"call\"):\n",
    "    print(\"Error: Option should have already been exercised.\")"
   ]
  },
  {
   "cell_type": "markdown",
   "metadata": {},
   "source": [
    "# FUNCTIONS FOR BOND PRICES AND FORWARD RATES\n",
    "\n",
    "Unlike the \"spot and forward rates\" notebook, here we work with a general number of periods per year rather than six-month periods."
   ]
  },
  {
   "cell_type": "code",
   "execution_count": 16,
   "metadata": {},
   "outputs": [],
   "source": [
    "import numpy as np\n",
    "from scipy.optimize import minimize\n",
    "\n",
    "# calculate bond price for given yield to maturity or for given spot rates\n",
    "def price(**kwargs):\n",
    "    c = 100 * kwargs['coupon'] / 2\n",
    "    maturity = kwargs['maturity']\n",
    "    if 'yld' in kwargs.keys():\n",
    "        yld = kwargs['yld']\n",
    "        n = int(2 * maturity)\n",
    "        return c * np.sum((1 + yld/2) ** np.arange(-1, -n - 1, -1)) + 100 / (1 + yld/2) ** n\n",
    "    else:\n",
    "        n = int(prds_per_year * maturity)\n",
    "        pphy = int(prds_per_year/2)  # periods per half year\n",
    "        spots = np.array(kwargs['spots'])\n",
    "        pv_factors = (1 + spots / prds_per_year) ** (-np.arange(1, len(spots) + 1))\n",
    "        coupons = np.zeros(n)\n",
    "        coupons[(pphy - 1)::pphy] = c\n",
    "        return np.sum(coupons*pv_factors[:len(coupons)]) + 100*pv_factors[n-1]\n",
    "    \n",
    "# forward rates implied by spot rates\n",
    "def forward_rates(spots):\n",
    "    pphy = int(prds_per_year / 2)  # periods per half year\n",
    "    future_factors = (1 + spots / 2) ** (np.arange(1, len(spots) + 1) / pphy)\n",
    "    diff_logs = np.diff(np.log(future_factors))\n",
    "    f = (np.exp(diff_logs)-1) * prds_per_year\n",
    "    return np.concatenate(([spots[0]], f))"
   ]
  },
  {
   "cell_type": "markdown",
   "metadata": {},
   "source": [
    "# FUNCTION TO COMPUTE SPOT RATES\n",
    "\n",
    "We choose spot rates to match bond prices as closely as possible, except that we add a penalty for variation in implied forward rates, so the resulting forward rate curve is reasonably smooth.  "
   ]
  },
  {
   "cell_type": "code",
   "execution_count": 17,
   "metadata": {},
   "outputs": [],
   "source": [
    "# difference between bond price and price implied by spot rates\n",
    "def error(bond, spots):\n",
    "    price1 = price(**bond)\n",
    "    price2 = price(maturity=bond[\"maturity\"], coupon=bond['coupon'], spots=spots)\n",
    "    return np.log(price2 / price1)\n",
    "\n",
    "# sum of squared errors between bond prices and prices implied by spot rates\n",
    "# plus a penalty for variation in forward rates\n",
    "def objective(bonds, spots):\n",
    "    errors = [error(bond, spots) for bond in bonds]\n",
    "    sse = np.sum(np.array(errors)**2)\n",
    "    forwards = forward_rates(spots)\n",
    "    diffs = np.sum(np.diff(np.log(1+forwards/prds_per_year))**2)\n",
    "    return sse + 0.5*diffs\n",
    "\n",
    "# choose spot rates to optimize the objective\n",
    "def spot_rates(bonds):\n",
    "    maturities = [bond['maturity'] for bond in bonds]\n",
    "    n = int(np.max(maturities) * prds_per_year)\n",
    "    result = minimize(lambda x: objective(bonds, x), [0.05]*n)\n",
    "    return result.x if result.success==True else np.nan"
   ]
  },
  {
   "cell_type": "markdown",
   "metadata": {},
   "source": [
    "# SPOT AND FORWARD RATES"
   ]
  },
  {
   "cell_type": "code",
   "execution_count": 18,
   "metadata": {},
   "outputs": [],
   "source": [
    "bonds = [\n",
    "    dict(\n",
    "        maturity= maturities[i],\n",
    "        coupon  = coupon_rates[i],\n",
    "        yld     = yields[i]\n",
    "    )\n",
    "    for i in range(num_bonds)\n",
    "]\n",
    "\n",
    "spots    = spot_rates(bonds)\n",
    "forwards = forward_rates(spots)"
   ]
  },
  {
   "cell_type": "markdown",
   "metadata": {},
   "source": [
    "# INTEREST RATE TREE\n",
    "\n",
    "We find the drift of the interest rate tree so that it matches the forward rates calculated above.  See, for example, Back, A Course in Derivative Securities, 2006."
   ]
  },
  {
   "cell_type": "code",
   "execution_count": 19,
   "metadata": {},
   "outputs": [],
   "source": [
    "n = prds_per_year * np.max(maturities)\n",
    "dt = 1 / prds_per_year\n",
    "m = len(forwards)\n",
    "s = sigma / 10000   # volatility as decimal\n",
    "f = forwards[:n+1] if m>=n+1 else np.concatenate((forwards, [forwards[-1]]*(n+1-m)))\n",
    "    \n",
    "term1 = np.log(1+f*dt)\n",
    "a = np.exp(s*dt**(3/2)*np.arange(n+1))\n",
    "term2 = np.log(a + 1/a)\n",
    "term3 = np.log(2*(1+f[0]*dt))\n",
    "phis = (term1 + term2 - term3) / dt\n",
    "\n",
    "delta = sigma*np.sqrt(dt) / 10000\n",
    "rate_tree =  [\n",
    "    [spots[0] + phi + delta * (i - 2 * j) for j in range(i + 1)] \n",
    "    for i, phi in enumerate(phis)\n",
    "]"
   ]
  },
  {
   "cell_type": "markdown",
   "metadata": {},
   "source": [
    "# PRICE A BOND WITH OR WITHOUT EMBEDDED OPTION FROM A RATE TREE"
   ]
  },
  {
   "cell_type": "code",
   "execution_count": 20,
   "metadata": {},
   "outputs": [],
   "source": [
    "def BondTree(tree, kind=None):\n",
    "\n",
    "    pphy = int(prds_per_year / 2)  # periods per half year\n",
    "\n",
    "    # coupons paid semi-annually, 0 at other periods\n",
    "    coupon = coupon_rate * 100 / 2\n",
    "    coupons = np.zeros(maturity+1)\n",
    "    coupons[pphy::pphy] = coupon\n",
    "   \n",
    "    rates = [np.array(x) for x in tree]\n",
    "\n",
    "    # x = dirty price, p = clean price\n",
    "    # initialize tree at maturity\n",
    "    x = (100+coupon) * np.ones(maturity + 1)\n",
    "    p = 100 * np.ones(n+1)\n",
    "    lstp = [p]\n",
    "\n",
    "    # back up in the tree\n",
    "    for i in range(maturity-1, -1, -1):\n",
    "        j = (i % pphy) / pphy\n",
    "        accrued = (j*coupon) if j>0 else (coupon if i>0 else 0)\n",
    "        x = accrued + 0.5 * (x[:-1] + x[1:]) / (1 + rates[i] / prds_per_year)\n",
    "\n",
    "        # consider early exercise\n",
    "        if kind:\n",
    "            x = (\n",
    "                np.minimum(x, strike+accrued) if kind == \"call\" else\n",
    "                np.maximum(x, strike+accrued)\n",
    "            )\n",
    "        \n",
    "        p = x - accrued\n",
    "        lstp.insert(0, p)\n",
    "    \n",
    "    # replace subsequent values with strike if exercised early\n",
    "    for i, arr in enumerate(lstp[:-1]):\n",
    "        for j in range(len(arr)):\n",
    "            if arr[j] == strike:\n",
    "                lstp[i+1][j] = lstp[i+1][j+1] = strike\n",
    "                \n",
    "    return [list(p) for p in lstp]"
   ]
  },
  {
   "cell_type": "markdown",
   "metadata": {},
   "source": [
    "# OPTION-ADJUSTED SPREAD\n",
    "\n",
    "Calculate spread over rate tree that equates tree-implied bond price to given price."
   ]
  },
  {
   "cell_type": "code",
   "execution_count": 21,
   "metadata": {},
   "outputs": [
    {
     "name": "stdout",
     "output_type": "stream",
     "text": [
      "Option Adjusted Spread is 2.35%\n"
     ]
    }
   ],
   "source": [
    "from scipy.optimize import root_scalar\n",
    "\n",
    "def error(oas) :\n",
    "    oas_tree = [[oas+x for x in lst] for lst in rate_tree]\n",
    "    bond_tree = BondTree(oas_tree, kind=option)\n",
    "    return bond_price - bond_tree[0][0]\n",
    "\n",
    "try: \n",
    "    oas = root_scalar(error, bracket=[-1, 1], method=\"brentq\")\n",
    "    oas = oas.root\n",
    "    print(f\"Option Adjusted Spread is {oas:.2%}\")\n",
    "    \n",
    "except:\n",
    "    print(\"failed to solve for OAS\")"
   ]
  },
  {
   "cell_type": "markdown",
   "metadata": {},
   "source": [
    "# FIGURES\n",
    "\n",
    "If the solution for the OAS converged, we generate four figures: \n",
    "\n",
    "- \"rate\" is the short rate tree\n",
    "- \"oas\" adds the OAS to the short rate\n",
    "- \"stripped\" is the bond value stripped of the option\n",
    "- \"bond\" is the bond value including the option"
   ]
  },
  {
   "cell_type": "code",
   "execution_count": 22,
   "metadata": {},
   "outputs": [],
   "source": [
    "import plotly.graph_objects as go\n",
    "\n",
    "oas_tree = [[oas+x for x in lst] for lst in rate_tree]\n",
    "trees = {\n",
    "    \"rate\": rate_tree,\n",
    "    \"oas\": oas_tree,\n",
    "    \"stripped\": BondTree(oas_tree),\n",
    "    \"bond\": BondTree(oas_tree, kind=option)\n",
    "}\n",
    "\n",
    "titles = {\n",
    "    \"rate\": \"Annualized Short Rate\",\n",
    "    \"oas\": \"Short Rate + OAS\",\n",
    "    \"stripped\": \"Bond w/o Option\",\n",
    "    \"bond\": \"Bond with Option\"\n",
    "}\n",
    "\n",
    "figs = {}\n",
    "for key, tree in trees.items():\n",
    "    string = \"%{y:.2%}\" if key in (\"rate\", \"oas\") else \"$%{y:,.2f}\"\n",
    "    string += \"<extra></extra>\"\n",
    "    spliced = []\n",
    "    for a, b in zip(tree[1:], tree[:-1]):\n",
    "        x = []\n",
    "        for i in range(len(a)):\n",
    "            x.append(a[i])\n",
    "            try:\n",
    "                x.append(b[i])\n",
    "            except:\n",
    "                pass\n",
    "        spliced.append(x)\n",
    "    fig = go.Figure()\n",
    "    for i in range(len(tree) - 1):\n",
    "        x = [1, 0, 1]\n",
    "        for j in range(i):\n",
    "            x.append(0)\n",
    "            x.append(1)\n",
    "        x = np.array(x) + i\n",
    "        y = spliced[i]\n",
    "        trace = go.Scatter(\n",
    "            x=x*dt,\n",
    "            y=y,\n",
    "            mode=\"lines+markers\",\n",
    "            hovertemplate=string,\n",
    "            marker=dict(size=10, color=\"blue\"),\n",
    "            line_color=\"blue\",\n",
    "        )\n",
    "        fig.add_trace(trace)\n",
    "    fig.update_layout(\n",
    "        xaxis_title=\"Time (years)\",\n",
    "        yaxis_title=titles[key],\n",
    "        yaxis_tickprefix = None if key in (\"rate\", \"oas\") else \"$\", \n",
    "        yaxis_tickformat=\".2%\" if key in (\"rate\", \"oas\") else \".0f\",\n",
    "        yaxis_autorange=None if key in (\"rate\", \"oas\") else \"reversed\",\n",
    "        template=\"plotly_white\",\n",
    "        showlegend=False\n",
    "    )\n",
    "    figs[key] = fig"
   ]
  },
  {
   "cell_type": "code",
   "execution_count": 23,
   "metadata": {},
   "outputs": [],
   "source": [
    "# SHORT RATE"
   ]
  },
  {
   "cell_type": "code",
   "execution_count": 24,
   "metadata": {},
   "outputs": [
    {
     "data": {
      "application/vnd.plotly.v1+json": {
       "config": {
        "plotlyServerURL": "https://plot.ly"
       },
       "data": [
        {
         "hovertemplate": "%{y:.2%}<extra></extra>",
         "line": {
          "color": "blue"
         },
         "marker": {
          "color": "blue",
          "size": 10
         },
         "mode": "lines+markers",
         "type": "scatter",
         "x": [
          0.5,
          0,
          0.5
         ],
         "y": [
          0.02078736699046949,
          0.014803541932454967,
          0.013716299178604013
         ]
        },
        {
         "hovertemplate": "%{y:.2%}<extra></extra>",
         "line": {
          "color": "blue"
         },
         "marker": {
          "color": "blue",
          "size": 10
         },
         "mode": "lines+markers",
         "type": "scatter",
         "x": [
          1,
          0.5,
          1,
          0.5,
          1
         ],
         "y": [
          0.029189731523024634,
          0.02078736699046949,
          0.02211866371115916,
          0.013716299178604013,
          0.015047595899293685
         ]
        },
        {
         "hovertemplate": "%{y:.2%}<extra></extra>",
         "line": {
          "color": "blue"
         },
         "marker": {
          "color": "blue",
          "size": 10
         },
         "mode": "lines+markers",
         "type": "scatter",
         "x": [
          1.5,
          1,
          1.5,
          1,
          1.5,
          1,
          1.5
         ],
         "y": [
          0.036014397129239484,
          0.029189731523024634,
          0.02894332931737401,
          0.02211866371115916,
          0.02187226150550853,
          0.015047595899293685,
          0.014801193693643057
         ]
        },
        {
         "hovertemplate": "%{y:.2%}<extra></extra>",
         "line": {
          "color": "blue"
         },
         "marker": {
          "color": "blue",
          "size": 10
         },
         "mode": "lines+markers",
         "type": "scatter",
         "x": [
          2,
          1.5,
          2,
          1.5,
          2,
          1.5,
          2,
          1.5,
          2
         ],
         "y": [
          0.041273552394386445,
          0.036014397129239484,
          0.03420248458252097,
          0.02894332931737401,
          0.027131416770655493,
          0.02187226150550853,
          0.02006034895879002,
          0.014801193693643057,
          0.012989281146924542
         ]
        },
        {
         "hovertemplate": "%{y:.2%}<extra></extra>",
         "line": {
          "color": "blue"
         },
         "marker": {
          "color": "blue",
          "size": 10
         },
         "mode": "lines+markers",
         "type": "scatter",
         "x": [
          2.5,
          2,
          2.5,
          2,
          2.5,
          2,
          2.5,
          2,
          2.5,
          2,
          2.5
         ],
         "y": [
          0.045864466089283046,
          0.041273552394386445,
          0.03879339827741757,
          0.03420248458252097,
          0.03172233046555209,
          0.027131416770655493,
          0.024651262653686615,
          0.02006034895879002,
          0.01758019484182114,
          0.012989281146924542,
          0.010509127029955666
         ]
        },
        {
         "hovertemplate": "%{y:.2%}<extra></extra>",
         "line": {
          "color": "blue"
         },
         "marker": {
          "color": "blue",
          "size": 10
         },
         "mode": "lines+markers",
         "type": "scatter",
         "x": [
          3,
          2.5,
          3,
          2.5,
          3,
          2.5,
          3,
          2.5,
          3,
          2.5,
          3,
          2.5,
          3
         ],
         "y": [
          0.049791921648364726,
          0.045864466089283046,
          0.04272085383649925,
          0.03879339827741757,
          0.03564978602463377,
          0.03172233046555209,
          0.028578718212768296,
          0.024651262653686615,
          0.02150765040090282,
          0.01758019484182114,
          0.014436582589037345,
          0.010509127029955666,
          0.007365514777171869
         ]
        },
        {
         "hovertemplate": "%{y:.2%}<extra></extra>",
         "line": {
          "color": "blue"
         },
         "marker": {
          "color": "blue",
          "size": 10
         },
         "mode": "lines+markers",
         "type": "scatter",
         "x": [
          3.5,
          3,
          3.5,
          3,
          3.5,
          3,
          3.5,
          3,
          3.5,
          3,
          3.5,
          3,
          3.5,
          3,
          3.5
         ],
         "y": [
          0.053693886356565405,
          0.049791921648364726,
          0.046622818544699934,
          0.04272085383649925,
          0.039551750732834456,
          0.03564978602463377,
          0.03248068292096898,
          0.028578718212768296,
          0.025409615109103504,
          0.02150765040090282,
          0.01833854729723803,
          0.014436582589037345,
          0.011267479485372555,
          0.007365514777171869,
          0.0041964116735070806
         ]
        },
        {
         "hovertemplate": "%{y:.2%}<extra></extra>",
         "line": {
          "color": "blue"
         },
         "marker": {
          "color": "blue",
          "size": 10
         },
         "mode": "lines+markers",
         "type": "scatter",
         "x": [
          4,
          3.5,
          4,
          3.5,
          4,
          3.5,
          4,
          3.5,
          4,
          3.5,
          4,
          3.5,
          4,
          3.5,
          4,
          3.5,
          4
         ],
         "y": [
          0.05756970716764535,
          0.053693886356565405,
          0.050498639355779876,
          0.046622818544699934,
          0.0434275715439144,
          0.039551750732834456,
          0.03635650373204892,
          0.03248068292096898,
          0.029285435920183445,
          0.025409615109103504,
          0.02221436810831797,
          0.01833854729723803,
          0.015143300296452495,
          0.011267479485372555,
          0.008072232484587018,
          0.0041964116735070806,
          0.001001164672721544
         ]
        },
        {
         "hovertemplate": "%{y:.2%}<extra></extra>",
         "line": {
          "color": "blue"
         },
         "marker": {
          "color": "blue",
          "size": 10
         },
         "mode": "lines+markers",
         "type": "scatter",
         "x": [
          4.5,
          4,
          4.5,
          4,
          4.5,
          4,
          4.5,
          4,
          4.5,
          4,
          4.5,
          4,
          4.5,
          4,
          4.5,
          4,
          4.5,
          4,
          4.5
         ],
         "y": [
          0.06174823980810297,
          0.05756970716764535,
          0.0546771719962375,
          0.050498639355779876,
          0.04760610418437203,
          0.0434275715439144,
          0.04053503637250655,
          0.03635650373204892,
          0.03346396856064107,
          0.029285435920183445,
          0.026392900748775597,
          0.02221436810831797,
          0.019321832936910123,
          0.015143300296452495,
          0.012250765125044649,
          0.008072232484587018,
          0.005179697313179174,
          0.001001164672721544,
          -0.0018913704986863004
         ]
        },
        {
         "hovertemplate": "%{y:.2%}<extra></extra>",
         "line": {
          "color": "blue"
         },
         "marker": {
          "color": "blue",
          "size": 10
         },
         "mode": "lines+markers",
         "type": "scatter",
         "x": [
          5,
          4.5,
          5,
          4.5,
          5,
          4.5,
          5,
          4.5,
          5,
          4.5,
          5,
          4.5,
          5,
          4.5,
          5,
          4.5,
          5,
          4.5,
          5,
          4.5,
          5
         ],
         "y": [
          0.0662284645321558,
          0.06174823980810297,
          0.059157396720290335,
          0.0546771719962375,
          0.052086328908424864,
          0.04760610418437203,
          0.045015261096559386,
          0.04053503637250655,
          0.03794419328469391,
          0.03346396856064107,
          0.030873125472828434,
          0.026392900748775597,
          0.02380205766096296,
          0.019321832936910123,
          0.01673098984909748,
          0.012250765125044649,
          0.009659922037232007,
          0.005179697313179174,
          0.0025888542253665325,
          -0.0018913704986863004,
          -0.004482213586498942
         ]
        },
        {
         "hovertemplate": "%{y:.2%}<extra></extra>",
         "line": {
          "color": "blue"
         },
         "marker": {
          "color": "blue",
          "size": 10
         },
         "mode": "lines+markers",
         "type": "scatter",
         "x": [
          5.5,
          5,
          5.5,
          5,
          5.5,
          5,
          5.5,
          5,
          5.5,
          5,
          5.5,
          5,
          5.5,
          5,
          5.5,
          5,
          5.5,
          5,
          5.5,
          5,
          5.5,
          5,
          5.5
         ],
         "y": [
          0.07026943636948967,
          0.0662284645321558,
          0.06319836855762419,
          0.059157396720290335,
          0.05612730074575871,
          0.052086328908424864,
          0.04905623293389324,
          0.045015261096559386,
          0.04198516512202777,
          0.03794419328469391,
          0.03491409731016229,
          0.030873125472828434,
          0.027843029498296812,
          0.02380205766096296,
          0.020771961686431337,
          0.01673098984909748,
          0.013700893874565863,
          0.009659922037232007,
          0.006629826062700388,
          0.0025888542253665325,
          -0.00044124174916508607,
          -0.004482213586498942,
          -0.007512309561030564
         ]
        },
        {
         "hovertemplate": "%{y:.2%}<extra></extra>",
         "line": {
          "color": "blue"
         },
         "marker": {
          "color": "blue",
          "size": 10
         },
         "mode": "lines+markers",
         "type": "scatter",
         "x": [
          6,
          5.5,
          6,
          5.5,
          6,
          5.5,
          6,
          5.5,
          6,
          5.5,
          6,
          5.5,
          6,
          5.5,
          6,
          5.5,
          6,
          5.5,
          6,
          5.5,
          6,
          5.5,
          6,
          5.5,
          6
         ],
         "y": [
          0.07387683535682174,
          0.07026943636948967,
          0.06680576754495626,
          0.06319836855762419,
          0.059734699733090785,
          0.05612730074575871,
          0.052663631921225314,
          0.04905623293389324,
          0.045592564109359836,
          0.04198516512202777,
          0.038521496297494365,
          0.03491409731016229,
          0.03145042848562889,
          0.027843029498296812,
          0.024379360673763412,
          0.020771961686431337,
          0.017308292861897938,
          0.013700893874565863,
          0.01023722505003246,
          0.006629826062700388,
          0.0031661572381669854,
          -0.00044124174916508607,
          -0.003904910573698489,
          -0.007512309561030564,
          -0.010975978385563967
         ]
        }
       ],
       "layout": {
        "showlegend": false,
        "template": {
         "data": {
          "bar": [
           {
            "error_x": {
             "color": "#2a3f5f"
            },
            "error_y": {
             "color": "#2a3f5f"
            },
            "marker": {
             "line": {
              "color": "white",
              "width": 0.5
             },
             "pattern": {
              "fillmode": "overlay",
              "size": 10,
              "solidity": 0.2
             }
            },
            "type": "bar"
           }
          ],
          "barpolar": [
           {
            "marker": {
             "line": {
              "color": "white",
              "width": 0.5
             },
             "pattern": {
              "fillmode": "overlay",
              "size": 10,
              "solidity": 0.2
             }
            },
            "type": "barpolar"
           }
          ],
          "carpet": [
           {
            "aaxis": {
             "endlinecolor": "#2a3f5f",
             "gridcolor": "#C8D4E3",
             "linecolor": "#C8D4E3",
             "minorgridcolor": "#C8D4E3",
             "startlinecolor": "#2a3f5f"
            },
            "baxis": {
             "endlinecolor": "#2a3f5f",
             "gridcolor": "#C8D4E3",
             "linecolor": "#C8D4E3",
             "minorgridcolor": "#C8D4E3",
             "startlinecolor": "#2a3f5f"
            },
            "type": "carpet"
           }
          ],
          "choropleth": [
           {
            "colorbar": {
             "outlinewidth": 0,
             "ticks": ""
            },
            "type": "choropleth"
           }
          ],
          "contour": [
           {
            "colorbar": {
             "outlinewidth": 0,
             "ticks": ""
            },
            "colorscale": [
             [
              0,
              "#0d0887"
             ],
             [
              0.1111111111111111,
              "#46039f"
             ],
             [
              0.2222222222222222,
              "#7201a8"
             ],
             [
              0.3333333333333333,
              "#9c179e"
             ],
             [
              0.4444444444444444,
              "#bd3786"
             ],
             [
              0.5555555555555556,
              "#d8576b"
             ],
             [
              0.6666666666666666,
              "#ed7953"
             ],
             [
              0.7777777777777778,
              "#fb9f3a"
             ],
             [
              0.8888888888888888,
              "#fdca26"
             ],
             [
              1,
              "#f0f921"
             ]
            ],
            "type": "contour"
           }
          ],
          "contourcarpet": [
           {
            "colorbar": {
             "outlinewidth": 0,
             "ticks": ""
            },
            "type": "contourcarpet"
           }
          ],
          "heatmap": [
           {
            "colorbar": {
             "outlinewidth": 0,
             "ticks": ""
            },
            "colorscale": [
             [
              0,
              "#0d0887"
             ],
             [
              0.1111111111111111,
              "#46039f"
             ],
             [
              0.2222222222222222,
              "#7201a8"
             ],
             [
              0.3333333333333333,
              "#9c179e"
             ],
             [
              0.4444444444444444,
              "#bd3786"
             ],
             [
              0.5555555555555556,
              "#d8576b"
             ],
             [
              0.6666666666666666,
              "#ed7953"
             ],
             [
              0.7777777777777778,
              "#fb9f3a"
             ],
             [
              0.8888888888888888,
              "#fdca26"
             ],
             [
              1,
              "#f0f921"
             ]
            ],
            "type": "heatmap"
           }
          ],
          "heatmapgl": [
           {
            "colorbar": {
             "outlinewidth": 0,
             "ticks": ""
            },
            "colorscale": [
             [
              0,
              "#0d0887"
             ],
             [
              0.1111111111111111,
              "#46039f"
             ],
             [
              0.2222222222222222,
              "#7201a8"
             ],
             [
              0.3333333333333333,
              "#9c179e"
             ],
             [
              0.4444444444444444,
              "#bd3786"
             ],
             [
              0.5555555555555556,
              "#d8576b"
             ],
             [
              0.6666666666666666,
              "#ed7953"
             ],
             [
              0.7777777777777778,
              "#fb9f3a"
             ],
             [
              0.8888888888888888,
              "#fdca26"
             ],
             [
              1,
              "#f0f921"
             ]
            ],
            "type": "heatmapgl"
           }
          ],
          "histogram": [
           {
            "marker": {
             "pattern": {
              "fillmode": "overlay",
              "size": 10,
              "solidity": 0.2
             }
            },
            "type": "histogram"
           }
          ],
          "histogram2d": [
           {
            "colorbar": {
             "outlinewidth": 0,
             "ticks": ""
            },
            "colorscale": [
             [
              0,
              "#0d0887"
             ],
             [
              0.1111111111111111,
              "#46039f"
             ],
             [
              0.2222222222222222,
              "#7201a8"
             ],
             [
              0.3333333333333333,
              "#9c179e"
             ],
             [
              0.4444444444444444,
              "#bd3786"
             ],
             [
              0.5555555555555556,
              "#d8576b"
             ],
             [
              0.6666666666666666,
              "#ed7953"
             ],
             [
              0.7777777777777778,
              "#fb9f3a"
             ],
             [
              0.8888888888888888,
              "#fdca26"
             ],
             [
              1,
              "#f0f921"
             ]
            ],
            "type": "histogram2d"
           }
          ],
          "histogram2dcontour": [
           {
            "colorbar": {
             "outlinewidth": 0,
             "ticks": ""
            },
            "colorscale": [
             [
              0,
              "#0d0887"
             ],
             [
              0.1111111111111111,
              "#46039f"
             ],
             [
              0.2222222222222222,
              "#7201a8"
             ],
             [
              0.3333333333333333,
              "#9c179e"
             ],
             [
              0.4444444444444444,
              "#bd3786"
             ],
             [
              0.5555555555555556,
              "#d8576b"
             ],
             [
              0.6666666666666666,
              "#ed7953"
             ],
             [
              0.7777777777777778,
              "#fb9f3a"
             ],
             [
              0.8888888888888888,
              "#fdca26"
             ],
             [
              1,
              "#f0f921"
             ]
            ],
            "type": "histogram2dcontour"
           }
          ],
          "mesh3d": [
           {
            "colorbar": {
             "outlinewidth": 0,
             "ticks": ""
            },
            "type": "mesh3d"
           }
          ],
          "parcoords": [
           {
            "line": {
             "colorbar": {
              "outlinewidth": 0,
              "ticks": ""
             }
            },
            "type": "parcoords"
           }
          ],
          "pie": [
           {
            "automargin": true,
            "type": "pie"
           }
          ],
          "scatter": [
           {
            "fillpattern": {
             "fillmode": "overlay",
             "size": 10,
             "solidity": 0.2
            },
            "type": "scatter"
           }
          ],
          "scatter3d": [
           {
            "line": {
             "colorbar": {
              "outlinewidth": 0,
              "ticks": ""
             }
            },
            "marker": {
             "colorbar": {
              "outlinewidth": 0,
              "ticks": ""
             }
            },
            "type": "scatter3d"
           }
          ],
          "scattercarpet": [
           {
            "marker": {
             "colorbar": {
              "outlinewidth": 0,
              "ticks": ""
             }
            },
            "type": "scattercarpet"
           }
          ],
          "scattergeo": [
           {
            "marker": {
             "colorbar": {
              "outlinewidth": 0,
              "ticks": ""
             }
            },
            "type": "scattergeo"
           }
          ],
          "scattergl": [
           {
            "marker": {
             "colorbar": {
              "outlinewidth": 0,
              "ticks": ""
             }
            },
            "type": "scattergl"
           }
          ],
          "scattermapbox": [
           {
            "marker": {
             "colorbar": {
              "outlinewidth": 0,
              "ticks": ""
             }
            },
            "type": "scattermapbox"
           }
          ],
          "scatterpolar": [
           {
            "marker": {
             "colorbar": {
              "outlinewidth": 0,
              "ticks": ""
             }
            },
            "type": "scatterpolar"
           }
          ],
          "scatterpolargl": [
           {
            "marker": {
             "colorbar": {
              "outlinewidth": 0,
              "ticks": ""
             }
            },
            "type": "scatterpolargl"
           }
          ],
          "scatterternary": [
           {
            "marker": {
             "colorbar": {
              "outlinewidth": 0,
              "ticks": ""
             }
            },
            "type": "scatterternary"
           }
          ],
          "surface": [
           {
            "colorbar": {
             "outlinewidth": 0,
             "ticks": ""
            },
            "colorscale": [
             [
              0,
              "#0d0887"
             ],
             [
              0.1111111111111111,
              "#46039f"
             ],
             [
              0.2222222222222222,
              "#7201a8"
             ],
             [
              0.3333333333333333,
              "#9c179e"
             ],
             [
              0.4444444444444444,
              "#bd3786"
             ],
             [
              0.5555555555555556,
              "#d8576b"
             ],
             [
              0.6666666666666666,
              "#ed7953"
             ],
             [
              0.7777777777777778,
              "#fb9f3a"
             ],
             [
              0.8888888888888888,
              "#fdca26"
             ],
             [
              1,
              "#f0f921"
             ]
            ],
            "type": "surface"
           }
          ],
          "table": [
           {
            "cells": {
             "fill": {
              "color": "#EBF0F8"
             },
             "line": {
              "color": "white"
             }
            },
            "header": {
             "fill": {
              "color": "#C8D4E3"
             },
             "line": {
              "color": "white"
             }
            },
            "type": "table"
           }
          ]
         },
         "layout": {
          "annotationdefaults": {
           "arrowcolor": "#2a3f5f",
           "arrowhead": 0,
           "arrowwidth": 1
          },
          "autotypenumbers": "strict",
          "coloraxis": {
           "colorbar": {
            "outlinewidth": 0,
            "ticks": ""
           }
          },
          "colorscale": {
           "diverging": [
            [
             0,
             "#8e0152"
            ],
            [
             0.1,
             "#c51b7d"
            ],
            [
             0.2,
             "#de77ae"
            ],
            [
             0.3,
             "#f1b6da"
            ],
            [
             0.4,
             "#fde0ef"
            ],
            [
             0.5,
             "#f7f7f7"
            ],
            [
             0.6,
             "#e6f5d0"
            ],
            [
             0.7,
             "#b8e186"
            ],
            [
             0.8,
             "#7fbc41"
            ],
            [
             0.9,
             "#4d9221"
            ],
            [
             1,
             "#276419"
            ]
           ],
           "sequential": [
            [
             0,
             "#0d0887"
            ],
            [
             0.1111111111111111,
             "#46039f"
            ],
            [
             0.2222222222222222,
             "#7201a8"
            ],
            [
             0.3333333333333333,
             "#9c179e"
            ],
            [
             0.4444444444444444,
             "#bd3786"
            ],
            [
             0.5555555555555556,
             "#d8576b"
            ],
            [
             0.6666666666666666,
             "#ed7953"
            ],
            [
             0.7777777777777778,
             "#fb9f3a"
            ],
            [
             0.8888888888888888,
             "#fdca26"
            ],
            [
             1,
             "#f0f921"
            ]
           ],
           "sequentialminus": [
            [
             0,
             "#0d0887"
            ],
            [
             0.1111111111111111,
             "#46039f"
            ],
            [
             0.2222222222222222,
             "#7201a8"
            ],
            [
             0.3333333333333333,
             "#9c179e"
            ],
            [
             0.4444444444444444,
             "#bd3786"
            ],
            [
             0.5555555555555556,
             "#d8576b"
            ],
            [
             0.6666666666666666,
             "#ed7953"
            ],
            [
             0.7777777777777778,
             "#fb9f3a"
            ],
            [
             0.8888888888888888,
             "#fdca26"
            ],
            [
             1,
             "#f0f921"
            ]
           ]
          },
          "colorway": [
           "#636efa",
           "#EF553B",
           "#00cc96",
           "#ab63fa",
           "#FFA15A",
           "#19d3f3",
           "#FF6692",
           "#B6E880",
           "#FF97FF",
           "#FECB52"
          ],
          "font": {
           "color": "#2a3f5f"
          },
          "geo": {
           "bgcolor": "white",
           "lakecolor": "white",
           "landcolor": "white",
           "showlakes": true,
           "showland": true,
           "subunitcolor": "#C8D4E3"
          },
          "hoverlabel": {
           "align": "left"
          },
          "hovermode": "closest",
          "mapbox": {
           "style": "light"
          },
          "paper_bgcolor": "white",
          "plot_bgcolor": "white",
          "polar": {
           "angularaxis": {
            "gridcolor": "#EBF0F8",
            "linecolor": "#EBF0F8",
            "ticks": ""
           },
           "bgcolor": "white",
           "radialaxis": {
            "gridcolor": "#EBF0F8",
            "linecolor": "#EBF0F8",
            "ticks": ""
           }
          },
          "scene": {
           "xaxis": {
            "backgroundcolor": "white",
            "gridcolor": "#DFE8F3",
            "gridwidth": 2,
            "linecolor": "#EBF0F8",
            "showbackground": true,
            "ticks": "",
            "zerolinecolor": "#EBF0F8"
           },
           "yaxis": {
            "backgroundcolor": "white",
            "gridcolor": "#DFE8F3",
            "gridwidth": 2,
            "linecolor": "#EBF0F8",
            "showbackground": true,
            "ticks": "",
            "zerolinecolor": "#EBF0F8"
           },
           "zaxis": {
            "backgroundcolor": "white",
            "gridcolor": "#DFE8F3",
            "gridwidth": 2,
            "linecolor": "#EBF0F8",
            "showbackground": true,
            "ticks": "",
            "zerolinecolor": "#EBF0F8"
           }
          },
          "shapedefaults": {
           "line": {
            "color": "#2a3f5f"
           }
          },
          "ternary": {
           "aaxis": {
            "gridcolor": "#DFE8F3",
            "linecolor": "#A2B1C6",
            "ticks": ""
           },
           "baxis": {
            "gridcolor": "#DFE8F3",
            "linecolor": "#A2B1C6",
            "ticks": ""
           },
           "bgcolor": "white",
           "caxis": {
            "gridcolor": "#DFE8F3",
            "linecolor": "#A2B1C6",
            "ticks": ""
           }
          },
          "title": {
           "x": 0.05
          },
          "xaxis": {
           "automargin": true,
           "gridcolor": "#EBF0F8",
           "linecolor": "#EBF0F8",
           "ticks": "",
           "title": {
            "standoff": 15
           },
           "zerolinecolor": "#EBF0F8",
           "zerolinewidth": 2
          },
          "yaxis": {
           "automargin": true,
           "gridcolor": "#EBF0F8",
           "linecolor": "#EBF0F8",
           "ticks": "",
           "title": {
            "standoff": 15
           },
           "zerolinecolor": "#EBF0F8",
           "zerolinewidth": 2
          }
         }
        },
        "xaxis": {
         "title": {
          "text": "Time (years)"
         }
        },
        "yaxis": {
         "tickformat": ".2%",
         "title": {
          "text": "Annualized Short Rate"
         }
        }
       }
      }
     },
     "metadata": {},
     "output_type": "display_data"
    }
   ],
   "source": [
    "figs[\"rate\"].show()"
   ]
  },
  {
   "cell_type": "markdown",
   "metadata": {},
   "source": [
    "# SHORT RATE PLUS OAS"
   ]
  },
  {
   "cell_type": "code",
   "execution_count": 25,
   "metadata": {},
   "outputs": [
    {
     "data": {
      "application/vnd.plotly.v1+json": {
       "config": {
        "plotlyServerURL": "https://plot.ly"
       },
       "data": [
        {
         "hovertemplate": "%{y:.2%}<extra></extra>",
         "line": {
          "color": "blue"
         },
         "marker": {
          "color": "blue",
          "size": 10
         },
         "mode": "lines+markers",
         "type": "scatter",
         "x": [
          0.5,
          0,
          0.5
         ],
         "y": [
          0.04427249822577006,
          0.03828867316775554,
          0.03720143041390459
         ]
        },
        {
         "hovertemplate": "%{y:.2%}<extra></extra>",
         "line": {
          "color": "blue"
         },
         "marker": {
          "color": "blue",
          "size": 10
         },
         "mode": "lines+markers",
         "type": "scatter",
         "x": [
          1,
          0.5,
          1,
          0.5,
          1
         ],
         "y": [
          0.05267486275832521,
          0.04427249822577006,
          0.04560379494645973,
          0.03720143041390459,
          0.03853272713459426
         ]
        },
        {
         "hovertemplate": "%{y:.2%}<extra></extra>",
         "line": {
          "color": "blue"
         },
         "marker": {
          "color": "blue",
          "size": 10
         },
         "mode": "lines+markers",
         "type": "scatter",
         "x": [
          1.5,
          1,
          1.5,
          1,
          1.5,
          1,
          1.5
         ],
         "y": [
          0.05949952836454006,
          0.05267486275832521,
          0.05242846055267458,
          0.04560379494645973,
          0.045357392740809105,
          0.03853272713459426,
          0.038286324928943634
         ]
        },
        {
         "hovertemplate": "%{y:.2%}<extra></extra>",
         "line": {
          "color": "blue"
         },
         "marker": {
          "color": "blue",
          "size": 10
         },
         "mode": "lines+markers",
         "type": "scatter",
         "x": [
          2,
          1.5,
          2,
          1.5,
          2,
          1.5,
          2,
          1.5,
          2
         ],
         "y": [
          0.06475868362968702,
          0.05949952836454006,
          0.057687615817821544,
          0.05242846055267458,
          0.050616548005956066,
          0.045357392740809105,
          0.043545480194090595,
          0.038286324928943634,
          0.03647441238222512
         ]
        },
        {
         "hovertemplate": "%{y:.2%}<extra></extra>",
         "line": {
          "color": "blue"
         },
         "marker": {
          "color": "blue",
          "size": 10
         },
         "mode": "lines+markers",
         "type": "scatter",
         "x": [
          2.5,
          2,
          2.5,
          2,
          2.5,
          2,
          2.5,
          2,
          2.5,
          2,
          2.5
         ],
         "y": [
          0.06934959732458362,
          0.06475868362968702,
          0.062278529512718145,
          0.057687615817821544,
          0.05520746170085267,
          0.050616548005956066,
          0.04813639388898719,
          0.043545480194090595,
          0.04106532607712172,
          0.03647441238222512,
          0.03399425826525625
         ]
        },
        {
         "hovertemplate": "%{y:.2%}<extra></extra>",
         "line": {
          "color": "blue"
         },
         "marker": {
          "color": "blue",
          "size": 10
         },
         "mode": "lines+markers",
         "type": "scatter",
         "x": [
          3,
          2.5,
          3,
          2.5,
          3,
          2.5,
          3,
          2.5,
          3,
          2.5,
          3,
          2.5,
          3
         ],
         "y": [
          0.0732770528836653,
          0.06934959732458362,
          0.06620598507179982,
          0.062278529512718145,
          0.05913491725993435,
          0.05520746170085267,
          0.05206384944806887,
          0.04813639388898719,
          0.0449927816362034,
          0.04106532607712172,
          0.03792171382433792,
          0.03399425826525625,
          0.030850646012472446
         ]
        },
        {
         "hovertemplate": "%{y:.2%}<extra></extra>",
         "line": {
          "color": "blue"
         },
         "marker": {
          "color": "blue",
          "size": 10
         },
         "mode": "lines+markers",
         "type": "scatter",
         "x": [
          3.5,
          3,
          3.5,
          3,
          3.5,
          3,
          3.5,
          3,
          3.5,
          3,
          3.5,
          3,
          3.5,
          3,
          3.5
         ],
         "y": [
          0.07717901759186599,
          0.0732770528836653,
          0.07010794978000051,
          0.06620598507179982,
          0.06303688196813503,
          0.05913491725993435,
          0.055965814156269555,
          0.05206384944806887,
          0.04889474634440408,
          0.0449927816362034,
          0.041823678532538607,
          0.03792171382433792,
          0.034752610720673136,
          0.030850646012472446,
          0.027681542908807658
         ]
        },
        {
         "hovertemplate": "%{y:.2%}<extra></extra>",
         "line": {
          "color": "blue"
         },
         "marker": {
          "color": "blue",
          "size": 10
         },
         "mode": "lines+markers",
         "type": "scatter",
         "x": [
          4,
          3.5,
          4,
          3.5,
          4,
          3.5,
          4,
          3.5,
          4,
          3.5,
          4,
          3.5,
          4,
          3.5,
          4,
          3.5,
          4
         ],
         "y": [
          0.08105483840294592,
          0.07717901759186599,
          0.07398377059108045,
          0.07010794978000051,
          0.06691270277921497,
          0.06303688196813503,
          0.0598416349673495,
          0.055965814156269555,
          0.05277056715548402,
          0.04889474634440408,
          0.04569949934361855,
          0.041823678532538607,
          0.03862843153175307,
          0.034752610720673136,
          0.0315573637198876,
          0.027681542908807658,
          0.02448629590802212
         ]
        },
        {
         "hovertemplate": "%{y:.2%}<extra></extra>",
         "line": {
          "color": "blue"
         },
         "marker": {
          "color": "blue",
          "size": 10
         },
         "mode": "lines+markers",
         "type": "scatter",
         "x": [
          4.5,
          4,
          4.5,
          4,
          4.5,
          4,
          4.5,
          4,
          4.5,
          4,
          4.5,
          4,
          4.5,
          4,
          4.5,
          4,
          4.5,
          4,
          4.5
         ],
         "y": [
          0.08523337104340355,
          0.08105483840294592,
          0.07816230323153808,
          0.07398377059108045,
          0.0710912354196726,
          0.06691270277921497,
          0.06402016760780713,
          0.0598416349673495,
          0.05694909979594165,
          0.05277056715548402,
          0.04987803198407617,
          0.04569949934361855,
          0.0428069641722107,
          0.03862843153175307,
          0.03573589636034523,
          0.0315573637198876,
          0.02866482854847975,
          0.02448629590802212,
          0.021593760736614277
         ]
        },
        {
         "hovertemplate": "%{y:.2%}<extra></extra>",
         "line": {
          "color": "blue"
         },
         "marker": {
          "color": "blue",
          "size": 10
         },
         "mode": "lines+markers",
         "type": "scatter",
         "x": [
          5,
          4.5,
          5,
          4.5,
          5,
          4.5,
          5,
          4.5,
          5,
          4.5,
          5,
          4.5,
          5,
          4.5,
          5,
          4.5,
          5,
          4.5,
          5,
          4.5,
          5
         ],
         "y": [
          0.08971359576745638,
          0.08523337104340355,
          0.0826425279555909,
          0.07816230323153808,
          0.07557146014372544,
          0.0710912354196726,
          0.06850039233185996,
          0.06402016760780713,
          0.061429324519994485,
          0.05694909979594165,
          0.05435825670812901,
          0.04987803198407617,
          0.047287188896263536,
          0.0428069641722107,
          0.04021612108439806,
          0.03573589636034523,
          0.03314505327253259,
          0.02866482854847975,
          0.02607398546066711,
          0.021593760736614277,
          0.019002917648801635
         ]
        },
        {
         "hovertemplate": "%{y:.2%}<extra></extra>",
         "line": {
          "color": "blue"
         },
         "marker": {
          "color": "blue",
          "size": 10
         },
         "mode": "lines+markers",
         "type": "scatter",
         "x": [
          5.5,
          5,
          5.5,
          5,
          5.5,
          5,
          5.5,
          5,
          5.5,
          5,
          5.5,
          5,
          5.5,
          5,
          5.5,
          5,
          5.5,
          5,
          5.5,
          5,
          5.5,
          5,
          5.5
         ],
         "y": [
          0.09375456760479024,
          0.08971359576745638,
          0.08668349979292476,
          0.0826425279555909,
          0.07961243198105929,
          0.07557146014372544,
          0.07254136416919382,
          0.06850039233185996,
          0.06547029635732834,
          0.061429324519994485,
          0.05839922854546287,
          0.05435825670812901,
          0.05132816073359739,
          0.047287188896263536,
          0.04425709292173191,
          0.04021612108439806,
          0.03718602510986644,
          0.03314505327253259,
          0.030114957298000965,
          0.02607398546066711,
          0.02304388948613549,
          0.019002917648801635,
          0.015972821674270013
         ]
        },
        {
         "hovertemplate": "%{y:.2%}<extra></extra>",
         "line": {
          "color": "blue"
         },
         "marker": {
          "color": "blue",
          "size": 10
         },
         "mode": "lines+markers",
         "type": "scatter",
         "x": [
          6,
          5.5,
          6,
          5.5,
          6,
          5.5,
          6,
          5.5,
          6,
          5.5,
          6,
          5.5,
          6,
          5.5,
          6,
          5.5,
          6,
          5.5,
          6,
          5.5,
          6,
          5.5,
          6,
          5.5,
          6
         ],
         "y": [
          0.09736196659212232,
          0.09375456760479024,
          0.09029089878025684,
          0.08668349979292476,
          0.08321983096839136,
          0.07961243198105929,
          0.07614876315652588,
          0.07254136416919382,
          0.0690776953446604,
          0.06547029635732834,
          0.06200662753279494,
          0.05839922854546287,
          0.054935559720929464,
          0.05132816073359739,
          0.047864491909063986,
          0.04425709292173191,
          0.040793424097198515,
          0.03718602510986644,
          0.03372235628533304,
          0.030114957298000965,
          0.026651288473467562,
          0.02304388948613549,
          0.019580220661602088,
          0.015972821674270013,
          0.01250915284973661
         ]
        }
       ],
       "layout": {
        "showlegend": false,
        "template": {
         "data": {
          "bar": [
           {
            "error_x": {
             "color": "#2a3f5f"
            },
            "error_y": {
             "color": "#2a3f5f"
            },
            "marker": {
             "line": {
              "color": "white",
              "width": 0.5
             },
             "pattern": {
              "fillmode": "overlay",
              "size": 10,
              "solidity": 0.2
             }
            },
            "type": "bar"
           }
          ],
          "barpolar": [
           {
            "marker": {
             "line": {
              "color": "white",
              "width": 0.5
             },
             "pattern": {
              "fillmode": "overlay",
              "size": 10,
              "solidity": 0.2
             }
            },
            "type": "barpolar"
           }
          ],
          "carpet": [
           {
            "aaxis": {
             "endlinecolor": "#2a3f5f",
             "gridcolor": "#C8D4E3",
             "linecolor": "#C8D4E3",
             "minorgridcolor": "#C8D4E3",
             "startlinecolor": "#2a3f5f"
            },
            "baxis": {
             "endlinecolor": "#2a3f5f",
             "gridcolor": "#C8D4E3",
             "linecolor": "#C8D4E3",
             "minorgridcolor": "#C8D4E3",
             "startlinecolor": "#2a3f5f"
            },
            "type": "carpet"
           }
          ],
          "choropleth": [
           {
            "colorbar": {
             "outlinewidth": 0,
             "ticks": ""
            },
            "type": "choropleth"
           }
          ],
          "contour": [
           {
            "colorbar": {
             "outlinewidth": 0,
             "ticks": ""
            },
            "colorscale": [
             [
              0,
              "#0d0887"
             ],
             [
              0.1111111111111111,
              "#46039f"
             ],
             [
              0.2222222222222222,
              "#7201a8"
             ],
             [
              0.3333333333333333,
              "#9c179e"
             ],
             [
              0.4444444444444444,
              "#bd3786"
             ],
             [
              0.5555555555555556,
              "#d8576b"
             ],
             [
              0.6666666666666666,
              "#ed7953"
             ],
             [
              0.7777777777777778,
              "#fb9f3a"
             ],
             [
              0.8888888888888888,
              "#fdca26"
             ],
             [
              1,
              "#f0f921"
             ]
            ],
            "type": "contour"
           }
          ],
          "contourcarpet": [
           {
            "colorbar": {
             "outlinewidth": 0,
             "ticks": ""
            },
            "type": "contourcarpet"
           }
          ],
          "heatmap": [
           {
            "colorbar": {
             "outlinewidth": 0,
             "ticks": ""
            },
            "colorscale": [
             [
              0,
              "#0d0887"
             ],
             [
              0.1111111111111111,
              "#46039f"
             ],
             [
              0.2222222222222222,
              "#7201a8"
             ],
             [
              0.3333333333333333,
              "#9c179e"
             ],
             [
              0.4444444444444444,
              "#bd3786"
             ],
             [
              0.5555555555555556,
              "#d8576b"
             ],
             [
              0.6666666666666666,
              "#ed7953"
             ],
             [
              0.7777777777777778,
              "#fb9f3a"
             ],
             [
              0.8888888888888888,
              "#fdca26"
             ],
             [
              1,
              "#f0f921"
             ]
            ],
            "type": "heatmap"
           }
          ],
          "heatmapgl": [
           {
            "colorbar": {
             "outlinewidth": 0,
             "ticks": ""
            },
            "colorscale": [
             [
              0,
              "#0d0887"
             ],
             [
              0.1111111111111111,
              "#46039f"
             ],
             [
              0.2222222222222222,
              "#7201a8"
             ],
             [
              0.3333333333333333,
              "#9c179e"
             ],
             [
              0.4444444444444444,
              "#bd3786"
             ],
             [
              0.5555555555555556,
              "#d8576b"
             ],
             [
              0.6666666666666666,
              "#ed7953"
             ],
             [
              0.7777777777777778,
              "#fb9f3a"
             ],
             [
              0.8888888888888888,
              "#fdca26"
             ],
             [
              1,
              "#f0f921"
             ]
            ],
            "type": "heatmapgl"
           }
          ],
          "histogram": [
           {
            "marker": {
             "pattern": {
              "fillmode": "overlay",
              "size": 10,
              "solidity": 0.2
             }
            },
            "type": "histogram"
           }
          ],
          "histogram2d": [
           {
            "colorbar": {
             "outlinewidth": 0,
             "ticks": ""
            },
            "colorscale": [
             [
              0,
              "#0d0887"
             ],
             [
              0.1111111111111111,
              "#46039f"
             ],
             [
              0.2222222222222222,
              "#7201a8"
             ],
             [
              0.3333333333333333,
              "#9c179e"
             ],
             [
              0.4444444444444444,
              "#bd3786"
             ],
             [
              0.5555555555555556,
              "#d8576b"
             ],
             [
              0.6666666666666666,
              "#ed7953"
             ],
             [
              0.7777777777777778,
              "#fb9f3a"
             ],
             [
              0.8888888888888888,
              "#fdca26"
             ],
             [
              1,
              "#f0f921"
             ]
            ],
            "type": "histogram2d"
           }
          ],
          "histogram2dcontour": [
           {
            "colorbar": {
             "outlinewidth": 0,
             "ticks": ""
            },
            "colorscale": [
             [
              0,
              "#0d0887"
             ],
             [
              0.1111111111111111,
              "#46039f"
             ],
             [
              0.2222222222222222,
              "#7201a8"
             ],
             [
              0.3333333333333333,
              "#9c179e"
             ],
             [
              0.4444444444444444,
              "#bd3786"
             ],
             [
              0.5555555555555556,
              "#d8576b"
             ],
             [
              0.6666666666666666,
              "#ed7953"
             ],
             [
              0.7777777777777778,
              "#fb9f3a"
             ],
             [
              0.8888888888888888,
              "#fdca26"
             ],
             [
              1,
              "#f0f921"
             ]
            ],
            "type": "histogram2dcontour"
           }
          ],
          "mesh3d": [
           {
            "colorbar": {
             "outlinewidth": 0,
             "ticks": ""
            },
            "type": "mesh3d"
           }
          ],
          "parcoords": [
           {
            "line": {
             "colorbar": {
              "outlinewidth": 0,
              "ticks": ""
             }
            },
            "type": "parcoords"
           }
          ],
          "pie": [
           {
            "automargin": true,
            "type": "pie"
           }
          ],
          "scatter": [
           {
            "fillpattern": {
             "fillmode": "overlay",
             "size": 10,
             "solidity": 0.2
            },
            "type": "scatter"
           }
          ],
          "scatter3d": [
           {
            "line": {
             "colorbar": {
              "outlinewidth": 0,
              "ticks": ""
             }
            },
            "marker": {
             "colorbar": {
              "outlinewidth": 0,
              "ticks": ""
             }
            },
            "type": "scatter3d"
           }
          ],
          "scattercarpet": [
           {
            "marker": {
             "colorbar": {
              "outlinewidth": 0,
              "ticks": ""
             }
            },
            "type": "scattercarpet"
           }
          ],
          "scattergeo": [
           {
            "marker": {
             "colorbar": {
              "outlinewidth": 0,
              "ticks": ""
             }
            },
            "type": "scattergeo"
           }
          ],
          "scattergl": [
           {
            "marker": {
             "colorbar": {
              "outlinewidth": 0,
              "ticks": ""
             }
            },
            "type": "scattergl"
           }
          ],
          "scattermapbox": [
           {
            "marker": {
             "colorbar": {
              "outlinewidth": 0,
              "ticks": ""
             }
            },
            "type": "scattermapbox"
           }
          ],
          "scatterpolar": [
           {
            "marker": {
             "colorbar": {
              "outlinewidth": 0,
              "ticks": ""
             }
            },
            "type": "scatterpolar"
           }
          ],
          "scatterpolargl": [
           {
            "marker": {
             "colorbar": {
              "outlinewidth": 0,
              "ticks": ""
             }
            },
            "type": "scatterpolargl"
           }
          ],
          "scatterternary": [
           {
            "marker": {
             "colorbar": {
              "outlinewidth": 0,
              "ticks": ""
             }
            },
            "type": "scatterternary"
           }
          ],
          "surface": [
           {
            "colorbar": {
             "outlinewidth": 0,
             "ticks": ""
            },
            "colorscale": [
             [
              0,
              "#0d0887"
             ],
             [
              0.1111111111111111,
              "#46039f"
             ],
             [
              0.2222222222222222,
              "#7201a8"
             ],
             [
              0.3333333333333333,
              "#9c179e"
             ],
             [
              0.4444444444444444,
              "#bd3786"
             ],
             [
              0.5555555555555556,
              "#d8576b"
             ],
             [
              0.6666666666666666,
              "#ed7953"
             ],
             [
              0.7777777777777778,
              "#fb9f3a"
             ],
             [
              0.8888888888888888,
              "#fdca26"
             ],
             [
              1,
              "#f0f921"
             ]
            ],
            "type": "surface"
           }
          ],
          "table": [
           {
            "cells": {
             "fill": {
              "color": "#EBF0F8"
             },
             "line": {
              "color": "white"
             }
            },
            "header": {
             "fill": {
              "color": "#C8D4E3"
             },
             "line": {
              "color": "white"
             }
            },
            "type": "table"
           }
          ]
         },
         "layout": {
          "annotationdefaults": {
           "arrowcolor": "#2a3f5f",
           "arrowhead": 0,
           "arrowwidth": 1
          },
          "autotypenumbers": "strict",
          "coloraxis": {
           "colorbar": {
            "outlinewidth": 0,
            "ticks": ""
           }
          },
          "colorscale": {
           "diverging": [
            [
             0,
             "#8e0152"
            ],
            [
             0.1,
             "#c51b7d"
            ],
            [
             0.2,
             "#de77ae"
            ],
            [
             0.3,
             "#f1b6da"
            ],
            [
             0.4,
             "#fde0ef"
            ],
            [
             0.5,
             "#f7f7f7"
            ],
            [
             0.6,
             "#e6f5d0"
            ],
            [
             0.7,
             "#b8e186"
            ],
            [
             0.8,
             "#7fbc41"
            ],
            [
             0.9,
             "#4d9221"
            ],
            [
             1,
             "#276419"
            ]
           ],
           "sequential": [
            [
             0,
             "#0d0887"
            ],
            [
             0.1111111111111111,
             "#46039f"
            ],
            [
             0.2222222222222222,
             "#7201a8"
            ],
            [
             0.3333333333333333,
             "#9c179e"
            ],
            [
             0.4444444444444444,
             "#bd3786"
            ],
            [
             0.5555555555555556,
             "#d8576b"
            ],
            [
             0.6666666666666666,
             "#ed7953"
            ],
            [
             0.7777777777777778,
             "#fb9f3a"
            ],
            [
             0.8888888888888888,
             "#fdca26"
            ],
            [
             1,
             "#f0f921"
            ]
           ],
           "sequentialminus": [
            [
             0,
             "#0d0887"
            ],
            [
             0.1111111111111111,
             "#46039f"
            ],
            [
             0.2222222222222222,
             "#7201a8"
            ],
            [
             0.3333333333333333,
             "#9c179e"
            ],
            [
             0.4444444444444444,
             "#bd3786"
            ],
            [
             0.5555555555555556,
             "#d8576b"
            ],
            [
             0.6666666666666666,
             "#ed7953"
            ],
            [
             0.7777777777777778,
             "#fb9f3a"
            ],
            [
             0.8888888888888888,
             "#fdca26"
            ],
            [
             1,
             "#f0f921"
            ]
           ]
          },
          "colorway": [
           "#636efa",
           "#EF553B",
           "#00cc96",
           "#ab63fa",
           "#FFA15A",
           "#19d3f3",
           "#FF6692",
           "#B6E880",
           "#FF97FF",
           "#FECB52"
          ],
          "font": {
           "color": "#2a3f5f"
          },
          "geo": {
           "bgcolor": "white",
           "lakecolor": "white",
           "landcolor": "white",
           "showlakes": true,
           "showland": true,
           "subunitcolor": "#C8D4E3"
          },
          "hoverlabel": {
           "align": "left"
          },
          "hovermode": "closest",
          "mapbox": {
           "style": "light"
          },
          "paper_bgcolor": "white",
          "plot_bgcolor": "white",
          "polar": {
           "angularaxis": {
            "gridcolor": "#EBF0F8",
            "linecolor": "#EBF0F8",
            "ticks": ""
           },
           "bgcolor": "white",
           "radialaxis": {
            "gridcolor": "#EBF0F8",
            "linecolor": "#EBF0F8",
            "ticks": ""
           }
          },
          "scene": {
           "xaxis": {
            "backgroundcolor": "white",
            "gridcolor": "#DFE8F3",
            "gridwidth": 2,
            "linecolor": "#EBF0F8",
            "showbackground": true,
            "ticks": "",
            "zerolinecolor": "#EBF0F8"
           },
           "yaxis": {
            "backgroundcolor": "white",
            "gridcolor": "#DFE8F3",
            "gridwidth": 2,
            "linecolor": "#EBF0F8",
            "showbackground": true,
            "ticks": "",
            "zerolinecolor": "#EBF0F8"
           },
           "zaxis": {
            "backgroundcolor": "white",
            "gridcolor": "#DFE8F3",
            "gridwidth": 2,
            "linecolor": "#EBF0F8",
            "showbackground": true,
            "ticks": "",
            "zerolinecolor": "#EBF0F8"
           }
          },
          "shapedefaults": {
           "line": {
            "color": "#2a3f5f"
           }
          },
          "ternary": {
           "aaxis": {
            "gridcolor": "#DFE8F3",
            "linecolor": "#A2B1C6",
            "ticks": ""
           },
           "baxis": {
            "gridcolor": "#DFE8F3",
            "linecolor": "#A2B1C6",
            "ticks": ""
           },
           "bgcolor": "white",
           "caxis": {
            "gridcolor": "#DFE8F3",
            "linecolor": "#A2B1C6",
            "ticks": ""
           }
          },
          "title": {
           "x": 0.05
          },
          "xaxis": {
           "automargin": true,
           "gridcolor": "#EBF0F8",
           "linecolor": "#EBF0F8",
           "ticks": "",
           "title": {
            "standoff": 15
           },
           "zerolinecolor": "#EBF0F8",
           "zerolinewidth": 2
          },
          "yaxis": {
           "automargin": true,
           "gridcolor": "#EBF0F8",
           "linecolor": "#EBF0F8",
           "ticks": "",
           "title": {
            "standoff": 15
           },
           "zerolinecolor": "#EBF0F8",
           "zerolinewidth": 2
          }
         }
        },
        "xaxis": {
         "title": {
          "text": "Time (years)"
         }
        },
        "yaxis": {
         "tickformat": ".2%",
         "title": {
          "text": "Short Rate + OAS"
         }
        }
       }
      }
     },
     "metadata": {},
     "output_type": "display_data"
    }
   ],
   "source": [
    "figs[\"oas\"].show()"
   ]
  },
  {
   "cell_type": "markdown",
   "metadata": {},
   "source": [
    "# BOND VALUE STRIPPED OF OPTION"
   ]
  },
  {
   "cell_type": "code",
   "execution_count": 26,
   "metadata": {},
   "outputs": [
    {
     "data": {
      "application/vnd.plotly.v1+json": {
       "config": {
        "plotlyServerURL": "https://plot.ly"
       },
       "data": [
        {
         "hovertemplate": "$%{y:,.2f}<extra></extra>",
         "line": {
          "color": "blue"
         },
         "marker": {
          "color": "blue",
          "size": 10
         },
         "mode": "lines+markers",
         "type": "scatter",
         "x": [
          0.5,
          0,
          0.5
         ],
         "y": [
          98.80155271878648,
          100.78393315535004,
          101.62519666905972
         ]
        },
        {
         "hovertemplate": "$%{y:,.2f}<extra></extra>",
         "line": {
          "color": "blue"
         },
         "marker": {
          "color": "blue",
          "size": 10
         },
         "mode": "lines+markers",
         "type": "scatter",
         "x": [
          1,
          0.5,
          1,
          0.5,
          1
         ],
         "y": [
          97.24425892141714,
          98.80155271878648,
          99.73303808360164,
          101.62519666905972,
          102.2979579367012
         ]
        },
        {
         "hovertemplate": "$%{y:,.2f}<extra></extra>",
         "line": {
          "color": "blue"
         },
         "marker": {
          "color": "blue",
          "size": 10
         },
         "mode": "lines+markers",
         "type": "scatter",
         "x": [
          1.5,
          1,
          1.5,
          1,
          1.5,
          1,
          1.5
         ],
         "y": [
          96.21933665644805,
          97.24425892141714,
          98.39150917910692,
          99.73303808360164,
          100.62277200624835,
          102.2979579367012,
          102.91496316675517
         ]
        },
        {
         "hovertemplate": "$%{y:,.2f}<extra></extra>",
         "line": {
          "color": "blue"
         },
         "marker": {
          "color": "blue",
          "size": 10
         },
         "mode": "lines+markers",
         "type": "scatter",
         "x": [
          2,
          1.5,
          2,
          1.5,
          2,
          1.5,
          2,
          1.5,
          2
         ],
         "y": [
          95.6484897150419,
          96.21933665644805,
          97.51518874846172,
          98.39150917910692,
          99.42634496746703,
          100.62277200624835,
          101.383185633586,
          102.91496316675517,
          103.386976419777
         ]
        },
        {
         "hovertemplate": "$%{y:,.2f}<extra></extra>",
         "line": {
          "color": "blue"
         },
         "marker": {
          "color": "blue",
          "size": 10
         },
         "mode": "lines+markers",
         "type": "scatter",
         "x": [
          2.5,
          2,
          2.5,
          2,
          2.5,
          2,
          2.5,
          2,
          2.5,
          2,
          2.5
         ],
         "y": [
          95.46233745052048,
          95.6484897150419,
          97.02871226467708,
          97.51518874846172,
          98.62708397716999,
          99.42634496746703,
          100.25822432086662,
          101.383185633586,
          101.9229264483265,
          103.386976419777,
          103.62200560411381
         ]
        },
        {
         "hovertemplate": "$%{y:,.2f}<extra></extra>",
         "line": {
          "color": "blue"
         },
         "marker": {
          "color": "blue",
          "size": 10
         },
         "mode": "lines+markers",
         "type": "scatter",
         "x": [
          3,
          2.5,
          3,
          2.5,
          3,
          2.5,
          3,
          2.5,
          3,
          2.5,
          3,
          2.5,
          3
         ],
         "y": [
          95.6390500157588,
          95.46233745052048,
          96.90589954713928,
          97.02871226467708,
          98.19433050257162,
          98.62708397716999,
          99.50478841310478,
          100.25822432086662,
          100.83772960514811,
          101.9229264483265,
          102.19362150083995,
          103.62200560411381,
          103.57294292785774
         ]
        },
        {
         "hovertemplate": "$%{y:,.2f}<extra></extra>",
         "line": {
          "color": "blue"
         },
         "marker": {
          "color": "blue",
          "size": 10
         },
         "mode": "lines+markers",
         "type": "scatter",
         "x": [
          3.5,
          3,
          3.5,
          3,
          3.5,
          3,
          3.5,
          3,
          3.5,
          3,
          3.5,
          3,
          3.5,
          3,
          3.5
         ],
         "y": [
          96.16108556252655,
          95.6390500157588,
          97.1251621947393,
          96.90589954713928,
          98.10238743832647,
          98.19433050257162,
          99.09298717648097,
          99.50478841310478,
          100.09719197303039,
          100.83772960514811,
          101.11523718608082,
          102.19362150083995,
          102.14736308482664,
          103.57294292785774,
          103.19381496962619
         ]
        },
        {
         "hovertemplate": "$%{y:,.2f}<extra></extra>",
         "line": {
          "color": "blue"
         },
         "marker": {
          "color": "blue",
          "size": 10
         },
         "mode": "lines+markers",
         "type": "scatter",
         "x": [
          4,
          3.5,
          4,
          3.5,
          4,
          3.5,
          4,
          3.5,
          4,
          3.5,
          4,
          3.5,
          4,
          3.5,
          4,
          3.5,
          4
         ],
         "y": [
          97.04462433598012,
          96.16108556252655,
          97.69916490335613,
          97.1251621947393,
          98.36040547964569,
          98.10238743832647,
          99.02843801474928,
          99.09298717648097,
          99.70335604272121,
          100.09719197303039,
          100.38525471464804,
          101.11523718608082,
          101.07423083232561,
          102.14736308482664,
          101.7703828827579,
          103.19381496962619,
          102.47381107349972
         ]
        },
        {
         "hovertemplate": "$%{y:,.2f}<extra></extra>",
         "line": {
          "color": "blue"
         },
         "marker": {
          "color": "blue",
          "size": 10
         },
         "mode": "lines+markers",
         "type": "scatter",
         "x": [
          4.5,
          4,
          4.5,
          4,
          4.5,
          4,
          4.5,
          4,
          4.5,
          4,
          4.5,
          4,
          4.5,
          4,
          4.5,
          4,
          4.5,
          4,
          4.5
         ],
         "y": [
          98.31033919115856,
          97.04462433598012,
          98.64484582422915,
          97.69916490335613,
          98.98163658563314,
          98.36040547964569,
          99.32073495076087,
          99.02843801474928,
          99.66216471780312,
          99.70335604272121,
          100.00595001331887,
          100.38525471464804,
          100.35211529791823,
          101.07423083232561,
          100.70068537206409,
          101.7703828827579,
          101.0516853819951,
          102.47381107349972,
          101.40514082577279
         ]
        },
        {
         "hovertemplate": "$%{y:,.2f}<extra></extra>",
         "line": {
          "color": "blue"
         },
         "marker": {
          "color": "blue",
          "size": 10
         },
         "mode": "lines+markers",
         "type": "scatter",
         "x": [
          5,
          4.5,
          5,
          4.5,
          5,
          4.5,
          5,
          4.5,
          5,
          4.5,
          5,
          4.5,
          5,
          4.5,
          5,
          4.5,
          5,
          4.5,
          5,
          4.5,
          5
         ],
         "y": [
          100,
          98.31033919115856,
          100,
          98.64484582422915,
          100,
          98.98163658563314,
          100,
          99.32073495076087,
          100,
          99.66216471780312,
          100,
          100.00595001331887,
          100,
          100.35211529791823,
          100,
          100.70068537206409,
          100,
          101.0516853819951,
          100,
          101.40514082577279,
          100,
          100,
          100
         ]
        }
       ],
       "layout": {
        "showlegend": false,
        "template": {
         "data": {
          "bar": [
           {
            "error_x": {
             "color": "#2a3f5f"
            },
            "error_y": {
             "color": "#2a3f5f"
            },
            "marker": {
             "line": {
              "color": "white",
              "width": 0.5
             },
             "pattern": {
              "fillmode": "overlay",
              "size": 10,
              "solidity": 0.2
             }
            },
            "type": "bar"
           }
          ],
          "barpolar": [
           {
            "marker": {
             "line": {
              "color": "white",
              "width": 0.5
             },
             "pattern": {
              "fillmode": "overlay",
              "size": 10,
              "solidity": 0.2
             }
            },
            "type": "barpolar"
           }
          ],
          "carpet": [
           {
            "aaxis": {
             "endlinecolor": "#2a3f5f",
             "gridcolor": "#C8D4E3",
             "linecolor": "#C8D4E3",
             "minorgridcolor": "#C8D4E3",
             "startlinecolor": "#2a3f5f"
            },
            "baxis": {
             "endlinecolor": "#2a3f5f",
             "gridcolor": "#C8D4E3",
             "linecolor": "#C8D4E3",
             "minorgridcolor": "#C8D4E3",
             "startlinecolor": "#2a3f5f"
            },
            "type": "carpet"
           }
          ],
          "choropleth": [
           {
            "colorbar": {
             "outlinewidth": 0,
             "ticks": ""
            },
            "type": "choropleth"
           }
          ],
          "contour": [
           {
            "colorbar": {
             "outlinewidth": 0,
             "ticks": ""
            },
            "colorscale": [
             [
              0,
              "#0d0887"
             ],
             [
              0.1111111111111111,
              "#46039f"
             ],
             [
              0.2222222222222222,
              "#7201a8"
             ],
             [
              0.3333333333333333,
              "#9c179e"
             ],
             [
              0.4444444444444444,
              "#bd3786"
             ],
             [
              0.5555555555555556,
              "#d8576b"
             ],
             [
              0.6666666666666666,
              "#ed7953"
             ],
             [
              0.7777777777777778,
              "#fb9f3a"
             ],
             [
              0.8888888888888888,
              "#fdca26"
             ],
             [
              1,
              "#f0f921"
             ]
            ],
            "type": "contour"
           }
          ],
          "contourcarpet": [
           {
            "colorbar": {
             "outlinewidth": 0,
             "ticks": ""
            },
            "type": "contourcarpet"
           }
          ],
          "heatmap": [
           {
            "colorbar": {
             "outlinewidth": 0,
             "ticks": ""
            },
            "colorscale": [
             [
              0,
              "#0d0887"
             ],
             [
              0.1111111111111111,
              "#46039f"
             ],
             [
              0.2222222222222222,
              "#7201a8"
             ],
             [
              0.3333333333333333,
              "#9c179e"
             ],
             [
              0.4444444444444444,
              "#bd3786"
             ],
             [
              0.5555555555555556,
              "#d8576b"
             ],
             [
              0.6666666666666666,
              "#ed7953"
             ],
             [
              0.7777777777777778,
              "#fb9f3a"
             ],
             [
              0.8888888888888888,
              "#fdca26"
             ],
             [
              1,
              "#f0f921"
             ]
            ],
            "type": "heatmap"
           }
          ],
          "heatmapgl": [
           {
            "colorbar": {
             "outlinewidth": 0,
             "ticks": ""
            },
            "colorscale": [
             [
              0,
              "#0d0887"
             ],
             [
              0.1111111111111111,
              "#46039f"
             ],
             [
              0.2222222222222222,
              "#7201a8"
             ],
             [
              0.3333333333333333,
              "#9c179e"
             ],
             [
              0.4444444444444444,
              "#bd3786"
             ],
             [
              0.5555555555555556,
              "#d8576b"
             ],
             [
              0.6666666666666666,
              "#ed7953"
             ],
             [
              0.7777777777777778,
              "#fb9f3a"
             ],
             [
              0.8888888888888888,
              "#fdca26"
             ],
             [
              1,
              "#f0f921"
             ]
            ],
            "type": "heatmapgl"
           }
          ],
          "histogram": [
           {
            "marker": {
             "pattern": {
              "fillmode": "overlay",
              "size": 10,
              "solidity": 0.2
             }
            },
            "type": "histogram"
           }
          ],
          "histogram2d": [
           {
            "colorbar": {
             "outlinewidth": 0,
             "ticks": ""
            },
            "colorscale": [
             [
              0,
              "#0d0887"
             ],
             [
              0.1111111111111111,
              "#46039f"
             ],
             [
              0.2222222222222222,
              "#7201a8"
             ],
             [
              0.3333333333333333,
              "#9c179e"
             ],
             [
              0.4444444444444444,
              "#bd3786"
             ],
             [
              0.5555555555555556,
              "#d8576b"
             ],
             [
              0.6666666666666666,
              "#ed7953"
             ],
             [
              0.7777777777777778,
              "#fb9f3a"
             ],
             [
              0.8888888888888888,
              "#fdca26"
             ],
             [
              1,
              "#f0f921"
             ]
            ],
            "type": "histogram2d"
           }
          ],
          "histogram2dcontour": [
           {
            "colorbar": {
             "outlinewidth": 0,
             "ticks": ""
            },
            "colorscale": [
             [
              0,
              "#0d0887"
             ],
             [
              0.1111111111111111,
              "#46039f"
             ],
             [
              0.2222222222222222,
              "#7201a8"
             ],
             [
              0.3333333333333333,
              "#9c179e"
             ],
             [
              0.4444444444444444,
              "#bd3786"
             ],
             [
              0.5555555555555556,
              "#d8576b"
             ],
             [
              0.6666666666666666,
              "#ed7953"
             ],
             [
              0.7777777777777778,
              "#fb9f3a"
             ],
             [
              0.8888888888888888,
              "#fdca26"
             ],
             [
              1,
              "#f0f921"
             ]
            ],
            "type": "histogram2dcontour"
           }
          ],
          "mesh3d": [
           {
            "colorbar": {
             "outlinewidth": 0,
             "ticks": ""
            },
            "type": "mesh3d"
           }
          ],
          "parcoords": [
           {
            "line": {
             "colorbar": {
              "outlinewidth": 0,
              "ticks": ""
             }
            },
            "type": "parcoords"
           }
          ],
          "pie": [
           {
            "automargin": true,
            "type": "pie"
           }
          ],
          "scatter": [
           {
            "fillpattern": {
             "fillmode": "overlay",
             "size": 10,
             "solidity": 0.2
            },
            "type": "scatter"
           }
          ],
          "scatter3d": [
           {
            "line": {
             "colorbar": {
              "outlinewidth": 0,
              "ticks": ""
             }
            },
            "marker": {
             "colorbar": {
              "outlinewidth": 0,
              "ticks": ""
             }
            },
            "type": "scatter3d"
           }
          ],
          "scattercarpet": [
           {
            "marker": {
             "colorbar": {
              "outlinewidth": 0,
              "ticks": ""
             }
            },
            "type": "scattercarpet"
           }
          ],
          "scattergeo": [
           {
            "marker": {
             "colorbar": {
              "outlinewidth": 0,
              "ticks": ""
             }
            },
            "type": "scattergeo"
           }
          ],
          "scattergl": [
           {
            "marker": {
             "colorbar": {
              "outlinewidth": 0,
              "ticks": ""
             }
            },
            "type": "scattergl"
           }
          ],
          "scattermapbox": [
           {
            "marker": {
             "colorbar": {
              "outlinewidth": 0,
              "ticks": ""
             }
            },
            "type": "scattermapbox"
           }
          ],
          "scatterpolar": [
           {
            "marker": {
             "colorbar": {
              "outlinewidth": 0,
              "ticks": ""
             }
            },
            "type": "scatterpolar"
           }
          ],
          "scatterpolargl": [
           {
            "marker": {
             "colorbar": {
              "outlinewidth": 0,
              "ticks": ""
             }
            },
            "type": "scatterpolargl"
           }
          ],
          "scatterternary": [
           {
            "marker": {
             "colorbar": {
              "outlinewidth": 0,
              "ticks": ""
             }
            },
            "type": "scatterternary"
           }
          ],
          "surface": [
           {
            "colorbar": {
             "outlinewidth": 0,
             "ticks": ""
            },
            "colorscale": [
             [
              0,
              "#0d0887"
             ],
             [
              0.1111111111111111,
              "#46039f"
             ],
             [
              0.2222222222222222,
              "#7201a8"
             ],
             [
              0.3333333333333333,
              "#9c179e"
             ],
             [
              0.4444444444444444,
              "#bd3786"
             ],
             [
              0.5555555555555556,
              "#d8576b"
             ],
             [
              0.6666666666666666,
              "#ed7953"
             ],
             [
              0.7777777777777778,
              "#fb9f3a"
             ],
             [
              0.8888888888888888,
              "#fdca26"
             ],
             [
              1,
              "#f0f921"
             ]
            ],
            "type": "surface"
           }
          ],
          "table": [
           {
            "cells": {
             "fill": {
              "color": "#EBF0F8"
             },
             "line": {
              "color": "white"
             }
            },
            "header": {
             "fill": {
              "color": "#C8D4E3"
             },
             "line": {
              "color": "white"
             }
            },
            "type": "table"
           }
          ]
         },
         "layout": {
          "annotationdefaults": {
           "arrowcolor": "#2a3f5f",
           "arrowhead": 0,
           "arrowwidth": 1
          },
          "autotypenumbers": "strict",
          "coloraxis": {
           "colorbar": {
            "outlinewidth": 0,
            "ticks": ""
           }
          },
          "colorscale": {
           "diverging": [
            [
             0,
             "#8e0152"
            ],
            [
             0.1,
             "#c51b7d"
            ],
            [
             0.2,
             "#de77ae"
            ],
            [
             0.3,
             "#f1b6da"
            ],
            [
             0.4,
             "#fde0ef"
            ],
            [
             0.5,
             "#f7f7f7"
            ],
            [
             0.6,
             "#e6f5d0"
            ],
            [
             0.7,
             "#b8e186"
            ],
            [
             0.8,
             "#7fbc41"
            ],
            [
             0.9,
             "#4d9221"
            ],
            [
             1,
             "#276419"
            ]
           ],
           "sequential": [
            [
             0,
             "#0d0887"
            ],
            [
             0.1111111111111111,
             "#46039f"
            ],
            [
             0.2222222222222222,
             "#7201a8"
            ],
            [
             0.3333333333333333,
             "#9c179e"
            ],
            [
             0.4444444444444444,
             "#bd3786"
            ],
            [
             0.5555555555555556,
             "#d8576b"
            ],
            [
             0.6666666666666666,
             "#ed7953"
            ],
            [
             0.7777777777777778,
             "#fb9f3a"
            ],
            [
             0.8888888888888888,
             "#fdca26"
            ],
            [
             1,
             "#f0f921"
            ]
           ],
           "sequentialminus": [
            [
             0,
             "#0d0887"
            ],
            [
             0.1111111111111111,
             "#46039f"
            ],
            [
             0.2222222222222222,
             "#7201a8"
            ],
            [
             0.3333333333333333,
             "#9c179e"
            ],
            [
             0.4444444444444444,
             "#bd3786"
            ],
            [
             0.5555555555555556,
             "#d8576b"
            ],
            [
             0.6666666666666666,
             "#ed7953"
            ],
            [
             0.7777777777777778,
             "#fb9f3a"
            ],
            [
             0.8888888888888888,
             "#fdca26"
            ],
            [
             1,
             "#f0f921"
            ]
           ]
          },
          "colorway": [
           "#636efa",
           "#EF553B",
           "#00cc96",
           "#ab63fa",
           "#FFA15A",
           "#19d3f3",
           "#FF6692",
           "#B6E880",
           "#FF97FF",
           "#FECB52"
          ],
          "font": {
           "color": "#2a3f5f"
          },
          "geo": {
           "bgcolor": "white",
           "lakecolor": "white",
           "landcolor": "white",
           "showlakes": true,
           "showland": true,
           "subunitcolor": "#C8D4E3"
          },
          "hoverlabel": {
           "align": "left"
          },
          "hovermode": "closest",
          "mapbox": {
           "style": "light"
          },
          "paper_bgcolor": "white",
          "plot_bgcolor": "white",
          "polar": {
           "angularaxis": {
            "gridcolor": "#EBF0F8",
            "linecolor": "#EBF0F8",
            "ticks": ""
           },
           "bgcolor": "white",
           "radialaxis": {
            "gridcolor": "#EBF0F8",
            "linecolor": "#EBF0F8",
            "ticks": ""
           }
          },
          "scene": {
           "xaxis": {
            "backgroundcolor": "white",
            "gridcolor": "#DFE8F3",
            "gridwidth": 2,
            "linecolor": "#EBF0F8",
            "showbackground": true,
            "ticks": "",
            "zerolinecolor": "#EBF0F8"
           },
           "yaxis": {
            "backgroundcolor": "white",
            "gridcolor": "#DFE8F3",
            "gridwidth": 2,
            "linecolor": "#EBF0F8",
            "showbackground": true,
            "ticks": "",
            "zerolinecolor": "#EBF0F8"
           },
           "zaxis": {
            "backgroundcolor": "white",
            "gridcolor": "#DFE8F3",
            "gridwidth": 2,
            "linecolor": "#EBF0F8",
            "showbackground": true,
            "ticks": "",
            "zerolinecolor": "#EBF0F8"
           }
          },
          "shapedefaults": {
           "line": {
            "color": "#2a3f5f"
           }
          },
          "ternary": {
           "aaxis": {
            "gridcolor": "#DFE8F3",
            "linecolor": "#A2B1C6",
            "ticks": ""
           },
           "baxis": {
            "gridcolor": "#DFE8F3",
            "linecolor": "#A2B1C6",
            "ticks": ""
           },
           "bgcolor": "white",
           "caxis": {
            "gridcolor": "#DFE8F3",
            "linecolor": "#A2B1C6",
            "ticks": ""
           }
          },
          "title": {
           "x": 0.05
          },
          "xaxis": {
           "automargin": true,
           "gridcolor": "#EBF0F8",
           "linecolor": "#EBF0F8",
           "ticks": "",
           "title": {
            "standoff": 15
           },
           "zerolinecolor": "#EBF0F8",
           "zerolinewidth": 2
          },
          "yaxis": {
           "automargin": true,
           "gridcolor": "#EBF0F8",
           "linecolor": "#EBF0F8",
           "ticks": "",
           "title": {
            "standoff": 15
           },
           "zerolinecolor": "#EBF0F8",
           "zerolinewidth": 2
          }
         }
        },
        "xaxis": {
         "title": {
          "text": "Time (years)"
         }
        },
        "yaxis": {
         "autorange": "reversed",
         "tickformat": ".0f",
         "tickprefix": "$",
         "title": {
          "text": "Bond w/o Option"
         }
        }
       }
      }
     },
     "metadata": {},
     "output_type": "display_data"
    }
   ],
   "source": [
    "figs[\"stripped\"].show()"
   ]
  },
  {
   "cell_type": "markdown",
   "metadata": {},
   "source": [
    "# BOND VALUE"
   ]
  },
  {
   "cell_type": "code",
   "execution_count": 27,
   "metadata": {},
   "outputs": [
    {
     "data": {
      "application/vnd.plotly.v1+json": {
       "config": {
        "plotlyServerURL": "https://plot.ly"
       },
       "data": [
        {
         "hovertemplate": "$%{y:,.2f}<extra></extra>",
         "line": {
          "color": "blue"
         },
         "marker": {
          "color": "blue",
          "size": 10
         },
         "mode": "lines+markers",
         "type": "scatter",
         "x": [
          0.5,
          0,
          0.5
         ],
         "y": [
          100.64702123772027,
          102,
          102.25842342539077
         ]
        },
        {
         "hovertemplate": "$%{y:,.2f}<extra></extra>",
         "line": {
          "color": "blue"
         },
         "marker": {
          "color": "blue",
          "size": 10
         },
         "mode": "lines+markers",
         "type": "scatter",
         "x": [
          1,
          0.5,
          1,
          0.5,
          1
         ],
         "y": [
          100,
          100.64702123772027,
          100.74993754461657,
          102.25842342539077,
          102.57106892946022
         ]
        },
        {
         "hovertemplate": "$%{y:,.2f}<extra></extra>",
         "line": {
          "color": "blue"
         },
         "marker": {
          "color": "blue",
          "size": 10
         },
         "mode": "lines+markers",
         "type": "scatter",
         "x": [
          1.5,
          1,
          1.5,
          1,
          1.5,
          1,
          1.5
         ],
         "y": [
          100,
          100,
          100,
          100.74993754461657,
          101.09445458188647,
          102.57106892946022,
          103.00002628799655
         ]
        },
        {
         "hovertemplate": "$%{y:,.2f}<extra></extra>",
         "line": {
          "color": "blue"
         },
         "marker": {
          "color": "blue",
          "size": 10
         },
         "mode": "lines+markers",
         "type": "scatter",
         "x": [
          2,
          1.5,
          2,
          1.5,
          2,
          1.5,
          2,
          1.5,
          2
         ],
         "y": [
          100,
          100,
          100,
          100,
          100,
          101.09445458188647,
          101.53953574532919,
          103.00002628799655,
          103.40400930481586
         ]
        },
        {
         "hovertemplate": "$%{y:,.2f}<extra></extra>",
         "line": {
          "color": "blue"
         },
         "marker": {
          "color": "blue",
          "size": 10
         },
         "mode": "lines+markers",
         "type": "scatter",
         "x": [
          2.5,
          2,
          2.5,
          2,
          2.5,
          2,
          2.5,
          2,
          2.5,
          2,
          2.5
         ],
         "y": [
          100,
          100,
          100,
          100,
          100,
          100,
          100,
          101.53953574532919,
          101.95761348287719,
          103.40400930481586,
          103.62200560411381
         ]
        },
        {
         "hovertemplate": "$%{y:,.2f}<extra></extra>",
         "line": {
          "color": "blue"
         },
         "marker": {
          "color": "blue",
          "size": 10
         },
         "mode": "lines+markers",
         "type": "scatter",
         "x": [
          3,
          2.5,
          3,
          2.5,
          3,
          2.5,
          3,
          2.5,
          3,
          2.5,
          3,
          2.5,
          3
         ],
         "y": [
          100,
          100,
          100,
          100,
          100,
          100,
          100,
          100,
          100,
          101.95761348287719,
          102.19362150083995,
          103.62200560411381,
          103.57294292785774
         ]
        },
        {
         "hovertemplate": "$%{y:,.2f}<extra></extra>",
         "line": {
          "color": "blue"
         },
         "marker": {
          "color": "blue",
          "size": 10
         },
         "mode": "lines+markers",
         "type": "scatter",
         "x": [
          3.5,
          3,
          3.5,
          3,
          3.5,
          3,
          3.5,
          3,
          3.5,
          3,
          3.5,
          3,
          3.5,
          3,
          3.5
         ],
         "y": [
          100,
          100,
          100,
          100,
          100,
          100,
          100,
          100,
          100,
          100,
          100,
          102.19362150083995,
          102.14736308482664,
          103.57294292785774,
          103.19381496962619
         ]
        },
        {
         "hovertemplate": "$%{y:,.2f}<extra></extra>",
         "line": {
          "color": "blue"
         },
         "marker": {
          "color": "blue",
          "size": 10
         },
         "mode": "lines+markers",
         "type": "scatter",
         "x": [
          4,
          3.5,
          4,
          3.5,
          4,
          3.5,
          4,
          3.5,
          4,
          3.5,
          4,
          3.5,
          4,
          3.5,
          4,
          3.5,
          4
         ],
         "y": [
          100,
          100,
          100,
          100,
          100,
          100,
          100,
          100,
          100,
          100,
          100,
          100,
          100,
          102.14736308482664,
          101.7703828827579,
          103.19381496962619,
          102.47381107349972
         ]
        },
        {
         "hovertemplate": "$%{y:,.2f}<extra></extra>",
         "line": {
          "color": "blue"
         },
         "marker": {
          "color": "blue",
          "size": 10
         },
         "mode": "lines+markers",
         "type": "scatter",
         "x": [
          4.5,
          4,
          4.5,
          4,
          4.5,
          4,
          4.5,
          4,
          4.5,
          4,
          4.5,
          4,
          4.5,
          4,
          4.5,
          4,
          4.5,
          4,
          4.5
         ],
         "y": [
          100,
          100,
          100,
          100,
          100,
          100,
          100,
          100,
          100,
          100,
          100,
          100,
          100,
          100,
          100,
          101.7703828827579,
          101.0516853819951,
          102.47381107349972,
          101.40514082577279
         ]
        },
        {
         "hovertemplate": "$%{y:,.2f}<extra></extra>",
         "line": {
          "color": "blue"
         },
         "marker": {
          "color": "blue",
          "size": 10
         },
         "mode": "lines+markers",
         "type": "scatter",
         "x": [
          5,
          4.5,
          5,
          4.5,
          5,
          4.5,
          5,
          4.5,
          5,
          4.5,
          5,
          4.5,
          5,
          4.5,
          5,
          4.5,
          5,
          4.5,
          5,
          4.5,
          5
         ],
         "y": [
          100,
          100,
          100,
          100,
          100,
          100,
          100,
          100,
          100,
          100,
          100,
          100,
          100,
          100,
          100,
          100,
          100,
          101.0516853819951,
          100,
          101.40514082577279,
          100,
          100,
          100
         ]
        }
       ],
       "layout": {
        "showlegend": false,
        "template": {
         "data": {
          "bar": [
           {
            "error_x": {
             "color": "#2a3f5f"
            },
            "error_y": {
             "color": "#2a3f5f"
            },
            "marker": {
             "line": {
              "color": "white",
              "width": 0.5
             },
             "pattern": {
              "fillmode": "overlay",
              "size": 10,
              "solidity": 0.2
             }
            },
            "type": "bar"
           }
          ],
          "barpolar": [
           {
            "marker": {
             "line": {
              "color": "white",
              "width": 0.5
             },
             "pattern": {
              "fillmode": "overlay",
              "size": 10,
              "solidity": 0.2
             }
            },
            "type": "barpolar"
           }
          ],
          "carpet": [
           {
            "aaxis": {
             "endlinecolor": "#2a3f5f",
             "gridcolor": "#C8D4E3",
             "linecolor": "#C8D4E3",
             "minorgridcolor": "#C8D4E3",
             "startlinecolor": "#2a3f5f"
            },
            "baxis": {
             "endlinecolor": "#2a3f5f",
             "gridcolor": "#C8D4E3",
             "linecolor": "#C8D4E3",
             "minorgridcolor": "#C8D4E3",
             "startlinecolor": "#2a3f5f"
            },
            "type": "carpet"
           }
          ],
          "choropleth": [
           {
            "colorbar": {
             "outlinewidth": 0,
             "ticks": ""
            },
            "type": "choropleth"
           }
          ],
          "contour": [
           {
            "colorbar": {
             "outlinewidth": 0,
             "ticks": ""
            },
            "colorscale": [
             [
              0,
              "#0d0887"
             ],
             [
              0.1111111111111111,
              "#46039f"
             ],
             [
              0.2222222222222222,
              "#7201a8"
             ],
             [
              0.3333333333333333,
              "#9c179e"
             ],
             [
              0.4444444444444444,
              "#bd3786"
             ],
             [
              0.5555555555555556,
              "#d8576b"
             ],
             [
              0.6666666666666666,
              "#ed7953"
             ],
             [
              0.7777777777777778,
              "#fb9f3a"
             ],
             [
              0.8888888888888888,
              "#fdca26"
             ],
             [
              1,
              "#f0f921"
             ]
            ],
            "type": "contour"
           }
          ],
          "contourcarpet": [
           {
            "colorbar": {
             "outlinewidth": 0,
             "ticks": ""
            },
            "type": "contourcarpet"
           }
          ],
          "heatmap": [
           {
            "colorbar": {
             "outlinewidth": 0,
             "ticks": ""
            },
            "colorscale": [
             [
              0,
              "#0d0887"
             ],
             [
              0.1111111111111111,
              "#46039f"
             ],
             [
              0.2222222222222222,
              "#7201a8"
             ],
             [
              0.3333333333333333,
              "#9c179e"
             ],
             [
              0.4444444444444444,
              "#bd3786"
             ],
             [
              0.5555555555555556,
              "#d8576b"
             ],
             [
              0.6666666666666666,
              "#ed7953"
             ],
             [
              0.7777777777777778,
              "#fb9f3a"
             ],
             [
              0.8888888888888888,
              "#fdca26"
             ],
             [
              1,
              "#f0f921"
             ]
            ],
            "type": "heatmap"
           }
          ],
          "heatmapgl": [
           {
            "colorbar": {
             "outlinewidth": 0,
             "ticks": ""
            },
            "colorscale": [
             [
              0,
              "#0d0887"
             ],
             [
              0.1111111111111111,
              "#46039f"
             ],
             [
              0.2222222222222222,
              "#7201a8"
             ],
             [
              0.3333333333333333,
              "#9c179e"
             ],
             [
              0.4444444444444444,
              "#bd3786"
             ],
             [
              0.5555555555555556,
              "#d8576b"
             ],
             [
              0.6666666666666666,
              "#ed7953"
             ],
             [
              0.7777777777777778,
              "#fb9f3a"
             ],
             [
              0.8888888888888888,
              "#fdca26"
             ],
             [
              1,
              "#f0f921"
             ]
            ],
            "type": "heatmapgl"
           }
          ],
          "histogram": [
           {
            "marker": {
             "pattern": {
              "fillmode": "overlay",
              "size": 10,
              "solidity": 0.2
             }
            },
            "type": "histogram"
           }
          ],
          "histogram2d": [
           {
            "colorbar": {
             "outlinewidth": 0,
             "ticks": ""
            },
            "colorscale": [
             [
              0,
              "#0d0887"
             ],
             [
              0.1111111111111111,
              "#46039f"
             ],
             [
              0.2222222222222222,
              "#7201a8"
             ],
             [
              0.3333333333333333,
              "#9c179e"
             ],
             [
              0.4444444444444444,
              "#bd3786"
             ],
             [
              0.5555555555555556,
              "#d8576b"
             ],
             [
              0.6666666666666666,
              "#ed7953"
             ],
             [
              0.7777777777777778,
              "#fb9f3a"
             ],
             [
              0.8888888888888888,
              "#fdca26"
             ],
             [
              1,
              "#f0f921"
             ]
            ],
            "type": "histogram2d"
           }
          ],
          "histogram2dcontour": [
           {
            "colorbar": {
             "outlinewidth": 0,
             "ticks": ""
            },
            "colorscale": [
             [
              0,
              "#0d0887"
             ],
             [
              0.1111111111111111,
              "#46039f"
             ],
             [
              0.2222222222222222,
              "#7201a8"
             ],
             [
              0.3333333333333333,
              "#9c179e"
             ],
             [
              0.4444444444444444,
              "#bd3786"
             ],
             [
              0.5555555555555556,
              "#d8576b"
             ],
             [
              0.6666666666666666,
              "#ed7953"
             ],
             [
              0.7777777777777778,
              "#fb9f3a"
             ],
             [
              0.8888888888888888,
              "#fdca26"
             ],
             [
              1,
              "#f0f921"
             ]
            ],
            "type": "histogram2dcontour"
           }
          ],
          "mesh3d": [
           {
            "colorbar": {
             "outlinewidth": 0,
             "ticks": ""
            },
            "type": "mesh3d"
           }
          ],
          "parcoords": [
           {
            "line": {
             "colorbar": {
              "outlinewidth": 0,
              "ticks": ""
             }
            },
            "type": "parcoords"
           }
          ],
          "pie": [
           {
            "automargin": true,
            "type": "pie"
           }
          ],
          "scatter": [
           {
            "fillpattern": {
             "fillmode": "overlay",
             "size": 10,
             "solidity": 0.2
            },
            "type": "scatter"
           }
          ],
          "scatter3d": [
           {
            "line": {
             "colorbar": {
              "outlinewidth": 0,
              "ticks": ""
             }
            },
            "marker": {
             "colorbar": {
              "outlinewidth": 0,
              "ticks": ""
             }
            },
            "type": "scatter3d"
           }
          ],
          "scattercarpet": [
           {
            "marker": {
             "colorbar": {
              "outlinewidth": 0,
              "ticks": ""
             }
            },
            "type": "scattercarpet"
           }
          ],
          "scattergeo": [
           {
            "marker": {
             "colorbar": {
              "outlinewidth": 0,
              "ticks": ""
             }
            },
            "type": "scattergeo"
           }
          ],
          "scattergl": [
           {
            "marker": {
             "colorbar": {
              "outlinewidth": 0,
              "ticks": ""
             }
            },
            "type": "scattergl"
           }
          ],
          "scattermapbox": [
           {
            "marker": {
             "colorbar": {
              "outlinewidth": 0,
              "ticks": ""
             }
            },
            "type": "scattermapbox"
           }
          ],
          "scatterpolar": [
           {
            "marker": {
             "colorbar": {
              "outlinewidth": 0,
              "ticks": ""
             }
            },
            "type": "scatterpolar"
           }
          ],
          "scatterpolargl": [
           {
            "marker": {
             "colorbar": {
              "outlinewidth": 0,
              "ticks": ""
             }
            },
            "type": "scatterpolargl"
           }
          ],
          "scatterternary": [
           {
            "marker": {
             "colorbar": {
              "outlinewidth": 0,
              "ticks": ""
             }
            },
            "type": "scatterternary"
           }
          ],
          "surface": [
           {
            "colorbar": {
             "outlinewidth": 0,
             "ticks": ""
            },
            "colorscale": [
             [
              0,
              "#0d0887"
             ],
             [
              0.1111111111111111,
              "#46039f"
             ],
             [
              0.2222222222222222,
              "#7201a8"
             ],
             [
              0.3333333333333333,
              "#9c179e"
             ],
             [
              0.4444444444444444,
              "#bd3786"
             ],
             [
              0.5555555555555556,
              "#d8576b"
             ],
             [
              0.6666666666666666,
              "#ed7953"
             ],
             [
              0.7777777777777778,
              "#fb9f3a"
             ],
             [
              0.8888888888888888,
              "#fdca26"
             ],
             [
              1,
              "#f0f921"
             ]
            ],
            "type": "surface"
           }
          ],
          "table": [
           {
            "cells": {
             "fill": {
              "color": "#EBF0F8"
             },
             "line": {
              "color": "white"
             }
            },
            "header": {
             "fill": {
              "color": "#C8D4E3"
             },
             "line": {
              "color": "white"
             }
            },
            "type": "table"
           }
          ]
         },
         "layout": {
          "annotationdefaults": {
           "arrowcolor": "#2a3f5f",
           "arrowhead": 0,
           "arrowwidth": 1
          },
          "autotypenumbers": "strict",
          "coloraxis": {
           "colorbar": {
            "outlinewidth": 0,
            "ticks": ""
           }
          },
          "colorscale": {
           "diverging": [
            [
             0,
             "#8e0152"
            ],
            [
             0.1,
             "#c51b7d"
            ],
            [
             0.2,
             "#de77ae"
            ],
            [
             0.3,
             "#f1b6da"
            ],
            [
             0.4,
             "#fde0ef"
            ],
            [
             0.5,
             "#f7f7f7"
            ],
            [
             0.6,
             "#e6f5d0"
            ],
            [
             0.7,
             "#b8e186"
            ],
            [
             0.8,
             "#7fbc41"
            ],
            [
             0.9,
             "#4d9221"
            ],
            [
             1,
             "#276419"
            ]
           ],
           "sequential": [
            [
             0,
             "#0d0887"
            ],
            [
             0.1111111111111111,
             "#46039f"
            ],
            [
             0.2222222222222222,
             "#7201a8"
            ],
            [
             0.3333333333333333,
             "#9c179e"
            ],
            [
             0.4444444444444444,
             "#bd3786"
            ],
            [
             0.5555555555555556,
             "#d8576b"
            ],
            [
             0.6666666666666666,
             "#ed7953"
            ],
            [
             0.7777777777777778,
             "#fb9f3a"
            ],
            [
             0.8888888888888888,
             "#fdca26"
            ],
            [
             1,
             "#f0f921"
            ]
           ],
           "sequentialminus": [
            [
             0,
             "#0d0887"
            ],
            [
             0.1111111111111111,
             "#46039f"
            ],
            [
             0.2222222222222222,
             "#7201a8"
            ],
            [
             0.3333333333333333,
             "#9c179e"
            ],
            [
             0.4444444444444444,
             "#bd3786"
            ],
            [
             0.5555555555555556,
             "#d8576b"
            ],
            [
             0.6666666666666666,
             "#ed7953"
            ],
            [
             0.7777777777777778,
             "#fb9f3a"
            ],
            [
             0.8888888888888888,
             "#fdca26"
            ],
            [
             1,
             "#f0f921"
            ]
           ]
          },
          "colorway": [
           "#636efa",
           "#EF553B",
           "#00cc96",
           "#ab63fa",
           "#FFA15A",
           "#19d3f3",
           "#FF6692",
           "#B6E880",
           "#FF97FF",
           "#FECB52"
          ],
          "font": {
           "color": "#2a3f5f"
          },
          "geo": {
           "bgcolor": "white",
           "lakecolor": "white",
           "landcolor": "white",
           "showlakes": true,
           "showland": true,
           "subunitcolor": "#C8D4E3"
          },
          "hoverlabel": {
           "align": "left"
          },
          "hovermode": "closest",
          "mapbox": {
           "style": "light"
          },
          "paper_bgcolor": "white",
          "plot_bgcolor": "white",
          "polar": {
           "angularaxis": {
            "gridcolor": "#EBF0F8",
            "linecolor": "#EBF0F8",
            "ticks": ""
           },
           "bgcolor": "white",
           "radialaxis": {
            "gridcolor": "#EBF0F8",
            "linecolor": "#EBF0F8",
            "ticks": ""
           }
          },
          "scene": {
           "xaxis": {
            "backgroundcolor": "white",
            "gridcolor": "#DFE8F3",
            "gridwidth": 2,
            "linecolor": "#EBF0F8",
            "showbackground": true,
            "ticks": "",
            "zerolinecolor": "#EBF0F8"
           },
           "yaxis": {
            "backgroundcolor": "white",
            "gridcolor": "#DFE8F3",
            "gridwidth": 2,
            "linecolor": "#EBF0F8",
            "showbackground": true,
            "ticks": "",
            "zerolinecolor": "#EBF0F8"
           },
           "zaxis": {
            "backgroundcolor": "white",
            "gridcolor": "#DFE8F3",
            "gridwidth": 2,
            "linecolor": "#EBF0F8",
            "showbackground": true,
            "ticks": "",
            "zerolinecolor": "#EBF0F8"
           }
          },
          "shapedefaults": {
           "line": {
            "color": "#2a3f5f"
           }
          },
          "ternary": {
           "aaxis": {
            "gridcolor": "#DFE8F3",
            "linecolor": "#A2B1C6",
            "ticks": ""
           },
           "baxis": {
            "gridcolor": "#DFE8F3",
            "linecolor": "#A2B1C6",
            "ticks": ""
           },
           "bgcolor": "white",
           "caxis": {
            "gridcolor": "#DFE8F3",
            "linecolor": "#A2B1C6",
            "ticks": ""
           }
          },
          "title": {
           "x": 0.05
          },
          "xaxis": {
           "automargin": true,
           "gridcolor": "#EBF0F8",
           "linecolor": "#EBF0F8",
           "ticks": "",
           "title": {
            "standoff": 15
           },
           "zerolinecolor": "#EBF0F8",
           "zerolinewidth": 2
          },
          "yaxis": {
           "automargin": true,
           "gridcolor": "#EBF0F8",
           "linecolor": "#EBF0F8",
           "ticks": "",
           "title": {
            "standoff": 15
           },
           "zerolinecolor": "#EBF0F8",
           "zerolinewidth": 2
          }
         }
        },
        "xaxis": {
         "title": {
          "text": "Time (years)"
         }
        },
        "yaxis": {
         "autorange": "reversed",
         "tickformat": ".0f",
         "tickprefix": "$",
         "title": {
          "text": "Bond with Option"
         }
        }
       }
      }
     },
     "metadata": {},
     "output_type": "display_data"
    }
   ],
   "source": [
    "figs[\"bond\"].show()"
   ]
  }
 ],
 "metadata": {
  "colab": {
   "include_colab_link": true,
   "name": "option adjusted spreads.ipynb",
   "provenance": []
  },
  "kernelspec": {
   "display_name": "Python 3",
   "language": "python",
   "name": "python3"
  },
  "language_info": {
   "codemirror_mode": {
    "name": "ipython",
    "version": 3
   },
   "file_extension": ".py",
   "mimetype": "text/x-python",
   "name": "python",
   "nbconvert_exporter": "python",
   "pygments_lexer": "ipython3",
   "version": "3.10.8"
  }
 },
 "nbformat": 4,
 "nbformat_minor": 0
}
