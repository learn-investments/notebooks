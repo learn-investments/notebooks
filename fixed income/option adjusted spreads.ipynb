{
 "cells": [
  {
   "cell_type": "markdown",
   "metadata": {},
   "source": [
    "---\n",
    "\n",
    "Created for [learn-investments.rice-business.org](https://learn-investments.rice-business.org)\n",
    "    \n",
    "By [Kerry Back](https://kerryback.com) and [Kevin Crotty](https://kevin-crotty.com)\n",
    "    \n",
    "Jones Graduate School of Business, Rice University\n",
    "\n",
    "---\n"
   ]
  },
  {
   "cell_type": "markdown",
   "metadata": {},
   "source": [
    "# EXAMPLE DATA"
   ]
  },
  {
   "cell_type": "code",
   "execution_count": 9,
   "metadata": {},
   "outputs": [],
   "source": [
    "sigma = 50                                                         # volatility in basis points\n",
    "prds_per_year = 2\n",
    "num_bonds = 6                                                      # number of bonds\n",
    "maturities   = [1, 2, 3, 4, 5, 6]                                  # bond maturities\n",
    "coupon_rates = [0.02, 0.02, 0.02, 0.02, 0.02, 0.02]                # coupon rates (annual)\n",
    "yields       = [0.0175, 0.02, 0.0225, 0.024, 0.025, 0.026]         # yields (annual)\n",
    "\n",
    "if not all(len(lst)==num_bonds for lst in [maturities, coupon_rates, yields]):\n",
    "    print('Lists need to be of the same length!')\n",
    "\n",
    "# corporate bond information\n",
    "coupon_rate = 0.05   # annual coupon rate\n",
    "maturity = 5         # maturity in years\n",
    "option = \"put\"\n",
    "strike = 100\n",
    "bond_price = 102     # given bond price\n",
    "\n",
    "if (bond_price<=100 and option==\"put\") or (bond_price>=100 and option==\"call\"):\n",
    "    print(\"Error: Option should have already been exercised.\")"
   ]
  },
  {
   "cell_type": "markdown",
   "metadata": {},
   "source": [
    "# FUNCTIONS FOR BOND PRICES AND FORWARD RATES\n",
    "\n",
    "Unlike the \"spot and forward rates\" notebook, here we work with a general number of periods per year rather than six-month periods."
   ]
  },
  {
   "cell_type": "code",
   "execution_count": 10,
   "metadata": {},
   "outputs": [],
   "source": [
    "import numpy as np\n",
    "from scipy.optimize import minimize\n",
    "\n",
    "# calculate bond price for given yield to maturity or for given spot rates\n",
    "def price(**kwargs):\n",
    "    c = 100 * kwargs['coupon'] / 2\n",
    "    maturity = kwargs['maturity']\n",
    "    if 'yld' in kwargs.keys():\n",
    "        yld = kwargs['yld']\n",
    "        n = int(2 * maturity)\n",
    "        return c * np.sum((1 + yld/2) ** np.arange(-1, -n - 1, -1)) + 100 / (1 + yld/2) ** n\n",
    "    else:\n",
    "        n = int(prds_per_year * maturity)\n",
    "        pphy = int(prds_per_year/2)  # periods per half year\n",
    "        spots = np.array(kwargs['spots'])\n",
    "        pv_factors = (1 + spots / prds_per_year) ** (-np.arange(1, len(spots) + 1))\n",
    "        coupons = np.zeros(n)\n",
    "        coupons[(pphy - 1)::pphy] = c\n",
    "        return np.sum(coupons*pv_factors[:len(coupons)]) + 100*pv_factors[n-1]\n",
    "    \n",
    "# forward rates implied by spot rates\n",
    "def forward_rates(spots):\n",
    "    pphy = int(prds_per_year / 2)  # periods per half year\n",
    "    future_factors = (1 + spots / 2) ** (np.arange(1, len(spots) + 1) / pphy)\n",
    "    diff_logs = np.diff(np.log(future_factors))\n",
    "    f = (np.exp(diff_logs)-1) * prds_per_year\n",
    "    return np.concatenate(([spots[0]], f))"
   ]
  },
  {
   "cell_type": "markdown",
   "metadata": {},
   "source": [
    "# FUNCTION TO COMPUTE SPOT RATES\n",
    "\n",
    "We choose spot rates to match bond prices as closely as possible, except that we add a penalty for variation in implied forward rates, so the resulting forward rate curve is reasonably smooth.  "
   ]
  },
  {
   "cell_type": "code",
   "execution_count": 11,
   "metadata": {},
   "outputs": [],
   "source": [
    "# difference between bond price and price implied by spot rates\n",
    "def error(bond, spots):\n",
    "    price1 = price(**bond)\n",
    "    price2 = price(maturity=bond[\"maturity\"], coupon=bond['coupon'], spots=spots)\n",
    "    return np.log(price2 / price1)\n",
    "\n",
    "# sum of squared errors between bond prices and prices implied by spot rates\n",
    "# plus a penalty for variation in forward rates\n",
    "def objective(bonds, spots):\n",
    "    errors = [error(bond, spots) for bond in bonds]\n",
    "    sse = np.sum(np.array(errors)**2)\n",
    "    forwards = forward_rates(spots)\n",
    "    diffs = np.sum(np.diff(np.log(1+forwards/prds_per_year))**2)\n",
    "    return sse + 0.5*diffs\n",
    "\n",
    "# choose spot rates to optimize the objective\n",
    "def spot_rates(bonds):\n",
    "    maturities = [bond['maturity'] for bond in bonds]\n",
    "    n = int(np.max(maturities) * prds_per_year)\n",
    "    result = minimize(lambda x: objective(bonds, x), [0.05]*n)\n",
    "    return result.x if result.success==True else np.nan"
   ]
  },
  {
   "cell_type": "markdown",
   "metadata": {},
   "source": [
    "# SPOT AND FORWARD RATES"
   ]
  },
  {
   "cell_type": "code",
   "execution_count": 12,
   "metadata": {},
   "outputs": [],
   "source": [
    "bonds = [\n",
    "    dict(\n",
    "        maturity= maturities[i],\n",
    "        coupon  = coupon_rates[i],\n",
    "        yld     = yields[i]\n",
    "    )\n",
    "    for i in range(num_bonds)\n",
    "]\n",
    "\n",
    "spots    = spot_rates(bonds)\n",
    "forwards = forward_rates(spots)"
   ]
  },
  {
   "cell_type": "markdown",
   "metadata": {},
   "source": [
    "# INTEREST RATE TREE\n",
    "\n",
    "We find the drift of the interest rate tree so that it matches the forward rates calculated above.  See, for example, Back, A Course in Derivative Securities, 2006."
   ]
  },
  {
   "cell_type": "code",
   "execution_count": 13,
   "metadata": {},
   "outputs": [],
   "source": [
    "n = prds_per_year * np.max(maturities)\n",
    "dt = 1 / prds_per_year\n",
    "m = len(forwards)\n",
    "s = sigma / 10000   # volatility as decimal\n",
    "f = forwards[:n+1] if m>=n+1 else np.concatenate((forwards, [forwards[-1]]*(n+1-m)))\n",
    "    \n",
    "term1 = np.log(1+f*dt)\n",
    "a = np.exp(s*dt**(3/2)*np.arange(n+1))\n",
    "term2 = np.log(a + 1/a)\n",
    "term3 = np.log(2*(1+f[0]*dt))\n",
    "phis = (term1 + term2 - term3) / dt\n",
    "\n",
    "delta = sigma*np.sqrt(dt) / 10000\n",
    "rate_tree =  [\n",
    "    [spots[0] + phi + delta * (i - 2 * j) for j in range(i + 1)] \n",
    "    for i, phi in enumerate(phis)\n",
    "]"
   ]
  },
  {
   "cell_type": "markdown",
   "metadata": {},
   "source": [
    "# PRICE A BOND WITH OR WITHOUT EMBEDDED OPTION FROM A RATE TREE"
   ]
  },
  {
   "cell_type": "code",
   "execution_count": 14,
   "metadata": {},
   "outputs": [],
   "source": [
    "def BondTree(rate_tree, kind=None):\n",
    "\n",
    "    n = maturity * prds_per_year\n",
    "    pphy = int(prds_per_year / 2)  # periods per half year\n",
    "\n",
    "    # coupons paid semi-annually, 0 at other periods\n",
    "    coupon = coupon_rate * 100\n",
    "    coupons = np.zeros(n+1)\n",
    "    coupons[pphy::pphy] = coupon\n",
    "\n",
    "    rates = [np.array(x) for x in rate_tree]\n",
    "\n",
    "    # x = dirty price, p = clean price\n",
    "    # initialize tree at maturity\n",
    "    x = (100+coupon) * np.ones(n + 1)\n",
    "    p = 100 * np.ones(n+1)\n",
    "    lstp = [p]\n",
    "\n",
    "    # back up in the tree\n",
    "    for i in range(n-1, -1, -1):\n",
    "        j = (i % pphy) / pphy\n",
    "        accrued = (j*coupon) if j>0 else (coupon if i>0 else 0)\n",
    "        x = accrued + 0.5 * (x[:-1] + x[1:]) / (1 + rates[i] / prds_per_year)\n",
    "\n",
    "        # consider early exercise\n",
    "        if kind:\n",
    "            x = (\n",
    "                np.minimum(x, strike+accrued) if kind == \"call\" else\n",
    "                np.maximum(x, strike+accrued)\n",
    "            )\n",
    "        \n",
    "        p = x - accrued\n",
    "        lstp.insert(0, p)\n",
    "    \n",
    "    # replace subsequent values with strike if exercised early\n",
    "    for i, arr in enumerate(lstp[:-1]):\n",
    "        for j in range(len(arr)):\n",
    "            if arr[j] == strike:\n",
    "                lstp[i+1][j] = lstp[i+1][j+1] = strike\n",
    "                \n",
    "    return [list(p) for p in lstp]"
   ]
  },
  {
   "cell_type": "markdown",
   "metadata": {},
   "source": [
    "# OPTION-ADJUSTED SPREAD\n",
    "\n",
    "Calculate spread over rate tree that equates tree-implied bond price to given price."
   ]
  },
  {
   "cell_type": "code",
   "execution_count": 15,
   "metadata": {},
   "outputs": [
    {
     "name": "stdout",
     "output_type": "stream",
     "text": [
      "Option Adjusted Spread is 7.26%\n"
     ]
    }
   ],
   "source": [
    "from scipy.optimize import root_scalar\n",
    "\n",
    "def error(oas) :\n",
    "    oas_tree = [[oas+x for x in lst] for lst in rate_tree]\n",
    "    bond_tree = BondTree(oas_tree, kind=option)\n",
    "    return bond_price - bond_tree[0][0]\n",
    "\n",
    "try: \n",
    "    oas = root_scalar(error, bracket=[-1, 1], method=\"brentq\")\n",
    "    oas = oas.root\n",
    "    print(f\"Option Adjusted Spread is {oas:.2%}\")\n",
    "    \n",
    "except:\n",
    "    print(\"failed to solve for OAS\")"
   ]
  },
  {
   "cell_type": "markdown",
   "metadata": {},
   "source": [
    "# FIGURES\n",
    "\n",
    "If the solution for the OAS converged, we generate four figures: \n",
    "\n",
    "- \"rate\" is the short rate tree\n",
    "- \"oas\" adds the OAS to the short rate\n",
    "- \"stripped\" is the bond value stripped of the option\n",
    "- \"bond\" is the bond value including the option"
   ]
  },
  {
   "cell_type": "code",
   "execution_count": 16,
   "metadata": {},
   "outputs": [],
   "source": [
    "import plotly.graph_objects as go\n",
    "\n",
    "oas_tree = [[oas+x for x in lst] for lst in rate_tree]\n",
    "trees = {\n",
    "    \"rate\": rate_tree,\n",
    "    \"oas\": oas_tree,\n",
    "    \"stripped\": BondTree(oas_tree),\n",
    "    \"bond\": BondTree(oas_tree, kind=option)\n",
    "}\n",
    "\n",
    "titles = {\n",
    "    \"rate\": \"Annualized Short Rate\",\n",
    "    \"oas\": \"Short Rate + OAS\",\n",
    "    \"stripped\": \"Bond w/o Option\",\n",
    "    \"bond\": \"Bond with Option\"\n",
    "}\n",
    "\n",
    "figs = {}\n",
    "for key, tree in trees.items():\n",
    "    string = \"%{y:.2%}\" if key in (\"rate\", \"oas\") else \"$%{y:,.2f}\"\n",
    "    string += \"<extra></extra>\"\n",
    "    spliced = []\n",
    "    for a, b in zip(tree[1:], tree[:-1]):\n",
    "        x = []\n",
    "        for i in range(len(a)):\n",
    "            x.append(a[i])\n",
    "            try:\n",
    "                x.append(b[i])\n",
    "            except:\n",
    "                pass\n",
    "        spliced.append(x)\n",
    "    fig = go.Figure()\n",
    "    for i in range(len(tree) - 1):\n",
    "        x = [1, 0, 1]\n",
    "        for j in range(i):\n",
    "            x.append(0)\n",
    "            x.append(1)\n",
    "        x = np.array(x) + i\n",
    "        y = spliced[i]\n",
    "        trace = go.Scatter(\n",
    "            x=x*dt,\n",
    "            y=y,\n",
    "            mode=\"lines+markers\",\n",
    "            hovertemplate=string,\n",
    "            marker=dict(size=10, color=\"blue\"),\n",
    "            line_color=\"blue\",\n",
    "        )\n",
    "        fig.add_trace(trace)\n",
    "    fig.update_layout(\n",
    "        xaxis_title=\"Time (years)\",\n",
    "        yaxis_title=titles[key],\n",
    "        yaxis_tickprefix = None if key in (\"rate\", \"oas\") else \"$\", \n",
    "        yaxis_tickformat=\".2%\" if key in (\"rate\", \"oas\") else \".0f\",\n",
    "        yaxis_autorange=None if key in (\"rate\", \"oas\") else \"reversed\",\n",
    "        template=\"plotly_white\",\n",
    "        showlegend=False\n",
    "    )\n",
    "    figs[key] = fig"
   ]
  },
  {
   "cell_type": "code",
   "execution_count": 17,
   "metadata": {},
   "outputs": [],
   "source": [
    "# SHORT RATE"
   ]
  },
  {
   "cell_type": "code",
   "execution_count": 18,
   "metadata": {},
   "outputs": [
    {
     "data": {
      "application/vnd.plotly.v1+json": {
       "config": {
        "plotlyServerURL": "https://plot.ly"
       },
       "data": [
        {
         "hovertemplate": "%{y:.2%}<extra></extra>",
         "line": {
          "color": "blue"
         },
         "marker": {
          "color": "blue",
          "size": 10
         },
         "mode": "lines+markers",
         "type": "scatter",
         "x": [
          0.5,
          0,
          0.5
         ],
         "y": [
          0.0220368296510513,
          0.017180474210710738,
          0.014965761839185824
         ]
        },
        {
         "hovertemplate": "%{y:.2%}<extra></extra>",
         "line": {
          "color": "blue"
         },
         "marker": {
          "color": "blue",
          "size": 10
         },
         "mode": "lines+markers",
         "type": "scatter",
         "x": [
          1,
          0.5,
          1,
          0.5,
          1
         ],
         "y": [
          0.028204511332089045,
          0.0220368296510513,
          0.02113344352022357,
          0.014965761839185824,
          0.014062375708358096
         ]
        },
        {
         "hovertemplate": "%{y:.2%}<extra></extra>",
         "line": {
          "color": "blue"
         },
         "marker": {
          "color": "blue",
          "size": 10
         },
         "mode": "lines+markers",
         "type": "scatter",
         "x": [
          1.5,
          1,
          1.5,
          1,
          1.5,
          1,
          1.5
         ],
         "y": [
          0.034348964745366216,
          0.028204511332089045,
          0.02727789693350074,
          0.02113344352022357,
          0.020206829121635263,
          0.014062375708358096,
          0.013135761309769789
         ]
        },
        {
         "hovertemplate": "%{y:.2%}<extra></extra>",
         "line": {
          "color": "blue"
         },
         "marker": {
          "color": "blue",
          "size": 10
         },
         "mode": "lines+markers",
         "type": "scatter",
         "x": [
          2,
          1.5,
          2,
          1.5,
          2,
          1.5,
          2,
          1.5,
          2
         ],
         "y": [
          0.040469684460675344,
          0.034348964745366216,
          0.033398616648809866,
          0.02727789693350074,
          0.02632754883694439,
          0.020206829121635263,
          0.019256481025078917,
          0.013135761309769789,
          0.01218541321321344
         ]
        },
        {
         "hovertemplate": "%{y:.2%}<extra></extra>",
         "line": {
          "color": "blue"
         },
         "marker": {
          "color": "blue",
          "size": 10
         },
         "mode": "lines+markers",
         "type": "scatter",
         "x": [
          2.5,
          2,
          2.5,
          2,
          2.5,
          2,
          2.5,
          2,
          2.5,
          2,
          2.5
         ],
         "y": [
          0.045607196952486814,
          0.040469684460675344,
          0.03853612914062134,
          0.033398616648809866,
          0.031465061328755865,
          0.02632754883694439,
          0.02439399351689039,
          0.019256481025078917,
          0.017322925705024916,
          0.01218541321321344,
          0.010251857893159442
         ]
        },
        {
         "hovertemplate": "%{y:.2%}<extra></extra>",
         "line": {
          "color": "blue"
         },
         "marker": {
          "color": "blue",
          "size": 10
         },
         "mode": "lines+markers",
         "type": "scatter",
         "x": [
          3,
          2.5,
          3,
          2.5,
          3,
          2.5,
          3,
          2.5,
          3,
          2.5,
          3,
          2.5,
          3
         ],
         "y": [
          0.04977069340057236,
          0.045607196952486814,
          0.04269962558870689,
          0.03853612914062134,
          0.03562855777684141,
          0.031465061328755865,
          0.028557489964975934,
          0.02439399351689039,
          0.02148642215311046,
          0.017322925705024916,
          0.014415354341244984,
          0.010251857893159442,
          0.0073442865293795075
         ]
        },
        {
         "hovertemplate": "%{y:.2%}<extra></extra>",
         "line": {
          "color": "blue"
         },
         "marker": {
          "color": "blue",
          "size": 10
         },
         "mode": "lines+markers",
         "type": "scatter",
         "x": [
          3.5,
          3,
          3.5,
          3,
          3.5,
          3,
          3.5,
          3,
          3.5,
          3,
          3.5,
          3,
          3.5,
          3,
          3.5
         ],
         "y": [
          0.053779096618450886,
          0.04977069340057236,
          0.04670802880658541,
          0.04269962558870689,
          0.03963696099471994,
          0.03562855777684141,
          0.03256589318285446,
          0.028557489964975934,
          0.025494825370988985,
          0.02148642215311046,
          0.01842375755912351,
          0.014415354341244984,
          0.011352689747258036,
          0.0073442865293795075,
          0.004281621935392561
         ]
        },
        {
         "hovertemplate": "%{y:.2%}<extra></extra>",
         "line": {
          "color": "blue"
         },
         "marker": {
          "color": "blue",
          "size": 10
         },
         "mode": "lines+markers",
         "type": "scatter",
         "x": [
          4,
          3.5,
          4,
          3.5,
          4,
          3.5,
          4,
          3.5,
          4,
          3.5,
          4,
          3.5,
          4,
          3.5,
          4,
          3.5,
          4
         ],
         "y": [
          0.05763349816965796,
          0.053779096618450886,
          0.05056243035779248,
          0.04670802880658541,
          0.04349136254592701,
          0.03963696099471994,
          0.03642029473406153,
          0.03256589318285446,
          0.029349226922196058,
          0.025494825370988985,
          0.022278159110330584,
          0.01842375755912351,
          0.015207091298465108,
          0.011352689747258036,
          0.008136023486599631,
          0.004281621935392561,
          0.0010649556747341568
         ]
        },
        {
         "hovertemplate": "%{y:.2%}<extra></extra>",
         "line": {
          "color": "blue"
         },
         "marker": {
          "color": "blue",
          "size": 10
         },
         "mode": "lines+markers",
         "type": "scatter",
         "x": [
          4.5,
          4,
          4.5,
          4,
          4.5,
          4,
          4.5,
          4,
          4.5,
          4,
          4.5,
          4,
          4.5,
          4,
          4.5,
          4,
          4.5,
          4,
          4.5
         ],
         "y": [
          0.06179310578494483,
          0.05763349816965796,
          0.054722037973079354,
          0.05056243035779248,
          0.047650970161213876,
          0.04349136254592701,
          0.040579902349348405,
          0.03642029473406153,
          0.03350883453748293,
          0.029349226922196058,
          0.026437766725617453,
          0.022278159110330584,
          0.01936669891375198,
          0.015207091298465108,
          0.012295631101886504,
          0.008136023486599631,
          0.0052245632900210295,
          0.0010649556747341568,
          -0.001846504521844445
         ]
        },
        {
         "hovertemplate": "%{y:.2%}<extra></extra>",
         "line": {
          "color": "blue"
         },
         "marker": {
          "color": "blue",
          "size": 10
         },
         "mode": "lines+markers",
         "type": "scatter",
         "x": [
          5,
          4.5,
          5,
          4.5,
          5,
          4.5,
          5,
          4.5,
          5,
          4.5,
          5,
          4.5,
          5,
          4.5,
          5,
          4.5,
          5,
          4.5,
          5,
          4.5,
          5
         ],
         "y": [
          0.06625534518736145,
          0.06179310578494483,
          0.059184277375495975,
          0.054722037973079354,
          0.0521132095636305,
          0.047650970161213876,
          0.045042141751765026,
          0.040579902349348405,
          0.03797107393989955,
          0.03350883453748293,
          0.030900006128034074,
          0.026437766725617453,
          0.0238289383161686,
          0.01936669891375198,
          0.01675787050430312,
          0.012295631101886504,
          0.009686802692437647,
          0.0052245632900210295,
          0.0026157348805721722,
          -0.001846504521844445,
          -0.004455332931293302
         ]
        },
        {
         "hovertemplate": "%{y:.2%}<extra></extra>",
         "line": {
          "color": "blue"
         },
         "marker": {
          "color": "blue",
          "size": 10
         },
         "mode": "lines+markers",
         "type": "scatter",
         "x": [
          5.5,
          5,
          5.5,
          5,
          5.5,
          5,
          5.5,
          5,
          5.5,
          5,
          5.5,
          5,
          5.5,
          5,
          5.5,
          5,
          5.5,
          5,
          5.5,
          5,
          5.5,
          5,
          5.5
         ],
         "y": [
          0.07028792520884576,
          0.06625534518736145,
          0.06321685739698028,
          0.059184277375495975,
          0.056145789585114805,
          0.0521132095636305,
          0.049074721773249334,
          0.045042141751765026,
          0.04200365396138386,
          0.03797107393989955,
          0.034932586149518385,
          0.030900006128034074,
          0.027861518337652907,
          0.0238289383161686,
          0.020790450525787433,
          0.01675787050430312,
          0.013719382713921958,
          0.009686802692437647,
          0.006648314902056484,
          0.0026157348805721722,
          -0.0004227529098089905,
          -0.004455332931293302,
          -0.0074938207216744684
         ]
        },
        {
         "hovertemplate": "%{y:.2%}<extra></extra>",
         "line": {
          "color": "blue"
         },
         "marker": {
          "color": "blue",
          "size": 10
         },
         "mode": "lines+markers",
         "type": "scatter",
         "x": [
          6,
          5.5,
          6,
          5.5,
          6,
          5.5,
          6,
          5.5,
          6,
          5.5,
          6,
          5.5,
          6,
          5.5,
          6,
          5.5,
          6,
          5.5,
          6,
          5.5,
          6,
          5.5,
          6,
          5.5,
          6
         ],
         "y": [
          0.07389532419617784,
          0.07028792520884576,
          0.06682425638431236,
          0.06321685739698028,
          0.05975318857244688,
          0.056145789585114805,
          0.05268212076058141,
          0.049074721773249334,
          0.04561105294871593,
          0.04200365396138386,
          0.03853998513685046,
          0.034932586149518385,
          0.03146891732498498,
          0.027861518337652907,
          0.024397849513119508,
          0.020790450525787433,
          0.017326781701254033,
          0.013719382713921958,
          0.010255713889388555,
          0.006648314902056484,
          0.003184646077523081,
          -0.0004227529098089905,
          -0.0038864217343423935,
          -0.0074938207216744684,
          -0.010957489546207871
         ]
        }
       ],
       "layout": {
        "showlegend": false,
        "template": {
         "data": {
          "bar": [
           {
            "error_x": {
             "color": "#2a3f5f"
            },
            "error_y": {
             "color": "#2a3f5f"
            },
            "marker": {
             "line": {
              "color": "white",
              "width": 0.5
             },
             "pattern": {
              "fillmode": "overlay",
              "size": 10,
              "solidity": 0.2
             }
            },
            "type": "bar"
           }
          ],
          "barpolar": [
           {
            "marker": {
             "line": {
              "color": "white",
              "width": 0.5
             },
             "pattern": {
              "fillmode": "overlay",
              "size": 10,
              "solidity": 0.2
             }
            },
            "type": "barpolar"
           }
          ],
          "carpet": [
           {
            "aaxis": {
             "endlinecolor": "#2a3f5f",
             "gridcolor": "#C8D4E3",
             "linecolor": "#C8D4E3",
             "minorgridcolor": "#C8D4E3",
             "startlinecolor": "#2a3f5f"
            },
            "baxis": {
             "endlinecolor": "#2a3f5f",
             "gridcolor": "#C8D4E3",
             "linecolor": "#C8D4E3",
             "minorgridcolor": "#C8D4E3",
             "startlinecolor": "#2a3f5f"
            },
            "type": "carpet"
           }
          ],
          "choropleth": [
           {
            "colorbar": {
             "outlinewidth": 0,
             "ticks": ""
            },
            "type": "choropleth"
           }
          ],
          "contour": [
           {
            "colorbar": {
             "outlinewidth": 0,
             "ticks": ""
            },
            "colorscale": [
             [
              0,
              "#0d0887"
             ],
             [
              0.1111111111111111,
              "#46039f"
             ],
             [
              0.2222222222222222,
              "#7201a8"
             ],
             [
              0.3333333333333333,
              "#9c179e"
             ],
             [
              0.4444444444444444,
              "#bd3786"
             ],
             [
              0.5555555555555556,
              "#d8576b"
             ],
             [
              0.6666666666666666,
              "#ed7953"
             ],
             [
              0.7777777777777778,
              "#fb9f3a"
             ],
             [
              0.8888888888888888,
              "#fdca26"
             ],
             [
              1,
              "#f0f921"
             ]
            ],
            "type": "contour"
           }
          ],
          "contourcarpet": [
           {
            "colorbar": {
             "outlinewidth": 0,
             "ticks": ""
            },
            "type": "contourcarpet"
           }
          ],
          "heatmap": [
           {
            "colorbar": {
             "outlinewidth": 0,
             "ticks": ""
            },
            "colorscale": [
             [
              0,
              "#0d0887"
             ],
             [
              0.1111111111111111,
              "#46039f"
             ],
             [
              0.2222222222222222,
              "#7201a8"
             ],
             [
              0.3333333333333333,
              "#9c179e"
             ],
             [
              0.4444444444444444,
              "#bd3786"
             ],
             [
              0.5555555555555556,
              "#d8576b"
             ],
             [
              0.6666666666666666,
              "#ed7953"
             ],
             [
              0.7777777777777778,
              "#fb9f3a"
             ],
             [
              0.8888888888888888,
              "#fdca26"
             ],
             [
              1,
              "#f0f921"
             ]
            ],
            "type": "heatmap"
           }
          ],
          "heatmapgl": [
           {
            "colorbar": {
             "outlinewidth": 0,
             "ticks": ""
            },
            "colorscale": [
             [
              0,
              "#0d0887"
             ],
             [
              0.1111111111111111,
              "#46039f"
             ],
             [
              0.2222222222222222,
              "#7201a8"
             ],
             [
              0.3333333333333333,
              "#9c179e"
             ],
             [
              0.4444444444444444,
              "#bd3786"
             ],
             [
              0.5555555555555556,
              "#d8576b"
             ],
             [
              0.6666666666666666,
              "#ed7953"
             ],
             [
              0.7777777777777778,
              "#fb9f3a"
             ],
             [
              0.8888888888888888,
              "#fdca26"
             ],
             [
              1,
              "#f0f921"
             ]
            ],
            "type": "heatmapgl"
           }
          ],
          "histogram": [
           {
            "marker": {
             "pattern": {
              "fillmode": "overlay",
              "size": 10,
              "solidity": 0.2
             }
            },
            "type": "histogram"
           }
          ],
          "histogram2d": [
           {
            "colorbar": {
             "outlinewidth": 0,
             "ticks": ""
            },
            "colorscale": [
             [
              0,
              "#0d0887"
             ],
             [
              0.1111111111111111,
              "#46039f"
             ],
             [
              0.2222222222222222,
              "#7201a8"
             ],
             [
              0.3333333333333333,
              "#9c179e"
             ],
             [
              0.4444444444444444,
              "#bd3786"
             ],
             [
              0.5555555555555556,
              "#d8576b"
             ],
             [
              0.6666666666666666,
              "#ed7953"
             ],
             [
              0.7777777777777778,
              "#fb9f3a"
             ],
             [
              0.8888888888888888,
              "#fdca26"
             ],
             [
              1,
              "#f0f921"
             ]
            ],
            "type": "histogram2d"
           }
          ],
          "histogram2dcontour": [
           {
            "colorbar": {
             "outlinewidth": 0,
             "ticks": ""
            },
            "colorscale": [
             [
              0,
              "#0d0887"
             ],
             [
              0.1111111111111111,
              "#46039f"
             ],
             [
              0.2222222222222222,
              "#7201a8"
             ],
             [
              0.3333333333333333,
              "#9c179e"
             ],
             [
              0.4444444444444444,
              "#bd3786"
             ],
             [
              0.5555555555555556,
              "#d8576b"
             ],
             [
              0.6666666666666666,
              "#ed7953"
             ],
             [
              0.7777777777777778,
              "#fb9f3a"
             ],
             [
              0.8888888888888888,
              "#fdca26"
             ],
             [
              1,
              "#f0f921"
             ]
            ],
            "type": "histogram2dcontour"
           }
          ],
          "mesh3d": [
           {
            "colorbar": {
             "outlinewidth": 0,
             "ticks": ""
            },
            "type": "mesh3d"
           }
          ],
          "parcoords": [
           {
            "line": {
             "colorbar": {
              "outlinewidth": 0,
              "ticks": ""
             }
            },
            "type": "parcoords"
           }
          ],
          "pie": [
           {
            "automargin": true,
            "type": "pie"
           }
          ],
          "scatter": [
           {
            "fillpattern": {
             "fillmode": "overlay",
             "size": 10,
             "solidity": 0.2
            },
            "type": "scatter"
           }
          ],
          "scatter3d": [
           {
            "line": {
             "colorbar": {
              "outlinewidth": 0,
              "ticks": ""
             }
            },
            "marker": {
             "colorbar": {
              "outlinewidth": 0,
              "ticks": ""
             }
            },
            "type": "scatter3d"
           }
          ],
          "scattercarpet": [
           {
            "marker": {
             "colorbar": {
              "outlinewidth": 0,
              "ticks": ""
             }
            },
            "type": "scattercarpet"
           }
          ],
          "scattergeo": [
           {
            "marker": {
             "colorbar": {
              "outlinewidth": 0,
              "ticks": ""
             }
            },
            "type": "scattergeo"
           }
          ],
          "scattergl": [
           {
            "marker": {
             "colorbar": {
              "outlinewidth": 0,
              "ticks": ""
             }
            },
            "type": "scattergl"
           }
          ],
          "scattermapbox": [
           {
            "marker": {
             "colorbar": {
              "outlinewidth": 0,
              "ticks": ""
             }
            },
            "type": "scattermapbox"
           }
          ],
          "scatterpolar": [
           {
            "marker": {
             "colorbar": {
              "outlinewidth": 0,
              "ticks": ""
             }
            },
            "type": "scatterpolar"
           }
          ],
          "scatterpolargl": [
           {
            "marker": {
             "colorbar": {
              "outlinewidth": 0,
              "ticks": ""
             }
            },
            "type": "scatterpolargl"
           }
          ],
          "scatterternary": [
           {
            "marker": {
             "colorbar": {
              "outlinewidth": 0,
              "ticks": ""
             }
            },
            "type": "scatterternary"
           }
          ],
          "surface": [
           {
            "colorbar": {
             "outlinewidth": 0,
             "ticks": ""
            },
            "colorscale": [
             [
              0,
              "#0d0887"
             ],
             [
              0.1111111111111111,
              "#46039f"
             ],
             [
              0.2222222222222222,
              "#7201a8"
             ],
             [
              0.3333333333333333,
              "#9c179e"
             ],
             [
              0.4444444444444444,
              "#bd3786"
             ],
             [
              0.5555555555555556,
              "#d8576b"
             ],
             [
              0.6666666666666666,
              "#ed7953"
             ],
             [
              0.7777777777777778,
              "#fb9f3a"
             ],
             [
              0.8888888888888888,
              "#fdca26"
             ],
             [
              1,
              "#f0f921"
             ]
            ],
            "type": "surface"
           }
          ],
          "table": [
           {
            "cells": {
             "fill": {
              "color": "#EBF0F8"
             },
             "line": {
              "color": "white"
             }
            },
            "header": {
             "fill": {
              "color": "#C8D4E3"
             },
             "line": {
              "color": "white"
             }
            },
            "type": "table"
           }
          ]
         },
         "layout": {
          "annotationdefaults": {
           "arrowcolor": "#2a3f5f",
           "arrowhead": 0,
           "arrowwidth": 1
          },
          "autotypenumbers": "strict",
          "coloraxis": {
           "colorbar": {
            "outlinewidth": 0,
            "ticks": ""
           }
          },
          "colorscale": {
           "diverging": [
            [
             0,
             "#8e0152"
            ],
            [
             0.1,
             "#c51b7d"
            ],
            [
             0.2,
             "#de77ae"
            ],
            [
             0.3,
             "#f1b6da"
            ],
            [
             0.4,
             "#fde0ef"
            ],
            [
             0.5,
             "#f7f7f7"
            ],
            [
             0.6,
             "#e6f5d0"
            ],
            [
             0.7,
             "#b8e186"
            ],
            [
             0.8,
             "#7fbc41"
            ],
            [
             0.9,
             "#4d9221"
            ],
            [
             1,
             "#276419"
            ]
           ],
           "sequential": [
            [
             0,
             "#0d0887"
            ],
            [
             0.1111111111111111,
             "#46039f"
            ],
            [
             0.2222222222222222,
             "#7201a8"
            ],
            [
             0.3333333333333333,
             "#9c179e"
            ],
            [
             0.4444444444444444,
             "#bd3786"
            ],
            [
             0.5555555555555556,
             "#d8576b"
            ],
            [
             0.6666666666666666,
             "#ed7953"
            ],
            [
             0.7777777777777778,
             "#fb9f3a"
            ],
            [
             0.8888888888888888,
             "#fdca26"
            ],
            [
             1,
             "#f0f921"
            ]
           ],
           "sequentialminus": [
            [
             0,
             "#0d0887"
            ],
            [
             0.1111111111111111,
             "#46039f"
            ],
            [
             0.2222222222222222,
             "#7201a8"
            ],
            [
             0.3333333333333333,
             "#9c179e"
            ],
            [
             0.4444444444444444,
             "#bd3786"
            ],
            [
             0.5555555555555556,
             "#d8576b"
            ],
            [
             0.6666666666666666,
             "#ed7953"
            ],
            [
             0.7777777777777778,
             "#fb9f3a"
            ],
            [
             0.8888888888888888,
             "#fdca26"
            ],
            [
             1,
             "#f0f921"
            ]
           ]
          },
          "colorway": [
           "#636efa",
           "#EF553B",
           "#00cc96",
           "#ab63fa",
           "#FFA15A",
           "#19d3f3",
           "#FF6692",
           "#B6E880",
           "#FF97FF",
           "#FECB52"
          ],
          "font": {
           "color": "#2a3f5f"
          },
          "geo": {
           "bgcolor": "white",
           "lakecolor": "white",
           "landcolor": "white",
           "showlakes": true,
           "showland": true,
           "subunitcolor": "#C8D4E3"
          },
          "hoverlabel": {
           "align": "left"
          },
          "hovermode": "closest",
          "mapbox": {
           "style": "light"
          },
          "paper_bgcolor": "white",
          "plot_bgcolor": "white",
          "polar": {
           "angularaxis": {
            "gridcolor": "#EBF0F8",
            "linecolor": "#EBF0F8",
            "ticks": ""
           },
           "bgcolor": "white",
           "radialaxis": {
            "gridcolor": "#EBF0F8",
            "linecolor": "#EBF0F8",
            "ticks": ""
           }
          },
          "scene": {
           "xaxis": {
            "backgroundcolor": "white",
            "gridcolor": "#DFE8F3",
            "gridwidth": 2,
            "linecolor": "#EBF0F8",
            "showbackground": true,
            "ticks": "",
            "zerolinecolor": "#EBF0F8"
           },
           "yaxis": {
            "backgroundcolor": "white",
            "gridcolor": "#DFE8F3",
            "gridwidth": 2,
            "linecolor": "#EBF0F8",
            "showbackground": true,
            "ticks": "",
            "zerolinecolor": "#EBF0F8"
           },
           "zaxis": {
            "backgroundcolor": "white",
            "gridcolor": "#DFE8F3",
            "gridwidth": 2,
            "linecolor": "#EBF0F8",
            "showbackground": true,
            "ticks": "",
            "zerolinecolor": "#EBF0F8"
           }
          },
          "shapedefaults": {
           "line": {
            "color": "#2a3f5f"
           }
          },
          "ternary": {
           "aaxis": {
            "gridcolor": "#DFE8F3",
            "linecolor": "#A2B1C6",
            "ticks": ""
           },
           "baxis": {
            "gridcolor": "#DFE8F3",
            "linecolor": "#A2B1C6",
            "ticks": ""
           },
           "bgcolor": "white",
           "caxis": {
            "gridcolor": "#DFE8F3",
            "linecolor": "#A2B1C6",
            "ticks": ""
           }
          },
          "title": {
           "x": 0.05
          },
          "xaxis": {
           "automargin": true,
           "gridcolor": "#EBF0F8",
           "linecolor": "#EBF0F8",
           "ticks": "",
           "title": {
            "standoff": 15
           },
           "zerolinecolor": "#EBF0F8",
           "zerolinewidth": 2
          },
          "yaxis": {
           "automargin": true,
           "gridcolor": "#EBF0F8",
           "linecolor": "#EBF0F8",
           "ticks": "",
           "title": {
            "standoff": 15
           },
           "zerolinecolor": "#EBF0F8",
           "zerolinewidth": 2
          }
         }
        },
        "xaxis": {
         "title": {
          "text": "Time (years)"
         }
        },
        "yaxis": {
         "tickformat": ".2%",
         "title": {
          "text": "Annualized Short Rate"
         }
        }
       }
      }
     },
     "metadata": {},
     "output_type": "display_data"
    }
   ],
   "source": [
    "figs[\"rate\"].show()"
   ]
  },
  {
   "cell_type": "markdown",
   "metadata": {},
   "source": [
    "# SHORT RATE PLUS OAS"
   ]
  },
  {
   "cell_type": "code",
   "execution_count": 19,
   "metadata": {},
   "outputs": [
    {
     "data": {
      "application/vnd.plotly.v1+json": {
       "config": {
        "plotlyServerURL": "https://plot.ly"
       },
       "data": [
        {
         "hovertemplate": "%{y:.2%}<extra></extra>",
         "line": {
          "color": "blue"
         },
         "marker": {
          "color": "blue",
          "size": 10
         },
         "mode": "lines+markers",
         "type": "scatter",
         "x": [
          0.5,
          0,
          0.5
         ],
         "y": [
          0.09465584229334767,
          0.08979948685300711,
          0.08758477448148219
         ]
        },
        {
         "hovertemplate": "%{y:.2%}<extra></extra>",
         "line": {
          "color": "blue"
         },
         "marker": {
          "color": "blue",
          "size": 10
         },
         "mode": "lines+markers",
         "type": "scatter",
         "x": [
          1,
          0.5,
          1,
          0.5,
          1
         ],
         "y": [
          0.1008235239743854,
          0.09465584229334767,
          0.09375245616251994,
          0.08758477448148219,
          0.08668138835065446
         ]
        },
        {
         "hovertemplate": "%{y:.2%}<extra></extra>",
         "line": {
          "color": "blue"
         },
         "marker": {
          "color": "blue",
          "size": 10
         },
         "mode": "lines+markers",
         "type": "scatter",
         "x": [
          1.5,
          1,
          1.5,
          1,
          1.5,
          1,
          1.5
         ],
         "y": [
          0.10696797738766259,
          0.1008235239743854,
          0.09989690957579711,
          0.09375245616251994,
          0.09282584176393163,
          0.08668138835065446,
          0.08575477395206615
         ]
        },
        {
         "hovertemplate": "%{y:.2%}<extra></extra>",
         "line": {
          "color": "blue"
         },
         "marker": {
          "color": "blue",
          "size": 10
         },
         "mode": "lines+markers",
         "type": "scatter",
         "x": [
          2,
          1.5,
          2,
          1.5,
          2,
          1.5,
          2,
          1.5,
          2
         ],
         "y": [
          0.1130886971029717,
          0.10696797738766259,
          0.10601762929110622,
          0.09989690957579711,
          0.09894656147924076,
          0.09282584176393163,
          0.09187549366737528,
          0.08575477395206615,
          0.0848044258555098
         ]
        },
        {
         "hovertemplate": "%{y:.2%}<extra></extra>",
         "line": {
          "color": "blue"
         },
         "marker": {
          "color": "blue",
          "size": 10
         },
         "mode": "lines+markers",
         "type": "scatter",
         "x": [
          2.5,
          2,
          2.5,
          2,
          2.5,
          2,
          2.5,
          2,
          2.5,
          2,
          2.5
         ],
         "y": [
          0.11822620959478318,
          0.1130886971029717,
          0.11115514178291772,
          0.10601762929110622,
          0.10408407397105224,
          0.09894656147924076,
          0.09701300615918676,
          0.09187549366737528,
          0.08994193834732128,
          0.0848044258555098,
          0.0828708705354558
         ]
        },
        {
         "hovertemplate": "%{y:.2%}<extra></extra>",
         "line": {
          "color": "blue"
         },
         "marker": {
          "color": "blue",
          "size": 10
         },
         "mode": "lines+markers",
         "type": "scatter",
         "x": [
          3,
          2.5,
          3,
          2.5,
          3,
          2.5,
          3,
          2.5,
          3,
          2.5,
          3,
          2.5,
          3
         ],
         "y": [
          0.12238970604286872,
          0.11822620959478318,
          0.11531863823100325,
          0.11115514178291772,
          0.10824757041913777,
          0.10408407397105224,
          0.1011765026072723,
          0.09701300615918676,
          0.09410543479540683,
          0.08994193834732128,
          0.08703436698354135,
          0.0828708705354558,
          0.07996329917167587
         ]
        },
        {
         "hovertemplate": "%{y:.2%}<extra></extra>",
         "line": {
          "color": "blue"
         },
         "marker": {
          "color": "blue",
          "size": 10
         },
         "mode": "lines+markers",
         "type": "scatter",
         "x": [
          3.5,
          3,
          3.5,
          3,
          3.5,
          3,
          3.5,
          3,
          3.5,
          3,
          3.5,
          3,
          3.5,
          3,
          3.5
         ],
         "y": [
          0.12639810926074724,
          0.12238970604286872,
          0.11932704144888177,
          0.11531863823100325,
          0.11225597363701631,
          0.10824757041913777,
          0.10518490582515083,
          0.1011765026072723,
          0.09811383801328535,
          0.09410543479540683,
          0.09104277020141988,
          0.08703436698354135,
          0.0839717023895544,
          0.07996329917167587,
          0.07690063457768892
         ]
        },
        {
         "hovertemplate": "%{y:.2%}<extra></extra>",
         "line": {
          "color": "blue"
         },
         "marker": {
          "color": "blue",
          "size": 10
         },
         "mode": "lines+markers",
         "type": "scatter",
         "x": [
          4,
          3.5,
          4,
          3.5,
          4,
          3.5,
          4,
          3.5,
          4,
          3.5,
          4,
          3.5,
          4,
          3.5,
          4,
          3.5,
          4
         ],
         "y": [
          0.13025251081195433,
          0.12639810926074724,
          0.12318144300008885,
          0.11932704144888177,
          0.11611037518822337,
          0.11225597363701631,
          0.10903930737635789,
          0.10518490582515083,
          0.10196823956449243,
          0.09811383801328535,
          0.09489717175262695,
          0.09104277020141988,
          0.08782610394076147,
          0.0839717023895544,
          0.080755036128896,
          0.07690063457768892,
          0.07368396831703053
         ]
        },
        {
         "hovertemplate": "%{y:.2%}<extra></extra>",
         "line": {
          "color": "blue"
         },
         "marker": {
          "color": "blue",
          "size": 10
         },
         "mode": "lines+markers",
         "type": "scatter",
         "x": [
          4.5,
          4,
          4.5,
          4,
          4.5,
          4,
          4.5,
          4,
          4.5,
          4,
          4.5,
          4,
          4.5,
          4,
          4.5,
          4,
          4.5,
          4,
          4.5
         ],
         "y": [
          0.1344121184272412,
          0.13025251081195433,
          0.1273410506153757,
          0.12318144300008885,
          0.12026998280351024,
          0.11611037518822337,
          0.11319891499164478,
          0.10903930737635789,
          0.1061278471797793,
          0.10196823956449243,
          0.09905677936791382,
          0.09489717175262695,
          0.09198571155604834,
          0.08782610394076147,
          0.08491464374418287,
          0.080755036128896,
          0.07784357593231739,
          0.07368396831703053,
          0.07077250812045192
         ]
        },
        {
         "hovertemplate": "%{y:.2%}<extra></extra>",
         "line": {
          "color": "blue"
         },
         "marker": {
          "color": "blue",
          "size": 10
         },
         "mode": "lines+markers",
         "type": "scatter",
         "x": [
          5,
          4.5,
          5,
          4.5,
          5,
          4.5,
          5,
          4.5,
          5,
          4.5,
          5,
          4.5,
          5,
          4.5,
          5,
          4.5,
          5,
          4.5,
          5,
          4.5,
          5
         ],
         "y": [
          0.13887435782965782,
          0.1344121184272412,
          0.13180329001779234,
          0.1273410506153757,
          0.12473222220592686,
          0.12026998280351024,
          0.11766115439406138,
          0.11319891499164478,
          0.1105900865821959,
          0.1061278471797793,
          0.10351901877033044,
          0.09905677936791382,
          0.09644795095846496,
          0.09198571155604834,
          0.08937688314659949,
          0.08491464374418287,
          0.08230581533473401,
          0.07784357593231739,
          0.07523474752286854,
          0.07077250812045192,
          0.06816367971100307
         ]
        },
        {
         "hovertemplate": "%{y:.2%}<extra></extra>",
         "line": {
          "color": "blue"
         },
         "marker": {
          "color": "blue",
          "size": 10
         },
         "mode": "lines+markers",
         "type": "scatter",
         "x": [
          5.5,
          5,
          5.5,
          5,
          5.5,
          5,
          5.5,
          5,
          5.5,
          5,
          5.5,
          5,
          5.5,
          5,
          5.5,
          5,
          5.5,
          5,
          5.5,
          5,
          5.5,
          5,
          5.5
         ],
         "y": [
          0.1429069378511421,
          0.13887435782965782,
          0.13583587003927666,
          0.13180329001779234,
          0.12876480222741116,
          0.12473222220592686,
          0.1216937344155457,
          0.11766115439406138,
          0.11462266660368023,
          0.1105900865821959,
          0.10755159879181475,
          0.10351901877033044,
          0.10048053097994927,
          0.09644795095846496,
          0.0934094631680838,
          0.08937688314659949,
          0.08633839535621832,
          0.08230581533473401,
          0.07926732754435285,
          0.07523474752286854,
          0.07219625973248738,
          0.06816367971100307,
          0.0651251919206219
         ]
        },
        {
         "hovertemplate": "%{y:.2%}<extra></extra>",
         "line": {
          "color": "blue"
         },
         "marker": {
          "color": "blue",
          "size": 10
         },
         "mode": "lines+markers",
         "type": "scatter",
         "x": [
          6,
          5.5,
          6,
          5.5,
          6,
          5.5,
          6,
          5.5,
          6,
          5.5,
          6,
          5.5,
          6,
          5.5,
          6,
          5.5,
          6,
          5.5,
          6,
          5.5,
          6,
          5.5,
          6,
          5.5,
          6
         ],
         "y": [
          0.1465143368384742,
          0.1429069378511421,
          0.13944326902660872,
          0.13583587003927666,
          0.13237220121474325,
          0.12876480222741116,
          0.12530113340287777,
          0.1216937344155457,
          0.11823006559101229,
          0.11462266660368023,
          0.11115899777914683,
          0.10755159879181475,
          0.10408792996728135,
          0.10048053097994927,
          0.09701686215541587,
          0.0934094631680838,
          0.0899457943435504,
          0.08633839535621832,
          0.08287472653168493,
          0.07926732754435285,
          0.07580365871981945,
          0.07219625973248738,
          0.06873259090795397,
          0.0651251919206219,
          0.061661523096088494
         ]
        }
       ],
       "layout": {
        "showlegend": false,
        "template": {
         "data": {
          "bar": [
           {
            "error_x": {
             "color": "#2a3f5f"
            },
            "error_y": {
             "color": "#2a3f5f"
            },
            "marker": {
             "line": {
              "color": "white",
              "width": 0.5
             },
             "pattern": {
              "fillmode": "overlay",
              "size": 10,
              "solidity": 0.2
             }
            },
            "type": "bar"
           }
          ],
          "barpolar": [
           {
            "marker": {
             "line": {
              "color": "white",
              "width": 0.5
             },
             "pattern": {
              "fillmode": "overlay",
              "size": 10,
              "solidity": 0.2
             }
            },
            "type": "barpolar"
           }
          ],
          "carpet": [
           {
            "aaxis": {
             "endlinecolor": "#2a3f5f",
             "gridcolor": "#C8D4E3",
             "linecolor": "#C8D4E3",
             "minorgridcolor": "#C8D4E3",
             "startlinecolor": "#2a3f5f"
            },
            "baxis": {
             "endlinecolor": "#2a3f5f",
             "gridcolor": "#C8D4E3",
             "linecolor": "#C8D4E3",
             "minorgridcolor": "#C8D4E3",
             "startlinecolor": "#2a3f5f"
            },
            "type": "carpet"
           }
          ],
          "choropleth": [
           {
            "colorbar": {
             "outlinewidth": 0,
             "ticks": ""
            },
            "type": "choropleth"
           }
          ],
          "contour": [
           {
            "colorbar": {
             "outlinewidth": 0,
             "ticks": ""
            },
            "colorscale": [
             [
              0,
              "#0d0887"
             ],
             [
              0.1111111111111111,
              "#46039f"
             ],
             [
              0.2222222222222222,
              "#7201a8"
             ],
             [
              0.3333333333333333,
              "#9c179e"
             ],
             [
              0.4444444444444444,
              "#bd3786"
             ],
             [
              0.5555555555555556,
              "#d8576b"
             ],
             [
              0.6666666666666666,
              "#ed7953"
             ],
             [
              0.7777777777777778,
              "#fb9f3a"
             ],
             [
              0.8888888888888888,
              "#fdca26"
             ],
             [
              1,
              "#f0f921"
             ]
            ],
            "type": "contour"
           }
          ],
          "contourcarpet": [
           {
            "colorbar": {
             "outlinewidth": 0,
             "ticks": ""
            },
            "type": "contourcarpet"
           }
          ],
          "heatmap": [
           {
            "colorbar": {
             "outlinewidth": 0,
             "ticks": ""
            },
            "colorscale": [
             [
              0,
              "#0d0887"
             ],
             [
              0.1111111111111111,
              "#46039f"
             ],
             [
              0.2222222222222222,
              "#7201a8"
             ],
             [
              0.3333333333333333,
              "#9c179e"
             ],
             [
              0.4444444444444444,
              "#bd3786"
             ],
             [
              0.5555555555555556,
              "#d8576b"
             ],
             [
              0.6666666666666666,
              "#ed7953"
             ],
             [
              0.7777777777777778,
              "#fb9f3a"
             ],
             [
              0.8888888888888888,
              "#fdca26"
             ],
             [
              1,
              "#f0f921"
             ]
            ],
            "type": "heatmap"
           }
          ],
          "heatmapgl": [
           {
            "colorbar": {
             "outlinewidth": 0,
             "ticks": ""
            },
            "colorscale": [
             [
              0,
              "#0d0887"
             ],
             [
              0.1111111111111111,
              "#46039f"
             ],
             [
              0.2222222222222222,
              "#7201a8"
             ],
             [
              0.3333333333333333,
              "#9c179e"
             ],
             [
              0.4444444444444444,
              "#bd3786"
             ],
             [
              0.5555555555555556,
              "#d8576b"
             ],
             [
              0.6666666666666666,
              "#ed7953"
             ],
             [
              0.7777777777777778,
              "#fb9f3a"
             ],
             [
              0.8888888888888888,
              "#fdca26"
             ],
             [
              1,
              "#f0f921"
             ]
            ],
            "type": "heatmapgl"
           }
          ],
          "histogram": [
           {
            "marker": {
             "pattern": {
              "fillmode": "overlay",
              "size": 10,
              "solidity": 0.2
             }
            },
            "type": "histogram"
           }
          ],
          "histogram2d": [
           {
            "colorbar": {
             "outlinewidth": 0,
             "ticks": ""
            },
            "colorscale": [
             [
              0,
              "#0d0887"
             ],
             [
              0.1111111111111111,
              "#46039f"
             ],
             [
              0.2222222222222222,
              "#7201a8"
             ],
             [
              0.3333333333333333,
              "#9c179e"
             ],
             [
              0.4444444444444444,
              "#bd3786"
             ],
             [
              0.5555555555555556,
              "#d8576b"
             ],
             [
              0.6666666666666666,
              "#ed7953"
             ],
             [
              0.7777777777777778,
              "#fb9f3a"
             ],
             [
              0.8888888888888888,
              "#fdca26"
             ],
             [
              1,
              "#f0f921"
             ]
            ],
            "type": "histogram2d"
           }
          ],
          "histogram2dcontour": [
           {
            "colorbar": {
             "outlinewidth": 0,
             "ticks": ""
            },
            "colorscale": [
             [
              0,
              "#0d0887"
             ],
             [
              0.1111111111111111,
              "#46039f"
             ],
             [
              0.2222222222222222,
              "#7201a8"
             ],
             [
              0.3333333333333333,
              "#9c179e"
             ],
             [
              0.4444444444444444,
              "#bd3786"
             ],
             [
              0.5555555555555556,
              "#d8576b"
             ],
             [
              0.6666666666666666,
              "#ed7953"
             ],
             [
              0.7777777777777778,
              "#fb9f3a"
             ],
             [
              0.8888888888888888,
              "#fdca26"
             ],
             [
              1,
              "#f0f921"
             ]
            ],
            "type": "histogram2dcontour"
           }
          ],
          "mesh3d": [
           {
            "colorbar": {
             "outlinewidth": 0,
             "ticks": ""
            },
            "type": "mesh3d"
           }
          ],
          "parcoords": [
           {
            "line": {
             "colorbar": {
              "outlinewidth": 0,
              "ticks": ""
             }
            },
            "type": "parcoords"
           }
          ],
          "pie": [
           {
            "automargin": true,
            "type": "pie"
           }
          ],
          "scatter": [
           {
            "fillpattern": {
             "fillmode": "overlay",
             "size": 10,
             "solidity": 0.2
            },
            "type": "scatter"
           }
          ],
          "scatter3d": [
           {
            "line": {
             "colorbar": {
              "outlinewidth": 0,
              "ticks": ""
             }
            },
            "marker": {
             "colorbar": {
              "outlinewidth": 0,
              "ticks": ""
             }
            },
            "type": "scatter3d"
           }
          ],
          "scattercarpet": [
           {
            "marker": {
             "colorbar": {
              "outlinewidth": 0,
              "ticks": ""
             }
            },
            "type": "scattercarpet"
           }
          ],
          "scattergeo": [
           {
            "marker": {
             "colorbar": {
              "outlinewidth": 0,
              "ticks": ""
             }
            },
            "type": "scattergeo"
           }
          ],
          "scattergl": [
           {
            "marker": {
             "colorbar": {
              "outlinewidth": 0,
              "ticks": ""
             }
            },
            "type": "scattergl"
           }
          ],
          "scattermapbox": [
           {
            "marker": {
             "colorbar": {
              "outlinewidth": 0,
              "ticks": ""
             }
            },
            "type": "scattermapbox"
           }
          ],
          "scatterpolar": [
           {
            "marker": {
             "colorbar": {
              "outlinewidth": 0,
              "ticks": ""
             }
            },
            "type": "scatterpolar"
           }
          ],
          "scatterpolargl": [
           {
            "marker": {
             "colorbar": {
              "outlinewidth": 0,
              "ticks": ""
             }
            },
            "type": "scatterpolargl"
           }
          ],
          "scatterternary": [
           {
            "marker": {
             "colorbar": {
              "outlinewidth": 0,
              "ticks": ""
             }
            },
            "type": "scatterternary"
           }
          ],
          "surface": [
           {
            "colorbar": {
             "outlinewidth": 0,
             "ticks": ""
            },
            "colorscale": [
             [
              0,
              "#0d0887"
             ],
             [
              0.1111111111111111,
              "#46039f"
             ],
             [
              0.2222222222222222,
              "#7201a8"
             ],
             [
              0.3333333333333333,
              "#9c179e"
             ],
             [
              0.4444444444444444,
              "#bd3786"
             ],
             [
              0.5555555555555556,
              "#d8576b"
             ],
             [
              0.6666666666666666,
              "#ed7953"
             ],
             [
              0.7777777777777778,
              "#fb9f3a"
             ],
             [
              0.8888888888888888,
              "#fdca26"
             ],
             [
              1,
              "#f0f921"
             ]
            ],
            "type": "surface"
           }
          ],
          "table": [
           {
            "cells": {
             "fill": {
              "color": "#EBF0F8"
             },
             "line": {
              "color": "white"
             }
            },
            "header": {
             "fill": {
              "color": "#C8D4E3"
             },
             "line": {
              "color": "white"
             }
            },
            "type": "table"
           }
          ]
         },
         "layout": {
          "annotationdefaults": {
           "arrowcolor": "#2a3f5f",
           "arrowhead": 0,
           "arrowwidth": 1
          },
          "autotypenumbers": "strict",
          "coloraxis": {
           "colorbar": {
            "outlinewidth": 0,
            "ticks": ""
           }
          },
          "colorscale": {
           "diverging": [
            [
             0,
             "#8e0152"
            ],
            [
             0.1,
             "#c51b7d"
            ],
            [
             0.2,
             "#de77ae"
            ],
            [
             0.3,
             "#f1b6da"
            ],
            [
             0.4,
             "#fde0ef"
            ],
            [
             0.5,
             "#f7f7f7"
            ],
            [
             0.6,
             "#e6f5d0"
            ],
            [
             0.7,
             "#b8e186"
            ],
            [
             0.8,
             "#7fbc41"
            ],
            [
             0.9,
             "#4d9221"
            ],
            [
             1,
             "#276419"
            ]
           ],
           "sequential": [
            [
             0,
             "#0d0887"
            ],
            [
             0.1111111111111111,
             "#46039f"
            ],
            [
             0.2222222222222222,
             "#7201a8"
            ],
            [
             0.3333333333333333,
             "#9c179e"
            ],
            [
             0.4444444444444444,
             "#bd3786"
            ],
            [
             0.5555555555555556,
             "#d8576b"
            ],
            [
             0.6666666666666666,
             "#ed7953"
            ],
            [
             0.7777777777777778,
             "#fb9f3a"
            ],
            [
             0.8888888888888888,
             "#fdca26"
            ],
            [
             1,
             "#f0f921"
            ]
           ],
           "sequentialminus": [
            [
             0,
             "#0d0887"
            ],
            [
             0.1111111111111111,
             "#46039f"
            ],
            [
             0.2222222222222222,
             "#7201a8"
            ],
            [
             0.3333333333333333,
             "#9c179e"
            ],
            [
             0.4444444444444444,
             "#bd3786"
            ],
            [
             0.5555555555555556,
             "#d8576b"
            ],
            [
             0.6666666666666666,
             "#ed7953"
            ],
            [
             0.7777777777777778,
             "#fb9f3a"
            ],
            [
             0.8888888888888888,
             "#fdca26"
            ],
            [
             1,
             "#f0f921"
            ]
           ]
          },
          "colorway": [
           "#636efa",
           "#EF553B",
           "#00cc96",
           "#ab63fa",
           "#FFA15A",
           "#19d3f3",
           "#FF6692",
           "#B6E880",
           "#FF97FF",
           "#FECB52"
          ],
          "font": {
           "color": "#2a3f5f"
          },
          "geo": {
           "bgcolor": "white",
           "lakecolor": "white",
           "landcolor": "white",
           "showlakes": true,
           "showland": true,
           "subunitcolor": "#C8D4E3"
          },
          "hoverlabel": {
           "align": "left"
          },
          "hovermode": "closest",
          "mapbox": {
           "style": "light"
          },
          "paper_bgcolor": "white",
          "plot_bgcolor": "white",
          "polar": {
           "angularaxis": {
            "gridcolor": "#EBF0F8",
            "linecolor": "#EBF0F8",
            "ticks": ""
           },
           "bgcolor": "white",
           "radialaxis": {
            "gridcolor": "#EBF0F8",
            "linecolor": "#EBF0F8",
            "ticks": ""
           }
          },
          "scene": {
           "xaxis": {
            "backgroundcolor": "white",
            "gridcolor": "#DFE8F3",
            "gridwidth": 2,
            "linecolor": "#EBF0F8",
            "showbackground": true,
            "ticks": "",
            "zerolinecolor": "#EBF0F8"
           },
           "yaxis": {
            "backgroundcolor": "white",
            "gridcolor": "#DFE8F3",
            "gridwidth": 2,
            "linecolor": "#EBF0F8",
            "showbackground": true,
            "ticks": "",
            "zerolinecolor": "#EBF0F8"
           },
           "zaxis": {
            "backgroundcolor": "white",
            "gridcolor": "#DFE8F3",
            "gridwidth": 2,
            "linecolor": "#EBF0F8",
            "showbackground": true,
            "ticks": "",
            "zerolinecolor": "#EBF0F8"
           }
          },
          "shapedefaults": {
           "line": {
            "color": "#2a3f5f"
           }
          },
          "ternary": {
           "aaxis": {
            "gridcolor": "#DFE8F3",
            "linecolor": "#A2B1C6",
            "ticks": ""
           },
           "baxis": {
            "gridcolor": "#DFE8F3",
            "linecolor": "#A2B1C6",
            "ticks": ""
           },
           "bgcolor": "white",
           "caxis": {
            "gridcolor": "#DFE8F3",
            "linecolor": "#A2B1C6",
            "ticks": ""
           }
          },
          "title": {
           "x": 0.05
          },
          "xaxis": {
           "automargin": true,
           "gridcolor": "#EBF0F8",
           "linecolor": "#EBF0F8",
           "ticks": "",
           "title": {
            "standoff": 15
           },
           "zerolinecolor": "#EBF0F8",
           "zerolinewidth": 2
          },
          "yaxis": {
           "automargin": true,
           "gridcolor": "#EBF0F8",
           "linecolor": "#EBF0F8",
           "ticks": "",
           "title": {
            "standoff": 15
           },
           "zerolinecolor": "#EBF0F8",
           "zerolinewidth": 2
          }
         }
        },
        "xaxis": {
         "title": {
          "text": "Time (years)"
         }
        },
        "yaxis": {
         "tickformat": ".2%",
         "title": {
          "text": "Short Rate + OAS"
         }
        }
       }
      }
     },
     "metadata": {},
     "output_type": "display_data"
    }
   ],
   "source": [
    "figs[\"oas\"].show()"
   ]
  },
  {
   "cell_type": "markdown",
   "metadata": {},
   "source": [
    "# BOND VALUE STRIPPED OF OPTION"
   ]
  },
  {
   "cell_type": "code",
   "execution_count": 20,
   "metadata": {},
   "outputs": [
    {
     "data": {
      "application/vnd.plotly.v1+json": {
       "config": {
        "plotlyServerURL": "https://plot.ly"
       },
       "data": [
        {
         "hovertemplate": "$%{y:,.2f}<extra></extra>",
         "line": {
          "color": "blue"
         },
         "marker": {
          "color": "blue",
          "size": 10
         },
         "mode": "lines+markers",
         "type": "scatter",
         "x": [
          0.5,
          0,
          0.5
         ],
         "y": [
          99.4056672060617,
          101.13073634130149,
          101.93729370505689
         ]
        },
        {
         "hovertemplate": "$%{y:,.2f}<extra></extra>",
         "line": {
          "color": "blue"
         },
         "marker": {
          "color": "blue",
          "size": 10
         },
         "mode": "lines+markers",
         "type": "scatter",
         "x": [
          1,
          0.5,
          1,
          0.5,
          1
         ],
         "y": [
          97.9811833218782,
          99.4056672060617,
          100.23947824836713,
          101.93729370505689,
          102.56326404215663
         ]
        },
        {
         "hovertemplate": "$%{y:,.2f}<extra></extra>",
         "line": {
          "color": "blue"
         },
         "marker": {
          "color": "blue",
          "size": 10
         },
         "mode": "lines+markers",
         "type": "scatter",
         "x": [
          1.5,
          1,
          1.5,
          1,
          1.5,
          1,
          1.5
         ],
         "y": [
          96.92461451865232,
          97.9811833218782,
          98.91656031079613,
          100.23947824836713,
          100.96009347617206,
          102.56326404215663,
          103.05676072909009
         ]
        },
        {
         "hovertemplate": "$%{y:,.2f}<extra></extra>",
         "line": {
          "color": "blue"
         },
         "marker": {
          "color": "blue",
          "size": 10
         },
         "mode": "lines+markers",
         "type": "scatter",
         "x": [
          2,
          1.5,
          2,
          1.5,
          2,
          1.5,
          2,
          1.5,
          2
         ],
         "y": [
          96.2439923194804,
          96.92461451865232,
          97.97306669196334,
          98.91656031079613,
          99.74151261054541,
          100.96009347617206,
          101.55038000328965,
          103.05676072909009,
          103.4007506754458
         ]
        },
        {
         "hovertemplate": "$%{y:,.2f}<extra></extra>",
         "line": {
          "color": "blue"
         },
         "marker": {
          "color": "blue",
          "size": 10
         },
         "mode": "lines+markers",
         "type": "scatter",
         "x": [
          2.5,
          2,
          2.5,
          2,
          2.5,
          2,
          2.5,
          2,
          2.5,
          2,
          2.5
         ],
         "y": [
          95.95300714577701,
          96.2439923194804,
          97.41908518858226,
          97.97306669196334,
          98.91392046040582,
          99.74151261054541,
          100.43818447023679,
          101.55038000328965,
          101.9925668312543,
          103.4007506754458,
          103.57777581369719
         ]
        },
        {
         "hovertemplate": "$%{y:,.2f}<extra></extra>",
         "line": {
          "color": "blue"
         },
         "marker": {
          "color": "blue",
          "size": 10
         },
         "mode": "lines+markers",
         "type": "scatter",
         "x": [
          3,
          2.5,
          3,
          2.5,
          3,
          2.5,
          3,
          2.5,
          3,
          2.5,
          3,
          2.5,
          3
         ],
         "y": [
          96.02585278529023,
          95.95300714577701,
          97.22432184033018,
          97.41908518858226,
          98.44248076333331,
          98.91392046040582,
          99.680723971446,
          100.43818447023679,
          100.93945517765624,
          101.9925668312543,
          102.21908764267405,
          103.57777581369719,
          103.52004443452769
         ]
        },
        {
         "hovertemplate": "$%{y:,.2f}<extra></extra>",
         "line": {
          "color": "blue"
         },
         "marker": {
          "color": "blue",
          "size": 10
         },
         "mode": "lines+markers",
         "type": "scatter",
         "x": [
          3.5,
          3,
          3.5,
          3,
          3.5,
          3,
          3.5,
          3,
          3.5,
          3,
          3.5,
          3,
          3.5,
          3,
          3.5
         ],
         "y": [
          96.44115092085029,
          96.02585278529023,
          97.36313054463763,
          97.22432184033018,
          98.2972895335824,
          98.44248076333331,
          99.24383136174777,
          99.680723971446,
          100.20296360993605,
          100.93945517765624,
          101.17489806288125,
          102.21908764267405,
          102.1598508090821,
          103.52004443452769,
          103.15804234335658
         ]
        },
        {
         "hovertemplate": "$%{y:,.2f}<extra></extra>",
         "line": {
          "color": "blue"
         },
         "marker": {
          "color": "blue",
          "size": 10
         },
         "mode": "lines+markers",
         "type": "scatter",
         "x": [
          4,
          3.5,
          4,
          3.5,
          4,
          3.5,
          4,
          3.5,
          4,
          3.5,
          4,
          3.5,
          4,
          3.5,
          4,
          3.5,
          4
         ],
         "y": [
          97.21970724023922,
          96.44115092085029,
          97.85257373278718,
          97.36313054463763,
          98.49174167058095,
          98.2972895335824,
          99.1372953390558,
          99.24383136174777,
          99.78932043995233,
          100.20296360993605,
          100.44790411999618,
          101.17489806288125,
          101.1131350002573,
          102.1598508090821,
          101.78510320620845,
          103.15804234335658,
          102.46390039850093
         ]
        },
        {
         "hovertemplate": "$%{y:,.2f}<extra></extra>",
         "line": {
          "color": "blue"
         },
         "marker": {
          "color": "blue",
          "size": 10
         },
         "mode": "lines+markers",
         "type": "scatter",
         "x": [
          4.5,
          4,
          4.5,
          4,
          4.5,
          4,
          4.5,
          4,
          4.5,
          4,
          4.5,
          4,
          4.5,
          4,
          4.5,
          4,
          4.5,
          4,
          4.5
         ],
         "y": [
          98.38774723352874,
          97.21970724023922,
          98.71477821539396,
          97.85257373278718,
          99.04399048385771,
          98.49174167058095,
          99.37540593561695,
          99.1372953390558,
          99.7090467614307,
          99.78932043995233,
          100.04493545107294,
          100.44790411999618,
          100.3830947983861,
          101.1131350002573,
          100.72354790643737,
          101.78510320620845,
          101.06631819278027,
          102.46390039850093,
          101.4114293948241
         ]
        },
        {
         "hovertemplate": "$%{y:,.2f}<extra></extra>",
         "line": {
          "color": "blue"
         },
         "marker": {
          "color": "blue",
          "size": 10
         },
         "mode": "lines+markers",
         "type": "scatter",
         "x": [
          5,
          4.5,
          5,
          4.5,
          5,
          4.5,
          5,
          4.5,
          5,
          4.5,
          5,
          4.5,
          5,
          4.5,
          5,
          4.5,
          5,
          4.5,
          5,
          4.5,
          5
         ],
         "y": [
          100,
          98.38774723352874,
          100,
          98.71477821539396,
          100,
          99.04399048385771,
          100,
          99.37540593561695,
          100,
          99.7090467614307,
          100,
          100.04493545107294,
          100,
          100.3830947983861,
          100,
          100.72354790643737,
          100,
          101.06631819278027,
          100,
          101.4114293948241,
          100
         ]
        }
       ],
       "layout": {
        "showlegend": false,
        "template": {
         "data": {
          "bar": [
           {
            "error_x": {
             "color": "#2a3f5f"
            },
            "error_y": {
             "color": "#2a3f5f"
            },
            "marker": {
             "line": {
              "color": "white",
              "width": 0.5
             },
             "pattern": {
              "fillmode": "overlay",
              "size": 10,
              "solidity": 0.2
             }
            },
            "type": "bar"
           }
          ],
          "barpolar": [
           {
            "marker": {
             "line": {
              "color": "white",
              "width": 0.5
             },
             "pattern": {
              "fillmode": "overlay",
              "size": 10,
              "solidity": 0.2
             }
            },
            "type": "barpolar"
           }
          ],
          "carpet": [
           {
            "aaxis": {
             "endlinecolor": "#2a3f5f",
             "gridcolor": "#C8D4E3",
             "linecolor": "#C8D4E3",
             "minorgridcolor": "#C8D4E3",
             "startlinecolor": "#2a3f5f"
            },
            "baxis": {
             "endlinecolor": "#2a3f5f",
             "gridcolor": "#C8D4E3",
             "linecolor": "#C8D4E3",
             "minorgridcolor": "#C8D4E3",
             "startlinecolor": "#2a3f5f"
            },
            "type": "carpet"
           }
          ],
          "choropleth": [
           {
            "colorbar": {
             "outlinewidth": 0,
             "ticks": ""
            },
            "type": "choropleth"
           }
          ],
          "contour": [
           {
            "colorbar": {
             "outlinewidth": 0,
             "ticks": ""
            },
            "colorscale": [
             [
              0,
              "#0d0887"
             ],
             [
              0.1111111111111111,
              "#46039f"
             ],
             [
              0.2222222222222222,
              "#7201a8"
             ],
             [
              0.3333333333333333,
              "#9c179e"
             ],
             [
              0.4444444444444444,
              "#bd3786"
             ],
             [
              0.5555555555555556,
              "#d8576b"
             ],
             [
              0.6666666666666666,
              "#ed7953"
             ],
             [
              0.7777777777777778,
              "#fb9f3a"
             ],
             [
              0.8888888888888888,
              "#fdca26"
             ],
             [
              1,
              "#f0f921"
             ]
            ],
            "type": "contour"
           }
          ],
          "contourcarpet": [
           {
            "colorbar": {
             "outlinewidth": 0,
             "ticks": ""
            },
            "type": "contourcarpet"
           }
          ],
          "heatmap": [
           {
            "colorbar": {
             "outlinewidth": 0,
             "ticks": ""
            },
            "colorscale": [
             [
              0,
              "#0d0887"
             ],
             [
              0.1111111111111111,
              "#46039f"
             ],
             [
              0.2222222222222222,
              "#7201a8"
             ],
             [
              0.3333333333333333,
              "#9c179e"
             ],
             [
              0.4444444444444444,
              "#bd3786"
             ],
             [
              0.5555555555555556,
              "#d8576b"
             ],
             [
              0.6666666666666666,
              "#ed7953"
             ],
             [
              0.7777777777777778,
              "#fb9f3a"
             ],
             [
              0.8888888888888888,
              "#fdca26"
             ],
             [
              1,
              "#f0f921"
             ]
            ],
            "type": "heatmap"
           }
          ],
          "heatmapgl": [
           {
            "colorbar": {
             "outlinewidth": 0,
             "ticks": ""
            },
            "colorscale": [
             [
              0,
              "#0d0887"
             ],
             [
              0.1111111111111111,
              "#46039f"
             ],
             [
              0.2222222222222222,
              "#7201a8"
             ],
             [
              0.3333333333333333,
              "#9c179e"
             ],
             [
              0.4444444444444444,
              "#bd3786"
             ],
             [
              0.5555555555555556,
              "#d8576b"
             ],
             [
              0.6666666666666666,
              "#ed7953"
             ],
             [
              0.7777777777777778,
              "#fb9f3a"
             ],
             [
              0.8888888888888888,
              "#fdca26"
             ],
             [
              1,
              "#f0f921"
             ]
            ],
            "type": "heatmapgl"
           }
          ],
          "histogram": [
           {
            "marker": {
             "pattern": {
              "fillmode": "overlay",
              "size": 10,
              "solidity": 0.2
             }
            },
            "type": "histogram"
           }
          ],
          "histogram2d": [
           {
            "colorbar": {
             "outlinewidth": 0,
             "ticks": ""
            },
            "colorscale": [
             [
              0,
              "#0d0887"
             ],
             [
              0.1111111111111111,
              "#46039f"
             ],
             [
              0.2222222222222222,
              "#7201a8"
             ],
             [
              0.3333333333333333,
              "#9c179e"
             ],
             [
              0.4444444444444444,
              "#bd3786"
             ],
             [
              0.5555555555555556,
              "#d8576b"
             ],
             [
              0.6666666666666666,
              "#ed7953"
             ],
             [
              0.7777777777777778,
              "#fb9f3a"
             ],
             [
              0.8888888888888888,
              "#fdca26"
             ],
             [
              1,
              "#f0f921"
             ]
            ],
            "type": "histogram2d"
           }
          ],
          "histogram2dcontour": [
           {
            "colorbar": {
             "outlinewidth": 0,
             "ticks": ""
            },
            "colorscale": [
             [
              0,
              "#0d0887"
             ],
             [
              0.1111111111111111,
              "#46039f"
             ],
             [
              0.2222222222222222,
              "#7201a8"
             ],
             [
              0.3333333333333333,
              "#9c179e"
             ],
             [
              0.4444444444444444,
              "#bd3786"
             ],
             [
              0.5555555555555556,
              "#d8576b"
             ],
             [
              0.6666666666666666,
              "#ed7953"
             ],
             [
              0.7777777777777778,
              "#fb9f3a"
             ],
             [
              0.8888888888888888,
              "#fdca26"
             ],
             [
              1,
              "#f0f921"
             ]
            ],
            "type": "histogram2dcontour"
           }
          ],
          "mesh3d": [
           {
            "colorbar": {
             "outlinewidth": 0,
             "ticks": ""
            },
            "type": "mesh3d"
           }
          ],
          "parcoords": [
           {
            "line": {
             "colorbar": {
              "outlinewidth": 0,
              "ticks": ""
             }
            },
            "type": "parcoords"
           }
          ],
          "pie": [
           {
            "automargin": true,
            "type": "pie"
           }
          ],
          "scatter": [
           {
            "fillpattern": {
             "fillmode": "overlay",
             "size": 10,
             "solidity": 0.2
            },
            "type": "scatter"
           }
          ],
          "scatter3d": [
           {
            "line": {
             "colorbar": {
              "outlinewidth": 0,
              "ticks": ""
             }
            },
            "marker": {
             "colorbar": {
              "outlinewidth": 0,
              "ticks": ""
             }
            },
            "type": "scatter3d"
           }
          ],
          "scattercarpet": [
           {
            "marker": {
             "colorbar": {
              "outlinewidth": 0,
              "ticks": ""
             }
            },
            "type": "scattercarpet"
           }
          ],
          "scattergeo": [
           {
            "marker": {
             "colorbar": {
              "outlinewidth": 0,
              "ticks": ""
             }
            },
            "type": "scattergeo"
           }
          ],
          "scattergl": [
           {
            "marker": {
             "colorbar": {
              "outlinewidth": 0,
              "ticks": ""
             }
            },
            "type": "scattergl"
           }
          ],
          "scattermapbox": [
           {
            "marker": {
             "colorbar": {
              "outlinewidth": 0,
              "ticks": ""
             }
            },
            "type": "scattermapbox"
           }
          ],
          "scatterpolar": [
           {
            "marker": {
             "colorbar": {
              "outlinewidth": 0,
              "ticks": ""
             }
            },
            "type": "scatterpolar"
           }
          ],
          "scatterpolargl": [
           {
            "marker": {
             "colorbar": {
              "outlinewidth": 0,
              "ticks": ""
             }
            },
            "type": "scatterpolargl"
           }
          ],
          "scatterternary": [
           {
            "marker": {
             "colorbar": {
              "outlinewidth": 0,
              "ticks": ""
             }
            },
            "type": "scatterternary"
           }
          ],
          "surface": [
           {
            "colorbar": {
             "outlinewidth": 0,
             "ticks": ""
            },
            "colorscale": [
             [
              0,
              "#0d0887"
             ],
             [
              0.1111111111111111,
              "#46039f"
             ],
             [
              0.2222222222222222,
              "#7201a8"
             ],
             [
              0.3333333333333333,
              "#9c179e"
             ],
             [
              0.4444444444444444,
              "#bd3786"
             ],
             [
              0.5555555555555556,
              "#d8576b"
             ],
             [
              0.6666666666666666,
              "#ed7953"
             ],
             [
              0.7777777777777778,
              "#fb9f3a"
             ],
             [
              0.8888888888888888,
              "#fdca26"
             ],
             [
              1,
              "#f0f921"
             ]
            ],
            "type": "surface"
           }
          ],
          "table": [
           {
            "cells": {
             "fill": {
              "color": "#EBF0F8"
             },
             "line": {
              "color": "white"
             }
            },
            "header": {
             "fill": {
              "color": "#C8D4E3"
             },
             "line": {
              "color": "white"
             }
            },
            "type": "table"
           }
          ]
         },
         "layout": {
          "annotationdefaults": {
           "arrowcolor": "#2a3f5f",
           "arrowhead": 0,
           "arrowwidth": 1
          },
          "autotypenumbers": "strict",
          "coloraxis": {
           "colorbar": {
            "outlinewidth": 0,
            "ticks": ""
           }
          },
          "colorscale": {
           "diverging": [
            [
             0,
             "#8e0152"
            ],
            [
             0.1,
             "#c51b7d"
            ],
            [
             0.2,
             "#de77ae"
            ],
            [
             0.3,
             "#f1b6da"
            ],
            [
             0.4,
             "#fde0ef"
            ],
            [
             0.5,
             "#f7f7f7"
            ],
            [
             0.6,
             "#e6f5d0"
            ],
            [
             0.7,
             "#b8e186"
            ],
            [
             0.8,
             "#7fbc41"
            ],
            [
             0.9,
             "#4d9221"
            ],
            [
             1,
             "#276419"
            ]
           ],
           "sequential": [
            [
             0,
             "#0d0887"
            ],
            [
             0.1111111111111111,
             "#46039f"
            ],
            [
             0.2222222222222222,
             "#7201a8"
            ],
            [
             0.3333333333333333,
             "#9c179e"
            ],
            [
             0.4444444444444444,
             "#bd3786"
            ],
            [
             0.5555555555555556,
             "#d8576b"
            ],
            [
             0.6666666666666666,
             "#ed7953"
            ],
            [
             0.7777777777777778,
             "#fb9f3a"
            ],
            [
             0.8888888888888888,
             "#fdca26"
            ],
            [
             1,
             "#f0f921"
            ]
           ],
           "sequentialminus": [
            [
             0,
             "#0d0887"
            ],
            [
             0.1111111111111111,
             "#46039f"
            ],
            [
             0.2222222222222222,
             "#7201a8"
            ],
            [
             0.3333333333333333,
             "#9c179e"
            ],
            [
             0.4444444444444444,
             "#bd3786"
            ],
            [
             0.5555555555555556,
             "#d8576b"
            ],
            [
             0.6666666666666666,
             "#ed7953"
            ],
            [
             0.7777777777777778,
             "#fb9f3a"
            ],
            [
             0.8888888888888888,
             "#fdca26"
            ],
            [
             1,
             "#f0f921"
            ]
           ]
          },
          "colorway": [
           "#636efa",
           "#EF553B",
           "#00cc96",
           "#ab63fa",
           "#FFA15A",
           "#19d3f3",
           "#FF6692",
           "#B6E880",
           "#FF97FF",
           "#FECB52"
          ],
          "font": {
           "color": "#2a3f5f"
          },
          "geo": {
           "bgcolor": "white",
           "lakecolor": "white",
           "landcolor": "white",
           "showlakes": true,
           "showland": true,
           "subunitcolor": "#C8D4E3"
          },
          "hoverlabel": {
           "align": "left"
          },
          "hovermode": "closest",
          "mapbox": {
           "style": "light"
          },
          "paper_bgcolor": "white",
          "plot_bgcolor": "white",
          "polar": {
           "angularaxis": {
            "gridcolor": "#EBF0F8",
            "linecolor": "#EBF0F8",
            "ticks": ""
           },
           "bgcolor": "white",
           "radialaxis": {
            "gridcolor": "#EBF0F8",
            "linecolor": "#EBF0F8",
            "ticks": ""
           }
          },
          "scene": {
           "xaxis": {
            "backgroundcolor": "white",
            "gridcolor": "#DFE8F3",
            "gridwidth": 2,
            "linecolor": "#EBF0F8",
            "showbackground": true,
            "ticks": "",
            "zerolinecolor": "#EBF0F8"
           },
           "yaxis": {
            "backgroundcolor": "white",
            "gridcolor": "#DFE8F3",
            "gridwidth": 2,
            "linecolor": "#EBF0F8",
            "showbackground": true,
            "ticks": "",
            "zerolinecolor": "#EBF0F8"
           },
           "zaxis": {
            "backgroundcolor": "white",
            "gridcolor": "#DFE8F3",
            "gridwidth": 2,
            "linecolor": "#EBF0F8",
            "showbackground": true,
            "ticks": "",
            "zerolinecolor": "#EBF0F8"
           }
          },
          "shapedefaults": {
           "line": {
            "color": "#2a3f5f"
           }
          },
          "ternary": {
           "aaxis": {
            "gridcolor": "#DFE8F3",
            "linecolor": "#A2B1C6",
            "ticks": ""
           },
           "baxis": {
            "gridcolor": "#DFE8F3",
            "linecolor": "#A2B1C6",
            "ticks": ""
           },
           "bgcolor": "white",
           "caxis": {
            "gridcolor": "#DFE8F3",
            "linecolor": "#A2B1C6",
            "ticks": ""
           }
          },
          "title": {
           "x": 0.05
          },
          "xaxis": {
           "automargin": true,
           "gridcolor": "#EBF0F8",
           "linecolor": "#EBF0F8",
           "ticks": "",
           "title": {
            "standoff": 15
           },
           "zerolinecolor": "#EBF0F8",
           "zerolinewidth": 2
          },
          "yaxis": {
           "automargin": true,
           "gridcolor": "#EBF0F8",
           "linecolor": "#EBF0F8",
           "ticks": "",
           "title": {
            "standoff": 15
           },
           "zerolinecolor": "#EBF0F8",
           "zerolinewidth": 2
          }
         }
        },
        "xaxis": {
         "title": {
          "text": "Time (years)"
         }
        },
        "yaxis": {
         "autorange": "reversed",
         "tickformat": ".0f",
         "tickprefix": "$",
         "title": {
          "text": "Bond w/o Option"
         }
        }
       }
      }
     },
     "metadata": {},
     "output_type": "display_data"
    }
   ],
   "source": [
    "figs[\"stripped\"].show()"
   ]
  },
  {
   "cell_type": "markdown",
   "metadata": {},
   "source": [
    "# BOND VALUE"
   ]
  },
  {
   "cell_type": "code",
   "execution_count": 21,
   "metadata": {},
   "outputs": [
    {
     "data": {
      "application/vnd.plotly.v1+json": {
       "config": {
        "plotlyServerURL": "https://plot.ly"
       },
       "data": [
        {
         "hovertemplate": "$%{y:,.2f}<extra></extra>",
         "line": {
          "color": "blue"
         },
         "marker": {
          "color": "blue",
          "size": 10
         },
         "mode": "lines+markers",
         "type": "scatter",
         "x": [
          0.5,
          0,
          0.5
         ],
         "y": [
          100.7587691775049,
          101.99999999999994,
          102.40077848150169
         ]
        },
        {
         "hovertemplate": "$%{y:,.2f}<extra></extra>",
         "line": {
          "color": "blue"
         },
         "marker": {
          "color": "blue",
          "size": 10
         },
         "mode": "lines+markers",
         "type": "scatter",
         "x": [
          1,
          0.5,
          1,
          0.5,
          1
         ],
         "y": [
          100.04530064857897,
          100.7587691775049,
          101.00964387136852,
          102.40077848150169,
          102.7606621816654
         ]
        },
        {
         "hovertemplate": "$%{y:,.2f}<extra></extra>",
         "line": {
          "color": "blue"
         },
         "marker": {
          "color": "blue",
          "size": 10
         },
         "mode": "lines+markers",
         "type": "scatter",
         "x": [
          1.5,
          1,
          1.5,
          1,
          1.5,
          1,
          1.5
         ],
         "y": [
          100,
          100.04530064857897,
          100.17752106562455,
          101.00964387136852,
          101.31166888615475,
          102.7606621816654,
          103.11709234291537
         ]
        },
        {
         "hovertemplate": "$%{y:,.2f}<extra></extra>",
         "line": {
          "color": "blue"
         },
         "marker": {
          "color": "blue",
          "size": 10
         },
         "mode": "lines+markers",
         "type": "scatter",
         "x": [
          2,
          1.5,
          2,
          1.5,
          2,
          1.5,
          2,
          1.5,
          2
         ],
         "y": [
          100,
          100,
          100,
          100.17752106562455,
          100.3624668946693,
          101.31166888615475,
          101.66521182250624,
          103.11709234291537,
          103.41175580778553
         ]
        },
        {
         "hovertemplate": "$%{y:,.2f}<extra></extra>",
         "line": {
          "color": "blue"
         },
         "marker": {
          "color": "blue",
          "size": 10
         },
         "mode": "lines+markers",
         "type": "scatter",
         "x": [
          2.5,
          2,
          2.5,
          2,
          2.5,
          2,
          2.5,
          2,
          2.5,
          2,
          2.5
         ],
         "y": [
          100,
          100,
          100,
          100,
          100,
          100.3624668946693,
          100.65545479014024,
          101.66521182250624,
          102.01551037986327,
          103.41175580778553,
          103.57777581369719
         ]
        },
        {
         "hovertemplate": "$%{y:,.2f}<extra></extra>",
         "line": {
          "color": "blue"
         },
         "marker": {
          "color": "blue",
          "size": 10
         },
         "mode": "lines+markers",
         "type": "scatter",
         "x": [
          3,
          2.5,
          3,
          2.5,
          3,
          2.5,
          3,
          2.5,
          3,
          2.5,
          3,
          2.5,
          3
         ],
         "y": [
          100,
          100,
          100,
          100,
          100,
          100,
          100,
          100.65545479014024,
          100.98740586210866,
          102.01551037986327,
          102.21908764267405,
          103.57777581369719,
          103.52004443452769
         ]
        },
        {
         "hovertemplate": "$%{y:,.2f}<extra></extra>",
         "line": {
          "color": "blue"
         },
         "marker": {
          "color": "blue",
          "size": 10
         },
         "mode": "lines+markers",
         "type": "scatter",
         "x": [
          3.5,
          3,
          3.5,
          3,
          3.5,
          3,
          3.5,
          3,
          3.5,
          3,
          3.5,
          3,
          3.5,
          3,
          3.5
         ],
         "y": [
          100,
          100,
          100,
          100,
          100,
          100,
          100,
          100,
          100,
          100.98740586210866,
          101.17489806288125,
          102.21908764267405,
          102.1598508090821,
          103.52004443452769,
          103.15804234335658
         ]
        },
        {
         "hovertemplate": "$%{y:,.2f}<extra></extra>",
         "line": {
          "color": "blue"
         },
         "marker": {
          "color": "blue",
          "size": 10
         },
         "mode": "lines+markers",
         "type": "scatter",
         "x": [
          4,
          3.5,
          4,
          3.5,
          4,
          3.5,
          4,
          3.5,
          4,
          3.5,
          4,
          3.5,
          4,
          3.5,
          4,
          3.5,
          4
         ],
         "y": [
          100,
          100,
          100,
          100,
          100,
          100,
          100,
          100,
          100,
          100,
          100,
          101.17489806288125,
          101.1131350002573,
          102.1598508090821,
          101.78510320620845,
          103.15804234335658,
          102.46390039850093
         ]
        },
        {
         "hovertemplate": "$%{y:,.2f}<extra></extra>",
         "line": {
          "color": "blue"
         },
         "marker": {
          "color": "blue",
          "size": 10
         },
         "mode": "lines+markers",
         "type": "scatter",
         "x": [
          4.5,
          4,
          4.5,
          4,
          4.5,
          4,
          4.5,
          4,
          4.5,
          4,
          4.5,
          4,
          4.5,
          4,
          4.5,
          4,
          4.5,
          4,
          4.5
         ],
         "y": [
          100,
          100,
          100,
          100,
          100,
          100,
          100,
          100,
          100,
          100,
          100,
          100,
          100,
          101.1131350002573,
          100.72354790643737,
          101.78510320620845,
          101.06631819278027,
          102.46390039850093,
          101.4114293948241
         ]
        },
        {
         "hovertemplate": "$%{y:,.2f}<extra></extra>",
         "line": {
          "color": "blue"
         },
         "marker": {
          "color": "blue",
          "size": 10
         },
         "mode": "lines+markers",
         "type": "scatter",
         "x": [
          5,
          4.5,
          5,
          4.5,
          5,
          4.5,
          5,
          4.5,
          5,
          4.5,
          5,
          4.5,
          5,
          4.5,
          5,
          4.5,
          5,
          4.5,
          5,
          4.5,
          5
         ],
         "y": [
          100,
          100,
          100,
          100,
          100,
          100,
          100,
          100,
          100,
          100,
          100,
          100,
          100,
          100,
          100,
          100.72354790643737,
          100,
          101.06631819278027,
          100,
          101.4114293948241,
          100
         ]
        }
       ],
       "layout": {
        "showlegend": false,
        "template": {
         "data": {
          "bar": [
           {
            "error_x": {
             "color": "#2a3f5f"
            },
            "error_y": {
             "color": "#2a3f5f"
            },
            "marker": {
             "line": {
              "color": "white",
              "width": 0.5
             },
             "pattern": {
              "fillmode": "overlay",
              "size": 10,
              "solidity": 0.2
             }
            },
            "type": "bar"
           }
          ],
          "barpolar": [
           {
            "marker": {
             "line": {
              "color": "white",
              "width": 0.5
             },
             "pattern": {
              "fillmode": "overlay",
              "size": 10,
              "solidity": 0.2
             }
            },
            "type": "barpolar"
           }
          ],
          "carpet": [
           {
            "aaxis": {
             "endlinecolor": "#2a3f5f",
             "gridcolor": "#C8D4E3",
             "linecolor": "#C8D4E3",
             "minorgridcolor": "#C8D4E3",
             "startlinecolor": "#2a3f5f"
            },
            "baxis": {
             "endlinecolor": "#2a3f5f",
             "gridcolor": "#C8D4E3",
             "linecolor": "#C8D4E3",
             "minorgridcolor": "#C8D4E3",
             "startlinecolor": "#2a3f5f"
            },
            "type": "carpet"
           }
          ],
          "choropleth": [
           {
            "colorbar": {
             "outlinewidth": 0,
             "ticks": ""
            },
            "type": "choropleth"
           }
          ],
          "contour": [
           {
            "colorbar": {
             "outlinewidth": 0,
             "ticks": ""
            },
            "colorscale": [
             [
              0,
              "#0d0887"
             ],
             [
              0.1111111111111111,
              "#46039f"
             ],
             [
              0.2222222222222222,
              "#7201a8"
             ],
             [
              0.3333333333333333,
              "#9c179e"
             ],
             [
              0.4444444444444444,
              "#bd3786"
             ],
             [
              0.5555555555555556,
              "#d8576b"
             ],
             [
              0.6666666666666666,
              "#ed7953"
             ],
             [
              0.7777777777777778,
              "#fb9f3a"
             ],
             [
              0.8888888888888888,
              "#fdca26"
             ],
             [
              1,
              "#f0f921"
             ]
            ],
            "type": "contour"
           }
          ],
          "contourcarpet": [
           {
            "colorbar": {
             "outlinewidth": 0,
             "ticks": ""
            },
            "type": "contourcarpet"
           }
          ],
          "heatmap": [
           {
            "colorbar": {
             "outlinewidth": 0,
             "ticks": ""
            },
            "colorscale": [
             [
              0,
              "#0d0887"
             ],
             [
              0.1111111111111111,
              "#46039f"
             ],
             [
              0.2222222222222222,
              "#7201a8"
             ],
             [
              0.3333333333333333,
              "#9c179e"
             ],
             [
              0.4444444444444444,
              "#bd3786"
             ],
             [
              0.5555555555555556,
              "#d8576b"
             ],
             [
              0.6666666666666666,
              "#ed7953"
             ],
             [
              0.7777777777777778,
              "#fb9f3a"
             ],
             [
              0.8888888888888888,
              "#fdca26"
             ],
             [
              1,
              "#f0f921"
             ]
            ],
            "type": "heatmap"
           }
          ],
          "heatmapgl": [
           {
            "colorbar": {
             "outlinewidth": 0,
             "ticks": ""
            },
            "colorscale": [
             [
              0,
              "#0d0887"
             ],
             [
              0.1111111111111111,
              "#46039f"
             ],
             [
              0.2222222222222222,
              "#7201a8"
             ],
             [
              0.3333333333333333,
              "#9c179e"
             ],
             [
              0.4444444444444444,
              "#bd3786"
             ],
             [
              0.5555555555555556,
              "#d8576b"
             ],
             [
              0.6666666666666666,
              "#ed7953"
             ],
             [
              0.7777777777777778,
              "#fb9f3a"
             ],
             [
              0.8888888888888888,
              "#fdca26"
             ],
             [
              1,
              "#f0f921"
             ]
            ],
            "type": "heatmapgl"
           }
          ],
          "histogram": [
           {
            "marker": {
             "pattern": {
              "fillmode": "overlay",
              "size": 10,
              "solidity": 0.2
             }
            },
            "type": "histogram"
           }
          ],
          "histogram2d": [
           {
            "colorbar": {
             "outlinewidth": 0,
             "ticks": ""
            },
            "colorscale": [
             [
              0,
              "#0d0887"
             ],
             [
              0.1111111111111111,
              "#46039f"
             ],
             [
              0.2222222222222222,
              "#7201a8"
             ],
             [
              0.3333333333333333,
              "#9c179e"
             ],
             [
              0.4444444444444444,
              "#bd3786"
             ],
             [
              0.5555555555555556,
              "#d8576b"
             ],
             [
              0.6666666666666666,
              "#ed7953"
             ],
             [
              0.7777777777777778,
              "#fb9f3a"
             ],
             [
              0.8888888888888888,
              "#fdca26"
             ],
             [
              1,
              "#f0f921"
             ]
            ],
            "type": "histogram2d"
           }
          ],
          "histogram2dcontour": [
           {
            "colorbar": {
             "outlinewidth": 0,
             "ticks": ""
            },
            "colorscale": [
             [
              0,
              "#0d0887"
             ],
             [
              0.1111111111111111,
              "#46039f"
             ],
             [
              0.2222222222222222,
              "#7201a8"
             ],
             [
              0.3333333333333333,
              "#9c179e"
             ],
             [
              0.4444444444444444,
              "#bd3786"
             ],
             [
              0.5555555555555556,
              "#d8576b"
             ],
             [
              0.6666666666666666,
              "#ed7953"
             ],
             [
              0.7777777777777778,
              "#fb9f3a"
             ],
             [
              0.8888888888888888,
              "#fdca26"
             ],
             [
              1,
              "#f0f921"
             ]
            ],
            "type": "histogram2dcontour"
           }
          ],
          "mesh3d": [
           {
            "colorbar": {
             "outlinewidth": 0,
             "ticks": ""
            },
            "type": "mesh3d"
           }
          ],
          "parcoords": [
           {
            "line": {
             "colorbar": {
              "outlinewidth": 0,
              "ticks": ""
             }
            },
            "type": "parcoords"
           }
          ],
          "pie": [
           {
            "automargin": true,
            "type": "pie"
           }
          ],
          "scatter": [
           {
            "fillpattern": {
             "fillmode": "overlay",
             "size": 10,
             "solidity": 0.2
            },
            "type": "scatter"
           }
          ],
          "scatter3d": [
           {
            "line": {
             "colorbar": {
              "outlinewidth": 0,
              "ticks": ""
             }
            },
            "marker": {
             "colorbar": {
              "outlinewidth": 0,
              "ticks": ""
             }
            },
            "type": "scatter3d"
           }
          ],
          "scattercarpet": [
           {
            "marker": {
             "colorbar": {
              "outlinewidth": 0,
              "ticks": ""
             }
            },
            "type": "scattercarpet"
           }
          ],
          "scattergeo": [
           {
            "marker": {
             "colorbar": {
              "outlinewidth": 0,
              "ticks": ""
             }
            },
            "type": "scattergeo"
           }
          ],
          "scattergl": [
           {
            "marker": {
             "colorbar": {
              "outlinewidth": 0,
              "ticks": ""
             }
            },
            "type": "scattergl"
           }
          ],
          "scattermapbox": [
           {
            "marker": {
             "colorbar": {
              "outlinewidth": 0,
              "ticks": ""
             }
            },
            "type": "scattermapbox"
           }
          ],
          "scatterpolar": [
           {
            "marker": {
             "colorbar": {
              "outlinewidth": 0,
              "ticks": ""
             }
            },
            "type": "scatterpolar"
           }
          ],
          "scatterpolargl": [
           {
            "marker": {
             "colorbar": {
              "outlinewidth": 0,
              "ticks": ""
             }
            },
            "type": "scatterpolargl"
           }
          ],
          "scatterternary": [
           {
            "marker": {
             "colorbar": {
              "outlinewidth": 0,
              "ticks": ""
             }
            },
            "type": "scatterternary"
           }
          ],
          "surface": [
           {
            "colorbar": {
             "outlinewidth": 0,
             "ticks": ""
            },
            "colorscale": [
             [
              0,
              "#0d0887"
             ],
             [
              0.1111111111111111,
              "#46039f"
             ],
             [
              0.2222222222222222,
              "#7201a8"
             ],
             [
              0.3333333333333333,
              "#9c179e"
             ],
             [
              0.4444444444444444,
              "#bd3786"
             ],
             [
              0.5555555555555556,
              "#d8576b"
             ],
             [
              0.6666666666666666,
              "#ed7953"
             ],
             [
              0.7777777777777778,
              "#fb9f3a"
             ],
             [
              0.8888888888888888,
              "#fdca26"
             ],
             [
              1,
              "#f0f921"
             ]
            ],
            "type": "surface"
           }
          ],
          "table": [
           {
            "cells": {
             "fill": {
              "color": "#EBF0F8"
             },
             "line": {
              "color": "white"
             }
            },
            "header": {
             "fill": {
              "color": "#C8D4E3"
             },
             "line": {
              "color": "white"
             }
            },
            "type": "table"
           }
          ]
         },
         "layout": {
          "annotationdefaults": {
           "arrowcolor": "#2a3f5f",
           "arrowhead": 0,
           "arrowwidth": 1
          },
          "autotypenumbers": "strict",
          "coloraxis": {
           "colorbar": {
            "outlinewidth": 0,
            "ticks": ""
           }
          },
          "colorscale": {
           "diverging": [
            [
             0,
             "#8e0152"
            ],
            [
             0.1,
             "#c51b7d"
            ],
            [
             0.2,
             "#de77ae"
            ],
            [
             0.3,
             "#f1b6da"
            ],
            [
             0.4,
             "#fde0ef"
            ],
            [
             0.5,
             "#f7f7f7"
            ],
            [
             0.6,
             "#e6f5d0"
            ],
            [
             0.7,
             "#b8e186"
            ],
            [
             0.8,
             "#7fbc41"
            ],
            [
             0.9,
             "#4d9221"
            ],
            [
             1,
             "#276419"
            ]
           ],
           "sequential": [
            [
             0,
             "#0d0887"
            ],
            [
             0.1111111111111111,
             "#46039f"
            ],
            [
             0.2222222222222222,
             "#7201a8"
            ],
            [
             0.3333333333333333,
             "#9c179e"
            ],
            [
             0.4444444444444444,
             "#bd3786"
            ],
            [
             0.5555555555555556,
             "#d8576b"
            ],
            [
             0.6666666666666666,
             "#ed7953"
            ],
            [
             0.7777777777777778,
             "#fb9f3a"
            ],
            [
             0.8888888888888888,
             "#fdca26"
            ],
            [
             1,
             "#f0f921"
            ]
           ],
           "sequentialminus": [
            [
             0,
             "#0d0887"
            ],
            [
             0.1111111111111111,
             "#46039f"
            ],
            [
             0.2222222222222222,
             "#7201a8"
            ],
            [
             0.3333333333333333,
             "#9c179e"
            ],
            [
             0.4444444444444444,
             "#bd3786"
            ],
            [
             0.5555555555555556,
             "#d8576b"
            ],
            [
             0.6666666666666666,
             "#ed7953"
            ],
            [
             0.7777777777777778,
             "#fb9f3a"
            ],
            [
             0.8888888888888888,
             "#fdca26"
            ],
            [
             1,
             "#f0f921"
            ]
           ]
          },
          "colorway": [
           "#636efa",
           "#EF553B",
           "#00cc96",
           "#ab63fa",
           "#FFA15A",
           "#19d3f3",
           "#FF6692",
           "#B6E880",
           "#FF97FF",
           "#FECB52"
          ],
          "font": {
           "color": "#2a3f5f"
          },
          "geo": {
           "bgcolor": "white",
           "lakecolor": "white",
           "landcolor": "white",
           "showlakes": true,
           "showland": true,
           "subunitcolor": "#C8D4E3"
          },
          "hoverlabel": {
           "align": "left"
          },
          "hovermode": "closest",
          "mapbox": {
           "style": "light"
          },
          "paper_bgcolor": "white",
          "plot_bgcolor": "white",
          "polar": {
           "angularaxis": {
            "gridcolor": "#EBF0F8",
            "linecolor": "#EBF0F8",
            "ticks": ""
           },
           "bgcolor": "white",
           "radialaxis": {
            "gridcolor": "#EBF0F8",
            "linecolor": "#EBF0F8",
            "ticks": ""
           }
          },
          "scene": {
           "xaxis": {
            "backgroundcolor": "white",
            "gridcolor": "#DFE8F3",
            "gridwidth": 2,
            "linecolor": "#EBF0F8",
            "showbackground": true,
            "ticks": "",
            "zerolinecolor": "#EBF0F8"
           },
           "yaxis": {
            "backgroundcolor": "white",
            "gridcolor": "#DFE8F3",
            "gridwidth": 2,
            "linecolor": "#EBF0F8",
            "showbackground": true,
            "ticks": "",
            "zerolinecolor": "#EBF0F8"
           },
           "zaxis": {
            "backgroundcolor": "white",
            "gridcolor": "#DFE8F3",
            "gridwidth": 2,
            "linecolor": "#EBF0F8",
            "showbackground": true,
            "ticks": "",
            "zerolinecolor": "#EBF0F8"
           }
          },
          "shapedefaults": {
           "line": {
            "color": "#2a3f5f"
           }
          },
          "ternary": {
           "aaxis": {
            "gridcolor": "#DFE8F3",
            "linecolor": "#A2B1C6",
            "ticks": ""
           },
           "baxis": {
            "gridcolor": "#DFE8F3",
            "linecolor": "#A2B1C6",
            "ticks": ""
           },
           "bgcolor": "white",
           "caxis": {
            "gridcolor": "#DFE8F3",
            "linecolor": "#A2B1C6",
            "ticks": ""
           }
          },
          "title": {
           "x": 0.05
          },
          "xaxis": {
           "automargin": true,
           "gridcolor": "#EBF0F8",
           "linecolor": "#EBF0F8",
           "ticks": "",
           "title": {
            "standoff": 15
           },
           "zerolinecolor": "#EBF0F8",
           "zerolinewidth": 2
          },
          "yaxis": {
           "automargin": true,
           "gridcolor": "#EBF0F8",
           "linecolor": "#EBF0F8",
           "ticks": "",
           "title": {
            "standoff": 15
           },
           "zerolinecolor": "#EBF0F8",
           "zerolinewidth": 2
          }
         }
        },
        "xaxis": {
         "title": {
          "text": "Time (years)"
         }
        },
        "yaxis": {
         "autorange": "reversed",
         "tickformat": ".0f",
         "tickprefix": "$",
         "title": {
          "text": "Bond with Option"
         }
        }
       }
      }
     },
     "metadata": {},
     "output_type": "display_data"
    }
   ],
   "source": [
    "figs[\"bond\"].show()"
   ]
  }
 ],
 "metadata": {
  "colab": {
   "include_colab_link": true,
   "name": "option adjusted spreads.ipynb",
   "provenance": []
  },
  "kernelspec": {
   "display_name": "Python 3",
   "language": "python",
   "name": "python3"
  },
  "language_info": {
   "codemirror_mode": {
    "name": "ipython",
    "version": 3
   },
   "file_extension": ".py",
   "mimetype": "text/x-python",
   "name": "python",
   "nbconvert_exporter": "python",
   "pygments_lexer": "ipython3",
   "version": "3.10.8"
  }
 },
 "nbformat": 4,
 "nbformat_minor": 0
}
