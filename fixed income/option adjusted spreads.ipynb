{
 "cells": [
  {
   "cell_type": "markdown",
   "metadata": {},
   "source": [
    "---\n",
    "\n",
    "Created for [learn-investments.rice-business.org](https://learn-investments.rice-business.org)\n",
    "    \n",
    "By [Kerry Back](https://kerryback.com) and [Kevin Crotty](https://kevin-crotty.com)\n",
    "    \n",
    "Jones Graduate School of Business, Rice University\n",
    "\n",
    "---\n"
   ]
  },
  {
   "cell_type": "markdown",
   "metadata": {},
   "source": [
    "# EXAMPLE DATA"
   ]
  },
  {
   "cell_type": "code",
   "execution_count": 1,
   "metadata": {},
   "outputs": [],
   "source": [
    "sigma = 50                                                         # volatility in basis points\n",
    "prds_per_year = 2\n",
    "num_bonds = 6                                                      # number of bonds\n",
    "maturities   = [1, 2, 3, 4, 5, 6]                                  # bond maturities\n",
    "coupon_rates = [0.02, 0.02, 0.02, 0.02, 0.02, 0.02]                # coupon rates (annual)\n",
    "yields       = [0.0175, 0.02, 0.0225, 0.024, 0.025, 0.026]         # yields (annual)\n",
    "zero_maturity = 5                                                  # for zero-coupon plot\n",
    "\n",
    "if not all(len(lst)==num_bonds for lst in [maturities, coupon_rates, yields]):\n",
    "    print('Lists need to be of the same length!')"
   ]
  },
  {
   "cell_type": "markdown",
   "metadata": {},
   "source": [
    "# FUNCTIONS FOR BOND PRICES AND FORWARD RATES\n",
    "\n",
    "Unlike the \"spot and forward rates\" notebook, here we work with a general number of periods per year rather than six-month periods."
   ]
  },
  {
   "cell_type": "code",
   "execution_count": 2,
   "metadata": {},
   "outputs": [],
   "source": [
    "import numpy as np\n",
    "from scipy.optimize import minimize\n",
    "\n",
    "# calculate bond price for given yield to maturity or for given spot rates\n",
    "def price(**kwargs):\n",
    "    c = 100 * kwargs['coupon'] / 2\n",
    "    maturity = kwargs['maturity']\n",
    "    if 'yld' in kwargs.keys():\n",
    "        yld = kwargs['yld']\n",
    "        n = int(2 * maturity)\n",
    "        return c * np.sum((1 + yld/2) ** np.arange(-1, -n - 1, -1)) + 100 / (1 + yld/2) ** n\n",
    "    else:\n",
    "        n = int(prds_per_year * maturity)\n",
    "        pphy = int(prds_per_year/2)  # periods per half year\n",
    "        spots = np.array(kwargs['spots'])\n",
    "        pv_factors = (1 + spots / prds_per_year) ** (-np.arange(1, len(spots) + 1))\n",
    "        coupons = np.zeros(n)\n",
    "        coupons[(pphy - 1)::pphy] = c\n",
    "        return np.sum(coupons*pv_factors[:len(coupons)]) + 100*pv_factors[n-1]\n",
    "    \n",
    "# forward rates implied by spot rates\n",
    "def forward_rates(spots):\n",
    "    pphy = int(prds_per_year / 2)  # periods per half year\n",
    "    future_factors = (1 + spots / 2) ** (np.arange(1, len(spots) + 1) / pphy)\n",
    "    diff_logs = np.diff(np.log(future_factors))\n",
    "    f = (np.exp(diff_logs)-1) * prds_per_year\n",
    "    return np.concatenate(([spots[0]], f))"
   ]
  },
  {
   "cell_type": "markdown",
   "metadata": {},
   "source": [
    "# FUNCTION TO COMPUTE SPOT RATES\n",
    "\n",
    "We choose spot rates to match bond prices as closely as possible, except that we add a penalty for variation in implied forward rates, so the resulting forward rate curve is reasonably smooth.  "
   ]
  },
  {
   "cell_type": "code",
   "execution_count": 3,
   "metadata": {},
   "outputs": [],
   "source": [
    "# difference between bond price and price implied by spot rates\n",
    "def error(bond, spots):\n",
    "    price1 = price(**bond)\n",
    "    price2 = price(maturity=bond[\"maturity\"], coupon=bond['coupon'], spots=spots)\n",
    "    return np.log(price2 / price1)\n",
    "\n",
    "# sum of squared errors between bond prices and prices implied by spot rates\n",
    "# plus a penalty for variation in forward rates\n",
    "def objective(bonds, spots):\n",
    "    errors = [error(bond, spots) for bond in bonds]\n",
    "    sse = np.sum(np.array(errors)**2)\n",
    "    forwards = forward_rates(spots)\n",
    "    diffs = np.sum(np.diff(np.log(1+forwards/prds_per_year))**2)\n",
    "    return sse + 0.5*diffs\n",
    "\n",
    "# choose spot rates to optimize the objective\n",
    "def spot_rates(bonds):\n",
    "    maturities = [bond['maturity'] for bond in bonds]\n",
    "    n = int(np.max(maturities) * prds_per_year)\n",
    "    result = minimize(lambda x: objective(bonds, x), [0.05]*n)\n",
    "    return result.x if result.success==True else np.nan"
   ]
  },
  {
   "cell_type": "markdown",
   "metadata": {},
   "source": [
    "# SPOT AND FORWARD RATES"
   ]
  },
  {
   "cell_type": "code",
   "execution_count": 4,
   "metadata": {},
   "outputs": [],
   "source": [
    "bonds = [\n",
    "    dict(\n",
    "        maturity= maturities[i],\n",
    "        coupon  = coupon_rates[i],\n",
    "        yld     = yields[i]\n",
    "    )\n",
    "    for i in range(num_bonds)\n",
    "]\n",
    "\n",
    "spots    = spot_rates(bonds)\n",
    "forwards = forward_rates(spots)"
   ]
  },
  {
   "cell_type": "markdown",
   "metadata": {},
   "source": [
    "# INTEREST RATE TREE\n",
    "\n",
    "We find the drift of the interest rate tree so that it matches the forward rates calculated above.  See, for example, Back, A Course in Derivative Securities, 2006."
   ]
  },
  {
   "cell_type": "code",
   "execution_count": 5,
   "metadata": {},
   "outputs": [],
   "source": [
    "n = prds_per_year * np.max(maturities)\n",
    "dt = 1 / prds_per_year\n",
    "m = len(forwards)\n",
    "s = sigma / 10000   # volatility as decimal\n",
    "f = forwards[:n+1] if m>=n+1 else np.concatenate((forwards, [forwards[-1]]*(n+1-m)))\n",
    "    \n",
    "term1 = np.log(1+f*dt)\n",
    "a = np.exp(s*dt**(3/2)*np.arange(n+1))\n",
    "term2 = np.log(a + 1/a)\n",
    "term3 = np.log(2*(1+f[0]*dt))\n",
    "phis = (term1 + term2 - term3) / dt\n",
    "\n",
    "delta = sigma*np.sqrt(dt) / 10000\n",
    "rate_tree =  [\n",
    "    [spots[0] + phi + delta * (i - 2 * j) for j in range(i + 1)] \n",
    "    for i, phi in enumerate(phis)\n",
    "]"
   ]
  },
  {
   "cell_type": "markdown",
   "metadata": {},
   "source": [
    "# ZERO-COUPON TREE\n",
    "\n",
    "We use the interest rate tree to price a zero-coupon bond for illustration."
   ]
  },
  {
   "cell_type": "code",
   "execution_count": 6,
   "metadata": {},
   "outputs": [],
   "source": [
    "n = int(prds_per_year * zero_maturity)\n",
    "rates = [np.array(x) for x in rate_tree]\n",
    "\n",
    "# initialize the tree at $100 at the last date\n",
    "x = 100 * np.ones(n + 1)\n",
    "lst = [x]\n",
    "i = n - 1\n",
    "\n",
    "# back up in the tree\n",
    "while len(x) > 1:\n",
    "    x = 0.5 * (x[:-1] + x[1:]) / (1 + rates[i] / prds_per_year)\n",
    "    lst.insert(0, x)\n",
    "    i -= 1\n",
    "zero_tree = [list(x) for x in lst]\n"
   ]
  },
  {
   "cell_type": "markdown",
   "metadata": {},
   "source": [
    "# FIGURES"
   ]
  },
  {
   "cell_type": "code",
   "execution_count": 7,
   "metadata": {},
   "outputs": [],
   "source": [
    "import plotly.graph_objects as go\n",
    "\n",
    "figs = []\n",
    "for kind in [\"rate\", \"zero\"]:\n",
    "    tree = rate_tree if kind==\"rate\" else zero_tree\n",
    "    string = \"%{y:.2%}<extra></extra>\" if kind=='rate' else \"$%{y:,.2f}<extra></extra>\"\n",
    "    spliced = []\n",
    "    for a, b in zip(tree[1:], tree[:-1]):\n",
    "        x = []\n",
    "        for i in range(len(a)):\n",
    "            x.append(a[i])\n",
    "            try:\n",
    "                x.append(b[i])\n",
    "            except:\n",
    "                pass\n",
    "        spliced.append(x)\n",
    "    fig = go.Figure()\n",
    "    for i in range(len(tree) - 1):\n",
    "        x = [1, 0, 1]\n",
    "        for j in range(i):\n",
    "            x.append(0)\n",
    "            x.append(1)\n",
    "        x = np.array(x) + i\n",
    "        y = spliced[i]\n",
    "        trace = go.Scatter(\n",
    "            x=x*dt,\n",
    "            y=y,\n",
    "            mode=\"lines+markers\",\n",
    "            hovertemplate=string,\n",
    "            marker=dict(size=10, color=\"blue\"),\n",
    "            line_color=\"blue\",\n",
    "        )\n",
    "        fig.add_trace(trace)\n",
    "    fig.update_layout(\n",
    "        xaxis_title=\"Time (years)\",\n",
    "        yaxis_title=\"Annualized Short Rate\" if kind==\"rate\" else \"Zero Coupon Bond Price\",\n",
    "        yaxis_tickprefix = None if kind==\"rate\" else \"$\", \n",
    "        yaxis_tickformat=\".2%\" if kind==\"rate\" else \".0f\",\n",
    "        yaxis_autorange=None if kind==\"rate\" else \"reversed\",\n",
    "        template=\"plotly_white\",\n",
    "        showlegend=False\n",
    "    )\n",
    "    figs.append(fig)"
   ]
  },
  {
   "cell_type": "markdown",
   "metadata": {},
   "source": [
    "# INTEREST RATE TREE"
   ]
  },
  {
   "cell_type": "code",
   "execution_count": 8,
   "metadata": {},
   "outputs": [
    {
     "data": {
      "application/vnd.plotly.v1+json": {
       "config": {
        "plotlyServerURL": "https://plot.ly"
       },
       "data": [
        {
         "hovertemplate": "%{y:.2%}<extra></extra>",
         "line": {
          "color": "blue"
         },
         "marker": {
          "color": "blue",
          "size": 10
         },
         "mode": "lines+markers",
         "type": "scatter",
         "x": [
          0.5,
          0,
          0.5
         ],
         "y": [
          0.0220368296510513,
          0.017180474210710738,
          0.014965761839185824
         ]
        },
        {
         "hovertemplate": "%{y:.2%}<extra></extra>",
         "line": {
          "color": "blue"
         },
         "marker": {
          "color": "blue",
          "size": 10
         },
         "mode": "lines+markers",
         "type": "scatter",
         "x": [
          1,
          0.5,
          1,
          0.5,
          1
         ],
         "y": [
          0.028204511332089045,
          0.0220368296510513,
          0.02113344352022357,
          0.014965761839185824,
          0.014062375708358096
         ]
        },
        {
         "hovertemplate": "%{y:.2%}<extra></extra>",
         "line": {
          "color": "blue"
         },
         "marker": {
          "color": "blue",
          "size": 10
         },
         "mode": "lines+markers",
         "type": "scatter",
         "x": [
          1.5,
          1,
          1.5,
          1,
          1.5,
          1,
          1.5
         ],
         "y": [
          0.034348964745366216,
          0.028204511332089045,
          0.02727789693350074,
          0.02113344352022357,
          0.020206829121635263,
          0.014062375708358096,
          0.013135761309769789
         ]
        },
        {
         "hovertemplate": "%{y:.2%}<extra></extra>",
         "line": {
          "color": "blue"
         },
         "marker": {
          "color": "blue",
          "size": 10
         },
         "mode": "lines+markers",
         "type": "scatter",
         "x": [
          2,
          1.5,
          2,
          1.5,
          2,
          1.5,
          2,
          1.5,
          2
         ],
         "y": [
          0.040469684460675344,
          0.034348964745366216,
          0.033398616648809866,
          0.02727789693350074,
          0.02632754883694439,
          0.020206829121635263,
          0.019256481025078917,
          0.013135761309769789,
          0.01218541321321344
         ]
        },
        {
         "hovertemplate": "%{y:.2%}<extra></extra>",
         "line": {
          "color": "blue"
         },
         "marker": {
          "color": "blue",
          "size": 10
         },
         "mode": "lines+markers",
         "type": "scatter",
         "x": [
          2.5,
          2,
          2.5,
          2,
          2.5,
          2,
          2.5,
          2,
          2.5,
          2,
          2.5
         ],
         "y": [
          0.045607196952486814,
          0.040469684460675344,
          0.03853612914062134,
          0.033398616648809866,
          0.031465061328755865,
          0.02632754883694439,
          0.02439399351689039,
          0.019256481025078917,
          0.017322925705024916,
          0.01218541321321344,
          0.010251857893159442
         ]
        },
        {
         "hovertemplate": "%{y:.2%}<extra></extra>",
         "line": {
          "color": "blue"
         },
         "marker": {
          "color": "blue",
          "size": 10
         },
         "mode": "lines+markers",
         "type": "scatter",
         "x": [
          3,
          2.5,
          3,
          2.5,
          3,
          2.5,
          3,
          2.5,
          3,
          2.5,
          3,
          2.5,
          3
         ],
         "y": [
          0.04977069340057236,
          0.045607196952486814,
          0.04269962558870689,
          0.03853612914062134,
          0.03562855777684141,
          0.031465061328755865,
          0.028557489964975934,
          0.02439399351689039,
          0.02148642215311046,
          0.017322925705024916,
          0.014415354341244984,
          0.010251857893159442,
          0.0073442865293795075
         ]
        },
        {
         "hovertemplate": "%{y:.2%}<extra></extra>",
         "line": {
          "color": "blue"
         },
         "marker": {
          "color": "blue",
          "size": 10
         },
         "mode": "lines+markers",
         "type": "scatter",
         "x": [
          3.5,
          3,
          3.5,
          3,
          3.5,
          3,
          3.5,
          3,
          3.5,
          3,
          3.5,
          3,
          3.5,
          3,
          3.5
         ],
         "y": [
          0.053779096618450886,
          0.04977069340057236,
          0.04670802880658541,
          0.04269962558870689,
          0.03963696099471994,
          0.03562855777684141,
          0.03256589318285446,
          0.028557489964975934,
          0.025494825370988985,
          0.02148642215311046,
          0.01842375755912351,
          0.014415354341244984,
          0.011352689747258036,
          0.0073442865293795075,
          0.004281621935392561
         ]
        },
        {
         "hovertemplate": "%{y:.2%}<extra></extra>",
         "line": {
          "color": "blue"
         },
         "marker": {
          "color": "blue",
          "size": 10
         },
         "mode": "lines+markers",
         "type": "scatter",
         "x": [
          4,
          3.5,
          4,
          3.5,
          4,
          3.5,
          4,
          3.5,
          4,
          3.5,
          4,
          3.5,
          4,
          3.5,
          4,
          3.5,
          4
         ],
         "y": [
          0.05763349816965796,
          0.053779096618450886,
          0.05056243035779248,
          0.04670802880658541,
          0.04349136254592701,
          0.03963696099471994,
          0.03642029473406153,
          0.03256589318285446,
          0.029349226922196058,
          0.025494825370988985,
          0.022278159110330584,
          0.01842375755912351,
          0.015207091298465108,
          0.011352689747258036,
          0.008136023486599631,
          0.004281621935392561,
          0.0010649556747341568
         ]
        },
        {
         "hovertemplate": "%{y:.2%}<extra></extra>",
         "line": {
          "color": "blue"
         },
         "marker": {
          "color": "blue",
          "size": 10
         },
         "mode": "lines+markers",
         "type": "scatter",
         "x": [
          4.5,
          4,
          4.5,
          4,
          4.5,
          4,
          4.5,
          4,
          4.5,
          4,
          4.5,
          4,
          4.5,
          4,
          4.5,
          4,
          4.5,
          4,
          4.5
         ],
         "y": [
          0.06179310578494483,
          0.05763349816965796,
          0.054722037973079354,
          0.05056243035779248,
          0.047650970161213876,
          0.04349136254592701,
          0.040579902349348405,
          0.03642029473406153,
          0.03350883453748293,
          0.029349226922196058,
          0.026437766725617453,
          0.022278159110330584,
          0.01936669891375198,
          0.015207091298465108,
          0.012295631101886504,
          0.008136023486599631,
          0.0052245632900210295,
          0.0010649556747341568,
          -0.001846504521844445
         ]
        },
        {
         "hovertemplate": "%{y:.2%}<extra></extra>",
         "line": {
          "color": "blue"
         },
         "marker": {
          "color": "blue",
          "size": 10
         },
         "mode": "lines+markers",
         "type": "scatter",
         "x": [
          5,
          4.5,
          5,
          4.5,
          5,
          4.5,
          5,
          4.5,
          5,
          4.5,
          5,
          4.5,
          5,
          4.5,
          5,
          4.5,
          5,
          4.5,
          5,
          4.5,
          5
         ],
         "y": [
          0.06625534518736145,
          0.06179310578494483,
          0.059184277375495975,
          0.054722037973079354,
          0.0521132095636305,
          0.047650970161213876,
          0.045042141751765026,
          0.040579902349348405,
          0.03797107393989955,
          0.03350883453748293,
          0.030900006128034074,
          0.026437766725617453,
          0.0238289383161686,
          0.01936669891375198,
          0.01675787050430312,
          0.012295631101886504,
          0.009686802692437647,
          0.0052245632900210295,
          0.0026157348805721722,
          -0.001846504521844445,
          -0.004455332931293302
         ]
        },
        {
         "hovertemplate": "%{y:.2%}<extra></extra>",
         "line": {
          "color": "blue"
         },
         "marker": {
          "color": "blue",
          "size": 10
         },
         "mode": "lines+markers",
         "type": "scatter",
         "x": [
          5.5,
          5,
          5.5,
          5,
          5.5,
          5,
          5.5,
          5,
          5.5,
          5,
          5.5,
          5,
          5.5,
          5,
          5.5,
          5,
          5.5,
          5,
          5.5,
          5,
          5.5,
          5,
          5.5
         ],
         "y": [
          0.07028792520884576,
          0.06625534518736145,
          0.06321685739698028,
          0.059184277375495975,
          0.056145789585114805,
          0.0521132095636305,
          0.049074721773249334,
          0.045042141751765026,
          0.04200365396138386,
          0.03797107393989955,
          0.034932586149518385,
          0.030900006128034074,
          0.027861518337652907,
          0.0238289383161686,
          0.020790450525787433,
          0.01675787050430312,
          0.013719382713921958,
          0.009686802692437647,
          0.006648314902056484,
          0.0026157348805721722,
          -0.0004227529098089905,
          -0.004455332931293302,
          -0.0074938207216744684
         ]
        },
        {
         "hovertemplate": "%{y:.2%}<extra></extra>",
         "line": {
          "color": "blue"
         },
         "marker": {
          "color": "blue",
          "size": 10
         },
         "mode": "lines+markers",
         "type": "scatter",
         "x": [
          6,
          5.5,
          6,
          5.5,
          6,
          5.5,
          6,
          5.5,
          6,
          5.5,
          6,
          5.5,
          6,
          5.5,
          6,
          5.5,
          6,
          5.5,
          6,
          5.5,
          6,
          5.5,
          6,
          5.5,
          6
         ],
         "y": [
          0.07389532419617784,
          0.07028792520884576,
          0.06682425638431236,
          0.06321685739698028,
          0.05975318857244688,
          0.056145789585114805,
          0.05268212076058141,
          0.049074721773249334,
          0.04561105294871593,
          0.04200365396138386,
          0.03853998513685046,
          0.034932586149518385,
          0.03146891732498498,
          0.027861518337652907,
          0.024397849513119508,
          0.020790450525787433,
          0.017326781701254033,
          0.013719382713921958,
          0.010255713889388555,
          0.006648314902056484,
          0.003184646077523081,
          -0.0004227529098089905,
          -0.0038864217343423935,
          -0.0074938207216744684,
          -0.010957489546207871
         ]
        }
       ],
       "layout": {
        "showlegend": false,
        "template": {
         "data": {
          "bar": [
           {
            "error_x": {
             "color": "#2a3f5f"
            },
            "error_y": {
             "color": "#2a3f5f"
            },
            "marker": {
             "line": {
              "color": "white",
              "width": 0.5
             },
             "pattern": {
              "fillmode": "overlay",
              "size": 10,
              "solidity": 0.2
             }
            },
            "type": "bar"
           }
          ],
          "barpolar": [
           {
            "marker": {
             "line": {
              "color": "white",
              "width": 0.5
             },
             "pattern": {
              "fillmode": "overlay",
              "size": 10,
              "solidity": 0.2
             }
            },
            "type": "barpolar"
           }
          ],
          "carpet": [
           {
            "aaxis": {
             "endlinecolor": "#2a3f5f",
             "gridcolor": "#C8D4E3",
             "linecolor": "#C8D4E3",
             "minorgridcolor": "#C8D4E3",
             "startlinecolor": "#2a3f5f"
            },
            "baxis": {
             "endlinecolor": "#2a3f5f",
             "gridcolor": "#C8D4E3",
             "linecolor": "#C8D4E3",
             "minorgridcolor": "#C8D4E3",
             "startlinecolor": "#2a3f5f"
            },
            "type": "carpet"
           }
          ],
          "choropleth": [
           {
            "colorbar": {
             "outlinewidth": 0,
             "ticks": ""
            },
            "type": "choropleth"
           }
          ],
          "contour": [
           {
            "colorbar": {
             "outlinewidth": 0,
             "ticks": ""
            },
            "colorscale": [
             [
              0,
              "#0d0887"
             ],
             [
              0.1111111111111111,
              "#46039f"
             ],
             [
              0.2222222222222222,
              "#7201a8"
             ],
             [
              0.3333333333333333,
              "#9c179e"
             ],
             [
              0.4444444444444444,
              "#bd3786"
             ],
             [
              0.5555555555555556,
              "#d8576b"
             ],
             [
              0.6666666666666666,
              "#ed7953"
             ],
             [
              0.7777777777777778,
              "#fb9f3a"
             ],
             [
              0.8888888888888888,
              "#fdca26"
             ],
             [
              1,
              "#f0f921"
             ]
            ],
            "type": "contour"
           }
          ],
          "contourcarpet": [
           {
            "colorbar": {
             "outlinewidth": 0,
             "ticks": ""
            },
            "type": "contourcarpet"
           }
          ],
          "heatmap": [
           {
            "colorbar": {
             "outlinewidth": 0,
             "ticks": ""
            },
            "colorscale": [
             [
              0,
              "#0d0887"
             ],
             [
              0.1111111111111111,
              "#46039f"
             ],
             [
              0.2222222222222222,
              "#7201a8"
             ],
             [
              0.3333333333333333,
              "#9c179e"
             ],
             [
              0.4444444444444444,
              "#bd3786"
             ],
             [
              0.5555555555555556,
              "#d8576b"
             ],
             [
              0.6666666666666666,
              "#ed7953"
             ],
             [
              0.7777777777777778,
              "#fb9f3a"
             ],
             [
              0.8888888888888888,
              "#fdca26"
             ],
             [
              1,
              "#f0f921"
             ]
            ],
            "type": "heatmap"
           }
          ],
          "heatmapgl": [
           {
            "colorbar": {
             "outlinewidth": 0,
             "ticks": ""
            },
            "colorscale": [
             [
              0,
              "#0d0887"
             ],
             [
              0.1111111111111111,
              "#46039f"
             ],
             [
              0.2222222222222222,
              "#7201a8"
             ],
             [
              0.3333333333333333,
              "#9c179e"
             ],
             [
              0.4444444444444444,
              "#bd3786"
             ],
             [
              0.5555555555555556,
              "#d8576b"
             ],
             [
              0.6666666666666666,
              "#ed7953"
             ],
             [
              0.7777777777777778,
              "#fb9f3a"
             ],
             [
              0.8888888888888888,
              "#fdca26"
             ],
             [
              1,
              "#f0f921"
             ]
            ],
            "type": "heatmapgl"
           }
          ],
          "histogram": [
           {
            "marker": {
             "pattern": {
              "fillmode": "overlay",
              "size": 10,
              "solidity": 0.2
             }
            },
            "type": "histogram"
           }
          ],
          "histogram2d": [
           {
            "colorbar": {
             "outlinewidth": 0,
             "ticks": ""
            },
            "colorscale": [
             [
              0,
              "#0d0887"
             ],
             [
              0.1111111111111111,
              "#46039f"
             ],
             [
              0.2222222222222222,
              "#7201a8"
             ],
             [
              0.3333333333333333,
              "#9c179e"
             ],
             [
              0.4444444444444444,
              "#bd3786"
             ],
             [
              0.5555555555555556,
              "#d8576b"
             ],
             [
              0.6666666666666666,
              "#ed7953"
             ],
             [
              0.7777777777777778,
              "#fb9f3a"
             ],
             [
              0.8888888888888888,
              "#fdca26"
             ],
             [
              1,
              "#f0f921"
             ]
            ],
            "type": "histogram2d"
           }
          ],
          "histogram2dcontour": [
           {
            "colorbar": {
             "outlinewidth": 0,
             "ticks": ""
            },
            "colorscale": [
             [
              0,
              "#0d0887"
             ],
             [
              0.1111111111111111,
              "#46039f"
             ],
             [
              0.2222222222222222,
              "#7201a8"
             ],
             [
              0.3333333333333333,
              "#9c179e"
             ],
             [
              0.4444444444444444,
              "#bd3786"
             ],
             [
              0.5555555555555556,
              "#d8576b"
             ],
             [
              0.6666666666666666,
              "#ed7953"
             ],
             [
              0.7777777777777778,
              "#fb9f3a"
             ],
             [
              0.8888888888888888,
              "#fdca26"
             ],
             [
              1,
              "#f0f921"
             ]
            ],
            "type": "histogram2dcontour"
           }
          ],
          "mesh3d": [
           {
            "colorbar": {
             "outlinewidth": 0,
             "ticks": ""
            },
            "type": "mesh3d"
           }
          ],
          "parcoords": [
           {
            "line": {
             "colorbar": {
              "outlinewidth": 0,
              "ticks": ""
             }
            },
            "type": "parcoords"
           }
          ],
          "pie": [
           {
            "automargin": true,
            "type": "pie"
           }
          ],
          "scatter": [
           {
            "fillpattern": {
             "fillmode": "overlay",
             "size": 10,
             "solidity": 0.2
            },
            "type": "scatter"
           }
          ],
          "scatter3d": [
           {
            "line": {
             "colorbar": {
              "outlinewidth": 0,
              "ticks": ""
             }
            },
            "marker": {
             "colorbar": {
              "outlinewidth": 0,
              "ticks": ""
             }
            },
            "type": "scatter3d"
           }
          ],
          "scattercarpet": [
           {
            "marker": {
             "colorbar": {
              "outlinewidth": 0,
              "ticks": ""
             }
            },
            "type": "scattercarpet"
           }
          ],
          "scattergeo": [
           {
            "marker": {
             "colorbar": {
              "outlinewidth": 0,
              "ticks": ""
             }
            },
            "type": "scattergeo"
           }
          ],
          "scattergl": [
           {
            "marker": {
             "colorbar": {
              "outlinewidth": 0,
              "ticks": ""
             }
            },
            "type": "scattergl"
           }
          ],
          "scattermapbox": [
           {
            "marker": {
             "colorbar": {
              "outlinewidth": 0,
              "ticks": ""
             }
            },
            "type": "scattermapbox"
           }
          ],
          "scatterpolar": [
           {
            "marker": {
             "colorbar": {
              "outlinewidth": 0,
              "ticks": ""
             }
            },
            "type": "scatterpolar"
           }
          ],
          "scatterpolargl": [
           {
            "marker": {
             "colorbar": {
              "outlinewidth": 0,
              "ticks": ""
             }
            },
            "type": "scatterpolargl"
           }
          ],
          "scatterternary": [
           {
            "marker": {
             "colorbar": {
              "outlinewidth": 0,
              "ticks": ""
             }
            },
            "type": "scatterternary"
           }
          ],
          "surface": [
           {
            "colorbar": {
             "outlinewidth": 0,
             "ticks": ""
            },
            "colorscale": [
             [
              0,
              "#0d0887"
             ],
             [
              0.1111111111111111,
              "#46039f"
             ],
             [
              0.2222222222222222,
              "#7201a8"
             ],
             [
              0.3333333333333333,
              "#9c179e"
             ],
             [
              0.4444444444444444,
              "#bd3786"
             ],
             [
              0.5555555555555556,
              "#d8576b"
             ],
             [
              0.6666666666666666,
              "#ed7953"
             ],
             [
              0.7777777777777778,
              "#fb9f3a"
             ],
             [
              0.8888888888888888,
              "#fdca26"
             ],
             [
              1,
              "#f0f921"
             ]
            ],
            "type": "surface"
           }
          ],
          "table": [
           {
            "cells": {
             "fill": {
              "color": "#EBF0F8"
             },
             "line": {
              "color": "white"
             }
            },
            "header": {
             "fill": {
              "color": "#C8D4E3"
             },
             "line": {
              "color": "white"
             }
            },
            "type": "table"
           }
          ]
         },
         "layout": {
          "annotationdefaults": {
           "arrowcolor": "#2a3f5f",
           "arrowhead": 0,
           "arrowwidth": 1
          },
          "autotypenumbers": "strict",
          "coloraxis": {
           "colorbar": {
            "outlinewidth": 0,
            "ticks": ""
           }
          },
          "colorscale": {
           "diverging": [
            [
             0,
             "#8e0152"
            ],
            [
             0.1,
             "#c51b7d"
            ],
            [
             0.2,
             "#de77ae"
            ],
            [
             0.3,
             "#f1b6da"
            ],
            [
             0.4,
             "#fde0ef"
            ],
            [
             0.5,
             "#f7f7f7"
            ],
            [
             0.6,
             "#e6f5d0"
            ],
            [
             0.7,
             "#b8e186"
            ],
            [
             0.8,
             "#7fbc41"
            ],
            [
             0.9,
             "#4d9221"
            ],
            [
             1,
             "#276419"
            ]
           ],
           "sequential": [
            [
             0,
             "#0d0887"
            ],
            [
             0.1111111111111111,
             "#46039f"
            ],
            [
             0.2222222222222222,
             "#7201a8"
            ],
            [
             0.3333333333333333,
             "#9c179e"
            ],
            [
             0.4444444444444444,
             "#bd3786"
            ],
            [
             0.5555555555555556,
             "#d8576b"
            ],
            [
             0.6666666666666666,
             "#ed7953"
            ],
            [
             0.7777777777777778,
             "#fb9f3a"
            ],
            [
             0.8888888888888888,
             "#fdca26"
            ],
            [
             1,
             "#f0f921"
            ]
           ],
           "sequentialminus": [
            [
             0,
             "#0d0887"
            ],
            [
             0.1111111111111111,
             "#46039f"
            ],
            [
             0.2222222222222222,
             "#7201a8"
            ],
            [
             0.3333333333333333,
             "#9c179e"
            ],
            [
             0.4444444444444444,
             "#bd3786"
            ],
            [
             0.5555555555555556,
             "#d8576b"
            ],
            [
             0.6666666666666666,
             "#ed7953"
            ],
            [
             0.7777777777777778,
             "#fb9f3a"
            ],
            [
             0.8888888888888888,
             "#fdca26"
            ],
            [
             1,
             "#f0f921"
            ]
           ]
          },
          "colorway": [
           "#636efa",
           "#EF553B",
           "#00cc96",
           "#ab63fa",
           "#FFA15A",
           "#19d3f3",
           "#FF6692",
           "#B6E880",
           "#FF97FF",
           "#FECB52"
          ],
          "font": {
           "color": "#2a3f5f"
          },
          "geo": {
           "bgcolor": "white",
           "lakecolor": "white",
           "landcolor": "white",
           "showlakes": true,
           "showland": true,
           "subunitcolor": "#C8D4E3"
          },
          "hoverlabel": {
           "align": "left"
          },
          "hovermode": "closest",
          "mapbox": {
           "style": "light"
          },
          "paper_bgcolor": "white",
          "plot_bgcolor": "white",
          "polar": {
           "angularaxis": {
            "gridcolor": "#EBF0F8",
            "linecolor": "#EBF0F8",
            "ticks": ""
           },
           "bgcolor": "white",
           "radialaxis": {
            "gridcolor": "#EBF0F8",
            "linecolor": "#EBF0F8",
            "ticks": ""
           }
          },
          "scene": {
           "xaxis": {
            "backgroundcolor": "white",
            "gridcolor": "#DFE8F3",
            "gridwidth": 2,
            "linecolor": "#EBF0F8",
            "showbackground": true,
            "ticks": "",
            "zerolinecolor": "#EBF0F8"
           },
           "yaxis": {
            "backgroundcolor": "white",
            "gridcolor": "#DFE8F3",
            "gridwidth": 2,
            "linecolor": "#EBF0F8",
            "showbackground": true,
            "ticks": "",
            "zerolinecolor": "#EBF0F8"
           },
           "zaxis": {
            "backgroundcolor": "white",
            "gridcolor": "#DFE8F3",
            "gridwidth": 2,
            "linecolor": "#EBF0F8",
            "showbackground": true,
            "ticks": "",
            "zerolinecolor": "#EBF0F8"
           }
          },
          "shapedefaults": {
           "line": {
            "color": "#2a3f5f"
           }
          },
          "ternary": {
           "aaxis": {
            "gridcolor": "#DFE8F3",
            "linecolor": "#A2B1C6",
            "ticks": ""
           },
           "baxis": {
            "gridcolor": "#DFE8F3",
            "linecolor": "#A2B1C6",
            "ticks": ""
           },
           "bgcolor": "white",
           "caxis": {
            "gridcolor": "#DFE8F3",
            "linecolor": "#A2B1C6",
            "ticks": ""
           }
          },
          "title": {
           "x": 0.05
          },
          "xaxis": {
           "automargin": true,
           "gridcolor": "#EBF0F8",
           "linecolor": "#EBF0F8",
           "ticks": "",
           "title": {
            "standoff": 15
           },
           "zerolinecolor": "#EBF0F8",
           "zerolinewidth": 2
          },
          "yaxis": {
           "automargin": true,
           "gridcolor": "#EBF0F8",
           "linecolor": "#EBF0F8",
           "ticks": "",
           "title": {
            "standoff": 15
           },
           "zerolinecolor": "#EBF0F8",
           "zerolinewidth": 2
          }
         }
        },
        "xaxis": {
         "title": {
          "text": "Time (years)"
         }
        },
        "yaxis": {
         "tickformat": ".2%",
         "title": {
          "text": "Annualized Short Rate"
         }
        }
       }
      }
     },
     "metadata": {},
     "output_type": "display_data"
    }
   ],
   "source": [
    "figs[0].show()"
   ]
  },
  {
   "cell_type": "markdown",
   "metadata": {},
   "source": [
    "# ZERO_COUPON TREE"
   ]
  },
  {
   "cell_type": "code",
   "execution_count": 9,
   "metadata": {},
   "outputs": [
    {
     "data": {
      "application/vnd.plotly.v1+json": {
       "config": {
        "plotlyServerURL": "https://plot.ly"
       },
       "data": [
        {
         "hovertemplate": "$%{y:,.2f}<extra></extra>",
         "line": {
          "color": "blue"
         },
         "marker": {
          "color": "blue",
          "size": 10
         },
         "mode": "lines+markers",
         "type": "scatter",
         "x": [
          0.5,
          0,
          0.5
         ],
         "y": [
          87.64926494801588,
          88.28936162356804,
          90.44631139957403
         ]
        },
        {
         "hovertemplate": "$%{y:,.2f}<extra></extra>",
         "line": {
          "color": "blue"
         },
         "marker": {
          "color": "blue",
          "size": 10
         },
         "mode": "lines+markers",
         "type": "scatter",
         "x": [
          1,
          0.5,
          1,
          0.5,
          1
         ],
         "y": [
          87.38066213153209,
          87.64926494801588,
          89.84937968519897,
          90.44631139957403,
          92.39684106958792
         ]
        },
        {
         "hovertemplate": "$%{y:,.2f}<extra></extra>",
         "line": {
          "color": "blue"
         },
         "marker": {
          "color": "blue",
          "size": 10
         },
         "mode": "lines+markers",
         "type": "scatter",
         "x": [
          1.5,
          1,
          1.5,
          1,
          1.5,
          1,
          1.5
         ],
         "y": [
          87.53521097547288,
          87.38066213153209,
          89.69064216288555,
          89.84937968519897,
          91.90694399841666,
          92.39684106958792,
          94.1860572341452
         ]
        },
        {
         "hovertemplate": "$%{y:,.2f}<extra></extra>",
         "line": {
          "color": "blue"
         },
         "marker": {
          "color": "blue",
          "size": 10
         },
         "mode": "lines+markers",
         "type": "scatter",
         "x": [
          2,
          1.5,
          2,
          1.5,
          2,
          1.5,
          2,
          1.5,
          2
         ],
         "y": [
          88.1123104586786,
          87.53521097547288,
          89.9648553680419,
          89.69064216288555,
          91.8630010505479,
          91.90694399841666,
          93.80803485875317,
          94.1860572341452,
          95.80128517607329
         ]
        },
        {
         "hovertemplate": "$%{y:,.2f}<extra></extra>",
         "line": {
          "color": "blue"
         },
         "marker": {
          "color": "blue",
          "size": 10
         },
         "mode": "lines+markers",
         "type": "scatter",
         "x": [
          2.5,
          2,
          2.5,
          2,
          2.5,
          2,
          2.5,
          2,
          2.5,
          2,
          2.5
         ],
         "y": [
          89.11744543091658,
          88.1123104586786,
          90.67305288780445,
          89.9648553680419,
          92.26135956458221,
          91.8630010505479,
          93.88317018298017,
          93.80803485875317,
          95.53931217778369,
          95.80128517607329,
          97.23063642059026
         ]
        },
        {
         "hovertemplate": "$%{y:,.2f}<extra></extra>",
         "line": {
          "color": "blue"
         },
         "marker": {
          "color": "blue",
          "size": 10
         },
         "mode": "lines+markers",
         "type": "scatter",
         "x": [
          3,
          2.5,
          3,
          2.5,
          3,
          2.5,
          3,
          2.5,
          3,
          2.5,
          3,
          2.5,
          3
         ],
         "y": [
          90.51988795858925,
          89.11744543091658,
          91.77939978891419,
          90.67305288780445,
          93.06089446235352,
          92.26135956458221,
          94.36483400378486,
          93.88317018298017,
          95.69169180696422,
          95.53931217778369,
          97.04195295536809,
          97.23063642059026,
          98.41611455325776
         ]
        },
        {
         "hovertemplate": "$%{y:,.2f}<extra></extra>",
         "line": {
          "color": "blue"
         },
         "marker": {
          "color": "blue",
          "size": 10
         },
         "mode": "lines+markers",
         "type": "scatter",
         "x": [
          3.5,
          3,
          3.5,
          3,
          3.5,
          3,
          3.5,
          3,
          3.5,
          3,
          3.5,
          3,
          3.5,
          3,
          3.5
         ],
         "y": [
          92.29266169738791,
          90.51988795858925,
          93.25235181003166,
          91.77939978891419,
          94.2253937755396,
          93.06089446235352,
          95.21202060428396,
          94.36483400378486,
          96.21247020339545,
          95.69169180696422,
          97.22698549724275,
          97.04195295536809,
          98.25581455131147,
          98.41611455325776,
          99.29921069959138
         ]
        },
        {
         "hovertemplate": "$%{y:,.2f}<extra></extra>",
         "line": {
          "color": "blue"
         },
         "marker": {
          "color": "blue",
          "size": 10
         },
         "mode": "lines+markers",
         "type": "scatter",
         "x": [
          4,
          3.5,
          4,
          3.5,
          4,
          3.5,
          4,
          3.5,
          4,
          3.5,
          4,
          3.5,
          4,
          3.5,
          4,
          3.5,
          4
         ],
         "y": [
          94.44816604804515,
          92.29266169738791,
          95.10057331732853,
          93.25235181003166,
          95.75976383735957,
          94.2253937755396,
          96.4258319715128,
          95.21202060428396,
          97.09887372977795,
          96.21247020339545,
          97.77898680336001,
          97.22698549724275,
          98.4662706001311,
          98.25581455131147,
          99.16082628095702,
          99.29921069959138,
          99.86275679692427
         ]
        },
        {
         "hovertemplate": "$%{y:,.2f}<extra></extra>",
         "line": {
          "color": "blue"
         },
         "marker": {
          "color": "blue",
          "size": 10
         },
         "mode": "lines+markers",
         "type": "scatter",
         "x": [
          4.5,
          4,
          4.5,
          4,
          4.5,
          4,
          4.5,
          4,
          4.5,
          4,
          4.5,
          4,
          4.5,
          4,
          4.5,
          4,
          4.5,
          4,
          4.5
         ],
         "y": [
          97.00294342766173,
          94.44816604804515,
          97.33676687348616,
          95.10057331732853,
          97.67289587651443,
          95.75976383735957,
          98.01135440456764,
          96.4258319715128,
          98.35216675883758,
          97.09887372977795,
          98.69535757970321,
          97.77898680336001,
          99.04095185266898,
          98.4662706001311,
          99.38897491442876,
          99.16082628095702,
          99.7394524590578,
          99.86275679692427,
          100.09241054433622
         ]
        },
        {
         "hovertemplate": "$%{y:,.2f}<extra></extra>",
         "line": {
          "color": "blue"
         },
         "marker": {
          "color": "blue",
          "size": 10
         },
         "mode": "lines+markers",
         "type": "scatter",
         "x": [
          5,
          4.5,
          5,
          4.5,
          5,
          4.5,
          5,
          4.5,
          5,
          4.5,
          5,
          4.5,
          5,
          4.5,
          5,
          4.5,
          5,
          4.5,
          5,
          4.5,
          5
         ],
         "y": [
          100,
          97.00294342766173,
          100,
          97.33676687348616,
          100,
          97.67289587651443,
          100,
          98.01135440456764,
          100,
          98.35216675883758,
          100,
          98.69535757970321,
          100,
          99.04095185266898,
          100,
          99.38897491442876,
          100,
          99.7394524590578,
          100,
          100.09241054433622,
          100
         ]
        }
       ],
       "layout": {
        "showlegend": false,
        "template": {
         "data": {
          "bar": [
           {
            "error_x": {
             "color": "#2a3f5f"
            },
            "error_y": {
             "color": "#2a3f5f"
            },
            "marker": {
             "line": {
              "color": "white",
              "width": 0.5
             },
             "pattern": {
              "fillmode": "overlay",
              "size": 10,
              "solidity": 0.2
             }
            },
            "type": "bar"
           }
          ],
          "barpolar": [
           {
            "marker": {
             "line": {
              "color": "white",
              "width": 0.5
             },
             "pattern": {
              "fillmode": "overlay",
              "size": 10,
              "solidity": 0.2
             }
            },
            "type": "barpolar"
           }
          ],
          "carpet": [
           {
            "aaxis": {
             "endlinecolor": "#2a3f5f",
             "gridcolor": "#C8D4E3",
             "linecolor": "#C8D4E3",
             "minorgridcolor": "#C8D4E3",
             "startlinecolor": "#2a3f5f"
            },
            "baxis": {
             "endlinecolor": "#2a3f5f",
             "gridcolor": "#C8D4E3",
             "linecolor": "#C8D4E3",
             "minorgridcolor": "#C8D4E3",
             "startlinecolor": "#2a3f5f"
            },
            "type": "carpet"
           }
          ],
          "choropleth": [
           {
            "colorbar": {
             "outlinewidth": 0,
             "ticks": ""
            },
            "type": "choropleth"
           }
          ],
          "contour": [
           {
            "colorbar": {
             "outlinewidth": 0,
             "ticks": ""
            },
            "colorscale": [
             [
              0,
              "#0d0887"
             ],
             [
              0.1111111111111111,
              "#46039f"
             ],
             [
              0.2222222222222222,
              "#7201a8"
             ],
             [
              0.3333333333333333,
              "#9c179e"
             ],
             [
              0.4444444444444444,
              "#bd3786"
             ],
             [
              0.5555555555555556,
              "#d8576b"
             ],
             [
              0.6666666666666666,
              "#ed7953"
             ],
             [
              0.7777777777777778,
              "#fb9f3a"
             ],
             [
              0.8888888888888888,
              "#fdca26"
             ],
             [
              1,
              "#f0f921"
             ]
            ],
            "type": "contour"
           }
          ],
          "contourcarpet": [
           {
            "colorbar": {
             "outlinewidth": 0,
             "ticks": ""
            },
            "type": "contourcarpet"
           }
          ],
          "heatmap": [
           {
            "colorbar": {
             "outlinewidth": 0,
             "ticks": ""
            },
            "colorscale": [
             [
              0,
              "#0d0887"
             ],
             [
              0.1111111111111111,
              "#46039f"
             ],
             [
              0.2222222222222222,
              "#7201a8"
             ],
             [
              0.3333333333333333,
              "#9c179e"
             ],
             [
              0.4444444444444444,
              "#bd3786"
             ],
             [
              0.5555555555555556,
              "#d8576b"
             ],
             [
              0.6666666666666666,
              "#ed7953"
             ],
             [
              0.7777777777777778,
              "#fb9f3a"
             ],
             [
              0.8888888888888888,
              "#fdca26"
             ],
             [
              1,
              "#f0f921"
             ]
            ],
            "type": "heatmap"
           }
          ],
          "heatmapgl": [
           {
            "colorbar": {
             "outlinewidth": 0,
             "ticks": ""
            },
            "colorscale": [
             [
              0,
              "#0d0887"
             ],
             [
              0.1111111111111111,
              "#46039f"
             ],
             [
              0.2222222222222222,
              "#7201a8"
             ],
             [
              0.3333333333333333,
              "#9c179e"
             ],
             [
              0.4444444444444444,
              "#bd3786"
             ],
             [
              0.5555555555555556,
              "#d8576b"
             ],
             [
              0.6666666666666666,
              "#ed7953"
             ],
             [
              0.7777777777777778,
              "#fb9f3a"
             ],
             [
              0.8888888888888888,
              "#fdca26"
             ],
             [
              1,
              "#f0f921"
             ]
            ],
            "type": "heatmapgl"
           }
          ],
          "histogram": [
           {
            "marker": {
             "pattern": {
              "fillmode": "overlay",
              "size": 10,
              "solidity": 0.2
             }
            },
            "type": "histogram"
           }
          ],
          "histogram2d": [
           {
            "colorbar": {
             "outlinewidth": 0,
             "ticks": ""
            },
            "colorscale": [
             [
              0,
              "#0d0887"
             ],
             [
              0.1111111111111111,
              "#46039f"
             ],
             [
              0.2222222222222222,
              "#7201a8"
             ],
             [
              0.3333333333333333,
              "#9c179e"
             ],
             [
              0.4444444444444444,
              "#bd3786"
             ],
             [
              0.5555555555555556,
              "#d8576b"
             ],
             [
              0.6666666666666666,
              "#ed7953"
             ],
             [
              0.7777777777777778,
              "#fb9f3a"
             ],
             [
              0.8888888888888888,
              "#fdca26"
             ],
             [
              1,
              "#f0f921"
             ]
            ],
            "type": "histogram2d"
           }
          ],
          "histogram2dcontour": [
           {
            "colorbar": {
             "outlinewidth": 0,
             "ticks": ""
            },
            "colorscale": [
             [
              0,
              "#0d0887"
             ],
             [
              0.1111111111111111,
              "#46039f"
             ],
             [
              0.2222222222222222,
              "#7201a8"
             ],
             [
              0.3333333333333333,
              "#9c179e"
             ],
             [
              0.4444444444444444,
              "#bd3786"
             ],
             [
              0.5555555555555556,
              "#d8576b"
             ],
             [
              0.6666666666666666,
              "#ed7953"
             ],
             [
              0.7777777777777778,
              "#fb9f3a"
             ],
             [
              0.8888888888888888,
              "#fdca26"
             ],
             [
              1,
              "#f0f921"
             ]
            ],
            "type": "histogram2dcontour"
           }
          ],
          "mesh3d": [
           {
            "colorbar": {
             "outlinewidth": 0,
             "ticks": ""
            },
            "type": "mesh3d"
           }
          ],
          "parcoords": [
           {
            "line": {
             "colorbar": {
              "outlinewidth": 0,
              "ticks": ""
             }
            },
            "type": "parcoords"
           }
          ],
          "pie": [
           {
            "automargin": true,
            "type": "pie"
           }
          ],
          "scatter": [
           {
            "fillpattern": {
             "fillmode": "overlay",
             "size": 10,
             "solidity": 0.2
            },
            "type": "scatter"
           }
          ],
          "scatter3d": [
           {
            "line": {
             "colorbar": {
              "outlinewidth": 0,
              "ticks": ""
             }
            },
            "marker": {
             "colorbar": {
              "outlinewidth": 0,
              "ticks": ""
             }
            },
            "type": "scatter3d"
           }
          ],
          "scattercarpet": [
           {
            "marker": {
             "colorbar": {
              "outlinewidth": 0,
              "ticks": ""
             }
            },
            "type": "scattercarpet"
           }
          ],
          "scattergeo": [
           {
            "marker": {
             "colorbar": {
              "outlinewidth": 0,
              "ticks": ""
             }
            },
            "type": "scattergeo"
           }
          ],
          "scattergl": [
           {
            "marker": {
             "colorbar": {
              "outlinewidth": 0,
              "ticks": ""
             }
            },
            "type": "scattergl"
           }
          ],
          "scattermapbox": [
           {
            "marker": {
             "colorbar": {
              "outlinewidth": 0,
              "ticks": ""
             }
            },
            "type": "scattermapbox"
           }
          ],
          "scatterpolar": [
           {
            "marker": {
             "colorbar": {
              "outlinewidth": 0,
              "ticks": ""
             }
            },
            "type": "scatterpolar"
           }
          ],
          "scatterpolargl": [
           {
            "marker": {
             "colorbar": {
              "outlinewidth": 0,
              "ticks": ""
             }
            },
            "type": "scatterpolargl"
           }
          ],
          "scatterternary": [
           {
            "marker": {
             "colorbar": {
              "outlinewidth": 0,
              "ticks": ""
             }
            },
            "type": "scatterternary"
           }
          ],
          "surface": [
           {
            "colorbar": {
             "outlinewidth": 0,
             "ticks": ""
            },
            "colorscale": [
             [
              0,
              "#0d0887"
             ],
             [
              0.1111111111111111,
              "#46039f"
             ],
             [
              0.2222222222222222,
              "#7201a8"
             ],
             [
              0.3333333333333333,
              "#9c179e"
             ],
             [
              0.4444444444444444,
              "#bd3786"
             ],
             [
              0.5555555555555556,
              "#d8576b"
             ],
             [
              0.6666666666666666,
              "#ed7953"
             ],
             [
              0.7777777777777778,
              "#fb9f3a"
             ],
             [
              0.8888888888888888,
              "#fdca26"
             ],
             [
              1,
              "#f0f921"
             ]
            ],
            "type": "surface"
           }
          ],
          "table": [
           {
            "cells": {
             "fill": {
              "color": "#EBF0F8"
             },
             "line": {
              "color": "white"
             }
            },
            "header": {
             "fill": {
              "color": "#C8D4E3"
             },
             "line": {
              "color": "white"
             }
            },
            "type": "table"
           }
          ]
         },
         "layout": {
          "annotationdefaults": {
           "arrowcolor": "#2a3f5f",
           "arrowhead": 0,
           "arrowwidth": 1
          },
          "autotypenumbers": "strict",
          "coloraxis": {
           "colorbar": {
            "outlinewidth": 0,
            "ticks": ""
           }
          },
          "colorscale": {
           "diverging": [
            [
             0,
             "#8e0152"
            ],
            [
             0.1,
             "#c51b7d"
            ],
            [
             0.2,
             "#de77ae"
            ],
            [
             0.3,
             "#f1b6da"
            ],
            [
             0.4,
             "#fde0ef"
            ],
            [
             0.5,
             "#f7f7f7"
            ],
            [
             0.6,
             "#e6f5d0"
            ],
            [
             0.7,
             "#b8e186"
            ],
            [
             0.8,
             "#7fbc41"
            ],
            [
             0.9,
             "#4d9221"
            ],
            [
             1,
             "#276419"
            ]
           ],
           "sequential": [
            [
             0,
             "#0d0887"
            ],
            [
             0.1111111111111111,
             "#46039f"
            ],
            [
             0.2222222222222222,
             "#7201a8"
            ],
            [
             0.3333333333333333,
             "#9c179e"
            ],
            [
             0.4444444444444444,
             "#bd3786"
            ],
            [
             0.5555555555555556,
             "#d8576b"
            ],
            [
             0.6666666666666666,
             "#ed7953"
            ],
            [
             0.7777777777777778,
             "#fb9f3a"
            ],
            [
             0.8888888888888888,
             "#fdca26"
            ],
            [
             1,
             "#f0f921"
            ]
           ],
           "sequentialminus": [
            [
             0,
             "#0d0887"
            ],
            [
             0.1111111111111111,
             "#46039f"
            ],
            [
             0.2222222222222222,
             "#7201a8"
            ],
            [
             0.3333333333333333,
             "#9c179e"
            ],
            [
             0.4444444444444444,
             "#bd3786"
            ],
            [
             0.5555555555555556,
             "#d8576b"
            ],
            [
             0.6666666666666666,
             "#ed7953"
            ],
            [
             0.7777777777777778,
             "#fb9f3a"
            ],
            [
             0.8888888888888888,
             "#fdca26"
            ],
            [
             1,
             "#f0f921"
            ]
           ]
          },
          "colorway": [
           "#636efa",
           "#EF553B",
           "#00cc96",
           "#ab63fa",
           "#FFA15A",
           "#19d3f3",
           "#FF6692",
           "#B6E880",
           "#FF97FF",
           "#FECB52"
          ],
          "font": {
           "color": "#2a3f5f"
          },
          "geo": {
           "bgcolor": "white",
           "lakecolor": "white",
           "landcolor": "white",
           "showlakes": true,
           "showland": true,
           "subunitcolor": "#C8D4E3"
          },
          "hoverlabel": {
           "align": "left"
          },
          "hovermode": "closest",
          "mapbox": {
           "style": "light"
          },
          "paper_bgcolor": "white",
          "plot_bgcolor": "white",
          "polar": {
           "angularaxis": {
            "gridcolor": "#EBF0F8",
            "linecolor": "#EBF0F8",
            "ticks": ""
           },
           "bgcolor": "white",
           "radialaxis": {
            "gridcolor": "#EBF0F8",
            "linecolor": "#EBF0F8",
            "ticks": ""
           }
          },
          "scene": {
           "xaxis": {
            "backgroundcolor": "white",
            "gridcolor": "#DFE8F3",
            "gridwidth": 2,
            "linecolor": "#EBF0F8",
            "showbackground": true,
            "ticks": "",
            "zerolinecolor": "#EBF0F8"
           },
           "yaxis": {
            "backgroundcolor": "white",
            "gridcolor": "#DFE8F3",
            "gridwidth": 2,
            "linecolor": "#EBF0F8",
            "showbackground": true,
            "ticks": "",
            "zerolinecolor": "#EBF0F8"
           },
           "zaxis": {
            "backgroundcolor": "white",
            "gridcolor": "#DFE8F3",
            "gridwidth": 2,
            "linecolor": "#EBF0F8",
            "showbackground": true,
            "ticks": "",
            "zerolinecolor": "#EBF0F8"
           }
          },
          "shapedefaults": {
           "line": {
            "color": "#2a3f5f"
           }
          },
          "ternary": {
           "aaxis": {
            "gridcolor": "#DFE8F3",
            "linecolor": "#A2B1C6",
            "ticks": ""
           },
           "baxis": {
            "gridcolor": "#DFE8F3",
            "linecolor": "#A2B1C6",
            "ticks": ""
           },
           "bgcolor": "white",
           "caxis": {
            "gridcolor": "#DFE8F3",
            "linecolor": "#A2B1C6",
            "ticks": ""
           }
          },
          "title": {
           "x": 0.05
          },
          "xaxis": {
           "automargin": true,
           "gridcolor": "#EBF0F8",
           "linecolor": "#EBF0F8",
           "ticks": "",
           "title": {
            "standoff": 15
           },
           "zerolinecolor": "#EBF0F8",
           "zerolinewidth": 2
          },
          "yaxis": {
           "automargin": true,
           "gridcolor": "#EBF0F8",
           "linecolor": "#EBF0F8",
           "ticks": "",
           "title": {
            "standoff": 15
           },
           "zerolinecolor": "#EBF0F8",
           "zerolinewidth": 2
          }
         }
        },
        "xaxis": {
         "title": {
          "text": "Time (years)"
         }
        },
        "yaxis": {
         "autorange": "reversed",
         "tickformat": ".0f",
         "tickprefix": "$",
         "title": {
          "text": "Zero Coupon Bond Price"
         }
        }
       }
      }
     },
     "metadata": {},
     "output_type": "display_data"
    }
   ],
   "source": [
    "figs[1].show()"
   ]
  }
 ],
 "metadata": {
  "colab": {
   "include_colab_link": true,
   "name": "option adjusted spreads.ipynb",
   "provenance": []
  },
  "kernelspec": {
   "display_name": "Python 3",
   "language": "python",
   "name": "python3"
  },
  "language_info": {
   "codemirror_mode": {
    "name": "ipython",
    "version": 3
   },
   "file_extension": ".py",
   "mimetype": "text/x-python",
   "name": "python",
   "nbconvert_exporter": "python",
   "pygments_lexer": "ipython3",
   "version": "3.11.1"
  }
 },
 "nbformat": 4,
 "nbformat_minor": 0
}
