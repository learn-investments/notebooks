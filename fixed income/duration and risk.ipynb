{
  "nbformat": 4,
  "nbformat_minor": 0,
  "metadata": {
    "colab": {
      "name": "duration_risk.ipynb",
      "provenance": [],
      "authorship_tag": "ABX9TyNG13IMiy2gbTOko9+dP2Vl",
      "include_colab_link": true
    },
    "kernelspec": {
      "name": "python3",
      "display_name": "Python 3"
    },
    "language_info": {
      "name": "python"
    }
  },
  "cells": [
    {
      "cell_type": "markdown",
      "metadata": {
        "id": "view-in-github",
        "colab_type": "text"
      },
      "source": [
        "<a href=\"https://colab.research.google.com/github/bbcx-investments/notebooks/blob/main/fixed_income/duration_risk.ipynb\" target=\"_parent\"><img src=\"https://colab.research.google.com/assets/colab-badge.svg\" alt=\"Open In Colab\"/></a>"
      ]
    },
    {
      "cell_type": "code",
      "execution_count": 1,
      "metadata": {
        "id": "MVD-TXTUvGmF"
      },
      "outputs": [],
      "source": [
        "import numpy as np"
      ]
    },
    {
      "cell_type": "code",
      "source": [
        "# Example\n",
        "face_value = 100\n",
        "maturity = 10            # 10 years maturity\n",
        "coupon_rate = 0.05       # annual coupon rate\n",
        "yld = 0.05               # yield of this bond with $100 face value is 5%\n",
        "\n",
        "# coupon pays twice a year\n",
        "n = int(2 * maturity)\n",
        "coupon = coupon_rate*100 / 2  # coupon in $\n",
        "cashFlows = [coupon] * (n - 1) + [100 + coupon]\n",
        "\n",
        "# present value of the cash flow by discounting at the bond yield\n",
        "pvs = cashFlows / (1 + yld / 2) ** np.arange(1, n + 1)\n",
        "\n",
        "# duration\n",
        "pcts = pvs / np.sum(pvs)\n",
        "times = np.array([i / 2 for i in range(1, n + 1)])\n",
        "duration = np.sum(pcts * times) / (1 + yld / 2)\n",
        "print(\"The modified duration of this bond is\", duration.round(3))"
      ],
      "metadata": {
        "colab": {
          "base_uri": "https://localhost:8080/"
        },
        "id": "-xSl0eJavIF2",
        "outputId": "19be3896-4bd5-40ab-eaf4-59be99af2c8e"
      },
      "execution_count": 3,
      "outputs": [
        {
          "output_type": "stream",
          "name": "stdout",
          "text": [
            "The modified duration of this bond is 7.795\n"
          ]
        }
      ]
    },
    {
      "cell_type": "code",
      "source": [
        "# the price of this bond with face value $100\n",
        "price = np.sum(pvs)\n",
        "\n",
        "# new cashflows, yld and pvs when the yield increases by 2%\n",
        "change_yld = 0.02\n",
        "cashFlows_new = [coupon] * (n - 1) + [100 + coupon]\n",
        "yld_new = yld + change_yld\n",
        "pvs_new = cashFlows / (1 + yld_new / 2) ** np.arange(1, n + 1)\n",
        "\n",
        "# new price\n",
        "price_new = np.sum(pvs_new)\n",
        "\n",
        "# compute % change in price\n",
        "pct_change = (price_new - price)/price\n",
        "print(\"The percent change in the price when the change in yield is\",\n",
        "      \"{:.1%}\".format(change_yld), \"is\",  \"{:.2%}\".format(pct_change))"
      ],
      "metadata": {
        "colab": {
          "base_uri": "https://localhost:8080/"
        },
        "id": "-tj5LxpHvLWA",
        "outputId": "11c326b9-21f2-4afa-a6b5-e0826719706b"
      },
      "execution_count": 5,
      "outputs": [
        {
          "output_type": "stream",
          "name": "stdout",
          "text": [
            "The percent change in the price when the change in yield is 2.0% is -14.21%\n"
          ]
        }
      ]
    },
    {
      "cell_type": "code",
      "source": [
        "# % change in price is approximately equals to - modified duration x change in yield\n",
        "duration_change_yld = duration * change_yld\n",
        "print(\"The negative of the modified duration multiplied by the change in the yield is\", \"{:.2%}\".format(-duration_change_yld))"
      ],
      "metadata": {
        "colab": {
          "base_uri": "https://localhost:8080/"
        },
        "id": "rFiNpTE2vRWC",
        "outputId": "c32ef8dd-494f-4416-d4a0-2b34490f2f5b"
      },
      "execution_count": 6,
      "outputs": [
        {
          "output_type": "stream",
          "name": "stdout",
          "text": [
            "The negative of the modified duration multiplied by the change in the yield is -15.59%\n"
          ]
        }
      ]
    },
    {
      "cell_type": "code",
      "source": [
        ""
      ],
      "metadata": {
        "id": "4UaJLUruvonJ"
      },
      "execution_count": null,
      "outputs": []
    }
  ]
}