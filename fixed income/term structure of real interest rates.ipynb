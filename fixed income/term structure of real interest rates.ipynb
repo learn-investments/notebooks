{
  "cells": [
    {
      "cell_type": "markdown",
      "metadata": {
        "id": "view-in-github",
        "colab_type": "text"
      },
      "source": [
        "<a href=\"https://colab.research.google.com/github/bbcx-investments/notebooks/blob/main/bonds/real_termstructure.ipynb\" target=\"_parent\"><img src=\"https://colab.research.google.com/assets/colab-badge.svg\" alt=\"Open In Colab\"/></a>"
      ]
    },
    {
      "cell_type": "code",
      "execution_count": null,
      "outputs": [
        {
          "data": {
            "text/plain": "          DFII5   DFII7  DFII10  DFII20  DFII30\nmonth                                          \n2010-02  0.0039  0.0081  0.0129  0.0192  0.0222\n2010-03  0.0045  0.0098  0.0146  0.0198  0.0214\n2010-04  0.0074  0.0126  0.0161  0.0200  0.0216\n2010-05  0.0047  0.0093  0.0132  0.0172  0.0187\n2010-06  0.0041  0.0082  0.0132  0.0174  0.0183\n...         ...     ...     ...     ...     ...\n2022-02 -0.0117 -0.0087 -0.0062 -0.0025 -0.0008\n2022-03 -0.0158 -0.0121 -0.0090 -0.0041 -0.0016\n2022-04 -0.0073 -0.0057 -0.0041 -0.0015  0.0000\n2022-05 -0.0020  0.0000  0.0018  0.0043  0.0056\n2022-06 -0.0002  0.0014  0.0029  0.0054  0.0067\n\n[149 rows x 5 columns]",
            "text/html": "<div>\n<style scoped>\n    .dataframe tbody tr th:only-of-type {\n        vertical-align: middle;\n    }\n\n    .dataframe tbody tr th {\n        vertical-align: top;\n    }\n\n    .dataframe thead th {\n        text-align: right;\n    }\n</style>\n<table border=\"1\" class=\"dataframe\">\n  <thead>\n    <tr style=\"text-align: right;\">\n      <th></th>\n      <th>DFII5</th>\n      <th>DFII7</th>\n      <th>DFII10</th>\n      <th>DFII20</th>\n      <th>DFII30</th>\n    </tr>\n    <tr>\n      <th>month</th>\n      <th></th>\n      <th></th>\n      <th></th>\n      <th></th>\n      <th></th>\n    </tr>\n  </thead>\n  <tbody>\n    <tr>\n      <th>2010-02</th>\n      <td>0.0039</td>\n      <td>0.0081</td>\n      <td>0.0129</td>\n      <td>0.0192</td>\n      <td>0.0222</td>\n    </tr>\n    <tr>\n      <th>2010-03</th>\n      <td>0.0045</td>\n      <td>0.0098</td>\n      <td>0.0146</td>\n      <td>0.0198</td>\n      <td>0.0214</td>\n    </tr>\n    <tr>\n      <th>2010-04</th>\n      <td>0.0074</td>\n      <td>0.0126</td>\n      <td>0.0161</td>\n      <td>0.0200</td>\n      <td>0.0216</td>\n    </tr>\n    <tr>\n      <th>2010-05</th>\n      <td>0.0047</td>\n      <td>0.0093</td>\n      <td>0.0132</td>\n      <td>0.0172</td>\n      <td>0.0187</td>\n    </tr>\n    <tr>\n      <th>2010-06</th>\n      <td>0.0041</td>\n      <td>0.0082</td>\n      <td>0.0132</td>\n      <td>0.0174</td>\n      <td>0.0183</td>\n    </tr>\n    <tr>\n      <th>...</th>\n      <td>...</td>\n      <td>...</td>\n      <td>...</td>\n      <td>...</td>\n      <td>...</td>\n    </tr>\n    <tr>\n      <th>2022-02</th>\n      <td>-0.0117</td>\n      <td>-0.0087</td>\n      <td>-0.0062</td>\n      <td>-0.0025</td>\n      <td>-0.0008</td>\n    </tr>\n    <tr>\n      <th>2022-03</th>\n      <td>-0.0158</td>\n      <td>-0.0121</td>\n      <td>-0.0090</td>\n      <td>-0.0041</td>\n      <td>-0.0016</td>\n    </tr>\n    <tr>\n      <th>2022-04</th>\n      <td>-0.0073</td>\n      <td>-0.0057</td>\n      <td>-0.0041</td>\n      <td>-0.0015</td>\n      <td>0.0000</td>\n    </tr>\n    <tr>\n      <th>2022-05</th>\n      <td>-0.0020</td>\n      <td>0.0000</td>\n      <td>0.0018</td>\n      <td>0.0043</td>\n      <td>0.0056</td>\n    </tr>\n    <tr>\n      <th>2022-06</th>\n      <td>-0.0002</td>\n      <td>0.0014</td>\n      <td>0.0029</td>\n      <td>0.0054</td>\n      <td>0.0067</td>\n    </tr>\n  </tbody>\n</table>\n<p>149 rows × 5 columns</p>\n</div>"
          },
          "execution_count": 14,
          "metadata": {},
          "output_type": "execute_result"
        }
      ],
      "source": [
        "import pandas as pd\n",
        "from pandas_datareader import DataReader as pdr\n",
        "\n",
        "files = [\"DFII\" + x for x in [\"5\", \"7\", \"10\", \"20\", \"30\"]]\n",
        "df = None\n",
        "\n",
        "# data won't actually start in 1920, this gets earliest dates\n",
        "for f in files:\n",
        "    d = pdr(f, \"fred\", start=1920)\n",
        "    df = pd.concat((df, d), axis=1)\n",
        "df /= 100\n",
        "\n",
        "# move index to column\n",
        "df.index.name = \"date\"\n",
        "df = df.reset_index()\n",
        "\n",
        "# convert to monthly format and then save first day of the month\n",
        "df[\"month\"] = df.date.dt.to_period(\"M\").astype(str)\n",
        "df = df.groupby(\"month\").first()\n",
        "df = df.dropna(subset=['DFII30'])\n",
        "df = df[files]\n",
        "df"
      ],
      "metadata": {
        "pycharm": {
          "name": "#%%\n"
        },
        "id": "qQzgZTSJJnC2",
        "outputId": "24f34efe-5609-4ba2-b32a-a39742f4ae63"
      }
    },
    {
      "cell_type": "code",
      "execution_count": null,
      "outputs": [],
      "source": [
        ""
      ],
      "metadata": {
        "pycharm": {
          "name": "#%%\n"
        },
        "id": "2hsT87p5JnC5"
      }
    }
  ],
  "metadata": {
    "kernelspec": {
      "display_name": "Python 3",
      "language": "python",
      "name": "python3"
    },
    "language_info": {
      "codemirror_mode": {
        "name": "ipython",
        "version": 2
      },
      "file_extension": ".py",
      "mimetype": "text/x-python",
      "name": "python",
      "nbconvert_exporter": "python",
      "pygments_lexer": "ipython2",
      "version": "2.7.6"
    },
    "colab": {
      "name": "real_termstructure.ipynb",
      "provenance": [],
      "include_colab_link": true
    }
  },
  "nbformat": 4,
  "nbformat_minor": 0
}