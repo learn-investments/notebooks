{
 "cells": [
  {
   "cell_type": "markdown",
   "metadata": {},
   "source": [
    "---\n",
    "\n",
    "Created for [learn-investments.rice-business.org](https://learn-investments.rice-business.org)\n",
    "    \n",
    "By [Kerry Back](https://kerryback.com) and [Kevin Crotty](https://kevin-crotty.com)\n",
    "    \n",
    "Jones Graduate School of Business, Rice University\n",
    "\n",
    "---\n"
   ]
  },
  {
   "cell_type": "markdown",
   "metadata": {},
   "source": [
    "# PULL DATA"
   ]
  },
  {
   "cell_type": "code",
   "execution_count": 1,
   "metadata": {},
   "outputs": [
    {
     "data": {
      "text/html": [
       "<div>\n",
       "<style scoped>\n",
       "    .dataframe tbody tr th:only-of-type {\n",
       "        vertical-align: middle;\n",
       "    }\n",
       "\n",
       "    .dataframe tbody tr th {\n",
       "        vertical-align: top;\n",
       "    }\n",
       "\n",
       "    .dataframe thead th {\n",
       "        text-align: right;\n",
       "    }\n",
       "</style>\n",
       "<table border=\"1\" class=\"dataframe\">\n",
       "  <thead>\n",
       "    <tr style=\"text-align: right;\">\n",
       "      <th></th>\n",
       "      <th>month</th>\n",
       "      <th>term</th>\n",
       "      <th>rate</th>\n",
       "    </tr>\n",
       "  </thead>\n",
       "  <tbody>\n",
       "    <tr>\n",
       "      <th>0</th>\n",
       "      <td>2004-07</td>\n",
       "      <td>5</td>\n",
       "      <td>0.0130</td>\n",
       "    </tr>\n",
       "    <tr>\n",
       "      <th>1</th>\n",
       "      <td>2004-07</td>\n",
       "      <td>7</td>\n",
       "      <td>0.0170</td>\n",
       "    </tr>\n",
       "    <tr>\n",
       "      <th>2</th>\n",
       "      <td>2004-07</td>\n",
       "      <td>10</td>\n",
       "      <td>0.0204</td>\n",
       "    </tr>\n",
       "    <tr>\n",
       "      <th>3</th>\n",
       "      <td>2004-07</td>\n",
       "      <td>20</td>\n",
       "      <td>0.0249</td>\n",
       "    </tr>\n",
       "    <tr>\n",
       "      <th>4</th>\n",
       "      <td>2004-08</td>\n",
       "      <td>5</td>\n",
       "      <td>0.0126</td>\n",
       "    </tr>\n",
       "  </tbody>\n",
       "</table>\n",
       "</div>"
      ],
      "text/plain": [
       "     month  term    rate\n",
       "0  2004-07     5  0.0130\n",
       "1  2004-07     7  0.0170\n",
       "2  2004-07    10  0.0204\n",
       "3  2004-07    20  0.0249\n",
       "4  2004-08     5  0.0126"
      ]
     },
     "execution_count": 1,
     "metadata": {},
     "output_type": "execute_result"
    }
   ],
   "source": [
    "import pandas as pd\n",
    "from pandas_datareader import DataReader as pdr\n",
    "\n",
    "# Pull data from FRED\n",
    "files = [\"DFII\" + x for x in [\"5\", \"7\", \"10\", \"20\", \"30\"]]\n",
    "df = pdr(files, \"fred\", start=1920) / 100\n",
    "df.index.name = \"date\"\n",
    "df = df.reset_index()\n",
    "\n",
    "# Keep 1st observations of each month\n",
    "df[\"month\"] = df.date.dt.to_period(\"M\").astype(str)\n",
    "df = df.groupby(\"month\").first()\n",
    "\n",
    "# Clean-up data\n",
    "df = df.drop(columns=[\"date\"])\n",
    "df = df.dropna(subset=[\"DFII20\"])\n",
    "df.columns = [5, 7, 10, 20, 30]\n",
    "df = df.stack()\n",
    "df = df.reset_index()\n",
    "df.columns = [\"month\", \"term\", \"rate\"]\n",
    "df.head()"
   ]
  },
  {
   "cell_type": "markdown",
   "metadata": {},
   "source": [
    "# FIGURE"
   ]
  },
  {
   "cell_type": "code",
   "execution_count": 2,
   "metadata": {},
   "outputs": [
    {
     "data": {
      "application/vnd.plotly.v1+json": {
       "config": {
        "plotlyServerURL": "https://plot.ly"
       },
       "data": [
        {
         "customdata": [
          [
           "2004-07"
          ],
          [
           "2004-07"
          ],
          [
           "2004-07"
          ],
          [
           "2004-07"
          ]
         ],
         "hovertemplate": "<b>%{hovertext}</b><br><br>term=%{x}<br>rate=%{y}<extra></extra>",
         "hovertext": [
          "2004-07",
          "2004-07",
          "2004-07",
          "2004-07"
         ],
         "legendgroup": "",
         "line": {
          "color": "#636efa",
          "dash": "solid"
         },
         "marker": {
          "symbol": "circle"
         },
         "mode": "lines",
         "name": "",
         "orientation": "v",
         "showlegend": false,
         "type": "scatter",
         "x": [
          5,
          7,
          10,
          20
         ],
         "xaxis": "x",
         "y": [
          0.013000000000000001,
          0.017,
          0.0204,
          0.024900000000000002
         ],
         "yaxis": "y"
        }
       ],
       "frames": [
        {
         "data": [
          {
           "customdata": [
            [
             "2004-07"
            ],
            [
             "2004-07"
            ],
            [
             "2004-07"
            ],
            [
             "2004-07"
            ]
           ],
           "hovertemplate": "<b>%{hovertext}</b><br><br>term=%{x}<br>rate=%{y}<extra></extra>",
           "hovertext": [
            "2004-07",
            "2004-07",
            "2004-07",
            "2004-07"
           ],
           "legendgroup": "",
           "line": {
            "color": "#636efa",
            "dash": "solid"
           },
           "marker": {
            "symbol": "circle"
           },
           "mode": "lines",
           "name": "",
           "orientation": "v",
           "showlegend": false,
           "type": "scatter",
           "x": [
            5,
            7,
            10,
            20
           ],
           "xaxis": "x",
           "y": [
            0.013000000000000001,
            0.017,
            0.0204,
            0.024900000000000002
           ],
           "yaxis": "y"
          }
         ],
         "name": "2004-07"
        },
        {
         "data": [
          {
           "customdata": [
            [
             "2004-08"
            ],
            [
             "2004-08"
            ],
            [
             "2004-08"
            ],
            [
             "2004-08"
            ]
           ],
           "hovertemplate": "<b>%{hovertext}</b><br><br>term=%{x}<br>rate=%{y}<extra></extra>",
           "hovertext": [
            "2004-08",
            "2004-08",
            "2004-08",
            "2004-08"
           ],
           "legendgroup": "",
           "line": {
            "color": "#636efa",
            "dash": "solid"
           },
           "marker": {
            "symbol": "circle"
           },
           "mode": "lines",
           "name": "",
           "orientation": "v",
           "showlegend": false,
           "type": "scatter",
           "x": [
            5,
            7,
            10,
            20
           ],
           "xaxis": "x",
           "y": [
            0.0126,
            0.0166,
            0.02,
            0.023700000000000002
           ],
           "yaxis": "y"
          }
         ],
         "name": "2004-08"
        },
        {
         "data": [
          {
           "customdata": [
            [
             "2004-09"
            ],
            [
             "2004-09"
            ],
            [
             "2004-09"
            ],
            [
             "2004-09"
            ]
           ],
           "hovertemplate": "<b>%{hovertext}</b><br><br>term=%{x}<br>rate=%{y}<extra></extra>",
           "hovertext": [
            "2004-09",
            "2004-09",
            "2004-09",
            "2004-09"
           ],
           "legendgroup": "",
           "line": {
            "color": "#636efa",
            "dash": "solid"
           },
           "marker": {
            "symbol": "circle"
           },
           "mode": "lines",
           "name": "",
           "orientation": "v",
           "showlegend": false,
           "type": "scatter",
           "x": [
            5,
            7,
            10,
            20
           ],
           "xaxis": "x",
           "y": [
            0.0104,
            0.014199999999999999,
            0.0177,
            0.021400000000000002
           ],
           "yaxis": "y"
          }
         ],
         "name": "2004-09"
        },
        {
         "data": [
          {
           "customdata": [
            [
             "2004-10"
            ],
            [
             "2004-10"
            ],
            [
             "2004-10"
            ],
            [
             "2004-10"
            ]
           ],
           "hovertemplate": "<b>%{hovertext}</b><br><br>term=%{x}<br>rate=%{y}<extra></extra>",
           "hovertext": [
            "2004-10",
            "2004-10",
            "2004-10",
            "2004-10"
           ],
           "legendgroup": "",
           "line": {
            "color": "#636efa",
            "dash": "solid"
           },
           "marker": {
            "symbol": "circle"
           },
           "mode": "lines",
           "name": "",
           "orientation": "v",
           "showlegend": false,
           "type": "scatter",
           "x": [
            5,
            7,
            10,
            20
           ],
           "xaxis": "x",
           "y": [
            0.0109,
            0.0147,
            0.0183,
            0.0218
           ],
           "yaxis": "y"
          }
         ],
         "name": "2004-10"
        },
        {
         "data": [
          {
           "customdata": [
            [
             "2004-11"
            ],
            [
             "2004-11"
            ],
            [
             "2004-11"
            ],
            [
             "2004-11"
            ]
           ],
           "hovertemplate": "<b>%{hovertext}</b><br><br>term=%{x}<br>rate=%{y}<extra></extra>",
           "hovertext": [
            "2004-11",
            "2004-11",
            "2004-11",
            "2004-11"
           ],
           "legendgroup": "",
           "line": {
            "color": "#636efa",
            "dash": "solid"
           },
           "marker": {
            "symbol": "circle"
           },
           "mode": "lines",
           "name": "",
           "orientation": "v",
           "showlegend": false,
           "type": "scatter",
           "x": [
            5,
            7,
            10,
            20
           ],
           "xaxis": "x",
           "y": [
            0.0084,
            0.0125,
            0.0167,
            0.0213
           ],
           "yaxis": "y"
          }
         ],
         "name": "2004-11"
        },
        {
         "data": [
          {
           "customdata": [
            [
             "2004-12"
            ],
            [
             "2004-12"
            ],
            [
             "2004-12"
            ],
            [
             "2004-12"
            ]
           ],
           "hovertemplate": "<b>%{hovertext}</b><br><br>term=%{x}<br>rate=%{y}<extra></extra>",
           "hovertext": [
            "2004-12",
            "2004-12",
            "2004-12",
            "2004-12"
           ],
           "legendgroup": "",
           "line": {
            "color": "#636efa",
            "dash": "solid"
           },
           "marker": {
            "symbol": "circle"
           },
           "mode": "lines",
           "name": "",
           "orientation": "v",
           "showlegend": false,
           "type": "scatter",
           "x": [
            5,
            7,
            10,
            20
           ],
           "xaxis": "x",
           "y": [
            0.009899999999999999,
            0.0137,
            0.0179,
            0.0218
           ],
           "yaxis": "y"
          }
         ],
         "name": "2004-12"
        },
        {
         "data": [
          {
           "customdata": [
            [
             "2005-01"
            ],
            [
             "2005-01"
            ],
            [
             "2005-01"
            ],
            [
             "2005-01"
            ]
           ],
           "hovertemplate": "<b>%{hovertext}</b><br><br>term=%{x}<br>rate=%{y}<extra></extra>",
           "hovertext": [
            "2005-01",
            "2005-01",
            "2005-01",
            "2005-01"
           ],
           "legendgroup": "",
           "line": {
            "color": "#636efa",
            "dash": "solid"
           },
           "marker": {
            "symbol": "circle"
           },
           "mode": "lines",
           "name": "",
           "orientation": "v",
           "showlegend": false,
           "type": "scatter",
           "x": [
            5,
            7,
            10,
            20
           ],
           "xaxis": "x",
           "y": [
            0.0102,
            0.013300000000000001,
            0.017,
            0.0196
           ],
           "yaxis": "y"
          }
         ],
         "name": "2005-01"
        },
        {
         "data": [
          {
           "customdata": [
            [
             "2005-02"
            ],
            [
             "2005-02"
            ],
            [
             "2005-02"
            ],
            [
             "2005-02"
            ]
           ],
           "hovertemplate": "<b>%{hovertext}</b><br><br>term=%{x}<br>rate=%{y}<extra></extra>",
           "hovertext": [
            "2005-02",
            "2005-02",
            "2005-02",
            "2005-02"
           ],
           "legendgroup": "",
           "line": {
            "color": "#636efa",
            "dash": "solid"
           },
           "marker": {
            "symbol": "circle"
           },
           "mode": "lines",
           "name": "",
           "orientation": "v",
           "showlegend": false,
           "type": "scatter",
           "x": [
            5,
            7,
            10,
            20
           ],
           "xaxis": "x",
           "y": [
            0.0115,
            0.0138,
            0.0167,
            0.0194
           ],
           "yaxis": "y"
          }
         ],
         "name": "2005-02"
        },
        {
         "data": [
          {
           "customdata": [
            [
             "2005-03"
            ],
            [
             "2005-03"
            ],
            [
             "2005-03"
            ],
            [
             "2005-03"
            ]
           ],
           "hovertemplate": "<b>%{hovertext}</b><br><br>term=%{x}<br>rate=%{y}<extra></extra>",
           "hovertext": [
            "2005-03",
            "2005-03",
            "2005-03",
            "2005-03"
           ],
           "legendgroup": "",
           "line": {
            "color": "#636efa",
            "dash": "solid"
           },
           "marker": {
            "symbol": "circle"
           },
           "mode": "lines",
           "name": "",
           "orientation": "v",
           "showlegend": false,
           "type": "scatter",
           "x": [
            5,
            7,
            10,
            20
           ],
           "xaxis": "x",
           "y": [
            0.011699999999999999,
            0.0139,
            0.0169,
            0.0195
           ],
           "yaxis": "y"
          }
         ],
         "name": "2005-03"
        },
        {
         "data": [
          {
           "customdata": [
            [
             "2005-04"
            ],
            [
             "2005-04"
            ],
            [
             "2005-04"
            ],
            [
             "2005-04"
            ]
           ],
           "hovertemplate": "<b>%{hovertext}</b><br><br>term=%{x}<br>rate=%{y}<extra></extra>",
           "hovertext": [
            "2005-04",
            "2005-04",
            "2005-04",
            "2005-04"
           ],
           "legendgroup": "",
           "line": {
            "color": "#636efa",
            "dash": "solid"
           },
           "marker": {
            "symbol": "circle"
           },
           "mode": "lines",
           "name": "",
           "orientation": "v",
           "showlegend": false,
           "type": "scatter",
           "x": [
            5,
            7,
            10,
            20
           ],
           "xaxis": "x",
           "y": [
            0.0128,
            0.0147,
            0.0177,
            0.018799999999999997
           ],
           "yaxis": "y"
          }
         ],
         "name": "2005-04"
        },
        {
         "data": [
          {
           "customdata": [
            [
             "2005-05"
            ],
            [
             "2005-05"
            ],
            [
             "2005-05"
            ],
            [
             "2005-05"
            ]
           ],
           "hovertemplate": "<b>%{hovertext}</b><br><br>term=%{x}<br>rate=%{y}<extra></extra>",
           "hovertext": [
            "2005-05",
            "2005-05",
            "2005-05",
            "2005-05"
           ],
           "legendgroup": "",
           "line": {
            "color": "#636efa",
            "dash": "solid"
           },
           "marker": {
            "symbol": "circle"
           },
           "mode": "lines",
           "name": "",
           "orientation": "v",
           "showlegend": false,
           "type": "scatter",
           "x": [
            5,
            7,
            10,
            20
           ],
           "xaxis": "x",
           "y": [
            0.0118,
            0.013500000000000002,
            0.0161,
            0.0182
           ],
           "yaxis": "y"
          }
         ],
         "name": "2005-05"
        },
        {
         "data": [
          {
           "customdata": [
            [
             "2005-06"
            ],
            [
             "2005-06"
            ],
            [
             "2005-06"
            ],
            [
             "2005-06"
            ]
           ],
           "hovertemplate": "<b>%{hovertext}</b><br><br>term=%{x}<br>rate=%{y}<extra></extra>",
           "hovertext": [
            "2005-06",
            "2005-06",
            "2005-06",
            "2005-06"
           ],
           "legendgroup": "",
           "line": {
            "color": "#636efa",
            "dash": "solid"
           },
           "marker": {
            "symbol": "circle"
           },
           "mode": "lines",
           "name": "",
           "orientation": "v",
           "showlegend": false,
           "type": "scatter",
           "x": [
            5,
            7,
            10,
            20
           ],
           "xaxis": "x",
           "y": [
            0.011899999999999999,
            0.0132,
            0.0154,
            0.0169
           ],
           "yaxis": "y"
          }
         ],
         "name": "2005-06"
        },
        {
         "data": [
          {
           "customdata": [
            [
             "2005-07"
            ],
            [
             "2005-07"
            ],
            [
             "2005-07"
            ],
            [
             "2005-07"
            ]
           ],
           "hovertemplate": "<b>%{hovertext}</b><br><br>term=%{x}<br>rate=%{y}<extra></extra>",
           "hovertext": [
            "2005-07",
            "2005-07",
            "2005-07",
            "2005-07"
           ],
           "legendgroup": "",
           "line": {
            "color": "#636efa",
            "dash": "solid"
           },
           "marker": {
            "symbol": "circle"
           },
           "mode": "lines",
           "name": "",
           "orientation": "v",
           "showlegend": false,
           "type": "scatter",
           "x": [
            5,
            7,
            10,
            20
           ],
           "xaxis": "x",
           "y": [
            0.015,
            0.016,
            0.0175,
            0.0184
           ],
           "yaxis": "y"
          }
         ],
         "name": "2005-07"
        },
        {
         "data": [
          {
           "customdata": [
            [
             "2005-08"
            ],
            [
             "2005-08"
            ],
            [
             "2005-08"
            ],
            [
             "2005-08"
            ]
           ],
           "hovertemplate": "<b>%{hovertext}</b><br><br>term=%{x}<br>rate=%{y}<extra></extra>",
           "hovertext": [
            "2005-08",
            "2005-08",
            "2005-08",
            "2005-08"
           ],
           "legendgroup": "",
           "line": {
            "color": "#636efa",
            "dash": "solid"
           },
           "marker": {
            "symbol": "circle"
           },
           "mode": "lines",
           "name": "",
           "orientation": "v",
           "showlegend": false,
           "type": "scatter",
           "x": [
            5,
            7,
            10,
            20
           ],
           "xaxis": "x",
           "y": [
            0.0179,
            0.0184,
            0.0195,
            0.0208
           ],
           "yaxis": "y"
          }
         ],
         "name": "2005-08"
        },
        {
         "data": [
          {
           "customdata": [
            [
             "2005-09"
            ],
            [
             "2005-09"
            ],
            [
             "2005-09"
            ],
            [
             "2005-09"
            ]
           ],
           "hovertemplate": "<b>%{hovertext}</b><br><br>term=%{x}<br>rate=%{y}<extra></extra>",
           "hovertext": [
            "2005-09",
            "2005-09",
            "2005-09",
            "2005-09"
           ],
           "legendgroup": "",
           "line": {
            "color": "#636efa",
            "dash": "solid"
           },
           "marker": {
            "symbol": "circle"
           },
           "mode": "lines",
           "name": "",
           "orientation": "v",
           "showlegend": false,
           "type": "scatter",
           "x": [
            5,
            7,
            10,
            20
           ],
           "xaxis": "x",
           "y": [
            0.0138,
            0.0151,
            0.0161,
            0.018500000000000003
           ],
           "yaxis": "y"
          }
         ],
         "name": "2005-09"
        },
        {
         "data": [
          {
           "customdata": [
            [
             "2005-10"
            ],
            [
             "2005-10"
            ],
            [
             "2005-10"
            ],
            [
             "2005-10"
            ]
           ],
           "hovertemplate": "<b>%{hovertext}</b><br><br>term=%{x}<br>rate=%{y}<extra></extra>",
           "hovertext": [
            "2005-10",
            "2005-10",
            "2005-10",
            "2005-10"
           ],
           "legendgroup": "",
           "line": {
            "color": "#636efa",
            "dash": "solid"
           },
           "marker": {
            "symbol": "circle"
           },
           "mode": "lines",
           "name": "",
           "orientation": "v",
           "showlegend": false,
           "type": "scatter",
           "x": [
            5,
            7,
            10,
            20
           ],
           "xaxis": "x",
           "y": [
            0.0154,
            0.017,
            0.0184,
            0.0202
           ],
           "yaxis": "y"
          }
         ],
         "name": "2005-10"
        },
        {
         "data": [
          {
           "customdata": [
            [
             "2005-11"
            ],
            [
             "2005-11"
            ],
            [
             "2005-11"
            ],
            [
             "2005-11"
            ]
           ],
           "hovertemplate": "<b>%{hovertext}</b><br><br>term=%{x}<br>rate=%{y}<extra></extra>",
           "hovertext": [
            "2005-11",
            "2005-11",
            "2005-11",
            "2005-11"
           ],
           "legendgroup": "",
           "line": {
            "color": "#636efa",
            "dash": "solid"
           },
           "marker": {
            "symbol": "circle"
           },
           "mode": "lines",
           "name": "",
           "orientation": "v",
           "showlegend": false,
           "type": "scatter",
           "x": [
            5,
            7,
            10,
            20
           ],
           "xaxis": "x",
           "y": [
            0.0184,
            0.0192,
            0.02,
            0.021400000000000002
           ],
           "yaxis": "y"
          }
         ],
         "name": "2005-11"
        },
        {
         "data": [
          {
           "customdata": [
            [
             "2005-12"
            ],
            [
             "2005-12"
            ],
            [
             "2005-12"
            ],
            [
             "2005-12"
            ]
           ],
           "hovertemplate": "<b>%{hovertext}</b><br><br>term=%{x}<br>rate=%{y}<extra></extra>",
           "hovertext": [
            "2005-12",
            "2005-12",
            "2005-12",
            "2005-12"
           ],
           "legendgroup": "",
           "line": {
            "color": "#636efa",
            "dash": "solid"
           },
           "marker": {
            "symbol": "circle"
           },
           "mode": "lines",
           "name": "",
           "orientation": "v",
           "showlegend": false,
           "type": "scatter",
           "x": [
            5,
            7,
            10,
            20
           ],
           "xaxis": "x",
           "y": [
            0.0208,
            0.0212,
            0.0215,
            0.022099999999999998
           ],
           "yaxis": "y"
          }
         ],
         "name": "2005-12"
        },
        {
         "data": [
          {
           "customdata": [
            [
             "2006-01"
            ],
            [
             "2006-01"
            ],
            [
             "2006-01"
            ],
            [
             "2006-01"
            ]
           ],
           "hovertemplate": "<b>%{hovertext}</b><br><br>term=%{x}<br>rate=%{y}<extra></extra>",
           "hovertext": [
            "2006-01",
            "2006-01",
            "2006-01",
            "2006-01"
           ],
           "legendgroup": "",
           "line": {
            "color": "#636efa",
            "dash": "solid"
           },
           "marker": {
            "symbol": "circle"
           },
           "mode": "lines",
           "name": "",
           "orientation": "v",
           "showlegend": false,
           "type": "scatter",
           "x": [
            5,
            7,
            10,
            20
           ],
           "xaxis": "x",
           "y": [
            0.02,
            0.0203,
            0.0203,
            0.0206
           ],
           "yaxis": "y"
          }
         ],
         "name": "2006-01"
        },
        {
         "data": [
          {
           "customdata": [
            [
             "2006-02"
            ],
            [
             "2006-02"
            ],
            [
             "2006-02"
            ],
            [
             "2006-02"
            ]
           ],
           "hovertemplate": "<b>%{hovertext}</b><br><br>term=%{x}<br>rate=%{y}<extra></extra>",
           "hovertext": [
            "2006-02",
            "2006-02",
            "2006-02",
            "2006-02"
           ],
           "legendgroup": "",
           "line": {
            "color": "#636efa",
            "dash": "solid"
           },
           "marker": {
            "symbol": "circle"
           },
           "mode": "lines",
           "name": "",
           "orientation": "v",
           "showlegend": false,
           "type": "scatter",
           "x": [
            5,
            7,
            10,
            20
           ],
           "xaxis": "x",
           "y": [
            0.0194,
            0.019799999999999998,
            0.0202,
            0.0203
           ],
           "yaxis": "y"
          }
         ],
         "name": "2006-02"
        },
        {
         "data": [
          {
           "customdata": [
            [
             "2006-03"
            ],
            [
             "2006-03"
            ],
            [
             "2006-03"
            ],
            [
             "2006-03"
            ]
           ],
           "hovertemplate": "<b>%{hovertext}</b><br><br>term=%{x}<br>rate=%{y}<extra></extra>",
           "hovertext": [
            "2006-03",
            "2006-03",
            "2006-03",
            "2006-03"
           ],
           "legendgroup": "",
           "line": {
            "color": "#636efa",
            "dash": "solid"
           },
           "marker": {
            "symbol": "circle"
           },
           "mode": "lines",
           "name": "",
           "orientation": "v",
           "showlegend": false,
           "type": "scatter",
           "x": [
            5,
            7,
            10,
            20
           ],
           "xaxis": "x",
           "y": [
            0.0192,
            0.019799999999999998,
            0.0202,
            0.02
           ],
           "yaxis": "y"
          }
         ],
         "name": "2006-03"
        },
        {
         "data": [
          {
           "customdata": [
            [
             "2006-04"
            ],
            [
             "2006-04"
            ],
            [
             "2006-04"
            ],
            [
             "2006-04"
            ]
           ],
           "hovertemplate": "<b>%{hovertext}</b><br><br>term=%{x}<br>rate=%{y}<extra></extra>",
           "hovertext": [
            "2006-04",
            "2006-04",
            "2006-04",
            "2006-04"
           ],
           "legendgroup": "",
           "line": {
            "color": "#636efa",
            "dash": "solid"
           },
           "marker": {
            "symbol": "circle"
           },
           "mode": "lines",
           "name": "",
           "orientation": "v",
           "showlegend": false,
           "type": "scatter",
           "x": [
            5,
            7,
            10,
            20
           ],
           "xaxis": "x",
           "y": [
            0.0226,
            0.0232,
            0.0236,
            0.023399999999999997
           ],
           "yaxis": "y"
          }
         ],
         "name": "2006-04"
        },
        {
         "data": [
          {
           "customdata": [
            [
             "2006-05"
            ],
            [
             "2006-05"
            ],
            [
             "2006-05"
            ],
            [
             "2006-05"
            ]
           ],
           "hovertemplate": "<b>%{hovertext}</b><br><br>term=%{x}<br>rate=%{y}<extra></extra>",
           "hovertext": [
            "2006-05",
            "2006-05",
            "2006-05",
            "2006-05"
           ],
           "legendgroup": "",
           "line": {
            "color": "#636efa",
            "dash": "solid"
           },
           "marker": {
            "symbol": "circle"
           },
           "mode": "lines",
           "name": "",
           "orientation": "v",
           "showlegend": false,
           "type": "scatter",
           "x": [
            5,
            7,
            10,
            20
           ],
           "xaxis": "x",
           "y": [
            0.0227,
            0.0233,
            0.0242,
            0.0248
           ],
           "yaxis": "y"
          }
         ],
         "name": "2006-05"
        },
        {
         "data": [
          {
           "customdata": [
            [
             "2006-06"
            ],
            [
             "2006-06"
            ],
            [
             "2006-06"
            ],
            [
             "2006-06"
            ]
           ],
           "hovertemplate": "<b>%{hovertext}</b><br><br>term=%{x}<br>rate=%{y}<extra></extra>",
           "hovertext": [
            "2006-06",
            "2006-06",
            "2006-06",
            "2006-06"
           ],
           "legendgroup": "",
           "line": {
            "color": "#636efa",
            "dash": "solid"
           },
           "marker": {
            "symbol": "circle"
           },
           "mode": "lines",
           "name": "",
           "orientation": "v",
           "showlegend": false,
           "type": "scatter",
           "x": [
            5,
            7,
            10,
            20
           ],
           "xaxis": "x",
           "y": [
            0.023399999999999997,
            0.0239,
            0.0246,
            0.024900000000000002
           ],
           "yaxis": "y"
          }
         ],
         "name": "2006-06"
        },
        {
         "data": [
          {
           "customdata": [
            [
             "2006-07"
            ],
            [
             "2006-07"
            ],
            [
             "2006-07"
            ],
            [
             "2006-07"
            ]
           ],
           "hovertemplate": "<b>%{hovertext}</b><br><br>term=%{x}<br>rate=%{y}<extra></extra>",
           "hovertext": [
            "2006-07",
            "2006-07",
            "2006-07",
            "2006-07"
           ],
           "legendgroup": "",
           "line": {
            "color": "#636efa",
            "dash": "solid"
           },
           "marker": {
            "symbol": "circle"
           },
           "mode": "lines",
           "name": "",
           "orientation": "v",
           "showlegend": false,
           "type": "scatter",
           "x": [
            5,
            7,
            10,
            20
           ],
           "xaxis": "x",
           "y": [
            0.024900000000000002,
            0.025099999999999997,
            0.0256,
            0.0258
           ],
           "yaxis": "y"
          }
         ],
         "name": "2006-07"
        },
        {
         "data": [
          {
           "customdata": [
            [
             "2006-08"
            ],
            [
             "2006-08"
            ],
            [
             "2006-08"
            ],
            [
             "2006-08"
            ]
           ],
           "hovertemplate": "<b>%{hovertext}</b><br><br>term=%{x}<br>rate=%{y}<extra></extra>",
           "hovertext": [
            "2006-08",
            "2006-08",
            "2006-08",
            "2006-08"
           ],
           "legendgroup": "",
           "line": {
            "color": "#636efa",
            "dash": "solid"
           },
           "marker": {
            "symbol": "circle"
           },
           "mode": "lines",
           "name": "",
           "orientation": "v",
           "showlegend": false,
           "type": "scatter",
           "x": [
            5,
            7,
            10,
            20
           ],
           "xaxis": "x",
           "y": [
            0.0235,
            0.023799999999999998,
            0.024,
            0.0242
           ],
           "yaxis": "y"
          }
         ],
         "name": "2006-08"
        },
        {
         "data": [
          {
           "customdata": [
            [
             "2006-09"
            ],
            [
             "2006-09"
            ],
            [
             "2006-09"
            ],
            [
             "2006-09"
            ]
           ],
           "hovertemplate": "<b>%{hovertext}</b><br><br>term=%{x}<br>rate=%{y}<extra></extra>",
           "hovertext": [
            "2006-09",
            "2006-09",
            "2006-09",
            "2006-09"
           ],
           "legendgroup": "",
           "line": {
            "color": "#636efa",
            "dash": "solid"
           },
           "marker": {
            "symbol": "circle"
           },
           "mode": "lines",
           "name": "",
           "orientation": "v",
           "showlegend": false,
           "type": "scatter",
           "x": [
            5,
            7,
            10,
            20
           ],
           "xaxis": "x",
           "y": [
            0.022799999999999997,
            0.0227,
            0.0225,
            0.022400000000000003
           ],
           "yaxis": "y"
          }
         ],
         "name": "2006-09"
        },
        {
         "data": [
          {
           "customdata": [
            [
             "2006-10"
            ],
            [
             "2006-10"
            ],
            [
             "2006-10"
            ],
            [
             "2006-10"
            ]
           ],
           "hovertemplate": "<b>%{hovertext}</b><br><br>term=%{x}<br>rate=%{y}<extra></extra>",
           "hovertext": [
            "2006-10",
            "2006-10",
            "2006-10",
            "2006-10"
           ],
           "legendgroup": "",
           "line": {
            "color": "#636efa",
            "dash": "solid"
           },
           "marker": {
            "symbol": "circle"
           },
           "mode": "lines",
           "name": "",
           "orientation": "v",
           "showlegend": false,
           "type": "scatter",
           "x": [
            5,
            7,
            10,
            20
           ],
           "xaxis": "x",
           "y": [
            0.0231,
            0.022799999999999997,
            0.0227,
            0.0226
           ],
           "yaxis": "y"
          }
         ],
         "name": "2006-10"
        },
        {
         "data": [
          {
           "customdata": [
            [
             "2006-11"
            ],
            [
             "2006-11"
            ],
            [
             "2006-11"
            ],
            [
             "2006-11"
            ]
           ],
           "hovertemplate": "<b>%{hovertext}</b><br><br>term=%{x}<br>rate=%{y}<extra></extra>",
           "hovertext": [
            "2006-11",
            "2006-11",
            "2006-11",
            "2006-11"
           ],
           "legendgroup": "",
           "line": {
            "color": "#636efa",
            "dash": "solid"
           },
           "marker": {
            "symbol": "circle"
           },
           "mode": "lines",
           "name": "",
           "orientation": "v",
           "showlegend": false,
           "type": "scatter",
           "x": [
            5,
            7,
            10,
            20
           ],
           "xaxis": "x",
           "y": [
            0.0241,
            0.023399999999999997,
            0.0229,
            0.022400000000000003
           ],
           "yaxis": "y"
          }
         ],
         "name": "2006-11"
        },
        {
         "data": [
          {
           "customdata": [
            [
             "2006-12"
            ],
            [
             "2006-12"
            ],
            [
             "2006-12"
            ],
            [
             "2006-12"
            ]
           ],
           "hovertemplate": "<b>%{hovertext}</b><br><br>term=%{x}<br>rate=%{y}<extra></extra>",
           "hovertext": [
            "2006-12",
            "2006-12",
            "2006-12",
            "2006-12"
           ],
           "legendgroup": "",
           "line": {
            "color": "#636efa",
            "dash": "solid"
           },
           "marker": {
            "symbol": "circle"
           },
           "mode": "lines",
           "name": "",
           "orientation": "v",
           "showlegend": false,
           "type": "scatter",
           "x": [
            5,
            7,
            10,
            20
           ],
           "xaxis": "x",
           "y": [
            0.0212,
            0.0213,
            0.021,
            0.0209
           ],
           "yaxis": "y"
          }
         ],
         "name": "2006-12"
        },
        {
         "data": [
          {
           "customdata": [
            [
             "2007-01"
            ],
            [
             "2007-01"
            ],
            [
             "2007-01"
            ],
            [
             "2007-01"
            ]
           ],
           "hovertemplate": "<b>%{hovertext}</b><br><br>term=%{x}<br>rate=%{y}<extra></extra>",
           "hovertext": [
            "2007-01",
            "2007-01",
            "2007-01",
            "2007-01"
           ],
           "legendgroup": "",
           "line": {
            "color": "#636efa",
            "dash": "solid"
           },
           "marker": {
            "symbol": "circle"
           },
           "mode": "lines",
           "name": "",
           "orientation": "v",
           "showlegend": false,
           "type": "scatter",
           "x": [
            5,
            7,
            10,
            20
           ],
           "xaxis": "x",
           "y": [
            0.0241,
            0.0242,
            0.023799999999999998,
            0.0236
           ],
           "yaxis": "y"
          }
         ],
         "name": "2007-01"
        },
        {
         "data": [
          {
           "customdata": [
            [
             "2007-02"
            ],
            [
             "2007-02"
            ],
            [
             "2007-02"
            ],
            [
             "2007-02"
            ]
           ],
           "hovertemplate": "<b>%{hovertext}</b><br><br>term=%{x}<br>rate=%{y}<extra></extra>",
           "hovertext": [
            "2007-02",
            "2007-02",
            "2007-02",
            "2007-02"
           ],
           "legendgroup": "",
           "line": {
            "color": "#636efa",
            "dash": "solid"
           },
           "marker": {
            "symbol": "circle"
           },
           "mode": "lines",
           "name": "",
           "orientation": "v",
           "showlegend": false,
           "type": "scatter",
           "x": [
            5,
            7,
            10,
            20
           ],
           "xaxis": "x",
           "y": [
            0.024300000000000002,
            0.024399999999999998,
            0.0242,
            0.0242
           ],
           "yaxis": "y"
          }
         ],
         "name": "2007-02"
        },
        {
         "data": [
          {
           "customdata": [
            [
             "2007-03"
            ],
            [
             "2007-03"
            ],
            [
             "2007-03"
            ],
            [
             "2007-03"
            ]
           ],
           "hovertemplate": "<b>%{hovertext}</b><br><br>term=%{x}<br>rate=%{y}<extra></extra>",
           "hovertext": [
            "2007-03",
            "2007-03",
            "2007-03",
            "2007-03"
           ],
           "legendgroup": "",
           "line": {
            "color": "#636efa",
            "dash": "solid"
           },
           "marker": {
            "symbol": "circle"
           },
           "mode": "lines",
           "name": "",
           "orientation": "v",
           "showlegend": false,
           "type": "scatter",
           "x": [
            5,
            7,
            10,
            20
           ],
           "xaxis": "x",
           "y": [
            0.021099999999999997,
            0.0218,
            0.0219,
            0.0223
           ],
           "yaxis": "y"
          }
         ],
         "name": "2007-03"
        },
        {
         "data": [
          {
           "customdata": [
            [
             "2007-04"
            ],
            [
             "2007-04"
            ],
            [
             "2007-04"
            ],
            [
             "2007-04"
            ]
           ],
           "hovertemplate": "<b>%{hovertext}</b><br><br>term=%{x}<br>rate=%{y}<extra></extra>",
           "hovertext": [
            "2007-04",
            "2007-04",
            "2007-04",
            "2007-04"
           ],
           "legendgroup": "",
           "line": {
            "color": "#636efa",
            "dash": "solid"
           },
           "marker": {
            "symbol": "circle"
           },
           "mode": "lines",
           "name": "",
           "orientation": "v",
           "showlegend": false,
           "type": "scatter",
           "x": [
            5,
            7,
            10,
            20
           ],
           "xaxis": "x",
           "y": [
            0.0204,
            0.0215,
            0.022099999999999998,
            0.0231
           ],
           "yaxis": "y"
          }
         ],
         "name": "2007-04"
        },
        {
         "data": [
          {
           "customdata": [
            [
             "2007-05"
            ],
            [
             "2007-05"
            ],
            [
             "2007-05"
            ],
            [
             "2007-05"
            ]
           ],
           "hovertemplate": "<b>%{hovertext}</b><br><br>term=%{x}<br>rate=%{y}<extra></extra>",
           "hovertext": [
            "2007-05",
            "2007-05",
            "2007-05",
            "2007-05"
           ],
           "legendgroup": "",
           "line": {
            "color": "#636efa",
            "dash": "solid"
           },
           "marker": {
            "symbol": "circle"
           },
           "mode": "lines",
           "name": "",
           "orientation": "v",
           "showlegend": false,
           "type": "scatter",
           "x": [
            5,
            7,
            10,
            20
           ],
           "xaxis": "x",
           "y": [
            0.0207,
            0.0212,
            0.0219,
            0.0232
           ],
           "yaxis": "y"
          }
         ],
         "name": "2007-05"
        },
        {
         "data": [
          {
           "customdata": [
            [
             "2007-06"
            ],
            [
             "2007-06"
            ],
            [
             "2007-06"
            ],
            [
             "2007-06"
            ]
           ],
           "hovertemplate": "<b>%{hovertext}</b><br><br>term=%{x}<br>rate=%{y}<extra></extra>",
           "hovertext": [
            "2007-06",
            "2007-06",
            "2007-06",
            "2007-06"
           ],
           "legendgroup": "",
           "line": {
            "color": "#636efa",
            "dash": "solid"
           },
           "marker": {
            "symbol": "circle"
           },
           "mode": "lines",
           "name": "",
           "orientation": "v",
           "showlegend": false,
           "type": "scatter",
           "x": [
            5,
            7,
            10,
            20
           ],
           "xaxis": "x",
           "y": [
            0.0258,
            0.0255,
            0.025699999999999997,
            0.025699999999999997
           ],
           "yaxis": "y"
          }
         ],
         "name": "2007-06"
        },
        {
         "data": [
          {
           "customdata": [
            [
             "2007-07"
            ],
            [
             "2007-07"
            ],
            [
             "2007-07"
            ],
            [
             "2007-07"
            ]
           ],
           "hovertemplate": "<b>%{hovertext}</b><br><br>term=%{x}<br>rate=%{y}<extra></extra>",
           "hovertext": [
            "2007-07",
            "2007-07",
            "2007-07",
            "2007-07"
           ],
           "legendgroup": "",
           "line": {
            "color": "#636efa",
            "dash": "solid"
           },
           "marker": {
            "symbol": "circle"
           },
           "mode": "lines",
           "name": "",
           "orientation": "v",
           "showlegend": false,
           "type": "scatter",
           "x": [
            5,
            7,
            10,
            20
           ],
           "xaxis": "x",
           "y": [
            0.0256,
            0.0259,
            0.026099999999999998,
            0.026000000000000002
           ],
           "yaxis": "y"
          }
         ],
         "name": "2007-07"
        },
        {
         "data": [
          {
           "customdata": [
            [
             "2007-08"
            ],
            [
             "2007-08"
            ],
            [
             "2007-08"
            ],
            [
             "2007-08"
            ]
           ],
           "hovertemplate": "<b>%{hovertext}</b><br><br>term=%{x}<br>rate=%{y}<extra></extra>",
           "hovertext": [
            "2007-08",
            "2007-08",
            "2007-08",
            "2007-08"
           ],
           "legendgroup": "",
           "line": {
            "color": "#636efa",
            "dash": "solid"
           },
           "marker": {
            "symbol": "circle"
           },
           "mode": "lines",
           "name": "",
           "orientation": "v",
           "showlegend": false,
           "type": "scatter",
           "x": [
            5,
            7,
            10,
            20
           ],
           "xaxis": "x",
           "y": [
            0.024300000000000002,
            0.0246,
            0.024399999999999998,
            0.0242
           ],
           "yaxis": "y"
          }
         ],
         "name": "2007-08"
        },
        {
         "data": [
          {
           "customdata": [
            [
             "2007-09"
            ],
            [
             "2007-09"
            ],
            [
             "2007-09"
            ],
            [
             "2007-09"
            ]
           ],
           "hovertemplate": "<b>%{hovertext}</b><br><br>term=%{x}<br>rate=%{y}<extra></extra>",
           "hovertext": [
            "2007-09",
            "2007-09",
            "2007-09",
            "2007-09"
           ],
           "legendgroup": "",
           "line": {
            "color": "#636efa",
            "dash": "solid"
           },
           "marker": {
            "symbol": "circle"
           },
           "mode": "lines",
           "name": "",
           "orientation": "v",
           "showlegend": false,
           "type": "scatter",
           "x": [
            5,
            7,
            10,
            20
           ],
           "xaxis": "x",
           "y": [
            0.0229,
            0.023700000000000002,
            0.0236,
            0.0241
           ],
           "yaxis": "y"
          }
         ],
         "name": "2007-09"
        },
        {
         "data": [
          {
           "customdata": [
            [
             "2007-10"
            ],
            [
             "2007-10"
            ],
            [
             "2007-10"
            ],
            [
             "2007-10"
            ]
           ],
           "hovertemplate": "<b>%{hovertext}</b><br><br>term=%{x}<br>rate=%{y}<extra></extra>",
           "hovertext": [
            "2007-10",
            "2007-10",
            "2007-10",
            "2007-10"
           ],
           "legendgroup": "",
           "line": {
            "color": "#636efa",
            "dash": "solid"
           },
           "marker": {
            "symbol": "circle"
           },
           "mode": "lines",
           "name": "",
           "orientation": "v",
           "showlegend": false,
           "type": "scatter",
           "x": [
            5,
            7,
            10,
            20
           ],
           "xaxis": "x",
           "y": [
            0.021099999999999997,
            0.0223,
            0.0226,
            0.0227
           ],
           "yaxis": "y"
          }
         ],
         "name": "2007-10"
        },
        {
         "data": [
          {
           "customdata": [
            [
             "2007-11"
            ],
            [
             "2007-11"
            ],
            [
             "2007-11"
            ],
            [
             "2007-11"
            ]
           ],
           "hovertemplate": "<b>%{hovertext}</b><br><br>term=%{x}<br>rate=%{y}<extra></extra>",
           "hovertext": [
            "2007-11",
            "2007-11",
            "2007-11",
            "2007-11"
           ],
           "legendgroup": "",
           "line": {
            "color": "#636efa",
            "dash": "solid"
           },
           "marker": {
            "symbol": "circle"
           },
           "mode": "lines",
           "name": "",
           "orientation": "v",
           "showlegend": false,
           "type": "scatter",
           "x": [
            5,
            7,
            10,
            20
           ],
           "xaxis": "x",
           "y": [
            0.0174,
            0.0192,
            0.02,
            0.0213
           ],
           "yaxis": "y"
          }
         ],
         "name": "2007-11"
        },
        {
         "data": [
          {
           "customdata": [
            [
             "2007-12"
            ],
            [
             "2007-12"
            ],
            [
             "2007-12"
            ],
            [
             "2007-12"
            ]
           ],
           "hovertemplate": "<b>%{hovertext}</b><br><br>term=%{x}<br>rate=%{y}<extra></extra>",
           "hovertext": [
            "2007-12",
            "2007-12",
            "2007-12",
            "2007-12"
           ],
           "legendgroup": "",
           "line": {
            "color": "#636efa",
            "dash": "solid"
           },
           "marker": {
            "symbol": "circle"
           },
           "mode": "lines",
           "name": "",
           "orientation": "v",
           "showlegend": false,
           "type": "scatter",
           "x": [
            5,
            7,
            10,
            20
           ],
           "xaxis": "x",
           "y": [
            0.0108,
            0.0143,
            0.015700000000000002,
            0.0189
           ],
           "yaxis": "y"
          }
         ],
         "name": "2007-12"
        },
        {
         "data": [
          {
           "customdata": [
            [
             "2008-01"
            ],
            [
             "2008-01"
            ],
            [
             "2008-01"
            ],
            [
             "2008-01"
            ]
           ],
           "hovertemplate": "<b>%{hovertext}</b><br><br>term=%{x}<br>rate=%{y}<extra></extra>",
           "hovertext": [
            "2008-01",
            "2008-01",
            "2008-01",
            "2008-01"
           ],
           "legendgroup": "",
           "line": {
            "color": "#636efa",
            "dash": "solid"
           },
           "marker": {
            "symbol": "circle"
           },
           "mode": "lines",
           "name": "",
           "orientation": "v",
           "showlegend": false,
           "type": "scatter",
           "x": [
            5,
            7,
            10,
            20
           ],
           "xaxis": "x",
           "y": [
            0.01,
            0.0141,
            0.0159,
            0.0189
           ],
           "yaxis": "y"
          }
         ],
         "name": "2008-01"
        },
        {
         "data": [
          {
           "customdata": [
            [
             "2008-02"
            ],
            [
             "2008-02"
            ],
            [
             "2008-02"
            ],
            [
             "2008-02"
            ]
           ],
           "hovertemplate": "<b>%{hovertext}</b><br><br>term=%{x}<br>rate=%{y}<extra></extra>",
           "hovertext": [
            "2008-02",
            "2008-02",
            "2008-02",
            "2008-02"
           ],
           "legendgroup": "",
           "line": {
            "color": "#636efa",
            "dash": "solid"
           },
           "marker": {
            "symbol": "circle"
           },
           "mode": "lines",
           "name": "",
           "orientation": "v",
           "showlegend": false,
           "type": "scatter",
           "x": [
            5,
            7,
            10,
            20
           ],
           "xaxis": "x",
           "y": [
            0.0066,
            0.0104,
            0.0131,
            0.0169
           ],
           "yaxis": "y"
          }
         ],
         "name": "2008-02"
        },
        {
         "data": [
          {
           "customdata": [
            [
             "2008-03"
            ],
            [
             "2008-03"
            ],
            [
             "2008-03"
            ],
            [
             "2008-03"
            ]
           ],
           "hovertemplate": "<b>%{hovertext}</b><br><br>term=%{x}<br>rate=%{y}<extra></extra>",
           "hovertext": [
            "2008-03",
            "2008-03",
            "2008-03",
            "2008-03"
           ],
           "legendgroup": "",
           "line": {
            "color": "#636efa",
            "dash": "solid"
           },
           "marker": {
            "symbol": "circle"
           },
           "mode": "lines",
           "name": "",
           "orientation": "v",
           "showlegend": false,
           "type": "scatter",
           "x": [
            5,
            7,
            10,
            20
           ],
           "xaxis": "x",
           "y": [
            0.0019,
            0.0074,
            0.0108,
            0.0171
           ],
           "yaxis": "y"
          }
         ],
         "name": "2008-03"
        },
        {
         "data": [
          {
           "customdata": [
            [
             "2008-04"
            ],
            [
             "2008-04"
            ],
            [
             "2008-04"
            ],
            [
             "2008-04"
            ]
           ],
           "hovertemplate": "<b>%{hovertext}</b><br><br>term=%{x}<br>rate=%{y}<extra></extra>",
           "hovertext": [
            "2008-04",
            "2008-04",
            "2008-04",
            "2008-04"
           ],
           "legendgroup": "",
           "line": {
            "color": "#636efa",
            "dash": "solid"
           },
           "marker": {
            "symbol": "circle"
           },
           "mode": "lines",
           "name": "",
           "orientation": "v",
           "showlegend": false,
           "type": "scatter",
           "x": [
            5,
            7,
            10,
            20
           ],
           "xaxis": "x",
           "y": [
            0.0044,
            0.0087,
            0.012199999999999999,
            0.0189
           ],
           "yaxis": "y"
          }
         ],
         "name": "2008-04"
        },
        {
         "data": [
          {
           "customdata": [
            [
             "2008-05"
            ],
            [
             "2008-05"
            ],
            [
             "2008-05"
            ],
            [
             "2008-05"
            ]
           ],
           "hovertemplate": "<b>%{hovertext}</b><br><br>term=%{x}<br>rate=%{y}<extra></extra>",
           "hovertext": [
            "2008-05",
            "2008-05",
            "2008-05",
            "2008-05"
           ],
           "legendgroup": "",
           "line": {
            "color": "#636efa",
            "dash": "solid"
           },
           "marker": {
            "symbol": "circle"
           },
           "mode": "lines",
           "name": "",
           "orientation": "v",
           "showlegend": false,
           "type": "scatter",
           "x": [
            5,
            7,
            10,
            20
           ],
           "xaxis": "x",
           "y": [
            0.0079,
            0.011699999999999999,
            0.0152,
            0.0202
           ],
           "yaxis": "y"
          }
         ],
         "name": "2008-05"
        },
        {
         "data": [
          {
           "customdata": [
            [
             "2008-06"
            ],
            [
             "2008-06"
            ],
            [
             "2008-06"
            ],
            [
             "2008-06"
            ]
           ],
           "hovertemplate": "<b>%{hovertext}</b><br><br>term=%{x}<br>rate=%{y}<extra></extra>",
           "hovertext": [
            "2008-06",
            "2008-06",
            "2008-06",
            "2008-06"
           ],
           "legendgroup": "",
           "line": {
            "color": "#636efa",
            "dash": "solid"
           },
           "marker": {
            "symbol": "circle"
           },
           "mode": "lines",
           "name": "",
           "orientation": "v",
           "showlegend": false,
           "type": "scatter",
           "x": [
            5,
            7,
            10,
            20
           ],
           "xaxis": "x",
           "y": [
            0.0088,
            0.0124,
            0.0151,
            0.021099999999999997
           ],
           "yaxis": "y"
          }
         ],
         "name": "2008-06"
        },
        {
         "data": [
          {
           "customdata": [
            [
             "2008-07"
            ],
            [
             "2008-07"
            ],
            [
             "2008-07"
            ],
            [
             "2008-07"
            ]
           ],
           "hovertemplate": "<b>%{hovertext}</b><br><br>term=%{x}<br>rate=%{y}<extra></extra>",
           "hovertext": [
            "2008-07",
            "2008-07",
            "2008-07",
            "2008-07"
           ],
           "legendgroup": "",
           "line": {
            "color": "#636efa",
            "dash": "solid"
           },
           "marker": {
            "symbol": "circle"
           },
           "mode": "lines",
           "name": "",
           "orientation": "v",
           "showlegend": false,
           "type": "scatter",
           "x": [
            5,
            7,
            10,
            20
           ],
           "xaxis": "x",
           "y": [
            0.0067,
            0.0115,
            0.0149,
            0.020499999999999997
           ],
           "yaxis": "y"
          }
         ],
         "name": "2008-07"
        },
        {
         "data": [
          {
           "customdata": [
            [
             "2008-08"
            ],
            [
             "2008-08"
            ],
            [
             "2008-08"
            ],
            [
             "2008-08"
            ]
           ],
           "hovertemplate": "<b>%{hovertext}</b><br><br>term=%{x}<br>rate=%{y}<extra></extra>",
           "hovertext": [
            "2008-08",
            "2008-08",
            "2008-08",
            "2008-08"
           ],
           "legendgroup": "",
           "line": {
            "color": "#636efa",
            "dash": "solid"
           },
           "marker": {
            "symbol": "circle"
           },
           "mode": "lines",
           "name": "",
           "orientation": "v",
           "showlegend": false,
           "type": "scatter",
           "x": [
            5,
            7,
            10,
            20
           ],
           "xaxis": "x",
           "y": [
            0.0106,
            0.0139,
            0.0163,
            0.0213
           ],
           "yaxis": "y"
          }
         ],
         "name": "2008-08"
        },
        {
         "data": [
          {
           "customdata": [
            [
             "2008-09"
            ],
            [
             "2008-09"
            ],
            [
             "2008-09"
            ],
            [
             "2008-09"
            ]
           ],
           "hovertemplate": "<b>%{hovertext}</b><br><br>term=%{x}<br>rate=%{y}<extra></extra>",
           "hovertext": [
            "2008-09",
            "2008-09",
            "2008-09",
            "2008-09"
           ],
           "legendgroup": "",
           "line": {
            "color": "#636efa",
            "dash": "solid"
           },
           "marker": {
            "symbol": "circle"
           },
           "mode": "lines",
           "name": "",
           "orientation": "v",
           "showlegend": false,
           "type": "scatter",
           "x": [
            5,
            7,
            10,
            20
           ],
           "xaxis": "x",
           "y": [
            0.0128,
            0.015,
            0.0169,
            0.0215
           ],
           "yaxis": "y"
          }
         ],
         "name": "2008-09"
        },
        {
         "data": [
          {
           "customdata": [
            [
             "2008-10"
            ],
            [
             "2008-10"
            ],
            [
             "2008-10"
            ],
            [
             "2008-10"
            ]
           ],
           "hovertemplate": "<b>%{hovertext}</b><br><br>term=%{x}<br>rate=%{y}<extra></extra>",
           "hovertext": [
            "2008-10",
            "2008-10",
            "2008-10",
            "2008-10"
           ],
           "legendgroup": "",
           "line": {
            "color": "#636efa",
            "dash": "solid"
           },
           "marker": {
            "symbol": "circle"
           },
           "mode": "lines",
           "name": "",
           "orientation": "v",
           "showlegend": false,
           "type": "scatter",
           "x": [
            5,
            7,
            10,
            20
           ],
           "xaxis": "x",
           "y": [
            0.0192,
            0.0216,
            0.0226,
            0.025699999999999997
           ],
           "yaxis": "y"
          }
         ],
         "name": "2008-10"
        },
        {
         "data": [
          {
           "customdata": [
            [
             "2008-11"
            ],
            [
             "2008-11"
            ],
            [
             "2008-11"
            ],
            [
             "2008-11"
            ]
           ],
           "hovertemplate": "<b>%{hovertext}</b><br><br>term=%{x}<br>rate=%{y}<extra></extra>",
           "hovertext": [
            "2008-11",
            "2008-11",
            "2008-11",
            "2008-11"
           ],
           "legendgroup": "",
           "line": {
            "color": "#636efa",
            "dash": "solid"
           },
           "marker": {
            "symbol": "circle"
           },
           "mode": "lines",
           "name": "",
           "orientation": "v",
           "showlegend": false,
           "type": "scatter",
           "x": [
            5,
            7,
            10,
            20
           ],
           "xaxis": "x",
           "y": [
            0.0366,
            0.0385,
            0.030899999999999997,
            0.0329
           ],
           "yaxis": "y"
          }
         ],
         "name": "2008-11"
        },
        {
         "data": [
          {
           "customdata": [
            [
             "2008-12"
            ],
            [
             "2008-12"
            ],
            [
             "2008-12"
            ],
            [
             "2008-12"
            ]
           ],
           "hovertemplate": "<b>%{hovertext}</b><br><br>term=%{x}<br>rate=%{y}<extra></extra>",
           "hovertext": [
            "2008-12",
            "2008-12",
            "2008-12",
            "2008-12"
           ],
           "legendgroup": "",
           "line": {
            "color": "#636efa",
            "dash": "solid"
           },
           "marker": {
            "symbol": "circle"
           },
           "mode": "lines",
           "name": "",
           "orientation": "v",
           "showlegend": false,
           "type": "scatter",
           "x": [
            5,
            7,
            10,
            20
           ],
           "xaxis": "x",
           "y": [
            0.0203,
            0.0219,
            0.023799999999999998,
            0.0276
           ],
           "yaxis": "y"
          }
         ],
         "name": "2008-12"
        },
        {
         "data": [
          {
           "customdata": [
            [
             "2009-01"
            ],
            [
             "2009-01"
            ],
            [
             "2009-01"
            ],
            [
             "2009-01"
            ]
           ],
           "hovertemplate": "<b>%{hovertext}</b><br><br>term=%{x}<br>rate=%{y}<extra></extra>",
           "hovertext": [
            "2009-01",
            "2009-01",
            "2009-01",
            "2009-01"
           ],
           "legendgroup": "",
           "line": {
            "color": "#636efa",
            "dash": "solid"
           },
           "marker": {
            "symbol": "circle"
           },
           "mode": "lines",
           "name": "",
           "orientation": "v",
           "showlegend": false,
           "type": "scatter",
           "x": [
            5,
            7,
            10,
            20
           ],
           "xaxis": "x",
           "y": [
            0.0197,
            0.0212,
            0.0229,
            0.025099999999999997
           ],
           "yaxis": "y"
          }
         ],
         "name": "2009-01"
        },
        {
         "data": [
          {
           "customdata": [
            [
             "2009-02"
            ],
            [
             "2009-02"
            ],
            [
             "2009-02"
            ],
            [
             "2009-02"
            ]
           ],
           "hovertemplate": "<b>%{hovertext}</b><br><br>term=%{x}<br>rate=%{y}<extra></extra>",
           "hovertext": [
            "2009-02",
            "2009-02",
            "2009-02",
            "2009-02"
           ],
           "legendgroup": "",
           "line": {
            "color": "#636efa",
            "dash": "solid"
           },
           "marker": {
            "symbol": "circle"
           },
           "mode": "lines",
           "name": "",
           "orientation": "v",
           "showlegend": false,
           "type": "scatter",
           "x": [
            5,
            7,
            10,
            20
           ],
           "xaxis": "x",
           "y": [
            0.0141,
            0.015,
            0.0169,
            0.023399999999999997
           ],
           "yaxis": "y"
          }
         ],
         "name": "2009-02"
        },
        {
         "data": [
          {
           "customdata": [
            [
             "2009-03"
            ],
            [
             "2009-03"
            ],
            [
             "2009-03"
            ],
            [
             "2009-03"
            ]
           ],
           "hovertemplate": "<b>%{hovertext}</b><br><br>term=%{x}<br>rate=%{y}<extra></extra>",
           "hovertext": [
            "2009-03",
            "2009-03",
            "2009-03",
            "2009-03"
           ],
           "legendgroup": "",
           "line": {
            "color": "#636efa",
            "dash": "solid"
           },
           "marker": {
            "symbol": "circle"
           },
           "mode": "lines",
           "name": "",
           "orientation": "v",
           "showlegend": false,
           "type": "scatter",
           "x": [
            5,
            7,
            10,
            20
           ],
           "xaxis": "x",
           "y": [
            0.0134,
            0.0163,
            0.02,
            0.0248
           ],
           "yaxis": "y"
          }
         ],
         "name": "2009-03"
        },
        {
         "data": [
          {
           "customdata": [
            [
             "2009-04"
            ],
            [
             "2009-04"
            ],
            [
             "2009-04"
            ],
            [
             "2009-04"
            ]
           ],
           "hovertemplate": "<b>%{hovertext}</b><br><br>term=%{x}<br>rate=%{y}<extra></extra>",
           "hovertext": [
            "2009-04",
            "2009-04",
            "2009-04",
            "2009-04"
           ],
           "legendgroup": "",
           "line": {
            "color": "#636efa",
            "dash": "solid"
           },
           "marker": {
            "symbol": "circle"
           },
           "mode": "lines",
           "name": "",
           "orientation": "v",
           "showlegend": false,
           "type": "scatter",
           "x": [
            5,
            7,
            10,
            20
           ],
           "xaxis": "x",
           "y": [
            0.009300000000000001,
            0.0111,
            0.0137,
            0.0194
           ],
           "yaxis": "y"
          }
         ],
         "name": "2009-04"
        },
        {
         "data": [
          {
           "customdata": [
            [
             "2009-05"
            ],
            [
             "2009-05"
            ],
            [
             "2009-05"
            ],
            [
             "2009-05"
            ]
           ],
           "hovertemplate": "<b>%{hovertext}</b><br><br>term=%{x}<br>rate=%{y}<extra></extra>",
           "hovertext": [
            "2009-05",
            "2009-05",
            "2009-05",
            "2009-05"
           ],
           "legendgroup": "",
           "line": {
            "color": "#636efa",
            "dash": "solid"
           },
           "marker": {
            "symbol": "circle"
           },
           "mode": "lines",
           "name": "",
           "orientation": "v",
           "showlegend": false,
           "type": "scatter",
           "x": [
            5,
            7,
            10,
            20
           ],
           "xaxis": "x",
           "y": [
            0.0124,
            0.0147,
            0.018000000000000002,
            0.024900000000000002
           ],
           "yaxis": "y"
          }
         ],
         "name": "2009-05"
        },
        {
         "data": [
          {
           "customdata": [
            [
             "2009-06"
            ],
            [
             "2009-06"
            ],
            [
             "2009-06"
            ],
            [
             "2009-06"
            ]
           ],
           "hovertemplate": "<b>%{hovertext}</b><br><br>term=%{x}<br>rate=%{y}<extra></extra>",
           "hovertext": [
            "2009-06",
            "2009-06",
            "2009-06",
            "2009-06"
           ],
           "legendgroup": "",
           "line": {
            "color": "#636efa",
            "dash": "solid"
           },
           "marker": {
            "symbol": "circle"
           },
           "mode": "lines",
           "name": "",
           "orientation": "v",
           "showlegend": false,
           "type": "scatter",
           "x": [
            5,
            7,
            10,
            20
           ],
           "xaxis": "x",
           "y": [
            0.0102,
            0.013500000000000002,
            0.018000000000000002,
            0.0239
           ],
           "yaxis": "y"
          }
         ],
         "name": "2009-06"
        },
        {
         "data": [
          {
           "customdata": [
            [
             "2009-07"
            ],
            [
             "2009-07"
            ],
            [
             "2009-07"
            ],
            [
             "2009-07"
            ]
           ],
           "hovertemplate": "<b>%{hovertext}</b><br><br>term=%{x}<br>rate=%{y}<extra></extra>",
           "hovertext": [
            "2009-07",
            "2009-07",
            "2009-07",
            "2009-07"
           ],
           "legendgroup": "",
           "line": {
            "color": "#636efa",
            "dash": "solid"
           },
           "marker": {
            "symbol": "circle"
           },
           "mode": "lines",
           "name": "",
           "orientation": "v",
           "showlegend": false,
           "type": "scatter",
           "x": [
            5,
            7,
            10,
            20
           ],
           "xaxis": "x",
           "y": [
            0.0116,
            0.0146,
            0.0183,
            0.0216
           ],
           "yaxis": "y"
          }
         ],
         "name": "2009-07"
        },
        {
         "data": [
          {
           "customdata": [
            [
             "2009-08"
            ],
            [
             "2009-08"
            ],
            [
             "2009-08"
            ],
            [
             "2009-08"
            ]
           ],
           "hovertemplate": "<b>%{hovertext}</b><br><br>term=%{x}<br>rate=%{y}<extra></extra>",
           "hovertext": [
            "2009-08",
            "2009-08",
            "2009-08",
            "2009-08"
           ],
           "legendgroup": "",
           "line": {
            "color": "#636efa",
            "dash": "solid"
           },
           "marker": {
            "symbol": "circle"
           },
           "mode": "lines",
           "name": "",
           "orientation": "v",
           "showlegend": false,
           "type": "scatter",
           "x": [
            5,
            7,
            10,
            20
           ],
           "xaxis": "x",
           "y": [
            0.0128,
            0.0149,
            0.0178,
            0.0231
           ],
           "yaxis": "y"
          }
         ],
         "name": "2009-08"
        },
        {
         "data": [
          {
           "customdata": [
            [
             "2009-09"
            ],
            [
             "2009-09"
            ],
            [
             "2009-09"
            ],
            [
             "2009-09"
            ]
           ],
           "hovertemplate": "<b>%{hovertext}</b><br><br>term=%{x}<br>rate=%{y}<extra></extra>",
           "hovertext": [
            "2009-09",
            "2009-09",
            "2009-09",
            "2009-09"
           ],
           "legendgroup": "",
           "line": {
            "color": "#636efa",
            "dash": "solid"
           },
           "marker": {
            "symbol": "circle"
           },
           "mode": "lines",
           "name": "",
           "orientation": "v",
           "showlegend": false,
           "type": "scatter",
           "x": [
            5,
            7,
            10,
            20
           ],
           "xaxis": "x",
           "y": [
            0.012199999999999999,
            0.0144,
            0.0174,
            0.022099999999999998
           ],
           "yaxis": "y"
          }
         ],
         "name": "2009-09"
        },
        {
         "data": [
          {
           "customdata": [
            [
             "2009-10"
            ],
            [
             "2009-10"
            ],
            [
             "2009-10"
            ],
            [
             "2009-10"
            ]
           ],
           "hovertemplate": "<b>%{hovertext}</b><br><br>term=%{x}<br>rate=%{y}<extra></extra>",
           "hovertext": [
            "2009-10",
            "2009-10",
            "2009-10",
            "2009-10"
           ],
           "legendgroup": "",
           "line": {
            "color": "#636efa",
            "dash": "solid"
           },
           "marker": {
            "symbol": "circle"
           },
           "mode": "lines",
           "name": "",
           "orientation": "v",
           "showlegend": false,
           "type": "scatter",
           "x": [
            5,
            7,
            10,
            20
           ],
           "xaxis": "x",
           "y": [
            0.0087,
            0.011399999999999999,
            0.015,
            0.019799999999999998
           ],
           "yaxis": "y"
          }
         ],
         "name": "2009-10"
        },
        {
         "data": [
          {
           "customdata": [
            [
             "2009-11"
            ],
            [
             "2009-11"
            ],
            [
             "2009-11"
            ],
            [
             "2009-11"
            ]
           ],
           "hovertemplate": "<b>%{hovertext}</b><br><br>term=%{x}<br>rate=%{y}<extra></extra>",
           "hovertext": [
            "2009-11",
            "2009-11",
            "2009-11",
            "2009-11"
           ],
           "legendgroup": "",
           "line": {
            "color": "#636efa",
            "dash": "solid"
           },
           "marker": {
            "symbol": "circle"
           },
           "mode": "lines",
           "name": "",
           "orientation": "v",
           "showlegend": false,
           "type": "scatter",
           "x": [
            5,
            7,
            10,
            20
           ],
           "xaxis": "x",
           "y": [
            0.006999999999999999,
            0.0101,
            0.0141,
            0.020099999999999996
           ],
           "yaxis": "y"
          }
         ],
         "name": "2009-11"
        },
        {
         "data": [
          {
           "customdata": [
            [
             "2009-12"
            ],
            [
             "2009-12"
            ],
            [
             "2009-12"
            ],
            [
             "2009-12"
            ]
           ],
           "hovertemplate": "<b>%{hovertext}</b><br><br>term=%{x}<br>rate=%{y}<extra></extra>",
           "hovertext": [
            "2009-12",
            "2009-12",
            "2009-12",
            "2009-12"
           ],
           "legendgroup": "",
           "line": {
            "color": "#636efa",
            "dash": "solid"
           },
           "marker": {
            "symbol": "circle"
           },
           "mode": "lines",
           "name": "",
           "orientation": "v",
           "showlegend": false,
           "type": "scatter",
           "x": [
            5,
            7,
            10,
            20
           ],
           "xaxis": "x",
           "y": [
            0.0023,
            0.006500000000000001,
            0.011399999999999999,
            0.0179
           ],
           "yaxis": "y"
          }
         ],
         "name": "2009-12"
        },
        {
         "data": [
          {
           "customdata": [
            [
             "2010-01"
            ],
            [
             "2010-01"
            ],
            [
             "2010-01"
            ],
            [
             "2010-01"
            ]
           ],
           "hovertemplate": "<b>%{hovertext}</b><br><br>term=%{x}<br>rate=%{y}<extra></extra>",
           "hovertext": [
            "2010-01",
            "2010-01",
            "2010-01",
            "2010-01"
           ],
           "legendgroup": "",
           "line": {
            "color": "#636efa",
            "dash": "solid"
           },
           "marker": {
            "symbol": "circle"
           },
           "mode": "lines",
           "name": "",
           "orientation": "v",
           "showlegend": false,
           "type": "scatter",
           "x": [
            5,
            7,
            10,
            20
           ],
           "xaxis": "x",
           "y": [
            0.0052,
            0.0097,
            0.0147,
            0.0204
           ],
           "yaxis": "y"
          }
         ],
         "name": "2010-01"
        },
        {
         "data": [
          {
           "customdata": [
            [
             "2010-02"
            ],
            [
             "2010-02"
            ],
            [
             "2010-02"
            ],
            [
             "2010-02"
            ],
            [
             "2010-02"
            ]
           ],
           "hovertemplate": "<b>%{hovertext}</b><br><br>term=%{x}<br>rate=%{y}<extra></extra>",
           "hovertext": [
            "2010-02",
            "2010-02",
            "2010-02",
            "2010-02",
            "2010-02"
           ],
           "legendgroup": "",
           "line": {
            "color": "#636efa",
            "dash": "solid"
           },
           "marker": {
            "symbol": "circle"
           },
           "mode": "lines",
           "name": "",
           "orientation": "v",
           "showlegend": false,
           "type": "scatter",
           "x": [
            5,
            7,
            10,
            20,
            30
           ],
           "xaxis": "x",
           "y": [
            0.0039000000000000003,
            0.008100000000000001,
            0.0129,
            0.0192,
            0.0222
           ],
           "yaxis": "y"
          }
         ],
         "name": "2010-02"
        },
        {
         "data": [
          {
           "customdata": [
            [
             "2010-03"
            ],
            [
             "2010-03"
            ],
            [
             "2010-03"
            ],
            [
             "2010-03"
            ],
            [
             "2010-03"
            ]
           ],
           "hovertemplate": "<b>%{hovertext}</b><br><br>term=%{x}<br>rate=%{y}<extra></extra>",
           "hovertext": [
            "2010-03",
            "2010-03",
            "2010-03",
            "2010-03",
            "2010-03"
           ],
           "legendgroup": "",
           "line": {
            "color": "#636efa",
            "dash": "solid"
           },
           "marker": {
            "symbol": "circle"
           },
           "mode": "lines",
           "name": "",
           "orientation": "v",
           "showlegend": false,
           "type": "scatter",
           "x": [
            5,
            7,
            10,
            20,
            30
           ],
           "xaxis": "x",
           "y": [
            0.0045000000000000005,
            0.0098,
            0.0146,
            0.019799999999999998,
            0.021400000000000002
           ],
           "yaxis": "y"
          }
         ],
         "name": "2010-03"
        },
        {
         "data": [
          {
           "customdata": [
            [
             "2010-04"
            ],
            [
             "2010-04"
            ],
            [
             "2010-04"
            ],
            [
             "2010-04"
            ],
            [
             "2010-04"
            ]
           ],
           "hovertemplate": "<b>%{hovertext}</b><br><br>term=%{x}<br>rate=%{y}<extra></extra>",
           "hovertext": [
            "2010-04",
            "2010-04",
            "2010-04",
            "2010-04",
            "2010-04"
           ],
           "legendgroup": "",
           "line": {
            "color": "#636efa",
            "dash": "solid"
           },
           "marker": {
            "symbol": "circle"
           },
           "mode": "lines",
           "name": "",
           "orientation": "v",
           "showlegend": false,
           "type": "scatter",
           "x": [
            5,
            7,
            10,
            20,
            30
           ],
           "xaxis": "x",
           "y": [
            0.0074,
            0.0126,
            0.0161,
            0.02,
            0.0216
           ],
           "yaxis": "y"
          }
         ],
         "name": "2010-04"
        },
        {
         "data": [
          {
           "customdata": [
            [
             "2010-05"
            ],
            [
             "2010-05"
            ],
            [
             "2010-05"
            ],
            [
             "2010-05"
            ],
            [
             "2010-05"
            ]
           ],
           "hovertemplate": "<b>%{hovertext}</b><br><br>term=%{x}<br>rate=%{y}<extra></extra>",
           "hovertext": [
            "2010-05",
            "2010-05",
            "2010-05",
            "2010-05",
            "2010-05"
           ],
           "legendgroup": "",
           "line": {
            "color": "#636efa",
            "dash": "solid"
           },
           "marker": {
            "symbol": "circle"
           },
           "mode": "lines",
           "name": "",
           "orientation": "v",
           "showlegend": false,
           "type": "scatter",
           "x": [
            5,
            7,
            10,
            20,
            30
           ],
           "xaxis": "x",
           "y": [
            0.004699999999999999,
            0.009300000000000001,
            0.0132,
            0.0172,
            0.0187
           ],
           "yaxis": "y"
          }
         ],
         "name": "2010-05"
        },
        {
         "data": [
          {
           "customdata": [
            [
             "2010-06"
            ],
            [
             "2010-06"
            ],
            [
             "2010-06"
            ],
            [
             "2010-06"
            ],
            [
             "2010-06"
            ]
           ],
           "hovertemplate": "<b>%{hovertext}</b><br><br>term=%{x}<br>rate=%{y}<extra></extra>",
           "hovertext": [
            "2010-06",
            "2010-06",
            "2010-06",
            "2010-06",
            "2010-06"
           ],
           "legendgroup": "",
           "line": {
            "color": "#636efa",
            "dash": "solid"
           },
           "marker": {
            "symbol": "circle"
           },
           "mode": "lines",
           "name": "",
           "orientation": "v",
           "showlegend": false,
           "type": "scatter",
           "x": [
            5,
            7,
            10,
            20,
            30
           ],
           "xaxis": "x",
           "y": [
            0.0040999999999999995,
            0.008199999999999999,
            0.0132,
            0.0174,
            0.0183
           ],
           "yaxis": "y"
          }
         ],
         "name": "2010-06"
        },
        {
         "data": [
          {
           "customdata": [
            [
             "2010-07"
            ],
            [
             "2010-07"
            ],
            [
             "2010-07"
            ],
            [
             "2010-07"
            ],
            [
             "2010-07"
            ]
           ],
           "hovertemplate": "<b>%{hovertext}</b><br><br>term=%{x}<br>rate=%{y}<extra></extra>",
           "hovertext": [
            "2010-07",
            "2010-07",
            "2010-07",
            "2010-07",
            "2010-07"
           ],
           "legendgroup": "",
           "line": {
            "color": "#636efa",
            "dash": "solid"
           },
           "marker": {
            "symbol": "circle"
           },
           "mode": "lines",
           "name": "",
           "orientation": "v",
           "showlegend": false,
           "type": "scatter",
           "x": [
            5,
            7,
            10,
            20,
            30
           ],
           "xaxis": "x",
           "y": [
            0.0032,
            0.0072,
            0.0121,
            0.017,
            0.0176
           ],
           "yaxis": "y"
          }
         ],
         "name": "2010-07"
        },
        {
         "data": [
          {
           "customdata": [
            [
             "2010-08"
            ],
            [
             "2010-08"
            ],
            [
             "2010-08"
            ],
            [
             "2010-08"
            ],
            [
             "2010-08"
            ]
           ],
           "hovertemplate": "<b>%{hovertext}</b><br><br>term=%{x}<br>rate=%{y}<extra></extra>",
           "hovertext": [
            "2010-08",
            "2010-08",
            "2010-08",
            "2010-08",
            "2010-08"
           ],
           "legendgroup": "",
           "line": {
            "color": "#636efa",
            "dash": "solid"
           },
           "marker": {
            "symbol": "circle"
           },
           "mode": "lines",
           "name": "",
           "orientation": "v",
           "showlegend": false,
           "type": "scatter",
           "x": [
            5,
            7,
            10,
            20,
            30
           ],
           "xaxis": "x",
           "y": [
            0.0014000000000000002,
            0.005600000000000001,
            0.0113,
            0.0176,
            0.018799999999999997
           ],
           "yaxis": "y"
          }
         ],
         "name": "2010-08"
        },
        {
         "data": [
          {
           "customdata": [
            [
             "2010-09"
            ],
            [
             "2010-09"
            ],
            [
             "2010-09"
            ],
            [
             "2010-09"
            ],
            [
             "2010-09"
            ]
           ],
           "hovertemplate": "<b>%{hovertext}</b><br><br>term=%{x}<br>rate=%{y}<extra></extra>",
           "hovertext": [
            "2010-09",
            "2010-09",
            "2010-09",
            "2010-09",
            "2010-09"
           ],
           "legendgroup": "",
           "line": {
            "color": "#636efa",
            "dash": "solid"
           },
           "marker": {
            "symbol": "circle"
           },
           "mode": "lines",
           "name": "",
           "orientation": "v",
           "showlegend": false,
           "type": "scatter",
           "x": [
            5,
            7,
            10,
            20,
            30
           ],
           "xaxis": "x",
           "y": [
            0.002,
            0.0055000000000000005,
            0.0102,
            0.0158,
            0.0165
           ],
           "yaxis": "y"
          }
         ],
         "name": "2010-09"
        },
        {
         "data": [
          {
           "customdata": [
            [
             "2010-10"
            ],
            [
             "2010-10"
            ],
            [
             "2010-10"
            ],
            [
             "2010-10"
            ],
            [
             "2010-10"
            ]
           ],
           "hovertemplate": "<b>%{hovertext}</b><br><br>term=%{x}<br>rate=%{y}<extra></extra>",
           "hovertext": [
            "2010-10",
            "2010-10",
            "2010-10",
            "2010-10",
            "2010-10"
           ],
           "legendgroup": "",
           "line": {
            "color": "#636efa",
            "dash": "solid"
           },
           "marker": {
            "symbol": "circle"
           },
           "mode": "lines",
           "name": "",
           "orientation": "v",
           "showlegend": false,
           "type": "scatter",
           "x": [
            5,
            7,
            10,
            20,
            30
           ],
           "xaxis": "x",
           "y": [
            -0.0007000000000000001,
            0.0027,
            0.0075,
            0.0149,
            0.0161
           ],
           "yaxis": "y"
          }
         ],
         "name": "2010-10"
        },
        {
         "data": [
          {
           "customdata": [
            [
             "2010-11"
            ],
            [
             "2010-11"
            ],
            [
             "2010-11"
            ],
            [
             "2010-11"
            ],
            [
             "2010-11"
            ]
           ],
           "hovertemplate": "<b>%{hovertext}</b><br><br>term=%{x}<br>rate=%{y}<extra></extra>",
           "hovertext": [
            "2010-11",
            "2010-11",
            "2010-11",
            "2010-11",
            "2010-11"
           ],
           "legendgroup": "",
           "line": {
            "color": "#636efa",
            "dash": "solid"
           },
           "marker": {
            "symbol": "circle"
           },
           "mode": "lines",
           "name": "",
           "orientation": "v",
           "showlegend": false,
           "type": "scatter",
           "x": [
            5,
            7,
            10,
            20,
            30
           ],
           "xaxis": "x",
           "y": [
            -0.0034000000000000002,
            0.0002,
            0.0049,
            0.0123,
            0.013999999999999999
           ],
           "yaxis": "y"
          }
         ],
         "name": "2010-11"
        },
        {
         "data": [
          {
           "customdata": [
            [
             "2010-12"
            ],
            [
             "2010-12"
            ],
            [
             "2010-12"
            ],
            [
             "2010-12"
            ],
            [
             "2010-12"
            ]
           ],
           "hovertemplate": "<b>%{hovertext}</b><br><br>term=%{x}<br>rate=%{y}<extra></extra>",
           "hovertext": [
            "2010-12",
            "2010-12",
            "2010-12",
            "2010-12",
            "2010-12"
           ],
           "legendgroup": "",
           "line": {
            "color": "#636efa",
            "dash": "solid"
           },
           "marker": {
            "symbol": "circle"
           },
           "mode": "lines",
           "name": "",
           "orientation": "v",
           "showlegend": false,
           "type": "scatter",
           "x": [
            5,
            7,
            10,
            20,
            30
           ],
           "xaxis": "x",
           "y": [
            0.0004,
            0.004,
            0.0083,
            0.0154,
            0.0173
           ],
           "yaxis": "y"
          }
         ],
         "name": "2010-12"
        },
        {
         "data": [
          {
           "customdata": [
            [
             "2011-01"
            ],
            [
             "2011-01"
            ],
            [
             "2011-01"
            ],
            [
             "2011-01"
            ],
            [
             "2011-01"
            ]
           ],
           "hovertemplate": "<b>%{hovertext}</b><br><br>term=%{x}<br>rate=%{y}<extra></extra>",
           "hovertext": [
            "2011-01",
            "2011-01",
            "2011-01",
            "2011-01",
            "2011-01"
           ],
           "legendgroup": "",
           "line": {
            "color": "#636efa",
            "dash": "solid"
           },
           "marker": {
            "symbol": "circle"
           },
           "mode": "lines",
           "name": "",
           "orientation": "v",
           "showlegend": false,
           "type": "scatter",
           "x": [
            5,
            7,
            10,
            20,
            30
           ],
           "xaxis": "x",
           "y": [
            0.002,
            0.0068000000000000005,
            0.0105,
            0.016399999999999998,
            0.019
           ],
           "yaxis": "y"
          }
         ],
         "name": "2011-01"
        },
        {
         "data": [
          {
           "customdata": [
            [
             "2011-02"
            ],
            [
             "2011-02"
            ],
            [
             "2011-02"
            ],
            [
             "2011-02"
            ],
            [
             "2011-02"
            ]
           ],
           "hovertemplate": "<b>%{hovertext}</b><br><br>term=%{x}<br>rate=%{y}<extra></extra>",
           "hovertext": [
            "2011-02",
            "2011-02",
            "2011-02",
            "2011-02",
            "2011-02"
           ],
           "legendgroup": "",
           "line": {
            "color": "#636efa",
            "dash": "solid"
           },
           "marker": {
            "symbol": "circle"
           },
           "mode": "lines",
           "name": "",
           "orientation": "v",
           "showlegend": false,
           "type": "scatter",
           "x": [
            5,
            7,
            10,
            20,
            30
           ],
           "xaxis": "x",
           "y": [
            0.0001,
            0.006,
            0.0111,
            0.0181,
            0.0208
           ],
           "yaxis": "y"
          }
         ],
         "name": "2011-02"
        },
        {
         "data": [
          {
           "customdata": [
            [
             "2011-03"
            ],
            [
             "2011-03"
            ],
            [
             "2011-03"
            ],
            [
             "2011-03"
            ],
            [
             "2011-03"
            ]
           ],
           "hovertemplate": "<b>%{hovertext}</b><br><br>term=%{x}<br>rate=%{y}<extra></extra>",
           "hovertext": [
            "2011-03",
            "2011-03",
            "2011-03",
            "2011-03",
            "2011-03"
           ],
           "legendgroup": "",
           "line": {
            "color": "#636efa",
            "dash": "solid"
           },
           "marker": {
            "symbol": "circle"
           },
           "mode": "lines",
           "name": "",
           "orientation": "v",
           "showlegend": false,
           "type": "scatter",
           "x": [
            5,
            7,
            10,
            20,
            30
           ],
           "xaxis": "x",
           "y": [
            -0.0006,
            0.005699999999999999,
            0.01,
            0.0163,
            0.0194
           ],
           "yaxis": "y"
          }
         ],
         "name": "2011-03"
        },
        {
         "data": [
          {
           "customdata": [
            [
             "2011-04"
            ],
            [
             "2011-04"
            ],
            [
             "2011-04"
            ],
            [
             "2011-04"
            ],
            [
             "2011-04"
            ]
           ],
           "hovertemplate": "<b>%{hovertext}</b><br><br>term=%{x}<br>rate=%{y}<extra></extra>",
           "hovertext": [
            "2011-04",
            "2011-04",
            "2011-04",
            "2011-04",
            "2011-04"
           ],
           "legendgroup": "",
           "line": {
            "color": "#636efa",
            "dash": "solid"
           },
           "marker": {
            "symbol": "circle"
           },
           "mode": "lines",
           "name": "",
           "orientation": "v",
           "showlegend": false,
           "type": "scatter",
           "x": [
            5,
            7,
            10,
            20,
            30
           ],
           "xaxis": "x",
           "y": [
            -0.0001,
            0.0059,
            0.009399999999999999,
            0.015300000000000001,
            0.0183
           ],
           "yaxis": "y"
          }
         ],
         "name": "2011-04"
        },
        {
         "data": [
          {
           "customdata": [
            [
             "2011-05"
            ],
            [
             "2011-05"
            ],
            [
             "2011-05"
            ],
            [
             "2011-05"
            ],
            [
             "2011-05"
            ]
           ],
           "hovertemplate": "<b>%{hovertext}</b><br><br>term=%{x}<br>rate=%{y}<extra></extra>",
           "hovertext": [
            "2011-05",
            "2011-05",
            "2011-05",
            "2011-05",
            "2011-05"
           ],
           "legendgroup": "",
           "line": {
            "color": "#636efa",
            "dash": "solid"
           },
           "marker": {
            "symbol": "circle"
           },
           "mode": "lines",
           "name": "",
           "orientation": "v",
           "showlegend": false,
           "type": "scatter",
           "x": [
            5,
            7,
            10,
            20,
            30
           ],
           "xaxis": "x",
           "y": [
            -0.0048,
            0.0017000000000000001,
            0.0075,
            0.0146,
            0.0173
           ],
           "yaxis": "y"
          }
         ],
         "name": "2011-05"
        },
        {
         "data": [
          {
           "customdata": [
            [
             "2011-06"
            ],
            [
             "2011-06"
            ],
            [
             "2011-06"
            ],
            [
             "2011-06"
            ],
            [
             "2011-06"
            ]
           ],
           "hovertemplate": "<b>%{hovertext}</b><br><br>term=%{x}<br>rate=%{y}<extra></extra>",
           "hovertext": [
            "2011-06",
            "2011-06",
            "2011-06",
            "2011-06",
            "2011-06"
           ],
           "legendgroup": "",
           "line": {
            "color": "#636efa",
            "dash": "solid"
           },
           "marker": {
            "symbol": "circle"
           },
           "mode": "lines",
           "name": "",
           "orientation": "v",
           "showlegend": false,
           "type": "scatter",
           "x": [
            5,
            7,
            10,
            20,
            30
           ],
           "xaxis": "x",
           "y": [
            -0.0039000000000000003,
            0.0022,
            0.0074,
            0.0147,
            0.0175
           ],
           "yaxis": "y"
          }
         ],
         "name": "2011-06"
        },
        {
         "data": [
          {
           "customdata": [
            [
             "2011-07"
            ],
            [
             "2011-07"
            ],
            [
             "2011-07"
            ],
            [
             "2011-07"
            ],
            [
             "2011-07"
            ]
           ],
           "hovertemplate": "<b>%{hovertext}</b><br><br>term=%{x}<br>rate=%{y}<extra></extra>",
           "hovertext": [
            "2011-07",
            "2011-07",
            "2011-07",
            "2011-07",
            "2011-07"
           ],
           "legendgroup": "",
           "line": {
            "color": "#636efa",
            "dash": "solid"
           },
           "marker": {
            "symbol": "circle"
           },
           "mode": "lines",
           "name": "",
           "orientation": "v",
           "showlegend": false,
           "type": "scatter",
           "x": [
            5,
            7,
            10,
            20,
            30
           ],
           "xaxis": "x",
           "y": [
            -0.0025,
            0.0032,
            0.0077,
            0.0147,
            0.0177
           ],
           "yaxis": "y"
          }
         ],
         "name": "2011-07"
        },
        {
         "data": [
          {
           "customdata": [
            [
             "2011-08"
            ],
            [
             "2011-08"
            ],
            [
             "2011-08"
            ],
            [
             "2011-08"
            ],
            [
             "2011-08"
            ]
           ],
           "hovertemplate": "<b>%{hovertext}</b><br><br>term=%{x}<br>rate=%{y}<extra></extra>",
           "hovertext": [
            "2011-08",
            "2011-08",
            "2011-08",
            "2011-08",
            "2011-08"
           ],
           "legendgroup": "",
           "line": {
            "color": "#636efa",
            "dash": "solid"
           },
           "marker": {
            "symbol": "circle"
           },
           "mode": "lines",
           "name": "",
           "orientation": "v",
           "showlegend": false,
           "type": "scatter",
           "x": [
            5,
            7,
            10,
            20,
            30
           ],
           "xaxis": "x",
           "y": [
            -0.0075,
            -0.0021,
            0.0033,
            0.0109,
            0.0134
           ],
           "yaxis": "y"
          }
         ],
         "name": "2011-08"
        },
        {
         "data": [
          {
           "customdata": [
            [
             "2011-09"
            ],
            [
             "2011-09"
            ],
            [
             "2011-09"
            ],
            [
             "2011-09"
            ],
            [
             "2011-09"
            ]
           ],
           "hovertemplate": "<b>%{hovertext}</b><br><br>term=%{x}<br>rate=%{y}<extra></extra>",
           "hovertext": [
            "2011-09",
            "2011-09",
            "2011-09",
            "2011-09",
            "2011-09"
           ],
           "legendgroup": "",
           "line": {
            "color": "#636efa",
            "dash": "solid"
           },
           "marker": {
            "symbol": "circle"
           },
           "mode": "lines",
           "name": "",
           "orientation": "v",
           "showlegend": false,
           "type": "scatter",
           "x": [
            5,
            7,
            10,
            20,
            30
           ],
           "xaxis": "x",
           "y": [
            -0.008199999999999999,
            -0.0044,
            0.0007000000000000001,
            0.0072,
            0.010700000000000001
           ],
           "yaxis": "y"
          }
         ],
         "name": "2011-09"
        },
        {
         "data": [
          {
           "customdata": [
            [
             "2011-10"
            ],
            [
             "2011-10"
            ],
            [
             "2011-10"
            ],
            [
             "2011-10"
            ],
            [
             "2011-10"
            ]
           ],
           "hovertemplate": "<b>%{hovertext}</b><br><br>term=%{x}<br>rate=%{y}<extra></extra>",
           "hovertext": [
            "2011-10",
            "2011-10",
            "2011-10",
            "2011-10",
            "2011-10"
           ],
           "legendgroup": "",
           "line": {
            "color": "#636efa",
            "dash": "solid"
           },
           "marker": {
            "symbol": "circle"
           },
           "mode": "lines",
           "name": "",
           "orientation": "v",
           "showlegend": false,
           "type": "scatter",
           "x": [
            5,
            7,
            10,
            20,
            30
           ],
           "xaxis": "x",
           "y": [
            -0.0060999999999999995,
            -0.0031,
            0.0007000000000000001,
            0.0058,
            0.0086
           ],
           "yaxis": "y"
          }
         ],
         "name": "2011-10"
        },
        {
         "data": [
          {
           "customdata": [
            [
             "2011-11"
            ],
            [
             "2011-11"
            ],
            [
             "2011-11"
            ],
            [
             "2011-11"
            ],
            [
             "2011-11"
            ]
           ],
           "hovertemplate": "<b>%{hovertext}</b><br><br>term=%{x}<br>rate=%{y}<extra></extra>",
           "hovertext": [
            "2011-11",
            "2011-11",
            "2011-11",
            "2011-11",
            "2011-11"
           ],
           "legendgroup": "",
           "line": {
            "color": "#636efa",
            "dash": "solid"
           },
           "marker": {
            "symbol": "circle"
           },
           "mode": "lines",
           "name": "",
           "orientation": "v",
           "showlegend": false,
           "type": "scatter",
           "x": [
            5,
            7,
            10,
            20,
            30
           ],
           "xaxis": "x",
           "y": [
            -0.0092,
            -0.0051,
            -0.0004,
            0.0049,
            0.0072
           ],
           "yaxis": "y"
          }
         ],
         "name": "2011-11"
        },
        {
         "data": [
          {
           "customdata": [
            [
             "2011-12"
            ],
            [
             "2011-12"
            ],
            [
             "2011-12"
            ],
            [
             "2011-12"
            ],
            [
             "2011-12"
            ]
           ],
           "hovertemplate": "<b>%{hovertext}</b><br><br>term=%{x}<br>rate=%{y}<extra></extra>",
           "hovertext": [
            "2011-12",
            "2011-12",
            "2011-12",
            "2011-12",
            "2011-12"
           ],
           "legendgroup": "",
           "line": {
            "color": "#636efa",
            "dash": "solid"
           },
           "marker": {
            "symbol": "circle"
           },
           "mode": "lines",
           "name": "",
           "orientation": "v",
           "showlegend": false,
           "type": "scatter",
           "x": [
            5,
            7,
            10,
            20,
            30
           ],
           "xaxis": "x",
           "y": [
            -0.0079,
            -0.0039000000000000003,
            0.0006,
            0.0062,
            0.0085
           ],
           "yaxis": "y"
          }
         ],
         "name": "2011-12"
        },
        {
         "data": [
          {
           "customdata": [
            [
             "2012-01"
            ],
            [
             "2012-01"
            ],
            [
             "2012-01"
            ],
            [
             "2012-01"
            ],
            [
             "2012-01"
            ]
           ],
           "hovertemplate": "<b>%{hovertext}</b><br><br>term=%{x}<br>rate=%{y}<extra></extra>",
           "hovertext": [
            "2012-01",
            "2012-01",
            "2012-01",
            "2012-01",
            "2012-01"
           ],
           "legendgroup": "",
           "line": {
            "color": "#636efa",
            "dash": "solid"
           },
           "marker": {
            "symbol": "circle"
           },
           "mode": "lines",
           "name": "",
           "orientation": "v",
           "showlegend": false,
           "type": "scatter",
           "x": [
            5,
            7,
            10,
            20,
            30
           ],
           "xaxis": "x",
           "y": [
            -0.0077,
            -0.0043,
            -0.0004,
            0.0055000000000000005,
            0.008100000000000001
           ],
           "yaxis": "y"
          }
         ],
         "name": "2012-01"
        },
        {
         "data": [
          {
           "customdata": [
            [
             "2012-02"
            ],
            [
             "2012-02"
            ],
            [
             "2012-02"
            ],
            [
             "2012-02"
            ],
            [
             "2012-02"
            ]
           ],
           "hovertemplate": "<b>%{hovertext}</b><br><br>term=%{x}<br>rate=%{y}<extra></extra>",
           "hovertext": [
            "2012-02",
            "2012-02",
            "2012-02",
            "2012-02",
            "2012-02"
           ],
           "legendgroup": "",
           "line": {
            "color": "#636efa",
            "dash": "solid"
           },
           "marker": {
            "symbol": "circle"
           },
           "mode": "lines",
           "name": "",
           "orientation": "v",
           "showlegend": false,
           "type": "scatter",
           "x": [
            5,
            7,
            10,
            20,
            30
           ],
           "xaxis": "x",
           "y": [
            -0.011699999999999999,
            -0.0078000000000000005,
            -0.0028000000000000004,
            0.0042,
            0.006500000000000001
           ],
           "yaxis": "y"
          }
         ],
         "name": "2012-02"
        },
        {
         "data": [
          {
           "customdata": [
            [
             "2012-03"
            ],
            [
             "2012-03"
            ],
            [
             "2012-03"
            ],
            [
             "2012-03"
            ],
            [
             "2012-03"
            ]
           ],
           "hovertemplate": "<b>%{hovertext}</b><br><br>term=%{x}<br>rate=%{y}<extra></extra>",
           "hovertext": [
            "2012-03",
            "2012-03",
            "2012-03",
            "2012-03",
            "2012-03"
           ],
           "legendgroup": "",
           "line": {
            "color": "#636efa",
            "dash": "solid"
           },
           "marker": {
            "symbol": "circle"
           },
           "mode": "lines",
           "name": "",
           "orientation": "v",
           "showlegend": false,
           "type": "scatter",
           "x": [
            5,
            7,
            10,
            20,
            30
           ],
           "xaxis": "x",
           "y": [
            -0.011000000000000001,
            -0.0064,
            -0.0023,
            0.0046,
            0.008
           ],
           "yaxis": "y"
          }
         ],
         "name": "2012-03"
        },
        {
         "data": [
          {
           "customdata": [
            [
             "2012-04"
            ],
            [
             "2012-04"
            ],
            [
             "2012-04"
            ],
            [
             "2012-04"
            ],
            [
             "2012-04"
            ]
           ],
           "hovertemplate": "<b>%{hovertext}</b><br><br>term=%{x}<br>rate=%{y}<extra></extra>",
           "hovertext": [
            "2012-04",
            "2012-04",
            "2012-04",
            "2012-04",
            "2012-04"
           ],
           "legendgroup": "",
           "line": {
            "color": "#636efa",
            "dash": "solid"
           },
           "marker": {
            "symbol": "circle"
           },
           "mode": "lines",
           "name": "",
           "orientation": "v",
           "showlegend": false,
           "type": "scatter",
           "x": [
            5,
            7,
            10,
            20,
            30
           ],
           "xaxis": "x",
           "y": [
            -0.0101,
            -0.0055000000000000005,
            -0.0014000000000000002,
            0.005600000000000001,
            0.0089
           ],
           "yaxis": "y"
          }
         ],
         "name": "2012-04"
        },
        {
         "data": [
          {
           "customdata": [
            [
             "2012-05"
            ],
            [
             "2012-05"
            ],
            [
             "2012-05"
            ],
            [
             "2012-05"
            ],
            [
             "2012-05"
            ]
           ],
           "hovertemplate": "<b>%{hovertext}</b><br><br>term=%{x}<br>rate=%{y}<extra></extra>",
           "hovertext": [
            "2012-05",
            "2012-05",
            "2012-05",
            "2012-05",
            "2012-05"
           ],
           "legendgroup": "",
           "line": {
            "color": "#636efa",
            "dash": "solid"
           },
           "marker": {
            "symbol": "circle"
           },
           "mode": "lines",
           "name": "",
           "orientation": "v",
           "showlegend": false,
           "type": "scatter",
           "x": [
            5,
            7,
            10,
            20,
            30
           ],
           "xaxis": "x",
           "y": [
            -0.012199999999999999,
            -0.008199999999999999,
            -0.0028000000000000004,
            0.0051,
            0.0078000000000000005
           ],
           "yaxis": "y"
          }
         ],
         "name": "2012-05"
        },
        {
         "data": [
          {
           "customdata": [
            [
             "2012-06"
            ],
            [
             "2012-06"
            ],
            [
             "2012-06"
            ],
            [
             "2012-06"
            ],
            [
             "2012-06"
            ]
           ],
           "hovertemplate": "<b>%{hovertext}</b><br><br>term=%{x}<br>rate=%{y}<extra></extra>",
           "hovertext": [
            "2012-06",
            "2012-06",
            "2012-06",
            "2012-06",
            "2012-06"
           ],
           "legendgroup": "",
           "line": {
            "color": "#636efa",
            "dash": "solid"
           },
           "marker": {
            "symbol": "circle"
           },
           "mode": "lines",
           "name": "",
           "orientation": "v",
           "showlegend": false,
           "type": "scatter",
           "x": [
            5,
            7,
            10,
            20,
            30
           ],
           "xaxis": "x",
           "y": [
            -0.0103,
            -0.0085,
            -0.0059,
            -0.0003,
            0.0036
           ],
           "yaxis": "y"
          }
         ],
         "name": "2012-06"
        },
        {
         "data": [
          {
           "customdata": [
            [
             "2012-07"
            ],
            [
             "2012-07"
            ],
            [
             "2012-07"
            ],
            [
             "2012-07"
            ],
            [
             "2012-07"
            ]
           ],
           "hovertemplate": "<b>%{hovertext}</b><br><br>term=%{x}<br>rate=%{y}<extra></extra>",
           "hovertext": [
            "2012-07",
            "2012-07",
            "2012-07",
            "2012-07",
            "2012-07"
           ],
           "legendgroup": "",
           "line": {
            "color": "#636efa",
            "dash": "solid"
           },
           "marker": {
            "symbol": "circle"
           },
           "mode": "lines",
           "name": "",
           "orientation": "v",
           "showlegend": false,
           "type": "scatter",
           "x": [
            5,
            7,
            10,
            20,
            30
           ],
           "xaxis": "x",
           "y": [
            -0.0104,
            -0.008100000000000001,
            -0.005,
            0.001,
            0.0051
           ],
           "yaxis": "y"
          }
         ],
         "name": "2012-07"
        },
        {
         "data": [
          {
           "customdata": [
            [
             "2012-08"
            ],
            [
             "2012-08"
            ],
            [
             "2012-08"
            ],
            [
             "2012-08"
            ],
            [
             "2012-08"
            ]
           ],
           "hovertemplate": "<b>%{hovertext}</b><br><br>term=%{x}<br>rate=%{y}<extra></extra>",
           "hovertext": [
            "2012-08",
            "2012-08",
            "2012-08",
            "2012-08",
            "2012-08"
           ],
           "legendgroup": "",
           "line": {
            "color": "#636efa",
            "dash": "solid"
           },
           "marker": {
            "symbol": "circle"
           },
           "mode": "lines",
           "name": "",
           "orientation": "v",
           "showlegend": false,
           "type": "scatter",
           "x": [
            5,
            7,
            10,
            20,
            30
           ],
           "xaxis": "x",
           "y": [
            -0.012199999999999999,
            -0.009899999999999999,
            -0.0067,
            -0.0007000000000000001,
            0.0034000000000000002
           ],
           "yaxis": "y"
          }
         ],
         "name": "2012-08"
        },
        {
         "data": [
          {
           "customdata": [
            [
             "2012-09"
            ],
            [
             "2012-09"
            ],
            [
             "2012-09"
            ],
            [
             "2012-09"
            ],
            [
             "2012-09"
            ]
           ],
           "hovertemplate": "<b>%{hovertext}</b><br><br>term=%{x}<br>rate=%{y}<extra></extra>",
           "hovertext": [
            "2012-09",
            "2012-09",
            "2012-09",
            "2012-09",
            "2012-09"
           ],
           "legendgroup": "",
           "line": {
            "color": "#636efa",
            "dash": "solid"
           },
           "marker": {
            "symbol": "circle"
           },
           "mode": "lines",
           "name": "",
           "orientation": "v",
           "showlegend": false,
           "type": "scatter",
           "x": [
            5,
            7,
            10,
            20,
            30
           ],
           "xaxis": "x",
           "y": [
            -0.013500000000000002,
            -0.010700000000000001,
            -0.0068000000000000005,
            0,
            0.004
           ],
           "yaxis": "y"
          }
         ],
         "name": "2012-09"
        },
        {
         "data": [
          {
           "customdata": [
            [
             "2012-10"
            ],
            [
             "2012-10"
            ],
            [
             "2012-10"
            ],
            [
             "2012-10"
            ],
            [
             "2012-10"
            ]
           ],
           "hovertemplate": "<b>%{hovertext}</b><br><br>term=%{x}<br>rate=%{y}<extra></extra>",
           "hovertext": [
            "2012-10",
            "2012-10",
            "2012-10",
            "2012-10",
            "2012-10"
           ],
           "legendgroup": "",
           "line": {
            "color": "#636efa",
            "dash": "solid"
           },
           "marker": {
            "symbol": "circle"
           },
           "mode": "lines",
           "name": "",
           "orientation": "v",
           "showlegend": false,
           "type": "scatter",
           "x": [
            5,
            7,
            10,
            20,
            30
           ],
           "xaxis": "x",
           "y": [
            -0.0149,
            -0.012199999999999999,
            -0.0078000000000000005,
            -0.0002,
            0.0042
           ],
           "yaxis": "y"
          }
         ],
         "name": "2012-10"
        },
        {
         "data": [
          {
           "customdata": [
            [
             "2012-11"
            ],
            [
             "2012-11"
            ],
            [
             "2012-11"
            ],
            [
             "2012-11"
            ],
            [
             "2012-11"
            ]
           ],
           "hovertemplate": "<b>%{hovertext}</b><br><br>term=%{x}<br>rate=%{y}<extra></extra>",
           "hovertext": [
            "2012-11",
            "2012-11",
            "2012-11",
            "2012-11",
            "2012-11"
           ],
           "legendgroup": "",
           "line": {
            "color": "#636efa",
            "dash": "solid"
           },
           "marker": {
            "symbol": "circle"
           },
           "mode": "lines",
           "name": "",
           "orientation": "v",
           "showlegend": false,
           "type": "scatter",
           "x": [
            5,
            7,
            10,
            20,
            30
           ],
           "xaxis": "x",
           "y": [
            -0.013999999999999999,
            -0.011399999999999999,
            -0.0077,
            -0.0006,
            0.0036
           ],
           "yaxis": "y"
          }
         ],
         "name": "2012-11"
        },
        {
         "data": [
          {
           "customdata": [
            [
             "2012-12"
            ],
            [
             "2012-12"
            ],
            [
             "2012-12"
            ],
            [
             "2012-12"
            ],
            [
             "2012-12"
            ]
           ],
           "hovertemplate": "<b>%{hovertext}</b><br><br>term=%{x}<br>rate=%{y}<extra></extra>",
           "hovertext": [
            "2012-12",
            "2012-12",
            "2012-12",
            "2012-12",
            "2012-12"
           ],
           "legendgroup": "",
           "line": {
            "color": "#636efa",
            "dash": "solid"
           },
           "marker": {
            "symbol": "circle"
           },
           "mode": "lines",
           "name": "",
           "orientation": "v",
           "showlegend": false,
           "type": "scatter",
           "x": [
            5,
            7,
            10,
            20,
            30
           ],
           "xaxis": "x",
           "y": [
            -0.0141,
            -0.0116,
            -0.008100000000000001,
            -0.0005,
            0.003
           ],
           "yaxis": "y"
          }
         ],
         "name": "2012-12"
        },
        {
         "data": [
          {
           "customdata": [
            [
             "2013-01"
            ],
            [
             "2013-01"
            ],
            [
             "2013-01"
            ],
            [
             "2013-01"
            ],
            [
             "2013-01"
            ]
           ],
           "hovertemplate": "<b>%{hovertext}</b><br><br>term=%{x}<br>rate=%{y}<extra></extra>",
           "hovertext": [
            "2013-01",
            "2013-01",
            "2013-01",
            "2013-01",
            "2013-01"
           ],
           "legendgroup": "",
           "line": {
            "color": "#636efa",
            "dash": "solid"
           },
           "marker": {
            "symbol": "circle"
           },
           "mode": "lines",
           "name": "",
           "orientation": "v",
           "showlegend": false,
           "type": "scatter",
           "x": [
            5,
            7,
            10,
            20,
            30
           ],
           "xaxis": "x",
           "y": [
            -0.013600000000000001,
            -0.0106,
            -0.0062,
            0.0022,
            0.004699999999999999
           ],
           "yaxis": "y"
          }
         ],
         "name": "2013-01"
        },
        {
         "data": [
          {
           "customdata": [
            [
             "2013-02"
            ],
            [
             "2013-02"
            ],
            [
             "2013-02"
            ],
            [
             "2013-02"
            ],
            [
             "2013-02"
            ]
           ],
           "hovertemplate": "<b>%{hovertext}</b><br><br>term=%{x}<br>rate=%{y}<extra></extra>",
           "hovertext": [
            "2013-02",
            "2013-02",
            "2013-02",
            "2013-02",
            "2013-02"
           ],
           "legendgroup": "",
           "line": {
            "color": "#636efa",
            "dash": "solid"
           },
           "marker": {
            "symbol": "circle"
           },
           "mode": "lines",
           "name": "",
           "orientation": "v",
           "showlegend": false,
           "type": "scatter",
           "x": [
            5,
            7,
            10,
            20,
            30
           ],
           "xaxis": "x",
           "y": [
            -0.0146,
            -0.0101,
            -0.0055000000000000005,
            0.0025,
            0.0058
           ],
           "yaxis": "y"
          }
         ],
         "name": "2013-02"
        },
        {
         "data": [
          {
           "customdata": [
            [
             "2013-03"
            ],
            [
             "2013-03"
            ],
            [
             "2013-03"
            ],
            [
             "2013-03"
            ],
            [
             "2013-03"
            ]
           ],
           "hovertemplate": "<b>%{hovertext}</b><br><br>term=%{x}<br>rate=%{y}<extra></extra>",
           "hovertext": [
            "2013-03",
            "2013-03",
            "2013-03",
            "2013-03",
            "2013-03"
           ],
           "legendgroup": "",
           "line": {
            "color": "#636efa",
            "dash": "solid"
           },
           "marker": {
            "symbol": "circle"
           },
           "mode": "lines",
           "name": "",
           "orientation": "v",
           "showlegend": false,
           "type": "scatter",
           "x": [
            5,
            7,
            10,
            20,
            30
           ],
           "xaxis": "x",
           "y": [
            -0.014499999999999999,
            -0.0102,
            -0.0067,
            0.0007000000000000001,
            0.0052
           ],
           "yaxis": "y"
          }
         ],
         "name": "2013-03"
        },
        {
         "data": [
          {
           "customdata": [
            [
             "2013-04"
            ],
            [
             "2013-04"
            ],
            [
             "2013-04"
            ],
            [
             "2013-04"
            ],
            [
             "2013-04"
            ]
           ],
           "hovertemplate": "<b>%{hovertext}</b><br><br>term=%{x}<br>rate=%{y}<extra></extra>",
           "hovertext": [
            "2013-04",
            "2013-04",
            "2013-04",
            "2013-04",
            "2013-04"
           ],
           "legendgroup": "",
           "line": {
            "color": "#636efa",
            "dash": "solid"
           },
           "marker": {
            "symbol": "circle"
           },
           "mode": "lines",
           "name": "",
           "orientation": "v",
           "showlegend": false,
           "type": "scatter",
           "x": [
            5,
            7,
            10,
            20,
            30
           ],
           "xaxis": "x",
           "y": [
            -0.0147,
            -0.0103,
            -0.006500000000000001,
            0.0014000000000000002,
            0.0058
           ],
           "yaxis": "y"
          }
         ],
         "name": "2013-04"
        },
        {
         "data": [
          {
           "customdata": [
            [
             "2013-05"
            ],
            [
             "2013-05"
            ],
            [
             "2013-05"
            ],
            [
             "2013-05"
            ],
            [
             "2013-05"
            ]
           ],
           "hovertemplate": "<b>%{hovertext}</b><br><br>term=%{x}<br>rate=%{y}<extra></extra>",
           "hovertext": [
            "2013-05",
            "2013-05",
            "2013-05",
            "2013-05",
            "2013-05"
           ],
           "legendgroup": "",
           "line": {
            "color": "#636efa",
            "dash": "solid"
           },
           "marker": {
            "symbol": "circle"
           },
           "mode": "lines",
           "name": "",
           "orientation": "v",
           "showlegend": false,
           "type": "scatter",
           "x": [
            5,
            7,
            10,
            20,
            30
           ],
           "xaxis": "x",
           "y": [
            -0.013300000000000001,
            -0.0092,
            -0.0064,
            0.0004,
            0.0044
           ],
           "yaxis": "y"
          }
         ],
         "name": "2013-05"
        },
        {
         "data": [
          {
           "customdata": [
            [
             "2013-06"
            ],
            [
             "2013-06"
            ],
            [
             "2013-06"
            ],
            [
             "2013-06"
            ],
            [
             "2013-06"
            ]
           ],
           "hovertemplate": "<b>%{hovertext}</b><br><br>term=%{x}<br>rate=%{y}<extra></extra>",
           "hovertext": [
            "2013-06",
            "2013-06",
            "2013-06",
            "2013-06",
            "2013-06"
           ],
           "legendgroup": "",
           "line": {
            "color": "#636efa",
            "dash": "solid"
           },
           "marker": {
            "symbol": "circle"
           },
           "mode": "lines",
           "name": "",
           "orientation": "v",
           "showlegend": false,
           "type": "scatter",
           "x": [
            5,
            7,
            10,
            20,
            30
           ],
           "xaxis": "x",
           "y": [
            -0.0086,
            -0.0045000000000000005,
            -0.0007000000000000001,
            0.0062,
            0.0095
           ],
           "yaxis": "y"
          }
         ],
         "name": "2013-06"
        },
        {
         "data": [
          {
           "customdata": [
            [
             "2013-07"
            ],
            [
             "2013-07"
            ],
            [
             "2013-07"
            ],
            [
             "2013-07"
            ],
            [
             "2013-07"
            ]
           ],
           "hovertemplate": "<b>%{hovertext}</b><br><br>term=%{x}<br>rate=%{y}<extra></extra>",
           "hovertext": [
            "2013-07",
            "2013-07",
            "2013-07",
            "2013-07",
            "2013-07"
           ],
           "legendgroup": "",
           "line": {
            "color": "#636efa",
            "dash": "solid"
           },
           "marker": {
            "symbol": "circle"
           },
           "mode": "lines",
           "name": "",
           "orientation": "v",
           "showlegend": false,
           "type": "scatter",
           "x": [
            5,
            7,
            10,
            20,
            30
           ],
           "xaxis": "x",
           "y": [
            -0.0040999999999999995,
            0,
            0.0048,
            0.0109,
            0.0128
           ],
           "yaxis": "y"
          }
         ],
         "name": "2013-07"
        },
        {
         "data": [
          {
           "customdata": [
            [
             "2013-08"
            ],
            [
             "2013-08"
            ],
            [
             "2013-08"
            ],
            [
             "2013-08"
            ],
            [
             "2013-08"
            ]
           ],
           "hovertemplate": "<b>%{hovertext}</b><br><br>term=%{x}<br>rate=%{y}<extra></extra>",
           "hovertext": [
            "2013-08",
            "2013-08",
            "2013-08",
            "2013-08",
            "2013-08"
           ],
           "legendgroup": "",
           "line": {
            "color": "#636efa",
            "dash": "solid"
           },
           "marker": {
            "symbol": "circle"
           },
           "mode": "lines",
           "name": "",
           "orientation": "v",
           "showlegend": false,
           "type": "scatter",
           "x": [
            5,
            7,
            10,
            20,
            30
           ],
           "xaxis": "x",
           "y": [
            -0.0045000000000000005,
            0.0005,
            0.0048,
            0.011200000000000002,
            0.013999999999999999
           ],
           "yaxis": "y"
          }
         ],
         "name": "2013-08"
        },
        {
         "data": [
          {
           "customdata": [
            [
             "2013-09"
            ],
            [
             "2013-09"
            ],
            [
             "2013-09"
            ],
            [
             "2013-09"
            ],
            [
             "2013-09"
            ]
           ],
           "hovertemplate": "<b>%{hovertext}</b><br><br>term=%{x}<br>rate=%{y}<extra></extra>",
           "hovertext": [
            "2013-09",
            "2013-09",
            "2013-09",
            "2013-09",
            "2013-09"
           ],
           "legendgroup": "",
           "line": {
            "color": "#636efa",
            "dash": "solid"
           },
           "marker": {
            "symbol": "circle"
           },
           "mode": "lines",
           "name": "",
           "orientation": "v",
           "showlegend": false,
           "type": "scatter",
           "x": [
            5,
            7,
            10,
            20,
            30
           ],
           "xaxis": "x",
           "y": [
            -0.0008,
            0.0042,
            0.0076,
            0.0128,
            0.0154
           ],
           "yaxis": "y"
          }
         ],
         "name": "2013-09"
        },
        {
         "data": [
          {
           "customdata": [
            [
             "2013-10"
            ],
            [
             "2013-10"
            ],
            [
             "2013-10"
            ],
            [
             "2013-10"
            ],
            [
             "2013-10"
            ]
           ],
           "hovertemplate": "<b>%{hovertext}</b><br><br>term=%{x}<br>rate=%{y}<extra></extra>",
           "hovertext": [
            "2013-10",
            "2013-10",
            "2013-10",
            "2013-10",
            "2013-10"
           ],
           "legendgroup": "",
           "line": {
            "color": "#636efa",
            "dash": "solid"
           },
           "marker": {
            "symbol": "circle"
           },
           "mode": "lines",
           "name": "",
           "orientation": "v",
           "showlegend": false,
           "type": "scatter",
           "x": [
            5,
            7,
            10,
            20,
            30
           ],
           "xaxis": "x",
           "y": [
            -0.0034999999999999996,
            0.0015,
            0.0046,
            0.0108,
            0.0139
           ],
           "yaxis": "y"
          }
         ],
         "name": "2013-10"
        },
        {
         "data": [
          {
           "customdata": [
            [
             "2013-11"
            ],
            [
             "2013-11"
            ],
            [
             "2013-11"
            ],
            [
             "2013-11"
            ],
            [
             "2013-11"
            ]
           ],
           "hovertemplate": "<b>%{hovertext}</b><br><br>term=%{x}<br>rate=%{y}<extra></extra>",
           "hovertext": [
            "2013-11",
            "2013-11",
            "2013-11",
            "2013-11",
            "2013-11"
           ],
           "legendgroup": "",
           "line": {
            "color": "#636efa",
            "dash": "solid"
           },
           "marker": {
            "symbol": "circle"
           },
           "mode": "lines",
           "name": "",
           "orientation": "v",
           "showlegend": false,
           "type": "scatter",
           "x": [
            5,
            7,
            10,
            20,
            30
           ],
           "xaxis": "x",
           "y": [
            -0.0033,
            0.002,
            0.005,
            0.0111,
            0.0141
           ],
           "yaxis": "y"
          }
         ],
         "name": "2013-11"
        },
        {
         "data": [
          {
           "customdata": [
            [
             "2013-12"
            ],
            [
             "2013-12"
            ],
            [
             "2013-12"
            ],
            [
             "2013-12"
            ],
            [
             "2013-12"
            ]
           ],
           "hovertemplate": "<b>%{hovertext}</b><br><br>term=%{x}<br>rate=%{y}<extra></extra>",
           "hovertext": [
            "2013-12",
            "2013-12",
            "2013-12",
            "2013-12",
            "2013-12"
           ],
           "legendgroup": "",
           "line": {
            "color": "#636efa",
            "dash": "solid"
           },
           "marker": {
            "symbol": "circle"
           },
           "mode": "lines",
           "name": "",
           "orientation": "v",
           "showlegend": false,
           "type": "scatter",
           "x": [
            5,
            7,
            10,
            20,
            30
           ],
           "xaxis": "x",
           "y": [
            -0.0027,
            0.003,
            0.0066,
            0.0128,
            0.0158
           ],
           "yaxis": "y"
          }
         ],
         "name": "2013-12"
        },
        {
         "data": [
          {
           "customdata": [
            [
             "2014-01"
            ],
            [
             "2014-01"
            ],
            [
             "2014-01"
            ],
            [
             "2014-01"
            ],
            [
             "2014-01"
            ]
           ],
           "hovertemplate": "<b>%{hovertext}</b><br><br>term=%{x}<br>rate=%{y}<extra></extra>",
           "hovertext": [
            "2014-01",
            "2014-01",
            "2014-01",
            "2014-01",
            "2014-01"
           ],
           "legendgroup": "",
           "line": {
            "color": "#636efa",
            "dash": "solid"
           },
           "marker": {
            "symbol": "circle"
           },
           "mode": "lines",
           "name": "",
           "orientation": "v",
           "showlegend": false,
           "type": "scatter",
           "x": [
            5,
            7,
            10,
            20,
            30
           ],
           "xaxis": "x",
           "y": [
            0.0001,
            0.005699999999999999,
            0.0074,
            0.013000000000000001,
            0.0158
           ],
           "yaxis": "y"
          }
         ],
         "name": "2014-01"
        },
        {
         "data": [
          {
           "customdata": [
            [
             "2014-02"
            ],
            [
             "2014-02"
            ],
            [
             "2014-02"
            ],
            [
             "2014-02"
            ],
            [
             "2014-02"
            ]
           ],
           "hovertemplate": "<b>%{hovertext}</b><br><br>term=%{x}<br>rate=%{y}<extra></extra>",
           "hovertext": [
            "2014-02",
            "2014-02",
            "2014-02",
            "2014-02",
            "2014-02"
           ],
           "legendgroup": "",
           "line": {
            "color": "#636efa",
            "dash": "solid"
           },
           "marker": {
            "symbol": "circle"
           },
           "mode": "lines",
           "name": "",
           "orientation": "v",
           "showlegend": false,
           "type": "scatter",
           "x": [
            5,
            7,
            10,
            20,
            30
           ],
           "xaxis": "x",
           "y": [
            -0.0026,
            0.0029,
            0.004699999999999999,
            0.0101,
            0.0128
           ],
           "yaxis": "y"
          }
         ],
         "name": "2014-02"
        },
        {
         "data": [
          {
           "customdata": [
            [
             "2014-03"
            ],
            [
             "2014-03"
            ],
            [
             "2014-03"
            ],
            [
             "2014-03"
            ],
            [
             "2014-03"
            ]
           ],
           "hovertemplate": "<b>%{hovertext}</b><br><br>term=%{x}<br>rate=%{y}<extra></extra>",
           "hovertext": [
            "2014-03",
            "2014-03",
            "2014-03",
            "2014-03",
            "2014-03"
           ],
           "legendgroup": "",
           "line": {
            "color": "#636efa",
            "dash": "solid"
           },
           "marker": {
            "symbol": "circle"
           },
           "mode": "lines",
           "name": "",
           "orientation": "v",
           "showlegend": false,
           "type": "scatter",
           "x": [
            5,
            7,
            10,
            20,
            30
           ],
           "xaxis": "x",
           "y": [
            -0.0032,
            0.0024,
            0.0044,
            0.0098,
            0.0127
           ],
           "yaxis": "y"
          }
         ],
         "name": "2014-03"
        },
        {
         "data": [
          {
           "customdata": [
            [
             "2014-04"
            ],
            [
             "2014-04"
            ],
            [
             "2014-04"
            ],
            [
             "2014-04"
            ],
            [
             "2014-04"
            ]
           ],
           "hovertemplate": "<b>%{hovertext}</b><br><br>term=%{x}<br>rate=%{y}<extra></extra>",
           "hovertext": [
            "2014-04",
            "2014-04",
            "2014-04",
            "2014-04",
            "2014-04"
           ],
           "legendgroup": "",
           "line": {
            "color": "#636efa",
            "dash": "solid"
           },
           "marker": {
            "symbol": "circle"
           },
           "mode": "lines",
           "name": "",
           "orientation": "v",
           "showlegend": false,
           "type": "scatter",
           "x": [
            5,
            7,
            10,
            20,
            30
           ],
           "xaxis": "x",
           "y": [
            0.0003,
            0.0049,
            0.0063,
            0.010700000000000001,
            0.0132
           ],
           "yaxis": "y"
          }
         ],
         "name": "2014-04"
        },
        {
         "data": [
          {
           "customdata": [
            [
             "2014-05"
            ],
            [
             "2014-05"
            ],
            [
             "2014-05"
            ],
            [
             "2014-05"
            ],
            [
             "2014-05"
            ]
           ],
           "hovertemplate": "<b>%{hovertext}</b><br><br>term=%{x}<br>rate=%{y}<extra></extra>",
           "hovertext": [
            "2014-05",
            "2014-05",
            "2014-05",
            "2014-05",
            "2014-05"
           ],
           "legendgroup": "",
           "line": {
            "color": "#636efa",
            "dash": "solid"
           },
           "marker": {
            "symbol": "circle"
           },
           "mode": "lines",
           "name": "",
           "orientation": "v",
           "showlegend": false,
           "type": "scatter",
           "x": [
            5,
            7,
            10,
            20,
            30
           ],
           "xaxis": "x",
           "y": [
            -0.003,
            0.003,
            0.0043,
            0.0086,
            0.011000000000000001
           ],
           "yaxis": "y"
          }
         ],
         "name": "2014-05"
        },
        {
         "data": [
          {
           "customdata": [
            [
             "2014-06"
            ],
            [
             "2014-06"
            ],
            [
             "2014-06"
            ],
            [
             "2014-06"
            ],
            [
             "2014-06"
            ]
           ],
           "hovertemplate": "<b>%{hovertext}</b><br><br>term=%{x}<br>rate=%{y}<extra></extra>",
           "hovertext": [
            "2014-06",
            "2014-06",
            "2014-06",
            "2014-06",
            "2014-06"
           ],
           "legendgroup": "",
           "line": {
            "color": "#636efa",
            "dash": "solid"
           },
           "marker": {
            "symbol": "circle"
           },
           "mode": "lines",
           "name": "",
           "orientation": "v",
           "showlegend": false,
           "type": "scatter",
           "x": [
            5,
            7,
            10,
            20,
            30
           ],
           "xaxis": "x",
           "y": [
            -0.0033,
            0.0015,
            0.0032,
            0.008,
            0.0108
           ],
           "yaxis": "y"
          }
         ],
         "name": "2014-06"
        },
        {
         "data": [
          {
           "customdata": [
            [
             "2014-07"
            ],
            [
             "2014-07"
            ],
            [
             "2014-07"
            ],
            [
             "2014-07"
            ],
            [
             "2014-07"
            ]
           ],
           "hovertemplate": "<b>%{hovertext}</b><br><br>term=%{x}<br>rate=%{y}<extra></extra>",
           "hovertext": [
            "2014-07",
            "2014-07",
            "2014-07",
            "2014-07",
            "2014-07"
           ],
           "legendgroup": "",
           "line": {
            "color": "#636efa",
            "dash": "solid"
           },
           "marker": {
            "symbol": "circle"
           },
           "mode": "lines",
           "name": "",
           "orientation": "v",
           "showlegend": false,
           "type": "scatter",
           "x": [
            5,
            7,
            10,
            20,
            30
           ],
           "xaxis": "x",
           "y": [
            -0.0034000000000000002,
            0.0018,
            0.0032,
            0.008,
            0.0105
           ],
           "yaxis": "y"
          }
         ],
         "name": "2014-07"
        },
        {
         "data": [
          {
           "customdata": [
            [
             "2014-08"
            ],
            [
             "2014-08"
            ],
            [
             "2014-08"
            ],
            [
             "2014-08"
            ],
            [
             "2014-08"
            ]
           ],
           "hovertemplate": "<b>%{hovertext}</b><br><br>term=%{x}<br>rate=%{y}<extra></extra>",
           "hovertext": [
            "2014-08",
            "2014-08",
            "2014-08",
            "2014-08",
            "2014-08"
           ],
           "legendgroup": "",
           "line": {
            "color": "#636efa",
            "dash": "solid"
           },
           "marker": {
            "symbol": "circle"
           },
           "mode": "lines",
           "name": "",
           "orientation": "v",
           "showlegend": false,
           "type": "scatter",
           "x": [
            5,
            7,
            10,
            20,
            30
           ],
           "xaxis": "x",
           "y": [
            -0.0025,
            0.0018,
            0.0025,
            0.0068000000000000005,
            0.009300000000000001
           ],
           "yaxis": "y"
          }
         ],
         "name": "2014-08"
        },
        {
         "data": [
          {
           "customdata": [
            [
             "2014-09"
            ],
            [
             "2014-09"
            ],
            [
             "2014-09"
            ],
            [
             "2014-09"
            ],
            [
             "2014-09"
            ]
           ],
           "hovertemplate": "<b>%{hovertext}</b><br><br>term=%{x}<br>rate=%{y}<extra></extra>",
           "hovertext": [
            "2014-09",
            "2014-09",
            "2014-09",
            "2014-09",
            "2014-09"
           ],
           "legendgroup": "",
           "line": {
            "color": "#636efa",
            "dash": "solid"
           },
           "marker": {
            "symbol": "circle"
           },
           "mode": "lines",
           "name": "",
           "orientation": "v",
           "showlegend": false,
           "type": "scatter",
           "x": [
            5,
            7,
            10,
            20,
            30
           ],
           "xaxis": "x",
           "y": [
            -0.0007000000000000001,
            0.002,
            0.0027,
            0.0060999999999999995,
            0.009000000000000001
           ],
           "yaxis": "y"
          }
         ],
         "name": "2014-09"
        },
        {
         "data": [
          {
           "customdata": [
            [
             "2014-10"
            ],
            [
             "2014-10"
            ],
            [
             "2014-10"
            ],
            [
             "2014-10"
            ],
            [
             "2014-10"
            ]
           ],
           "hovertemplate": "<b>%{hovertext}</b><br><br>term=%{x}<br>rate=%{y}<extra></extra>",
           "hovertext": [
            "2014-10",
            "2014-10",
            "2014-10",
            "2014-10",
            "2014-10"
           ],
           "legendgroup": "",
           "line": {
            "color": "#636efa",
            "dash": "solid"
           },
           "marker": {
            "symbol": "circle"
           },
           "mode": "lines",
           "name": "",
           "orientation": "v",
           "showlegend": false,
           "type": "scatter",
           "x": [
            5,
            7,
            10,
            20,
            30
           ],
           "xaxis": "x",
           "y": [
            0.0009,
            0.0036,
            0.0046,
            0.008,
            0.0101
           ],
           "yaxis": "y"
          }
         ],
         "name": "2014-10"
        },
        {
         "data": [
          {
           "customdata": [
            [
             "2014-11"
            ],
            [
             "2014-11"
            ],
            [
             "2014-11"
            ],
            [
             "2014-11"
            ],
            [
             "2014-11"
            ]
           ],
           "hovertemplate": "<b>%{hovertext}</b><br><br>term=%{x}<br>rate=%{y}<extra></extra>",
           "hovertext": [
            "2014-11",
            "2014-11",
            "2014-11",
            "2014-11",
            "2014-11"
           ],
           "legendgroup": "",
           "line": {
            "color": "#636efa",
            "dash": "solid"
           },
           "marker": {
            "symbol": "circle"
           },
           "mode": "lines",
           "name": "",
           "orientation": "v",
           "showlegend": false,
           "type": "scatter",
           "x": [
            5,
            7,
            10,
            20,
            30
           ],
           "xaxis": "x",
           "y": [
            0.0008,
            0.0032,
            0.0043,
            0.0078000000000000005,
            0.009899999999999999
           ],
           "yaxis": "y"
          }
         ],
         "name": "2014-11"
        },
        {
         "data": [
          {
           "customdata": [
            [
             "2014-12"
            ],
            [
             "2014-12"
            ],
            [
             "2014-12"
            ],
            [
             "2014-12"
            ],
            [
             "2014-12"
            ]
           ],
           "hovertemplate": "<b>%{hovertext}</b><br><br>term=%{x}<br>rate=%{y}<extra></extra>",
           "hovertext": [
            "2014-12",
            "2014-12",
            "2014-12",
            "2014-12",
            "2014-12"
           ],
           "legendgroup": "",
           "line": {
            "color": "#636efa",
            "dash": "solid"
           },
           "marker": {
            "symbol": "circle"
           },
           "mode": "lines",
           "name": "",
           "orientation": "v",
           "showlegend": false,
           "type": "scatter",
           "x": [
            5,
            7,
            10,
            20,
            30
           ],
           "xaxis": "x",
           "y": [
            0.0013,
            0.0034000000000000002,
            0.0043,
            0.0076,
            0.0096
           ],
           "yaxis": "y"
          }
         ],
         "name": "2014-12"
        },
        {
         "data": [
          {
           "customdata": [
            [
             "2015-01"
            ],
            [
             "2015-01"
            ],
            [
             "2015-01"
            ],
            [
             "2015-01"
            ],
            [
             "2015-01"
            ]
           ],
           "hovertemplate": "<b>%{hovertext}</b><br><br>term=%{x}<br>rate=%{y}<extra></extra>",
           "hovertext": [
            "2015-01",
            "2015-01",
            "2015-01",
            "2015-01",
            "2015-01"
           ],
           "legendgroup": "",
           "line": {
            "color": "#636efa",
            "dash": "solid"
           },
           "marker": {
            "symbol": "circle"
           },
           "mode": "lines",
           "name": "",
           "orientation": "v",
           "showlegend": false,
           "type": "scatter",
           "x": [
            5,
            7,
            10,
            20,
            30
           ],
           "xaxis": "x",
           "y": [
            0.0031,
            0.0037,
            0.0040999999999999995,
            0.0060999999999999995,
            0.0076
           ],
           "yaxis": "y"
          }
         ],
         "name": "2015-01"
        },
        {
         "data": [
          {
           "customdata": [
            [
             "2015-02"
            ],
            [
             "2015-02"
            ],
            [
             "2015-02"
            ],
            [
             "2015-02"
            ],
            [
             "2015-02"
            ]
           ],
           "hovertemplate": "<b>%{hovertext}</b><br><br>term=%{x}<br>rate=%{y}<extra></extra>",
           "hovertext": [
            "2015-02",
            "2015-02",
            "2015-02",
            "2015-02",
            "2015-02"
           ],
           "legendgroup": "",
           "line": {
            "color": "#636efa",
            "dash": "solid"
           },
           "marker": {
            "symbol": "circle"
           },
           "mode": "lines",
           "name": "",
           "orientation": "v",
           "showlegend": false,
           "type": "scatter",
           "x": [
            5,
            7,
            10,
            20,
            30
           ],
           "xaxis": "x",
           "y": [
            -0.0013,
            -0.0001,
            0.0003,
            0.0031,
            0.0054
           ],
           "yaxis": "y"
          }
         ],
         "name": "2015-02"
        },
        {
         "data": [
          {
           "customdata": [
            [
             "2015-03"
            ],
            [
             "2015-03"
            ],
            [
             "2015-03"
            ],
            [
             "2015-03"
            ],
            [
             "2015-03"
            ]
           ],
           "hovertemplate": "<b>%{hovertext}</b><br><br>term=%{x}<br>rate=%{y}<extra></extra>",
           "hovertext": [
            "2015-03",
            "2015-03",
            "2015-03",
            "2015-03",
            "2015-03"
           ],
           "legendgroup": "",
           "line": {
            "color": "#636efa",
            "dash": "solid"
           },
           "marker": {
            "symbol": "circle"
           },
           "mode": "lines",
           "name": "",
           "orientation": "v",
           "showlegend": false,
           "type": "scatter",
           "x": [
            5,
            7,
            10,
            20,
            30
           ],
           "xaxis": "x",
           "y": [
            0.0003,
            0.0023,
            0.0025,
            0.0055000000000000005,
            0.0075
           ],
           "yaxis": "y"
          }
         ],
         "name": "2015-03"
        },
        {
         "data": [
          {
           "customdata": [
            [
             "2015-04"
            ],
            [
             "2015-04"
            ],
            [
             "2015-04"
            ],
            [
             "2015-04"
            ],
            [
             "2015-04"
            ]
           ],
           "hovertemplate": "<b>%{hovertext}</b><br><br>term=%{x}<br>rate=%{y}<extra></extra>",
           "hovertext": [
            "2015-04",
            "2015-04",
            "2015-04",
            "2015-04",
            "2015-04"
           ],
           "legendgroup": "",
           "line": {
            "color": "#636efa",
            "dash": "solid"
           },
           "marker": {
            "symbol": "circle"
           },
           "mode": "lines",
           "name": "",
           "orientation": "v",
           "showlegend": false,
           "type": "scatter",
           "x": [
            5,
            7,
            10,
            20,
            30
           ],
           "xaxis": "x",
           "y": [
            -0.0026,
            -0.0004,
            0.0007000000000000001,
            0.0039000000000000003,
            0.006
           ],
           "yaxis": "y"
          }
         ],
         "name": "2015-04"
        },
        {
         "data": [
          {
           "customdata": [
            [
             "2015-05"
            ],
            [
             "2015-05"
            ],
            [
             "2015-05"
            ],
            [
             "2015-05"
            ],
            [
             "2015-05"
            ]
           ],
           "hovertemplate": "<b>%{hovertext}</b><br><br>term=%{x}<br>rate=%{y}<extra></extra>",
           "hovertext": [
            "2015-05",
            "2015-05",
            "2015-05",
            "2015-05",
            "2015-05"
           ],
           "legendgroup": "",
           "line": {
            "color": "#636efa",
            "dash": "solid"
           },
           "marker": {
            "symbol": "circle"
           },
           "mode": "lines",
           "name": "",
           "orientation": "v",
           "showlegend": false,
           "type": "scatter",
           "x": [
            5,
            7,
            10,
            20,
            30
           ],
           "xaxis": "x",
           "y": [
            -0.0022,
            0.0009,
            0.0018,
            0.0054,
            0.0078000000000000005
           ],
           "yaxis": "y"
          }
         ],
         "name": "2015-05"
        },
        {
         "data": [
          {
           "customdata": [
            [
             "2015-06"
            ],
            [
             "2015-06"
            ],
            [
             "2015-06"
            ],
            [
             "2015-06"
            ],
            [
             "2015-06"
            ]
           ],
           "hovertemplate": "<b>%{hovertext}</b><br><br>term=%{x}<br>rate=%{y}<extra></extra>",
           "hovertext": [
            "2015-06",
            "2015-06",
            "2015-06",
            "2015-06",
            "2015-06"
           ],
           "legendgroup": "",
           "line": {
            "color": "#636efa",
            "dash": "solid"
           },
           "marker": {
            "symbol": "circle"
           },
           "mode": "lines",
           "name": "",
           "orientation": "v",
           "showlegend": false,
           "type": "scatter",
           "x": [
            5,
            7,
            10,
            20,
            30
           ],
           "xaxis": "x",
           "y": [
            0,
            0.0034000000000000002,
            0.0039000000000000003,
            0.0077,
            0.0102
           ],
           "yaxis": "y"
          }
         ],
         "name": "2015-06"
        },
        {
         "data": [
          {
           "customdata": [
            [
             "2015-07"
            ],
            [
             "2015-07"
            ],
            [
             "2015-07"
            ],
            [
             "2015-07"
            ],
            [
             "2015-07"
            ]
           ],
           "hovertemplate": "<b>%{hovertext}</b><br><br>term=%{x}<br>rate=%{y}<extra></extra>",
           "hovertext": [
            "2015-07",
            "2015-07",
            "2015-07",
            "2015-07",
            "2015-07"
           ],
           "legendgroup": "",
           "line": {
            "color": "#636efa",
            "dash": "solid"
           },
           "marker": {
            "symbol": "circle"
           },
           "mode": "lines",
           "name": "",
           "orientation": "v",
           "showlegend": false,
           "type": "scatter",
           "x": [
            5,
            7,
            10,
            20,
            30
           ],
           "xaxis": "x",
           "y": [
            0.001,
            0.004699999999999999,
            0.0054,
            0.009399999999999999,
            0.0118
           ],
           "yaxis": "y"
          }
         ],
         "name": "2015-07"
        },
        {
         "data": [
          {
           "customdata": [
            [
             "2015-08"
            ],
            [
             "2015-08"
            ],
            [
             "2015-08"
            ],
            [
             "2015-08"
            ],
            [
             "2015-08"
            ]
           ],
           "hovertemplate": "<b>%{hovertext}</b><br><br>term=%{x}<br>rate=%{y}<extra></extra>",
           "hovertext": [
            "2015-08",
            "2015-08",
            "2015-08",
            "2015-08",
            "2015-08"
           ],
           "legendgroup": "",
           "line": {
            "color": "#636efa",
            "dash": "solid"
           },
           "marker": {
            "symbol": "circle"
           },
           "mode": "lines",
           "name": "",
           "orientation": "v",
           "showlegend": false,
           "type": "scatter",
           "x": [
            5,
            7,
            10,
            20,
            30
           ],
           "xaxis": "x",
           "y": [
            0.0021,
            0.0038,
            0.0046,
            0.0078000000000000005,
            0.0102
           ],
           "yaxis": "y"
          }
         ],
         "name": "2015-08"
        },
        {
         "data": [
          {
           "customdata": [
            [
             "2015-09"
            ],
            [
             "2015-09"
            ],
            [
             "2015-09"
            ],
            [
             "2015-09"
            ],
            [
             "2015-09"
            ]
           ],
           "hovertemplate": "<b>%{hovertext}</b><br><br>term=%{x}<br>rate=%{y}<extra></extra>",
           "hovertext": [
            "2015-09",
            "2015-09",
            "2015-09",
            "2015-09",
            "2015-09"
           ],
           "legendgroup": "",
           "line": {
            "color": "#636efa",
            "dash": "solid"
           },
           "marker": {
            "symbol": "circle"
           },
           "mode": "lines",
           "name": "",
           "orientation": "v",
           "showlegend": false,
           "type": "scatter",
           "x": [
            5,
            7,
            10,
            20,
            30
           ],
           "xaxis": "x",
           "y": [
            0.0031,
            0.0051,
            0.006,
            0.0095,
            0.011699999999999999
           ],
           "yaxis": "y"
          }
         ],
         "name": "2015-09"
        },
        {
         "data": [
          {
           "customdata": [
            [
             "2015-10"
            ],
            [
             "2015-10"
            ],
            [
             "2015-10"
            ],
            [
             "2015-10"
            ],
            [
             "2015-10"
            ]
           ],
           "hovertemplate": "<b>%{hovertext}</b><br><br>term=%{x}<br>rate=%{y}<extra></extra>",
           "hovertext": [
            "2015-10",
            "2015-10",
            "2015-10",
            "2015-10",
            "2015-10"
           ],
           "legendgroup": "",
           "line": {
            "color": "#636efa",
            "dash": "solid"
           },
           "marker": {
            "symbol": "circle"
           },
           "mode": "lines",
           "name": "",
           "orientation": "v",
           "showlegend": false,
           "type": "scatter",
           "x": [
            5,
            7,
            10,
            20,
            30
           ],
           "xaxis": "x",
           "y": [
            0.0024,
            0.0042,
            0.0059,
            0.009899999999999999,
            0.0123
           ],
           "yaxis": "y"
          }
         ],
         "name": "2015-10"
        },
        {
         "data": [
          {
           "customdata": [
            [
             "2015-11"
            ],
            [
             "2015-11"
            ],
            [
             "2015-11"
            ],
            [
             "2015-11"
            ],
            [
             "2015-11"
            ]
           ],
           "hovertemplate": "<b>%{hovertext}</b><br><br>term=%{x}<br>rate=%{y}<extra></extra>",
           "hovertext": [
            "2015-11",
            "2015-11",
            "2015-11",
            "2015-11",
            "2015-11"
           ],
           "legendgroup": "",
           "line": {
            "color": "#636efa",
            "dash": "solid"
           },
           "marker": {
            "symbol": "circle"
           },
           "mode": "lines",
           "name": "",
           "orientation": "v",
           "showlegend": false,
           "type": "scatter",
           "x": [
            5,
            7,
            10,
            20,
            30
           ],
           "xaxis": "x",
           "y": [
            0.0034000000000000002,
            0.0049,
            0.006500000000000001,
            0.009899999999999999,
            0.012
           ],
           "yaxis": "y"
          }
         ],
         "name": "2015-11"
        },
        {
         "data": [
          {
           "customdata": [
            [
             "2015-12"
            ],
            [
             "2015-12"
            ],
            [
             "2015-12"
            ],
            [
             "2015-12"
            ],
            [
             "2015-12"
            ]
           ],
           "hovertemplate": "<b>%{hovertext}</b><br><br>term=%{x}<br>rate=%{y}<extra></extra>",
           "hovertext": [
            "2015-12",
            "2015-12",
            "2015-12",
            "2015-12",
            "2015-12"
           ],
           "legendgroup": "",
           "line": {
            "color": "#636efa",
            "dash": "solid"
           },
           "marker": {
            "symbol": "circle"
           },
           "mode": "lines",
           "name": "",
           "orientation": "v",
           "showlegend": false,
           "type": "scatter",
           "x": [
            5,
            7,
            10,
            20,
            30
           ],
           "xaxis": "x",
           "y": [
            0.003,
            0.0044,
            0.0058,
            0.0092,
            0.011399999999999999
           ],
           "yaxis": "y"
          }
         ],
         "name": "2015-12"
        },
        {
         "data": [
          {
           "customdata": [
            [
             "2016-01"
            ],
            [
             "2016-01"
            ],
            [
             "2016-01"
            ],
            [
             "2016-01"
            ],
            [
             "2016-01"
            ]
           ],
           "hovertemplate": "<b>%{hovertext}</b><br><br>term=%{x}<br>rate=%{y}<extra></extra>",
           "hovertext": [
            "2016-01",
            "2016-01",
            "2016-01",
            "2016-01",
            "2016-01"
           ],
           "legendgroup": "",
           "line": {
            "color": "#636efa",
            "dash": "solid"
           },
           "marker": {
            "symbol": "circle"
           },
           "mode": "lines",
           "name": "",
           "orientation": "v",
           "showlegend": false,
           "type": "scatter",
           "x": [
            5,
            7,
            10,
            20,
            30
           ],
           "xaxis": "x",
           "y": [
            0.0042,
            0.0055000000000000005,
            0.0069,
            0.0104,
            0.0125
           ],
           "yaxis": "y"
          }
         ],
         "name": "2016-01"
        },
        {
         "data": [
          {
           "customdata": [
            [
             "2016-02"
            ],
            [
             "2016-02"
            ],
            [
             "2016-02"
            ],
            [
             "2016-02"
            ],
            [
             "2016-02"
            ]
           ],
           "hovertemplate": "<b>%{hovertext}</b><br><br>term=%{x}<br>rate=%{y}<extra></extra>",
           "hovertext": [
            "2016-02",
            "2016-02",
            "2016-02",
            "2016-02",
            "2016-02"
           ],
           "legendgroup": "",
           "line": {
            "color": "#636efa",
            "dash": "solid"
           },
           "marker": {
            "symbol": "circle"
           },
           "mode": "lines",
           "name": "",
           "orientation": "v",
           "showlegend": false,
           "type": "scatter",
           "x": [
            5,
            7,
            10,
            20,
            30
           ],
           "xaxis": "x",
           "y": [
            0.0018,
            0.0037,
            0.005699999999999999,
            0.0097,
            0.011899999999999999
           ],
           "yaxis": "y"
          }
         ],
         "name": "2016-02"
        },
        {
         "data": [
          {
           "customdata": [
            [
             "2016-03"
            ],
            [
             "2016-03"
            ],
            [
             "2016-03"
            ],
            [
             "2016-03"
            ],
            [
             "2016-03"
            ]
           ],
           "hovertemplate": "<b>%{hovertext}</b><br><br>term=%{x}<br>rate=%{y}<extra></extra>",
           "hovertext": [
            "2016-03",
            "2016-03",
            "2016-03",
            "2016-03",
            "2016-03"
           ],
           "legendgroup": "",
           "line": {
            "color": "#636efa",
            "dash": "solid"
           },
           "marker": {
            "symbol": "circle"
           },
           "mode": "lines",
           "name": "",
           "orientation": "v",
           "showlegend": false,
           "type": "scatter",
           "x": [
            5,
            7,
            10,
            20,
            30
           ],
           "xaxis": "x",
           "y": [
            0.0002,
            0.0018,
            0.0034999999999999996,
            0.0075,
            0.0104
           ],
           "yaxis": "y"
          }
         ],
         "name": "2016-03"
        },
        {
         "data": [
          {
           "customdata": [
            [
             "2016-04"
            ],
            [
             "2016-04"
            ],
            [
             "2016-04"
            ],
            [
             "2016-04"
            ],
            [
             "2016-04"
            ]
           ],
           "hovertemplate": "<b>%{hovertext}</b><br><br>term=%{x}<br>rate=%{y}<extra></extra>",
           "hovertext": [
            "2016-04",
            "2016-04",
            "2016-04",
            "2016-04",
            "2016-04"
           ],
           "legendgroup": "",
           "line": {
            "color": "#636efa",
            "dash": "solid"
           },
           "marker": {
            "symbol": "circle"
           },
           "mode": "lines",
           "name": "",
           "orientation": "v",
           "showlegend": false,
           "type": "scatter",
           "x": [
            5,
            7,
            10,
            20,
            30
           ],
           "xaxis": "x",
           "y": [
            -0.0025,
            -0.0004,
            0.0017000000000000001,
            0.0058,
            0.0083
           ],
           "yaxis": "y"
          }
         ],
         "name": "2016-04"
        },
        {
         "data": [
          {
           "customdata": [
            [
             "2016-05"
            ],
            [
             "2016-05"
            ],
            [
             "2016-05"
            ],
            [
             "2016-05"
            ],
            [
             "2016-05"
            ]
           ],
           "hovertemplate": "<b>%{hovertext}</b><br><br>term=%{x}<br>rate=%{y}<extra></extra>",
           "hovertext": [
            "2016-05",
            "2016-05",
            "2016-05",
            "2016-05",
            "2016-05"
           ],
           "legendgroup": "",
           "line": {
            "color": "#636efa",
            "dash": "solid"
           },
           "marker": {
            "symbol": "circle"
           },
           "mode": "lines",
           "name": "",
           "orientation": "v",
           "showlegend": false,
           "type": "scatter",
           "x": [
            5,
            7,
            10,
            20,
            30
           ],
           "xaxis": "x",
           "y": [
            -0.0026,
            -0.001,
            0.002,
            0.0063,
            0.0089
           ],
           "yaxis": "y"
          }
         ],
         "name": "2016-05"
        },
        {
         "data": [
          {
           "customdata": [
            [
             "2016-06"
            ],
            [
             "2016-06"
            ],
            [
             "2016-06"
            ],
            [
             "2016-06"
            ],
            [
             "2016-06"
            ]
           ],
           "hovertemplate": "<b>%{hovertext}</b><br><br>term=%{x}<br>rate=%{y}<extra></extra>",
           "hovertext": [
            "2016-06",
            "2016-06",
            "2016-06",
            "2016-06",
            "2016-06"
           ],
           "legendgroup": "",
           "line": {
            "color": "#636efa",
            "dash": "solid"
           },
           "marker": {
            "symbol": "circle"
           },
           "mode": "lines",
           "name": "",
           "orientation": "v",
           "showlegend": false,
           "type": "scatter",
           "x": [
            5,
            7,
            10,
            20,
            30
           ],
           "xaxis": "x",
           "y": [
            -0.0008,
            0.0009,
            0.0031,
            0.0074,
            0.0091
           ],
           "yaxis": "y"
          }
         ],
         "name": "2016-06"
        },
        {
         "data": [
          {
           "customdata": [
            [
             "2016-07"
            ],
            [
             "2016-07"
            ],
            [
             "2016-07"
            ],
            [
             "2016-07"
            ],
            [
             "2016-07"
            ]
           ],
           "hovertemplate": "<b>%{hovertext}</b><br><br>term=%{x}<br>rate=%{y}<extra></extra>",
           "hovertext": [
            "2016-07",
            "2016-07",
            "2016-07",
            "2016-07",
            "2016-07"
           ],
           "legendgroup": "",
           "line": {
            "color": "#636efa",
            "dash": "solid"
           },
           "marker": {
            "symbol": "circle"
           },
           "mode": "lines",
           "name": "",
           "orientation": "v",
           "showlegend": false,
           "type": "scatter",
           "x": [
            5,
            7,
            10,
            20,
            30
           ],
           "xaxis": "x",
           "y": [
            -0.0043,
            -0.0022,
            0.0003,
            0.0043,
            0.0062
           ],
           "yaxis": "y"
          }
         ],
         "name": "2016-07"
        },
        {
         "data": [
          {
           "customdata": [
            [
             "2016-08"
            ],
            [
             "2016-08"
            ],
            [
             "2016-08"
            ],
            [
             "2016-08"
            ],
            [
             "2016-08"
            ]
           ],
           "hovertemplate": "<b>%{hovertext}</b><br><br>term=%{x}<br>rate=%{y}<extra></extra>",
           "hovertext": [
            "2016-08",
            "2016-08",
            "2016-08",
            "2016-08",
            "2016-08"
           ],
           "legendgroup": "",
           "line": {
            "color": "#636efa",
            "dash": "solid"
           },
           "marker": {
            "symbol": "circle"
           },
           "mode": "lines",
           "name": "",
           "orientation": "v",
           "showlegend": false,
           "type": "scatter",
           "x": [
            5,
            7,
            10,
            20,
            30
           ],
           "xaxis": "x",
           "y": [
            -0.0021,
            -0.0011,
            0.0005,
            0.0042,
            0.0063
           ],
           "yaxis": "y"
          }
         ],
         "name": "2016-08"
        },
        {
         "data": [
          {
           "customdata": [
            [
             "2016-09"
            ],
            [
             "2016-09"
            ],
            [
             "2016-09"
            ],
            [
             "2016-09"
            ],
            [
             "2016-09"
            ]
           ],
           "hovertemplate": "<b>%{hovertext}</b><br><br>term=%{x}<br>rate=%{y}<extra></extra>",
           "hovertext": [
            "2016-09",
            "2016-09",
            "2016-09",
            "2016-09",
            "2016-09"
           ],
           "legendgroup": "",
           "line": {
            "color": "#636efa",
            "dash": "solid"
           },
           "marker": {
            "symbol": "circle"
           },
           "mode": "lines",
           "name": "",
           "orientation": "v",
           "showlegend": false,
           "type": "scatter",
           "x": [
            5,
            7,
            10,
            20,
            30
           ],
           "xaxis": "x",
           "y": [
            -0.0006,
            0.0001,
            0.0012,
            0.0039000000000000003,
            0.005699999999999999
           ],
           "yaxis": "y"
          }
         ],
         "name": "2016-09"
        },
        {
         "data": [
          {
           "customdata": [
            [
             "2016-10"
            ],
            [
             "2016-10"
            ],
            [
             "2016-10"
            ],
            [
             "2016-10"
            ],
            [
             "2016-10"
            ]
           ],
           "hovertemplate": "<b>%{hovertext}</b><br><br>term=%{x}<br>rate=%{y}<extra></extra>",
           "hovertext": [
            "2016-10",
            "2016-10",
            "2016-10",
            "2016-10",
            "2016-10"
           ],
           "legendgroup": "",
           "line": {
            "color": "#636efa",
            "dash": "solid"
           },
           "marker": {
            "symbol": "circle"
           },
           "mode": "lines",
           "name": "",
           "orientation": "v",
           "showlegend": false,
           "type": "scatter",
           "x": [
            5,
            7,
            10,
            20,
            30
           ],
           "xaxis": "x",
           "y": [
            -0.0029,
            -0.0016,
            0,
            0.0037,
            0.0058
           ],
           "yaxis": "y"
          }
         ],
         "name": "2016-10"
        },
        {
         "data": [
          {
           "customdata": [
            [
             "2016-11"
            ],
            [
             "2016-11"
            ],
            [
             "2016-11"
            ],
            [
             "2016-11"
            ],
            [
             "2016-11"
            ]
           ],
           "hovertemplate": "<b>%{hovertext}</b><br><br>term=%{x}<br>rate=%{y}<extra></extra>",
           "hovertext": [
            "2016-11",
            "2016-11",
            "2016-11",
            "2016-11",
            "2016-11"
           ],
           "legendgroup": "",
           "line": {
            "color": "#636efa",
            "dash": "solid"
           },
           "marker": {
            "symbol": "circle"
           },
           "mode": "lines",
           "name": "",
           "orientation": "v",
           "showlegend": false,
           "type": "scatter",
           "x": [
            5,
            7,
            10,
            20,
            30
           ],
           "xaxis": "x",
           "y": [
            -0.0029,
            -0.001,
            0.0011,
            0.0051,
            0.0069
           ],
           "yaxis": "y"
          }
         ],
         "name": "2016-11"
        },
        {
         "data": [
          {
           "customdata": [
            [
             "2016-12"
            ],
            [
             "2016-12"
            ],
            [
             "2016-12"
            ],
            [
             "2016-12"
            ],
            [
             "2016-12"
            ]
           ],
           "hovertemplate": "<b>%{hovertext}</b><br><br>term=%{x}<br>rate=%{y}<extra></extra>",
           "hovertext": [
            "2016-12",
            "2016-12",
            "2016-12",
            "2016-12",
            "2016-12"
           ],
           "legendgroup": "",
           "line": {
            "color": "#636efa",
            "dash": "solid"
           },
           "marker": {
            "symbol": "circle"
           },
           "mode": "lines",
           "name": "",
           "orientation": "v",
           "showlegend": false,
           "type": "scatter",
           "x": [
            5,
            7,
            10,
            20,
            30
           ],
           "xaxis": "x",
           "y": [
            0.0009,
            0.0028000000000000004,
            0.0048,
            0.008100000000000001,
            0.0095
           ],
           "yaxis": "y"
          }
         ],
         "name": "2016-12"
        },
        {
         "data": [
          {
           "customdata": [
            [
             "2017-01"
            ],
            [
             "2017-01"
            ],
            [
             "2017-01"
            ],
            [
             "2017-01"
            ],
            [
             "2017-01"
            ]
           ],
           "hovertemplate": "<b>%{hovertext}</b><br><br>term=%{x}<br>rate=%{y}<extra></extra>",
           "hovertext": [
            "2017-01",
            "2017-01",
            "2017-01",
            "2017-01",
            "2017-01"
           ],
           "legendgroup": "",
           "line": {
            "color": "#636efa",
            "dash": "solid"
           },
           "marker": {
            "symbol": "circle"
           },
           "mode": "lines",
           "name": "",
           "orientation": "v",
           "showlegend": false,
           "type": "scatter",
           "x": [
            5,
            7,
            10,
            20,
            30
           ],
           "xaxis": "x",
           "y": [
            0.0008,
            0.003,
            0.004699999999999999,
            0.0078000000000000005,
            0.009399999999999999
           ],
           "yaxis": "y"
          }
         ],
         "name": "2017-01"
        },
        {
         "data": [
          {
           "customdata": [
            [
             "2017-02"
            ],
            [
             "2017-02"
            ],
            [
             "2017-02"
            ],
            [
             "2017-02"
            ],
            [
             "2017-02"
            ]
           ],
           "hovertemplate": "<b>%{hovertext}</b><br><br>term=%{x}<br>rate=%{y}<extra></extra>",
           "hovertext": [
            "2017-02",
            "2017-02",
            "2017-02",
            "2017-02",
            "2017-02"
           ],
           "legendgroup": "",
           "line": {
            "color": "#636efa",
            "dash": "solid"
           },
           "marker": {
            "symbol": "circle"
           },
           "mode": "lines",
           "name": "",
           "orientation": "v",
           "showlegend": false,
           "type": "scatter",
           "x": [
            5,
            7,
            10,
            20,
            30
           ],
           "xaxis": "x",
           "y": [
            0.0001,
            0.0031,
            0.0043,
            0.0077,
            0.0096
           ],
           "yaxis": "y"
          }
         ],
         "name": "2017-02"
        },
        {
         "data": [
          {
           "customdata": [
            [
             "2017-03"
            ],
            [
             "2017-03"
            ],
            [
             "2017-03"
            ],
            [
             "2017-03"
            ],
            [
             "2017-03"
            ]
           ],
           "hovertemplate": "<b>%{hovertext}</b><br><br>term=%{x}<br>rate=%{y}<extra></extra>",
           "hovertext": [
            "2017-03",
            "2017-03",
            "2017-03",
            "2017-03",
            "2017-03"
           ],
           "legendgroup": "",
           "line": {
            "color": "#636efa",
            "dash": "solid"
           },
           "marker": {
            "symbol": "circle"
           },
           "mode": "lines",
           "name": "",
           "orientation": "v",
           "showlegend": false,
           "type": "scatter",
           "x": [
            5,
            7,
            10,
            20,
            30
           ],
           "xaxis": "x",
           "y": [
            0.0015,
            0.0040999999999999995,
            0.0043,
            0.0075,
            0.009399999999999999
           ],
           "yaxis": "y"
          }
         ],
         "name": "2017-03"
        },
        {
         "data": [
          {
           "customdata": [
            [
             "2017-04"
            ],
            [
             "2017-04"
            ],
            [
             "2017-04"
            ],
            [
             "2017-04"
            ],
            [
             "2017-04"
            ]
           ],
           "hovertemplate": "<b>%{hovertext}</b><br><br>term=%{x}<br>rate=%{y}<extra></extra>",
           "hovertext": [
            "2017-04",
            "2017-04",
            "2017-04",
            "2017-04",
            "2017-04"
           ],
           "legendgroup": "",
           "line": {
            "color": "#636efa",
            "dash": "solid"
           },
           "marker": {
            "symbol": "circle"
           },
           "mode": "lines",
           "name": "",
           "orientation": "v",
           "showlegend": false,
           "type": "scatter",
           "x": [
            5,
            7,
            10,
            20,
            30
           ],
           "xaxis": "x",
           "y": [
            0.0015,
            0.0034000000000000002,
            0.0039000000000000003,
            0.0067,
            0.0091
           ],
           "yaxis": "y"
          }
         ],
         "name": "2017-04"
        },
        {
         "data": [
          {
           "customdata": [
            [
             "2017-05"
            ],
            [
             "2017-05"
            ],
            [
             "2017-05"
            ],
            [
             "2017-05"
            ],
            [
             "2017-05"
            ]
           ],
           "hovertemplate": "<b>%{hovertext}</b><br><br>term=%{x}<br>rate=%{y}<extra></extra>",
           "hovertext": [
            "2017-05",
            "2017-05",
            "2017-05",
            "2017-05",
            "2017-05"
           ],
           "legendgroup": "",
           "line": {
            "color": "#636efa",
            "dash": "solid"
           },
           "marker": {
            "symbol": "circle"
           },
           "mode": "lines",
           "name": "",
           "orientation": "v",
           "showlegend": false,
           "type": "scatter",
           "x": [
            5,
            7,
            10,
            20,
            30
           ],
           "xaxis": "x",
           "y": [
            0.0004,
            0.0023,
            0.0040999999999999995,
            0.0076,
            0.0096
           ],
           "yaxis": "y"
          }
         ],
         "name": "2017-05"
        },
        {
         "data": [
          {
           "customdata": [
            [
             "2017-06"
            ],
            [
             "2017-06"
            ],
            [
             "2017-06"
            ],
            [
             "2017-06"
            ],
            [
             "2017-06"
            ]
           ],
           "hovertemplate": "<b>%{hovertext}</b><br><br>term=%{x}<br>rate=%{y}<extra></extra>",
           "hovertext": [
            "2017-06",
            "2017-06",
            "2017-06",
            "2017-06",
            "2017-06"
           ],
           "legendgroup": "",
           "line": {
            "color": "#636efa",
            "dash": "solid"
           },
           "marker": {
            "symbol": "circle"
           },
           "mode": "lines",
           "name": "",
           "orientation": "v",
           "showlegend": false,
           "type": "scatter",
           "x": [
            5,
            7,
            10,
            20,
            30
           ],
           "xaxis": "x",
           "y": [
            0.0003,
            0.0023,
            0.004,
            0.0073,
            0.0092
           ],
           "yaxis": "y"
          }
         ],
         "name": "2017-06"
        },
        {
         "data": [
          {
           "customdata": [
            [
             "2017-07"
            ],
            [
             "2017-07"
            ],
            [
             "2017-07"
            ],
            [
             "2017-07"
            ],
            [
             "2017-07"
            ]
           ],
           "hovertemplate": "<b>%{hovertext}</b><br><br>term=%{x}<br>rate=%{y}<extra></extra>",
           "hovertext": [
            "2017-07",
            "2017-07",
            "2017-07",
            "2017-07",
            "2017-07"
           ],
           "legendgroup": "",
           "line": {
            "color": "#636efa",
            "dash": "solid"
           },
           "marker": {
            "symbol": "circle"
           },
           "mode": "lines",
           "name": "",
           "orientation": "v",
           "showlegend": false,
           "type": "scatter",
           "x": [
            5,
            7,
            10,
            20,
            30
           ],
           "xaxis": "x",
           "y": [
            0.0027,
            0.004699999999999999,
            0.006,
            0.0086,
            0.01
           ],
           "yaxis": "y"
          }
         ],
         "name": "2017-07"
        },
        {
         "data": [
          {
           "customdata": [
            [
             "2017-08"
            ],
            [
             "2017-08"
            ],
            [
             "2017-08"
            ],
            [
             "2017-08"
            ],
            [
             "2017-08"
            ]
           ],
           "hovertemplate": "<b>%{hovertext}</b><br><br>term=%{x}<br>rate=%{y}<extra></extra>",
           "hovertext": [
            "2017-08",
            "2017-08",
            "2017-08",
            "2017-08",
            "2017-08"
           ],
           "legendgroup": "",
           "line": {
            "color": "#636efa",
            "dash": "solid"
           },
           "marker": {
            "symbol": "circle"
           },
           "mode": "lines",
           "name": "",
           "orientation": "v",
           "showlegend": false,
           "type": "scatter",
           "x": [
            5,
            7,
            10,
            20,
            30
           ],
           "xaxis": "x",
           "y": [
            0.0018,
            0.0038,
            0.004699999999999999,
            0.0078000000000000005,
            0.0098
           ],
           "yaxis": "y"
          }
         ],
         "name": "2017-08"
        },
        {
         "data": [
          {
           "customdata": [
            [
             "2017-09"
            ],
            [
             "2017-09"
            ],
            [
             "2017-09"
            ],
            [
             "2017-09"
            ],
            [
             "2017-09"
            ]
           ],
           "hovertemplate": "<b>%{hovertext}</b><br><br>term=%{x}<br>rate=%{y}<extra></extra>",
           "hovertext": [
            "2017-09",
            "2017-09",
            "2017-09",
            "2017-09",
            "2017-09"
           ],
           "legendgroup": "",
           "line": {
            "color": "#636efa",
            "dash": "solid"
           },
           "marker": {
            "symbol": "circle"
           },
           "mode": "lines",
           "name": "",
           "orientation": "v",
           "showlegend": false,
           "type": "scatter",
           "x": [
            5,
            7,
            10,
            20,
            30
           ],
           "xaxis": "x",
           "y": [
            0.001,
            0.0024,
            0.0037,
            0.0069,
            0.009000000000000001
           ],
           "yaxis": "y"
          }
         ],
         "name": "2017-09"
        },
        {
         "data": [
          {
           "customdata": [
            [
             "2017-10"
            ],
            [
             "2017-10"
            ],
            [
             "2017-10"
            ],
            [
             "2017-10"
            ],
            [
             "2017-10"
            ]
           ],
           "hovertemplate": "<b>%{hovertext}</b><br><br>term=%{x}<br>rate=%{y}<extra></extra>",
           "hovertext": [
            "2017-10",
            "2017-10",
            "2017-10",
            "2017-10",
            "2017-10"
           ],
           "legendgroup": "",
           "line": {
            "color": "#636efa",
            "dash": "solid"
           },
           "marker": {
            "symbol": "circle"
           },
           "mode": "lines",
           "name": "",
           "orientation": "v",
           "showlegend": false,
           "type": "scatter",
           "x": [
            5,
            7,
            10,
            20,
            30
           ],
           "xaxis": "x",
           "y": [
            0.0021,
            0.0039000000000000003,
            0.0051,
            0.0079,
            0.0095
           ],
           "yaxis": "y"
          }
         ],
         "name": "2017-10"
        },
        {
         "data": [
          {
           "customdata": [
            [
             "2017-11"
            ],
            [
             "2017-11"
            ],
            [
             "2017-11"
            ],
            [
             "2017-11"
            ],
            [
             "2017-11"
            ]
           ],
           "hovertemplate": "<b>%{hovertext}</b><br><br>term=%{x}<br>rate=%{y}<extra></extra>",
           "hovertext": [
            "2017-11",
            "2017-11",
            "2017-11",
            "2017-11",
            "2017-11"
           ],
           "legendgroup": "",
           "line": {
            "color": "#636efa",
            "dash": "solid"
           },
           "marker": {
            "symbol": "circle"
           },
           "mode": "lines",
           "name": "",
           "orientation": "v",
           "showlegend": false,
           "type": "scatter",
           "x": [
            5,
            7,
            10,
            20,
            30
           ],
           "xaxis": "x",
           "y": [
            0.003,
            0.0046,
            0.0049,
            0.0072,
            0.0091
           ],
           "yaxis": "y"
          }
         ],
         "name": "2017-11"
        },
        {
         "data": [
          {
           "customdata": [
            [
             "2017-12"
            ],
            [
             "2017-12"
            ],
            [
             "2017-12"
            ],
            [
             "2017-12"
            ],
            [
             "2017-12"
            ]
           ],
           "hovertemplate": "<b>%{hovertext}</b><br><br>term=%{x}<br>rate=%{y}<extra></extra>",
           "hovertext": [
            "2017-12",
            "2017-12",
            "2017-12",
            "2017-12",
            "2017-12"
           ],
           "legendgroup": "",
           "line": {
            "color": "#636efa",
            "dash": "solid"
           },
           "marker": {
            "symbol": "circle"
           },
           "mode": "lines",
           "name": "",
           "orientation": "v",
           "showlegend": false,
           "type": "scatter",
           "x": [
            5,
            7,
            10,
            20,
            30
           ],
           "xaxis": "x",
           "y": [
            0.0040999999999999995,
            0.005,
            0.0051,
            0.0069,
            0.008100000000000001
           ],
           "yaxis": "y"
          }
         ],
         "name": "2017-12"
        },
        {
         "data": [
          {
           "customdata": [
            [
             "2018-01"
            ],
            [
             "2018-01"
            ],
            [
             "2018-01"
            ],
            [
             "2018-01"
            ],
            [
             "2018-01"
            ]
           ],
           "hovertemplate": "<b>%{hovertext}</b><br><br>term=%{x}<br>rate=%{y}<extra></extra>",
           "hovertext": [
            "2018-01",
            "2018-01",
            "2018-01",
            "2018-01",
            "2018-01"
           ],
           "legendgroup": "",
           "line": {
            "color": "#636efa",
            "dash": "solid"
           },
           "marker": {
            "symbol": "circle"
           },
           "mode": "lines",
           "name": "",
           "orientation": "v",
           "showlegend": false,
           "type": "scatter",
           "x": [
            5,
            7,
            10,
            20,
            30
           ],
           "xaxis": "x",
           "y": [
            0.0034999999999999996,
            0.0042,
            0.0046,
            0.0064,
            0.0077
           ],
           "yaxis": "y"
          }
         ],
         "name": "2018-01"
        },
        {
         "data": [
          {
           "customdata": [
            [
             "2018-02"
            ],
            [
             "2018-02"
            ],
            [
             "2018-02"
            ],
            [
             "2018-02"
            ],
            [
             "2018-02"
            ]
           ],
           "hovertemplate": "<b>%{hovertext}</b><br><br>term=%{x}<br>rate=%{y}<extra></extra>",
           "hovertext": [
            "2018-02",
            "2018-02",
            "2018-02",
            "2018-02",
            "2018-02"
           ],
           "legendgroup": "",
           "line": {
            "color": "#636efa",
            "dash": "solid"
           },
           "marker": {
            "symbol": "circle"
           },
           "mode": "lines",
           "name": "",
           "orientation": "v",
           "showlegend": false,
           "type": "scatter",
           "x": [
            5,
            7,
            10,
            20,
            30
           ],
           "xaxis": "x",
           "y": [
            0.0063,
            0.0067,
            0.0067,
            0.0078000000000000005,
            0.0086
           ],
           "yaxis": "y"
          }
         ],
         "name": "2018-02"
        },
        {
         "data": [
          {
           "customdata": [
            [
             "2018-03"
            ],
            [
             "2018-03"
            ],
            [
             "2018-03"
            ],
            [
             "2018-03"
            ],
            [
             "2018-03"
            ]
           ],
           "hovertemplate": "<b>%{hovertext}</b><br><br>term=%{x}<br>rate=%{y}<extra></extra>",
           "hovertext": [
            "2018-03",
            "2018-03",
            "2018-03",
            "2018-03",
            "2018-03"
           ],
           "legendgroup": "",
           "line": {
            "color": "#636efa",
            "dash": "solid"
           },
           "marker": {
            "symbol": "circle"
           },
           "mode": "lines",
           "name": "",
           "orientation": "v",
           "showlegend": false,
           "type": "scatter",
           "x": [
            5,
            7,
            10,
            20,
            30
           ],
           "xaxis": "x",
           "y": [
            0.0055000000000000005,
            0.0066,
            0.0070999999999999995,
            0.0086,
            0.0096
           ],
           "yaxis": "y"
          }
         ],
         "name": "2018-03"
        },
        {
         "data": [
          {
           "customdata": [
            [
             "2018-04"
            ],
            [
             "2018-04"
            ],
            [
             "2018-04"
            ],
            [
             "2018-04"
            ],
            [
             "2018-04"
            ]
           ],
           "hovertemplate": "<b>%{hovertext}</b><br><br>term=%{x}<br>rate=%{y}<extra></extra>",
           "hovertext": [
            "2018-04",
            "2018-04",
            "2018-04",
            "2018-04",
            "2018-04"
           ],
           "legendgroup": "",
           "line": {
            "color": "#636efa",
            "dash": "solid"
           },
           "marker": {
            "symbol": "circle"
           },
           "mode": "lines",
           "name": "",
           "orientation": "v",
           "showlegend": false,
           "type": "scatter",
           "x": [
            5,
            7,
            10,
            20,
            30
           ],
           "xaxis": "x",
           "y": [
            0.005600000000000001,
            0.0064,
            0.0068000000000000005,
            0.008100000000000001,
            0.009000000000000001
           ],
           "yaxis": "y"
          }
         ],
         "name": "2018-04"
        },
        {
         "data": [
          {
           "customdata": [
            [
             "2018-05"
            ],
            [
             "2018-05"
            ],
            [
             "2018-05"
            ],
            [
             "2018-05"
            ],
            [
             "2018-05"
            ]
           ],
           "hovertemplate": "<b>%{hovertext}</b><br><br>term=%{x}<br>rate=%{y}<extra></extra>",
           "hovertext": [
            "2018-05",
            "2018-05",
            "2018-05",
            "2018-05",
            "2018-05"
           ],
           "legendgroup": "",
           "line": {
            "color": "#636efa",
            "dash": "solid"
           },
           "marker": {
            "symbol": "circle"
           },
           "mode": "lines",
           "name": "",
           "orientation": "v",
           "showlegend": false,
           "type": "scatter",
           "x": [
            5,
            7,
            10,
            20,
            30
           ],
           "xaxis": "x",
           "y": [
            0.0073,
            0.008,
            0.008100000000000001,
            0.0089,
            0.009399999999999999
           ],
           "yaxis": "y"
          }
         ],
         "name": "2018-05"
        },
        {
         "data": [
          {
           "customdata": [
            [
             "2018-06"
            ],
            [
             "2018-06"
            ],
            [
             "2018-06"
            ],
            [
             "2018-06"
            ],
            [
             "2018-06"
            ]
           ],
           "hovertemplate": "<b>%{hovertext}</b><br><br>term=%{x}<br>rate=%{y}<extra></extra>",
           "hovertext": [
            "2018-06",
            "2018-06",
            "2018-06",
            "2018-06",
            "2018-06"
           ],
           "legendgroup": "",
           "line": {
            "color": "#636efa",
            "dash": "solid"
           },
           "marker": {
            "symbol": "circle"
           },
           "mode": "lines",
           "name": "",
           "orientation": "v",
           "showlegend": false,
           "type": "scatter",
           "x": [
            5,
            7,
            10,
            20,
            30
           ],
           "xaxis": "x",
           "y": [
            0.0068000000000000005,
            0.0076,
            0.008,
            0.0089,
            0.009399999999999999
           ],
           "yaxis": "y"
          }
         ],
         "name": "2018-06"
        },
        {
         "data": [
          {
           "customdata": [
            [
             "2018-07"
            ],
            [
             "2018-07"
            ],
            [
             "2018-07"
            ],
            [
             "2018-07"
            ],
            [
             "2018-07"
            ]
           ],
           "hovertemplate": "<b>%{hovertext}</b><br><br>term=%{x}<br>rate=%{y}<extra></extra>",
           "hovertext": [
            "2018-07",
            "2018-07",
            "2018-07",
            "2018-07",
            "2018-07"
           ],
           "legendgroup": "",
           "line": {
            "color": "#636efa",
            "dash": "solid"
           },
           "marker": {
            "symbol": "circle"
           },
           "mode": "lines",
           "name": "",
           "orientation": "v",
           "showlegend": false,
           "type": "scatter",
           "x": [
            5,
            7,
            10,
            20,
            30
           ],
           "xaxis": "x",
           "y": [
            0.0068000000000000005,
            0.0072,
            0.0073,
            0.008,
            0.0085
           ],
           "yaxis": "y"
          }
         ],
         "name": "2018-07"
        },
        {
         "data": [
          {
           "customdata": [
            [
             "2018-08"
            ],
            [
             "2018-08"
            ],
            [
             "2018-08"
            ],
            [
             "2018-08"
            ],
            [
             "2018-08"
            ]
           ],
           "hovertemplate": "<b>%{hovertext}</b><br><br>term=%{x}<br>rate=%{y}<extra></extra>",
           "hovertext": [
            "2018-08",
            "2018-08",
            "2018-08",
            "2018-08",
            "2018-08"
           ],
           "legendgroup": "",
           "line": {
            "color": "#636efa",
            "dash": "solid"
           },
           "marker": {
            "symbol": "circle"
           },
           "mode": "lines",
           "name": "",
           "orientation": "v",
           "showlegend": false,
           "type": "scatter",
           "x": [
            5,
            7,
            10,
            20,
            30
           ],
           "xaxis": "x",
           "y": [
            0.0087,
            0.0087,
            0.0087,
            0.009300000000000001,
            0.0097
           ],
           "yaxis": "y"
          }
         ],
         "name": "2018-08"
        },
        {
         "data": [
          {
           "customdata": [
            [
             "2018-09"
            ],
            [
             "2018-09"
            ],
            [
             "2018-09"
            ],
            [
             "2018-09"
            ],
            [
             "2018-09"
            ]
           ],
           "hovertemplate": "<b>%{hovertext}</b><br><br>term=%{x}<br>rate=%{y}<extra></extra>",
           "hovertext": [
            "2018-09",
            "2018-09",
            "2018-09",
            "2018-09",
            "2018-09"
           ],
           "legendgroup": "",
           "line": {
            "color": "#636efa",
            "dash": "solid"
           },
           "marker": {
            "symbol": "circle"
           },
           "mode": "lines",
           "name": "",
           "orientation": "v",
           "showlegend": false,
           "type": "scatter",
           "x": [
            5,
            7,
            10,
            20,
            30
           ],
           "xaxis": "x",
           "y": [
            0.0079,
            0.0079,
            0.008,
            0.0088,
            0.009399999999999999
           ],
           "yaxis": "y"
          }
         ],
         "name": "2018-09"
        },
        {
         "data": [
          {
           "customdata": [
            [
             "2018-10"
            ],
            [
             "2018-10"
            ],
            [
             "2018-10"
            ],
            [
             "2018-10"
            ],
            [
             "2018-10"
            ]
           ],
           "hovertemplate": "<b>%{hovertext}</b><br><br>term=%{x}<br>rate=%{y}<extra></extra>",
           "hovertext": [
            "2018-10",
            "2018-10",
            "2018-10",
            "2018-10",
            "2018-10"
           ],
           "legendgroup": "",
           "line": {
            "color": "#636efa",
            "dash": "solid"
           },
           "marker": {
            "symbol": "circle"
           },
           "mode": "lines",
           "name": "",
           "orientation": "v",
           "showlegend": false,
           "type": "scatter",
           "x": [
            5,
            7,
            10,
            20,
            30
           ],
           "xaxis": "x",
           "y": [
            0.0092,
            0.009300000000000001,
            0.0095,
            0.0103,
            0.0109
           ],
           "yaxis": "y"
          }
         ],
         "name": "2018-10"
        },
        {
         "data": [
          {
           "customdata": [
            [
             "2018-11"
            ],
            [
             "2018-11"
            ],
            [
             "2018-11"
            ],
            [
             "2018-11"
            ],
            [
             "2018-11"
            ]
           ],
           "hovertemplate": "<b>%{hovertext}</b><br><br>term=%{x}<br>rate=%{y}<extra></extra>",
           "hovertext": [
            "2018-11",
            "2018-11",
            "2018-11",
            "2018-11",
            "2018-11"
           ],
           "legendgroup": "",
           "line": {
            "color": "#636efa",
            "dash": "solid"
           },
           "marker": {
            "symbol": "circle"
           },
           "mode": "lines",
           "name": "",
           "orientation": "v",
           "showlegend": false,
           "type": "scatter",
           "x": [
            5,
            7,
            10,
            20,
            30
           ],
           "xaxis": "x",
           "y": [
            0.0108,
            0.011000000000000001,
            0.011200000000000002,
            0.0123,
            0.0132
           ],
           "yaxis": "y"
          }
         ],
         "name": "2018-11"
        },
        {
         "data": [
          {
           "customdata": [
            [
             "2018-12"
            ],
            [
             "2018-12"
            ],
            [
             "2018-12"
            ],
            [
             "2018-12"
            ],
            [
             "2018-12"
            ]
           ],
           "hovertemplate": "<b>%{hovertext}</b><br><br>term=%{x}<br>rate=%{y}<extra></extra>",
           "hovertext": [
            "2018-12",
            "2018-12",
            "2018-12",
            "2018-12",
            "2018-12"
           ],
           "legendgroup": "",
           "line": {
            "color": "#636efa",
            "dash": "solid"
           },
           "marker": {
            "symbol": "circle"
           },
           "mode": "lines",
           "name": "",
           "orientation": "v",
           "showlegend": false,
           "type": "scatter",
           "x": [
            5,
            7,
            10,
            20,
            30
           ],
           "xaxis": "x",
           "y": [
            0.010700000000000001,
            0.0104,
            0.0102,
            0.0113,
            0.0123
           ],
           "yaxis": "y"
          }
         ],
         "name": "2018-12"
        },
        {
         "data": [
          {
           "customdata": [
            [
             "2019-01"
            ],
            [
             "2019-01"
            ],
            [
             "2019-01"
            ],
            [
             "2019-01"
            ],
            [
             "2019-01"
            ]
           ],
           "hovertemplate": "<b>%{hovertext}</b><br><br>term=%{x}<br>rate=%{y}<extra></extra>",
           "hovertext": [
            "2019-01",
            "2019-01",
            "2019-01",
            "2019-01",
            "2019-01"
           ],
           "legendgroup": "",
           "line": {
            "color": "#636efa",
            "dash": "solid"
           },
           "marker": {
            "symbol": "circle"
           },
           "mode": "lines",
           "name": "",
           "orientation": "v",
           "showlegend": false,
           "type": "scatter",
           "x": [
            5,
            7,
            10,
            20,
            30
           ],
           "xaxis": "x",
           "y": [
            0.01,
            0.0098,
            0.0096,
            0.010700000000000001,
            0.011899999999999999
           ],
           "yaxis": "y"
          }
         ],
         "name": "2019-01"
        },
        {
         "data": [
          {
           "customdata": [
            [
             "2019-02"
            ],
            [
             "2019-02"
            ],
            [
             "2019-02"
            ],
            [
             "2019-02"
            ],
            [
             "2019-02"
            ]
           ],
           "hovertemplate": "<b>%{hovertext}</b><br><br>term=%{x}<br>rate=%{y}<extra></extra>",
           "hovertext": [
            "2019-02",
            "2019-02",
            "2019-02",
            "2019-02",
            "2019-02"
           ],
           "legendgroup": "",
           "line": {
            "color": "#636efa",
            "dash": "solid"
           },
           "marker": {
            "symbol": "circle"
           },
           "mode": "lines",
           "name": "",
           "orientation": "v",
           "showlegend": false,
           "type": "scatter",
           "x": [
            5,
            7,
            10,
            20,
            30
           ],
           "xaxis": "x",
           "y": [
            0.0079,
            0.008,
            0.008199999999999999,
            0.0098,
            0.0111
           ],
           "yaxis": "y"
          }
         ],
         "name": "2019-02"
        },
        {
         "data": [
          {
           "customdata": [
            [
             "2019-03"
            ],
            [
             "2019-03"
            ],
            [
             "2019-03"
            ],
            [
             "2019-03"
            ],
            [
             "2019-03"
            ]
           ],
           "hovertemplate": "<b>%{hovertext}</b><br><br>term=%{x}<br>rate=%{y}<extra></extra>",
           "hovertext": [
            "2019-03",
            "2019-03",
            "2019-03",
            "2019-03",
            "2019-03"
           ],
           "legendgroup": "",
           "line": {
            "color": "#636efa",
            "dash": "solid"
           },
           "marker": {
            "symbol": "circle"
           },
           "mode": "lines",
           "name": "",
           "orientation": "v",
           "showlegend": false,
           "type": "scatter",
           "x": [
            5,
            7,
            10,
            20,
            30
           ],
           "xaxis": "x",
           "y": [
            0.0070999999999999995,
            0.0075,
            0.008,
            0.0098,
            0.0113
           ],
           "yaxis": "y"
          }
         ],
         "name": "2019-03"
        },
        {
         "data": [
          {
           "customdata": [
            [
             "2019-04"
            ],
            [
             "2019-04"
            ],
            [
             "2019-04"
            ],
            [
             "2019-04"
            ],
            [
             "2019-04"
            ]
           ],
           "hovertemplate": "<b>%{hovertext}</b><br><br>term=%{x}<br>rate=%{y}<extra></extra>",
           "hovertext": [
            "2019-04",
            "2019-04",
            "2019-04",
            "2019-04",
            "2019-04"
           ],
           "legendgroup": "",
           "line": {
            "color": "#636efa",
            "dash": "solid"
           },
           "marker": {
            "symbol": "circle"
           },
           "mode": "lines",
           "name": "",
           "orientation": "v",
           "showlegend": false,
           "type": "scatter",
           "x": [
            5,
            7,
            10,
            20,
            30
           ],
           "xaxis": "x",
           "y": [
            0.0049,
            0.0053,
            0.0059,
            0.0078000000000000005,
            0.0095
           ],
           "yaxis": "y"
          }
         ],
         "name": "2019-04"
        },
        {
         "data": [
          {
           "customdata": [
            [
             "2019-05"
            ],
            [
             "2019-05"
            ],
            [
             "2019-05"
            ],
            [
             "2019-05"
            ],
            [
             "2019-05"
            ]
           ],
           "hovertemplate": "<b>%{hovertext}</b><br><br>term=%{x}<br>rate=%{y}<extra></extra>",
           "hovertext": [
            "2019-05",
            "2019-05",
            "2019-05",
            "2019-05",
            "2019-05"
           ],
           "legendgroup": "",
           "line": {
            "color": "#636efa",
            "dash": "solid"
           },
           "marker": {
            "symbol": "circle"
           },
           "mode": "lines",
           "name": "",
           "orientation": "v",
           "showlegend": false,
           "type": "scatter",
           "x": [
            5,
            7,
            10,
            20,
            30
           ],
           "xaxis": "x",
           "y": [
            0.0048,
            0.0053,
            0.0059,
            0.0079,
            0.0095
           ],
           "yaxis": "y"
          }
         ],
         "name": "2019-05"
        },
        {
         "data": [
          {
           "customdata": [
            [
             "2019-06"
            ],
            [
             "2019-06"
            ],
            [
             "2019-06"
            ],
            [
             "2019-06"
            ],
            [
             "2019-06"
            ]
           ],
           "hovertemplate": "<b>%{hovertext}</b><br><br>term=%{x}<br>rate=%{y}<extra></extra>",
           "hovertext": [
            "2019-06",
            "2019-06",
            "2019-06",
            "2019-06",
            "2019-06"
           ],
           "legendgroup": "",
           "line": {
            "color": "#636efa",
            "dash": "solid"
           },
           "marker": {
            "symbol": "circle"
           },
           "mode": "lines",
           "name": "",
           "orientation": "v",
           "showlegend": false,
           "type": "scatter",
           "x": [
            5,
            7,
            10,
            20,
            30
           ],
           "xaxis": "x",
           "y": [
            0.0027,
            0.0029,
            0.0034000000000000002,
            0.0054,
            0.0072
           ],
           "yaxis": "y"
          }
         ],
         "name": "2019-06"
        },
        {
         "data": [
          {
           "customdata": [
            [
             "2019-07"
            ],
            [
             "2019-07"
            ],
            [
             "2019-07"
            ],
            [
             "2019-07"
            ],
            [
             "2019-07"
            ]
           ],
           "hovertemplate": "<b>%{hovertext}</b><br><br>term=%{x}<br>rate=%{y}<extra></extra>",
           "hovertext": [
            "2019-07",
            "2019-07",
            "2019-07",
            "2019-07",
            "2019-07"
           ],
           "legendgroup": "",
           "line": {
            "color": "#636efa",
            "dash": "solid"
           },
           "marker": {
            "symbol": "circle"
           },
           "mode": "lines",
           "name": "",
           "orientation": "v",
           "showlegend": false,
           "type": "scatter",
           "x": [
            5,
            7,
            10,
            20,
            30
           ],
           "xaxis": "x",
           "y": [
            0.0026,
            0.0029,
            0.0034000000000000002,
            0.0059,
            0.008100000000000001
           ],
           "yaxis": "y"
          }
         ],
         "name": "2019-07"
        },
        {
         "data": [
          {
           "customdata": [
            [
             "2019-08"
            ],
            [
             "2019-08"
            ],
            [
             "2019-08"
            ],
            [
             "2019-08"
            ],
            [
             "2019-08"
            ]
           ],
           "hovertemplate": "<b>%{hovertext}</b><br><br>term=%{x}<br>rate=%{y}<extra></extra>",
           "hovertext": [
            "2019-08",
            "2019-08",
            "2019-08",
            "2019-08",
            "2019-08"
           ],
           "legendgroup": "",
           "line": {
            "color": "#636efa",
            "dash": "solid"
           },
           "marker": {
            "symbol": "circle"
           },
           "mode": "lines",
           "name": "",
           "orientation": "v",
           "showlegend": false,
           "type": "scatter",
           "x": [
            5,
            7,
            10,
            20,
            30
           ],
           "xaxis": "x",
           "y": [
            0.0021,
            0.002,
            0.002,
            0.0044,
            0.0070999999999999995
           ],
           "yaxis": "y"
          }
         ],
         "name": "2019-08"
        },
        {
         "data": [
          {
           "customdata": [
            [
             "2019-09"
            ],
            [
             "2019-09"
            ],
            [
             "2019-09"
            ],
            [
             "2019-09"
            ],
            [
             "2019-09"
            ]
           ],
           "hovertemplate": "<b>%{hovertext}</b><br><br>term=%{x}<br>rate=%{y}<extra></extra>",
           "hovertext": [
            "2019-09",
            "2019-09",
            "2019-09",
            "2019-09",
            "2019-09"
           ],
           "legendgroup": "",
           "line": {
            "color": "#636efa",
            "dash": "solid"
           },
           "marker": {
            "symbol": "circle"
           },
           "mode": "lines",
           "name": "",
           "orientation": "v",
           "showlegend": false,
           "type": "scatter",
           "x": [
            5,
            7,
            10,
            20,
            30
           ],
           "xaxis": "x",
           "y": [
            0.0006,
            0.0001,
            -0.0003,
            0.0014000000000000002,
            0.0037
           ],
           "yaxis": "y"
          }
         ],
         "name": "2019-09"
        },
        {
         "data": [
          {
           "customdata": [
            [
             "2019-10"
            ],
            [
             "2019-10"
            ],
            [
             "2019-10"
            ],
            [
             "2019-10"
            ],
            [
             "2019-10"
            ]
           ],
           "hovertemplate": "<b>%{hovertext}</b><br><br>term=%{x}<br>rate=%{y}<extra></extra>",
           "hovertext": [
            "2019-10",
            "2019-10",
            "2019-10",
            "2019-10",
            "2019-10"
           ],
           "legendgroup": "",
           "line": {
            "color": "#636efa",
            "dash": "solid"
           },
           "marker": {
            "symbol": "circle"
           },
           "mode": "lines",
           "name": "",
           "orientation": "v",
           "showlegend": false,
           "type": "scatter",
           "x": [
            5,
            7,
            10,
            20,
            30
           ],
           "xaxis": "x",
           "y": [
            0.0018,
            0.0014000000000000002,
            0.0013,
            0.0033,
            0.0052
           ],
           "yaxis": "y"
          }
         ],
         "name": "2019-10"
        },
        {
         "data": [
          {
           "customdata": [
            [
             "2019-11"
            ],
            [
             "2019-11"
            ],
            [
             "2019-11"
            ],
            [
             "2019-11"
            ],
            [
             "2019-11"
            ]
           ],
           "hovertemplate": "<b>%{hovertext}</b><br><br>term=%{x}<br>rate=%{y}<extra></extra>",
           "hovertext": [
            "2019-11",
            "2019-11",
            "2019-11",
            "2019-11",
            "2019-11"
           ],
           "legendgroup": "",
           "line": {
            "color": "#636efa",
            "dash": "solid"
           },
           "marker": {
            "symbol": "circle"
           },
           "mode": "lines",
           "name": "",
           "orientation": "v",
           "showlegend": false,
           "type": "scatter",
           "x": [
            5,
            7,
            10,
            20,
            30
           ],
           "xaxis": "x",
           "y": [
            0.0005,
            0.0008,
            0.0014000000000000002,
            0.0034999999999999996,
            0.0054
           ],
           "yaxis": "y"
          }
         ],
         "name": "2019-11"
        },
        {
         "data": [
          {
           "customdata": [
            [
             "2019-12"
            ],
            [
             "2019-12"
            ],
            [
             "2019-12"
            ],
            [
             "2019-12"
            ],
            [
             "2019-12"
            ]
           ],
           "hovertemplate": "<b>%{hovertext}</b><br><br>term=%{x}<br>rate=%{y}<extra></extra>",
           "hovertext": [
            "2019-12",
            "2019-12",
            "2019-12",
            "2019-12",
            "2019-12"
           ],
           "legendgroup": "",
           "line": {
            "color": "#636efa",
            "dash": "solid"
           },
           "marker": {
            "symbol": "circle"
           },
           "mode": "lines",
           "name": "",
           "orientation": "v",
           "showlegend": false,
           "type": "scatter",
           "x": [
            5,
            7,
            10,
            20,
            30
           ],
           "xaxis": "x",
           "y": [
            0.0011,
            0.0014000000000000002,
            0.0018,
            0.0038,
            0.0054
           ],
           "yaxis": "y"
          }
         ],
         "name": "2019-12"
        },
        {
         "data": [
          {
           "customdata": [
            [
             "2020-01"
            ],
            [
             "2020-01"
            ],
            [
             "2020-01"
            ],
            [
             "2020-01"
            ],
            [
             "2020-01"
            ]
           ],
           "hovertemplate": "<b>%{hovertext}</b><br><br>term=%{x}<br>rate=%{y}<extra></extra>",
           "hovertext": [
            "2020-01",
            "2020-01",
            "2020-01",
            "2020-01",
            "2020-01"
           ],
           "legendgroup": "",
           "line": {
            "color": "#636efa",
            "dash": "solid"
           },
           "marker": {
            "symbol": "circle"
           },
           "mode": "lines",
           "name": "",
           "orientation": "v",
           "showlegend": false,
           "type": "scatter",
           "x": [
            5,
            7,
            10,
            20,
            30
           ],
           "xaxis": "x",
           "y": [
            -0.0005,
            0.0001,
            0.0008,
            0.0032,
            0.005
           ],
           "yaxis": "y"
          }
         ],
         "name": "2020-01"
        },
        {
         "data": [
          {
           "customdata": [
            [
             "2020-02"
            ],
            [
             "2020-02"
            ],
            [
             "2020-02"
            ],
            [
             "2020-02"
            ],
            [
             "2020-02"
            ]
           ],
           "hovertemplate": "<b>%{hovertext}</b><br><br>term=%{x}<br>rate=%{y}<extra></extra>",
           "hovertext": [
            "2020-02",
            "2020-02",
            "2020-02",
            "2020-02",
            "2020-02"
           ],
           "legendgroup": "",
           "line": {
            "color": "#636efa",
            "dash": "solid"
           },
           "marker": {
            "symbol": "circle"
           },
           "mode": "lines",
           "name": "",
           "orientation": "v",
           "showlegend": false,
           "type": "scatter",
           "x": [
            5,
            7,
            10,
            20,
            30
           ],
           "xaxis": "x",
           "y": [
            -0.0021,
            -0.0016,
            -0.0009,
            0.0013,
            0.003
           ],
           "yaxis": "y"
          }
         ],
         "name": "2020-02"
        },
        {
         "data": [
          {
           "customdata": [
            [
             "2020-03"
            ],
            [
             "2020-03"
            ],
            [
             "2020-03"
            ],
            [
             "2020-03"
            ],
            [
             "2020-03"
            ]
           ],
           "hovertemplate": "<b>%{hovertext}</b><br><br>term=%{x}<br>rate=%{y}<extra></extra>",
           "hovertext": [
            "2020-03",
            "2020-03",
            "2020-03",
            "2020-03",
            "2020-03"
           ],
           "legendgroup": "",
           "line": {
            "color": "#636efa",
            "dash": "solid"
           },
           "marker": {
            "symbol": "circle"
           },
           "mode": "lines",
           "name": "",
           "orientation": "v",
           "showlegend": false,
           "type": "scatter",
           "x": [
            5,
            7,
            10,
            20,
            30
           ],
           "xaxis": "x",
           "y": [
            -0.0044,
            -0.0039000000000000003,
            -0.0031,
            -0.0009,
            0.0011
           ],
           "yaxis": "y"
          }
         ],
         "name": "2020-03"
        },
        {
         "data": [
          {
           "customdata": [
            [
             "2020-04"
            ],
            [
             "2020-04"
            ],
            [
             "2020-04"
            ],
            [
             "2020-04"
            ],
            [
             "2020-04"
            ]
           ],
           "hovertemplate": "<b>%{hovertext}</b><br><br>term=%{x}<br>rate=%{y}<extra></extra>",
           "hovertext": [
            "2020-04",
            "2020-04",
            "2020-04",
            "2020-04",
            "2020-04"
           ],
           "legendgroup": "",
           "line": {
            "color": "#636efa",
            "dash": "solid"
           },
           "marker": {
            "symbol": "circle"
           },
           "mode": "lines",
           "name": "",
           "orientation": "v",
           "showlegend": false,
           "type": "scatter",
           "x": [
            5,
            7,
            10,
            20,
            30
           ],
           "xaxis": "x",
           "y": [
            -0.0019,
            -0.0027,
            -0.0029,
            -0.001,
            0.0007000000000000001
           ],
           "yaxis": "y"
          }
         ],
         "name": "2020-04"
        },
        {
         "data": [
          {
           "customdata": [
            [
             "2020-05"
            ],
            [
             "2020-05"
            ],
            [
             "2020-05"
            ],
            [
             "2020-05"
            ],
            [
             "2020-05"
            ]
           ],
           "hovertemplate": "<b>%{hovertext}</b><br><br>term=%{x}<br>rate=%{y}<extra></extra>",
           "hovertext": [
            "2020-05",
            "2020-05",
            "2020-05",
            "2020-05",
            "2020-05"
           ],
           "legendgroup": "",
           "line": {
            "color": "#636efa",
            "dash": "solid"
           },
           "marker": {
            "symbol": "circle"
           },
           "mode": "lines",
           "name": "",
           "orientation": "v",
           "showlegend": false,
           "type": "scatter",
           "x": [
            5,
            7,
            10,
            20,
            30
           ],
           "xaxis": "x",
           "y": [
            -0.0032,
            -0.004,
            -0.0042,
            -0.0026,
            -0.0012
           ],
           "yaxis": "y"
          }
         ],
         "name": "2020-05"
        },
        {
         "data": [
          {
           "customdata": [
            [
             "2020-06"
            ],
            [
             "2020-06"
            ],
            [
             "2020-06"
            ],
            [
             "2020-06"
            ],
            [
             "2020-06"
            ]
           ],
           "hovertemplate": "<b>%{hovertext}</b><br><br>term=%{x}<br>rate=%{y}<extra></extra>",
           "hovertext": [
            "2020-06",
            "2020-06",
            "2020-06",
            "2020-06",
            "2020-06"
           ],
           "legendgroup": "",
           "line": {
            "color": "#636efa",
            "dash": "solid"
           },
           "marker": {
            "symbol": "circle"
           },
           "mode": "lines",
           "name": "",
           "orientation": "v",
           "showlegend": false,
           "type": "scatter",
           "x": [
            5,
            7,
            10,
            20,
            30
           ],
           "xaxis": "x",
           "y": [
            -0.0053,
            -0.0053,
            -0.0052,
            -0.003,
            -0.0006
           ],
           "yaxis": "y"
          }
         ],
         "name": "2020-06"
        },
        {
         "data": [
          {
           "customdata": [
            [
             "2020-07"
            ],
            [
             "2020-07"
            ],
            [
             "2020-07"
            ],
            [
             "2020-07"
            ],
            [
             "2020-07"
            ]
           ],
           "hovertemplate": "<b>%{hovertext}</b><br><br>term=%{x}<br>rate=%{y}<extra></extra>",
           "hovertext": [
            "2020-07",
            "2020-07",
            "2020-07",
            "2020-07",
            "2020-07"
           ],
           "legendgroup": "",
           "line": {
            "color": "#636efa",
            "dash": "solid"
           },
           "marker": {
            "symbol": "circle"
           },
           "mode": "lines",
           "name": "",
           "orientation": "v",
           "showlegend": false,
           "type": "scatter",
           "x": [
            5,
            7,
            10,
            20,
            30
           ],
           "xaxis": "x",
           "y": [
            -0.0086,
            -0.0079,
            -0.0068000000000000005,
            -0.0038,
            -0.0015
           ],
           "yaxis": "y"
          }
         ],
         "name": "2020-07"
        },
        {
         "data": [
          {
           "customdata": [
            [
             "2020-08"
            ],
            [
             "2020-08"
            ],
            [
             "2020-08"
            ],
            [
             "2020-08"
            ],
            [
             "2020-08"
            ]
           ],
           "hovertemplate": "<b>%{hovertext}</b><br><br>term=%{x}<br>rate=%{y}<extra></extra>",
           "hovertext": [
            "2020-08",
            "2020-08",
            "2020-08",
            "2020-08",
            "2020-08"
           ],
           "legendgroup": "",
           "line": {
            "color": "#636efa",
            "dash": "solid"
           },
           "marker": {
            "symbol": "circle"
           },
           "mode": "lines",
           "name": "",
           "orientation": "v",
           "showlegend": false,
           "type": "scatter",
           "x": [
            5,
            7,
            10,
            20,
            30
           ],
           "xaxis": "x",
           "y": [
            -0.0124,
            -0.0115,
            -0.0102,
            -0.0069,
            -0.0044
           ],
           "yaxis": "y"
          }
         ],
         "name": "2020-08"
        },
        {
         "data": [
          {
           "customdata": [
            [
             "2020-09"
            ],
            [
             "2020-09"
            ],
            [
             "2020-09"
            ],
            [
             "2020-09"
            ],
            [
             "2020-09"
            ]
           ],
           "hovertemplate": "<b>%{hovertext}</b><br><br>term=%{x}<br>rate=%{y}<extra></extra>",
           "hovertext": [
            "2020-09",
            "2020-09",
            "2020-09",
            "2020-09",
            "2020-09"
           ],
           "legendgroup": "",
           "line": {
            "color": "#636efa",
            "dash": "solid"
           },
           "marker": {
            "symbol": "circle"
           },
           "mode": "lines",
           "name": "",
           "orientation": "v",
           "showlegend": false,
           "type": "scatter",
           "x": [
            5,
            7,
            10,
            20,
            30
           ],
           "xaxis": "x",
           "y": [
            -0.0139,
            -0.0126,
            -0.0108,
            -0.0067,
            -0.0039000000000000003
           ],
           "yaxis": "y"
          }
         ],
         "name": "2020-09"
        },
        {
         "data": [
          {
           "customdata": [
            [
             "2020-10"
            ],
            [
             "2020-10"
            ],
            [
             "2020-10"
            ],
            [
             "2020-10"
            ],
            [
             "2020-10"
            ]
           ],
           "hovertemplate": "<b>%{hovertext}</b><br><br>term=%{x}<br>rate=%{y}<extra></extra>",
           "hovertext": [
            "2020-10",
            "2020-10",
            "2020-10",
            "2020-10",
            "2020-10"
           ],
           "legendgroup": "",
           "line": {
            "color": "#636efa",
            "dash": "solid"
           },
           "marker": {
            "symbol": "circle"
           },
           "mode": "lines",
           "name": "",
           "orientation": "v",
           "showlegend": false,
           "type": "scatter",
           "x": [
            5,
            7,
            10,
            20,
            30
           ],
           "xaxis": "x",
           "y": [
            -0.0121,
            -0.0111,
            -0.0095,
            -0.0055000000000000005,
            -0.0034000000000000002
           ],
           "yaxis": "y"
          }
         ],
         "name": "2020-10"
        },
        {
         "data": [
          {
           "customdata": [
            [
             "2020-11"
            ],
            [
             "2020-11"
            ],
            [
             "2020-11"
            ],
            [
             "2020-11"
            ],
            [
             "2020-11"
            ]
           ],
           "hovertemplate": "<b>%{hovertext}</b><br><br>term=%{x}<br>rate=%{y}<extra></extra>",
           "hovertext": [
            "2020-11",
            "2020-11",
            "2020-11",
            "2020-11",
            "2020-11"
           ],
           "legendgroup": "",
           "line": {
            "color": "#636efa",
            "dash": "solid"
           },
           "marker": {
            "symbol": "circle"
           },
           "mode": "lines",
           "name": "",
           "orientation": "v",
           "showlegend": false,
           "type": "scatter",
           "x": [
            5,
            7,
            10,
            20,
            30
           ],
           "xaxis": "x",
           "y": [
            -0.012199999999999999,
            -0.0106,
            -0.0084,
            -0.0042,
            -0.0026
           ],
           "yaxis": "y"
          }
         ],
         "name": "2020-11"
        },
        {
         "data": [
          {
           "customdata": [
            [
             "2020-12"
            ],
            [
             "2020-12"
            ],
            [
             "2020-12"
            ],
            [
             "2020-12"
            ],
            [
             "2020-12"
            ]
           ],
           "hovertemplate": "<b>%{hovertext}</b><br><br>term=%{x}<br>rate=%{y}<extra></extra>",
           "hovertext": [
            "2020-12",
            "2020-12",
            "2020-12",
            "2020-12",
            "2020-12"
           ],
           "legendgroup": "",
           "line": {
            "color": "#636efa",
            "dash": "solid"
           },
           "marker": {
            "symbol": "circle"
           },
           "mode": "lines",
           "name": "",
           "orientation": "v",
           "showlegend": false,
           "type": "scatter",
           "x": [
            5,
            7,
            10,
            20,
            30
           ],
           "xaxis": "x",
           "y": [
            -0.013000000000000001,
            -0.0111,
            -0.0089,
            -0.0049,
            -0.003
           ],
           "yaxis": "y"
          }
         ],
         "name": "2020-12"
        },
        {
         "data": [
          {
           "customdata": [
            [
             "2021-01"
            ],
            [
             "2021-01"
            ],
            [
             "2021-01"
            ],
            [
             "2021-01"
            ],
            [
             "2021-01"
            ]
           ],
           "hovertemplate": "<b>%{hovertext}</b><br><br>term=%{x}<br>rate=%{y}<extra></extra>",
           "hovertext": [
            "2021-01",
            "2021-01",
            "2021-01",
            "2021-01",
            "2021-01"
           ],
           "legendgroup": "",
           "line": {
            "color": "#636efa",
            "dash": "solid"
           },
           "marker": {
            "symbol": "circle"
           },
           "mode": "lines",
           "name": "",
           "orientation": "v",
           "showlegend": false,
           "type": "scatter",
           "x": [
            5,
            7,
            10,
            20,
            30
           ],
           "xaxis": "x",
           "y": [
            -0.016200000000000003,
            -0.0134,
            -0.0108,
            -0.0063,
            -0.0039000000000000003
           ],
           "yaxis": "y"
          }
         ],
         "name": "2021-01"
        },
        {
         "data": [
          {
           "customdata": [
            [
             "2021-02"
            ],
            [
             "2021-02"
            ],
            [
             "2021-02"
            ],
            [
             "2021-02"
            ],
            [
             "2021-02"
            ]
           ],
           "hovertemplate": "<b>%{hovertext}</b><br><br>term=%{x}<br>rate=%{y}<extra></extra>",
           "hovertext": [
            "2021-02",
            "2021-02",
            "2021-02",
            "2021-02",
            "2021-02"
           ],
           "legendgroup": "",
           "line": {
            "color": "#636efa",
            "dash": "solid"
           },
           "marker": {
            "symbol": "circle"
           },
           "mode": "lines",
           "name": "",
           "orientation": "v",
           "showlegend": false,
           "type": "scatter",
           "x": [
            5,
            7,
            10,
            20,
            30
           ],
           "xaxis": "x",
           "y": [
            -0.0176,
            -0.0139,
            -0.0102,
            -0.0051,
            -0.0027
           ],
           "yaxis": "y"
          }
         ],
         "name": "2021-02"
        },
        {
         "data": [
          {
           "customdata": [
            [
             "2021-03"
            ],
            [
             "2021-03"
            ],
            [
             "2021-03"
            ],
            [
             "2021-03"
            ],
            [
             "2021-03"
            ]
           ],
           "hovertemplate": "<b>%{hovertext}</b><br><br>term=%{x}<br>rate=%{y}<extra></extra>",
           "hovertext": [
            "2021-03",
            "2021-03",
            "2021-03",
            "2021-03",
            "2021-03"
           ],
           "legendgroup": "",
           "line": {
            "color": "#636efa",
            "dash": "solid"
           },
           "marker": {
            "symbol": "circle"
           },
           "mode": "lines",
           "name": "",
           "orientation": "v",
           "showlegend": false,
           "type": "scatter",
           "x": [
            5,
            7,
            10,
            20,
            30
           ],
           "xaxis": "x",
           "y": [
            -0.0169,
            -0.011899999999999999,
            -0.0070999999999999995,
            -0.0014000000000000002,
            0.0012
           ],
           "yaxis": "y"
          }
         ],
         "name": "2021-03"
        },
        {
         "data": [
          {
           "customdata": [
            [
             "2021-04"
            ],
            [
             "2021-04"
            ],
            [
             "2021-04"
            ],
            [
             "2021-04"
            ],
            [
             "2021-04"
            ]
           ],
           "hovertemplate": "<b>%{hovertext}</b><br><br>term=%{x}<br>rate=%{y}<extra></extra>",
           "hovertext": [
            "2021-04",
            "2021-04",
            "2021-04",
            "2021-04",
            "2021-04"
           ],
           "legendgroup": "",
           "line": {
            "color": "#636efa",
            "dash": "solid"
           },
           "marker": {
            "symbol": "circle"
           },
           "mode": "lines",
           "name": "",
           "orientation": "v",
           "showlegend": false,
           "type": "scatter",
           "x": [
            5,
            7,
            10,
            20,
            30
           ],
           "xaxis": "x",
           "y": [
            -0.0165,
            -0.0111,
            -0.0066,
            -0.0016,
            0.0007000000000000001
           ],
           "yaxis": "y"
          }
         ],
         "name": "2021-04"
        },
        {
         "data": [
          {
           "customdata": [
            [
             "2021-05"
            ],
            [
             "2021-05"
            ],
            [
             "2021-05"
            ],
            [
             "2021-05"
            ],
            [
             "2021-05"
            ]
           ],
           "hovertemplate": "<b>%{hovertext}</b><br><br>term=%{x}<br>rate=%{y}<extra></extra>",
           "hovertext": [
            "2021-05",
            "2021-05",
            "2021-05",
            "2021-05",
            "2021-05"
           ],
           "legendgroup": "",
           "line": {
            "color": "#636efa",
            "dash": "solid"
           },
           "marker": {
            "symbol": "circle"
           },
           "mode": "lines",
           "name": "",
           "orientation": "v",
           "showlegend": false,
           "type": "scatter",
           "x": [
            5,
            7,
            10,
            20,
            30
           ],
           "xaxis": "x",
           "y": [
            -0.0176,
            -0.011399999999999999,
            -0.0079,
            -0.0025,
            0.0002
           ],
           "yaxis": "y"
          }
         ],
         "name": "2021-05"
        },
        {
         "data": [
          {
           "customdata": [
            [
             "2021-06"
            ],
            [
             "2021-06"
            ],
            [
             "2021-06"
            ],
            [
             "2021-06"
            ],
            [
             "2021-06"
            ]
           ],
           "hovertemplate": "<b>%{hovertext}</b><br><br>term=%{x}<br>rate=%{y}<extra></extra>",
           "hovertext": [
            "2021-06",
            "2021-06",
            "2021-06",
            "2021-06",
            "2021-06"
           ],
           "legendgroup": "",
           "line": {
            "color": "#636efa",
            "dash": "solid"
           },
           "marker": {
            "symbol": "circle"
           },
           "mode": "lines",
           "name": "",
           "orientation": "v",
           "showlegend": false,
           "type": "scatter",
           "x": [
            5,
            7,
            10,
            20,
            30
           ],
           "xaxis": "x",
           "y": [
            -0.0179,
            -0.0126,
            -0.0084,
            -0.0029,
            -0.0005
           ],
           "yaxis": "y"
          }
         ],
         "name": "2021-06"
        },
        {
         "data": [
          {
           "customdata": [
            [
             "2021-07"
            ],
            [
             "2021-07"
            ],
            [
             "2021-07"
            ],
            [
             "2021-07"
            ],
            [
             "2021-07"
            ]
           ],
           "hovertemplate": "<b>%{hovertext}</b><br><br>term=%{x}<br>rate=%{y}<extra></extra>",
           "hovertext": [
            "2021-07",
            "2021-07",
            "2021-07",
            "2021-07",
            "2021-07"
           ],
           "legendgroup": "",
           "line": {
            "color": "#636efa",
            "dash": "solid"
           },
           "marker": {
            "symbol": "circle"
           },
           "mode": "lines",
           "name": "",
           "orientation": "v",
           "showlegend": false,
           "type": "scatter",
           "x": [
            5,
            7,
            10,
            20,
            30
           ],
           "xaxis": "x",
           "y": [
            -0.016,
            -0.0121,
            -0.0087,
            -0.0040999999999999995,
            -0.0021
           ],
           "yaxis": "y"
          }
         ],
         "name": "2021-07"
        },
        {
         "data": [
          {
           "customdata": [
            [
             "2021-08"
            ],
            [
             "2021-08"
            ],
            [
             "2021-08"
            ],
            [
             "2021-08"
            ],
            [
             "2021-08"
            ]
           ],
           "hovertemplate": "<b>%{hovertext}</b><br><br>term=%{x}<br>rate=%{y}<extra></extra>",
           "hovertext": [
            "2021-08",
            "2021-08",
            "2021-08",
            "2021-08",
            "2021-08"
           ],
           "legendgroup": "",
           "line": {
            "color": "#636efa",
            "dash": "solid"
           },
           "marker": {
            "symbol": "circle"
           },
           "mode": "lines",
           "name": "",
           "orientation": "v",
           "showlegend": false,
           "type": "scatter",
           "x": [
            5,
            7,
            10,
            20,
            30
           ],
           "xaxis": "x",
           "y": [
            -0.018500000000000003,
            -0.0141,
            -0.011699999999999999,
            -0.0064,
            -0.0036
           ],
           "yaxis": "y"
          }
         ],
         "name": "2021-08"
        },
        {
         "data": [
          {
           "customdata": [
            [
             "2021-09"
            ],
            [
             "2021-09"
            ],
            [
             "2021-09"
            ],
            [
             "2021-09"
            ],
            [
             "2021-09"
            ]
           ],
           "hovertemplate": "<b>%{hovertext}</b><br><br>term=%{x}<br>rate=%{y}<extra></extra>",
           "hovertext": [
            "2021-09",
            "2021-09",
            "2021-09",
            "2021-09",
            "2021-09"
           ],
           "legendgroup": "",
           "line": {
            "color": "#636efa",
            "dash": "solid"
           },
           "marker": {
            "symbol": "circle"
           },
           "mode": "lines",
           "name": "",
           "orientation": "v",
           "showlegend": false,
           "type": "scatter",
           "x": [
            5,
            7,
            10,
            20,
            30
           ],
           "xaxis": "x",
           "y": [
            -0.017,
            -0.013500000000000002,
            -0.0103,
            -0.0054,
            -0.0031
           ],
           "yaxis": "y"
          }
         ],
         "name": "2021-09"
        },
        {
         "data": [
          {
           "customdata": [
            [
             "2021-10"
            ],
            [
             "2021-10"
            ],
            [
             "2021-10"
            ],
            [
             "2021-10"
            ],
            [
             "2021-10"
            ]
           ],
           "hovertemplate": "<b>%{hovertext}</b><br><br>term=%{x}<br>rate=%{y}<extra></extra>",
           "hovertext": [
            "2021-10",
            "2021-10",
            "2021-10",
            "2021-10",
            "2021-10"
           ],
           "legendgroup": "",
           "line": {
            "color": "#636efa",
            "dash": "solid"
           },
           "marker": {
            "symbol": "circle"
           },
           "mode": "lines",
           "name": "",
           "orientation": "v",
           "showlegend": false,
           "type": "scatter",
           "x": [
            5,
            7,
            10,
            20,
            30
           ],
           "xaxis": "x",
           "y": [
            -0.0158,
            -0.0123,
            -0.009000000000000001,
            -0.0044,
            -0.0023
           ],
           "yaxis": "y"
          }
         ],
         "name": "2021-10"
        },
        {
         "data": [
          {
           "customdata": [
            [
             "2021-11"
            ],
            [
             "2021-11"
            ],
            [
             "2021-11"
            ],
            [
             "2021-11"
            ],
            [
             "2021-11"
            ]
           ],
           "hovertemplate": "<b>%{hovertext}</b><br><br>term=%{x}<br>rate=%{y}<extra></extra>",
           "hovertext": [
            "2021-11",
            "2021-11",
            "2021-11",
            "2021-11",
            "2021-11"
           ],
           "legendgroup": "",
           "line": {
            "color": "#636efa",
            "dash": "solid"
           },
           "marker": {
            "symbol": "circle"
           },
           "mode": "lines",
           "name": "",
           "orientation": "v",
           "showlegend": false,
           "type": "scatter",
           "x": [
            5,
            7,
            10,
            20,
            30
           ],
           "xaxis": "x",
           "y": [
            -0.0166,
            -0.0126,
            -0.0092,
            -0.0048,
            -0.0027
           ],
           "yaxis": "y"
          }
         ],
         "name": "2021-11"
        },
        {
         "data": [
          {
           "customdata": [
            [
             "2021-12"
            ],
            [
             "2021-12"
            ],
            [
             "2021-12"
            ],
            [
             "2021-12"
            ],
            [
             "2021-12"
            ]
           ],
           "hovertemplate": "<b>%{hovertext}</b><br><br>term=%{x}<br>rate=%{y}<extra></extra>",
           "hovertext": [
            "2021-12",
            "2021-12",
            "2021-12",
            "2021-12",
            "2021-12"
           ],
           "legendgroup": "",
           "line": {
            "color": "#636efa",
            "dash": "solid"
           },
           "marker": {
            "symbol": "circle"
           },
           "mode": "lines",
           "name": "",
           "orientation": "v",
           "showlegend": false,
           "type": "scatter",
           "x": [
            5,
            7,
            10,
            20,
            30
           ],
           "xaxis": "x",
           "y": [
            -0.0155,
            -0.0125,
            -0.0101,
            -0.0066,
            -0.005
           ],
           "yaxis": "y"
          }
         ],
         "name": "2021-12"
        },
        {
         "data": [
          {
           "customdata": [
            [
             "2022-01"
            ],
            [
             "2022-01"
            ],
            [
             "2022-01"
            ],
            [
             "2022-01"
            ],
            [
             "2022-01"
            ]
           ],
           "hovertemplate": "<b>%{hovertext}</b><br><br>term=%{x}<br>rate=%{y}<extra></extra>",
           "hovertext": [
            "2022-01",
            "2022-01",
            "2022-01",
            "2022-01",
            "2022-01"
           ],
           "legendgroup": "",
           "line": {
            "color": "#636efa",
            "dash": "solid"
           },
           "marker": {
            "symbol": "circle"
           },
           "mode": "lines",
           "name": "",
           "orientation": "v",
           "showlegend": false,
           "type": "scatter",
           "x": [
            5,
            7,
            10,
            20,
            30
           ],
           "xaxis": "x",
           "y": [
            -0.0158,
            -0.0125,
            -0.0097,
            -0.0055000000000000005,
            -0.0036
           ],
           "yaxis": "y"
          }
         ],
         "name": "2022-01"
        },
        {
         "data": [
          {
           "customdata": [
            [
             "2022-02"
            ],
            [
             "2022-02"
            ],
            [
             "2022-02"
            ],
            [
             "2022-02"
            ],
            [
             "2022-02"
            ]
           ],
           "hovertemplate": "<b>%{hovertext}</b><br><br>term=%{x}<br>rate=%{y}<extra></extra>",
           "hovertext": [
            "2022-02",
            "2022-02",
            "2022-02",
            "2022-02",
            "2022-02"
           ],
           "legendgroup": "",
           "line": {
            "color": "#636efa",
            "dash": "solid"
           },
           "marker": {
            "symbol": "circle"
           },
           "mode": "lines",
           "name": "",
           "orientation": "v",
           "showlegend": false,
           "type": "scatter",
           "x": [
            5,
            7,
            10,
            20,
            30
           ],
           "xaxis": "x",
           "y": [
            -0.011699999999999999,
            -0.0087,
            -0.0062,
            -0.0025,
            -0.0008
           ],
           "yaxis": "y"
          }
         ],
         "name": "2022-02"
        },
        {
         "data": [
          {
           "customdata": [
            [
             "2022-03"
            ],
            [
             "2022-03"
            ],
            [
             "2022-03"
            ],
            [
             "2022-03"
            ],
            [
             "2022-03"
            ]
           ],
           "hovertemplate": "<b>%{hovertext}</b><br><br>term=%{x}<br>rate=%{y}<extra></extra>",
           "hovertext": [
            "2022-03",
            "2022-03",
            "2022-03",
            "2022-03",
            "2022-03"
           ],
           "legendgroup": "",
           "line": {
            "color": "#636efa",
            "dash": "solid"
           },
           "marker": {
            "symbol": "circle"
           },
           "mode": "lines",
           "name": "",
           "orientation": "v",
           "showlegend": false,
           "type": "scatter",
           "x": [
            5,
            7,
            10,
            20,
            30
           ],
           "xaxis": "x",
           "y": [
            -0.0158,
            -0.0121,
            -0.009000000000000001,
            -0.0040999999999999995,
            -0.0016
           ],
           "yaxis": "y"
          }
         ],
         "name": "2022-03"
        },
        {
         "data": [
          {
           "customdata": [
            [
             "2022-04"
            ],
            [
             "2022-04"
            ],
            [
             "2022-04"
            ],
            [
             "2022-04"
            ],
            [
             "2022-04"
            ]
           ],
           "hovertemplate": "<b>%{hovertext}</b><br><br>term=%{x}<br>rate=%{y}<extra></extra>",
           "hovertext": [
            "2022-04",
            "2022-04",
            "2022-04",
            "2022-04",
            "2022-04"
           ],
           "legendgroup": "",
           "line": {
            "color": "#636efa",
            "dash": "solid"
           },
           "marker": {
            "symbol": "circle"
           },
           "mode": "lines",
           "name": "",
           "orientation": "v",
           "showlegend": false,
           "type": "scatter",
           "x": [
            5,
            7,
            10,
            20,
            30
           ],
           "xaxis": "x",
           "y": [
            -0.0073,
            -0.005699999999999999,
            -0.0040999999999999995,
            -0.0015,
            0
           ],
           "yaxis": "y"
          }
         ],
         "name": "2022-04"
        },
        {
         "data": [
          {
           "customdata": [
            [
             "2022-05"
            ],
            [
             "2022-05"
            ],
            [
             "2022-05"
            ],
            [
             "2022-05"
            ],
            [
             "2022-05"
            ]
           ],
           "hovertemplate": "<b>%{hovertext}</b><br><br>term=%{x}<br>rate=%{y}<extra></extra>",
           "hovertext": [
            "2022-05",
            "2022-05",
            "2022-05",
            "2022-05",
            "2022-05"
           ],
           "legendgroup": "",
           "line": {
            "color": "#636efa",
            "dash": "solid"
           },
           "marker": {
            "symbol": "circle"
           },
           "mode": "lines",
           "name": "",
           "orientation": "v",
           "showlegend": false,
           "type": "scatter",
           "x": [
            5,
            7,
            10,
            20,
            30
           ],
           "xaxis": "x",
           "y": [
            -0.002,
            0,
            0.0018,
            0.0043,
            0.005600000000000001
           ],
           "yaxis": "y"
          }
         ],
         "name": "2022-05"
        },
        {
         "data": [
          {
           "customdata": [
            [
             "2022-06"
            ],
            [
             "2022-06"
            ],
            [
             "2022-06"
            ],
            [
             "2022-06"
            ],
            [
             "2022-06"
            ]
           ],
           "hovertemplate": "<b>%{hovertext}</b><br><br>term=%{x}<br>rate=%{y}<extra></extra>",
           "hovertext": [
            "2022-06",
            "2022-06",
            "2022-06",
            "2022-06",
            "2022-06"
           ],
           "legendgroup": "",
           "line": {
            "color": "#636efa",
            "dash": "solid"
           },
           "marker": {
            "symbol": "circle"
           },
           "mode": "lines",
           "name": "",
           "orientation": "v",
           "showlegend": false,
           "type": "scatter",
           "x": [
            5,
            7,
            10,
            20,
            30
           ],
           "xaxis": "x",
           "y": [
            -0.0002,
            0.0014000000000000002,
            0.0029,
            0.0054,
            0.0067
           ],
           "yaxis": "y"
          }
         ],
         "name": "2022-06"
        },
        {
         "data": [
          {
           "customdata": [
            [
             "2022-07"
            ],
            [
             "2022-07"
            ],
            [
             "2022-07"
            ],
            [
             "2022-07"
            ],
            [
             "2022-07"
            ]
           ],
           "hovertemplate": "<b>%{hovertext}</b><br><br>term=%{x}<br>rate=%{y}<extra></extra>",
           "hovertext": [
            "2022-07",
            "2022-07",
            "2022-07",
            "2022-07",
            "2022-07"
           ],
           "legendgroup": "",
           "line": {
            "color": "#636efa",
            "dash": "solid"
           },
           "marker": {
            "symbol": "circle"
           },
           "mode": "lines",
           "name": "",
           "orientation": "v",
           "showlegend": false,
           "type": "scatter",
           "x": [
            5,
            7,
            10,
            20,
            30
           ],
           "xaxis": "x",
           "y": [
            0.0028000000000000004,
            0.0042,
            0.0054,
            0.0076,
            0.0088
           ],
           "yaxis": "y"
          }
         ],
         "name": "2022-07"
        },
        {
         "data": [
          {
           "customdata": [
            [
             "2022-08"
            ],
            [
             "2022-08"
            ],
            [
             "2022-08"
            ],
            [
             "2022-08"
            ],
            [
             "2022-08"
            ]
           ],
           "hovertemplate": "<b>%{hovertext}</b><br><br>term=%{x}<br>rate=%{y}<extra></extra>",
           "hovertext": [
            "2022-08",
            "2022-08",
            "2022-08",
            "2022-08",
            "2022-08"
           ],
           "legendgroup": "",
           "line": {
            "color": "#636efa",
            "dash": "solid"
           },
           "marker": {
            "symbol": "circle"
           },
           "mode": "lines",
           "name": "",
           "orientation": "v",
           "showlegend": false,
           "type": "scatter",
           "x": [
            5,
            7,
            10,
            20,
            30
           ],
           "xaxis": "x",
           "y": [
            -0.0006,
            0,
            0.0009,
            0.0043,
            0.0067
           ],
           "yaxis": "y"
          }
         ],
         "name": "2022-08"
        },
        {
         "data": [
          {
           "customdata": [
            [
             "2022-09"
            ],
            [
             "2022-09"
            ],
            [
             "2022-09"
            ],
            [
             "2022-09"
            ],
            [
             "2022-09"
            ]
           ],
           "hovertemplate": "<b>%{hovertext}</b><br><br>term=%{x}<br>rate=%{y}<extra></extra>",
           "hovertext": [
            "2022-09",
            "2022-09",
            "2022-09",
            "2022-09",
            "2022-09"
           ],
           "legendgroup": "",
           "line": {
            "color": "#636efa",
            "dash": "solid"
           },
           "marker": {
            "symbol": "circle"
           },
           "mode": "lines",
           "name": "",
           "orientation": "v",
           "showlegend": false,
           "type": "scatter",
           "x": [
            5,
            7,
            10,
            20,
            30
           ],
           "xaxis": "x",
           "y": [
            0.0087,
            0.0084,
            0.008100000000000001,
            0.0095,
            0.010700000000000001
           ],
           "yaxis": "y"
          }
         ],
         "name": "2022-09"
        },
        {
         "data": [
          {
           "customdata": [
            [
             "2022-10"
            ],
            [
             "2022-10"
            ],
            [
             "2022-10"
            ],
            [
             "2022-10"
            ],
            [
             "2022-10"
            ]
           ],
           "hovertemplate": "<b>%{hovertext}</b><br><br>term=%{x}<br>rate=%{y}<extra></extra>",
           "hovertext": [
            "2022-10",
            "2022-10",
            "2022-10",
            "2022-10",
            "2022-10"
           ],
           "legendgroup": "",
           "line": {
            "color": "#636efa",
            "dash": "solid"
           },
           "marker": {
            "symbol": "circle"
           },
           "mode": "lines",
           "name": "",
           "orientation": "v",
           "showlegend": false,
           "type": "scatter",
           "x": [
            5,
            7,
            10,
            20,
            30
           ],
           "xaxis": "x",
           "y": [
            0.016399999999999998,
            0.0151,
            0.0143,
            0.0149,
            0.0158
           ],
           "yaxis": "y"
          }
         ],
         "name": "2022-10"
        },
        {
         "data": [
          {
           "customdata": [
            [
             "2022-11"
            ],
            [
             "2022-11"
            ],
            [
             "2022-11"
            ],
            [
             "2022-11"
            ],
            [
             "2022-11"
            ]
           ],
           "hovertemplate": "<b>%{hovertext}</b><br><br>term=%{x}<br>rate=%{y}<extra></extra>",
           "hovertext": [
            "2022-11",
            "2022-11",
            "2022-11",
            "2022-11",
            "2022-11"
           ],
           "legendgroup": "",
           "line": {
            "color": "#636efa",
            "dash": "solid"
           },
           "marker": {
            "symbol": "circle"
           },
           "mode": "lines",
           "name": "",
           "orientation": "v",
           "showlegend": false,
           "type": "scatter",
           "x": [
            5,
            7,
            10,
            20,
            30
           ],
           "xaxis": "x",
           "y": [
            0.016200000000000003,
            0.0158,
            0.015600000000000001,
            0.0159,
            0.016399999999999998
           ],
           "yaxis": "y"
          }
         ],
         "name": "2022-11"
        },
        {
         "data": [
          {
           "customdata": [
            [
             "2022-12"
            ],
            [
             "2022-12"
            ],
            [
             "2022-12"
            ],
            [
             "2022-12"
            ],
            [
             "2022-12"
            ]
           ],
           "hovertemplate": "<b>%{hovertext}</b><br><br>term=%{x}<br>rate=%{y}<extra></extra>",
           "hovertext": [
            "2022-12",
            "2022-12",
            "2022-12",
            "2022-12",
            "2022-12"
           ],
           "legendgroup": "",
           "line": {
            "color": "#636efa",
            "dash": "solid"
           },
           "marker": {
            "symbol": "circle"
           },
           "mode": "lines",
           "name": "",
           "orientation": "v",
           "showlegend": false,
           "type": "scatter",
           "x": [
            5,
            7,
            10,
            20,
            30
           ],
           "xaxis": "x",
           "y": [
            0.0123,
            0.012,
            0.011699999999999999,
            0.0123,
            0.0129
           ],
           "yaxis": "y"
          }
         ],
         "name": "2022-12"
        },
        {
         "data": [
          {
           "customdata": [
            [
             "2023-01"
            ],
            [
             "2023-01"
            ],
            [
             "2023-01"
            ],
            [
             "2023-01"
            ],
            [
             "2023-01"
            ]
           ],
           "hovertemplate": "<b>%{hovertext}</b><br><br>term=%{x}<br>rate=%{y}<extra></extra>",
           "hovertext": [
            "2023-01",
            "2023-01",
            "2023-01",
            "2023-01",
            "2023-01"
           ],
           "legendgroup": "",
           "line": {
            "color": "#636efa",
            "dash": "solid"
           },
           "marker": {
            "symbol": "circle"
           },
           "mode": "lines",
           "name": "",
           "orientation": "v",
           "showlegend": false,
           "type": "scatter",
           "x": [
            5,
            7,
            10,
            20,
            30
           ],
           "xaxis": "x",
           "y": [
            0.0165,
            0.0158,
            0.015300000000000001,
            0.015600000000000001,
            0.0161
           ],
           "yaxis": "y"
          }
         ],
         "name": "2023-01"
        },
        {
         "data": [
          {
           "customdata": [
            [
             "2023-02"
            ],
            [
             "2023-02"
            ],
            [
             "2023-02"
            ],
            [
             "2023-02"
            ],
            [
             "2023-02"
            ]
           ],
           "hovertemplate": "<b>%{hovertext}</b><br><br>term=%{x}<br>rate=%{y}<extra></extra>",
           "hovertext": [
            "2023-02",
            "2023-02",
            "2023-02",
            "2023-02",
            "2023-02"
           ],
           "legendgroup": "",
           "line": {
            "color": "#636efa",
            "dash": "solid"
           },
           "marker": {
            "symbol": "circle"
           },
           "mode": "lines",
           "name": "",
           "orientation": "v",
           "showlegend": false,
           "type": "scatter",
           "x": [
            5,
            7,
            10,
            20,
            30
           ],
           "xaxis": "x",
           "y": [
            0.011899999999999999,
            0.0116,
            0.011399999999999999,
            0.0124,
            0.013300000000000001
           ],
           "yaxis": "y"
          }
         ],
         "name": "2023-02"
        },
        {
         "data": [
          {
           "customdata": [
            [
             "2023-03"
            ],
            [
             "2023-03"
            ],
            [
             "2023-03"
            ],
            [
             "2023-03"
            ],
            [
             "2023-03"
            ]
           ],
           "hovertemplate": "<b>%{hovertext}</b><br><br>term=%{x}<br>rate=%{y}<extra></extra>",
           "hovertext": [
            "2023-03",
            "2023-03",
            "2023-03",
            "2023-03",
            "2023-03"
           ],
           "legendgroup": "",
           "line": {
            "color": "#636efa",
            "dash": "solid"
           },
           "marker": {
            "symbol": "circle"
           },
           "mode": "lines",
           "name": "",
           "orientation": "v",
           "showlegend": false,
           "type": "scatter",
           "x": [
            5,
            7,
            10,
            20,
            30
           ],
           "xaxis": "x",
           "y": [
            0.0168,
            0.016200000000000003,
            0.015700000000000002,
            0.0158,
            0.016
           ],
           "yaxis": "y"
          }
         ],
         "name": "2023-03"
        },
        {
         "data": [
          {
           "customdata": [
            [
             "2023-04"
            ],
            [
             "2023-04"
            ],
            [
             "2023-04"
            ],
            [
             "2023-04"
            ],
            [
             "2023-04"
            ]
           ],
           "hovertemplate": "<b>%{hovertext}</b><br><br>term=%{x}<br>rate=%{y}<extra></extra>",
           "hovertext": [
            "2023-04",
            "2023-04",
            "2023-04",
            "2023-04",
            "2023-04"
           ],
           "legendgroup": "",
           "line": {
            "color": "#636efa",
            "dash": "solid"
           },
           "marker": {
            "symbol": "circle"
           },
           "mode": "lines",
           "name": "",
           "orientation": "v",
           "showlegend": false,
           "type": "scatter",
           "x": [
            5,
            7,
            10,
            20,
            30
           ],
           "xaxis": "x",
           "y": [
            0.0113,
            0.0113,
            0.011399999999999999,
            0.013000000000000001,
            0.0143
           ],
           "yaxis": "y"
          }
         ],
         "name": "2023-04"
        },
        {
         "data": [
          {
           "customdata": [
            [
             "2023-05"
            ],
            [
             "2023-05"
            ],
            [
             "2023-05"
            ],
            [
             "2023-05"
            ],
            [
             "2023-05"
            ]
           ],
           "hovertemplate": "<b>%{hovertext}</b><br><br>term=%{x}<br>rate=%{y}<extra></extra>",
           "hovertext": [
            "2023-05",
            "2023-05",
            "2023-05",
            "2023-05",
            "2023-05"
           ],
           "legendgroup": "",
           "line": {
            "color": "#636efa",
            "dash": "solid"
           },
           "marker": {
            "symbol": "circle"
           },
           "mode": "lines",
           "name": "",
           "orientation": "v",
           "showlegend": false,
           "type": "scatter",
           "x": [
            5,
            7,
            10,
            20,
            30
           ],
           "xaxis": "x",
           "y": [
            0.013999999999999999,
            0.0138,
            0.013600000000000001,
            0.0149,
            0.0161
           ],
           "yaxis": "y"
          }
         ],
         "name": "2023-05"
        },
        {
         "data": [
          {
           "customdata": [
            [
             "2023-06"
            ],
            [
             "2023-06"
            ],
            [
             "2023-06"
            ],
            [
             "2023-06"
            ],
            [
             "2023-06"
            ]
           ],
           "hovertemplate": "<b>%{hovertext}</b><br><br>term=%{x}<br>rate=%{y}<extra></extra>",
           "hovertext": [
            "2023-06",
            "2023-06",
            "2023-06",
            "2023-06",
            "2023-06"
           ],
           "legendgroup": "",
           "line": {
            "color": "#636efa",
            "dash": "solid"
           },
           "marker": {
            "symbol": "circle"
           },
           "mode": "lines",
           "name": "",
           "orientation": "v",
           "showlegend": false,
           "type": "scatter",
           "x": [
            5,
            7,
            10,
            20,
            30
           ],
           "xaxis": "x",
           "y": [
            0.0163,
            0.0152,
            0.014499999999999999,
            0.0152,
            0.016200000000000003
           ],
           "yaxis": "y"
          }
         ],
         "name": "2023-06"
        },
        {
         "data": [
          {
           "customdata": [
            [
             "2023-07"
            ],
            [
             "2023-07"
            ],
            [
             "2023-07"
            ],
            [
             "2023-07"
            ],
            [
             "2023-07"
            ]
           ],
           "hovertemplate": "<b>%{hovertext}</b><br><br>term=%{x}<br>rate=%{y}<extra></extra>",
           "hovertext": [
            "2023-07",
            "2023-07",
            "2023-07",
            "2023-07",
            "2023-07"
           ],
           "legendgroup": "",
           "line": {
            "color": "#636efa",
            "dash": "solid"
           },
           "marker": {
            "symbol": "circle"
           },
           "mode": "lines",
           "name": "",
           "orientation": "v",
           "showlegend": false,
           "type": "scatter",
           "x": [
            5,
            7,
            10,
            20,
            30
           ],
           "xaxis": "x",
           "y": [
            0.019799999999999998,
            0.0176,
            0.0161,
            0.015600000000000001,
            0.016200000000000003
           ],
           "yaxis": "y"
          }
         ],
         "name": "2023-07"
        },
        {
         "data": [
          {
           "customdata": [
            [
             "2023-08"
            ],
            [
             "2023-08"
            ],
            [
             "2023-08"
            ],
            [
             "2023-08"
            ],
            [
             "2023-08"
            ]
           ],
           "hovertemplate": "<b>%{hovertext}</b><br><br>term=%{x}<br>rate=%{y}<extra></extra>",
           "hovertext": [
            "2023-08",
            "2023-08",
            "2023-08",
            "2023-08",
            "2023-08"
           ],
           "legendgroup": "",
           "line": {
            "color": "#636efa",
            "dash": "solid"
           },
           "marker": {
            "symbol": "circle"
           },
           "mode": "lines",
           "name": "",
           "orientation": "v",
           "showlegend": false,
           "type": "scatter",
           "x": [
            5,
            7,
            10,
            20,
            30
           ],
           "xaxis": "x",
           "y": [
            0.019799999999999998,
            0.018000000000000002,
            0.0168,
            0.0172,
            0.0181
           ],
           "yaxis": "y"
          }
         ],
         "name": "2023-08"
        },
        {
         "data": [
          {
           "customdata": [
            [
             "2023-09"
            ],
            [
             "2023-09"
            ],
            [
             "2023-09"
            ],
            [
             "2023-09"
            ],
            [
             "2023-09"
            ]
           ],
           "hovertemplate": "<b>%{hovertext}</b><br><br>term=%{x}<br>rate=%{y}<extra></extra>",
           "hovertext": [
            "2023-09",
            "2023-09",
            "2023-09",
            "2023-09",
            "2023-09"
           ],
           "legendgroup": "",
           "line": {
            "color": "#636efa",
            "dash": "solid"
           },
           "marker": {
            "symbol": "circle"
           },
           "mode": "lines",
           "name": "",
           "orientation": "v",
           "showlegend": false,
           "type": "scatter",
           "x": [
            5,
            7,
            10,
            20,
            30
           ],
           "xaxis": "x",
           "y": [
            0.0212,
            0.02,
            0.0192,
            0.0196,
            0.0204
           ],
           "yaxis": "y"
          }
         ],
         "name": "2023-09"
        },
        {
         "data": [
          {
           "customdata": [
            [
             "2023-10"
            ],
            [
             "2023-10"
            ],
            [
             "2023-10"
            ],
            [
             "2023-10"
            ],
            [
             "2023-10"
            ]
           ],
           "hovertemplate": "<b>%{hovertext}</b><br><br>term=%{x}<br>rate=%{y}<extra></extra>",
           "hovertext": [
            "2023-10",
            "2023-10",
            "2023-10",
            "2023-10",
            "2023-10"
           ],
           "legendgroup": "",
           "line": {
            "color": "#636efa",
            "dash": "solid"
           },
           "marker": {
            "symbol": "circle"
           },
           "mode": "lines",
           "name": "",
           "orientation": "v",
           "showlegend": false,
           "type": "scatter",
           "x": [
            5,
            7,
            10,
            20,
            30
           ],
           "xaxis": "x",
           "y": [
            0.024900000000000002,
            0.024,
            0.023399999999999997,
            0.0236,
            0.0241
           ],
           "yaxis": "y"
          }
         ],
         "name": "2023-10"
        }
       ],
       "layout": {
        "legend": {
         "tracegroupgap": 0
        },
        "margin": {
         "t": 60
        },
        "sliders": [
         {
          "active": 0,
          "currentvalue": {
           "prefix": "month="
          },
          "len": 0.9,
          "pad": {
           "b": 10,
           "t": 60
          },
          "steps": [
           {
            "args": [
             [
              "2004-07"
             ],
             {
              "frame": {
               "duration": 0,
               "redraw": false
              },
              "fromcurrent": true,
              "mode": "immediate",
              "transition": {
               "duration": 0,
               "easing": "linear"
              }
             }
            ],
            "label": "2004-07",
            "method": "animate"
           },
           {
            "args": [
             [
              "2004-08"
             ],
             {
              "frame": {
               "duration": 0,
               "redraw": false
              },
              "fromcurrent": true,
              "mode": "immediate",
              "transition": {
               "duration": 0,
               "easing": "linear"
              }
             }
            ],
            "label": "2004-08",
            "method": "animate"
           },
           {
            "args": [
             [
              "2004-09"
             ],
             {
              "frame": {
               "duration": 0,
               "redraw": false
              },
              "fromcurrent": true,
              "mode": "immediate",
              "transition": {
               "duration": 0,
               "easing": "linear"
              }
             }
            ],
            "label": "2004-09",
            "method": "animate"
           },
           {
            "args": [
             [
              "2004-10"
             ],
             {
              "frame": {
               "duration": 0,
               "redraw": false
              },
              "fromcurrent": true,
              "mode": "immediate",
              "transition": {
               "duration": 0,
               "easing": "linear"
              }
             }
            ],
            "label": "2004-10",
            "method": "animate"
           },
           {
            "args": [
             [
              "2004-11"
             ],
             {
              "frame": {
               "duration": 0,
               "redraw": false
              },
              "fromcurrent": true,
              "mode": "immediate",
              "transition": {
               "duration": 0,
               "easing": "linear"
              }
             }
            ],
            "label": "2004-11",
            "method": "animate"
           },
           {
            "args": [
             [
              "2004-12"
             ],
             {
              "frame": {
               "duration": 0,
               "redraw": false
              },
              "fromcurrent": true,
              "mode": "immediate",
              "transition": {
               "duration": 0,
               "easing": "linear"
              }
             }
            ],
            "label": "2004-12",
            "method": "animate"
           },
           {
            "args": [
             [
              "2005-01"
             ],
             {
              "frame": {
               "duration": 0,
               "redraw": false
              },
              "fromcurrent": true,
              "mode": "immediate",
              "transition": {
               "duration": 0,
               "easing": "linear"
              }
             }
            ],
            "label": "2005-01",
            "method": "animate"
           },
           {
            "args": [
             [
              "2005-02"
             ],
             {
              "frame": {
               "duration": 0,
               "redraw": false
              },
              "fromcurrent": true,
              "mode": "immediate",
              "transition": {
               "duration": 0,
               "easing": "linear"
              }
             }
            ],
            "label": "2005-02",
            "method": "animate"
           },
           {
            "args": [
             [
              "2005-03"
             ],
             {
              "frame": {
               "duration": 0,
               "redraw": false
              },
              "fromcurrent": true,
              "mode": "immediate",
              "transition": {
               "duration": 0,
               "easing": "linear"
              }
             }
            ],
            "label": "2005-03",
            "method": "animate"
           },
           {
            "args": [
             [
              "2005-04"
             ],
             {
              "frame": {
               "duration": 0,
               "redraw": false
              },
              "fromcurrent": true,
              "mode": "immediate",
              "transition": {
               "duration": 0,
               "easing": "linear"
              }
             }
            ],
            "label": "2005-04",
            "method": "animate"
           },
           {
            "args": [
             [
              "2005-05"
             ],
             {
              "frame": {
               "duration": 0,
               "redraw": false
              },
              "fromcurrent": true,
              "mode": "immediate",
              "transition": {
               "duration": 0,
               "easing": "linear"
              }
             }
            ],
            "label": "2005-05",
            "method": "animate"
           },
           {
            "args": [
             [
              "2005-06"
             ],
             {
              "frame": {
               "duration": 0,
               "redraw": false
              },
              "fromcurrent": true,
              "mode": "immediate",
              "transition": {
               "duration": 0,
               "easing": "linear"
              }
             }
            ],
            "label": "2005-06",
            "method": "animate"
           },
           {
            "args": [
             [
              "2005-07"
             ],
             {
              "frame": {
               "duration": 0,
               "redraw": false
              },
              "fromcurrent": true,
              "mode": "immediate",
              "transition": {
               "duration": 0,
               "easing": "linear"
              }
             }
            ],
            "label": "2005-07",
            "method": "animate"
           },
           {
            "args": [
             [
              "2005-08"
             ],
             {
              "frame": {
               "duration": 0,
               "redraw": false
              },
              "fromcurrent": true,
              "mode": "immediate",
              "transition": {
               "duration": 0,
               "easing": "linear"
              }
             }
            ],
            "label": "2005-08",
            "method": "animate"
           },
           {
            "args": [
             [
              "2005-09"
             ],
             {
              "frame": {
               "duration": 0,
               "redraw": false
              },
              "fromcurrent": true,
              "mode": "immediate",
              "transition": {
               "duration": 0,
               "easing": "linear"
              }
             }
            ],
            "label": "2005-09",
            "method": "animate"
           },
           {
            "args": [
             [
              "2005-10"
             ],
             {
              "frame": {
               "duration": 0,
               "redraw": false
              },
              "fromcurrent": true,
              "mode": "immediate",
              "transition": {
               "duration": 0,
               "easing": "linear"
              }
             }
            ],
            "label": "2005-10",
            "method": "animate"
           },
           {
            "args": [
             [
              "2005-11"
             ],
             {
              "frame": {
               "duration": 0,
               "redraw": false
              },
              "fromcurrent": true,
              "mode": "immediate",
              "transition": {
               "duration": 0,
               "easing": "linear"
              }
             }
            ],
            "label": "2005-11",
            "method": "animate"
           },
           {
            "args": [
             [
              "2005-12"
             ],
             {
              "frame": {
               "duration": 0,
               "redraw": false
              },
              "fromcurrent": true,
              "mode": "immediate",
              "transition": {
               "duration": 0,
               "easing": "linear"
              }
             }
            ],
            "label": "2005-12",
            "method": "animate"
           },
           {
            "args": [
             [
              "2006-01"
             ],
             {
              "frame": {
               "duration": 0,
               "redraw": false
              },
              "fromcurrent": true,
              "mode": "immediate",
              "transition": {
               "duration": 0,
               "easing": "linear"
              }
             }
            ],
            "label": "2006-01",
            "method": "animate"
           },
           {
            "args": [
             [
              "2006-02"
             ],
             {
              "frame": {
               "duration": 0,
               "redraw": false
              },
              "fromcurrent": true,
              "mode": "immediate",
              "transition": {
               "duration": 0,
               "easing": "linear"
              }
             }
            ],
            "label": "2006-02",
            "method": "animate"
           },
           {
            "args": [
             [
              "2006-03"
             ],
             {
              "frame": {
               "duration": 0,
               "redraw": false
              },
              "fromcurrent": true,
              "mode": "immediate",
              "transition": {
               "duration": 0,
               "easing": "linear"
              }
             }
            ],
            "label": "2006-03",
            "method": "animate"
           },
           {
            "args": [
             [
              "2006-04"
             ],
             {
              "frame": {
               "duration": 0,
               "redraw": false
              },
              "fromcurrent": true,
              "mode": "immediate",
              "transition": {
               "duration": 0,
               "easing": "linear"
              }
             }
            ],
            "label": "2006-04",
            "method": "animate"
           },
           {
            "args": [
             [
              "2006-05"
             ],
             {
              "frame": {
               "duration": 0,
               "redraw": false
              },
              "fromcurrent": true,
              "mode": "immediate",
              "transition": {
               "duration": 0,
               "easing": "linear"
              }
             }
            ],
            "label": "2006-05",
            "method": "animate"
           },
           {
            "args": [
             [
              "2006-06"
             ],
             {
              "frame": {
               "duration": 0,
               "redraw": false
              },
              "fromcurrent": true,
              "mode": "immediate",
              "transition": {
               "duration": 0,
               "easing": "linear"
              }
             }
            ],
            "label": "2006-06",
            "method": "animate"
           },
           {
            "args": [
             [
              "2006-07"
             ],
             {
              "frame": {
               "duration": 0,
               "redraw": false
              },
              "fromcurrent": true,
              "mode": "immediate",
              "transition": {
               "duration": 0,
               "easing": "linear"
              }
             }
            ],
            "label": "2006-07",
            "method": "animate"
           },
           {
            "args": [
             [
              "2006-08"
             ],
             {
              "frame": {
               "duration": 0,
               "redraw": false
              },
              "fromcurrent": true,
              "mode": "immediate",
              "transition": {
               "duration": 0,
               "easing": "linear"
              }
             }
            ],
            "label": "2006-08",
            "method": "animate"
           },
           {
            "args": [
             [
              "2006-09"
             ],
             {
              "frame": {
               "duration": 0,
               "redraw": false
              },
              "fromcurrent": true,
              "mode": "immediate",
              "transition": {
               "duration": 0,
               "easing": "linear"
              }
             }
            ],
            "label": "2006-09",
            "method": "animate"
           },
           {
            "args": [
             [
              "2006-10"
             ],
             {
              "frame": {
               "duration": 0,
               "redraw": false
              },
              "fromcurrent": true,
              "mode": "immediate",
              "transition": {
               "duration": 0,
               "easing": "linear"
              }
             }
            ],
            "label": "2006-10",
            "method": "animate"
           },
           {
            "args": [
             [
              "2006-11"
             ],
             {
              "frame": {
               "duration": 0,
               "redraw": false
              },
              "fromcurrent": true,
              "mode": "immediate",
              "transition": {
               "duration": 0,
               "easing": "linear"
              }
             }
            ],
            "label": "2006-11",
            "method": "animate"
           },
           {
            "args": [
             [
              "2006-12"
             ],
             {
              "frame": {
               "duration": 0,
               "redraw": false
              },
              "fromcurrent": true,
              "mode": "immediate",
              "transition": {
               "duration": 0,
               "easing": "linear"
              }
             }
            ],
            "label": "2006-12",
            "method": "animate"
           },
           {
            "args": [
             [
              "2007-01"
             ],
             {
              "frame": {
               "duration": 0,
               "redraw": false
              },
              "fromcurrent": true,
              "mode": "immediate",
              "transition": {
               "duration": 0,
               "easing": "linear"
              }
             }
            ],
            "label": "2007-01",
            "method": "animate"
           },
           {
            "args": [
             [
              "2007-02"
             ],
             {
              "frame": {
               "duration": 0,
               "redraw": false
              },
              "fromcurrent": true,
              "mode": "immediate",
              "transition": {
               "duration": 0,
               "easing": "linear"
              }
             }
            ],
            "label": "2007-02",
            "method": "animate"
           },
           {
            "args": [
             [
              "2007-03"
             ],
             {
              "frame": {
               "duration": 0,
               "redraw": false
              },
              "fromcurrent": true,
              "mode": "immediate",
              "transition": {
               "duration": 0,
               "easing": "linear"
              }
             }
            ],
            "label": "2007-03",
            "method": "animate"
           },
           {
            "args": [
             [
              "2007-04"
             ],
             {
              "frame": {
               "duration": 0,
               "redraw": false
              },
              "fromcurrent": true,
              "mode": "immediate",
              "transition": {
               "duration": 0,
               "easing": "linear"
              }
             }
            ],
            "label": "2007-04",
            "method": "animate"
           },
           {
            "args": [
             [
              "2007-05"
             ],
             {
              "frame": {
               "duration": 0,
               "redraw": false
              },
              "fromcurrent": true,
              "mode": "immediate",
              "transition": {
               "duration": 0,
               "easing": "linear"
              }
             }
            ],
            "label": "2007-05",
            "method": "animate"
           },
           {
            "args": [
             [
              "2007-06"
             ],
             {
              "frame": {
               "duration": 0,
               "redraw": false
              },
              "fromcurrent": true,
              "mode": "immediate",
              "transition": {
               "duration": 0,
               "easing": "linear"
              }
             }
            ],
            "label": "2007-06",
            "method": "animate"
           },
           {
            "args": [
             [
              "2007-07"
             ],
             {
              "frame": {
               "duration": 0,
               "redraw": false
              },
              "fromcurrent": true,
              "mode": "immediate",
              "transition": {
               "duration": 0,
               "easing": "linear"
              }
             }
            ],
            "label": "2007-07",
            "method": "animate"
           },
           {
            "args": [
             [
              "2007-08"
             ],
             {
              "frame": {
               "duration": 0,
               "redraw": false
              },
              "fromcurrent": true,
              "mode": "immediate",
              "transition": {
               "duration": 0,
               "easing": "linear"
              }
             }
            ],
            "label": "2007-08",
            "method": "animate"
           },
           {
            "args": [
             [
              "2007-09"
             ],
             {
              "frame": {
               "duration": 0,
               "redraw": false
              },
              "fromcurrent": true,
              "mode": "immediate",
              "transition": {
               "duration": 0,
               "easing": "linear"
              }
             }
            ],
            "label": "2007-09",
            "method": "animate"
           },
           {
            "args": [
             [
              "2007-10"
             ],
             {
              "frame": {
               "duration": 0,
               "redraw": false
              },
              "fromcurrent": true,
              "mode": "immediate",
              "transition": {
               "duration": 0,
               "easing": "linear"
              }
             }
            ],
            "label": "2007-10",
            "method": "animate"
           },
           {
            "args": [
             [
              "2007-11"
             ],
             {
              "frame": {
               "duration": 0,
               "redraw": false
              },
              "fromcurrent": true,
              "mode": "immediate",
              "transition": {
               "duration": 0,
               "easing": "linear"
              }
             }
            ],
            "label": "2007-11",
            "method": "animate"
           },
           {
            "args": [
             [
              "2007-12"
             ],
             {
              "frame": {
               "duration": 0,
               "redraw": false
              },
              "fromcurrent": true,
              "mode": "immediate",
              "transition": {
               "duration": 0,
               "easing": "linear"
              }
             }
            ],
            "label": "2007-12",
            "method": "animate"
           },
           {
            "args": [
             [
              "2008-01"
             ],
             {
              "frame": {
               "duration": 0,
               "redraw": false
              },
              "fromcurrent": true,
              "mode": "immediate",
              "transition": {
               "duration": 0,
               "easing": "linear"
              }
             }
            ],
            "label": "2008-01",
            "method": "animate"
           },
           {
            "args": [
             [
              "2008-02"
             ],
             {
              "frame": {
               "duration": 0,
               "redraw": false
              },
              "fromcurrent": true,
              "mode": "immediate",
              "transition": {
               "duration": 0,
               "easing": "linear"
              }
             }
            ],
            "label": "2008-02",
            "method": "animate"
           },
           {
            "args": [
             [
              "2008-03"
             ],
             {
              "frame": {
               "duration": 0,
               "redraw": false
              },
              "fromcurrent": true,
              "mode": "immediate",
              "transition": {
               "duration": 0,
               "easing": "linear"
              }
             }
            ],
            "label": "2008-03",
            "method": "animate"
           },
           {
            "args": [
             [
              "2008-04"
             ],
             {
              "frame": {
               "duration": 0,
               "redraw": false
              },
              "fromcurrent": true,
              "mode": "immediate",
              "transition": {
               "duration": 0,
               "easing": "linear"
              }
             }
            ],
            "label": "2008-04",
            "method": "animate"
           },
           {
            "args": [
             [
              "2008-05"
             ],
             {
              "frame": {
               "duration": 0,
               "redraw": false
              },
              "fromcurrent": true,
              "mode": "immediate",
              "transition": {
               "duration": 0,
               "easing": "linear"
              }
             }
            ],
            "label": "2008-05",
            "method": "animate"
           },
           {
            "args": [
             [
              "2008-06"
             ],
             {
              "frame": {
               "duration": 0,
               "redraw": false
              },
              "fromcurrent": true,
              "mode": "immediate",
              "transition": {
               "duration": 0,
               "easing": "linear"
              }
             }
            ],
            "label": "2008-06",
            "method": "animate"
           },
           {
            "args": [
             [
              "2008-07"
             ],
             {
              "frame": {
               "duration": 0,
               "redraw": false
              },
              "fromcurrent": true,
              "mode": "immediate",
              "transition": {
               "duration": 0,
               "easing": "linear"
              }
             }
            ],
            "label": "2008-07",
            "method": "animate"
           },
           {
            "args": [
             [
              "2008-08"
             ],
             {
              "frame": {
               "duration": 0,
               "redraw": false
              },
              "fromcurrent": true,
              "mode": "immediate",
              "transition": {
               "duration": 0,
               "easing": "linear"
              }
             }
            ],
            "label": "2008-08",
            "method": "animate"
           },
           {
            "args": [
             [
              "2008-09"
             ],
             {
              "frame": {
               "duration": 0,
               "redraw": false
              },
              "fromcurrent": true,
              "mode": "immediate",
              "transition": {
               "duration": 0,
               "easing": "linear"
              }
             }
            ],
            "label": "2008-09",
            "method": "animate"
           },
           {
            "args": [
             [
              "2008-10"
             ],
             {
              "frame": {
               "duration": 0,
               "redraw": false
              },
              "fromcurrent": true,
              "mode": "immediate",
              "transition": {
               "duration": 0,
               "easing": "linear"
              }
             }
            ],
            "label": "2008-10",
            "method": "animate"
           },
           {
            "args": [
             [
              "2008-11"
             ],
             {
              "frame": {
               "duration": 0,
               "redraw": false
              },
              "fromcurrent": true,
              "mode": "immediate",
              "transition": {
               "duration": 0,
               "easing": "linear"
              }
             }
            ],
            "label": "2008-11",
            "method": "animate"
           },
           {
            "args": [
             [
              "2008-12"
             ],
             {
              "frame": {
               "duration": 0,
               "redraw": false
              },
              "fromcurrent": true,
              "mode": "immediate",
              "transition": {
               "duration": 0,
               "easing": "linear"
              }
             }
            ],
            "label": "2008-12",
            "method": "animate"
           },
           {
            "args": [
             [
              "2009-01"
             ],
             {
              "frame": {
               "duration": 0,
               "redraw": false
              },
              "fromcurrent": true,
              "mode": "immediate",
              "transition": {
               "duration": 0,
               "easing": "linear"
              }
             }
            ],
            "label": "2009-01",
            "method": "animate"
           },
           {
            "args": [
             [
              "2009-02"
             ],
             {
              "frame": {
               "duration": 0,
               "redraw": false
              },
              "fromcurrent": true,
              "mode": "immediate",
              "transition": {
               "duration": 0,
               "easing": "linear"
              }
             }
            ],
            "label": "2009-02",
            "method": "animate"
           },
           {
            "args": [
             [
              "2009-03"
             ],
             {
              "frame": {
               "duration": 0,
               "redraw": false
              },
              "fromcurrent": true,
              "mode": "immediate",
              "transition": {
               "duration": 0,
               "easing": "linear"
              }
             }
            ],
            "label": "2009-03",
            "method": "animate"
           },
           {
            "args": [
             [
              "2009-04"
             ],
             {
              "frame": {
               "duration": 0,
               "redraw": false
              },
              "fromcurrent": true,
              "mode": "immediate",
              "transition": {
               "duration": 0,
               "easing": "linear"
              }
             }
            ],
            "label": "2009-04",
            "method": "animate"
           },
           {
            "args": [
             [
              "2009-05"
             ],
             {
              "frame": {
               "duration": 0,
               "redraw": false
              },
              "fromcurrent": true,
              "mode": "immediate",
              "transition": {
               "duration": 0,
               "easing": "linear"
              }
             }
            ],
            "label": "2009-05",
            "method": "animate"
           },
           {
            "args": [
             [
              "2009-06"
             ],
             {
              "frame": {
               "duration": 0,
               "redraw": false
              },
              "fromcurrent": true,
              "mode": "immediate",
              "transition": {
               "duration": 0,
               "easing": "linear"
              }
             }
            ],
            "label": "2009-06",
            "method": "animate"
           },
           {
            "args": [
             [
              "2009-07"
             ],
             {
              "frame": {
               "duration": 0,
               "redraw": false
              },
              "fromcurrent": true,
              "mode": "immediate",
              "transition": {
               "duration": 0,
               "easing": "linear"
              }
             }
            ],
            "label": "2009-07",
            "method": "animate"
           },
           {
            "args": [
             [
              "2009-08"
             ],
             {
              "frame": {
               "duration": 0,
               "redraw": false
              },
              "fromcurrent": true,
              "mode": "immediate",
              "transition": {
               "duration": 0,
               "easing": "linear"
              }
             }
            ],
            "label": "2009-08",
            "method": "animate"
           },
           {
            "args": [
             [
              "2009-09"
             ],
             {
              "frame": {
               "duration": 0,
               "redraw": false
              },
              "fromcurrent": true,
              "mode": "immediate",
              "transition": {
               "duration": 0,
               "easing": "linear"
              }
             }
            ],
            "label": "2009-09",
            "method": "animate"
           },
           {
            "args": [
             [
              "2009-10"
             ],
             {
              "frame": {
               "duration": 0,
               "redraw": false
              },
              "fromcurrent": true,
              "mode": "immediate",
              "transition": {
               "duration": 0,
               "easing": "linear"
              }
             }
            ],
            "label": "2009-10",
            "method": "animate"
           },
           {
            "args": [
             [
              "2009-11"
             ],
             {
              "frame": {
               "duration": 0,
               "redraw": false
              },
              "fromcurrent": true,
              "mode": "immediate",
              "transition": {
               "duration": 0,
               "easing": "linear"
              }
             }
            ],
            "label": "2009-11",
            "method": "animate"
           },
           {
            "args": [
             [
              "2009-12"
             ],
             {
              "frame": {
               "duration": 0,
               "redraw": false
              },
              "fromcurrent": true,
              "mode": "immediate",
              "transition": {
               "duration": 0,
               "easing": "linear"
              }
             }
            ],
            "label": "2009-12",
            "method": "animate"
           },
           {
            "args": [
             [
              "2010-01"
             ],
             {
              "frame": {
               "duration": 0,
               "redraw": false
              },
              "fromcurrent": true,
              "mode": "immediate",
              "transition": {
               "duration": 0,
               "easing": "linear"
              }
             }
            ],
            "label": "2010-01",
            "method": "animate"
           },
           {
            "args": [
             [
              "2010-02"
             ],
             {
              "frame": {
               "duration": 0,
               "redraw": false
              },
              "fromcurrent": true,
              "mode": "immediate",
              "transition": {
               "duration": 0,
               "easing": "linear"
              }
             }
            ],
            "label": "2010-02",
            "method": "animate"
           },
           {
            "args": [
             [
              "2010-03"
             ],
             {
              "frame": {
               "duration": 0,
               "redraw": false
              },
              "fromcurrent": true,
              "mode": "immediate",
              "transition": {
               "duration": 0,
               "easing": "linear"
              }
             }
            ],
            "label": "2010-03",
            "method": "animate"
           },
           {
            "args": [
             [
              "2010-04"
             ],
             {
              "frame": {
               "duration": 0,
               "redraw": false
              },
              "fromcurrent": true,
              "mode": "immediate",
              "transition": {
               "duration": 0,
               "easing": "linear"
              }
             }
            ],
            "label": "2010-04",
            "method": "animate"
           },
           {
            "args": [
             [
              "2010-05"
             ],
             {
              "frame": {
               "duration": 0,
               "redraw": false
              },
              "fromcurrent": true,
              "mode": "immediate",
              "transition": {
               "duration": 0,
               "easing": "linear"
              }
             }
            ],
            "label": "2010-05",
            "method": "animate"
           },
           {
            "args": [
             [
              "2010-06"
             ],
             {
              "frame": {
               "duration": 0,
               "redraw": false
              },
              "fromcurrent": true,
              "mode": "immediate",
              "transition": {
               "duration": 0,
               "easing": "linear"
              }
             }
            ],
            "label": "2010-06",
            "method": "animate"
           },
           {
            "args": [
             [
              "2010-07"
             ],
             {
              "frame": {
               "duration": 0,
               "redraw": false
              },
              "fromcurrent": true,
              "mode": "immediate",
              "transition": {
               "duration": 0,
               "easing": "linear"
              }
             }
            ],
            "label": "2010-07",
            "method": "animate"
           },
           {
            "args": [
             [
              "2010-08"
             ],
             {
              "frame": {
               "duration": 0,
               "redraw": false
              },
              "fromcurrent": true,
              "mode": "immediate",
              "transition": {
               "duration": 0,
               "easing": "linear"
              }
             }
            ],
            "label": "2010-08",
            "method": "animate"
           },
           {
            "args": [
             [
              "2010-09"
             ],
             {
              "frame": {
               "duration": 0,
               "redraw": false
              },
              "fromcurrent": true,
              "mode": "immediate",
              "transition": {
               "duration": 0,
               "easing": "linear"
              }
             }
            ],
            "label": "2010-09",
            "method": "animate"
           },
           {
            "args": [
             [
              "2010-10"
             ],
             {
              "frame": {
               "duration": 0,
               "redraw": false
              },
              "fromcurrent": true,
              "mode": "immediate",
              "transition": {
               "duration": 0,
               "easing": "linear"
              }
             }
            ],
            "label": "2010-10",
            "method": "animate"
           },
           {
            "args": [
             [
              "2010-11"
             ],
             {
              "frame": {
               "duration": 0,
               "redraw": false
              },
              "fromcurrent": true,
              "mode": "immediate",
              "transition": {
               "duration": 0,
               "easing": "linear"
              }
             }
            ],
            "label": "2010-11",
            "method": "animate"
           },
           {
            "args": [
             [
              "2010-12"
             ],
             {
              "frame": {
               "duration": 0,
               "redraw": false
              },
              "fromcurrent": true,
              "mode": "immediate",
              "transition": {
               "duration": 0,
               "easing": "linear"
              }
             }
            ],
            "label": "2010-12",
            "method": "animate"
           },
           {
            "args": [
             [
              "2011-01"
             ],
             {
              "frame": {
               "duration": 0,
               "redraw": false
              },
              "fromcurrent": true,
              "mode": "immediate",
              "transition": {
               "duration": 0,
               "easing": "linear"
              }
             }
            ],
            "label": "2011-01",
            "method": "animate"
           },
           {
            "args": [
             [
              "2011-02"
             ],
             {
              "frame": {
               "duration": 0,
               "redraw": false
              },
              "fromcurrent": true,
              "mode": "immediate",
              "transition": {
               "duration": 0,
               "easing": "linear"
              }
             }
            ],
            "label": "2011-02",
            "method": "animate"
           },
           {
            "args": [
             [
              "2011-03"
             ],
             {
              "frame": {
               "duration": 0,
               "redraw": false
              },
              "fromcurrent": true,
              "mode": "immediate",
              "transition": {
               "duration": 0,
               "easing": "linear"
              }
             }
            ],
            "label": "2011-03",
            "method": "animate"
           },
           {
            "args": [
             [
              "2011-04"
             ],
             {
              "frame": {
               "duration": 0,
               "redraw": false
              },
              "fromcurrent": true,
              "mode": "immediate",
              "transition": {
               "duration": 0,
               "easing": "linear"
              }
             }
            ],
            "label": "2011-04",
            "method": "animate"
           },
           {
            "args": [
             [
              "2011-05"
             ],
             {
              "frame": {
               "duration": 0,
               "redraw": false
              },
              "fromcurrent": true,
              "mode": "immediate",
              "transition": {
               "duration": 0,
               "easing": "linear"
              }
             }
            ],
            "label": "2011-05",
            "method": "animate"
           },
           {
            "args": [
             [
              "2011-06"
             ],
             {
              "frame": {
               "duration": 0,
               "redraw": false
              },
              "fromcurrent": true,
              "mode": "immediate",
              "transition": {
               "duration": 0,
               "easing": "linear"
              }
             }
            ],
            "label": "2011-06",
            "method": "animate"
           },
           {
            "args": [
             [
              "2011-07"
             ],
             {
              "frame": {
               "duration": 0,
               "redraw": false
              },
              "fromcurrent": true,
              "mode": "immediate",
              "transition": {
               "duration": 0,
               "easing": "linear"
              }
             }
            ],
            "label": "2011-07",
            "method": "animate"
           },
           {
            "args": [
             [
              "2011-08"
             ],
             {
              "frame": {
               "duration": 0,
               "redraw": false
              },
              "fromcurrent": true,
              "mode": "immediate",
              "transition": {
               "duration": 0,
               "easing": "linear"
              }
             }
            ],
            "label": "2011-08",
            "method": "animate"
           },
           {
            "args": [
             [
              "2011-09"
             ],
             {
              "frame": {
               "duration": 0,
               "redraw": false
              },
              "fromcurrent": true,
              "mode": "immediate",
              "transition": {
               "duration": 0,
               "easing": "linear"
              }
             }
            ],
            "label": "2011-09",
            "method": "animate"
           },
           {
            "args": [
             [
              "2011-10"
             ],
             {
              "frame": {
               "duration": 0,
               "redraw": false
              },
              "fromcurrent": true,
              "mode": "immediate",
              "transition": {
               "duration": 0,
               "easing": "linear"
              }
             }
            ],
            "label": "2011-10",
            "method": "animate"
           },
           {
            "args": [
             [
              "2011-11"
             ],
             {
              "frame": {
               "duration": 0,
               "redraw": false
              },
              "fromcurrent": true,
              "mode": "immediate",
              "transition": {
               "duration": 0,
               "easing": "linear"
              }
             }
            ],
            "label": "2011-11",
            "method": "animate"
           },
           {
            "args": [
             [
              "2011-12"
             ],
             {
              "frame": {
               "duration": 0,
               "redraw": false
              },
              "fromcurrent": true,
              "mode": "immediate",
              "transition": {
               "duration": 0,
               "easing": "linear"
              }
             }
            ],
            "label": "2011-12",
            "method": "animate"
           },
           {
            "args": [
             [
              "2012-01"
             ],
             {
              "frame": {
               "duration": 0,
               "redraw": false
              },
              "fromcurrent": true,
              "mode": "immediate",
              "transition": {
               "duration": 0,
               "easing": "linear"
              }
             }
            ],
            "label": "2012-01",
            "method": "animate"
           },
           {
            "args": [
             [
              "2012-02"
             ],
             {
              "frame": {
               "duration": 0,
               "redraw": false
              },
              "fromcurrent": true,
              "mode": "immediate",
              "transition": {
               "duration": 0,
               "easing": "linear"
              }
             }
            ],
            "label": "2012-02",
            "method": "animate"
           },
           {
            "args": [
             [
              "2012-03"
             ],
             {
              "frame": {
               "duration": 0,
               "redraw": false
              },
              "fromcurrent": true,
              "mode": "immediate",
              "transition": {
               "duration": 0,
               "easing": "linear"
              }
             }
            ],
            "label": "2012-03",
            "method": "animate"
           },
           {
            "args": [
             [
              "2012-04"
             ],
             {
              "frame": {
               "duration": 0,
               "redraw": false
              },
              "fromcurrent": true,
              "mode": "immediate",
              "transition": {
               "duration": 0,
               "easing": "linear"
              }
             }
            ],
            "label": "2012-04",
            "method": "animate"
           },
           {
            "args": [
             [
              "2012-05"
             ],
             {
              "frame": {
               "duration": 0,
               "redraw": false
              },
              "fromcurrent": true,
              "mode": "immediate",
              "transition": {
               "duration": 0,
               "easing": "linear"
              }
             }
            ],
            "label": "2012-05",
            "method": "animate"
           },
           {
            "args": [
             [
              "2012-06"
             ],
             {
              "frame": {
               "duration": 0,
               "redraw": false
              },
              "fromcurrent": true,
              "mode": "immediate",
              "transition": {
               "duration": 0,
               "easing": "linear"
              }
             }
            ],
            "label": "2012-06",
            "method": "animate"
           },
           {
            "args": [
             [
              "2012-07"
             ],
             {
              "frame": {
               "duration": 0,
               "redraw": false
              },
              "fromcurrent": true,
              "mode": "immediate",
              "transition": {
               "duration": 0,
               "easing": "linear"
              }
             }
            ],
            "label": "2012-07",
            "method": "animate"
           },
           {
            "args": [
             [
              "2012-08"
             ],
             {
              "frame": {
               "duration": 0,
               "redraw": false
              },
              "fromcurrent": true,
              "mode": "immediate",
              "transition": {
               "duration": 0,
               "easing": "linear"
              }
             }
            ],
            "label": "2012-08",
            "method": "animate"
           },
           {
            "args": [
             [
              "2012-09"
             ],
             {
              "frame": {
               "duration": 0,
               "redraw": false
              },
              "fromcurrent": true,
              "mode": "immediate",
              "transition": {
               "duration": 0,
               "easing": "linear"
              }
             }
            ],
            "label": "2012-09",
            "method": "animate"
           },
           {
            "args": [
             [
              "2012-10"
             ],
             {
              "frame": {
               "duration": 0,
               "redraw": false
              },
              "fromcurrent": true,
              "mode": "immediate",
              "transition": {
               "duration": 0,
               "easing": "linear"
              }
             }
            ],
            "label": "2012-10",
            "method": "animate"
           },
           {
            "args": [
             [
              "2012-11"
             ],
             {
              "frame": {
               "duration": 0,
               "redraw": false
              },
              "fromcurrent": true,
              "mode": "immediate",
              "transition": {
               "duration": 0,
               "easing": "linear"
              }
             }
            ],
            "label": "2012-11",
            "method": "animate"
           },
           {
            "args": [
             [
              "2012-12"
             ],
             {
              "frame": {
               "duration": 0,
               "redraw": false
              },
              "fromcurrent": true,
              "mode": "immediate",
              "transition": {
               "duration": 0,
               "easing": "linear"
              }
             }
            ],
            "label": "2012-12",
            "method": "animate"
           },
           {
            "args": [
             [
              "2013-01"
             ],
             {
              "frame": {
               "duration": 0,
               "redraw": false
              },
              "fromcurrent": true,
              "mode": "immediate",
              "transition": {
               "duration": 0,
               "easing": "linear"
              }
             }
            ],
            "label": "2013-01",
            "method": "animate"
           },
           {
            "args": [
             [
              "2013-02"
             ],
             {
              "frame": {
               "duration": 0,
               "redraw": false
              },
              "fromcurrent": true,
              "mode": "immediate",
              "transition": {
               "duration": 0,
               "easing": "linear"
              }
             }
            ],
            "label": "2013-02",
            "method": "animate"
           },
           {
            "args": [
             [
              "2013-03"
             ],
             {
              "frame": {
               "duration": 0,
               "redraw": false
              },
              "fromcurrent": true,
              "mode": "immediate",
              "transition": {
               "duration": 0,
               "easing": "linear"
              }
             }
            ],
            "label": "2013-03",
            "method": "animate"
           },
           {
            "args": [
             [
              "2013-04"
             ],
             {
              "frame": {
               "duration": 0,
               "redraw": false
              },
              "fromcurrent": true,
              "mode": "immediate",
              "transition": {
               "duration": 0,
               "easing": "linear"
              }
             }
            ],
            "label": "2013-04",
            "method": "animate"
           },
           {
            "args": [
             [
              "2013-05"
             ],
             {
              "frame": {
               "duration": 0,
               "redraw": false
              },
              "fromcurrent": true,
              "mode": "immediate",
              "transition": {
               "duration": 0,
               "easing": "linear"
              }
             }
            ],
            "label": "2013-05",
            "method": "animate"
           },
           {
            "args": [
             [
              "2013-06"
             ],
             {
              "frame": {
               "duration": 0,
               "redraw": false
              },
              "fromcurrent": true,
              "mode": "immediate",
              "transition": {
               "duration": 0,
               "easing": "linear"
              }
             }
            ],
            "label": "2013-06",
            "method": "animate"
           },
           {
            "args": [
             [
              "2013-07"
             ],
             {
              "frame": {
               "duration": 0,
               "redraw": false
              },
              "fromcurrent": true,
              "mode": "immediate",
              "transition": {
               "duration": 0,
               "easing": "linear"
              }
             }
            ],
            "label": "2013-07",
            "method": "animate"
           },
           {
            "args": [
             [
              "2013-08"
             ],
             {
              "frame": {
               "duration": 0,
               "redraw": false
              },
              "fromcurrent": true,
              "mode": "immediate",
              "transition": {
               "duration": 0,
               "easing": "linear"
              }
             }
            ],
            "label": "2013-08",
            "method": "animate"
           },
           {
            "args": [
             [
              "2013-09"
             ],
             {
              "frame": {
               "duration": 0,
               "redraw": false
              },
              "fromcurrent": true,
              "mode": "immediate",
              "transition": {
               "duration": 0,
               "easing": "linear"
              }
             }
            ],
            "label": "2013-09",
            "method": "animate"
           },
           {
            "args": [
             [
              "2013-10"
             ],
             {
              "frame": {
               "duration": 0,
               "redraw": false
              },
              "fromcurrent": true,
              "mode": "immediate",
              "transition": {
               "duration": 0,
               "easing": "linear"
              }
             }
            ],
            "label": "2013-10",
            "method": "animate"
           },
           {
            "args": [
             [
              "2013-11"
             ],
             {
              "frame": {
               "duration": 0,
               "redraw": false
              },
              "fromcurrent": true,
              "mode": "immediate",
              "transition": {
               "duration": 0,
               "easing": "linear"
              }
             }
            ],
            "label": "2013-11",
            "method": "animate"
           },
           {
            "args": [
             [
              "2013-12"
             ],
             {
              "frame": {
               "duration": 0,
               "redraw": false
              },
              "fromcurrent": true,
              "mode": "immediate",
              "transition": {
               "duration": 0,
               "easing": "linear"
              }
             }
            ],
            "label": "2013-12",
            "method": "animate"
           },
           {
            "args": [
             [
              "2014-01"
             ],
             {
              "frame": {
               "duration": 0,
               "redraw": false
              },
              "fromcurrent": true,
              "mode": "immediate",
              "transition": {
               "duration": 0,
               "easing": "linear"
              }
             }
            ],
            "label": "2014-01",
            "method": "animate"
           },
           {
            "args": [
             [
              "2014-02"
             ],
             {
              "frame": {
               "duration": 0,
               "redraw": false
              },
              "fromcurrent": true,
              "mode": "immediate",
              "transition": {
               "duration": 0,
               "easing": "linear"
              }
             }
            ],
            "label": "2014-02",
            "method": "animate"
           },
           {
            "args": [
             [
              "2014-03"
             ],
             {
              "frame": {
               "duration": 0,
               "redraw": false
              },
              "fromcurrent": true,
              "mode": "immediate",
              "transition": {
               "duration": 0,
               "easing": "linear"
              }
             }
            ],
            "label": "2014-03",
            "method": "animate"
           },
           {
            "args": [
             [
              "2014-04"
             ],
             {
              "frame": {
               "duration": 0,
               "redraw": false
              },
              "fromcurrent": true,
              "mode": "immediate",
              "transition": {
               "duration": 0,
               "easing": "linear"
              }
             }
            ],
            "label": "2014-04",
            "method": "animate"
           },
           {
            "args": [
             [
              "2014-05"
             ],
             {
              "frame": {
               "duration": 0,
               "redraw": false
              },
              "fromcurrent": true,
              "mode": "immediate",
              "transition": {
               "duration": 0,
               "easing": "linear"
              }
             }
            ],
            "label": "2014-05",
            "method": "animate"
           },
           {
            "args": [
             [
              "2014-06"
             ],
             {
              "frame": {
               "duration": 0,
               "redraw": false
              },
              "fromcurrent": true,
              "mode": "immediate",
              "transition": {
               "duration": 0,
               "easing": "linear"
              }
             }
            ],
            "label": "2014-06",
            "method": "animate"
           },
           {
            "args": [
             [
              "2014-07"
             ],
             {
              "frame": {
               "duration": 0,
               "redraw": false
              },
              "fromcurrent": true,
              "mode": "immediate",
              "transition": {
               "duration": 0,
               "easing": "linear"
              }
             }
            ],
            "label": "2014-07",
            "method": "animate"
           },
           {
            "args": [
             [
              "2014-08"
             ],
             {
              "frame": {
               "duration": 0,
               "redraw": false
              },
              "fromcurrent": true,
              "mode": "immediate",
              "transition": {
               "duration": 0,
               "easing": "linear"
              }
             }
            ],
            "label": "2014-08",
            "method": "animate"
           },
           {
            "args": [
             [
              "2014-09"
             ],
             {
              "frame": {
               "duration": 0,
               "redraw": false
              },
              "fromcurrent": true,
              "mode": "immediate",
              "transition": {
               "duration": 0,
               "easing": "linear"
              }
             }
            ],
            "label": "2014-09",
            "method": "animate"
           },
           {
            "args": [
             [
              "2014-10"
             ],
             {
              "frame": {
               "duration": 0,
               "redraw": false
              },
              "fromcurrent": true,
              "mode": "immediate",
              "transition": {
               "duration": 0,
               "easing": "linear"
              }
             }
            ],
            "label": "2014-10",
            "method": "animate"
           },
           {
            "args": [
             [
              "2014-11"
             ],
             {
              "frame": {
               "duration": 0,
               "redraw": false
              },
              "fromcurrent": true,
              "mode": "immediate",
              "transition": {
               "duration": 0,
               "easing": "linear"
              }
             }
            ],
            "label": "2014-11",
            "method": "animate"
           },
           {
            "args": [
             [
              "2014-12"
             ],
             {
              "frame": {
               "duration": 0,
               "redraw": false
              },
              "fromcurrent": true,
              "mode": "immediate",
              "transition": {
               "duration": 0,
               "easing": "linear"
              }
             }
            ],
            "label": "2014-12",
            "method": "animate"
           },
           {
            "args": [
             [
              "2015-01"
             ],
             {
              "frame": {
               "duration": 0,
               "redraw": false
              },
              "fromcurrent": true,
              "mode": "immediate",
              "transition": {
               "duration": 0,
               "easing": "linear"
              }
             }
            ],
            "label": "2015-01",
            "method": "animate"
           },
           {
            "args": [
             [
              "2015-02"
             ],
             {
              "frame": {
               "duration": 0,
               "redraw": false
              },
              "fromcurrent": true,
              "mode": "immediate",
              "transition": {
               "duration": 0,
               "easing": "linear"
              }
             }
            ],
            "label": "2015-02",
            "method": "animate"
           },
           {
            "args": [
             [
              "2015-03"
             ],
             {
              "frame": {
               "duration": 0,
               "redraw": false
              },
              "fromcurrent": true,
              "mode": "immediate",
              "transition": {
               "duration": 0,
               "easing": "linear"
              }
             }
            ],
            "label": "2015-03",
            "method": "animate"
           },
           {
            "args": [
             [
              "2015-04"
             ],
             {
              "frame": {
               "duration": 0,
               "redraw": false
              },
              "fromcurrent": true,
              "mode": "immediate",
              "transition": {
               "duration": 0,
               "easing": "linear"
              }
             }
            ],
            "label": "2015-04",
            "method": "animate"
           },
           {
            "args": [
             [
              "2015-05"
             ],
             {
              "frame": {
               "duration": 0,
               "redraw": false
              },
              "fromcurrent": true,
              "mode": "immediate",
              "transition": {
               "duration": 0,
               "easing": "linear"
              }
             }
            ],
            "label": "2015-05",
            "method": "animate"
           },
           {
            "args": [
             [
              "2015-06"
             ],
             {
              "frame": {
               "duration": 0,
               "redraw": false
              },
              "fromcurrent": true,
              "mode": "immediate",
              "transition": {
               "duration": 0,
               "easing": "linear"
              }
             }
            ],
            "label": "2015-06",
            "method": "animate"
           },
           {
            "args": [
             [
              "2015-07"
             ],
             {
              "frame": {
               "duration": 0,
               "redraw": false
              },
              "fromcurrent": true,
              "mode": "immediate",
              "transition": {
               "duration": 0,
               "easing": "linear"
              }
             }
            ],
            "label": "2015-07",
            "method": "animate"
           },
           {
            "args": [
             [
              "2015-08"
             ],
             {
              "frame": {
               "duration": 0,
               "redraw": false
              },
              "fromcurrent": true,
              "mode": "immediate",
              "transition": {
               "duration": 0,
               "easing": "linear"
              }
             }
            ],
            "label": "2015-08",
            "method": "animate"
           },
           {
            "args": [
             [
              "2015-09"
             ],
             {
              "frame": {
               "duration": 0,
               "redraw": false
              },
              "fromcurrent": true,
              "mode": "immediate",
              "transition": {
               "duration": 0,
               "easing": "linear"
              }
             }
            ],
            "label": "2015-09",
            "method": "animate"
           },
           {
            "args": [
             [
              "2015-10"
             ],
             {
              "frame": {
               "duration": 0,
               "redraw": false
              },
              "fromcurrent": true,
              "mode": "immediate",
              "transition": {
               "duration": 0,
               "easing": "linear"
              }
             }
            ],
            "label": "2015-10",
            "method": "animate"
           },
           {
            "args": [
             [
              "2015-11"
             ],
             {
              "frame": {
               "duration": 0,
               "redraw": false
              },
              "fromcurrent": true,
              "mode": "immediate",
              "transition": {
               "duration": 0,
               "easing": "linear"
              }
             }
            ],
            "label": "2015-11",
            "method": "animate"
           },
           {
            "args": [
             [
              "2015-12"
             ],
             {
              "frame": {
               "duration": 0,
               "redraw": false
              },
              "fromcurrent": true,
              "mode": "immediate",
              "transition": {
               "duration": 0,
               "easing": "linear"
              }
             }
            ],
            "label": "2015-12",
            "method": "animate"
           },
           {
            "args": [
             [
              "2016-01"
             ],
             {
              "frame": {
               "duration": 0,
               "redraw": false
              },
              "fromcurrent": true,
              "mode": "immediate",
              "transition": {
               "duration": 0,
               "easing": "linear"
              }
             }
            ],
            "label": "2016-01",
            "method": "animate"
           },
           {
            "args": [
             [
              "2016-02"
             ],
             {
              "frame": {
               "duration": 0,
               "redraw": false
              },
              "fromcurrent": true,
              "mode": "immediate",
              "transition": {
               "duration": 0,
               "easing": "linear"
              }
             }
            ],
            "label": "2016-02",
            "method": "animate"
           },
           {
            "args": [
             [
              "2016-03"
             ],
             {
              "frame": {
               "duration": 0,
               "redraw": false
              },
              "fromcurrent": true,
              "mode": "immediate",
              "transition": {
               "duration": 0,
               "easing": "linear"
              }
             }
            ],
            "label": "2016-03",
            "method": "animate"
           },
           {
            "args": [
             [
              "2016-04"
             ],
             {
              "frame": {
               "duration": 0,
               "redraw": false
              },
              "fromcurrent": true,
              "mode": "immediate",
              "transition": {
               "duration": 0,
               "easing": "linear"
              }
             }
            ],
            "label": "2016-04",
            "method": "animate"
           },
           {
            "args": [
             [
              "2016-05"
             ],
             {
              "frame": {
               "duration": 0,
               "redraw": false
              },
              "fromcurrent": true,
              "mode": "immediate",
              "transition": {
               "duration": 0,
               "easing": "linear"
              }
             }
            ],
            "label": "2016-05",
            "method": "animate"
           },
           {
            "args": [
             [
              "2016-06"
             ],
             {
              "frame": {
               "duration": 0,
               "redraw": false
              },
              "fromcurrent": true,
              "mode": "immediate",
              "transition": {
               "duration": 0,
               "easing": "linear"
              }
             }
            ],
            "label": "2016-06",
            "method": "animate"
           },
           {
            "args": [
             [
              "2016-07"
             ],
             {
              "frame": {
               "duration": 0,
               "redraw": false
              },
              "fromcurrent": true,
              "mode": "immediate",
              "transition": {
               "duration": 0,
               "easing": "linear"
              }
             }
            ],
            "label": "2016-07",
            "method": "animate"
           },
           {
            "args": [
             [
              "2016-08"
             ],
             {
              "frame": {
               "duration": 0,
               "redraw": false
              },
              "fromcurrent": true,
              "mode": "immediate",
              "transition": {
               "duration": 0,
               "easing": "linear"
              }
             }
            ],
            "label": "2016-08",
            "method": "animate"
           },
           {
            "args": [
             [
              "2016-09"
             ],
             {
              "frame": {
               "duration": 0,
               "redraw": false
              },
              "fromcurrent": true,
              "mode": "immediate",
              "transition": {
               "duration": 0,
               "easing": "linear"
              }
             }
            ],
            "label": "2016-09",
            "method": "animate"
           },
           {
            "args": [
             [
              "2016-10"
             ],
             {
              "frame": {
               "duration": 0,
               "redraw": false
              },
              "fromcurrent": true,
              "mode": "immediate",
              "transition": {
               "duration": 0,
               "easing": "linear"
              }
             }
            ],
            "label": "2016-10",
            "method": "animate"
           },
           {
            "args": [
             [
              "2016-11"
             ],
             {
              "frame": {
               "duration": 0,
               "redraw": false
              },
              "fromcurrent": true,
              "mode": "immediate",
              "transition": {
               "duration": 0,
               "easing": "linear"
              }
             }
            ],
            "label": "2016-11",
            "method": "animate"
           },
           {
            "args": [
             [
              "2016-12"
             ],
             {
              "frame": {
               "duration": 0,
               "redraw": false
              },
              "fromcurrent": true,
              "mode": "immediate",
              "transition": {
               "duration": 0,
               "easing": "linear"
              }
             }
            ],
            "label": "2016-12",
            "method": "animate"
           },
           {
            "args": [
             [
              "2017-01"
             ],
             {
              "frame": {
               "duration": 0,
               "redraw": false
              },
              "fromcurrent": true,
              "mode": "immediate",
              "transition": {
               "duration": 0,
               "easing": "linear"
              }
             }
            ],
            "label": "2017-01",
            "method": "animate"
           },
           {
            "args": [
             [
              "2017-02"
             ],
             {
              "frame": {
               "duration": 0,
               "redraw": false
              },
              "fromcurrent": true,
              "mode": "immediate",
              "transition": {
               "duration": 0,
               "easing": "linear"
              }
             }
            ],
            "label": "2017-02",
            "method": "animate"
           },
           {
            "args": [
             [
              "2017-03"
             ],
             {
              "frame": {
               "duration": 0,
               "redraw": false
              },
              "fromcurrent": true,
              "mode": "immediate",
              "transition": {
               "duration": 0,
               "easing": "linear"
              }
             }
            ],
            "label": "2017-03",
            "method": "animate"
           },
           {
            "args": [
             [
              "2017-04"
             ],
             {
              "frame": {
               "duration": 0,
               "redraw": false
              },
              "fromcurrent": true,
              "mode": "immediate",
              "transition": {
               "duration": 0,
               "easing": "linear"
              }
             }
            ],
            "label": "2017-04",
            "method": "animate"
           },
           {
            "args": [
             [
              "2017-05"
             ],
             {
              "frame": {
               "duration": 0,
               "redraw": false
              },
              "fromcurrent": true,
              "mode": "immediate",
              "transition": {
               "duration": 0,
               "easing": "linear"
              }
             }
            ],
            "label": "2017-05",
            "method": "animate"
           },
           {
            "args": [
             [
              "2017-06"
             ],
             {
              "frame": {
               "duration": 0,
               "redraw": false
              },
              "fromcurrent": true,
              "mode": "immediate",
              "transition": {
               "duration": 0,
               "easing": "linear"
              }
             }
            ],
            "label": "2017-06",
            "method": "animate"
           },
           {
            "args": [
             [
              "2017-07"
             ],
             {
              "frame": {
               "duration": 0,
               "redraw": false
              },
              "fromcurrent": true,
              "mode": "immediate",
              "transition": {
               "duration": 0,
               "easing": "linear"
              }
             }
            ],
            "label": "2017-07",
            "method": "animate"
           },
           {
            "args": [
             [
              "2017-08"
             ],
             {
              "frame": {
               "duration": 0,
               "redraw": false
              },
              "fromcurrent": true,
              "mode": "immediate",
              "transition": {
               "duration": 0,
               "easing": "linear"
              }
             }
            ],
            "label": "2017-08",
            "method": "animate"
           },
           {
            "args": [
             [
              "2017-09"
             ],
             {
              "frame": {
               "duration": 0,
               "redraw": false
              },
              "fromcurrent": true,
              "mode": "immediate",
              "transition": {
               "duration": 0,
               "easing": "linear"
              }
             }
            ],
            "label": "2017-09",
            "method": "animate"
           },
           {
            "args": [
             [
              "2017-10"
             ],
             {
              "frame": {
               "duration": 0,
               "redraw": false
              },
              "fromcurrent": true,
              "mode": "immediate",
              "transition": {
               "duration": 0,
               "easing": "linear"
              }
             }
            ],
            "label": "2017-10",
            "method": "animate"
           },
           {
            "args": [
             [
              "2017-11"
             ],
             {
              "frame": {
               "duration": 0,
               "redraw": false
              },
              "fromcurrent": true,
              "mode": "immediate",
              "transition": {
               "duration": 0,
               "easing": "linear"
              }
             }
            ],
            "label": "2017-11",
            "method": "animate"
           },
           {
            "args": [
             [
              "2017-12"
             ],
             {
              "frame": {
               "duration": 0,
               "redraw": false
              },
              "fromcurrent": true,
              "mode": "immediate",
              "transition": {
               "duration": 0,
               "easing": "linear"
              }
             }
            ],
            "label": "2017-12",
            "method": "animate"
           },
           {
            "args": [
             [
              "2018-01"
             ],
             {
              "frame": {
               "duration": 0,
               "redraw": false
              },
              "fromcurrent": true,
              "mode": "immediate",
              "transition": {
               "duration": 0,
               "easing": "linear"
              }
             }
            ],
            "label": "2018-01",
            "method": "animate"
           },
           {
            "args": [
             [
              "2018-02"
             ],
             {
              "frame": {
               "duration": 0,
               "redraw": false
              },
              "fromcurrent": true,
              "mode": "immediate",
              "transition": {
               "duration": 0,
               "easing": "linear"
              }
             }
            ],
            "label": "2018-02",
            "method": "animate"
           },
           {
            "args": [
             [
              "2018-03"
             ],
             {
              "frame": {
               "duration": 0,
               "redraw": false
              },
              "fromcurrent": true,
              "mode": "immediate",
              "transition": {
               "duration": 0,
               "easing": "linear"
              }
             }
            ],
            "label": "2018-03",
            "method": "animate"
           },
           {
            "args": [
             [
              "2018-04"
             ],
             {
              "frame": {
               "duration": 0,
               "redraw": false
              },
              "fromcurrent": true,
              "mode": "immediate",
              "transition": {
               "duration": 0,
               "easing": "linear"
              }
             }
            ],
            "label": "2018-04",
            "method": "animate"
           },
           {
            "args": [
             [
              "2018-05"
             ],
             {
              "frame": {
               "duration": 0,
               "redraw": false
              },
              "fromcurrent": true,
              "mode": "immediate",
              "transition": {
               "duration": 0,
               "easing": "linear"
              }
             }
            ],
            "label": "2018-05",
            "method": "animate"
           },
           {
            "args": [
             [
              "2018-06"
             ],
             {
              "frame": {
               "duration": 0,
               "redraw": false
              },
              "fromcurrent": true,
              "mode": "immediate",
              "transition": {
               "duration": 0,
               "easing": "linear"
              }
             }
            ],
            "label": "2018-06",
            "method": "animate"
           },
           {
            "args": [
             [
              "2018-07"
             ],
             {
              "frame": {
               "duration": 0,
               "redraw": false
              },
              "fromcurrent": true,
              "mode": "immediate",
              "transition": {
               "duration": 0,
               "easing": "linear"
              }
             }
            ],
            "label": "2018-07",
            "method": "animate"
           },
           {
            "args": [
             [
              "2018-08"
             ],
             {
              "frame": {
               "duration": 0,
               "redraw": false
              },
              "fromcurrent": true,
              "mode": "immediate",
              "transition": {
               "duration": 0,
               "easing": "linear"
              }
             }
            ],
            "label": "2018-08",
            "method": "animate"
           },
           {
            "args": [
             [
              "2018-09"
             ],
             {
              "frame": {
               "duration": 0,
               "redraw": false
              },
              "fromcurrent": true,
              "mode": "immediate",
              "transition": {
               "duration": 0,
               "easing": "linear"
              }
             }
            ],
            "label": "2018-09",
            "method": "animate"
           },
           {
            "args": [
             [
              "2018-10"
             ],
             {
              "frame": {
               "duration": 0,
               "redraw": false
              },
              "fromcurrent": true,
              "mode": "immediate",
              "transition": {
               "duration": 0,
               "easing": "linear"
              }
             }
            ],
            "label": "2018-10",
            "method": "animate"
           },
           {
            "args": [
             [
              "2018-11"
             ],
             {
              "frame": {
               "duration": 0,
               "redraw": false
              },
              "fromcurrent": true,
              "mode": "immediate",
              "transition": {
               "duration": 0,
               "easing": "linear"
              }
             }
            ],
            "label": "2018-11",
            "method": "animate"
           },
           {
            "args": [
             [
              "2018-12"
             ],
             {
              "frame": {
               "duration": 0,
               "redraw": false
              },
              "fromcurrent": true,
              "mode": "immediate",
              "transition": {
               "duration": 0,
               "easing": "linear"
              }
             }
            ],
            "label": "2018-12",
            "method": "animate"
           },
           {
            "args": [
             [
              "2019-01"
             ],
             {
              "frame": {
               "duration": 0,
               "redraw": false
              },
              "fromcurrent": true,
              "mode": "immediate",
              "transition": {
               "duration": 0,
               "easing": "linear"
              }
             }
            ],
            "label": "2019-01",
            "method": "animate"
           },
           {
            "args": [
             [
              "2019-02"
             ],
             {
              "frame": {
               "duration": 0,
               "redraw": false
              },
              "fromcurrent": true,
              "mode": "immediate",
              "transition": {
               "duration": 0,
               "easing": "linear"
              }
             }
            ],
            "label": "2019-02",
            "method": "animate"
           },
           {
            "args": [
             [
              "2019-03"
             ],
             {
              "frame": {
               "duration": 0,
               "redraw": false
              },
              "fromcurrent": true,
              "mode": "immediate",
              "transition": {
               "duration": 0,
               "easing": "linear"
              }
             }
            ],
            "label": "2019-03",
            "method": "animate"
           },
           {
            "args": [
             [
              "2019-04"
             ],
             {
              "frame": {
               "duration": 0,
               "redraw": false
              },
              "fromcurrent": true,
              "mode": "immediate",
              "transition": {
               "duration": 0,
               "easing": "linear"
              }
             }
            ],
            "label": "2019-04",
            "method": "animate"
           },
           {
            "args": [
             [
              "2019-05"
             ],
             {
              "frame": {
               "duration": 0,
               "redraw": false
              },
              "fromcurrent": true,
              "mode": "immediate",
              "transition": {
               "duration": 0,
               "easing": "linear"
              }
             }
            ],
            "label": "2019-05",
            "method": "animate"
           },
           {
            "args": [
             [
              "2019-06"
             ],
             {
              "frame": {
               "duration": 0,
               "redraw": false
              },
              "fromcurrent": true,
              "mode": "immediate",
              "transition": {
               "duration": 0,
               "easing": "linear"
              }
             }
            ],
            "label": "2019-06",
            "method": "animate"
           },
           {
            "args": [
             [
              "2019-07"
             ],
             {
              "frame": {
               "duration": 0,
               "redraw": false
              },
              "fromcurrent": true,
              "mode": "immediate",
              "transition": {
               "duration": 0,
               "easing": "linear"
              }
             }
            ],
            "label": "2019-07",
            "method": "animate"
           },
           {
            "args": [
             [
              "2019-08"
             ],
             {
              "frame": {
               "duration": 0,
               "redraw": false
              },
              "fromcurrent": true,
              "mode": "immediate",
              "transition": {
               "duration": 0,
               "easing": "linear"
              }
             }
            ],
            "label": "2019-08",
            "method": "animate"
           },
           {
            "args": [
             [
              "2019-09"
             ],
             {
              "frame": {
               "duration": 0,
               "redraw": false
              },
              "fromcurrent": true,
              "mode": "immediate",
              "transition": {
               "duration": 0,
               "easing": "linear"
              }
             }
            ],
            "label": "2019-09",
            "method": "animate"
           },
           {
            "args": [
             [
              "2019-10"
             ],
             {
              "frame": {
               "duration": 0,
               "redraw": false
              },
              "fromcurrent": true,
              "mode": "immediate",
              "transition": {
               "duration": 0,
               "easing": "linear"
              }
             }
            ],
            "label": "2019-10",
            "method": "animate"
           },
           {
            "args": [
             [
              "2019-11"
             ],
             {
              "frame": {
               "duration": 0,
               "redraw": false
              },
              "fromcurrent": true,
              "mode": "immediate",
              "transition": {
               "duration": 0,
               "easing": "linear"
              }
             }
            ],
            "label": "2019-11",
            "method": "animate"
           },
           {
            "args": [
             [
              "2019-12"
             ],
             {
              "frame": {
               "duration": 0,
               "redraw": false
              },
              "fromcurrent": true,
              "mode": "immediate",
              "transition": {
               "duration": 0,
               "easing": "linear"
              }
             }
            ],
            "label": "2019-12",
            "method": "animate"
           },
           {
            "args": [
             [
              "2020-01"
             ],
             {
              "frame": {
               "duration": 0,
               "redraw": false
              },
              "fromcurrent": true,
              "mode": "immediate",
              "transition": {
               "duration": 0,
               "easing": "linear"
              }
             }
            ],
            "label": "2020-01",
            "method": "animate"
           },
           {
            "args": [
             [
              "2020-02"
             ],
             {
              "frame": {
               "duration": 0,
               "redraw": false
              },
              "fromcurrent": true,
              "mode": "immediate",
              "transition": {
               "duration": 0,
               "easing": "linear"
              }
             }
            ],
            "label": "2020-02",
            "method": "animate"
           },
           {
            "args": [
             [
              "2020-03"
             ],
             {
              "frame": {
               "duration": 0,
               "redraw": false
              },
              "fromcurrent": true,
              "mode": "immediate",
              "transition": {
               "duration": 0,
               "easing": "linear"
              }
             }
            ],
            "label": "2020-03",
            "method": "animate"
           },
           {
            "args": [
             [
              "2020-04"
             ],
             {
              "frame": {
               "duration": 0,
               "redraw": false
              },
              "fromcurrent": true,
              "mode": "immediate",
              "transition": {
               "duration": 0,
               "easing": "linear"
              }
             }
            ],
            "label": "2020-04",
            "method": "animate"
           },
           {
            "args": [
             [
              "2020-05"
             ],
             {
              "frame": {
               "duration": 0,
               "redraw": false
              },
              "fromcurrent": true,
              "mode": "immediate",
              "transition": {
               "duration": 0,
               "easing": "linear"
              }
             }
            ],
            "label": "2020-05",
            "method": "animate"
           },
           {
            "args": [
             [
              "2020-06"
             ],
             {
              "frame": {
               "duration": 0,
               "redraw": false
              },
              "fromcurrent": true,
              "mode": "immediate",
              "transition": {
               "duration": 0,
               "easing": "linear"
              }
             }
            ],
            "label": "2020-06",
            "method": "animate"
           },
           {
            "args": [
             [
              "2020-07"
             ],
             {
              "frame": {
               "duration": 0,
               "redraw": false
              },
              "fromcurrent": true,
              "mode": "immediate",
              "transition": {
               "duration": 0,
               "easing": "linear"
              }
             }
            ],
            "label": "2020-07",
            "method": "animate"
           },
           {
            "args": [
             [
              "2020-08"
             ],
             {
              "frame": {
               "duration": 0,
               "redraw": false
              },
              "fromcurrent": true,
              "mode": "immediate",
              "transition": {
               "duration": 0,
               "easing": "linear"
              }
             }
            ],
            "label": "2020-08",
            "method": "animate"
           },
           {
            "args": [
             [
              "2020-09"
             ],
             {
              "frame": {
               "duration": 0,
               "redraw": false
              },
              "fromcurrent": true,
              "mode": "immediate",
              "transition": {
               "duration": 0,
               "easing": "linear"
              }
             }
            ],
            "label": "2020-09",
            "method": "animate"
           },
           {
            "args": [
             [
              "2020-10"
             ],
             {
              "frame": {
               "duration": 0,
               "redraw": false
              },
              "fromcurrent": true,
              "mode": "immediate",
              "transition": {
               "duration": 0,
               "easing": "linear"
              }
             }
            ],
            "label": "2020-10",
            "method": "animate"
           },
           {
            "args": [
             [
              "2020-11"
             ],
             {
              "frame": {
               "duration": 0,
               "redraw": false
              },
              "fromcurrent": true,
              "mode": "immediate",
              "transition": {
               "duration": 0,
               "easing": "linear"
              }
             }
            ],
            "label": "2020-11",
            "method": "animate"
           },
           {
            "args": [
             [
              "2020-12"
             ],
             {
              "frame": {
               "duration": 0,
               "redraw": false
              },
              "fromcurrent": true,
              "mode": "immediate",
              "transition": {
               "duration": 0,
               "easing": "linear"
              }
             }
            ],
            "label": "2020-12",
            "method": "animate"
           },
           {
            "args": [
             [
              "2021-01"
             ],
             {
              "frame": {
               "duration": 0,
               "redraw": false
              },
              "fromcurrent": true,
              "mode": "immediate",
              "transition": {
               "duration": 0,
               "easing": "linear"
              }
             }
            ],
            "label": "2021-01",
            "method": "animate"
           },
           {
            "args": [
             [
              "2021-02"
             ],
             {
              "frame": {
               "duration": 0,
               "redraw": false
              },
              "fromcurrent": true,
              "mode": "immediate",
              "transition": {
               "duration": 0,
               "easing": "linear"
              }
             }
            ],
            "label": "2021-02",
            "method": "animate"
           },
           {
            "args": [
             [
              "2021-03"
             ],
             {
              "frame": {
               "duration": 0,
               "redraw": false
              },
              "fromcurrent": true,
              "mode": "immediate",
              "transition": {
               "duration": 0,
               "easing": "linear"
              }
             }
            ],
            "label": "2021-03",
            "method": "animate"
           },
           {
            "args": [
             [
              "2021-04"
             ],
             {
              "frame": {
               "duration": 0,
               "redraw": false
              },
              "fromcurrent": true,
              "mode": "immediate",
              "transition": {
               "duration": 0,
               "easing": "linear"
              }
             }
            ],
            "label": "2021-04",
            "method": "animate"
           },
           {
            "args": [
             [
              "2021-05"
             ],
             {
              "frame": {
               "duration": 0,
               "redraw": false
              },
              "fromcurrent": true,
              "mode": "immediate",
              "transition": {
               "duration": 0,
               "easing": "linear"
              }
             }
            ],
            "label": "2021-05",
            "method": "animate"
           },
           {
            "args": [
             [
              "2021-06"
             ],
             {
              "frame": {
               "duration": 0,
               "redraw": false
              },
              "fromcurrent": true,
              "mode": "immediate",
              "transition": {
               "duration": 0,
               "easing": "linear"
              }
             }
            ],
            "label": "2021-06",
            "method": "animate"
           },
           {
            "args": [
             [
              "2021-07"
             ],
             {
              "frame": {
               "duration": 0,
               "redraw": false
              },
              "fromcurrent": true,
              "mode": "immediate",
              "transition": {
               "duration": 0,
               "easing": "linear"
              }
             }
            ],
            "label": "2021-07",
            "method": "animate"
           },
           {
            "args": [
             [
              "2021-08"
             ],
             {
              "frame": {
               "duration": 0,
               "redraw": false
              },
              "fromcurrent": true,
              "mode": "immediate",
              "transition": {
               "duration": 0,
               "easing": "linear"
              }
             }
            ],
            "label": "2021-08",
            "method": "animate"
           },
           {
            "args": [
             [
              "2021-09"
             ],
             {
              "frame": {
               "duration": 0,
               "redraw": false
              },
              "fromcurrent": true,
              "mode": "immediate",
              "transition": {
               "duration": 0,
               "easing": "linear"
              }
             }
            ],
            "label": "2021-09",
            "method": "animate"
           },
           {
            "args": [
             [
              "2021-10"
             ],
             {
              "frame": {
               "duration": 0,
               "redraw": false
              },
              "fromcurrent": true,
              "mode": "immediate",
              "transition": {
               "duration": 0,
               "easing": "linear"
              }
             }
            ],
            "label": "2021-10",
            "method": "animate"
           },
           {
            "args": [
             [
              "2021-11"
             ],
             {
              "frame": {
               "duration": 0,
               "redraw": false
              },
              "fromcurrent": true,
              "mode": "immediate",
              "transition": {
               "duration": 0,
               "easing": "linear"
              }
             }
            ],
            "label": "2021-11",
            "method": "animate"
           },
           {
            "args": [
             [
              "2021-12"
             ],
             {
              "frame": {
               "duration": 0,
               "redraw": false
              },
              "fromcurrent": true,
              "mode": "immediate",
              "transition": {
               "duration": 0,
               "easing": "linear"
              }
             }
            ],
            "label": "2021-12",
            "method": "animate"
           },
           {
            "args": [
             [
              "2022-01"
             ],
             {
              "frame": {
               "duration": 0,
               "redraw": false
              },
              "fromcurrent": true,
              "mode": "immediate",
              "transition": {
               "duration": 0,
               "easing": "linear"
              }
             }
            ],
            "label": "2022-01",
            "method": "animate"
           },
           {
            "args": [
             [
              "2022-02"
             ],
             {
              "frame": {
               "duration": 0,
               "redraw": false
              },
              "fromcurrent": true,
              "mode": "immediate",
              "transition": {
               "duration": 0,
               "easing": "linear"
              }
             }
            ],
            "label": "2022-02",
            "method": "animate"
           },
           {
            "args": [
             [
              "2022-03"
             ],
             {
              "frame": {
               "duration": 0,
               "redraw": false
              },
              "fromcurrent": true,
              "mode": "immediate",
              "transition": {
               "duration": 0,
               "easing": "linear"
              }
             }
            ],
            "label": "2022-03",
            "method": "animate"
           },
           {
            "args": [
             [
              "2022-04"
             ],
             {
              "frame": {
               "duration": 0,
               "redraw": false
              },
              "fromcurrent": true,
              "mode": "immediate",
              "transition": {
               "duration": 0,
               "easing": "linear"
              }
             }
            ],
            "label": "2022-04",
            "method": "animate"
           },
           {
            "args": [
             [
              "2022-05"
             ],
             {
              "frame": {
               "duration": 0,
               "redraw": false
              },
              "fromcurrent": true,
              "mode": "immediate",
              "transition": {
               "duration": 0,
               "easing": "linear"
              }
             }
            ],
            "label": "2022-05",
            "method": "animate"
           },
           {
            "args": [
             [
              "2022-06"
             ],
             {
              "frame": {
               "duration": 0,
               "redraw": false
              },
              "fromcurrent": true,
              "mode": "immediate",
              "transition": {
               "duration": 0,
               "easing": "linear"
              }
             }
            ],
            "label": "2022-06",
            "method": "animate"
           },
           {
            "args": [
             [
              "2022-07"
             ],
             {
              "frame": {
               "duration": 0,
               "redraw": false
              },
              "fromcurrent": true,
              "mode": "immediate",
              "transition": {
               "duration": 0,
               "easing": "linear"
              }
             }
            ],
            "label": "2022-07",
            "method": "animate"
           },
           {
            "args": [
             [
              "2022-08"
             ],
             {
              "frame": {
               "duration": 0,
               "redraw": false
              },
              "fromcurrent": true,
              "mode": "immediate",
              "transition": {
               "duration": 0,
               "easing": "linear"
              }
             }
            ],
            "label": "2022-08",
            "method": "animate"
           },
           {
            "args": [
             [
              "2022-09"
             ],
             {
              "frame": {
               "duration": 0,
               "redraw": false
              },
              "fromcurrent": true,
              "mode": "immediate",
              "transition": {
               "duration": 0,
               "easing": "linear"
              }
             }
            ],
            "label": "2022-09",
            "method": "animate"
           },
           {
            "args": [
             [
              "2022-10"
             ],
             {
              "frame": {
               "duration": 0,
               "redraw": false
              },
              "fromcurrent": true,
              "mode": "immediate",
              "transition": {
               "duration": 0,
               "easing": "linear"
              }
             }
            ],
            "label": "2022-10",
            "method": "animate"
           },
           {
            "args": [
             [
              "2022-11"
             ],
             {
              "frame": {
               "duration": 0,
               "redraw": false
              },
              "fromcurrent": true,
              "mode": "immediate",
              "transition": {
               "duration": 0,
               "easing": "linear"
              }
             }
            ],
            "label": "2022-11",
            "method": "animate"
           },
           {
            "args": [
             [
              "2022-12"
             ],
             {
              "frame": {
               "duration": 0,
               "redraw": false
              },
              "fromcurrent": true,
              "mode": "immediate",
              "transition": {
               "duration": 0,
               "easing": "linear"
              }
             }
            ],
            "label": "2022-12",
            "method": "animate"
           },
           {
            "args": [
             [
              "2023-01"
             ],
             {
              "frame": {
               "duration": 0,
               "redraw": false
              },
              "fromcurrent": true,
              "mode": "immediate",
              "transition": {
               "duration": 0,
               "easing": "linear"
              }
             }
            ],
            "label": "2023-01",
            "method": "animate"
           },
           {
            "args": [
             [
              "2023-02"
             ],
             {
              "frame": {
               "duration": 0,
               "redraw": false
              },
              "fromcurrent": true,
              "mode": "immediate",
              "transition": {
               "duration": 0,
               "easing": "linear"
              }
             }
            ],
            "label": "2023-02",
            "method": "animate"
           },
           {
            "args": [
             [
              "2023-03"
             ],
             {
              "frame": {
               "duration": 0,
               "redraw": false
              },
              "fromcurrent": true,
              "mode": "immediate",
              "transition": {
               "duration": 0,
               "easing": "linear"
              }
             }
            ],
            "label": "2023-03",
            "method": "animate"
           },
           {
            "args": [
             [
              "2023-04"
             ],
             {
              "frame": {
               "duration": 0,
               "redraw": false
              },
              "fromcurrent": true,
              "mode": "immediate",
              "transition": {
               "duration": 0,
               "easing": "linear"
              }
             }
            ],
            "label": "2023-04",
            "method": "animate"
           },
           {
            "args": [
             [
              "2023-05"
             ],
             {
              "frame": {
               "duration": 0,
               "redraw": false
              },
              "fromcurrent": true,
              "mode": "immediate",
              "transition": {
               "duration": 0,
               "easing": "linear"
              }
             }
            ],
            "label": "2023-05",
            "method": "animate"
           },
           {
            "args": [
             [
              "2023-06"
             ],
             {
              "frame": {
               "duration": 0,
               "redraw": false
              },
              "fromcurrent": true,
              "mode": "immediate",
              "transition": {
               "duration": 0,
               "easing": "linear"
              }
             }
            ],
            "label": "2023-06",
            "method": "animate"
           },
           {
            "args": [
             [
              "2023-07"
             ],
             {
              "frame": {
               "duration": 0,
               "redraw": false
              },
              "fromcurrent": true,
              "mode": "immediate",
              "transition": {
               "duration": 0,
               "easing": "linear"
              }
             }
            ],
            "label": "2023-07",
            "method": "animate"
           },
           {
            "args": [
             [
              "2023-08"
             ],
             {
              "frame": {
               "duration": 0,
               "redraw": false
              },
              "fromcurrent": true,
              "mode": "immediate",
              "transition": {
               "duration": 0,
               "easing": "linear"
              }
             }
            ],
            "label": "2023-08",
            "method": "animate"
           },
           {
            "args": [
             [
              "2023-09"
             ],
             {
              "frame": {
               "duration": 0,
               "redraw": false
              },
              "fromcurrent": true,
              "mode": "immediate",
              "transition": {
               "duration": 0,
               "easing": "linear"
              }
             }
            ],
            "label": "2023-09",
            "method": "animate"
           },
           {
            "args": [
             [
              "2023-10"
             ],
             {
              "frame": {
               "duration": 0,
               "redraw": false
              },
              "fromcurrent": true,
              "mode": "immediate",
              "transition": {
               "duration": 0,
               "easing": "linear"
              }
             }
            ],
            "label": "2023-10",
            "method": "animate"
           }
          ],
          "x": 0.1,
          "xanchor": "left",
          "y": 0,
          "yanchor": "top"
         }
        ],
        "template": {
         "data": {
          "bar": [
           {
            "error_x": {
             "color": "#2a3f5f"
            },
            "error_y": {
             "color": "#2a3f5f"
            },
            "marker": {
             "line": {
              "color": "#E5ECF6",
              "width": 0.5
             },
             "pattern": {
              "fillmode": "overlay",
              "size": 10,
              "solidity": 0.2
             }
            },
            "type": "bar"
           }
          ],
          "barpolar": [
           {
            "marker": {
             "line": {
              "color": "#E5ECF6",
              "width": 0.5
             },
             "pattern": {
              "fillmode": "overlay",
              "size": 10,
              "solidity": 0.2
             }
            },
            "type": "barpolar"
           }
          ],
          "carpet": [
           {
            "aaxis": {
             "endlinecolor": "#2a3f5f",
             "gridcolor": "white",
             "linecolor": "white",
             "minorgridcolor": "white",
             "startlinecolor": "#2a3f5f"
            },
            "baxis": {
             "endlinecolor": "#2a3f5f",
             "gridcolor": "white",
             "linecolor": "white",
             "minorgridcolor": "white",
             "startlinecolor": "#2a3f5f"
            },
            "type": "carpet"
           }
          ],
          "choropleth": [
           {
            "colorbar": {
             "outlinewidth": 0,
             "ticks": ""
            },
            "type": "choropleth"
           }
          ],
          "contour": [
           {
            "colorbar": {
             "outlinewidth": 0,
             "ticks": ""
            },
            "colorscale": [
             [
              0,
              "#0d0887"
             ],
             [
              0.1111111111111111,
              "#46039f"
             ],
             [
              0.2222222222222222,
              "#7201a8"
             ],
             [
              0.3333333333333333,
              "#9c179e"
             ],
             [
              0.4444444444444444,
              "#bd3786"
             ],
             [
              0.5555555555555556,
              "#d8576b"
             ],
             [
              0.6666666666666666,
              "#ed7953"
             ],
             [
              0.7777777777777778,
              "#fb9f3a"
             ],
             [
              0.8888888888888888,
              "#fdca26"
             ],
             [
              1,
              "#f0f921"
             ]
            ],
            "type": "contour"
           }
          ],
          "contourcarpet": [
           {
            "colorbar": {
             "outlinewidth": 0,
             "ticks": ""
            },
            "type": "contourcarpet"
           }
          ],
          "heatmap": [
           {
            "colorbar": {
             "outlinewidth": 0,
             "ticks": ""
            },
            "colorscale": [
             [
              0,
              "#0d0887"
             ],
             [
              0.1111111111111111,
              "#46039f"
             ],
             [
              0.2222222222222222,
              "#7201a8"
             ],
             [
              0.3333333333333333,
              "#9c179e"
             ],
             [
              0.4444444444444444,
              "#bd3786"
             ],
             [
              0.5555555555555556,
              "#d8576b"
             ],
             [
              0.6666666666666666,
              "#ed7953"
             ],
             [
              0.7777777777777778,
              "#fb9f3a"
             ],
             [
              0.8888888888888888,
              "#fdca26"
             ],
             [
              1,
              "#f0f921"
             ]
            ],
            "type": "heatmap"
           }
          ],
          "heatmapgl": [
           {
            "colorbar": {
             "outlinewidth": 0,
             "ticks": ""
            },
            "colorscale": [
             [
              0,
              "#0d0887"
             ],
             [
              0.1111111111111111,
              "#46039f"
             ],
             [
              0.2222222222222222,
              "#7201a8"
             ],
             [
              0.3333333333333333,
              "#9c179e"
             ],
             [
              0.4444444444444444,
              "#bd3786"
             ],
             [
              0.5555555555555556,
              "#d8576b"
             ],
             [
              0.6666666666666666,
              "#ed7953"
             ],
             [
              0.7777777777777778,
              "#fb9f3a"
             ],
             [
              0.8888888888888888,
              "#fdca26"
             ],
             [
              1,
              "#f0f921"
             ]
            ],
            "type": "heatmapgl"
           }
          ],
          "histogram": [
           {
            "marker": {
             "pattern": {
              "fillmode": "overlay",
              "size": 10,
              "solidity": 0.2
             }
            },
            "type": "histogram"
           }
          ],
          "histogram2d": [
           {
            "colorbar": {
             "outlinewidth": 0,
             "ticks": ""
            },
            "colorscale": [
             [
              0,
              "#0d0887"
             ],
             [
              0.1111111111111111,
              "#46039f"
             ],
             [
              0.2222222222222222,
              "#7201a8"
             ],
             [
              0.3333333333333333,
              "#9c179e"
             ],
             [
              0.4444444444444444,
              "#bd3786"
             ],
             [
              0.5555555555555556,
              "#d8576b"
             ],
             [
              0.6666666666666666,
              "#ed7953"
             ],
             [
              0.7777777777777778,
              "#fb9f3a"
             ],
             [
              0.8888888888888888,
              "#fdca26"
             ],
             [
              1,
              "#f0f921"
             ]
            ],
            "type": "histogram2d"
           }
          ],
          "histogram2dcontour": [
           {
            "colorbar": {
             "outlinewidth": 0,
             "ticks": ""
            },
            "colorscale": [
             [
              0,
              "#0d0887"
             ],
             [
              0.1111111111111111,
              "#46039f"
             ],
             [
              0.2222222222222222,
              "#7201a8"
             ],
             [
              0.3333333333333333,
              "#9c179e"
             ],
             [
              0.4444444444444444,
              "#bd3786"
             ],
             [
              0.5555555555555556,
              "#d8576b"
             ],
             [
              0.6666666666666666,
              "#ed7953"
             ],
             [
              0.7777777777777778,
              "#fb9f3a"
             ],
             [
              0.8888888888888888,
              "#fdca26"
             ],
             [
              1,
              "#f0f921"
             ]
            ],
            "type": "histogram2dcontour"
           }
          ],
          "mesh3d": [
           {
            "colorbar": {
             "outlinewidth": 0,
             "ticks": ""
            },
            "type": "mesh3d"
           }
          ],
          "parcoords": [
           {
            "line": {
             "colorbar": {
              "outlinewidth": 0,
              "ticks": ""
             }
            },
            "type": "parcoords"
           }
          ],
          "pie": [
           {
            "automargin": true,
            "type": "pie"
           }
          ],
          "scatter": [
           {
            "fillpattern": {
             "fillmode": "overlay",
             "size": 10,
             "solidity": 0.2
            },
            "type": "scatter"
           }
          ],
          "scatter3d": [
           {
            "line": {
             "colorbar": {
              "outlinewidth": 0,
              "ticks": ""
             }
            },
            "marker": {
             "colorbar": {
              "outlinewidth": 0,
              "ticks": ""
             }
            },
            "type": "scatter3d"
           }
          ],
          "scattercarpet": [
           {
            "marker": {
             "colorbar": {
              "outlinewidth": 0,
              "ticks": ""
             }
            },
            "type": "scattercarpet"
           }
          ],
          "scattergeo": [
           {
            "marker": {
             "colorbar": {
              "outlinewidth": 0,
              "ticks": ""
             }
            },
            "type": "scattergeo"
           }
          ],
          "scattergl": [
           {
            "marker": {
             "colorbar": {
              "outlinewidth": 0,
              "ticks": ""
             }
            },
            "type": "scattergl"
           }
          ],
          "scattermapbox": [
           {
            "marker": {
             "colorbar": {
              "outlinewidth": 0,
              "ticks": ""
             }
            },
            "type": "scattermapbox"
           }
          ],
          "scatterpolar": [
           {
            "marker": {
             "colorbar": {
              "outlinewidth": 0,
              "ticks": ""
             }
            },
            "type": "scatterpolar"
           }
          ],
          "scatterpolargl": [
           {
            "marker": {
             "colorbar": {
              "outlinewidth": 0,
              "ticks": ""
             }
            },
            "type": "scatterpolargl"
           }
          ],
          "scatterternary": [
           {
            "marker": {
             "colorbar": {
              "outlinewidth": 0,
              "ticks": ""
             }
            },
            "type": "scatterternary"
           }
          ],
          "surface": [
           {
            "colorbar": {
             "outlinewidth": 0,
             "ticks": ""
            },
            "colorscale": [
             [
              0,
              "#0d0887"
             ],
             [
              0.1111111111111111,
              "#46039f"
             ],
             [
              0.2222222222222222,
              "#7201a8"
             ],
             [
              0.3333333333333333,
              "#9c179e"
             ],
             [
              0.4444444444444444,
              "#bd3786"
             ],
             [
              0.5555555555555556,
              "#d8576b"
             ],
             [
              0.6666666666666666,
              "#ed7953"
             ],
             [
              0.7777777777777778,
              "#fb9f3a"
             ],
             [
              0.8888888888888888,
              "#fdca26"
             ],
             [
              1,
              "#f0f921"
             ]
            ],
            "type": "surface"
           }
          ],
          "table": [
           {
            "cells": {
             "fill": {
              "color": "#EBF0F8"
             },
             "line": {
              "color": "white"
             }
            },
            "header": {
             "fill": {
              "color": "#C8D4E3"
             },
             "line": {
              "color": "white"
             }
            },
            "type": "table"
           }
          ]
         },
         "layout": {
          "annotationdefaults": {
           "arrowcolor": "#2a3f5f",
           "arrowhead": 0,
           "arrowwidth": 1
          },
          "autotypenumbers": "strict",
          "coloraxis": {
           "colorbar": {
            "outlinewidth": 0,
            "ticks": ""
           }
          },
          "colorscale": {
           "diverging": [
            [
             0,
             "#8e0152"
            ],
            [
             0.1,
             "#c51b7d"
            ],
            [
             0.2,
             "#de77ae"
            ],
            [
             0.3,
             "#f1b6da"
            ],
            [
             0.4,
             "#fde0ef"
            ],
            [
             0.5,
             "#f7f7f7"
            ],
            [
             0.6,
             "#e6f5d0"
            ],
            [
             0.7,
             "#b8e186"
            ],
            [
             0.8,
             "#7fbc41"
            ],
            [
             0.9,
             "#4d9221"
            ],
            [
             1,
             "#276419"
            ]
           ],
           "sequential": [
            [
             0,
             "#0d0887"
            ],
            [
             0.1111111111111111,
             "#46039f"
            ],
            [
             0.2222222222222222,
             "#7201a8"
            ],
            [
             0.3333333333333333,
             "#9c179e"
            ],
            [
             0.4444444444444444,
             "#bd3786"
            ],
            [
             0.5555555555555556,
             "#d8576b"
            ],
            [
             0.6666666666666666,
             "#ed7953"
            ],
            [
             0.7777777777777778,
             "#fb9f3a"
            ],
            [
             0.8888888888888888,
             "#fdca26"
            ],
            [
             1,
             "#f0f921"
            ]
           ],
           "sequentialminus": [
            [
             0,
             "#0d0887"
            ],
            [
             0.1111111111111111,
             "#46039f"
            ],
            [
             0.2222222222222222,
             "#7201a8"
            ],
            [
             0.3333333333333333,
             "#9c179e"
            ],
            [
             0.4444444444444444,
             "#bd3786"
            ],
            [
             0.5555555555555556,
             "#d8576b"
            ],
            [
             0.6666666666666666,
             "#ed7953"
            ],
            [
             0.7777777777777778,
             "#fb9f3a"
            ],
            [
             0.8888888888888888,
             "#fdca26"
            ],
            [
             1,
             "#f0f921"
            ]
           ]
          },
          "colorway": [
           "#636efa",
           "#EF553B",
           "#00cc96",
           "#ab63fa",
           "#FFA15A",
           "#19d3f3",
           "#FF6692",
           "#B6E880",
           "#FF97FF",
           "#FECB52"
          ],
          "font": {
           "color": "#2a3f5f"
          },
          "geo": {
           "bgcolor": "white",
           "lakecolor": "white",
           "landcolor": "#E5ECF6",
           "showlakes": true,
           "showland": true,
           "subunitcolor": "white"
          },
          "hoverlabel": {
           "align": "left"
          },
          "hovermode": "closest",
          "mapbox": {
           "style": "light"
          },
          "paper_bgcolor": "white",
          "plot_bgcolor": "#E5ECF6",
          "polar": {
           "angularaxis": {
            "gridcolor": "white",
            "linecolor": "white",
            "ticks": ""
           },
           "bgcolor": "#E5ECF6",
           "radialaxis": {
            "gridcolor": "white",
            "linecolor": "white",
            "ticks": ""
           }
          },
          "scene": {
           "xaxis": {
            "backgroundcolor": "#E5ECF6",
            "gridcolor": "white",
            "gridwidth": 2,
            "linecolor": "white",
            "showbackground": true,
            "ticks": "",
            "zerolinecolor": "white"
           },
           "yaxis": {
            "backgroundcolor": "#E5ECF6",
            "gridcolor": "white",
            "gridwidth": 2,
            "linecolor": "white",
            "showbackground": true,
            "ticks": "",
            "zerolinecolor": "white"
           },
           "zaxis": {
            "backgroundcolor": "#E5ECF6",
            "gridcolor": "white",
            "gridwidth": 2,
            "linecolor": "white",
            "showbackground": true,
            "ticks": "",
            "zerolinecolor": "white"
           }
          },
          "shapedefaults": {
           "line": {
            "color": "#2a3f5f"
           }
          },
          "ternary": {
           "aaxis": {
            "gridcolor": "white",
            "linecolor": "white",
            "ticks": ""
           },
           "baxis": {
            "gridcolor": "white",
            "linecolor": "white",
            "ticks": ""
           },
           "bgcolor": "#E5ECF6",
           "caxis": {
            "gridcolor": "white",
            "linecolor": "white",
            "ticks": ""
           }
          },
          "title": {
           "x": 0.05
          },
          "xaxis": {
           "automargin": true,
           "gridcolor": "white",
           "linecolor": "white",
           "ticks": "",
           "title": {
            "standoff": 15
           },
           "zerolinecolor": "white",
           "zerolinewidth": 2
          },
          "yaxis": {
           "automargin": true,
           "gridcolor": "white",
           "linecolor": "white",
           "ticks": "",
           "title": {
            "standoff": 15
           },
           "zerolinecolor": "white",
           "zerolinewidth": 2
          }
         }
        },
        "updatemenus": [
         {
          "buttons": [
           {
            "args": [
             null,
             {
              "frame": {
               "duration": 200,
               "redraw": false
              },
              "fromcurrent": true,
              "mode": "immediate",
              "transition": {
               "duration": 500,
               "easing": "linear"
              }
             }
            ],
            "label": "&#9654;",
            "method": "animate"
           },
           {
            "args": [
             [
              null
             ],
             {
              "frame": {
               "duration": 0,
               "redraw": false
              },
              "fromcurrent": true,
              "mode": "immediate",
              "transition": {
               "duration": 0,
               "easing": "linear"
              }
             }
            ],
            "label": "&#9724;",
            "method": "animate"
           }
          ],
          "direction": "left",
          "pad": {
           "r": 10,
           "t": 70
          },
          "showactive": false,
          "type": "buttons",
          "x": 0.1,
          "xanchor": "right",
          "y": 0,
          "yanchor": "top"
         }
        ],
        "xaxis": {
         "anchor": "y",
         "domain": [
          0,
          1
         ],
         "range": [
          0,
          30
         ],
         "tickvals": [
          5,
          7,
          10,
          20,
          30
         ],
         "title": {
          "text": "Years to Maturity"
         }
        },
        "yaxis": {
         "anchor": "x",
         "domain": [
          0,
          1
         ],
         "range": [
          -0.02,
          0.0395
         ],
         "tickformat": ".1%",
         "title": {
          "text": "Yield"
         }
        }
       }
      }
     },
     "metadata": {},
     "output_type": "display_data"
    }
   ],
   "source": [
    "import plotly.express as px\n",
    "hover_data = dict(month=False, term=True, rate=True)\n",
    "fig = px.line(\n",
    "    df,\n",
    "    x=\"term\",\n",
    "    y=\"rate\",\n",
    "    animation_frame=\"month\",\n",
    "    hover_name=\"month\",\n",
    "    hover_data=hover_data,\n",
    ")\n",
    "fig.layout.xaxis[\"title\"] = \"Years to Maturity\"\n",
    "fig.layout.yaxis[\"title\"] = \"Yield\"\n",
    "fig.update_yaxes(tickformat=\".1%\", range=[-0.02, df.rate.max() + 0.001])\n",
    "fig.update_xaxes(tickvals=[5, 7, 10, 20, 30], range=[0, 30])\n",
    "fig.layout.updatemenus[0].buttons[0].args[1][\"frame\"][\"duration\"] = 200\n",
    "fig.show()"
   ]
  },
  {
   "cell_type": "code",
   "execution_count": null,
   "metadata": {},
   "outputs": [],
   "source": []
  }
 ],
 "metadata": {
  "colab": {
   "include_colab_link": true,
   "name": "term structure of real interest rates.ipynb",
   "provenance": []
  },
  "kernelspec": {
   "display_name": "Python 3",
   "language": "python",
   "name": "python3"
  },
  "language_info": {
   "codemirror_mode": {
    "name": "ipython",
    "version": 3
   },
   "file_extension": ".py",
   "mimetype": "text/x-python",
   "name": "python",
   "nbconvert_exporter": "python",
   "pygments_lexer": "ipython3",
   "version": "3.10.4"
  }
 },
 "nbformat": 4,
 "nbformat_minor": 0
}
