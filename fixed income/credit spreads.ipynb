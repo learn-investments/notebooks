{
  "cells": [
    {
      "cell_type": "markdown",
      "metadata": {
        "id": "view-in-github",
        "colab_type": "text"
      },
      "source": [
        "<a href=\"https://colab.research.google.com/github/bbcx-investments/notebooks/blob/main/bonds/credit_spreads.ipynb\" target=\"_parent\"><img src=\"https://colab.research.google.com/assets/colab-badge.svg\" alt=\"Open In Colab\"/></a>"
      ]
    },
    {
      "cell_type": "code",
      "execution_count": null,
      "outputs": [
        {
          "data": {
            "text/plain": "          BBB     A    AA   AAA\nmonth                          \n1996-12  0.83  0.57  0.42  0.30\n1997-01  0.83  0.58  0.42  0.26\n1997-02  0.82  0.57  0.44  0.33\n1997-03  0.77  0.53  0.40  0.31\n1997-04  0.77  0.55  0.41  0.32\n...       ...   ...   ...   ...\n2022-02  1.33  0.87  0.70  0.62\n2022-03  1.64  1.07  0.83  0.70\n2022-04  1.47  0.97  0.73  0.58\n2022-05  1.72  1.17  0.87  0.70\n2022-06  1.70  1.11  0.81  0.60\n\n[307 rows x 4 columns]",
            "text/html": "<div>\n<style scoped>\n    .dataframe tbody tr th:only-of-type {\n        vertical-align: middle;\n    }\n\n    .dataframe tbody tr th {\n        vertical-align: top;\n    }\n\n    .dataframe thead th {\n        text-align: right;\n    }\n</style>\n<table border=\"1\" class=\"dataframe\">\n  <thead>\n    <tr style=\"text-align: right;\">\n      <th></th>\n      <th>BBB</th>\n      <th>A</th>\n      <th>AA</th>\n      <th>AAA</th>\n    </tr>\n    <tr>\n      <th>month</th>\n      <th></th>\n      <th></th>\n      <th></th>\n      <th></th>\n    </tr>\n  </thead>\n  <tbody>\n    <tr>\n      <th>1996-12</th>\n      <td>0.83</td>\n      <td>0.57</td>\n      <td>0.42</td>\n      <td>0.30</td>\n    </tr>\n    <tr>\n      <th>1997-01</th>\n      <td>0.83</td>\n      <td>0.58</td>\n      <td>0.42</td>\n      <td>0.26</td>\n    </tr>\n    <tr>\n      <th>1997-02</th>\n      <td>0.82</td>\n      <td>0.57</td>\n      <td>0.44</td>\n      <td>0.33</td>\n    </tr>\n    <tr>\n      <th>1997-03</th>\n      <td>0.77</td>\n      <td>0.53</td>\n      <td>0.40</td>\n      <td>0.31</td>\n    </tr>\n    <tr>\n      <th>1997-04</th>\n      <td>0.77</td>\n      <td>0.55</td>\n      <td>0.41</td>\n      <td>0.32</td>\n    </tr>\n    <tr>\n      <th>...</th>\n      <td>...</td>\n      <td>...</td>\n      <td>...</td>\n      <td>...</td>\n    </tr>\n    <tr>\n      <th>2022-02</th>\n      <td>1.33</td>\n      <td>0.87</td>\n      <td>0.70</td>\n      <td>0.62</td>\n    </tr>\n    <tr>\n      <th>2022-03</th>\n      <td>1.64</td>\n      <td>1.07</td>\n      <td>0.83</td>\n      <td>0.70</td>\n    </tr>\n    <tr>\n      <th>2022-04</th>\n      <td>1.47</td>\n      <td>0.97</td>\n      <td>0.73</td>\n      <td>0.58</td>\n    </tr>\n    <tr>\n      <th>2022-05</th>\n      <td>1.72</td>\n      <td>1.17</td>\n      <td>0.87</td>\n      <td>0.70</td>\n    </tr>\n    <tr>\n      <th>2022-06</th>\n      <td>1.70</td>\n      <td>1.11</td>\n      <td>0.81</td>\n      <td>0.60</td>\n    </tr>\n  </tbody>\n</table>\n<p>307 rows × 4 columns</p>\n</div>"
          },
          "execution_count": 4,
          "metadata": {},
          "output_type": "execute_result"
        }
      ],
      "source": [
        "import pandas as pd\n",
        "from pandas_datareader import DataReader as pdr\n",
        "\n",
        "files = [\"BAMLC0A4CBBB\", \"BAMLC0A3CA\", \"BAMLC0A2CAA\", \"BAMLC0A1CAAA\"]\n",
        "df = None\n",
        "\n",
        "# data won't actually start in 1920, this gets earliest dates\n",
        "for f in files:\n",
        "    d = pdr(f, \"fred\", start=1920)\n",
        "    df = pd.concat((df, d), axis=1)\n",
        "\n",
        "# move index to column\n",
        "df.index.name = \"date\"\n",
        "df = df.reset_index()\n",
        "\n",
        "# convert to monthly format and then save first day of the month\n",
        "df[\"month\"] = df.date.dt.to_period(\"M\").astype(str)\n",
        "df = df.groupby(\"month\").first()\n",
        "df = df.drop(columns=[\"date\"])\n",
        "df = df.dropna()\n",
        "df.columns = [\"BBB\", \"A\", \"AA\", \"AAA\"]\n",
        "\n",
        "df"
      ],
      "metadata": {
        "pycharm": {
          "name": "#%%\n"
        },
        "id": "KlxkKcmyjSZI",
        "outputId": "dac5865e-728e-4606-b7db-039a2ca774fd"
      }
    },
    {
      "cell_type": "code",
      "execution_count": null,
      "outputs": [],
      "source": [
        ""
      ],
      "metadata": {
        "pycharm": {
          "name": "#%%\n"
        },
        "id": "Q3lhIYE_jSZN"
      }
    }
  ],
  "metadata": {
    "kernelspec": {
      "display_name": "Python 3",
      "language": "python",
      "name": "python3"
    },
    "language_info": {
      "codemirror_mode": {
        "name": "ipython",
        "version": 2
      },
      "file_extension": ".py",
      "mimetype": "text/x-python",
      "name": "python",
      "nbconvert_exporter": "python",
      "pygments_lexer": "ipython2",
      "version": "2.7.6"
    },
    "colab": {
      "name": "credit_spreads.ipynb",
      "provenance": [],
      "include_colab_link": true
    }
  },
  "nbformat": 4,
  "nbformat_minor": 0
}