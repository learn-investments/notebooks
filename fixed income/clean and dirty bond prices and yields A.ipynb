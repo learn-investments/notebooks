{
  "nbformat": 4,
  "nbformat_minor": 0,
  "metadata": {
    "colab": {
      "name": "clean_dirty_paths.ipynb",
      "provenance": [],
      "authorship_tag": "ABX9TyOahM3k2HTN7hzLpQsCy0cf",
      "include_colab_link": true
    },
    "kernelspec": {
      "name": "python3",
      "display_name": "Python 3"
    },
    "language_info": {
      "name": "python"
    }
  },
  "cells": [
    {
      "cell_type": "markdown",
      "metadata": {
        "id": "view-in-github",
        "colab_type": "text"
      },
      "source": [
        "<a href=\"https://colab.research.google.com/github/bbcx-investments/notebooks/blob/main/bonds/clean_dirty_paths.ipynb\" target=\"_parent\"><img src=\"https://colab.research.google.com/assets/colab-badge.svg\" alt=\"Open In Colab\"/></a>"
      ]
    },
    {
      "cell_type": "code",
      "execution_count": 3,
      "metadata": {
        "id": "Bc790_R-SR0L",
        "colab": {
          "base_uri": "https://localhost:8080/"
        },
        "outputId": "99dcadad-d3d8-4ef6-b1b7-39a3d3b6f875"
      },
      "outputs": [
        {
          "output_type": "stream",
          "name": "stdout",
          "text": [
            "The dirty price for this bond is 75.44\n"
          ]
        }
      ],
      "source": [
        "import numpy as np\n",
        "\n",
        "# Example\n",
        "face_value = 100\n",
        "coupon_rate = 0.025       # annual coupon rate\n",
        "coupons_remaining = 20\n",
        "days_to_next_coupon = 60\n",
        "yld = 0.06           # bond yield remains constant over time\n",
        "\n",
        "coupon = coupon_rate*100/2\n",
        "days = int((coupons_remaining-1)*180 + days_to_next_coupon)\n",
        "\n",
        "periods = 1 - (180 - days%180)/180 + np.arange(coupons_remaining)\n",
        "pvFactors = 1 / (1+yld/2)**periods\n",
        "cashFlows = [coupon]*(coupons_remaining-1) + [100+coupon]\n",
        "\n",
        "# dirty price\n",
        "dirty = np.sum(pvFactors*cashFlows)\n",
        "print('The dirty price for this bond is', dirty.round(2))"
      ]
    },
    {
      "cell_type": "code",
      "source": [
        "# clean price\n",
        "accrued = coupon*(180 - days%180)/180\n",
        "clean = dirty - accrued\n",
        "print('The clean price for this bond is', clean.round(2))"
      ],
      "metadata": {
        "colab": {
          "base_uri": "https://localhost:8080/"
        },
        "id": "RqjE7c9oTQ7o",
        "outputId": "2b68c6ce-30e6-4d10-dc4a-e3803720d6b3"
      },
      "execution_count": 4,
      "outputs": [
        {
          "output_type": "stream",
          "name": "stdout",
          "text": [
            "The clean price for this bond is 74.6\n"
          ]
        }
      ]
    },
    {
      "cell_type": "code",
      "source": [
        ""
      ],
      "metadata": {
        "id": "qduDXp1KTXOQ"
      },
      "execution_count": null,
      "outputs": []
    }
  ]
}