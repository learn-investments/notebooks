{
  "cells": [
    {
      "cell_type": "markdown",
      "metadata": {
        "id": "view-in-github",
        "colab_type": "text"
      },
      "source": [
        "<a href=\"https://colab.research.google.com/github/bbcx-investments/notebooks/blob/main/fixed_income/principal_components.ipynb\" target=\"_parent\"><img src=\"https://colab.research.google.com/assets/colab-badge.svg\" alt=\"Open In Colab\"/></a>"
      ]
    },
    {
      "cell_type": "code",
      "execution_count": null,
      "outputs": [
        {
          "data": {
            "text/plain": "         1-Year  2-Year  3-Year  5-Year  10-Year  20-Year  30-Year\nmonth                                                             \n1977-03     7.0    -4.0    -6.0     8.0      8.0     13.0     14.0\n1977-04   -20.0   -14.0   -12.0    -7.0     -6.0     -5.0     -6.0\n1977-05    28.0    13.0     6.0     2.0      2.0      2.0      2.0\n1977-06    15.0     9.0     0.0    -7.0     -7.0     -6.0     -5.0\n1977-07   -13.0   -12.0   -13.0   -16.0     -4.0    -10.0    -17.0\n...         ...     ...     ...     ...      ...      ...      ...\n2022-02    38.0    40.0    35.0    26.0     18.0     14.0     11.0\n2022-03    13.0    13.0     8.0    -7.0     -9.0      0.0     -1.0\n2022-04    81.0   113.0   114.0    99.0     67.0     41.0     33.0\n2022-05    38.0    29.0    32.0    46.0     60.0     66.0     63.0\n2022-06     6.0    -7.0    -9.0    -7.0     -5.0      5.0      2.0\n\n[544 rows x 7 columns]",
            "text/html": "<div>\n<style scoped>\n    .dataframe tbody tr th:only-of-type {\n        vertical-align: middle;\n    }\n\n    .dataframe tbody tr th {\n        vertical-align: top;\n    }\n\n    .dataframe thead th {\n        text-align: right;\n    }\n</style>\n<table border=\"1\" class=\"dataframe\">\n  <thead>\n    <tr style=\"text-align: right;\">\n      <th></th>\n      <th>1-Year</th>\n      <th>2-Year</th>\n      <th>3-Year</th>\n      <th>5-Year</th>\n      <th>10-Year</th>\n      <th>20-Year</th>\n      <th>30-Year</th>\n    </tr>\n    <tr>\n      <th>month</th>\n      <th></th>\n      <th></th>\n      <th></th>\n      <th></th>\n      <th></th>\n      <th></th>\n      <th></th>\n    </tr>\n  </thead>\n  <tbody>\n    <tr>\n      <th>1977-03</th>\n      <td>7.0</td>\n      <td>-4.0</td>\n      <td>-6.0</td>\n      <td>8.0</td>\n      <td>8.0</td>\n      <td>13.0</td>\n      <td>14.0</td>\n    </tr>\n    <tr>\n      <th>1977-04</th>\n      <td>-20.0</td>\n      <td>-14.0</td>\n      <td>-12.0</td>\n      <td>-7.0</td>\n      <td>-6.0</td>\n      <td>-5.0</td>\n      <td>-6.0</td>\n    </tr>\n    <tr>\n      <th>1977-05</th>\n      <td>28.0</td>\n      <td>13.0</td>\n      <td>6.0</td>\n      <td>2.0</td>\n      <td>2.0</td>\n      <td>2.0</td>\n      <td>2.0</td>\n    </tr>\n    <tr>\n      <th>1977-06</th>\n      <td>15.0</td>\n      <td>9.0</td>\n      <td>0.0</td>\n      <td>-7.0</td>\n      <td>-7.0</td>\n      <td>-6.0</td>\n      <td>-5.0</td>\n    </tr>\n    <tr>\n      <th>1977-07</th>\n      <td>-13.0</td>\n      <td>-12.0</td>\n      <td>-13.0</td>\n      <td>-16.0</td>\n      <td>-4.0</td>\n      <td>-10.0</td>\n      <td>-17.0</td>\n    </tr>\n    <tr>\n      <th>...</th>\n      <td>...</td>\n      <td>...</td>\n      <td>...</td>\n      <td>...</td>\n      <td>...</td>\n      <td>...</td>\n      <td>...</td>\n    </tr>\n    <tr>\n      <th>2022-02</th>\n      <td>38.0</td>\n      <td>40.0</td>\n      <td>35.0</td>\n      <td>26.0</td>\n      <td>18.0</td>\n      <td>14.0</td>\n      <td>11.0</td>\n    </tr>\n    <tr>\n      <th>2022-03</th>\n      <td>13.0</td>\n      <td>13.0</td>\n      <td>8.0</td>\n      <td>-7.0</td>\n      <td>-9.0</td>\n      <td>0.0</td>\n      <td>-1.0</td>\n    </tr>\n    <tr>\n      <th>2022-04</th>\n      <td>81.0</td>\n      <td>113.0</td>\n      <td>114.0</td>\n      <td>99.0</td>\n      <td>67.0</td>\n      <td>41.0</td>\n      <td>33.0</td>\n    </tr>\n    <tr>\n      <th>2022-05</th>\n      <td>38.0</td>\n      <td>29.0</td>\n      <td>32.0</td>\n      <td>46.0</td>\n      <td>60.0</td>\n      <td>66.0</td>\n      <td>63.0</td>\n    </tr>\n    <tr>\n      <th>2022-06</th>\n      <td>6.0</td>\n      <td>-7.0</td>\n      <td>-9.0</td>\n      <td>-7.0</td>\n      <td>-5.0</td>\n      <td>5.0</td>\n      <td>2.0</td>\n    </tr>\n  </tbody>\n</table>\n<p>544 rows × 7 columns</p>\n</div>"
          },
          "execution_count": 4,
          "metadata": {},
          "output_type": "execute_result"
        }
      ],
      "source": [
        "import pandas as pd\n",
        "import numpy as np\n",
        "from pandas_datareader import DataReader as pdr\n",
        "\n",
        "files = ['DGS' + x for x in ['1', '2', '3', '5', '10', '20', '30']]\n",
        "df = None\n",
        "\n",
        "# reading market yield on U.S. treasury securities data from FRED\n",
        "for f in files:\n",
        "    d = pdr(f, 'fred', start=1920)\n",
        "    df = pd.concat((df, d), axis=1)\n",
        "df *= 100\n",
        "\n",
        "# computing the monthly changes in yields (basis points) for each maturity securities\n",
        "df.index.name = 'date'\n",
        "df = df.reset_index()\n",
        "df['month'] = df.date.dt.to_period('M').astype(str)\n",
        "df = df.groupby('month').first()\n",
        "df = df.drop(columns=['date'])\n",
        "df = df.diff()\n",
        "df = df.dropna(subset=['DGS30'])\n",
        "\n",
        "columns = ['1-Year', '2-Year', '3-Year', '5-Year', '10-Year', '20-Year', '30-Year']\n",
        "df.columns = columns\n",
        "\n",
        "# the monthly changes in yields (basis points)\n",
        "df"
      ],
      "metadata": {
        "pycharm": {
          "name": "#%%\n"
        },
        "id": "W_DEEx7k4g8-",
        "outputId": "cba8181d-ab23-45f5-ae93-ef2f99421dde"
      }
    },
    {
      "cell_type": "code",
      "execution_count": null,
      "outputs": [
        {
          "data": {
            "text/plain": "         Factor 1  Factor 2  Factor 3  Factor 4  Factor 5  Factor 6  Factor 7\n1-Year   0.342274 -0.548618 -0.621212 -0.414567 -0.040773 -0.100567 -0.110996\n2-Year   0.424227 -0.331084  0.067092  0.504026  0.444021  0.499713  0.070734\n3-Year   0.444899 -0.185949  0.293032  0.166461 -0.645002 -0.198104  0.445688\n5-Year   0.432166  0.023086  0.394574 -0.008544  0.238187 -0.527237 -0.567649\n10-Year  0.385865  0.325011  0.274403 -0.670430  0.068798  0.449076  0.119579\n20-Year  0.296270  0.476899 -0.388081  0.293637 -0.423383  0.260057 -0.448418\n30-Year  0.285498  0.470347 -0.377006  0.103006  0.380047 -0.391982  0.496423",
            "text/html": "<div>\n<style scoped>\n    .dataframe tbody tr th:only-of-type {\n        vertical-align: middle;\n    }\n\n    .dataframe tbody tr th {\n        vertical-align: top;\n    }\n\n    .dataframe thead th {\n        text-align: right;\n    }\n</style>\n<table border=\"1\" class=\"dataframe\">\n  <thead>\n    <tr style=\"text-align: right;\">\n      <th></th>\n      <th>Factor 1</th>\n      <th>Factor 2</th>\n      <th>Factor 3</th>\n      <th>Factor 4</th>\n      <th>Factor 5</th>\n      <th>Factor 6</th>\n      <th>Factor 7</th>\n    </tr>\n  </thead>\n  <tbody>\n    <tr>\n      <th>1-Year</th>\n      <td>0.342274</td>\n      <td>-0.548618</td>\n      <td>-0.621212</td>\n      <td>-0.414567</td>\n      <td>-0.040773</td>\n      <td>-0.100567</td>\n      <td>-0.110996</td>\n    </tr>\n    <tr>\n      <th>2-Year</th>\n      <td>0.424227</td>\n      <td>-0.331084</td>\n      <td>0.067092</td>\n      <td>0.504026</td>\n      <td>0.444021</td>\n      <td>0.499713</td>\n      <td>0.070734</td>\n    </tr>\n    <tr>\n      <th>3-Year</th>\n      <td>0.444899</td>\n      <td>-0.185949</td>\n      <td>0.293032</td>\n      <td>0.166461</td>\n      <td>-0.645002</td>\n      <td>-0.198104</td>\n      <td>0.445688</td>\n    </tr>\n    <tr>\n      <th>5-Year</th>\n      <td>0.432166</td>\n      <td>0.023086</td>\n      <td>0.394574</td>\n      <td>-0.008544</td>\n      <td>0.238187</td>\n      <td>-0.527237</td>\n      <td>-0.567649</td>\n    </tr>\n    <tr>\n      <th>10-Year</th>\n      <td>0.385865</td>\n      <td>0.325011</td>\n      <td>0.274403</td>\n      <td>-0.670430</td>\n      <td>0.068798</td>\n      <td>0.449076</td>\n      <td>0.119579</td>\n    </tr>\n    <tr>\n      <th>20-Year</th>\n      <td>0.296270</td>\n      <td>0.476899</td>\n      <td>-0.388081</td>\n      <td>0.293637</td>\n      <td>-0.423383</td>\n      <td>0.260057</td>\n      <td>-0.448418</td>\n    </tr>\n    <tr>\n      <th>30-Year</th>\n      <td>0.285498</td>\n      <td>0.470347</td>\n      <td>-0.377006</td>\n      <td>0.103006</td>\n      <td>0.380047</td>\n      <td>-0.391982</td>\n      <td>0.496423</td>\n    </tr>\n  </tbody>\n</table>\n</div>"
          },
          "execution_count": 10,
          "metadata": {},
          "output_type": "execute_result"
        }
      ],
      "source": [
        "# example year range\n",
        "start = '1992'\n",
        "stop = '2021'\n",
        "df_1 = df.loc[start:stop]\n",
        "# covariance matrix of the changes in yields\n",
        "df1_cov = df_1.cov()\n",
        "# eigendecomposition of the covariance matrix\n",
        "D, C = np.linalg.eig(df1_cov)\n",
        "\n",
        "# --------\n",
        "# The loadings on the j-th factor are the elements in the j-th eigenvector, i.e., the j-th column of C\n",
        "# --------\n",
        "col_name_C = ['Factor ' + str(x + 1) for x in range(len(columns))]\n",
        "row_name_C = columns\n",
        "df_C = pd.DataFrame(C, index=row_name_C, columns=col_name_C)\n",
        "df_C"
      ],
      "metadata": {
        "pycharm": {
          "name": "#%%\n"
        },
        "id": "Em8aHWiF4g9A",
        "outputId": "08e846e6-01eb-469a-f6df-e27121ad65dc"
      }
    },
    {
      "cell_type": "code",
      "execution_count": null,
      "outputs": [],
      "source": [
        ""
      ],
      "metadata": {
        "pycharm": {
          "name": "#%%\n"
        },
        "id": "OIDFE4ut4g9C"
      }
    }
  ],
  "metadata": {
    "kernelspec": {
      "display_name": "Python 3",
      "language": "python",
      "name": "python3"
    },
    "language_info": {
      "codemirror_mode": {
        "name": "ipython",
        "version": 2
      },
      "file_extension": ".py",
      "mimetype": "text/x-python",
      "name": "python",
      "nbconvert_exporter": "python",
      "pygments_lexer": "ipython2",
      "version": "2.7.6"
    },
    "colab": {
      "name": "principal_components.ipynb",
      "provenance": [],
      "include_colab_link": true
    }
  },
  "nbformat": 4,
  "nbformat_minor": 0
}