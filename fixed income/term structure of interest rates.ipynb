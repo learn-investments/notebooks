{
 "cells": [
  {
   "cell_type": "markdown",
   "metadata": {},
   "source": [
    "---\n",
    "\n",
    "Created for [learn-investments.rice-business.org](https://learn-investments.rice-business.org)\n",
    "    \n",
    "By [Kerry Back](https://kerryback.com) and [Kevin Crotty](https://kevin-crotty.com)\n",
    "    \n",
    "Jones Graduate School of Business, Rice University\n",
    "\n",
    "---\n"
   ]
  },
  {
   "cell_type": "markdown",
   "metadata": {},
   "source": [
    "# PULL DATA"
   ]
  },
  {
   "cell_type": "code",
   "execution_count": 1,
   "metadata": {},
   "outputs": [
    {
     "data": {
      "text/html": [
       "<div>\n",
       "<style scoped>\n",
       "    .dataframe tbody tr th:only-of-type {\n",
       "        vertical-align: middle;\n",
       "    }\n",
       "\n",
       "    .dataframe tbody tr th {\n",
       "        vertical-align: top;\n",
       "    }\n",
       "\n",
       "    .dataframe thead th {\n",
       "        text-align: right;\n",
       "    }\n",
       "</style>\n",
       "<table border=\"1\" class=\"dataframe\">\n",
       "  <thead>\n",
       "    <tr style=\"text-align: right;\">\n",
       "      <th></th>\n",
       "      <th>date</th>\n",
       "      <th>years to maturity</th>\n",
       "      <th>yield</th>\n",
       "    </tr>\n",
       "  </thead>\n",
       "  <tbody>\n",
       "    <tr>\n",
       "      <th>0</th>\n",
       "      <td>2000-01</td>\n",
       "      <td>0.25</td>\n",
       "      <td>0.0548</td>\n",
       "    </tr>\n",
       "    <tr>\n",
       "      <th>1</th>\n",
       "      <td>2000-01</td>\n",
       "      <td>1.00</td>\n",
       "      <td>0.0609</td>\n",
       "    </tr>\n",
       "    <tr>\n",
       "      <th>2</th>\n",
       "      <td>2000-01</td>\n",
       "      <td>2.00</td>\n",
       "      <td>0.0638</td>\n",
       "    </tr>\n",
       "    <tr>\n",
       "      <th>3</th>\n",
       "      <td>2000-01</td>\n",
       "      <td>3.00</td>\n",
       "      <td>0.0642</td>\n",
       "    </tr>\n",
       "    <tr>\n",
       "      <th>4</th>\n",
       "      <td>2000-01</td>\n",
       "      <td>5.00</td>\n",
       "      <td>0.0650</td>\n",
       "    </tr>\n",
       "  </tbody>\n",
       "</table>\n",
       "</div>"
      ],
      "text/plain": [
       "      date  years to maturity   yield\n",
       "0  2000-01               0.25  0.0548\n",
       "1  2000-01               1.00  0.0609\n",
       "2  2000-01               2.00  0.0638\n",
       "3  2000-01               3.00  0.0642\n",
       "4  2000-01               5.00  0.0650"
      ]
     },
     "execution_count": 1,
     "metadata": {},
     "output_type": "execute_result"
    }
   ],
   "source": [
    "import pandas as pd\n",
    "from pandas_datareader import DataReader as pdr\n",
    "\n",
    "# Pull data from FRED\n",
    "files = [\"DGS\" + x for x in [\"1MO\", \"3MO\", \"1\", \"2\", \"3\", \"5\", \"10\", \"20\", \"30\"]]\n",
    "df = pdr(files, \"fred\", start='2000-01-01') / 100\n",
    "df.index.name = \"date\"\n",
    "df = df.reset_index()\n",
    "\n",
    "# Keep 1st observations of each month\n",
    "df[\"month\"] = df.date.dt.to_period(\"M\").astype(str)\n",
    "df = df.groupby(\"month\").first()\n",
    "\n",
    "# Clean-up data\n",
    "df = df.drop(columns=[\"date\"])\n",
    "df = df.dropna(subset=[\"DGS3MO\", \"DGS30\"])\n",
    "df.columns = [1 / 12, 1 / 4, 1, 2, 3, 5, 10, 20, 30]\n",
    "df = df.stack()\n",
    "df = df.reset_index()\n",
    "df.columns = [\"date\", \"years to maturity\", \"yield\"]\n",
    "df.head()\n"
   ]
  },
  {
   "cell_type": "markdown",
   "metadata": {},
   "source": [
    "# FIGURE"
   ]
  },
  {
   "cell_type": "code",
   "execution_count": 2,
   "metadata": {},
   "outputs": [
    {
     "data": {
      "application/vnd.plotly.v1+json": {
       "config": {
        "plotlyServerURL": "https://plot.ly"
       },
       "data": [
        {
         "customdata": [
          [
           "2000-01"
          ],
          [
           "2000-01"
          ],
          [
           "2000-01"
          ],
          [
           "2000-01"
          ],
          [
           "2000-01"
          ],
          [
           "2000-01"
          ],
          [
           "2000-01"
          ],
          [
           "2000-01"
          ]
         ],
         "hovertemplate": "date=%{customdata[0]}<br>years to maturity=%{x}<br>yield=%{y}<extra></extra>",
         "legendgroup": "",
         "line": {
          "color": "#636efa",
          "dash": "solid"
         },
         "marker": {
          "size": 10,
          "symbol": "circle"
         },
         "mode": "lines+markers",
         "name": "",
         "orientation": "v",
         "showlegend": false,
         "type": "scatter",
         "x": [
          0.25,
          1,
          2,
          3,
          5,
          10,
          20,
          30
         ],
         "xaxis": "x",
         "y": [
          0.0548,
          0.060899999999999996,
          0.0638,
          0.0642,
          0.065,
          0.0658,
          0.0694,
          0.0661
         ],
         "yaxis": "y"
        }
       ],
       "frames": [
        {
         "data": [
          {
           "customdata": [
            [
             "2000-01"
            ],
            [
             "2000-01"
            ],
            [
             "2000-01"
            ],
            [
             "2000-01"
            ],
            [
             "2000-01"
            ],
            [
             "2000-01"
            ],
            [
             "2000-01"
            ],
            [
             "2000-01"
            ]
           ],
           "hovertemplate": "date=%{customdata[0]}<br>years to maturity=%{x}<br>yield=%{y}<extra></extra>",
           "legendgroup": "",
           "line": {
            "color": "#636efa",
            "dash": "solid"
           },
           "marker": {
            "size": 10,
            "symbol": "circle"
           },
           "mode": "markers+lines",
           "name": "",
           "orientation": "v",
           "showlegend": false,
           "type": "scatter",
           "x": [
            0.25,
            1,
            2,
            3,
            5,
            10,
            20,
            30
           ],
           "xaxis": "x",
           "y": [
            0.0548,
            0.060899999999999996,
            0.0638,
            0.0642,
            0.065,
            0.0658,
            0.0694,
            0.0661
           ],
           "yaxis": "y"
          }
         ],
         "name": "2000-01"
        },
        {
         "data": [
          {
           "customdata": [
            [
             "2000-02"
            ],
            [
             "2000-02"
            ],
            [
             "2000-02"
            ],
            [
             "2000-02"
            ],
            [
             "2000-02"
            ],
            [
             "2000-02"
            ],
            [
             "2000-02"
            ],
            [
             "2000-02"
            ]
           ],
           "hovertemplate": "date=%{customdata[0]}<br>years to maturity=%{x}<br>yield=%{y}<extra></extra>",
           "legendgroup": "",
           "line": {
            "color": "#636efa",
            "dash": "solid"
           },
           "marker": {
            "size": 10,
            "symbol": "circle"
           },
           "mode": "markers+lines",
           "name": "",
           "orientation": "v",
           "showlegend": false,
           "type": "scatter",
           "x": [
            0.25,
            1,
            2,
            3,
            5,
            10,
            20,
            30
           ],
           "xaxis": "x",
           "y": [
            0.0571,
            0.063,
            0.066,
            0.0663,
            0.0668,
            0.0662,
            0.0666,
            0.0643
           ],
           "yaxis": "y"
          }
         ],
         "name": "2000-02"
        },
        {
         "data": [
          {
           "customdata": [
            [
             "2000-03"
            ],
            [
             "2000-03"
            ],
            [
             "2000-03"
            ],
            [
             "2000-03"
            ],
            [
             "2000-03"
            ],
            [
             "2000-03"
            ],
            [
             "2000-03"
            ],
            [
             "2000-03"
            ]
           ],
           "hovertemplate": "date=%{customdata[0]}<br>years to maturity=%{x}<br>yield=%{y}<extra></extra>",
           "legendgroup": "",
           "line": {
            "color": "#636efa",
            "dash": "solid"
           },
           "marker": {
            "size": 10,
            "symbol": "circle"
           },
           "mode": "markers+lines",
           "name": "",
           "orientation": "v",
           "showlegend": false,
           "type": "scatter",
           "x": [
            0.25,
            1,
            2,
            3,
            5,
            10,
            20,
            30
           ],
           "xaxis": "x",
           "y": [
            0.0576,
            0.0617,
            0.0652,
            0.0654,
            0.0659,
            0.0639,
            0.06480000000000001,
            0.0616
           ],
           "yaxis": "y"
          }
         ],
         "name": "2000-03"
        },
        {
         "data": [
          {
           "customdata": [
            [
             "2000-04"
            ],
            [
             "2000-04"
            ],
            [
             "2000-04"
            ],
            [
             "2000-04"
            ],
            [
             "2000-04"
            ],
            [
             "2000-04"
            ],
            [
             "2000-04"
            ],
            [
             "2000-04"
            ]
           ],
           "hovertemplate": "date=%{customdata[0]}<br>years to maturity=%{x}<br>yield=%{y}<extra></extra>",
           "legendgroup": "",
           "line": {
            "color": "#636efa",
            "dash": "solid"
           },
           "marker": {
            "size": 10,
            "symbol": "circle"
           },
           "mode": "markers+lines",
           "name": "",
           "orientation": "v",
           "showlegend": false,
           "type": "scatter",
           "x": [
            0.25,
            1,
            2,
            3,
            5,
            10,
            20,
            30
           ],
           "xaxis": "x",
           "y": [
            0.0587,
            0.0623,
            0.0645,
            0.0641,
            0.063,
            0.06,
            0.061900000000000004,
            0.0584
           ],
           "yaxis": "y"
          }
         ],
         "name": "2000-04"
        },
        {
         "data": [
          {
           "customdata": [
            [
             "2000-05"
            ],
            [
             "2000-05"
            ],
            [
             "2000-05"
            ],
            [
             "2000-05"
            ],
            [
             "2000-05"
            ],
            [
             "2000-05"
            ],
            [
             "2000-05"
            ],
            [
             "2000-05"
            ]
           ],
           "hovertemplate": "date=%{customdata[0]}<br>years to maturity=%{x}<br>yield=%{y}<extra></extra>",
           "legendgroup": "",
           "line": {
            "color": "#636efa",
            "dash": "solid"
           },
           "marker": {
            "size": 10,
            "symbol": "circle"
           },
           "mode": "markers+lines",
           "name": "",
           "orientation": "v",
           "showlegend": false,
           "type": "scatter",
           "x": [
            0.25,
            1,
            2,
            3,
            5,
            10,
            20,
            30
           ],
           "xaxis": "x",
           "y": [
            0.06,
            0.062400000000000004,
            0.0673,
            0.0668,
            0.0659,
            0.0629,
            0.0633,
            0.059800000000000006
           ],
           "yaxis": "y"
          }
         ],
         "name": "2000-05"
        },
        {
         "data": [
          {
           "customdata": [
            [
             "2000-06"
            ],
            [
             "2000-06"
            ],
            [
             "2000-06"
            ],
            [
             "2000-06"
            ],
            [
             "2000-06"
            ],
            [
             "2000-06"
            ],
            [
             "2000-06"
            ],
            [
             "2000-06"
            ]
           ],
           "hovertemplate": "date=%{customdata[0]}<br>years to maturity=%{x}<br>yield=%{y}<extra></extra>",
           "legendgroup": "",
           "line": {
            "color": "#636efa",
            "dash": "solid"
           },
           "marker": {
            "size": 10,
            "symbol": "circle"
           },
           "mode": "markers+lines",
           "name": "",
           "orientation": "v",
           "showlegend": false,
           "type": "scatter",
           "x": [
            0.25,
            1,
            2,
            3,
            5,
            10,
            20,
            30
           ],
           "xaxis": "x",
           "y": [
            0.0574,
            0.0632,
            0.0661,
            0.06559999999999999,
            0.0644,
            0.062,
            0.0633,
            0.059500000000000004
           ],
           "yaxis": "y"
          }
         ],
         "name": "2000-06"
        },
        {
         "data": [
          {
           "customdata": [
            [
             "2000-07"
            ],
            [
             "2000-07"
            ],
            [
             "2000-07"
            ],
            [
             "2000-07"
            ],
            [
             "2000-07"
            ],
            [
             "2000-07"
            ],
            [
             "2000-07"
            ],
            [
             "2000-07"
            ]
           ],
           "hovertemplate": "date=%{customdata[0]}<br>years to maturity=%{x}<br>yield=%{y}<extra></extra>",
           "legendgroup": "",
           "line": {
            "color": "#636efa",
            "dash": "solid"
           },
           "marker": {
            "size": 10,
            "symbol": "circle"
           },
           "mode": "markers+lines",
           "name": "",
           "orientation": "v",
           "showlegend": false,
           "type": "scatter",
           "x": [
            0.25,
            1,
            2,
            3,
            5,
            10,
            20,
            30
           ],
           "xaxis": "x",
           "y": [
            0.06,
            0.060700000000000004,
            0.06309999999999999,
            0.062400000000000004,
            0.061200000000000004,
            0.06,
            0.0622,
            0.0587
           ],
           "yaxis": "y"
          }
         ],
         "name": "2000-07"
        },
        {
         "data": [
          {
           "customdata": [
            [
             "2000-08"
            ],
            [
             "2000-08"
            ],
            [
             "2000-08"
            ],
            [
             "2000-08"
            ],
            [
             "2000-08"
            ],
            [
             "2000-08"
            ],
            [
             "2000-08"
            ],
            [
             "2000-08"
            ]
           ],
           "hovertemplate": "date=%{customdata[0]}<br>years to maturity=%{x}<br>yield=%{y}<extra></extra>",
           "legendgroup": "",
           "line": {
            "color": "#636efa",
            "dash": "solid"
           },
           "marker": {
            "size": 10,
            "symbol": "circle"
           },
           "mode": "markers+lines",
           "name": "",
           "orientation": "v",
           "showlegend": false,
           "type": "scatter",
           "x": [
            0.25,
            1,
            2,
            3,
            5,
            10,
            20,
            30
           ],
           "xaxis": "x",
           "y": [
            0.0625,
            0.060899999999999996,
            0.06269999999999999,
            0.062,
            0.061200000000000004,
            0.06,
            0.060899999999999996,
            0.0574
           ],
           "yaxis": "y"
          }
         ],
         "name": "2000-08"
        },
        {
         "data": [
          {
           "customdata": [
            [
             "2000-09"
            ],
            [
             "2000-09"
            ],
            [
             "2000-09"
            ],
            [
             "2000-09"
            ],
            [
             "2000-09"
            ],
            [
             "2000-09"
            ],
            [
             "2000-09"
            ],
            [
             "2000-09"
            ]
           ],
           "hovertemplate": "date=%{customdata[0]}<br>years to maturity=%{x}<br>yield=%{y}<extra></extra>",
           "legendgroup": "",
           "line": {
            "color": "#636efa",
            "dash": "solid"
           },
           "marker": {
            "size": 10,
            "symbol": "circle"
           },
           "mode": "markers+lines",
           "name": "",
           "orientation": "v",
           "showlegend": false,
           "type": "scatter",
           "x": [
            0.25,
            1,
            2,
            3,
            5,
            10,
            20,
            30
           ],
           "xaxis": "x",
           "y": [
            0.06269999999999999,
            0.061799999999999994,
            0.060899999999999996,
            0.0601,
            0.0592,
            0.056799999999999996,
            0.059500000000000004,
            0.0567
           ],
           "yaxis": "y"
          }
         ],
         "name": "2000-09"
        },
        {
         "data": [
          {
           "customdata": [
            [
             "2000-10"
            ],
            [
             "2000-10"
            ],
            [
             "2000-10"
            ],
            [
             "2000-10"
            ],
            [
             "2000-10"
            ],
            [
             "2000-10"
            ],
            [
             "2000-10"
            ],
            [
             "2000-10"
            ]
           ],
           "hovertemplate": "date=%{customdata[0]}<br>years to maturity=%{x}<br>yield=%{y}<extra></extra>",
           "legendgroup": "",
           "line": {
            "color": "#636efa",
            "dash": "solid"
           },
           "marker": {
            "size": 10,
            "symbol": "circle"
           },
           "mode": "markers+lines",
           "name": "",
           "orientation": "v",
           "showlegend": false,
           "type": "scatter",
           "x": [
            0.25,
            1,
            2,
            3,
            5,
            10,
            20,
            30
           ],
           "xaxis": "x",
           "y": [
            0.06269999999999999,
            0.060599999999999994,
            0.059800000000000006,
            0.0592,
            0.058600000000000006,
            0.0583,
            0.061799999999999994,
            0.0593
           ],
           "yaxis": "y"
          }
         ],
         "name": "2000-10"
        },
        {
         "data": [
          {
           "customdata": [
            [
             "2000-11"
            ],
            [
             "2000-11"
            ],
            [
             "2000-11"
            ],
            [
             "2000-11"
            ],
            [
             "2000-11"
            ],
            [
             "2000-11"
            ],
            [
             "2000-11"
            ],
            [
             "2000-11"
            ]
           ],
           "hovertemplate": "date=%{customdata[0]}<br>years to maturity=%{x}<br>yield=%{y}<extra></extra>",
           "legendgroup": "",
           "line": {
            "color": "#636efa",
            "dash": "solid"
           },
           "marker": {
            "size": 10,
            "symbol": "circle"
           },
           "mode": "markers+lines",
           "name": "",
           "orientation": "v",
           "showlegend": false,
           "type": "scatter",
           "x": [
            0.25,
            1,
            2,
            3,
            5,
            10,
            20,
            30
           ],
           "xaxis": "x",
           "y": [
            0.0637,
            0.061,
            0.0588,
            0.0582,
            0.0579,
            0.0574,
            0.06,
            0.057800000000000004
           ],
           "yaxis": "y"
          }
         ],
         "name": "2000-11"
        },
        {
         "data": [
          {
           "customdata": [
            [
             "2000-12"
            ],
            [
             "2000-12"
            ],
            [
             "2000-12"
            ],
            [
             "2000-12"
            ],
            [
             "2000-12"
            ],
            [
             "2000-12"
            ],
            [
             "2000-12"
            ],
            [
             "2000-12"
            ]
           ],
           "hovertemplate": "date=%{customdata[0]}<br>years to maturity=%{x}<br>yield=%{y}<extra></extra>",
           "legendgroup": "",
           "line": {
            "color": "#636efa",
            "dash": "solid"
           },
           "marker": {
            "size": 10,
            "symbol": "circle"
           },
           "mode": "markers+lines",
           "name": "",
           "orientation": "v",
           "showlegend": false,
           "type": "scatter",
           "x": [
            0.25,
            1,
            2,
            3,
            5,
            10,
            20,
            30
           ],
           "xaxis": "x",
           "y": [
            0.0623,
            0.0593,
            0.0562,
            0.0555,
            0.0546,
            0.0552,
            0.0582,
            0.0564
           ],
           "yaxis": "y"
          }
         ],
         "name": "2000-12"
        },
        {
         "data": [
          {
           "customdata": [
            [
             "2001-01"
            ],
            [
             "2001-01"
            ],
            [
             "2001-01"
            ],
            [
             "2001-01"
            ],
            [
             "2001-01"
            ],
            [
             "2001-01"
            ],
            [
             "2001-01"
            ],
            [
             "2001-01"
            ]
           ],
           "hovertemplate": "date=%{customdata[0]}<br>years to maturity=%{x}<br>yield=%{y}<extra></extra>",
           "legendgroup": "",
           "line": {
            "color": "#636efa",
            "dash": "solid"
           },
           "marker": {
            "size": 10,
            "symbol": "circle"
           },
           "mode": "markers+lines",
           "name": "",
           "orientation": "v",
           "showlegend": false,
           "type": "scatter",
           "x": [
            0.25,
            1,
            2,
            3,
            5,
            10,
            20,
            30
           ],
           "xaxis": "x",
           "y": [
            0.0587,
            0.051100000000000007,
            0.0487,
            0.0482,
            0.047599999999999996,
            0.0492,
            0.0546,
            0.0535
           ],
           "yaxis": "y"
          }
         ],
         "name": "2001-01"
        },
        {
         "data": [
          {
           "customdata": [
            [
             "2001-02"
            ],
            [
             "2001-02"
            ],
            [
             "2001-02"
            ],
            [
             "2001-02"
            ],
            [
             "2001-02"
            ],
            [
             "2001-02"
            ],
            [
             "2001-02"
            ],
            [
             "2001-02"
            ]
           ],
           "hovertemplate": "date=%{customdata[0]}<br>years to maturity=%{x}<br>yield=%{y}<extra></extra>",
           "legendgroup": "",
           "line": {
            "color": "#636efa",
            "dash": "solid"
           },
           "marker": {
            "size": 10,
            "symbol": "circle"
           },
           "mode": "markers+lines",
           "name": "",
           "orientation": "v",
           "showlegend": false,
           "type": "scatter",
           "x": [
            0.25,
            1,
            2,
            3,
            5,
            10,
            20,
            30
           ],
           "xaxis": "x",
           "y": [
            0.05,
            0.045599999999999995,
            0.0455,
            0.045899999999999996,
            0.0478,
            0.051,
            0.0555,
            0.0546
           ],
           "yaxis": "y"
          }
         ],
         "name": "2001-02"
        },
        {
         "data": [
          {
           "customdata": [
            [
             "2001-03"
            ],
            [
             "2001-03"
            ],
            [
             "2001-03"
            ],
            [
             "2001-03"
            ],
            [
             "2001-03"
            ],
            [
             "2001-03"
            ],
            [
             "2001-03"
            ],
            [
             "2001-03"
            ]
           ],
           "hovertemplate": "date=%{customdata[0]}<br>years to maturity=%{x}<br>yield=%{y}<extra></extra>",
           "legendgroup": "",
           "line": {
            "color": "#636efa",
            "dash": "solid"
           },
           "marker": {
            "size": 10,
            "symbol": "circle"
           },
           "mode": "markers+lines",
           "name": "",
           "orientation": "v",
           "showlegend": false,
           "type": "scatter",
           "x": [
            0.25,
            1,
            2,
            3,
            5,
            10,
            20,
            30
           ],
           "xaxis": "x",
           "y": [
            0.0484,
            0.044500000000000005,
            0.0441,
            0.044800000000000006,
            0.0467,
            0.0487,
            0.0545,
            0.0529
           ],
           "yaxis": "y"
          }
         ],
         "name": "2001-03"
        },
        {
         "data": [
          {
           "customdata": [
            [
             "2001-04"
            ],
            [
             "2001-04"
            ],
            [
             "2001-04"
            ],
            [
             "2001-04"
            ],
            [
             "2001-04"
            ],
            [
             "2001-04"
            ],
            [
             "2001-04"
            ],
            [
             "2001-04"
            ]
           ],
           "hovertemplate": "date=%{customdata[0]}<br>years to maturity=%{x}<br>yield=%{y}<extra></extra>",
           "legendgroup": "",
           "line": {
            "color": "#636efa",
            "dash": "solid"
           },
           "marker": {
            "size": 10,
            "symbol": "circle"
           },
           "mode": "markers+lines",
           "name": "",
           "orientation": "v",
           "showlegend": false,
           "type": "scatter",
           "x": [
            0.25,
            1,
            2,
            3,
            5,
            10,
            20,
            30
           ],
           "xaxis": "x",
           "y": [
            0.042199999999999994,
            0.040999999999999995,
            0.042199999999999994,
            0.0437,
            0.0466,
            0.049800000000000004,
            0.0564,
            0.054900000000000004
           ],
           "yaxis": "y"
          }
         ],
         "name": "2001-04"
        },
        {
         "data": [
          {
           "customdata": [
            [
             "2001-05"
            ],
            [
             "2001-05"
            ],
            [
             "2001-05"
            ],
            [
             "2001-05"
            ],
            [
             "2001-05"
            ],
            [
             "2001-05"
            ],
            [
             "2001-05"
            ],
            [
             "2001-05"
            ]
           ],
           "hovertemplate": "date=%{customdata[0]}<br>years to maturity=%{x}<br>yield=%{y}<extra></extra>",
           "legendgroup": "",
           "line": {
            "color": "#636efa",
            "dash": "solid"
           },
           "marker": {
            "size": 10,
            "symbol": "circle"
           },
           "mode": "markers+lines",
           "name": "",
           "orientation": "v",
           "showlegend": false,
           "type": "scatter",
           "x": [
            0.25,
            1,
            2,
            3,
            5,
            10,
            20,
            30
           ],
           "xaxis": "x",
           "y": [
            0.0392,
            0.0391,
            0.042300000000000004,
            0.045,
            0.049400000000000006,
            0.053,
            0.0587,
            0.0575
           ],
           "yaxis": "y"
          }
         ],
         "name": "2001-05"
        },
        {
         "data": [
          {
           "customdata": [
            [
             "2001-06"
            ],
            [
             "2001-06"
            ],
            [
             "2001-06"
            ],
            [
             "2001-06"
            ],
            [
             "2001-06"
            ],
            [
             "2001-06"
            ],
            [
             "2001-06"
            ],
            [
             "2001-06"
            ]
           ],
           "hovertemplate": "date=%{customdata[0]}<br>years to maturity=%{x}<br>yield=%{y}<extra></extra>",
           "legendgroup": "",
           "line": {
            "color": "#636efa",
            "dash": "solid"
           },
           "marker": {
            "size": 10,
            "symbol": "circle"
           },
           "mode": "markers+lines",
           "name": "",
           "orientation": "v",
           "showlegend": false,
           "type": "scatter",
           "x": [
            0.25,
            1,
            2,
            3,
            5,
            10,
            20,
            30
           ],
           "xaxis": "x",
           "y": [
            0.036699999999999997,
            0.036699999999999997,
            0.042199999999999994,
            0.0449,
            0.049400000000000006,
            0.053899999999999997,
            0.058899999999999994,
            0.0571
           ],
           "yaxis": "y"
          }
         ],
         "name": "2001-06"
        },
        {
         "data": [
          {
           "customdata": [
            [
             "2001-07"
            ],
            [
             "2001-07"
            ],
            [
             "2001-07"
            ],
            [
             "2001-07"
            ],
            [
             "2001-07"
            ],
            [
             "2001-07"
            ],
            [
             "2001-07"
            ],
            [
             "2001-07"
            ],
            [
             "2001-07"
            ]
           ],
           "hovertemplate": "date=%{customdata[0]}<br>years to maturity=%{x}<br>yield=%{y}<extra></extra>",
           "legendgroup": "",
           "line": {
            "color": "#636efa",
            "dash": "solid"
           },
           "marker": {
            "size": 10,
            "symbol": "circle"
           },
           "mode": "markers+lines",
           "name": "",
           "orientation": "v",
           "showlegend": false,
           "type": "scatter",
           "x": [
            0.08333333333333333,
            0.25,
            1,
            2,
            3,
            5,
            10,
            20,
            30
           ],
           "xaxis": "x",
           "y": [
            0.036699999999999997,
            0.036699999999999997,
            0.0374,
            0.0421,
            0.0447,
            0.048799999999999996,
            0.0537,
            0.058600000000000006,
            0.057
           ],
           "yaxis": "y"
          }
         ],
         "name": "2001-07"
        },
        {
         "data": [
          {
           "customdata": [
            [
             "2001-08"
            ],
            [
             "2001-08"
            ],
            [
             "2001-08"
            ],
            [
             "2001-08"
            ],
            [
             "2001-08"
            ],
            [
             "2001-08"
            ],
            [
             "2001-08"
            ],
            [
             "2001-08"
            ],
            [
             "2001-08"
            ]
           ],
           "hovertemplate": "date=%{customdata[0]}<br>years to maturity=%{x}<br>yield=%{y}<extra></extra>",
           "legendgroup": "",
           "line": {
            "color": "#636efa",
            "dash": "solid"
           },
           "marker": {
            "size": 10,
            "symbol": "circle"
           },
           "mode": "markers+lines",
           "name": "",
           "orientation": "v",
           "showlegend": false,
           "type": "scatter",
           "x": [
            0.08333333333333333,
            0.25,
            1,
            2,
            3,
            5,
            10,
            20,
            30
           ],
           "xaxis": "x",
           "y": [
            0.0365,
            0.0353,
            0.0356,
            0.0383,
            0.0409,
            0.0462,
            0.051100000000000007,
            0.056299999999999996,
            0.0553
           ],
           "yaxis": "y"
          }
         ],
         "name": "2001-08"
        },
        {
         "data": [
          {
           "customdata": [
            [
             "2001-09"
            ],
            [
             "2001-09"
            ],
            [
             "2001-09"
            ],
            [
             "2001-09"
            ],
            [
             "2001-09"
            ],
            [
             "2001-09"
            ],
            [
             "2001-09"
            ],
            [
             "2001-09"
            ],
            [
             "2001-09"
            ]
           ],
           "hovertemplate": "date=%{customdata[0]}<br>years to maturity=%{x}<br>yield=%{y}<extra></extra>",
           "legendgroup": "",
           "line": {
            "color": "#636efa",
            "dash": "solid"
           },
           "marker": {
            "size": 10,
            "symbol": "circle"
           },
           "mode": "markers+lines",
           "name": "",
           "orientation": "v",
           "showlegend": false,
           "type": "scatter",
           "x": [
            0.08333333333333333,
            0.25,
            1,
            2,
            3,
            5,
            10,
            20,
            30
           ],
           "xaxis": "x",
           "y": [
            0.034300000000000004,
            0.0344,
            0.0355,
            0.0383,
            0.040999999999999995,
            0.0463,
            0.0499,
            0.0559,
            0.055
           ],
           "yaxis": "y"
          }
         ],
         "name": "2001-09"
        },
        {
         "data": [
          {
           "customdata": [
            [
             "2001-10"
            ],
            [
             "2001-10"
            ],
            [
             "2001-10"
            ],
            [
             "2001-10"
            ],
            [
             "2001-10"
            ],
            [
             "2001-10"
            ],
            [
             "2001-10"
            ],
            [
             "2001-10"
            ],
            [
             "2001-10"
            ]
           ],
           "hovertemplate": "date=%{customdata[0]}<br>years to maturity=%{x}<br>yield=%{y}<extra></extra>",
           "legendgroup": "",
           "line": {
            "color": "#636efa",
            "dash": "solid"
           },
           "marker": {
            "size": 10,
            "symbol": "circle"
           },
           "mode": "markers+lines",
           "name": "",
           "orientation": "v",
           "showlegend": false,
           "type": "scatter",
           "x": [
            0.08333333333333333,
            0.25,
            1,
            2,
            3,
            5,
            10,
            20,
            30
           ],
           "xaxis": "x",
           "y": [
            0.0226,
            0.023700000000000002,
            0.024700000000000003,
            0.0282,
            0.0318,
            0.039,
            0.0455,
            0.053899999999999997,
            0.0538
           ],
           "yaxis": "y"
          }
         ],
         "name": "2001-10"
        },
        {
         "data": [
          {
           "customdata": [
            [
             "2001-11"
            ],
            [
             "2001-11"
            ],
            [
             "2001-11"
            ],
            [
             "2001-11"
            ],
            [
             "2001-11"
            ],
            [
             "2001-11"
            ],
            [
             "2001-11"
            ],
            [
             "2001-11"
            ],
            [
             "2001-11"
            ]
           ],
           "hovertemplate": "date=%{customdata[0]}<br>years to maturity=%{x}<br>yield=%{y}<extra></extra>",
           "legendgroup": "",
           "line": {
            "color": "#636efa",
            "dash": "solid"
           },
           "marker": {
            "size": 10,
            "symbol": "circle"
           },
           "mode": "markers+lines",
           "name": "",
           "orientation": "v",
           "showlegend": false,
           "type": "scatter",
           "x": [
            0.08333333333333333,
            0.25,
            1,
            2,
            3,
            5,
            10,
            20,
            30
           ],
           "xaxis": "x",
           "y": [
            0.0218,
            0.0206,
            0.021,
            0.024900000000000002,
            0.0291,
            0.0366,
            0.0424,
            0.05,
            0.0479
           ],
           "yaxis": "y"
          }
         ],
         "name": "2001-11"
        },
        {
         "data": [
          {
           "customdata": [
            [
             "2001-12"
            ],
            [
             "2001-12"
            ],
            [
             "2001-12"
            ],
            [
             "2001-12"
            ],
            [
             "2001-12"
            ],
            [
             "2001-12"
            ],
            [
             "2001-12"
            ],
            [
             "2001-12"
            ],
            [
             "2001-12"
            ]
           ],
           "hovertemplate": "date=%{customdata[0]}<br>years to maturity=%{x}<br>yield=%{y}<extra></extra>",
           "legendgroup": "",
           "line": {
            "color": "#636efa",
            "dash": "solid"
           },
           "marker": {
            "size": 10,
            "symbol": "circle"
           },
           "mode": "markers+lines",
           "name": "",
           "orientation": "v",
           "showlegend": false,
           "type": "scatter",
           "x": [
            0.08333333333333333,
            0.25,
            1,
            2,
            3,
            5,
            10,
            20,
            30
           ],
           "xaxis": "x",
           "y": [
            0.018500000000000003,
            0.0178,
            0.0208,
            0.0282,
            0.032799999999999996,
            0.0404,
            0.0475,
            0.054900000000000004,
            0.0526
           ],
           "yaxis": "y"
          }
         ],
         "name": "2001-12"
        },
        {
         "data": [
          {
           "customdata": [
            [
             "2002-01"
            ],
            [
             "2002-01"
            ],
            [
             "2002-01"
            ],
            [
             "2002-01"
            ],
            [
             "2002-01"
            ],
            [
             "2002-01"
            ],
            [
             "2002-01"
            ],
            [
             "2002-01"
            ],
            [
             "2002-01"
            ]
           ],
           "hovertemplate": "date=%{customdata[0]}<br>years to maturity=%{x}<br>yield=%{y}<extra></extra>",
           "legendgroup": "",
           "line": {
            "color": "#636efa",
            "dash": "solid"
           },
           "marker": {
            "size": 10,
            "symbol": "circle"
           },
           "mode": "markers+lines",
           "name": "",
           "orientation": "v",
           "showlegend": false,
           "type": "scatter",
           "x": [
            0.08333333333333333,
            0.25,
            1,
            2,
            3,
            5,
            10,
            20,
            30
           ],
           "xaxis": "x",
           "y": [
            0.0173,
            0.0174,
            0.022799999999999997,
            0.0322,
            0.0375,
            0.0452,
            0.052000000000000005,
            0.058600000000000006,
            0.0556
           ],
           "yaxis": "y"
          }
         ],
         "name": "2002-01"
        },
        {
         "data": [
          {
           "customdata": [
            [
             "2002-02"
            ],
            [
             "2002-02"
            ],
            [
             "2002-02"
            ],
            [
             "2002-02"
            ],
            [
             "2002-02"
            ],
            [
             "2002-02"
            ],
            [
             "2002-02"
            ],
            [
             "2002-02"
            ],
            [
             "2002-02"
            ]
           ],
           "hovertemplate": "date=%{customdata[0]}<br>years to maturity=%{x}<br>yield=%{y}<extra></extra>",
           "legendgroup": "",
           "line": {
            "color": "#636efa",
            "dash": "solid"
           },
           "marker": {
            "size": 10,
            "symbol": "circle"
           },
           "mode": "markers+lines",
           "name": "",
           "orientation": "v",
           "showlegend": false,
           "type": "scatter",
           "x": [
            0.08333333333333333,
            0.25,
            1,
            2,
            3,
            5,
            10,
            20,
            30
           ],
           "xaxis": "x",
           "y": [
            0.0169,
            0.0176,
            0.0222,
            0.0308,
            0.0362,
            0.0437,
            0.050199999999999995,
            0.056299999999999996,
            0.054000000000000006
           ],
           "yaxis": "y"
          }
         ],
         "name": "2002-02"
        },
        {
         "data": [
          {
           "customdata": [
            [
             "2002-03"
            ],
            [
             "2002-03"
            ],
            [
             "2002-03"
            ],
            [
             "2002-03"
            ],
            [
             "2002-03"
            ],
            [
             "2002-03"
            ],
            [
             "2002-03"
            ],
            [
             "2002-03"
            ],
            [
             "2002-03"
            ]
           ],
           "hovertemplate": "date=%{customdata[0]}<br>years to maturity=%{x}<br>yield=%{y}<extra></extra>",
           "legendgroup": "",
           "line": {
            "color": "#636efa",
            "dash": "solid"
           },
           "marker": {
            "size": 10,
            "symbol": "circle"
           },
           "mode": "markers+lines",
           "name": "",
           "orientation": "v",
           "showlegend": false,
           "type": "scatter",
           "x": [
            0.08333333333333333,
            0.25,
            1,
            2,
            3,
            5,
            10,
            20,
            30
           ],
           "xaxis": "x",
           "y": [
            0.0178,
            0.0177,
            0.0233,
            0.0318,
            0.0373,
            0.0443,
            0.049800000000000004,
            0.057,
            0.055999999999999994
           ],
           "yaxis": "y"
          }
         ],
         "name": "2002-03"
        },
        {
         "data": [
          {
           "customdata": [
            [
             "2002-04"
            ],
            [
             "2002-04"
            ],
            [
             "2002-04"
            ],
            [
             "2002-04"
            ],
            [
             "2002-04"
            ],
            [
             "2002-04"
            ],
            [
             "2002-04"
            ],
            [
             "2002-04"
            ],
            [
             "2002-04"
            ]
           ],
           "hovertemplate": "date=%{customdata[0]}<br>years to maturity=%{x}<br>yield=%{y}<extra></extra>",
           "legendgroup": "",
           "line": {
            "color": "#636efa",
            "dash": "solid"
           },
           "marker": {
            "size": 10,
            "symbol": "circle"
           },
           "mode": "markers+lines",
           "name": "",
           "orientation": "v",
           "showlegend": false,
           "type": "scatter",
           "x": [
            0.08333333333333333,
            0.25,
            1,
            2,
            3,
            5,
            10,
            20,
            30
           ],
           "xaxis": "x",
           "y": [
            0.0179,
            0.0179,
            0.0276,
            0.0374,
            0.0429,
            0.0493,
            0.054400000000000004,
            0.0604,
            0.0592
           ],
           "yaxis": "y"
          }
         ],
         "name": "2002-04"
        },
        {
         "data": [
          {
           "customdata": [
            [
             "2002-05"
            ],
            [
             "2002-05"
            ],
            [
             "2002-05"
            ],
            [
             "2002-05"
            ],
            [
             "2002-05"
            ],
            [
             "2002-05"
            ],
            [
             "2002-05"
            ],
            [
             "2002-05"
            ],
            [
             "2002-05"
            ]
           ],
           "hovertemplate": "date=%{customdata[0]}<br>years to maturity=%{x}<br>yield=%{y}<extra></extra>",
           "legendgroup": "",
           "line": {
            "color": "#636efa",
            "dash": "solid"
           },
           "marker": {
            "size": 10,
            "symbol": "circle"
           },
           "mode": "markers+lines",
           "name": "",
           "orientation": "v",
           "showlegend": false,
           "type": "scatter",
           "x": [
            0.08333333333333333,
            0.25,
            1,
            2,
            3,
            5,
            10,
            20,
            30
           ],
           "xaxis": "x",
           "y": [
            0.0176,
            0.0177,
            0.0233,
            0.0321,
            0.0378,
            0.0449,
            0.0508,
            0.0571,
            0.056900000000000006
           ],
           "yaxis": "y"
          }
         ],
         "name": "2002-05"
        },
        {
         "data": [
          {
           "customdata": [
            [
             "2002-06"
            ],
            [
             "2002-06"
            ],
            [
             "2002-06"
            ],
            [
             "2002-06"
            ],
            [
             "2002-06"
            ],
            [
             "2002-06"
            ],
            [
             "2002-06"
            ],
            [
             "2002-06"
            ],
            [
             "2002-06"
            ]
           ],
           "hovertemplate": "date=%{customdata[0]}<br>years to maturity=%{x}<br>yield=%{y}<extra></extra>",
           "legendgroup": "",
           "line": {
            "color": "#636efa",
            "dash": "solid"
           },
           "marker": {
            "size": 10,
            "symbol": "circle"
           },
           "mode": "markers+lines",
           "name": "",
           "orientation": "v",
           "showlegend": false,
           "type": "scatter",
           "x": [
            0.08333333333333333,
            0.25,
            1,
            2,
            3,
            5,
            10,
            20,
            30
           ],
           "xaxis": "x",
           "y": [
            0.0172,
            0.0177,
            0.0235,
            0.0319,
            0.037200000000000004,
            0.0436,
            0.0506,
            0.0576,
            0.0576
           ],
           "yaxis": "y"
          }
         ],
         "name": "2002-06"
        },
        {
         "data": [
          {
           "customdata": [
            [
             "2002-07"
            ],
            [
             "2002-07"
            ],
            [
             "2002-07"
            ],
            [
             "2002-07"
            ],
            [
             "2002-07"
            ],
            [
             "2002-07"
            ],
            [
             "2002-07"
            ],
            [
             "2002-07"
            ],
            [
             "2002-07"
            ]
           ],
           "hovertemplate": "date=%{customdata[0]}<br>years to maturity=%{x}<br>yield=%{y}<extra></extra>",
           "legendgroup": "",
           "line": {
            "color": "#636efa",
            "dash": "solid"
           },
           "marker": {
            "size": 10,
            "symbol": "circle"
           },
           "mode": "markers+lines",
           "name": "",
           "orientation": "v",
           "showlegend": false,
           "type": "scatter",
           "x": [
            0.08333333333333333,
            0.25,
            1,
            2,
            3,
            5,
            10,
            20,
            30
           ],
           "xaxis": "x",
           "y": [
            0.0171,
            0.0172,
            0.0209,
            0.0288,
            0.0335,
            0.0408,
            0.048499999999999995,
            0.0564,
            0.0567
           ],
           "yaxis": "y"
          }
         ],
         "name": "2002-07"
        },
        {
         "data": [
          {
           "customdata": [
            [
             "2002-08"
            ],
            [
             "2002-08"
            ],
            [
             "2002-08"
            ],
            [
             "2002-08"
            ],
            [
             "2002-08"
            ],
            [
             "2002-08"
            ],
            [
             "2002-08"
            ],
            [
             "2002-08"
            ],
            [
             "2002-08"
            ]
           ],
           "hovertemplate": "date=%{customdata[0]}<br>years to maturity=%{x}<br>yield=%{y}<extra></extra>",
           "legendgroup": "",
           "line": {
            "color": "#636efa",
            "dash": "solid"
           },
           "marker": {
            "size": 10,
            "symbol": "circle"
           },
           "mode": "markers+lines",
           "name": "",
           "orientation": "v",
           "showlegend": false,
           "type": "scatter",
           "x": [
            0.08333333333333333,
            0.25,
            1,
            2,
            3,
            5,
            10,
            20,
            30
           ],
           "xaxis": "x",
           "y": [
            0.017,
            0.0168,
            0.0175,
            0.0215,
            0.026000000000000002,
            0.0346,
            0.0447,
            0.0541,
            0.055099999999999996
           ],
           "yaxis": "y"
          }
         ],
         "name": "2002-08"
        },
        {
         "data": [
          {
           "customdata": [
            [
             "2002-09"
            ],
            [
             "2002-09"
            ],
            [
             "2002-09"
            ],
            [
             "2002-09"
            ],
            [
             "2002-09"
            ],
            [
             "2002-09"
            ],
            [
             "2002-09"
            ],
            [
             "2002-09"
            ],
            [
             "2002-09"
            ]
           ],
           "hovertemplate": "date=%{customdata[0]}<br>years to maturity=%{x}<br>yield=%{y}<extra></extra>",
           "legendgroup": "",
           "line": {
            "color": "#636efa",
            "dash": "solid"
           },
           "marker": {
            "size": 10,
            "symbol": "circle"
           },
           "mode": "markers+lines",
           "name": "",
           "orientation": "v",
           "showlegend": false,
           "type": "scatter",
           "x": [
            0.08333333333333333,
            0.25,
            1,
            2,
            3,
            5,
            10,
            20,
            30
           ],
           "xaxis": "x",
           "y": [
            0.0169,
            0.016399999999999998,
            0.0171,
            0.020099999999999996,
            0.0236,
            0.0304,
            0.0398,
            0.0492,
            0.050199999999999995
           ],
           "yaxis": "y"
          }
         ],
         "name": "2002-09"
        },
        {
         "data": [
          {
           "customdata": [
            [
             "2002-10"
            ],
            [
             "2002-10"
            ],
            [
             "2002-10"
            ],
            [
             "2002-10"
            ],
            [
             "2002-10"
            ],
            [
             "2002-10"
            ],
            [
             "2002-10"
            ],
            [
             "2002-10"
            ],
            [
             "2002-10"
            ]
           ],
           "hovertemplate": "date=%{customdata[0]}<br>years to maturity=%{x}<br>yield=%{y}<extra></extra>",
           "legendgroup": "",
           "line": {
            "color": "#636efa",
            "dash": "solid"
           },
           "marker": {
            "size": 10,
            "symbol": "circle"
           },
           "mode": "markers+lines",
           "name": "",
           "orientation": "v",
           "showlegend": false,
           "type": "scatter",
           "x": [
            0.08333333333333333,
            0.25,
            1,
            2,
            3,
            5,
            10,
            20,
            30
           ],
           "xaxis": "x",
           "y": [
            0.0163,
            0.0159,
            0.015600000000000001,
            0.018000000000000002,
            0.021099999999999997,
            0.0275,
            0.037200000000000004,
            0.0481,
            0.0501
           ],
           "yaxis": "y"
          }
         ],
         "name": "2002-10"
        },
        {
         "data": [
          {
           "customdata": [
            [
             "2002-11"
            ],
            [
             "2002-11"
            ],
            [
             "2002-11"
            ],
            [
             "2002-11"
            ],
            [
             "2002-11"
            ],
            [
             "2002-11"
            ],
            [
             "2002-11"
            ],
            [
             "2002-11"
            ],
            [
             "2002-11"
            ]
           ],
           "hovertemplate": "date=%{customdata[0]}<br>years to maturity=%{x}<br>yield=%{y}<extra></extra>",
           "legendgroup": "",
           "line": {
            "color": "#636efa",
            "dash": "solid"
           },
           "marker": {
            "size": 10,
            "symbol": "circle"
           },
           "mode": "markers+lines",
           "name": "",
           "orientation": "v",
           "showlegend": false,
           "type": "scatter",
           "x": [
            0.08333333333333333,
            0.25,
            1,
            2,
            3,
            5,
            10,
            20,
            30
           ],
           "xaxis": "x",
           "y": [
            0.0144,
            0.0143,
            0.0146,
            0.0176,
            0.021400000000000002,
            0.0292,
            0.0401,
            0.0507,
            0.053
           ],
           "yaxis": "y"
          }
         ],
         "name": "2002-11"
        },
        {
         "data": [
          {
           "customdata": [
            [
             "2002-12"
            ],
            [
             "2002-12"
            ],
            [
             "2002-12"
            ],
            [
             "2002-12"
            ],
            [
             "2002-12"
            ],
            [
             "2002-12"
            ],
            [
             "2002-12"
            ],
            [
             "2002-12"
            ],
            [
             "2002-12"
            ]
           ],
           "hovertemplate": "date=%{customdata[0]}<br>years to maturity=%{x}<br>yield=%{y}<extra></extra>",
           "legendgroup": "",
           "line": {
            "color": "#636efa",
            "dash": "solid"
           },
           "marker": {
            "size": 10,
            "symbol": "circle"
           },
           "mode": "markers+lines",
           "name": "",
           "orientation": "v",
           "showlegend": false,
           "type": "scatter",
           "x": [
            0.08333333333333333,
            0.25,
            1,
            2,
            3,
            5,
            10,
            20,
            30
           ],
           "xaxis": "x",
           "y": [
            0.0126,
            0.0124,
            0.015600000000000001,
            0.0207,
            0.025099999999999997,
            0.0331,
            0.042199999999999994,
            0.051699999999999996,
            0.052199999999999996
           ],
           "yaxis": "y"
          }
         ],
         "name": "2002-12"
        },
        {
         "data": [
          {
           "customdata": [
            [
             "2003-01"
            ],
            [
             "2003-01"
            ],
            [
             "2003-01"
            ],
            [
             "2003-01"
            ],
            [
             "2003-01"
            ],
            [
             "2003-01"
            ],
            [
             "2003-01"
            ],
            [
             "2003-01"
            ],
            [
             "2003-01"
            ]
           ],
           "hovertemplate": "date=%{customdata[0]}<br>years to maturity=%{x}<br>yield=%{y}<extra></extra>",
           "legendgroup": "",
           "line": {
            "color": "#636efa",
            "dash": "solid"
           },
           "marker": {
            "size": 10,
            "symbol": "circle"
           },
           "mode": "markers+lines",
           "name": "",
           "orientation": "v",
           "showlegend": false,
           "type": "scatter",
           "x": [
            0.08333333333333333,
            0.25,
            1,
            2,
            3,
            5,
            10,
            20,
            30
           ],
           "xaxis": "x",
           "y": [
            0.0118,
            0.012199999999999999,
            0.014199999999999999,
            0.018000000000000002,
            0.0222,
            0.0305,
            0.0407,
            0.050499999999999996,
            0.0518
           ],
           "yaxis": "y"
          }
         ],
         "name": "2003-01"
        },
        {
         "data": [
          {
           "customdata": [
            [
             "2003-02"
            ],
            [
             "2003-02"
            ],
            [
             "2003-02"
            ],
            [
             "2003-02"
            ],
            [
             "2003-02"
            ],
            [
             "2003-02"
            ],
            [
             "2003-02"
            ],
            [
             "2003-02"
            ],
            [
             "2003-02"
            ]
           ],
           "hovertemplate": "date=%{customdata[0]}<br>years to maturity=%{x}<br>yield=%{y}<extra></extra>",
           "legendgroup": "",
           "line": {
            "color": "#636efa",
            "dash": "solid"
           },
           "marker": {
            "size": 10,
            "symbol": "circle"
           },
           "mode": "markers+lines",
           "name": "",
           "orientation": "v",
           "showlegend": false,
           "type": "scatter",
           "x": [
            0.08333333333333333,
            0.25,
            1,
            2,
            3,
            5,
            10,
            20,
            30
           ],
           "xaxis": "x",
           "y": [
            0.0116,
            0.0118,
            0.0134,
            0.0172,
            0.0217,
            0.0305,
            0.0401,
            0.0493,
            0.0501
           ],
           "yaxis": "y"
          }
         ],
         "name": "2003-02"
        },
        {
         "data": [
          {
           "customdata": [
            [
             "2003-03"
            ],
            [
             "2003-03"
            ],
            [
             "2003-03"
            ],
            [
             "2003-03"
            ],
            [
             "2003-03"
            ],
            [
             "2003-03"
            ],
            [
             "2003-03"
            ],
            [
             "2003-03"
            ],
            [
             "2003-03"
            ]
           ],
           "hovertemplate": "date=%{customdata[0]}<br>years to maturity=%{x}<br>yield=%{y}<extra></extra>",
           "legendgroup": "",
           "line": {
            "color": "#636efa",
            "dash": "solid"
           },
           "marker": {
            "size": 10,
            "symbol": "circle"
           },
           "mode": "markers+lines",
           "name": "",
           "orientation": "v",
           "showlegend": false,
           "type": "scatter",
           "x": [
            0.08333333333333333,
            0.25,
            1,
            2,
            3,
            5,
            10,
            20,
            30
           ],
           "xaxis": "x",
           "y": [
            0.012,
            0.012,
            0.0126,
            0.0152,
            0.0189,
            0.026600000000000002,
            0.0368,
            0.046900000000000004,
            0.0492
           ],
           "yaxis": "y"
          }
         ],
         "name": "2003-03"
        },
        {
         "data": [
          {
           "customdata": [
            [
             "2003-04"
            ],
            [
             "2003-04"
            ],
            [
             "2003-04"
            ],
            [
             "2003-04"
            ],
            [
             "2003-04"
            ],
            [
             "2003-04"
            ],
            [
             "2003-04"
            ],
            [
             "2003-04"
            ],
            [
             "2003-04"
            ]
           ],
           "hovertemplate": "date=%{customdata[0]}<br>years to maturity=%{x}<br>yield=%{y}<extra></extra>",
           "legendgroup": "",
           "line": {
            "color": "#636efa",
            "dash": "solid"
           },
           "marker": {
            "size": 10,
            "symbol": "circle"
           },
           "mode": "markers+lines",
           "name": "",
           "orientation": "v",
           "showlegend": false,
           "type": "scatter",
           "x": [
            0.08333333333333333,
            0.25,
            1,
            2,
            3,
            5,
            10,
            20,
            30
           ],
           "xaxis": "x",
           "y": [
            0.011699999999999999,
            0.011200000000000002,
            0.0116,
            0.015,
            0.0192,
            0.0278,
            0.0384,
            0.048499999999999995,
            0.0506
           ],
           "yaxis": "y"
          }
         ],
         "name": "2003-04"
        },
        {
         "data": [
          {
           "customdata": [
            [
             "2003-05"
            ],
            [
             "2003-05"
            ],
            [
             "2003-05"
            ],
            [
             "2003-05"
            ],
            [
             "2003-05"
            ],
            [
             "2003-05"
            ],
            [
             "2003-05"
            ],
            [
             "2003-05"
            ],
            [
             "2003-05"
            ]
           ],
           "hovertemplate": "date=%{customdata[0]}<br>years to maturity=%{x}<br>yield=%{y}<extra></extra>",
           "legendgroup": "",
           "line": {
            "color": "#636efa",
            "dash": "solid"
           },
           "marker": {
            "size": 10,
            "symbol": "circle"
           },
           "mode": "markers+lines",
           "name": "",
           "orientation": "v",
           "showlegend": false,
           "type": "scatter",
           "x": [
            0.08333333333333333,
            0.25,
            1,
            2,
            3,
            5,
            10,
            20,
            30
           ],
           "xaxis": "x",
           "y": [
            0.0109,
            0.011000000000000001,
            0.0121,
            0.015,
            0.019299999999999998,
            0.0282,
            0.0388,
            0.048,
            0.0501
           ],
           "yaxis": "y"
          }
         ],
         "name": "2003-05"
        },
        {
         "data": [
          {
           "customdata": [
            [
             "2003-06"
            ],
            [
             "2003-06"
            ],
            [
             "2003-06"
            ],
            [
             "2003-06"
            ],
            [
             "2003-06"
            ],
            [
             "2003-06"
            ],
            [
             "2003-06"
            ],
            [
             "2003-06"
            ],
            [
             "2003-06"
            ]
           ],
           "hovertemplate": "date=%{customdata[0]}<br>years to maturity=%{x}<br>yield=%{y}<extra></extra>",
           "legendgroup": "",
           "line": {
            "color": "#636efa",
            "dash": "solid"
           },
           "marker": {
            "size": 10,
            "symbol": "circle"
           },
           "mode": "markers+lines",
           "name": "",
           "orientation": "v",
           "showlegend": false,
           "type": "scatter",
           "x": [
            0.08333333333333333,
            0.25,
            1,
            2,
            3,
            5,
            10,
            20,
            30
           ],
           "xaxis": "x",
           "y": [
            0.011699999999999999,
            0.011399999999999999,
            0.0115,
            0.013300000000000001,
            0.0161,
            0.023700000000000002,
            0.034300000000000004,
            0.0443,
            0.0464
           ],
           "yaxis": "y"
          }
         ],
         "name": "2003-06"
        },
        {
         "data": [
          {
           "customdata": [
            [
             "2003-07"
            ],
            [
             "2003-07"
            ],
            [
             "2003-07"
            ],
            [
             "2003-07"
            ],
            [
             "2003-07"
            ],
            [
             "2003-07"
            ],
            [
             "2003-07"
            ],
            [
             "2003-07"
            ],
            [
             "2003-07"
            ]
           ],
           "hovertemplate": "date=%{customdata[0]}<br>years to maturity=%{x}<br>yield=%{y}<extra></extra>",
           "legendgroup": "",
           "line": {
            "color": "#636efa",
            "dash": "solid"
           },
           "marker": {
            "size": 10,
            "symbol": "circle"
           },
           "mode": "markers+lines",
           "name": "",
           "orientation": "v",
           "showlegend": false,
           "type": "scatter",
           "x": [
            0.08333333333333333,
            0.25,
            1,
            2,
            3,
            5,
            10,
            20,
            30
           ],
           "xaxis": "x",
           "y": [
            0.0089,
            0.0089,
            0.010700000000000001,
            0.013000000000000001,
            0.0166,
            0.0248,
            0.0356,
            0.0454,
            0.048600000000000004
           ],
           "yaxis": "y"
          }
         ],
         "name": "2003-07"
        },
        {
         "data": [
          {
           "customdata": [
            [
             "2003-08"
            ],
            [
             "2003-08"
            ],
            [
             "2003-08"
            ],
            [
             "2003-08"
            ],
            [
             "2003-08"
            ],
            [
             "2003-08"
            ],
            [
             "2003-08"
            ],
            [
             "2003-08"
            ],
            [
             "2003-08"
            ]
           ],
           "hovertemplate": "date=%{customdata[0]}<br>years to maturity=%{x}<br>yield=%{y}<extra></extra>",
           "legendgroup": "",
           "line": {
            "color": "#636efa",
            "dash": "solid"
           },
           "marker": {
            "size": 10,
            "symbol": "circle"
           },
           "mode": "markers+lines",
           "name": "",
           "orientation": "v",
           "showlegend": false,
           "type": "scatter",
           "x": [
            0.08333333333333333,
            0.25,
            1,
            2,
            3,
            5,
            10,
            20,
            30
           ],
           "xaxis": "x",
           "y": [
            0.0091,
            0.0095,
            0.0131,
            0.018500000000000003,
            0.023799999999999998,
            0.0337,
            0.0444,
            0.0542,
            0.0547
           ],
           "yaxis": "y"
          }
         ],
         "name": "2003-08"
        },
        {
         "data": [
          {
           "customdata": [
            [
             "2003-09"
            ],
            [
             "2003-09"
            ],
            [
             "2003-09"
            ],
            [
             "2003-09"
            ],
            [
             "2003-09"
            ],
            [
             "2003-09"
            ],
            [
             "2003-09"
            ],
            [
             "2003-09"
            ],
            [
             "2003-09"
            ]
           ],
           "hovertemplate": "date=%{customdata[0]}<br>years to maturity=%{x}<br>yield=%{y}<extra></extra>",
           "legendgroup": "",
           "line": {
            "color": "#636efa",
            "dash": "solid"
           },
           "marker": {
            "size": 10,
            "symbol": "circle"
           },
           "mode": "markers+lines",
           "name": "",
           "orientation": "v",
           "showlegend": false,
           "type": "scatter",
           "x": [
            0.08333333333333333,
            0.25,
            1,
            2,
            3,
            5,
            10,
            20,
            30
           ],
           "xaxis": "x",
           "y": [
            0.0098,
            0.0098,
            0.0139,
            0.0204,
            0.0262,
            0.0363,
            0.0461,
            0.0548,
            0.0538
           ],
           "yaxis": "y"
          }
         ],
         "name": "2003-09"
        },
        {
         "data": [
          {
           "customdata": [
            [
             "2003-10"
            ],
            [
             "2003-10"
            ],
            [
             "2003-10"
            ],
            [
             "2003-10"
            ],
            [
             "2003-10"
            ],
            [
             "2003-10"
            ],
            [
             "2003-10"
            ],
            [
             "2003-10"
            ],
            [
             "2003-10"
            ]
           ],
           "hovertemplate": "date=%{customdata[0]}<br>years to maturity=%{x}<br>yield=%{y}<extra></extra>",
           "legendgroup": "",
           "line": {
            "color": "#636efa",
            "dash": "solid"
           },
           "marker": {
            "size": 10,
            "symbol": "circle"
           },
           "mode": "markers+lines",
           "name": "",
           "orientation": "v",
           "showlegend": false,
           "type": "scatter",
           "x": [
            0.08333333333333333,
            0.25,
            1,
            2,
            3,
            5,
            10,
            20,
            30
           ],
           "xaxis": "x",
           "y": [
            0.0088,
            0.0095,
            0.0113,
            0.0147,
            0.019299999999999998,
            0.028399999999999998,
            0.039599999999999996,
            0.0492,
            0.050499999999999996
           ],
           "yaxis": "y"
          }
         ],
         "name": "2003-10"
        },
        {
         "data": [
          {
           "customdata": [
            [
             "2003-11"
            ],
            [
             "2003-11"
            ],
            [
             "2003-11"
            ],
            [
             "2003-11"
            ],
            [
             "2003-11"
            ],
            [
             "2003-11"
            ],
            [
             "2003-11"
            ],
            [
             "2003-11"
            ],
            [
             "2003-11"
            ]
           ],
           "hovertemplate": "date=%{customdata[0]}<br>years to maturity=%{x}<br>yield=%{y}<extra></extra>",
           "legendgroup": "",
           "line": {
            "color": "#636efa",
            "dash": "solid"
           },
           "marker": {
            "size": 10,
            "symbol": "circle"
           },
           "mode": "markers+lines",
           "name": "",
           "orientation": "v",
           "showlegend": false,
           "type": "scatter",
           "x": [
            0.08333333333333333,
            0.25,
            1,
            2,
            3,
            5,
            10,
            20,
            30
           ],
           "xaxis": "x",
           "y": [
            0.0097,
            0.0096,
            0.013300000000000001,
            0.019,
            0.024399999999999998,
            0.0334,
            0.044000000000000004,
            0.0525,
            0.053
           ],
           "yaxis": "y"
          }
         ],
         "name": "2003-11"
        },
        {
         "data": [
          {
           "customdata": [
            [
             "2003-12"
            ],
            [
             "2003-12"
            ],
            [
             "2003-12"
            ],
            [
             "2003-12"
            ],
            [
             "2003-12"
            ],
            [
             "2003-12"
            ],
            [
             "2003-12"
            ],
            [
             "2003-12"
            ],
            [
             "2003-12"
            ]
           ],
           "hovertemplate": "date=%{customdata[0]}<br>years to maturity=%{x}<br>yield=%{y}<extra></extra>",
           "legendgroup": "",
           "line": {
            "color": "#636efa",
            "dash": "solid"
           },
           "marker": {
            "size": 10,
            "symbol": "circle"
           },
           "mode": "markers+lines",
           "name": "",
           "orientation": "v",
           "showlegend": false,
           "type": "scatter",
           "x": [
            0.08333333333333333,
            0.25,
            1,
            2,
            3,
            5,
            10,
            20,
            30
           ],
           "xaxis": "x",
           "y": [
            0.0096,
            0.0095,
            0.0141,
            0.0212,
            0.0264,
            0.0346,
            0.044000000000000004,
            0.052300000000000006,
            0.0528
           ],
           "yaxis": "y"
          }
         ],
         "name": "2003-12"
        },
        {
         "data": [
          {
           "customdata": [
            [
             "2004-01"
            ],
            [
             "2004-01"
            ],
            [
             "2004-01"
            ],
            [
             "2004-01"
            ],
            [
             "2004-01"
            ],
            [
             "2004-01"
            ],
            [
             "2004-01"
            ],
            [
             "2004-01"
            ],
            [
             "2004-01"
            ]
           ],
           "hovertemplate": "date=%{customdata[0]}<br>years to maturity=%{x}<br>yield=%{y}<extra></extra>",
           "legendgroup": "",
           "line": {
            "color": "#636efa",
            "dash": "solid"
           },
           "marker": {
            "size": 10,
            "symbol": "circle"
           },
           "mode": "markers+lines",
           "name": "",
           "orientation": "v",
           "showlegend": false,
           "type": "scatter",
           "x": [
            0.08333333333333333,
            0.25,
            1,
            2,
            3,
            5,
            10,
            20,
            30
           ],
           "xaxis": "x",
           "y": [
            0.0088,
            0.009300000000000001,
            0.0131,
            0.0194,
            0.024700000000000003,
            0.0336,
            0.0438,
            0.0521,
            0.053
           ],
           "yaxis": "y"
          }
         ],
         "name": "2004-01"
        },
        {
         "data": [
          {
           "customdata": [
            [
             "2004-02"
            ],
            [
             "2004-02"
            ],
            [
             "2004-02"
            ],
            [
             "2004-02"
            ],
            [
             "2004-02"
            ],
            [
             "2004-02"
            ],
            [
             "2004-02"
            ],
            [
             "2004-02"
            ],
            [
             "2004-02"
            ]
           ],
           "hovertemplate": "date=%{customdata[0]}<br>years to maturity=%{x}<br>yield=%{y}<extra></extra>",
           "legendgroup": "",
           "line": {
            "color": "#636efa",
            "dash": "solid"
           },
           "marker": {
            "size": 10,
            "symbol": "circle"
           },
           "mode": "markers+lines",
           "name": "",
           "orientation": "v",
           "showlegend": false,
           "type": "scatter",
           "x": [
            0.08333333333333333,
            0.25,
            1,
            2,
            3,
            5,
            10,
            20,
            30
           ],
           "xaxis": "x",
           "y": [
            0.0087,
            0.009399999999999999,
            0.0129,
            0.0183,
            0.0236,
            0.0318,
            0.0418,
            0.050199999999999995,
            0.0513
           ],
           "yaxis": "y"
          }
         ],
         "name": "2004-02"
        },
        {
         "data": [
          {
           "customdata": [
            [
             "2004-03"
            ],
            [
             "2004-03"
            ],
            [
             "2004-03"
            ],
            [
             "2004-03"
            ],
            [
             "2004-03"
            ],
            [
             "2004-03"
            ],
            [
             "2004-03"
            ],
            [
             "2004-03"
            ],
            [
             "2004-03"
            ]
           ],
           "hovertemplate": "date=%{customdata[0]}<br>years to maturity=%{x}<br>yield=%{y}<extra></extra>",
           "legendgroup": "",
           "line": {
            "color": "#636efa",
            "dash": "solid"
           },
           "marker": {
            "size": 10,
            "symbol": "circle"
           },
           "mode": "markers+lines",
           "name": "",
           "orientation": "v",
           "showlegend": false,
           "type": "scatter",
           "x": [
            0.08333333333333333,
            0.25,
            1,
            2,
            3,
            5,
            10,
            20,
            30
           ],
           "xaxis": "x",
           "y": [
            0.0097,
            0.0097,
            0.0123,
            0.0167,
            0.0215,
            0.0298,
            0.04,
            0.048600000000000004,
            0.0499
           ],
           "yaxis": "y"
          }
         ],
         "name": "2004-03"
        },
        {
         "data": [
          {
           "customdata": [
            [
             "2004-04"
            ],
            [
             "2004-04"
            ],
            [
             "2004-04"
            ],
            [
             "2004-04"
            ],
            [
             "2004-04"
            ],
            [
             "2004-04"
            ],
            [
             "2004-04"
            ],
            [
             "2004-04"
            ],
            [
             "2004-04"
            ]
           ],
           "hovertemplate": "date=%{customdata[0]}<br>years to maturity=%{x}<br>yield=%{y}<extra></extra>",
           "legendgroup": "",
           "line": {
            "color": "#636efa",
            "dash": "solid"
           },
           "marker": {
            "size": 10,
            "symbol": "circle"
           },
           "mode": "markers+lines",
           "name": "",
           "orientation": "v",
           "showlegend": false,
           "type": "scatter",
           "x": [
            0.08333333333333333,
            0.25,
            1,
            2,
            3,
            5,
            10,
            20,
            30
           ],
           "xaxis": "x",
           "y": [
            0.0095,
            0.009300000000000001,
            0.0123,
            0.0165,
            0.0206,
            0.0287,
            0.0391,
            0.04769999999999999,
            0.0501
           ],
           "yaxis": "y"
          }
         ],
         "name": "2004-04"
        },
        {
         "data": [
          {
           "customdata": [
            [
             "2004-05"
            ],
            [
             "2004-05"
            ],
            [
             "2004-05"
            ],
            [
             "2004-05"
            ],
            [
             "2004-05"
            ],
            [
             "2004-05"
            ],
            [
             "2004-05"
            ],
            [
             "2004-05"
            ],
            [
             "2004-05"
            ]
           ],
           "hovertemplate": "date=%{customdata[0]}<br>years to maturity=%{x}<br>yield=%{y}<extra></extra>",
           "legendgroup": "",
           "line": {
            "color": "#636efa",
            "dash": "solid"
           },
           "marker": {
            "size": 10,
            "symbol": "circle"
           },
           "mode": "markers+lines",
           "name": "",
           "orientation": "v",
           "showlegend": false,
           "type": "scatter",
           "x": [
            0.08333333333333333,
            0.25,
            1,
            2,
            3,
            5,
            10,
            20,
            30
           ],
           "xaxis": "x",
           "y": [
            0.0083,
            0.01,
            0.016,
            0.023399999999999997,
            0.0286,
            0.0363,
            0.0453,
            0.053,
            0.0541
           ],
           "yaxis": "y"
          }
         ],
         "name": "2004-05"
        },
        {
         "data": [
          {
           "customdata": [
            [
             "2004-06"
            ],
            [
             "2004-06"
            ],
            [
             "2004-06"
            ],
            [
             "2004-06"
            ],
            [
             "2004-06"
            ],
            [
             "2004-06"
            ],
            [
             "2004-06"
            ],
            [
             "2004-06"
            ],
            [
             "2004-06"
            ]
           ],
           "hovertemplate": "date=%{customdata[0]}<br>years to maturity=%{x}<br>yield=%{y}<extra></extra>",
           "legendgroup": "",
           "line": {
            "color": "#636efa",
            "dash": "solid"
           },
           "marker": {
            "size": 10,
            "symbol": "circle"
           },
           "mode": "markers+lines",
           "name": "",
           "orientation": "v",
           "showlegend": false,
           "type": "scatter",
           "x": [
            0.08333333333333333,
            0.25,
            1,
            2,
            3,
            5,
            10,
            20,
            30
           ],
           "xaxis": "x",
           "y": [
            0.0097,
            0.011699999999999999,
            0.0189,
            0.026000000000000002,
            0.031400000000000004,
            0.038599999999999995,
            0.0471,
            0.0545,
            0.0548
           ],
           "yaxis": "y"
          }
         ],
         "name": "2004-06"
        },
        {
         "data": [
          {
           "customdata": [
            [
             "2004-07"
            ],
            [
             "2004-07"
            ],
            [
             "2004-07"
            ],
            [
             "2004-07"
            ],
            [
             "2004-07"
            ],
            [
             "2004-07"
            ],
            [
             "2004-07"
            ],
            [
             "2004-07"
            ],
            [
             "2004-07"
            ]
           ],
           "hovertemplate": "date=%{customdata[0]}<br>years to maturity=%{x}<br>yield=%{y}<extra></extra>",
           "legendgroup": "",
           "line": {
            "color": "#636efa",
            "dash": "solid"
           },
           "marker": {
            "size": 10,
            "symbol": "circle"
           },
           "mode": "markers+lines",
           "name": "",
           "orientation": "v",
           "showlegend": false,
           "type": "scatter",
           "x": [
            0.08333333333333333,
            0.25,
            1,
            2,
            3,
            5,
            10,
            20,
            30
           ],
           "xaxis": "x",
           "y": [
            0.0101,
            0.012199999999999999,
            0.0207,
            0.0264,
            0.0308,
            0.0374,
            0.045700000000000005,
            0.053099999999999994,
            0.0535
           ],
           "yaxis": "y"
          }
         ],
         "name": "2004-07"
        },
        {
         "data": [
          {
           "customdata": [
            [
             "2004-08"
            ],
            [
             "2004-08"
            ],
            [
             "2004-08"
            ],
            [
             "2004-08"
            ],
            [
             "2004-08"
            ],
            [
             "2004-08"
            ],
            [
             "2004-08"
            ],
            [
             "2004-08"
            ],
            [
             "2004-08"
            ]
           ],
           "hovertemplate": "date=%{customdata[0]}<br>years to maturity=%{x}<br>yield=%{y}<extra></extra>",
           "legendgroup": "",
           "line": {
            "color": "#636efa",
            "dash": "solid"
           },
           "marker": {
            "size": 10,
            "symbol": "circle"
           },
           "mode": "markers+lines",
           "name": "",
           "orientation": "v",
           "showlegend": false,
           "type": "scatter",
           "x": [
            0.08333333333333333,
            0.25,
            1,
            2,
            3,
            5,
            10,
            20,
            30
           ],
           "xaxis": "x",
           "y": [
            0.0128,
            0.015,
            0.0212,
            0.026600000000000002,
            0.030600000000000002,
            0.0368,
            0.044800000000000006,
            0.052199999999999996,
            0.0526
           ],
           "yaxis": "y"
          }
         ],
         "name": "2004-08"
        },
        {
         "data": [
          {
           "customdata": [
            [
             "2004-09"
            ],
            [
             "2004-09"
            ],
            [
             "2004-09"
            ],
            [
             "2004-09"
            ],
            [
             "2004-09"
            ],
            [
             "2004-09"
            ],
            [
             "2004-09"
            ],
            [
             "2004-09"
            ],
            [
             "2004-09"
            ]
           ],
           "hovertemplate": "date=%{customdata[0]}<br>years to maturity=%{x}<br>yield=%{y}<extra></extra>",
           "legendgroup": "",
           "line": {
            "color": "#636efa",
            "dash": "solid"
           },
           "marker": {
            "size": 10,
            "symbol": "circle"
           },
           "mode": "markers+lines",
           "name": "",
           "orientation": "v",
           "showlegend": false,
           "type": "scatter",
           "x": [
            0.08333333333333333,
            0.25,
            1,
            2,
            3,
            5,
            10,
            20,
            30
           ],
           "xaxis": "x",
           "y": [
            0.0143,
            0.0158,
            0.0199,
            0.0241,
            0.0274,
            0.0332,
            0.041299999999999996,
            0.0493,
            0.0501
           ],
           "yaxis": "y"
          }
         ],
         "name": "2004-09"
        },
        {
         "data": [
          {
           "customdata": [
            [
             "2004-10"
            ],
            [
             "2004-10"
            ],
            [
             "2004-10"
            ],
            [
             "2004-10"
            ],
            [
             "2004-10"
            ],
            [
             "2004-10"
            ],
            [
             "2004-10"
            ],
            [
             "2004-10"
            ],
            [
             "2004-10"
            ]
           ],
           "hovertemplate": "date=%{customdata[0]}<br>years to maturity=%{x}<br>yield=%{y}<extra></extra>",
           "legendgroup": "",
           "line": {
            "color": "#636efa",
            "dash": "solid"
           },
           "marker": {
            "size": 10,
            "symbol": "circle"
           },
           "mode": "markers+lines",
           "name": "",
           "orientation": "v",
           "showlegend": false,
           "type": "scatter",
           "x": [
            0.08333333333333333,
            0.25,
            1,
            2,
            3,
            5,
            10,
            20,
            30
           ],
           "xaxis": "x",
           "y": [
            0.0152,
            0.0171,
            0.022099999999999998,
            0.0263,
            0.0292,
            0.0344,
            0.0421,
            0.0495,
            0.0506
           ],
           "yaxis": "y"
          }
         ],
         "name": "2004-10"
        },
        {
         "data": [
          {
           "customdata": [
            [
             "2004-11"
            ],
            [
             "2004-11"
            ],
            [
             "2004-11"
            ],
            [
             "2004-11"
            ],
            [
             "2004-11"
            ],
            [
             "2004-11"
            ],
            [
             "2004-11"
            ],
            [
             "2004-11"
            ],
            [
             "2004-11"
            ]
           ],
           "hovertemplate": "date=%{customdata[0]}<br>years to maturity=%{x}<br>yield=%{y}<extra></extra>",
           "legendgroup": "",
           "line": {
            "color": "#636efa",
            "dash": "solid"
           },
           "marker": {
            "size": 10,
            "symbol": "circle"
           },
           "mode": "markers+lines",
           "name": "",
           "orientation": "v",
           "showlegend": false,
           "type": "scatter",
           "x": [
            0.08333333333333333,
            0.25,
            1,
            2,
            3,
            5,
            10,
            20,
            30
           ],
           "xaxis": "x",
           "y": [
            0.0179,
            0.0199,
            0.023399999999999997,
            0.026099999999999998,
            0.028900000000000002,
            0.0336,
            0.041100000000000005,
            0.0484,
            0.0492
           ],
           "yaxis": "y"
          }
         ],
         "name": "2004-11"
        },
        {
         "data": [
          {
           "customdata": [
            [
             "2004-12"
            ],
            [
             "2004-12"
            ],
            [
             "2004-12"
            ],
            [
             "2004-12"
            ],
            [
             "2004-12"
            ],
            [
             "2004-12"
            ],
            [
             "2004-12"
            ],
            [
             "2004-12"
            ],
            [
             "2004-12"
            ]
           ],
           "hovertemplate": "date=%{customdata[0]}<br>years to maturity=%{x}<br>yield=%{y}<extra></extra>",
           "legendgroup": "",
           "line": {
            "color": "#636efa",
            "dash": "solid"
           },
           "marker": {
            "size": 10,
            "symbol": "circle"
           },
           "mode": "markers+lines",
           "name": "",
           "orientation": "v",
           "showlegend": false,
           "type": "scatter",
           "x": [
            0.08333333333333333,
            0.25,
            1,
            2,
            3,
            5,
            10,
            20,
            30
           ],
           "xaxis": "x",
           "y": [
            0.0206,
            0.0222,
            0.026000000000000002,
            0.0301,
            0.032799999999999996,
            0.037200000000000004,
            0.0438,
            0.0504,
            0.0508
           ],
           "yaxis": "y"
          }
         ],
         "name": "2004-12"
        },
        {
         "data": [
          {
           "customdata": [
            [
             "2005-01"
            ],
            [
             "2005-01"
            ],
            [
             "2005-01"
            ],
            [
             "2005-01"
            ],
            [
             "2005-01"
            ],
            [
             "2005-01"
            ],
            [
             "2005-01"
            ],
            [
             "2005-01"
            ],
            [
             "2005-01"
            ]
           ],
           "hovertemplate": "date=%{customdata[0]}<br>years to maturity=%{x}<br>yield=%{y}<extra></extra>",
           "legendgroup": "",
           "line": {
            "color": "#636efa",
            "dash": "solid"
           },
           "marker": {
            "size": 10,
            "symbol": "circle"
           },
           "mode": "markers+lines",
           "name": "",
           "orientation": "v",
           "showlegend": false,
           "type": "scatter",
           "x": [
            0.08333333333333333,
            0.25,
            1,
            2,
            3,
            5,
            10,
            20,
            30
           ],
           "xaxis": "x",
           "y": [
            0.0199,
            0.0232,
            0.0279,
            0.031,
            0.032799999999999996,
            0.0364,
            0.042300000000000004,
            0.0484,
            0.048499999999999995
           ],
           "yaxis": "y"
          }
         ],
         "name": "2005-01"
        },
        {
         "data": [
          {
           "customdata": [
            [
             "2005-02"
            ],
            [
             "2005-02"
            ],
            [
             "2005-02"
            ],
            [
             "2005-02"
            ],
            [
             "2005-02"
            ],
            [
             "2005-02"
            ],
            [
             "2005-02"
            ],
            [
             "2005-02"
            ],
            [
             "2005-02"
            ]
           ],
           "hovertemplate": "date=%{customdata[0]}<br>years to maturity=%{x}<br>yield=%{y}<extra></extra>",
           "legendgroup": "",
           "line": {
            "color": "#636efa",
            "dash": "solid"
           },
           "marker": {
            "size": 10,
            "symbol": "circle"
           },
           "mode": "markers+lines",
           "name": "",
           "orientation": "v",
           "showlegend": false,
           "type": "scatter",
           "x": [
            0.08333333333333333,
            0.25,
            1,
            2,
            3,
            5,
            10,
            20,
            30
           ],
           "xaxis": "x",
           "y": [
            0.0223,
            0.025099999999999997,
            0.029500000000000002,
            0.0329,
            0.034300000000000004,
            0.0371,
            0.0415,
            0.04650000000000001,
            0.0463
           ],
           "yaxis": "y"
          }
         ],
         "name": "2005-02"
        },
        {
         "data": [
          {
           "customdata": [
            [
             "2005-03"
            ],
            [
             "2005-03"
            ],
            [
             "2005-03"
            ],
            [
             "2005-03"
            ],
            [
             "2005-03"
            ],
            [
             "2005-03"
            ],
            [
             "2005-03"
            ],
            [
             "2005-03"
            ],
            [
             "2005-03"
            ]
           ],
           "hovertemplate": "date=%{customdata[0]}<br>years to maturity=%{x}<br>yield=%{y}<extra></extra>",
           "legendgroup": "",
           "line": {
            "color": "#636efa",
            "dash": "solid"
           },
           "marker": {
            "size": 10,
            "symbol": "circle"
           },
           "mode": "markers+lines",
           "name": "",
           "orientation": "v",
           "showlegend": false,
           "type": "scatter",
           "x": [
            0.08333333333333333,
            0.25,
            1,
            2,
            3,
            5,
            10,
            20,
            30
           ],
           "xaxis": "x",
           "y": [
            0.0255,
            0.0275,
            0.032,
            0.0359,
            0.037599999999999995,
            0.04019999999999999,
            0.0438,
            0.048,
            0.046900000000000004
           ],
           "yaxis": "y"
          }
         ],
         "name": "2005-03"
        },
        {
         "data": [
          {
           "customdata": [
            [
             "2005-04"
            ],
            [
             "2005-04"
            ],
            [
             "2005-04"
            ],
            [
             "2005-04"
            ],
            [
             "2005-04"
            ],
            [
             "2005-04"
            ],
            [
             "2005-04"
            ],
            [
             "2005-04"
            ],
            [
             "2005-04"
            ]
           ],
           "hovertemplate": "date=%{customdata[0]}<br>years to maturity=%{x}<br>yield=%{y}<extra></extra>",
           "legendgroup": "",
           "line": {
            "color": "#636efa",
            "dash": "solid"
           },
           "marker": {
            "size": 10,
            "symbol": "circle"
           },
           "mode": "markers+lines",
           "name": "",
           "orientation": "v",
           "showlegend": false,
           "type": "scatter",
           "x": [
            0.08333333333333333,
            0.25,
            1,
            2,
            3,
            5,
            10,
            20,
            30
           ],
           "xaxis": "x",
           "y": [
            0.026600000000000002,
            0.027999999999999997,
            0.0334,
            0.0375,
            0.039,
            0.041299999999999996,
            0.0446,
            0.048499999999999995,
            0.0472
           ],
           "yaxis": "y"
          }
         ],
         "name": "2005-04"
        },
        {
         "data": [
          {
           "customdata": [
            [
             "2005-05"
            ],
            [
             "2005-05"
            ],
            [
             "2005-05"
            ],
            [
             "2005-05"
            ],
            [
             "2005-05"
            ],
            [
             "2005-05"
            ],
            [
             "2005-05"
            ],
            [
             "2005-05"
            ],
            [
             "2005-05"
            ]
           ],
           "hovertemplate": "date=%{customdata[0]}<br>years to maturity=%{x}<br>yield=%{y}<extra></extra>",
           "legendgroup": "",
           "line": {
            "color": "#636efa",
            "dash": "solid"
           },
           "marker": {
            "size": 10,
            "symbol": "circle"
           },
           "mode": "markers+lines",
           "name": "",
           "orientation": "v",
           "showlegend": false,
           "type": "scatter",
           "x": [
            0.08333333333333333,
            0.25,
            1,
            2,
            3,
            5,
            10,
            20,
            30
           ],
           "xaxis": "x",
           "y": [
            0.0268,
            0.029300000000000003,
            0.0334,
            0.0364,
            0.0371,
            0.0388,
            0.0421,
            0.0461,
            0.0453
           ],
           "yaxis": "y"
          }
         ],
         "name": "2005-05"
        },
        {
         "data": [
          {
           "customdata": [
            [
             "2005-06"
            ],
            [
             "2005-06"
            ],
            [
             "2005-06"
            ],
            [
             "2005-06"
            ],
            [
             "2005-06"
            ],
            [
             "2005-06"
            ],
            [
             "2005-06"
            ],
            [
             "2005-06"
            ],
            [
             "2005-06"
            ]
           ],
           "hovertemplate": "date=%{customdata[0]}<br>years to maturity=%{x}<br>yield=%{y}<extra></extra>",
           "legendgroup": "",
           "line": {
            "color": "#636efa",
            "dash": "solid"
           },
           "marker": {
            "size": 10,
            "symbol": "circle"
           },
           "mode": "markers+lines",
           "name": "",
           "orientation": "v",
           "showlegend": false,
           "type": "scatter",
           "x": [
            0.08333333333333333,
            0.25,
            1,
            2,
            3,
            5,
            10,
            20,
            30
           ],
           "xaxis": "x",
           "y": [
            0.0279,
            0.0297,
            0.0325,
            0.035,
            0.0355,
            0.0363,
            0.0391,
            0.0431,
            0.042699999999999995
           ],
           "yaxis": "y"
          }
         ],
         "name": "2005-06"
        },
        {
         "data": [
          {
           "customdata": [
            [
             "2005-07"
            ],
            [
             "2005-07"
            ],
            [
             "2005-07"
            ],
            [
             "2005-07"
            ],
            [
             "2005-07"
            ],
            [
             "2005-07"
            ],
            [
             "2005-07"
            ],
            [
             "2005-07"
            ],
            [
             "2005-07"
            ]
           ],
           "hovertemplate": "date=%{customdata[0]}<br>years to maturity=%{x}<br>yield=%{y}<extra></extra>",
           "legendgroup": "",
           "line": {
            "color": "#636efa",
            "dash": "solid"
           },
           "marker": {
            "size": 10,
            "symbol": "circle"
           },
           "mode": "markers+lines",
           "name": "",
           "orientation": "v",
           "showlegend": false,
           "type": "scatter",
           "x": [
            0.08333333333333333,
            0.25,
            1,
            2,
            3,
            5,
            10,
            20,
            30
           ],
           "xaxis": "x",
           "y": [
            0.0302,
            0.0317,
            0.0351,
            0.037599999999999995,
            0.0377,
            0.0384,
            0.0406,
            0.0437,
            0.042800000000000005
           ],
           "yaxis": "y"
          }
         ],
         "name": "2005-07"
        },
        {
         "data": [
          {
           "customdata": [
            [
             "2005-08"
            ],
            [
             "2005-08"
            ],
            [
             "2005-08"
            ],
            [
             "2005-08"
            ],
            [
             "2005-08"
            ],
            [
             "2005-08"
            ],
            [
             "2005-08"
            ],
            [
             "2005-08"
            ],
            [
             "2005-08"
            ]
           ],
           "hovertemplate": "date=%{customdata[0]}<br>years to maturity=%{x}<br>yield=%{y}<extra></extra>",
           "legendgroup": "",
           "line": {
            "color": "#636efa",
            "dash": "solid"
           },
           "marker": {
            "size": 10,
            "symbol": "circle"
           },
           "mode": "markers+lines",
           "name": "",
           "orientation": "v",
           "showlegend": false,
           "type": "scatter",
           "x": [
            0.08333333333333333,
            0.25,
            1,
            2,
            3,
            5,
            10,
            20,
            30
           ],
           "xaxis": "x",
           "y": [
            0.033,
            0.0348,
            0.0383,
            0.0404,
            0.0409,
            0.0416,
            0.0432,
            0.045899999999999996,
            0.0446
           ],
           "yaxis": "y"
          }
         ],
         "name": "2005-08"
        },
        {
         "data": [
          {
           "customdata": [
            [
             "2005-09"
            ],
            [
             "2005-09"
            ],
            [
             "2005-09"
            ],
            [
             "2005-09"
            ],
            [
             "2005-09"
            ],
            [
             "2005-09"
            ],
            [
             "2005-09"
            ],
            [
             "2005-09"
            ],
            [
             "2005-09"
            ]
           ],
           "hovertemplate": "date=%{customdata[0]}<br>years to maturity=%{x}<br>yield=%{y}<extra></extra>",
           "legendgroup": "",
           "line": {
            "color": "#636efa",
            "dash": "solid"
           },
           "marker": {
            "size": 10,
            "symbol": "circle"
           },
           "mode": "markers+lines",
           "name": "",
           "orientation": "v",
           "showlegend": false,
           "type": "scatter",
           "x": [
            0.08333333333333333,
            0.25,
            1,
            2,
            3,
            5,
            10,
            20,
            30
           ],
           "xaxis": "x",
           "y": [
            0.0335,
            0.0348,
            0.0366,
            0.037200000000000004,
            0.038,
            0.0385,
            0.04019999999999999,
            0.0431,
            0.042800000000000005
           ],
           "yaxis": "y"
          }
         ],
         "name": "2005-09"
        },
        {
         "data": [
          {
           "customdata": [
            [
             "2005-10"
            ],
            [
             "2005-10"
            ],
            [
             "2005-10"
            ],
            [
             "2005-10"
            ],
            [
             "2005-10"
            ],
            [
             "2005-10"
            ],
            [
             "2005-10"
            ],
            [
             "2005-10"
            ],
            [
             "2005-10"
            ]
           ],
           "hovertemplate": "date=%{customdata[0]}<br>years to maturity=%{x}<br>yield=%{y}<extra></extra>",
           "legendgroup": "",
           "line": {
            "color": "#636efa",
            "dash": "solid"
           },
           "marker": {
            "size": 10,
            "symbol": "circle"
           },
           "mode": "markers+lines",
           "name": "",
           "orientation": "v",
           "showlegend": false,
           "type": "scatter",
           "x": [
            0.08333333333333333,
            0.25,
            1,
            2,
            3,
            5,
            10,
            20,
            30
           ],
           "xaxis": "x",
           "y": [
            0.0322,
            0.0361,
            0.0409,
            0.0421,
            0.042300000000000004,
            0.0425,
            0.043899999999999995,
            0.0467,
            0.0458
           ],
           "yaxis": "y"
          }
         ],
         "name": "2005-10"
        },
        {
         "data": [
          {
           "customdata": [
            [
             "2005-11"
            ],
            [
             "2005-11"
            ],
            [
             "2005-11"
            ],
            [
             "2005-11"
            ],
            [
             "2005-11"
            ],
            [
             "2005-11"
            ],
            [
             "2005-11"
            ],
            [
             "2005-11"
            ],
            [
             "2005-11"
            ]
           ],
           "hovertemplate": "date=%{customdata[0]}<br>years to maturity=%{x}<br>yield=%{y}<extra></extra>",
           "legendgroup": "",
           "line": {
            "color": "#636efa",
            "dash": "solid"
           },
           "marker": {
            "size": 10,
            "symbol": "circle"
           },
           "mode": "markers+lines",
           "name": "",
           "orientation": "v",
           "showlegend": false,
           "type": "scatter",
           "x": [
            0.08333333333333333,
            0.25,
            1,
            2,
            3,
            5,
            10,
            20,
            30
           ],
           "xaxis": "x",
           "y": [
            0.0378,
            0.039599999999999996,
            0.0431,
            0.044199999999999996,
            0.0444,
            0.0447,
            0.0458,
            0.048499999999999995,
            0.047400000000000005
           ],
           "yaxis": "y"
          }
         ],
         "name": "2005-11"
        },
        {
         "data": [
          {
           "customdata": [
            [
             "2005-12"
            ],
            [
             "2005-12"
            ],
            [
             "2005-12"
            ],
            [
             "2005-12"
            ],
            [
             "2005-12"
            ],
            [
             "2005-12"
            ],
            [
             "2005-12"
            ],
            [
             "2005-12"
            ],
            [
             "2005-12"
            ]
           ],
           "hovertemplate": "date=%{customdata[0]}<br>years to maturity=%{x}<br>yield=%{y}<extra></extra>",
           "legendgroup": "",
           "line": {
            "color": "#636efa",
            "dash": "solid"
           },
           "marker": {
            "size": 10,
            "symbol": "circle"
           },
           "mode": "markers+lines",
           "name": "",
           "orientation": "v",
           "showlegend": false,
           "type": "scatter",
           "x": [
            0.08333333333333333,
            0.25,
            1,
            2,
            3,
            5,
            10,
            20,
            30
           ],
           "xaxis": "x",
           "y": [
            0.039900000000000005,
            0.0397,
            0.0436,
            0.044500000000000005,
            0.0444,
            0.044500000000000005,
            0.0452,
            0.0483,
            0.046799999999999994
           ],
           "yaxis": "y"
          }
         ],
         "name": "2005-12"
        },
        {
         "data": [
          {
           "customdata": [
            [
             "2006-01"
            ],
            [
             "2006-01"
            ],
            [
             "2006-01"
            ],
            [
             "2006-01"
            ],
            [
             "2006-01"
            ],
            [
             "2006-01"
            ],
            [
             "2006-01"
            ],
            [
             "2006-01"
            ],
            [
             "2006-01"
            ]
           ],
           "hovertemplate": "date=%{customdata[0]}<br>years to maturity=%{x}<br>yield=%{y}<extra></extra>",
           "legendgroup": "",
           "line": {
            "color": "#636efa",
            "dash": "solid"
           },
           "marker": {
            "size": 10,
            "symbol": "circle"
           },
           "mode": "markers+lines",
           "name": "",
           "orientation": "v",
           "showlegend": false,
           "type": "scatter",
           "x": [
            0.08333333333333333,
            0.25,
            1,
            2,
            3,
            5,
            10,
            20,
            30
           ],
           "xaxis": "x",
           "y": [
            0.0405,
            0.0416,
            0.0438,
            0.0434,
            0.043,
            0.043,
            0.0437,
            0.0462,
            0.0452
           ],
           "yaxis": "y"
          }
         ],
         "name": "2006-01"
        },
        {
         "data": [
          {
           "customdata": [
            [
             "2006-02"
            ],
            [
             "2006-02"
            ],
            [
             "2006-02"
            ],
            [
             "2006-02"
            ],
            [
             "2006-02"
            ],
            [
             "2006-02"
            ],
            [
             "2006-02"
            ],
            [
             "2006-02"
            ],
            [
             "2006-02"
            ]
           ],
           "hovertemplate": "date=%{customdata[0]}<br>years to maturity=%{x}<br>yield=%{y}<extra></extra>",
           "legendgroup": "",
           "line": {
            "color": "#636efa",
            "dash": "solid"
           },
           "marker": {
            "size": 10,
            "symbol": "circle"
           },
           "mode": "markers+lines",
           "name": "",
           "orientation": "v",
           "showlegend": false,
           "type": "scatter",
           "x": [
            0.08333333333333333,
            0.25,
            1,
            2,
            3,
            5,
            10,
            20,
            30
           ],
           "xaxis": "x",
           "y": [
            0.0433,
            0.0447,
            0.046,
            0.045899999999999996,
            0.0454,
            0.0451,
            0.045700000000000005,
            0.04769999999999999,
            0.046900000000000004
           ],
           "yaxis": "y"
          }
         ],
         "name": "2006-02"
        },
        {
         "data": [
          {
           "customdata": [
            [
             "2006-03"
            ],
            [
             "2006-03"
            ],
            [
             "2006-03"
            ],
            [
             "2006-03"
            ],
            [
             "2006-03"
            ],
            [
             "2006-03"
            ],
            [
             "2006-03"
            ],
            [
             "2006-03"
            ],
            [
             "2006-03"
            ]
           ],
           "hovertemplate": "date=%{customdata[0]}<br>years to maturity=%{x}<br>yield=%{y}<extra></extra>",
           "legendgroup": "",
           "line": {
            "color": "#636efa",
            "dash": "solid"
           },
           "marker": {
            "size": 10,
            "symbol": "circle"
           },
           "mode": "markers+lines",
           "name": "",
           "orientation": "v",
           "showlegend": false,
           "type": "scatter",
           "x": [
            0.08333333333333333,
            0.25,
            1,
            2,
            3,
            5,
            10,
            20,
            30
           ],
           "xaxis": "x",
           "y": [
            0.044500000000000005,
            0.046,
            0.047400000000000005,
            0.0471,
            0.046799999999999994,
            0.0463,
            0.045899999999999996,
            0.047400000000000005,
            0.045599999999999995
           ],
           "yaxis": "y"
          }
         ],
         "name": "2006-03"
        },
        {
         "data": [
          {
           "customdata": [
            [
             "2006-04"
            ],
            [
             "2006-04"
            ],
            [
             "2006-04"
            ],
            [
             "2006-04"
            ],
            [
             "2006-04"
            ],
            [
             "2006-04"
            ],
            [
             "2006-04"
            ],
            [
             "2006-04"
            ],
            [
             "2006-04"
            ]
           ],
           "hovertemplate": "date=%{customdata[0]}<br>years to maturity=%{x}<br>yield=%{y}<extra></extra>",
           "legendgroup": "",
           "line": {
            "color": "#636efa",
            "dash": "solid"
           },
           "marker": {
            "size": 10,
            "symbol": "circle"
           },
           "mode": "markers+lines",
           "name": "",
           "orientation": "v",
           "showlegend": false,
           "type": "scatter",
           "x": [
            0.08333333333333333,
            0.25,
            1,
            2,
            3,
            5,
            10,
            20,
            30
           ],
           "xaxis": "x",
           "y": [
            0.0466,
            0.0467,
            0.048600000000000004,
            0.048600000000000004,
            0.048499999999999995,
            0.048499999999999995,
            0.048799999999999996,
            0.0508,
            0.049
           ],
           "yaxis": "y"
          }
         ],
         "name": "2006-04"
        },
        {
         "data": [
          {
           "customdata": [
            [
             "2006-05"
            ],
            [
             "2006-05"
            ],
            [
             "2006-05"
            ],
            [
             "2006-05"
            ],
            [
             "2006-05"
            ],
            [
             "2006-05"
            ],
            [
             "2006-05"
            ],
            [
             "2006-05"
            ],
            [
             "2006-05"
            ]
           ],
           "hovertemplate": "date=%{customdata[0]}<br>years to maturity=%{x}<br>yield=%{y}<extra></extra>",
           "legendgroup": "",
           "line": {
            "color": "#636efa",
            "dash": "solid"
           },
           "marker": {
            "size": 10,
            "symbol": "circle"
           },
           "mode": "markers+lines",
           "name": "",
           "orientation": "v",
           "showlegend": false,
           "type": "scatter",
           "x": [
            0.08333333333333333,
            0.25,
            1,
            2,
            3,
            5,
            10,
            20,
            30
           ],
           "xaxis": "x",
           "y": [
            0.0461,
            0.0482,
            0.049699999999999994,
            0.049400000000000006,
            0.0495,
            0.0499,
            0.051399999999999994,
            0.0538,
            0.052300000000000006
           ],
           "yaxis": "y"
          }
         ],
         "name": "2006-05"
        },
        {
         "data": [
          {
           "customdata": [
            [
             "2006-06"
            ],
            [
             "2006-06"
            ],
            [
             "2006-06"
            ],
            [
             "2006-06"
            ],
            [
             "2006-06"
            ],
            [
             "2006-06"
            ],
            [
             "2006-06"
            ],
            [
             "2006-06"
            ],
            [
             "2006-06"
            ]
           ],
           "hovertemplate": "date=%{customdata[0]}<br>years to maturity=%{x}<br>yield=%{y}<extra></extra>",
           "legendgroup": "",
           "line": {
            "color": "#636efa",
            "dash": "solid"
           },
           "marker": {
            "size": 10,
            "symbol": "circle"
           },
           "mode": "markers+lines",
           "name": "",
           "orientation": "v",
           "showlegend": false,
           "type": "scatter",
           "x": [
            0.08333333333333333,
            0.25,
            1,
            2,
            3,
            5,
            10,
            20,
            30
           ],
           "xaxis": "x",
           "y": [
            0.0475,
            0.0483,
            0.050499999999999996,
            0.0504,
            0.050199999999999995,
            0.050300000000000004,
            0.051100000000000007,
            0.053399999999999996,
            0.052000000000000005
           ],
           "yaxis": "y"
          }
         ],
         "name": "2006-06"
        },
        {
         "data": [
          {
           "customdata": [
            [
             "2006-07"
            ],
            [
             "2006-07"
            ],
            [
             "2006-07"
            ],
            [
             "2006-07"
            ],
            [
             "2006-07"
            ],
            [
             "2006-07"
            ],
            [
             "2006-07"
            ],
            [
             "2006-07"
            ],
            [
             "2006-07"
            ]
           ],
           "hovertemplate": "date=%{customdata[0]}<br>years to maturity=%{x}<br>yield=%{y}<extra></extra>",
           "legendgroup": "",
           "line": {
            "color": "#636efa",
            "dash": "solid"
           },
           "marker": {
            "size": 10,
            "symbol": "circle"
           },
           "mode": "markers+lines",
           "name": "",
           "orientation": "v",
           "showlegend": false,
           "type": "scatter",
           "x": [
            0.08333333333333333,
            0.25,
            1,
            2,
            3,
            5,
            10,
            20,
            30
           ],
           "xaxis": "x",
           "y": [
            0.046900000000000004,
            0.0508,
            0.0526,
            0.051699999999999996,
            0.051399999999999994,
            0.051100000000000007,
            0.051500000000000004,
            0.0533,
            0.052000000000000005
           ],
           "yaxis": "y"
          }
         ],
         "name": "2006-07"
        },
        {
         "data": [
          {
           "customdata": [
            [
             "2006-08"
            ],
            [
             "2006-08"
            ],
            [
             "2006-08"
            ],
            [
             "2006-08"
            ],
            [
             "2006-08"
            ],
            [
             "2006-08"
            ],
            [
             "2006-08"
            ],
            [
             "2006-08"
            ],
            [
             "2006-08"
            ]
           ],
           "hovertemplate": "date=%{customdata[0]}<br>years to maturity=%{x}<br>yield=%{y}<extra></extra>",
           "legendgroup": "",
           "line": {
            "color": "#636efa",
            "dash": "solid"
           },
           "marker": {
            "size": 10,
            "symbol": "circle"
           },
           "mode": "markers+lines",
           "name": "",
           "orientation": "v",
           "showlegend": false,
           "type": "scatter",
           "x": [
            0.08333333333333333,
            0.25,
            1,
            2,
            3,
            5,
            10,
            20,
            30
           ],
           "xaxis": "x",
           "y": [
            0.052000000000000005,
            0.0512,
            0.051100000000000007,
            0.049699999999999994,
            0.049100000000000005,
            0.049,
            0.0499,
            0.051699999999999996,
            0.0507
           ],
           "yaxis": "y"
          }
         ],
         "name": "2006-08"
        },
        {
         "data": [
          {
           "customdata": [
            [
             "2006-09"
            ],
            [
             "2006-09"
            ],
            [
             "2006-09"
            ],
            [
             "2006-09"
            ],
            [
             "2006-09"
            ],
            [
             "2006-09"
            ],
            [
             "2006-09"
            ],
            [
             "2006-09"
            ],
            [
             "2006-09"
            ]
           ],
           "hovertemplate": "date=%{customdata[0]}<br>years to maturity=%{x}<br>yield=%{y}<extra></extra>",
           "legendgroup": "",
           "line": {
            "color": "#636efa",
            "dash": "solid"
           },
           "marker": {
            "size": 10,
            "symbol": "circle"
           },
           "mode": "markers+lines",
           "name": "",
           "orientation": "v",
           "showlegend": false,
           "type": "scatter",
           "x": [
            0.08333333333333333,
            0.25,
            1,
            2,
            3,
            5,
            10,
            20,
            30
           ],
           "xaxis": "x",
           "y": [
            0.0507,
            0.050199999999999995,
            0.0499,
            0.04769999999999999,
            0.047,
            0.046799999999999994,
            0.0473,
            0.0495,
            0.0487
           ],
           "yaxis": "y"
          }
         ],
         "name": "2006-09"
        },
        {
         "data": [
          {
           "customdata": [
            [
             "2006-10"
            ],
            [
             "2006-10"
            ],
            [
             "2006-10"
            ],
            [
             "2006-10"
            ],
            [
             "2006-10"
            ],
            [
             "2006-10"
            ],
            [
             "2006-10"
            ],
            [
             "2006-10"
            ],
            [
             "2006-10"
            ]
           ],
           "hovertemplate": "date=%{customdata[0]}<br>years to maturity=%{x}<br>yield=%{y}<extra></extra>",
           "legendgroup": "",
           "line": {
            "color": "#636efa",
            "dash": "solid"
           },
           "marker": {
            "size": 10,
            "symbol": "circle"
           },
           "mode": "markers+lines",
           "name": "",
           "orientation": "v",
           "showlegend": false,
           "type": "scatter",
           "x": [
            0.08333333333333333,
            0.25,
            1,
            2,
            3,
            5,
            10,
            20,
            30
           ],
           "xaxis": "x",
           "y": [
            0.0467,
            0.048799999999999996,
            0.049,
            0.0466,
            0.045899999999999996,
            0.045599999999999995,
            0.0462,
            0.0483,
            0.047599999999999996
           ],
           "yaxis": "y"
          }
         ],
         "name": "2006-10"
        },
        {
         "data": [
          {
           "customdata": [
            [
             "2006-11"
            ],
            [
             "2006-11"
            ],
            [
             "2006-11"
            ],
            [
             "2006-11"
            ],
            [
             "2006-11"
            ],
            [
             "2006-11"
            ],
            [
             "2006-11"
            ],
            [
             "2006-11"
            ],
            [
             "2006-11"
            ]
           ],
           "hovertemplate": "date=%{customdata[0]}<br>years to maturity=%{x}<br>yield=%{y}<extra></extra>",
           "legendgroup": "",
           "line": {
            "color": "#636efa",
            "dash": "solid"
           },
           "marker": {
            "size": 10,
            "symbol": "circle"
           },
           "mode": "markers+lines",
           "name": "",
           "orientation": "v",
           "showlegend": false,
           "type": "scatter",
           "x": [
            0.08333333333333333,
            0.25,
            1,
            2,
            3,
            5,
            10,
            20,
            30
           ],
           "xaxis": "x",
           "y": [
            0.0519,
            0.0507,
            0.0495,
            0.0466,
            0.045599999999999995,
            0.0452,
            0.045700000000000005,
            0.04769999999999999,
            0.046799999999999994
           ],
           "yaxis": "y"
          }
         ],
         "name": "2006-11"
        },
        {
         "data": [
          {
           "customdata": [
            [
             "2006-12"
            ],
            [
             "2006-12"
            ],
            [
             "2006-12"
            ],
            [
             "2006-12"
            ],
            [
             "2006-12"
            ],
            [
             "2006-12"
            ],
            [
             "2006-12"
            ],
            [
             "2006-12"
            ],
            [
             "2006-12"
            ]
           ],
           "hovertemplate": "date=%{customdata[0]}<br>years to maturity=%{x}<br>yield=%{y}<extra></extra>",
           "legendgroup": "",
           "line": {
            "color": "#636efa",
            "dash": "solid"
           },
           "marker": {
            "size": 10,
            "symbol": "circle"
           },
           "mode": "markers+lines",
           "name": "",
           "orientation": "v",
           "showlegend": false,
           "type": "scatter",
           "x": [
            0.08333333333333333,
            0.25,
            1,
            2,
            3,
            5,
            10,
            20,
            30
           ],
           "xaxis": "x",
           "y": [
            0.0521,
            0.050300000000000004,
            0.0487,
            0.0452,
            0.0443,
            0.043899999999999995,
            0.0443,
            0.0464,
            0.0454
           ],
           "yaxis": "y"
          }
         ],
         "name": "2006-12"
        },
        {
         "data": [
          {
           "customdata": [
            [
             "2007-01"
            ],
            [
             "2007-01"
            ],
            [
             "2007-01"
            ],
            [
             "2007-01"
            ],
            [
             "2007-01"
            ],
            [
             "2007-01"
            ],
            [
             "2007-01"
            ],
            [
             "2007-01"
            ],
            [
             "2007-01"
            ]
           ],
           "hovertemplate": "date=%{customdata[0]}<br>years to maturity=%{x}<br>yield=%{y}<extra></extra>",
           "legendgroup": "",
           "line": {
            "color": "#636efa",
            "dash": "solid"
           },
           "marker": {
            "size": 10,
            "symbol": "circle"
           },
           "mode": "markers+lines",
           "name": "",
           "orientation": "v",
           "showlegend": false,
           "type": "scatter",
           "x": [
            0.08333333333333333,
            0.25,
            1,
            2,
            3,
            5,
            10,
            20,
            30
           ],
           "xaxis": "x",
           "y": [
            0.0479,
            0.0507,
            0.05,
            0.048,
            0.0471,
            0.046799999999999994,
            0.046799999999999994,
            0.0487,
            0.0479
           ],
           "yaxis": "y"
          }
         ],
         "name": "2007-01"
        },
        {
         "data": [
          {
           "customdata": [
            [
             "2007-02"
            ],
            [
             "2007-02"
            ],
            [
             "2007-02"
            ],
            [
             "2007-02"
            ],
            [
             "2007-02"
            ],
            [
             "2007-02"
            ],
            [
             "2007-02"
            ],
            [
             "2007-02"
            ],
            [
             "2007-02"
            ]
           ],
           "hovertemplate": "date=%{customdata[0]}<br>years to maturity=%{x}<br>yield=%{y}<extra></extra>",
           "legendgroup": "",
           "line": {
            "color": "#636efa",
            "dash": "solid"
           },
           "marker": {
            "size": 10,
            "symbol": "circle"
           },
           "mode": "markers+lines",
           "name": "",
           "orientation": "v",
           "showlegend": false,
           "type": "scatter",
           "x": [
            0.08333333333333333,
            0.25,
            1,
            2,
            3,
            5,
            10,
            20,
            30
           ],
           "xaxis": "x",
           "y": [
            0.0499,
            0.0513,
            0.0509,
            0.0496,
            0.048799999999999996,
            0.0484,
            0.0484,
            0.050199999999999995,
            0.0493
           ],
           "yaxis": "y"
          }
         ],
         "name": "2007-02"
        },
        {
         "data": [
          {
           "customdata": [
            [
             "2007-03"
            ],
            [
             "2007-03"
            ],
            [
             "2007-03"
            ],
            [
             "2007-03"
            ],
            [
             "2007-03"
            ],
            [
             "2007-03"
            ],
            [
             "2007-03"
            ],
            [
             "2007-03"
            ],
            [
             "2007-03"
            ]
           ],
           "hovertemplate": "date=%{customdata[0]}<br>years to maturity=%{x}<br>yield=%{y}<extra></extra>",
           "legendgroup": "",
           "line": {
            "color": "#636efa",
            "dash": "solid"
           },
           "marker": {
            "size": 10,
            "symbol": "circle"
           },
           "mode": "markers+lines",
           "name": "",
           "orientation": "v",
           "showlegend": false,
           "type": "scatter",
           "x": [
            0.08333333333333333,
            0.25,
            1,
            2,
            3,
            5,
            10,
            20,
            30
           ],
           "xaxis": "x",
           "y": [
            0.0525,
            0.051500000000000004,
            0.0495,
            0.0463,
            0.0454,
            0.045,
            0.045599999999999995,
            0.0478,
            0.046799999999999994
           ],
           "yaxis": "y"
          }
         ],
         "name": "2007-03"
        },
        {
         "data": [
          {
           "customdata": [
            [
             "2007-04"
            ],
            [
             "2007-04"
            ],
            [
             "2007-04"
            ],
            [
             "2007-04"
            ],
            [
             "2007-04"
            ],
            [
             "2007-04"
            ],
            [
             "2007-04"
            ],
            [
             "2007-04"
            ],
            [
             "2007-04"
            ]
           ],
           "hovertemplate": "date=%{customdata[0]}<br>years to maturity=%{x}<br>yield=%{y}<extra></extra>",
           "legendgroup": "",
           "line": {
            "color": "#636efa",
            "dash": "solid"
           },
           "marker": {
            "size": 10,
            "symbol": "circle"
           },
           "mode": "markers+lines",
           "name": "",
           "orientation": "v",
           "showlegend": false,
           "type": "scatter",
           "x": [
            0.08333333333333333,
            0.25,
            1,
            2,
            3,
            5,
            10,
            20,
            30
           ],
           "xaxis": "x",
           "y": [
            0.0512,
            0.0504,
            0.0492,
            0.046,
            0.0453,
            0.0454,
            0.04650000000000001,
            0.0492,
            0.0484
           ],
           "yaxis": "y"
          }
         ],
         "name": "2007-04"
        },
        {
         "data": [
          {
           "customdata": [
            [
             "2007-05"
            ],
            [
             "2007-05"
            ],
            [
             "2007-05"
            ],
            [
             "2007-05"
            ],
            [
             "2007-05"
            ],
            [
             "2007-05"
            ],
            [
             "2007-05"
            ],
            [
             "2007-05"
            ],
            [
             "2007-05"
            ]
           ],
           "hovertemplate": "date=%{customdata[0]}<br>years to maturity=%{x}<br>yield=%{y}<extra></extra>",
           "legendgroup": "",
           "line": {
            "color": "#636efa",
            "dash": "solid"
           },
           "marker": {
            "size": 10,
            "symbol": "circle"
           },
           "mode": "markers+lines",
           "name": "",
           "orientation": "v",
           "showlegend": false,
           "type": "scatter",
           "x": [
            0.08333333333333333,
            0.25,
            1,
            2,
            3,
            5,
            10,
            20,
            30
           ],
           "xaxis": "x",
           "y": [
            0.046900000000000004,
            0.049,
            0.0489,
            0.0463,
            0.045599999999999995,
            0.0454,
            0.0464,
            0.0489,
            0.0481
           ],
           "yaxis": "y"
          }
         ],
         "name": "2007-05"
        },
        {
         "data": [
          {
           "customdata": [
            [
             "2007-06"
            ],
            [
             "2007-06"
            ],
            [
             "2007-06"
            ],
            [
             "2007-06"
            ],
            [
             "2007-06"
            ],
            [
             "2007-06"
            ],
            [
             "2007-06"
            ],
            [
             "2007-06"
            ],
            [
             "2007-06"
            ]
           ],
           "hovertemplate": "date=%{customdata[0]}<br>years to maturity=%{x}<br>yield=%{y}<extra></extra>",
           "legendgroup": "",
           "line": {
            "color": "#636efa",
            "dash": "solid"
           },
           "marker": {
            "size": 10,
            "symbol": "circle"
           },
           "mode": "markers+lines",
           "name": "",
           "orientation": "v",
           "showlegend": false,
           "type": "scatter",
           "x": [
            0.08333333333333333,
            0.25,
            1,
            2,
            3,
            5,
            10,
            20,
            30
           ],
           "xaxis": "x",
           "y": [
            0.048,
            0.0479,
            0.049800000000000004,
            0.049699999999999994,
            0.049400000000000006,
            0.0492,
            0.0495,
            0.051500000000000004,
            0.0506
           ],
           "yaxis": "y"
          }
         ],
         "name": "2007-06"
        },
        {
         "data": [
          {
           "customdata": [
            [
             "2007-07"
            ],
            [
             "2007-07"
            ],
            [
             "2007-07"
            ],
            [
             "2007-07"
            ],
            [
             "2007-07"
            ],
            [
             "2007-07"
            ],
            [
             "2007-07"
            ],
            [
             "2007-07"
            ],
            [
             "2007-07"
            ]
           ],
           "hovertemplate": "date=%{customdata[0]}<br>years to maturity=%{x}<br>yield=%{y}<extra></extra>",
           "legendgroup": "",
           "line": {
            "color": "#636efa",
            "dash": "solid"
           },
           "marker": {
            "size": 10,
            "symbol": "circle"
           },
           "mode": "markers+lines",
           "name": "",
           "orientation": "v",
           "showlegend": false,
           "type": "scatter",
           "x": [
            0.08333333333333333,
            0.25,
            1,
            2,
            3,
            5,
            10,
            20,
            30
           ],
           "xaxis": "x",
           "y": [
            0.0455,
            0.0495,
            0.049699999999999994,
            0.048600000000000004,
            0.048600000000000004,
            0.049,
            0.05,
            0.0518,
            0.0509
           ],
           "yaxis": "y"
          }
         ],
         "name": "2007-07"
        },
        {
         "data": [
          {
           "customdata": [
            [
             "2007-08"
            ],
            [
             "2007-08"
            ],
            [
             "2007-08"
            ],
            [
             "2007-08"
            ],
            [
             "2007-08"
            ],
            [
             "2007-08"
            ],
            [
             "2007-08"
            ],
            [
             "2007-08"
            ],
            [
             "2007-08"
            ]
           ],
           "hovertemplate": "date=%{customdata[0]}<br>years to maturity=%{x}<br>yield=%{y}<extra></extra>",
           "legendgroup": "",
           "line": {
            "color": "#636efa",
            "dash": "solid"
           },
           "marker": {
            "size": 10,
            "symbol": "circle"
           },
           "mode": "markers+lines",
           "name": "",
           "orientation": "v",
           "showlegend": false,
           "type": "scatter",
           "x": [
            0.08333333333333333,
            0.25,
            1,
            2,
            3,
            5,
            10,
            20,
            30
           ],
           "xaxis": "x",
           "y": [
            0.050499999999999996,
            0.0489,
            0.0482,
            0.045599999999999995,
            0.0453,
            0.046,
            0.047599999999999996,
            0.0499,
            0.049
           ],
           "yaxis": "y"
          }
         ],
         "name": "2007-08"
        },
        {
         "data": [
          {
           "customdata": [
            [
             "2007-09"
            ],
            [
             "2007-09"
            ],
            [
             "2007-09"
            ],
            [
             "2007-09"
            ],
            [
             "2007-09"
            ],
            [
             "2007-09"
            ],
            [
             "2007-09"
            ],
            [
             "2007-09"
            ],
            [
             "2007-09"
            ]
           ],
           "hovertemplate": "date=%{customdata[0]}<br>years to maturity=%{x}<br>yield=%{y}<extra></extra>",
           "legendgroup": "",
           "line": {
            "color": "#636efa",
            "dash": "solid"
           },
           "marker": {
            "size": 10,
            "symbol": "circle"
           },
           "mode": "markers+lines",
           "name": "",
           "orientation": "v",
           "showlegend": false,
           "type": "scatter",
           "x": [
            0.08333333333333333,
            0.25,
            1,
            2,
            3,
            5,
            10,
            20,
            30
           ],
           "xaxis": "x",
           "y": [
            0.0455,
            0.0447,
            0.043899999999999995,
            0.041299999999999996,
            0.0416,
            0.0426,
            0.045599999999999995,
            0.048799999999999996,
            0.0484
           ],
           "yaxis": "y"
          }
         ],
         "name": "2007-09"
        },
        {
         "data": [
          {
           "customdata": [
            [
             "2007-10"
            ],
            [
             "2007-10"
            ],
            [
             "2007-10"
            ],
            [
             "2007-10"
            ],
            [
             "2007-10"
            ],
            [
             "2007-10"
            ],
            [
             "2007-10"
            ],
            [
             "2007-10"
            ],
            [
             "2007-10"
            ]
           ],
           "hovertemplate": "date=%{customdata[0]}<br>years to maturity=%{x}<br>yield=%{y}<extra></extra>",
           "legendgroup": "",
           "line": {
            "color": "#636efa",
            "dash": "solid"
           },
           "marker": {
            "size": 10,
            "symbol": "circle"
           },
           "mode": "markers+lines",
           "name": "",
           "orientation": "v",
           "showlegend": false,
           "type": "scatter",
           "x": [
            0.08333333333333333,
            0.25,
            1,
            2,
            3,
            5,
            10,
            20,
            30
           ],
           "xaxis": "x",
           "y": [
            0.0352,
            0.0392,
            0.041100000000000005,
            0.04019999999999999,
            0.0405,
            0.0424,
            0.045599999999999995,
            0.048499999999999995,
            0.0479
           ],
           "yaxis": "y"
          }
         ],
         "name": "2007-10"
        },
        {
         "data": [
          {
           "customdata": [
            [
             "2007-11"
            ],
            [
             "2007-11"
            ],
            [
             "2007-11"
            ],
            [
             "2007-11"
            ],
            [
             "2007-11"
            ],
            [
             "2007-11"
            ],
            [
             "2007-11"
            ],
            [
             "2007-11"
            ],
            [
             "2007-11"
            ]
           ],
           "hovertemplate": "date=%{customdata[0]}<br>years to maturity=%{x}<br>yield=%{y}<extra></extra>",
           "legendgroup": "",
           "line": {
            "color": "#636efa",
            "dash": "solid"
           },
           "marker": {
            "size": 10,
            "symbol": "circle"
           },
           "mode": "markers+lines",
           "name": "",
           "orientation": "v",
           "showlegend": false,
           "type": "scatter",
           "x": [
            0.08333333333333333,
            0.25,
            1,
            2,
            3,
            5,
            10,
            20,
            30
           ],
           "xaxis": "x",
           "y": [
            0.039,
            0.0381,
            0.038900000000000004,
            0.0377,
            0.038,
            0.04019999999999999,
            0.0436,
            0.046900000000000004,
            0.0464
           ],
           "yaxis": "y"
          }
         ],
         "name": "2007-11"
        },
        {
         "data": [
          {
           "customdata": [
            [
             "2007-12"
            ],
            [
             "2007-12"
            ],
            [
             "2007-12"
            ],
            [
             "2007-12"
            ],
            [
             "2007-12"
            ],
            [
             "2007-12"
            ],
            [
             "2007-12"
            ],
            [
             "2007-12"
            ],
            [
             "2007-12"
            ]
           ],
           "hovertemplate": "date=%{customdata[0]}<br>years to maturity=%{x}<br>yield=%{y}<extra></extra>",
           "legendgroup": "",
           "line": {
            "color": "#636efa",
            "dash": "solid"
           },
           "marker": {
            "size": 10,
            "symbol": "circle"
           },
           "mode": "markers+lines",
           "name": "",
           "orientation": "v",
           "showlegend": false,
           "type": "scatter",
           "x": [
            0.08333333333333333,
            0.25,
            1,
            2,
            3,
            5,
            10,
            20,
            30
           ],
           "xaxis": "x",
           "y": [
            0.0355,
            0.030600000000000002,
            0.0315,
            0.028999999999999998,
            0.029300000000000003,
            0.032799999999999996,
            0.038900000000000004,
            0.0438,
            0.0434
           ],
           "yaxis": "y"
          }
         ],
         "name": "2007-12"
        },
        {
         "data": [
          {
           "customdata": [
            [
             "2008-01"
            ],
            [
             "2008-01"
            ],
            [
             "2008-01"
            ],
            [
             "2008-01"
            ],
            [
             "2008-01"
            ],
            [
             "2008-01"
            ],
            [
             "2008-01"
            ],
            [
             "2008-01"
            ],
            [
             "2008-01"
            ]
           ],
           "hovertemplate": "date=%{customdata[0]}<br>years to maturity=%{x}<br>yield=%{y}<extra></extra>",
           "legendgroup": "",
           "line": {
            "color": "#636efa",
            "dash": "solid"
           },
           "marker": {
            "size": 10,
            "symbol": "circle"
           },
           "mode": "markers+lines",
           "name": "",
           "orientation": "v",
           "showlegend": false,
           "type": "scatter",
           "x": [
            0.08333333333333333,
            0.25,
            1,
            2,
            3,
            5,
            10,
            20,
            30
           ],
           "xaxis": "x",
           "y": [
            0.030899999999999997,
            0.0326,
            0.0317,
            0.0288,
            0.028900000000000002,
            0.032799999999999996,
            0.0391,
            0.043899999999999995,
            0.0435
           ],
           "yaxis": "y"
          }
         ],
         "name": "2008-01"
        },
        {
         "data": [
          {
           "customdata": [
            [
             "2008-02"
            ],
            [
             "2008-02"
            ],
            [
             "2008-02"
            ],
            [
             "2008-02"
            ],
            [
             "2008-02"
            ],
            [
             "2008-02"
            ],
            [
             "2008-02"
            ],
            [
             "2008-02"
            ],
            [
             "2008-02"
            ]
           ],
           "hovertemplate": "date=%{customdata[0]}<br>years to maturity=%{x}<br>yield=%{y}<extra></extra>",
           "legendgroup": "",
           "line": {
            "color": "#636efa",
            "dash": "solid"
           },
           "marker": {
            "size": 10,
            "symbol": "circle"
           },
           "mode": "markers+lines",
           "name": "",
           "orientation": "v",
           "showlegend": false,
           "type": "scatter",
           "x": [
            0.08333333333333333,
            0.25,
            1,
            2,
            3,
            5,
            10,
            20,
            30
           ],
           "xaxis": "x",
           "y": [
            0.0175,
            0.021,
            0.0213,
            0.0209,
            0.0222,
            0.0275,
            0.0362,
            0.0431,
            0.0432
           ],
           "yaxis": "y"
          }
         ],
         "name": "2008-02"
        },
        {
         "data": [
          {
           "customdata": [
            [
             "2008-03"
            ],
            [
             "2008-03"
            ],
            [
             "2008-03"
            ],
            [
             "2008-03"
            ],
            [
             "2008-03"
            ],
            [
             "2008-03"
            ],
            [
             "2008-03"
            ],
            [
             "2008-03"
            ],
            [
             "2008-03"
            ]
           ],
           "hovertemplate": "date=%{customdata[0]}<br>years to maturity=%{x}<br>yield=%{y}<extra></extra>",
           "legendgroup": "",
           "line": {
            "color": "#636efa",
            "dash": "solid"
           },
           "marker": {
            "size": 10,
            "symbol": "circle"
           },
           "mode": "markers+lines",
           "name": "",
           "orientation": "v",
           "showlegend": false,
           "type": "scatter",
           "x": [
            0.08333333333333333,
            0.25,
            1,
            2,
            3,
            5,
            10,
            20,
            30
           ],
           "xaxis": "x",
           "y": [
            0.0199,
            0.017,
            0.0174,
            0.0161,
            0.0184,
            0.0248,
            0.0354,
            0.0437,
            0.044199999999999996
           ],
           "yaxis": "y"
          }
         ],
         "name": "2008-03"
        },
        {
         "data": [
          {
           "customdata": [
            [
             "2008-04"
            ],
            [
             "2008-04"
            ],
            [
             "2008-04"
            ],
            [
             "2008-04"
            ],
            [
             "2008-04"
            ],
            [
             "2008-04"
            ],
            [
             "2008-04"
            ],
            [
             "2008-04"
            ],
            [
             "2008-04"
            ]
           ],
           "hovertemplate": "date=%{customdata[0]}<br>years to maturity=%{x}<br>yield=%{y}<extra></extra>",
           "legendgroup": "",
           "line": {
            "color": "#636efa",
            "dash": "solid"
           },
           "marker": {
            "size": 10,
            "symbol": "circle"
           },
           "mode": "markers+lines",
           "name": "",
           "orientation": "v",
           "showlegend": false,
           "type": "scatter",
           "x": [
            0.08333333333333333,
            0.25,
            1,
            2,
            3,
            5,
            10,
            20,
            30
           ],
           "xaxis": "x",
           "y": [
            0.0155,
            0.013999999999999999,
            0.016200000000000003,
            0.018000000000000002,
            0.0194,
            0.0265,
            0.035699999999999996,
            0.044000000000000004,
            0.044000000000000004
           ],
           "yaxis": "y"
          }
         ],
         "name": "2008-04"
        },
        {
         "data": [
          {
           "customdata": [
            [
             "2008-05"
            ],
            [
             "2008-05"
            ],
            [
             "2008-05"
            ],
            [
             "2008-05"
            ],
            [
             "2008-05"
            ],
            [
             "2008-05"
            ],
            [
             "2008-05"
            ],
            [
             "2008-05"
            ],
            [
             "2008-05"
            ]
           ],
           "hovertemplate": "date=%{customdata[0]}<br>years to maturity=%{x}<br>yield=%{y}<extra></extra>",
           "legendgroup": "",
           "line": {
            "color": "#636efa",
            "dash": "solid"
           },
           "marker": {
            "size": 10,
            "symbol": "circle"
           },
           "mode": "markers+lines",
           "name": "",
           "orientation": "v",
           "showlegend": false,
           "type": "scatter",
           "x": [
            0.08333333333333333,
            0.25,
            1,
            2,
            3,
            5,
            10,
            20,
            30
           ],
           "xaxis": "x",
           "y": [
            0.0123,
            0.014499999999999999,
            0.0194,
            0.023700000000000002,
            0.0253,
            0.030600000000000002,
            0.0378,
            0.0449,
            0.0449
           ],
           "yaxis": "y"
          }
         ],
         "name": "2008-05"
        },
        {
         "data": [
          {
           "customdata": [
            [
             "2008-06"
            ],
            [
             "2008-06"
            ],
            [
             "2008-06"
            ],
            [
             "2008-06"
            ],
            [
             "2008-06"
            ],
            [
             "2008-06"
            ],
            [
             "2008-06"
            ],
            [
             "2008-06"
            ],
            [
             "2008-06"
            ]
           ],
           "hovertemplate": "date=%{customdata[0]}<br>years to maturity=%{x}<br>yield=%{y}<extra></extra>",
           "legendgroup": "",
           "line": {
            "color": "#636efa",
            "dash": "solid"
           },
           "marker": {
            "size": 10,
            "symbol": "circle"
           },
           "mode": "markers+lines",
           "name": "",
           "orientation": "v",
           "showlegend": false,
           "type": "scatter",
           "x": [
            0.08333333333333333,
            0.25,
            1,
            2,
            3,
            5,
            10,
            20,
            30
           ],
           "xaxis": "x",
           "y": [
            0.0194,
            0.018500000000000003,
            0.0217,
            0.025099999999999997,
            0.0282,
            0.032799999999999996,
            0.0398,
            0.046900000000000004,
            0.046799999999999994
           ],
           "yaxis": "y"
          }
         ],
         "name": "2008-06"
        },
        {
         "data": [
          {
           "customdata": [
            [
             "2008-07"
            ],
            [
             "2008-07"
            ],
            [
             "2008-07"
            ],
            [
             "2008-07"
            ],
            [
             "2008-07"
            ],
            [
             "2008-07"
            ],
            [
             "2008-07"
            ],
            [
             "2008-07"
            ],
            [
             "2008-07"
            ]
           ],
           "hovertemplate": "date=%{customdata[0]}<br>years to maturity=%{x}<br>yield=%{y}<extra></extra>",
           "legendgroup": "",
           "line": {
            "color": "#636efa",
            "dash": "solid"
           },
           "marker": {
            "size": 10,
            "symbol": "circle"
           },
           "mode": "markers+lines",
           "name": "",
           "orientation": "v",
           "showlegend": false,
           "type": "scatter",
           "x": [
            0.08333333333333333,
            0.25,
            1,
            2,
            3,
            5,
            10,
            20,
            30
           ],
           "xaxis": "x",
           "y": [
            0.0192,
            0.0187,
            0.023799999999999998,
            0.0263,
            0.028999999999999998,
            0.0333,
            0.0401,
            0.046,
            0.0455
           ],
           "yaxis": "y"
          }
         ],
         "name": "2008-07"
        },
        {
         "data": [
          {
           "customdata": [
            [
             "2008-08"
            ],
            [
             "2008-08"
            ],
            [
             "2008-08"
            ],
            [
             "2008-08"
            ],
            [
             "2008-08"
            ],
            [
             "2008-08"
            ],
            [
             "2008-08"
            ],
            [
             "2008-08"
            ],
            [
             "2008-08"
            ]
           ],
           "hovertemplate": "date=%{customdata[0]}<br>years to maturity=%{x}<br>yield=%{y}<extra></extra>",
           "legendgroup": "",
           "line": {
            "color": "#636efa",
            "dash": "solid"
           },
           "marker": {
            "size": 10,
            "symbol": "circle"
           },
           "mode": "markers+lines",
           "name": "",
           "orientation": "v",
           "showlegend": false,
           "type": "scatter",
           "x": [
            0.08333333333333333,
            0.25,
            1,
            2,
            3,
            5,
            10,
            20,
            30
           ],
           "xaxis": "x",
           "y": [
            0.0152,
            0.0166,
            0.0225,
            0.025099999999999997,
            0.0279,
            0.0323,
            0.0397,
            0.0461,
            0.045700000000000005
           ],
           "yaxis": "y"
          }
         ],
         "name": "2008-08"
        },
        {
         "data": [
          {
           "customdata": [
            [
             "2008-09"
            ],
            [
             "2008-09"
            ],
            [
             "2008-09"
            ],
            [
             "2008-09"
            ],
            [
             "2008-09"
            ],
            [
             "2008-09"
            ],
            [
             "2008-09"
            ],
            [
             "2008-09"
            ],
            [
             "2008-09"
            ]
           ],
           "hovertemplate": "date=%{customdata[0]}<br>years to maturity=%{x}<br>yield=%{y}<extra></extra>",
           "legendgroup": "",
           "line": {
            "color": "#636efa",
            "dash": "solid"
           },
           "marker": {
            "size": 10,
            "symbol": "circle"
           },
           "mode": "markers+lines",
           "name": "",
           "orientation": "v",
           "showlegend": false,
           "type": "scatter",
           "x": [
            0.08333333333333333,
            0.25,
            1,
            2,
            3,
            5,
            10,
            20,
            30
           ],
           "xaxis": "x",
           "y": [
            0.016399999999999998,
            0.0172,
            0.0212,
            0.0226,
            0.025099999999999997,
            0.03,
            0.0374,
            0.043899999999999995,
            0.0436
           ],
           "yaxis": "y"
          }
         ],
         "name": "2008-09"
        },
        {
         "data": [
          {
           "customdata": [
            [
             "2008-10"
            ],
            [
             "2008-10"
            ],
            [
             "2008-10"
            ],
            [
             "2008-10"
            ],
            [
             "2008-10"
            ],
            [
             "2008-10"
            ],
            [
             "2008-10"
            ],
            [
             "2008-10"
            ],
            [
             "2008-10"
            ]
           ],
           "hovertemplate": "date=%{customdata[0]}<br>years to maturity=%{x}<br>yield=%{y}<extra></extra>",
           "legendgroup": "",
           "line": {
            "color": "#636efa",
            "dash": "solid"
           },
           "marker": {
            "size": 10,
            "symbol": "circle"
           },
           "mode": "markers+lines",
           "name": "",
           "orientation": "v",
           "showlegend": false,
           "type": "scatter",
           "x": [
            0.08333333333333333,
            0.25,
            1,
            2,
            3,
            5,
            10,
            20,
            30
           ],
           "xaxis": "x",
           "y": [
            0.0066,
            0.0085,
            0.0172,
            0.0182,
            0.0212,
            0.0287,
            0.0377,
            0.0433,
            0.042199999999999994
           ],
           "yaxis": "y"
          }
         ],
         "name": "2008-10"
        },
        {
         "data": [
          {
           "customdata": [
            [
             "2008-11"
            ],
            [
             "2008-11"
            ],
            [
             "2008-11"
            ],
            [
             "2008-11"
            ],
            [
             "2008-11"
            ],
            [
             "2008-11"
            ],
            [
             "2008-11"
            ],
            [
             "2008-11"
            ],
            [
             "2008-11"
            ]
           ],
           "hovertemplate": "date=%{customdata[0]}<br>years to maturity=%{x}<br>yield=%{y}<extra></extra>",
           "legendgroup": "",
           "line": {
            "color": "#636efa",
            "dash": "solid"
           },
           "marker": {
            "size": 10,
            "symbol": "circle"
           },
           "mode": "markers+lines",
           "name": "",
           "orientation": "v",
           "showlegend": false,
           "type": "scatter",
           "x": [
            0.08333333333333333,
            0.25,
            1,
            2,
            3,
            5,
            10,
            20,
            30
           ],
           "xaxis": "x",
           "y": [
            0.002,
            0.0049,
            0.0131,
            0.014499999999999999,
            0.0169,
            0.0271,
            0.039599999999999996,
            0.0473,
            0.0433
           ],
           "yaxis": "y"
          }
         ],
         "name": "2008-11"
        },
        {
         "data": [
          {
           "customdata": [
            [
             "2008-12"
            ],
            [
             "2008-12"
            ],
            [
             "2008-12"
            ],
            [
             "2008-12"
            ],
            [
             "2008-12"
            ],
            [
             "2008-12"
            ],
            [
             "2008-12"
            ],
            [
             "2008-12"
            ],
            [
             "2008-12"
            ]
           ],
           "hovertemplate": "date=%{customdata[0]}<br>years to maturity=%{x}<br>yield=%{y}<extra></extra>",
           "legendgroup": "",
           "line": {
            "color": "#636efa",
            "dash": "solid"
           },
           "marker": {
            "size": 10,
            "symbol": "circle"
           },
           "mode": "markers+lines",
           "name": "",
           "orientation": "v",
           "showlegend": false,
           "type": "scatter",
           "x": [
            0.08333333333333333,
            0.25,
            1,
            2,
            3,
            5,
            10,
            20,
            30
           ],
           "xaxis": "x",
           "y": [
            0.0009,
            0.0007000000000000001,
            0.008100000000000001,
            0.009000000000000001,
            0.0116,
            0.0171,
            0.027200000000000002,
            0.0351,
            0.0322
           ],
           "yaxis": "y"
          }
         ],
         "name": "2008-12"
        },
        {
         "data": [
          {
           "customdata": [
            [
             "2009-01"
            ],
            [
             "2009-01"
            ],
            [
             "2009-01"
            ],
            [
             "2009-01"
            ],
            [
             "2009-01"
            ],
            [
             "2009-01"
            ],
            [
             "2009-01"
            ],
            [
             "2009-01"
            ],
            [
             "2009-01"
            ]
           ],
           "hovertemplate": "date=%{customdata[0]}<br>years to maturity=%{x}<br>yield=%{y}<extra></extra>",
           "legendgroup": "",
           "line": {
            "color": "#636efa",
            "dash": "solid"
           },
           "marker": {
            "size": 10,
            "symbol": "circle"
           },
           "mode": "markers+lines",
           "name": "",
           "orientation": "v",
           "showlegend": false,
           "type": "scatter",
           "x": [
            0.08333333333333333,
            0.25,
            1,
            2,
            3,
            5,
            10,
            20,
            30
           ],
           "xaxis": "x",
           "y": [
            0.0004,
            0.0008,
            0.004,
            0.0088,
            0.011399999999999999,
            0.0172,
            0.0246,
            0.0322,
            0.028300000000000002
           ],
           "yaxis": "y"
          }
         ],
         "name": "2009-01"
        },
        {
         "data": [
          {
           "customdata": [
            [
             "2009-02"
            ],
            [
             "2009-02"
            ],
            [
             "2009-02"
            ],
            [
             "2009-02"
            ],
            [
             "2009-02"
            ],
            [
             "2009-02"
            ],
            [
             "2009-02"
            ],
            [
             "2009-02"
            ],
            [
             "2009-02"
            ]
           ],
           "hovertemplate": "date=%{customdata[0]}<br>years to maturity=%{x}<br>yield=%{y}<extra></extra>",
           "legendgroup": "",
           "line": {
            "color": "#636efa",
            "dash": "solid"
           },
           "marker": {
            "size": 10,
            "symbol": "circle"
           },
           "mode": "markers+lines",
           "name": "",
           "orientation": "v",
           "showlegend": false,
           "type": "scatter",
           "x": [
            0.08333333333333333,
            0.25,
            1,
            2,
            3,
            5,
            10,
            20,
            30
           ],
           "xaxis": "x",
           "y": [
            0.0019,
            0.0027,
            0.0051,
            0.0089,
            0.0127,
            0.0175,
            0.0276,
            0.0375,
            0.0347
           ],
           "yaxis": "y"
          }
         ],
         "name": "2009-02"
        },
        {
         "data": [
          {
           "customdata": [
            [
             "2009-03"
            ],
            [
             "2009-03"
            ],
            [
             "2009-03"
            ],
            [
             "2009-03"
            ],
            [
             "2009-03"
            ],
            [
             "2009-03"
            ],
            [
             "2009-03"
            ],
            [
             "2009-03"
            ],
            [
             "2009-03"
            ]
           ],
           "hovertemplate": "date=%{customdata[0]}<br>years to maturity=%{x}<br>yield=%{y}<extra></extra>",
           "legendgroup": "",
           "line": {
            "color": "#636efa",
            "dash": "solid"
           },
           "marker": {
            "size": 10,
            "symbol": "circle"
           },
           "mode": "markers+lines",
           "name": "",
           "orientation": "v",
           "showlegend": false,
           "type": "scatter",
           "x": [
            0.08333333333333333,
            0.25,
            1,
            2,
            3,
            5,
            10,
            20,
            30
           ],
           "xaxis": "x",
           "y": [
            0.0017000000000000001,
            0.0028000000000000004,
            0.0067,
            0.0089,
            0.0128,
            0.018600000000000002,
            0.0291,
            0.038900000000000004,
            0.0364
           ],
           "yaxis": "y"
          }
         ],
         "name": "2009-03"
        },
        {
         "data": [
          {
           "customdata": [
            [
             "2009-04"
            ],
            [
             "2009-04"
            ],
            [
             "2009-04"
            ],
            [
             "2009-04"
            ],
            [
             "2009-04"
            ],
            [
             "2009-04"
            ],
            [
             "2009-04"
            ],
            [
             "2009-04"
            ],
            [
             "2009-04"
            ]
           ],
           "hovertemplate": "date=%{customdata[0]}<br>years to maturity=%{x}<br>yield=%{y}<extra></extra>",
           "legendgroup": "",
           "line": {
            "color": "#636efa",
            "dash": "solid"
           },
           "marker": {
            "size": 10,
            "symbol": "circle"
           },
           "mode": "markers+lines",
           "name": "",
           "orientation": "v",
           "showlegend": false,
           "type": "scatter",
           "x": [
            0.08333333333333333,
            0.25,
            1,
            2,
            3,
            5,
            10,
            20,
            30
           ],
           "xaxis": "x",
           "y": [
            0.0018,
            0.0022,
            0.0058,
            0.0083,
            0.0116,
            0.0165,
            0.0268,
            0.0354,
            0.0351
           ],
           "yaxis": "y"
          }
         ],
         "name": "2009-04"
        },
        {
         "data": [
          {
           "customdata": [
            [
             "2009-05"
            ],
            [
             "2009-05"
            ],
            [
             "2009-05"
            ],
            [
             "2009-05"
            ],
            [
             "2009-05"
            ],
            [
             "2009-05"
            ],
            [
             "2009-05"
            ],
            [
             "2009-05"
            ],
            [
             "2009-05"
            ]
           ],
           "hovertemplate": "date=%{customdata[0]}<br>years to maturity=%{x}<br>yield=%{y}<extra></extra>",
           "legendgroup": "",
           "line": {
            "color": "#636efa",
            "dash": "solid"
           },
           "marker": {
            "size": 10,
            "symbol": "circle"
           },
           "mode": "markers+lines",
           "name": "",
           "orientation": "v",
           "showlegend": false,
           "type": "scatter",
           "x": [
            0.08333333333333333,
            0.25,
            1,
            2,
            3,
            5,
            10,
            20,
            30
           ],
           "xaxis": "x",
           "y": [
            0.0006,
            0.0016,
            0.0049,
            0.0092,
            0.0139,
            0.0203,
            0.0321,
            0.0414,
            0.0409
           ],
           "yaxis": "y"
          }
         ],
         "name": "2009-05"
        },
        {
         "data": [
          {
           "customdata": [
            [
             "2009-06"
            ],
            [
             "2009-06"
            ],
            [
             "2009-06"
            ],
            [
             "2009-06"
            ],
            [
             "2009-06"
            ],
            [
             "2009-06"
            ],
            [
             "2009-06"
            ],
            [
             "2009-06"
            ],
            [
             "2009-06"
            ]
           ],
           "hovertemplate": "date=%{customdata[0]}<br>years to maturity=%{x}<br>yield=%{y}<extra></extra>",
           "legendgroup": "",
           "line": {
            "color": "#636efa",
            "dash": "solid"
           },
           "marker": {
            "size": 10,
            "symbol": "circle"
           },
           "mode": "markers+lines",
           "name": "",
           "orientation": "v",
           "showlegend": false,
           "type": "scatter",
           "x": [
            0.08333333333333333,
            0.25,
            1,
            2,
            3,
            5,
            10,
            20,
            30
           ],
           "xaxis": "x",
           "y": [
            0.0013,
            0.0013,
            0.0048,
            0.0097,
            0.0152,
            0.0255,
            0.0371,
            0.045599999999999995,
            0.0455
           ],
           "yaxis": "y"
          }
         ],
         "name": "2009-06"
        },
        {
         "data": [
          {
           "customdata": [
            [
             "2009-07"
            ],
            [
             "2009-07"
            ],
            [
             "2009-07"
            ],
            [
             "2009-07"
            ],
            [
             "2009-07"
            ],
            [
             "2009-07"
            ],
            [
             "2009-07"
            ],
            [
             "2009-07"
            ],
            [
             "2009-07"
            ]
           ],
           "hovertemplate": "date=%{customdata[0]}<br>years to maturity=%{x}<br>yield=%{y}<extra></extra>",
           "legendgroup": "",
           "line": {
            "color": "#636efa",
            "dash": "solid"
           },
           "marker": {
            "size": 10,
            "symbol": "circle"
           },
           "mode": "markers+lines",
           "name": "",
           "orientation": "v",
           "showlegend": false,
           "type": "scatter",
           "x": [
            0.08333333333333333,
            0.25,
            1,
            2,
            3,
            5,
            10,
            20,
            30
           ],
           "xaxis": "x",
           "y": [
            0.0013,
            0.0017000000000000001,
            0.0054,
            0.0105,
            0.015700000000000002,
            0.025099999999999997,
            0.0355,
            0.0432,
            0.0434
           ],
           "yaxis": "y"
          }
         ],
         "name": "2009-07"
        },
        {
         "data": [
          {
           "customdata": [
            [
             "2009-08"
            ],
            [
             "2009-08"
            ],
            [
             "2009-08"
            ],
            [
             "2009-08"
            ],
            [
             "2009-08"
            ],
            [
             "2009-08"
            ],
            [
             "2009-08"
            ],
            [
             "2009-08"
            ],
            [
             "2009-08"
            ]
           ],
           "hovertemplate": "date=%{customdata[0]}<br>years to maturity=%{x}<br>yield=%{y}<extra></extra>",
           "legendgroup": "",
           "line": {
            "color": "#636efa",
            "dash": "solid"
           },
           "marker": {
            "size": 10,
            "symbol": "circle"
           },
           "mode": "markers+lines",
           "name": "",
           "orientation": "v",
           "showlegend": false,
           "type": "scatter",
           "x": [
            0.08333333333333333,
            0.25,
            1,
            2,
            3,
            5,
            10,
            20,
            30
           ],
           "xaxis": "x",
           "y": [
            0.0015,
            0.0019,
            0.0048,
            0.0118,
            0.0172,
            0.026600000000000002,
            0.0366,
            0.044000000000000004,
            0.044199999999999996
           ],
           "yaxis": "y"
          }
         ],
         "name": "2009-08"
        },
        {
         "data": [
          {
           "customdata": [
            [
             "2009-09"
            ],
            [
             "2009-09"
            ],
            [
             "2009-09"
            ],
            [
             "2009-09"
            ],
            [
             "2009-09"
            ],
            [
             "2009-09"
            ],
            [
             "2009-09"
            ],
            [
             "2009-09"
            ],
            [
             "2009-09"
            ]
           ],
           "hovertemplate": "date=%{customdata[0]}<br>years to maturity=%{x}<br>yield=%{y}<extra></extra>",
           "legendgroup": "",
           "line": {
            "color": "#636efa",
            "dash": "solid"
           },
           "marker": {
            "size": 10,
            "symbol": "circle"
           },
           "mode": "markers+lines",
           "name": "",
           "orientation": "v",
           "showlegend": false,
           "type": "scatter",
           "x": [
            0.08333333333333333,
            0.25,
            1,
            2,
            3,
            5,
            10,
            20,
            30
           ],
           "xaxis": "x",
           "y": [
            0.0008,
            0.0014000000000000002,
            0.0043,
            0.0092,
            0.0144,
            0.0233,
            0.0338,
            0.0414,
            0.04190000000000001
           ],
           "yaxis": "y"
          }
         ],
         "name": "2009-09"
        },
        {
         "data": [
          {
           "customdata": [
            [
             "2009-10"
            ],
            [
             "2009-10"
            ],
            [
             "2009-10"
            ],
            [
             "2009-10"
            ],
            [
             "2009-10"
            ],
            [
             "2009-10"
            ],
            [
             "2009-10"
            ],
            [
             "2009-10"
            ],
            [
             "2009-10"
            ]
           ],
           "hovertemplate": "date=%{customdata[0]}<br>years to maturity=%{x}<br>yield=%{y}<extra></extra>",
           "legendgroup": "",
           "line": {
            "color": "#636efa",
            "dash": "solid"
           },
           "marker": {
            "size": 10,
            "symbol": "circle"
           },
           "mode": "markers+lines",
           "name": "",
           "orientation": "v",
           "showlegend": false,
           "type": "scatter",
           "x": [
            0.08333333333333333,
            0.25,
            1,
            2,
            3,
            5,
            10,
            20,
            30
           ],
           "xaxis": "x",
           "y": [
            0.0003,
            0.001,
            0.0037,
            0.0087,
            0.013600000000000001,
            0.022000000000000002,
            0.0321,
            0.0395,
            0.0397
           ],
           "yaxis": "y"
          }
         ],
         "name": "2009-10"
        },
        {
         "data": [
          {
           "customdata": [
            [
             "2009-11"
            ],
            [
             "2009-11"
            ],
            [
             "2009-11"
            ],
            [
             "2009-11"
            ],
            [
             "2009-11"
            ],
            [
             "2009-11"
            ],
            [
             "2009-11"
            ],
            [
             "2009-11"
            ],
            [
             "2009-11"
            ]
           ],
           "hovertemplate": "date=%{customdata[0]}<br>years to maturity=%{x}<br>yield=%{y}<extra></extra>",
           "legendgroup": "",
           "line": {
            "color": "#636efa",
            "dash": "solid"
           },
           "marker": {
            "size": 10,
            "symbol": "circle"
           },
           "mode": "markers+lines",
           "name": "",
           "orientation": "v",
           "showlegend": false,
           "type": "scatter",
           "x": [
            0.08333333333333333,
            0.25,
            1,
            2,
            3,
            5,
            10,
            20,
            30
           ],
           "xaxis": "x",
           "y": [
            0.0003,
            0.0006,
            0.0038,
            0.0092,
            0.0144,
            0.0233,
            0.0345,
            0.042199999999999994,
            0.0426
           ],
           "yaxis": "y"
          }
         ],
         "name": "2009-11"
        },
        {
         "data": [
          {
           "customdata": [
            [
             "2009-12"
            ],
            [
             "2009-12"
            ],
            [
             "2009-12"
            ],
            [
             "2009-12"
            ],
            [
             "2009-12"
            ],
            [
             "2009-12"
            ],
            [
             "2009-12"
            ],
            [
             "2009-12"
            ],
            [
             "2009-12"
            ]
           ],
           "hovertemplate": "date=%{customdata[0]}<br>years to maturity=%{x}<br>yield=%{y}<extra></extra>",
           "legendgroup": "",
           "line": {
            "color": "#636efa",
            "dash": "solid"
           },
           "marker": {
            "size": 10,
            "symbol": "circle"
           },
           "mode": "markers+lines",
           "name": "",
           "orientation": "v",
           "showlegend": false,
           "type": "scatter",
           "x": [
            0.08333333333333333,
            0.25,
            1,
            2,
            3,
            5,
            10,
            20,
            30
           ],
           "xaxis": "x",
           "y": [
            0.0009,
            0.0006,
            0.0026,
            0.0067,
            0.011399999999999999,
            0.0203,
            0.032799999999999996,
            0.0414,
            0.0426
           ],
           "yaxis": "y"
          }
         ],
         "name": "2009-12"
        },
        {
         "data": [
          {
           "customdata": [
            [
             "2010-01"
            ],
            [
             "2010-01"
            ],
            [
             "2010-01"
            ],
            [
             "2010-01"
            ],
            [
             "2010-01"
            ],
            [
             "2010-01"
            ],
            [
             "2010-01"
            ],
            [
             "2010-01"
            ],
            [
             "2010-01"
            ]
           ],
           "hovertemplate": "date=%{customdata[0]}<br>years to maturity=%{x}<br>yield=%{y}<extra></extra>",
           "legendgroup": "",
           "line": {
            "color": "#636efa",
            "dash": "solid"
           },
           "marker": {
            "size": 10,
            "symbol": "circle"
           },
           "mode": "markers+lines",
           "name": "",
           "orientation": "v",
           "showlegend": false,
           "type": "scatter",
           "x": [
            0.08333333333333333,
            0.25,
            1,
            2,
            3,
            5,
            10,
            20,
            30
           ],
           "xaxis": "x",
           "y": [
            0.0005,
            0.0008,
            0.0045000000000000005,
            0.0109,
            0.0166,
            0.0265,
            0.0385,
            0.046,
            0.04650000000000001
           ],
           "yaxis": "y"
          }
         ],
         "name": "2010-01"
        },
        {
         "data": [
          {
           "customdata": [
            [
             "2010-02"
            ],
            [
             "2010-02"
            ],
            [
             "2010-02"
            ],
            [
             "2010-02"
            ],
            [
             "2010-02"
            ],
            [
             "2010-02"
            ],
            [
             "2010-02"
            ],
            [
             "2010-02"
            ],
            [
             "2010-02"
            ]
           ],
           "hovertemplate": "date=%{customdata[0]}<br>years to maturity=%{x}<br>yield=%{y}<extra></extra>",
           "legendgroup": "",
           "line": {
            "color": "#636efa",
            "dash": "solid"
           },
           "marker": {
            "size": 10,
            "symbol": "circle"
           },
           "mode": "markers+lines",
           "name": "",
           "orientation": "v",
           "showlegend": false,
           "type": "scatter",
           "x": [
            0.08333333333333333,
            0.25,
            1,
            2,
            3,
            5,
            10,
            20,
            30
           ],
           "xaxis": "x",
           "y": [
            0.0005,
            0.001,
            0.0033,
            0.0086,
            0.0141,
            0.023799999999999998,
            0.0368,
            0.0443,
            0.045599999999999995
           ],
           "yaxis": "y"
          }
         ],
         "name": "2010-02"
        },
        {
         "data": [
          {
           "customdata": [
            [
             "2010-03"
            ],
            [
             "2010-03"
            ],
            [
             "2010-03"
            ],
            [
             "2010-03"
            ],
            [
             "2010-03"
            ],
            [
             "2010-03"
            ],
            [
             "2010-03"
            ],
            [
             "2010-03"
            ],
            [
             "2010-03"
            ]
           ],
           "hovertemplate": "date=%{customdata[0]}<br>years to maturity=%{x}<br>yield=%{y}<extra></extra>",
           "legendgroup": "",
           "line": {
            "color": "#636efa",
            "dash": "solid"
           },
           "marker": {
            "size": 10,
            "symbol": "circle"
           },
           "mode": "markers+lines",
           "name": "",
           "orientation": "v",
           "showlegend": false,
           "type": "scatter",
           "x": [
            0.08333333333333333,
            0.25,
            1,
            2,
            3,
            5,
            10,
            20,
            30
           ],
           "xaxis": "x",
           "y": [
            0.0009,
            0.0013,
            0.0032,
            0.008,
            0.0134,
            0.022799999999999997,
            0.0361,
            0.0441,
            0.045599999999999995
           ],
           "yaxis": "y"
          }
         ],
         "name": "2010-03"
        },
        {
         "data": [
          {
           "customdata": [
            [
             "2010-04"
            ],
            [
             "2010-04"
            ],
            [
             "2010-04"
            ],
            [
             "2010-04"
            ],
            [
             "2010-04"
            ],
            [
             "2010-04"
            ],
            [
             "2010-04"
            ],
            [
             "2010-04"
            ],
            [
             "2010-04"
            ]
           ],
           "hovertemplate": "date=%{customdata[0]}<br>years to maturity=%{x}<br>yield=%{y}<extra></extra>",
           "legendgroup": "",
           "line": {
            "color": "#636efa",
            "dash": "solid"
           },
           "marker": {
            "size": 10,
            "symbol": "circle"
           },
           "mode": "markers+lines",
           "name": "",
           "orientation": "v",
           "showlegend": false,
           "type": "scatter",
           "x": [
            0.08333333333333333,
            0.25,
            1,
            2,
            3,
            5,
            10,
            20,
            30
           ],
           "xaxis": "x",
           "y": [
            0.0016,
            0.0016,
            0.0042,
            0.0105,
            0.0163,
            0.0259,
            0.038900000000000004,
            0.0458,
            0.047400000000000005
           ],
           "yaxis": "y"
          }
         ],
         "name": "2010-04"
        },
        {
         "data": [
          {
           "customdata": [
            [
             "2010-05"
            ],
            [
             "2010-05"
            ],
            [
             "2010-05"
            ],
            [
             "2010-05"
            ],
            [
             "2010-05"
            ],
            [
             "2010-05"
            ],
            [
             "2010-05"
            ],
            [
             "2010-05"
            ],
            [
             "2010-05"
            ]
           ],
           "hovertemplate": "date=%{customdata[0]}<br>years to maturity=%{x}<br>yield=%{y}<extra></extra>",
           "legendgroup": "",
           "line": {
            "color": "#636efa",
            "dash": "solid"
           },
           "marker": {
            "size": 10,
            "symbol": "circle"
           },
           "mode": "markers+lines",
           "name": "",
           "orientation": "v",
           "showlegend": false,
           "type": "scatter",
           "x": [
            0.08333333333333333,
            0.25,
            1,
            2,
            3,
            5,
            10,
            20,
            30
           ],
           "xaxis": "x",
           "y": [
            0.0014000000000000002,
            0.0017000000000000001,
            0.0043,
            0.01,
            0.015600000000000001,
            0.024700000000000003,
            0.037200000000000004,
            0.0437,
            0.0453
           ],
           "yaxis": "y"
          }
         ],
         "name": "2010-05"
        },
        {
         "data": [
          {
           "customdata": [
            [
             "2010-06"
            ],
            [
             "2010-06"
            ],
            [
             "2010-06"
            ],
            [
             "2010-06"
            ],
            [
             "2010-06"
            ],
            [
             "2010-06"
            ],
            [
             "2010-06"
            ],
            [
             "2010-06"
            ],
            [
             "2010-06"
            ]
           ],
           "hovertemplate": "date=%{customdata[0]}<br>years to maturity=%{x}<br>yield=%{y}<extra></extra>",
           "legendgroup": "",
           "line": {
            "color": "#636efa",
            "dash": "solid"
           },
           "marker": {
            "size": 10,
            "symbol": "circle"
           },
           "mode": "markers+lines",
           "name": "",
           "orientation": "v",
           "showlegend": false,
           "type": "scatter",
           "x": [
            0.08333333333333333,
            0.25,
            1,
            2,
            3,
            5,
            10,
            20,
            30
           ],
           "xaxis": "x",
           "y": [
            0.0014000000000000002,
            0.0016,
            0.0034999999999999996,
            0.0078000000000000005,
            0.0126,
            0.0209,
            0.0329,
            0.0403,
            0.04190000000000001
           ],
           "yaxis": "y"
          }
         ],
         "name": "2010-06"
        },
        {
         "data": [
          {
           "customdata": [
            [
             "2010-07"
            ],
            [
             "2010-07"
            ],
            [
             "2010-07"
            ],
            [
             "2010-07"
            ],
            [
             "2010-07"
            ],
            [
             "2010-07"
            ],
            [
             "2010-07"
            ],
            [
             "2010-07"
            ],
            [
             "2010-07"
            ]
           ],
           "hovertemplate": "date=%{customdata[0]}<br>years to maturity=%{x}<br>yield=%{y}<extra></extra>",
           "legendgroup": "",
           "line": {
            "color": "#636efa",
            "dash": "solid"
           },
           "marker": {
            "size": 10,
            "symbol": "circle"
           },
           "mode": "markers+lines",
           "name": "",
           "orientation": "v",
           "showlegend": false,
           "type": "scatter",
           "x": [
            0.08333333333333333,
            0.25,
            1,
            2,
            3,
            5,
            10,
            20,
            30
           ],
           "xaxis": "x",
           "y": [
            0.0016,
            0.0017000000000000001,
            0.0032,
            0.0063,
            0.0101,
            0.018000000000000002,
            0.0296,
            0.0371,
            0.0388
           ],
           "yaxis": "y"
          }
         ],
         "name": "2010-07"
        },
        {
         "data": [
          {
           "customdata": [
            [
             "2010-08"
            ],
            [
             "2010-08"
            ],
            [
             "2010-08"
            ],
            [
             "2010-08"
            ],
            [
             "2010-08"
            ],
            [
             "2010-08"
            ],
            [
             "2010-08"
            ],
            [
             "2010-08"
            ],
            [
             "2010-08"
            ]
           ],
           "hovertemplate": "date=%{customdata[0]}<br>years to maturity=%{x}<br>yield=%{y}<extra></extra>",
           "legendgroup": "",
           "line": {
            "color": "#636efa",
            "dash": "solid"
           },
           "marker": {
            "size": 10,
            "symbol": "circle"
           },
           "mode": "markers+lines",
           "name": "",
           "orientation": "v",
           "showlegend": false,
           "type": "scatter",
           "x": [
            0.08333333333333333,
            0.25,
            1,
            2,
            3,
            5,
            10,
            20,
            30
           ],
           "xaxis": "x",
           "y": [
            0.0014000000000000002,
            0.0016,
            0.0028000000000000004,
            0.005600000000000001,
            0.0085,
            0.016399999999999998,
            0.029900000000000003,
            0.0382,
            0.0406
           ],
           "yaxis": "y"
          }
         ],
         "name": "2010-08"
        },
        {
         "data": [
          {
           "customdata": [
            [
             "2010-09"
            ],
            [
             "2010-09"
            ],
            [
             "2010-09"
            ],
            [
             "2010-09"
            ],
            [
             "2010-09"
            ],
            [
             "2010-09"
            ],
            [
             "2010-09"
            ],
            [
             "2010-09"
            ],
            [
             "2010-09"
            ]
           ],
           "hovertemplate": "date=%{customdata[0]}<br>years to maturity=%{x}<br>yield=%{y}<extra></extra>",
           "legendgroup": "",
           "line": {
            "color": "#636efa",
            "dash": "solid"
           },
           "marker": {
            "size": 10,
            "symbol": "circle"
           },
           "mode": "markers+lines",
           "name": "",
           "orientation": "v",
           "showlegend": false,
           "type": "scatter",
           "x": [
            0.08333333333333333,
            0.25,
            1,
            2,
            3,
            5,
            10,
            20,
            30
           ],
           "xaxis": "x",
           "y": [
            0.0016,
            0.0013,
            0.0025,
            0.005,
            0.0075,
            0.0141,
            0.0258,
            0.0335,
            0.0365
           ],
           "yaxis": "y"
          }
         ],
         "name": "2010-09"
        },
        {
         "data": [
          {
           "customdata": [
            [
             "2010-10"
            ],
            [
             "2010-10"
            ],
            [
             "2010-10"
            ],
            [
             "2010-10"
            ],
            [
             "2010-10"
            ],
            [
             "2010-10"
            ],
            [
             "2010-10"
            ],
            [
             "2010-10"
            ],
            [
             "2010-10"
            ]
           ],
           "hovertemplate": "date=%{customdata[0]}<br>years to maturity=%{x}<br>yield=%{y}<extra></extra>",
           "legendgroup": "",
           "line": {
            "color": "#636efa",
            "dash": "solid"
           },
           "marker": {
            "size": 10,
            "symbol": "circle"
           },
           "mode": "markers+lines",
           "name": "",
           "orientation": "v",
           "showlegend": false,
           "type": "scatter",
           "x": [
            0.08333333333333333,
            0.25,
            1,
            2,
            3,
            5,
            10,
            20,
            30
           ],
           "xaxis": "x",
           "y": [
            0.0015,
            0.0016,
            0.0026,
            0.0042,
            0.0063,
            0.0126,
            0.0254,
            0.034,
            0.0371
           ],
           "yaxis": "y"
          }
         ],
         "name": "2010-10"
        },
        {
         "data": [
          {
           "customdata": [
            [
             "2010-11"
            ],
            [
             "2010-11"
            ],
            [
             "2010-11"
            ],
            [
             "2010-11"
            ],
            [
             "2010-11"
            ],
            [
             "2010-11"
            ],
            [
             "2010-11"
            ],
            [
             "2010-11"
            ],
            [
             "2010-11"
            ]
           ],
           "hovertemplate": "date=%{customdata[0]}<br>years to maturity=%{x}<br>yield=%{y}<extra></extra>",
           "legendgroup": "",
           "line": {
            "color": "#636efa",
            "dash": "solid"
           },
           "marker": {
            "size": 10,
            "symbol": "circle"
           },
           "mode": "markers+lines",
           "name": "",
           "orientation": "v",
           "showlegend": false,
           "type": "scatter",
           "x": [
            0.08333333333333333,
            0.25,
            1,
            2,
            3,
            5,
            10,
            20,
            30
           ],
           "xaxis": "x",
           "y": [
            0.0014000000000000002,
            0.0013,
            0.0022,
            0.0034000000000000002,
            0.005,
            0.011699999999999999,
            0.026600000000000002,
            0.0366,
            0.0401
           ],
           "yaxis": "y"
          }
         ],
         "name": "2010-11"
        },
        {
         "data": [
          {
           "customdata": [
            [
             "2010-12"
            ],
            [
             "2010-12"
            ],
            [
             "2010-12"
            ],
            [
             "2010-12"
            ],
            [
             "2010-12"
            ],
            [
             "2010-12"
            ],
            [
             "2010-12"
            ],
            [
             "2010-12"
            ],
            [
             "2010-12"
            ]
           ],
           "hovertemplate": "date=%{customdata[0]}<br>years to maturity=%{x}<br>yield=%{y}<extra></extra>",
           "legendgroup": "",
           "line": {
            "color": "#636efa",
            "dash": "solid"
           },
           "marker": {
            "size": 10,
            "symbol": "circle"
           },
           "mode": "markers+lines",
           "name": "",
           "orientation": "v",
           "showlegend": false,
           "type": "scatter",
           "x": [
            0.08333333333333333,
            0.25,
            1,
            2,
            3,
            5,
            10,
            20,
            30
           ],
           "xaxis": "x",
           "y": [
            0.0017000000000000001,
            0.0016,
            0.0028000000000000004,
            0.0053,
            0.0084,
            0.016399999999999998,
            0.0297,
            0.0395,
            0.0424
           ],
           "yaxis": "y"
          }
         ],
         "name": "2010-12"
        },
        {
         "data": [
          {
           "customdata": [
            [
             "2011-01"
            ],
            [
             "2011-01"
            ],
            [
             "2011-01"
            ],
            [
             "2011-01"
            ],
            [
             "2011-01"
            ],
            [
             "2011-01"
            ],
            [
             "2011-01"
            ],
            [
             "2011-01"
            ],
            [
             "2011-01"
            ]
           ],
           "hovertemplate": "date=%{customdata[0]}<br>years to maturity=%{x}<br>yield=%{y}<extra></extra>",
           "legendgroup": "",
           "line": {
            "color": "#636efa",
            "dash": "solid"
           },
           "marker": {
            "size": 10,
            "symbol": "circle"
           },
           "mode": "markers+lines",
           "name": "",
           "orientation": "v",
           "showlegend": false,
           "type": "scatter",
           "x": [
            0.08333333333333333,
            0.25,
            1,
            2,
            3,
            5,
            10,
            20,
            30
           ],
           "xaxis": "x",
           "y": [
            0.0011,
            0.0015,
            0.0029,
            0.0060999999999999995,
            0.0103,
            0.0202,
            0.0336,
            0.0418,
            0.043899999999999995
           ],
           "yaxis": "y"
          }
         ],
         "name": "2011-01"
        },
        {
         "data": [
          {
           "customdata": [
            [
             "2011-02"
            ],
            [
             "2011-02"
            ],
            [
             "2011-02"
            ],
            [
             "2011-02"
            ],
            [
             "2011-02"
            ],
            [
             "2011-02"
            ],
            [
             "2011-02"
            ],
            [
             "2011-02"
            ],
            [
             "2011-02"
            ]
           ],
           "hovertemplate": "date=%{customdata[0]}<br>years to maturity=%{x}<br>yield=%{y}<extra></extra>",
           "legendgroup": "",
           "line": {
            "color": "#636efa",
            "dash": "solid"
           },
           "marker": {
            "size": 10,
            "symbol": "circle"
           },
           "mode": "markers+lines",
           "name": "",
           "orientation": "v",
           "showlegend": false,
           "type": "scatter",
           "x": [
            0.08333333333333333,
            0.25,
            1,
            2,
            3,
            5,
            10,
            20,
            30
           ],
           "xaxis": "x",
           "y": [
            0.0016,
            0.0015,
            0.0027,
            0.0060999999999999995,
            0.0104,
            0.0202,
            0.0348,
            0.0437,
            0.0462
           ],
           "yaxis": "y"
          }
         ],
         "name": "2011-02"
        },
        {
         "data": [
          {
           "customdata": [
            [
             "2011-03"
            ],
            [
             "2011-03"
            ],
            [
             "2011-03"
            ],
            [
             "2011-03"
            ],
            [
             "2011-03"
            ],
            [
             "2011-03"
            ],
            [
             "2011-03"
            ],
            [
             "2011-03"
            ],
            [
             "2011-03"
            ]
           ],
           "hovertemplate": "date=%{customdata[0]}<br>years to maturity=%{x}<br>yield=%{y}<extra></extra>",
           "legendgroup": "",
           "line": {
            "color": "#636efa",
            "dash": "solid"
           },
           "marker": {
            "size": 10,
            "symbol": "circle"
           },
           "mode": "markers+lines",
           "name": "",
           "orientation": "v",
           "showlegend": false,
           "type": "scatter",
           "x": [
            0.08333333333333333,
            0.25,
            1,
            2,
            3,
            5,
            10,
            20,
            30
           ],
           "xaxis": "x",
           "y": [
            0.0007000000000000001,
            0.0014000000000000002,
            0.0025,
            0.0066,
            0.0115,
            0.021099999999999997,
            0.0341,
            0.0424,
            0.044800000000000006
           ],
           "yaxis": "y"
          }
         ],
         "name": "2011-03"
        },
        {
         "data": [
          {
           "customdata": [
            [
             "2011-04"
            ],
            [
             "2011-04"
            ],
            [
             "2011-04"
            ],
            [
             "2011-04"
            ],
            [
             "2011-04"
            ],
            [
             "2011-04"
            ],
            [
             "2011-04"
            ],
            [
             "2011-04"
            ],
            [
             "2011-04"
            ]
           ],
           "hovertemplate": "date=%{customdata[0]}<br>years to maturity=%{x}<br>yield=%{y}<extra></extra>",
           "legendgroup": "",
           "line": {
            "color": "#636efa",
            "dash": "solid"
           },
           "marker": {
            "size": 10,
            "symbol": "circle"
           },
           "mode": "markers+lines",
           "name": "",
           "orientation": "v",
           "showlegend": false,
           "type": "scatter",
           "x": [
            0.08333333333333333,
            0.25,
            1,
            2,
            3,
            5,
            10,
            20,
            30
           ],
           "xaxis": "x",
           "y": [
            0.0003,
            0.0007000000000000001,
            0.0027,
            0.008,
            0.0131,
            0.022400000000000003,
            0.0346,
            0.042699999999999995,
            0.044800000000000006
           ],
           "yaxis": "y"
          }
         ],
         "name": "2011-04"
        },
        {
         "data": [
          {
           "customdata": [
            [
             "2011-05"
            ],
            [
             "2011-05"
            ],
            [
             "2011-05"
            ],
            [
             "2011-05"
            ],
            [
             "2011-05"
            ],
            [
             "2011-05"
            ],
            [
             "2011-05"
            ],
            [
             "2011-05"
            ],
            [
             "2011-05"
            ]
           ],
           "hovertemplate": "date=%{customdata[0]}<br>years to maturity=%{x}<br>yield=%{y}<extra></extra>",
           "legendgroup": "",
           "line": {
            "color": "#636efa",
            "dash": "solid"
           },
           "marker": {
            "size": 10,
            "symbol": "circle"
           },
           "mode": "markers+lines",
           "name": "",
           "orientation": "v",
           "showlegend": false,
           "type": "scatter",
           "x": [
            0.08333333333333333,
            0.25,
            1,
            2,
            3,
            5,
            10,
            20,
            30
           ],
           "xaxis": "x",
           "y": [
            0.0002,
            0.0005,
            0.0022,
            0.0060999999999999995,
            0.0101,
            0.0196,
            0.0331,
            0.0414,
            0.0438
           ],
           "yaxis": "y"
          }
         ],
         "name": "2011-05"
        },
        {
         "data": [
          {
           "customdata": [
            [
             "2011-06"
            ],
            [
             "2011-06"
            ],
            [
             "2011-06"
            ],
            [
             "2011-06"
            ],
            [
             "2011-06"
            ],
            [
             "2011-06"
            ],
            [
             "2011-06"
            ],
            [
             "2011-06"
            ],
            [
             "2011-06"
            ]
           ],
           "hovertemplate": "date=%{customdata[0]}<br>years to maturity=%{x}<br>yield=%{y}<extra></extra>",
           "legendgroup": "",
           "line": {
            "color": "#636efa",
            "dash": "solid"
           },
           "marker": {
            "size": 10,
            "symbol": "circle"
           },
           "mode": "markers+lines",
           "name": "",
           "orientation": "v",
           "showlegend": false,
           "type": "scatter",
           "x": [
            0.08333333333333333,
            0.25,
            1,
            2,
            3,
            5,
            10,
            20,
            30
           ],
           "xaxis": "x",
           "y": [
            0.0004,
            0.0005,
            0.0018,
            0.0044,
            0.0074,
            0.016,
            0.0296,
            0.0383,
            0.0415
           ],
           "yaxis": "y"
          }
         ],
         "name": "2011-06"
        },
        {
         "data": [
          {
           "customdata": [
            [
             "2011-07"
            ],
            [
             "2011-07"
            ],
            [
             "2011-07"
            ],
            [
             "2011-07"
            ],
            [
             "2011-07"
            ],
            [
             "2011-07"
            ],
            [
             "2011-07"
            ],
            [
             "2011-07"
            ],
            [
             "2011-07"
            ]
           ],
           "hovertemplate": "date=%{customdata[0]}<br>years to maturity=%{x}<br>yield=%{y}<extra></extra>",
           "legendgroup": "",
           "line": {
            "color": "#636efa",
            "dash": "solid"
           },
           "marker": {
            "size": 10,
            "symbol": "circle"
           },
           "mode": "markers+lines",
           "name": "",
           "orientation": "v",
           "showlegend": false,
           "type": "scatter",
           "x": [
            0.08333333333333333,
            0.25,
            1,
            2,
            3,
            5,
            10,
            20,
            30
           ],
           "xaxis": "x",
           "y": [
            0.0001,
            0.0002,
            0.002,
            0.005,
            0.0085,
            0.018000000000000002,
            0.0322,
            0.0412,
            0.044000000000000004
           ],
           "yaxis": "y"
          }
         ],
         "name": "2011-07"
        },
        {
         "data": [
          {
           "customdata": [
            [
             "2011-08"
            ],
            [
             "2011-08"
            ],
            [
             "2011-08"
            ],
            [
             "2011-08"
            ],
            [
             "2011-08"
            ],
            [
             "2011-08"
            ],
            [
             "2011-08"
            ],
            [
             "2011-08"
            ],
            [
             "2011-08"
            ]
           ],
           "hovertemplate": "date=%{customdata[0]}<br>years to maturity=%{x}<br>yield=%{y}<extra></extra>",
           "legendgroup": "",
           "line": {
            "color": "#636efa",
            "dash": "solid"
           },
           "marker": {
            "size": 10,
            "symbol": "circle"
           },
           "mode": "markers+lines",
           "name": "",
           "orientation": "v",
           "showlegend": false,
           "type": "scatter",
           "x": [
            0.08333333333333333,
            0.25,
            1,
            2,
            3,
            5,
            10,
            20,
            30
           ],
           "xaxis": "x",
           "y": [
            0.0013,
            0.001,
            0.0022,
            0.0038,
            0.0055000000000000005,
            0.0132,
            0.0277,
            0.037200000000000004,
            0.0407
           ],
           "yaxis": "y"
          }
         ],
         "name": "2011-08"
        },
        {
         "data": [
          {
           "customdata": [
            [
             "2011-09"
            ],
            [
             "2011-09"
            ],
            [
             "2011-09"
            ],
            [
             "2011-09"
            ],
            [
             "2011-09"
            ],
            [
             "2011-09"
            ],
            [
             "2011-09"
            ],
            [
             "2011-09"
            ],
            [
             "2011-09"
            ]
           ],
           "hovertemplate": "date=%{customdata[0]}<br>years to maturity=%{x}<br>yield=%{y}<extra></extra>",
           "legendgroup": "",
           "line": {
            "color": "#636efa",
            "dash": "solid"
           },
           "marker": {
            "size": 10,
            "symbol": "circle"
           },
           "mode": "markers+lines",
           "name": "",
           "orientation": "v",
           "showlegend": false,
           "type": "scatter",
           "x": [
            0.08333333333333333,
            0.25,
            1,
            2,
            3,
            5,
            10,
            20,
            30
           ],
           "xaxis": "x",
           "y": [
            0.0002,
            0.0002,
            0.001,
            0.0019,
            0.0031,
            0.009000000000000001,
            0.0215,
            0.031,
            0.0351
           ],
           "yaxis": "y"
          }
         ],
         "name": "2011-09"
        },
        {
         "data": [
          {
           "customdata": [
            [
             "2011-10"
            ],
            [
             "2011-10"
            ],
            [
             "2011-10"
            ],
            [
             "2011-10"
            ],
            [
             "2011-10"
            ],
            [
             "2011-10"
            ],
            [
             "2011-10"
            ],
            [
             "2011-10"
            ],
            [
             "2011-10"
            ]
           ],
           "hovertemplate": "date=%{customdata[0]}<br>years to maturity=%{x}<br>yield=%{y}<extra></extra>",
           "legendgroup": "",
           "line": {
            "color": "#636efa",
            "dash": "solid"
           },
           "marker": {
            "size": 10,
            "symbol": "circle"
           },
           "mode": "markers+lines",
           "name": "",
           "orientation": "v",
           "showlegend": false,
           "type": "scatter",
           "x": [
            0.08333333333333333,
            0.25,
            1,
            2,
            3,
            5,
            10,
            20,
            30
           ],
           "xaxis": "x",
           "y": [
            0.0001,
            0.0002,
            0.0012,
            0.0024,
            0.0039000000000000003,
            0.0087,
            0.018000000000000002,
            0.025099999999999997,
            0.0276
           ],
           "yaxis": "y"
          }
         ],
         "name": "2011-10"
        },
        {
         "data": [
          {
           "customdata": [
            [
             "2011-11"
            ],
            [
             "2011-11"
            ],
            [
             "2011-11"
            ],
            [
             "2011-11"
            ],
            [
             "2011-11"
            ],
            [
             "2011-11"
            ],
            [
             "2011-11"
            ],
            [
             "2011-11"
            ],
            [
             "2011-11"
            ]
           ],
           "hovertemplate": "date=%{customdata[0]}<br>years to maturity=%{x}<br>yield=%{y}<extra></extra>",
           "legendgroup": "",
           "line": {
            "color": "#636efa",
            "dash": "solid"
           },
           "marker": {
            "size": 10,
            "symbol": "circle"
           },
           "mode": "markers+lines",
           "name": "",
           "orientation": "v",
           "showlegend": false,
           "type": "scatter",
           "x": [
            0.08333333333333333,
            0.25,
            1,
            2,
            3,
            5,
            10,
            20,
            30
           ],
           "xaxis": "x",
           "y": [
            0.0001,
            0.0001,
            0.0013,
            0.0023,
            0.0038,
            0.009000000000000001,
            0.020099999999999996,
            0.0273,
            0.029900000000000003
           ],
           "yaxis": "y"
          }
         ],
         "name": "2011-11"
        },
        {
         "data": [
          {
           "customdata": [
            [
             "2011-12"
            ],
            [
             "2011-12"
            ],
            [
             "2011-12"
            ],
            [
             "2011-12"
            ],
            [
             "2011-12"
            ],
            [
             "2011-12"
            ],
            [
             "2011-12"
            ],
            [
             "2011-12"
            ],
            [
             "2011-12"
            ]
           ],
           "hovertemplate": "date=%{customdata[0]}<br>years to maturity=%{x}<br>yield=%{y}<extra></extra>",
           "legendgroup": "",
           "line": {
            "color": "#636efa",
            "dash": "solid"
           },
           "marker": {
            "size": 10,
            "symbol": "circle"
           },
           "mode": "markers+lines",
           "name": "",
           "orientation": "v",
           "showlegend": false,
           "type": "scatter",
           "x": [
            0.08333333333333333,
            0.25,
            1,
            2,
            3,
            5,
            10,
            20,
            30
           ],
           "xaxis": "x",
           "y": [
            0.0002,
            0.0001,
            0.0012,
            0.0027,
            0.0040999999999999995,
            0.0097,
            0.021099999999999997,
            0.0282,
            0.031200000000000002
           ],
           "yaxis": "y"
          }
         ],
         "name": "2011-12"
        },
        {
         "data": [
          {
           "customdata": [
            [
             "2012-01"
            ],
            [
             "2012-01"
            ],
            [
             "2012-01"
            ],
            [
             "2012-01"
            ],
            [
             "2012-01"
            ],
            [
             "2012-01"
            ],
            [
             "2012-01"
            ],
            [
             "2012-01"
            ],
            [
             "2012-01"
            ]
           ],
           "hovertemplate": "date=%{customdata[0]}<br>years to maturity=%{x}<br>yield=%{y}<extra></extra>",
           "legendgroup": "",
           "line": {
            "color": "#636efa",
            "dash": "solid"
           },
           "marker": {
            "size": 10,
            "symbol": "circle"
           },
           "mode": "markers+lines",
           "name": "",
           "orientation": "v",
           "showlegend": false,
           "type": "scatter",
           "x": [
            0.08333333333333333,
            0.25,
            1,
            2,
            3,
            5,
            10,
            20,
            30
           ],
           "xaxis": "x",
           "y": [
            0.0001,
            0.0002,
            0.0012,
            0.0027,
            0.004,
            0.0089,
            0.0197,
            0.026699999999999998,
            0.0298
           ],
           "yaxis": "y"
          }
         ],
         "name": "2012-01"
        },
        {
         "data": [
          {
           "customdata": [
            [
             "2012-02"
            ],
            [
             "2012-02"
            ],
            [
             "2012-02"
            ],
            [
             "2012-02"
            ],
            [
             "2012-02"
            ],
            [
             "2012-02"
            ],
            [
             "2012-02"
            ],
            [
             "2012-02"
            ],
            [
             "2012-02"
            ]
           ],
           "hovertemplate": "date=%{customdata[0]}<br>years to maturity=%{x}<br>yield=%{y}<extra></extra>",
           "legendgroup": "",
           "line": {
            "color": "#636efa",
            "dash": "solid"
           },
           "marker": {
            "size": 10,
            "symbol": "circle"
           },
           "mode": "markers+lines",
           "name": "",
           "orientation": "v",
           "showlegend": false,
           "type": "scatter",
           "x": [
            0.08333333333333333,
            0.25,
            1,
            2,
            3,
            5,
            10,
            20,
            30
           ],
           "xaxis": "x",
           "y": [
            0.0005,
            0.0006,
            0.0013,
            0.0023,
            0.0031,
            0.0072,
            0.0187,
            0.0265,
            0.0301
           ],
           "yaxis": "y"
          }
         ],
         "name": "2012-02"
        },
        {
         "data": [
          {
           "customdata": [
            [
             "2012-03"
            ],
            [
             "2012-03"
            ],
            [
             "2012-03"
            ],
            [
             "2012-03"
            ],
            [
             "2012-03"
            ],
            [
             "2012-03"
            ],
            [
             "2012-03"
            ],
            [
             "2012-03"
            ],
            [
             "2012-03"
            ]
           ],
           "hovertemplate": "date=%{customdata[0]}<br>years to maturity=%{x}<br>yield=%{y}<extra></extra>",
           "legendgroup": "",
           "line": {
            "color": "#636efa",
            "dash": "solid"
           },
           "marker": {
            "size": 10,
            "symbol": "circle"
           },
           "mode": "markers+lines",
           "name": "",
           "orientation": "v",
           "showlegend": false,
           "type": "scatter",
           "x": [
            0.08333333333333333,
            0.25,
            1,
            2,
            3,
            5,
            10,
            20,
            30
           ],
           "xaxis": "x",
           "y": [
            0.0007000000000000001,
            0.0008,
            0.0018,
            0.003,
            0.0043,
            0.0089,
            0.0203,
            0.027999999999999997,
            0.0315
           ],
           "yaxis": "y"
          }
         ],
         "name": "2012-03"
        },
        {
         "data": [
          {
           "customdata": [
            [
             "2012-04"
            ],
            [
             "2012-04"
            ],
            [
             "2012-04"
            ],
            [
             "2012-04"
            ],
            [
             "2012-04"
            ],
            [
             "2012-04"
            ],
            [
             "2012-04"
            ],
            [
             "2012-04"
            ],
            [
             "2012-04"
            ]
           ],
           "hovertemplate": "date=%{customdata[0]}<br>years to maturity=%{x}<br>yield=%{y}<extra></extra>",
           "legendgroup": "",
           "line": {
            "color": "#636efa",
            "dash": "solid"
           },
           "marker": {
            "size": 10,
            "symbol": "circle"
           },
           "mode": "markers+lines",
           "name": "",
           "orientation": "v",
           "showlegend": false,
           "type": "scatter",
           "x": [
            0.08333333333333333,
            0.25,
            1,
            2,
            3,
            5,
            10,
            20,
            30
           ],
           "xaxis": "x",
           "y": [
            0.0005,
            0.0008,
            0.0018,
            0.0033,
            0.005,
            0.0103,
            0.0222,
            0.03,
            0.0335
           ],
           "yaxis": "y"
          }
         ],
         "name": "2012-04"
        },
        {
         "data": [
          {
           "customdata": [
            [
             "2012-05"
            ],
            [
             "2012-05"
            ],
            [
             "2012-05"
            ],
            [
             "2012-05"
            ],
            [
             "2012-05"
            ],
            [
             "2012-05"
            ],
            [
             "2012-05"
            ],
            [
             "2012-05"
            ],
            [
             "2012-05"
            ]
           ],
           "hovertemplate": "date=%{customdata[0]}<br>years to maturity=%{x}<br>yield=%{y}<extra></extra>",
           "legendgroup": "",
           "line": {
            "color": "#636efa",
            "dash": "solid"
           },
           "marker": {
            "size": 10,
            "symbol": "circle"
           },
           "mode": "markers+lines",
           "name": "",
           "orientation": "v",
           "showlegend": false,
           "type": "scatter",
           "x": [
            0.08333333333333333,
            0.25,
            1,
            2,
            3,
            5,
            10,
            20,
            30
           ],
           "xaxis": "x",
           "y": [
            0.0007000000000000001,
            0.0009,
            0.0019,
            0.0027,
            0.0039000000000000003,
            0.0084,
            0.019799999999999998,
            0.0276,
            0.0316
           ],
           "yaxis": "y"
          }
         ],
         "name": "2012-05"
        },
        {
         "data": [
          {
           "customdata": [
            [
             "2012-06"
            ],
            [
             "2012-06"
            ],
            [
             "2012-06"
            ],
            [
             "2012-06"
            ],
            [
             "2012-06"
            ],
            [
             "2012-06"
            ],
            [
             "2012-06"
            ],
            [
             "2012-06"
            ],
            [
             "2012-06"
            ]
           ],
           "hovertemplate": "date=%{customdata[0]}<br>years to maturity=%{x}<br>yield=%{y}<extra></extra>",
           "legendgroup": "",
           "line": {
            "color": "#636efa",
            "dash": "solid"
           },
           "marker": {
            "size": 10,
            "symbol": "circle"
           },
           "mode": "markers+lines",
           "name": "",
           "orientation": "v",
           "showlegend": false,
           "type": "scatter",
           "x": [
            0.08333333333333333,
            0.25,
            1,
            2,
            3,
            5,
            10,
            20,
            30
           ],
           "xaxis": "x",
           "y": [
            0.0003,
            0.0007000000000000001,
            0.0017000000000000001,
            0.0025,
            0.0034000000000000002,
            0.0062,
            0.0147,
            0.0213,
            0.0253
           ],
           "yaxis": "y"
          }
         ],
         "name": "2012-06"
        },
        {
         "data": [
          {
           "customdata": [
            [
             "2012-07"
            ],
            [
             "2012-07"
            ],
            [
             "2012-07"
            ],
            [
             "2012-07"
            ],
            [
             "2012-07"
            ],
            [
             "2012-07"
            ],
            [
             "2012-07"
            ],
            [
             "2012-07"
            ],
            [
             "2012-07"
            ]
           ],
           "hovertemplate": "date=%{customdata[0]}<br>years to maturity=%{x}<br>yield=%{y}<extra></extra>",
           "legendgroup": "",
           "line": {
            "color": "#636efa",
            "dash": "solid"
           },
           "marker": {
            "size": 10,
            "symbol": "circle"
           },
           "mode": "markers+lines",
           "name": "",
           "orientation": "v",
           "showlegend": false,
           "type": "scatter",
           "x": [
            0.08333333333333333,
            0.25,
            1,
            2,
            3,
            5,
            10,
            20,
            30
           ],
           "xaxis": "x",
           "y": [
            0.0006,
            0.001,
            0.0021,
            0.003,
            0.0039000000000000003,
            0.0067,
            0.0161,
            0.023,
            0.0269
           ],
           "yaxis": "y"
          }
         ],
         "name": "2012-07"
        },
        {
         "data": [
          {
           "customdata": [
            [
             "2012-08"
            ],
            [
             "2012-08"
            ],
            [
             "2012-08"
            ],
            [
             "2012-08"
            ],
            [
             "2012-08"
            ],
            [
             "2012-08"
            ],
            [
             "2012-08"
            ],
            [
             "2012-08"
            ],
            [
             "2012-08"
            ]
           ],
           "hovertemplate": "date=%{customdata[0]}<br>years to maturity=%{x}<br>yield=%{y}<extra></extra>",
           "legendgroup": "",
           "line": {
            "color": "#636efa",
            "dash": "solid"
           },
           "marker": {
            "size": 10,
            "symbol": "circle"
           },
           "mode": "markers+lines",
           "name": "",
           "orientation": "v",
           "showlegend": false,
           "type": "scatter",
           "x": [
            0.08333333333333333,
            0.25,
            1,
            2,
            3,
            5,
            10,
            20,
            30
           ],
           "xaxis": "x",
           "y": [
            0.0007000000000000001,
            0.001,
            0.0017000000000000001,
            0.0024,
            0.0032,
            0.0063,
            0.015600000000000001,
            0.0225,
            0.026000000000000002
           ],
           "yaxis": "y"
          }
         ],
         "name": "2012-08"
        },
        {
         "data": [
          {
           "customdata": [
            [
             "2012-09"
            ],
            [
             "2012-09"
            ],
            [
             "2012-09"
            ],
            [
             "2012-09"
            ],
            [
             "2012-09"
            ],
            [
             "2012-09"
            ],
            [
             "2012-09"
            ],
            [
             "2012-09"
            ],
            [
             "2012-09"
            ]
           ],
           "hovertemplate": "date=%{customdata[0]}<br>years to maturity=%{x}<br>yield=%{y}<extra></extra>",
           "legendgroup": "",
           "line": {
            "color": "#636efa",
            "dash": "solid"
           },
           "marker": {
            "size": 10,
            "symbol": "circle"
           },
           "mode": "markers+lines",
           "name": "",
           "orientation": "v",
           "showlegend": false,
           "type": "scatter",
           "x": [
            0.08333333333333333,
            0.25,
            1,
            2,
            3,
            5,
            10,
            20,
            30
           ],
           "xaxis": "x",
           "y": [
            0.001,
            0.001,
            0.0016,
            0.0023,
            0.0031,
            0.0062,
            0.0159,
            0.023,
            0.0269
           ],
           "yaxis": "y"
          }
         ],
         "name": "2012-09"
        },
        {
         "data": [
          {
           "customdata": [
            [
             "2012-10"
            ],
            [
             "2012-10"
            ],
            [
             "2012-10"
            ],
            [
             "2012-10"
            ],
            [
             "2012-10"
            ],
            [
             "2012-10"
            ],
            [
             "2012-10"
            ],
            [
             "2012-10"
            ],
            [
             "2012-10"
            ]
           ],
           "hovertemplate": "date=%{customdata[0]}<br>years to maturity=%{x}<br>yield=%{y}<extra></extra>",
           "legendgroup": "",
           "line": {
            "color": "#636efa",
            "dash": "solid"
           },
           "marker": {
            "size": 10,
            "symbol": "circle"
           },
           "mode": "markers+lines",
           "name": "",
           "orientation": "v",
           "showlegend": false,
           "type": "scatter",
           "x": [
            0.08333333333333333,
            0.25,
            1,
            2,
            3,
            5,
            10,
            20,
            30
           ],
           "xaxis": "x",
           "y": [
            0.0005,
            0.0009,
            0.0017000000000000001,
            0.0025,
            0.0031,
            0.0062,
            0.016399999999999998,
            0.0241,
            0.0281
           ],
           "yaxis": "y"
          }
         ],
         "name": "2012-10"
        },
        {
         "data": [
          {
           "customdata": [
            [
             "2012-11"
            ],
            [
             "2012-11"
            ],
            [
             "2012-11"
            ],
            [
             "2012-11"
            ],
            [
             "2012-11"
            ],
            [
             "2012-11"
            ],
            [
             "2012-11"
            ],
            [
             "2012-11"
            ],
            [
             "2012-11"
            ]
           ],
           "hovertemplate": "date=%{customdata[0]}<br>years to maturity=%{x}<br>yield=%{y}<extra></extra>",
           "legendgroup": "",
           "line": {
            "color": "#636efa",
            "dash": "solid"
           },
           "marker": {
            "size": 10,
            "symbol": "circle"
           },
           "mode": "markers+lines",
           "name": "",
           "orientation": "v",
           "showlegend": false,
           "type": "scatter",
           "x": [
            0.08333333333333333,
            0.25,
            1,
            2,
            3,
            5,
            10,
            20,
            30
           ],
           "xaxis": "x",
           "y": [
            0.0006,
            0.0009,
            0.0018,
            0.003,
            0.0038,
            0.0073,
            0.0175,
            0.025,
            0.028900000000000002
           ],
           "yaxis": "y"
          }
         ],
         "name": "2012-11"
        },
        {
         "data": [
          {
           "customdata": [
            [
             "2012-12"
            ],
            [
             "2012-12"
            ],
            [
             "2012-12"
            ],
            [
             "2012-12"
            ],
            [
             "2012-12"
            ],
            [
             "2012-12"
            ],
            [
             "2012-12"
            ],
            [
             "2012-12"
            ],
            [
             "2012-12"
            ]
           ],
           "hovertemplate": "date=%{customdata[0]}<br>years to maturity=%{x}<br>yield=%{y}<extra></extra>",
           "legendgroup": "",
           "line": {
            "color": "#636efa",
            "dash": "solid"
           },
           "marker": {
            "size": 10,
            "symbol": "circle"
           },
           "mode": "markers+lines",
           "name": "",
           "orientation": "v",
           "showlegend": false,
           "type": "scatter",
           "x": [
            0.08333333333333333,
            0.25,
            1,
            2,
            3,
            5,
            10,
            20,
            30
           ],
           "xaxis": "x",
           "y": [
            0.0013,
            0.001,
            0.0018,
            0.0025,
            0.0034000000000000002,
            0.0063,
            0.0163,
            0.023700000000000002,
            0.027999999999999997
           ],
           "yaxis": "y"
          }
         ],
         "name": "2012-12"
        },
        {
         "data": [
          {
           "customdata": [
            [
             "2013-01"
            ],
            [
             "2013-01"
            ],
            [
             "2013-01"
            ],
            [
             "2013-01"
            ],
            [
             "2013-01"
            ],
            [
             "2013-01"
            ],
            [
             "2013-01"
            ],
            [
             "2013-01"
            ],
            [
             "2013-01"
            ]
           ],
           "hovertemplate": "date=%{customdata[0]}<br>years to maturity=%{x}<br>yield=%{y}<extra></extra>",
           "legendgroup": "",
           "line": {
            "color": "#636efa",
            "dash": "solid"
           },
           "marker": {
            "size": 10,
            "symbol": "circle"
           },
           "mode": "markers+lines",
           "name": "",
           "orientation": "v",
           "showlegend": false,
           "type": "scatter",
           "x": [
            0.08333333333333333,
            0.25,
            1,
            2,
            3,
            5,
            10,
            20,
            30
           ],
           "xaxis": "x",
           "y": [
            0.0007000000000000001,
            0.0008,
            0.0015,
            0.0027,
            0.0037,
            0.0076,
            0.018600000000000002,
            0.0263,
            0.0304
           ],
           "yaxis": "y"
          }
         ],
         "name": "2013-01"
        },
        {
         "data": [
          {
           "customdata": [
            [
             "2013-02"
            ],
            [
             "2013-02"
            ],
            [
             "2013-02"
            ],
            [
             "2013-02"
            ],
            [
             "2013-02"
            ],
            [
             "2013-02"
            ],
            [
             "2013-02"
            ],
            [
             "2013-02"
            ],
            [
             "2013-02"
            ]
           ],
           "hovertemplate": "date=%{customdata[0]}<br>years to maturity=%{x}<br>yield=%{y}<extra></extra>",
           "legendgroup": "",
           "line": {
            "color": "#636efa",
            "dash": "solid"
           },
           "marker": {
            "size": 10,
            "symbol": "circle"
           },
           "mode": "markers+lines",
           "name": "",
           "orientation": "v",
           "showlegend": false,
           "type": "scatter",
           "x": [
            0.08333333333333333,
            0.25,
            1,
            2,
            3,
            5,
            10,
            20,
            30
           ],
           "xaxis": "x",
           "y": [
            0.0002,
            0.0006,
            0.0015,
            0.0027,
            0.004,
            0.0088,
            0.0204,
            0.028300000000000002,
            0.0321
           ],
           "yaxis": "y"
          }
         ],
         "name": "2013-02"
        },
        {
         "data": [
          {
           "customdata": [
            [
             "2013-03"
            ],
            [
             "2013-03"
            ],
            [
             "2013-03"
            ],
            [
             "2013-03"
            ],
            [
             "2013-03"
            ],
            [
             "2013-03"
            ],
            [
             "2013-03"
            ],
            [
             "2013-03"
            ],
            [
             "2013-03"
            ]
           ],
           "hovertemplate": "date=%{customdata[0]}<br>years to maturity=%{x}<br>yield=%{y}<extra></extra>",
           "legendgroup": "",
           "line": {
            "color": "#636efa",
            "dash": "solid"
           },
           "marker": {
            "size": 10,
            "symbol": "circle"
           },
           "mode": "markers+lines",
           "name": "",
           "orientation": "v",
           "showlegend": false,
           "type": "scatter",
           "x": [
            0.08333333333333333,
            0.25,
            1,
            2,
            3,
            5,
            10,
            20,
            30
           ],
           "xaxis": "x",
           "y": [
            0.0007000000000000001,
            0.0011,
            0.0016,
            0.0025,
            0.0034999999999999996,
            0.0075,
            0.018600000000000002,
            0.0268,
            0.030600000000000002
           ],
           "yaxis": "y"
          }
         ],
         "name": "2013-03"
        },
        {
         "data": [
          {
           "customdata": [
            [
             "2013-04"
            ],
            [
             "2013-04"
            ],
            [
             "2013-04"
            ],
            [
             "2013-04"
            ],
            [
             "2013-04"
            ],
            [
             "2013-04"
            ],
            [
             "2013-04"
            ],
            [
             "2013-04"
            ],
            [
             "2013-04"
            ]
           ],
           "hovertemplate": "date=%{customdata[0]}<br>years to maturity=%{x}<br>yield=%{y}<extra></extra>",
           "legendgroup": "",
           "line": {
            "color": "#636efa",
            "dash": "solid"
           },
           "marker": {
            "size": 10,
            "symbol": "circle"
           },
           "mode": "markers+lines",
           "name": "",
           "orientation": "v",
           "showlegend": false,
           "type": "scatter",
           "x": [
            0.08333333333333333,
            0.25,
            1,
            2,
            3,
            5,
            10,
            20,
            30
           ],
           "xaxis": "x",
           "y": [
            0.0006,
            0.0008,
            0.0014000000000000002,
            0.0023,
            0.0036,
            0.0076,
            0.018600000000000002,
            0.027000000000000003,
            0.0308
           ],
           "yaxis": "y"
          }
         ],
         "name": "2013-04"
        },
        {
         "data": [
          {
           "customdata": [
            [
             "2013-05"
            ],
            [
             "2013-05"
            ],
            [
             "2013-05"
            ],
            [
             "2013-05"
            ],
            [
             "2013-05"
            ],
            [
             "2013-05"
            ],
            [
             "2013-05"
            ],
            [
             "2013-05"
            ],
            [
             "2013-05"
            ]
           ],
           "hovertemplate": "date=%{customdata[0]}<br>years to maturity=%{x}<br>yield=%{y}<extra></extra>",
           "legendgroup": "",
           "line": {
            "color": "#636efa",
            "dash": "solid"
           },
           "marker": {
            "size": 10,
            "symbol": "circle"
           },
           "mode": "markers+lines",
           "name": "",
           "orientation": "v",
           "showlegend": false,
           "type": "scatter",
           "x": [
            0.08333333333333333,
            0.25,
            1,
            2,
            3,
            5,
            10,
            20,
            30
           ],
           "xaxis": "x",
           "y": [
            0.0003,
            0.0006,
            0.0011,
            0.002,
            0.003,
            0.006500000000000001,
            0.0166,
            0.024399999999999998,
            0.028300000000000002
           ],
           "yaxis": "y"
          }
         ],
         "name": "2013-05"
        },
        {
         "data": [
          {
           "customdata": [
            [
             "2013-06"
            ],
            [
             "2013-06"
            ],
            [
             "2013-06"
            ],
            [
             "2013-06"
            ],
            [
             "2013-06"
            ],
            [
             "2013-06"
            ],
            [
             "2013-06"
            ],
            [
             "2013-06"
            ],
            [
             "2013-06"
            ]
           ],
           "hovertemplate": "date=%{customdata[0]}<br>years to maturity=%{x}<br>yield=%{y}<extra></extra>",
           "legendgroup": "",
           "line": {
            "color": "#636efa",
            "dash": "solid"
           },
           "marker": {
            "size": 10,
            "symbol": "circle"
           },
           "mode": "markers+lines",
           "name": "",
           "orientation": "v",
           "showlegend": false,
           "type": "scatter",
           "x": [
            0.08333333333333333,
            0.25,
            1,
            2,
            3,
            5,
            10,
            20,
            30
           ],
           "xaxis": "x",
           "y": [
            0.0003,
            0.0005,
            0.0014000000000000002,
            0.003,
            0.005,
            0.0103,
            0.0213,
            0.0292,
            0.0327
           ],
           "yaxis": "y"
          }
         ],
         "name": "2013-06"
        },
        {
         "data": [
          {
           "customdata": [
            [
             "2013-07"
            ],
            [
             "2013-07"
            ],
            [
             "2013-07"
            ],
            [
             "2013-07"
            ],
            [
             "2013-07"
            ],
            [
             "2013-07"
            ],
            [
             "2013-07"
            ],
            [
             "2013-07"
            ],
            [
             "2013-07"
            ]
           ],
           "hovertemplate": "date=%{customdata[0]}<br>years to maturity=%{x}<br>yield=%{y}<extra></extra>",
           "legendgroup": "",
           "line": {
            "color": "#636efa",
            "dash": "solid"
           },
           "marker": {
            "size": 10,
            "symbol": "circle"
           },
           "mode": "markers+lines",
           "name": "",
           "orientation": "v",
           "showlegend": false,
           "type": "scatter",
           "x": [
            0.08333333333333333,
            0.25,
            1,
            2,
            3,
            5,
            10,
            20,
            30
           ],
           "xaxis": "x",
           "y": [
            0.0001,
            0.0004,
            0.0015,
            0.0034000000000000002,
            0.006500000000000001,
            0.0139,
            0.025,
            0.0319,
            0.0348
           ],
           "yaxis": "y"
          }
         ],
         "name": "2013-07"
        },
        {
         "data": [
          {
           "customdata": [
            [
             "2013-08"
            ],
            [
             "2013-08"
            ],
            [
             "2013-08"
            ],
            [
             "2013-08"
            ],
            [
             "2013-08"
            ],
            [
             "2013-08"
            ],
            [
             "2013-08"
            ],
            [
             "2013-08"
            ],
            [
             "2013-08"
            ]
           ],
           "hovertemplate": "date=%{customdata[0]}<br>years to maturity=%{x}<br>yield=%{y}<extra></extra>",
           "legendgroup": "",
           "line": {
            "color": "#636efa",
            "dash": "solid"
           },
           "marker": {
            "size": 10,
            "symbol": "circle"
           },
           "mode": "markers+lines",
           "name": "",
           "orientation": "v",
           "showlegend": false,
           "type": "scatter",
           "x": [
            0.08333333333333333,
            0.25,
            1,
            2,
            3,
            5,
            10,
            20,
            30
           ],
           "xaxis": "x",
           "y": [
            0.0002,
            0.0004,
            0.0013,
            0.0034999999999999996,
            0.006500000000000001,
            0.0149,
            0.0274,
            0.0348,
            0.0377
           ],
           "yaxis": "y"
          }
         ],
         "name": "2013-08"
        },
        {
         "data": [
          {
           "customdata": [
            [
             "2013-09"
            ],
            [
             "2013-09"
            ],
            [
             "2013-09"
            ],
            [
             "2013-09"
            ],
            [
             "2013-09"
            ],
            [
             "2013-09"
            ],
            [
             "2013-09"
            ],
            [
             "2013-09"
            ],
            [
             "2013-09"
            ]
           ],
           "hovertemplate": "date=%{customdata[0]}<br>years to maturity=%{x}<br>yield=%{y}<extra></extra>",
           "legendgroup": "",
           "line": {
            "color": "#636efa",
            "dash": "solid"
           },
           "marker": {
            "size": 10,
            "symbol": "circle"
           },
           "mode": "markers+lines",
           "name": "",
           "orientation": "v",
           "showlegend": false,
           "type": "scatter",
           "x": [
            0.08333333333333333,
            0.25,
            1,
            2,
            3,
            5,
            10,
            20,
            30
           ],
           "xaxis": "x",
           "y": [
            0.0003,
            0.0002,
            0.0014000000000000002,
            0.0043,
            0.0083,
            0.0168,
            0.0286,
            0.0354,
            0.0379
           ],
           "yaxis": "y"
          }
         ],
         "name": "2013-09"
        },
        {
         "data": [
          {
           "customdata": [
            [
             "2013-10"
            ],
            [
             "2013-10"
            ],
            [
             "2013-10"
            ],
            [
             "2013-10"
            ],
            [
             "2013-10"
            ],
            [
             "2013-10"
            ],
            [
             "2013-10"
            ],
            [
             "2013-10"
            ],
            [
             "2013-10"
            ]
           ],
           "hovertemplate": "date=%{customdata[0]}<br>years to maturity=%{x}<br>yield=%{y}<extra></extra>",
           "legendgroup": "",
           "line": {
            "color": "#636efa",
            "dash": "solid"
           },
           "marker": {
            "size": 10,
            "symbol": "circle"
           },
           "mode": "markers+lines",
           "name": "",
           "orientation": "v",
           "showlegend": false,
           "type": "scatter",
           "x": [
            0.08333333333333333,
            0.25,
            1,
            2,
            3,
            5,
            10,
            20,
            30
           ],
           "xaxis": "x",
           "y": [
            0.001,
            0.0002,
            0.001,
            0.0033,
            0.0066,
            0.014199999999999999,
            0.026600000000000002,
            0.034300000000000004,
            0.037200000000000004
           ],
           "yaxis": "y"
          }
         ],
         "name": "2013-10"
        },
        {
         "data": [
          {
           "customdata": [
            [
             "2013-11"
            ],
            [
             "2013-11"
            ],
            [
             "2013-11"
            ],
            [
             "2013-11"
            ],
            [
             "2013-11"
            ],
            [
             "2013-11"
            ],
            [
             "2013-11"
            ],
            [
             "2013-11"
            ],
            [
             "2013-11"
            ]
           ],
           "hovertemplate": "date=%{customdata[0]}<br>years to maturity=%{x}<br>yield=%{y}<extra></extra>",
           "legendgroup": "",
           "line": {
            "color": "#636efa",
            "dash": "solid"
           },
           "marker": {
            "size": 10,
            "symbol": "circle"
           },
           "mode": "markers+lines",
           "name": "",
           "orientation": "v",
           "showlegend": false,
           "type": "scatter",
           "x": [
            0.08333333333333333,
            0.25,
            1,
            2,
            3,
            5,
            10,
            20,
            30
           ],
           "xaxis": "x",
           "y": [
            0.0003,
            0.0004,
            0.001,
            0.0033,
            0.0060999999999999995,
            0.0137,
            0.0265,
            0.034,
            0.0369
           ],
           "yaxis": "y"
          }
         ],
         "name": "2013-11"
        },
        {
         "data": [
          {
           "customdata": [
            [
             "2013-12"
            ],
            [
             "2013-12"
            ],
            [
             "2013-12"
            ],
            [
             "2013-12"
            ],
            [
             "2013-12"
            ],
            [
             "2013-12"
            ],
            [
             "2013-12"
            ],
            [
             "2013-12"
            ],
            [
             "2013-12"
            ]
           ],
           "hovertemplate": "date=%{customdata[0]}<br>years to maturity=%{x}<br>yield=%{y}<extra></extra>",
           "legendgroup": "",
           "line": {
            "color": "#636efa",
            "dash": "solid"
           },
           "marker": {
            "size": 10,
            "symbol": "circle"
           },
           "mode": "markers+lines",
           "name": "",
           "orientation": "v",
           "showlegend": false,
           "type": "scatter",
           "x": [
            0.08333333333333333,
            0.25,
            1,
            2,
            3,
            5,
            10,
            20,
            30
           ],
           "xaxis": "x",
           "y": [
            0.0002,
            0.0005,
            0.0013,
            0.003,
            0.0059,
            0.0143,
            0.0281,
            0.0358,
            0.038599999999999995
           ],
           "yaxis": "y"
          }
         ],
         "name": "2013-12"
        },
        {
         "data": [
          {
           "customdata": [
            [
             "2014-01"
            ],
            [
             "2014-01"
            ],
            [
             "2014-01"
            ],
            [
             "2014-01"
            ],
            [
             "2014-01"
            ],
            [
             "2014-01"
            ],
            [
             "2014-01"
            ],
            [
             "2014-01"
            ],
            [
             "2014-01"
            ]
           ],
           "hovertemplate": "date=%{customdata[0]}<br>years to maturity=%{x}<br>yield=%{y}<extra></extra>",
           "legendgroup": "",
           "line": {
            "color": "#636efa",
            "dash": "solid"
           },
           "marker": {
            "size": 10,
            "symbol": "circle"
           },
           "mode": "markers+lines",
           "name": "",
           "orientation": "v",
           "showlegend": false,
           "type": "scatter",
           "x": [
            0.08333333333333333,
            0.25,
            1,
            2,
            3,
            5,
            10,
            20,
            30
           ],
           "xaxis": "x",
           "y": [
            0.0001,
            0.0007000000000000001,
            0.0013,
            0.0039000000000000003,
            0.0076,
            0.0172,
            0.03,
            0.0368,
            0.0392
           ],
           "yaxis": "y"
          }
         ],
         "name": "2014-01"
        },
        {
         "data": [
          {
           "customdata": [
            [
             "2014-02"
            ],
            [
             "2014-02"
            ],
            [
             "2014-02"
            ],
            [
             "2014-02"
            ],
            [
             "2014-02"
            ],
            [
             "2014-02"
            ],
            [
             "2014-02"
            ],
            [
             "2014-02"
            ],
            [
             "2014-02"
            ]
           ],
           "hovertemplate": "date=%{customdata[0]}<br>years to maturity=%{x}<br>yield=%{y}<extra></extra>",
           "legendgroup": "",
           "line": {
            "color": "#636efa",
            "dash": "solid"
           },
           "marker": {
            "size": 10,
            "symbol": "circle"
           },
           "mode": "markers+lines",
           "name": "",
           "orientation": "v",
           "showlegend": false,
           "type": "scatter",
           "x": [
            0.08333333333333333,
            0.25,
            1,
            2,
            3,
            5,
            10,
            20,
            30
           ],
           "xaxis": "x",
           "y": [
            0.0004,
            0.0005,
            0.0011,
            0.003,
            0.0064,
            0.0144,
            0.026099999999999998,
            0.0329,
            0.0355
           ],
           "yaxis": "y"
          }
         ],
         "name": "2014-02"
        },
        {
         "data": [
          {
           "customdata": [
            [
             "2014-03"
            ],
            [
             "2014-03"
            ],
            [
             "2014-03"
            ],
            [
             "2014-03"
            ],
            [
             "2014-03"
            ],
            [
             "2014-03"
            ],
            [
             "2014-03"
            ],
            [
             "2014-03"
            ],
            [
             "2014-03"
            ]
           ],
           "hovertemplate": "date=%{customdata[0]}<br>years to maturity=%{x}<br>yield=%{y}<extra></extra>",
           "legendgroup": "",
           "line": {
            "color": "#636efa",
            "dash": "solid"
           },
           "marker": {
            "size": 10,
            "symbol": "circle"
           },
           "mode": "markers+lines",
           "name": "",
           "orientation": "v",
           "showlegend": false,
           "type": "scatter",
           "x": [
            0.08333333333333333,
            0.25,
            1,
            2,
            3,
            5,
            10,
            20,
            30
           ],
           "xaxis": "x",
           "y": [
            0.0004,
            0.0005,
            0.0012,
            0.0032,
            0.0066,
            0.0146,
            0.026000000000000002,
            0.0327,
            0.0355
           ],
           "yaxis": "y"
          }
         ],
         "name": "2014-03"
        },
        {
         "data": [
          {
           "customdata": [
            [
             "2014-04"
            ],
            [
             "2014-04"
            ],
            [
             "2014-04"
            ],
            [
             "2014-04"
            ],
            [
             "2014-04"
            ],
            [
             "2014-04"
            ],
            [
             "2014-04"
            ],
            [
             "2014-04"
            ],
            [
             "2014-04"
            ]
           ],
           "hovertemplate": "date=%{customdata[0]}<br>years to maturity=%{x}<br>yield=%{y}<extra></extra>",
           "legendgroup": "",
           "line": {
            "color": "#636efa",
            "dash": "solid"
           },
           "marker": {
            "size": 10,
            "symbol": "circle"
           },
           "mode": "markers+lines",
           "name": "",
           "orientation": "v",
           "showlegend": false,
           "type": "scatter",
           "x": [
            0.08333333333333333,
            0.25,
            1,
            2,
            3,
            5,
            10,
            20,
            30
           ],
           "xaxis": "x",
           "y": [
            0.0002,
            0.0004,
            0.0013,
            0.0044,
            0.0091,
            0.0174,
            0.0277,
            0.0335,
            0.036000000000000004
           ],
           "yaxis": "y"
          }
         ],
         "name": "2014-04"
        },
        {
         "data": [
          {
           "customdata": [
            [
             "2014-05"
            ],
            [
             "2014-05"
            ],
            [
             "2014-05"
            ],
            [
             "2014-05"
            ],
            [
             "2014-05"
            ],
            [
             "2014-05"
            ],
            [
             "2014-05"
            ],
            [
             "2014-05"
            ],
            [
             "2014-05"
            ]
           ],
           "hovertemplate": "date=%{customdata[0]}<br>years to maturity=%{x}<br>yield=%{y}<extra></extra>",
           "legendgroup": "",
           "line": {
            "color": "#636efa",
            "dash": "solid"
           },
           "marker": {
            "size": 10,
            "symbol": "circle"
           },
           "mode": "markers+lines",
           "name": "",
           "orientation": "v",
           "showlegend": false,
           "type": "scatter",
           "x": [
            0.08333333333333333,
            0.25,
            1,
            2,
            3,
            5,
            10,
            20,
            30
           ],
           "xaxis": "x",
           "y": [
            0.0002,
            0.0003,
            0.001,
            0.0040999999999999995,
            0.0086,
            0.0166,
            0.0263,
            0.0316,
            0.0341
           ],
           "yaxis": "y"
          }
         ],
         "name": "2014-05"
        },
        {
         "data": [
          {
           "customdata": [
            [
             "2014-06"
            ],
            [
             "2014-06"
            ],
            [
             "2014-06"
            ],
            [
             "2014-06"
            ],
            [
             "2014-06"
            ],
            [
             "2014-06"
            ],
            [
             "2014-06"
            ],
            [
             "2014-06"
            ],
            [
             "2014-06"
            ]
           ],
           "hovertemplate": "date=%{customdata[0]}<br>years to maturity=%{x}<br>yield=%{y}<extra></extra>",
           "legendgroup": "",
           "line": {
            "color": "#636efa",
            "dash": "solid"
           },
           "marker": {
            "size": 10,
            "symbol": "circle"
           },
           "mode": "markers+lines",
           "name": "",
           "orientation": "v",
           "showlegend": false,
           "type": "scatter",
           "x": [
            0.08333333333333333,
            0.25,
            1,
            2,
            3,
            5,
            10,
            20,
            30
           ],
           "xaxis": "x",
           "y": [
            0.0004,
            0.0004,
            0.001,
            0.0039000000000000003,
            0.0083,
            0.016,
            0.0254,
            0.031,
            0.0338
           ],
           "yaxis": "y"
          }
         ],
         "name": "2014-06"
        },
        {
         "data": [
          {
           "customdata": [
            [
             "2014-07"
            ],
            [
             "2014-07"
            ],
            [
             "2014-07"
            ],
            [
             "2014-07"
            ],
            [
             "2014-07"
            ],
            [
             "2014-07"
            ],
            [
             "2014-07"
            ],
            [
             "2014-07"
            ],
            [
             "2014-07"
            ]
           ],
           "hovertemplate": "date=%{customdata[0]}<br>years to maturity=%{x}<br>yield=%{y}<extra></extra>",
           "legendgroup": "",
           "line": {
            "color": "#636efa",
            "dash": "solid"
           },
           "marker": {
            "size": 10,
            "symbol": "circle"
           },
           "mode": "markers+lines",
           "name": "",
           "orientation": "v",
           "showlegend": false,
           "type": "scatter",
           "x": [
            0.08333333333333333,
            0.25,
            1,
            2,
            3,
            5,
            10,
            20,
            30
           ],
           "xaxis": "x",
           "y": [
            0.0003,
            0.0002,
            0.0011,
            0.004699999999999999,
            0.009000000000000001,
            0.0166,
            0.0258,
            0.0313,
            0.034
           ],
           "yaxis": "y"
          }
         ],
         "name": "2014-07"
        },
        {
         "data": [
          {
           "customdata": [
            [
             "2014-08"
            ],
            [
             "2014-08"
            ],
            [
             "2014-08"
            ],
            [
             "2014-08"
            ],
            [
             "2014-08"
            ],
            [
             "2014-08"
            ],
            [
             "2014-08"
            ],
            [
             "2014-08"
            ],
            [
             "2014-08"
            ]
           ],
           "hovertemplate": "date=%{customdata[0]}<br>years to maturity=%{x}<br>yield=%{y}<extra></extra>",
           "legendgroup": "",
           "line": {
            "color": "#636efa",
            "dash": "solid"
           },
           "marker": {
            "size": 10,
            "symbol": "circle"
           },
           "mode": "markers+lines",
           "name": "",
           "orientation": "v",
           "showlegend": false,
           "type": "scatter",
           "x": [
            0.08333333333333333,
            0.25,
            1,
            2,
            3,
            5,
            10,
            20,
            30
           ],
           "xaxis": "x",
           "y": [
            0.0001,
            0.0003,
            0.0013,
            0.004699999999999999,
            0.009399999999999999,
            0.0167,
            0.0252,
            0.030299999999999997,
            0.0329
           ],
           "yaxis": "y"
          }
         ],
         "name": "2014-08"
        },
        {
         "data": [
          {
           "customdata": [
            [
             "2014-09"
            ],
            [
             "2014-09"
            ],
            [
             "2014-09"
            ],
            [
             "2014-09"
            ],
            [
             "2014-09"
            ],
            [
             "2014-09"
            ],
            [
             "2014-09"
            ],
            [
             "2014-09"
            ],
            [
             "2014-09"
            ]
           ],
           "hovertemplate": "date=%{customdata[0]}<br>years to maturity=%{x}<br>yield=%{y}<extra></extra>",
           "legendgroup": "",
           "line": {
            "color": "#636efa",
            "dash": "solid"
           },
           "marker": {
            "size": 10,
            "symbol": "circle"
           },
           "mode": "markers+lines",
           "name": "",
           "orientation": "v",
           "showlegend": false,
           "type": "scatter",
           "x": [
            0.08333333333333333,
            0.25,
            1,
            2,
            3,
            5,
            10,
            20,
            30
           ],
           "xaxis": "x",
           "y": [
            0.0002,
            0.0003,
            0.001,
            0.0053,
            0.009899999999999999,
            0.0169,
            0.0242,
            0.0291,
            0.0317
           ],
           "yaxis": "y"
          }
         ],
         "name": "2014-09"
        },
        {
         "data": [
          {
           "customdata": [
            [
             "2014-10"
            ],
            [
             "2014-10"
            ],
            [
             "2014-10"
            ],
            [
             "2014-10"
            ],
            [
             "2014-10"
            ],
            [
             "2014-10"
            ],
            [
             "2014-10"
            ],
            [
             "2014-10"
            ],
            [
             "2014-10"
            ]
           ],
           "hovertemplate": "date=%{customdata[0]}<br>years to maturity=%{x}<br>yield=%{y}<extra></extra>",
           "legendgroup": "",
           "line": {
            "color": "#636efa",
            "dash": "solid"
           },
           "marker": {
            "size": 10,
            "symbol": "circle"
           },
           "mode": "markers+lines",
           "name": "",
           "orientation": "v",
           "showlegend": false,
           "type": "scatter",
           "x": [
            0.08333333333333333,
            0.25,
            1,
            2,
            3,
            5,
            10,
            20,
            30
           ],
           "xaxis": "x",
           "y": [
            0.0001,
            0.0002,
            0.001,
            0.0053,
            0.01,
            0.0169,
            0.0242,
            0.0287,
            0.031200000000000002
           ],
           "yaxis": "y"
          }
         ],
         "name": "2014-10"
        },
        {
         "data": [
          {
           "customdata": [
            [
             "2014-11"
            ],
            [
             "2014-11"
            ],
            [
             "2014-11"
            ],
            [
             "2014-11"
            ],
            [
             "2014-11"
            ],
            [
             "2014-11"
            ],
            [
             "2014-11"
            ],
            [
             "2014-11"
            ],
            [
             "2014-11"
            ]
           ],
           "hovertemplate": "date=%{customdata[0]}<br>years to maturity=%{x}<br>yield=%{y}<extra></extra>",
           "legendgroup": "",
           "line": {
            "color": "#636efa",
            "dash": "solid"
           },
           "marker": {
            "size": 10,
            "symbol": "circle"
           },
           "mode": "markers+lines",
           "name": "",
           "orientation": "v",
           "showlegend": false,
           "type": "scatter",
           "x": [
            0.08333333333333333,
            0.25,
            1,
            2,
            3,
            5,
            10,
            20,
            30
           ],
           "xaxis": "x",
           "y": [
            0.0003,
            0.0002,
            0.0012,
            0.0052,
            0.0096,
            0.0163,
            0.0236,
            0.027999999999999997,
            0.030699999999999998
           ],
           "yaxis": "y"
          }
         ],
         "name": "2014-11"
        },
        {
         "data": [
          {
           "customdata": [
            [
             "2014-12"
            ],
            [
             "2014-12"
            ],
            [
             "2014-12"
            ],
            [
             "2014-12"
            ],
            [
             "2014-12"
            ],
            [
             "2014-12"
            ],
            [
             "2014-12"
            ],
            [
             "2014-12"
            ],
            [
             "2014-12"
            ]
           ],
           "hovertemplate": "date=%{customdata[0]}<br>years to maturity=%{x}<br>yield=%{y}<extra></extra>",
           "legendgroup": "",
           "line": {
            "color": "#636efa",
            "dash": "solid"
           },
           "marker": {
            "size": 10,
            "symbol": "circle"
           },
           "mode": "markers+lines",
           "name": "",
           "orientation": "v",
           "showlegend": false,
           "type": "scatter",
           "x": [
            0.08333333333333333,
            0.25,
            1,
            2,
            3,
            5,
            10,
            20,
            30
           ],
           "xaxis": "x",
           "y": [
            0.0001,
            0.0003,
            0.0013,
            0.0049,
            0.009000000000000001,
            0.0152,
            0.0222,
            0.026600000000000002,
            0.029500000000000002
           ],
           "yaxis": "y"
          }
         ],
         "name": "2014-12"
        },
        {
         "data": [
          {
           "customdata": [
            [
             "2015-01"
            ],
            [
             "2015-01"
            ],
            [
             "2015-01"
            ],
            [
             "2015-01"
            ],
            [
             "2015-01"
            ],
            [
             "2015-01"
            ],
            [
             "2015-01"
            ],
            [
             "2015-01"
            ],
            [
             "2015-01"
            ]
           ],
           "hovertemplate": "date=%{customdata[0]}<br>years to maturity=%{x}<br>yield=%{y}<extra></extra>",
           "legendgroup": "",
           "line": {
            "color": "#636efa",
            "dash": "solid"
           },
           "marker": {
            "size": 10,
            "symbol": "circle"
           },
           "mode": "markers+lines",
           "name": "",
           "orientation": "v",
           "showlegend": false,
           "type": "scatter",
           "x": [
            0.08333333333333333,
            0.25,
            1,
            2,
            3,
            5,
            10,
            20,
            30
           ],
           "xaxis": "x",
           "y": [
            0.0002,
            0.0002,
            0.0025,
            0.0066,
            0.010700000000000001,
            0.0161,
            0.0212,
            0.0241,
            0.0269
           ],
           "yaxis": "y"
          }
         ],
         "name": "2015-01"
        },
        {
         "data": [
          {
           "customdata": [
            [
             "2015-02"
            ],
            [
             "2015-02"
            ],
            [
             "2015-02"
            ],
            [
             "2015-02"
            ],
            [
             "2015-02"
            ],
            [
             "2015-02"
            ],
            [
             "2015-02"
            ],
            [
             "2015-02"
            ],
            [
             "2015-02"
            ]
           ],
           "hovertemplate": "date=%{customdata[0]}<br>years to maturity=%{x}<br>yield=%{y}<extra></extra>",
           "legendgroup": "",
           "line": {
            "color": "#636efa",
            "dash": "solid"
           },
           "marker": {
            "size": 10,
            "symbol": "circle"
           },
           "mode": "markers+lines",
           "name": "",
           "orientation": "v",
           "showlegend": false,
           "type": "scatter",
           "x": [
            0.08333333333333333,
            0.25,
            1,
            2,
            3,
            5,
            10,
            20,
            30
           ],
           "xaxis": "x",
           "y": [
            0.0001,
            0.0002,
            0.0017000000000000001,
            0.0049,
            0.0078000000000000005,
            0.011899999999999999,
            0.0168,
            0.0207,
            0.0225
           ],
           "yaxis": "y"
          }
         ],
         "name": "2015-02"
        },
        {
         "data": [
          {
           "customdata": [
            [
             "2015-03"
            ],
            [
             "2015-03"
            ],
            [
             "2015-03"
            ],
            [
             "2015-03"
            ],
            [
             "2015-03"
            ],
            [
             "2015-03"
            ],
            [
             "2015-03"
            ],
            [
             "2015-03"
            ],
            [
             "2015-03"
            ]
           ],
           "hovertemplate": "date=%{customdata[0]}<br>years to maturity=%{x}<br>yield=%{y}<extra></extra>",
           "legendgroup": "",
           "line": {
            "color": "#636efa",
            "dash": "solid"
           },
           "marker": {
            "size": 10,
            "symbol": "circle"
           },
           "mode": "markers+lines",
           "name": "",
           "orientation": "v",
           "showlegend": false,
           "type": "scatter",
           "x": [
            0.08333333333333333,
            0.25,
            1,
            2,
            3,
            5,
            10,
            20,
            30
           ],
           "xaxis": "x",
           "y": [
            0.0002,
            0.0002,
            0.0022,
            0.0066,
            0.0106,
            0.015700000000000002,
            0.0208,
            0.0246,
            0.0268
           ],
           "yaxis": "y"
          }
         ],
         "name": "2015-03"
        },
        {
         "data": [
          {
           "customdata": [
            [
             "2015-04"
            ],
            [
             "2015-04"
            ],
            [
             "2015-04"
            ],
            [
             "2015-04"
            ],
            [
             "2015-04"
            ],
            [
             "2015-04"
            ],
            [
             "2015-04"
            ],
            [
             "2015-04"
            ],
            [
             "2015-04"
            ]
           ],
           "hovertemplate": "date=%{customdata[0]}<br>years to maturity=%{x}<br>yield=%{y}<extra></extra>",
           "legendgroup": "",
           "line": {
            "color": "#636efa",
            "dash": "solid"
           },
           "marker": {
            "size": 10,
            "symbol": "circle"
           },
           "mode": "markers+lines",
           "name": "",
           "orientation": "v",
           "showlegend": false,
           "type": "scatter",
           "x": [
            0.08333333333333333,
            0.25,
            1,
            2,
            3,
            5,
            10,
            20,
            30
           ],
           "xaxis": "x",
           "y": [
            0.0002,
            0.0003,
            0.0027,
            0.0055000000000000005,
            0.0086,
            0.0132,
            0.0187,
            0.0223,
            0.024700000000000003
           ],
           "yaxis": "y"
          }
         ],
         "name": "2015-04"
        },
        {
         "data": [
          {
           "customdata": [
            [
             "2015-05"
            ],
            [
             "2015-05"
            ],
            [
             "2015-05"
            ],
            [
             "2015-05"
            ],
            [
             "2015-05"
            ],
            [
             "2015-05"
            ],
            [
             "2015-05"
            ],
            [
             "2015-05"
            ],
            [
             "2015-05"
            ]
           ],
           "hovertemplate": "date=%{customdata[0]}<br>years to maturity=%{x}<br>yield=%{y}<extra></extra>",
           "legendgroup": "",
           "line": {
            "color": "#636efa",
            "dash": "solid"
           },
           "marker": {
            "size": 10,
            "symbol": "circle"
           },
           "mode": "markers+lines",
           "name": "",
           "orientation": "v",
           "showlegend": false,
           "type": "scatter",
           "x": [
            0.08333333333333333,
            0.25,
            1,
            2,
            3,
            5,
            10,
            20,
            30
           ],
           "xaxis": "x",
           "y": [
            0,
            0.0001,
            0.0025,
            0.006,
            0.0097,
            0.015,
            0.0212,
            0.025699999999999997,
            0.0282
           ],
           "yaxis": "y"
          }
         ],
         "name": "2015-05"
        },
        {
         "data": [
          {
           "customdata": [
            [
             "2015-06"
            ],
            [
             "2015-06"
            ],
            [
             "2015-06"
            ],
            [
             "2015-06"
            ],
            [
             "2015-06"
            ],
            [
             "2015-06"
            ],
            [
             "2015-06"
            ],
            [
             "2015-06"
            ],
            [
             "2015-06"
            ]
           ],
           "hovertemplate": "date=%{customdata[0]}<br>years to maturity=%{x}<br>yield=%{y}<extra></extra>",
           "legendgroup": "",
           "line": {
            "color": "#636efa",
            "dash": "solid"
           },
           "marker": {
            "size": 10,
            "symbol": "circle"
           },
           "mode": "markers+lines",
           "name": "",
           "orientation": "v",
           "showlegend": false,
           "type": "scatter",
           "x": [
            0.08333333333333333,
            0.25,
            1,
            2,
            3,
            5,
            10,
            20,
            30
           ],
           "xaxis": "x",
           "y": [
            0.0002,
            0.0002,
            0.0026,
            0.0064,
            0.009899999999999999,
            0.0155,
            0.0219,
            0.0269,
            0.0294
           ],
           "yaxis": "y"
          }
         ],
         "name": "2015-06"
        },
        {
         "data": [
          {
           "customdata": [
            [
             "2015-07"
            ],
            [
             "2015-07"
            ],
            [
             "2015-07"
            ],
            [
             "2015-07"
            ],
            [
             "2015-07"
            ],
            [
             "2015-07"
            ],
            [
             "2015-07"
            ],
            [
             "2015-07"
            ],
            [
             "2015-07"
            ]
           ],
           "hovertemplate": "date=%{customdata[0]}<br>years to maturity=%{x}<br>yield=%{y}<extra></extra>",
           "legendgroup": "",
           "line": {
            "color": "#636efa",
            "dash": "solid"
           },
           "marker": {
            "size": 10,
            "symbol": "circle"
           },
           "mode": "markers+lines",
           "name": "",
           "orientation": "v",
           "showlegend": false,
           "type": "scatter",
           "x": [
            0.08333333333333333,
            0.25,
            1,
            2,
            3,
            5,
            10,
            20,
            30
           ],
           "xaxis": "x",
           "y": [
            0.0001,
            0.0001,
            0.0028000000000000004,
            0.0069,
            0.0108,
            0.017,
            0.024300000000000002,
            0.0292,
            0.032
           ],
           "yaxis": "y"
          }
         ],
         "name": "2015-07"
        },
        {
         "data": [
          {
           "customdata": [
            [
             "2015-08"
            ],
            [
             "2015-08"
            ],
            [
             "2015-08"
            ],
            [
             "2015-08"
            ],
            [
             "2015-08"
            ],
            [
             "2015-08"
            ],
            [
             "2015-08"
            ],
            [
             "2015-08"
            ],
            [
             "2015-08"
            ]
           ],
           "hovertemplate": "date=%{customdata[0]}<br>years to maturity=%{x}<br>yield=%{y}<extra></extra>",
           "legendgroup": "",
           "line": {
            "color": "#636efa",
            "dash": "solid"
           },
           "marker": {
            "size": 10,
            "symbol": "circle"
           },
           "mode": "markers+lines",
           "name": "",
           "orientation": "v",
           "showlegend": false,
           "type": "scatter",
           "x": [
            0.08333333333333333,
            0.25,
            1,
            2,
            3,
            5,
            10,
            20,
            30
           ],
           "xaxis": "x",
           "y": [
            0.0003,
            0.0008,
            0.0033,
            0.0068000000000000005,
            0.009899999999999999,
            0.0152,
            0.0216,
            0.0255,
            0.0286
           ],
           "yaxis": "y"
          }
         ],
         "name": "2015-08"
        },
        {
         "data": [
          {
           "customdata": [
            [
             "2015-09"
            ],
            [
             "2015-09"
            ],
            [
             "2015-09"
            ],
            [
             "2015-09"
            ],
            [
             "2015-09"
            ],
            [
             "2015-09"
            ],
            [
             "2015-09"
            ],
            [
             "2015-09"
            ],
            [
             "2015-09"
            ]
           ],
           "hovertemplate": "date=%{customdata[0]}<br>years to maturity=%{x}<br>yield=%{y}<extra></extra>",
           "legendgroup": "",
           "line": {
            "color": "#636efa",
            "dash": "solid"
           },
           "marker": {
            "size": 10,
            "symbol": "circle"
           },
           "mode": "markers+lines",
           "name": "",
           "orientation": "v",
           "showlegend": false,
           "type": "scatter",
           "x": [
            0.08333333333333333,
            0.25,
            1,
            2,
            3,
            5,
            10,
            20,
            30
           ],
           "xaxis": "x",
           "y": [
            0.0001,
            0.0003,
            0.0039000000000000003,
            0.006999999999999999,
            0.0103,
            0.0149,
            0.0217,
            0.0262,
            0.029300000000000003
           ],
           "yaxis": "y"
          }
         ],
         "name": "2015-09"
        },
        {
         "data": [
          {
           "customdata": [
            [
             "2015-10"
            ],
            [
             "2015-10"
            ],
            [
             "2015-10"
            ],
            [
             "2015-10"
            ],
            [
             "2015-10"
            ],
            [
             "2015-10"
            ],
            [
             "2015-10"
            ],
            [
             "2015-10"
            ],
            [
             "2015-10"
            ]
           ],
           "hovertemplate": "date=%{customdata[0]}<br>years to maturity=%{x}<br>yield=%{y}<extra></extra>",
           "legendgroup": "",
           "line": {
            "color": "#636efa",
            "dash": "solid"
           },
           "marker": {
            "size": 10,
            "symbol": "circle"
           },
           "mode": "markers+lines",
           "name": "",
           "orientation": "v",
           "showlegend": false,
           "type": "scatter",
           "x": [
            0.08333333333333333,
            0.25,
            1,
            2,
            3,
            5,
            10,
            20,
            30
           ],
           "xaxis": "x",
           "y": [
            0,
            0,
            0.0031,
            0.0064,
            0.0092,
            0.0137,
            0.020499999999999997,
            0.024900000000000002,
            0.0285
           ],
           "yaxis": "y"
          }
         ],
         "name": "2015-10"
        },
        {
         "data": [
          {
           "customdata": [
            [
             "2015-11"
            ],
            [
             "2015-11"
            ],
            [
             "2015-11"
            ],
            [
             "2015-11"
            ],
            [
             "2015-11"
            ],
            [
             "2015-11"
            ],
            [
             "2015-11"
            ],
            [
             "2015-11"
            ],
            [
             "2015-11"
            ]
           ],
           "hovertemplate": "date=%{customdata[0]}<br>years to maturity=%{x}<br>yield=%{y}<extra></extra>",
           "legendgroup": "",
           "line": {
            "color": "#636efa",
            "dash": "solid"
           },
           "marker": {
            "size": 10,
            "symbol": "circle"
           },
           "mode": "markers+lines",
           "name": "",
           "orientation": "v",
           "showlegend": false,
           "type": "scatter",
           "x": [
            0.08333333333333333,
            0.25,
            1,
            2,
            3,
            5,
            10,
            20,
            30
           ],
           "xaxis": "x",
           "y": [
            0.0001,
            0.0008,
            0.0037,
            0.0077,
            0.0108,
            0.015700000000000002,
            0.022000000000000002,
            0.026000000000000002,
            0.029500000000000002
           ],
           "yaxis": "y"
          }
         ],
         "name": "2015-11"
        },
        {
         "data": [
          {
           "customdata": [
            [
             "2015-12"
            ],
            [
             "2015-12"
            ],
            [
             "2015-12"
            ],
            [
             "2015-12"
            ],
            [
             "2015-12"
            ],
            [
             "2015-12"
            ],
            [
             "2015-12"
            ],
            [
             "2015-12"
            ],
            [
             "2015-12"
            ]
           ],
           "hovertemplate": "date=%{customdata[0]}<br>years to maturity=%{x}<br>yield=%{y}<extra></extra>",
           "legendgroup": "",
           "line": {
            "color": "#636efa",
            "dash": "solid"
           },
           "marker": {
            "size": 10,
            "symbol": "circle"
           },
           "mode": "markers+lines",
           "name": "",
           "orientation": "v",
           "showlegend": false,
           "type": "scatter",
           "x": [
            0.08333333333333333,
            0.25,
            1,
            2,
            3,
            5,
            10,
            20,
            30
           ],
           "xaxis": "x",
           "y": [
            0.0019,
            0.0021,
            0.0051,
            0.0091,
            0.011899999999999999,
            0.0159,
            0.0215,
            0.0255,
            0.0291
           ],
           "yaxis": "y"
          }
         ],
         "name": "2015-12"
        },
        {
         "data": [
          {
           "customdata": [
            [
             "2016-01"
            ],
            [
             "2016-01"
            ],
            [
             "2016-01"
            ],
            [
             "2016-01"
            ],
            [
             "2016-01"
            ],
            [
             "2016-01"
            ],
            [
             "2016-01"
            ],
            [
             "2016-01"
            ],
            [
             "2016-01"
            ]
           ],
           "hovertemplate": "date=%{customdata[0]}<br>years to maturity=%{x}<br>yield=%{y}<extra></extra>",
           "legendgroup": "",
           "line": {
            "color": "#636efa",
            "dash": "solid"
           },
           "marker": {
            "size": 10,
            "symbol": "circle"
           },
           "mode": "markers+lines",
           "name": "",
           "orientation": "v",
           "showlegend": false,
           "type": "scatter",
           "x": [
            0.08333333333333333,
            0.25,
            1,
            2,
            3,
            5,
            10,
            20,
            30
           ],
           "xaxis": "x",
           "y": [
            0.0017000000000000001,
            0.0022,
            0.0060999999999999995,
            0.0102,
            0.0131,
            0.0173,
            0.022400000000000003,
            0.0264,
            0.0298
           ],
           "yaxis": "y"
          }
         ],
         "name": "2016-01"
        },
        {
         "data": [
          {
           "customdata": [
            [
             "2016-02"
            ],
            [
             "2016-02"
            ],
            [
             "2016-02"
            ],
            [
             "2016-02"
            ],
            [
             "2016-02"
            ],
            [
             "2016-02"
            ],
            [
             "2016-02"
            ],
            [
             "2016-02"
            ],
            [
             "2016-02"
            ]
           ],
           "hovertemplate": "date=%{customdata[0]}<br>years to maturity=%{x}<br>yield=%{y}<extra></extra>",
           "legendgroup": "",
           "line": {
            "color": "#636efa",
            "dash": "solid"
           },
           "marker": {
            "size": 10,
            "symbol": "circle"
           },
           "mode": "markers+lines",
           "name": "",
           "orientation": "v",
           "showlegend": false,
           "type": "scatter",
           "x": [
            0.08333333333333333,
            0.25,
            1,
            2,
            3,
            5,
            10,
            20,
            30
           ],
           "xaxis": "x",
           "y": [
            0.0019,
            0.0034999999999999996,
            0.004699999999999999,
            0.008100000000000001,
            0.0101,
            0.0138,
            0.0197,
            0.023799999999999998,
            0.0277
           ],
           "yaxis": "y"
          }
         ],
         "name": "2016-02"
        },
        {
         "data": [
          {
           "customdata": [
            [
             "2016-03"
            ],
            [
             "2016-03"
            ],
            [
             "2016-03"
            ],
            [
             "2016-03"
            ],
            [
             "2016-03"
            ],
            [
             "2016-03"
            ],
            [
             "2016-03"
            ],
            [
             "2016-03"
            ],
            [
             "2016-03"
            ]
           ],
           "hovertemplate": "date=%{customdata[0]}<br>years to maturity=%{x}<br>yield=%{y}<extra></extra>",
           "legendgroup": "",
           "line": {
            "color": "#636efa",
            "dash": "solid"
           },
           "marker": {
            "size": 10,
            "symbol": "circle"
           },
           "mode": "markers+lines",
           "name": "",
           "orientation": "v",
           "showlegend": false,
           "type": "scatter",
           "x": [
            0.08333333333333333,
            0.25,
            1,
            2,
            3,
            5,
            10,
            20,
            30
           ],
           "xaxis": "x",
           "y": [
            0.0029,
            0.0033,
            0.0068000000000000005,
            0.0085,
            0.0098,
            0.0131,
            0.0183,
            0.022799999999999997,
            0.027000000000000003
           ],
           "yaxis": "y"
          }
         ],
         "name": "2016-03"
        },
        {
         "data": [
          {
           "customdata": [
            [
             "2016-04"
            ],
            [
             "2016-04"
            ],
            [
             "2016-04"
            ],
            [
             "2016-04"
            ],
            [
             "2016-04"
            ],
            [
             "2016-04"
            ],
            [
             "2016-04"
            ],
            [
             "2016-04"
            ],
            [
             "2016-04"
            ]
           ],
           "hovertemplate": "date=%{customdata[0]}<br>years to maturity=%{x}<br>yield=%{y}<extra></extra>",
           "legendgroup": "",
           "line": {
            "color": "#636efa",
            "dash": "solid"
           },
           "marker": {
            "size": 10,
            "symbol": "circle"
           },
           "mode": "markers+lines",
           "name": "",
           "orientation": "v",
           "showlegend": false,
           "type": "scatter",
           "x": [
            0.08333333333333333,
            0.25,
            1,
            2,
            3,
            5,
            10,
            20,
            30
           ],
           "xaxis": "x",
           "y": [
            0.002,
            0.0023,
            0.0062,
            0.0076,
            0.009000000000000001,
            0.0124,
            0.0179,
            0.022000000000000002,
            0.0262
           ],
           "yaxis": "y"
          }
         ],
         "name": "2016-04"
        },
        {
         "data": [
          {
           "customdata": [
            [
             "2016-05"
            ],
            [
             "2016-05"
            ],
            [
             "2016-05"
            ],
            [
             "2016-05"
            ],
            [
             "2016-05"
            ],
            [
             "2016-05"
            ],
            [
             "2016-05"
            ],
            [
             "2016-05"
            ],
            [
             "2016-05"
            ]
           ],
           "hovertemplate": "date=%{customdata[0]}<br>years to maturity=%{x}<br>yield=%{y}<extra></extra>",
           "legendgroup": "",
           "line": {
            "color": "#636efa",
            "dash": "solid"
           },
           "marker": {
            "size": 10,
            "symbol": "circle"
           },
           "mode": "markers+lines",
           "name": "",
           "orientation": "v",
           "showlegend": false,
           "type": "scatter",
           "x": [
            0.08333333333333333,
            0.25,
            1,
            2,
            3,
            5,
            10,
            20,
            30
           ],
           "xaxis": "x",
           "y": [
            0.0011,
            0.0022,
            0.0055000000000000005,
            0.008,
            0.0096,
            0.0132,
            0.018799999999999997,
            0.0231,
            0.0271
           ],
           "yaxis": "y"
          }
         ],
         "name": "2016-05"
        },
        {
         "data": [
          {
           "customdata": [
            [
             "2016-06"
            ],
            [
             "2016-06"
            ],
            [
             "2016-06"
            ],
            [
             "2016-06"
            ],
            [
             "2016-06"
            ],
            [
             "2016-06"
            ],
            [
             "2016-06"
            ],
            [
             "2016-06"
            ],
            [
             "2016-06"
            ]
           ],
           "hovertemplate": "date=%{customdata[0]}<br>years to maturity=%{x}<br>yield=%{y}<extra></extra>",
           "legendgroup": "",
           "line": {
            "color": "#636efa",
            "dash": "solid"
           },
           "marker": {
            "size": 10,
            "symbol": "circle"
           },
           "mode": "markers+lines",
           "name": "",
           "orientation": "v",
           "showlegend": false,
           "type": "scatter",
           "x": [
            0.08333333333333333,
            0.25,
            1,
            2,
            3,
            5,
            10,
            20,
            30
           ],
           "xaxis": "x",
           "y": [
            0.0027,
            0.003,
            0.006999999999999999,
            0.0091,
            0.010700000000000001,
            0.0139,
            0.018500000000000003,
            0.0222,
            0.0263
           ],
           "yaxis": "y"
          }
         ],
         "name": "2016-06"
        },
        {
         "data": [
          {
           "customdata": [
            [
             "2016-07"
            ],
            [
             "2016-07"
            ],
            [
             "2016-07"
            ],
            [
             "2016-07"
            ],
            [
             "2016-07"
            ],
            [
             "2016-07"
            ],
            [
             "2016-07"
            ],
            [
             "2016-07"
            ],
            [
             "2016-07"
            ]
           ],
           "hovertemplate": "date=%{customdata[0]}<br>years to maturity=%{x}<br>yield=%{y}<extra></extra>",
           "legendgroup": "",
           "line": {
            "color": "#636efa",
            "dash": "solid"
           },
           "marker": {
            "size": 10,
            "symbol": "circle"
           },
           "mode": "markers+lines",
           "name": "",
           "orientation": "v",
           "showlegend": false,
           "type": "scatter",
           "x": [
            0.08333333333333333,
            0.25,
            1,
            2,
            3,
            5,
            10,
            20,
            30
           ],
           "xaxis": "x",
           "y": [
            0.0024,
            0.0028000000000000004,
            0.0045000000000000005,
            0.0059,
            0.0070999999999999995,
            0.01,
            0.0146,
            0.0181,
            0.022400000000000003
           ],
           "yaxis": "y"
          }
         ],
         "name": "2016-07"
        },
        {
         "data": [
          {
           "customdata": [
            [
             "2016-08"
            ],
            [
             "2016-08"
            ],
            [
             "2016-08"
            ],
            [
             "2016-08"
            ],
            [
             "2016-08"
            ],
            [
             "2016-08"
            ],
            [
             "2016-08"
            ],
            [
             "2016-08"
            ],
            [
             "2016-08"
            ]
           ],
           "hovertemplate": "date=%{customdata[0]}<br>years to maturity=%{x}<br>yield=%{y}<extra></extra>",
           "legendgroup": "",
           "line": {
            "color": "#636efa",
            "dash": "solid"
           },
           "marker": {
            "size": 10,
            "symbol": "circle"
           },
           "mode": "markers+lines",
           "name": "",
           "orientation": "v",
           "showlegend": false,
           "type": "scatter",
           "x": [
            0.08333333333333333,
            0.25,
            1,
            2,
            3,
            5,
            10,
            20,
            30
           ],
           "xaxis": "x",
           "y": [
            0.002,
            0.0029,
            0.005,
            0.0067,
            0.0078000000000000005,
            0.0106,
            0.0151,
            0.0184,
            0.022400000000000003
           ],
           "yaxis": "y"
          }
         ],
         "name": "2016-08"
        },
        {
         "data": [
          {
           "customdata": [
            [
             "2016-09"
            ],
            [
             "2016-09"
            ],
            [
             "2016-09"
            ],
            [
             "2016-09"
            ],
            [
             "2016-09"
            ],
            [
             "2016-09"
            ],
            [
             "2016-09"
            ],
            [
             "2016-09"
            ],
            [
             "2016-09"
            ]
           ],
           "hovertemplate": "date=%{customdata[0]}<br>years to maturity=%{x}<br>yield=%{y}<extra></extra>",
           "legendgroup": "",
           "line": {
            "color": "#636efa",
            "dash": "solid"
           },
           "marker": {
            "size": 10,
            "symbol": "circle"
           },
           "mode": "markers+lines",
           "name": "",
           "orientation": "v",
           "showlegend": false,
           "type": "scatter",
           "x": [
            0.08333333333333333,
            0.25,
            1,
            2,
            3,
            5,
            10,
            20,
            30
           ],
           "xaxis": "x",
           "y": [
            0.0027,
            0.0033,
            0.006,
            0.0078000000000000005,
            0.0091,
            0.0118,
            0.015700000000000002,
            0.019,
            0.0223
           ],
           "yaxis": "y"
          }
         ],
         "name": "2016-09"
        },
        {
         "data": [
          {
           "customdata": [
            [
             "2016-10"
            ],
            [
             "2016-10"
            ],
            [
             "2016-10"
            ],
            [
             "2016-10"
            ],
            [
             "2016-10"
            ],
            [
             "2016-10"
            ],
            [
             "2016-10"
            ],
            [
             "2016-10"
            ],
            [
             "2016-10"
            ]
           ],
           "hovertemplate": "date=%{customdata[0]}<br>years to maturity=%{x}<br>yield=%{y}<extra></extra>",
           "legendgroup": "",
           "line": {
            "color": "#636efa",
            "dash": "solid"
           },
           "marker": {
            "size": 10,
            "symbol": "circle"
           },
           "mode": "markers+lines",
           "name": "",
           "orientation": "v",
           "showlegend": false,
           "type": "scatter",
           "x": [
            0.08333333333333333,
            0.25,
            1,
            2,
            3,
            5,
            10,
            20,
            30
           ],
           "xaxis": "x",
           "y": [
            0.0025,
            0.0032,
            0.0063,
            0.008,
            0.0091,
            0.0118,
            0.0163,
            0.020099999999999996,
            0.023399999999999997
           ],
           "yaxis": "y"
          }
         ],
         "name": "2016-10"
        },
        {
         "data": [
          {
           "customdata": [
            [
             "2016-11"
            ],
            [
             "2016-11"
            ],
            [
             "2016-11"
            ],
            [
             "2016-11"
            ],
            [
             "2016-11"
            ],
            [
             "2016-11"
            ],
            [
             "2016-11"
            ],
            [
             "2016-11"
            ],
            [
             "2016-11"
            ]
           ],
           "hovertemplate": "date=%{customdata[0]}<br>years to maturity=%{x}<br>yield=%{y}<extra></extra>",
           "legendgroup": "",
           "line": {
            "color": "#636efa",
            "dash": "solid"
           },
           "marker": {
            "size": 10,
            "symbol": "circle"
           },
           "mode": "markers+lines",
           "name": "",
           "orientation": "v",
           "showlegend": false,
           "type": "scatter",
           "x": [
            0.08333333333333333,
            0.25,
            1,
            2,
            3,
            5,
            10,
            20,
            30
           ],
           "xaxis": "x",
           "y": [
            0.0024,
            0.0034999999999999996,
            0.006500000000000001,
            0.0083,
            0.009899999999999999,
            0.013000000000000001,
            0.0183,
            0.022400000000000003,
            0.0258
           ],
           "yaxis": "y"
          }
         ],
         "name": "2016-11"
        },
        {
         "data": [
          {
           "customdata": [
            [
             "2016-12"
            ],
            [
             "2016-12"
            ],
            [
             "2016-12"
            ],
            [
             "2016-12"
            ],
            [
             "2016-12"
            ],
            [
             "2016-12"
            ],
            [
             "2016-12"
            ],
            [
             "2016-12"
            ],
            [
             "2016-12"
            ]
           ],
           "hovertemplate": "date=%{customdata[0]}<br>years to maturity=%{x}<br>yield=%{y}<extra></extra>",
           "legendgroup": "",
           "line": {
            "color": "#636efa",
            "dash": "solid"
           },
           "marker": {
            "size": 10,
            "symbol": "circle"
           },
           "mode": "markers+lines",
           "name": "",
           "orientation": "v",
           "showlegend": false,
           "type": "scatter",
           "x": [
            0.08333333333333333,
            0.25,
            1,
            2,
            3,
            5,
            10,
            20,
            30
           ],
           "xaxis": "x",
           "y": [
            0.0032,
            0.0048,
            0.008199999999999999,
            0.011399999999999999,
            0.014499999999999999,
            0.019,
            0.0245,
            0.0282,
            0.031
           ],
           "yaxis": "y"
          }
         ],
         "name": "2016-12"
        },
        {
         "data": [
          {
           "customdata": [
            [
             "2017-01"
            ],
            [
             "2017-01"
            ],
            [
             "2017-01"
            ],
            [
             "2017-01"
            ],
            [
             "2017-01"
            ],
            [
             "2017-01"
            ],
            [
             "2017-01"
            ],
            [
             "2017-01"
            ],
            [
             "2017-01"
            ]
           ],
           "hovertemplate": "date=%{customdata[0]}<br>years to maturity=%{x}<br>yield=%{y}<extra></extra>",
           "legendgroup": "",
           "line": {
            "color": "#636efa",
            "dash": "solid"
           },
           "marker": {
            "size": 10,
            "symbol": "circle"
           },
           "mode": "markers+lines",
           "name": "",
           "orientation": "v",
           "showlegend": false,
           "type": "scatter",
           "x": [
            0.08333333333333333,
            0.25,
            1,
            2,
            3,
            5,
            10,
            20,
            30
           ],
           "xaxis": "x",
           "y": [
            0.0052,
            0.0053,
            0.0089,
            0.012199999999999999,
            0.015,
            0.0194,
            0.0245,
            0.0278,
            0.0304
           ],
           "yaxis": "y"
          }
         ],
         "name": "2017-01"
        },
        {
         "data": [
          {
           "customdata": [
            [
             "2017-02"
            ],
            [
             "2017-02"
            ],
            [
             "2017-02"
            ],
            [
             "2017-02"
            ],
            [
             "2017-02"
            ],
            [
             "2017-02"
            ],
            [
             "2017-02"
            ],
            [
             "2017-02"
            ],
            [
             "2017-02"
            ]
           ],
           "hovertemplate": "date=%{customdata[0]}<br>years to maturity=%{x}<br>yield=%{y}<extra></extra>",
           "legendgroup": "",
           "line": {
            "color": "#636efa",
            "dash": "solid"
           },
           "marker": {
            "size": 10,
            "symbol": "circle"
           },
           "mode": "markers+lines",
           "name": "",
           "orientation": "v",
           "showlegend": false,
           "type": "scatter",
           "x": [
            0.08333333333333333,
            0.25,
            1,
            2,
            3,
            5,
            10,
            20,
            30
           ],
           "xaxis": "x",
           "y": [
            0.005,
            0.0051,
            0.0083,
            0.012199999999999999,
            0.0149,
            0.019299999999999998,
            0.0248,
            0.027999999999999997,
            0.0308
           ],
           "yaxis": "y"
          }
         ],
         "name": "2017-02"
        },
        {
         "data": [
          {
           "customdata": [
            [
             "2017-03"
            ],
            [
             "2017-03"
            ],
            [
             "2017-03"
            ],
            [
             "2017-03"
            ],
            [
             "2017-03"
            ],
            [
             "2017-03"
            ],
            [
             "2017-03"
            ],
            [
             "2017-03"
            ],
            [
             "2017-03"
            ]
           ],
           "hovertemplate": "date=%{customdata[0]}<br>years to maturity=%{x}<br>yield=%{y}<extra></extra>",
           "legendgroup": "",
           "line": {
            "color": "#636efa",
            "dash": "solid"
           },
           "marker": {
            "size": 10,
            "symbol": "circle"
           },
           "mode": "markers+lines",
           "name": "",
           "orientation": "v",
           "showlegend": false,
           "type": "scatter",
           "x": [
            0.08333333333333333,
            0.25,
            1,
            2,
            3,
            5,
            10,
            20,
            30
           ],
           "xaxis": "x",
           "y": [
            0.0046,
            0.0063,
            0.0092,
            0.0129,
            0.015700000000000002,
            0.0199,
            0.0246,
            0.0281,
            0.030600000000000002
           ],
           "yaxis": "y"
          }
         ],
         "name": "2017-03"
        },
        {
         "data": [
          {
           "customdata": [
            [
             "2017-04"
            ],
            [
             "2017-04"
            ],
            [
             "2017-04"
            ],
            [
             "2017-04"
            ],
            [
             "2017-04"
            ],
            [
             "2017-04"
            ],
            [
             "2017-04"
            ],
            [
             "2017-04"
            ],
            [
             "2017-04"
            ]
           ],
           "hovertemplate": "date=%{customdata[0]}<br>years to maturity=%{x}<br>yield=%{y}<extra></extra>",
           "legendgroup": "",
           "line": {
            "color": "#636efa",
            "dash": "solid"
           },
           "marker": {
            "size": 10,
            "symbol": "circle"
           },
           "mode": "markers+lines",
           "name": "",
           "orientation": "v",
           "showlegend": false,
           "type": "scatter",
           "x": [
            0.08333333333333333,
            0.25,
            1,
            2,
            3,
            5,
            10,
            20,
            30
           ],
           "xaxis": "x",
           "y": [
            0.0073,
            0.0079,
            0.0102,
            0.0124,
            0.0147,
            0.018799999999999997,
            0.0235,
            0.0271,
            0.0298
           ],
           "yaxis": "y"
          }
         ],
         "name": "2017-04"
        },
        {
         "data": [
          {
           "customdata": [
            [
             "2017-05"
            ],
            [
             "2017-05"
            ],
            [
             "2017-05"
            ],
            [
             "2017-05"
            ],
            [
             "2017-05"
            ],
            [
             "2017-05"
            ],
            [
             "2017-05"
            ],
            [
             "2017-05"
            ],
            [
             "2017-05"
            ]
           ],
           "hovertemplate": "date=%{customdata[0]}<br>years to maturity=%{x}<br>yield=%{y}<extra></extra>",
           "legendgroup": "",
           "line": {
            "color": "#636efa",
            "dash": "solid"
           },
           "marker": {
            "size": 10,
            "symbol": "circle"
           },
           "mode": "markers+lines",
           "name": "",
           "orientation": "v",
           "showlegend": false,
           "type": "scatter",
           "x": [
            0.08333333333333333,
            0.25,
            1,
            2,
            3,
            5,
            10,
            20,
            30
           ],
           "xaxis": "x",
           "y": [
            0.0067,
            0.0083,
            0.0109,
            0.0128,
            0.0148,
            0.0184,
            0.0233,
            0.0271,
            0.03
           ],
           "yaxis": "y"
          }
         ],
         "name": "2017-05"
        },
        {
         "data": [
          {
           "customdata": [
            [
             "2017-06"
            ],
            [
             "2017-06"
            ],
            [
             "2017-06"
            ],
            [
             "2017-06"
            ],
            [
             "2017-06"
            ],
            [
             "2017-06"
            ],
            [
             "2017-06"
            ],
            [
             "2017-06"
            ],
            [
             "2017-06"
            ]
           ],
           "hovertemplate": "date=%{customdata[0]}<br>years to maturity=%{x}<br>yield=%{y}<extra></extra>",
           "legendgroup": "",
           "line": {
            "color": "#636efa",
            "dash": "solid"
           },
           "marker": {
            "size": 10,
            "symbol": "circle"
           },
           "mode": "markers+lines",
           "name": "",
           "orientation": "v",
           "showlegend": false,
           "type": "scatter",
           "x": [
            0.08333333333333333,
            0.25,
            1,
            2,
            3,
            5,
            10,
            20,
            30
           ],
           "xaxis": "x",
           "y": [
            0.008199999999999999,
            0.0098,
            0.0116,
            0.0128,
            0.014499999999999999,
            0.0176,
            0.022099999999999998,
            0.026000000000000002,
            0.0287
           ],
           "yaxis": "y"
          }
         ],
         "name": "2017-06"
        },
        {
         "data": [
          {
           "customdata": [
            [
             "2017-07"
            ],
            [
             "2017-07"
            ],
            [
             "2017-07"
            ],
            [
             "2017-07"
            ],
            [
             "2017-07"
            ],
            [
             "2017-07"
            ],
            [
             "2017-07"
            ],
            [
             "2017-07"
            ],
            [
             "2017-07"
            ]
           ],
           "hovertemplate": "date=%{customdata[0]}<br>years to maturity=%{x}<br>yield=%{y}<extra></extra>",
           "legendgroup": "",
           "line": {
            "color": "#636efa",
            "dash": "solid"
           },
           "marker": {
            "size": 10,
            "symbol": "circle"
           },
           "mode": "markers+lines",
           "name": "",
           "orientation": "v",
           "showlegend": false,
           "type": "scatter",
           "x": [
            0.08333333333333333,
            0.25,
            1,
            2,
            3,
            5,
            10,
            20,
            30
           ],
           "xaxis": "x",
           "y": [
            0.0096,
            0.0106,
            0.0124,
            0.0141,
            0.016,
            0.019299999999999998,
            0.0235,
            0.0265,
            0.0286
           ],
           "yaxis": "y"
          }
         ],
         "name": "2017-07"
        },
        {
         "data": [
          {
           "customdata": [
            [
             "2017-08"
            ],
            [
             "2017-08"
            ],
            [
             "2017-08"
            ],
            [
             "2017-08"
            ],
            [
             "2017-08"
            ],
            [
             "2017-08"
            ],
            [
             "2017-08"
            ],
            [
             "2017-08"
            ],
            [
             "2017-08"
            ]
           ],
           "hovertemplate": "date=%{customdata[0]}<br>years to maturity=%{x}<br>yield=%{y}<extra></extra>",
           "legendgroup": "",
           "line": {
            "color": "#636efa",
            "dash": "solid"
           },
           "marker": {
            "size": 10,
            "symbol": "circle"
           },
           "mode": "markers+lines",
           "name": "",
           "orientation": "v",
           "showlegend": false,
           "type": "scatter",
           "x": [
            0.08333333333333333,
            0.25,
            1,
            2,
            3,
            5,
            10,
            20,
            30
           ],
           "xaxis": "x",
           "y": [
            0.01,
            0.0108,
            0.012199999999999999,
            0.0134,
            0.015,
            0.018000000000000002,
            0.0226,
            0.026099999999999998,
            0.0286
           ],
           "yaxis": "y"
          }
         ],
         "name": "2017-08"
        },
        {
         "data": [
          {
           "customdata": [
            [
             "2017-09"
            ],
            [
             "2017-09"
            ],
            [
             "2017-09"
            ],
            [
             "2017-09"
            ],
            [
             "2017-09"
            ],
            [
             "2017-09"
            ],
            [
             "2017-09"
            ],
            [
             "2017-09"
            ],
            [
             "2017-09"
            ]
           ],
           "hovertemplate": "date=%{customdata[0]}<br>years to maturity=%{x}<br>yield=%{y}<extra></extra>",
           "legendgroup": "",
           "line": {
            "color": "#636efa",
            "dash": "solid"
           },
           "marker": {
            "size": 10,
            "symbol": "circle"
           },
           "mode": "markers+lines",
           "name": "",
           "orientation": "v",
           "showlegend": false,
           "type": "scatter",
           "x": [
            0.08333333333333333,
            0.25,
            1,
            2,
            3,
            5,
            10,
            20,
            30
           ],
           "xaxis": "x",
           "y": [
            0.0096,
            0.0102,
            0.0124,
            0.013500000000000002,
            0.0146,
            0.0173,
            0.0216,
            0.025099999999999997,
            0.0277
           ],
           "yaxis": "y"
          }
         ],
         "name": "2017-09"
        },
        {
         "data": [
          {
           "customdata": [
            [
             "2017-10"
            ],
            [
             "2017-10"
            ],
            [
             "2017-10"
            ],
            [
             "2017-10"
            ],
            [
             "2017-10"
            ],
            [
             "2017-10"
            ],
            [
             "2017-10"
            ],
            [
             "2017-10"
            ],
            [
             "2017-10"
            ]
           ],
           "hovertemplate": "date=%{customdata[0]}<br>years to maturity=%{x}<br>yield=%{y}<extra></extra>",
           "legendgroup": "",
           "line": {
            "color": "#636efa",
            "dash": "solid"
           },
           "marker": {
            "size": 10,
            "symbol": "circle"
           },
           "mode": "markers+lines",
           "name": "",
           "orientation": "v",
           "showlegend": false,
           "type": "scatter",
           "x": [
            0.08333333333333333,
            0.25,
            1,
            2,
            3,
            5,
            10,
            20,
            30
           ],
           "xaxis": "x",
           "y": [
            0.0095,
            0.0101,
            0.0131,
            0.0149,
            0.0163,
            0.0194,
            0.023399999999999997,
            0.0264,
            0.0287
           ],
           "yaxis": "y"
          }
         ],
         "name": "2017-10"
        },
        {
         "data": [
          {
           "customdata": [
            [
             "2017-11"
            ],
            [
             "2017-11"
            ],
            [
             "2017-11"
            ],
            [
             "2017-11"
            ],
            [
             "2017-11"
            ],
            [
             "2017-11"
            ],
            [
             "2017-11"
            ],
            [
             "2017-11"
            ],
            [
             "2017-11"
            ]
           ],
           "hovertemplate": "date=%{customdata[0]}<br>years to maturity=%{x}<br>yield=%{y}<extra></extra>",
           "legendgroup": "",
           "line": {
            "color": "#636efa",
            "dash": "solid"
           },
           "marker": {
            "size": 10,
            "symbol": "circle"
           },
           "mode": "markers+lines",
           "name": "",
           "orientation": "v",
           "showlegend": false,
           "type": "scatter",
           "x": [
            0.08333333333333333,
            0.25,
            1,
            2,
            3,
            5,
            10,
            20,
            30
           ],
           "xaxis": "x",
           "y": [
            0.0106,
            0.0118,
            0.0146,
            0.0161,
            0.0174,
            0.020099999999999996,
            0.023700000000000002,
            0.0263,
            0.0285
           ],
           "yaxis": "y"
          }
         ],
         "name": "2017-11"
        },
        {
         "data": [
          {
           "customdata": [
            [
             "2017-12"
            ],
            [
             "2017-12"
            ],
            [
             "2017-12"
            ],
            [
             "2017-12"
            ],
            [
             "2017-12"
            ],
            [
             "2017-12"
            ],
            [
             "2017-12"
            ],
            [
             "2017-12"
            ],
            [
             "2017-12"
            ]
           ],
           "hovertemplate": "date=%{customdata[0]}<br>years to maturity=%{x}<br>yield=%{y}<extra></extra>",
           "legendgroup": "",
           "line": {
            "color": "#636efa",
            "dash": "solid"
           },
           "marker": {
            "size": 10,
            "symbol": "circle"
           },
           "mode": "markers+lines",
           "name": "",
           "orientation": "v",
           "showlegend": false,
           "type": "scatter",
           "x": [
            0.08333333333333333,
            0.25,
            1,
            2,
            3,
            5,
            10,
            20,
            30
           ],
           "xaxis": "x",
           "y": [
            0.011399999999999999,
            0.0127,
            0.016200000000000003,
            0.0178,
            0.019,
            0.0213,
            0.023700000000000002,
            0.0258,
            0.0276
           ],
           "yaxis": "y"
          }
         ],
         "name": "2017-12"
        },
        {
         "data": [
          {
           "customdata": [
            [
             "2018-01"
            ],
            [
             "2018-01"
            ],
            [
             "2018-01"
            ],
            [
             "2018-01"
            ],
            [
             "2018-01"
            ],
            [
             "2018-01"
            ],
            [
             "2018-01"
            ],
            [
             "2018-01"
            ],
            [
             "2018-01"
            ]
           ],
           "hovertemplate": "date=%{customdata[0]}<br>years to maturity=%{x}<br>yield=%{y}<extra></extra>",
           "legendgroup": "",
           "line": {
            "color": "#636efa",
            "dash": "solid"
           },
           "marker": {
            "size": 10,
            "symbol": "circle"
           },
           "mode": "markers+lines",
           "name": "",
           "orientation": "v",
           "showlegend": false,
           "type": "scatter",
           "x": [
            0.08333333333333333,
            0.25,
            1,
            2,
            3,
            5,
            10,
            20,
            30
           ],
           "xaxis": "x",
           "y": [
            0.0129,
            0.0144,
            0.0183,
            0.0192,
            0.020099999999999996,
            0.0225,
            0.0246,
            0.0264,
            0.0281
           ],
           "yaxis": "y"
          }
         ],
         "name": "2018-01"
        },
        {
         "data": [
          {
           "customdata": [
            [
             "2018-02"
            ],
            [
             "2018-02"
            ],
            [
             "2018-02"
            ],
            [
             "2018-02"
            ],
            [
             "2018-02"
            ],
            [
             "2018-02"
            ],
            [
             "2018-02"
            ],
            [
             "2018-02"
            ],
            [
             "2018-02"
            ]
           ],
           "hovertemplate": "date=%{customdata[0]}<br>years to maturity=%{x}<br>yield=%{y}<extra></extra>",
           "legendgroup": "",
           "line": {
            "color": "#636efa",
            "dash": "solid"
           },
           "marker": {
            "size": 10,
            "symbol": "circle"
           },
           "mode": "markers+lines",
           "name": "",
           "orientation": "v",
           "showlegend": false,
           "type": "scatter",
           "x": [
            0.08333333333333333,
            0.25,
            1,
            2,
            3,
            5,
            10,
            20,
            30
           ],
           "xaxis": "x",
           "y": [
            0.0141,
            0.0148,
            0.0189,
            0.0216,
            0.0233,
            0.0256,
            0.0278,
            0.028999999999999998,
            0.0301
           ],
           "yaxis": "y"
          }
         ],
         "name": "2018-02"
        },
        {
         "data": [
          {
           "customdata": [
            [
             "2018-03"
            ],
            [
             "2018-03"
            ],
            [
             "2018-03"
            ],
            [
             "2018-03"
            ],
            [
             "2018-03"
            ],
            [
             "2018-03"
            ],
            [
             "2018-03"
            ],
            [
             "2018-03"
            ],
            [
             "2018-03"
            ]
           ],
           "hovertemplate": "date=%{customdata[0]}<br>years to maturity=%{x}<br>yield=%{y}<extra></extra>",
           "legendgroup": "",
           "line": {
            "color": "#636efa",
            "dash": "solid"
           },
           "marker": {
            "size": 10,
            "symbol": "circle"
           },
           "mode": "markers+lines",
           "name": "",
           "orientation": "v",
           "showlegend": false,
           "type": "scatter",
           "x": [
            0.08333333333333333,
            0.25,
            1,
            2,
            3,
            5,
            10,
            20,
            30
           ],
           "xaxis": "x",
           "y": [
            0.015,
            0.0163,
            0.020499999999999997,
            0.0222,
            0.0236,
            0.0258,
            0.0281,
            0.0297,
            0.030899999999999997
           ],
           "yaxis": "y"
          }
         ],
         "name": "2018-03"
        },
        {
         "data": [
          {
           "customdata": [
            [
             "2018-04"
            ],
            [
             "2018-04"
            ],
            [
             "2018-04"
            ],
            [
             "2018-04"
            ],
            [
             "2018-04"
            ],
            [
             "2018-04"
            ],
            [
             "2018-04"
            ],
            [
             "2018-04"
            ],
            [
             "2018-04"
            ]
           ],
           "hovertemplate": "date=%{customdata[0]}<br>years to maturity=%{x}<br>yield=%{y}<extra></extra>",
           "legendgroup": "",
           "line": {
            "color": "#636efa",
            "dash": "solid"
           },
           "marker": {
            "size": 10,
            "symbol": "circle"
           },
           "mode": "markers+lines",
           "name": "",
           "orientation": "v",
           "showlegend": false,
           "type": "scatter",
           "x": [
            0.08333333333333333,
            0.25,
            1,
            2,
            3,
            5,
            10,
            20,
            30
           ],
           "xaxis": "x",
           "y": [
            0.0168,
            0.0177,
            0.0208,
            0.0225,
            0.023700000000000002,
            0.0255,
            0.0273,
            0.0285,
            0.0297
           ],
           "yaxis": "y"
          }
         ],
         "name": "2018-04"
        },
        {
         "data": [
          {
           "customdata": [
            [
             "2018-05"
            ],
            [
             "2018-05"
            ],
            [
             "2018-05"
            ],
            [
             "2018-05"
            ],
            [
             "2018-05"
            ],
            [
             "2018-05"
            ],
            [
             "2018-05"
            ],
            [
             "2018-05"
            ],
            [
             "2018-05"
            ]
           ],
           "hovertemplate": "date=%{customdata[0]}<br>years to maturity=%{x}<br>yield=%{y}<extra></extra>",
           "legendgroup": "",
           "line": {
            "color": "#636efa",
            "dash": "solid"
           },
           "marker": {
            "size": 10,
            "symbol": "circle"
           },
           "mode": "markers+lines",
           "name": "",
           "orientation": "v",
           "showlegend": false,
           "type": "scatter",
           "x": [
            0.08333333333333333,
            0.25,
            1,
            2,
            3,
            5,
            10,
            20,
            30
           ],
           "xaxis": "x",
           "y": [
            0.0168,
            0.018500000000000003,
            0.0226,
            0.025,
            0.026600000000000002,
            0.0282,
            0.0297,
            0.030299999999999997,
            0.0313
           ],
           "yaxis": "y"
          }
         ],
         "name": "2018-05"
        },
        {
         "data": [
          {
           "customdata": [
            [
             "2018-06"
            ],
            [
             "2018-06"
            ],
            [
             "2018-06"
            ],
            [
             "2018-06"
            ],
            [
             "2018-06"
            ],
            [
             "2018-06"
            ],
            [
             "2018-06"
            ],
            [
             "2018-06"
            ],
            [
             "2018-06"
            ]
           ],
           "hovertemplate": "date=%{customdata[0]}<br>years to maturity=%{x}<br>yield=%{y}<extra></extra>",
           "legendgroup": "",
           "line": {
            "color": "#636efa",
            "dash": "solid"
           },
           "marker": {
            "size": 10,
            "symbol": "circle"
           },
           "mode": "markers+lines",
           "name": "",
           "orientation": "v",
           "showlegend": false,
           "type": "scatter",
           "x": [
            0.08333333333333333,
            0.25,
            1,
            2,
            3,
            5,
            10,
            20,
            30
           ],
           "xaxis": "x",
           "y": [
            0.0174,
            0.0192,
            0.022799999999999997,
            0.024700000000000003,
            0.026099999999999998,
            0.0274,
            0.028900000000000002,
            0.0296,
            0.0304
           ],
           "yaxis": "y"
          }
         ],
         "name": "2018-06"
        },
        {
         "data": [
          {
           "customdata": [
            [
             "2018-07"
            ],
            [
             "2018-07"
            ],
            [
             "2018-07"
            ],
            [
             "2018-07"
            ],
            [
             "2018-07"
            ],
            [
             "2018-07"
            ],
            [
             "2018-07"
            ],
            [
             "2018-07"
            ],
            [
             "2018-07"
            ]
           ],
           "hovertemplate": "date=%{customdata[0]}<br>years to maturity=%{x}<br>yield=%{y}<extra></extra>",
           "legendgroup": "",
           "line": {
            "color": "#636efa",
            "dash": "solid"
           },
           "marker": {
            "size": 10,
            "symbol": "circle"
           },
           "mode": "markers+lines",
           "name": "",
           "orientation": "v",
           "showlegend": false,
           "type": "scatter",
           "x": [
            0.08333333333333333,
            0.25,
            1,
            2,
            3,
            5,
            10,
            20,
            30
           ],
           "xaxis": "x",
           "y": [
            0.019,
            0.019799999999999998,
            0.023399999999999997,
            0.025699999999999997,
            0.0265,
            0.0275,
            0.0287,
            0.0292,
            0.029900000000000003
           ],
           "yaxis": "y"
          }
         ],
         "name": "2018-07"
        },
        {
         "data": [
          {
           "customdata": [
            [
             "2018-08"
            ],
            [
             "2018-08"
            ],
            [
             "2018-08"
            ],
            [
             "2018-08"
            ],
            [
             "2018-08"
            ],
            [
             "2018-08"
            ],
            [
             "2018-08"
            ],
            [
             "2018-08"
            ],
            [
             "2018-08"
            ]
           ],
           "hovertemplate": "date=%{customdata[0]}<br>years to maturity=%{x}<br>yield=%{y}<extra></extra>",
           "legendgroup": "",
           "line": {
            "color": "#636efa",
            "dash": "solid"
           },
           "marker": {
            "size": 10,
            "symbol": "circle"
           },
           "mode": "markers+lines",
           "name": "",
           "orientation": "v",
           "showlegend": false,
           "type": "scatter",
           "x": [
            0.08333333333333333,
            0.25,
            1,
            2,
            3,
            5,
            10,
            20,
            30
           ],
           "xaxis": "x",
           "y": [
            0.019299999999999998,
            0.0203,
            0.0245,
            0.026699999999999998,
            0.0278,
            0.0287,
            0.03,
            0.030699999999999998,
            0.0313
           ],
           "yaxis": "y"
          }
         ],
         "name": "2018-08"
        },
        {
         "data": [
          {
           "customdata": [
            [
             "2018-09"
            ],
            [
             "2018-09"
            ],
            [
             "2018-09"
            ],
            [
             "2018-09"
            ],
            [
             "2018-09"
            ],
            [
             "2018-09"
            ],
            [
             "2018-09"
            ],
            [
             "2018-09"
            ],
            [
             "2018-09"
            ]
           ],
           "hovertemplate": "date=%{customdata[0]}<br>years to maturity=%{x}<br>yield=%{y}<extra></extra>",
           "legendgroup": "",
           "line": {
            "color": "#636efa",
            "dash": "solid"
           },
           "marker": {
            "size": 10,
            "symbol": "circle"
           },
           "mode": "markers+lines",
           "name": "",
           "orientation": "v",
           "showlegend": false,
           "type": "scatter",
           "x": [
            0.08333333333333333,
            0.25,
            1,
            2,
            3,
            5,
            10,
            20,
            30
           ],
           "xaxis": "x",
           "y": [
            0.02,
            0.0213,
            0.024900000000000002,
            0.026600000000000002,
            0.0273,
            0.0278,
            0.028999999999999998,
            0.029900000000000003,
            0.030699999999999998
           ],
           "yaxis": "y"
          }
         ],
         "name": "2018-09"
        },
        {
         "data": [
          {
           "customdata": [
            [
             "2018-10"
            ],
            [
             "2018-10"
            ],
            [
             "2018-10"
            ],
            [
             "2018-10"
            ],
            [
             "2018-10"
            ],
            [
             "2018-10"
            ],
            [
             "2018-10"
            ],
            [
             "2018-10"
            ],
            [
             "2018-10"
            ]
           ],
           "hovertemplate": "date=%{customdata[0]}<br>years to maturity=%{x}<br>yield=%{y}<extra></extra>",
           "legendgroup": "",
           "line": {
            "color": "#636efa",
            "dash": "solid"
           },
           "marker": {
            "size": 10,
            "symbol": "circle"
           },
           "mode": "markers+lines",
           "name": "",
           "orientation": "v",
           "showlegend": false,
           "type": "scatter",
           "x": [
            0.08333333333333333,
            0.25,
            1,
            2,
            3,
            5,
            10,
            20,
            30
           ],
           "xaxis": "x",
           "y": [
            0.0213,
            0.0223,
            0.026000000000000002,
            0.0282,
            0.028999999999999998,
            0.0296,
            0.030899999999999997,
            0.0318,
            0.032400000000000005
           ],
           "yaxis": "y"
          }
         ],
         "name": "2018-10"
        },
        {
         "data": [
          {
           "customdata": [
            [
             "2018-11"
            ],
            [
             "2018-11"
            ],
            [
             "2018-11"
            ],
            [
             "2018-11"
            ],
            [
             "2018-11"
            ],
            [
             "2018-11"
            ],
            [
             "2018-11"
            ],
            [
             "2018-11"
            ],
            [
             "2018-11"
            ]
           ],
           "hovertemplate": "date=%{customdata[0]}<br>years to maturity=%{x}<br>yield=%{y}<extra></extra>",
           "legendgroup": "",
           "line": {
            "color": "#636efa",
            "dash": "solid"
           },
           "marker": {
            "size": 10,
            "symbol": "circle"
           },
           "mode": "markers+lines",
           "name": "",
           "orientation": "v",
           "showlegend": false,
           "type": "scatter",
           "x": [
            0.08333333333333333,
            0.25,
            1,
            2,
            3,
            5,
            10,
            20,
            30
           ],
           "xaxis": "x",
           "y": [
            0.022099999999999998,
            0.0232,
            0.026699999999999998,
            0.028399999999999998,
            0.0291,
            0.0296,
            0.031400000000000004,
            0.0329,
            0.0338
           ],
           "yaxis": "y"
          }
         ],
         "name": "2018-11"
        },
        {
         "data": [
          {
           "customdata": [
            [
             "2018-12"
            ],
            [
             "2018-12"
            ],
            [
             "2018-12"
            ],
            [
             "2018-12"
            ],
            [
             "2018-12"
            ],
            [
             "2018-12"
            ],
            [
             "2018-12"
            ],
            [
             "2018-12"
            ],
            [
             "2018-12"
            ]
           ],
           "hovertemplate": "date=%{customdata[0]}<br>years to maturity=%{x}<br>yield=%{y}<extra></extra>",
           "legendgroup": "",
           "line": {
            "color": "#636efa",
            "dash": "solid"
           },
           "marker": {
            "size": 10,
            "symbol": "circle"
           },
           "mode": "markers+lines",
           "name": "",
           "orientation": "v",
           "showlegend": false,
           "type": "scatter",
           "x": [
            0.08333333333333333,
            0.25,
            1,
            2,
            3,
            5,
            10,
            20,
            30
           ],
           "xaxis": "x",
           "y": [
            0.023,
            0.023799999999999998,
            0.027200000000000002,
            0.028300000000000002,
            0.028399999999999998,
            0.028300000000000002,
            0.0298,
            0.0315,
            0.0327
           ],
           "yaxis": "y"
          }
         ],
         "name": "2018-12"
        },
        {
         "data": [
          {
           "customdata": [
            [
             "2019-01"
            ],
            [
             "2019-01"
            ],
            [
             "2019-01"
            ],
            [
             "2019-01"
            ],
            [
             "2019-01"
            ],
            [
             "2019-01"
            ],
            [
             "2019-01"
            ],
            [
             "2019-01"
            ],
            [
             "2019-01"
            ]
           ],
           "hovertemplate": "date=%{customdata[0]}<br>years to maturity=%{x}<br>yield=%{y}<extra></extra>",
           "legendgroup": "",
           "line": {
            "color": "#636efa",
            "dash": "solid"
           },
           "marker": {
            "size": 10,
            "symbol": "circle"
           },
           "mode": "markers+lines",
           "name": "",
           "orientation": "v",
           "showlegend": false,
           "type": "scatter",
           "x": [
            0.08333333333333333,
            0.25,
            1,
            2,
            3,
            5,
            10,
            20,
            30
           ],
           "xaxis": "x",
           "y": [
            0.024,
            0.0242,
            0.026000000000000002,
            0.025,
            0.024700000000000003,
            0.024900000000000002,
            0.026600000000000002,
            0.028300000000000002,
            0.0297
           ],
           "yaxis": "y"
          }
         ],
         "name": "2019-01"
        },
        {
         "data": [
          {
           "customdata": [
            [
             "2019-02"
            ],
            [
             "2019-02"
            ],
            [
             "2019-02"
            ],
            [
             "2019-02"
            ],
            [
             "2019-02"
            ],
            [
             "2019-02"
            ],
            [
             "2019-02"
            ],
            [
             "2019-02"
            ],
            [
             "2019-02"
            ]
           ],
           "hovertemplate": "date=%{customdata[0]}<br>years to maturity=%{x}<br>yield=%{y}<extra></extra>",
           "legendgroup": "",
           "line": {
            "color": "#636efa",
            "dash": "solid"
           },
           "marker": {
            "size": 10,
            "symbol": "circle"
           },
           "mode": "markers+lines",
           "name": "",
           "orientation": "v",
           "showlegend": false,
           "type": "scatter",
           "x": [
            0.08333333333333333,
            0.25,
            1,
            2,
            3,
            5,
            10,
            20,
            30
           ],
           "xaxis": "x",
           "y": [
            0.0241,
            0.024,
            0.0256,
            0.0252,
            0.025,
            0.025099999999999997,
            0.027000000000000003,
            0.0288,
            0.030299999999999997
           ],
           "yaxis": "y"
          }
         ],
         "name": "2019-02"
        },
        {
         "data": [
          {
           "customdata": [
            [
             "2019-03"
            ],
            [
             "2019-03"
            ],
            [
             "2019-03"
            ],
            [
             "2019-03"
            ],
            [
             "2019-03"
            ],
            [
             "2019-03"
            ],
            [
             "2019-03"
            ],
            [
             "2019-03"
            ],
            [
             "2019-03"
            ]
           ],
           "hovertemplate": "date=%{customdata[0]}<br>years to maturity=%{x}<br>yield=%{y}<extra></extra>",
           "legendgroup": "",
           "line": {
            "color": "#636efa",
            "dash": "solid"
           },
           "marker": {
            "size": 10,
            "symbol": "circle"
           },
           "mode": "markers+lines",
           "name": "",
           "orientation": "v",
           "showlegend": false,
           "type": "scatter",
           "x": [
            0.08333333333333333,
            0.25,
            1,
            2,
            3,
            5,
            10,
            20,
            30
           ],
           "xaxis": "x",
           "y": [
            0.024399999999999998,
            0.024399999999999998,
            0.0255,
            0.0255,
            0.0254,
            0.0256,
            0.0276,
            0.0297,
            0.0313
           ],
           "yaxis": "y"
          }
         ],
         "name": "2019-03"
        },
        {
         "data": [
          {
           "customdata": [
            [
             "2019-04"
            ],
            [
             "2019-04"
            ],
            [
             "2019-04"
            ],
            [
             "2019-04"
            ],
            [
             "2019-04"
            ],
            [
             "2019-04"
            ],
            [
             "2019-04"
            ],
            [
             "2019-04"
            ],
            [
             "2019-04"
            ]
           ],
           "hovertemplate": "date=%{customdata[0]}<br>years to maturity=%{x}<br>yield=%{y}<extra></extra>",
           "legendgroup": "",
           "line": {
            "color": "#636efa",
            "dash": "solid"
           },
           "marker": {
            "size": 10,
            "symbol": "circle"
           },
           "mode": "markers+lines",
           "name": "",
           "orientation": "v",
           "showlegend": false,
           "type": "scatter",
           "x": [
            0.08333333333333333,
            0.25,
            1,
            2,
            3,
            5,
            10,
            20,
            30
           ],
           "xaxis": "x",
           "y": [
            0.0242,
            0.024300000000000002,
            0.0241,
            0.0233,
            0.0229,
            0.0231,
            0.024900000000000002,
            0.0271,
            0.028900000000000002
           ],
           "yaxis": "y"
          }
         ],
         "name": "2019-04"
        },
        {
         "data": [
          {
           "customdata": [
            [
             "2019-05"
            ],
            [
             "2019-05"
            ],
            [
             "2019-05"
            ],
            [
             "2019-05"
            ],
            [
             "2019-05"
            ],
            [
             "2019-05"
            ],
            [
             "2019-05"
            ],
            [
             "2019-05"
            ],
            [
             "2019-05"
            ]
           ],
           "hovertemplate": "date=%{customdata[0]}<br>years to maturity=%{x}<br>yield=%{y}<extra></extra>",
           "legendgroup": "",
           "line": {
            "color": "#636efa",
            "dash": "solid"
           },
           "marker": {
            "size": 10,
            "symbol": "circle"
           },
           "mode": "markers+lines",
           "name": "",
           "orientation": "v",
           "showlegend": false,
           "type": "scatter",
           "x": [
            0.08333333333333333,
            0.25,
            1,
            2,
            3,
            5,
            10,
            20,
            30
           ],
           "xaxis": "x",
           "y": [
            0.0242,
            0.024300000000000002,
            0.0239,
            0.0231,
            0.022799999999999997,
            0.0231,
            0.0252,
            0.0274,
            0.0292
           ],
           "yaxis": "y"
          }
         ],
         "name": "2019-05"
        },
        {
         "data": [
          {
           "customdata": [
            [
             "2019-06"
            ],
            [
             "2019-06"
            ],
            [
             "2019-06"
            ],
            [
             "2019-06"
            ],
            [
             "2019-06"
            ],
            [
             "2019-06"
            ],
            [
             "2019-06"
            ],
            [
             "2019-06"
            ],
            [
             "2019-06"
            ]
           ],
           "hovertemplate": "date=%{customdata[0]}<br>years to maturity=%{x}<br>yield=%{y}<extra></extra>",
           "legendgroup": "",
           "line": {
            "color": "#636efa",
            "dash": "solid"
           },
           "marker": {
            "size": 10,
            "symbol": "circle"
           },
           "mode": "markers+lines",
           "name": "",
           "orientation": "v",
           "showlegend": false,
           "type": "scatter",
           "x": [
            0.08333333333333333,
            0.25,
            1,
            2,
            3,
            5,
            10,
            20,
            30
           ],
           "xaxis": "x",
           "y": [
            0.0236,
            0.0235,
            0.021099999999999997,
            0.0182,
            0.0179,
            0.0183,
            0.0207,
            0.023399999999999997,
            0.0253
           ],
           "yaxis": "y"
          }
         ],
         "name": "2019-06"
        },
        {
         "data": [
          {
           "customdata": [
            [
             "2019-07"
            ],
            [
             "2019-07"
            ],
            [
             "2019-07"
            ],
            [
             "2019-07"
            ],
            [
             "2019-07"
            ],
            [
             "2019-07"
            ],
            [
             "2019-07"
            ],
            [
             "2019-07"
            ],
            [
             "2019-07"
            ]
           ],
           "hovertemplate": "date=%{customdata[0]}<br>years to maturity=%{x}<br>yield=%{y}<extra></extra>",
           "legendgroup": "",
           "line": {
            "color": "#636efa",
            "dash": "solid"
           },
           "marker": {
            "size": 10,
            "symbol": "circle"
           },
           "mode": "markers+lines",
           "name": "",
           "orientation": "v",
           "showlegend": false,
           "type": "scatter",
           "x": [
            0.08333333333333333,
            0.25,
            1,
            2,
            3,
            5,
            10,
            20,
            30
           ],
           "xaxis": "x",
           "y": [
            0.0217,
            0.022099999999999998,
            0.0194,
            0.0178,
            0.0174,
            0.0179,
            0.0203,
            0.023399999999999997,
            0.0255
           ],
           "yaxis": "y"
          }
         ],
         "name": "2019-07"
        },
        {
         "data": [
          {
           "customdata": [
            [
             "2019-08"
            ],
            [
             "2019-08"
            ],
            [
             "2019-08"
            ],
            [
             "2019-08"
            ],
            [
             "2019-08"
            ],
            [
             "2019-08"
            ],
            [
             "2019-08"
            ],
            [
             "2019-08"
            ],
            [
             "2019-08"
            ]
           ],
           "hovertemplate": "date=%{customdata[0]}<br>years to maturity=%{x}<br>yield=%{y}<extra></extra>",
           "legendgroup": "",
           "line": {
            "color": "#636efa",
            "dash": "solid"
           },
           "marker": {
            "size": 10,
            "symbol": "circle"
           },
           "mode": "markers+lines",
           "name": "",
           "orientation": "v",
           "showlegend": false,
           "type": "scatter",
           "x": [
            0.08333333333333333,
            0.25,
            1,
            2,
            3,
            5,
            10,
            20,
            30
           ],
           "xaxis": "x",
           "y": [
            0.021099999999999997,
            0.0207,
            0.018799999999999997,
            0.0173,
            0.0167,
            0.0168,
            0.019,
            0.022099999999999998,
            0.024399999999999998
           ],
           "yaxis": "y"
          }
         ],
         "name": "2019-08"
        },
        {
         "data": [
          {
           "customdata": [
            [
             "2019-09"
            ],
            [
             "2019-09"
            ],
            [
             "2019-09"
            ],
            [
             "2019-09"
            ],
            [
             "2019-09"
            ],
            [
             "2019-09"
            ],
            [
             "2019-09"
            ],
            [
             "2019-09"
            ],
            [
             "2019-09"
            ]
           ],
           "hovertemplate": "date=%{customdata[0]}<br>years to maturity=%{x}<br>yield=%{y}<extra></extra>",
           "legendgroup": "",
           "line": {
            "color": "#636efa",
            "dash": "solid"
           },
           "marker": {
            "size": 10,
            "symbol": "circle"
           },
           "mode": "markers+lines",
           "name": "",
           "orientation": "v",
           "showlegend": false,
           "type": "scatter",
           "x": [
            0.08333333333333333,
            0.25,
            1,
            2,
            3,
            5,
            10,
            20,
            30
           ],
           "xaxis": "x",
           "y": [
            0.0206,
            0.019799999999999998,
            0.0172,
            0.0147,
            0.0138,
            0.013500000000000002,
            0.0147,
            0.0177,
            0.0195
           ],
           "yaxis": "y"
          }
         ],
         "name": "2019-09"
        },
        {
         "data": [
          {
           "customdata": [
            [
             "2019-10"
            ],
            [
             "2019-10"
            ],
            [
             "2019-10"
            ],
            [
             "2019-10"
            ],
            [
             "2019-10"
            ],
            [
             "2019-10"
            ],
            [
             "2019-10"
            ],
            [
             "2019-10"
            ],
            [
             "2019-10"
            ]
           ],
           "hovertemplate": "date=%{customdata[0]}<br>years to maturity=%{x}<br>yield=%{y}<extra></extra>",
           "legendgroup": "",
           "line": {
            "color": "#636efa",
            "dash": "solid"
           },
           "marker": {
            "size": 10,
            "symbol": "circle"
           },
           "mode": "markers+lines",
           "name": "",
           "orientation": "v",
           "showlegend": false,
           "type": "scatter",
           "x": [
            0.08333333333333333,
            0.25,
            1,
            2,
            3,
            5,
            10,
            20,
            30
           ],
           "xaxis": "x",
           "y": [
            0.0179,
            0.0182,
            0.0173,
            0.015600000000000001,
            0.0151,
            0.0151,
            0.0165,
            0.019299999999999998,
            0.021099999999999997
           ],
           "yaxis": "y"
          }
         ],
         "name": "2019-10"
        },
        {
         "data": [
          {
           "customdata": [
            [
             "2019-11"
            ],
            [
             "2019-11"
            ],
            [
             "2019-11"
            ],
            [
             "2019-11"
            ],
            [
             "2019-11"
            ],
            [
             "2019-11"
            ],
            [
             "2019-11"
            ],
            [
             "2019-11"
            ],
            [
             "2019-11"
            ]
           ],
           "hovertemplate": "date=%{customdata[0]}<br>years to maturity=%{x}<br>yield=%{y}<extra></extra>",
           "legendgroup": "",
           "line": {
            "color": "#636efa",
            "dash": "solid"
           },
           "marker": {
            "size": 10,
            "symbol": "circle"
           },
           "mode": "markers+lines",
           "name": "",
           "orientation": "v",
           "showlegend": false,
           "type": "scatter",
           "x": [
            0.08333333333333333,
            0.25,
            1,
            2,
            3,
            5,
            10,
            20,
            30
           ],
           "xaxis": "x",
           "y": [
            0.0158,
            0.0152,
            0.015300000000000001,
            0.015600000000000001,
            0.0155,
            0.0155,
            0.0173,
            0.0203,
            0.022099999999999998
           ],
           "yaxis": "y"
          }
         ],
         "name": "2019-11"
        },
        {
         "data": [
          {
           "customdata": [
            [
             "2019-12"
            ],
            [
             "2019-12"
            ],
            [
             "2019-12"
            ],
            [
             "2019-12"
            ],
            [
             "2019-12"
            ],
            [
             "2019-12"
            ],
            [
             "2019-12"
            ],
            [
             "2019-12"
            ],
            [
             "2019-12"
            ]
           ],
           "hovertemplate": "date=%{customdata[0]}<br>years to maturity=%{x}<br>yield=%{y}<extra></extra>",
           "legendgroup": "",
           "line": {
            "color": "#636efa",
            "dash": "solid"
           },
           "marker": {
            "size": 10,
            "symbol": "circle"
           },
           "mode": "markers+lines",
           "name": "",
           "orientation": "v",
           "showlegend": false,
           "type": "scatter",
           "x": [
            0.08333333333333333,
            0.25,
            1,
            2,
            3,
            5,
            10,
            20,
            30
           ],
           "xaxis": "x",
           "y": [
            0.016,
            0.016,
            0.016,
            0.0161,
            0.0163,
            0.0165,
            0.0183,
            0.0215,
            0.022799999999999997
           ],
           "yaxis": "y"
          }
         ],
         "name": "2019-12"
        },
        {
         "data": [
          {
           "customdata": [
            [
             "2020-01"
            ],
            [
             "2020-01"
            ],
            [
             "2020-01"
            ],
            [
             "2020-01"
            ],
            [
             "2020-01"
            ],
            [
             "2020-01"
            ],
            [
             "2020-01"
            ],
            [
             "2020-01"
            ],
            [
             "2020-01"
            ]
           ],
           "hovertemplate": "date=%{customdata[0]}<br>years to maturity=%{x}<br>yield=%{y}<extra></extra>",
           "legendgroup": "",
           "line": {
            "color": "#636efa",
            "dash": "solid"
           },
           "marker": {
            "size": 10,
            "symbol": "circle"
           },
           "mode": "markers+lines",
           "name": "",
           "orientation": "v",
           "showlegend": false,
           "type": "scatter",
           "x": [
            0.08333333333333333,
            0.25,
            1,
            2,
            3,
            5,
            10,
            20,
            30
           ],
           "xaxis": "x",
           "y": [
            0.015300000000000001,
            0.0154,
            0.015600000000000001,
            0.0158,
            0.0159,
            0.0167,
            0.018799999999999997,
            0.0219,
            0.0233
           ],
           "yaxis": "y"
          }
         ],
         "name": "2020-01"
        },
        {
         "data": [
          {
           "customdata": [
            [
             "2020-02"
            ],
            [
             "2020-02"
            ],
            [
             "2020-02"
            ],
            [
             "2020-02"
            ],
            [
             "2020-02"
            ],
            [
             "2020-02"
            ],
            [
             "2020-02"
            ],
            [
             "2020-02"
            ],
            [
             "2020-02"
            ]
           ],
           "hovertemplate": "date=%{customdata[0]}<br>years to maturity=%{x}<br>yield=%{y}<extra></extra>",
           "legendgroup": "",
           "line": {
            "color": "#636efa",
            "dash": "solid"
           },
           "marker": {
            "size": 10,
            "symbol": "circle"
           },
           "mode": "markers+lines",
           "name": "",
           "orientation": "v",
           "showlegend": false,
           "type": "scatter",
           "x": [
            0.08333333333333333,
            0.25,
            1,
            2,
            3,
            5,
            10,
            20,
            30
           ],
           "xaxis": "x",
           "y": [
            0.015600000000000001,
            0.015700000000000002,
            0.0146,
            0.013600000000000001,
            0.0134,
            0.013500000000000002,
            0.0154,
            0.0184,
            0.020099999999999996
           ],
           "yaxis": "y"
          }
         ],
         "name": "2020-02"
        },
        {
         "data": [
          {
           "customdata": [
            [
             "2020-03"
            ],
            [
             "2020-03"
            ],
            [
             "2020-03"
            ],
            [
             "2020-03"
            ],
            [
             "2020-03"
            ],
            [
             "2020-03"
            ],
            [
             "2020-03"
            ],
            [
             "2020-03"
            ],
            [
             "2020-03"
            ]
           ],
           "hovertemplate": "date=%{customdata[0]}<br>years to maturity=%{x}<br>yield=%{y}<extra></extra>",
           "legendgroup": "",
           "line": {
            "color": "#636efa",
            "dash": "solid"
           },
           "marker": {
            "size": 10,
            "symbol": "circle"
           },
           "mode": "markers+lines",
           "name": "",
           "orientation": "v",
           "showlegend": false,
           "type": "scatter",
           "x": [
            0.08333333333333333,
            0.25,
            1,
            2,
            3,
            5,
            10,
            20,
            30
           ],
           "xaxis": "x",
           "y": [
            0.0141,
            0.0113,
            0.0089,
            0.0084,
            0.0085,
            0.0088,
            0.011000000000000001,
            0.0146,
            0.0166
           ],
           "yaxis": "y"
          }
         ],
         "name": "2020-03"
        },
        {
         "data": [
          {
           "customdata": [
            [
             "2020-04"
            ],
            [
             "2020-04"
            ],
            [
             "2020-04"
            ],
            [
             "2020-04"
            ],
            [
             "2020-04"
            ],
            [
             "2020-04"
            ],
            [
             "2020-04"
            ],
            [
             "2020-04"
            ],
            [
             "2020-04"
            ]
           ],
           "hovertemplate": "date=%{customdata[0]}<br>years to maturity=%{x}<br>yield=%{y}<extra></extra>",
           "legendgroup": "",
           "line": {
            "color": "#636efa",
            "dash": "solid"
           },
           "marker": {
            "size": 10,
            "symbol": "circle"
           },
           "mode": "markers+lines",
           "name": "",
           "orientation": "v",
           "showlegend": false,
           "type": "scatter",
           "x": [
            0.08333333333333333,
            0.25,
            1,
            2,
            3,
            5,
            10,
            20,
            30
           ],
           "xaxis": "x",
           "y": [
            0.0003,
            0.0009,
            0.0016,
            0.0023,
            0.0028000000000000004,
            0.0037,
            0.0062,
            0.0104,
            0.0127
           ],
           "yaxis": "y"
          }
         ],
         "name": "2020-04"
        },
        {
         "data": [
          {
           "customdata": [
            [
             "2020-05"
            ],
            [
             "2020-05"
            ],
            [
             "2020-05"
            ],
            [
             "2020-05"
            ],
            [
             "2020-05"
            ],
            [
             "2020-05"
            ],
            [
             "2020-05"
            ],
            [
             "2020-05"
            ],
            [
             "2020-05"
            ]
           ],
           "hovertemplate": "date=%{customdata[0]}<br>years to maturity=%{x}<br>yield=%{y}<extra></extra>",
           "legendgroup": "",
           "line": {
            "color": "#636efa",
            "dash": "solid"
           },
           "marker": {
            "size": 10,
            "symbol": "circle"
           },
           "mode": "markers+lines",
           "name": "",
           "orientation": "v",
           "showlegend": false,
           "type": "scatter",
           "x": [
            0.08333333333333333,
            0.25,
            1,
            2,
            3,
            5,
            10,
            20,
            30
           ],
           "xaxis": "x",
           "y": [
            0.001,
            0.0012,
            0.0017000000000000001,
            0.002,
            0.0025,
            0.0036,
            0.0064,
            0.0104,
            0.0127
           ],
           "yaxis": "y"
          }
         ],
         "name": "2020-05"
        },
        {
         "data": [
          {
           "customdata": [
            [
             "2020-06"
            ],
            [
             "2020-06"
            ],
            [
             "2020-06"
            ],
            [
             "2020-06"
            ],
            [
             "2020-06"
            ],
            [
             "2020-06"
            ],
            [
             "2020-06"
            ],
            [
             "2020-06"
            ],
            [
             "2020-06"
            ]
           ],
           "hovertemplate": "date=%{customdata[0]}<br>years to maturity=%{x}<br>yield=%{y}<extra></extra>",
           "legendgroup": "",
           "line": {
            "color": "#636efa",
            "dash": "solid"
           },
           "marker": {
            "size": 10,
            "symbol": "circle"
           },
           "mode": "markers+lines",
           "name": "",
           "orientation": "v",
           "showlegend": false,
           "type": "scatter",
           "x": [
            0.08333333333333333,
            0.25,
            1,
            2,
            3,
            5,
            10,
            20,
            30
           ],
           "xaxis": "x",
           "y": [
            0.0012,
            0.0014000000000000002,
            0.0017000000000000001,
            0.0014000000000000002,
            0.002,
            0.0031,
            0.0066,
            0.012199999999999999,
            0.0146
           ],
           "yaxis": "y"
          }
         ],
         "name": "2020-06"
        },
        {
         "data": [
          {
           "customdata": [
            [
             "2020-07"
            ],
            [
             "2020-07"
            ],
            [
             "2020-07"
            ],
            [
             "2020-07"
            ],
            [
             "2020-07"
            ],
            [
             "2020-07"
            ],
            [
             "2020-07"
            ],
            [
             "2020-07"
            ],
            [
             "2020-07"
            ]
           ],
           "hovertemplate": "date=%{customdata[0]}<br>years to maturity=%{x}<br>yield=%{y}<extra></extra>",
           "legendgroup": "",
           "line": {
            "color": "#636efa",
            "dash": "solid"
           },
           "marker": {
            "size": 10,
            "symbol": "circle"
           },
           "mode": "markers+lines",
           "name": "",
           "orientation": "v",
           "showlegend": false,
           "type": "scatter",
           "x": [
            0.08333333333333333,
            0.25,
            1,
            2,
            3,
            5,
            10,
            20,
            30
           ],
           "xaxis": "x",
           "y": [
            0.0012,
            0.0014000000000000002,
            0.0016,
            0.0017000000000000001,
            0.0019,
            0.0031,
            0.0069,
            0.012,
            0.0143
           ],
           "yaxis": "y"
          }
         ],
         "name": "2020-07"
        },
        {
         "data": [
          {
           "customdata": [
            [
             "2020-08"
            ],
            [
             "2020-08"
            ],
            [
             "2020-08"
            ],
            [
             "2020-08"
            ],
            [
             "2020-08"
            ],
            [
             "2020-08"
            ],
            [
             "2020-08"
            ],
            [
             "2020-08"
            ],
            [
             "2020-08"
            ]
           ],
           "hovertemplate": "date=%{customdata[0]}<br>years to maturity=%{x}<br>yield=%{y}<extra></extra>",
           "legendgroup": "",
           "line": {
            "color": "#636efa",
            "dash": "solid"
           },
           "marker": {
            "size": 10,
            "symbol": "circle"
           },
           "mode": "markers+lines",
           "name": "",
           "orientation": "v",
           "showlegend": false,
           "type": "scatter",
           "x": [
            0.08333333333333333,
            0.25,
            1,
            2,
            3,
            5,
            10,
            20,
            30
           ],
           "xaxis": "x",
           "y": [
            0.0009,
            0.001,
            0.0012,
            0.0011,
            0.0013,
            0.0022,
            0.005600000000000001,
            0.0101,
            0.0123
           ],
           "yaxis": "y"
          }
         ],
         "name": "2020-08"
        },
        {
         "data": [
          {
           "customdata": [
            [
             "2020-09"
            ],
            [
             "2020-09"
            ],
            [
             "2020-09"
            ],
            [
             "2020-09"
            ],
            [
             "2020-09"
            ],
            [
             "2020-09"
            ],
            [
             "2020-09"
            ],
            [
             "2020-09"
            ],
            [
             "2020-09"
            ]
           ],
           "hovertemplate": "date=%{customdata[0]}<br>years to maturity=%{x}<br>yield=%{y}<extra></extra>",
           "legendgroup": "",
           "line": {
            "color": "#636efa",
            "dash": "solid"
           },
           "marker": {
            "size": 10,
            "symbol": "circle"
           },
           "mode": "markers+lines",
           "name": "",
           "orientation": "v",
           "showlegend": false,
           "type": "scatter",
           "x": [
            0.08333333333333333,
            0.25,
            1,
            2,
            3,
            5,
            10,
            20,
            30
           ],
           "xaxis": "x",
           "y": [
            0.0009,
            0.0012,
            0.0012,
            0.0013,
            0.0014000000000000002,
            0.0026,
            0.0068000000000000005,
            0.012,
            0.0143
           ],
           "yaxis": "y"
          }
         ],
         "name": "2020-09"
        },
        {
         "data": [
          {
           "customdata": [
            [
             "2020-10"
            ],
            [
             "2020-10"
            ],
            [
             "2020-10"
            ],
            [
             "2020-10"
            ],
            [
             "2020-10"
            ],
            [
             "2020-10"
            ],
            [
             "2020-10"
            ],
            [
             "2020-10"
            ],
            [
             "2020-10"
            ]
           ],
           "hovertemplate": "date=%{customdata[0]}<br>years to maturity=%{x}<br>yield=%{y}<extra></extra>",
           "legendgroup": "",
           "line": {
            "color": "#636efa",
            "dash": "solid"
           },
           "marker": {
            "size": 10,
            "symbol": "circle"
           },
           "mode": "markers+lines",
           "name": "",
           "orientation": "v",
           "showlegend": false,
           "type": "scatter",
           "x": [
            0.08333333333333333,
            0.25,
            1,
            2,
            3,
            5,
            10,
            20,
            30
           ],
           "xaxis": "x",
           "y": [
            0.0009,
            0.0009,
            0.0012,
            0.0014000000000000002,
            0.0016,
            0.0027,
            0.0068000000000000005,
            0.0123,
            0.014499999999999999
           ],
           "yaxis": "y"
          }
         ],
         "name": "2020-10"
        },
        {
         "data": [
          {
           "customdata": [
            [
             "2020-11"
            ],
            [
             "2020-11"
            ],
            [
             "2020-11"
            ],
            [
             "2020-11"
            ],
            [
             "2020-11"
            ],
            [
             "2020-11"
            ],
            [
             "2020-11"
            ],
            [
             "2020-11"
            ],
            [
             "2020-11"
            ]
           ],
           "hovertemplate": "date=%{customdata[0]}<br>years to maturity=%{x}<br>yield=%{y}<extra></extra>",
           "legendgroup": "",
           "line": {
            "color": "#636efa",
            "dash": "solid"
           },
           "marker": {
            "size": 10,
            "symbol": "circle"
           },
           "mode": "markers+lines",
           "name": "",
           "orientation": "v",
           "showlegend": false,
           "type": "scatter",
           "x": [
            0.08333333333333333,
            0.25,
            1,
            2,
            3,
            5,
            10,
            20,
            30
           ],
           "xaxis": "x",
           "y": [
            0.0009,
            0.0009,
            0.0013,
            0.0016,
            0.002,
            0.0038,
            0.0087,
            0.0141,
            0.0163
           ],
           "yaxis": "y"
          }
         ],
         "name": "2020-11"
        },
        {
         "data": [
          {
           "customdata": [
            [
             "2020-12"
            ],
            [
             "2020-12"
            ],
            [
             "2020-12"
            ],
            [
             "2020-12"
            ],
            [
             "2020-12"
            ],
            [
             "2020-12"
            ],
            [
             "2020-12"
            ],
            [
             "2020-12"
            ],
            [
             "2020-12"
            ]
           ],
           "hovertemplate": "date=%{customdata[0]}<br>years to maturity=%{x}<br>yield=%{y}<extra></extra>",
           "legendgroup": "",
           "line": {
            "color": "#636efa",
            "dash": "solid"
           },
           "marker": {
            "size": 10,
            "symbol": "circle"
           },
           "mode": "markers+lines",
           "name": "",
           "orientation": "v",
           "showlegend": false,
           "type": "scatter",
           "x": [
            0.08333333333333333,
            0.25,
            1,
            2,
            3,
            5,
            10,
            20,
            30
           ],
           "xaxis": "x",
           "y": [
            0.0007000000000000001,
            0.0009,
            0.0012,
            0.0017000000000000001,
            0.0022,
            0.0042,
            0.0092,
            0.0146,
            0.0166
           ],
           "yaxis": "y"
          }
         ],
         "name": "2020-12"
        },
        {
         "data": [
          {
           "customdata": [
            [
             "2021-01"
            ],
            [
             "2021-01"
            ],
            [
             "2021-01"
            ],
            [
             "2021-01"
            ],
            [
             "2021-01"
            ],
            [
             "2021-01"
            ],
            [
             "2021-01"
            ],
            [
             "2021-01"
            ],
            [
             "2021-01"
            ]
           ],
           "hovertemplate": "date=%{customdata[0]}<br>years to maturity=%{x}<br>yield=%{y}<extra></extra>",
           "legendgroup": "",
           "line": {
            "color": "#636efa",
            "dash": "solid"
           },
           "marker": {
            "size": 10,
            "symbol": "circle"
           },
           "mode": "markers+lines",
           "name": "",
           "orientation": "v",
           "showlegend": false,
           "type": "scatter",
           "x": [
            0.08333333333333333,
            0.25,
            1,
            2,
            3,
            5,
            10,
            20,
            30
           ],
           "xaxis": "x",
           "y": [
            0.0009,
            0.0009,
            0.001,
            0.0011,
            0.0016,
            0.0036,
            0.009300000000000001,
            0.0146,
            0.0166
           ],
           "yaxis": "y"
          }
         ],
         "name": "2021-01"
        },
        {
         "data": [
          {
           "customdata": [
            [
             "2021-02"
            ],
            [
             "2021-02"
            ],
            [
             "2021-02"
            ],
            [
             "2021-02"
            ],
            [
             "2021-02"
            ],
            [
             "2021-02"
            ],
            [
             "2021-02"
            ],
            [
             "2021-02"
            ],
            [
             "2021-02"
            ]
           ],
           "hovertemplate": "date=%{customdata[0]}<br>years to maturity=%{x}<br>yield=%{y}<extra></extra>",
           "legendgroup": "",
           "line": {
            "color": "#636efa",
            "dash": "solid"
           },
           "marker": {
            "size": 10,
            "symbol": "circle"
           },
           "mode": "markers+lines",
           "name": "",
           "orientation": "v",
           "showlegend": false,
           "type": "scatter",
           "x": [
            0.08333333333333333,
            0.25,
            1,
            2,
            3,
            5,
            10,
            20,
            30
           ],
           "xaxis": "x",
           "y": [
            0.0006,
            0.0007000000000000001,
            0.0008,
            0.0011,
            0.0017000000000000001,
            0.0042,
            0.0109,
            0.0166,
            0.0184
           ],
           "yaxis": "y"
          }
         ],
         "name": "2021-02"
        },
        {
         "data": [
          {
           "customdata": [
            [
             "2021-03"
            ],
            [
             "2021-03"
            ],
            [
             "2021-03"
            ],
            [
             "2021-03"
            ],
            [
             "2021-03"
            ],
            [
             "2021-03"
            ],
            [
             "2021-03"
            ],
            [
             "2021-03"
            ],
            [
             "2021-03"
            ]
           ],
           "hovertemplate": "date=%{customdata[0]}<br>years to maturity=%{x}<br>yield=%{y}<extra></extra>",
           "legendgroup": "",
           "line": {
            "color": "#636efa",
            "dash": "solid"
           },
           "marker": {
            "size": 10,
            "symbol": "circle"
           },
           "mode": "markers+lines",
           "name": "",
           "orientation": "v",
           "showlegend": false,
           "type": "scatter",
           "x": [
            0.08333333333333333,
            0.25,
            1,
            2,
            3,
            5,
            10,
            20,
            30
           ],
           "xaxis": "x",
           "y": [
            0.0003,
            0.0005,
            0.0008,
            0.0013,
            0.0027,
            0.0070999999999999995,
            0.014499999999999999,
            0.021099999999999997,
            0.0223
           ],
           "yaxis": "y"
          }
         ],
         "name": "2021-03"
        },
        {
         "data": [
          {
           "customdata": [
            [
             "2021-04"
            ],
            [
             "2021-04"
            ],
            [
             "2021-04"
            ],
            [
             "2021-04"
            ],
            [
             "2021-04"
            ],
            [
             "2021-04"
            ],
            [
             "2021-04"
            ],
            [
             "2021-04"
            ],
            [
             "2021-04"
            ]
           ],
           "hovertemplate": "date=%{customdata[0]}<br>years to maturity=%{x}<br>yield=%{y}<extra></extra>",
           "legendgroup": "",
           "line": {
            "color": "#636efa",
            "dash": "solid"
           },
           "marker": {
            "size": 10,
            "symbol": "circle"
           },
           "mode": "markers+lines",
           "name": "",
           "orientation": "v",
           "showlegend": false,
           "type": "scatter",
           "x": [
            0.08333333333333333,
            0.25,
            1,
            2,
            3,
            5,
            10,
            20,
            30
           ],
           "xaxis": "x",
           "y": [
            0.0002,
            0.0002,
            0.0006,
            0.0017000000000000001,
            0.0034999999999999996,
            0.009000000000000001,
            0.0169,
            0.022400000000000003,
            0.023399999999999997
           ],
           "yaxis": "y"
          }
         ],
         "name": "2021-04"
        },
        {
         "data": [
          {
           "customdata": [
            [
             "2021-05"
            ],
            [
             "2021-05"
            ],
            [
             "2021-05"
            ],
            [
             "2021-05"
            ],
            [
             "2021-05"
            ],
            [
             "2021-05"
            ],
            [
             "2021-05"
            ],
            [
             "2021-05"
            ],
            [
             "2021-05"
            ]
           ],
           "hovertemplate": "date=%{customdata[0]}<br>years to maturity=%{x}<br>yield=%{y}<extra></extra>",
           "legendgroup": "",
           "line": {
            "color": "#636efa",
            "dash": "solid"
           },
           "marker": {
            "size": 10,
            "symbol": "circle"
           },
           "mode": "markers+lines",
           "name": "",
           "orientation": "v",
           "showlegend": false,
           "type": "scatter",
           "x": [
            0.08333333333333333,
            0.25,
            1,
            2,
            3,
            5,
            10,
            20,
            30
           ],
           "xaxis": "x",
           "y": [
            0.0002,
            0.0004,
            0.0006,
            0.0016,
            0.0033,
            0.0084,
            0.0163,
            0.0218,
            0.023
           ],
           "yaxis": "y"
          }
         ],
         "name": "2021-05"
        },
        {
         "data": [
          {
           "customdata": [
            [
             "2021-06"
            ],
            [
             "2021-06"
            ],
            [
             "2021-06"
            ],
            [
             "2021-06"
            ],
            [
             "2021-06"
            ],
            [
             "2021-06"
            ],
            [
             "2021-06"
            ],
            [
             "2021-06"
            ],
            [
             "2021-06"
            ]
           ],
           "hovertemplate": "date=%{customdata[0]}<br>years to maturity=%{x}<br>yield=%{y}<extra></extra>",
           "legendgroup": "",
           "line": {
            "color": "#636efa",
            "dash": "solid"
           },
           "marker": {
            "size": 10,
            "symbol": "circle"
           },
           "mode": "markers+lines",
           "name": "",
           "orientation": "v",
           "showlegend": false,
           "type": "scatter",
           "x": [
            0.08333333333333333,
            0.25,
            1,
            2,
            3,
            5,
            10,
            20,
            30
           ],
           "xaxis": "x",
           "y": [
            0.0001,
            0.0002,
            0.0004,
            0.0016,
            0.0031,
            0.008100000000000001,
            0.016200000000000003,
            0.0222,
            0.023
           ],
           "yaxis": "y"
          }
         ],
         "name": "2021-06"
        },
        {
         "data": [
          {
           "customdata": [
            [
             "2021-07"
            ],
            [
             "2021-07"
            ],
            [
             "2021-07"
            ],
            [
             "2021-07"
            ],
            [
             "2021-07"
            ],
            [
             "2021-07"
            ],
            [
             "2021-07"
            ],
            [
             "2021-07"
            ],
            [
             "2021-07"
            ]
           ],
           "hovertemplate": "date=%{customdata[0]}<br>years to maturity=%{x}<br>yield=%{y}<extra></extra>",
           "legendgroup": "",
           "line": {
            "color": "#636efa",
            "dash": "solid"
           },
           "marker": {
            "size": 10,
            "symbol": "circle"
           },
           "mode": "markers+lines",
           "name": "",
           "orientation": "v",
           "showlegend": false,
           "type": "scatter",
           "x": [
            0.08333333333333333,
            0.25,
            1,
            2,
            3,
            5,
            10,
            20,
            30
           ],
           "xaxis": "x",
           "y": [
            0.0005,
            0.0005,
            0.0009,
            0.0025,
            0.004699999999999999,
            0.0089,
            0.0148,
            0.020099999999999996,
            0.0207
           ],
           "yaxis": "y"
          }
         ],
         "name": "2021-07"
        },
        {
         "data": [
          {
           "customdata": [
            [
             "2021-08"
            ],
            [
             "2021-08"
            ],
            [
             "2021-08"
            ],
            [
             "2021-08"
            ],
            [
             "2021-08"
            ],
            [
             "2021-08"
            ],
            [
             "2021-08"
            ],
            [
             "2021-08"
            ],
            [
             "2021-08"
            ]
           ],
           "hovertemplate": "date=%{customdata[0]}<br>years to maturity=%{x}<br>yield=%{y}<extra></extra>",
           "legendgroup": "",
           "line": {
            "color": "#636efa",
            "dash": "solid"
           },
           "marker": {
            "size": 10,
            "symbol": "circle"
           },
           "mode": "markers+lines",
           "name": "",
           "orientation": "v",
           "showlegend": false,
           "type": "scatter",
           "x": [
            0.08333333333333333,
            0.25,
            1,
            2,
            3,
            5,
            10,
            20,
            30
           ],
           "xaxis": "x",
           "y": [
            0.0005,
            0.0005,
            0.0007000000000000001,
            0.0017000000000000001,
            0.0033,
            0.0066,
            0.012,
            0.0177,
            0.018600000000000002
           ],
           "yaxis": "y"
          }
         ],
         "name": "2021-08"
        },
        {
         "data": [
          {
           "customdata": [
            [
             "2021-09"
            ],
            [
             "2021-09"
            ],
            [
             "2021-09"
            ],
            [
             "2021-09"
            ],
            [
             "2021-09"
            ],
            [
             "2021-09"
            ],
            [
             "2021-09"
            ],
            [
             "2021-09"
            ],
            [
             "2021-09"
            ]
           ],
           "hovertemplate": "date=%{customdata[0]}<br>years to maturity=%{x}<br>yield=%{y}<extra></extra>",
           "legendgroup": "",
           "line": {
            "color": "#636efa",
            "dash": "solid"
           },
           "marker": {
            "size": 10,
            "symbol": "circle"
           },
           "mode": "markers+lines",
           "name": "",
           "orientation": "v",
           "showlegend": false,
           "type": "scatter",
           "x": [
            0.08333333333333333,
            0.25,
            1,
            2,
            3,
            5,
            10,
            20,
            30
           ],
           "xaxis": "x",
           "y": [
            0.0004,
            0.0005,
            0.0007000000000000001,
            0.002,
            0.0042,
            0.0078000000000000005,
            0.0131,
            0.0184,
            0.0192
           ],
           "yaxis": "y"
          }
         ],
         "name": "2021-09"
        },
        {
         "data": [
          {
           "customdata": [
            [
             "2021-10"
            ],
            [
             "2021-10"
            ],
            [
             "2021-10"
            ],
            [
             "2021-10"
            ],
            [
             "2021-10"
            ],
            [
             "2021-10"
            ],
            [
             "2021-10"
            ],
            [
             "2021-10"
            ],
            [
             "2021-10"
            ]
           ],
           "hovertemplate": "date=%{customdata[0]}<br>years to maturity=%{x}<br>yield=%{y}<extra></extra>",
           "legendgroup": "",
           "line": {
            "color": "#636efa",
            "dash": "solid"
           },
           "marker": {
            "size": 10,
            "symbol": "circle"
           },
           "mode": "markers+lines",
           "name": "",
           "orientation": "v",
           "showlegend": false,
           "type": "scatter",
           "x": [
            0.08333333333333333,
            0.25,
            1,
            2,
            3,
            5,
            10,
            20,
            30
           ],
           "xaxis": "x",
           "y": [
            0.0008,
            0.0004,
            0.0009,
            0.0027,
            0.0049,
            0.009300000000000001,
            0.0148,
            0.0199,
            0.0204
           ],
           "yaxis": "y"
          }
         ],
         "name": "2021-10"
        },
        {
         "data": [
          {
           "customdata": [
            [
             "2021-11"
            ],
            [
             "2021-11"
            ],
            [
             "2021-11"
            ],
            [
             "2021-11"
            ],
            [
             "2021-11"
            ],
            [
             "2021-11"
            ],
            [
             "2021-11"
            ],
            [
             "2021-11"
            ],
            [
             "2021-11"
            ]
           ],
           "hovertemplate": "date=%{customdata[0]}<br>years to maturity=%{x}<br>yield=%{y}<extra></extra>",
           "legendgroup": "",
           "line": {
            "color": "#636efa",
            "dash": "solid"
           },
           "marker": {
            "size": 10,
            "symbol": "circle"
           },
           "mode": "markers+lines",
           "name": "",
           "orientation": "v",
           "showlegend": false,
           "type": "scatter",
           "x": [
            0.08333333333333333,
            0.25,
            1,
            2,
            3,
            5,
            10,
            20,
            30
           ],
           "xaxis": "x",
           "y": [
            0.0005,
            0.0005,
            0.0015,
            0.005,
            0.0079,
            0.012,
            0.0158,
            0.020099999999999996,
            0.019799999999999998
           ],
           "yaxis": "y"
          }
         ],
         "name": "2021-11"
        },
        {
         "data": [
          {
           "customdata": [
            [
             "2021-12"
            ],
            [
             "2021-12"
            ],
            [
             "2021-12"
            ],
            [
             "2021-12"
            ],
            [
             "2021-12"
            ],
            [
             "2021-12"
            ],
            [
             "2021-12"
            ],
            [
             "2021-12"
            ],
            [
             "2021-12"
            ]
           ],
           "hovertemplate": "date=%{customdata[0]}<br>years to maturity=%{x}<br>yield=%{y}<extra></extra>",
           "legendgroup": "",
           "line": {
            "color": "#636efa",
            "dash": "solid"
           },
           "marker": {
            "size": 10,
            "symbol": "circle"
           },
           "mode": "markers+lines",
           "name": "",
           "orientation": "v",
           "showlegend": false,
           "type": "scatter",
           "x": [
            0.08333333333333333,
            0.25,
            1,
            2,
            3,
            5,
            10,
            20,
            30
           ],
           "xaxis": "x",
           "y": [
            0.0009,
            0.0006,
            0.0025,
            0.005600000000000001,
            0.0085,
            0.0115,
            0.0143,
            0.0184,
            0.0177
           ],
           "yaxis": "y"
          }
         ],
         "name": "2021-12"
        },
        {
         "data": [
          {
           "customdata": [
            [
             "2022-01"
            ],
            [
             "2022-01"
            ],
            [
             "2022-01"
            ],
            [
             "2022-01"
            ],
            [
             "2022-01"
            ],
            [
             "2022-01"
            ],
            [
             "2022-01"
            ],
            [
             "2022-01"
            ],
            [
             "2022-01"
            ]
           ],
           "hovertemplate": "date=%{customdata[0]}<br>years to maturity=%{x}<br>yield=%{y}<extra></extra>",
           "legendgroup": "",
           "line": {
            "color": "#636efa",
            "dash": "solid"
           },
           "marker": {
            "size": 10,
            "symbol": "circle"
           },
           "mode": "markers+lines",
           "name": "",
           "orientation": "v",
           "showlegend": false,
           "type": "scatter",
           "x": [
            0.08333333333333333,
            0.25,
            1,
            2,
            3,
            5,
            10,
            20,
            30
           ],
           "xaxis": "x",
           "y": [
            0.0005,
            0.0008,
            0.004,
            0.0078000000000000005,
            0.0104,
            0.0137,
            0.0163,
            0.020499999999999997,
            0.020099999999999996
           ],
           "yaxis": "y"
          }
         ],
         "name": "2022-01"
        },
        {
         "data": [
          {
           "customdata": [
            [
             "2022-02"
            ],
            [
             "2022-02"
            ],
            [
             "2022-02"
            ],
            [
             "2022-02"
            ],
            [
             "2022-02"
            ],
            [
             "2022-02"
            ],
            [
             "2022-02"
            ],
            [
             "2022-02"
            ],
            [
             "2022-02"
            ]
           ],
           "hovertemplate": "date=%{customdata[0]}<br>years to maturity=%{x}<br>yield=%{y}<extra></extra>",
           "legendgroup": "",
           "line": {
            "color": "#636efa",
            "dash": "solid"
           },
           "marker": {
            "size": 10,
            "symbol": "circle"
           },
           "mode": "markers+lines",
           "name": "",
           "orientation": "v",
           "showlegend": false,
           "type": "scatter",
           "x": [
            0.08333333333333333,
            0.25,
            1,
            2,
            3,
            5,
            10,
            20,
            30
           ],
           "xaxis": "x",
           "y": [
            0.0004,
            0.0019,
            0.0078000000000000005,
            0.0118,
            0.0139,
            0.0163,
            0.0181,
            0.0219,
            0.0212
           ],
           "yaxis": "y"
          }
         ],
         "name": "2022-02"
        },
        {
         "data": [
          {
           "customdata": [
            [
             "2022-03"
            ],
            [
             "2022-03"
            ],
            [
             "2022-03"
            ],
            [
             "2022-03"
            ],
            [
             "2022-03"
            ],
            [
             "2022-03"
            ],
            [
             "2022-03"
            ],
            [
             "2022-03"
            ],
            [
             "2022-03"
            ]
           ],
           "hovertemplate": "date=%{customdata[0]}<br>years to maturity=%{x}<br>yield=%{y}<extra></extra>",
           "legendgroup": "",
           "line": {
            "color": "#636efa",
            "dash": "solid"
           },
           "marker": {
            "size": 10,
            "symbol": "circle"
           },
           "mode": "markers+lines",
           "name": "",
           "orientation": "v",
           "showlegend": false,
           "type": "scatter",
           "x": [
            0.08333333333333333,
            0.25,
            1,
            2,
            3,
            5,
            10,
            20,
            30
           ],
           "xaxis": "x",
           "y": [
            0.0011,
            0.0032,
            0.0091,
            0.0131,
            0.0147,
            0.015600000000000001,
            0.0172,
            0.0219,
            0.021099999999999997
           ],
           "yaxis": "y"
          }
         ],
         "name": "2022-03"
        },
        {
         "data": [
          {
           "customdata": [
            [
             "2022-04"
            ],
            [
             "2022-04"
            ],
            [
             "2022-04"
            ],
            [
             "2022-04"
            ],
            [
             "2022-04"
            ],
            [
             "2022-04"
            ],
            [
             "2022-04"
            ],
            [
             "2022-04"
            ],
            [
             "2022-04"
            ]
           ],
           "hovertemplate": "date=%{customdata[0]}<br>years to maturity=%{x}<br>yield=%{y}<extra></extra>",
           "legendgroup": "",
           "line": {
            "color": "#636efa",
            "dash": "solid"
           },
           "marker": {
            "size": 10,
            "symbol": "circle"
           },
           "mode": "markers+lines",
           "name": "",
           "orientation": "v",
           "showlegend": false,
           "type": "scatter",
           "x": [
            0.08333333333333333,
            0.25,
            1,
            2,
            3,
            5,
            10,
            20,
            30
           ],
           "xaxis": "x",
           "y": [
            0.0015,
            0.0053,
            0.0172,
            0.024399999999999998,
            0.026099999999999998,
            0.0255,
            0.0239,
            0.026000000000000002,
            0.024399999999999998
           ],
           "yaxis": "y"
          }
         ],
         "name": "2022-04"
        },
        {
         "data": [
          {
           "customdata": [
            [
             "2022-05"
            ],
            [
             "2022-05"
            ],
            [
             "2022-05"
            ],
            [
             "2022-05"
            ],
            [
             "2022-05"
            ],
            [
             "2022-05"
            ],
            [
             "2022-05"
            ],
            [
             "2022-05"
            ],
            [
             "2022-05"
            ]
           ],
           "hovertemplate": "date=%{customdata[0]}<br>years to maturity=%{x}<br>yield=%{y}<extra></extra>",
           "legendgroup": "",
           "line": {
            "color": "#636efa",
            "dash": "solid"
           },
           "marker": {
            "size": 10,
            "symbol": "circle"
           },
           "mode": "markers+lines",
           "name": "",
           "orientation": "v",
           "showlegend": false,
           "type": "scatter",
           "x": [
            0.08333333333333333,
            0.25,
            1,
            2,
            3,
            5,
            10,
            20,
            30
           ],
           "xaxis": "x",
           "y": [
            0.0040999999999999995,
            0.009000000000000001,
            0.021,
            0.0273,
            0.029300000000000003,
            0.0301,
            0.029900000000000003,
            0.0326,
            0.030699999999999998
           ],
           "yaxis": "y"
          }
         ],
         "name": "2022-05"
        },
        {
         "data": [
          {
           "customdata": [
            [
             "2022-06"
            ],
            [
             "2022-06"
            ],
            [
             "2022-06"
            ],
            [
             "2022-06"
            ],
            [
             "2022-06"
            ],
            [
             "2022-06"
            ],
            [
             "2022-06"
            ],
            [
             "2022-06"
            ],
            [
             "2022-06"
            ]
           ],
           "hovertemplate": "date=%{customdata[0]}<br>years to maturity=%{x}<br>yield=%{y}<extra></extra>",
           "legendgroup": "",
           "line": {
            "color": "#636efa",
            "dash": "solid"
           },
           "marker": {
            "size": 10,
            "symbol": "circle"
           },
           "mode": "markers+lines",
           "name": "",
           "orientation": "v",
           "showlegend": false,
           "type": "scatter",
           "x": [
            0.08333333333333333,
            0.25,
            1,
            2,
            3,
            5,
            10,
            20,
            30
           ],
           "xaxis": "x",
           "y": [
            0.0077,
            0.0115,
            0.0216,
            0.026600000000000002,
            0.028399999999999998,
            0.0294,
            0.0294,
            0.0331,
            0.030899999999999997
           ],
           "yaxis": "y"
          }
         ],
         "name": "2022-06"
        },
        {
         "data": [
          {
           "customdata": [
            [
             "2022-07"
            ],
            [
             "2022-07"
            ],
            [
             "2022-07"
            ],
            [
             "2022-07"
            ],
            [
             "2022-07"
            ],
            [
             "2022-07"
            ],
            [
             "2022-07"
            ],
            [
             "2022-07"
            ],
            [
             "2022-07"
            ]
           ],
           "hovertemplate": "date=%{customdata[0]}<br>years to maturity=%{x}<br>yield=%{y}<extra></extra>",
           "legendgroup": "",
           "line": {
            "color": "#636efa",
            "dash": "solid"
           },
           "marker": {
            "size": 10,
            "symbol": "circle"
           },
           "mode": "markers+lines",
           "name": "",
           "orientation": "v",
           "showlegend": false,
           "type": "scatter",
           "x": [
            0.08333333333333333,
            0.25,
            1,
            2,
            3,
            5,
            10,
            20,
            30
           ],
           "xaxis": "x",
           "y": [
            0.0127,
            0.0173,
            0.0279,
            0.028399999999999998,
            0.0285,
            0.0288,
            0.0288,
            0.0335,
            0.0311
           ],
           "yaxis": "y"
          }
         ],
         "name": "2022-07"
        },
        {
         "data": [
          {
           "customdata": [
            [
             "2022-08"
            ],
            [
             "2022-08"
            ],
            [
             "2022-08"
            ],
            [
             "2022-08"
            ],
            [
             "2022-08"
            ],
            [
             "2022-08"
            ],
            [
             "2022-08"
            ],
            [
             "2022-08"
            ],
            [
             "2022-08"
            ]
           ],
           "hovertemplate": "date=%{customdata[0]}<br>years to maturity=%{x}<br>yield=%{y}<extra></extra>",
           "legendgroup": "",
           "line": {
            "color": "#636efa",
            "dash": "solid"
           },
           "marker": {
            "size": 10,
            "symbol": "circle"
           },
           "mode": "markers+lines",
           "name": "",
           "orientation": "v",
           "showlegend": false,
           "type": "scatter",
           "x": [
            0.08333333333333333,
            0.25,
            1,
            2,
            3,
            5,
            10,
            20,
            30
           ],
           "xaxis": "x",
           "y": [
            0.0222,
            0.0256,
            0.0298,
            0.028999999999999998,
            0.0282,
            0.026600000000000002,
            0.026000000000000002,
            0.031200000000000002,
            0.0292
           ],
           "yaxis": "y"
          }
         ],
         "name": "2022-08"
        },
        {
         "data": [
          {
           "customdata": [
            [
             "2022-09"
            ],
            [
             "2022-09"
            ],
            [
             "2022-09"
            ],
            [
             "2022-09"
            ],
            [
             "2022-09"
            ],
            [
             "2022-09"
            ],
            [
             "2022-09"
            ],
            [
             "2022-09"
            ],
            [
             "2022-09"
            ]
           ],
           "hovertemplate": "date=%{customdata[0]}<br>years to maturity=%{x}<br>yield=%{y}<extra></extra>",
           "legendgroup": "",
           "line": {
            "color": "#636efa",
            "dash": "solid"
           },
           "marker": {
            "size": 10,
            "symbol": "circle"
           },
           "mode": "markers+lines",
           "name": "",
           "orientation": "v",
           "showlegend": false,
           "type": "scatter",
           "x": [
            0.08333333333333333,
            0.25,
            1,
            2,
            3,
            5,
            10,
            20,
            30
           ],
           "xaxis": "x",
           "y": [
            0.0253,
            0.0297,
            0.0351,
            0.0351,
            0.0354,
            0.0339,
            0.0326,
            0.0364,
            0.0337
           ],
           "yaxis": "y"
          }
         ],
         "name": "2022-09"
        },
        {
         "data": [
          {
           "customdata": [
            [
             "2022-10"
            ],
            [
             "2022-10"
            ],
            [
             "2022-10"
            ],
            [
             "2022-10"
            ],
            [
             "2022-10"
            ],
            [
             "2022-10"
            ],
            [
             "2022-10"
            ],
            [
             "2022-10"
            ],
            [
             "2022-10"
            ]
           ],
           "hovertemplate": "date=%{customdata[0]}<br>years to maturity=%{x}<br>yield=%{y}<extra></extra>",
           "legendgroup": "",
           "line": {
            "color": "#636efa",
            "dash": "solid"
           },
           "marker": {
            "size": 10,
            "symbol": "circle"
           },
           "mode": "markers+lines",
           "name": "",
           "orientation": "v",
           "showlegend": false,
           "type": "scatter",
           "x": [
            0.08333333333333333,
            0.25,
            1,
            2,
            3,
            5,
            10,
            20,
            30
           ],
           "xaxis": "x",
           "y": [
            0.0287,
            0.0346,
            0.0401,
            0.0412,
            0.0412,
            0.039,
            0.036699999999999997,
            0.04,
            0.0373
           ],
           "yaxis": "y"
          }
         ],
         "name": "2022-10"
        },
        {
         "data": [
          {
           "customdata": [
            [
             "2022-11"
            ],
            [
             "2022-11"
            ],
            [
             "2022-11"
            ],
            [
             "2022-11"
            ],
            [
             "2022-11"
            ],
            [
             "2022-11"
            ],
            [
             "2022-11"
            ],
            [
             "2022-11"
            ],
            [
             "2022-11"
            ]
           ],
           "hovertemplate": "date=%{customdata[0]}<br>years to maturity=%{x}<br>yield=%{y}<extra></extra>",
           "legendgroup": "",
           "line": {
            "color": "#636efa",
            "dash": "solid"
           },
           "marker": {
            "size": 10,
            "symbol": "circle"
           },
           "mode": "markers+lines",
           "name": "",
           "orientation": "v",
           "showlegend": false,
           "type": "scatter",
           "x": [
            0.08333333333333333,
            0.25,
            1,
            2,
            3,
            5,
            10,
            20,
            30
           ],
           "xaxis": "x",
           "y": [
            0.037200000000000004,
            0.042300000000000004,
            0.0475,
            0.0454,
            0.044800000000000006,
            0.042699999999999995,
            0.0407,
            0.0437,
            0.0414
           ],
           "yaxis": "y"
          }
         ],
         "name": "2022-11"
        },
        {
         "data": [
          {
           "customdata": [
            [
             "2022-12"
            ],
            [
             "2022-12"
            ],
            [
             "2022-12"
            ],
            [
             "2022-12"
            ],
            [
             "2022-12"
            ],
            [
             "2022-12"
            ],
            [
             "2022-12"
            ],
            [
             "2022-12"
            ],
            [
             "2022-12"
            ]
           ],
           "hovertemplate": "date=%{customdata[0]}<br>years to maturity=%{x}<br>yield=%{y}<extra></extra>",
           "legendgroup": "",
           "line": {
            "color": "#636efa",
            "dash": "solid"
           },
           "marker": {
            "size": 10,
            "symbol": "circle"
           },
           "mode": "markers+lines",
           "name": "",
           "orientation": "v",
           "showlegend": false,
           "type": "scatter",
           "x": [
            0.08333333333333333,
            0.25,
            1,
            2,
            3,
            5,
            10,
            20,
            30
           ],
           "xaxis": "x",
           "y": [
            0.0404,
            0.0433,
            0.0466,
            0.0425,
            0.0398,
            0.0368,
            0.0353,
            0.0385,
            0.0364
           ],
           "yaxis": "y"
          }
         ],
         "name": "2022-12"
        },
        {
         "data": [
          {
           "customdata": [
            [
             "2023-01"
            ],
            [
             "2023-01"
            ],
            [
             "2023-01"
            ],
            [
             "2023-01"
            ],
            [
             "2023-01"
            ],
            [
             "2023-01"
            ],
            [
             "2023-01"
            ],
            [
             "2023-01"
            ],
            [
             "2023-01"
            ]
           ],
           "hovertemplate": "date=%{customdata[0]}<br>years to maturity=%{x}<br>yield=%{y}<extra></extra>",
           "legendgroup": "",
           "line": {
            "color": "#636efa",
            "dash": "solid"
           },
           "marker": {
            "size": 10,
            "symbol": "circle"
           },
           "mode": "markers+lines",
           "name": "",
           "orientation": "v",
           "showlegend": false,
           "type": "scatter",
           "x": [
            0.08333333333333333,
            0.25,
            1,
            2,
            3,
            5,
            10,
            20,
            30
           ],
           "xaxis": "x",
           "y": [
            0.0417,
            0.0453,
            0.0472,
            0.044000000000000004,
            0.0418,
            0.0394,
            0.0379,
            0.0406,
            0.0388
           ],
           "yaxis": "y"
          }
         ],
         "name": "2023-01"
        },
        {
         "data": [
          {
           "customdata": [
            [
             "2023-02"
            ],
            [
             "2023-02"
            ],
            [
             "2023-02"
            ],
            [
             "2023-02"
            ],
            [
             "2023-02"
            ],
            [
             "2023-02"
            ],
            [
             "2023-02"
            ],
            [
             "2023-02"
            ],
            [
             "2023-02"
            ]
           ],
           "hovertemplate": "date=%{customdata[0]}<br>years to maturity=%{x}<br>yield=%{y}<extra></extra>",
           "legendgroup": "",
           "line": {
            "color": "#636efa",
            "dash": "solid"
           },
           "marker": {
            "size": 10,
            "symbol": "circle"
           },
           "mode": "markers+lines",
           "name": "",
           "orientation": "v",
           "showlegend": false,
           "type": "scatter",
           "x": [
            0.08333333333333333,
            0.25,
            1,
            2,
            3,
            5,
            10,
            20,
            30
           ],
           "xaxis": "x",
           "y": [
            0.045899999999999996,
            0.0466,
            0.0466,
            0.0409,
            0.0375,
            0.0348,
            0.0339,
            0.036699999999999997,
            0.0355
           ],
           "yaxis": "y"
          }
         ],
         "name": "2023-02"
        },
        {
         "data": [
          {
           "customdata": [
            [
             "2023-03"
            ],
            [
             "2023-03"
            ],
            [
             "2023-03"
            ],
            [
             "2023-03"
            ],
            [
             "2023-03"
            ],
            [
             "2023-03"
            ],
            [
             "2023-03"
            ],
            [
             "2023-03"
            ],
            [
             "2023-03"
            ]
           ],
           "hovertemplate": "date=%{customdata[0]}<br>years to maturity=%{x}<br>yield=%{y}<extra></extra>",
           "legendgroup": "",
           "line": {
            "color": "#636efa",
            "dash": "solid"
           },
           "marker": {
            "size": 10,
            "symbol": "circle"
           },
           "mode": "markers+lines",
           "name": "",
           "orientation": "v",
           "showlegend": false,
           "type": "scatter",
           "x": [
            0.08333333333333333,
            0.25,
            1,
            2,
            3,
            5,
            10,
            20,
            30
           ],
           "xaxis": "x",
           "y": [
            0.0467,
            0.049,
            0.0506,
            0.0489,
            0.0461,
            0.042699999999999995,
            0.0401,
            0.0417,
            0.0397
           ],
           "yaxis": "y"
          }
         ],
         "name": "2023-03"
        },
        {
         "data": [
          {
           "customdata": [
            [
             "2023-04"
            ],
            [
             "2023-04"
            ],
            [
             "2023-04"
            ],
            [
             "2023-04"
            ],
            [
             "2023-04"
            ],
            [
             "2023-04"
            ],
            [
             "2023-04"
            ],
            [
             "2023-04"
            ],
            [
             "2023-04"
            ]
           ],
           "hovertemplate": "date=%{customdata[0]}<br>years to maturity=%{x}<br>yield=%{y}<extra></extra>",
           "legendgroup": "",
           "line": {
            "color": "#636efa",
            "dash": "solid"
           },
           "marker": {
            "size": 10,
            "symbol": "circle"
           },
           "mode": "markers+lines",
           "name": "",
           "orientation": "v",
           "showlegend": false,
           "type": "scatter",
           "x": [
            0.08333333333333333,
            0.25,
            1,
            2,
            3,
            5,
            10,
            20,
            30
           ],
           "xaxis": "x",
           "y": [
            0.047,
            0.049,
            0.046,
            0.0397,
            0.0373,
            0.0352,
            0.034300000000000004,
            0.0378,
            0.0364
           ],
           "yaxis": "y"
          }
         ],
         "name": "2023-04"
        },
        {
         "data": [
          {
           "customdata": [
            [
             "2023-05"
            ],
            [
             "2023-05"
            ],
            [
             "2023-05"
            ],
            [
             "2023-05"
            ],
            [
             "2023-05"
            ],
            [
             "2023-05"
            ],
            [
             "2023-05"
            ],
            [
             "2023-05"
            ],
            [
             "2023-05"
            ]
           ],
           "hovertemplate": "date=%{customdata[0]}<br>years to maturity=%{x}<br>yield=%{y}<extra></extra>",
           "legendgroup": "",
           "line": {
            "color": "#636efa",
            "dash": "solid"
           },
           "marker": {
            "size": 10,
            "symbol": "circle"
           },
           "mode": "markers+lines",
           "name": "",
           "orientation": "v",
           "showlegend": false,
           "type": "scatter",
           "x": [
            0.08333333333333333,
            0.25,
            1,
            2,
            3,
            5,
            10,
            20,
            30
           ],
           "xaxis": "x",
           "y": [
            0.0449,
            0.0527,
            0.048600000000000004,
            0.0414,
            0.0385,
            0.0364,
            0.0359,
            0.0395,
            0.0384
           ],
           "yaxis": "y"
          }
         ],
         "name": "2023-05"
        },
        {
         "data": [
          {
           "customdata": [
            [
             "2023-06"
            ],
            [
             "2023-06"
            ],
            [
             "2023-06"
            ],
            [
             "2023-06"
            ],
            [
             "2023-06"
            ],
            [
             "2023-06"
            ],
            [
             "2023-06"
            ],
            [
             "2023-06"
            ],
            [
             "2023-06"
            ]
           ],
           "hovertemplate": "date=%{customdata[0]}<br>years to maturity=%{x}<br>yield=%{y}<extra></extra>",
           "legendgroup": "",
           "line": {
            "color": "#636efa",
            "dash": "solid"
           },
           "marker": {
            "size": 10,
            "symbol": "circle"
           },
           "mode": "markers+lines",
           "name": "",
           "orientation": "v",
           "showlegend": false,
           "type": "scatter",
           "x": [
            0.08333333333333333,
            0.25,
            1,
            2,
            3,
            5,
            10,
            20,
            30
           ],
           "xaxis": "x",
           "y": [
            0.053,
            0.055,
            0.051100000000000007,
            0.0433,
            0.0398,
            0.037000000000000005,
            0.0361,
            0.0398,
            0.0384
           ],
           "yaxis": "y"
          }
         ],
         "name": "2023-06"
        },
        {
         "data": [
          {
           "customdata": [
            [
             "2023-07"
            ],
            [
             "2023-07"
            ],
            [
             "2023-07"
            ],
            [
             "2023-07"
            ],
            [
             "2023-07"
            ],
            [
             "2023-07"
            ],
            [
             "2023-07"
            ],
            [
             "2023-07"
            ],
            [
             "2023-07"
            ]
           ],
           "hovertemplate": "date=%{customdata[0]}<br>years to maturity=%{x}<br>yield=%{y}<extra></extra>",
           "legendgroup": "",
           "line": {
            "color": "#636efa",
            "dash": "solid"
           },
           "marker": {
            "size": 10,
            "symbol": "circle"
           },
           "mode": "markers+lines",
           "name": "",
           "orientation": "v",
           "showlegend": false,
           "type": "scatter",
           "x": [
            0.08333333333333333,
            0.25,
            1,
            2,
            3,
            5,
            10,
            20,
            30
           ],
           "xaxis": "x",
           "y": [
            0.0527,
            0.054400000000000004,
            0.054299999999999994,
            0.049400000000000006,
            0.045599999999999995,
            0.04190000000000001,
            0.038599999999999995,
            0.0408,
            0.0387
           ],
           "yaxis": "y"
          }
         ],
         "name": "2023-07"
        },
        {
         "data": [
          {
           "customdata": [
            [
             "2023-08"
            ],
            [
             "2023-08"
            ],
            [
             "2023-08"
            ],
            [
             "2023-08"
            ],
            [
             "2023-08"
            ],
            [
             "2023-08"
            ],
            [
             "2023-08"
            ],
            [
             "2023-08"
            ],
            [
             "2023-08"
            ]
           ],
           "hovertemplate": "date=%{customdata[0]}<br>years to maturity=%{x}<br>yield=%{y}<extra></extra>",
           "legendgroup": "",
           "line": {
            "color": "#636efa",
            "dash": "solid"
           },
           "marker": {
            "size": 10,
            "symbol": "circle"
           },
           "mode": "markers+lines",
           "name": "",
           "orientation": "v",
           "showlegend": false,
           "type": "scatter",
           "x": [
            0.08333333333333333,
            0.25,
            1,
            2,
            3,
            5,
            10,
            20,
            30
           ],
           "xaxis": "x",
           "y": [
            0.054900000000000004,
            0.0554,
            0.0538,
            0.0492,
            0.045700000000000005,
            0.0424,
            0.0405,
            0.043,
            0.041100000000000005
           ],
           "yaxis": "y"
          }
         ],
         "name": "2023-08"
        },
        {
         "data": [
          {
           "customdata": [
            [
             "2023-09"
            ],
            [
             "2023-09"
            ],
            [
             "2023-09"
            ],
            [
             "2023-09"
            ],
            [
             "2023-09"
            ],
            [
             "2023-09"
            ],
            [
             "2023-09"
            ],
            [
             "2023-09"
            ],
            [
             "2023-09"
            ]
           ],
           "hovertemplate": "date=%{customdata[0]}<br>years to maturity=%{x}<br>yield=%{y}<extra></extra>",
           "legendgroup": "",
           "line": {
            "color": "#636efa",
            "dash": "solid"
           },
           "marker": {
            "size": 10,
            "symbol": "circle"
           },
           "mode": "markers+lines",
           "name": "",
           "orientation": "v",
           "showlegend": false,
           "type": "scatter",
           "x": [
            0.08333333333333333,
            0.25,
            1,
            2,
            3,
            5,
            10,
            20,
            30
           ],
           "xaxis": "x",
           "y": [
            0.055099999999999996,
            0.0553,
            0.0536,
            0.0487,
            0.045700000000000005,
            0.0429,
            0.0418,
            0.044800000000000006,
            0.0429
           ],
           "yaxis": "y"
          }
         ],
         "name": "2023-09"
        },
        {
         "data": [
          {
           "customdata": [
            [
             "2023-10"
            ],
            [
             "2023-10"
            ],
            [
             "2023-10"
            ],
            [
             "2023-10"
            ],
            [
             "2023-10"
            ],
            [
             "2023-10"
            ],
            [
             "2023-10"
            ],
            [
             "2023-10"
            ],
            [
             "2023-10"
            ]
           ],
           "hovertemplate": "date=%{customdata[0]}<br>years to maturity=%{x}<br>yield=%{y}<extra></extra>",
           "legendgroup": "",
           "line": {
            "color": "#636efa",
            "dash": "solid"
           },
           "marker": {
            "size": 10,
            "symbol": "circle"
           },
           "mode": "markers+lines",
           "name": "",
           "orientation": "v",
           "showlegend": false,
           "type": "scatter",
           "x": [
            0.08333333333333333,
            0.25,
            1,
            2,
            3,
            5,
            10,
            20,
            30
           ],
           "xaxis": "x",
           "y": [
            0.0556,
            0.0562,
            0.054900000000000004,
            0.0512,
            0.048799999999999996,
            0.0472,
            0.046900000000000004,
            0.05,
            0.0481
           ],
           "yaxis": "y"
          }
         ],
         "name": "2023-10"
        }
       ],
       "layout": {
        "legend": {
         "tracegroupgap": 0
        },
        "margin": {
         "t": 60
        },
        "sliders": [
         {
          "active": 0,
          "currentvalue": {
           "prefix": "date="
          },
          "len": 0.9,
          "pad": {
           "b": 10,
           "t": 60
          },
          "steps": [
           {
            "args": [
             [
              "2000-01"
             ],
             {
              "frame": {
               "duration": 0,
               "redraw": false
              },
              "fromcurrent": true,
              "mode": "immediate",
              "transition": {
               "duration": 0,
               "easing": "linear"
              }
             }
            ],
            "label": "2000-01",
            "method": "animate"
           },
           {
            "args": [
             [
              "2000-02"
             ],
             {
              "frame": {
               "duration": 0,
               "redraw": false
              },
              "fromcurrent": true,
              "mode": "immediate",
              "transition": {
               "duration": 0,
               "easing": "linear"
              }
             }
            ],
            "label": "2000-02",
            "method": "animate"
           },
           {
            "args": [
             [
              "2000-03"
             ],
             {
              "frame": {
               "duration": 0,
               "redraw": false
              },
              "fromcurrent": true,
              "mode": "immediate",
              "transition": {
               "duration": 0,
               "easing": "linear"
              }
             }
            ],
            "label": "2000-03",
            "method": "animate"
           },
           {
            "args": [
             [
              "2000-04"
             ],
             {
              "frame": {
               "duration": 0,
               "redraw": false
              },
              "fromcurrent": true,
              "mode": "immediate",
              "transition": {
               "duration": 0,
               "easing": "linear"
              }
             }
            ],
            "label": "2000-04",
            "method": "animate"
           },
           {
            "args": [
             [
              "2000-05"
             ],
             {
              "frame": {
               "duration": 0,
               "redraw": false
              },
              "fromcurrent": true,
              "mode": "immediate",
              "transition": {
               "duration": 0,
               "easing": "linear"
              }
             }
            ],
            "label": "2000-05",
            "method": "animate"
           },
           {
            "args": [
             [
              "2000-06"
             ],
             {
              "frame": {
               "duration": 0,
               "redraw": false
              },
              "fromcurrent": true,
              "mode": "immediate",
              "transition": {
               "duration": 0,
               "easing": "linear"
              }
             }
            ],
            "label": "2000-06",
            "method": "animate"
           },
           {
            "args": [
             [
              "2000-07"
             ],
             {
              "frame": {
               "duration": 0,
               "redraw": false
              },
              "fromcurrent": true,
              "mode": "immediate",
              "transition": {
               "duration": 0,
               "easing": "linear"
              }
             }
            ],
            "label": "2000-07",
            "method": "animate"
           },
           {
            "args": [
             [
              "2000-08"
             ],
             {
              "frame": {
               "duration": 0,
               "redraw": false
              },
              "fromcurrent": true,
              "mode": "immediate",
              "transition": {
               "duration": 0,
               "easing": "linear"
              }
             }
            ],
            "label": "2000-08",
            "method": "animate"
           },
           {
            "args": [
             [
              "2000-09"
             ],
             {
              "frame": {
               "duration": 0,
               "redraw": false
              },
              "fromcurrent": true,
              "mode": "immediate",
              "transition": {
               "duration": 0,
               "easing": "linear"
              }
             }
            ],
            "label": "2000-09",
            "method": "animate"
           },
           {
            "args": [
             [
              "2000-10"
             ],
             {
              "frame": {
               "duration": 0,
               "redraw": false
              },
              "fromcurrent": true,
              "mode": "immediate",
              "transition": {
               "duration": 0,
               "easing": "linear"
              }
             }
            ],
            "label": "2000-10",
            "method": "animate"
           },
           {
            "args": [
             [
              "2000-11"
             ],
             {
              "frame": {
               "duration": 0,
               "redraw": false
              },
              "fromcurrent": true,
              "mode": "immediate",
              "transition": {
               "duration": 0,
               "easing": "linear"
              }
             }
            ],
            "label": "2000-11",
            "method": "animate"
           },
           {
            "args": [
             [
              "2000-12"
             ],
             {
              "frame": {
               "duration": 0,
               "redraw": false
              },
              "fromcurrent": true,
              "mode": "immediate",
              "transition": {
               "duration": 0,
               "easing": "linear"
              }
             }
            ],
            "label": "2000-12",
            "method": "animate"
           },
           {
            "args": [
             [
              "2001-01"
             ],
             {
              "frame": {
               "duration": 0,
               "redraw": false
              },
              "fromcurrent": true,
              "mode": "immediate",
              "transition": {
               "duration": 0,
               "easing": "linear"
              }
             }
            ],
            "label": "2001-01",
            "method": "animate"
           },
           {
            "args": [
             [
              "2001-02"
             ],
             {
              "frame": {
               "duration": 0,
               "redraw": false
              },
              "fromcurrent": true,
              "mode": "immediate",
              "transition": {
               "duration": 0,
               "easing": "linear"
              }
             }
            ],
            "label": "2001-02",
            "method": "animate"
           },
           {
            "args": [
             [
              "2001-03"
             ],
             {
              "frame": {
               "duration": 0,
               "redraw": false
              },
              "fromcurrent": true,
              "mode": "immediate",
              "transition": {
               "duration": 0,
               "easing": "linear"
              }
             }
            ],
            "label": "2001-03",
            "method": "animate"
           },
           {
            "args": [
             [
              "2001-04"
             ],
             {
              "frame": {
               "duration": 0,
               "redraw": false
              },
              "fromcurrent": true,
              "mode": "immediate",
              "transition": {
               "duration": 0,
               "easing": "linear"
              }
             }
            ],
            "label": "2001-04",
            "method": "animate"
           },
           {
            "args": [
             [
              "2001-05"
             ],
             {
              "frame": {
               "duration": 0,
               "redraw": false
              },
              "fromcurrent": true,
              "mode": "immediate",
              "transition": {
               "duration": 0,
               "easing": "linear"
              }
             }
            ],
            "label": "2001-05",
            "method": "animate"
           },
           {
            "args": [
             [
              "2001-06"
             ],
             {
              "frame": {
               "duration": 0,
               "redraw": false
              },
              "fromcurrent": true,
              "mode": "immediate",
              "transition": {
               "duration": 0,
               "easing": "linear"
              }
             }
            ],
            "label": "2001-06",
            "method": "animate"
           },
           {
            "args": [
             [
              "2001-07"
             ],
             {
              "frame": {
               "duration": 0,
               "redraw": false
              },
              "fromcurrent": true,
              "mode": "immediate",
              "transition": {
               "duration": 0,
               "easing": "linear"
              }
             }
            ],
            "label": "2001-07",
            "method": "animate"
           },
           {
            "args": [
             [
              "2001-08"
             ],
             {
              "frame": {
               "duration": 0,
               "redraw": false
              },
              "fromcurrent": true,
              "mode": "immediate",
              "transition": {
               "duration": 0,
               "easing": "linear"
              }
             }
            ],
            "label": "2001-08",
            "method": "animate"
           },
           {
            "args": [
             [
              "2001-09"
             ],
             {
              "frame": {
               "duration": 0,
               "redraw": false
              },
              "fromcurrent": true,
              "mode": "immediate",
              "transition": {
               "duration": 0,
               "easing": "linear"
              }
             }
            ],
            "label": "2001-09",
            "method": "animate"
           },
           {
            "args": [
             [
              "2001-10"
             ],
             {
              "frame": {
               "duration": 0,
               "redraw": false
              },
              "fromcurrent": true,
              "mode": "immediate",
              "transition": {
               "duration": 0,
               "easing": "linear"
              }
             }
            ],
            "label": "2001-10",
            "method": "animate"
           },
           {
            "args": [
             [
              "2001-11"
             ],
             {
              "frame": {
               "duration": 0,
               "redraw": false
              },
              "fromcurrent": true,
              "mode": "immediate",
              "transition": {
               "duration": 0,
               "easing": "linear"
              }
             }
            ],
            "label": "2001-11",
            "method": "animate"
           },
           {
            "args": [
             [
              "2001-12"
             ],
             {
              "frame": {
               "duration": 0,
               "redraw": false
              },
              "fromcurrent": true,
              "mode": "immediate",
              "transition": {
               "duration": 0,
               "easing": "linear"
              }
             }
            ],
            "label": "2001-12",
            "method": "animate"
           },
           {
            "args": [
             [
              "2002-01"
             ],
             {
              "frame": {
               "duration": 0,
               "redraw": false
              },
              "fromcurrent": true,
              "mode": "immediate",
              "transition": {
               "duration": 0,
               "easing": "linear"
              }
             }
            ],
            "label": "2002-01",
            "method": "animate"
           },
           {
            "args": [
             [
              "2002-02"
             ],
             {
              "frame": {
               "duration": 0,
               "redraw": false
              },
              "fromcurrent": true,
              "mode": "immediate",
              "transition": {
               "duration": 0,
               "easing": "linear"
              }
             }
            ],
            "label": "2002-02",
            "method": "animate"
           },
           {
            "args": [
             [
              "2002-03"
             ],
             {
              "frame": {
               "duration": 0,
               "redraw": false
              },
              "fromcurrent": true,
              "mode": "immediate",
              "transition": {
               "duration": 0,
               "easing": "linear"
              }
             }
            ],
            "label": "2002-03",
            "method": "animate"
           },
           {
            "args": [
             [
              "2002-04"
             ],
             {
              "frame": {
               "duration": 0,
               "redraw": false
              },
              "fromcurrent": true,
              "mode": "immediate",
              "transition": {
               "duration": 0,
               "easing": "linear"
              }
             }
            ],
            "label": "2002-04",
            "method": "animate"
           },
           {
            "args": [
             [
              "2002-05"
             ],
             {
              "frame": {
               "duration": 0,
               "redraw": false
              },
              "fromcurrent": true,
              "mode": "immediate",
              "transition": {
               "duration": 0,
               "easing": "linear"
              }
             }
            ],
            "label": "2002-05",
            "method": "animate"
           },
           {
            "args": [
             [
              "2002-06"
             ],
             {
              "frame": {
               "duration": 0,
               "redraw": false
              },
              "fromcurrent": true,
              "mode": "immediate",
              "transition": {
               "duration": 0,
               "easing": "linear"
              }
             }
            ],
            "label": "2002-06",
            "method": "animate"
           },
           {
            "args": [
             [
              "2002-07"
             ],
             {
              "frame": {
               "duration": 0,
               "redraw": false
              },
              "fromcurrent": true,
              "mode": "immediate",
              "transition": {
               "duration": 0,
               "easing": "linear"
              }
             }
            ],
            "label": "2002-07",
            "method": "animate"
           },
           {
            "args": [
             [
              "2002-08"
             ],
             {
              "frame": {
               "duration": 0,
               "redraw": false
              },
              "fromcurrent": true,
              "mode": "immediate",
              "transition": {
               "duration": 0,
               "easing": "linear"
              }
             }
            ],
            "label": "2002-08",
            "method": "animate"
           },
           {
            "args": [
             [
              "2002-09"
             ],
             {
              "frame": {
               "duration": 0,
               "redraw": false
              },
              "fromcurrent": true,
              "mode": "immediate",
              "transition": {
               "duration": 0,
               "easing": "linear"
              }
             }
            ],
            "label": "2002-09",
            "method": "animate"
           },
           {
            "args": [
             [
              "2002-10"
             ],
             {
              "frame": {
               "duration": 0,
               "redraw": false
              },
              "fromcurrent": true,
              "mode": "immediate",
              "transition": {
               "duration": 0,
               "easing": "linear"
              }
             }
            ],
            "label": "2002-10",
            "method": "animate"
           },
           {
            "args": [
             [
              "2002-11"
             ],
             {
              "frame": {
               "duration": 0,
               "redraw": false
              },
              "fromcurrent": true,
              "mode": "immediate",
              "transition": {
               "duration": 0,
               "easing": "linear"
              }
             }
            ],
            "label": "2002-11",
            "method": "animate"
           },
           {
            "args": [
             [
              "2002-12"
             ],
             {
              "frame": {
               "duration": 0,
               "redraw": false
              },
              "fromcurrent": true,
              "mode": "immediate",
              "transition": {
               "duration": 0,
               "easing": "linear"
              }
             }
            ],
            "label": "2002-12",
            "method": "animate"
           },
           {
            "args": [
             [
              "2003-01"
             ],
             {
              "frame": {
               "duration": 0,
               "redraw": false
              },
              "fromcurrent": true,
              "mode": "immediate",
              "transition": {
               "duration": 0,
               "easing": "linear"
              }
             }
            ],
            "label": "2003-01",
            "method": "animate"
           },
           {
            "args": [
             [
              "2003-02"
             ],
             {
              "frame": {
               "duration": 0,
               "redraw": false
              },
              "fromcurrent": true,
              "mode": "immediate",
              "transition": {
               "duration": 0,
               "easing": "linear"
              }
             }
            ],
            "label": "2003-02",
            "method": "animate"
           },
           {
            "args": [
             [
              "2003-03"
             ],
             {
              "frame": {
               "duration": 0,
               "redraw": false
              },
              "fromcurrent": true,
              "mode": "immediate",
              "transition": {
               "duration": 0,
               "easing": "linear"
              }
             }
            ],
            "label": "2003-03",
            "method": "animate"
           },
           {
            "args": [
             [
              "2003-04"
             ],
             {
              "frame": {
               "duration": 0,
               "redraw": false
              },
              "fromcurrent": true,
              "mode": "immediate",
              "transition": {
               "duration": 0,
               "easing": "linear"
              }
             }
            ],
            "label": "2003-04",
            "method": "animate"
           },
           {
            "args": [
             [
              "2003-05"
             ],
             {
              "frame": {
               "duration": 0,
               "redraw": false
              },
              "fromcurrent": true,
              "mode": "immediate",
              "transition": {
               "duration": 0,
               "easing": "linear"
              }
             }
            ],
            "label": "2003-05",
            "method": "animate"
           },
           {
            "args": [
             [
              "2003-06"
             ],
             {
              "frame": {
               "duration": 0,
               "redraw": false
              },
              "fromcurrent": true,
              "mode": "immediate",
              "transition": {
               "duration": 0,
               "easing": "linear"
              }
             }
            ],
            "label": "2003-06",
            "method": "animate"
           },
           {
            "args": [
             [
              "2003-07"
             ],
             {
              "frame": {
               "duration": 0,
               "redraw": false
              },
              "fromcurrent": true,
              "mode": "immediate",
              "transition": {
               "duration": 0,
               "easing": "linear"
              }
             }
            ],
            "label": "2003-07",
            "method": "animate"
           },
           {
            "args": [
             [
              "2003-08"
             ],
             {
              "frame": {
               "duration": 0,
               "redraw": false
              },
              "fromcurrent": true,
              "mode": "immediate",
              "transition": {
               "duration": 0,
               "easing": "linear"
              }
             }
            ],
            "label": "2003-08",
            "method": "animate"
           },
           {
            "args": [
             [
              "2003-09"
             ],
             {
              "frame": {
               "duration": 0,
               "redraw": false
              },
              "fromcurrent": true,
              "mode": "immediate",
              "transition": {
               "duration": 0,
               "easing": "linear"
              }
             }
            ],
            "label": "2003-09",
            "method": "animate"
           },
           {
            "args": [
             [
              "2003-10"
             ],
             {
              "frame": {
               "duration": 0,
               "redraw": false
              },
              "fromcurrent": true,
              "mode": "immediate",
              "transition": {
               "duration": 0,
               "easing": "linear"
              }
             }
            ],
            "label": "2003-10",
            "method": "animate"
           },
           {
            "args": [
             [
              "2003-11"
             ],
             {
              "frame": {
               "duration": 0,
               "redraw": false
              },
              "fromcurrent": true,
              "mode": "immediate",
              "transition": {
               "duration": 0,
               "easing": "linear"
              }
             }
            ],
            "label": "2003-11",
            "method": "animate"
           },
           {
            "args": [
             [
              "2003-12"
             ],
             {
              "frame": {
               "duration": 0,
               "redraw": false
              },
              "fromcurrent": true,
              "mode": "immediate",
              "transition": {
               "duration": 0,
               "easing": "linear"
              }
             }
            ],
            "label": "2003-12",
            "method": "animate"
           },
           {
            "args": [
             [
              "2004-01"
             ],
             {
              "frame": {
               "duration": 0,
               "redraw": false
              },
              "fromcurrent": true,
              "mode": "immediate",
              "transition": {
               "duration": 0,
               "easing": "linear"
              }
             }
            ],
            "label": "2004-01",
            "method": "animate"
           },
           {
            "args": [
             [
              "2004-02"
             ],
             {
              "frame": {
               "duration": 0,
               "redraw": false
              },
              "fromcurrent": true,
              "mode": "immediate",
              "transition": {
               "duration": 0,
               "easing": "linear"
              }
             }
            ],
            "label": "2004-02",
            "method": "animate"
           },
           {
            "args": [
             [
              "2004-03"
             ],
             {
              "frame": {
               "duration": 0,
               "redraw": false
              },
              "fromcurrent": true,
              "mode": "immediate",
              "transition": {
               "duration": 0,
               "easing": "linear"
              }
             }
            ],
            "label": "2004-03",
            "method": "animate"
           },
           {
            "args": [
             [
              "2004-04"
             ],
             {
              "frame": {
               "duration": 0,
               "redraw": false
              },
              "fromcurrent": true,
              "mode": "immediate",
              "transition": {
               "duration": 0,
               "easing": "linear"
              }
             }
            ],
            "label": "2004-04",
            "method": "animate"
           },
           {
            "args": [
             [
              "2004-05"
             ],
             {
              "frame": {
               "duration": 0,
               "redraw": false
              },
              "fromcurrent": true,
              "mode": "immediate",
              "transition": {
               "duration": 0,
               "easing": "linear"
              }
             }
            ],
            "label": "2004-05",
            "method": "animate"
           },
           {
            "args": [
             [
              "2004-06"
             ],
             {
              "frame": {
               "duration": 0,
               "redraw": false
              },
              "fromcurrent": true,
              "mode": "immediate",
              "transition": {
               "duration": 0,
               "easing": "linear"
              }
             }
            ],
            "label": "2004-06",
            "method": "animate"
           },
           {
            "args": [
             [
              "2004-07"
             ],
             {
              "frame": {
               "duration": 0,
               "redraw": false
              },
              "fromcurrent": true,
              "mode": "immediate",
              "transition": {
               "duration": 0,
               "easing": "linear"
              }
             }
            ],
            "label": "2004-07",
            "method": "animate"
           },
           {
            "args": [
             [
              "2004-08"
             ],
             {
              "frame": {
               "duration": 0,
               "redraw": false
              },
              "fromcurrent": true,
              "mode": "immediate",
              "transition": {
               "duration": 0,
               "easing": "linear"
              }
             }
            ],
            "label": "2004-08",
            "method": "animate"
           },
           {
            "args": [
             [
              "2004-09"
             ],
             {
              "frame": {
               "duration": 0,
               "redraw": false
              },
              "fromcurrent": true,
              "mode": "immediate",
              "transition": {
               "duration": 0,
               "easing": "linear"
              }
             }
            ],
            "label": "2004-09",
            "method": "animate"
           },
           {
            "args": [
             [
              "2004-10"
             ],
             {
              "frame": {
               "duration": 0,
               "redraw": false
              },
              "fromcurrent": true,
              "mode": "immediate",
              "transition": {
               "duration": 0,
               "easing": "linear"
              }
             }
            ],
            "label": "2004-10",
            "method": "animate"
           },
           {
            "args": [
             [
              "2004-11"
             ],
             {
              "frame": {
               "duration": 0,
               "redraw": false
              },
              "fromcurrent": true,
              "mode": "immediate",
              "transition": {
               "duration": 0,
               "easing": "linear"
              }
             }
            ],
            "label": "2004-11",
            "method": "animate"
           },
           {
            "args": [
             [
              "2004-12"
             ],
             {
              "frame": {
               "duration": 0,
               "redraw": false
              },
              "fromcurrent": true,
              "mode": "immediate",
              "transition": {
               "duration": 0,
               "easing": "linear"
              }
             }
            ],
            "label": "2004-12",
            "method": "animate"
           },
           {
            "args": [
             [
              "2005-01"
             ],
             {
              "frame": {
               "duration": 0,
               "redraw": false
              },
              "fromcurrent": true,
              "mode": "immediate",
              "transition": {
               "duration": 0,
               "easing": "linear"
              }
             }
            ],
            "label": "2005-01",
            "method": "animate"
           },
           {
            "args": [
             [
              "2005-02"
             ],
             {
              "frame": {
               "duration": 0,
               "redraw": false
              },
              "fromcurrent": true,
              "mode": "immediate",
              "transition": {
               "duration": 0,
               "easing": "linear"
              }
             }
            ],
            "label": "2005-02",
            "method": "animate"
           },
           {
            "args": [
             [
              "2005-03"
             ],
             {
              "frame": {
               "duration": 0,
               "redraw": false
              },
              "fromcurrent": true,
              "mode": "immediate",
              "transition": {
               "duration": 0,
               "easing": "linear"
              }
             }
            ],
            "label": "2005-03",
            "method": "animate"
           },
           {
            "args": [
             [
              "2005-04"
             ],
             {
              "frame": {
               "duration": 0,
               "redraw": false
              },
              "fromcurrent": true,
              "mode": "immediate",
              "transition": {
               "duration": 0,
               "easing": "linear"
              }
             }
            ],
            "label": "2005-04",
            "method": "animate"
           },
           {
            "args": [
             [
              "2005-05"
             ],
             {
              "frame": {
               "duration": 0,
               "redraw": false
              },
              "fromcurrent": true,
              "mode": "immediate",
              "transition": {
               "duration": 0,
               "easing": "linear"
              }
             }
            ],
            "label": "2005-05",
            "method": "animate"
           },
           {
            "args": [
             [
              "2005-06"
             ],
             {
              "frame": {
               "duration": 0,
               "redraw": false
              },
              "fromcurrent": true,
              "mode": "immediate",
              "transition": {
               "duration": 0,
               "easing": "linear"
              }
             }
            ],
            "label": "2005-06",
            "method": "animate"
           },
           {
            "args": [
             [
              "2005-07"
             ],
             {
              "frame": {
               "duration": 0,
               "redraw": false
              },
              "fromcurrent": true,
              "mode": "immediate",
              "transition": {
               "duration": 0,
               "easing": "linear"
              }
             }
            ],
            "label": "2005-07",
            "method": "animate"
           },
           {
            "args": [
             [
              "2005-08"
             ],
             {
              "frame": {
               "duration": 0,
               "redraw": false
              },
              "fromcurrent": true,
              "mode": "immediate",
              "transition": {
               "duration": 0,
               "easing": "linear"
              }
             }
            ],
            "label": "2005-08",
            "method": "animate"
           },
           {
            "args": [
             [
              "2005-09"
             ],
             {
              "frame": {
               "duration": 0,
               "redraw": false
              },
              "fromcurrent": true,
              "mode": "immediate",
              "transition": {
               "duration": 0,
               "easing": "linear"
              }
             }
            ],
            "label": "2005-09",
            "method": "animate"
           },
           {
            "args": [
             [
              "2005-10"
             ],
             {
              "frame": {
               "duration": 0,
               "redraw": false
              },
              "fromcurrent": true,
              "mode": "immediate",
              "transition": {
               "duration": 0,
               "easing": "linear"
              }
             }
            ],
            "label": "2005-10",
            "method": "animate"
           },
           {
            "args": [
             [
              "2005-11"
             ],
             {
              "frame": {
               "duration": 0,
               "redraw": false
              },
              "fromcurrent": true,
              "mode": "immediate",
              "transition": {
               "duration": 0,
               "easing": "linear"
              }
             }
            ],
            "label": "2005-11",
            "method": "animate"
           },
           {
            "args": [
             [
              "2005-12"
             ],
             {
              "frame": {
               "duration": 0,
               "redraw": false
              },
              "fromcurrent": true,
              "mode": "immediate",
              "transition": {
               "duration": 0,
               "easing": "linear"
              }
             }
            ],
            "label": "2005-12",
            "method": "animate"
           },
           {
            "args": [
             [
              "2006-01"
             ],
             {
              "frame": {
               "duration": 0,
               "redraw": false
              },
              "fromcurrent": true,
              "mode": "immediate",
              "transition": {
               "duration": 0,
               "easing": "linear"
              }
             }
            ],
            "label": "2006-01",
            "method": "animate"
           },
           {
            "args": [
             [
              "2006-02"
             ],
             {
              "frame": {
               "duration": 0,
               "redraw": false
              },
              "fromcurrent": true,
              "mode": "immediate",
              "transition": {
               "duration": 0,
               "easing": "linear"
              }
             }
            ],
            "label": "2006-02",
            "method": "animate"
           },
           {
            "args": [
             [
              "2006-03"
             ],
             {
              "frame": {
               "duration": 0,
               "redraw": false
              },
              "fromcurrent": true,
              "mode": "immediate",
              "transition": {
               "duration": 0,
               "easing": "linear"
              }
             }
            ],
            "label": "2006-03",
            "method": "animate"
           },
           {
            "args": [
             [
              "2006-04"
             ],
             {
              "frame": {
               "duration": 0,
               "redraw": false
              },
              "fromcurrent": true,
              "mode": "immediate",
              "transition": {
               "duration": 0,
               "easing": "linear"
              }
             }
            ],
            "label": "2006-04",
            "method": "animate"
           },
           {
            "args": [
             [
              "2006-05"
             ],
             {
              "frame": {
               "duration": 0,
               "redraw": false
              },
              "fromcurrent": true,
              "mode": "immediate",
              "transition": {
               "duration": 0,
               "easing": "linear"
              }
             }
            ],
            "label": "2006-05",
            "method": "animate"
           },
           {
            "args": [
             [
              "2006-06"
             ],
             {
              "frame": {
               "duration": 0,
               "redraw": false
              },
              "fromcurrent": true,
              "mode": "immediate",
              "transition": {
               "duration": 0,
               "easing": "linear"
              }
             }
            ],
            "label": "2006-06",
            "method": "animate"
           },
           {
            "args": [
             [
              "2006-07"
             ],
             {
              "frame": {
               "duration": 0,
               "redraw": false
              },
              "fromcurrent": true,
              "mode": "immediate",
              "transition": {
               "duration": 0,
               "easing": "linear"
              }
             }
            ],
            "label": "2006-07",
            "method": "animate"
           },
           {
            "args": [
             [
              "2006-08"
             ],
             {
              "frame": {
               "duration": 0,
               "redraw": false
              },
              "fromcurrent": true,
              "mode": "immediate",
              "transition": {
               "duration": 0,
               "easing": "linear"
              }
             }
            ],
            "label": "2006-08",
            "method": "animate"
           },
           {
            "args": [
             [
              "2006-09"
             ],
             {
              "frame": {
               "duration": 0,
               "redraw": false
              },
              "fromcurrent": true,
              "mode": "immediate",
              "transition": {
               "duration": 0,
               "easing": "linear"
              }
             }
            ],
            "label": "2006-09",
            "method": "animate"
           },
           {
            "args": [
             [
              "2006-10"
             ],
             {
              "frame": {
               "duration": 0,
               "redraw": false
              },
              "fromcurrent": true,
              "mode": "immediate",
              "transition": {
               "duration": 0,
               "easing": "linear"
              }
             }
            ],
            "label": "2006-10",
            "method": "animate"
           },
           {
            "args": [
             [
              "2006-11"
             ],
             {
              "frame": {
               "duration": 0,
               "redraw": false
              },
              "fromcurrent": true,
              "mode": "immediate",
              "transition": {
               "duration": 0,
               "easing": "linear"
              }
             }
            ],
            "label": "2006-11",
            "method": "animate"
           },
           {
            "args": [
             [
              "2006-12"
             ],
             {
              "frame": {
               "duration": 0,
               "redraw": false
              },
              "fromcurrent": true,
              "mode": "immediate",
              "transition": {
               "duration": 0,
               "easing": "linear"
              }
             }
            ],
            "label": "2006-12",
            "method": "animate"
           },
           {
            "args": [
             [
              "2007-01"
             ],
             {
              "frame": {
               "duration": 0,
               "redraw": false
              },
              "fromcurrent": true,
              "mode": "immediate",
              "transition": {
               "duration": 0,
               "easing": "linear"
              }
             }
            ],
            "label": "2007-01",
            "method": "animate"
           },
           {
            "args": [
             [
              "2007-02"
             ],
             {
              "frame": {
               "duration": 0,
               "redraw": false
              },
              "fromcurrent": true,
              "mode": "immediate",
              "transition": {
               "duration": 0,
               "easing": "linear"
              }
             }
            ],
            "label": "2007-02",
            "method": "animate"
           },
           {
            "args": [
             [
              "2007-03"
             ],
             {
              "frame": {
               "duration": 0,
               "redraw": false
              },
              "fromcurrent": true,
              "mode": "immediate",
              "transition": {
               "duration": 0,
               "easing": "linear"
              }
             }
            ],
            "label": "2007-03",
            "method": "animate"
           },
           {
            "args": [
             [
              "2007-04"
             ],
             {
              "frame": {
               "duration": 0,
               "redraw": false
              },
              "fromcurrent": true,
              "mode": "immediate",
              "transition": {
               "duration": 0,
               "easing": "linear"
              }
             }
            ],
            "label": "2007-04",
            "method": "animate"
           },
           {
            "args": [
             [
              "2007-05"
             ],
             {
              "frame": {
               "duration": 0,
               "redraw": false
              },
              "fromcurrent": true,
              "mode": "immediate",
              "transition": {
               "duration": 0,
               "easing": "linear"
              }
             }
            ],
            "label": "2007-05",
            "method": "animate"
           },
           {
            "args": [
             [
              "2007-06"
             ],
             {
              "frame": {
               "duration": 0,
               "redraw": false
              },
              "fromcurrent": true,
              "mode": "immediate",
              "transition": {
               "duration": 0,
               "easing": "linear"
              }
             }
            ],
            "label": "2007-06",
            "method": "animate"
           },
           {
            "args": [
             [
              "2007-07"
             ],
             {
              "frame": {
               "duration": 0,
               "redraw": false
              },
              "fromcurrent": true,
              "mode": "immediate",
              "transition": {
               "duration": 0,
               "easing": "linear"
              }
             }
            ],
            "label": "2007-07",
            "method": "animate"
           },
           {
            "args": [
             [
              "2007-08"
             ],
             {
              "frame": {
               "duration": 0,
               "redraw": false
              },
              "fromcurrent": true,
              "mode": "immediate",
              "transition": {
               "duration": 0,
               "easing": "linear"
              }
             }
            ],
            "label": "2007-08",
            "method": "animate"
           },
           {
            "args": [
             [
              "2007-09"
             ],
             {
              "frame": {
               "duration": 0,
               "redraw": false
              },
              "fromcurrent": true,
              "mode": "immediate",
              "transition": {
               "duration": 0,
               "easing": "linear"
              }
             }
            ],
            "label": "2007-09",
            "method": "animate"
           },
           {
            "args": [
             [
              "2007-10"
             ],
             {
              "frame": {
               "duration": 0,
               "redraw": false
              },
              "fromcurrent": true,
              "mode": "immediate",
              "transition": {
               "duration": 0,
               "easing": "linear"
              }
             }
            ],
            "label": "2007-10",
            "method": "animate"
           },
           {
            "args": [
             [
              "2007-11"
             ],
             {
              "frame": {
               "duration": 0,
               "redraw": false
              },
              "fromcurrent": true,
              "mode": "immediate",
              "transition": {
               "duration": 0,
               "easing": "linear"
              }
             }
            ],
            "label": "2007-11",
            "method": "animate"
           },
           {
            "args": [
             [
              "2007-12"
             ],
             {
              "frame": {
               "duration": 0,
               "redraw": false
              },
              "fromcurrent": true,
              "mode": "immediate",
              "transition": {
               "duration": 0,
               "easing": "linear"
              }
             }
            ],
            "label": "2007-12",
            "method": "animate"
           },
           {
            "args": [
             [
              "2008-01"
             ],
             {
              "frame": {
               "duration": 0,
               "redraw": false
              },
              "fromcurrent": true,
              "mode": "immediate",
              "transition": {
               "duration": 0,
               "easing": "linear"
              }
             }
            ],
            "label": "2008-01",
            "method": "animate"
           },
           {
            "args": [
             [
              "2008-02"
             ],
             {
              "frame": {
               "duration": 0,
               "redraw": false
              },
              "fromcurrent": true,
              "mode": "immediate",
              "transition": {
               "duration": 0,
               "easing": "linear"
              }
             }
            ],
            "label": "2008-02",
            "method": "animate"
           },
           {
            "args": [
             [
              "2008-03"
             ],
             {
              "frame": {
               "duration": 0,
               "redraw": false
              },
              "fromcurrent": true,
              "mode": "immediate",
              "transition": {
               "duration": 0,
               "easing": "linear"
              }
             }
            ],
            "label": "2008-03",
            "method": "animate"
           },
           {
            "args": [
             [
              "2008-04"
             ],
             {
              "frame": {
               "duration": 0,
               "redraw": false
              },
              "fromcurrent": true,
              "mode": "immediate",
              "transition": {
               "duration": 0,
               "easing": "linear"
              }
             }
            ],
            "label": "2008-04",
            "method": "animate"
           },
           {
            "args": [
             [
              "2008-05"
             ],
             {
              "frame": {
               "duration": 0,
               "redraw": false
              },
              "fromcurrent": true,
              "mode": "immediate",
              "transition": {
               "duration": 0,
               "easing": "linear"
              }
             }
            ],
            "label": "2008-05",
            "method": "animate"
           },
           {
            "args": [
             [
              "2008-06"
             ],
             {
              "frame": {
               "duration": 0,
               "redraw": false
              },
              "fromcurrent": true,
              "mode": "immediate",
              "transition": {
               "duration": 0,
               "easing": "linear"
              }
             }
            ],
            "label": "2008-06",
            "method": "animate"
           },
           {
            "args": [
             [
              "2008-07"
             ],
             {
              "frame": {
               "duration": 0,
               "redraw": false
              },
              "fromcurrent": true,
              "mode": "immediate",
              "transition": {
               "duration": 0,
               "easing": "linear"
              }
             }
            ],
            "label": "2008-07",
            "method": "animate"
           },
           {
            "args": [
             [
              "2008-08"
             ],
             {
              "frame": {
               "duration": 0,
               "redraw": false
              },
              "fromcurrent": true,
              "mode": "immediate",
              "transition": {
               "duration": 0,
               "easing": "linear"
              }
             }
            ],
            "label": "2008-08",
            "method": "animate"
           },
           {
            "args": [
             [
              "2008-09"
             ],
             {
              "frame": {
               "duration": 0,
               "redraw": false
              },
              "fromcurrent": true,
              "mode": "immediate",
              "transition": {
               "duration": 0,
               "easing": "linear"
              }
             }
            ],
            "label": "2008-09",
            "method": "animate"
           },
           {
            "args": [
             [
              "2008-10"
             ],
             {
              "frame": {
               "duration": 0,
               "redraw": false
              },
              "fromcurrent": true,
              "mode": "immediate",
              "transition": {
               "duration": 0,
               "easing": "linear"
              }
             }
            ],
            "label": "2008-10",
            "method": "animate"
           },
           {
            "args": [
             [
              "2008-11"
             ],
             {
              "frame": {
               "duration": 0,
               "redraw": false
              },
              "fromcurrent": true,
              "mode": "immediate",
              "transition": {
               "duration": 0,
               "easing": "linear"
              }
             }
            ],
            "label": "2008-11",
            "method": "animate"
           },
           {
            "args": [
             [
              "2008-12"
             ],
             {
              "frame": {
               "duration": 0,
               "redraw": false
              },
              "fromcurrent": true,
              "mode": "immediate",
              "transition": {
               "duration": 0,
               "easing": "linear"
              }
             }
            ],
            "label": "2008-12",
            "method": "animate"
           },
           {
            "args": [
             [
              "2009-01"
             ],
             {
              "frame": {
               "duration": 0,
               "redraw": false
              },
              "fromcurrent": true,
              "mode": "immediate",
              "transition": {
               "duration": 0,
               "easing": "linear"
              }
             }
            ],
            "label": "2009-01",
            "method": "animate"
           },
           {
            "args": [
             [
              "2009-02"
             ],
             {
              "frame": {
               "duration": 0,
               "redraw": false
              },
              "fromcurrent": true,
              "mode": "immediate",
              "transition": {
               "duration": 0,
               "easing": "linear"
              }
             }
            ],
            "label": "2009-02",
            "method": "animate"
           },
           {
            "args": [
             [
              "2009-03"
             ],
             {
              "frame": {
               "duration": 0,
               "redraw": false
              },
              "fromcurrent": true,
              "mode": "immediate",
              "transition": {
               "duration": 0,
               "easing": "linear"
              }
             }
            ],
            "label": "2009-03",
            "method": "animate"
           },
           {
            "args": [
             [
              "2009-04"
             ],
             {
              "frame": {
               "duration": 0,
               "redraw": false
              },
              "fromcurrent": true,
              "mode": "immediate",
              "transition": {
               "duration": 0,
               "easing": "linear"
              }
             }
            ],
            "label": "2009-04",
            "method": "animate"
           },
           {
            "args": [
             [
              "2009-05"
             ],
             {
              "frame": {
               "duration": 0,
               "redraw": false
              },
              "fromcurrent": true,
              "mode": "immediate",
              "transition": {
               "duration": 0,
               "easing": "linear"
              }
             }
            ],
            "label": "2009-05",
            "method": "animate"
           },
           {
            "args": [
             [
              "2009-06"
             ],
             {
              "frame": {
               "duration": 0,
               "redraw": false
              },
              "fromcurrent": true,
              "mode": "immediate",
              "transition": {
               "duration": 0,
               "easing": "linear"
              }
             }
            ],
            "label": "2009-06",
            "method": "animate"
           },
           {
            "args": [
             [
              "2009-07"
             ],
             {
              "frame": {
               "duration": 0,
               "redraw": false
              },
              "fromcurrent": true,
              "mode": "immediate",
              "transition": {
               "duration": 0,
               "easing": "linear"
              }
             }
            ],
            "label": "2009-07",
            "method": "animate"
           },
           {
            "args": [
             [
              "2009-08"
             ],
             {
              "frame": {
               "duration": 0,
               "redraw": false
              },
              "fromcurrent": true,
              "mode": "immediate",
              "transition": {
               "duration": 0,
               "easing": "linear"
              }
             }
            ],
            "label": "2009-08",
            "method": "animate"
           },
           {
            "args": [
             [
              "2009-09"
             ],
             {
              "frame": {
               "duration": 0,
               "redraw": false
              },
              "fromcurrent": true,
              "mode": "immediate",
              "transition": {
               "duration": 0,
               "easing": "linear"
              }
             }
            ],
            "label": "2009-09",
            "method": "animate"
           },
           {
            "args": [
             [
              "2009-10"
             ],
             {
              "frame": {
               "duration": 0,
               "redraw": false
              },
              "fromcurrent": true,
              "mode": "immediate",
              "transition": {
               "duration": 0,
               "easing": "linear"
              }
             }
            ],
            "label": "2009-10",
            "method": "animate"
           },
           {
            "args": [
             [
              "2009-11"
             ],
             {
              "frame": {
               "duration": 0,
               "redraw": false
              },
              "fromcurrent": true,
              "mode": "immediate",
              "transition": {
               "duration": 0,
               "easing": "linear"
              }
             }
            ],
            "label": "2009-11",
            "method": "animate"
           },
           {
            "args": [
             [
              "2009-12"
             ],
             {
              "frame": {
               "duration": 0,
               "redraw": false
              },
              "fromcurrent": true,
              "mode": "immediate",
              "transition": {
               "duration": 0,
               "easing": "linear"
              }
             }
            ],
            "label": "2009-12",
            "method": "animate"
           },
           {
            "args": [
             [
              "2010-01"
             ],
             {
              "frame": {
               "duration": 0,
               "redraw": false
              },
              "fromcurrent": true,
              "mode": "immediate",
              "transition": {
               "duration": 0,
               "easing": "linear"
              }
             }
            ],
            "label": "2010-01",
            "method": "animate"
           },
           {
            "args": [
             [
              "2010-02"
             ],
             {
              "frame": {
               "duration": 0,
               "redraw": false
              },
              "fromcurrent": true,
              "mode": "immediate",
              "transition": {
               "duration": 0,
               "easing": "linear"
              }
             }
            ],
            "label": "2010-02",
            "method": "animate"
           },
           {
            "args": [
             [
              "2010-03"
             ],
             {
              "frame": {
               "duration": 0,
               "redraw": false
              },
              "fromcurrent": true,
              "mode": "immediate",
              "transition": {
               "duration": 0,
               "easing": "linear"
              }
             }
            ],
            "label": "2010-03",
            "method": "animate"
           },
           {
            "args": [
             [
              "2010-04"
             ],
             {
              "frame": {
               "duration": 0,
               "redraw": false
              },
              "fromcurrent": true,
              "mode": "immediate",
              "transition": {
               "duration": 0,
               "easing": "linear"
              }
             }
            ],
            "label": "2010-04",
            "method": "animate"
           },
           {
            "args": [
             [
              "2010-05"
             ],
             {
              "frame": {
               "duration": 0,
               "redraw": false
              },
              "fromcurrent": true,
              "mode": "immediate",
              "transition": {
               "duration": 0,
               "easing": "linear"
              }
             }
            ],
            "label": "2010-05",
            "method": "animate"
           },
           {
            "args": [
             [
              "2010-06"
             ],
             {
              "frame": {
               "duration": 0,
               "redraw": false
              },
              "fromcurrent": true,
              "mode": "immediate",
              "transition": {
               "duration": 0,
               "easing": "linear"
              }
             }
            ],
            "label": "2010-06",
            "method": "animate"
           },
           {
            "args": [
             [
              "2010-07"
             ],
             {
              "frame": {
               "duration": 0,
               "redraw": false
              },
              "fromcurrent": true,
              "mode": "immediate",
              "transition": {
               "duration": 0,
               "easing": "linear"
              }
             }
            ],
            "label": "2010-07",
            "method": "animate"
           },
           {
            "args": [
             [
              "2010-08"
             ],
             {
              "frame": {
               "duration": 0,
               "redraw": false
              },
              "fromcurrent": true,
              "mode": "immediate",
              "transition": {
               "duration": 0,
               "easing": "linear"
              }
             }
            ],
            "label": "2010-08",
            "method": "animate"
           },
           {
            "args": [
             [
              "2010-09"
             ],
             {
              "frame": {
               "duration": 0,
               "redraw": false
              },
              "fromcurrent": true,
              "mode": "immediate",
              "transition": {
               "duration": 0,
               "easing": "linear"
              }
             }
            ],
            "label": "2010-09",
            "method": "animate"
           },
           {
            "args": [
             [
              "2010-10"
             ],
             {
              "frame": {
               "duration": 0,
               "redraw": false
              },
              "fromcurrent": true,
              "mode": "immediate",
              "transition": {
               "duration": 0,
               "easing": "linear"
              }
             }
            ],
            "label": "2010-10",
            "method": "animate"
           },
           {
            "args": [
             [
              "2010-11"
             ],
             {
              "frame": {
               "duration": 0,
               "redraw": false
              },
              "fromcurrent": true,
              "mode": "immediate",
              "transition": {
               "duration": 0,
               "easing": "linear"
              }
             }
            ],
            "label": "2010-11",
            "method": "animate"
           },
           {
            "args": [
             [
              "2010-12"
             ],
             {
              "frame": {
               "duration": 0,
               "redraw": false
              },
              "fromcurrent": true,
              "mode": "immediate",
              "transition": {
               "duration": 0,
               "easing": "linear"
              }
             }
            ],
            "label": "2010-12",
            "method": "animate"
           },
           {
            "args": [
             [
              "2011-01"
             ],
             {
              "frame": {
               "duration": 0,
               "redraw": false
              },
              "fromcurrent": true,
              "mode": "immediate",
              "transition": {
               "duration": 0,
               "easing": "linear"
              }
             }
            ],
            "label": "2011-01",
            "method": "animate"
           },
           {
            "args": [
             [
              "2011-02"
             ],
             {
              "frame": {
               "duration": 0,
               "redraw": false
              },
              "fromcurrent": true,
              "mode": "immediate",
              "transition": {
               "duration": 0,
               "easing": "linear"
              }
             }
            ],
            "label": "2011-02",
            "method": "animate"
           },
           {
            "args": [
             [
              "2011-03"
             ],
             {
              "frame": {
               "duration": 0,
               "redraw": false
              },
              "fromcurrent": true,
              "mode": "immediate",
              "transition": {
               "duration": 0,
               "easing": "linear"
              }
             }
            ],
            "label": "2011-03",
            "method": "animate"
           },
           {
            "args": [
             [
              "2011-04"
             ],
             {
              "frame": {
               "duration": 0,
               "redraw": false
              },
              "fromcurrent": true,
              "mode": "immediate",
              "transition": {
               "duration": 0,
               "easing": "linear"
              }
             }
            ],
            "label": "2011-04",
            "method": "animate"
           },
           {
            "args": [
             [
              "2011-05"
             ],
             {
              "frame": {
               "duration": 0,
               "redraw": false
              },
              "fromcurrent": true,
              "mode": "immediate",
              "transition": {
               "duration": 0,
               "easing": "linear"
              }
             }
            ],
            "label": "2011-05",
            "method": "animate"
           },
           {
            "args": [
             [
              "2011-06"
             ],
             {
              "frame": {
               "duration": 0,
               "redraw": false
              },
              "fromcurrent": true,
              "mode": "immediate",
              "transition": {
               "duration": 0,
               "easing": "linear"
              }
             }
            ],
            "label": "2011-06",
            "method": "animate"
           },
           {
            "args": [
             [
              "2011-07"
             ],
             {
              "frame": {
               "duration": 0,
               "redraw": false
              },
              "fromcurrent": true,
              "mode": "immediate",
              "transition": {
               "duration": 0,
               "easing": "linear"
              }
             }
            ],
            "label": "2011-07",
            "method": "animate"
           },
           {
            "args": [
             [
              "2011-08"
             ],
             {
              "frame": {
               "duration": 0,
               "redraw": false
              },
              "fromcurrent": true,
              "mode": "immediate",
              "transition": {
               "duration": 0,
               "easing": "linear"
              }
             }
            ],
            "label": "2011-08",
            "method": "animate"
           },
           {
            "args": [
             [
              "2011-09"
             ],
             {
              "frame": {
               "duration": 0,
               "redraw": false
              },
              "fromcurrent": true,
              "mode": "immediate",
              "transition": {
               "duration": 0,
               "easing": "linear"
              }
             }
            ],
            "label": "2011-09",
            "method": "animate"
           },
           {
            "args": [
             [
              "2011-10"
             ],
             {
              "frame": {
               "duration": 0,
               "redraw": false
              },
              "fromcurrent": true,
              "mode": "immediate",
              "transition": {
               "duration": 0,
               "easing": "linear"
              }
             }
            ],
            "label": "2011-10",
            "method": "animate"
           },
           {
            "args": [
             [
              "2011-11"
             ],
             {
              "frame": {
               "duration": 0,
               "redraw": false
              },
              "fromcurrent": true,
              "mode": "immediate",
              "transition": {
               "duration": 0,
               "easing": "linear"
              }
             }
            ],
            "label": "2011-11",
            "method": "animate"
           },
           {
            "args": [
             [
              "2011-12"
             ],
             {
              "frame": {
               "duration": 0,
               "redraw": false
              },
              "fromcurrent": true,
              "mode": "immediate",
              "transition": {
               "duration": 0,
               "easing": "linear"
              }
             }
            ],
            "label": "2011-12",
            "method": "animate"
           },
           {
            "args": [
             [
              "2012-01"
             ],
             {
              "frame": {
               "duration": 0,
               "redraw": false
              },
              "fromcurrent": true,
              "mode": "immediate",
              "transition": {
               "duration": 0,
               "easing": "linear"
              }
             }
            ],
            "label": "2012-01",
            "method": "animate"
           },
           {
            "args": [
             [
              "2012-02"
             ],
             {
              "frame": {
               "duration": 0,
               "redraw": false
              },
              "fromcurrent": true,
              "mode": "immediate",
              "transition": {
               "duration": 0,
               "easing": "linear"
              }
             }
            ],
            "label": "2012-02",
            "method": "animate"
           },
           {
            "args": [
             [
              "2012-03"
             ],
             {
              "frame": {
               "duration": 0,
               "redraw": false
              },
              "fromcurrent": true,
              "mode": "immediate",
              "transition": {
               "duration": 0,
               "easing": "linear"
              }
             }
            ],
            "label": "2012-03",
            "method": "animate"
           },
           {
            "args": [
             [
              "2012-04"
             ],
             {
              "frame": {
               "duration": 0,
               "redraw": false
              },
              "fromcurrent": true,
              "mode": "immediate",
              "transition": {
               "duration": 0,
               "easing": "linear"
              }
             }
            ],
            "label": "2012-04",
            "method": "animate"
           },
           {
            "args": [
             [
              "2012-05"
             ],
             {
              "frame": {
               "duration": 0,
               "redraw": false
              },
              "fromcurrent": true,
              "mode": "immediate",
              "transition": {
               "duration": 0,
               "easing": "linear"
              }
             }
            ],
            "label": "2012-05",
            "method": "animate"
           },
           {
            "args": [
             [
              "2012-06"
             ],
             {
              "frame": {
               "duration": 0,
               "redraw": false
              },
              "fromcurrent": true,
              "mode": "immediate",
              "transition": {
               "duration": 0,
               "easing": "linear"
              }
             }
            ],
            "label": "2012-06",
            "method": "animate"
           },
           {
            "args": [
             [
              "2012-07"
             ],
             {
              "frame": {
               "duration": 0,
               "redraw": false
              },
              "fromcurrent": true,
              "mode": "immediate",
              "transition": {
               "duration": 0,
               "easing": "linear"
              }
             }
            ],
            "label": "2012-07",
            "method": "animate"
           },
           {
            "args": [
             [
              "2012-08"
             ],
             {
              "frame": {
               "duration": 0,
               "redraw": false
              },
              "fromcurrent": true,
              "mode": "immediate",
              "transition": {
               "duration": 0,
               "easing": "linear"
              }
             }
            ],
            "label": "2012-08",
            "method": "animate"
           },
           {
            "args": [
             [
              "2012-09"
             ],
             {
              "frame": {
               "duration": 0,
               "redraw": false
              },
              "fromcurrent": true,
              "mode": "immediate",
              "transition": {
               "duration": 0,
               "easing": "linear"
              }
             }
            ],
            "label": "2012-09",
            "method": "animate"
           },
           {
            "args": [
             [
              "2012-10"
             ],
             {
              "frame": {
               "duration": 0,
               "redraw": false
              },
              "fromcurrent": true,
              "mode": "immediate",
              "transition": {
               "duration": 0,
               "easing": "linear"
              }
             }
            ],
            "label": "2012-10",
            "method": "animate"
           },
           {
            "args": [
             [
              "2012-11"
             ],
             {
              "frame": {
               "duration": 0,
               "redraw": false
              },
              "fromcurrent": true,
              "mode": "immediate",
              "transition": {
               "duration": 0,
               "easing": "linear"
              }
             }
            ],
            "label": "2012-11",
            "method": "animate"
           },
           {
            "args": [
             [
              "2012-12"
             ],
             {
              "frame": {
               "duration": 0,
               "redraw": false
              },
              "fromcurrent": true,
              "mode": "immediate",
              "transition": {
               "duration": 0,
               "easing": "linear"
              }
             }
            ],
            "label": "2012-12",
            "method": "animate"
           },
           {
            "args": [
             [
              "2013-01"
             ],
             {
              "frame": {
               "duration": 0,
               "redraw": false
              },
              "fromcurrent": true,
              "mode": "immediate",
              "transition": {
               "duration": 0,
               "easing": "linear"
              }
             }
            ],
            "label": "2013-01",
            "method": "animate"
           },
           {
            "args": [
             [
              "2013-02"
             ],
             {
              "frame": {
               "duration": 0,
               "redraw": false
              },
              "fromcurrent": true,
              "mode": "immediate",
              "transition": {
               "duration": 0,
               "easing": "linear"
              }
             }
            ],
            "label": "2013-02",
            "method": "animate"
           },
           {
            "args": [
             [
              "2013-03"
             ],
             {
              "frame": {
               "duration": 0,
               "redraw": false
              },
              "fromcurrent": true,
              "mode": "immediate",
              "transition": {
               "duration": 0,
               "easing": "linear"
              }
             }
            ],
            "label": "2013-03",
            "method": "animate"
           },
           {
            "args": [
             [
              "2013-04"
             ],
             {
              "frame": {
               "duration": 0,
               "redraw": false
              },
              "fromcurrent": true,
              "mode": "immediate",
              "transition": {
               "duration": 0,
               "easing": "linear"
              }
             }
            ],
            "label": "2013-04",
            "method": "animate"
           },
           {
            "args": [
             [
              "2013-05"
             ],
             {
              "frame": {
               "duration": 0,
               "redraw": false
              },
              "fromcurrent": true,
              "mode": "immediate",
              "transition": {
               "duration": 0,
               "easing": "linear"
              }
             }
            ],
            "label": "2013-05",
            "method": "animate"
           },
           {
            "args": [
             [
              "2013-06"
             ],
             {
              "frame": {
               "duration": 0,
               "redraw": false
              },
              "fromcurrent": true,
              "mode": "immediate",
              "transition": {
               "duration": 0,
               "easing": "linear"
              }
             }
            ],
            "label": "2013-06",
            "method": "animate"
           },
           {
            "args": [
             [
              "2013-07"
             ],
             {
              "frame": {
               "duration": 0,
               "redraw": false
              },
              "fromcurrent": true,
              "mode": "immediate",
              "transition": {
               "duration": 0,
               "easing": "linear"
              }
             }
            ],
            "label": "2013-07",
            "method": "animate"
           },
           {
            "args": [
             [
              "2013-08"
             ],
             {
              "frame": {
               "duration": 0,
               "redraw": false
              },
              "fromcurrent": true,
              "mode": "immediate",
              "transition": {
               "duration": 0,
               "easing": "linear"
              }
             }
            ],
            "label": "2013-08",
            "method": "animate"
           },
           {
            "args": [
             [
              "2013-09"
             ],
             {
              "frame": {
               "duration": 0,
               "redraw": false
              },
              "fromcurrent": true,
              "mode": "immediate",
              "transition": {
               "duration": 0,
               "easing": "linear"
              }
             }
            ],
            "label": "2013-09",
            "method": "animate"
           },
           {
            "args": [
             [
              "2013-10"
             ],
             {
              "frame": {
               "duration": 0,
               "redraw": false
              },
              "fromcurrent": true,
              "mode": "immediate",
              "transition": {
               "duration": 0,
               "easing": "linear"
              }
             }
            ],
            "label": "2013-10",
            "method": "animate"
           },
           {
            "args": [
             [
              "2013-11"
             ],
             {
              "frame": {
               "duration": 0,
               "redraw": false
              },
              "fromcurrent": true,
              "mode": "immediate",
              "transition": {
               "duration": 0,
               "easing": "linear"
              }
             }
            ],
            "label": "2013-11",
            "method": "animate"
           },
           {
            "args": [
             [
              "2013-12"
             ],
             {
              "frame": {
               "duration": 0,
               "redraw": false
              },
              "fromcurrent": true,
              "mode": "immediate",
              "transition": {
               "duration": 0,
               "easing": "linear"
              }
             }
            ],
            "label": "2013-12",
            "method": "animate"
           },
           {
            "args": [
             [
              "2014-01"
             ],
             {
              "frame": {
               "duration": 0,
               "redraw": false
              },
              "fromcurrent": true,
              "mode": "immediate",
              "transition": {
               "duration": 0,
               "easing": "linear"
              }
             }
            ],
            "label": "2014-01",
            "method": "animate"
           },
           {
            "args": [
             [
              "2014-02"
             ],
             {
              "frame": {
               "duration": 0,
               "redraw": false
              },
              "fromcurrent": true,
              "mode": "immediate",
              "transition": {
               "duration": 0,
               "easing": "linear"
              }
             }
            ],
            "label": "2014-02",
            "method": "animate"
           },
           {
            "args": [
             [
              "2014-03"
             ],
             {
              "frame": {
               "duration": 0,
               "redraw": false
              },
              "fromcurrent": true,
              "mode": "immediate",
              "transition": {
               "duration": 0,
               "easing": "linear"
              }
             }
            ],
            "label": "2014-03",
            "method": "animate"
           },
           {
            "args": [
             [
              "2014-04"
             ],
             {
              "frame": {
               "duration": 0,
               "redraw": false
              },
              "fromcurrent": true,
              "mode": "immediate",
              "transition": {
               "duration": 0,
               "easing": "linear"
              }
             }
            ],
            "label": "2014-04",
            "method": "animate"
           },
           {
            "args": [
             [
              "2014-05"
             ],
             {
              "frame": {
               "duration": 0,
               "redraw": false
              },
              "fromcurrent": true,
              "mode": "immediate",
              "transition": {
               "duration": 0,
               "easing": "linear"
              }
             }
            ],
            "label": "2014-05",
            "method": "animate"
           },
           {
            "args": [
             [
              "2014-06"
             ],
             {
              "frame": {
               "duration": 0,
               "redraw": false
              },
              "fromcurrent": true,
              "mode": "immediate",
              "transition": {
               "duration": 0,
               "easing": "linear"
              }
             }
            ],
            "label": "2014-06",
            "method": "animate"
           },
           {
            "args": [
             [
              "2014-07"
             ],
             {
              "frame": {
               "duration": 0,
               "redraw": false
              },
              "fromcurrent": true,
              "mode": "immediate",
              "transition": {
               "duration": 0,
               "easing": "linear"
              }
             }
            ],
            "label": "2014-07",
            "method": "animate"
           },
           {
            "args": [
             [
              "2014-08"
             ],
             {
              "frame": {
               "duration": 0,
               "redraw": false
              },
              "fromcurrent": true,
              "mode": "immediate",
              "transition": {
               "duration": 0,
               "easing": "linear"
              }
             }
            ],
            "label": "2014-08",
            "method": "animate"
           },
           {
            "args": [
             [
              "2014-09"
             ],
             {
              "frame": {
               "duration": 0,
               "redraw": false
              },
              "fromcurrent": true,
              "mode": "immediate",
              "transition": {
               "duration": 0,
               "easing": "linear"
              }
             }
            ],
            "label": "2014-09",
            "method": "animate"
           },
           {
            "args": [
             [
              "2014-10"
             ],
             {
              "frame": {
               "duration": 0,
               "redraw": false
              },
              "fromcurrent": true,
              "mode": "immediate",
              "transition": {
               "duration": 0,
               "easing": "linear"
              }
             }
            ],
            "label": "2014-10",
            "method": "animate"
           },
           {
            "args": [
             [
              "2014-11"
             ],
             {
              "frame": {
               "duration": 0,
               "redraw": false
              },
              "fromcurrent": true,
              "mode": "immediate",
              "transition": {
               "duration": 0,
               "easing": "linear"
              }
             }
            ],
            "label": "2014-11",
            "method": "animate"
           },
           {
            "args": [
             [
              "2014-12"
             ],
             {
              "frame": {
               "duration": 0,
               "redraw": false
              },
              "fromcurrent": true,
              "mode": "immediate",
              "transition": {
               "duration": 0,
               "easing": "linear"
              }
             }
            ],
            "label": "2014-12",
            "method": "animate"
           },
           {
            "args": [
             [
              "2015-01"
             ],
             {
              "frame": {
               "duration": 0,
               "redraw": false
              },
              "fromcurrent": true,
              "mode": "immediate",
              "transition": {
               "duration": 0,
               "easing": "linear"
              }
             }
            ],
            "label": "2015-01",
            "method": "animate"
           },
           {
            "args": [
             [
              "2015-02"
             ],
             {
              "frame": {
               "duration": 0,
               "redraw": false
              },
              "fromcurrent": true,
              "mode": "immediate",
              "transition": {
               "duration": 0,
               "easing": "linear"
              }
             }
            ],
            "label": "2015-02",
            "method": "animate"
           },
           {
            "args": [
             [
              "2015-03"
             ],
             {
              "frame": {
               "duration": 0,
               "redraw": false
              },
              "fromcurrent": true,
              "mode": "immediate",
              "transition": {
               "duration": 0,
               "easing": "linear"
              }
             }
            ],
            "label": "2015-03",
            "method": "animate"
           },
           {
            "args": [
             [
              "2015-04"
             ],
             {
              "frame": {
               "duration": 0,
               "redraw": false
              },
              "fromcurrent": true,
              "mode": "immediate",
              "transition": {
               "duration": 0,
               "easing": "linear"
              }
             }
            ],
            "label": "2015-04",
            "method": "animate"
           },
           {
            "args": [
             [
              "2015-05"
             ],
             {
              "frame": {
               "duration": 0,
               "redraw": false
              },
              "fromcurrent": true,
              "mode": "immediate",
              "transition": {
               "duration": 0,
               "easing": "linear"
              }
             }
            ],
            "label": "2015-05",
            "method": "animate"
           },
           {
            "args": [
             [
              "2015-06"
             ],
             {
              "frame": {
               "duration": 0,
               "redraw": false
              },
              "fromcurrent": true,
              "mode": "immediate",
              "transition": {
               "duration": 0,
               "easing": "linear"
              }
             }
            ],
            "label": "2015-06",
            "method": "animate"
           },
           {
            "args": [
             [
              "2015-07"
             ],
             {
              "frame": {
               "duration": 0,
               "redraw": false
              },
              "fromcurrent": true,
              "mode": "immediate",
              "transition": {
               "duration": 0,
               "easing": "linear"
              }
             }
            ],
            "label": "2015-07",
            "method": "animate"
           },
           {
            "args": [
             [
              "2015-08"
             ],
             {
              "frame": {
               "duration": 0,
               "redraw": false
              },
              "fromcurrent": true,
              "mode": "immediate",
              "transition": {
               "duration": 0,
               "easing": "linear"
              }
             }
            ],
            "label": "2015-08",
            "method": "animate"
           },
           {
            "args": [
             [
              "2015-09"
             ],
             {
              "frame": {
               "duration": 0,
               "redraw": false
              },
              "fromcurrent": true,
              "mode": "immediate",
              "transition": {
               "duration": 0,
               "easing": "linear"
              }
             }
            ],
            "label": "2015-09",
            "method": "animate"
           },
           {
            "args": [
             [
              "2015-10"
             ],
             {
              "frame": {
               "duration": 0,
               "redraw": false
              },
              "fromcurrent": true,
              "mode": "immediate",
              "transition": {
               "duration": 0,
               "easing": "linear"
              }
             }
            ],
            "label": "2015-10",
            "method": "animate"
           },
           {
            "args": [
             [
              "2015-11"
             ],
             {
              "frame": {
               "duration": 0,
               "redraw": false
              },
              "fromcurrent": true,
              "mode": "immediate",
              "transition": {
               "duration": 0,
               "easing": "linear"
              }
             }
            ],
            "label": "2015-11",
            "method": "animate"
           },
           {
            "args": [
             [
              "2015-12"
             ],
             {
              "frame": {
               "duration": 0,
               "redraw": false
              },
              "fromcurrent": true,
              "mode": "immediate",
              "transition": {
               "duration": 0,
               "easing": "linear"
              }
             }
            ],
            "label": "2015-12",
            "method": "animate"
           },
           {
            "args": [
             [
              "2016-01"
             ],
             {
              "frame": {
               "duration": 0,
               "redraw": false
              },
              "fromcurrent": true,
              "mode": "immediate",
              "transition": {
               "duration": 0,
               "easing": "linear"
              }
             }
            ],
            "label": "2016-01",
            "method": "animate"
           },
           {
            "args": [
             [
              "2016-02"
             ],
             {
              "frame": {
               "duration": 0,
               "redraw": false
              },
              "fromcurrent": true,
              "mode": "immediate",
              "transition": {
               "duration": 0,
               "easing": "linear"
              }
             }
            ],
            "label": "2016-02",
            "method": "animate"
           },
           {
            "args": [
             [
              "2016-03"
             ],
             {
              "frame": {
               "duration": 0,
               "redraw": false
              },
              "fromcurrent": true,
              "mode": "immediate",
              "transition": {
               "duration": 0,
               "easing": "linear"
              }
             }
            ],
            "label": "2016-03",
            "method": "animate"
           },
           {
            "args": [
             [
              "2016-04"
             ],
             {
              "frame": {
               "duration": 0,
               "redraw": false
              },
              "fromcurrent": true,
              "mode": "immediate",
              "transition": {
               "duration": 0,
               "easing": "linear"
              }
             }
            ],
            "label": "2016-04",
            "method": "animate"
           },
           {
            "args": [
             [
              "2016-05"
             ],
             {
              "frame": {
               "duration": 0,
               "redraw": false
              },
              "fromcurrent": true,
              "mode": "immediate",
              "transition": {
               "duration": 0,
               "easing": "linear"
              }
             }
            ],
            "label": "2016-05",
            "method": "animate"
           },
           {
            "args": [
             [
              "2016-06"
             ],
             {
              "frame": {
               "duration": 0,
               "redraw": false
              },
              "fromcurrent": true,
              "mode": "immediate",
              "transition": {
               "duration": 0,
               "easing": "linear"
              }
             }
            ],
            "label": "2016-06",
            "method": "animate"
           },
           {
            "args": [
             [
              "2016-07"
             ],
             {
              "frame": {
               "duration": 0,
               "redraw": false
              },
              "fromcurrent": true,
              "mode": "immediate",
              "transition": {
               "duration": 0,
               "easing": "linear"
              }
             }
            ],
            "label": "2016-07",
            "method": "animate"
           },
           {
            "args": [
             [
              "2016-08"
             ],
             {
              "frame": {
               "duration": 0,
               "redraw": false
              },
              "fromcurrent": true,
              "mode": "immediate",
              "transition": {
               "duration": 0,
               "easing": "linear"
              }
             }
            ],
            "label": "2016-08",
            "method": "animate"
           },
           {
            "args": [
             [
              "2016-09"
             ],
             {
              "frame": {
               "duration": 0,
               "redraw": false
              },
              "fromcurrent": true,
              "mode": "immediate",
              "transition": {
               "duration": 0,
               "easing": "linear"
              }
             }
            ],
            "label": "2016-09",
            "method": "animate"
           },
           {
            "args": [
             [
              "2016-10"
             ],
             {
              "frame": {
               "duration": 0,
               "redraw": false
              },
              "fromcurrent": true,
              "mode": "immediate",
              "transition": {
               "duration": 0,
               "easing": "linear"
              }
             }
            ],
            "label": "2016-10",
            "method": "animate"
           },
           {
            "args": [
             [
              "2016-11"
             ],
             {
              "frame": {
               "duration": 0,
               "redraw": false
              },
              "fromcurrent": true,
              "mode": "immediate",
              "transition": {
               "duration": 0,
               "easing": "linear"
              }
             }
            ],
            "label": "2016-11",
            "method": "animate"
           },
           {
            "args": [
             [
              "2016-12"
             ],
             {
              "frame": {
               "duration": 0,
               "redraw": false
              },
              "fromcurrent": true,
              "mode": "immediate",
              "transition": {
               "duration": 0,
               "easing": "linear"
              }
             }
            ],
            "label": "2016-12",
            "method": "animate"
           },
           {
            "args": [
             [
              "2017-01"
             ],
             {
              "frame": {
               "duration": 0,
               "redraw": false
              },
              "fromcurrent": true,
              "mode": "immediate",
              "transition": {
               "duration": 0,
               "easing": "linear"
              }
             }
            ],
            "label": "2017-01",
            "method": "animate"
           },
           {
            "args": [
             [
              "2017-02"
             ],
             {
              "frame": {
               "duration": 0,
               "redraw": false
              },
              "fromcurrent": true,
              "mode": "immediate",
              "transition": {
               "duration": 0,
               "easing": "linear"
              }
             }
            ],
            "label": "2017-02",
            "method": "animate"
           },
           {
            "args": [
             [
              "2017-03"
             ],
             {
              "frame": {
               "duration": 0,
               "redraw": false
              },
              "fromcurrent": true,
              "mode": "immediate",
              "transition": {
               "duration": 0,
               "easing": "linear"
              }
             }
            ],
            "label": "2017-03",
            "method": "animate"
           },
           {
            "args": [
             [
              "2017-04"
             ],
             {
              "frame": {
               "duration": 0,
               "redraw": false
              },
              "fromcurrent": true,
              "mode": "immediate",
              "transition": {
               "duration": 0,
               "easing": "linear"
              }
             }
            ],
            "label": "2017-04",
            "method": "animate"
           },
           {
            "args": [
             [
              "2017-05"
             ],
             {
              "frame": {
               "duration": 0,
               "redraw": false
              },
              "fromcurrent": true,
              "mode": "immediate",
              "transition": {
               "duration": 0,
               "easing": "linear"
              }
             }
            ],
            "label": "2017-05",
            "method": "animate"
           },
           {
            "args": [
             [
              "2017-06"
             ],
             {
              "frame": {
               "duration": 0,
               "redraw": false
              },
              "fromcurrent": true,
              "mode": "immediate",
              "transition": {
               "duration": 0,
               "easing": "linear"
              }
             }
            ],
            "label": "2017-06",
            "method": "animate"
           },
           {
            "args": [
             [
              "2017-07"
             ],
             {
              "frame": {
               "duration": 0,
               "redraw": false
              },
              "fromcurrent": true,
              "mode": "immediate",
              "transition": {
               "duration": 0,
               "easing": "linear"
              }
             }
            ],
            "label": "2017-07",
            "method": "animate"
           },
           {
            "args": [
             [
              "2017-08"
             ],
             {
              "frame": {
               "duration": 0,
               "redraw": false
              },
              "fromcurrent": true,
              "mode": "immediate",
              "transition": {
               "duration": 0,
               "easing": "linear"
              }
             }
            ],
            "label": "2017-08",
            "method": "animate"
           },
           {
            "args": [
             [
              "2017-09"
             ],
             {
              "frame": {
               "duration": 0,
               "redraw": false
              },
              "fromcurrent": true,
              "mode": "immediate",
              "transition": {
               "duration": 0,
               "easing": "linear"
              }
             }
            ],
            "label": "2017-09",
            "method": "animate"
           },
           {
            "args": [
             [
              "2017-10"
             ],
             {
              "frame": {
               "duration": 0,
               "redraw": false
              },
              "fromcurrent": true,
              "mode": "immediate",
              "transition": {
               "duration": 0,
               "easing": "linear"
              }
             }
            ],
            "label": "2017-10",
            "method": "animate"
           },
           {
            "args": [
             [
              "2017-11"
             ],
             {
              "frame": {
               "duration": 0,
               "redraw": false
              },
              "fromcurrent": true,
              "mode": "immediate",
              "transition": {
               "duration": 0,
               "easing": "linear"
              }
             }
            ],
            "label": "2017-11",
            "method": "animate"
           },
           {
            "args": [
             [
              "2017-12"
             ],
             {
              "frame": {
               "duration": 0,
               "redraw": false
              },
              "fromcurrent": true,
              "mode": "immediate",
              "transition": {
               "duration": 0,
               "easing": "linear"
              }
             }
            ],
            "label": "2017-12",
            "method": "animate"
           },
           {
            "args": [
             [
              "2018-01"
             ],
             {
              "frame": {
               "duration": 0,
               "redraw": false
              },
              "fromcurrent": true,
              "mode": "immediate",
              "transition": {
               "duration": 0,
               "easing": "linear"
              }
             }
            ],
            "label": "2018-01",
            "method": "animate"
           },
           {
            "args": [
             [
              "2018-02"
             ],
             {
              "frame": {
               "duration": 0,
               "redraw": false
              },
              "fromcurrent": true,
              "mode": "immediate",
              "transition": {
               "duration": 0,
               "easing": "linear"
              }
             }
            ],
            "label": "2018-02",
            "method": "animate"
           },
           {
            "args": [
             [
              "2018-03"
             ],
             {
              "frame": {
               "duration": 0,
               "redraw": false
              },
              "fromcurrent": true,
              "mode": "immediate",
              "transition": {
               "duration": 0,
               "easing": "linear"
              }
             }
            ],
            "label": "2018-03",
            "method": "animate"
           },
           {
            "args": [
             [
              "2018-04"
             ],
             {
              "frame": {
               "duration": 0,
               "redraw": false
              },
              "fromcurrent": true,
              "mode": "immediate",
              "transition": {
               "duration": 0,
               "easing": "linear"
              }
             }
            ],
            "label": "2018-04",
            "method": "animate"
           },
           {
            "args": [
             [
              "2018-05"
             ],
             {
              "frame": {
               "duration": 0,
               "redraw": false
              },
              "fromcurrent": true,
              "mode": "immediate",
              "transition": {
               "duration": 0,
               "easing": "linear"
              }
             }
            ],
            "label": "2018-05",
            "method": "animate"
           },
           {
            "args": [
             [
              "2018-06"
             ],
             {
              "frame": {
               "duration": 0,
               "redraw": false
              },
              "fromcurrent": true,
              "mode": "immediate",
              "transition": {
               "duration": 0,
               "easing": "linear"
              }
             }
            ],
            "label": "2018-06",
            "method": "animate"
           },
           {
            "args": [
             [
              "2018-07"
             ],
             {
              "frame": {
               "duration": 0,
               "redraw": false
              },
              "fromcurrent": true,
              "mode": "immediate",
              "transition": {
               "duration": 0,
               "easing": "linear"
              }
             }
            ],
            "label": "2018-07",
            "method": "animate"
           },
           {
            "args": [
             [
              "2018-08"
             ],
             {
              "frame": {
               "duration": 0,
               "redraw": false
              },
              "fromcurrent": true,
              "mode": "immediate",
              "transition": {
               "duration": 0,
               "easing": "linear"
              }
             }
            ],
            "label": "2018-08",
            "method": "animate"
           },
           {
            "args": [
             [
              "2018-09"
             ],
             {
              "frame": {
               "duration": 0,
               "redraw": false
              },
              "fromcurrent": true,
              "mode": "immediate",
              "transition": {
               "duration": 0,
               "easing": "linear"
              }
             }
            ],
            "label": "2018-09",
            "method": "animate"
           },
           {
            "args": [
             [
              "2018-10"
             ],
             {
              "frame": {
               "duration": 0,
               "redraw": false
              },
              "fromcurrent": true,
              "mode": "immediate",
              "transition": {
               "duration": 0,
               "easing": "linear"
              }
             }
            ],
            "label": "2018-10",
            "method": "animate"
           },
           {
            "args": [
             [
              "2018-11"
             ],
             {
              "frame": {
               "duration": 0,
               "redraw": false
              },
              "fromcurrent": true,
              "mode": "immediate",
              "transition": {
               "duration": 0,
               "easing": "linear"
              }
             }
            ],
            "label": "2018-11",
            "method": "animate"
           },
           {
            "args": [
             [
              "2018-12"
             ],
             {
              "frame": {
               "duration": 0,
               "redraw": false
              },
              "fromcurrent": true,
              "mode": "immediate",
              "transition": {
               "duration": 0,
               "easing": "linear"
              }
             }
            ],
            "label": "2018-12",
            "method": "animate"
           },
           {
            "args": [
             [
              "2019-01"
             ],
             {
              "frame": {
               "duration": 0,
               "redraw": false
              },
              "fromcurrent": true,
              "mode": "immediate",
              "transition": {
               "duration": 0,
               "easing": "linear"
              }
             }
            ],
            "label": "2019-01",
            "method": "animate"
           },
           {
            "args": [
             [
              "2019-02"
             ],
             {
              "frame": {
               "duration": 0,
               "redraw": false
              },
              "fromcurrent": true,
              "mode": "immediate",
              "transition": {
               "duration": 0,
               "easing": "linear"
              }
             }
            ],
            "label": "2019-02",
            "method": "animate"
           },
           {
            "args": [
             [
              "2019-03"
             ],
             {
              "frame": {
               "duration": 0,
               "redraw": false
              },
              "fromcurrent": true,
              "mode": "immediate",
              "transition": {
               "duration": 0,
               "easing": "linear"
              }
             }
            ],
            "label": "2019-03",
            "method": "animate"
           },
           {
            "args": [
             [
              "2019-04"
             ],
             {
              "frame": {
               "duration": 0,
               "redraw": false
              },
              "fromcurrent": true,
              "mode": "immediate",
              "transition": {
               "duration": 0,
               "easing": "linear"
              }
             }
            ],
            "label": "2019-04",
            "method": "animate"
           },
           {
            "args": [
             [
              "2019-05"
             ],
             {
              "frame": {
               "duration": 0,
               "redraw": false
              },
              "fromcurrent": true,
              "mode": "immediate",
              "transition": {
               "duration": 0,
               "easing": "linear"
              }
             }
            ],
            "label": "2019-05",
            "method": "animate"
           },
           {
            "args": [
             [
              "2019-06"
             ],
             {
              "frame": {
               "duration": 0,
               "redraw": false
              },
              "fromcurrent": true,
              "mode": "immediate",
              "transition": {
               "duration": 0,
               "easing": "linear"
              }
             }
            ],
            "label": "2019-06",
            "method": "animate"
           },
           {
            "args": [
             [
              "2019-07"
             ],
             {
              "frame": {
               "duration": 0,
               "redraw": false
              },
              "fromcurrent": true,
              "mode": "immediate",
              "transition": {
               "duration": 0,
               "easing": "linear"
              }
             }
            ],
            "label": "2019-07",
            "method": "animate"
           },
           {
            "args": [
             [
              "2019-08"
             ],
             {
              "frame": {
               "duration": 0,
               "redraw": false
              },
              "fromcurrent": true,
              "mode": "immediate",
              "transition": {
               "duration": 0,
               "easing": "linear"
              }
             }
            ],
            "label": "2019-08",
            "method": "animate"
           },
           {
            "args": [
             [
              "2019-09"
             ],
             {
              "frame": {
               "duration": 0,
               "redraw": false
              },
              "fromcurrent": true,
              "mode": "immediate",
              "transition": {
               "duration": 0,
               "easing": "linear"
              }
             }
            ],
            "label": "2019-09",
            "method": "animate"
           },
           {
            "args": [
             [
              "2019-10"
             ],
             {
              "frame": {
               "duration": 0,
               "redraw": false
              },
              "fromcurrent": true,
              "mode": "immediate",
              "transition": {
               "duration": 0,
               "easing": "linear"
              }
             }
            ],
            "label": "2019-10",
            "method": "animate"
           },
           {
            "args": [
             [
              "2019-11"
             ],
             {
              "frame": {
               "duration": 0,
               "redraw": false
              },
              "fromcurrent": true,
              "mode": "immediate",
              "transition": {
               "duration": 0,
               "easing": "linear"
              }
             }
            ],
            "label": "2019-11",
            "method": "animate"
           },
           {
            "args": [
             [
              "2019-12"
             ],
             {
              "frame": {
               "duration": 0,
               "redraw": false
              },
              "fromcurrent": true,
              "mode": "immediate",
              "transition": {
               "duration": 0,
               "easing": "linear"
              }
             }
            ],
            "label": "2019-12",
            "method": "animate"
           },
           {
            "args": [
             [
              "2020-01"
             ],
             {
              "frame": {
               "duration": 0,
               "redraw": false
              },
              "fromcurrent": true,
              "mode": "immediate",
              "transition": {
               "duration": 0,
               "easing": "linear"
              }
             }
            ],
            "label": "2020-01",
            "method": "animate"
           },
           {
            "args": [
             [
              "2020-02"
             ],
             {
              "frame": {
               "duration": 0,
               "redraw": false
              },
              "fromcurrent": true,
              "mode": "immediate",
              "transition": {
               "duration": 0,
               "easing": "linear"
              }
             }
            ],
            "label": "2020-02",
            "method": "animate"
           },
           {
            "args": [
             [
              "2020-03"
             ],
             {
              "frame": {
               "duration": 0,
               "redraw": false
              },
              "fromcurrent": true,
              "mode": "immediate",
              "transition": {
               "duration": 0,
               "easing": "linear"
              }
             }
            ],
            "label": "2020-03",
            "method": "animate"
           },
           {
            "args": [
             [
              "2020-04"
             ],
             {
              "frame": {
               "duration": 0,
               "redraw": false
              },
              "fromcurrent": true,
              "mode": "immediate",
              "transition": {
               "duration": 0,
               "easing": "linear"
              }
             }
            ],
            "label": "2020-04",
            "method": "animate"
           },
           {
            "args": [
             [
              "2020-05"
             ],
             {
              "frame": {
               "duration": 0,
               "redraw": false
              },
              "fromcurrent": true,
              "mode": "immediate",
              "transition": {
               "duration": 0,
               "easing": "linear"
              }
             }
            ],
            "label": "2020-05",
            "method": "animate"
           },
           {
            "args": [
             [
              "2020-06"
             ],
             {
              "frame": {
               "duration": 0,
               "redraw": false
              },
              "fromcurrent": true,
              "mode": "immediate",
              "transition": {
               "duration": 0,
               "easing": "linear"
              }
             }
            ],
            "label": "2020-06",
            "method": "animate"
           },
           {
            "args": [
             [
              "2020-07"
             ],
             {
              "frame": {
               "duration": 0,
               "redraw": false
              },
              "fromcurrent": true,
              "mode": "immediate",
              "transition": {
               "duration": 0,
               "easing": "linear"
              }
             }
            ],
            "label": "2020-07",
            "method": "animate"
           },
           {
            "args": [
             [
              "2020-08"
             ],
             {
              "frame": {
               "duration": 0,
               "redraw": false
              },
              "fromcurrent": true,
              "mode": "immediate",
              "transition": {
               "duration": 0,
               "easing": "linear"
              }
             }
            ],
            "label": "2020-08",
            "method": "animate"
           },
           {
            "args": [
             [
              "2020-09"
             ],
             {
              "frame": {
               "duration": 0,
               "redraw": false
              },
              "fromcurrent": true,
              "mode": "immediate",
              "transition": {
               "duration": 0,
               "easing": "linear"
              }
             }
            ],
            "label": "2020-09",
            "method": "animate"
           },
           {
            "args": [
             [
              "2020-10"
             ],
             {
              "frame": {
               "duration": 0,
               "redraw": false
              },
              "fromcurrent": true,
              "mode": "immediate",
              "transition": {
               "duration": 0,
               "easing": "linear"
              }
             }
            ],
            "label": "2020-10",
            "method": "animate"
           },
           {
            "args": [
             [
              "2020-11"
             ],
             {
              "frame": {
               "duration": 0,
               "redraw": false
              },
              "fromcurrent": true,
              "mode": "immediate",
              "transition": {
               "duration": 0,
               "easing": "linear"
              }
             }
            ],
            "label": "2020-11",
            "method": "animate"
           },
           {
            "args": [
             [
              "2020-12"
             ],
             {
              "frame": {
               "duration": 0,
               "redraw": false
              },
              "fromcurrent": true,
              "mode": "immediate",
              "transition": {
               "duration": 0,
               "easing": "linear"
              }
             }
            ],
            "label": "2020-12",
            "method": "animate"
           },
           {
            "args": [
             [
              "2021-01"
             ],
             {
              "frame": {
               "duration": 0,
               "redraw": false
              },
              "fromcurrent": true,
              "mode": "immediate",
              "transition": {
               "duration": 0,
               "easing": "linear"
              }
             }
            ],
            "label": "2021-01",
            "method": "animate"
           },
           {
            "args": [
             [
              "2021-02"
             ],
             {
              "frame": {
               "duration": 0,
               "redraw": false
              },
              "fromcurrent": true,
              "mode": "immediate",
              "transition": {
               "duration": 0,
               "easing": "linear"
              }
             }
            ],
            "label": "2021-02",
            "method": "animate"
           },
           {
            "args": [
             [
              "2021-03"
             ],
             {
              "frame": {
               "duration": 0,
               "redraw": false
              },
              "fromcurrent": true,
              "mode": "immediate",
              "transition": {
               "duration": 0,
               "easing": "linear"
              }
             }
            ],
            "label": "2021-03",
            "method": "animate"
           },
           {
            "args": [
             [
              "2021-04"
             ],
             {
              "frame": {
               "duration": 0,
               "redraw": false
              },
              "fromcurrent": true,
              "mode": "immediate",
              "transition": {
               "duration": 0,
               "easing": "linear"
              }
             }
            ],
            "label": "2021-04",
            "method": "animate"
           },
           {
            "args": [
             [
              "2021-05"
             ],
             {
              "frame": {
               "duration": 0,
               "redraw": false
              },
              "fromcurrent": true,
              "mode": "immediate",
              "transition": {
               "duration": 0,
               "easing": "linear"
              }
             }
            ],
            "label": "2021-05",
            "method": "animate"
           },
           {
            "args": [
             [
              "2021-06"
             ],
             {
              "frame": {
               "duration": 0,
               "redraw": false
              },
              "fromcurrent": true,
              "mode": "immediate",
              "transition": {
               "duration": 0,
               "easing": "linear"
              }
             }
            ],
            "label": "2021-06",
            "method": "animate"
           },
           {
            "args": [
             [
              "2021-07"
             ],
             {
              "frame": {
               "duration": 0,
               "redraw": false
              },
              "fromcurrent": true,
              "mode": "immediate",
              "transition": {
               "duration": 0,
               "easing": "linear"
              }
             }
            ],
            "label": "2021-07",
            "method": "animate"
           },
           {
            "args": [
             [
              "2021-08"
             ],
             {
              "frame": {
               "duration": 0,
               "redraw": false
              },
              "fromcurrent": true,
              "mode": "immediate",
              "transition": {
               "duration": 0,
               "easing": "linear"
              }
             }
            ],
            "label": "2021-08",
            "method": "animate"
           },
           {
            "args": [
             [
              "2021-09"
             ],
             {
              "frame": {
               "duration": 0,
               "redraw": false
              },
              "fromcurrent": true,
              "mode": "immediate",
              "transition": {
               "duration": 0,
               "easing": "linear"
              }
             }
            ],
            "label": "2021-09",
            "method": "animate"
           },
           {
            "args": [
             [
              "2021-10"
             ],
             {
              "frame": {
               "duration": 0,
               "redraw": false
              },
              "fromcurrent": true,
              "mode": "immediate",
              "transition": {
               "duration": 0,
               "easing": "linear"
              }
             }
            ],
            "label": "2021-10",
            "method": "animate"
           },
           {
            "args": [
             [
              "2021-11"
             ],
             {
              "frame": {
               "duration": 0,
               "redraw": false
              },
              "fromcurrent": true,
              "mode": "immediate",
              "transition": {
               "duration": 0,
               "easing": "linear"
              }
             }
            ],
            "label": "2021-11",
            "method": "animate"
           },
           {
            "args": [
             [
              "2021-12"
             ],
             {
              "frame": {
               "duration": 0,
               "redraw": false
              },
              "fromcurrent": true,
              "mode": "immediate",
              "transition": {
               "duration": 0,
               "easing": "linear"
              }
             }
            ],
            "label": "2021-12",
            "method": "animate"
           },
           {
            "args": [
             [
              "2022-01"
             ],
             {
              "frame": {
               "duration": 0,
               "redraw": false
              },
              "fromcurrent": true,
              "mode": "immediate",
              "transition": {
               "duration": 0,
               "easing": "linear"
              }
             }
            ],
            "label": "2022-01",
            "method": "animate"
           },
           {
            "args": [
             [
              "2022-02"
             ],
             {
              "frame": {
               "duration": 0,
               "redraw": false
              },
              "fromcurrent": true,
              "mode": "immediate",
              "transition": {
               "duration": 0,
               "easing": "linear"
              }
             }
            ],
            "label": "2022-02",
            "method": "animate"
           },
           {
            "args": [
             [
              "2022-03"
             ],
             {
              "frame": {
               "duration": 0,
               "redraw": false
              },
              "fromcurrent": true,
              "mode": "immediate",
              "transition": {
               "duration": 0,
               "easing": "linear"
              }
             }
            ],
            "label": "2022-03",
            "method": "animate"
           },
           {
            "args": [
             [
              "2022-04"
             ],
             {
              "frame": {
               "duration": 0,
               "redraw": false
              },
              "fromcurrent": true,
              "mode": "immediate",
              "transition": {
               "duration": 0,
               "easing": "linear"
              }
             }
            ],
            "label": "2022-04",
            "method": "animate"
           },
           {
            "args": [
             [
              "2022-05"
             ],
             {
              "frame": {
               "duration": 0,
               "redraw": false
              },
              "fromcurrent": true,
              "mode": "immediate",
              "transition": {
               "duration": 0,
               "easing": "linear"
              }
             }
            ],
            "label": "2022-05",
            "method": "animate"
           },
           {
            "args": [
             [
              "2022-06"
             ],
             {
              "frame": {
               "duration": 0,
               "redraw": false
              },
              "fromcurrent": true,
              "mode": "immediate",
              "transition": {
               "duration": 0,
               "easing": "linear"
              }
             }
            ],
            "label": "2022-06",
            "method": "animate"
           },
           {
            "args": [
             [
              "2022-07"
             ],
             {
              "frame": {
               "duration": 0,
               "redraw": false
              },
              "fromcurrent": true,
              "mode": "immediate",
              "transition": {
               "duration": 0,
               "easing": "linear"
              }
             }
            ],
            "label": "2022-07",
            "method": "animate"
           },
           {
            "args": [
             [
              "2022-08"
             ],
             {
              "frame": {
               "duration": 0,
               "redraw": false
              },
              "fromcurrent": true,
              "mode": "immediate",
              "transition": {
               "duration": 0,
               "easing": "linear"
              }
             }
            ],
            "label": "2022-08",
            "method": "animate"
           },
           {
            "args": [
             [
              "2022-09"
             ],
             {
              "frame": {
               "duration": 0,
               "redraw": false
              },
              "fromcurrent": true,
              "mode": "immediate",
              "transition": {
               "duration": 0,
               "easing": "linear"
              }
             }
            ],
            "label": "2022-09",
            "method": "animate"
           },
           {
            "args": [
             [
              "2022-10"
             ],
             {
              "frame": {
               "duration": 0,
               "redraw": false
              },
              "fromcurrent": true,
              "mode": "immediate",
              "transition": {
               "duration": 0,
               "easing": "linear"
              }
             }
            ],
            "label": "2022-10",
            "method": "animate"
           },
           {
            "args": [
             [
              "2022-11"
             ],
             {
              "frame": {
               "duration": 0,
               "redraw": false
              },
              "fromcurrent": true,
              "mode": "immediate",
              "transition": {
               "duration": 0,
               "easing": "linear"
              }
             }
            ],
            "label": "2022-11",
            "method": "animate"
           },
           {
            "args": [
             [
              "2022-12"
             ],
             {
              "frame": {
               "duration": 0,
               "redraw": false
              },
              "fromcurrent": true,
              "mode": "immediate",
              "transition": {
               "duration": 0,
               "easing": "linear"
              }
             }
            ],
            "label": "2022-12",
            "method": "animate"
           },
           {
            "args": [
             [
              "2023-01"
             ],
             {
              "frame": {
               "duration": 0,
               "redraw": false
              },
              "fromcurrent": true,
              "mode": "immediate",
              "transition": {
               "duration": 0,
               "easing": "linear"
              }
             }
            ],
            "label": "2023-01",
            "method": "animate"
           },
           {
            "args": [
             [
              "2023-02"
             ],
             {
              "frame": {
               "duration": 0,
               "redraw": false
              },
              "fromcurrent": true,
              "mode": "immediate",
              "transition": {
               "duration": 0,
               "easing": "linear"
              }
             }
            ],
            "label": "2023-02",
            "method": "animate"
           },
           {
            "args": [
             [
              "2023-03"
             ],
             {
              "frame": {
               "duration": 0,
               "redraw": false
              },
              "fromcurrent": true,
              "mode": "immediate",
              "transition": {
               "duration": 0,
               "easing": "linear"
              }
             }
            ],
            "label": "2023-03",
            "method": "animate"
           },
           {
            "args": [
             [
              "2023-04"
             ],
             {
              "frame": {
               "duration": 0,
               "redraw": false
              },
              "fromcurrent": true,
              "mode": "immediate",
              "transition": {
               "duration": 0,
               "easing": "linear"
              }
             }
            ],
            "label": "2023-04",
            "method": "animate"
           },
           {
            "args": [
             [
              "2023-05"
             ],
             {
              "frame": {
               "duration": 0,
               "redraw": false
              },
              "fromcurrent": true,
              "mode": "immediate",
              "transition": {
               "duration": 0,
               "easing": "linear"
              }
             }
            ],
            "label": "2023-05",
            "method": "animate"
           },
           {
            "args": [
             [
              "2023-06"
             ],
             {
              "frame": {
               "duration": 0,
               "redraw": false
              },
              "fromcurrent": true,
              "mode": "immediate",
              "transition": {
               "duration": 0,
               "easing": "linear"
              }
             }
            ],
            "label": "2023-06",
            "method": "animate"
           },
           {
            "args": [
             [
              "2023-07"
             ],
             {
              "frame": {
               "duration": 0,
               "redraw": false
              },
              "fromcurrent": true,
              "mode": "immediate",
              "transition": {
               "duration": 0,
               "easing": "linear"
              }
             }
            ],
            "label": "2023-07",
            "method": "animate"
           },
           {
            "args": [
             [
              "2023-08"
             ],
             {
              "frame": {
               "duration": 0,
               "redraw": false
              },
              "fromcurrent": true,
              "mode": "immediate",
              "transition": {
               "duration": 0,
               "easing": "linear"
              }
             }
            ],
            "label": "2023-08",
            "method": "animate"
           },
           {
            "args": [
             [
              "2023-09"
             ],
             {
              "frame": {
               "duration": 0,
               "redraw": false
              },
              "fromcurrent": true,
              "mode": "immediate",
              "transition": {
               "duration": 0,
               "easing": "linear"
              }
             }
            ],
            "label": "2023-09",
            "method": "animate"
           },
           {
            "args": [
             [
              "2023-10"
             ],
             {
              "frame": {
               "duration": 0,
               "redraw": false
              },
              "fromcurrent": true,
              "mode": "immediate",
              "transition": {
               "duration": 0,
               "easing": "linear"
              }
             }
            ],
            "label": "2023-10",
            "method": "animate"
           }
          ],
          "x": 0.1,
          "xanchor": "left",
          "y": 0,
          "yanchor": "top"
         }
        ],
        "template": {
         "data": {
          "bar": [
           {
            "error_x": {
             "color": "#2a3f5f"
            },
            "error_y": {
             "color": "#2a3f5f"
            },
            "marker": {
             "line": {
              "color": "#E5ECF6",
              "width": 0.5
             },
             "pattern": {
              "fillmode": "overlay",
              "size": 10,
              "solidity": 0.2
             }
            },
            "type": "bar"
           }
          ],
          "barpolar": [
           {
            "marker": {
             "line": {
              "color": "#E5ECF6",
              "width": 0.5
             },
             "pattern": {
              "fillmode": "overlay",
              "size": 10,
              "solidity": 0.2
             }
            },
            "type": "barpolar"
           }
          ],
          "carpet": [
           {
            "aaxis": {
             "endlinecolor": "#2a3f5f",
             "gridcolor": "white",
             "linecolor": "white",
             "minorgridcolor": "white",
             "startlinecolor": "#2a3f5f"
            },
            "baxis": {
             "endlinecolor": "#2a3f5f",
             "gridcolor": "white",
             "linecolor": "white",
             "minorgridcolor": "white",
             "startlinecolor": "#2a3f5f"
            },
            "type": "carpet"
           }
          ],
          "choropleth": [
           {
            "colorbar": {
             "outlinewidth": 0,
             "ticks": ""
            },
            "type": "choropleth"
           }
          ],
          "contour": [
           {
            "colorbar": {
             "outlinewidth": 0,
             "ticks": ""
            },
            "colorscale": [
             [
              0,
              "#0d0887"
             ],
             [
              0.1111111111111111,
              "#46039f"
             ],
             [
              0.2222222222222222,
              "#7201a8"
             ],
             [
              0.3333333333333333,
              "#9c179e"
             ],
             [
              0.4444444444444444,
              "#bd3786"
             ],
             [
              0.5555555555555556,
              "#d8576b"
             ],
             [
              0.6666666666666666,
              "#ed7953"
             ],
             [
              0.7777777777777778,
              "#fb9f3a"
             ],
             [
              0.8888888888888888,
              "#fdca26"
             ],
             [
              1,
              "#f0f921"
             ]
            ],
            "type": "contour"
           }
          ],
          "contourcarpet": [
           {
            "colorbar": {
             "outlinewidth": 0,
             "ticks": ""
            },
            "type": "contourcarpet"
           }
          ],
          "heatmap": [
           {
            "colorbar": {
             "outlinewidth": 0,
             "ticks": ""
            },
            "colorscale": [
             [
              0,
              "#0d0887"
             ],
             [
              0.1111111111111111,
              "#46039f"
             ],
             [
              0.2222222222222222,
              "#7201a8"
             ],
             [
              0.3333333333333333,
              "#9c179e"
             ],
             [
              0.4444444444444444,
              "#bd3786"
             ],
             [
              0.5555555555555556,
              "#d8576b"
             ],
             [
              0.6666666666666666,
              "#ed7953"
             ],
             [
              0.7777777777777778,
              "#fb9f3a"
             ],
             [
              0.8888888888888888,
              "#fdca26"
             ],
             [
              1,
              "#f0f921"
             ]
            ],
            "type": "heatmap"
           }
          ],
          "heatmapgl": [
           {
            "colorbar": {
             "outlinewidth": 0,
             "ticks": ""
            },
            "colorscale": [
             [
              0,
              "#0d0887"
             ],
             [
              0.1111111111111111,
              "#46039f"
             ],
             [
              0.2222222222222222,
              "#7201a8"
             ],
             [
              0.3333333333333333,
              "#9c179e"
             ],
             [
              0.4444444444444444,
              "#bd3786"
             ],
             [
              0.5555555555555556,
              "#d8576b"
             ],
             [
              0.6666666666666666,
              "#ed7953"
             ],
             [
              0.7777777777777778,
              "#fb9f3a"
             ],
             [
              0.8888888888888888,
              "#fdca26"
             ],
             [
              1,
              "#f0f921"
             ]
            ],
            "type": "heatmapgl"
           }
          ],
          "histogram": [
           {
            "marker": {
             "pattern": {
              "fillmode": "overlay",
              "size": 10,
              "solidity": 0.2
             }
            },
            "type": "histogram"
           }
          ],
          "histogram2d": [
           {
            "colorbar": {
             "outlinewidth": 0,
             "ticks": ""
            },
            "colorscale": [
             [
              0,
              "#0d0887"
             ],
             [
              0.1111111111111111,
              "#46039f"
             ],
             [
              0.2222222222222222,
              "#7201a8"
             ],
             [
              0.3333333333333333,
              "#9c179e"
             ],
             [
              0.4444444444444444,
              "#bd3786"
             ],
             [
              0.5555555555555556,
              "#d8576b"
             ],
             [
              0.6666666666666666,
              "#ed7953"
             ],
             [
              0.7777777777777778,
              "#fb9f3a"
             ],
             [
              0.8888888888888888,
              "#fdca26"
             ],
             [
              1,
              "#f0f921"
             ]
            ],
            "type": "histogram2d"
           }
          ],
          "histogram2dcontour": [
           {
            "colorbar": {
             "outlinewidth": 0,
             "ticks": ""
            },
            "colorscale": [
             [
              0,
              "#0d0887"
             ],
             [
              0.1111111111111111,
              "#46039f"
             ],
             [
              0.2222222222222222,
              "#7201a8"
             ],
             [
              0.3333333333333333,
              "#9c179e"
             ],
             [
              0.4444444444444444,
              "#bd3786"
             ],
             [
              0.5555555555555556,
              "#d8576b"
             ],
             [
              0.6666666666666666,
              "#ed7953"
             ],
             [
              0.7777777777777778,
              "#fb9f3a"
             ],
             [
              0.8888888888888888,
              "#fdca26"
             ],
             [
              1,
              "#f0f921"
             ]
            ],
            "type": "histogram2dcontour"
           }
          ],
          "mesh3d": [
           {
            "colorbar": {
             "outlinewidth": 0,
             "ticks": ""
            },
            "type": "mesh3d"
           }
          ],
          "parcoords": [
           {
            "line": {
             "colorbar": {
              "outlinewidth": 0,
              "ticks": ""
             }
            },
            "type": "parcoords"
           }
          ],
          "pie": [
           {
            "automargin": true,
            "type": "pie"
           }
          ],
          "scatter": [
           {
            "fillpattern": {
             "fillmode": "overlay",
             "size": 10,
             "solidity": 0.2
            },
            "type": "scatter"
           }
          ],
          "scatter3d": [
           {
            "line": {
             "colorbar": {
              "outlinewidth": 0,
              "ticks": ""
             }
            },
            "marker": {
             "colorbar": {
              "outlinewidth": 0,
              "ticks": ""
             }
            },
            "type": "scatter3d"
           }
          ],
          "scattercarpet": [
           {
            "marker": {
             "colorbar": {
              "outlinewidth": 0,
              "ticks": ""
             }
            },
            "type": "scattercarpet"
           }
          ],
          "scattergeo": [
           {
            "marker": {
             "colorbar": {
              "outlinewidth": 0,
              "ticks": ""
             }
            },
            "type": "scattergeo"
           }
          ],
          "scattergl": [
           {
            "marker": {
             "colorbar": {
              "outlinewidth": 0,
              "ticks": ""
             }
            },
            "type": "scattergl"
           }
          ],
          "scattermapbox": [
           {
            "marker": {
             "colorbar": {
              "outlinewidth": 0,
              "ticks": ""
             }
            },
            "type": "scattermapbox"
           }
          ],
          "scatterpolar": [
           {
            "marker": {
             "colorbar": {
              "outlinewidth": 0,
              "ticks": ""
             }
            },
            "type": "scatterpolar"
           }
          ],
          "scatterpolargl": [
           {
            "marker": {
             "colorbar": {
              "outlinewidth": 0,
              "ticks": ""
             }
            },
            "type": "scatterpolargl"
           }
          ],
          "scatterternary": [
           {
            "marker": {
             "colorbar": {
              "outlinewidth": 0,
              "ticks": ""
             }
            },
            "type": "scatterternary"
           }
          ],
          "surface": [
           {
            "colorbar": {
             "outlinewidth": 0,
             "ticks": ""
            },
            "colorscale": [
             [
              0,
              "#0d0887"
             ],
             [
              0.1111111111111111,
              "#46039f"
             ],
             [
              0.2222222222222222,
              "#7201a8"
             ],
             [
              0.3333333333333333,
              "#9c179e"
             ],
             [
              0.4444444444444444,
              "#bd3786"
             ],
             [
              0.5555555555555556,
              "#d8576b"
             ],
             [
              0.6666666666666666,
              "#ed7953"
             ],
             [
              0.7777777777777778,
              "#fb9f3a"
             ],
             [
              0.8888888888888888,
              "#fdca26"
             ],
             [
              1,
              "#f0f921"
             ]
            ],
            "type": "surface"
           }
          ],
          "table": [
           {
            "cells": {
             "fill": {
              "color": "#EBF0F8"
             },
             "line": {
              "color": "white"
             }
            },
            "header": {
             "fill": {
              "color": "#C8D4E3"
             },
             "line": {
              "color": "white"
             }
            },
            "type": "table"
           }
          ]
         },
         "layout": {
          "annotationdefaults": {
           "arrowcolor": "#2a3f5f",
           "arrowhead": 0,
           "arrowwidth": 1
          },
          "autotypenumbers": "strict",
          "coloraxis": {
           "colorbar": {
            "outlinewidth": 0,
            "ticks": ""
           }
          },
          "colorscale": {
           "diverging": [
            [
             0,
             "#8e0152"
            ],
            [
             0.1,
             "#c51b7d"
            ],
            [
             0.2,
             "#de77ae"
            ],
            [
             0.3,
             "#f1b6da"
            ],
            [
             0.4,
             "#fde0ef"
            ],
            [
             0.5,
             "#f7f7f7"
            ],
            [
             0.6,
             "#e6f5d0"
            ],
            [
             0.7,
             "#b8e186"
            ],
            [
             0.8,
             "#7fbc41"
            ],
            [
             0.9,
             "#4d9221"
            ],
            [
             1,
             "#276419"
            ]
           ],
           "sequential": [
            [
             0,
             "#0d0887"
            ],
            [
             0.1111111111111111,
             "#46039f"
            ],
            [
             0.2222222222222222,
             "#7201a8"
            ],
            [
             0.3333333333333333,
             "#9c179e"
            ],
            [
             0.4444444444444444,
             "#bd3786"
            ],
            [
             0.5555555555555556,
             "#d8576b"
            ],
            [
             0.6666666666666666,
             "#ed7953"
            ],
            [
             0.7777777777777778,
             "#fb9f3a"
            ],
            [
             0.8888888888888888,
             "#fdca26"
            ],
            [
             1,
             "#f0f921"
            ]
           ],
           "sequentialminus": [
            [
             0,
             "#0d0887"
            ],
            [
             0.1111111111111111,
             "#46039f"
            ],
            [
             0.2222222222222222,
             "#7201a8"
            ],
            [
             0.3333333333333333,
             "#9c179e"
            ],
            [
             0.4444444444444444,
             "#bd3786"
            ],
            [
             0.5555555555555556,
             "#d8576b"
            ],
            [
             0.6666666666666666,
             "#ed7953"
            ],
            [
             0.7777777777777778,
             "#fb9f3a"
            ],
            [
             0.8888888888888888,
             "#fdca26"
            ],
            [
             1,
             "#f0f921"
            ]
           ]
          },
          "colorway": [
           "#636efa",
           "#EF553B",
           "#00cc96",
           "#ab63fa",
           "#FFA15A",
           "#19d3f3",
           "#FF6692",
           "#B6E880",
           "#FF97FF",
           "#FECB52"
          ],
          "font": {
           "color": "#2a3f5f"
          },
          "geo": {
           "bgcolor": "white",
           "lakecolor": "white",
           "landcolor": "#E5ECF6",
           "showlakes": true,
           "showland": true,
           "subunitcolor": "white"
          },
          "hoverlabel": {
           "align": "left"
          },
          "hovermode": "closest",
          "mapbox": {
           "style": "light"
          },
          "paper_bgcolor": "white",
          "plot_bgcolor": "#E5ECF6",
          "polar": {
           "angularaxis": {
            "gridcolor": "white",
            "linecolor": "white",
            "ticks": ""
           },
           "bgcolor": "#E5ECF6",
           "radialaxis": {
            "gridcolor": "white",
            "linecolor": "white",
            "ticks": ""
           }
          },
          "scene": {
           "xaxis": {
            "backgroundcolor": "#E5ECF6",
            "gridcolor": "white",
            "gridwidth": 2,
            "linecolor": "white",
            "showbackground": true,
            "ticks": "",
            "zerolinecolor": "white"
           },
           "yaxis": {
            "backgroundcolor": "#E5ECF6",
            "gridcolor": "white",
            "gridwidth": 2,
            "linecolor": "white",
            "showbackground": true,
            "ticks": "",
            "zerolinecolor": "white"
           },
           "zaxis": {
            "backgroundcolor": "#E5ECF6",
            "gridcolor": "white",
            "gridwidth": 2,
            "linecolor": "white",
            "showbackground": true,
            "ticks": "",
            "zerolinecolor": "white"
           }
          },
          "shapedefaults": {
           "line": {
            "color": "#2a3f5f"
           }
          },
          "ternary": {
           "aaxis": {
            "gridcolor": "white",
            "linecolor": "white",
            "ticks": ""
           },
           "baxis": {
            "gridcolor": "white",
            "linecolor": "white",
            "ticks": ""
           },
           "bgcolor": "#E5ECF6",
           "caxis": {
            "gridcolor": "white",
            "linecolor": "white",
            "ticks": ""
           }
          },
          "title": {
           "x": 0.05
          },
          "xaxis": {
           "automargin": true,
           "gridcolor": "white",
           "linecolor": "white",
           "ticks": "",
           "title": {
            "standoff": 15
           },
           "zerolinecolor": "white",
           "zerolinewidth": 2
          },
          "yaxis": {
           "automargin": true,
           "gridcolor": "white",
           "linecolor": "white",
           "ticks": "",
           "title": {
            "standoff": 15
           },
           "zerolinecolor": "white",
           "zerolinewidth": 2
          }
         }
        },
        "updatemenus": [
         {
          "buttons": [
           {
            "args": [
             null,
             {
              "frame": {
               "duration": 200,
               "redraw": false
              },
              "fromcurrent": true,
              "mode": "immediate",
              "transition": {
               "duration": 500,
               "easing": "linear"
              }
             }
            ],
            "label": "&#9654;",
            "method": "animate"
           },
           {
            "args": [
             [
              null
             ],
             {
              "frame": {
               "duration": 0,
               "redraw": false
              },
              "fromcurrent": true,
              "mode": "immediate",
              "transition": {
               "duration": 0,
               "easing": "linear"
              }
             }
            ],
            "label": "&#9724;",
            "method": "animate"
           }
          ],
          "direction": "left",
          "pad": {
           "r": 10,
           "t": 70
          },
          "showactive": false,
          "type": "buttons",
          "x": 0.1,
          "xanchor": "right",
          "y": 0,
          "yanchor": "top"
         }
        ],
        "xaxis": {
         "anchor": "y",
         "domain": [
          0,
          1
         ],
         "range": [
          0,
          30
         ],
         "tickvals": [
          1,
          3,
          5,
          10,
          20,
          30
         ],
         "title": {
          "text": "Years to Maturity"
         }
        },
        "yaxis": {
         "anchor": "x",
         "domain": [
          0,
          1
         ],
         "range": [
          0,
          0.0704
         ],
         "tickformat": ".1%",
         "title": {
          "text": "Yield"
         }
        }
       }
      }
     },
     "metadata": {},
     "output_type": "display_data"
    }
   ],
   "source": [
    "import plotly.express as px\n",
    "fig = px.line(\n",
    "    df,\n",
    "    x=\"years to maturity\",\n",
    "    y=\"yield\",\n",
    "    animation_frame=\"date\",\n",
    "    hover_data={\"date\": True, \"years to maturity\": True, \"yield\": True}\n",
    ")\n",
    "fig.layout.xaxis[\"title\"] = \"Years to Maturity\"\n",
    "fig.layout.yaxis[\"title\"] = \"Yield\"\n",
    "fig.update_yaxes(tickformat=\".1%\", range=[0, df[\"yield\"].max() + 0.001])\n",
    "fig.update_xaxes(tickvals=[1, 3, 5, 10, 20, 30], range=[0, 30])\n",
    "fig.for_each_trace(lambda t: t.update(mode='lines+markers', marker=dict(size=10)))\n",
    "for fr in fig.frames:\n",
    "    for d in fr.data:\n",
    "        d.update(mode='markers+lines', marker=dict(size=10))\n",
    "fig.layout.updatemenus[0].buttons[0].args[1][\"frame\"][\"duration\"] = 200\n",
    "fig.show()"
   ]
  }
 ],
 "metadata": {
  "colab": {
   "authorship_tag": "ABX9TyN3OmuWpTUKfHcHb9njr0DH",
   "include_colab_link": true,
   "name": "term-structure.ipynb",
   "provenance": []
  },
  "kernelspec": {
   "display_name": "Python 3",
   "name": "python3"
  },
  "language_info": {
   "codemirror_mode": {
    "name": "ipython",
    "version": 3
   },
   "file_extension": ".py",
   "mimetype": "text/x-python",
   "name": "python",
   "nbconvert_exporter": "python",
   "pygments_lexer": "ipython3",
   "version": "3.10.4"
  }
 },
 "nbformat": 4,
 "nbformat_minor": 0
}
