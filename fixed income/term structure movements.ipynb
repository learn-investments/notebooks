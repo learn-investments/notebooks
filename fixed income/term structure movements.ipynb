{
 "cells": [
  {
   "cell_type": "markdown",
   "metadata": {},
   "source": [
    "---\n",
    "\n",
    "Created for [learn-investments.rice-business.org](https://learn-investments.rice-business.org)\n",
    "    \n",
    "By [Kerry Back](https://kerryback.com) and [Kevin Crotty](https://kevin-crotty.com)\n",
    "    \n",
    "Jones Graduate School of Business, Rice University\n",
    "\n",
    "---\n"
   ]
  },
  {
   "cell_type": "markdown",
   "metadata": {},
   "source": [
    "# EXAMPLE DATA"
   ]
  },
  {
   "cell_type": "code",
   "execution_count": 1,
   "metadata": {},
   "outputs": [],
   "source": [
    "# Date Range (input a year)\n",
    "start_yr = 1978\n",
    "stop_yr  = 2023"
   ]
  },
  {
   "cell_type": "markdown",
   "metadata": {},
   "source": [
    "# PULL DATA"
   ]
  },
  {
   "cell_type": "code",
   "execution_count": 2,
   "metadata": {},
   "outputs": [],
   "source": [
    "from pandas_datareader import DataReader as pdr\n",
    "\n",
    "files = [\"DGS\" + x for x in [\"1\", \"2\", \"3\", \"5\", \"10\", \"30\"]]\n",
    "yield_changes = 100 * pdr(files, \"fred\", start=1920).dropna()\n",
    "yield_changes = yield_changes.resample(\"M\").last().diff()\n",
    "yield_changes.index = yield_changes.index.to_period('M').astype(str)\n",
    "yield_changes = yield_changes.dropna()\n",
    "yield_changes.columns = [int(x[3:]) for x in yield_changes.columns]\n",
    "\n",
    "# subset for data range\n",
    "start = str(start_yr) + \"-01\"\n",
    "stop  = str(stop_yr)  + \"-12\"\n",
    "df = yield_changes.loc[start:stop]\n"
   ]
  },
  {
   "cell_type": "markdown",
   "metadata": {},
   "source": [
    "# TABLE: MEANS AND STDEVS"
   ]
  },
  {
   "cell_type": "code",
   "execution_count": 3,
   "metadata": {},
   "outputs": [
    {
     "data": {
      "text/html": [
       "<div>\n",
       "<style scoped>\n",
       "    .dataframe tbody tr th:only-of-type {\n",
       "        vertical-align: middle;\n",
       "    }\n",
       "\n",
       "    .dataframe tbody tr th {\n",
       "        vertical-align: top;\n",
       "    }\n",
       "\n",
       "    .dataframe thead th {\n",
       "        text-align: right;\n",
       "    }\n",
       "</style>\n",
       "<table border=\"1\" class=\"dataframe\">\n",
       "  <thead>\n",
       "    <tr style=\"text-align: right;\">\n",
       "      <th></th>\n",
       "      <th>1-Year</th>\n",
       "      <th>2-Year</th>\n",
       "      <th>3-Year</th>\n",
       "      <th>5-Year</th>\n",
       "      <th>10-Year</th>\n",
       "      <th>30-Year</th>\n",
       "    </tr>\n",
       "    <tr>\n",
       "      <th>statistic</th>\n",
       "      <th></th>\n",
       "      <th></th>\n",
       "      <th></th>\n",
       "      <th></th>\n",
       "      <th></th>\n",
       "      <th></th>\n",
       "    </tr>\n",
       "  </thead>\n",
       "  <tbody>\n",
       "    <tr>\n",
       "      <th>mean</th>\n",
       "      <td>-0.29</td>\n",
       "      <td>-0.41</td>\n",
       "      <td>-0.48</td>\n",
       "      <td>-0.54</td>\n",
       "      <td>-0.58</td>\n",
       "      <td>-0.60</td>\n",
       "    </tr>\n",
       "    <tr>\n",
       "      <th>std dev</th>\n",
       "      <td>48.58</td>\n",
       "      <td>44.84</td>\n",
       "      <td>42.30</td>\n",
       "      <td>40.09</td>\n",
       "      <td>34.88</td>\n",
       "      <td>30.57</td>\n",
       "    </tr>\n",
       "  </tbody>\n",
       "</table>\n",
       "</div>"
      ],
      "text/plain": [
       "           1-Year  2-Year  3-Year  5-Year  10-Year  30-Year\n",
       "statistic                                                  \n",
       "mean        -0.29   -0.41   -0.48   -0.54    -0.58    -0.60\n",
       "std dev     48.58   44.84   42.30   40.09    34.88    30.57"
      ]
     },
     "execution_count": 3,
     "metadata": {},
     "output_type": "execute_result"
    }
   ],
   "source": [
    "tbl1 = df.describe().round(2).iloc[1:3]\n",
    "tbl1 = tbl1.rename(index={\"std\": \"std dev\"}).reset_index()\n",
    "tbl1.columns = [\n",
    "    \"statistic\",\n",
    "    \"1-Year\",\n",
    "    \"2-Year\",\n",
    "    \"3-Year\",\n",
    "    \"5-Year\",\n",
    "    \"10-Year\",\n",
    "    \"30-Year\",\n",
    "]\n",
    "tbl1.set_index('statistic')"
   ]
  },
  {
   "cell_type": "markdown",
   "metadata": {},
   "source": [
    "# TABLE: CORRELATIONS"
   ]
  },
  {
   "cell_type": "code",
   "execution_count": 4,
   "metadata": {},
   "outputs": [
    {
     "data": {
      "text/html": [
       "<div>\n",
       "<style scoped>\n",
       "    .dataframe tbody tr th:only-of-type {\n",
       "        vertical-align: middle;\n",
       "    }\n",
       "\n",
       "    .dataframe tbody tr th {\n",
       "        vertical-align: top;\n",
       "    }\n",
       "\n",
       "    .dataframe thead th {\n",
       "        text-align: right;\n",
       "    }\n",
       "</style>\n",
       "<table border=\"1\" class=\"dataframe\">\n",
       "  <thead>\n",
       "    <tr style=\"text-align: right;\">\n",
       "      <th></th>\n",
       "      <th>1-Year</th>\n",
       "      <th>2-Year</th>\n",
       "      <th>3-Year</th>\n",
       "      <th>5-Year</th>\n",
       "      <th>10-Year</th>\n",
       "      <th>30-Year</th>\n",
       "    </tr>\n",
       "  </thead>\n",
       "  <tbody>\n",
       "    <tr>\n",
       "      <th>1-Year</th>\n",
       "      <td>1.00</td>\n",
       "      <td>0.96</td>\n",
       "      <td>0.92</td>\n",
       "      <td>0.86</td>\n",
       "      <td>0.77</td>\n",
       "      <td>0.71</td>\n",
       "    </tr>\n",
       "    <tr>\n",
       "      <th>2-Year</th>\n",
       "      <td>0.96</td>\n",
       "      <td>1.00</td>\n",
       "      <td>0.98</td>\n",
       "      <td>0.95</td>\n",
       "      <td>0.87</td>\n",
       "      <td>0.78</td>\n",
       "    </tr>\n",
       "    <tr>\n",
       "      <th>3-Year</th>\n",
       "      <td>0.92</td>\n",
       "      <td>0.98</td>\n",
       "      <td>1.00</td>\n",
       "      <td>0.98</td>\n",
       "      <td>0.91</td>\n",
       "      <td>0.82</td>\n",
       "    </tr>\n",
       "    <tr>\n",
       "      <th>5-Year</th>\n",
       "      <td>0.86</td>\n",
       "      <td>0.95</td>\n",
       "      <td>0.98</td>\n",
       "      <td>1.00</td>\n",
       "      <td>0.96</td>\n",
       "      <td>0.88</td>\n",
       "    </tr>\n",
       "    <tr>\n",
       "      <th>10-Year</th>\n",
       "      <td>0.77</td>\n",
       "      <td>0.87</td>\n",
       "      <td>0.91</td>\n",
       "      <td>0.96</td>\n",
       "      <td>1.00</td>\n",
       "      <td>0.95</td>\n",
       "    </tr>\n",
       "    <tr>\n",
       "      <th>30-Year</th>\n",
       "      <td>0.71</td>\n",
       "      <td>0.78</td>\n",
       "      <td>0.82</td>\n",
       "      <td>0.88</td>\n",
       "      <td>0.95</td>\n",
       "      <td>1.00</td>\n",
       "    </tr>\n",
       "  </tbody>\n",
       "</table>\n",
       "</div>"
      ],
      "text/plain": [
       "        1-Year 2-Year 3-Year 5-Year 10-Year 30-Year\n",
       "1-Year    1.00   0.96   0.92   0.86    0.77    0.71\n",
       "2-Year    0.96   1.00   0.98   0.95    0.87    0.78\n",
       "3-Year    0.92   0.98   1.00   0.98    0.91    0.82\n",
       "5-Year    0.86   0.95   0.98   1.00    0.96    0.88\n",
       "10-Year   0.77   0.87   0.91   0.96    1.00    0.95\n",
       "30-Year   0.71   0.78   0.82   0.88    0.95    1.00"
      ]
     },
     "execution_count": 4,
     "metadata": {},
     "output_type": "execute_result"
    }
   ],
   "source": [
    "tbl2 = df.corr().applymap(\"{0:.02f}\".format)\n",
    "tbl2.index  = tbl1.columns[1:]\n",
    "tbl2.columns= tbl1.columns[1:]\n",
    "tbl2"
   ]
  },
  {
   "cell_type": "code",
   "execution_count": null,
   "metadata": {},
   "outputs": [],
   "source": []
  }
 ],
 "metadata": {
  "colab": {
   "authorship_tag": "ABX9TyNkvfgYfmwfEaBdgA7VNRrT",
   "include_colab_link": true,
   "name": "term structure movements.ipynb",
   "provenance": []
  },
  "kernelspec": {
   "display_name": "Python 3",
   "name": "python3"
  },
  "language_info": {
   "codemirror_mode": {
    "name": "ipython",
    "version": 3
   },
   "file_extension": ".py",
   "mimetype": "text/x-python",
   "name": "python",
   "nbconvert_exporter": "python",
   "pygments_lexer": "ipython3",
   "version": "3.10.4"
  }
 },
 "nbformat": 4,
 "nbformat_minor": 0
}
