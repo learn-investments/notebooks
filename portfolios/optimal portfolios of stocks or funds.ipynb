{
  "cells": [
    {
      "cell_type": "markdown",
      "metadata": {
        "id": "view-in-github",
        "colab_type": "text"
      },
      "source": [
        "<a href=\"https://colab.research.google.com/github/bbcx-investments/notebooks/blob/main/portfolios/optimal_yahoo.ipynb\" target=\"_parent\"><img src=\"https://colab.research.google.com/assets/colab-badge.svg\" alt=\"Open In Colab\"/></a>"
      ]
    },
    {
      "cell_type": "code",
      "execution_count": null,
      "outputs": [],
      "source": [
        "import numpy as np\n",
        "from cvxopt import matrix as Matrix\n",
        "from cvxopt.solvers import qp as Solver\n",
        "from cvxopt.solvers import options as SolverOptions\n",
        "SolverOptions['show_progress'] = False\n",
        "\n",
        "def optimal_s(rs, rb, means, cov, raver):\n",
        "    n = len(means)\n",
        "    Q = np.zeros((n + 2, n + 2))\n",
        "    Q[2:, 2:] = raver * cov\n",
        "    Q = Matrix(Q, tc=\"d\")                               # quadratic form that penalizes variance\n",
        "    p = np.array([-rs, rb] + list(-np.array(means)))\n",
        "    p = Matrix(p, (len(p), 1), tc=\"d\")                  # coefficients of objective function\n",
        "    g = np.array([1, -1] + n * [1])\n",
        "    a = np.zeros((2, n + 2))\n",
        "    a[0, 0] = a[1, 1] = -1\n",
        "    G = Matrix(np.vstack([a, g]))                       # coefficients of constraints\n",
        "    h = np.array(2 * [0] + [1])\n",
        "    h = Matrix(h, (len(h), 1), tc=\"d\")                  # right-hand side of constraints\n",
        "    sol = Solver(Q, p, G, h)\n",
        "    return sol['x'] if sol['status']=='optimal' else None\n",
        "\n",
        "def optimal_ns(rs, rb, means, cov, raver) :\n",
        "    n = len(means)\n",
        "    Q = np.zeros((n+2, n+2))\n",
        "    Q[2:,2:] = raver*cov\n",
        "    Q = Matrix(Q, tc='d')                                             # quadratic form that penalizes variance\n",
        "    p = np.array([-rs, rb] + list(-np.array(means)))\n",
        "    p = Matrix(p, (len(p), 1), tc='d')                                # coefficients of objective function\n",
        "    g = np.array([1, -1] + n*[1])\n",
        "    G = Matrix(np.vstack([-np.identity(n+2), g]), tc='d')             # coefficients of constraints\n",
        "    h = np.array((n+2)*[0] + [1])\n",
        "    h = Matrix(h, (len(h), 1), tc='d')                                # right-hand side of constraints\n",
        "    sol = Solver(Q, p, G, h)\n",
        "    return sol['x'] if sol['status']=='optimal' else None\n"
      ],
      "metadata": {
        "pycharm": {
          "name": "#%%\n"
        },
        "id": "IIAtrQWGUpJE"
      }
    },
    {
      "cell_type": "code",
      "execution_count": null,
      "outputs": [
        {
          "data": {
            "text/plain": "Symbols         aple      nvda       amd\nDate                                    \n2015-06-30  0.028191 -0.091279  0.052632\n2015-07-31 -0.033288 -0.007956 -0.195833\n2015-08-31 -0.017914  0.131558 -0.062176\n2015-09-30  0.054143  0.096530 -0.049724\n2015-10-31  0.067416  0.150913  0.232558",
            "text/html": "<div>\n<style scoped>\n    .dataframe tbody tr th:only-of-type {\n        vertical-align: middle;\n    }\n\n    .dataframe tbody tr th {\n        vertical-align: top;\n    }\n\n    .dataframe thead th {\n        text-align: right;\n    }\n</style>\n<table border=\"1\" class=\"dataframe\">\n  <thead>\n    <tr style=\"text-align: right;\">\n      <th>Symbols</th>\n      <th>aple</th>\n      <th>nvda</th>\n      <th>amd</th>\n    </tr>\n    <tr>\n      <th>Date</th>\n      <th></th>\n      <th></th>\n      <th></th>\n    </tr>\n  </thead>\n  <tbody>\n    <tr>\n      <th>2015-06-30</th>\n      <td>0.028191</td>\n      <td>-0.091279</td>\n      <td>0.052632</td>\n    </tr>\n    <tr>\n      <th>2015-07-31</th>\n      <td>-0.033288</td>\n      <td>-0.007956</td>\n      <td>-0.195833</td>\n    </tr>\n    <tr>\n      <th>2015-08-31</th>\n      <td>-0.017914</td>\n      <td>0.131558</td>\n      <td>-0.062176</td>\n    </tr>\n    <tr>\n      <th>2015-09-30</th>\n      <td>0.054143</td>\n      <td>0.096530</td>\n      <td>-0.049724</td>\n    </tr>\n    <tr>\n      <th>2015-10-31</th>\n      <td>0.067416</td>\n      <td>0.150913</td>\n      <td>0.232558</td>\n    </tr>\n  </tbody>\n</table>\n</div>"
          },
          "execution_count": 7,
          "metadata": {},
          "output_type": "execute_result"
        }
      ],
      "source": [
        "from pandas_datareader import DataReader as pdr\n",
        "tickers = ['aple', 'nvda', 'amd']\n",
        "df = pdr(tickers, \"yahoo\", 1970)\n",
        "df = df[\"Adj Close\"].resample(\"M\").last().pct_change().dropna().iloc[:-1]\n",
        "df.head()"
      ],
      "metadata": {
        "pycharm": {
          "name": "#%%\n"
        },
        "id": "8nYys6v2UpJG",
        "outputId": "506e231e-8c80-41f4-a4e0-1d4172f5483c"
      }
    },
    {
      "cell_type": "code",
      "execution_count": null,
      "outputs": [
        {
          "name": "stdout",
          "output_type": "stream",
          "text": [
            "Without Short Sales:\n",
            "optimal amount to save is 0.0%\n",
            "optimal amount to borrow is 0.0%\n",
            "optimal investment in asset aple is 0.0%\n",
            "optimal investment in asset nvda is 55.7%\n",
            "optimal investment in asset amd is 44.3%\n"
          ]
        }
      ],
      "source": [
        "means = df.mean().to_numpy()\n",
        "cov = df.cov().to_numpy()\n",
        "rs = 0.02                             # example savings rate\n",
        "rb = 0.06                             # example borrowing rate\n",
        "raver = 2                             # example risk aversion\n",
        "rs_monthly = (1 + rs) ** (1 / 12) - 1 # monthly savings rate\n",
        "rb_monthly = (1 + rb) ** (1 / 12) - 1 # monthly borrowing rate\n",
        "\n",
        "sol = optimal_ns(rs, rb, means, cov, raver)\n",
        "\n",
        "if sol:\n",
        "    sol = list(sol)\n",
        "    print('Without Short Sales:')\n",
        "    print(f'optimal amount to save is {sol[0]:.1%}')\n",
        "    print(f'optimal amount to borrow is {sol[1]:.1%}')\n",
        "    for i in range(len(means)) :\n",
        "        print(f'optimal investment in asset {tickers[i]} is {sol[i+2]:.1%}')"
      ],
      "metadata": {
        "pycharm": {
          "name": "#%%\n"
        },
        "id": "wnURtk31UpJH",
        "outputId": "1e3f07a1-c04a-495e-8822-c2cf7a8167d9"
      }
    },
    {
      "cell_type": "code",
      "execution_count": null,
      "outputs": [
        {
          "name": "stdout",
          "output_type": "stream",
          "text": [
            "Without Short Sales:\n",
            "optimal amount to save is 158.4%\n",
            "optimal amount to borrow is 0.0%\n",
            "optimal investment in asset aple is -198.0%\n",
            "optimal investment in asset nvda is 77.0%\n",
            "optimal investment in asset amd is 62.7%\n"
          ]
        }
      ],
      "source": [
        "means = df.mean().to_numpy()\n",
        "cov = df.cov().to_numpy()\n",
        "rs = 0.02                             # example savings rate\n",
        "rb = 0.06                             # example borrowing rate\n",
        "raver = 2                             # example risk aversion\n",
        "rs_monthly = (1 + rs) ** (1 / 12) - 1 # monthly savings rate\n",
        "rb_monthly = (1 + rb) ** (1 / 12) - 1 # monthly borrowing rate\n",
        "\n",
        "sol = optimal_s(rs, rb, means, cov, raver)\n",
        "\n",
        "if sol:\n",
        "    sol = list(sol)\n",
        "    print('Without Short Sales:')\n",
        "    print(f'optimal amount to save is {sol[0]:.1%}')\n",
        "    print(f'optimal amount to borrow is {sol[1]:.1%}')\n",
        "    for i in range(len(means)) :\n",
        "        print(f'optimal investment in asset {tickers[i]} is {sol[i+2]:.1%}')"
      ],
      "metadata": {
        "pycharm": {
          "name": "#%%\n"
        },
        "id": "mgp3iGbaUpJI",
        "outputId": "50d58712-4f59-4c78-9567-4df8674318d7"
      }
    },
    {
      "cell_type": "code",
      "execution_count": null,
      "outputs": [],
      "source": [
        ""
      ],
      "metadata": {
        "pycharm": {
          "name": "#%%\n"
        },
        "id": "4yEbre4JUpJJ"
      }
    }
  ],
  "metadata": {
    "kernelspec": {
      "display_name": "Python 3",
      "language": "python",
      "name": "python3"
    },
    "language_info": {
      "codemirror_mode": {
        "name": "ipython",
        "version": 2
      },
      "file_extension": ".py",
      "mimetype": "text/x-python",
      "name": "python",
      "nbconvert_exporter": "python",
      "pygments_lexer": "ipython2",
      "version": "2.7.6"
    },
    "colab": {
      "name": "optimal_yahoo.ipynb",
      "provenance": [],
      "include_colab_link": true
    }
  },
  "nbformat": 4,
  "nbformat_minor": 0
}