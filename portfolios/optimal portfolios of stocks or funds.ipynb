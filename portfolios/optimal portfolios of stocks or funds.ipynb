{
 "cells": [
  {
   "cell_type": "markdown",
   "metadata": {},
   "source": [
    "---\n",
    "\n",
    "Created for [learn-investments.rice-business.org](https://learn-investments.rice-business.org)\n",
    "    \n",
    "By [Kerry Back](https://kerryback.com) and [Kevin Crotty](https://kevincrotty.rice.edu/)\n",
    "    \n",
    "Jones Graduate School of Business, Rice University\n",
    "\n",
    "---\n"
   ]
  },
  {
   "cell_type": "markdown",
   "metadata": {},
   "source": [
    "# EXAMPLE DATA"
   ]
  },
  {
   "cell_type": "code",
   "execution_count": 10,
   "metadata": {},
   "outputs": [],
   "source": [
    "# stocks/funds to study\n",
    "tickers = (\n",
    "    \"SPY\",\n",
    "    \"GLD\",\n",
    "    \"IEF\",\n",
    "    \"LQD\"\n",
    ")\n",
    "\n",
    "# risk-free rate (monthly)\n",
    "rf = 0.02 / 12\n",
    "\n",
    "# or savings rate and borrowing rate (monthly)\n",
    "rs = 0.02 / 12\n",
    "rb = 0.05 / 12\n",
    "\n",
    "# risk aversion\n",
    "raver = 6"
   ]
  },
  {
   "cell_type": "markdown",
   "metadata": {},
   "source": [
    "# GET DATA"
   ]
  },
  {
   "cell_type": "code",
   "execution_count": 3,
   "metadata": {},
   "outputs": [
    {
     "name": "stdout",
     "output_type": "stream",
     "text": [
      "[*********************100%***********************]  4 of 4 completed\n"
     ]
    }
   ],
   "source": [
    "import yfinance as yf\n",
    "\n",
    "df = yf.download(\" \".join(tickers), start=\"1970-01-01\")\n",
    "df = df[\"Adj Close\"].resample(\"M\").last().pct_change().dropna().iloc[:-1]"
   ]
  },
  {
   "cell_type": "markdown",
   "metadata": {},
   "source": [
    "# COMPUTE HISTORICAL PARAMETERS"
   ]
  },
  {
   "cell_type": "code",
   "execution_count": 11,
   "metadata": {},
   "outputs": [],
   "source": [
    "mn = df.mean()\n",
    "sd = df.std()\n",
    "cov = df.cov()\n",
    "\n",
    "num_assets = df.shape[1]"
   ]
  },
  {
   "cell_type": "markdown",
   "metadata": {},
   "source": [
    "# INSTALL LIBRARIES"
   ]
  },
  {
   "cell_type": "code",
   "execution_count": 12,
   "metadata": {},
   "outputs": [
    {
     "name": "stdout",
     "output_type": "stream",
     "text": [
      "Requirement already satisfied: cvxopt in c:\\users\\kerry\\appdata\\local\\programs\\python\\python310\\lib\\site-packages (1.3.0)\n"
     ]
    },
    {
     "name": "stderr",
     "output_type": "stream",
     "text": [
      "\n",
      "[notice] A new release of pip available: 22.3.1 -> 23.2.1\n",
      "[notice] To update, run: python.exe -m pip install --upgrade pip\n"
     ]
    }
   ],
   "source": [
    "!pip install cvxopt"
   ]
  },
  {
   "cell_type": "markdown",
   "metadata": {},
   "source": [
    "# OPTIMAL PORTFOLIO 1\n",
    "\n",
    "Use this if the borrowing and savings rate are the same and short sales are allowed.\n",
    "\n",
    "The mean and standard deviation are annualized."
   ]
  },
  {
   "cell_type": "code",
   "execution_count": 13,
   "metadata": {},
   "outputs": [
    {
     "name": "stdout",
     "output_type": "stream",
     "text": [
      "optimal savings is  0.000\n",
      "optimal borrowing is  0.341\n",
      "optimal expected return is  0.101\n",
      "optimal standard deviation is  0.116\n",
      "optimal portfolio is\n"
     ]
    },
    {
     "data": {
      "text/plain": [
       "GLD    0.293101\n",
       "IEF    1.153926\n",
       "LQD   -0.927969\n",
       "SPY    0.822367\n",
       "dtype: float64"
      ]
     },
     "execution_count": 13,
     "metadata": {},
     "output_type": "execute_result"
    }
   ],
   "source": [
    "import numpy as np\n",
    "import pandas as pd\n",
    "\n",
    "optimum = np.linalg.solve(raver*cov, mn-rf)\n",
    "optimum_mn = 12 * (rf + optimum @ (mn-rf))\n",
    "optimum_sd = np.sqrt(12 * optimum @ cov @ optimum)\n",
    "\n",
    "print(f\"optimal savings is {max(0, 1-np.sum(optimum)): 0.3f}\")\n",
    "print(f\"optimal borrowing is {max(0, np.sum(optimum)-1): 0.3f}\")\n",
    "print(f\"optimal expected return is {optimum_mn: 0.3f}\")\n",
    "print(f\"optimal standard deviation is {optimum_sd: 0.3f}\")\n",
    "print(\"optimal portfolio is\")\n",
    "pd.Series(optimum, index=df.columns)"
   ]
  },
  {
   "cell_type": "markdown",
   "metadata": {},
   "source": [
    "# OPTIMAL PORTFOLIO 2\n",
    "\n",
    "Use this if the borrowing rate is greater than the savings rate and short sales are allowed.    \n",
    "\n",
    "The mean and standard deviation are annualized."
   ]
  },
  {
   "cell_type": "code",
   "execution_count": 14,
   "metadata": {},
   "outputs": [
    {
     "name": "stdout",
     "output_type": "stream",
     "text": [
      "     pcost       dcost       gap    pres   dres\n",
      " 0: -4.9581e-03 -4.9540e-03  3e-03  1e+00  2e-18\n",
      " 1: -4.9540e-03 -4.9540e-03  3e-05  1e-02  1e-18\n",
      " 2: -4.9540e-03 -4.9540e-03  3e-07  1e-04  1e-18\n",
      " 3: -4.9540e-03 -4.9540e-03  3e-09  1e-06  2e-18\n",
      " 4: -4.9540e-03 -4.9540e-03  3e-11  1e-08  2e-18\n",
      "Optimal solution found.\n",
      "optimal savings is  0.000\n",
      "optimal borrowing is -0.000\n",
      "optimal expected return is  0.092\n",
      "optimal standard deviation is  0.105\n",
      "optimal portfolio is\n"
     ]
    },
    {
     "data": {
      "text/plain": [
       "GLD    0.295431\n",
       "IEF    0.843902\n",
       "LQD   -0.887948\n",
       "SPY    0.748615\n",
       "dtype: float64"
      ]
     },
     "execution_count": 14,
     "metadata": {},
     "output_type": "execute_result"
    }
   ],
   "source": [
    "from cvxopt import matrix\n",
    "from cvxopt.solvers import qp\n",
    "\n",
    "# to define variance penalty\n",
    "P = np.zeros((num_assets+2, num_assets+2))\n",
    "P[2:,2:] = raver*cov\n",
    "\n",
    "# to define (minus) expected return \n",
    "q = np.concatenate(\n",
    "    (\n",
    "        np.array([-rs, rb]),\n",
    "        -mn\n",
    "    )\n",
    ")\n",
    "\n",
    "# to impose -xs <= 0 and -xb <= 0\n",
    "G = np.zeros((2, num_assets+2))\n",
    "G[0, 0] = G[1, 1] = -1\n",
    "h = np.zeros(2)\n",
    "\n",
    "# to impose xs - xb + w1 + w2 + w3 = 1\n",
    "A = np.ones(num_assets+2)\n",
    "A[1] = -1\n",
    "b = [1.]\n",
    "\n",
    "# create cvxopt matrix objects\n",
    "P = matrix(P, (num_assets+2, num_assets+2))\n",
    "q = matrix(q, (num_assets+2, 1))\n",
    "G = matrix(G, (2, num_assets+2))\n",
    "h = matrix(h, (2, 1))\n",
    "A = matrix(A, (1, num_assets+2))\n",
    "b = matrix(b, (1, 1))\n",
    "\n",
    "# compute optimum by quadratic programming\n",
    "solution = qp(P=P, q=q, G=G, h=h, A=A, b=b)\n",
    "optimum = np.array(solution[\"x\"])\n",
    "xs, xb = optimum[0].item(), optimum[1].item()\n",
    "optimum = optimum[2:].reshape(-1, )\n",
    "\n",
    "# expected return and risk\n",
    "optimum_mn = 12 * (xs*rs - xb*rb + optimum @ mn)\n",
    "optimum_sd = np.sqrt(12 * optimum @ cov @ optimum)\n",
    "\n",
    "print(f\"optimal savings is {xs: 0.3f}\")\n",
    "print(f\"optimal borrowing is {xb: 0.3f}\")\n",
    "print(f\"optimal expected return is {optimum_mn: 0.3f}\")\n",
    "print(f\"optimal standard deviation is {optimum_sd: 0.3f}\")\n",
    "print(\"optimal portfolio is\")\n",
    "pd.Series(optimum, index=df.columns)"
   ]
  },
  {
   "cell_type": "markdown",
   "metadata": {},
   "source": [
    "# OPTIMAL PORTFOLIO 3\n",
    "\n",
    "Use this if short sales are not allowed.  If the borrowing and savings rate are the same (=rf) then add the line:\n",
    "\n",
    "    rb = rs = rf\n",
    "\n",
    "The mean and standard deviation are annualized."
   ]
  },
  {
   "cell_type": "code",
   "execution_count": 15,
   "metadata": {},
   "outputs": [
    {
     "name": "stdout",
     "output_type": "stream",
     "text": [
      "     pcost       dcost       gap    pres   dres\n",
      " 0: -3.8682e-03 -6.1445e-01  8e+00  3e+00  3e+00\n",
      " 1:  8.5981e-04 -1.2910e+00  2e+00  6e-01  6e-01\n",
      " 2:  8.0955e-03 -5.6037e-02  6e-02  2e-02  2e-02\n",
      " 3:  6.4904e-04 -7.2342e-03  8e-03  2e-16  3e-18\n",
      " 4: -3.7638e-03 -4.9557e-03  1e-03  3e-16  1e-18\n",
      " 5: -4.4549e-03 -4.5142e-03  6e-05  6e-17  9e-19\n",
      " 6: -4.4840e-03 -4.4852e-03  1e-06  2e-16  8e-19\n",
      " 7: -4.4848e-03 -4.4848e-03  1e-08  1e-16  1e-18\n",
      "Optimal solution found.\n",
      "optimal savings is  0.000\n",
      "optimal borrowing is  0.000\n",
      "optimal expected return is  0.083\n",
      "optimal std dev is  0.098\n",
      "optimal portfolio is\n"
     ]
    },
    {
     "data": {
      "text/plain": [
       "GLD    0.283148\n",
       "IEF    0.189722\n",
       "LQD    0.000006\n",
       "SPY    0.527123\n",
       "dtype: float64"
      ]
     },
     "execution_count": 15,
     "metadata": {},
     "output_type": "execute_result"
    }
   ],
   "source": [
    "from cvxopt import matrix\n",
    "from cvxopt.solvers import qp\n",
    "\n",
    "# to define variance penalty\n",
    "P = np.zeros((num_assets+2, num_assets+2))\n",
    "P[2:,2:] = raver*cov\n",
    "\n",
    "# to define (minus) expected return \n",
    "q = np.concatenate(\n",
    "    (\n",
    "        np.array([-rs, rb]),\n",
    "        -mn\n",
    "    )\n",
    ")\n",
    "\n",
    "# to impose -xs <= 0 and -xb <= 0 and -w <= 0\n",
    "G = -np.identity(num_assets+2)\n",
    "h = np.zeros(num_assets+2)\n",
    "\n",
    "# to impose xs - xb + w1 + w2 + w3 = 1\n",
    "A = np.ones(num_assets+2)\n",
    "A[1] = -1\n",
    "b = [1.]\n",
    "\n",
    "# create cvxopt matrix objects\n",
    "P = matrix(P, (num_assets+2, num_assets+2))\n",
    "q = matrix(q, (num_assets+2, 1))\n",
    "G = matrix(G, (num_assets+2, num_assets+2))\n",
    "h = matrix(h, (num_assets+2, 1))\n",
    "A = matrix(A, (1, num_assets+2))\n",
    "b = matrix(b, (1, 1))\n",
    "\n",
    "# compute optimum by quadratic programming\n",
    "solution = qp(P=P, q=q, G=G, h=h, A=A, b=b)\n",
    "optimum = np.array(solution[\"x\"])\n",
    "xs, xb = optimum[0].item(), optimum[1].item()\n",
    "optimum = optimum[2:].reshape(-1, )\n",
    "\n",
    "# expected return and risk\n",
    "optimum_mn = 12 * (xs*rs - xb*rb + optimum @ mn)\n",
    "optimum_sd = np.sqrt(12 * optimum @ cov @ optimum)\n",
    "\n",
    "print(f\"optimal savings is {xs: 0.3f}\")\n",
    "print(f\"optimal borrowing is {xb: 0.3f}\")\n",
    "print(f\"optimal expected return is {optimum_mn: 0.3f}\")\n",
    "print(f\"optimal std dev is {optimum_sd: 0.3f}\")\n",
    "print(\"optimal portfolio is\")\n",
    "pd.Series(optimum, index=df.columns)"
   ]
  }
 ],
 "metadata": {
  "kernelspec": {
   "display_name": "Python 3",
   "language": "python",
   "name": "python3"
  },
  "language_info": {
   "codemirror_mode": {
    "name": "ipython",
    "version": 3
   },
   "file_extension": ".py",
   "mimetype": "text/x-python",
   "name": "python",
   "nbconvert_exporter": "python",
   "pygments_lexer": "ipython3",
   "version": "3.10.8"
  },
  "orig_nbformat": 4
 },
 "nbformat": 4,
 "nbformat_minor": 2
}
