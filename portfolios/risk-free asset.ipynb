{
  "cells": [
    {
      "cell_type": "markdown",
      "metadata": {
        "id": "view-in-github",
        "colab_type": "text"
      },
      "source": [
        "<a href=\"https://colab.research.google.com/github/bbcx-investments/notebooks/blob/main/portfolios/riskfree.ipynb\" target=\"_parent\"><img src=\"https://colab.research.google.com/assets/colab-badge.svg\" alt=\"Open In Colab\"/></a>"
      ]
    },
    {
      "cell_type": "code",
      "execution_count": null,
      "outputs": [],
      "source": [
        "import numpy as np\n",
        "\n",
        "mn = 0.1        # mean of the risky asset\n",
        "sd = 0.3        # std dev of the risky asset\n",
        "sr = 0.02       # saving rate\n",
        "br = 0.06       # borrowing rate\n",
        "wt = 0.4        # weight of the risky asset\n",
        "wt_rf= 1-wt     # weight of the risky-free asset, positive if saving and negative if borrowing\n",
        "\n",
        "portfolio_mean = wt*mn + max(wt_rf,0)*sr + min(wt_rf,0)*br\n",
        "portfolio_variance = wt**2 * sd**2\n",
        "portfolio_stdev = np.sqrt(portfolio_variance)"
      ],
      "metadata": {
        "pycharm": {
          "name": "#%%\n"
        },
        "id": "QoLPhpvfne-j"
      }
    }
  ],
  "metadata": {
    "kernelspec": {
      "display_name": "Python 3",
      "language": "python",
      "name": "python3"
    },
    "language_info": {
      "codemirror_mode": {
        "name": "ipython",
        "version": 2
      },
      "file_extension": ".py",
      "mimetype": "text/x-python",
      "name": "python",
      "nbconvert_exporter": "python",
      "pygments_lexer": "ipython2",
      "version": "2.7.6"
    },
    "colab": {
      "name": "riskfree",
      "provenance": [],
      "include_colab_link": true
    }
  },
  "nbformat": 4,
  "nbformat_minor": 0
}