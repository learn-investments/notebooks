{
 "cells": [
  {
   "cell_type": "markdown",
   "metadata": {},
   "source": [
    "# EXAMPLE DATA"
   ]
  },
  {
   "cell_type": "code",
   "execution_count": 11,
   "metadata": {},
   "outputs": [],
   "source": [
    "# number of risky assets\n",
    "num_assets = 3\n",
    "\n",
    "# means\n",
    "mn1 = 0.08\n",
    "mn2 = 0.12\n",
    "mn3 = 0.15\n",
    "\n",
    "# std devs\n",
    "sd1 = 0.15\n",
    "sd2 = 0.25\n",
    "sd3 = 0.35\n",
    "\n",
    "# correlations\n",
    "c12 = 0.15\n",
    "c13 = 0.60\n",
    "c23 = 0.30\n",
    "\n",
    "# risk-free rate\n",
    "rf = 0.02\n",
    "\n",
    "# or savings rate and borrowing rate\n",
    "rs = 0.02\n",
    "rb = 0.05\n",
    "\n",
    "# risk aversion\n",
    "raver = 6"
   ]
  },
  {
   "cell_type": "markdown",
   "metadata": {},
   "source": [
    "# INSTALL LIBRARIES"
   ]
  },
  {
   "cell_type": "code",
   "execution_count": null,
   "metadata": {},
   "outputs": [],
   "source": [
    "!pip install cvxopt"
   ]
  },
  {
   "cell_type": "markdown",
   "metadata": {},
   "source": [
    "# CREATE ARRAYS"
   ]
  },
  {
   "cell_type": "code",
   "execution_count": 12,
   "metadata": {},
   "outputs": [],
   "source": [
    "import numpy as np \n",
    "\n",
    "mn = np.array([mn1, mn2, mn3,])\n",
    "sd = np.array([sd1, sd2, sd3])\n",
    "\n",
    "corr = np.identity(3)\n",
    "corr[0, 1] = corr[1, 0] = c12\n",
    "corr[0, 2] = corr[2, 0] = c13\n",
    "corr[1, 2] = corr[2, 1] = c23\n",
    "\n",
    "cov = np.diag(sd) @ corr @ np.diag(sd)"
   ]
  },
  {
   "cell_type": "markdown",
   "metadata": {},
   "source": [
    "# CHECK CORRELATIONS"
   ]
  },
  {
   "cell_type": "code",
   "execution_count": 13,
   "metadata": {},
   "outputs": [
    {
     "name": "stdout",
     "output_type": "stream",
     "text": [
      "correlations are acceptable\n"
     ]
    }
   ],
   "source": [
    "if np.all(np.linalg.eigvals(cov) > 0):\n",
    "    print(\"correlations are acceptable\")\n",
    "else:\n",
    "    print(\"correlations are inconsistent\")"
   ]
  },
  {
   "cell_type": "markdown",
   "metadata": {},
   "source": [
    "# OPTIMAL PORTFOLIO 1\n",
    "\n",
    "Use this if the borrowing and savings rate are the same and short sales are allowed."
   ]
  },
  {
   "cell_type": "code",
   "execution_count": 21,
   "metadata": {},
   "outputs": [
    {
     "name": "stdout",
     "output_type": "stream",
     "text": [
      "optimal savings is  0.411\n",
      "optimal borrowing is  0.000\n",
      "optimal portfolio of risky assets is [0.32455745 0.21782746 0.04673581]\n",
      "optimal expected return is  0.067\n",
      "optimal std dev is  0.089\n"
     ]
    }
   ],
   "source": [
    "optimum = np.linalg.solve(raver*cov, mn-rf)\n",
    "optimum_mn = rf + optimum @ (mn-rf)\n",
    "optimum_sd = np.sqrt(optimum @ cov @ optimum)\n",
    "\n",
    "print(f\"optimal savings is {max(0, 1-np.sum(optimum)): 0.3f}\")\n",
    "print(f\"optimal borrowing is {max(0, np.sum(optimum)-1): 0.3f}\")\n",
    "print(f\"optimal portfolio of risky assets is {optimum}\")\n",
    "print(f\"optimal expected return is {optimum_mn: 0.3f}\")\n",
    "print(f\"optimal standard deviation is {optimum_sd: 0.3f}\")"
   ]
  },
  {
   "cell_type": "markdown",
   "metadata": {},
   "source": [
    "# OPTIMAL PORTFOLIO 2\n",
    "\n",
    "Use this if the borrowing rate is greater than the savings rate and short sales are allowed.    "
   ]
  },
  {
   "cell_type": "code",
   "execution_count": 27,
   "metadata": {},
   "outputs": [
    {
     "name": "stdout",
     "output_type": "stream",
     "text": [
      "     pcost       dcost       gap    pres   dres\n",
      " 0: -4.0439e-02 -4.5721e-03  2e+00  2e+00  1e+00\n",
      " 1: -1.5522e-02 -9.4543e-02  8e-02  4e-02  4e-02\n",
      " 2: -3.2415e-02 -4.4584e-02  1e-02  1e-15  2e-17\n",
      " 3: -4.3552e-02 -4.3904e-02  4e-04  4e-16  6e-18\n",
      " 4: -4.3665e-02 -4.3668e-02  4e-06  2e-16  1e-17\n",
      " 5: -4.3666e-02 -4.3666e-02  4e-08  2e-16  2e-17\n",
      "Optimal solution found.\n",
      "optimal savings is  0.411\n",
      "optimal borrowing is  0.000\n",
      "optimal portfolio of risky assets is [0.32455691 0.21782731 0.04673589]\n",
      "optimal expected return is  0.067\n",
      "optimal standard deviation is  0.089\n"
     ]
    }
   ],
   "source": [
    "from cvxopt import matrix\n",
    "from cvxopt.solvers import qp\n",
    "\n",
    "# to define variance penalty\n",
    "P = np.zeros((num_assets+2, num_assets+2))\n",
    "P[2:,2:] = raver*cov\n",
    "\n",
    "# to define (minus) expected return \n",
    "q = np.concatenate(\n",
    "    (\n",
    "        np.array([-rs, rb]),\n",
    "        -mn\n",
    "    )\n",
    ")\n",
    "\n",
    "# to impose -xs <= 0 and -xb <= 0\n",
    "G = np.zeros((2, num_assets+2))\n",
    "G[0, 0] = G[1, 1] = -1\n",
    "h = np.zeros(2)\n",
    "\n",
    "# to impose xs - xb + w1 + w2 + w3 = 1\n",
    "A = np.ones(num_assets+2)\n",
    "A[1] = -1\n",
    "b = [1.]\n",
    "\n",
    "# create cvxopt matrix objects\n",
    "P = matrix(P, (num_assets+2, num_assets+2))\n",
    "q = matrix(q, (num_assets+2, 1))\n",
    "G = matrix(G, (2, num_assets+2))\n",
    "h = matrix(h, (2, 1))\n",
    "A = matrix(A, (1, num_assets+2))\n",
    "b = matrix(b, (1, 1))\n",
    "\n",
    "# compute optimum by quadratic programming\n",
    "solution = qp(P=P, q=q, G=G, h=h, A=A, b=b)\n",
    "optimum = np.array(solution[\"x\"])\n",
    "xs, xb = optimum[0].item(), optimum[1].item()\n",
    "optimum = optimum[2:].reshape(-1, )\n",
    "\n",
    "# expected return and risk\n",
    "optimum_mn = xs*rs - xb*rb + optimum @ mn\n",
    "optimum_sd = np.sqrt(optimum @ cov @ optimum)\n",
    "\n",
    "print(f\"optimal savings is {xs: 0.3f}\")\n",
    "print(f\"optimal borrowing is {xb: 0.3f}\")\n",
    "print(f\"optimal portfolio of risky assets is {optimum}\")\n",
    "print(f\"optimal expected return is {optimum_mn: 0.3f}\")\n",
    "print(f\"optimal standard deviation is {optimum_sd: 0.3f}\")"
   ]
  },
  {
   "cell_type": "markdown",
   "metadata": {},
   "source": [
    "# OPTIMAL PORTFOLIO 3\n",
    "\n",
    "Use this if short sales are not allowed.  If the borrowing and savings rate are the same (=rf) then add the line:\n",
    "\n",
    "    rb = rs = rf"
   ]
  },
  {
   "cell_type": "code",
   "execution_count": 30,
   "metadata": {},
   "outputs": [
    {
     "name": "stdout",
     "output_type": "stream",
     "text": [
      "     pcost       dcost       gap    pres   dres\n",
      " 0: -4.8185e-02 -4.8058e-01  7e+00  3e+00  3e+00\n",
      " 1:  1.0156e-01 -8.5350e-01  1e+00  3e-01  3e-01\n",
      " 2:  5.2138e-03 -1.3843e-01  1e-01  3e-15  1e-16\n",
      " 3: -4.0064e-02 -8.0442e-02  4e-02  9e-16  5e-17\n",
      " 4: -3.4882e-02 -5.5854e-02  2e-02  2e-16  2e-17\n",
      " 5: -4.3490e-02 -4.4356e-02  9e-04  2e-16  1e-17\n",
      " 6: -4.3663e-02 -4.3712e-02  5e-05  2e-16  2e-17\n",
      " 7: -4.3666e-02 -4.3666e-02  6e-07  6e-17  1e-17\n",
      " 8: -4.3666e-02 -4.3666e-02  6e-09  1e-16  2e-17\n",
      "Optimal solution found.\n",
      "optimal savings is  0.411\n",
      "optimal borrowing is  0.000\n",
      "optimal portfolio of risky assets is [0.3245571  0.21782738 0.04673607]\n",
      "optimal expected return is  0.067\n",
      "optimal std dev is  0.089\n"
     ]
    }
   ],
   "source": [
    "from cvxopt import matrix\n",
    "from cvxopt.solvers import qp\n",
    "\n",
    "# to define variance penalty\n",
    "P = np.zeros((num_assets+2, num_assets+2))\n",
    "P[2:,2:] = raver*cov\n",
    "\n",
    "# to define (minus) expected return \n",
    "q = np.concatenate(\n",
    "    (\n",
    "        np.array([-rs, rb]),\n",
    "        -mn\n",
    "    )\n",
    ")\n",
    "\n",
    "# to impose -xs <= 0 and -xb <= 0 and -w <= 0\n",
    "G = -np.identity(num_assets+2)\n",
    "h = np.zeros(num_assets+2)\n",
    "\n",
    "# to impose xs - xb + w1 + w2 + w3 = 1\n",
    "A = np.ones(num_assets+2)\n",
    "A[1] = -1\n",
    "b = [1.]\n",
    "\n",
    "# create cvxopt matrix objects\n",
    "P = matrix(P, (num_assets+2, num_assets+2))\n",
    "q = matrix(q, (num_assets+2, 1))\n",
    "G = matrix(G, (num_assets+2, num_assets+2))\n",
    "h = matrix(h, (num_assets+2, 1))\n",
    "A = matrix(A, (1, num_assets+2))\n",
    "b = matrix(b, (1, 1))\n",
    "\n",
    "# compute optimum by quadratic programming\n",
    "solution = qp(P=P, q=q, G=G, h=h, A=A, b=b)\n",
    "optimum = np.array(solution[\"x\"])\n",
    "xs, xb = optimum[0].item(), optimum[1].item()\n",
    "optimum = optimum[2:].reshape(-1, )\n",
    "\n",
    "# expected return and risk\n",
    "optimum_mn = xs*rs - xb*rb + optimum @ mn\n",
    "optimum_sd = np.sqrt(optimum @ cov @ optimum)\n",
    "\n",
    "print(f\"optimal savings is {xs: 0.3f}\")\n",
    "print(f\"optimal borrowing is {xb: 0.3f}\")\n",
    "print(f\"optimal portfolio of risky assets is {optimum}\")\n",
    "print(f\"optimal expected return is {optimum_mn: 0.3f}\")\n",
    "print(f\"optimal std dev is {optimum_sd: 0.3f}\")"
   ]
  }
 ],
 "metadata": {
  "kernelspec": {
   "display_name": "Python 3",
   "language": "python",
   "name": "python3"
  },
  "language_info": {
   "codemirror_mode": {
    "name": "ipython",
    "version": 3
   },
   "file_extension": ".py",
   "mimetype": "text/x-python",
   "name": "python",
   "nbconvert_exporter": "python",
   "pygments_lexer": "ipython3",
   "version": "3.10.8"
  },
  "orig_nbformat": 4
 },
 "nbformat": 4,
 "nbformat_minor": 2
}
