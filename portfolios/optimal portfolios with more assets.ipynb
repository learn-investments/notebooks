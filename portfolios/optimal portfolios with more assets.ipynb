{
  "cells": [
    {
      "cell_type": "markdown",
      "metadata": {
        "id": "view-in-github",
        "colab_type": "text"
      },
      "source": [
        "<a href=\"https://colab.research.google.com/github/bbcx-investments/notebooks/blob/main/portfolios/optimal_short.ipynb\" target=\"_parent\"><img src=\"https://colab.research.google.com/assets/colab-badge.svg\" alt=\"Open In Colab\"/></a>"
      ]
    },
    {
      "cell_type": "code",
      "execution_count": null,
      "metadata": {
        "collapsed": true,
        "pycharm": {
          "name": "#%%\n"
        },
        "id": "aLIsrp9IUKmb",
        "outputId": "ece443a8-6779-4898-a8cb-8df71fa995a2"
      },
      "outputs": [
        {
          "name": "stdout",
          "output_type": "stream",
          "text": [
            "Requirement already satisfied: cvxopt in ./venv/lib/python3.8/site-packages (1.3.0)\r\n",
            "\u001b[33mWARNING: You are using pip version 21.3.1; however, version 22.1.2 is available.\r\n",
            "You should consider upgrading via the '/Users/kailiao/PycharmProjects/appcode_draft/venv/bin/python -m pip install --upgrade pip' command.\u001b[0m\r\n"
          ]
        }
      ],
      "source": [
        "!pip install cvxopt"
      ]
    },
    {
      "cell_type": "code",
      "execution_count": null,
      "outputs": [
        {
          "name": "stdout",
          "output_type": "stream",
          "text": [
            "optimal amount to save is -0.0%\n",
            "optimal amount to borrow is -0.0%\n",
            "optimal investment in asset 1 is -67.5%\n",
            "optimal investment in asset 2 is 72.5%\n",
            "optimal investment in asset 3 is 95.0%\n"
          ]
        }
      ],
      "source": [
        "import numpy as np\n",
        "from cvxopt import matrix as Matrix\n",
        "from cvxopt.solvers import qp as Solver\n",
        "from cvxopt.solvers import options as SolverOptions\n",
        "SolverOptions['show_progress'] = False\n",
        "\n",
        "#-----------------------------------------------\n",
        "#\n",
        "# choice variables are xs=amount to save, xb=amount to borrow, and w=portfolio weights\n",
        "# constraints are xs>=0, xb>=0, xs + 1'w <= 1, and -xb + 1'w <= 1\n",
        "# objective function (to minimize) is - rs*xs + rb*xb - means'w\n",
        "#\n",
        "#-----------------------------------------------\n",
        "\n",
        "\n",
        "def optimal(rs, rb, means, cov, raver):\n",
        "    n = len(means)\n",
        "    Q = np.zeros((n + 2, n + 2))\n",
        "    Q[2:, 2:] = raver * cov\n",
        "    Q = Matrix(Q, tc=\"d\")                               # quadratic form that penalizes variance\n",
        "    p = np.array([-rs, rb] + list(-np.array(means)))\n",
        "    p = Matrix(p, (len(p), 1), tc=\"d\")                  # coefficients of objective function\n",
        "    g = np.array([1, -1] + n * [1])\n",
        "    a = np.zeros((2, n + 2))\n",
        "    a[0, 0] = a[1, 1] = -1\n",
        "    G = Matrix(np.vstack([a, g]))                       # coefficients of constraints\n",
        "    h = np.array(2 * [0] + [1])\n",
        "    h = Matrix(h, (len(h), 1), tc=\"d\")                  # right-hand side of constraints\n",
        "    sol = Solver(Q, p, G, h)\n",
        "    return sol['x'] if sol['status']=='optimal' else None\n",
        "\n",
        "# example data\n",
        "\n",
        "means = np.array([0.05, 0.15, 0.20])  # expected returns\n",
        "sds = np.array([0.15, 0.25, 0.30])    # standard deviations\n",
        "c12 = 0.2                             # correlations (1 with 2, 1 with 3, and 2 with 3)\n",
        "c13 = 0.5\n",
        "c23 = 0.3\n",
        "rs = 0.02                             # savings rate\n",
        "rb = 0.06                             # borrowing rate\n",
        "raver = 2                             # risk aversion\n",
        "\n",
        "# solution\n",
        "\n",
        "corr = np.array([[1,c12,c13], [c12,1,c23], [c13,c23,1]])\n",
        "cov = np.diag(sds) @ corr @ np.diag(sds)\n",
        "sol = optimal(rs, rb, means, cov, raver)\n",
        "\n",
        "if sol:\n",
        "  sol = list(sol)\n",
        "  print(f'optimal amount to save is {sol[0]:.1%}')\n",
        "  print(f'optimal amount to borrow is {sol[1]:.1%}')\n",
        "  for i in range(len(means)) :\n",
        "    print(f'optimal investment in asset {i+1} is {sol[i+2]:.1%}')"
      ],
      "metadata": {
        "pycharm": {
          "name": "#%%\n"
        },
        "id": "rpgKGxt9UKmd",
        "outputId": "1ff29167-c803-47ae-edc8-078001f8d8fa"
      }
    },
    {
      "cell_type": "code",
      "execution_count": null,
      "outputs": [],
      "source": [
        ""
      ],
      "metadata": {
        "pycharm": {
          "name": "#%%\n"
        },
        "id": "1NBm4JmMUKme"
      }
    }
  ],
  "metadata": {
    "kernelspec": {
      "display_name": "Python 3",
      "language": "python",
      "name": "python3"
    },
    "language_info": {
      "codemirror_mode": {
        "name": "ipython",
        "version": 2
      },
      "file_extension": ".py",
      "mimetype": "text/x-python",
      "name": "python",
      "nbconvert_exporter": "python",
      "pygments_lexer": "ipython2",
      "version": "2.7.6"
    },
    "colab": {
      "name": "optimal_short.ipynb",
      "provenance": [],
      "include_colab_link": true
    }
  },
  "nbformat": 4,
  "nbformat_minor": 0
}