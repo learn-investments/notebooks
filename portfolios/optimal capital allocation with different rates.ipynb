{
  "nbformat": 4,
  "nbformat_minor": 0,
  "metadata": {
    "colab": {
      "name": "optimal.ipynb",
      "provenance": [],
      "collapsed_sections": [],
      "include_colab_link": true
    },
    "kernelspec": {
      "name": "python3",
      "display_name": "Python 3"
    },
    "language_info": {
      "name": "python"
    }
  },
  "cells": [
    {
      "cell_type": "markdown",
      "metadata": {
        "id": "view-in-github",
        "colab_type": "text"
      },
      "source": [
        "<a href=\"https://colab.research.google.com/github/bbcx-investments/notebooks/blob/main/portfolios/optimal.ipynb\" target=\"_parent\"><img src=\"https://colab.research.google.com/assets/colab-badge.svg\" alt=\"Open In Colab\"/></a>"
      ]
    },
    {
      "cell_type": "code",
      "execution_count": null,
      "metadata": {
        "colab": {
          "base_uri": "https://localhost:8080/"
        },
        "id": "9gKiG9WbTXdi",
        "outputId": "b622e403-5970-48c9-ad9c-28e982789243"
      },
      "outputs": [
        {
          "output_type": "stream",
          "name": "stdout",
          "text": [
            "Looking in indexes: https://pypi.org/simple, https://us-python.pkg.dev/colab-wheels/public/simple/\n",
            "Requirement already satisfied: cvxopt in /usr/local/lib/python3.7/dist-packages (1.2.7)\n"
          ]
        }
      ],
      "source": [
        "!pip install cvxopt"
      ]
    },
    {
      "cell_type": "code",
      "source": [
        "import numpy as np\n",
        "from cvxopt import matrix as Matrix\n",
        "from cvxopt.solvers import qp as Solver\n",
        "from cvxopt.solvers import options as SolverOptions\n",
        "SolverOptions['show_progress'] = False\n",
        "\n",
        "#-----------------------------------------------\n",
        "#\n",
        "# choice variables are xs=amount to save, xb=amount to borrow, and w=portfolio weights\n",
        "# constraints are xs>=0, xb>=0, w>=0, xs + 1'w <= 1, and -xb + 1'w <= 1\n",
        "# objective function (to minimize) is - rs*xs + rb*xb - means'w\n",
        "#\n",
        "#-----------------------------------------------\n",
        "\n",
        "def optimal(rs, rb, means, cov, raver) :\n",
        "    n = len(means)\n",
        "    Q = np.zeros((n+2, n+2))\n",
        "    Q[2:,2:] = raver*cov\n",
        "    Q = Matrix(Q, tc='d')                                             # quadratic form that penalizes variance\n",
        "    p = np.array([-rs, rb] + list(-np.array(means)))\n",
        "    p = Matrix(p, (len(p), 1), tc='d')                                  # coefficients of objective function\n",
        "    g = np.array([1, -1] + n*[1])\n",
        "    G = Matrix(np.vstack([-np.identity(n+2), g]), tc='d')             # coefficients of constraints\n",
        "    h = np.array((n+2)*[0] + [1])\n",
        "    h = Matrix(h, (len(h), 1), tc='d')                                  # right-hand side of constraints\n",
        "    sol = Solver(Q, p, G, h)\n",
        "    return sol['x'] if sol['status']=='optimal' else None\n",
        "\n",
        "# example data\n",
        "\n",
        "means = np.array([0.10, 0.15, 0.20])  # expected returns\n",
        "sds = np.array([0.15, 0.25, 0.30])    # standard deviations\n",
        "c12 = 0.2                             # correlations (1 with 2, 1 with 3, and 2 with 3)\n",
        "c13 = 0.5\n",
        "c23 = 0.3\n",
        "rs = 0.02                             # savings rate\n",
        "rb = 0.06                             # borrowing rate\n",
        "raver = 2                             # risk aversion\n",
        "\n",
        "# solution\n",
        "\n",
        "corr = np.array([[1,c12,c13], [c12,1,c23], [c13,c23,1]])\n",
        "cov = np.diag(sds) @ corr @ np.diag(sds)\n",
        "sol = optimal(rs, rb, means, cov, raver)\n",
        "\n",
        "if sol:\n",
        "  sol = list(sol)\n",
        "  print(f'optimal amount to save is {sol[0]:.1%}')\n",
        "  print(f'optimal amount to borrow is {sol[1]:.1%}')\n",
        "  for i in range(len(means)) :\n",
        "    print(f'optimal investment in asset {i+1} is {sol[i+2]:.1%}')"
      ],
      "metadata": {
        "colab": {
          "base_uri": "https://localhost:8080/"
        },
        "id": "1LxVlbXWTaKZ",
        "outputId": "76d33cbf-0a89-4e14-e599-7f94a1e1eb75"
      },
      "execution_count": null,
      "outputs": [
        {
          "output_type": "stream",
          "name": "stdout",
          "text": [
            "optimal amount to save is 0.0%\n",
            "optimal amount to borrow is 20.9%\n",
            "optimal investment in asset 1 is 9.5%\n",
            "optimal investment in asset 2 is 48.0%\n",
            "optimal investment in asset 3 is 63.4%\n"
          ]
        }
      ]
    },
    {
      "cell_type": "code",
      "source": [
        ""
      ],
      "metadata": {
        "id": "J5zLDD19WzyF"
      },
      "execution_count": null,
      "outputs": []
    }
  ]
}