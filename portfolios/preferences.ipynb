{
  "cells": [
    {
      "cell_type": "markdown",
      "metadata": {
        "id": "view-in-github",
        "colab_type": "text"
      },
      "source": [
        "<a href=\"https://colab.research.google.com/github/bbcx-investments/notebooks/blob/main/portfolios/preferences.ipynb\" target=\"_parent\"><img src=\"https://colab.research.google.com/assets/colab-badge.svg\" alt=\"Open In Colab\"/></a>"
      ]
    },
    {
      "cell_type": "code",
      "execution_count": null,
      "outputs": [
        {
          "name": "stdout",
          "output_type": "stream",
          "text": [
            "If the asset has 14% expected return,  the investor with 2 risk aversion will have 10% utility.\n"
          ]
        }
      ],
      "source": [
        "# example target utility level :  the utility from 10% risk-free return\n",
        "u = 0.1\n",
        "# An example asset has standard deviation of return : 20%\n",
        "sd = 0.2\n",
        "# An example investor has risk aversion level 2\n",
        "raver = 2\n",
        "\n",
        "mu = u + 0.5*raver* (sd**2)\n",
        "\n",
        "print('If an asset has', \"{0:.0%}\".format(mu), 'expected return,', 'an investor with', raver, 'risk aversion will have', \"{0:.0%}\".format(u), 'utility.')"
      ],
      "metadata": {
        "pycharm": {
          "name": "#%%\n"
        },
        "id": "lMPifVSczNg1",
        "outputId": "d5e0007b-2676-43c7-baa7-8b17a291b143"
      }
    },
    {
      "cell_type": "code",
      "execution_count": null,
      "outputs": [],
      "source": [
        ""
      ],
      "metadata": {
        "pycharm": {
          "name": "#%%\n"
        },
        "id": "tMtnglxKzNg2"
      }
    }
  ],
  "metadata": {
    "kernelspec": {
      "display_name": "Python 3",
      "language": "python",
      "name": "python3"
    },
    "language_info": {
      "codemirror_mode": {
        "name": "ipython",
        "version": 2
      },
      "file_extension": ".py",
      "mimetype": "text/x-python",
      "name": "python",
      "nbconvert_exporter": "python",
      "pygments_lexer": "ipython2",
      "version": "2.7.6"
    },
    "colab": {
      "name": "preferences.ipynb",
      "provenance": [],
      "include_colab_link": true
    }
  },
  "nbformat": 4,
  "nbformat_minor": 0
}