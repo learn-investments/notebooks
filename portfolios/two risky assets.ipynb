{
  "nbformat": 4,
  "nbformat_minor": 0,
  "metadata": {
    "colab": {
      "name": "two_assets.ipynb",
      "provenance": [],
      "collapsed_sections": [],
      "include_colab_link": true
    },
    "kernelspec": {
      "name": "python3",
      "display_name": "Python 3"
    },
    "language_info": {
      "name": "python"
    }
  },
  "cells": [
    {
      "cell_type": "markdown",
      "metadata": {
        "id": "view-in-github",
        "colab_type": "text"
      },
      "source": [
        "<a href=\"https://colab.research.google.com/github/bbcx-investments/notebooks/blob/main/portfolios/two_assets.ipynb\" target=\"_parent\"><img src=\"https://colab.research.google.com/assets/colab-badge.svg\" alt=\"Open In Colab\"/></a>"
      ]
    },
    {
      "cell_type": "code",
      "execution_count": null,
      "metadata": {
        "id": "lcx4WIkfVOpQ"
      },
      "outputs": [],
      "source": [
        "# example: mn=mean, sd=std dev, corr=correlation, wt1=weight on 1st asset, wt2=weight on 2nd asset\n",
        "\n",
        "import numpy as np\n",
        "\n",
        "mn1 = 0.1\n",
        "sd1 = 0.2\n",
        "mn2 = 0.06\n",
        "sd2 = 0.1\n",
        "corr = 0.3\n",
        "wt1 = 0.4\n",
        "wt2 = 1-wt1\n",
        "\n",
        "portfolio_mean = wt1*mn1 + wt2*mn2\n",
        "portfolio_variance = wt1**2 * sd1**2 + wt2**2 * sd2**2 + 2*wt1*wt2*sd1*sd2*corr\n",
        "portfolio_stdev = np.sqrt(portfolio_variance)"
      ]
    }
  ]
}