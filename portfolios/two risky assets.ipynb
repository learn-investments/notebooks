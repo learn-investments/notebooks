{
 "cells": [
  {
   "cell_type": "markdown",
   "metadata": {},
   "source": [
    "---\n",
    "\n",
    "Created for [learn-investments.rice-business.org](https://learn-investments.rice-business.org)\n",
    "    \n",
    "By [Kerry Back](https://kerryback.com) and [Kevin Crotty](https://kevin-crotty.com)\n",
    "    \n",
    "Jones Graduate School of Business, Rice University\n",
    "\n",
    "---\n"
   ]
  },
  {
   "cell_type": "markdown",
   "metadata": {},
   "source": [
    "# EXAMPLE DATA"
   ]
  },
  {
   "cell_type": "code",
   "execution_count": 6,
   "metadata": {},
   "outputs": [],
   "source": [
    "mn1 = 0.05\n",
    "mn2 = 0.10\n",
    "\n",
    "sd1 = 0.2\n",
    "sd2 = 0.3\n",
    "\n",
    "corr = 0.25"
   ]
  },
  {
   "cell_type": "markdown",
   "metadata": {},
   "source": [
    "# FIGURE"
   ]
  },
  {
   "cell_type": "code",
   "execution_count": 7,
   "metadata": {
    "id": "lcx4WIkfVOpQ"
   },
   "outputs": [
    {
     "data": {
      "application/vnd.plotly.v1+json": {
       "config": {
        "plotlyServerURL": "https://plot.ly"
       },
       "data": [
        {
         "customdata": [
          100,
          99,
          98,
          97,
          96,
          95,
          94,
          93,
          92,
          91,
          90,
          89,
          88,
          87,
          86,
          85,
          84,
          83,
          82,
          81,
          80,
          79,
          78,
          77,
          76,
          75,
          74,
          73,
          72,
          71,
          70,
          69,
          68,
          67,
          65.99999999999999,
          64.99999999999999,
          64,
          63,
          62,
          61,
          60,
          59,
          58.00000000000001,
          57.00000000000001,
          56.00000000000001,
          55.00000000000001,
          54,
          53,
          52,
          51,
          50,
          49,
          48,
          47,
          46,
          44.99999999999999,
          43.99999999999999,
          42.99999999999999,
          42.00000000000001,
          41,
          40,
          39,
          38,
          37,
          36,
          35,
          34,
          32.99999999999999,
          31.999999999999996,
          30.999999999999993,
          29.999999999999993,
          29.000000000000004,
          28.000000000000004,
          27,
          26,
          25,
          24,
          23,
          21.999999999999996,
          20.999999999999996,
          19.999999999999996,
          18.999999999999993,
          17.999999999999993,
          16.999999999999993,
          16.000000000000004,
          15.000000000000002,
          14.000000000000002,
          13,
          12,
          10.999999999999998,
          9.999999999999998,
          8.999999999999996,
          7.9999999999999964,
          6.999999999999995,
          5.999999999999995,
          4.999999999999993,
          4.0000000000000036,
          3.0000000000000027,
          2.0000000000000018,
          1.0000000000000009,
          0
         ],
         "hovertemplate": "asset 1: %{text:.0f}%<br>asset 2: %{customdata:.0f}%<extra></extra>",
         "mode": "lines",
         "text": [
          0,
          1,
          2,
          3,
          4,
          5,
          6,
          7.000000000000001,
          8,
          9,
          10,
          11,
          12,
          13,
          14.000000000000002,
          15,
          16,
          17,
          18,
          19,
          20,
          21,
          22,
          23,
          24,
          25,
          26,
          27,
          28.000000000000004,
          28.999999999999996,
          30,
          31,
          32,
          33,
          34,
          35,
          36,
          37,
          38,
          39,
          40,
          41,
          42,
          43,
          44,
          45,
          46,
          47,
          48,
          49,
          50,
          51,
          52,
          53,
          54,
          55.00000000000001,
          56.00000000000001,
          57.00000000000001,
          57.99999999999999,
          59,
          60,
          61,
          62,
          63,
          64,
          65,
          66,
          67,
          68,
          69,
          70,
          71,
          72,
          73,
          74,
          75,
          76,
          77,
          78,
          79,
          80,
          81,
          82,
          83,
          84,
          85,
          86,
          87,
          88,
          89,
          90,
          91,
          92,
          93,
          94,
          95,
          96,
          97,
          98,
          99,
          100
         ],
         "type": "scatter",
         "x": [
          0.3,
          0.2975063024542505,
          0.2950254226333724,
          0.29255768661923753,
          0.2901034298314999,
          0.2876629972728505,
          0.28523674377611313,
          0.2828250342526276,
          0.2804282439412978,
          0.2780467586576042,
          0.27568097504180444,
          0.2733313008054511,
          0.2709981549752692,
          0.26868196813333045,
          0.2663831826523589,
          0.2641022529248851,
          0.26183964558485023,
          0.2595958397201311,
          0.25737132707432664,
          0.25516661223600556,
          0.2529822128134704,
          0.2508186595929418,
          0.24867649667791286,
          0.24655628160726303,
          0.24445858544956034,
          0.24238399287081644,
          0.24033310217279683,
          0.23830652529882598,
          0.23630488780387085,
          0.23432882878553377,
          0.232379000772445,
          0.23045606956641432,
          0.22856071403458644,
          0.2266936258477507,
          0.22485550916088312,
          0.2230470802319546,
          0.2212690669750293,
          0.21952220844370166,
          0.2178072542409917,
          0.2161249638519345,
          0.21447610589527216,
          0.21286145729088674,
          0.21128180233990815,
          0.209737931714795,
          0.20823064135712593,
          0.20676073128135333,
          0.2053290042833696,
          0.20393626455341388,
          0.2025833161936096,
          0.2012709616412661,
          0.2,
          0.19877122528172936,
          0.1975854245636555,
          0.19644337606547083,
          0.19534584715319647,
          0.19429359227725448,
          0.1932873508535931,
          0.19232784509789527,
          0.1914157778240864,
          0.19055183021949698,
          0.18973665961010278,
          0.1889708972302349,
          0.1882551460120015,
          0.1875899784103618,
          0.1869759342803239,
          0.1864135188230725,
          0.18590320061795604,
          0.1854454097571574,
          0.18504053609952603,
          0.18468892765945663,
          0.18439088914585774,
          0.18414668066516976,
          0.1839565166010707,
          0.18382056468197458,
          0.18373894524569365,
          0.18371173070873836,
          0.18373894524569362,
          0.18382056468197458,
          0.1839565166010707,
          0.18414668066516976,
          0.18439088914585777,
          0.18468892765945663,
          0.18504053609952606,
          0.1854454097571574,
          0.18590320061795604,
          0.1864135188230725,
          0.1869759342803239,
          0.1875899784103618,
          0.1882551460120015,
          0.1889708972302349,
          0.18973665961010278,
          0.190551830219497,
          0.19141577782408642,
          0.19232784509789527,
          0.19328735085359314,
          0.19429359227725448,
          0.1953458471531965,
          0.19644337606547083,
          0.19758542456365552,
          0.19877122528172939,
          0.2
         ],
         "y": [
          0.1,
          0.0995,
          0.099,
          0.0985,
          0.098,
          0.0975,
          0.097,
          0.0965,
          0.09600000000000002,
          0.09550000000000002,
          0.09500000000000001,
          0.09450000000000001,
          0.09400000000000001,
          0.09350000000000001,
          0.09300000000000001,
          0.0925,
          0.092,
          0.0915,
          0.09100000000000001,
          0.09050000000000002,
          0.09000000000000002,
          0.08950000000000001,
          0.08900000000000001,
          0.08850000000000001,
          0.08800000000000001,
          0.08750000000000001,
          0.087,
          0.0865,
          0.086,
          0.08549999999999999,
          0.08499999999999999,
          0.08449999999999999,
          0.08399999999999999,
          0.08349999999999999,
          0.08299999999999999,
          0.08249999999999999,
          0.082,
          0.0815,
          0.081,
          0.0805,
          0.08,
          0.0795,
          0.07900000000000001,
          0.07850000000000001,
          0.07800000000000001,
          0.07750000000000001,
          0.07700000000000001,
          0.07650000000000001,
          0.07600000000000001,
          0.07550000000000001,
          0.07500000000000001,
          0.07450000000000001,
          0.07400000000000001,
          0.07350000000000001,
          0.07300000000000001,
          0.07250000000000001,
          0.07200000000000001,
          0.07150000000000001,
          0.07100000000000001,
          0.07050000000000001,
          0.07,
          0.0695,
          0.069,
          0.0685,
          0.068,
          0.0675,
          0.067,
          0.0665,
          0.066,
          0.0655,
          0.065,
          0.0645,
          0.064,
          0.0635,
          0.063,
          0.0625,
          0.062000000000000006,
          0.061500000000000006,
          0.061000000000000006,
          0.060500000000000005,
          0.060000000000000005,
          0.059500000000000004,
          0.059000000000000004,
          0.0585,
          0.05800000000000001,
          0.05750000000000001,
          0.05700000000000001,
          0.05650000000000001,
          0.05600000000000001,
          0.05550000000000001,
          0.05500000000000001,
          0.05450000000000001,
          0.054000000000000006,
          0.053500000000000006,
          0.053000000000000005,
          0.052500000000000005,
          0.052000000000000005,
          0.051500000000000004,
          0.051000000000000004,
          0.0505,
          0.05
         ]
        },
        {
         "hovertemplate": "%{text}<extra></extra>",
         "marker": {
          "size": 15
         },
         "mode": "markers",
         "text": [
          "asset 1",
          "asset 2"
         ],
         "type": "scatter",
         "x": [
          0.2,
          0.3
         ],
         "y": [
          0.05,
          0.1
         ]
        }
       ],
       "layout": {
        "showlegend": false,
        "template": {
         "data": {
          "bar": [
           {
            "error_x": {
             "color": "#2a3f5f"
            },
            "error_y": {
             "color": "#2a3f5f"
            },
            "marker": {
             "line": {
              "color": "white",
              "width": 0.5
             },
             "pattern": {
              "fillmode": "overlay",
              "size": 10,
              "solidity": 0.2
             }
            },
            "type": "bar"
           }
          ],
          "barpolar": [
           {
            "marker": {
             "line": {
              "color": "white",
              "width": 0.5
             },
             "pattern": {
              "fillmode": "overlay",
              "size": 10,
              "solidity": 0.2
             }
            },
            "type": "barpolar"
           }
          ],
          "carpet": [
           {
            "aaxis": {
             "endlinecolor": "#2a3f5f",
             "gridcolor": "#C8D4E3",
             "linecolor": "#C8D4E3",
             "minorgridcolor": "#C8D4E3",
             "startlinecolor": "#2a3f5f"
            },
            "baxis": {
             "endlinecolor": "#2a3f5f",
             "gridcolor": "#C8D4E3",
             "linecolor": "#C8D4E3",
             "minorgridcolor": "#C8D4E3",
             "startlinecolor": "#2a3f5f"
            },
            "type": "carpet"
           }
          ],
          "choropleth": [
           {
            "colorbar": {
             "outlinewidth": 0,
             "ticks": ""
            },
            "type": "choropleth"
           }
          ],
          "contour": [
           {
            "colorbar": {
             "outlinewidth": 0,
             "ticks": ""
            },
            "colorscale": [
             [
              0,
              "#0d0887"
             ],
             [
              0.1111111111111111,
              "#46039f"
             ],
             [
              0.2222222222222222,
              "#7201a8"
             ],
             [
              0.3333333333333333,
              "#9c179e"
             ],
             [
              0.4444444444444444,
              "#bd3786"
             ],
             [
              0.5555555555555556,
              "#d8576b"
             ],
             [
              0.6666666666666666,
              "#ed7953"
             ],
             [
              0.7777777777777778,
              "#fb9f3a"
             ],
             [
              0.8888888888888888,
              "#fdca26"
             ],
             [
              1,
              "#f0f921"
             ]
            ],
            "type": "contour"
           }
          ],
          "contourcarpet": [
           {
            "colorbar": {
             "outlinewidth": 0,
             "ticks": ""
            },
            "type": "contourcarpet"
           }
          ],
          "heatmap": [
           {
            "colorbar": {
             "outlinewidth": 0,
             "ticks": ""
            },
            "colorscale": [
             [
              0,
              "#0d0887"
             ],
             [
              0.1111111111111111,
              "#46039f"
             ],
             [
              0.2222222222222222,
              "#7201a8"
             ],
             [
              0.3333333333333333,
              "#9c179e"
             ],
             [
              0.4444444444444444,
              "#bd3786"
             ],
             [
              0.5555555555555556,
              "#d8576b"
             ],
             [
              0.6666666666666666,
              "#ed7953"
             ],
             [
              0.7777777777777778,
              "#fb9f3a"
             ],
             [
              0.8888888888888888,
              "#fdca26"
             ],
             [
              1,
              "#f0f921"
             ]
            ],
            "type": "heatmap"
           }
          ],
          "heatmapgl": [
           {
            "colorbar": {
             "outlinewidth": 0,
             "ticks": ""
            },
            "colorscale": [
             [
              0,
              "#0d0887"
             ],
             [
              0.1111111111111111,
              "#46039f"
             ],
             [
              0.2222222222222222,
              "#7201a8"
             ],
             [
              0.3333333333333333,
              "#9c179e"
             ],
             [
              0.4444444444444444,
              "#bd3786"
             ],
             [
              0.5555555555555556,
              "#d8576b"
             ],
             [
              0.6666666666666666,
              "#ed7953"
             ],
             [
              0.7777777777777778,
              "#fb9f3a"
             ],
             [
              0.8888888888888888,
              "#fdca26"
             ],
             [
              1,
              "#f0f921"
             ]
            ],
            "type": "heatmapgl"
           }
          ],
          "histogram": [
           {
            "marker": {
             "pattern": {
              "fillmode": "overlay",
              "size": 10,
              "solidity": 0.2
             }
            },
            "type": "histogram"
           }
          ],
          "histogram2d": [
           {
            "colorbar": {
             "outlinewidth": 0,
             "ticks": ""
            },
            "colorscale": [
             [
              0,
              "#0d0887"
             ],
             [
              0.1111111111111111,
              "#46039f"
             ],
             [
              0.2222222222222222,
              "#7201a8"
             ],
             [
              0.3333333333333333,
              "#9c179e"
             ],
             [
              0.4444444444444444,
              "#bd3786"
             ],
             [
              0.5555555555555556,
              "#d8576b"
             ],
             [
              0.6666666666666666,
              "#ed7953"
             ],
             [
              0.7777777777777778,
              "#fb9f3a"
             ],
             [
              0.8888888888888888,
              "#fdca26"
             ],
             [
              1,
              "#f0f921"
             ]
            ],
            "type": "histogram2d"
           }
          ],
          "histogram2dcontour": [
           {
            "colorbar": {
             "outlinewidth": 0,
             "ticks": ""
            },
            "colorscale": [
             [
              0,
              "#0d0887"
             ],
             [
              0.1111111111111111,
              "#46039f"
             ],
             [
              0.2222222222222222,
              "#7201a8"
             ],
             [
              0.3333333333333333,
              "#9c179e"
             ],
             [
              0.4444444444444444,
              "#bd3786"
             ],
             [
              0.5555555555555556,
              "#d8576b"
             ],
             [
              0.6666666666666666,
              "#ed7953"
             ],
             [
              0.7777777777777778,
              "#fb9f3a"
             ],
             [
              0.8888888888888888,
              "#fdca26"
             ],
             [
              1,
              "#f0f921"
             ]
            ],
            "type": "histogram2dcontour"
           }
          ],
          "mesh3d": [
           {
            "colorbar": {
             "outlinewidth": 0,
             "ticks": ""
            },
            "type": "mesh3d"
           }
          ],
          "parcoords": [
           {
            "line": {
             "colorbar": {
              "outlinewidth": 0,
              "ticks": ""
             }
            },
            "type": "parcoords"
           }
          ],
          "pie": [
           {
            "automargin": true,
            "type": "pie"
           }
          ],
          "scatter": [
           {
            "fillpattern": {
             "fillmode": "overlay",
             "size": 10,
             "solidity": 0.2
            },
            "type": "scatter"
           }
          ],
          "scatter3d": [
           {
            "line": {
             "colorbar": {
              "outlinewidth": 0,
              "ticks": ""
             }
            },
            "marker": {
             "colorbar": {
              "outlinewidth": 0,
              "ticks": ""
             }
            },
            "type": "scatter3d"
           }
          ],
          "scattercarpet": [
           {
            "marker": {
             "colorbar": {
              "outlinewidth": 0,
              "ticks": ""
             }
            },
            "type": "scattercarpet"
           }
          ],
          "scattergeo": [
           {
            "marker": {
             "colorbar": {
              "outlinewidth": 0,
              "ticks": ""
             }
            },
            "type": "scattergeo"
           }
          ],
          "scattergl": [
           {
            "marker": {
             "colorbar": {
              "outlinewidth": 0,
              "ticks": ""
             }
            },
            "type": "scattergl"
           }
          ],
          "scattermapbox": [
           {
            "marker": {
             "colorbar": {
              "outlinewidth": 0,
              "ticks": ""
             }
            },
            "type": "scattermapbox"
           }
          ],
          "scatterpolar": [
           {
            "marker": {
             "colorbar": {
              "outlinewidth": 0,
              "ticks": ""
             }
            },
            "type": "scatterpolar"
           }
          ],
          "scatterpolargl": [
           {
            "marker": {
             "colorbar": {
              "outlinewidth": 0,
              "ticks": ""
             }
            },
            "type": "scatterpolargl"
           }
          ],
          "scatterternary": [
           {
            "marker": {
             "colorbar": {
              "outlinewidth": 0,
              "ticks": ""
             }
            },
            "type": "scatterternary"
           }
          ],
          "surface": [
           {
            "colorbar": {
             "outlinewidth": 0,
             "ticks": ""
            },
            "colorscale": [
             [
              0,
              "#0d0887"
             ],
             [
              0.1111111111111111,
              "#46039f"
             ],
             [
              0.2222222222222222,
              "#7201a8"
             ],
             [
              0.3333333333333333,
              "#9c179e"
             ],
             [
              0.4444444444444444,
              "#bd3786"
             ],
             [
              0.5555555555555556,
              "#d8576b"
             ],
             [
              0.6666666666666666,
              "#ed7953"
             ],
             [
              0.7777777777777778,
              "#fb9f3a"
             ],
             [
              0.8888888888888888,
              "#fdca26"
             ],
             [
              1,
              "#f0f921"
             ]
            ],
            "type": "surface"
           }
          ],
          "table": [
           {
            "cells": {
             "fill": {
              "color": "#EBF0F8"
             },
             "line": {
              "color": "white"
             }
            },
            "header": {
             "fill": {
              "color": "#C8D4E3"
             },
             "line": {
              "color": "white"
             }
            },
            "type": "table"
           }
          ]
         },
         "layout": {
          "annotationdefaults": {
           "arrowcolor": "#2a3f5f",
           "arrowhead": 0,
           "arrowwidth": 1
          },
          "autotypenumbers": "strict",
          "coloraxis": {
           "colorbar": {
            "outlinewidth": 0,
            "ticks": ""
           }
          },
          "colorscale": {
           "diverging": [
            [
             0,
             "#8e0152"
            ],
            [
             0.1,
             "#c51b7d"
            ],
            [
             0.2,
             "#de77ae"
            ],
            [
             0.3,
             "#f1b6da"
            ],
            [
             0.4,
             "#fde0ef"
            ],
            [
             0.5,
             "#f7f7f7"
            ],
            [
             0.6,
             "#e6f5d0"
            ],
            [
             0.7,
             "#b8e186"
            ],
            [
             0.8,
             "#7fbc41"
            ],
            [
             0.9,
             "#4d9221"
            ],
            [
             1,
             "#276419"
            ]
           ],
           "sequential": [
            [
             0,
             "#0d0887"
            ],
            [
             0.1111111111111111,
             "#46039f"
            ],
            [
             0.2222222222222222,
             "#7201a8"
            ],
            [
             0.3333333333333333,
             "#9c179e"
            ],
            [
             0.4444444444444444,
             "#bd3786"
            ],
            [
             0.5555555555555556,
             "#d8576b"
            ],
            [
             0.6666666666666666,
             "#ed7953"
            ],
            [
             0.7777777777777778,
             "#fb9f3a"
            ],
            [
             0.8888888888888888,
             "#fdca26"
            ],
            [
             1,
             "#f0f921"
            ]
           ],
           "sequentialminus": [
            [
             0,
             "#0d0887"
            ],
            [
             0.1111111111111111,
             "#46039f"
            ],
            [
             0.2222222222222222,
             "#7201a8"
            ],
            [
             0.3333333333333333,
             "#9c179e"
            ],
            [
             0.4444444444444444,
             "#bd3786"
            ],
            [
             0.5555555555555556,
             "#d8576b"
            ],
            [
             0.6666666666666666,
             "#ed7953"
            ],
            [
             0.7777777777777778,
             "#fb9f3a"
            ],
            [
             0.8888888888888888,
             "#fdca26"
            ],
            [
             1,
             "#f0f921"
            ]
           ]
          },
          "colorway": [
           "#636efa",
           "#EF553B",
           "#00cc96",
           "#ab63fa",
           "#FFA15A",
           "#19d3f3",
           "#FF6692",
           "#B6E880",
           "#FF97FF",
           "#FECB52"
          ],
          "font": {
           "color": "#2a3f5f"
          },
          "geo": {
           "bgcolor": "white",
           "lakecolor": "white",
           "landcolor": "white",
           "showlakes": true,
           "showland": true,
           "subunitcolor": "#C8D4E3"
          },
          "hoverlabel": {
           "align": "left"
          },
          "hovermode": "closest",
          "mapbox": {
           "style": "light"
          },
          "paper_bgcolor": "white",
          "plot_bgcolor": "white",
          "polar": {
           "angularaxis": {
            "gridcolor": "#EBF0F8",
            "linecolor": "#EBF0F8",
            "ticks": ""
           },
           "bgcolor": "white",
           "radialaxis": {
            "gridcolor": "#EBF0F8",
            "linecolor": "#EBF0F8",
            "ticks": ""
           }
          },
          "scene": {
           "xaxis": {
            "backgroundcolor": "white",
            "gridcolor": "#DFE8F3",
            "gridwidth": 2,
            "linecolor": "#EBF0F8",
            "showbackground": true,
            "ticks": "",
            "zerolinecolor": "#EBF0F8"
           },
           "yaxis": {
            "backgroundcolor": "white",
            "gridcolor": "#DFE8F3",
            "gridwidth": 2,
            "linecolor": "#EBF0F8",
            "showbackground": true,
            "ticks": "",
            "zerolinecolor": "#EBF0F8"
           },
           "zaxis": {
            "backgroundcolor": "white",
            "gridcolor": "#DFE8F3",
            "gridwidth": 2,
            "linecolor": "#EBF0F8",
            "showbackground": true,
            "ticks": "",
            "zerolinecolor": "#EBF0F8"
           }
          },
          "shapedefaults": {
           "line": {
            "color": "#2a3f5f"
           }
          },
          "ternary": {
           "aaxis": {
            "gridcolor": "#DFE8F3",
            "linecolor": "#A2B1C6",
            "ticks": ""
           },
           "baxis": {
            "gridcolor": "#DFE8F3",
            "linecolor": "#A2B1C6",
            "ticks": ""
           },
           "bgcolor": "white",
           "caxis": {
            "gridcolor": "#DFE8F3",
            "linecolor": "#A2B1C6",
            "ticks": ""
           }
          },
          "title": {
           "x": 0.05
          },
          "xaxis": {
           "automargin": true,
           "gridcolor": "#EBF0F8",
           "linecolor": "#EBF0F8",
           "ticks": "",
           "title": {
            "standoff": 15
           },
           "zerolinecolor": "#EBF0F8",
           "zerolinewidth": 2
          },
          "yaxis": {
           "automargin": true,
           "gridcolor": "#EBF0F8",
           "linecolor": "#EBF0F8",
           "ticks": "",
           "title": {
            "standoff": 15
           },
           "zerolinecolor": "#EBF0F8",
           "zerolinewidth": 2
          }
         }
        },
        "xaxis": {
         "rangemode": "tozero",
         "tickformat": ".0%",
         "title": {
          "text": "Standard Deviation"
         }
        },
        "yaxis": {
         "rangemode": "tozero",
         "tickformat": ".0%",
         "title": {
          "text": "Expected Return"
         }
        }
       }
      }
     },
     "metadata": {},
     "output_type": "display_data"
    }
   ],
   "source": [
    "import numpy as np\n",
    "import plotly.graph_objects as go\n",
    "\n",
    "wt1 = np.arange(0, 1.01, 0.01)\n",
    "wt2 = 1 - wt1\n",
    "mn = wt1*mn1 + wt2*mn2\n",
    "vr = (\n",
    "    wt1**2 * sd1**2 + \n",
    "    wt2**2 * sd2**2 + \n",
    "    2 * wt1 * wt2 * sd1 * sd2 * corr\n",
    ")\n",
    "sd = np.sqrt(vr)\n",
    "\n",
    "string = \"asset 1: %{text:.0f}%<br>asset 2: %{customdata:.0f}%<extra></extra>\"\n",
    "trace1 = go.Scatter(\n",
    "    x=sd,\n",
    "    y=mn,\n",
    "    mode=\"lines\",\n",
    "    text=100*wt1,\n",
    "    customdata=100*wt2,\n",
    "    hovertemplate=string\n",
    ")\n",
    "trace2 = go.Scatter(\n",
    "    x = [sd1, sd2],\n",
    "    y = [mn1, mn2],\n",
    "    mode=\"markers\",\n",
    "    text=[\"asset 1\", \"asset 2\"],\n",
    "    hovertemplate=\"%{text}<extra></extra>\",\n",
    "    marker=dict(size=15),\n",
    ")\n",
    "fig = go.Figure(trace1)\n",
    "fig.add_trace(trace2)\n",
    "fig.update_layout(\n",
    "    xaxis_title=\"Standard Deviation\",\n",
    "    yaxis_title=\"Expected Return\",\n",
    "    xaxis_rangemode=\"tozero\",\n",
    "    yaxis_rangemode=\"tozero\",\n",
    "    xaxis_tickformat=\".0%\",\n",
    "    yaxis_tickformat=\".0%\",\n",
    "    template=\"plotly_white\",\n",
    "    showlegend=False\n",
    ")\n",
    "fig.show()\n"
   ]
  }
 ],
 "metadata": {
  "colab": {
   "collapsed_sections": [],
   "include_colab_link": true,
   "name": "two risky assets.ipynb",
   "provenance": []
  },
  "kernelspec": {
   "display_name": "Python 3",
   "name": "python3"
  },
  "language_info": {
   "codemirror_mode": {
    "name": "ipython",
    "version": 3
   },
   "file_extension": ".py",
   "mimetype": "text/x-python",
   "name": "python",
   "nbconvert_exporter": "python",
   "pygments_lexer": "ipython3",
   "version": "3.10.8"
  }
 },
 "nbformat": 4,
 "nbformat_minor": 0
}