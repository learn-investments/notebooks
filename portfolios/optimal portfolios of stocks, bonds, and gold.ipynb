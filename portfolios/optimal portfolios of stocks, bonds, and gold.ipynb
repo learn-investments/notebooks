{
 "cells": [
  {
   "cell_type": "markdown",
   "metadata": {},
   "source": [
    "---\n",
    "\n",
    "Created for [learn-investments.rice-business.org](https://learn-investments.rice-business.org)\n",
    "    \n",
    "By [Kerry Back](https://kerryback.com) and [Kevin Crotty](https://kevin-crotty.com)\n",
    "    \n",
    "Jones Graduate School of Business, Rice University\n",
    "\n",
    "---\n"
   ]
  },
  {
   "cell_type": "markdown",
   "metadata": {},
   "source": [
    "# READ DATA"
   ]
  },
  {
   "cell_type": "code",
   "execution_count": 31,
   "metadata": {},
   "outputs": [],
   "source": [
    "import pandas as pd\n",
    "df = pd.read_csv(\n",
    "    \"https://www.dropbox.com/scl/fi/x61ewvoj9spslqblqweke/stocks_bonds_gold.csv?rlkey=ssmouraepasrj95b4rxj26bpk&dl=1\",\n",
    "    index_col=\"Year\"\n",
    ")"
   ]
  },
  {
   "cell_type": "markdown",
   "metadata": {},
   "source": [
    "# COMPUTE HISTORICAL PARAMETERS"
   ]
  },
  {
   "cell_type": "code",
   "execution_count": 32,
   "metadata": {},
   "outputs": [],
   "source": [
    "mn = df.mean()\n",
    "sd = df.std()\n",
    "cov = df.cov()\n",
    "\n",
    "num_assets = df.shape[1]"
   ]
  },
  {
   "cell_type": "markdown",
   "metadata": {},
   "source": [
    "# EXAMPLE DATA"
   ]
  },
  {
   "cell_type": "code",
   "execution_count": 33,
   "metadata": {},
   "outputs": [],
   "source": [
    "# risk-free rate\n",
    "rf = 0.02\n",
    "\n",
    "# or savings rate and borrowing rate\n",
    "rs = 0.02\n",
    "rb = 0.05\n",
    "\n",
    "# risk aversion\n",
    "raver = 6"
   ]
  },
  {
   "cell_type": "markdown",
   "metadata": {},
   "source": [
    "# INSTALL LIBRARIES"
   ]
  },
  {
   "cell_type": "code",
   "execution_count": 34,
   "metadata": {},
   "outputs": [
    {
     "name": "stdout",
     "output_type": "stream",
     "text": [
      "Requirement already satisfied: cvxopt in c:\\users\\kerry\\appdata\\local\\programs\\python\\python310\\lib\\site-packages (1.3.0)\n"
     ]
    },
    {
     "name": "stderr",
     "output_type": "stream",
     "text": [
      "\n",
      "[notice] A new release of pip available: 22.3.1 -> 23.2.1\n",
      "[notice] To update, run: python.exe -m pip install --upgrade pip\n"
     ]
    }
   ],
   "source": [
    "!pip install cvxopt"
   ]
  },
  {
   "cell_type": "markdown",
   "metadata": {},
   "source": [
    "# OPTIMAL PORTFOLIO 1\n",
    "\n",
    "Use this if the borrowing and savings rate are the same and short sales are allowed."
   ]
  },
  {
   "cell_type": "code",
   "execution_count": 35,
   "metadata": {},
   "outputs": [
    {
     "name": "stdout",
     "output_type": "stream",
     "text": [
      "optimal savings is  0.000\n",
      "optimal borrowing is  0.971\n",
      "optimal expected return is  0.162\n",
      "optimal standard deviation is  0.154\n",
      "optimal portfolio is\n"
     ]
    },
    {
     "data": {
      "text/plain": [
       "Stocks        0.272661\n",
       "Treasuries   -0.000869\n",
       "Corporates    1.421607\n",
       "Gold          0.277699\n",
       "dtype: float64"
      ]
     },
     "execution_count": 35,
     "metadata": {},
     "output_type": "execute_result"
    }
   ],
   "source": [
    "import numpy as np\n",
    "\n",
    "optimum = np.linalg.solve(raver*cov, mn-rf)\n",
    "optimum_mn = rf + optimum @ (mn-rf)\n",
    "optimum_sd = np.sqrt(optimum @ cov @ optimum)\n",
    "\n",
    "print(f\"optimal savings is {max(0, 1-np.sum(optimum)): 0.3f}\")\n",
    "print(f\"optimal borrowing is {max(0, np.sum(optimum)-1): 0.3f}\")\n",
    "print(f\"optimal expected return is {optimum_mn: 0.3f}\")\n",
    "print(f\"optimal standard deviation is {optimum_sd: 0.3f}\")\n",
    "print(\"optimal portfolio is\")\n",
    "pd.Series(optimum, index=df.columns)"
   ]
  },
  {
   "cell_type": "markdown",
   "metadata": {},
   "source": [
    "# OPTIMAL PORTFOLIO 2\n",
    "\n",
    "Use this if the borrowing rate is greater than the savings rate and short sales are allowed.    "
   ]
  },
  {
   "cell_type": "code",
   "execution_count": 36,
   "metadata": {},
   "outputs": [
    {
     "name": "stdout",
     "output_type": "stream",
     "text": [
      "     pcost       dcost       gap    pres   dres\n",
      " 0: -7.6461e-02 -4.5512e-02  2e+00  1e+00  1e+00\n",
      " 1: -4.7458e-02 -9.2833e-02  5e-02  1e-02  1e-02\n",
      " 2: -7.1934e-02 -7.6135e-02  4e-03  3e-16  1e-17\n",
      " 3: -7.5450e-02 -7.5715e-02  3e-04  1e-17  1e-17\n",
      " 4: -7.5545e-02 -7.5575e-02  3e-05  3e-17  2e-17\n",
      " 5: -7.5549e-02 -7.5551e-02  2e-06  7e-18  1e-17\n",
      " 6: -7.5549e-02 -7.5549e-02  2e-08  1e-16  8e-18\n",
      "Optimal solution found.\n",
      "optimal savings is  0.000\n",
      "optimal borrowing is  0.048\n",
      "optimal expected return is  0.101\n",
      "optimal standard deviation is  0.092\n",
      "optimal portfolio is\n"
     ]
    },
    {
     "data": {
      "text/plain": [
       "Stocks        0.207019\n",
       "Treasuries   -0.245202\n",
       "Corporates    0.913609\n",
       "Gold          0.172262\n",
       "dtype: float64"
      ]
     },
     "execution_count": 36,
     "metadata": {},
     "output_type": "execute_result"
    }
   ],
   "source": [
    "from cvxopt import matrix\n",
    "from cvxopt.solvers import qp\n",
    "\n",
    "# to define variance penalty\n",
    "P = np.zeros((num_assets+2, num_assets+2))\n",
    "P[2:,2:] = raver*cov\n",
    "\n",
    "# to define (minus) expected return \n",
    "q = np.concatenate(\n",
    "    (\n",
    "        np.array([-rs, rb]),\n",
    "        -mn\n",
    "    )\n",
    ")\n",
    "\n",
    "# to impose -xs <= 0 and -xb <= 0\n",
    "G = np.zeros((2, num_assets+2))\n",
    "G[0, 0] = G[1, 1] = -1\n",
    "h = np.zeros(2)\n",
    "\n",
    "# to impose xs - xb + w1 + w2 + w3 = 1\n",
    "A = np.ones(num_assets+2)\n",
    "A[1] = -1\n",
    "b = [1.]\n",
    "\n",
    "# create cvxopt matrix objects\n",
    "P = matrix(P, (num_assets+2, num_assets+2))\n",
    "q = matrix(q, (num_assets+2, 1))\n",
    "G = matrix(G, (2, num_assets+2))\n",
    "h = matrix(h, (2, 1))\n",
    "A = matrix(A, (1, num_assets+2))\n",
    "b = matrix(b, (1, 1))\n",
    "\n",
    "# compute optimum by quadratic programming\n",
    "solution = qp(P=P, q=q, G=G, h=h, A=A, b=b)\n",
    "optimum = np.array(solution[\"x\"])\n",
    "xs, xb = optimum[0].item(), optimum[1].item()\n",
    "optimum = optimum[2:].reshape(-1, )\n",
    "\n",
    "# expected return and risk\n",
    "optimum_mn = xs*rs - xb*rb + optimum @ mn\n",
    "optimum_sd = np.sqrt(optimum @ cov @ optimum)\n",
    "\n",
    "print(f\"optimal savings is {xs: 0.3f}\")\n",
    "print(f\"optimal borrowing is {xb: 0.3f}\")\n",
    "print(f\"optimal expected return is {optimum_mn: 0.3f}\")\n",
    "print(f\"optimal standard deviation is {optimum_sd: 0.3f}\")\n",
    "print(\"optimal portfolio is\")\n",
    "pd.Series(optimum, index=df.columns)"
   ]
  },
  {
   "cell_type": "markdown",
   "metadata": {},
   "source": [
    "# OPTIMAL PORTFOLIO 3\n",
    "\n",
    "Use this if short sales are not allowed.  If the borrowing and savings rate are the same (=rf) then add the line:\n",
    "\n",
    "    rb = rs = rf"
   ]
  },
  {
   "cell_type": "code",
   "execution_count": 37,
   "metadata": {},
   "outputs": [
    {
     "name": "stdout",
     "output_type": "stream",
     "text": [
      "     pcost       dcost       gap    pres   dres\n",
      " 0: -6.4726e-02 -6.9624e-01  8e+00  3e+00  3e+00\n",
      " 1: -3.2927e-02 -1.3307e+00  2e+00  6e-01  6e-01\n",
      " 2: -1.3557e-02 -1.5587e-01  1e-01  6e-15  2e-16\n",
      " 3: -6.9607e-02 -8.5846e-02  2e-02  4e-16  4e-17\n",
      " 4: -7.4077e-02 -7.5739e-02  2e-03  2e-16  1e-17\n",
      " 5: -7.4641e-02 -7.4699e-02  6e-05  1e-16  1e-17\n",
      " 6: -7.4655e-02 -7.4656e-02  8e-07  6e-17  1e-17\n",
      " 7: -7.4656e-02 -7.4656e-02  8e-09  1e-16  2e-17\n",
      "Optimal solution found.\n",
      "optimal savings is  0.000\n",
      "optimal borrowing is  0.107\n",
      "optimal expected return is  0.099\n",
      "optimal std dev is  0.091\n",
      "optimal portfolio is\n"
     ]
    },
    {
     "data": {
      "text/plain": [
       "Stocks        2.501792e-01\n",
       "Treasuries    1.713079e-07\n",
       "Corporates    6.832103e-01\n",
       "Gold          1.736737e-01\n",
       "dtype: float64"
      ]
     },
     "execution_count": 37,
     "metadata": {},
     "output_type": "execute_result"
    }
   ],
   "source": [
    "from cvxopt import matrix\n",
    "from cvxopt.solvers import qp\n",
    "\n",
    "# to define variance penalty\n",
    "P = np.zeros((num_assets+2, num_assets+2))\n",
    "P[2:,2:] = raver*cov\n",
    "\n",
    "# to define (minus) expected return \n",
    "q = np.concatenate(\n",
    "    (\n",
    "        np.array([-rs, rb]),\n",
    "        -mn\n",
    "    )\n",
    ")\n",
    "\n",
    "# to impose -xs <= 0 and -xb <= 0 and -w <= 0\n",
    "G = -np.identity(num_assets+2)\n",
    "h = np.zeros(num_assets+2)\n",
    "\n",
    "# to impose xs - xb + w1 + w2 + w3 = 1\n",
    "A = np.ones(num_assets+2)\n",
    "A[1] = -1\n",
    "b = [1.]\n",
    "\n",
    "# create cvxopt matrix objects\n",
    "P = matrix(P, (num_assets+2, num_assets+2))\n",
    "q = matrix(q, (num_assets+2, 1))\n",
    "G = matrix(G, (num_assets+2, num_assets+2))\n",
    "h = matrix(h, (num_assets+2, 1))\n",
    "A = matrix(A, (1, num_assets+2))\n",
    "b = matrix(b, (1, 1))\n",
    "\n",
    "# compute optimum by quadratic programming\n",
    "solution = qp(P=P, q=q, G=G, h=h, A=A, b=b)\n",
    "optimum = np.array(solution[\"x\"])\n",
    "xs, xb = optimum[0].item(), optimum[1].item()\n",
    "optimum = optimum[2:].reshape(-1, )\n",
    "\n",
    "# expected return and risk\n",
    "optimum_mn = xs*rs - xb*rb + optimum @ mn\n",
    "optimum_sd = np.sqrt(optimum @ cov @ optimum)\n",
    "\n",
    "print(f\"optimal savings is {xs: 0.3f}\")\n",
    "print(f\"optimal borrowing is {xb: 0.3f}\")\n",
    "print(f\"optimal expected return is {optimum_mn: 0.3f}\")\n",
    "print(f\"optimal std dev is {optimum_sd: 0.3f}\")\n",
    "print(\"optimal portfolio is\")\n",
    "pd.Series(optimum, index=df.columns)"
   ]
  }
 ],
 "metadata": {
  "kernelspec": {
   "display_name": "Python 3",
   "language": "python",
   "name": "python3"
  },
  "language_info": {
   "codemirror_mode": {
    "name": "ipython",
    "version": 3
   },
   "file_extension": ".py",
   "mimetype": "text/x-python",
   "name": "python",
   "nbconvert_exporter": "python",
   "pygments_lexer": "ipython3",
   "version": "3.10.8"
  },
  "orig_nbformat": 4
 },
 "nbformat": 4,
 "nbformat_minor": 2
}