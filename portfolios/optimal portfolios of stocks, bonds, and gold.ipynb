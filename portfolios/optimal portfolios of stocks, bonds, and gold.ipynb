{
  "cells": [
    {
      "cell_type": "markdown",
      "metadata": {
        "id": "view-in-github",
        "colab_type": "text"
      },
      "source": [
        "<a href=\"https://colab.research.google.com/github/bbcx-investments/notebooks/blob/main/portfolios/optimal_sb.ipynb\" target=\"_parent\"><img src=\"https://colab.research.google.com/assets/colab-badge.svg\" alt=\"Open In Colab\"/></a>"
      ]
    },
    {
      "cell_type": "code",
      "execution_count": null,
      "metadata": {
        "collapsed": true,
        "pycharm": {
          "name": "#%%\n"
        },
        "id": "yxlN8qksVDIH"
      },
      "outputs": [],
      "source": [
        "import numpy as np\n",
        "from cvxopt import matrix as Matrix\n",
        "from cvxopt.solvers import qp as Solver\n",
        "from cvxopt.solvers import options as SolverOptions\n",
        "SolverOptions['show_progress'] = False\n",
        "\n",
        "def optimal_s(rs, rb, means, cov, raver):\n",
        "    n = len(means)\n",
        "    Q = np.zeros((n + 2, n + 2))\n",
        "    Q[2:, 2:] = raver * cov\n",
        "    Q = Matrix(Q, tc=\"d\")                               # quadratic form that penalizes variance\n",
        "    p = np.array([-rs, rb] + list(-np.array(means)))\n",
        "    p = Matrix(p, (len(p), 1), tc=\"d\")                  # coefficients of objective function\n",
        "    g = np.array([1, -1] + n * [1])\n",
        "    a = np.zeros((2, n + 2))\n",
        "    a[0, 0] = a[1, 1] = -1\n",
        "    G = Matrix(np.vstack([a, g]))                       # coefficients of constraints\n",
        "    h = np.array(2 * [0] + [1])\n",
        "    h = Matrix(h, (len(h), 1), tc=\"d\")                  # right-hand side of constraints\n",
        "    sol = Solver(Q, p, G, h)\n",
        "    return sol['x'] if sol['status']=='optimal' else None\n",
        "\n",
        "def optimal_ns(rs, rb, means, cov, raver) :\n",
        "    n = len(means)\n",
        "    Q = np.zeros((n+2, n+2))\n",
        "    Q[2:,2:] = raver*cov\n",
        "    Q = Matrix(Q, tc='d')                                             # quadratic form that penalizes variance\n",
        "    p = np.array([-rs, rb] + list(-np.array(means)))\n",
        "    p = Matrix(p, (len(p), 1), tc='d')                                # coefficients of objective function\n",
        "    g = np.array([1, -1] + n*[1])\n",
        "    G = Matrix(np.vstack([-np.identity(n+2), g]), tc='d')             # coefficients of constraints\n",
        "    h = np.array((n+2)*[0] + [1])\n",
        "    h = Matrix(h, (len(h), 1), tc='d')                                # right-hand side of constraints\n",
        "    sol = Solver(Q, p, G, h)\n",
        "    return sol['x'] if sol['status']=='optimal' else None\n"
      ]
    },
    {
      "cell_type": "code",
      "execution_count": null,
      "outputs": [
        {
          "name": "stderr",
          "output_type": "stream",
          "text": [
            "/Users/kailiao/PycharmProjects/appcode_draft/venv/lib/python3.8/site-packages/pandas/core/indexes/base.py:6982: FutureWarning: In a future version, the Index constructor will not infer numeric dtypes when passed object-dtype sequences (matching Series behavior)\n",
            "  return Index(sequences[0], name=names)\n"
          ]
        },
        {
          "data": {
            "text/plain": "       S&P 500  Treasuries  Corporates\nYear                                  \n1928  0.454932    0.020148    0.044268\n1929 -0.088311    0.035980    0.024189\n1930 -0.200079    0.116835    0.074090\n1931 -0.380674    0.074522   -0.070178\n1932  0.018184    0.212472    0.377411\n1933  0.488460    0.010836    0.121111\n1934 -0.026634    0.063520    0.170431\n1935  0.424871    0.014439    0.100235\n1936  0.300585    0.035176    0.097926\n1937 -0.371329   -0.014369   -0.070713",
            "text/html": "<div>\n<style scoped>\n    .dataframe tbody tr th:only-of-type {\n        vertical-align: middle;\n    }\n\n    .dataframe tbody tr th {\n        vertical-align: top;\n    }\n\n    .dataframe thead th {\n        text-align: right;\n    }\n</style>\n<table border=\"1\" class=\"dataframe\">\n  <thead>\n    <tr style=\"text-align: right;\">\n      <th></th>\n      <th>S&amp;P 500</th>\n      <th>Treasuries</th>\n      <th>Corporates</th>\n    </tr>\n    <tr>\n      <th>Year</th>\n      <th></th>\n      <th></th>\n      <th></th>\n    </tr>\n  </thead>\n  <tbody>\n    <tr>\n      <th>1928</th>\n      <td>0.454932</td>\n      <td>0.020148</td>\n      <td>0.044268</td>\n    </tr>\n    <tr>\n      <th>1929</th>\n      <td>-0.088311</td>\n      <td>0.035980</td>\n      <td>0.024189</td>\n    </tr>\n    <tr>\n      <th>1930</th>\n      <td>-0.200079</td>\n      <td>0.116835</td>\n      <td>0.074090</td>\n    </tr>\n    <tr>\n      <th>1931</th>\n      <td>-0.380674</td>\n      <td>0.074522</td>\n      <td>-0.070178</td>\n    </tr>\n    <tr>\n      <th>1932</th>\n      <td>0.018184</td>\n      <td>0.212472</td>\n      <td>0.377411</td>\n    </tr>\n    <tr>\n      <th>1933</th>\n      <td>0.488460</td>\n      <td>0.010836</td>\n      <td>0.121111</td>\n    </tr>\n    <tr>\n      <th>1934</th>\n      <td>-0.026634</td>\n      <td>0.063520</td>\n      <td>0.170431</td>\n    </tr>\n    <tr>\n      <th>1935</th>\n      <td>0.424871</td>\n      <td>0.014439</td>\n      <td>0.100235</td>\n    </tr>\n    <tr>\n      <th>1936</th>\n      <td>0.300585</td>\n      <td>0.035176</td>\n      <td>0.097926</td>\n    </tr>\n    <tr>\n      <th>1937</th>\n      <td>-0.371329</td>\n      <td>-0.014369</td>\n      <td>-0.070713</td>\n    </tr>\n  </tbody>\n</table>\n</div>"
          },
          "execution_count": 20,
          "metadata": {},
          "output_type": "execute_result"
        }
      ],
      "source": [
        "import ssl\n",
        "import pandas as pd\n",
        "\n",
        "# Get returns data\n",
        "ssl._create_default_https_context = ssl._create_unverified_context\n",
        "file = \"http://www.stern.nyu.edu/~adamodar/pc/datasets/histretSP.xls\"\n",
        "sheet = \"Returns by year\"\n",
        "df = pd.read_excel(file, sheet_name=sheet, skiprows=16, header=[0, 1])\n",
        "col1 = (\"Unnamed: 0_level_0\", \"Year\")\n",
        "indx = df[df[col1].isna()].index[0]\n",
        "df = df.iloc[:indx].set_index(col1)\n",
        "df.index.name = \"Year\"\n",
        "\n",
        "df = df[\"Annual Real Returns on\"].copy()\n",
        "df = df[df.columns[1:5]]\n",
        "df.columns = [\"S&P 500\", \"TBills\", \"Treasuries\", \"Corporates\"]\n",
        "df.dtype = \"float\"\n",
        "df.index = [int(x) for x in df.index]\n",
        "df.index.name = \"Year\"\n",
        "df = df.drop(columns=[\"TBills\"])\n",
        "\n",
        "# displaying the first 5 rows of df\n",
        "df.head()"
      ],
      "metadata": {
        "pycharm": {
          "name": "#%%\n"
        },
        "id": "XLvae_YxVDIK",
        "outputId": "1ba5e661-efe3-4e21-cb4a-d430c33ae340"
      }
    },
    {
      "cell_type": "code",
      "execution_count": null,
      "outputs": [
        {
          "name": "stdout",
          "output_type": "stream",
          "text": [
            "Without Short Sales:\n",
            "optimal amount to save is 0.0%\n",
            "optimal amount to borrow is 0.0%\n",
            "optimal investment in asset S&P 500 is 73.4%\n",
            "optimal investment in asset Treasuries is 0.0%\n",
            "optimal investment in asset Corporates is 26.6%\n"
          ]
        }
      ],
      "source": [
        "# solutions\n",
        "means = df.mean().to_numpy()\n",
        "cov = df.cov().to_numpy()\n",
        "rs = 0.02                             # example savings rate\n",
        "rb = 0.06                             # example borrowing rate\n",
        "raver = 2                             # example risk aversion\n",
        "sol = optimal_ns(rs, rb, means, cov, raver)\n",
        "\n",
        "\n",
        "if sol:\n",
        "    sol = list(sol)\n",
        "    print('Without Short Sales:')\n",
        "    print(f'optimal amount to save is {sol[0]:.1%}')\n",
        "    print(f'optimal amount to borrow is {sol[1]:.1%}')\n",
        "    print(f'optimal investment in asset S&P 500 is {sol[2]:.1%}')\n",
        "    print(f'optimal investment in asset Treasuries is {sol[3]:.1%}')\n",
        "    print(f'optimal investment in asset Corporates is {sol[4]:.1%}')"
      ],
      "metadata": {
        "pycharm": {
          "name": "#%%\n"
        },
        "id": "LyOazhuCVDIM",
        "outputId": "92b5f2d8-ebd5-43ab-dcf6-3809dffd98db"
      }
    },
    {
      "cell_type": "code",
      "execution_count": null,
      "outputs": [
        {
          "name": "stdout",
          "output_type": "stream",
          "text": [
            "With Short Sales:\n",
            "optimal amount to save is 0.0%\n",
            "optimal amount to borrow is -0.0%\n",
            "optimal investment in asset S&P 500 is 58.4%\n",
            "optimal investment in asset Treasuries is -122.7%\n",
            "optimal investment in asset Corporates is 164.3%\n"
          ]
        }
      ],
      "source": [
        "# solutions\n",
        "means = df.mean().to_numpy()\n",
        "cov = df.cov().to_numpy()\n",
        "rs = 0.02                             # example savings rate\n",
        "rb = 0.06                             # example borrowing rate\n",
        "raver = 2                             # example risk aversion\n",
        "sol = optimal_s(rs, rb, means, cov, raver)\n",
        "\n",
        "\n",
        "if sol:\n",
        "    sol = list(sol)\n",
        "    print('With Short Sales:')\n",
        "    print(f'optimal amount to save is {sol[0]:.1%}')\n",
        "    print(f'optimal amount to borrow is {sol[1]:.1%}')\n",
        "    print(f'optimal investment in asset S&P 500 is {sol[2]:.1%}')\n",
        "    print(f'optimal investment in asset Treasuries is {sol[3]:.1%}')\n",
        "    print(f'optimal investment in asset Corporates is {sol[4]:.1%}')"
      ],
      "metadata": {
        "pycharm": {
          "name": "#%%\n"
        },
        "id": "yn4IV8xbVDIN",
        "outputId": "8c6d890a-c92a-4869-ad44-efd67365245d"
      }
    },
    {
      "cell_type": "code",
      "execution_count": null,
      "outputs": [],
      "source": [
        ""
      ],
      "metadata": {
        "pycharm": {
          "name": "#%%\n"
        },
        "id": "Lu309ja6VDIO"
      }
    }
  ],
  "metadata": {
    "kernelspec": {
      "display_name": "Python 3",
      "language": "python",
      "name": "python3"
    },
    "language_info": {
      "codemirror_mode": {
        "name": "ipython",
        "version": 2
      },
      "file_extension": ".py",
      "mimetype": "text/x-python",
      "name": "python",
      "nbconvert_exporter": "python",
      "pygments_lexer": "ipython2",
      "version": "2.7.6"
    },
    "colab": {
      "name": "optimal_sb.ipynb",
      "provenance": [],
      "include_colab_link": true
    }
  },
  "nbformat": 4,
  "nbformat_minor": 0
}